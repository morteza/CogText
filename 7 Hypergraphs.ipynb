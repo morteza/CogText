{
 "cells": [
  {
   "cell_type": "code",
   "execution_count": 1,
   "metadata": {},
   "outputs": [
    {
     "name": "stdout",
     "output_type": "stream",
     "text": [
      "igraph version: 0.9.8\n"
     ]
    }
   ],
   "source": [
    "# NOTE !pip install -Uq python-igraph cairocffi \n",
    "# !pip install -Uq networkx hypernetx celluloid hnxwidget\n",
    "\n",
    "import igraph as ig\n",
    "print('igraph version:', ig.__version__)"
   ]
  },
  {
   "cell_type": "code",
   "execution_count": 2,
   "metadata": {},
   "outputs": [
    {
     "name": "stdout",
     "output_type": "stream",
     "text": [
      "IGRAPH U--- 3 2 -- \n"
     ]
    },
    {
     "data": {
      "image/svg+xml": [
       "<?xml version=\"1.0\" encoding=\"UTF-8\"?>\n",
       "<svg xmlns=\"http://www.w3.org/2000/svg\" xmlns:xlink=\"http://www.w3.org/1999/xlink\" width=\"100pt\" height=\"100pt\" viewBox=\"0 0 100 100\" version=\"1.1\">\n",
       "<g id=\"surface2\">\n",
       "<rect x=\"0\" y=\"0\" width=\"100\" height=\"100\" style=\"fill:rgb(100%,100%,100%);fill-opacity:1;stroke:none;\"/>\n",
       "<path style=\"fill:none;stroke-width:1;stroke-linecap:butt;stroke-linejoin:miter;stroke:rgb(26.666667%,26.666667%,26.666667%);stroke-opacity:1;stroke-miterlimit:10;\" d=\"M 20 64.703125 L 24.167969 24.585938 \"/>\n",
       "<path style=\"fill:none;stroke-width:1;stroke-linecap:butt;stroke-linejoin:miter;stroke:rgb(26.666667%,26.666667%,26.666667%);stroke-opacity:1;stroke-miterlimit:10;\" d=\"M 20 64.703125 L 31.382812 80 \"/>\n",
       "<path style=\"fill:none;stroke-width:1;stroke-linecap:butt;stroke-linejoin:miter;stroke:rgb(26.666667%,26.666667%,26.666667%);stroke-opacity:1;stroke-miterlimit:10;\" d=\"M 20 64.703125 L 39.710938 30.589844 \"/>\n",
       "<path style=\"fill:none;stroke-width:1;stroke-linecap:butt;stroke-linejoin:miter;stroke:rgb(26.666667%,26.666667%,26.666667%);stroke-opacity:1;stroke-miterlimit:10;\" d=\"M 20 64.703125 L 45.355469 63.984375 \"/>\n",
       "<path style=\"fill:none;stroke-width:1;stroke-linecap:butt;stroke-linejoin:miter;stroke:rgb(26.666667%,26.666667%,26.666667%);stroke-opacity:1;stroke-miterlimit:10;\" d=\"M 20 64.703125 L 48.613281 54.363281 \"/>\n",
       "<path style=\"fill:none;stroke-width:1;stroke-linecap:butt;stroke-linejoin:miter;stroke:rgb(26.666667%,26.666667%,26.666667%);stroke-opacity:1;stroke-miterlimit:10;\" d=\"M 20 64.703125 L 48.972656 67.660156 \"/>\n",
       "<path style=\"fill:none;stroke-width:1;stroke-linecap:butt;stroke-linejoin:miter;stroke:rgb(26.666667%,26.666667%,26.666667%);stroke-opacity:1;stroke-miterlimit:10;\" d=\"M 20 64.703125 L 65.136719 67.203125 \"/>\n",
       "<path style=\"fill:none;stroke-width:1;stroke-linecap:butt;stroke-linejoin:miter;stroke:rgb(26.666667%,26.666667%,26.666667%);stroke-opacity:1;stroke-miterlimit:10;\" d=\"M 24.167969 24.585938 L 39.710938 30.589844 \"/>\n",
       "<path style=\"fill:none;stroke-width:1;stroke-linecap:butt;stroke-linejoin:miter;stroke:rgb(26.666667%,26.666667%,26.666667%);stroke-opacity:1;stroke-miterlimit:10;\" d=\"M 24.167969 24.585938 L 45.355469 63.984375 \"/>\n",
       "<path style=\"fill:none;stroke-width:1;stroke-linecap:butt;stroke-linejoin:miter;stroke:rgb(26.666667%,26.666667%,26.666667%);stroke-opacity:1;stroke-miterlimit:10;\" d=\"M 24.167969 24.585938 L 48.613281 54.363281 \"/>\n",
       "<path style=\"fill:none;stroke-width:1;stroke-linecap:butt;stroke-linejoin:miter;stroke:rgb(26.666667%,26.666667%,26.666667%);stroke-opacity:1;stroke-miterlimit:10;\" d=\"M 24.167969 24.585938 L 48.972656 67.660156 \"/>\n",
       "<path style=\"fill:none;stroke-width:1;stroke-linecap:butt;stroke-linejoin:miter;stroke:rgb(26.666667%,26.666667%,26.666667%);stroke-opacity:1;stroke-miterlimit:10;\" d=\"M 24.167969 24.585938 L 68.015625 20 \"/>\n",
       "<path style=\"fill:none;stroke-width:1;stroke-linecap:butt;stroke-linejoin:miter;stroke:rgb(26.666667%,26.666667%,26.666667%);stroke-opacity:1;stroke-miterlimit:10;\" d=\"M 31.382812 80 L 45.355469 63.984375 \"/>\n",
       "<path style=\"fill:none;stroke-width:1;stroke-linecap:butt;stroke-linejoin:miter;stroke:rgb(26.666667%,26.666667%,26.666667%);stroke-opacity:1;stroke-miterlimit:10;\" d=\"M 31.382812 80 L 48.613281 54.363281 \"/>\n",
       "<path style=\"fill:none;stroke-width:1;stroke-linecap:butt;stroke-linejoin:miter;stroke:rgb(26.666667%,26.666667%,26.666667%);stroke-opacity:1;stroke-miterlimit:10;\" d=\"M 31.382812 80 L 48.972656 67.660156 \"/>\n",
       "<path style=\"fill:none;stroke-width:1;stroke-linecap:butt;stroke-linejoin:miter;stroke:rgb(26.666667%,26.666667%,26.666667%);stroke-opacity:1;stroke-miterlimit:10;\" d=\"M 31.382812 80 L 65.136719 67.203125 \"/>\n",
       "<path style=\"fill:none;stroke-width:1;stroke-linecap:butt;stroke-linejoin:miter;stroke:rgb(26.666667%,26.666667%,26.666667%);stroke-opacity:1;stroke-miterlimit:10;\" d=\"M 31.382812 80 L 80 73.996094 \"/>\n",
       "<path style=\"fill:none;stroke-width:1;stroke-linecap:butt;stroke-linejoin:miter;stroke:rgb(26.666667%,26.666667%,26.666667%);stroke-opacity:1;stroke-miterlimit:10;\" d=\"M 39.710938 30.589844 L 45.355469 63.984375 \"/>\n",
       "<path style=\"fill:none;stroke-width:1;stroke-linecap:butt;stroke-linejoin:miter;stroke:rgb(26.666667%,26.666667%,26.666667%);stroke-opacity:1;stroke-miterlimit:10;\" d=\"M 39.710938 30.589844 L 48.613281 54.363281 \"/>\n",
       "<path style=\"fill:none;stroke-width:1;stroke-linecap:butt;stroke-linejoin:miter;stroke:rgb(26.666667%,26.666667%,26.666667%);stroke-opacity:1;stroke-miterlimit:10;\" d=\"M 39.710938 30.589844 L 48.972656 67.660156 \"/>\n",
       "<path style=\"fill:none;stroke-width:1;stroke-linecap:butt;stroke-linejoin:miter;stroke:rgb(26.666667%,26.666667%,26.666667%);stroke-opacity:1;stroke-miterlimit:10;\" d=\"M 39.710938 30.589844 L 65.136719 67.203125 \"/>\n",
       "<path style=\"fill:none;stroke-width:1;stroke-linecap:butt;stroke-linejoin:miter;stroke:rgb(26.666667%,26.666667%,26.666667%);stroke-opacity:1;stroke-miterlimit:10;\" d=\"M 39.710938 30.589844 L 68.015625 20 \"/>\n",
       "<path style=\"fill:none;stroke-width:1;stroke-linecap:butt;stroke-linejoin:miter;stroke:rgb(26.666667%,26.666667%,26.666667%);stroke-opacity:1;stroke-miterlimit:10;\" d=\"M 45.355469 63.984375 L 48.613281 54.363281 \"/>\n",
       "<path style=\"fill:none;stroke-width:1;stroke-linecap:butt;stroke-linejoin:miter;stroke:rgb(26.666667%,26.666667%,26.666667%);stroke-opacity:1;stroke-miterlimit:10;\" d=\"M 45.355469 63.984375 L 48.972656 67.660156 \"/>\n",
       "<path style=\"fill:none;stroke-width:1;stroke-linecap:butt;stroke-linejoin:miter;stroke:rgb(26.666667%,26.666667%,26.666667%);stroke-opacity:1;stroke-miterlimit:10;\" d=\"M 45.355469 63.984375 L 65.136719 67.203125 \"/>\n",
       "<path style=\"fill:none;stroke-width:1;stroke-linecap:butt;stroke-linejoin:miter;stroke:rgb(26.666667%,26.666667%,26.666667%);stroke-opacity:1;stroke-miterlimit:10;\" d=\"M 45.355469 63.984375 L 68.015625 20 \"/>\n",
       "<path style=\"fill:none;stroke-width:1;stroke-linecap:butt;stroke-linejoin:miter;stroke:rgb(26.666667%,26.666667%,26.666667%);stroke-opacity:1;stroke-miterlimit:10;\" d=\"M 45.355469 63.984375 L 80 73.996094 \"/>\n",
       "<path style=\"fill:none;stroke-width:1;stroke-linecap:butt;stroke-linejoin:miter;stroke:rgb(26.666667%,26.666667%,26.666667%);stroke-opacity:1;stroke-miterlimit:10;\" d=\"M 48.613281 54.363281 L 48.972656 67.660156 \"/>\n",
       "<path style=\"fill:none;stroke-width:1;stroke-linecap:butt;stroke-linejoin:miter;stroke:rgb(26.666667%,26.666667%,26.666667%);stroke-opacity:1;stroke-miterlimit:10;\" d=\"M 48.613281 54.363281 L 65.136719 67.203125 \"/>\n",
       "<path style=\"fill:none;stroke-width:1;stroke-linecap:butt;stroke-linejoin:miter;stroke:rgb(26.666667%,26.666667%,26.666667%);stroke-opacity:1;stroke-miterlimit:10;\" d=\"M 48.613281 54.363281 L 68.015625 20 \"/>\n",
       "<path style=\"fill:none;stroke-width:1;stroke-linecap:butt;stroke-linejoin:miter;stroke:rgb(26.666667%,26.666667%,26.666667%);stroke-opacity:1;stroke-miterlimit:10;\" d=\"M 48.613281 54.363281 L 80 73.996094 \"/>\n",
       "<path style=\"fill:none;stroke-width:1;stroke-linecap:butt;stroke-linejoin:miter;stroke:rgb(26.666667%,26.666667%,26.666667%);stroke-opacity:1;stroke-miterlimit:10;\" d=\"M 48.972656 67.660156 L 65.136719 67.203125 \"/>\n",
       "<path style=\"fill:none;stroke-width:1;stroke-linecap:butt;stroke-linejoin:miter;stroke:rgb(26.666667%,26.666667%,26.666667%);stroke-opacity:1;stroke-miterlimit:10;\" d=\"M 48.972656 67.660156 L 80 73.996094 \"/>\n",
       "<path style=\"fill:none;stroke-width:1;stroke-linecap:butt;stroke-linejoin:miter;stroke:rgb(26.666667%,26.666667%,26.666667%);stroke-opacity:1;stroke-miterlimit:10;\" d=\"M 65.136719 67.203125 L 68.015625 20 \"/>\n",
       "<path style=\"fill:none;stroke-width:1;stroke-linecap:butt;stroke-linejoin:miter;stroke:rgb(26.666667%,26.666667%,26.666667%);stroke-opacity:1;stroke-miterlimit:10;\" d=\"M 65.136719 67.203125 L 80 73.996094 \"/>\n",
       "<path style=\"fill-rule:nonzero;fill:rgb(100%,0%,0%);fill-opacity:1;stroke-width:1;stroke-linecap:butt;stroke-linejoin:miter;stroke:rgb(0%,0%,0%);stroke-opacity:1;stroke-miterlimit:10;\" d=\"M 30 64.703125 C 30 70.226562 25.523438 74.703125 20 74.703125 C 14.476562 74.703125 10 70.226562 10 64.703125 C 10 59.179688 14.476562 54.703125 20 54.703125 C 25.523438 54.703125 30 59.179688 30 64.703125 \"/>\n",
       "<path style=\"fill-rule:nonzero;fill:rgb(100%,0%,0%);fill-opacity:1;stroke-width:1;stroke-linecap:butt;stroke-linejoin:miter;stroke:rgb(0%,0%,0%);stroke-opacity:1;stroke-miterlimit:10;\" d=\"M 34.167969 24.585938 C 34.167969 30.109375 29.691406 34.585938 24.167969 34.585938 C 18.644531 34.585938 14.167969 30.109375 14.167969 24.585938 C 14.167969 19.0625 18.644531 14.585938 24.167969 14.585938 C 29.691406 14.585938 34.167969 19.0625 34.167969 24.585938 \"/>\n",
       "<path style=\"fill-rule:nonzero;fill:rgb(100%,0%,0%);fill-opacity:1;stroke-width:1;stroke-linecap:butt;stroke-linejoin:miter;stroke:rgb(0%,0%,0%);stroke-opacity:1;stroke-miterlimit:10;\" d=\"M 41.382812 80 C 41.382812 85.523438 36.902344 90 31.382812 90 C 25.859375 90 21.382812 85.523438 21.382812 80 C 21.382812 74.476562 25.859375 70 31.382812 70 C 36.902344 70 41.382812 74.476562 41.382812 80 \"/>\n",
       "<path style=\"fill-rule:nonzero;fill:rgb(100%,0%,0%);fill-opacity:1;stroke-width:1;stroke-linecap:butt;stroke-linejoin:miter;stroke:rgb(0%,0%,0%);stroke-opacity:1;stroke-miterlimit:10;\" d=\"M 49.710938 30.589844 C 49.710938 36.113281 45.234375 40.589844 39.710938 40.589844 C 34.1875 40.589844 29.710938 36.113281 29.710938 30.589844 C 29.710938 25.070312 34.1875 20.589844 39.710938 20.589844 C 45.234375 20.589844 49.710938 25.070312 49.710938 30.589844 \"/>\n",
       "<path style=\"fill-rule:nonzero;fill:rgb(100%,0%,0%);fill-opacity:1;stroke-width:1;stroke-linecap:butt;stroke-linejoin:miter;stroke:rgb(0%,0%,0%);stroke-opacity:1;stroke-miterlimit:10;\" d=\"M 55.355469 63.984375 C 55.355469 69.507812 50.878906 73.984375 45.355469 73.984375 C 39.832031 73.984375 35.355469 69.507812 35.355469 63.984375 C 35.355469 58.460938 39.832031 53.984375 45.355469 53.984375 C 50.878906 53.984375 55.355469 58.460938 55.355469 63.984375 \"/>\n",
       "<path style=\"fill-rule:nonzero;fill:rgb(100%,0%,0%);fill-opacity:1;stroke-width:1;stroke-linecap:butt;stroke-linejoin:miter;stroke:rgb(0%,0%,0%);stroke-opacity:1;stroke-miterlimit:10;\" d=\"M 58.613281 54.363281 C 58.613281 59.882812 54.136719 64.363281 48.613281 64.363281 C 43.09375 64.363281 38.613281 59.882812 38.613281 54.363281 C 38.613281 48.839844 43.09375 44.363281 48.613281 44.363281 C 54.136719 44.363281 58.613281 48.839844 58.613281 54.363281 \"/>\n",
       "<path style=\"fill-rule:nonzero;fill:rgb(100%,0%,0%);fill-opacity:1;stroke-width:1;stroke-linecap:butt;stroke-linejoin:miter;stroke:rgb(0%,0%,0%);stroke-opacity:1;stroke-miterlimit:10;\" d=\"M 58.972656 67.660156 C 58.972656 73.183594 54.492188 77.660156 48.972656 77.660156 C 43.449219 77.660156 38.972656 73.183594 38.972656 67.660156 C 38.972656 62.136719 43.449219 57.660156 48.972656 57.660156 C 54.492188 57.660156 58.972656 62.136719 58.972656 67.660156 \"/>\n",
       "<path style=\"fill-rule:nonzero;fill:rgb(100%,0%,0%);fill-opacity:1;stroke-width:1;stroke-linecap:butt;stroke-linejoin:miter;stroke:rgb(0%,0%,0%);stroke-opacity:1;stroke-miterlimit:10;\" d=\"M 75.136719 67.203125 C 75.136719 72.726562 70.660156 77.203125 65.136719 77.203125 C 59.613281 77.203125 55.136719 72.726562 55.136719 67.203125 C 55.136719 61.679688 59.613281 57.203125 65.136719 57.203125 C 70.660156 57.203125 75.136719 61.679688 75.136719 67.203125 \"/>\n",
       "<path style=\"fill-rule:nonzero;fill:rgb(100%,0%,0%);fill-opacity:1;stroke-width:1;stroke-linecap:butt;stroke-linejoin:miter;stroke:rgb(0%,0%,0%);stroke-opacity:1;stroke-miterlimit:10;\" d=\"M 78.015625 20 C 78.015625 25.523438 73.539062 30 68.015625 30 C 62.492188 30 58.015625 25.523438 58.015625 20 C 58.015625 14.476562 62.492188 10 68.015625 10 C 73.539062 10 78.015625 14.476562 78.015625 20 \"/>\n",
       "<path style=\"fill-rule:nonzero;fill:rgb(100%,0%,0%);fill-opacity:1;stroke-width:1;stroke-linecap:butt;stroke-linejoin:miter;stroke:rgb(0%,0%,0%);stroke-opacity:1;stroke-miterlimit:10;\" d=\"M 90 73.996094 C 90 79.515625 85.523438 83.996094 80 83.996094 C 74.476562 83.996094 70 79.515625 70 73.996094 C 70 68.472656 74.476562 63.996094 80 63.996094 C 85.523438 63.996094 90 68.472656 90 73.996094 \"/>\n",
       "</g>\n",
       "</svg>\n"
      ],
      "text/plain": [
       "<igraph.drawing.Plot at 0x7fa716fa7d00>"
      ]
     },
     "execution_count": 2,
     "metadata": {
      "image/svg+xml": {
       "isolated": true
      }
     },
     "output_type": "execute_result"
    }
   ],
   "source": [
    "g = ig.Graph()\n",
    "\n",
    "g.add_vertices(3)\n",
    "g.add_edges([(0,1), (1,2)])\n",
    "# g.vs[0]['name'] = 'test'\n",
    "# g.vs[0].attributes()\n",
    "\n",
    "# print(g)\n",
    "ig.summary(g)\n",
    "\n",
    "g =ig.Graph.GRG(10, .8)\n",
    "\n",
    "ig.plot(g, bbox=(100,100))"
   ]
  },
  {
   "cell_type": "code",
   "execution_count": 3,
   "metadata": {},
   "outputs": [
    {
     "name": "stdout",
     "output_type": "stream",
     "text": [
      "Clustering with 10 elements and 8 clusters\n",
      "[0] 0\n",
      "[1] 1, 2, 7\n",
      "[2] 3\n",
      "[3] 4\n",
      "[4] 5\n",
      "[5] 6\n",
      "[6] 8\n",
      "[7] 9\n"
     ]
    },
    {
     "data": {
      "image/svg+xml": [
       "<?xml version=\"1.0\" encoding=\"UTF-8\"?>\n",
       "<svg xmlns=\"http://www.w3.org/2000/svg\" xmlns:xlink=\"http://www.w3.org/1999/xlink\" width=\"100pt\" height=\"100pt\" viewBox=\"0 0 100 100\" version=\"1.1\">\n",
       "<g id=\"surface8\">\n",
       "<rect x=\"0\" y=\"0\" width=\"100\" height=\"100\" style=\"fill:rgb(100%,100%,100%);fill-opacity:1;stroke:none;\"/>\n",
       "<path style=\"fill-rule:nonzero;fill:rgb(0%,100%,0%);fill-opacity:0.25;stroke-width:2;stroke-linecap:butt;stroke-linejoin:miter;stroke:rgb(0%,100%,0%);stroke-opacity:1;stroke-miterlimit:10;\" d=\"M 18.976562 42.15625 L 40.78125 19.628906 C 48.882812 11.261719 45.621094 5.445312 34.253906 8 C 22.890625 10.554688 9.335938 24.554688 7.144531 35.996094 L 7.140625 36.007812 C 4.953125 47.457031 10.867188 50.53125 18.976562 42.15625 \"/>\n",
       "<path style=\"fill:none;stroke-width:1;stroke-linecap:butt;stroke-linejoin:miter;stroke:rgb(20%,20%,20%);stroke-opacity:1;stroke-miterlimit:10;\" d=\"M 39.449219 20.707031 L 29.476562 30.511719 \"/>\n",
       "<path style=\"fill:none;stroke-width:1;stroke-linecap:butt;stroke-linejoin:miter;stroke:rgb(20%,20%,20%);stroke-opacity:1;stroke-miterlimit:10;\" d=\"M 20 40.800781 L 29.476562 30.511719 \"/>\n",
       "<path style=\"fill-rule:nonzero;fill:rgb(100%,0%,0%);fill-opacity:1;stroke-width:1;stroke-linecap:butt;stroke-linejoin:miter;stroke:rgb(0%,0%,0%);stroke-opacity:1;stroke-miterlimit:10;\" d=\"M 30.347656 66.078125 C 30.347656 71.601562 25.871094 76.078125 20.347656 76.078125 C 14.828125 76.078125 10.347656 71.601562 10.347656 66.078125 C 10.347656 60.554688 14.828125 56.078125 20.347656 56.078125 C 25.871094 56.078125 30.347656 60.554688 30.347656 66.078125 \"/>\n",
       "<path style=\"fill-rule:nonzero;fill:rgb(0%,100%,0%);fill-opacity:1;stroke-width:1;stroke-linecap:butt;stroke-linejoin:miter;stroke:rgb(0%,0%,0%);stroke-opacity:1;stroke-miterlimit:10;\" d=\"M 49.449219 20.707031 C 49.449219 26.230469 44.972656 30.707031 39.449219 30.707031 C 33.925781 30.707031 29.449219 26.230469 29.449219 20.707031 C 29.449219 15.183594 33.925781 10.707031 39.449219 10.707031 C 44.972656 10.707031 49.449219 15.183594 49.449219 20.707031 \"/>\n",
       "<path style=\"fill-rule:nonzero;fill:rgb(0%,100%,0%);fill-opacity:1;stroke-width:1;stroke-linecap:butt;stroke-linejoin:miter;stroke:rgb(0%,0%,0%);stroke-opacity:1;stroke-miterlimit:10;\" d=\"M 30 40.800781 C 30 46.320312 25.523438 50.800781 20 50.800781 C 14.476562 50.800781 10 46.320312 10 40.800781 C 10 35.277344 14.476562 30.800781 20 30.800781 C 25.523438 30.800781 30 35.277344 30 40.800781 \"/>\n",
       "<path style=\"fill-rule:nonzero;fill:rgb(0%,0%,100%);fill-opacity:1;stroke-width:1;stroke-linecap:butt;stroke-linejoin:miter;stroke:rgb(0%,0%,0%);stroke-opacity:1;stroke-miterlimit:10;\" d=\"M 49.003906 80 C 49.003906 85.523438 44.527344 90 39.003906 90 C 33.480469 90 29.003906 85.523438 29.003906 80 C 29.003906 74.476562 33.480469 70 39.003906 70 C 44.527344 70 49.003906 74.476562 49.003906 80 \"/>\n",
       "<path style=\"fill-rule:nonzero;fill:rgb(100%,100%,0%);fill-opacity:1;stroke-width:1;stroke-linecap:butt;stroke-linejoin:miter;stroke:rgb(0%,0%,0%);stroke-opacity:1;stroke-miterlimit:10;\" d=\"M 90 61.503906 C 90 67.027344 85.523438 71.503906 80 71.503906 C 74.476562 71.503906 70 67.027344 70 61.503906 C 70 55.980469 74.476562 51.503906 80 51.503906 C 85.523438 51.503906 90 55.980469 90 61.503906 \"/>\n",
       "<path style=\"fill-rule:nonzero;fill:rgb(100%,0%,100%);fill-opacity:1;stroke-width:1;stroke-linecap:butt;stroke-linejoin:miter;stroke:rgb(0%,0%,0%);stroke-opacity:1;stroke-miterlimit:10;\" d=\"M 63.351562 53.230469 C 63.351562 58.753906 58.875 63.230469 53.351562 63.230469 C 47.832031 63.230469 43.351562 58.753906 43.351562 53.230469 C 43.351562 47.707031 47.832031 43.230469 53.351562 43.230469 C 58.875 43.230469 63.351562 47.707031 63.351562 53.230469 \"/>\n",
       "<path style=\"fill-rule:nonzero;fill:rgb(0%,100%,100%);fill-opacity:1;stroke-width:1;stroke-linecap:butt;stroke-linejoin:miter;stroke:rgb(0%,0%,0%);stroke-opacity:1;stroke-miterlimit:10;\" d=\"M 74.976562 20 C 74.976562 25.523438 70.5 30 64.976562 30 C 59.453125 30 54.976562 25.523438 54.976562 20 C 54.976562 14.476562 59.453125 10 64.976562 10 C 70.5 10 74.976562 14.476562 74.976562 20 \"/>\n",
       "<path style=\"fill-rule:nonzero;fill:rgb(0%,100%,0%);fill-opacity:1;stroke-width:1;stroke-linecap:butt;stroke-linejoin:miter;stroke:rgb(0%,0%,0%);stroke-opacity:1;stroke-miterlimit:10;\" d=\"M 39.476562 30.511719 C 39.476562 36.035156 34.996094 40.511719 29.476562 40.511719 C 23.953125 40.511719 19.476562 36.035156 19.476562 30.511719 C 19.476562 24.988281 23.953125 20.511719 29.476562 20.511719 C 34.996094 20.511719 39.476562 24.988281 39.476562 30.511719 \"/>\n",
       "<path style=\"fill-rule:nonzero;fill:rgb(50.196078%,50.196078%,50.196078%);fill-opacity:1;stroke-width:1;stroke-linecap:butt;stroke-linejoin:miter;stroke:rgb(0%,0%,0%);stroke-opacity:1;stroke-miterlimit:10;\" d=\"M 72.917969 79.179688 C 72.917969 84.703125 68.441406 89.179688 62.917969 89.179688 C 57.394531 89.179688 52.917969 84.703125 52.917969 79.179688 C 52.917969 73.660156 57.394531 69.179688 62.917969 69.179688 C 68.441406 69.179688 72.917969 73.660156 72.917969 79.179688 \"/>\n",
       "<path style=\"fill-rule:nonzero;fill:rgb(50%,0%,0%);fill-opacity:1;stroke-width:1;stroke-linecap:butt;stroke-linejoin:miter;stroke:rgb(0%,0%,0%);stroke-opacity:1;stroke-miterlimit:10;\" d=\"M 89.78125 37.863281 C 89.78125 43.386719 85.304688 47.863281 79.78125 47.863281 C 74.257812 47.863281 69.78125 43.386719 69.78125 37.863281 C 69.78125 32.339844 74.257812 27.863281 79.78125 27.863281 C 85.304688 27.863281 89.78125 32.339844 89.78125 37.863281 \"/>\n",
       "</g>\n",
       "</svg>\n"
      ],
      "text/plain": [
       "<igraph.drawing.Plot at 0x7fa718bdc250>"
      ]
     },
     "execution_count": 3,
     "metadata": {
      "image/svg+xml": {
       "isolated": true
      }
     },
     "output_type": "execute_result"
    }
   ],
   "source": [
    "import random\n",
    "random.seed(42)\n",
    "\n",
    "import matplotlib.pyplot as plt\n",
    "\n",
    "# a random graph\n",
    "g = ig.Graph.Erdos_Renyi(10,.02)\n",
    "\n",
    "# detect communities\n",
    "comms = g.community_multilevel()\n",
    "\n",
    "# plot and save\n",
    "g_plot = ig.plot(comms, mark_groups = True, inline=True, bbox=(100,100))\n",
    "\n",
    "# g_plot.save('outputs/multilevel_community_in_graphs.png')\n",
    "\n",
    "print(comms)\n",
    "g_plot\n"
   ]
  },
  {
   "cell_type": "code",
   "execution_count": 4,
   "metadata": {},
   "outputs": [
    {
     "ename": "ModuleNotFoundError",
     "evalue": "No module named 'python'",
     "output_type": "error",
     "traceback": [
      "\u001b[0;31m---------------------------------------------------------------------------\u001b[0m",
      "\u001b[0;31mModuleNotFoundError\u001b[0m                       Traceback (most recent call last)",
      "\u001b[0;32m/var/folders/3_/gmvd1nkx285133z5yh3chz2c0000gp/T/ipykernel_64752/4260840864.py\u001b[0m in \u001b[0;36m<module>\u001b[0;34m\u001b[0m\n\u001b[1;32m      1\u001b[0m \u001b[0;32mimport\u001b[0m \u001b[0mpandas\u001b[0m \u001b[0;32mas\u001b[0m \u001b[0mpd\u001b[0m\u001b[0;34m\u001b[0m\u001b[0;34m\u001b[0m\u001b[0m\n\u001b[1;32m      2\u001b[0m \u001b[0;34m\u001b[0m\u001b[0m\n\u001b[0;32m----> 3\u001b[0;31m \u001b[0;32mfrom\u001b[0m \u001b[0mpython\u001b[0m\u001b[0;34m.\u001b[0m\u001b[0mcogtext\u001b[0m\u001b[0;34m.\u001b[0m\u001b[0msimilarity_matrix\u001b[0m \u001b[0;32mimport\u001b[0m \u001b[0msimilarity_matrix\u001b[0m\u001b[0;34m\u001b[0m\u001b[0;34m\u001b[0m\u001b[0m\n\u001b[0m\u001b[1;32m      4\u001b[0m \u001b[0;34m\u001b[0m\u001b[0m\n\u001b[1;32m      5\u001b[0m \u001b[0mH\u001b[0m \u001b[0;34m=\u001b[0m \u001b[0mpd\u001b[0m\u001b[0;34m.\u001b[0m\u001b[0mread_csv\u001b[0m\u001b[0;34m(\u001b[0m\u001b[0;34m'models/cogtext/H_USEv4_UMAP5d_v1.csv.gz'\u001b[0m\u001b[0;34m,\u001b[0m \u001b[0mindex_col\u001b[0m\u001b[0;34m=\u001b[0m\u001b[0;34m[\u001b[0m\u001b[0;34m'category'\u001b[0m\u001b[0;34m,\u001b[0m \u001b[0;34m'label'\u001b[0m\u001b[0;34m]\u001b[0m\u001b[0;34m)\u001b[0m\u001b[0;34m\u001b[0m\u001b[0;34m\u001b[0m\u001b[0m\n",
      "\u001b[0;31mModuleNotFoundError\u001b[0m: No module named 'python'"
     ]
    }
   ],
   "source": [
    "import pandas as pd\n",
    "\n",
    "from python.cogtext.similarity_matrix import similarity_matrix\n",
    "\n",
    "H = pd.read_csv('models/cogtext/H_USEv4_UMAP5d_v1.csv.gz', index_col=['category', 'label'])\n",
    "H_sim = similarity_matrix(H, pivot_by_category=True)\n",
    "\n",
    "from sklearn.metrics.pairwise import cosine_similarity\n",
    "\n",
    "constructs_affinity = pd.DataFrame(cosine_similarity(H_sim), index=H_sim.index, columns=H_sim.index)\n",
    "\n",
    "G = ig.Graph.Weighted_Adjacency(constructs_affinity.values, mode='UNDIRECTED', loops=False)\n",
    "\n",
    "# G.simplify(multiple=True, loops=True)\n",
    "\n",
    "# detect communities\n",
    "comms = G.community_multilevel()\n",
    "\n",
    "# plot and save\n",
    "ig.plot(comms, mark_groups = True, inline=True, bbox=(1000,1000))\n"
   ]
  },
  {
   "cell_type": "code",
   "execution_count": null,
   "metadata": {},
   "outputs": [],
   "source": [
    "import hypernetx as hnx\n",
    "import hypernetx.algorithms.hypergraph_modularity as hmod\n",
    "\n",
    "# H = hnx.Hypergraph.from_dataframe(H_sim)\n",
    "# H\n",
    "# HG = hmod.precompute_attributes(H)\n",
    "H2 = constructs_affinity.unstack().to_frame()\n",
    "H2.index.names = ['construct_1', 'construct_2']\n",
    "H2.columns = ['weight']\n",
    "H2 = H2.query('weight > 0.9 and construct_1 != construct_2').reset_index()\n",
    "H2 = H2.pivot(columns='construct_1', index='construct_2').fillna(0.0)\n",
    "HG = hnx.Hypergraph.from_dataframe(H2)\n",
    "# HG.edge_adjacency_matrix()\n",
    "hnx.draw_two_column(HG)"
   ]
  },
  {
   "cell_type": "code",
   "execution_count": null,
   "metadata": {},
   "outputs": [],
   "source": [
    "import matplotlib.pyplot as plt\n",
    "import hypernetx as hnx\n",
    "\n",
    "communities = {\n",
    "    'Construct1': ('Task1', 'Task2'),\n",
    "    'Construct2': ('Task3', 'Task4'),\n",
    "    'Construct3': ('Task5', 'Task2', 'Task7'),\n",
    "    'Construct4': ('Task5', 'Task2', 'Task7', 'Task8'),\n",
    "    'Construct5': ('Task5', 'Task1', 'Task2', 'Task9', 'Task3', 'Task10', 'Task11'),\n",
    "    'Construct6': ('Task5', 'Task6'),\n",
    "    'Construct7': ('Task1', 'Task4'),\n",
    "    'Construct8': ('Task1', 'Task7')\n",
    "}\n",
    "\n",
    "import numpy as np\n",
    "\n",
    "H = hnx.Hypergraph(communities)\n",
    "\n",
    "# face colors\n",
    "cmap = plt.cm.rainbow\n",
    "edge_sizes = np.array([len(e) for e in H.edges()])\n",
    "norm = plt.Normalize(edge_sizes.min(), edge_sizes.max())\n",
    "facecolors = cmap([norm(c) for c in edge_sizes]) * (1, 1, 1, 0.2)\n",
    "\n",
    "hnx.draw(H.dual(),\n",
    "        edges_kwargs={\n",
    "            'linewidths': 2,\n",
    "            'edgecolors': 'brown',\n",
    "            'facecolors': facecolors\n",
    "        },\n",
    "         nodes_kwargs={\n",
    "    # 'node_size': [np.random.randint(3,5) for n in H.collapse_nodes()]\n",
    "})\n",
    "\n",
    "# hnx.draw(H.dual())\n",
    "\n",
    "plt.show()"
   ]
  },
  {
   "cell_type": "code",
   "execution_count": null,
   "metadata": {},
   "outputs": [],
   "source": [
    "from hnxwidget import HypernetxWidget\n",
    "HypernetxWidget(H)"
   ]
  }
 ],
 "metadata": {
  "interpreter": {
   "hash": "5ddcf14c786c671500c086f61f0b66d0417d6c58ff12753e346e191a84f72b84"
  },
  "kernelspec": {
   "display_name": "Python 3 (ipykernel)",
   "language": "python",
   "name": "python3"
  },
  "language_info": {
   "codemirror_mode": {
    "name": "ipython",
    "version": 3
   },
   "file_extension": ".py",
   "mimetype": "text/x-python",
   "name": "python",
   "nbconvert_exporter": "python",
   "pygments_lexer": "ipython3",
   "version": "3.8.12"
  }
 },
 "nbformat": 4,
 "nbformat_minor": 2
}
