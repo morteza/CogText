{
 "cells": [
  {
   "cell_type": "code",
   "execution_count": 1,
   "metadata": {
    "notebookRunGroups": {
     "groupValue": "1"
    }
   },
   "outputs": [],
   "source": [
    "%reload_ext autoreload\n",
    "%autoreload 2\n",
    "\n",
    "import igraph as ig\n",
    "import matplotlib.pyplot as plt\n",
    "import numpy as np\n",
    "import pandas as pd\n",
    "import scipy.stats as st\n",
    "import xarray as xr\n",
    "from python.cogtext.datasets.pubmed import PubMedDataLoader\n",
    "from sklearn.preprocessing import MinMaxScaler\n",
    "from tqdm.auto import tqdm\n",
    "from umap import UMAP\n",
    "import hypernetx as hnx\n",
    "\n",
    "import seaborn as sns; sns.set_theme()  # noqa\n"
   ]
  },
  {
   "cell_type": "code",
   "execution_count": 2,
   "metadata": {
    "notebookRunGroups": {
     "groupValue": "1"
    }
   },
   "outputs": [
    {
     "name": "stdout",
     "output_type": "stream",
     "text": [
      "Successfully load a dataset of 300251 topic-embeddings.\n"
     ]
    }
   ],
   "source": [
    "# load weights, clusters and metadata (takes ~ 20sec)\n",
    "\n",
    "PUBMED = PubMedDataLoader(\n",
    "    preprocessed=False,\n",
    "    drop_low_occurred_labels=False,\n",
    "    usecols=['pmid','subcategory','category']).load()\n",
    "\n",
    "EMBEDDINGS = xr.open_dataset('models/gpt3/abstracts_gpt3ada.nc')\n",
    "\n",
    "doc_topic_embeddings = EMBEDDINGS.coords['pmid'].to_dataframe().reset_index(drop=True)\n",
    "doc_topic_embeddings['topic_embedding'] = list(EMBEDDINGS['topic_weights'].values)\n",
    "doc_topic_embeddings['topic'] = list(EMBEDDINGS['topics'].values)\n",
    "\n",
    "PUBMED = PUBMED.merge(doc_topic_embeddings, on='pmid', how='left')\n",
    "PUBMED.dropna(subset=['topic_embedding'], inplace=True)\n",
    "PUBMED = PUBMED.query('topic != -1')\n",
    "\n",
    "print(f'Successfully load a dataset of {len(PUBMED)} topic-embeddings.')"
   ]
  },
  {
   "cell_type": "code",
   "execution_count": 3,
   "metadata": {
    "notebookRunGroups": {
     "groupValue": "1"
    }
   },
   "outputs": [],
   "source": [
    "task_labels = PUBMED.query('category.str.contains(\"Task\")')['label'].unique()\n",
    "construct_labels = PUBMED.query('category.str.contains(\"Construct\")')['label'].unique()"
   ]
  },
  {
   "cell_type": "code",
   "execution_count": 95,
   "metadata": {},
   "outputs": [],
   "source": [
    "data = PUBMED.drop(columns=['topic'])\n",
    "node_embeddings = data.groupby(['category','label'])['topic_embedding'].apply(lambda x: x.mean(axis=0)).reset_index()\n",
    "\n",
    "\n",
    "from sklearn.metrics.pairwise import cosine_similarity\n",
    "\n",
    "X = np.stack(node_embeddings['topic_embedding'].values)\n",
    "\n",
    "sim = pd.DataFrame(cosine_similarity(X), columns=node_embeddings['label'], index=node_embeddings['label'])\n",
    "\n",
    "# sns.clustermap(sim, cmap='RdBu', figsize=(25,28))\n",
    "\n",
    "sim.drop(columns=task_labels, index=construct_labels, inplace=True)\n",
    "sim.columns.name='construct'\n",
    "sim.index.name='task'\n",
    "sim = sim.stack().reset_index().rename(columns={0:'similarity'})\n",
    "sim = sim.query('similarity > similarity.mean() + 2* similarity.std()')\n",
    "\n",
    "adj = sim.pivot(columns='construct', index='task').drop(columns='index', errors='ignore')\n",
    "adj.columns = adj.columns.droplevel(0)\n",
    "\n",
    "HG = hnx.Hypergraph.from_dataframe(adj)\n",
    "\n",
    "# fig, ax = plt.subplots(figsize=(30,30))\n",
    "# hnx.draw(HG, ax=ax)\n",
    "# HG\n",
    "\n",
    "hg_df = HG.dataframe().stack().reset_index().rename(columns={'level_0':'task',\n",
    "                                                     'level_1':'construct',\n",
    "                                                     0:'has_edge'})\n",
    "\n",
    "hg_df = hg_df.query('has_edge == 1').drop(columns='has_edge')\n",
    "\n",
    "hg_df.to_csv('~/hg.csv', index=False)\n",
    "# hg_df.to_records()"
   ]
  }
 ],
 "metadata": {
  "interpreter": {
   "hash": "0cd18c5ac842435f41b27fe4a6c26243d22dfb8bd1f4766298bbfd5d775f6809"
  },
  "kernelspec": {
   "display_name": "Python 3.9.12 ('cogtext')",
   "language": "python",
   "name": "python3"
  },
  "language_info": {
   "codemirror_mode": {
    "name": "ipython",
    "version": 3
   },
   "file_extension": ".py",
   "mimetype": "text/x-python",
   "name": "python",
   "nbconvert_exporter": "python",
   "pygments_lexer": "ipython3",
   "version": "3.9.12"
  },
  "orig_nbformat": 4
 },
 "nbformat": 4,
 "nbformat_minor": 2
}
