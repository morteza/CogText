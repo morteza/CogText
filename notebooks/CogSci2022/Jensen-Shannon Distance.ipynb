{
 "cells": [
  {
   "cell_type": "markdown",
   "metadata": {},
   "source": [
    "[Reference](https://stats.stackexchange.com/questions/345915/trying-to-implement-the-jensen-shannon-divergence-for-multivariate-gaussians)"
   ]
  },
  {
   "cell_type": "code",
   "execution_count": 268,
   "metadata": {
    "notebookRunGroups": {
     "groupValue": "1"
    }
   },
   "outputs": [],
   "source": [
    "import matplotlib.pyplot as plt\n",
    "import numpy as np\n",
    "import scipy\n",
    "import scipy.stats as st\n",
    "import seaborn as sns"
   ]
  },
  {
   "cell_type": "code",
   "execution_count": 271,
   "metadata": {
    "notebookRunGroups": {
     "groupValue": "1"
    }
   },
   "outputs": [],
   "source": [
    "def scipy_jsd(p, q, n_dim=1, n_samples=1000):\n",
    "    # distance is the square root of this divergence\n",
    "\n",
    "    X = p.rvs((n_samples, n_dim))\n",
    "    p_X = p.pdf(X)\n",
    "    q_X = q.pdf(X)\n",
    "    log_m_X = np.log2(p_X + q_X).mean()\n",
    "\n",
    "    Y = q.rvs((n_samples, n_dim))\n",
    "    p_Y = p.pdf(Y)\n",
    "    q_Y = q.pdf(Y)\n",
    "    log_m_Y = np.log2(p_Y + q_Y).mean()\n",
    "    np.logaddexp\n",
    "    \n",
    "    log_p_X = np.log2(p_X).mean()\n",
    "    log_q_Y = np.log2(q_Y).mean()\n",
    "\n",
    "    return .5 * (log_p_X - (log_m_X - 1) + log_q_Y - (log_m_Y - 1))"
   ]
  },
  {
   "cell_type": "code",
   "execution_count": 272,
   "metadata": {
    "notebookRunGroups": {
     "groupValue": "1"
    }
   },
   "outputs": [],
   "source": [
    "def sklearn_jsd(p, q, n_samples=100):\n",
    "\n",
    "    X = p.sample(n_samples)\n",
    "    log_p_X = p.score_samples(X)\n",
    "    log_q_X = q.score_samples(X)\n",
    "    log_m_X = np.logaddexp2(log_p_X, log_q_X).mean()\n",
    "\n",
    "    Y = q.sample(n_samples)\n",
    "    log_p_Y = p.score_samples(Y)\n",
    "    log_q_Y = q.score_samples(Y)\n",
    "    log_m_Y = np.logaddexp2(log_p_Y, log_q_Y).mean()\n",
    "\n",
    "    return .5 * (log_p_X - (log_m_X - 1) + log_q_Y - (log_m_Y - 1))\n"
   ]
  },
  {
   "cell_type": "code",
   "execution_count": 275,
   "metadata": {
    "notebookRunGroups": {
     "groupValue": "1"
    }
   },
   "outputs": [
    {
     "data": {
      "application/vnd.jupyter.widget-view+json": {
       "model_id": "64211b3c9c7e4d13b1e5ebfad45de8d3",
       "version_major": 2,
       "version_minor": 0
      },
      "text/plain": [
       "  0%|          | 0/10 [00:00<?, ?it/s]"
      ]
     },
     "metadata": {},
     "output_type": "display_data"
    },
    {
     "data": {
      "image/png": "[encoded data removed]",
      "text/plain": [
       "<Figure size 432x288 with 1 Axes>"
      ]
     },
     "metadata": {
      "needs_background": "light"
     },
     "output_type": "display_data"
    }
   ],
   "source": [
    "\n",
    "n_topics = 500\n",
    "n_data = 1000\n",
    "\n",
    "from sklearn.neighbors import KernelDensity\n",
    "from sklearn.model_selection import GridSearchCV\n",
    "from tqdm.auto import tqdm\n",
    "\n",
    "\n",
    "grid = GridSearchCV(KernelDensity(), {'bandwidth': np.linspace(0.01, 1.0, 11)})\n",
    "\n",
    "js_dsts = []\n",
    "for loc in tqdm(np.linspace(0.1,1, 10)):\n",
    "    p = st.halfnorm(loc=0, scale=[loc] * n_topics)\n",
    "    q = st.halfnorm(loc=0, scale=[.10] * n_topics)\n",
    "\n",
    "    # p_data = p.rvs((n_data, n_topics))\n",
    "    # q_data = p.rvs((n_data, n_topics))\n",
    "    # p = grid.fit(p_data).best_estimator_\n",
    "    # q = grid.fit(q_data).best_estimator_\n",
    "    # js_div = sklearn_jsd(p, q)\n",
    "\n",
    "    js_div = scipy_jsd(p, q, n_dim=n_topics)\n",
    "    js_dst = np.sqrt(js_div)\n",
    "    js_dsts.append(js_dst)\n",
    "\n",
    "# plot the distances\n",
    "sns.lineplot(x=np.linspace(0.1,1, 10), y=js_dsts, label='Jensen-Shannon Distance')\n",
    "\n",
    "plt.xlabel('Location')\n",
    "plt.suptitle(f'JSDistance = sqrt(JSDivergence),\\n'\n",
    "             f'{n_topics}d topic space')\n",
    "plt.show()"
   ]
  }
 ],
 "metadata": {
  "interpreter": {
   "hash": "0cd18c5ac842435f41b27fe4a6c26243d22dfb8bd1f4766298bbfd5d775f6809"
  },
  "kernelspec": {
   "display_name": "Python 3.9.0 ('cogtext')",
   "language": "python",
   "name": "python3"
  },
  "language_info": {
   "codemirror_mode": {
    "name": "ipython",
    "version": 3
   },
   "file_extension": ".py",
   "mimetype": "text/x-python",
   "name": "python",
   "nbconvert_exporter": "python",
   "pygments_lexer": "ipython3",
   "version": "3.9.0"
  },
  "orig_nbformat": 4
 },
 "nbformat": 4,
 "nbformat_minor": 2
}
