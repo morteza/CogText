{
 "cells": [
  {
   "cell_type": "markdown",
   "metadata": {},
   "source": [
    "# PubMed Abstracts Topic Modeling"
   ]
  },
  {
   "cell_type": "code",
   "execution_count": 1,
   "metadata": {},
   "outputs": [],
   "source": [
    "# %pip install \"umap-learn\" hdbscan joblib numpy -U\n",
    "\n",
    "%reload_ext autoreload\n",
    "%autoreload 2\n",
    "\n",
    "from pathlib import Path\n",
    "import numpy as np\n",
    "import pandas as pd\n",
    "from python.cogtext.datasets.pubmed import PubMedDataLoader\n",
    "from python.cogtext.topic_model import TopicModel"
   ]
  },
  {
   "cell_type": "code",
   "execution_count": 3,
   "metadata": {},
   "outputs": [],
   "source": [
    "# PUBMED = PubMedDataLoader(preprocessed=False, drop_low_occurred_labels=False).load()\n",
    "# EMBEDDINGS = np.load('models/embeddings/abstracts_UMAPv4.npz')['arr_0']\n",
    "embeddings = np.load('models/embeddings/abstracts_all-MiniLM-L6-v2.npz')['arr_0']\n",
    "documents = pd.read_csv('models/cogtext/abstracts_clusters.csv.gz', index_col=0)\n",
    "reduced_embeddings = np.load('models/embeddings/abstracts_UMAP5d.npz')['arr_0']"
   ]
  },
  {
   "cell_type": "code",
   "execution_count": 4,
   "metadata": {},
   "outputs": [
    {
     "name": "stdout",
     "output_type": "stream",
     "text": [
      "[TopicModel] Reduced embedding dimensions. Now clustering...\n",
      "[TopicModel] Clustered embeddings. Now computing weights...\n",
      "[TopicModel] Done!\n"
     ]
    },
    {
     "data": {
      "text/plain": [
       "56.0     5382\n",
       "161.0    5260\n",
       "99.0     4230\n",
       "182.0    4106\n",
       "444.0    3830\n",
       "         ... \n",
       "147.0     101\n",
       "106.0     101\n",
       "201.0     100\n",
       "570.0     100\n",
       "82.0      100\n",
       "Name: cluster, Length: 629, dtype: int64"
      ]
     },
     "execution_count": 4,
     "metadata": {},
     "output_type": "execute_result"
    }
   ],
   "source": [
    "model = TopicModel(parametric_umap=False, verbose=True)\n",
    "clusters, weights = model.fit_transform(embeddings, umap_embeddings=reduced_embeddings)\n",
    "\n",
    "# drop cluster \"-1\" and make the rest 1-indexed\n",
    "documents['cluster'] = np.where(clusters >= 0, clusters + 1, np.nan)\n",
    "\n",
    "# store\n",
    "documents.to_csv('models/cogtext/abstracts_clusters.csv.gz', index=True)\n",
    "np.savez('models/embeddings/abstracts_cluster-weights.npz', weights)\n",
    "\n",
    "# report cluster frequencies\n",
    "documents['cluster'].value_counts()"
   ]
  }
 ],
 "metadata": {
  "interpreter": {
   "hash": "4d4c55ad0dd25f9ca95e4d49a929aa3f71bfb37020ae570a9996c3e164818202"
  },
  "kernelspec": {
   "display_name": "Python 3.9.7 64-bit ('py3': conda)",
   "language": "python",
   "name": "python3"
  },
  "language_info": {
   "codemirror_mode": {
    "name": "ipython",
    "version": 3
   },
   "file_extension": ".py",
   "mimetype": "text/x-python",
   "name": "python",
   "nbconvert_exporter": "python",
   "pygments_lexer": "ipython3",
   "version": "3.9.7"
  },
  "orig_nbformat": 4
 },
 "nbformat": 4,
 "nbformat_minor": 2
}
