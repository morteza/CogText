{
 "cells": [
  {
   "cell_type": "markdown",
   "metadata": {},
   "source": [
    "# Link Prediction\n",
    "\n",
    "We create a graph with nodes labeled by the lexicon terms and corresponding document embeddings in node features. It then predicts existence of the edges by the similarity of node features.\n",
    "\n",
    "We use the JS-divergence distance of two multivariate normal distributions of nodes features to calculate the edge weights.\n",
    "\n",
    "Here is the steps we take:\n",
    "\n",
    "- load and organize GPT-3 topic-embeddings in the nodes.\n",
    "- Fit multivariate normal distributions to the node features (parameters are loc and diagonal_scale).\n",
    "- Calculate the adjacency matrix using JS-divergence of the node features.\n",
    "\n",
    "\n",
    "## Input\n",
    "\n",
    "- `models/gpt3/abstracts_gpt3ada.npz`: GPT-3 embeddings, one document per row.\n",
    "- `models/gpt3/abstracts_gpt3ada_pmids.csv`: the PMIDs of the document embeddings in the above embedding dataset.\n",
    "\n",
    "## Output\n",
    "\n",
    "- `models/gpt3/abstracts_metapath2vec.pkl`: a pickle file containing the trained metapath2vec model."
   ]
  },
  {
   "cell_type": "code",
   "execution_count": 1,
   "metadata": {},
   "outputs": [
    {
     "name": "stderr",
     "output_type": "stream",
     "text": [
      "2022-02-02 11:51:54.618115: I tensorflow/core/platform/cpu_feature_guard.cc:151] This TensorFlow binary is optimized with oneAPI Deep Neural Network Library (oneDNN) to use the following CPU instructions in performance-critical operations:  AVX2 FMA\n",
      "To enable them in other operations, rebuild TensorFlow with the appropriate compiler flags.\n"
     ]
    }
   ],
   "source": [
    "%reload_ext autoreload\n",
    "%autoreload 2\n",
    "\n",
    "import pandas as pd\n",
    "import numpy as np\n",
    "from umap import UMAP\n",
    "import matplotlib.pyplot as plt\n",
    "import seaborn as sns; sns.set_theme()  # noqa\n",
    "import dash_bio as dashbio\n",
    "from python.cogtext.datasets.pubmed import PubMedDataLoader\n",
    "from python.cogtext.similarity_matrix import get_similarity_matrix\n",
    "from sklearn.preprocessing import normalize\n",
    "from tqdm import tqdm\n",
    "\n",
    "import stellargraph as sg\n",
    "from stellargraph.data import UniformRandomMetaPathWalk\n",
    "\n",
    "import tensorflow as tf\n",
    "import tensorflow_probability as tfp\n",
    "tfd = tfp.distributions"
   ]
  },
  {
   "cell_type": "markdown",
   "metadata": {},
   "source": [
    "First, we load and prepare the PubMed documents along with their topic embeddings."
   ]
  },
  {
   "cell_type": "code",
   "execution_count": 2,
   "metadata": {},
   "outputs": [
    {
     "name": "stdout",
     "output_type": "stream",
     "text": [
      "Successfully create a list of 293014 topic-embeddings.\n"
     ]
    }
   ],
   "source": [
    "# load weights, clusters and metadata (takes ~ 20sec)\n",
    "\n",
    "clusters = pd.read_csv('models/gpt3/abstracts_gpt3ada_clusters.csv.gz', index_col=0)\n",
    "weights = np.load('models/gpt3/abstracts_gpt3ada_weights.npz')['arr_0']\n",
    "clusters['weights'] = list(weights)\n",
    "\n",
    "# load abstracts\n",
    "pubmed = PubMedDataLoader(preprocessed=False, drop_low_occurred_labels=False).load()\n",
    "pubmed = pubmed.merge(clusters, on='pmid', how='left')\n",
    "\n",
    "pubmed.dropna(subset=['cluster'], inplace=True)\n",
    "\n",
    "print(f'Successfully create a list of {len(pubmed)} topic-embeddings.')"
   ]
  },
  {
   "cell_type": "code",
   "execution_count": 3,
   "metadata": {},
   "outputs": [
    {
     "name": "stdout",
     "output_type": "stream",
     "text": [
      "Successfully removed 14 low-appeared labels: ['BackwardSpanTask', 'BearDragonTask', 'BoxCrossingDualTask', 'BoxesTask', 'CategorySwitchTask', 'Cued_Unpredictable_Switch_task', 'D2_target_detection', 'DegradedVigilanceTask', 'GiftWrap', 'GrassSnowTask', 'Incompatibility_test', 'KnockAndTapTask', 'PurposiveAction', 'ReverseCategorization']\n"
     ]
    }
   ],
   "source": [
    "# discard low-occurred labels\n",
    "\n",
    "docs_per_label = pubmed.groupby('label').size()\n",
    "low_appeared_labels = docs_per_label[docs_per_label < 5].index.to_list()\n",
    "\n",
    "pubmed = pubmed.query('label not in @low_appeared_labels')\n",
    "\n",
    "print(f'Successfully removed {len(low_appeared_labels)} low-appeared labels: {low_appeared_labels}')"
   ]
  },
  {
   "cell_type": "markdown",
   "metadata": {},
   "source": [
    "## Node-node similarity\n",
    "\n",
    "Here, we calculate the similarity between nodes using the node features. We use\n",
    "KL-divergence of the node features a measure of distance between the two."
   ]
  },
  {
   "cell_type": "code",
   "execution_count": 4,
   "metadata": {},
   "outputs": [],
   "source": [
    "# KL model\n",
    "def nll(X, dist):\n",
    "  return - tf.reduce_mean(dist.log_prob(X))\n",
    "\n",
    "@tf.function\n",
    "def get_loss_and_grads(X_train, dist):\n",
    "  with tf.GradientTape() as tape:\n",
    "    tape.watch(dist.trainable_variables)\n",
    "    loss = nll(X_train, dist)\n",
    "  grads = tape.gradient(loss, dist.trainable_variables)\n",
    "  return loss, grads\n",
    "\n",
    "def fit_multivariate_normal(data, n_epochs=10, batch_size=100):\n",
    "  dist = tfd.MultivariateNormalDiag(\n",
    "    loc=tf.Variable(data.mean(axis=0), name='loc'),\n",
    "    scale_diag=tf.Variable(np.ones(data.shape[1]), name='scale_diag'))\n",
    "\n",
    "  optimizer = tf.keras.optimizers.Adam(learning_rate=0.05)\n",
    "\n",
    "  for _ in range(n_epochs):\n",
    "    # for batch in np.array_split(data, 1 + (data.shape[0] // batch_size)):\n",
    "    batch = data  # use all the data in each epoch\n",
    "    loss, grads = get_loss_and_grads(batch, dist)\n",
    "    optimizer.apply_gradients(zip(grads, dist.trainable_variables))\n",
    "    # loc_value = dist.loc.value()\n",
    "  return dist\n"
   ]
  },
  {
   "cell_type": "code",
   "execution_count": 5,
   "metadata": {},
   "outputs": [
    {
     "name": "stdout",
     "output_type": "stream",
     "text": [
      "Popular labels: Attention, WorkingMemory, Planning, Initiation, Sequencing, ExecutiveFunction, Inhibition, Fluency, Reasoning, ProcessingSpeed, EpisodicMemory, Stroop, LongTermMemory, Shifting, ProblemSolving, CogntiveControl, InhibitoryControl, Verbal_fluency_task, ShortTermMemory, Mindfulness, SelectiveAttention, SelfRegulation, TMT_-_Trail_Making_Task, Digit_Span, WCST_-_Wisconsin_Card_Sort_Test, Go_NoGo, NBackTask, FlankerTask, StopSignalTask, IGT_-_Iowa_Gambling_task, PVT_-_Psychomotor_Vigilance_task, ContiniousPerformanceTask, Span_Task, CategoryFluencyTask, Simon_task, PEG_-_Pencil_Tapping_task, Semantic_Fluency_test, TowerOfLondon, DiscountingTask, Sorting_task\n"
     ]
    },
    {
     "name": "stderr",
     "output_type": "stream",
     "text": [
      "  0%|          | 0/40 [00:00<?, ?it/s]"
     ]
    },
    {
     "name": "stdout",
     "output_type": "stream",
     "text": [
      "WARNING:tensorflow:From /usr/local/Caskroom/miniforge/base/envs/py3/lib/python3.9/site-packages/tensorflow_probability/python/distributions/distribution.py:345: calling MultivariateNormalDiag.__init__ (from tensorflow_probability.python.distributions.mvn_diag) with scale_identity_multiplier is deprecated and will be removed after 2020-01-01.\n",
      "Instructions for updating:\n",
      "`scale_identity_multiplier` is deprecated; please combine it into `scale_diag` directly instead.\n"
     ]
    },
    {
     "name": "stderr",
     "output_type": "stream",
     "text": [
      "2022-02-02 11:52:15.496623: W tensorflow/python/util/util.cc:368] Sets are not currently considered sequences, but this may change in the future, so consider avoiding using them.\n",
      "100%|██████████| 40/40 [00:44<00:00,  1.12s/it]\n"
     ]
    }
   ],
   "source": [
    "n_skip = 20\n",
    "n_top_labels_per_category = 20\n",
    "\n",
    "popular_labels = (pubmed.groupby(['category','label'])['pmid']\n",
    "                        .count().sort_values(ascending=False)\n",
    "                        .groupby('category').head(n_top_labels_per_category)\n",
    "                        .index.get_level_values('label').to_list())\n",
    "popular_pubmed = pubmed.query('label in @popular_labels')\n",
    "\n",
    "node_features = popular_pubmed.groupby('label')['weights'].apply(lambda x: np.stack(x))\n",
    "\n",
    "print(f\"Popular labels: {', '.join(popular_labels)}\")\n",
    "\n",
    "tqdm.pandas()\n",
    "node_dists = node_features.progress_apply(fit_multivariate_normal)"
   ]
  },
  {
   "cell_type": "code",
   "execution_count": 6,
   "metadata": {},
   "outputs": [
    {
     "name": "stderr",
     "output_type": "stream",
     "text": [
      "40it [00:27,  1.45it/s]\n"
     ]
    }
   ],
   "source": [
    "# cache the node-to-node kl distance matrix\n",
    "n2n_js = np.zeros((len(node_dists), len(node_dists)))\n",
    "\n",
    "for i,lbl_i in tqdm(enumerate(node_dists.index)):\n",
    "  for j, lbl_j in enumerate(node_dists.index):\n",
    "    P = node_dists.loc[lbl_i]\n",
    "    Q = node_dists.loc[lbl_j]\n",
    "    M = tfd.MultivariateNormalDiag(\n",
    "      loc=(P.mean() + Q.mean())/2.,\n",
    "      scale_diag=(P.stddev() + Q.stddev())/2.\n",
    "    )\n",
    "    js = .5 * (P.kl_divergence(M) + Q.kl_divergence(M)).numpy()\n",
    "    # print(X_dists.loc[lbl_i].trainable_variables[1].shape)\n",
    "    n2n_js[i,j] = js\n",
    "\n",
    "n2n_js = pd.DataFrame(n2n_js, index=node_dists.index.to_list(), columns=node_dists.index.to_list())"
   ]
  },
  {
   "cell_type": "code",
   "execution_count": 8,
   "metadata": {},
   "outputs": [
    {
     "data": {
      "application/vnd.plotly.v1+json": {
       "config": {
        "plotlyServerURL": "https://plot.ly"
       },
       "data": [
        {
         "hoverinfo": "y+name",
         "line": {
          "width": 0.5
         },
         "marker": {
          "color": "rgb(0,116,217)"
         },
         "mode": "lines",
         "name": "Col Cluster 0",
         "type": "scatter",
         "x": [
          5,
          5,
          45.9130859375,
          45.9130859375
         ],
         "xaxis": "x2",
         "y": [
          0,
          0.1998447022326652,
          0.1998447022326652,
          0.15975611087230202
         ],
         "yaxis": "y2"
        },
        {
         "hoverinfo": "y+name",
         "line": {
          "width": 0.5
         },
         "marker": {
          "color": "rgb(0,116,217)"
         },
         "mode": "lines",
         "name": "Col Cluster 1",
         "type": "scatter",
         "x": [
          15,
          15,
          25,
          25
         ],
         "xaxis": "x2",
         "y": [
          0,
          0.14000688105904152,
          0.14000688105904152,
          0
         ],
         "yaxis": "y2"
        },
        {
         "hoverinfo": "y+name",
         "line": {
          "width": 0.5
         },
         "marker": {
          "color": "rgb(0,116,217)"
         },
         "mode": "lines",
         "name": "Col Cluster 2",
         "type": "scatter",
         "x": [
          20,
          20,
          71.826171875,
          71.826171875
         ],
         "xaxis": "x2",
         "y": [
          0.14000688105904152,
          0.15975611087230202,
          0.15975611087230202,
          0.14934288502793044
         ],
         "yaxis": "y2"
        },
        {
         "hoverinfo": "y+name",
         "line": {
          "width": 0.5
         },
         "marker": {
          "color": "rgb(0,116,217)"
         },
         "mode": "lines",
         "name": "Col Cluster 3",
         "type": "scatter",
         "x": [
          35,
          35,
          45,
          45
         ],
         "xaxis": "x2",
         "y": [
          0,
          0.12816250522286332,
          0.12816250522286332,
          0
         ],
         "yaxis": "y2"
        },
        {
         "hoverinfo": "y+name",
         "line": {
          "width": 0.5
         },
         "marker": {
          "color": "rgb(0,116,217)"
         },
         "mode": "lines",
         "name": "Col Cluster 4",
         "type": "scatter",
         "x": [
          40,
          40,
          103.65234375,
          103.65234375
         ],
         "xaxis": "x2",
         "y": [
          0.12816250522286332,
          0.14934288502793044,
          0.14934288502793044,
          0.12919682473059774
         ],
         "yaxis": "y2"
        },
        {
         "hoverinfo": "y+name",
         "line": {
          "width": 0.5
         },
         "marker": {
          "color": "rgb(0,116,217)"
         },
         "mode": "lines",
         "name": "Col Cluster 5",
         "type": "scatter",
         "x": [
          55,
          55,
          70,
          70
         ],
         "xaxis": "x2",
         "y": [
          0,
          0.11446322114686275,
          0.11446322114686275,
          0.11225339945540037
         ],
         "yaxis": "y2"
        },
        {
         "hoverinfo": "y+name",
         "line": {
          "width": 0.5
         },
         "marker": {
          "color": "rgb(0,116,217)"
         },
         "mode": "lines",
         "name": "Col Cluster 6",
         "type": "scatter",
         "x": [
          62.5,
          62.5,
          144.8046875,
          144.8046875
         ],
         "xaxis": "x2",
         "y": [
          0.11446322114686275,
          0.12919682473059774,
          0.12919682473059774,
          0.12472377286549145
         ],
         "yaxis": "y2"
        },
        {
         "hoverinfo": "y+name",
         "line": {
          "width": 0.5
         },
         "marker": {
          "color": "rgb(0,116,217)"
         },
         "mode": "lines",
         "name": "Col Cluster 7",
         "type": "scatter",
         "x": [
          65,
          65,
          75,
          75
         ],
         "xaxis": "x2",
         "y": [
          0,
          0.11225339945540037,
          0.11225339945540037,
          0
         ],
         "yaxis": "y2"
        },
        {
         "hoverinfo": "y+name",
         "line": {
          "width": 0.5
         },
         "marker": {
          "color": "rgb(0,116,217)"
         },
         "mode": "lines",
         "name": "Col Cluster 8",
         "type": "scatter",
         "x": [
          85,
          85,
          114.21875,
          114.21875
         ],
         "xaxis": "x2",
         "y": [
          0,
          0.11248235357532879,
          0.11248235357532879,
          0.10612896843813344
         ],
         "yaxis": "y2"
        },
        {
         "hoverinfo": "y+name",
         "line": {
          "width": 0.5
         },
         "marker": {
          "color": "rgb(0,116,217)"
         },
         "mode": "lines",
         "name": "Col Cluster 9",
         "type": "scatter",
         "x": [
          95,
          95,
          105,
          105
         ],
         "xaxis": "x2",
         "y": [
          0,
          0.09653461672919453,
          0.09653461672919453,
          0
         ],
         "yaxis": "y2"
        },
        {
         "hoverinfo": "y+name",
         "line": {
          "width": 0.5
         },
         "marker": {
          "color": "rgb(0,116,217)"
         },
         "mode": "lines",
         "name": "Col Cluster 10",
         "type": "scatter",
         "x": [
          99.609375,
          99.609375,
          190,
          190
         ],
         "xaxis": "x2",
         "y": [
          0.11248235357532879,
          0.12472377286549145,
          0.12472377286549145,
          0.11968665013649925
         ],
         "yaxis": "y2"
        },
        {
         "hoverinfo": "y+name",
         "line": {
          "width": 0.5
         },
         "marker": {
          "color": "rgb(0,116,217)"
         },
         "mode": "lines",
         "name": "Col Cluster 11",
         "type": "scatter",
         "x": [
          100,
          100,
          128.4375,
          128.4375
         ],
         "xaxis": "x2",
         "y": [
          0.09653461672919453,
          0.10612896843813344,
          0.10612896843813344,
          0.09979844547664768
         ],
         "yaxis": "y2"
        },
        {
         "hoverinfo": "y+name",
         "line": {
          "width": 0.5
         },
         "marker": {
          "color": "rgb(0,116,217)"
         },
         "mode": "lines",
         "name": "Col Cluster 12",
         "type": "scatter",
         "x": [
          115,
          115,
          141.875,
          141.875
         ],
         "xaxis": "x2",
         "y": [
          0,
          0.09979844547664768,
          0.09979844547664768,
          0.09295842893969601
         ],
         "yaxis": "y2"
        },
        {
         "hoverinfo": "y+name",
         "line": {
          "width": 0.5
         },
         "marker": {
          "color": "rgb(0,116,217)"
         },
         "mode": "lines",
         "name": "Col Cluster 13",
         "type": "scatter",
         "x": [
          125,
          125,
          135,
          135
         ],
         "xaxis": "x2",
         "y": [
          0,
          0.07287417853875135,
          0.07287417853875135,
          0
         ],
         "yaxis": "y2"
        },
        {
         "hoverinfo": "y+name",
         "line": {
          "width": 0.5
         },
         "marker": {
          "color": "rgb(0,116,217)"
         },
         "mode": "lines",
         "name": "Col Cluster 14",
         "type": "scatter",
         "x": [
          130,
          130,
          153.75,
          153.75
         ],
         "xaxis": "x2",
         "y": [
          0.07287417853875135,
          0.09295842893969601,
          0.09295842893969601,
          0.08528893047166224
         ],
         "yaxis": "y2"
        },
        {
         "hoverinfo": "y+name",
         "line": {
          "width": 0.5
         },
         "marker": {
          "color": "rgb(0,116,217)"
         },
         "mode": "lines",
         "name": "Col Cluster 15",
         "type": "scatter",
         "x": [
          145,
          145,
          162.5,
          162.5
         ],
         "xaxis": "x2",
         "y": [
          0,
          0.08528893047166224,
          0.08528893047166224,
          0.0812662504872331
         ],
         "yaxis": "y2"
        },
        {
         "hoverinfo": "y+name",
         "line": {
          "width": 0.5
         },
         "marker": {
          "color": "rgb(0,116,217)"
         },
         "mode": "lines",
         "name": "Col Cluster 16",
         "type": "scatter",
         "x": [
          155,
          155,
          170,
          170
         ],
         "xaxis": "x2",
         "y": [
          0,
          0.0812662504872331,
          0.0812662504872331,
          0.07928222269301106
         ],
         "yaxis": "y2"
        },
        {
         "hoverinfo": "y+name",
         "line": {
          "width": 0.5
         },
         "marker": {
          "color": "rgb(0,116,217)"
         },
         "mode": "lines",
         "name": "Col Cluster 17",
         "type": "scatter",
         "x": [
          165,
          165,
          175,
          175
         ],
         "xaxis": "x2",
         "y": [
          0,
          0.07928222269301106,
          0.07928222269301106,
          0
         ],
         "yaxis": "y2"
        },
        {
         "hoverinfo": "y+name",
         "line": {
          "width": 0.5
         },
         "marker": {
          "color": "rgb(0,116,217)"
         },
         "mode": "lines",
         "name": "Col Cluster 18",
         "type": "scatter",
         "x": [
          185,
          185,
          195,
          195
         ],
         "xaxis": "x2",
         "y": [
          0,
          0.11968665013649925,
          0.11968665013649925,
          0
         ],
         "yaxis": "y2"
        },
        {
         "hoverinfo": "x+name",
         "line": {
          "width": 0.5
         },
         "marker": {
          "color": "rgb(0,116,217)"
         },
         "mode": "lines",
         "name": "Row Cluster 0",
         "type": "scatter",
         "x": [
          0,
          -0.14000688105904152,
          -0.14000688105904152,
          0
         ],
         "xaxis": "x4",
         "y": [
          15,
          15,
          25,
          25
         ],
         "yaxis": "y4"
        },
        {
         "hoverinfo": "x+name",
         "line": {
          "width": 0.5
         },
         "marker": {
          "color": "rgb(0,116,217)"
         },
         "mode": "lines",
         "name": "Row Cluster 1",
         "type": "scatter",
         "x": [
          0,
          -0.11968665013649925,
          -0.11968665013649925,
          0
         ],
         "xaxis": "x4",
         "y": [
          185,
          185,
          195,
          195
         ],
         "yaxis": "y4"
        },
        {
         "hoverinfo": "x+name",
         "line": {
          "width": 0.5
         },
         "marker": {
          "color": "rgb(0,116,217)"
         },
         "mode": "lines",
         "name": "Row Cluster 2",
         "type": "scatter",
         "x": [
          0,
          -0.07928222269301106,
          -0.07928222269301106,
          0
         ],
         "xaxis": "x4",
         "y": [
          165,
          165,
          175,
          175
         ],
         "yaxis": "y4"
        },
        {
         "hoverinfo": "x+name",
         "line": {
          "width": 0.5
         },
         "marker": {
          "color": "rgb(0,116,217)"
         },
         "mode": "lines",
         "name": "Row Cluster 3",
         "type": "scatter",
         "x": [
          0,
          -0.0812662504872331,
          -0.0812662504872331,
          -0.07928222269301106
         ],
         "xaxis": "x4",
         "y": [
          155,
          155,
          170,
          170
         ],
         "yaxis": "y4"
        },
        {
         "hoverinfo": "x+name",
         "line": {
          "width": 0.5
         },
         "marker": {
          "color": "rgb(0,116,217)"
         },
         "mode": "lines",
         "name": "Row Cluster 4",
         "type": "scatter",
         "x": [
          0,
          -0.08528893047166224,
          -0.08528893047166224,
          -0.0812662504872331
         ],
         "xaxis": "x4",
         "y": [
          145,
          145,
          162.5,
          162.5
         ],
         "yaxis": "y4"
        },
        {
         "hoverinfo": "x+name",
         "line": {
          "width": 0.5
         },
         "marker": {
          "color": "rgb(0,116,217)"
         },
         "mode": "lines",
         "name": "Row Cluster 5",
         "type": "scatter",
         "x": [
          -0.07287417853875135,
          -0.09295842893969601,
          -0.09295842893969601,
          -0.08528893047166224
         ],
         "xaxis": "x4",
         "y": [
          130,
          130,
          153.75,
          153.75
         ],
         "yaxis": "y4"
        },
        {
         "hoverinfo": "x+name",
         "line": {
          "width": 0.5
         },
         "marker": {
          "color": "rgb(0,116,217)"
         },
         "mode": "lines",
         "name": "Row Cluster 6",
         "type": "scatter",
         "x": [
          0,
          -0.07287417853875135,
          -0.07287417853875135,
          0
         ],
         "xaxis": "x4",
         "y": [
          125,
          125,
          135,
          135
         ],
         "yaxis": "y4"
        },
        {
         "hoverinfo": "x+name",
         "line": {
          "width": 0.5
         },
         "marker": {
          "color": "rgb(0,116,217)"
         },
         "mode": "lines",
         "name": "Row Cluster 7",
         "type": "scatter",
         "x": [
          0,
          -0.09979844547664768,
          -0.09979844547664768,
          -0.09295842893969601
         ],
         "xaxis": "x4",
         "y": [
          115,
          115,
          141.875,
          141.875
         ],
         "yaxis": "y4"
        },
        {
         "hoverinfo": "x+name",
         "line": {
          "width": 0.5
         },
         "marker": {
          "color": "rgb(0,116,217)"
         },
         "mode": "lines",
         "name": "Row Cluster 8",
         "type": "scatter",
         "x": [
          -0.09653461672919453,
          -0.10612896843813344,
          -0.10612896843813344,
          -0.09979844547664768
         ],
         "xaxis": "x4",
         "y": [
          100,
          100,
          128.4375,
          128.4375
         ],
         "yaxis": "y4"
        },
        {
         "hoverinfo": "x+name",
         "line": {
          "width": 0.5
         },
         "marker": {
          "color": "rgb(0,116,217)"
         },
         "mode": "lines",
         "name": "Row Cluster 9",
         "type": "scatter",
         "x": [
          -0.11248235357532879,
          -0.12472377286549145,
          -0.12472377286549145,
          -0.11968665013649925
         ],
         "xaxis": "x4",
         "y": [
          99.609375,
          99.609375,
          190,
          190
         ],
         "yaxis": "y4"
        },
        {
         "hoverinfo": "x+name",
         "line": {
          "width": 0.5
         },
         "marker": {
          "color": "rgb(0,116,217)"
         },
         "mode": "lines",
         "name": "Row Cluster 10",
         "type": "scatter",
         "x": [
          0,
          -0.09653461672919453,
          -0.09653461672919453,
          0
         ],
         "xaxis": "x4",
         "y": [
          95,
          95,
          105,
          105
         ],
         "yaxis": "y4"
        },
        {
         "hoverinfo": "x+name",
         "line": {
          "width": 0.5
         },
         "marker": {
          "color": "rgb(0,116,217)"
         },
         "mode": "lines",
         "name": "Row Cluster 11",
         "type": "scatter",
         "x": [
          0,
          -0.11248235357532879,
          -0.11248235357532879,
          -0.10612896843813344
         ],
         "xaxis": "x4",
         "y": [
          85,
          85,
          114.21875,
          114.21875
         ],
         "yaxis": "y4"
        },
        {
         "hoverinfo": "x+name",
         "line": {
          "width": 0.5
         },
         "marker": {
          "color": "rgb(0,116,217)"
         },
         "mode": "lines",
         "name": "Row Cluster 12",
         "type": "scatter",
         "x": [
          0,
          -0.11225339945540037,
          -0.11225339945540037,
          0
         ],
         "xaxis": "x4",
         "y": [
          65,
          65,
          75,
          75
         ],
         "yaxis": "y4"
        },
        {
         "hoverinfo": "x+name",
         "line": {
          "width": 0.5
         },
         "marker": {
          "color": "rgb(0,116,217)"
         },
         "mode": "lines",
         "name": "Row Cluster 13",
         "type": "scatter",
         "x": [
          -0.11446322114686275,
          -0.12919682473059774,
          -0.12919682473059774,
          -0.12472377286549145
         ],
         "xaxis": "x4",
         "y": [
          62.5,
          62.5,
          144.8046875,
          144.8046875
         ],
         "yaxis": "y4"
        },
        {
         "hoverinfo": "x+name",
         "line": {
          "width": 0.5
         },
         "marker": {
          "color": "rgb(0,116,217)"
         },
         "mode": "lines",
         "name": "Row Cluster 14",
         "type": "scatter",
         "x": [
          0,
          -0.11446322114686275,
          -0.11446322114686275,
          -0.11225339945540037
         ],
         "xaxis": "x4",
         "y": [
          55,
          55,
          70,
          70
         ],
         "yaxis": "y4"
        },
        {
         "hoverinfo": "x+name",
         "line": {
          "width": 0.5
         },
         "marker": {
          "color": "rgb(0,116,217)"
         },
         "mode": "lines",
         "name": "Row Cluster 15",
         "type": "scatter",
         "x": [
          -0.12816250522286332,
          -0.14934288502793044,
          -0.14934288502793044,
          -0.12919682473059774
         ],
         "xaxis": "x4",
         "y": [
          40,
          40,
          103.65234375,
          103.65234375
         ],
         "yaxis": "y4"
        },
        {
         "hoverinfo": "x+name",
         "line": {
          "width": 0.5
         },
         "marker": {
          "color": "rgb(0,116,217)"
         },
         "mode": "lines",
         "name": "Row Cluster 16",
         "type": "scatter",
         "x": [
          0,
          -0.12816250522286332,
          -0.12816250522286332,
          0
         ],
         "xaxis": "x4",
         "y": [
          35,
          35,
          45,
          45
         ],
         "yaxis": "y4"
        },
        {
         "hoverinfo": "x+name",
         "line": {
          "width": 0.5
         },
         "marker": {
          "color": "rgb(0,116,217)"
         },
         "mode": "lines",
         "name": "Row Cluster 17",
         "type": "scatter",
         "x": [
          -0.14000688105904152,
          -0.15975611087230202,
          -0.15975611087230202,
          -0.14934288502793044
         ],
         "xaxis": "x4",
         "y": [
          20,
          20,
          71.826171875,
          71.826171875
         ],
         "yaxis": "y4"
        },
        {
         "hoverinfo": "x+name",
         "line": {
          "width": 0.5
         },
         "marker": {
          "color": "rgb(0,116,217)"
         },
         "mode": "lines",
         "name": "Row Cluster 18",
         "type": "scatter",
         "x": [
          0,
          -0.1998447022326652,
          -0.1998447022326652,
          -0.15975611087230202
         ],
         "xaxis": "x4",
         "y": [
          5,
          5,
          45.9130859375,
          45.9130859375
         ],
         "yaxis": "y4"
        },
        {
         "colorbar": {
          "xpad": 100
         },
         "colorscale": [
          [
           0,
           "rgb(5,48,97)"
          ],
          [
           0.1,
           "rgb(33,102,172)"
          ],
          [
           0.2,
           "rgb(67,147,195)"
          ],
          [
           0.3,
           "rgb(146,197,222)"
          ],
          [
           0.4,
           "rgb(209,229,240)"
          ],
          [
           0.5,
           "rgb(247,247,247)"
          ],
          [
           0.6,
           "rgb(253,219,199)"
          ],
          [
           0.7,
           "rgb(244,165,130)"
          ],
          [
           0.8,
           "rgb(214,96,77)"
          ],
          [
           0.9,
           "rgb(178,24,43)"
          ],
          [
           1,
           "rgb(103,0,31)"
          ]
         ],
         "type": "heatmap",
         "x": [
          5,
          15,
          25,
          35,
          45,
          55,
          65,
          75,
          85,
          95,
          105,
          115,
          125,
          135,
          145,
          155,
          165,
          175,
          185,
          195
         ],
         "xaxis": "x5",
         "y": [
          5,
          15,
          25,
          35,
          45,
          55,
          65,
          75,
          85,
          95,
          105,
          115,
          125,
          135,
          145,
          155,
          165,
          175,
          185,
          195
         ],
         "yaxis": "y5",
         "z": [
          [
           1,
           0.8877688137571396,
           0.8853707457478303,
           0.8847171485361064,
           0.8887046801371511,
           0.8928684675138764,
           0.9003660482229636,
           0.8985494222045988,
           0.8944501301101655,
           0.907017854072704,
           0.9025744459811049,
           0.9090828374768357,
           0.9150109494205738,
           0.9090376299751979,
           0.9047780567622072,
           0.9044456673446858,
           0.9094881669808537,
           0.9080639879270841,
           0.9002862434844416,
           0.8954886540416246
          ],
          [
           0.8877688137571396,
           1,
           0.9019641028012092,
           0.8941095803955955,
           0.9081075512911745,
           0.9099401517331833,
           0.9102835626248073,
           0.9064329466172325,
           0.9146576135677223,
           0.9111621002062446,
           0.9156071509514918,
           0.9135866810582945,
           0.9221887318862041,
           0.9206544153142139,
           0.9125141901052805,
           0.919432692170526,
           0.9240397783296717,
           0.9216610798293915,
           0.9098893640623407,
           0.9103925822108783
          ],
          [
           0.8853707457478303,
           0.9019641028012092,
           1,
           0.897423671693233,
           0.9123501633491654,
           0.9127238063218175,
           0.9067557242137544,
           0.9138965271491676,
           0.9045950115483941,
           0.9115159069652946,
           0.9107534943594409,
           0.9145603357261043,
           0.9180330031595163,
           0.9177008427785281,
           0.9161492599820616,
           0.9190336156276259,
           0.9157152282838357,
           0.9164007905249772,
           0.9079219118930123,
           0.908624552576474
          ],
          [
           0.8847171485361064,
           0.8941095803955955,
           0.897423671693233,
           1,
           0.9130358879740339,
           0.913042209458539,
           0.907597975491565,
           0.9102007785580195,
           0.9053164847434497,
           0.916303999257824,
           0.9196516751891828,
           0.9124887660049388,
           0.9239768737385803,
           0.9265171099701459,
           0.9162724531279902,
           0.920349934840618,
           0.9218690134584526,
           0.9211414856248824,
           0.9041576509293704,
           0.9085598392132569
          ],
          [
           0.8887046801371511,
           0.9081075512911745,
           0.9123501633491654,
           0.9130358879740339,
           1,
           0.913661210460206,
           0.907727012149479,
           0.9203440347165343,
           0.9151767607549001,
           0.9186572964965171,
           0.9213934441569899,
           0.9249997372603036,
           0.9367744947956058,
           0.9312175320503008,
           0.9263507518435233,
           0.9227583133689983,
           0.9318460543722964,
           0.9266991298544701,
           0.9126663821899473,
           0.9105068976154262
          ],
          [
           0.8928684675138764,
           0.9099401517331833,
           0.9127238063218175,
           0.913042209458539,
           0.913661210460206,
           1,
           0.920945270773599,
           0.9214502340165968,
           0.9096680859210117,
           0.9198999129080698,
           0.9264494851707205,
           0.9256302422964965,
           0.9294004447065659,
           0.930878248042924,
           0.925116091243145,
           0.9260133748641112,
           0.9273985683968867,
           0.9319673475461807,
           0.9158529441977165,
           0.913246071035087
          ],
          [
           0.9003660482229636,
           0.9102835626248073,
           0.9067557242137544,
           0.907597975491565,
           0.907727012149479,
           0.920945270773599,
           1,
           0.9224527574655035,
           0.9167926498707599,
           0.9247767503925424,
           0.9252337759093048,
           0.9260186377110436,
           0.9270818082410673,
           0.931858989356992,
           0.9332718295087767,
           0.9380098660419975,
           0.9382292597449525,
           0.9357540852256401,
           0.9126449782478341,
           0.9163835249798328
          ],
          [
           0.8985494222045988,
           0.9064329466172325,
           0.9138965271491676,
           0.9102007785580195,
           0.9203440347165343,
           0.9214502340165968,
           0.9224527574655035,
           1,
           0.9167427099065322,
           0.9203063952141127,
           0.926143260373549,
           0.9234753289859018,
           0.9325855159117995,
           0.9344994951485031,
           0.9272003663203807,
           0.9257656232882184,
           0.9361090575212953,
           0.9293009510320096,
           0.9188543704325232,
           0.9179049237636575
          ],
          [
           0.8944501301101655,
           0.9146576135677223,
           0.9045950115483941,
           0.9053164847434497,
           0.9151767607549001,
           0.9096680859210117,
           0.9167926498707599,
           0.9167427099065322,
           1,
           0.9256603301468155,
           0.9261497129729793,
           0.9253658636652404,
           0.9351250244685542,
           0.9358614587214603,
           0.9280602509544038,
           0.9293208100480096,
           0.933707091250258,
           0.9316111848325345,
           0.9179871266109033,
           0.9182316836341375
          ],
          [
           0.907017854072704,
           0.9111621002062446,
           0.9115159069652946,
           0.916303999257824,
           0.9186572964965171,
           0.9198999129080698,
           0.9247767503925424,
           0.9203063952141127,
           0.9256603301468155,
           1,
           0.932492600754236,
           0.9260900474978018,
           0.9363313353732013,
           0.9372987632153684,
           0.9337204255555153,
           0.935328937556822,
           0.9350865168260188,
           0.9410721053111643,
           0.9200748882856319,
           0.9272597831692817
          ],
          [
           0.9025744459811049,
           0.9156071509514918,
           0.9107534943594409,
           0.9196516751891828,
           0.9213934441569899,
           0.9264494851707205,
           0.9252337759093048,
           0.926143260373549,
           0.9261497129729793,
           0.932492600754236,
           1,
           0.9282512949522671,
           0.9391481587607942,
           0.9403711080995708,
           0.9316700212721861,
           0.9370080740746094,
           0.9409429726491956,
           0.9418444586876202,
           0.9199510190981106,
           0.9251946909350515
          ],
          [
           0.9090828374768357,
           0.9135866810582945,
           0.9145603357261043,
           0.9124887660049388,
           0.9249997372603036,
           0.9256302422964965,
           0.9260186377110436,
           0.9234753289859018,
           0.9253658636652404,
           0.9260900474978018,
           0.9282512949522671,
           1,
           0.9453646715473909,
           0.9395010102092503,
           0.931895680193412,
           0.9325543406353654,
           0.939450208404419,
           0.9346522499119848,
           0.9240350007407055,
           0.9219789245948832
          ],
          [
           0.9150109494205738,
           0.9221887318862041,
           0.9180330031595163,
           0.9239768737385803,
           0.9367744947956058,
           0.9294004447065659,
           0.9270818082410673,
           0.9325855159117995,
           0.9351250244685542,
           0.9363313353732013,
           0.9391481587607942,
           0.9453646715473909,
           1,
           0.9497836505715742,
           0.9424176966068808,
           0.9373521165504741,
           0.9423826471691065,
           0.9444049183791379,
           0.9281060056590671,
           0.9312894968248473
          ],
          [
           0.9090376299751979,
           0.9206544153142139,
           0.9177008427785281,
           0.9265171099701459,
           0.9312175320503008,
           0.930878248042924,
           0.931858989356992,
           0.9344994951485031,
           0.9358614587214603,
           0.9372987632153684,
           0.9403711080995708,
           0.9395010102092503,
           0.9497836505715742,
           1,
           0.9468593298527235,
           0.9413323411186956,
           0.9492661580746433,
           0.9456408397437408,
           0.9284864930261798,
           0.924874326402612
          ],
          [
           0.9047780567622072,
           0.9125141901052805,
           0.9161492599820616,
           0.9162724531279902,
           0.9263507518435233,
           0.925116091243145,
           0.9332718295087767,
           0.9272003663203807,
           0.9280602509544038,
           0.9337204255555153,
           0.9316700212721861,
           0.931895680193412,
           0.9424176966068808,
           0.9468593298527235,
           1,
           0.9421721521814455,
           0.9419368313706632,
           0.9413114047067171,
           0.9271436120908784,
           0.9319258974906546
          ],
          [
           0.9044456673446858,
           0.919432692170526,
           0.9190336156276259,
           0.920349934840618,
           0.9227583133689983,
           0.9260133748641112,
           0.9380098660419975,
           0.9257656232882184,
           0.9293208100480096,
           0.935328937556822,
           0.9370080740746094,
           0.9325543406353654,
           0.9373521165504741,
           0.9413323411186956,
           0.9421721521814455,
           1,
           0.9453624454219955,
           0.94355194684098,
           0.9279589965112449,
           0.9314554827621231
          ],
          [
           0.9094881669808537,
           0.9240397783296717,
           0.9157152282838357,
           0.9218690134584526,
           0.9318460543722964,
           0.9273985683968867,
           0.9382292597449525,
           0.9361090575212953,
           0.933707091250258,
           0.9350865168260188,
           0.9409429726491956,
           0.939450208404419,
           0.9423826471691065,
           0.9492661580746433,
           0.9419368313706632,
           0.9453624454219955,
           1,
           0.9448264898594474,
           0.9271231769917226,
           0.9312078287268215
          ],
          [
           0.9080639879270841,
           0.9216610798293915,
           0.9164007905249772,
           0.9211414856248824,
           0.9266991298544701,
           0.9319673475461807,
           0.9357540852256401,
           0.9293009510320096,
           0.9316111848325345,
           0.9410721053111643,
           0.9418444586876202,
           0.9346522499119848,
           0.9444049183791379,
           0.9456408397437408,
           0.9413114047067171,
           0.94355194684098,
           0.9448264898594474,
           1,
           0.9290017526602481,
           0.93055404739629
          ],
          [
           0.9002862434844416,
           0.9098893640623407,
           0.9079219118930123,
           0.9041576509293704,
           0.9126663821899473,
           0.9158529441977165,
           0.9126449782478341,
           0.9188543704325232,
           0.9179871266109033,
           0.9200748882856319,
           0.9199510190981106,
           0.9240350007407055,
           0.9281060056590671,
           0.9284864930261798,
           0.9271436120908784,
           0.9279589965112449,
           0.9271231769917226,
           0.9290017526602481,
           1,
           0.9160516953057826
          ],
          [
           0.8954886540416246,
           0.9103925822108783,
           0.908624552576474,
           0.9085598392132569,
           0.9105068976154262,
           0.913246071035087,
           0.9163835249798328,
           0.9179049237636575,
           0.9182316836341375,
           0.9272597831692817,
           0.9251946909350515,
           0.9219789245948832,
           0.9312894968248473,
           0.924874326402612,
           0.9319258974906546,
           0.9314554827621231,
           0.9312078287268215,
           0.93055404739629,
           0.9160516953057826,
           1
          ]
         ]
        }
       ],
       "layout": {
        "height": 800,
        "hovermode": "closest",
        "legend": {
         "x": 0.7,
         "y": 0.7
        },
        "paper_bgcolor": "rgba(0,0,0,0)",
        "plot_bgcolor": "rgba(0,0,0,0)",
        "showlegend": false,
        "template": {
         "data": {
          "bar": [
           {
            "error_x": {
             "color": "#2a3f5f"
            },
            "error_y": {
             "color": "#2a3f5f"
            },
            "marker": {
             "line": {
              "color": "#E5ECF6",
              "width": 0.5
             },
             "pattern": {
              "fillmode": "overlay",
              "size": 10,
              "solidity": 0.2
             }
            },
            "type": "bar"
           }
          ],
          "barpolar": [
           {
            "marker": {
             "line": {
              "color": "#E5ECF6",
              "width": 0.5
             },
             "pattern": {
              "fillmode": "overlay",
              "size": 10,
              "solidity": 0.2
             }
            },
            "type": "barpolar"
           }
          ],
          "carpet": [
           {
            "aaxis": {
             "endlinecolor": "#2a3f5f",
             "gridcolor": "white",
             "linecolor": "white",
             "minorgridcolor": "white",
             "startlinecolor": "#2a3f5f"
            },
            "baxis": {
             "endlinecolor": "#2a3f5f",
             "gridcolor": "white",
             "linecolor": "white",
             "minorgridcolor": "white",
             "startlinecolor": "#2a3f5f"
            },
            "type": "carpet"
           }
          ],
          "choropleth": [
           {
            "colorbar": {
             "outlinewidth": 0,
             "ticks": ""
            },
            "type": "choropleth"
           }
          ],
          "contour": [
           {
            "colorbar": {
             "outlinewidth": 0,
             "ticks": ""
            },
            "colorscale": [
             [
              0,
              "#0d0887"
             ],
             [
              0.1111111111111111,
              "#46039f"
             ],
             [
              0.2222222222222222,
              "#7201a8"
             ],
             [
              0.3333333333333333,
              "#9c179e"
             ],
             [
              0.4444444444444444,
              "#bd3786"
             ],
             [
              0.5555555555555556,
              "#d8576b"
             ],
             [
              0.6666666666666666,
              "#ed7953"
             ],
             [
              0.7777777777777778,
              "#fb9f3a"
             ],
             [
              0.8888888888888888,
              "#fdca26"
             ],
             [
              1,
              "#f0f921"
             ]
            ],
            "type": "contour"
           }
          ],
          "contourcarpet": [
           {
            "colorbar": {
             "outlinewidth": 0,
             "ticks": ""
            },
            "type": "contourcarpet"
           }
          ],
          "heatmap": [
           {
            "colorbar": {
             "outlinewidth": 0,
             "ticks": ""
            },
            "colorscale": [
             [
              0,
              "#0d0887"
             ],
             [
              0.1111111111111111,
              "#46039f"
             ],
             [
              0.2222222222222222,
              "#7201a8"
             ],
             [
              0.3333333333333333,
              "#9c179e"
             ],
             [
              0.4444444444444444,
              "#bd3786"
             ],
             [
              0.5555555555555556,
              "#d8576b"
             ],
             [
              0.6666666666666666,
              "#ed7953"
             ],
             [
              0.7777777777777778,
              "#fb9f3a"
             ],
             [
              0.8888888888888888,
              "#fdca26"
             ],
             [
              1,
              "#f0f921"
             ]
            ],
            "type": "heatmap"
           }
          ],
          "heatmapgl": [
           {
            "colorbar": {
             "outlinewidth": 0,
             "ticks": ""
            },
            "colorscale": [
             [
              0,
              "#0d0887"
             ],
             [
              0.1111111111111111,
              "#46039f"
             ],
             [
              0.2222222222222222,
              "#7201a8"
             ],
             [
              0.3333333333333333,
              "#9c179e"
             ],
             [
              0.4444444444444444,
              "#bd3786"
             ],
             [
              0.5555555555555556,
              "#d8576b"
             ],
             [
              0.6666666666666666,
              "#ed7953"
             ],
             [
              0.7777777777777778,
              "#fb9f3a"
             ],
             [
              0.8888888888888888,
              "#fdca26"
             ],
             [
              1,
              "#f0f921"
             ]
            ],
            "type": "heatmapgl"
           }
          ],
          "histogram": [
           {
            "marker": {
             "pattern": {
              "fillmode": "overlay",
              "size": 10,
              "solidity": 0.2
             }
            },
            "type": "histogram"
           }
          ],
          "histogram2d": [
           {
            "colorbar": {
             "outlinewidth": 0,
             "ticks": ""
            },
            "colorscale": [
             [
              0,
              "#0d0887"
             ],
             [
              0.1111111111111111,
              "#46039f"
             ],
             [
              0.2222222222222222,
              "#7201a8"
             ],
             [
              0.3333333333333333,
              "#9c179e"
             ],
             [
              0.4444444444444444,
              "#bd3786"
             ],
             [
              0.5555555555555556,
              "#d8576b"
             ],
             [
              0.6666666666666666,
              "#ed7953"
             ],
             [
              0.7777777777777778,
              "#fb9f3a"
             ],
             [
              0.8888888888888888,
              "#fdca26"
             ],
             [
              1,
              "#f0f921"
             ]
            ],
            "type": "histogram2d"
           }
          ],
          "histogram2dcontour": [
           {
            "colorbar": {
             "outlinewidth": 0,
             "ticks": ""
            },
            "colorscale": [
             [
              0,
              "#0d0887"
             ],
             [
              0.1111111111111111,
              "#46039f"
             ],
             [
              0.2222222222222222,
              "#7201a8"
             ],
             [
              0.3333333333333333,
              "#9c179e"
             ],
             [
              0.4444444444444444,
              "#bd3786"
             ],
             [
              0.5555555555555556,
              "#d8576b"
             ],
             [
              0.6666666666666666,
              "#ed7953"
             ],
             [
              0.7777777777777778,
              "#fb9f3a"
             ],
             [
              0.8888888888888888,
              "#fdca26"
             ],
             [
              1,
              "#f0f921"
             ]
            ],
            "type": "histogram2dcontour"
           }
          ],
          "mesh3d": [
           {
            "colorbar": {
             "outlinewidth": 0,
             "ticks": ""
            },
            "type": "mesh3d"
           }
          ],
          "parcoords": [
           {
            "line": {
             "colorbar": {
              "outlinewidth": 0,
              "ticks": ""
             }
            },
            "type": "parcoords"
           }
          ],
          "pie": [
           {
            "automargin": true,
            "type": "pie"
           }
          ],
          "scatter": [
           {
            "marker": {
             "colorbar": {
              "outlinewidth": 0,
              "ticks": ""
             }
            },
            "type": "scatter"
           }
          ],
          "scatter3d": [
           {
            "line": {
             "colorbar": {
              "outlinewidth": 0,
              "ticks": ""
             }
            },
            "marker": {
             "colorbar": {
              "outlinewidth": 0,
              "ticks": ""
             }
            },
            "type": "scatter3d"
           }
          ],
          "scattercarpet": [
           {
            "marker": {
             "colorbar": {
              "outlinewidth": 0,
              "ticks": ""
             }
            },
            "type": "scattercarpet"
           }
          ],
          "scattergeo": [
           {
            "marker": {
             "colorbar": {
              "outlinewidth": 0,
              "ticks": ""
             }
            },
            "type": "scattergeo"
           }
          ],
          "scattergl": [
           {
            "marker": {
             "colorbar": {
              "outlinewidth": 0,
              "ticks": ""
             }
            },
            "type": "scattergl"
           }
          ],
          "scattermapbox": [
           {
            "marker": {
             "colorbar": {
              "outlinewidth": 0,
              "ticks": ""
             }
            },
            "type": "scattermapbox"
           }
          ],
          "scatterpolar": [
           {
            "marker": {
             "colorbar": {
              "outlinewidth": 0,
              "ticks": ""
             }
            },
            "type": "scatterpolar"
           }
          ],
          "scatterpolargl": [
           {
            "marker": {
             "colorbar": {
              "outlinewidth": 0,
              "ticks": ""
             }
            },
            "type": "scatterpolargl"
           }
          ],
          "scatterternary": [
           {
            "marker": {
             "colorbar": {
              "outlinewidth": 0,
              "ticks": ""
             }
            },
            "type": "scatterternary"
           }
          ],
          "surface": [
           {
            "colorbar": {
             "outlinewidth": 0,
             "ticks": ""
            },
            "colorscale": [
             [
              0,
              "#0d0887"
             ],
             [
              0.1111111111111111,
              "#46039f"
             ],
             [
              0.2222222222222222,
              "#7201a8"
             ],
             [
              0.3333333333333333,
              "#9c179e"
             ],
             [
              0.4444444444444444,
              "#bd3786"
             ],
             [
              0.5555555555555556,
              "#d8576b"
             ],
             [
              0.6666666666666666,
              "#ed7953"
             ],
             [
              0.7777777777777778,
              "#fb9f3a"
             ],
             [
              0.8888888888888888,
              "#fdca26"
             ],
             [
              1,
              "#f0f921"
             ]
            ],
            "type": "surface"
           }
          ],
          "table": [
           {
            "cells": {
             "fill": {
              "color": "#EBF0F8"
             },
             "line": {
              "color": "white"
             }
            },
            "header": {
             "fill": {
              "color": "#C8D4E3"
             },
             "line": {
              "color": "white"
             }
            },
            "type": "table"
           }
          ]
         },
         "layout": {
          "annotationdefaults": {
           "arrowcolor": "#2a3f5f",
           "arrowhead": 0,
           "arrowwidth": 1
          },
          "autotypenumbers": "strict",
          "coloraxis": {
           "colorbar": {
            "outlinewidth": 0,
            "ticks": ""
           }
          },
          "colorscale": {
           "diverging": [
            [
             0,
             "#8e0152"
            ],
            [
             0.1,
             "#c51b7d"
            ],
            [
             0.2,
             "#de77ae"
            ],
            [
             0.3,
             "#f1b6da"
            ],
            [
             0.4,
             "#fde0ef"
            ],
            [
             0.5,
             "#f7f7f7"
            ],
            [
             0.6,
             "#e6f5d0"
            ],
            [
             0.7,
             "#b8e186"
            ],
            [
             0.8,
             "#7fbc41"
            ],
            [
             0.9,
             "#4d9221"
            ],
            [
             1,
             "#276419"
            ]
           ],
           "sequential": [
            [
             0,
             "#0d0887"
            ],
            [
             0.1111111111111111,
             "#46039f"
            ],
            [
             0.2222222222222222,
             "#7201a8"
            ],
            [
             0.3333333333333333,
             "#9c179e"
            ],
            [
             0.4444444444444444,
             "#bd3786"
            ],
            [
             0.5555555555555556,
             "#d8576b"
            ],
            [
             0.6666666666666666,
             "#ed7953"
            ],
            [
             0.7777777777777778,
             "#fb9f3a"
            ],
            [
             0.8888888888888888,
             "#fdca26"
            ],
            [
             1,
             "#f0f921"
            ]
           ],
           "sequentialminus": [
            [
             0,
             "#0d0887"
            ],
            [
             0.1111111111111111,
             "#46039f"
            ],
            [
             0.2222222222222222,
             "#7201a8"
            ],
            [
             0.3333333333333333,
             "#9c179e"
            ],
            [
             0.4444444444444444,
             "#bd3786"
            ],
            [
             0.5555555555555556,
             "#d8576b"
            ],
            [
             0.6666666666666666,
             "#ed7953"
            ],
            [
             0.7777777777777778,
             "#fb9f3a"
            ],
            [
             0.8888888888888888,
             "#fdca26"
            ],
            [
             1,
             "#f0f921"
            ]
           ]
          },
          "colorway": [
           "#636efa",
           "#EF553B",
           "#00cc96",
           "#ab63fa",
           "#FFA15A",
           "#19d3f3",
           "#FF6692",
           "#B6E880",
           "#FF97FF",
           "#FECB52"
          ],
          "font": {
           "color": "#2a3f5f"
          },
          "geo": {
           "bgcolor": "white",
           "lakecolor": "white",
           "landcolor": "#E5ECF6",
           "showlakes": true,
           "showland": true,
           "subunitcolor": "white"
          },
          "hoverlabel": {
           "align": "left"
          },
          "hovermode": "closest",
          "mapbox": {
           "style": "light"
          },
          "paper_bgcolor": "white",
          "plot_bgcolor": "#E5ECF6",
          "polar": {
           "angularaxis": {
            "gridcolor": "white",
            "linecolor": "white",
            "ticks": ""
           },
           "bgcolor": "#E5ECF6",
           "radialaxis": {
            "gridcolor": "white",
            "linecolor": "white",
            "ticks": ""
           }
          },
          "scene": {
           "xaxis": {
            "backgroundcolor": "#E5ECF6",
            "gridcolor": "white",
            "gridwidth": 2,
            "linecolor": "white",
            "showbackground": true,
            "ticks": "",
            "zerolinecolor": "white"
           },
           "yaxis": {
            "backgroundcolor": "#E5ECF6",
            "gridcolor": "white",
            "gridwidth": 2,
            "linecolor": "white",
            "showbackground": true,
            "ticks": "",
            "zerolinecolor": "white"
           },
           "zaxis": {
            "backgroundcolor": "#E5ECF6",
            "gridcolor": "white",
            "gridwidth": 2,
            "linecolor": "white",
            "showbackground": true,
            "ticks": "",
            "zerolinecolor": "white"
           }
          },
          "shapedefaults": {
           "line": {
            "color": "#2a3f5f"
           }
          },
          "ternary": {
           "aaxis": {
            "gridcolor": "white",
            "linecolor": "white",
            "ticks": ""
           },
           "baxis": {
            "gridcolor": "white",
            "linecolor": "white",
            "ticks": ""
           },
           "bgcolor": "#E5ECF6",
           "caxis": {
            "gridcolor": "white",
            "linecolor": "white",
            "ticks": ""
           }
          },
          "title": {
           "x": 0.05
          },
          "xaxis": {
           "automargin": true,
           "gridcolor": "white",
           "linecolor": "white",
           "ticks": "",
           "title": {
            "standoff": 15
           },
           "zerolinecolor": "white",
           "zerolinewidth": 2
          },
          "yaxis": {
           "automargin": true,
           "gridcolor": "white",
           "linecolor": "white",
           "ticks": "",
           "title": {
            "standoff": 15
           },
           "zerolinecolor": "white",
           "zerolinewidth": 2
          }
         }
        },
        "width": 1000,
        "xaxis": {
         "anchor": "y",
         "domain": [
          0,
          0.95
         ],
         "fixedrange": false,
         "mirror": false,
         "showgrid": false,
         "showline": false,
         "showticklabels": false,
         "type": "linear",
         "zeroline": false
        },
        "xaxis2": {
         "anchor": "y4",
         "domain": [
          0.000949050949050949,
          0.95
         ],
         "fixedrange": false,
         "mirror": false,
         "scaleanchor": "x5",
         "showgrid": false,
         "showline": false,
         "showticklabels": false,
         "type": "linear",
         "zeroline": false
        },
        "xaxis3": {
         "anchor": "y3",
         "domain": [
          0.75,
          1
         ]
        },
        "xaxis4": {
         "anchor": "y4",
         "domain": [
          0,
          0.000949050949050949
         ],
         "fixedrange": false,
         "mirror": false,
         "showgrid": false,
         "showline": false,
         "showticklabels": false,
         "type": "linear",
         "zeroline": false
        },
        "xaxis5": {
         "anchor": "y5",
         "domain": [
          0.000949050949050949,
          0.95
         ],
         "fixedrange": false,
         "mirror": false,
         "range": [
          0,
          200
         ],
         "showgrid": false,
         "showline": false,
         "showticklabels": false,
         "side": "bottom",
         "tickmode": "array",
         "ticks": "",
         "ticktext": [
          "Simon_task",
          "DiscountingTask",
          "PEG_-_Pencil_Tapping_task",
          "PVT_-_Psychomotor_Vigilance_task",
          "StopSignalTask",
          "Semantic_Fluency_test",
          "CategoryFluencyTask",
          "Span_Task",
          "Sorting_task",
          "ContiniousPerformanceTask",
          "NBackTask",
          "FlankerTask",
          "Go_NoGo",
          "TMT_-_Trail_Making_Task",
          "Digit_Span",
          "WCST_-_Wisconsin_Card_Sort_Test",
          "Stroop",
          "Verbal_fluency_task",
          "IGT_-_Iowa_Gambling_task",
          "TowerOfLondon"
         ],
         "tickvals": [
          5,
          15,
          25,
          35,
          45,
          55,
          65,
          75,
          85,
          95,
          105,
          115,
          125,
          135,
          145,
          155,
          165,
          175,
          185,
          195
         ],
         "type": "linear",
         "zeroline": false
        },
        "xaxis6": {
         "anchor": "y6",
         "domain": [
          0.95,
          1
         ],
         "fixedrange": false,
         "mirror": false,
         "range": [
          -5,
          1
         ],
         "showgrid": false,
         "showline": false,
         "showticklabels": false,
         "type": "linear",
         "zeroline": false
        },
        "xaxis7": {
         "anchor": "y7",
         "domain": [
          0,
          0.25
         ]
        },
        "xaxis8": {
         "anchor": "y8",
         "domain": [
          0.000949050949050949,
          0.95
         ],
         "fixedrange": false,
         "mirror": false,
         "range": [
          5,
          195
         ],
         "scaleanchor": "x5",
         "scaleratio": 1,
         "showgrid": false,
         "showline": false,
         "showticklabels": false,
         "type": "linear",
         "zeroline": false
        },
        "xaxis9": {
         "anchor": "y9",
         "domain": [
          0.75,
          1
         ]
        },
        "yaxis": {
         "anchor": "x",
         "domain": [
          0.999050949050949,
          1
         ],
         "fixedrange": false,
         "mirror": false,
         "showgrid": false,
         "showline": false,
         "showticklabels": false,
         "type": "linear",
         "zeroline": false
        },
        "yaxis2": {
         "anchor": "x2",
         "domain": [
          0.999050949050949,
          1
         ],
         "fixedrange": false,
         "mirror": false,
         "range": [
          0,
          0.1998447022326652
         ],
         "showgrid": false,
         "showline": false,
         "showticklabels": false,
         "type": "linear",
         "zeroline": false
        },
        "yaxis3": {
         "anchor": "x3",
         "domain": [
          0.75,
          1
         ]
        },
        "yaxis4": {
         "anchor": "x4",
         "domain": [
          0,
          0.999050949050949
         ],
         "fixedrange": false,
         "mirror": false,
         "range": [
          5,
          195
         ],
         "scaleanchor": "y5",
         "showgrid": false,
         "showline": false,
         "showticklabels": false,
         "type": "linear",
         "zeroline": false
        },
        "yaxis5": {
         "anchor": "x5",
         "domain": [
          0,
          0.999050949050949
         ],
         "fixedrange": false,
         "mirror": false,
         "showgrid": false,
         "showline": false,
         "showticklabels": true,
         "side": "right",
         "tickmode": "array",
         "ticktext": [
          "Simon_task",
          "DiscountingTask",
          "PEG_-_Pencil_Tapping_task",
          "PVT_-_Psychomotor_Vigilance_task",
          "StopSignalTask",
          "Semantic_Fluency_test",
          "CategoryFluencyTask",
          "Span_Task",
          "Sorting_task",
          "ContiniousPerformanceTask",
          "NBackTask",
          "FlankerTask",
          "Go_NoGo",
          "TMT_-_Trail_Making_Task",
          "Digit_Span",
          "WCST_-_Wisconsin_Card_Sort_Test",
          "Stroop",
          "Verbal_fluency_task",
          "IGT_-_Iowa_Gambling_task",
          "TowerOfLondon"
         ],
         "tickvals": [
          5,
          15,
          25,
          35,
          45,
          55,
          65,
          75,
          85,
          95,
          105,
          115,
          125,
          135,
          145,
          155,
          165,
          175,
          185,
          195
         ],
         "type": "linear",
         "zeroline": false
        },
        "yaxis6": {
         "anchor": "x6",
         "domain": [
          0,
          0.949050949050949
         ],
         "fixedrange": false,
         "mirror": false,
         "range": [
          5,
          195
         ],
         "scaleanchor": "y5",
         "scaleratio": 1,
         "showgrid": false,
         "showline": false,
         "showticklabels": false,
         "type": "linear",
         "zeroline": false
        },
        "yaxis7": {
         "anchor": "x7",
         "domain": [
          0,
          0.25
         ]
        },
        "yaxis8": {
         "anchor": "x8",
         "domain": [
          0.949050949050949,
          0.999050949050949
         ],
         "fixedrange": false,
         "mirror": false,
         "range": [
          -0.5,
          0.5
         ],
         "showgrid": false,
         "showline": false,
         "showticklabels": false,
         "type": "linear",
         "zeroline": false
        },
        "yaxis9": {
         "anchor": "x9",
         "domain": [
          0,
          0.25
         ]
        }
       }
      }
     },
     "metadata": {},
     "output_type": "display_data"
    }
   ],
   "source": [
    "# visualize the similarity between constructs pairs regardless of the underlying tasks\n",
    "\n",
    "# # drop tasks for visualization\n",
    "tasks = pubmed.query('category.str.contains(\"Task\")')['label'].unique()\n",
    "constructs = pubmed.query('category.str.contains(\"Construct\")')['label'].unique()\n",
    "\n",
    "n2n_sim = n2n_js.applymap(lambda x: np.exp(-x))\n",
    "\n",
    "plot_data = n2n_sim.drop(index=constructs, columns=constructs, errors='ignore')\n",
    "\n",
    "# # heatmap plot categorized by label category, either task or construct\n",
    "# g = sns.clustermap(labels_sim,\n",
    "#                    figsize=(25, 25),\n",
    "#                    dendrogram_ratio=0.0001, \n",
    "#                    cbar_pos=(1.0, 0.73, 0.03, 0.25),\n",
    "#                    robust=True)\n",
    "# plt.show()\n",
    "\n",
    "dashbio.Clustergram(\n",
    "  data=plot_data,\n",
    "  column_labels=plot_data.columns.to_list(),\n",
    "  row_labels=plot_data.index.to_list(),\n",
    "  cluster='all',\n",
    "  center_values=False,\n",
    "  height=800,\n",
    "  width=1000,\n",
    "  display_ratio=[0.001, 0.001],\n",
    "  color_map='RdBu_r',\n",
    "  hidden_labels=['col'],\n",
    "  row_dist='euclidean',\n",
    "  col_dist='euclidean',\n",
    "  # standardize='col'\n",
    ")\n"
   ]
  },
  {
   "cell_type": "markdown",
   "metadata": {},
   "source": [
    "## Graph"
   ]
  },
  {
   "cell_type": "code",
   "execution_count": 13,
   "metadata": {},
   "outputs": [
    {
     "name": "stdout",
     "output_type": "stream",
     "text": [
      "StellarGraph: Undirected multigraph\n",
      " Nodes: 156, Edges: 1464\n",
      "\n",
      " Node types:\n",
      "  task: [85]\n",
      "    Features: float64 vector, length 1\n",
      "    Edge types: task-default->construct, task-default->task\n",
      "  construct: [71]\n",
      "    Features: float64 vector, length 1\n",
      "    Edge types: construct-default->construct, construct-default->task\n",
      "\n",
      " Edge types:\n",
      "    construct-default->task: [774]\n",
      "        Weights: range=[0.91002, 0.953902], mean=0.933167, std=0.00979739\n",
      "        Features: none\n",
      "    construct-default->construct: [380]\n",
      "        Weights: range=[0.912328, 0.954768], mean=0.942605, std=0.00720964\n",
      "        Features: none\n",
      "    task-default->task: [310]\n",
      "        Weights: range=[0.910201, 0.949784], mean=0.926574, std=0.00991365\n",
      "        Features: none\n"
     ]
    }
   ],
   "source": [
    "node_avg_embeddings = node_features.apply(lambda x: x.mean(axis=0))\n",
    "\n",
    "sim = n2n_js.applymap(lambda x: np.exp(-x))\n",
    "sim.index.name = 'source'\n",
    "sim.columns.name = 'target'\n",
    "sim = sim.reset_index().melt(id_vars=['source'], value_vars=sim.columns, value_name='weight')\n",
    "\n",
    "adj = sim\n",
    "\n",
    "# arbitrary threshold to keep Simon connected in the graph\n",
    "adj = sim.query('target != source').query('weight >= .91').copy()\n",
    "\n",
    "task_features = sg.IndexedArray(np.empty(tasks.shape).reshape(-1,1), index=tasks)\n",
    "construct_features = sg.IndexedArray(np.empty(constructs.shape).reshape(-1,1), index=constructs)\n",
    "\n",
    "G = sg.StellarGraph(\n",
    "  nodes = {'task': task_features,\n",
    "           'construct': construct_features\n",
    "  },\n",
    "  edges=adj)\n",
    "print(G.info())"
   ]
  },
  {
   "cell_type": "code",
   "execution_count": 14,
   "metadata": {},
   "outputs": [
    {
     "name": "stdout",
     "output_type": "stream",
     "text": [
      "[MetaPath2Vec] Created 1560 random walks.\n",
      "[MetaPath2Vec] Now training the Word2Vec model...\n",
      "[MetaPath2Vec] Done! Model saved to `models/gpt3/abstracts_metapath2vec.pkl`.\n"
     ]
    }
   ],
   "source": [
    "# metapath2vec\n",
    "\n",
    "from gensim.models import Word2Vec\n",
    "\n",
    "# metapath schemas as a list of lists of node types.\n",
    "metapaths = [\n",
    "    ['task', 'construct', 'task'],\n",
    "    ['construct', 'task', 'construct'],\n",
    "    # ['construct', 'task', 'task', 'construct'],\n",
    "    # ['task', 'construct', 'task', 'construct', 'task'],\n",
    "    # ['task', 'construct', 'construct', 'task'],\n",
    "]\n",
    "\n",
    "walks = UniformRandomMetaPathWalk(G).run(\n",
    "    nodes=list(G.nodes()),  # root nodes\n",
    "    length=3,  # maximum length of a random walk\n",
    "    n=10,  # number of random walks per root node\n",
    "    metapaths=metapaths,  # the metapaths\n",
    ")\n",
    "print(f'[MetaPath2Vec] Created {len(walks)} random walks.')\n",
    "# DEBUG: print('Random walks starting from the \"RewardProcessing\" node:',\n",
    "# DEBUG:      [' -> '.join(w) for w in walks if w[0] == 'RewardProcessing'])\n",
    "\n",
    "print('[MetaPath2Vec] Now training the Word2Vec model...', sep=' ')\n",
    "model = Word2Vec(walks, vector_size=128, min_count=0, window=3, sg=1, workers=1, epochs=1000)\n",
    "model.save('models/gpt3/abstracts_metapath2vec.pkl')\n",
    "\n",
    "print('[MetaPath2Vec] Done! Model saved to `models/gpt3/abstracts_metapath2vec.pkl`.')"
   ]
  },
  {
   "cell_type": "code",
   "execution_count": 21,
   "metadata": {},
   "outputs": [
    {
     "data": {
      "text/plain": [
       "[('FlankerTask', 0.6479361653327942),\n",
       " ('StopSignalTask', 0.636583149433136),\n",
       " ('TowerOfLondon', 0.6256452798843384),\n",
       " ('Fluency', 0.612270712852478),\n",
       " ('InhibitoryControl', 0.601482093334198),\n",
       " ('Inhibition', 0.5987109541893005),\n",
       " ('Attention', 0.5787180662155151),\n",
       " ('DiscountingTask', 0.5702905654907227),\n",
       " ('Span_Task', 0.5652682781219482),\n",
       " ('Verbal_fluency_task', 0.5599583983421326),\n",
       " ('EpisodicMemory', 0.5560160875320435),\n",
       " ('ExecutiveFunction', 0.5529468655586243),\n",
       " ('ProcessingSpeed', 0.5521318316459656),\n",
       " ('WorkingMemory', 0.5419722199440002),\n",
       " ('PVT_-_Psychomotor_Vigilance_task', 0.5362783074378967),\n",
       " ('Sorting_task', 0.5287689566612244),\n",
       " ('ContiniousPerformanceTask', 0.5238953828811646),\n",
       " ('Semantic_Fluency_test', 0.5211595892906189),\n",
       " ('Go_NoGo', 0.5187562704086304),\n",
       " ('PEG_-_Pencil_Tapping_task', 0.5165704488754272)]"
      ]
     },
     "execution_count": 21,
     "metadata": {},
     "output_type": "execute_result"
    }
   ],
   "source": [
    "# query the joint graph\n",
    "\n",
    "from gensim.models import Word2Vec\n",
    "model = Word2Vec.load('models/gpt3/abstracts_metapath2vec.pkl')\n",
    "\n",
    "#  visual-spatial and organizational processing abilities, as well as nonverbal problem-solving skills. \n",
    " \n",
    "# FIXME: there is a typo in \"CogntiveControl\"; it comes from a type in the original lexicon.\n",
    "model.wv.most_similar(\n",
    "  positive=['Simon_task'],\n",
    "  # negative=['Sorting_task','Go_NoGo'],\n",
    "  topn=20)\n",
    "\n",
    "# TODO filter by category\n"
   ]
  },
  {
   "cell_type": "code",
   "execution_count": 22,
   "metadata": {},
   "outputs": [],
   "source": [
    "# Plot all tasks and constructs in a lower dimensional 3d space\n",
    "\n",
    "import plotly.express as px\n",
    "\n",
    "# projections = PCA(n_components=2, random_state=0).fit_transform(label_embeddings)\n",
    "projections_3d = UMAP(n_components=3, random_state=0).fit_transform(node_avg_embeddings)\n",
    "projections_2d = UMAP(n_components=2, random_state=0).fit_transform(node_avg_embeddings)\n",
    "\n",
    "projections_3d = pd.DataFrame(projections_3d, index=node_avg_embeddings.index).reset_index()\n",
    "projections_2d = pd.DataFrame(projections_2d, index=node_avg_embeddings.index).reset_index()\n",
    "\n",
    "fig = px.scatter_3d(projections_3d,\n",
    "                    x=0, y=1, z=2,\n",
    "                    color='category', hover_name='label',\n",
    "                    title='Popular labels in the topic space',\n",
    "                    color_discrete_sequence=['red','blue'],\n",
    "                    width=600, height=600,)\n",
    "fig.show()\n",
    "\n",
    "\n",
    "fig, ax = plt.subplots(1,1, figsize=(15,15))\n",
    "sns.scatterplot(data=projections_2d, x=0, y=1, ax=ax, s=50, hue='category')\n",
    "\n",
    "for (i,lbl, _,x, y) in projections_2d.itertuples():\n",
    "  lbl = f'{lbl[:12]}...' if len(lbl)>10 else lbl\n",
    "  ax.text(x+0.01, y-np.random.random()*.02, f'{lbl}', alpha=0.5, fontsize=12)\n",
    "\n",
    "ax.set(xlabel='UMAP 1', ylabel='UMAP 2')\n",
    "plt.suptitle('2D projection of the topic embeddings',y=.9)\n",
    "plt.show()"
   ]
  },
  {
   "cell_type": "code",
   "execution_count": 15,
   "metadata": {},
   "outputs": [
    {
     "name": "stdout",
     "output_type": "stream",
     "text": [
      "Last updated: 2022-01-21T16:09:50.086463+01:00\n",
      "\n",
      "Python implementation: CPython\n",
      "Python version       : 3.9.9\n",
      "IPython version      : 8.0.0\n",
      "\n",
      "Compiler    : Clang 11.1.0 \n",
      "OS          : Darwin\n",
      "Release     : 21.2.0\n",
      "Machine     : x86_64\n",
      "Processor   : i386\n",
      "CPU cores   : 12\n",
      "Architecture: 64bit\n",
      "\n",
      "umap          : 0.5.2\n",
      "pytorch       : not installed\n",
      "scikit-learn  : 0.0\n",
      "python.cogtext: 0.1.2022012116\n",
      "\n",
      "plotly      : 5.3.1\n",
      "seaborn     : 0.11.2\n",
      "pandas      : 1.3.4\n",
      "dash_bio    : 0.8.0\n",
      "numpy       : 1.20.3\n",
      "sys         : 3.9.9 | packaged by conda-forge | (main, Dec 20 2021, 02:38:53) \n",
      "[Clang 11.1.0 ]\n",
      "matplotlib  : 3.4.3\n",
      "stellargraph: 1.2.1\n",
      "\n"
     ]
    }
   ],
   "source": [
    "%reload_ext watermark\n",
    "%watermark\n",
    "%watermark -iv -p umap,pytorch,scikit-learn,python.cogtext"
   ]
  }
 ],
 "metadata": {
  "interpreter": {
   "hash": "4d4c55ad0dd25f9ca95e4d49a929aa3f71bfb37020ae570a9996c3e164818202"
  },
  "kernelspec": {
   "display_name": "Python 3.9.7 64-bit ('py3': conda)",
   "name": "python3"
  },
  "language_info": {
   "codemirror_mode": {
    "name": "ipython",
    "version": 3
   },
   "file_extension": ".py",
   "mimetype": "text/x-python",
   "name": "python",
   "nbconvert_exporter": "python",
   "pygments_lexer": "ipython3",
   "version": "3.10.4"
  },
  "orig_nbformat": 4
 },
 "nbformat": 4,
 "nbformat_minor": 2
}
