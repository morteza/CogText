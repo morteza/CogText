{
 "metadata": {
  "language_info": {
   "codemirror_mode": {
    "name": "ipython",
    "version": 3
   },
   "file_extension": ".py",
   "mimetype": "text/x-python",
   "name": "python",
   "nbconvert_exporter": "python",
   "pygments_lexer": "ipython3",
   "version": "3.9.4"
  },
  "orig_nbformat": 2,
  "kernelspec": {
   "name": "python394jvsc74a57bd05ddcf14c786c671500c086f61f0b66d0417d6c58ff12753e346e191a84f72b84",
   "display_name": "Python 3.9.4 64-bit ('py3': conda)"
  }
 },
 "nbformat": 4,
 "nbformat_minor": 2,
 "cells": [
  {
   "source": [
    "# Annotating cognitive tasks corpus\n",
    "\n",
    "This notebooks provides a graphical interface to annotate PubMed articles and mark each article as relevant or irrelated to the provided context.\n",
    "\n",
    "Feel free to run all the cells up to the last one which saves the annotated outputs into the `data/pubmed/tests_annotated.csv` file."
   ],
   "cell_type": "markdown",
   "metadata": {}
  },
  {
   "source": [
    "## Setup"
   ],
   "cell_type": "markdown",
   "metadata": {}
  },
  {
   "cell_type": "code",
   "execution_count": null,
   "metadata": {},
   "outputs": [],
   "source": [
    "from pigeon import annotate\n",
    "import pandas as pd\n",
    "from pathlib import Path\n",
    "from tqdm import tqdm\n",
    "from IPython.display import display"
   ]
  },
  {
   "source": [
    "## Load corpus\n",
    "\n",
    "The following loads all the CSV files from the `data/pubmed/tests/` directory and prepares them to be annotated."
   ],
   "cell_type": "markdown",
   "metadata": {}
  },
  {
   "cell_type": "code",
   "execution_count": null,
   "metadata": {},
   "outputs": [],
   "source": [
    "\n",
    "if not Path('data/pubmed/tests_annotated.csv').exists():\n",
    "    csv_files = Path('data/pubmed').glob('tests/*.csv')\n",
    "\n",
    "    corpora = []\n",
    "    for csv_file in tqdm(csv_files, desc='Reading CSV files'):\n",
    "        df = pd.read_csv(csv_file)\n",
    "        df['corpus_name'] = csv_file.stem\n",
    "        corpora.append(df)\n",
    "\n",
    "    df = pd.concat(corpora, axis=0)\n",
    "    df['abstract'].fillna(df['title'], inplace=True)\n",
    "    df['is_relevant'] = None\n",
    "    df.to_csv('data/pubmed/tests_annotated.csv', index=False)"
   ]
  },
  {
   "source": [
    "##  Annonate PubMed corpus\n",
    "\n",
    "For each article, you will be asked to annotate them as `relevant` or `irrelevant`. You need to make sure of the following constraints for each question:\n",
    "\n",
    "- `journal_title` refers to a cogntive science journal.\n",
    "- `title` and `abstract` are in theory and practice related to the context that is provided in the `corpus_name`.\n",
    "- and all the other features make sense.\n",
    "\n",
    "You will have three choices: relevant, irrelevant, and skip.\n",
    "\n",
    "When you are done with annotating, just run the next cell to store your work. Don't worry; next time you run this annotating process, you will only see those articles that are not previously annotated."
   ],
   "cell_type": "markdown",
   "metadata": {}
  },
  {
   "cell_type": "code",
   "execution_count": null,
   "metadata": {},
   "outputs": [],
   "source": [
    "pd.set_option('display.max_colwidth', None)\n",
    "\n",
    "df = pd.read_csv('data/pubmed/tests_annotated.csv')\n",
    "annotations = annotate(\n",
    "  df.query('is_relevant.isna()').index,\n",
    "  options=['relevant','irrelevant'],\n",
    "  shuffle=True,\n",
    "  display_fn=lambda x: display(df.iloc[x:x+1].T)\n",
    ")"
   ]
  },
  {
   "source": [
    "## Store the newly annonated articles\n",
    "\n",
    "**do NOT run this cell except when you're done annotating and want to save the results.**"
   ],
   "cell_type": "markdown",
   "metadata": {}
  },
  {
   "cell_type": "code",
   "execution_count": null,
   "metadata": {},
   "outputs": [],
   "source": [
    "annotations_dict = {a[0]: (a[1]=='relevant') for a in annotations}\n",
    "df.loc[list(annotations_dict.keys()), 'is_relevant'] = list(annotations_dict.values())\n",
    "df.to_csv('data/pubmed/tests_annotated.csv', index=False)"
   ]
  }
 ]
}