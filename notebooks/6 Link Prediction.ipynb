{
 "cells": [
  {
   "cell_type": "markdown",
   "metadata": {},
   "source": [
    "# Link Prediction\n",
    "\n",
    "We've created a graph with nodes labeled by the lexicon terms and corresponding document embeddings kept on node features.\n",
    "\n",
    "We now want to predict existence of the edges using the similarity of the node features, i.e., embeddings. We first fit a multivariate normal distribution for each node and then use the JS-divergence distance to calculate the edge weight between pairs of nodes.\n",
    "\n",
    "Here is the steps we take:\n",
    "\n",
    "- Create a graph and load the GPT-3 topic-embeddings on the nodes.\n",
    "- Fit multivariate normal distributions for each node features (parameters are loc and diagonal_scale).\n",
    "- Calculate the distance matrix using JS-divergence of the node features.\n",
    "- Updated the graph with the distance matrix as the edge weights.\n",
    "\n",
    "## Input\n",
    "\n",
    "- `models/gpt3/abstracts_gpt3ada.nc`: GPT-3 embeddings in the topic-space.\n",
    "\n",
    "## Output\n",
    "\n",
    "- `models/gpt3/abstracts_metapath2vec.pkl`: a pickle file containing the trained metapath2vec model.\n",
    "\n",
    "## Requirements\n",
    "\n",
    "```\n",
    "mamba install dash-bio\n",
    "mamba install tensorflow-probability\n",
    "mamba install wmetapath2vec\n",
    "```"
   ]
  },
  {
   "cell_type": "code",
   "execution_count": 240,
   "metadata": {
    "notebookRunGroups": {
     "groupValue": "1"
    }
   },
   "outputs": [],
   "source": [
    "%reload_ext autoreload\n",
    "%autoreload 2\n",
    "\n",
    "import pandas as pd\n",
    "import numpy as np\n",
    "from umap import UMAP\n",
    "import matplotlib.pyplot as plt\n",
    "import seaborn as sns; sns.set_theme()  # noqa\n",
    "import dash_bio\n",
    "from sklearn.preprocessing import normalize\n",
    "import xarray as xr\n",
    "\n",
    "from tqdm.auto import tqdm\n",
    "\n",
    "import scipy\n",
    "import numpy as np\n",
    "\n",
    "from python.cogtext.datasets.pubmed import PubMedDataLoader\n"
   ]
  },
  {
   "cell_type": "markdown",
   "metadata": {},
   "source": [
    "First, we load and prepare the PubMed documents along with their topic embeddings."
   ]
  },
  {
   "cell_type": "code",
   "execution_count": 241,
   "metadata": {
    "notebookRunGroups": {
     "groupValue": "1"
    }
   },
   "outputs": [
    {
     "name": "stdout",
     "output_type": "stream",
     "text": [
      "Successfully create a dataset of 300251 topic-embeddings.\n"
     ]
    }
   ],
   "source": [
    "# load weights, clusters and metadata (takes ~ 20sec)\n",
    "\n",
    "PUBMED = PubMedDataLoader(\n",
    "    preprocessed=False,\n",
    "    drop_low_occurred_labels=False,\n",
    "    usecols=['pmid','subcategory','category']).load()\n",
    "\n",
    "EMBEDDINGS = xr.open_dataset('models/gpt3/abstracts_gpt3ada.nc')\n",
    "\n",
    "doc_topic_embeddings = EMBEDDINGS.coords['pmid'].to_dataframe().reset_index(drop=True)\n",
    "doc_topic_embeddings['topic_embedding'] = list(EMBEDDINGS['topic_weights'].values)\n",
    "doc_topic_embeddings['topic'] = list(EMBEDDINGS['topics'].values)\n",
    "\n",
    "PUBMED = PUBMED.merge(doc_topic_embeddings, on='pmid', how='left')\n",
    "PUBMED.dropna(subset=['topic_embedding'], inplace=True)\n",
    "PUBMED = PUBMED.query('topic != -1')\n",
    "\n",
    "print(f'Successfully create a dataset of {len(PUBMED)} topic-embeddings.')"
   ]
  },
  {
   "cell_type": "code",
   "execution_count": 242,
   "metadata": {
    "notebookRunGroups": {
     "groupValue": "1"
    }
   },
   "outputs": [
    {
     "name": "stdout",
     "output_type": "stream",
     "text": [
      "Removed 2 labels with only one article: ['Incompatibility_test', 'SpinThePots']\n"
     ]
    }
   ],
   "source": [
    "# discard low-appeared labels (n_articles < 2)\n",
    "\n",
    "docs_per_label = PUBMED.groupby('label').size()\n",
    "low_appeared_labels = docs_per_label[docs_per_label < 2].index.to_list()\n",
    "\n",
    "PUBMED = PUBMED.query('label not in @low_appeared_labels')\n",
    "\n",
    "print(f'Removed {len(low_appeared_labels)} labels '\n",
    "      f'with only one article: {low_appeared_labels}')"
   ]
  },
  {
   "cell_type": "markdown",
   "metadata": {},
   "source": [
    "## Node-node distance\n",
    "\n",
    "Here, we calculate the similarity between nodes using the node features. We use\n",
    "JS-divergence of the node features a measure of distance between the two."
   ]
  },
  {
   "cell_type": "code",
   "execution_count": 243,
   "metadata": {
    "notebookRunGroups": {
     "groupValue": "2"
    }
   },
   "outputs": [
    {
     "data": {
      "application/vnd.jupyter.widget-view+json": {
       "model_id": "5f5b1eb9af8d43768ba92617008e3e05",
       "version_major": 2,
       "version_minor": 0
      },
      "text/plain": [
       "  0%|          | 0/40 [00:00<?, ?it/s]"
      ]
     },
     "metadata": {},
     "output_type": "display_data"
    },
    {
     "name": "stdout",
     "output_type": "stream",
     "text": [
      "Popular labels: Attention Planning WorkingMemory Initiation Sequencing ExecutiveFunction Inhibition Reasoning Fluency ProcessingSpeed EpisodicMemory ProblemSolving LongTermMemory Stroop Shifting CogntiveControl InhibitoryControl ShortTermMemory Mindfulness Verbal_fluency_task SelfRegulation SelectiveAttention TMT_-_Trail_Making_Task Digit_Span WCST_-_Wisconsin_Card_Sort_Test Go_NoGo NBackTask FlankerTask StopSignalTask IGT_-_Iowa_Gambling_task PVT_-_Psychomotor_Vigilance_task ContiniousPerformanceTask Span_Task CategoryFluencyTask PEG_-_Pencil_Tapping_task Simon_task Semantic_Fluency_test TowerOfLondon DiscountingTask Sorting_task\n"
     ]
    }
   ],
   "source": [
    "n_skip = 20\n",
    "n_top_labels_per_category = 20\n",
    "\n",
    "tqdm.pandas()\n",
    "\n",
    "popular_labels = (PUBMED.groupby(['category','label'])['pmid']\n",
    "                        .count().sort_values(ascending=False)\n",
    "                        .groupby('category').head(n_top_labels_per_category)\n",
    "                        .index.get_level_values('label').to_list())\n",
    "popular_pubmed = PUBMED.query('label in @popular_labels')\n",
    "\n",
    "node_features = popular_pubmed.groupby('label')['topic_embedding'].progress_apply(np.vstack)\n",
    "node_features = node_features.to_dict()\n",
    "\n",
    "print('Popular labels:', *popular_labels)\n"
   ]
  },
  {
   "cell_type": "code",
   "execution_count": 349,
   "metadata": {
    "notebookRunGroups": {
     "groupValue": "2"
    }
   },
   "outputs": [
    {
     "data": {
      "application/vnd.jupyter.widget-view+json": {
       "model_id": "27328f6b3d7341c88f38d07d8655c0d6",
       "version_major": 2,
       "version_minor": 0
      },
      "text/plain": [
       "  0%|          | 0/40 [00:00<?, ?node/s]"
      ]
     },
     "metadata": {},
     "output_type": "display_data"
    },
    {
     "data": {
      "application/vnd.jupyter.widget-view+json": {
       "model_id": "f974605f9cb549479162071970e55b39",
       "version_major": 2,
       "version_minor": 0
      },
      "text/plain": [
       "  0%|          | 0/473 [00:00<?, ?topic/s]"
      ]
     },
     "metadata": {},
     "output_type": "display_data"
    },
    {
     "data": {
      "application/vnd.jupyter.widget-view+json": {
       "model_id": "da524acbda1740159b1623461ebd2b42",
       "version_major": 2,
       "version_minor": 0
      },
      "text/plain": [
       "  0%|          | 0/473 [00:00<?, ?topic/s]"
      ]
     },
     "metadata": {},
     "output_type": "display_data"
    },
    {
     "data": {
      "application/vnd.jupyter.widget-view+json": {
       "model_id": "2e60a037667e482bbc6415a8c3822da2",
       "version_major": 2,
       "version_minor": 0
      },
      "text/plain": [
       "  0%|          | 0/473 [00:00<?, ?topic/s]"
      ]
     },
     "metadata": {},
     "output_type": "display_data"
    },
    {
     "data": {
      "application/vnd.jupyter.widget-view+json": {
       "model_id": "b9ee6b3f00b140c88a159d11ece1648f",
       "version_major": 2,
       "version_minor": 0
      },
      "text/plain": [
       "  0%|          | 0/473 [00:00<?, ?topic/s]"
      ]
     },
     "metadata": {},
     "output_type": "display_data"
    },
    {
     "data": {
      "application/vnd.jupyter.widget-view+json": {
       "model_id": "ea3fd419c9634210a1401f9af281dafe",
       "version_major": 2,
       "version_minor": 0
      },
      "text/plain": [
       "  0%|          | 0/473 [00:00<?, ?topic/s]"
      ]
     },
     "metadata": {},
     "output_type": "display_data"
    },
    {
     "data": {
      "application/vnd.jupyter.widget-view+json": {
       "model_id": "3ca1eb09ecae4b1dbc91d06277c141e4",
       "version_major": 2,
       "version_minor": 0
      },
      "text/plain": [
       "  0%|          | 0/473 [00:00<?, ?topic/s]"
      ]
     },
     "metadata": {},
     "output_type": "display_data"
    },
    {
     "data": {
      "application/vnd.jupyter.widget-view+json": {
       "model_id": "175088d48ec348d1ac4d4a0f01644287",
       "version_major": 2,
       "version_minor": 0
      },
      "text/plain": [
       "  0%|          | 0/473 [00:00<?, ?topic/s]"
      ]
     },
     "metadata": {},
     "output_type": "display_data"
    },
    {
     "data": {
      "application/vnd.jupyter.widget-view+json": {
       "model_id": "47b33a9ac79948a1b2d46bcd7a25e8dc",
       "version_major": 2,
       "version_minor": 0
      },
      "text/plain": [
       "  0%|          | 0/473 [00:00<?, ?topic/s]"
      ]
     },
     "metadata": {},
     "output_type": "display_data"
    },
    {
     "data": {
      "application/vnd.jupyter.widget-view+json": {
       "model_id": "e21aea64b8f44cef90542238d4084f79",
       "version_major": 2,
       "version_minor": 0
      },
      "text/plain": [
       "  0%|          | 0/473 [00:00<?, ?topic/s]"
      ]
     },
     "metadata": {},
     "output_type": "display_data"
    },
    {
     "data": {
      "application/vnd.jupyter.widget-view+json": {
       "model_id": "99718be3cc244da5b78ca1bdd299e3d4",
       "version_major": 2,
       "version_minor": 0
      },
      "text/plain": [
       "  0%|          | 0/473 [00:00<?, ?topic/s]"
      ]
     },
     "metadata": {},
     "output_type": "display_data"
    },
    {
     "data": {
      "application/vnd.jupyter.widget-view+json": {
       "model_id": "236577161edb44cc847359defcda993f",
       "version_major": 2,
       "version_minor": 0
      },
      "text/plain": [
       "  0%|          | 0/473 [00:00<?, ?topic/s]"
      ]
     },
     "metadata": {},
     "output_type": "display_data"
    },
    {
     "data": {
      "application/vnd.jupyter.widget-view+json": {
       "model_id": "8e587f0f21bc4b86bac4ad2d782c23e1",
       "version_major": 2,
       "version_minor": 0
      },
      "text/plain": [
       "  0%|          | 0/473 [00:00<?, ?topic/s]"
      ]
     },
     "metadata": {},
     "output_type": "display_data"
    },
    {
     "data": {
      "application/vnd.jupyter.widget-view+json": {
       "model_id": "89aa119d92da4c43b28224b63b65803d",
       "version_major": 2,
       "version_minor": 0
      },
      "text/plain": [
       "  0%|          | 0/473 [00:00<?, ?topic/s]"
      ]
     },
     "metadata": {},
     "output_type": "display_data"
    },
    {
     "data": {
      "application/vnd.jupyter.widget-view+json": {
       "model_id": "973a6eb3d94e4fbfacce68a4cd358489",
       "version_major": 2,
       "version_minor": 0
      },
      "text/plain": [
       "  0%|          | 0/473 [00:00<?, ?topic/s]"
      ]
     },
     "metadata": {},
     "output_type": "display_data"
    },
    {
     "data": {
      "application/vnd.jupyter.widget-view+json": {
       "model_id": "5bef6802c0064b0eb138ac68bfcac03e",
       "version_major": 2,
       "version_minor": 0
      },
      "text/plain": [
       "  0%|          | 0/473 [00:00<?, ?topic/s]"
      ]
     },
     "metadata": {},
     "output_type": "display_data"
    },
    {
     "data": {
      "application/vnd.jupyter.widget-view+json": {
       "model_id": "2f9bfea465814f8c8278777f3cac3154",
       "version_major": 2,
       "version_minor": 0
      },
      "text/plain": [
       "  0%|          | 0/473 [00:00<?, ?topic/s]"
      ]
     },
     "metadata": {},
     "output_type": "display_data"
    },
    {
     "data": {
      "application/vnd.jupyter.widget-view+json": {
       "model_id": "4f9bdd7d2d2444c88e8691cb8d072369",
       "version_major": 2,
       "version_minor": 0
      },
      "text/plain": [
       "  0%|          | 0/473 [00:00<?, ?topic/s]"
      ]
     },
     "metadata": {},
     "output_type": "display_data"
    },
    {
     "data": {
      "application/vnd.jupyter.widget-view+json": {
       "model_id": "e2ab65d950074734b7b24a670ae95761",
       "version_major": 2,
       "version_minor": 0
      },
      "text/plain": [
       "  0%|          | 0/473 [00:00<?, ?topic/s]"
      ]
     },
     "metadata": {},
     "output_type": "display_data"
    },
    {
     "data": {
      "application/vnd.jupyter.widget-view+json": {
       "model_id": "e4dae65674a347cc83059115191fa2ff",
       "version_major": 2,
       "version_minor": 0
      },
      "text/plain": [
       "  0%|          | 0/473 [00:00<?, ?topic/s]"
      ]
     },
     "metadata": {},
     "output_type": "display_data"
    },
    {
     "data": {
      "application/vnd.jupyter.widget-view+json": {
       "model_id": "5b7fe4555bbe495bbe88ac6189876f77",
       "version_major": 2,
       "version_minor": 0
      },
      "text/plain": [
       "  0%|          | 0/473 [00:00<?, ?topic/s]"
      ]
     },
     "metadata": {},
     "output_type": "display_data"
    },
    {
     "data": {
      "application/vnd.jupyter.widget-view+json": {
       "model_id": "89362129bc1944998372799269e0edf4",
       "version_major": 2,
       "version_minor": 0
      },
      "text/plain": [
       "  0%|          | 0/473 [00:00<?, ?topic/s]"
      ]
     },
     "metadata": {},
     "output_type": "display_data"
    },
    {
     "data": {
      "application/vnd.jupyter.widget-view+json": {
       "model_id": "f7ee35a7e3934c11b7ced2b8e35fd766",
       "version_major": 2,
       "version_minor": 0
      },
      "text/plain": [
       "  0%|          | 0/473 [00:00<?, ?topic/s]"
      ]
     },
     "metadata": {},
     "output_type": "display_data"
    },
    {
     "data": {
      "application/vnd.jupyter.widget-view+json": {
       "model_id": "d30175bbd8584fa69cf686618d299718",
       "version_major": 2,
       "version_minor": 0
      },
      "text/plain": [
       "  0%|          | 0/473 [00:00<?, ?topic/s]"
      ]
     },
     "metadata": {},
     "output_type": "display_data"
    },
    {
     "data": {
      "application/vnd.jupyter.widget-view+json": {
       "model_id": "36f7ff6360284a7da682b096ce8c9dfd",
       "version_major": 2,
       "version_minor": 0
      },
      "text/plain": [
       "  0%|          | 0/473 [00:00<?, ?topic/s]"
      ]
     },
     "metadata": {},
     "output_type": "display_data"
    },
    {
     "data": {
      "application/vnd.jupyter.widget-view+json": {
       "model_id": "ef94b61df2c94948baea0d60fa108fe8",
       "version_major": 2,
       "version_minor": 0
      },
      "text/plain": [
       "  0%|          | 0/473 [00:00<?, ?topic/s]"
      ]
     },
     "metadata": {},
     "output_type": "display_data"
    },
    {
     "data": {
      "application/vnd.jupyter.widget-view+json": {
       "model_id": "1a51a4d8c2ab45ad93668116cf18b71c",
       "version_major": 2,
       "version_minor": 0
      },
      "text/plain": [
       "  0%|          | 0/473 [00:00<?, ?topic/s]"
      ]
     },
     "metadata": {},
     "output_type": "display_data"
    },
    {
     "data": {
      "application/vnd.jupyter.widget-view+json": {
       "model_id": "725c154fa91b47a98272019656bba16c",
       "version_major": 2,
       "version_minor": 0
      },
      "text/plain": [
       "  0%|          | 0/473 [00:00<?, ?topic/s]"
      ]
     },
     "metadata": {},
     "output_type": "display_data"
    },
    {
     "data": {
      "application/vnd.jupyter.widget-view+json": {
       "model_id": "839419115aeb4a38b1c35cf0cbfd6dd2",
       "version_major": 2,
       "version_minor": 0
      },
      "text/plain": [
       "  0%|          | 0/473 [00:00<?, ?topic/s]"
      ]
     },
     "metadata": {},
     "output_type": "display_data"
    },
    {
     "data": {
      "application/vnd.jupyter.widget-view+json": {
       "model_id": "0df276c5c0d0415e8ffa5b92deae91ce",
       "version_major": 2,
       "version_minor": 0
      },
      "text/plain": [
       "  0%|          | 0/473 [00:00<?, ?topic/s]"
      ]
     },
     "metadata": {},
     "output_type": "display_data"
    },
    {
     "data": {
      "application/vnd.jupyter.widget-view+json": {
       "model_id": "aee2dceb67764d71a9376df4cacb3b2e",
       "version_major": 2,
       "version_minor": 0
      },
      "text/plain": [
       "  0%|          | 0/473 [00:00<?, ?topic/s]"
      ]
     },
     "metadata": {},
     "output_type": "display_data"
    },
    {
     "data": {
      "application/vnd.jupyter.widget-view+json": {
       "model_id": "aaadf6de932d4b1c9d14824a6a9922e8",
       "version_major": 2,
       "version_minor": 0
      },
      "text/plain": [
       "  0%|          | 0/473 [00:00<?, ?topic/s]"
      ]
     },
     "metadata": {},
     "output_type": "display_data"
    },
    {
     "data": {
      "application/vnd.jupyter.widget-view+json": {
       "model_id": "7c2feafa4ed0421eb00623db95e3e9a7",
       "version_major": 2,
       "version_minor": 0
      },
      "text/plain": [
       "  0%|          | 0/473 [00:00<?, ?topic/s]"
      ]
     },
     "metadata": {},
     "output_type": "display_data"
    },
    {
     "data": {
      "application/vnd.jupyter.widget-view+json": {
       "model_id": "a929faf0f59f436aa1d57dc6ff383ae1",
       "version_major": 2,
       "version_minor": 0
      },
      "text/plain": [
       "  0%|          | 0/473 [00:00<?, ?topic/s]"
      ]
     },
     "metadata": {},
     "output_type": "display_data"
    },
    {
     "data": {
      "application/vnd.jupyter.widget-view+json": {
       "model_id": "60c5cdac85154f3296b20b6c0761799c",
       "version_major": 2,
       "version_minor": 0
      },
      "text/plain": [
       "  0%|          | 0/473 [00:00<?, ?topic/s]"
      ]
     },
     "metadata": {},
     "output_type": "display_data"
    },
    {
     "data": {
      "application/vnd.jupyter.widget-view+json": {
       "model_id": "9d07f6fd18034eff870c1c17b2153ce8",
       "version_major": 2,
       "version_minor": 0
      },
      "text/plain": [
       "  0%|          | 0/473 [00:00<?, ?topic/s]"
      ]
     },
     "metadata": {},
     "output_type": "display_data"
    },
    {
     "data": {
      "application/vnd.jupyter.widget-view+json": {
       "model_id": "489e94f226d24b6bac40d073a0132f33",
       "version_major": 2,
       "version_minor": 0
      },
      "text/plain": [
       "  0%|          | 0/473 [00:00<?, ?topic/s]"
      ]
     },
     "metadata": {},
     "output_type": "display_data"
    },
    {
     "data": {
      "application/vnd.jupyter.widget-view+json": {
       "model_id": "d617b15ffe1947cda17edbc6cad4cf3b",
       "version_major": 2,
       "version_minor": 0
      },
      "text/plain": [
       "  0%|          | 0/473 [00:00<?, ?topic/s]"
      ]
     },
     "metadata": {},
     "output_type": "display_data"
    },
    {
     "data": {
      "application/vnd.jupyter.widget-view+json": {
       "model_id": "c3073a462c324b6c9b3a65218ec1769a",
       "version_major": 2,
       "version_minor": 0
      },
      "text/plain": [
       "  0%|          | 0/473 [00:00<?, ?topic/s]"
      ]
     },
     "metadata": {},
     "output_type": "display_data"
    },
    {
     "data": {
      "application/vnd.jupyter.widget-view+json": {
       "model_id": "2709e0e513e54cc8b33618bb3286d717",
       "version_major": 2,
       "version_minor": 0
      },
      "text/plain": [
       "  0%|          | 0/473 [00:00<?, ?topic/s]"
      ]
     },
     "metadata": {},
     "output_type": "display_data"
    },
    {
     "data": {
      "application/vnd.jupyter.widget-view+json": {
       "model_id": "e9ef71ed97d64bb9a3d32cb0124c938d",
       "version_major": 2,
       "version_minor": 0
      },
      "text/plain": [
       "  0%|          | 0/473 [00:00<?, ?topic/s]"
      ]
     },
     "metadata": {},
     "output_type": "display_data"
    }
   ],
   "source": [
    "from sklearn.neighbors import KernelDensity\n",
    "\n",
    "def fit_dist(data, n_supports=10):\n",
    "\n",
    "    n_topics = data.shape[1]\n",
    "\n",
    "    support = np.linspace(0, 1, n_supports + 1)\n",
    "\n",
    "    probs = np.zeros((n_supports+1, n_topics))\n",
    "\n",
    "    # assuming topics are independent\n",
    "    for topic in tqdm(range(n_topics), unit='topic'):\n",
    "\n",
    "        avg = data.mean(axis=0)[topic]\n",
    "        std = data.std(axis=0)[topic]\n",
    "        dist = scipy.stats.halfnorm(avg, std)\n",
    "        # dist = scipy.stats.gaussian_kde(data[:,topic].T) # + np.finfo(float).eps)\n",
    "        prob = dist.pdf(support)\n",
    "        probs[:, topic] = prob\n",
    "\n",
    "    return probs\n",
    "\n",
    "\n",
    "node_dists = {lbl: fit_dist(data) for lbl, data in tqdm(node_features.items(), unit='node')}\n"
   ]
  },
  {
   "cell_type": "code",
   "execution_count": 350,
   "metadata": {
    "notebookRunGroups": {
     "groupValue": "2"
    }
   },
   "outputs": [
    {
     "name": "stdout",
     "output_type": "stream",
     "text": [
      "fitted all the distributions. Now calculating JSD...\n"
     ]
    },
    {
     "data": {
      "application/vnd.jupyter.widget-view+json": {
       "model_id": "f53fc71fd1444e29a654bc9c219495b6",
       "version_major": 2,
       "version_minor": 0
      },
      "text/plain": [
       "  0%|          | 0/780 [00:00<?, ?it/s]"
      ]
     },
     "metadata": {},
     "output_type": "display_data"
    },
    {
     "name": "stderr",
     "output_type": "stream",
     "text": [
      "/usr/local/Caskroom/miniforge/base/envs/cogtext/lib/python3.9/site-packages/scipy/spatial/distance.py:1295: RuntimeWarning: invalid value encountered in true_divide\n",
      "  q = q / np.sum(q, axis=axis, keepdims=True)\n",
      "/usr/local/Caskroom/miniforge/base/envs/cogtext/lib/python3.9/site-packages/scipy/spatial/distance.py:1294: RuntimeWarning: invalid value encountered in true_divide\n",
      "  p = p / np.sum(p, axis=axis, keepdims=True)\n",
      "/usr/local/Caskroom/miniforge/base/envs/cogtext/lib/python3.9/site-packages/scipy/spatial/distance.py:1304: RuntimeWarning: invalid value encountered in sqrt\n",
      "  return np.sqrt(js / 2.0)\n"
     ]
    },
    {
     "data": {
      "text/html": [
       "<div>\n",
       "<style scoped>\n",
       "    .dataframe tbody tr th:only-of-type {\n",
       "        vertical-align: middle;\n",
       "    }\n",
       "\n",
       "    .dataframe tbody tr th {\n",
       "        vertical-align: top;\n",
       "    }\n",
       "\n",
       "    .dataframe thead th {\n",
       "        text-align: right;\n",
       "    }\n",
       "</style>\n",
       "<table border=\"1\" class=\"dataframe\">\n",
       "  <thead>\n",
       "    <tr style=\"text-align: right;\">\n",
       "      <th></th>\n",
       "      <th>level_0</th>\n",
       "      <th>level_1</th>\n",
       "      <th>topic</th>\n",
       "      <th>jsd</th>\n",
       "    </tr>\n",
       "  </thead>\n",
       "  <tbody>\n",
       "    <tr>\n",
       "      <th>0</th>\n",
       "      <td>Attention</td>\n",
       "      <td>CategoryFluencyTask</td>\n",
       "      <td>0</td>\n",
       "      <td>NaN</td>\n",
       "    </tr>\n",
       "    <tr>\n",
       "      <th>1</th>\n",
       "      <td>Attention</td>\n",
       "      <td>CategoryFluencyTask</td>\n",
       "      <td>1</td>\n",
       "      <td>NaN</td>\n",
       "    </tr>\n",
       "    <tr>\n",
       "      <th>2</th>\n",
       "      <td>Attention</td>\n",
       "      <td>CategoryFluencyTask</td>\n",
       "      <td>2</td>\n",
       "      <td>NaN</td>\n",
       "    </tr>\n",
       "    <tr>\n",
       "      <th>3</th>\n",
       "      <td>Attention</td>\n",
       "      <td>CategoryFluencyTask</td>\n",
       "      <td>3</td>\n",
       "      <td>NaN</td>\n",
       "    </tr>\n",
       "    <tr>\n",
       "      <th>4</th>\n",
       "      <td>Attention</td>\n",
       "      <td>CategoryFluencyTask</td>\n",
       "      <td>4</td>\n",
       "      <td>NaN</td>\n",
       "    </tr>\n",
       "    <tr>\n",
       "      <th>...</th>\n",
       "      <td>...</td>\n",
       "      <td>...</td>\n",
       "      <td>...</td>\n",
       "      <td>...</td>\n",
       "    </tr>\n",
       "    <tr>\n",
       "      <th>368935</th>\n",
       "      <td>WCST_-_Wisconsin_Card_Sort_Test</td>\n",
       "      <td>WorkingMemory</td>\n",
       "      <td>468</td>\n",
       "      <td>NaN</td>\n",
       "    </tr>\n",
       "    <tr>\n",
       "      <th>368936</th>\n",
       "      <td>WCST_-_Wisconsin_Card_Sort_Test</td>\n",
       "      <td>WorkingMemory</td>\n",
       "      <td>469</td>\n",
       "      <td>NaN</td>\n",
       "    </tr>\n",
       "    <tr>\n",
       "      <th>368937</th>\n",
       "      <td>WCST_-_Wisconsin_Card_Sort_Test</td>\n",
       "      <td>WorkingMemory</td>\n",
       "      <td>470</td>\n",
       "      <td>NaN</td>\n",
       "    </tr>\n",
       "    <tr>\n",
       "      <th>368938</th>\n",
       "      <td>WCST_-_Wisconsin_Card_Sort_Test</td>\n",
       "      <td>WorkingMemory</td>\n",
       "      <td>471</td>\n",
       "      <td>NaN</td>\n",
       "    </tr>\n",
       "    <tr>\n",
       "      <th>368939</th>\n",
       "      <td>WCST_-_Wisconsin_Card_Sort_Test</td>\n",
       "      <td>WorkingMemory</td>\n",
       "      <td>472</td>\n",
       "      <td>NaN</td>\n",
       "    </tr>\n",
       "  </tbody>\n",
       "</table>\n",
       "<p>368940 rows × 4 columns</p>\n",
       "</div>"
      ],
      "text/plain": [
       "                                level_0              level_1  topic  jsd\n",
       "0                             Attention  CategoryFluencyTask      0  NaN\n",
       "1                             Attention  CategoryFluencyTask      1  NaN\n",
       "2                             Attention  CategoryFluencyTask      2  NaN\n",
       "3                             Attention  CategoryFluencyTask      3  NaN\n",
       "4                             Attention  CategoryFluencyTask      4  NaN\n",
       "...                                 ...                  ...    ...  ...\n",
       "368935  WCST_-_Wisconsin_Card_Sort_Test        WorkingMemory    468  NaN\n",
       "368936  WCST_-_Wisconsin_Card_Sort_Test        WorkingMemory    469  NaN\n",
       "368937  WCST_-_Wisconsin_Card_Sort_Test        WorkingMemory    470  NaN\n",
       "368938  WCST_-_Wisconsin_Card_Sort_Test        WorkingMemory    471  NaN\n",
       "368939  WCST_-_Wisconsin_Card_Sort_Test        WorkingMemory    472  NaN\n",
       "\n",
       "[368940 rows x 4 columns]"
      ]
     },
     "execution_count": 350,
     "metadata": {},
     "output_type": "execute_result"
    }
   ],
   "source": [
    "import itertools\n",
    "\n",
    "n_topics = 473\n",
    "\n",
    "node_pairs = list(itertools.combinations(node_features.keys(), 2))\n",
    "\n",
    "jsds = {}\n",
    "\n",
    "print('fitted all the distributions. Now calculating JSD...')\n",
    "\n",
    "for p_lbl,q_lbl in tqdm(node_pairs):\n",
    "    for topic in range(n_topics):\n",
    "        p = node_dists[p_lbl][:,topic]\n",
    "        q = node_dists[q_lbl][:,topic]\n",
    "        jsd = scipy.spatial.distance.jensenshannon(p,q, base=2)\n",
    "        jsds[(p_lbl, q_lbl, topic)] = jsd\n",
    "\n",
    "jsd = pd.Series(jsds).reset_index(name='jsd').rename(columns={'level_2':'topic'})\n",
    "\n",
    "jsd"
   ]
  },
  {
   "cell_type": "code",
   "execution_count": 356,
   "metadata": {},
   "outputs": [
    {
     "data": {
      "text/plain": [
       "<seaborn.matrix.ClusterGrid at 0x7f8a5e857dc0>"
      ]
     },
     "execution_count": 356,
     "metadata": {},
     "output_type": "execute_result"
    },
    {
     "data": {
      "image/png": "[encoded data removed]",
      "text/plain": [
       "<Figure size 504x576 with 4 Axes>"
      ]
     },
     "metadata": {},
     "output_type": "display_data"
    }
   ],
   "source": [
    "jsd_df = pd.Series(jsds).reset_index(name='jsd').rename(columns={'level_2':'topic'})\n",
    "jsd_df.replace([np.inf], 1.0, inplace=True)\n",
    "sim_long = jsd_df.groupby(['level_0', 'level_1'])['jsd'].apply(np.mean).reset_index()\n",
    "\n",
    "sim = pd.DataFrame(columns=popular_labels, index=popular_labels, dtype=float)\n",
    "\n",
    "for idx, src, trgt, jsd in sim_long.itertuples():\n",
    "    sim.loc[src,trgt] = 1-jsd\n",
    "    sim.loc[trgt, src] =  1-jsd\n",
    "    sim.loc[src,src] = 0.0\n",
    "    sim.loc[trgt,trgt] = 0.0\n",
    "\n",
    "sim = sim.drop(index=task_labels, columns=construct_labels, errors='ignore')\n",
    "\n",
    "sns.clustermap(sim, cmap='RdBu_r', figsize=(7,8), robust=True)"
   ]
  },
  {
   "cell_type": "code",
   "execution_count": null,
   "metadata": {},
   "outputs": [],
   "source": [
    "# visualize the similarity between constructs pairs regardless of the underlying tasks\n",
    "\n",
    "# # drop tasks for visualization\n",
    "tasks = PUBMED.query('category.str.contains(\"Task\")')['label'].unique()\n",
    "constructs = PUBMED.query('category.str.contains(\"Construct\")')['label'].unique()\n",
    "\n",
    "n2n_sim = n2n_js.applymap(lambda x: np.exp(-x))\n",
    "\n",
    "plot_data = n2n_sim.drop(index=tasks, columns=constructs, errors='ignore')\n",
    "\n",
    "# # heatmap plot categorized by label category, either task or construct\n",
    "# g = sns.clustermap(n2n_sim,\n",
    "#                    figsize=(25, 25),\n",
    "#                    dendrogram_ratio=0.0001, \n",
    "#                    cbar_pos=(1.0, 0.73, 0.03, 0.25),\n",
    "#                    robust=True)\n",
    "# plt.show()\n",
    "\n",
    "dash_bio.Clustergram(\n",
    "  data=plot_data,\n",
    "  column_labels=plot_data.columns.to_list(),\n",
    "  row_labels=plot_data.index.to_list(),\n",
    "  cluster='all',\n",
    "#   center_values=False,\n",
    "  height=800,\n",
    "  width=1000,\n",
    "  display_ratio=[0.001, 0.001],\n",
    "  color_map='RdBu_r',\n",
    "  hidden_labels=['col'],\n",
    "  row_dist='euclidean',\n",
    "  col_dist='euclidean',\n",
    "  # standardize='col'\n",
    ")\n"
   ]
  },
  {
   "cell_type": "markdown",
   "metadata": {},
   "source": [
    "## Graph"
   ]
  },
  {
   "cell_type": "code",
   "execution_count": null,
   "metadata": {},
   "outputs": [],
   "source": [
    "node_avg_embeddings = node_features.apply(lambda x: x.mean(axis=0))\n",
    "\n",
    "sim = n2n_js.applymap(lambda x: np.exp(-x))\n",
    "sim.index.name = 'source'\n",
    "sim.columns.name = 'target'\n",
    "sim = sim.reset_index().melt(id_vars=['source'], value_vars=sim.columns, value_name='weight')\n",
    "\n",
    "adj = sim\n",
    "\n",
    "# arbitrary threshold to keep Simon connected in the graph\n",
    "adj = sim.query('target != source').query('weight >= .91').copy()\n",
    "\n",
    "task_features = sg.IndexedArray(np.empty(tasks.shape).reshape(-1,1), index=tasks)\n",
    "construct_features = sg.IndexedArray(np.empty(constructs.shape).reshape(-1,1), index=constructs)\n",
    "\n",
    "G = sg.StellarGraph(\n",
    "  nodes = {'task': task_features,\n",
    "           'construct': construct_features\n",
    "  },\n",
    "  edges=adj)\n",
    "print(G.info())"
   ]
  },
  {
   "cell_type": "code",
   "execution_count": null,
   "metadata": {},
   "outputs": [],
   "source": [
    "# metapath2vec\n",
    "\n",
    "from gensim.models import Word2Vec\n",
    "\n",
    "# metapath schemas as a list of lists of node types.\n",
    "metapaths = [\n",
    "    ['task', 'construct', 'task'],\n",
    "    ['construct', 'task', 'construct'],\n",
    "    # ['construct', 'task', 'task', 'construct'],\n",
    "    # ['task', 'construct', 'task', 'construct', 'task'],\n",
    "    # ['task', 'construct', 'construct', 'task'],\n",
    "]\n",
    "\n",
    "walks = UniformRandomMetaPathWalk(G).run(\n",
    "    nodes=list(G.nodes()),  # root nodes\n",
    "    length=3,  # maximum length of a random walk\n",
    "    n=10,  # number of random walks per root node\n",
    "    metapaths=metapaths,  # the metapaths\n",
    ")\n",
    "print(f'[MetaPath2Vec] Created {len(walks)} random walks.')\n",
    "# DEBUG: print('Random walks starting from the \"RewardProcessing\" node:',\n",
    "# DEBUG:      [' -> '.join(w) for w in walks if w[0] == 'RewardProcessing'])\n",
    "\n",
    "print('[MetaPath2Vec] Now training the Word2Vec model...', sep=' ')\n",
    "model = Word2Vec(walks, vector_size=128, min_count=0, window=3, sg=1, workers=1, epochs=1000)\n",
    "model.save('models/gpt3/abstracts_metapath2vec.pkl')\n",
    "\n",
    "print('[MetaPath2Vec] Done! Model saved to `models/gpt3/abstracts_metapath2vec.pkl`.')"
   ]
  },
  {
   "cell_type": "code",
   "execution_count": null,
   "metadata": {},
   "outputs": [],
   "source": [
    "# query the joint graph\n",
    "\n",
    "from gensim.models import Word2Vec\n",
    "model = Word2Vec.load('models/gpt3/abstracts_metapath2vec.pkl')\n",
    "\n",
    "#  visual-spatial and organizational processing abilities, as well as nonverbal problem-solving skills. \n",
    " \n",
    "# FIXME: there is a typo in \"CogntiveControl\"; it comes from a type in the original lexicon.\n",
    "model.wv.most_similar(\n",
    "  positive=['Simon_task'],\n",
    "  # negative=['Sorting_task','Go_NoGo'],\n",
    "  topn=20)\n",
    "\n",
    "# TODO filter by category\n"
   ]
  },
  {
   "cell_type": "code",
   "execution_count": null,
   "metadata": {},
   "outputs": [],
   "source": [
    "# Plot all tasks and constructs in a lower dimensional 3d space\n",
    "\n",
    "import plotly.express as px\n",
    "\n",
    "# projections = PCA(n_components=2, random_state=0).fit_transform(label_embeddings)\n",
    "projections_3d = UMAP(n_components=3, random_state=0).fit_transform(node_avg_embeddings)\n",
    "projections_2d = UMAP(n_components=2, random_state=0).fit_transform(node_avg_embeddings)\n",
    "\n",
    "projections_3d = pd.DataFrame(projections_3d, index=node_avg_embeddings.index).reset_index()\n",
    "projections_2d = pd.DataFrame(projections_2d, index=node_avg_embeddings.index).reset_index()\n",
    "\n",
    "fig = px.scatter_3d(projections_3d,\n",
    "                    x=0, y=1, z=2,\n",
    "                    color='category', hover_name='label',\n",
    "                    title='Popular labels in the topic space',\n",
    "                    color_discrete_sequence=['red','blue'],\n",
    "                    width=600, height=600,)\n",
    "fig.show()\n",
    "\n",
    "\n",
    "fig, ax = plt.subplots(1,1, figsize=(15,15))\n",
    "sns.scatterplot(data=projections_2d, x=0, y=1, ax=ax, s=50, hue='category')\n",
    "\n",
    "for (i,lbl, _,x, y) in projections_2d.itertuples():\n",
    "  lbl = f'{lbl[:12]}...' if len(lbl)>10 else lbl\n",
    "  ax.text(x+0.01, y-np.random.random()*.02, f'{lbl}', alpha=0.5, fontsize=12)\n",
    "\n",
    "ax.set(xlabel='UMAP 1', ylabel='UMAP 2')\n",
    "plt.suptitle('2D projection of the topic embeddings',y=.9)\n",
    "plt.show()"
   ]
  },
  {
   "cell_type": "code",
   "execution_count": null,
   "metadata": {},
   "outputs": [],
   "source": [
    "%reload_ext watermark\n",
    "%watermark\n",
    "%watermark -iv -p umap,pytorch,scikit-learn,python.cogtext"
   ]
  }
 ],
 "metadata": {
  "interpreter": {
   "hash": "0cd18c5ac842435f41b27fe4a6c26243d22dfb8bd1f4766298bbfd5d775f6809"
  },
  "kernelspec": {
   "display_name": "Python 3.9.0 ('cogtext')",
   "language": "python",
   "name": "python3"
  },
  "language_info": {
   "codemirror_mode": {
    "name": "ipython",
    "version": 3
   },
   "file_extension": ".py",
   "mimetype": "text/x-python",
   "name": "python",
   "nbconvert_exporter": "python",
   "pygments_lexer": "ipython3",
   "version": "3.9.0"
  },
  "orig_nbformat": 4
 },
 "nbformat": 4,
 "nbformat_minor": 2
}
