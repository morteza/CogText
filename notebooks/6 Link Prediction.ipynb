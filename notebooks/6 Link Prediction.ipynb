{
 "cells": [
  {
   "cell_type": "markdown",
   "metadata": {},
   "source": [
    "# Link Prediction\n",
    "\n",
    "We've created a graph with nodes labeled by the lexicon terms and corresponding document embeddings kept on node features.\n",
    "\n",
    "We now want to predict existence of the edges using the similarity of the node features, i.e., embeddings. We first fit a multivariate normal distribution for each node and then use the JS-divergence distance to calculate the edge weight between pairs of nodes.\n",
    "\n",
    "Here is the steps we take:\n",
    "\n",
    "- Create a graph and load the GPT-3 topic-embeddings on the nodes.\n",
    "- Fit multivariate normal distributions for each node features (parameters are loc and diagonal_scale).\n",
    "- Calculate the distance matrix using JS-divergence of the node features.\n",
    "- Updated the graph with the distance matrix as the edge weights.\n",
    "\n",
    "## Input\n",
    "\n",
    "- `models/gpt3/abstracts_gpt3ada.nc`: GPT-3 embeddings in the topic-space.\n",
    "\n",
    "## Output\n",
    "\n",
    "- `models/gpt3/abstracts_metapath2vec.pkl`: a pickle file containing the trained metapath2vec model.\n",
    "\n",
    "## Requirements\n",
    "\n",
    "```\n",
    "mamba install dash-bio\n",
    "mamba install tensorflow-probability\n",
    "mamba install wmetapath2vec\n",
    "```"
   ]
  },
  {
   "cell_type": "code",
   "execution_count": 1,
   "metadata": {
    "notebookRunGroups": {
     "groupValue": "1"
    }
   },
   "outputs": [],
   "source": [
    "%reload_ext autoreload\n",
    "%autoreload 2\n",
    "\n",
    "import pandas as pd\n",
    "import numpy as np\n",
    "from umap import UMAP\n",
    "import matplotlib.pyplot as plt\n",
    "import seaborn as sns; sns.set_theme()  # noqa\n",
    "import dash_bio\n",
    "from python.cogtext.similarity_matrix import get_similarity_matrix\n",
    "from sklearn.preprocessing import normalize\n",
    "from tqdm import tqdm\n",
    "import xarray as xr\n",
    "\n",
    "import tensorflow as tf\n",
    "import tensorflow_probability as tfp\n",
    "tfd = tfp.distributions\n",
    "\n",
    "from python.cogtext.datasets.pubmed import PubMedDataLoader\n"
   ]
  },
  {
   "cell_type": "markdown",
   "metadata": {},
   "source": [
    "First, we load and prepare the PubMed documents along with their topic embeddings."
   ]
  },
  {
   "cell_type": "code",
   "execution_count": 2,
   "metadata": {
    "notebookRunGroups": {
     "groupValue": "1"
    }
   },
   "outputs": [
    {
     "name": "stdout",
     "output_type": "stream",
     "text": [
      "Successfully create a dataset of 300251 topic-embeddings.\n"
     ]
    }
   ],
   "source": [
    "# load weights, clusters and metadata (takes ~ 20sec)\n",
    "\n",
    "PUBMED = PubMedDataLoader(\n",
    "    preprocessed=False,\n",
    "    drop_low_occurred_labels=False,\n",
    "    usecols=['pmid','subcategory','category']).load()\n",
    "\n",
    "EMBEDDINGS = xr.open_dataset('models/gpt3/abstracts_gpt3ada.nc')\n",
    "\n",
    "doc_topic_embeddings = EMBEDDINGS.coords['pmid'].to_dataframe().reset_index(drop=True)\n",
    "doc_topic_embeddings['topic_embedding'] = list(EMBEDDINGS['topic_weights'].values)\n",
    "doc_topic_embeddings['topic'] = list(EMBEDDINGS['topics'].values)\n",
    "\n",
    "PUBMED = PUBMED.merge(doc_topic_embeddings, on='pmid', how='left')\n",
    "PUBMED.dropna(subset=['topic_embedding'], inplace=True)\n",
    "PUBMED = PUBMED.query('topic != -1')\n",
    "\n",
    "print(f'Successfully create a dataset of {len(PUBMED)} topic-embeddings.')"
   ]
  },
  {
   "cell_type": "code",
   "execution_count": 3,
   "metadata": {
    "notebookRunGroups": {
     "groupValue": "1"
    }
   },
   "outputs": [
    {
     "name": "stdout",
     "output_type": "stream",
     "text": [
      "Removed 2 labels with only one article: ['Incompatibility_test', 'SpinThePots']\n"
     ]
    }
   ],
   "source": [
    "# discard low-occurred labels\n",
    "\n",
    "docs_per_label = PUBMED.groupby('label').size()\n",
    "low_appeared_labels = docs_per_label[docs_per_label < 2].index.to_list()\n",
    "\n",
    "PUBMED = PUBMED.query('label not in @low_appeared_labels')\n",
    "\n",
    "print(f'Removed {len(low_appeared_labels)} labels '\n",
    "      f'with only one article: {low_appeared_labels}')"
   ]
  },
  {
   "cell_type": "markdown",
   "metadata": {},
   "source": [
    "## Node-node similarity\n",
    "\n",
    "Here, we calculate the similarity between nodes using the node features. We use\n",
    "KL-divergence of the node features a measure of distance between the two."
   ]
  },
  {
   "cell_type": "code",
   "execution_count": 188,
   "metadata": {
    "notebookRunGroups": {
     "groupValue": ""
    }
   },
   "outputs": [],
   "source": [
    "%%script echo skipping...\n",
    "\n",
    "# KL model\n",
    "def nll(X, dist):\n",
    "  return - tf.reduce_mean(dist.log_prob(X))\n",
    "\n",
    "@tf.function\n",
    "def get_loss_and_grads(X_train, dist):\n",
    "  with tf.GradientTape() as tape:\n",
    "    tape.watch(dist.trainable_variables)\n",
    "    loss = nll(X_train, dist)\n",
    "  grads = tape.gradient(loss, dist.trainable_variables)\n",
    "  return loss, grads\n",
    "\n",
    "def fit_multivariate_normal(data, n_epochs=10, batch_size=100):\n",
    "  dist = tfd.MultivariateNormalDiag(\n",
    "    loc=tf.Variable(data.mean(axis=0), name='loc'),\n",
    "    scale_diag=tf.Variable(np.ones(data.shape[1]), name='scale_diag'))\n",
    "\n",
    "  optimizer = tf.keras.optimizers.Adam(learning_rate=0.05)\n",
    "\n",
    "  for _ in range(n_epochs):\n",
    "    # for batch in np.array_split(data, 1 + (data.shape[0] // batch_size)):\n",
    "    batch = data  # use all the data in each epoch\n",
    "    loss, grads = get_loss_and_grads(batch, dist)\n",
    "    optimizer.apply_gradients(zip(grads, dist.trainable_variables))\n",
    "    # loc_value = dist.loc.value()\n",
    "  return dist\n"
   ]
  },
  {
   "cell_type": "code",
   "execution_count": 4,
   "metadata": {
    "notebookRunGroups": {
     "groupValue": "2"
    }
   },
   "outputs": [
    {
     "name": "stdout",
     "output_type": "stream",
     "text": [
      "Popular labels: Attention, Planning, WorkingMemory, Initiation, Sequencing, ExecutiveFunction, Inhibition, Reasoning, Fluency, ProcessingSpeed, EpisodicMemory, ProblemSolving, LongTermMemory, Stroop, Shifting, CogntiveControl, InhibitoryControl, ShortTermMemory, Mindfulness, Verbal_fluency_task, SelfRegulation, SelectiveAttention, TMT_-_Trail_Making_Task, Digit_Span, WCST_-_Wisconsin_Card_Sort_Test, Go_NoGo, NBackTask, FlankerTask, StopSignalTask, IGT_-_Iowa_Gambling_task, PVT_-_Psychomotor_Vigilance_task, ContiniousPerformanceTask, Span_Task, CategoryFluencyTask, PEG_-_Pencil_Tapping_task, Simon_task, Semantic_Fluency_test, TowerOfLondon, DiscountingTask, Sorting_task\n"
     ]
    }
   ],
   "source": [
    "n_skip = 20\n",
    "n_top_labels_per_category = 20\n",
    "\n",
    "popular_labels = (PUBMED.groupby(['category','label'])['pmid']\n",
    "                        .count().sort_values(ascending=False)\n",
    "                        .groupby('category').head(n_top_labels_per_category)\n",
    "                        .index.get_level_values('label').to_list())\n",
    "popular_pubmed = PUBMED.query('label in @popular_labels')\n",
    "\n",
    "node_features = popular_pubmed.groupby('label')['topic_embedding'].apply(lambda x: np.vstack(x))\n",
    "node_features = node_features.to_dict()\n",
    "\n",
    "print(f\"Popular labels: {', '.join(popular_labels)}\")\n",
    "\n",
    "# tqdm.pandas()\n",
    "# node_dists = node_features.progress_apply(fit_multivariate_normal)\n",
    "\n"
   ]
  },
  {
   "cell_type": "code",
   "execution_count": 8,
   "metadata": {
    "notebookRunGroups": {
     "groupValue": ""
    }
   },
   "outputs": [
    {
     "name": "stdout",
     "output_type": "stream",
     "text": [
      "skipping...\n"
     ]
    }
   ],
   "source": [
    "%%script echo skipping...\n",
    "\n",
    "# node2node js distance matrix\n",
    "n2n_jsd = np.zeros((len(node_dists), len(node_dists)))\n",
    "node_means = {}\n",
    "node_stds = {}\n",
    "\n",
    "for i,lbl_i in tqdm(enumerate(node_dists.index)):\n",
    "  for j, lbl_j in enumerate(node_dists.index):\n",
    "    P = node_dists.loc[lbl_i]\n",
    "    Q = node_dists.loc[lbl_j]\n",
    "    M = tfd.MultivariateNormalDiag(\n",
    "      loc=(P.mean() + Q.mean())/2.,\n",
    "      scale_diag=(P.stddev() + Q.stddev())/2.\n",
    "    )\n",
    "    node_means[lbl_i] = P.mean().numpy()\n",
    "    node_stds[lbl_i] = P.stddev().numpy()\n",
    "    jsd = .5 * (P.kl_divergence(M) + Q.kl_divergence(M)).numpy()\n",
    "    # print(X_dists.loc[lbl_i].trainable_variables[1].shape)\n",
    "    n2n_jsd[i,j] = jsd\n",
    "\n",
    "n2n_jsd = pd.DataFrame(n2n_jsd, index=node_dists.index.to_list(), columns=node_dists.index.to_list())"
   ]
  },
  {
   "cell_type": "code",
   "execution_count": 8,
   "metadata": {
    "notebookRunGroups": {
     "groupValue": "2"
    }
   },
   "outputs": [
    {
     "data": {
      "application/vnd.jupyter.widget-view+json": {
       "model_id": "e051bf4376ad4605ba854e4ac025346a",
       "version_major": 2,
       "version_minor": 0
      },
      "text/plain": [
       "  0%|          | 0/40 [00:00<?, ?node/s]"
      ]
     },
     "metadata": {},
     "output_type": "display_data"
    },
    {
     "data": {
      "application/vnd.jupyter.widget-view+json": {
       "model_id": "e188f48e4e5645aa9ba4e752499055fd",
       "version_major": 2,
       "version_minor": 0
      },
      "text/plain": [
       "  0%|          | 0/473 [00:00<?, ?topic/s]"
      ]
     },
     "metadata": {},
     "output_type": "display_data"
    }
   ],
   "source": [
    "node_dists = {}\n",
    "\n",
    "from tqdm.auto import tqdm\n",
    "\n",
    "import scipy\n",
    "import numpy as np\n",
    "\n",
    "def kde_dist(data, label, topic, n_resamples=100):\n",
    "\n",
    "    dist = scipy.stats.gaussian_kde(data)\n",
    "\n",
    "    support = np.linspace(0, 1, n_resamples + 1)\n",
    "    resamples = dist.evaluate(support)\n",
    "    probs = resamples / np.linalg.norm(resamples, ord=1)\n",
    "    return probs\n",
    "\n",
    "\n",
    "node_pbar = tqdm(total=len(node_features), unit='node')\n",
    "topic_pbar = tqdm(total=473, unit='topic')\n",
    "\n",
    "for lbl, data in node_features.items():\n",
    "    topic_pbar.refresh()\n",
    "    topic_pbar.reset()\n",
    "\n",
    "    for topic in range(data.shape[1]):\n",
    "        node_dists[(lbl, topic)] = kde_dist(data[:,topic], lbl, topic)\n",
    "        topic_pbar.update()\n",
    "\n",
    "    node_pbar.update()\n",
    "\n",
    "node_pbar.close()\n",
    "topic_pbar.close()"
   ]
  },
  {
   "cell_type": "code",
   "execution_count": 11,
   "metadata": {},
   "outputs": [
    {
     "name": "stdout",
     "output_type": "stream",
     "text": [
      "fitted all the distributions. Now calculating JSD...\n"
     ]
    },
    {
     "data": {
      "application/vnd.jupyter.widget-view+json": {
       "model_id": "9eff7229fc084d59b8cda8771814a107",
       "version_major": 2,
       "version_minor": 0
      },
      "text/plain": [
       "  0%|          | 0/780 [00:00<?, ?it/s]"
      ]
     },
     "metadata": {},
     "output_type": "display_data"
    },
    {
     "name": "stderr",
     "output_type": "stream",
     "text": [
      "/usr/local/Caskroom/miniforge/base/envs/cogtext/lib/python3.9/site-packages/scipy/spatial/distance.py:1304: RuntimeWarning: invalid value encountered in sqrt\n",
      "  return np.sqrt(js / 2.0)\n"
     ]
    },
    {
     "data": {
      "text/html": [
       "<div>\n",
       "<style scoped>\n",
       "    .dataframe tbody tr th:only-of-type {\n",
       "        vertical-align: middle;\n",
       "    }\n",
       "\n",
       "    .dataframe tbody tr th {\n",
       "        vertical-align: top;\n",
       "    }\n",
       "\n",
       "    .dataframe thead th {\n",
       "        text-align: right;\n",
       "    }\n",
       "</style>\n",
       "<table border=\"1\" class=\"dataframe\">\n",
       "  <thead>\n",
       "    <tr style=\"text-align: right;\">\n",
       "      <th></th>\n",
       "      <th>level_0</th>\n",
       "      <th>level_1</th>\n",
       "      <th>topic</th>\n",
       "      <th>jsd</th>\n",
       "    </tr>\n",
       "  </thead>\n",
       "  <tbody>\n",
       "    <tr>\n",
       "      <th>0</th>\n",
       "      <td>Attention</td>\n",
       "      <td>CategoryFluencyTask</td>\n",
       "      <td>0</td>\n",
       "      <td>0.023420</td>\n",
       "    </tr>\n",
       "    <tr>\n",
       "      <th>1</th>\n",
       "      <td>Attention</td>\n",
       "      <td>CategoryFluencyTask</td>\n",
       "      <td>1</td>\n",
       "      <td>0.020057</td>\n",
       "    </tr>\n",
       "    <tr>\n",
       "      <th>2</th>\n",
       "      <td>Attention</td>\n",
       "      <td>CategoryFluencyTask</td>\n",
       "      <td>2</td>\n",
       "      <td>0.036869</td>\n",
       "    </tr>\n",
       "    <tr>\n",
       "      <th>3</th>\n",
       "      <td>Attention</td>\n",
       "      <td>CategoryFluencyTask</td>\n",
       "      <td>3</td>\n",
       "      <td>0.096316</td>\n",
       "    </tr>\n",
       "    <tr>\n",
       "      <th>4</th>\n",
       "      <td>Attention</td>\n",
       "      <td>CategoryFluencyTask</td>\n",
       "      <td>4</td>\n",
       "      <td>0.043024</td>\n",
       "    </tr>\n",
       "    <tr>\n",
       "      <th>...</th>\n",
       "      <td>...</td>\n",
       "      <td>...</td>\n",
       "      <td>...</td>\n",
       "      <td>...</td>\n",
       "    </tr>\n",
       "    <tr>\n",
       "      <th>368935</th>\n",
       "      <td>WCST_-_Wisconsin_Card_Sort_Test</td>\n",
       "      <td>WorkingMemory</td>\n",
       "      <td>468</td>\n",
       "      <td>0.139259</td>\n",
       "    </tr>\n",
       "    <tr>\n",
       "      <th>368936</th>\n",
       "      <td>WCST_-_Wisconsin_Card_Sort_Test</td>\n",
       "      <td>WorkingMemory</td>\n",
       "      <td>469</td>\n",
       "      <td>0.528102</td>\n",
       "    </tr>\n",
       "    <tr>\n",
       "      <th>368937</th>\n",
       "      <td>WCST_-_Wisconsin_Card_Sort_Test</td>\n",
       "      <td>WorkingMemory</td>\n",
       "      <td>470</td>\n",
       "      <td>0.173420</td>\n",
       "    </tr>\n",
       "    <tr>\n",
       "      <th>368938</th>\n",
       "      <td>WCST_-_Wisconsin_Card_Sort_Test</td>\n",
       "      <td>WorkingMemory</td>\n",
       "      <td>471</td>\n",
       "      <td>0.536839</td>\n",
       "    </tr>\n",
       "    <tr>\n",
       "      <th>368939</th>\n",
       "      <td>WCST_-_Wisconsin_Card_Sort_Test</td>\n",
       "      <td>WorkingMemory</td>\n",
       "      <td>472</td>\n",
       "      <td>0.109678</td>\n",
       "    </tr>\n",
       "  </tbody>\n",
       "</table>\n",
       "<p>368940 rows × 4 columns</p>\n",
       "</div>"
      ],
      "text/plain": [
       "                                level_0              level_1  topic       jsd\n",
       "0                             Attention  CategoryFluencyTask      0  0.023420\n",
       "1                             Attention  CategoryFluencyTask      1  0.020057\n",
       "2                             Attention  CategoryFluencyTask      2  0.036869\n",
       "3                             Attention  CategoryFluencyTask      3  0.096316\n",
       "4                             Attention  CategoryFluencyTask      4  0.043024\n",
       "...                                 ...                  ...    ...       ...\n",
       "368935  WCST_-_Wisconsin_Card_Sort_Test        WorkingMemory    468  0.139259\n",
       "368936  WCST_-_Wisconsin_Card_Sort_Test        WorkingMemory    469  0.528102\n",
       "368937  WCST_-_Wisconsin_Card_Sort_Test        WorkingMemory    470  0.173420\n",
       "368938  WCST_-_Wisconsin_Card_Sort_Test        WorkingMemory    471  0.536839\n",
       "368939  WCST_-_Wisconsin_Card_Sort_Test        WorkingMemory    472  0.109678\n",
       "\n",
       "[368940 rows x 4 columns]"
      ]
     },
     "execution_count": 11,
     "metadata": {},
     "output_type": "execute_result"
    }
   ],
   "source": [
    "# WIP quick JS-distance implementation\n",
    "\n",
    "# ----\n",
    "\n",
    "import itertools\n",
    "\n",
    "pairs = list(itertools.combinations(node_features.keys(), 2))\n",
    "\n",
    "jsds = {}\n",
    "\n",
    "print('fitted all the distributions. Now calculating JSD...')\n",
    "\n",
    "for p_lbl,q_lbl in tqdm(pairs):\n",
    "    for topic in range(data.shape[1]):\n",
    "        p = node_dists[(p_lbl, topic)]\n",
    "        q = node_dists[(q_lbl, topic)]\n",
    "        jsd = scipy.spatial.distance.jensenshannon(p,q, base=2)\n",
    "        jsds[(p_lbl, q_lbl, topic)] = jsd\n",
    "\n",
    "pd.Series(jsds).reset_index(name='jsd').rename(columns={'level_2':'topic'})"
   ]
  },
  {
   "cell_type": "code",
   "execution_count": 42,
   "metadata": {},
   "outputs": [
    {
     "data": {
      "text/plain": [
       "<AxesSubplot:xlabel='level_1', ylabel='level_0'>"
      ]
     },
     "execution_count": 42,
     "metadata": {},
     "output_type": "execute_result"
    },
    {
     "data": {
      "image/png": "[encoded data removed]",
      "text/plain": [
       "<Figure size 1080x1080 with 2 Axes>"
      ]
     },
     "metadata": {
      "needs_background": "light"
     },
     "output_type": "display_data"
    }
   ],
   "source": [
    "jsd = pd.Series(jsds).reset_index(name='jsd').rename(columns={'level_2':'topic'})\n",
    "jsd = jsd[np.isfinite(jsd.jsd)].query('topic == 0').drop('topic', axis=1)\n",
    "jsd = pd.pivot_table(jsd, index='level_0', columns='level_1', values='jsd')\n",
    "\n",
    "jsd = jsd.fillna(0) + jsd.fillna(0).T.values\n",
    "\n",
    "plt.figure(figsize=(15,15))\n",
    "sns.heatmap(jsd, cmap='RdBu_r', vmin=0, vmax=1)\n"
   ]
  },
  {
   "cell_type": "code",
   "execution_count": 129,
   "metadata": {},
   "outputs": [
    {
     "data": {
      "application/vnd.plotly.v1+json": {
       "config": {
        "plotlyServerURL": "https://plot.ly"
       },
       "data": [
        {
         "hoverinfo": "y+name",
         "line": {
          "width": 0.5
         },
         "marker": {
          "color": "rgb(0,116,217)"
         },
         "mode": "lines",
         "name": "Col Cluster 0",
         "type": "scatter",
         "x": [
          10,
          10,
          92.1875,
          92.1875
         ],
         "xaxis": "x3",
         "y": [
          0.021243663841051103,
          0.10475985491147077,
          0.10475985491147077,
          0.06649771614555983
         ],
         "yaxis": "y3"
        },
        {
         "hoverinfo": "y+name",
         "line": {
          "width": 0.5
         },
         "marker": {
          "color": "rgb(0,116,217)"
         },
         "mode": "lines",
         "name": "Col Cluster 1",
         "type": "scatter",
         "x": [
          5,
          5,
          15,
          15
         ],
         "xaxis": "x3",
         "y": [
          0,
          0.021243663841051103,
          0.021243663841051103,
          0
         ],
         "yaxis": "y3"
        },
        {
         "hoverinfo": "y+name",
         "line": {
          "width": 0.5
         },
         "marker": {
          "color": "rgb(0,116,217)"
         },
         "mode": "lines",
         "name": "Col Cluster 2",
         "type": "scatter",
         "x": [
          25,
          25,
          35,
          35
         ],
         "xaxis": "x3",
         "y": [
          0,
          0.016942143774154452,
          0.016942143774154452,
          0
         ],
         "yaxis": "y3"
        },
        {
         "hoverinfo": "y+name",
         "line": {
          "width": 0.5
         },
         "marker": {
          "color": "rgb(0,116,217)"
         },
         "mode": "lines",
         "name": "Col Cluster 3",
         "type": "scatter",
         "x": [
          30,
          30,
          66.25,
          66.25
         ],
         "xaxis": "x3",
         "y": [
          0.016942143774154452,
          0.0272244049416768,
          0.0272244049416768,
          0.01875718393175698
         ],
         "yaxis": "y3"
        },
        {
         "hoverinfo": "y+name",
         "line": {
          "width": 0.5
         },
         "marker": {
          "color": "rgb(0,116,217)"
         },
         "mode": "lines",
         "name": "Col Cluster 4",
         "type": "scatter",
         "x": [
          45,
          45,
          60,
          60
         ],
         "xaxis": "x3",
         "y": [
          0,
          0.011860927088268004,
          0.011860927088268004,
          0.01126420621970621
         ],
         "yaxis": "y3"
        },
        {
         "hoverinfo": "y+name",
         "line": {
          "width": 0.5
         },
         "marker": {
          "color": "rgb(0,116,217)"
         },
         "mode": "lines",
         "name": "Col Cluster 5",
         "type": "scatter",
         "x": [
          48.125,
          48.125,
          136.25,
          136.25
         ],
         "xaxis": "x3",
         "y": [
          0.0272244049416768,
          0.06649771614555983,
          0.06649771614555983,
          0.03704885426215737
         ],
         "yaxis": "y3"
        },
        {
         "hoverinfo": "y+name",
         "line": {
          "width": 0.5
         },
         "marker": {
          "color": "rgb(0,116,217)"
         },
         "mode": "lines",
         "name": "Col Cluster 6",
         "type": "scatter",
         "x": [
          52.5,
          52.5,
          80,
          80
         ],
         "xaxis": "x3",
         "y": [
          0.011860927088268004,
          0.01875718393175698,
          0.01875718393175698,
          0.014437370128315693
         ],
         "yaxis": "y3"
        },
        {
         "hoverinfo": "y+name",
         "line": {
          "width": 0.5
         },
         "marker": {
          "color": "rgb(0,116,217)"
         },
         "mode": "lines",
         "name": "Col Cluster 7",
         "type": "scatter",
         "x": [
          55,
          55,
          65,
          65
         ],
         "xaxis": "x3",
         "y": [
          0,
          0.01126420621970621,
          0.01126420621970621,
          0
         ],
         "yaxis": "y3"
        },
        {
         "hoverinfo": "y+name",
         "line": {
          "width": 0.5
         },
         "marker": {
          "color": "rgb(0,116,217)"
         },
         "mode": "lines",
         "name": "Col Cluster 8",
         "type": "scatter",
         "x": [
          75,
          75,
          85,
          85
         ],
         "xaxis": "x3",
         "y": [
          0,
          0.014437370128315693,
          0.014437370128315693,
          0
         ],
         "yaxis": "y3"
        },
        {
         "hoverinfo": "y+name",
         "line": {
          "width": 0.5
         },
         "marker": {
          "color": "rgb(0,116,217)"
         },
         "mode": "lines",
         "name": "Col Cluster 9",
         "type": "scatter",
         "x": [
          95,
          95,
          120,
          120
         ],
         "xaxis": "x3",
         "y": [
          0,
          0.022683969894471998,
          0.022683969894471998,
          0.01773419294753576
         ],
         "yaxis": "y3"
        },
        {
         "hoverinfo": "y+name",
         "line": {
          "width": 0.5
         },
         "marker": {
          "color": "rgb(0,116,217)"
         },
         "mode": "lines",
         "name": "Col Cluster 10",
         "type": "scatter",
         "x": [
          105,
          105,
          115,
          115
         ],
         "xaxis": "x3",
         "y": [
          0,
          0.014439875968663512,
          0.014439875968663512,
          0
         ],
         "yaxis": "y3"
        },
        {
         "hoverinfo": "y+name",
         "line": {
          "width": 0.5
         },
         "marker": {
          "color": "rgb(0,116,217)"
         },
         "mode": "lines",
         "name": "Col Cluster 11",
         "type": "scatter",
         "x": [
          107.5,
          107.5,
          165,
          165
         ],
         "xaxis": "x3",
         "y": [
          0.022683969894471998,
          0.03704885426215737,
          0.03704885426215737,
          0.026455374954830434
         ],
         "yaxis": "y3"
        },
        {
         "hoverinfo": "y+name",
         "line": {
          "width": 0.5
         },
         "marker": {
          "color": "rgb(0,116,217)"
         },
         "mode": "lines",
         "name": "Col Cluster 12",
         "type": "scatter",
         "x": [
          110,
          110,
          130,
          130
         ],
         "xaxis": "x3",
         "y": [
          0.014439875968663512,
          0.01773419294753576,
          0.01773419294753576,
          0.014486120142267248
         ],
         "yaxis": "y3"
        },
        {
         "hoverinfo": "y+name",
         "line": {
          "width": 0.5
         },
         "marker": {
          "color": "rgb(0,116,217)"
         },
         "mode": "lines",
         "name": "Col Cluster 13",
         "type": "scatter",
         "x": [
          125,
          125,
          135,
          135
         ],
         "xaxis": "x3",
         "y": [
          0,
          0.014486120142267248,
          0.014486120142267248,
          0
         ],
         "yaxis": "y3"
        },
        {
         "hoverinfo": "y+name",
         "line": {
          "width": 0.5
         },
         "marker": {
          "color": "rgb(0,116,217)"
         },
         "mode": "lines",
         "name": "Col Cluster 14",
         "type": "scatter",
         "x": [
          145,
          145,
          155,
          155
         ],
         "xaxis": "x3",
         "y": [
          0,
          0.013344489192676645,
          0.013344489192676645,
          0
         ],
         "yaxis": "y3"
        },
        {
         "hoverinfo": "y+name",
         "line": {
          "width": 0.5
         },
         "marker": {
          "color": "rgb(0,116,217)"
         },
         "mode": "lines",
         "name": "Col Cluster 15",
         "type": "scatter",
         "x": [
          150,
          150,
          180,
          180
         ],
         "xaxis": "x3",
         "y": [
          0.013344489192676645,
          0.026455374954830434,
          0.026455374954830434,
          0.018848807619642888
         ],
         "yaxis": "y3"
        },
        {
         "hoverinfo": "y+name",
         "line": {
          "width": 0.5
         },
         "marker": {
          "color": "rgb(0,116,217)"
         },
         "mode": "lines",
         "name": "Col Cluster 16",
         "type": "scatter",
         "x": [
          165,
          165,
          175,
          175
         ],
         "xaxis": "x3",
         "y": [
          0,
          0.012239697672192138,
          0.012239697672192138,
          0
         ],
         "yaxis": "y3"
        },
        {
         "hoverinfo": "y+name",
         "line": {
          "width": 0.5
         },
         "marker": {
          "color": "rgb(0,116,217)"
         },
         "mode": "lines",
         "name": "Col Cluster 17",
         "type": "scatter",
         "x": [
          170,
          170,
          190,
          190
         ],
         "xaxis": "x3",
         "y": [
          0.012239697672192138,
          0.018848807619642888,
          0.018848807619642888,
          0.013324255131511083
         ],
         "yaxis": "y3"
        },
        {
         "hoverinfo": "y+name",
         "line": {
          "width": 0.5
         },
         "marker": {
          "color": "rgb(0,116,217)"
         },
         "mode": "lines",
         "name": "Col Cluster 18",
         "type": "scatter",
         "x": [
          185,
          185,
          195,
          195
         ],
         "xaxis": "x3",
         "y": [
          0,
          0.013324255131511083,
          0.013324255131511083,
          0
         ],
         "yaxis": "y3"
        },
        {
         "hoverinfo": "x+name",
         "line": {
          "width": 0.5
         },
         "marker": {
          "color": "rgb(0,116,217)"
         },
         "mode": "lines",
         "name": "Row Cluster 0",
         "type": "scatter",
         "x": [
          0,
          -0.012682852666187312,
          -0.012682852666187312,
          0
         ],
         "xaxis": "x9",
         "y": [
          5,
          5,
          15,
          15
         ],
         "yaxis": "y9"
        },
        {
         "hoverinfo": "x+name",
         "line": {
          "width": 0.5
         },
         "marker": {
          "color": "rgb(0,116,217)"
         },
         "mode": "lines",
         "name": "Row Cluster 1",
         "type": "scatter",
         "x": [
          0,
          -0.014356703776123964,
          -0.014356703776123964,
          0
         ],
         "xaxis": "x9",
         "y": [
          185,
          185,
          195,
          195
         ],
         "yaxis": "y9"
        },
        {
         "hoverinfo": "x+name",
         "line": {
          "width": 0.5
         },
         "marker": {
          "color": "rgb(0,116,217)"
         },
         "mode": "lines",
         "name": "Row Cluster 2",
         "type": "scatter",
         "x": [
          0,
          -0.015458268495237074,
          -0.015458268495237074,
          -0.014356703776123964
         ],
         "xaxis": "x9",
         "y": [
          175,
          175,
          190,
          190
         ],
         "yaxis": "y9"
        },
        {
         "hoverinfo": "x+name",
         "line": {
          "width": 0.5
         },
         "marker": {
          "color": "rgb(0,116,217)"
         },
         "mode": "lines",
         "name": "Row Cluster 3",
         "type": "scatter",
         "x": [
          0,
          -0.023550108463738784,
          -0.023550108463738784,
          -0.015458268495237074
         ],
         "xaxis": "x9",
         "y": [
          165,
          165,
          182.5,
          182.5
         ],
         "yaxis": "y9"
        },
        {
         "hoverinfo": "x+name",
         "line": {
          "width": 0.5
         },
         "marker": {
          "color": "rgb(0,116,217)"
         },
         "mode": "lines",
         "name": "Row Cluster 4",
         "type": "scatter",
         "x": [
          0,
          -0.054915863953430184,
          -0.054915863953430184,
          -0.023550108463738784
         ],
         "xaxis": "x9",
         "y": [
          155,
          155,
          173.75,
          173.75
         ],
         "yaxis": "y9"
        },
        {
         "hoverinfo": "x+name",
         "line": {
          "width": 0.5
         },
         "marker": {
          "color": "rgb(0,116,217)"
         },
         "mode": "lines",
         "name": "Row Cluster 5",
         "type": "scatter",
         "x": [
          0,
          -0.010136600338166242,
          -0.010136600338166242,
          0
         ],
         "xaxis": "x9",
         "y": [
          135,
          135,
          145,
          145
         ],
         "yaxis": "y9"
        },
        {
         "hoverinfo": "x+name",
         "line": {
          "width": 0.5
         },
         "marker": {
          "color": "rgb(0,116,217)"
         },
         "mode": "lines",
         "name": "Row Cluster 6",
         "type": "scatter",
         "x": [
          0,
          -0.01278478341583716,
          -0.01278478341583716,
          -0.010136600338166242
         ],
         "xaxis": "x9",
         "y": [
          125,
          125,
          140,
          140
         ],
         "yaxis": "y9"
        },
        {
         "hoverinfo": "x+name",
         "line": {
          "width": 0.5
         },
         "marker": {
          "color": "rgb(0,116,217)"
         },
         "mode": "lines",
         "name": "Row Cluster 7",
         "type": "scatter",
         "x": [
          0,
          -0.015196809989113734,
          -0.015196809989113734,
          -0.01278478341583716
         ],
         "xaxis": "x9",
         "y": [
          115,
          115,
          132.5,
          132.5
         ],
         "yaxis": "y9"
        },
        {
         "hoverinfo": "x+name",
         "line": {
          "width": 0.5
         },
         "marker": {
          "color": "rgb(0,116,217)"
         },
         "mode": "lines",
         "name": "Row Cluster 8",
         "type": "scatter",
         "x": [
          0,
          -0.012142111623600382,
          -0.012142111623600382,
          0
         ],
         "xaxis": "x9",
         "y": [
          95,
          95,
          105,
          105
         ],
         "yaxis": "y9"
        },
        {
         "hoverinfo": "x+name",
         "line": {
          "width": 0.5
         },
         "marker": {
          "color": "rgb(0,116,217)"
         },
         "mode": "lines",
         "name": "Row Cluster 9",
         "type": "scatter",
         "x": [
          -0.012981597870101154,
          -0.018227379258341288,
          -0.018227379258341288,
          -0.015196809989113734
         ],
         "xaxis": "x9",
         "y": [
          92.5,
          92.5,
          123.75,
          123.75
         ],
         "yaxis": "y9"
        },
        {
         "hoverinfo": "x+name",
         "line": {
          "width": 0.5
         },
         "marker": {
          "color": "rgb(0,116,217)"
         },
         "mode": "lines",
         "name": "Row Cluster 10",
         "type": "scatter",
         "x": [
          0,
          -0.012981597870101154,
          -0.012981597870101154,
          -0.012142111623600382
         ],
         "xaxis": "x9",
         "y": [
          85,
          85,
          100,
          100
         ],
         "yaxis": "y9"
        },
        {
         "hoverinfo": "x+name",
         "line": {
          "width": 0.5
         },
         "marker": {
          "color": "rgb(0,116,217)"
         },
         "mode": "lines",
         "name": "Row Cluster 11",
         "type": "scatter",
         "x": [
          0,
          -0.011654489483442398,
          -0.011654489483442398,
          0
         ],
         "xaxis": "x9",
         "y": [
          65,
          65,
          75,
          75
         ],
         "yaxis": "y9"
        },
        {
         "hoverinfo": "x+name",
         "line": {
          "width": 0.5
         },
         "marker": {
          "color": "rgb(0,116,217)"
         },
         "mode": "lines",
         "name": "Row Cluster 12",
         "type": "scatter",
         "x": [
          -0.015324073511925905,
          -0.021773334422191717,
          -0.021773334422191717,
          -0.018227379258341288
         ],
         "xaxis": "x9",
         "y": [
          62.5,
          62.5,
          108.125,
          108.125
         ],
         "yaxis": "y9"
        },
        {
         "hoverinfo": "x+name",
         "line": {
          "width": 0.5
         },
         "marker": {
          "color": "rgb(0,116,217)"
         },
         "mode": "lines",
         "name": "Row Cluster 13",
         "type": "scatter",
         "x": [
          0,
          -0.015324073511925905,
          -0.015324073511925905,
          -0.011654489483442398
         ],
         "xaxis": "x9",
         "y": [
          55,
          55,
          70,
          70
         ],
         "yaxis": "y9"
        },
        {
         "hoverinfo": "x+name",
         "line": {
          "width": 0.5
         },
         "marker": {
          "color": "rgb(0,116,217)"
         },
         "mode": "lines",
         "name": "Row Cluster 14",
         "type": "scatter",
         "x": [
          -0.023961864480649995,
          -0.09482949036692828,
          -0.09482949036692828,
          -0.054915863953430184
         ],
         "xaxis": "x9",
         "y": [
          53.28125,
          53.28125,
          164.375,
          164.375
         ],
         "yaxis": "y9"
        },
        {
         "hoverinfo": "x+name",
         "line": {
          "width": 0.5
         },
         "marker": {
          "color": "rgb(0,116,217)"
         },
         "mode": "lines",
         "name": "Row Cluster 15",
         "type": "scatter",
         "x": [
          0,
          -0.01398202586602965,
          -0.01398202586602965,
          0
         ],
         "xaxis": "x9",
         "y": [
          35,
          35,
          45,
          45
         ],
         "yaxis": "y9"
        },
        {
         "hoverinfo": "x+name",
         "line": {
          "width": 0.5
         },
         "marker": {
          "color": "rgb(0,116,217)"
         },
         "mode": "lines",
         "name": "Row Cluster 16",
         "type": "scatter",
         "x": [
          0,
          -0.015014109249709707,
          -0.015014109249709707,
          -0.01398202586602965
         ],
         "xaxis": "x9",
         "y": [
          25,
          25,
          40,
          40
         ],
         "yaxis": "y9"
        },
        {
         "hoverinfo": "x+name",
         "line": {
          "width": 0.5
         },
         "marker": {
          "color": "rgb(0,116,217)"
         },
         "mode": "lines",
         "name": "Row Cluster 17",
         "type": "scatter",
         "x": [
          -0.01745818448914785,
          -0.023961864480649995,
          -0.023961864480649995,
          -0.021773334422191717
         ],
         "xaxis": "x9",
         "y": [
          21.25,
          21.25,
          85.3125,
          85.3125
         ],
         "yaxis": "y9"
        },
        {
         "hoverinfo": "x+name",
         "line": {
          "width": 0.5
         },
         "marker": {
          "color": "rgb(0,116,217)"
         },
         "mode": "lines",
         "name": "Row Cluster 18",
         "type": "scatter",
         "x": [
          -0.012682852666187312,
          -0.01745818448914785,
          -0.01745818448914785,
          -0.015014109249709707
         ],
         "xaxis": "x9",
         "y": [
          10,
          10,
          32.5,
          32.5
         ],
         "yaxis": "y9"
        },
        {
         "colorbar": {
          "xpad": 100
         },
         "colorscale": [
          [
           0,
           "rgb(5,48,97)"
          ],
          [
           0.1,
           "rgb(33,102,172)"
          ],
          [
           0.2,
           "rgb(67,147,195)"
          ],
          [
           0.3,
           "rgb(146,197,222)"
          ],
          [
           0.4,
           "rgb(209,229,240)"
          ],
          [
           0.5,
           "rgb(247,247,247)"
          ],
          [
           0.6,
           "rgb(253,219,199)"
          ],
          [
           0.7,
           "rgb(244,165,130)"
          ],
          [
           0.8,
           "rgb(214,96,77)"
          ],
          [
           0.9,
           "rgb(178,24,43)"
          ],
          [
           1,
           "rgb(103,0,31)"
          ]
         ],
         "type": "heatmap",
         "x": [
          5,
          15,
          25,
          35,
          45,
          55,
          65,
          75,
          85,
          95,
          105,
          115,
          125,
          135,
          145,
          155,
          165,
          175,
          185,
          195
         ],
         "xaxis": "x11",
         "y": [
          5,
          15,
          25,
          35,
          45,
          55,
          65,
          75,
          85,
          95,
          105,
          115,
          125,
          135,
          145,
          155,
          165,
          175,
          185,
          195
         ],
         "yaxis": "y11",
         "z": [
          [
           -0.008273144639397878,
           -0.01566441325149326,
           0.009209804218433315,
           0.006919090958554253,
           0.010827000761812422,
           0.008896598308699932,
           0.008005853639215577,
           0.00904871009518049,
           0.007616449748310772,
           0.00799097359386236,
           0.0006835776043695452,
           -0.000059039616725042876,
           0.0017660658286453579,
           0.0027802519820412375,
           -0.003231682037303729,
           -0.0025789779217784137,
           0.0022363703968630855,
           0.0008082965924671726,
           -0.004818045549282557,
           -0.007540593508797988
          ],
          [
           -0.015085131446369138,
           -0.01852305759236228,
           0.009813146685723861,
           0.009164495804930395,
           0.009727600554717775,
           0.005280240566822525,
           0.010968935349410236,
           0.006955806512450646,
           0.010076874797274704,
           0.005368907664251021,
           0.0026190447986046417,
           0.0013407741271744822,
           0.0010311325301877172,
           -0.0005681473434621109,
           -0.004788654103491385,
           -0.0031037014171007016,
           0.0005625425131924322,
           0.005502839434601392,
           -0.0037962354154242872,
           -0.003738398184729208
          ],
          [
           -0.007608696640338364,
           -0.014790359016971122,
           0.010933663367172719,
           0.008268159709832634,
           0.005554801055047576,
           0.008761359755401932,
           0.004921273531258374,
           0.007372781622569935,
           0.012857080786562891,
           0.003310355779281182,
           0.005630040573166739,
           0.0047814544737673215,
           0.0031884431176807393,
           0.004799376995645588,
           -0.0061108143989019315,
           -0.0016341086894829937,
           -0.0013792603467047693,
           -0.0009054087272639677,
           -0.004507799863803008,
           -0.0030834336845041443
          ],
          [
           -0.010395557542048461,
           -0.01571391568974323,
           0.0077642100659757185,
           0.006438597084013287,
           0.005017952902640621,
           0.007789315298164512,
           0.006424506577409561,
           0.004666313450835569,
           0.00749509214296229,
           -0.00392124058940313,
           0.003379172179127643,
           0.0027926443530642553,
           0.0024528634341599576,
           0.0009666098463892991,
           -0.0006997939555241084,
           -0.004513754909888923,
           0.0007183819470477637,
           0.0002858040227206038,
           -0.000007430423978216361,
           -0.003424855961080886
          ],
          [
           -0.009997606150668026,
           -0.01131047050779399,
           0.0014318635650949485,
           0.008281020789883242,
           0.009848265383914367,
           0.006440227888474315,
           0.007662258248834153,
           0.004079350620972644,
           0.00999473617340274,
           -0.0013617960023505349,
           0.0043531022423373145,
           0.0040244278689992585,
           0.005533981905551322,
           -0.0010905909615314124,
           -0.006332944352419045,
           -0.0013629709718243621,
           -0.0004727163058403372,
           -0.0008669618896952613,
           -0.005657019757485893,
           -0.0037584199379467886
          ],
          [
           -0.014176527365715397,
           -0.008710313946082793,
           0.008238352673935134,
           0.010434867569821815,
           0.007603793659170077,
           0.011800747560483327,
           0.0064221938601188855,
           0.008949145890552401,
           0.012340771067609335,
           0.0070269411796271,
           -0.0015357491522035582,
           0.000506073904874782,
           0.0023986446557077157,
           0.003779531140434944,
           -0.0062030721851719095,
           -0.001158388218843398,
           0.0032868449419464207,
           0.005535516120187545,
           -0.0014341413942940973,
           0.001577160527146959
          ],
          [
           -0.013586385270681789,
           -0.012093172136959929,
           0.004170383149188495,
           0.006036190885385095,
           0.005419737959561299,
           0.006716138820625495,
           0.009213955494640769,
           0.012182738523276448,
           0.011762031113115023,
           0.006491768494322647,
           0.0033193250659162565,
           -0.0012775167207769167,
           0.004045649723232514,
           0.003967032805379245,
           -0.0009178485965609662,
           -0.004429386926316559,
           -0.0007617344069381637,
           0.0016086508038894998,
           -0.0005254559864240615,
           0.0013311607328703179
          ],
          [
           -0.018011357247480486,
           -0.008265663959064584,
           0.006491862560035755,
           0.0043281223262239266,
           0.009995938918351044,
           0.009144033111258332,
           0.011734547367908355,
           0.011473145981354738,
           0.01535962931471524,
           0.0033985824101855355,
           0.0026642924320052774,
           0.0010419094893153735,
           0.00791740295728005,
           0.005414136806201286,
           -0.0007634639847188263,
           -0.0021813693218285524,
           -0.00009167093550921379,
           0.0029725967421558863,
           0.0013700886192871131,
           0.0031237095035898665
          ],
          [
           -0.0074507458468653365,
           -0.008071778900230031,
           0.00040181350328538645,
           0.00836032727833158,
           0.009831506004066792,
           0.00858719888114512,
           0.007964932503168876,
           0.009904419359995642,
           0.009952548831404284,
           0.003610356834777839,
           0.001718445048434214,
           0.0037310857027829103,
           0.005080857941602179,
           0.0001624604887503489,
           -0.006310766150495084,
           -0.000987379563426205,
           0.00018921659786752532,
           0.0024521980252153464,
           0.0017399955903280029,
           0.0001268844058877061
          ],
          [
           -0.007412186204464377,
           -0.012767827059557812,
           0.0065604997844583846,
           0.007550196428431244,
           0.008503425196283887,
           0.004988188264270499,
           0.005417927632327624,
           0.010933191022173272,
           0.01033046387971237,
           0.0014723118003365787,
           -0.0021728215893155323,
           0.0025083015105554773,
           0.0016144655392661411,
           0.0021037445231669727,
           -0.00016704380296561627,
           -0.00001760685097162984,
           0.0008323617824539387,
           0.0006916826195729753,
           0.0011757633322994065,
           -0.0015569270630491072
          ],
          [
           -0.011334584743394105,
           -0.01227124011095726,
           0.006244439227222176,
           0.00409710401613772,
           0.009536791476067452,
           0.009907187743487311,
           0.008266875007294616,
           0.011922949300472663,
           0.00983314617752451,
           0.0016199817228509383,
           -0.0011365065246669026,
           0.004573073947406026,
           0.004900258970623184,
           0.0038834420271053327,
           -0.0030239925948274404,
           -0.006039124658726469,
           -0.0010574816535402487,
           0.0006078678338794496,
           0.004778116566056978,
           0.0006495084764110981
          ],
          [
           -0.003685378740073908,
           -0.011795270019299697,
           0.004281846969528047,
           0.006178804490628909,
           0.014312846173228588,
           0.01005053336731776,
           0.010519664227983894,
           0.008461368783078682,
           0.008379395121583255,
           0.00717988948266135,
           0.006952969754772442,
           0.00523132449487973,
           0.006089665777214037,
           0.0074101404993683895,
           -0.0008204981977064651,
           -0.0009953074692343744,
           0.0011241617770556545,
           0.0006895089247381803,
           0.006376590808407356,
           0.0023205899848343092
          ],
          [
           -0.007971085453894022,
           -0.0097153668458273,
           0.009301173490973813,
           0.006097321441167924,
           0.012859877003142839,
           0.011694586567443266,
           0.01186020849737679,
           0.010671573841204651,
           0.015595863339554428,
           0.010422764306623034,
           0.004875736366010575,
           0.002617002681113867,
           0.0037131662242410046,
           0.003978781669209286,
           -0.0032206774646433844,
           -0.005183477335331532,
           0.0015518922531650992,
           0.002541644872436577,
           0.0004188314851875097,
           -0.0019194919693253931
          ],
          [
           -0.012769627626149305,
           -0.011363147697207032,
           0.005503333433607871,
           0.009470984741120292,
           0.011718094599207807,
           0.011171294576372559,
           0.008808305853231224,
           0.011117862234670262,
           0.012096602964332459,
           0.0043219096767246334,
           0.006792167472871702,
           0.0034209945772349926,
           0.005061902273384433,
           0.0031384328015647833,
           -0.0007210640827340908,
           -0.0006402168702396294,
           0.003446757636376696,
           0.0006924889339059437,
           -0.00022876833523999274,
           0.0012719533189921028
          ],
          [
           -0.010122784552424546,
           -0.010680298814391809,
           0.008757622844977275,
           0.008775545034528376,
           0.011578631908615411,
           0.010290603184224811,
           0.00920095747805627,
           0.010016463797911768,
           0.012902256913498888,
           0.009221133370691859,
           0.0051440922213602525,
           0.0006312313290374183,
           0.008765073005265966,
           0.005165154896911606,
           0.001163453570894979,
           0.0017679202417277828,
           0.000858403504134797,
           0.004145661759391905,
           -0.00015646084088893897,
           0.00022742883151538607
          ],
          [
           -0.02622616046454762,
           -0.028855054991529516,
           -0.01089523737637732,
           -0.013756743087208534,
           -0.006862847838770114,
           -0.008366300777038704,
           -0.010895168765752805,
           -0.011641794324353638,
           -0.007053956081386925,
           -0.018127961846216456,
           -0.019163497724231093,
           -0.018371540345745285,
           -0.014026277713434898,
           -0.01471477751208361,
           -0.02536323973502841,
           -0.02167418609808658,
           -0.019105911435030598,
           -0.017231735586488606,
           -0.022096956438195647,
           -0.015907993709806667
          ],
          [
           -0.026100654948673863,
           -0.018691055258385436,
           0.0070241540478975795,
           0.00006277005466404084,
           -0.005878719387611531,
           -0.002350386499214485,
           -0.0028866940749400216,
           0.0041674420230775056,
           0.00457217453004799,
           -0.0055046229072552855,
           -0.008720909586166004,
           -0.010185192857892433,
           -0.0031942967191502802,
           -0.002956490175707427,
           -0.014757013031702071,
           -0.011020409738321746,
           -0.012069218798172132,
           -0.0038286562078396758,
           -0.009674274634071889,
           -0.007375854479957256
          ],
          [
           -0.018739658483713395,
           -0.020256965703952523,
           -0.00829861588946601,
           -0.000780761426583898,
           0.003785979245287896,
           0.0012053504515499025,
           -0.001996710921445266,
           0.0008584313005134403,
           0.005183975402940022,
           -0.003336500612430293,
           -0.0020570117822333867,
           -0.008407692924137122,
           0.00009629618797257766,
           -0.003714686749687668,
           -0.008622957984187218,
           -0.01106544878281146,
           -0.010563104357362518,
           -0.009659882124938735,
           -0.007106376812085702,
           -0.0077524970313800345
          ],
          [
           -0.018790452121428047,
           -0.017404892669732108,
           -0.0034383758798601782,
           -0.0025239905820860775,
           0.0005894941519065666,
           -0.0015695860352895608,
           0.0009840218684892266,
           0.005851823749593366,
           0.003395954950976998,
           -0.0074526737930111775,
           -0.006647047722106225,
           -0.0010535821463781847,
           0.0005917416830961697,
           -0.00493775165665844,
           -0.00890486965547066,
           -0.009520571553479407,
           -0.0067058566586977175,
           -0.005201169703414998,
           -0.0032940512492717344,
           -0.009658489557162975
          ],
          [
           -0.017910287740539155,
           -0.020924840103750952,
           0.00046662530970487115,
           0.0007308537273231774,
           0.0005043044568333599,
           0.0019200361043114622,
           0.0020131348012433214,
           0.0017946582376252573,
           0.005338863504618208,
           -0.0021743770255853168,
           -0.007617419804181846,
           -0.00550285982975629,
           -0.0022385883235059856,
           -0.009973331265344831,
           -0.011794784127535873,
           -0.012125323559121992,
           -0.006011526009724988,
           -0.006882178997320576,
           -0.008644202370893916,
           -0.007515217370463012
          ]
         ]
        }
       ],
       "layout": {
        "height": 800,
        "hovermode": "closest",
        "legend": {
         "x": 0.7,
         "y": 0.7
        },
        "paper_bgcolor": "rgba(0,0,0,0)",
        "plot_bgcolor": "rgba(0,0,0,0)",
        "showlegend": false,
        "template": {
         "data": {
          "bar": [
           {
            "error_x": {
             "color": "#2a3f5f"
            },
            "error_y": {
             "color": "#2a3f5f"
            },
            "marker": {
             "line": {
              "color": "#E5ECF6",
              "width": 0.5
             },
             "pattern": {
              "fillmode": "overlay",
              "size": 10,
              "solidity": 0.2
             }
            },
            "type": "bar"
           }
          ],
          "barpolar": [
           {
            "marker": {
             "line": {
              "color": "#E5ECF6",
              "width": 0.5
             },
             "pattern": {
              "fillmode": "overlay",
              "size": 10,
              "solidity": 0.2
             }
            },
            "type": "barpolar"
           }
          ],
          "carpet": [
           {
            "aaxis": {
             "endlinecolor": "#2a3f5f",
             "gridcolor": "white",
             "linecolor": "white",
             "minorgridcolor": "white",
             "startlinecolor": "#2a3f5f"
            },
            "baxis": {
             "endlinecolor": "#2a3f5f",
             "gridcolor": "white",
             "linecolor": "white",
             "minorgridcolor": "white",
             "startlinecolor": "#2a3f5f"
            },
            "type": "carpet"
           }
          ],
          "choropleth": [
           {
            "colorbar": {
             "outlinewidth": 0,
             "ticks": ""
            },
            "type": "choropleth"
           }
          ],
          "contour": [
           {
            "colorbar": {
             "outlinewidth": 0,
             "ticks": ""
            },
            "colorscale": [
             [
              0,
              "#0d0887"
             ],
             [
              0.1111111111111111,
              "#46039f"
             ],
             [
              0.2222222222222222,
              "#7201a8"
             ],
             [
              0.3333333333333333,
              "#9c179e"
             ],
             [
              0.4444444444444444,
              "#bd3786"
             ],
             [
              0.5555555555555556,
              "#d8576b"
             ],
             [
              0.6666666666666666,
              "#ed7953"
             ],
             [
              0.7777777777777778,
              "#fb9f3a"
             ],
             [
              0.8888888888888888,
              "#fdca26"
             ],
             [
              1,
              "#f0f921"
             ]
            ],
            "type": "contour"
           }
          ],
          "contourcarpet": [
           {
            "colorbar": {
             "outlinewidth": 0,
             "ticks": ""
            },
            "type": "contourcarpet"
           }
          ],
          "heatmap": [
           {
            "colorbar": {
             "outlinewidth": 0,
             "ticks": ""
            },
            "colorscale": [
             [
              0,
              "#0d0887"
             ],
             [
              0.1111111111111111,
              "#46039f"
             ],
             [
              0.2222222222222222,
              "#7201a8"
             ],
             [
              0.3333333333333333,
              "#9c179e"
             ],
             [
              0.4444444444444444,
              "#bd3786"
             ],
             [
              0.5555555555555556,
              "#d8576b"
             ],
             [
              0.6666666666666666,
              "#ed7953"
             ],
             [
              0.7777777777777778,
              "#fb9f3a"
             ],
             [
              0.8888888888888888,
              "#fdca26"
             ],
             [
              1,
              "#f0f921"
             ]
            ],
            "type": "heatmap"
           }
          ],
          "heatmapgl": [
           {
            "colorbar": {
             "outlinewidth": 0,
             "ticks": ""
            },
            "colorscale": [
             [
              0,
              "#0d0887"
             ],
             [
              0.1111111111111111,
              "#46039f"
             ],
             [
              0.2222222222222222,
              "#7201a8"
             ],
             [
              0.3333333333333333,
              "#9c179e"
             ],
             [
              0.4444444444444444,
              "#bd3786"
             ],
             [
              0.5555555555555556,
              "#d8576b"
             ],
             [
              0.6666666666666666,
              "#ed7953"
             ],
             [
              0.7777777777777778,
              "#fb9f3a"
             ],
             [
              0.8888888888888888,
              "#fdca26"
             ],
             [
              1,
              "#f0f921"
             ]
            ],
            "type": "heatmapgl"
           }
          ],
          "histogram": [
           {
            "marker": {
             "pattern": {
              "fillmode": "overlay",
              "size": 10,
              "solidity": 0.2
             }
            },
            "type": "histogram"
           }
          ],
          "histogram2d": [
           {
            "colorbar": {
             "outlinewidth": 0,
             "ticks": ""
            },
            "colorscale": [
             [
              0,
              "#0d0887"
             ],
             [
              0.1111111111111111,
              "#46039f"
             ],
             [
              0.2222222222222222,
              "#7201a8"
             ],
             [
              0.3333333333333333,
              "#9c179e"
             ],
             [
              0.4444444444444444,
              "#bd3786"
             ],
             [
              0.5555555555555556,
              "#d8576b"
             ],
             [
              0.6666666666666666,
              "#ed7953"
             ],
             [
              0.7777777777777778,
              "#fb9f3a"
             ],
             [
              0.8888888888888888,
              "#fdca26"
             ],
             [
              1,
              "#f0f921"
             ]
            ],
            "type": "histogram2d"
           }
          ],
          "histogram2dcontour": [
           {
            "colorbar": {
             "outlinewidth": 0,
             "ticks": ""
            },
            "colorscale": [
             [
              0,
              "#0d0887"
             ],
             [
              0.1111111111111111,
              "#46039f"
             ],
             [
              0.2222222222222222,
              "#7201a8"
             ],
             [
              0.3333333333333333,
              "#9c179e"
             ],
             [
              0.4444444444444444,
              "#bd3786"
             ],
             [
              0.5555555555555556,
              "#d8576b"
             ],
             [
              0.6666666666666666,
              "#ed7953"
             ],
             [
              0.7777777777777778,
              "#fb9f3a"
             ],
             [
              0.8888888888888888,
              "#fdca26"
             ],
             [
              1,
              "#f0f921"
             ]
            ],
            "type": "histogram2dcontour"
           }
          ],
          "mesh3d": [
           {
            "colorbar": {
             "outlinewidth": 0,
             "ticks": ""
            },
            "type": "mesh3d"
           }
          ],
          "parcoords": [
           {
            "line": {
             "colorbar": {
              "outlinewidth": 0,
              "ticks": ""
             }
            },
            "type": "parcoords"
           }
          ],
          "pie": [
           {
            "automargin": true,
            "type": "pie"
           }
          ],
          "scatter": [
           {
            "fillpattern": {
             "fillmode": "overlay",
             "size": 10,
             "solidity": 0.2
            },
            "type": "scatter"
           }
          ],
          "scatter3d": [
           {
            "line": {
             "colorbar": {
              "outlinewidth": 0,
              "ticks": ""
             }
            },
            "marker": {
             "colorbar": {
              "outlinewidth": 0,
              "ticks": ""
             }
            },
            "type": "scatter3d"
           }
          ],
          "scattercarpet": [
           {
            "marker": {
             "colorbar": {
              "outlinewidth": 0,
              "ticks": ""
             }
            },
            "type": "scattercarpet"
           }
          ],
          "scattergeo": [
           {
            "marker": {
             "colorbar": {
              "outlinewidth": 0,
              "ticks": ""
             }
            },
            "type": "scattergeo"
           }
          ],
          "scattergl": [
           {
            "marker": {
             "colorbar": {
              "outlinewidth": 0,
              "ticks": ""
             }
            },
            "type": "scattergl"
           }
          ],
          "scattermapbox": [
           {
            "marker": {
             "colorbar": {
              "outlinewidth": 0,
              "ticks": ""
             }
            },
            "type": "scattermapbox"
           }
          ],
          "scatterpolar": [
           {
            "marker": {
             "colorbar": {
              "outlinewidth": 0,
              "ticks": ""
             }
            },
            "type": "scatterpolar"
           }
          ],
          "scatterpolargl": [
           {
            "marker": {
             "colorbar": {
              "outlinewidth": 0,
              "ticks": ""
             }
            },
            "type": "scatterpolargl"
           }
          ],
          "scatterternary": [
           {
            "marker": {
             "colorbar": {
              "outlinewidth": 0,
              "ticks": ""
             }
            },
            "type": "scatterternary"
           }
          ],
          "surface": [
           {
            "colorbar": {
             "outlinewidth": 0,
             "ticks": ""
            },
            "colorscale": [
             [
              0,
              "#0d0887"
             ],
             [
              0.1111111111111111,
              "#46039f"
             ],
             [
              0.2222222222222222,
              "#7201a8"
             ],
             [
              0.3333333333333333,
              "#9c179e"
             ],
             [
              0.4444444444444444,
              "#bd3786"
             ],
             [
              0.5555555555555556,
              "#d8576b"
             ],
             [
              0.6666666666666666,
              "#ed7953"
             ],
             [
              0.7777777777777778,
              "#fb9f3a"
             ],
             [
              0.8888888888888888,
              "#fdca26"
             ],
             [
              1,
              "#f0f921"
             ]
            ],
            "type": "surface"
           }
          ],
          "table": [
           {
            "cells": {
             "fill": {
              "color": "#EBF0F8"
             },
             "line": {
              "color": "white"
             }
            },
            "header": {
             "fill": {
              "color": "#C8D4E3"
             },
             "line": {
              "color": "white"
             }
            },
            "type": "table"
           }
          ]
         },
         "layout": {
          "annotationdefaults": {
           "arrowcolor": "#2a3f5f",
           "arrowhead": 0,
           "arrowwidth": 1
          },
          "autotypenumbers": "strict",
          "coloraxis": {
           "colorbar": {
            "outlinewidth": 0,
            "ticks": ""
           }
          },
          "colorscale": {
           "diverging": [
            [
             0,
             "#8e0152"
            ],
            [
             0.1,
             "#c51b7d"
            ],
            [
             0.2,
             "#de77ae"
            ],
            [
             0.3,
             "#f1b6da"
            ],
            [
             0.4,
             "#fde0ef"
            ],
            [
             0.5,
             "#f7f7f7"
            ],
            [
             0.6,
             "#e6f5d0"
            ],
            [
             0.7,
             "#b8e186"
            ],
            [
             0.8,
             "#7fbc41"
            ],
            [
             0.9,
             "#4d9221"
            ],
            [
             1,
             "#276419"
            ]
           ],
           "sequential": [
            [
             0,
             "#0d0887"
            ],
            [
             0.1111111111111111,
             "#46039f"
            ],
            [
             0.2222222222222222,
             "#7201a8"
            ],
            [
             0.3333333333333333,
             "#9c179e"
            ],
            [
             0.4444444444444444,
             "#bd3786"
            ],
            [
             0.5555555555555556,
             "#d8576b"
            ],
            [
             0.6666666666666666,
             "#ed7953"
            ],
            [
             0.7777777777777778,
             "#fb9f3a"
            ],
            [
             0.8888888888888888,
             "#fdca26"
            ],
            [
             1,
             "#f0f921"
            ]
           ],
           "sequentialminus": [
            [
             0,
             "#0d0887"
            ],
            [
             0.1111111111111111,
             "#46039f"
            ],
            [
             0.2222222222222222,
             "#7201a8"
            ],
            [
             0.3333333333333333,
             "#9c179e"
            ],
            [
             0.4444444444444444,
             "#bd3786"
            ],
            [
             0.5555555555555556,
             "#d8576b"
            ],
            [
             0.6666666666666666,
             "#ed7953"
            ],
            [
             0.7777777777777778,
             "#fb9f3a"
            ],
            [
             0.8888888888888888,
             "#fdca26"
            ],
            [
             1,
             "#f0f921"
            ]
           ]
          },
          "colorway": [
           "#636efa",
           "#EF553B",
           "#00cc96",
           "#ab63fa",
           "#FFA15A",
           "#19d3f3",
           "#FF6692",
           "#B6E880",
           "#FF97FF",
           "#FECB52"
          ],
          "font": {
           "color": "#2a3f5f"
          },
          "geo": {
           "bgcolor": "white",
           "lakecolor": "white",
           "landcolor": "#E5ECF6",
           "showlakes": true,
           "showland": true,
           "subunitcolor": "white"
          },
          "hoverlabel": {
           "align": "left"
          },
          "hovermode": "closest",
          "mapbox": {
           "style": "light"
          },
          "paper_bgcolor": "white",
          "plot_bgcolor": "#E5ECF6",
          "polar": {
           "angularaxis": {
            "gridcolor": "white",
            "linecolor": "white",
            "ticks": ""
           },
           "bgcolor": "#E5ECF6",
           "radialaxis": {
            "gridcolor": "white",
            "linecolor": "white",
            "ticks": ""
           }
          },
          "scene": {
           "xaxis": {
            "backgroundcolor": "#E5ECF6",
            "gridcolor": "white",
            "gridwidth": 2,
            "linecolor": "white",
            "showbackground": true,
            "ticks": "",
            "zerolinecolor": "white"
           },
           "yaxis": {
            "backgroundcolor": "#E5ECF6",
            "gridcolor": "white",
            "gridwidth": 2,
            "linecolor": "white",
            "showbackground": true,
            "ticks": "",
            "zerolinecolor": "white"
           },
           "zaxis": {
            "backgroundcolor": "#E5ECF6",
            "gridcolor": "white",
            "gridwidth": 2,
            "linecolor": "white",
            "showbackground": true,
            "ticks": "",
            "zerolinecolor": "white"
           }
          },
          "shapedefaults": {
           "line": {
            "color": "#2a3f5f"
           }
          },
          "ternary": {
           "aaxis": {
            "gridcolor": "white",
            "linecolor": "white",
            "ticks": ""
           },
           "baxis": {
            "gridcolor": "white",
            "linecolor": "white",
            "ticks": ""
           },
           "bgcolor": "#E5ECF6",
           "caxis": {
            "gridcolor": "white",
            "linecolor": "white",
            "ticks": ""
           }
          },
          "title": {
           "x": 0.05
          },
          "xaxis": {
           "automargin": true,
           "gridcolor": "white",
           "linecolor": "white",
           "ticks": "",
           "title": {
            "standoff": 15
           },
           "zerolinecolor": "white",
           "zerolinewidth": 2
          },
          "yaxis": {
           "automargin": true,
           "gridcolor": "white",
           "linecolor": "white",
           "ticks": "",
           "title": {
            "standoff": 15
           },
           "zerolinecolor": "white",
           "zerolinewidth": 2
          }
         }
        },
        "width": 1000,
        "xaxis": {
         "anchor": "y",
         "domain": [
          0,
          0.95
         ],
         "fixedrange": false,
         "mirror": false,
         "showgrid": false,
         "showline": false,
         "showticklabels": false,
         "type": "linear",
         "zeroline": false
        },
        "xaxis10": {
         "anchor": "y10",
         "domain": [
          0.000949050949050949,
          0.000949050949050949
         ],
         "fixedrange": false,
         "mirror": false,
         "showgrid": false,
         "showline": false,
         "showticklabels": false,
         "type": "linear",
         "zeroline": false
        },
        "xaxis11": {
         "anchor": "y11",
         "domain": [
          0.000949050949050949,
          0.95
         ],
         "fixedrange": false,
         "mirror": false,
         "range": [
          0,
          200
         ],
         "showgrid": false,
         "showline": false,
         "showticklabels": false,
         "side": "bottom",
         "tickmode": "array",
         "ticks": "",
         "ticktext": [
          "PVT_-_Psychomotor_Vigilance_task",
          "Simon_task",
          "Digit_Span",
          "NBackTask",
          "Stroop",
          "TMT_-_Trail_Making_Task",
          "WCST_-_Wisconsin_Card_Sort_Test",
          "Go_NoGo",
          "Verbal_fluency_task",
          "FlankerTask",
          "Sorting_task",
          "Span_Task",
          "ContiniousPerformanceTask",
          "StopSignalTask",
          "DiscountingTask",
          "PEG_-_Pencil_Tapping_task",
          "CategoryFluencyTask",
          "TowerOfLondon",
          "IGT_-_Iowa_Gambling_task",
          "Semantic_Fluency_test"
         ],
         "tickvals": [
          5,
          15,
          25,
          35,
          45,
          55,
          65,
          75,
          85,
          95,
          105,
          115,
          125,
          135,
          145,
          155,
          165,
          175,
          185,
          195
         ],
         "type": "linear",
         "zeroline": false
        },
        "xaxis12": {
         "anchor": "y12",
         "domain": [
          0.95,
          1
         ],
         "fixedrange": false,
         "mirror": false,
         "range": [
          -5,
          1
         ],
         "showgrid": false,
         "showline": false,
         "showticklabels": false,
         "type": "linear",
         "zeroline": false
        },
        "xaxis13": {
         "anchor": "y13",
         "domain": [
          0,
          0.2
         ]
        },
        "xaxis14": {
         "anchor": "y14",
         "domain": [
          0.2,
          0.4
         ]
        },
        "xaxis15": {
         "anchor": "y15",
         "domain": [
          0.000949050949050949,
          0.95
         ],
         "fixedrange": false,
         "mirror": false,
         "range": [
          5,
          195
         ],
         "scaleanchor": "x11",
         "scaleratio": 1,
         "showgrid": false,
         "showline": false,
         "showticklabels": false,
         "type": "linear",
         "zeroline": false
        },
        "xaxis16": {
         "anchor": "y16",
         "domain": [
          0.8,
          1
         ]
        },
        "xaxis2": {
         "anchor": "y2",
         "domain": [
          0.2,
          0.4
         ]
        },
        "xaxis3": {
         "anchor": "y9",
         "domain": [
          0.000949050949050949,
          0.95
         ],
         "fixedrange": false,
         "mirror": false,
         "scaleanchor": "x11",
         "showgrid": false,
         "showline": false,
         "showticklabels": false,
         "type": "linear",
         "zeroline": false
        },
        "xaxis4": {
         "anchor": "y4",
         "domain": [
          0.8,
          1
         ]
        },
        "xaxis5": {
         "anchor": "y5",
         "domain": [
          0,
          0.95
         ],
         "fixedrange": false,
         "mirror": false,
         "showgrid": false,
         "showline": false,
         "showticklabels": false,
         "type": "linear",
         "zeroline": false
        },
        "xaxis6": {
         "anchor": "y6",
         "domain": [
          0.2,
          0.4
         ],
         "fixedrange": false,
         "mirror": false,
         "showgrid": false,
         "showline": false,
         "showticklabels": false,
         "type": "linear",
         "zeroline": false
        },
        "xaxis7": {
         "anchor": "y9",
         "domain": [
          0.000949050949050949,
          0.95
         ],
         "fixedrange": false,
         "mirror": false,
         "showgrid": false,
         "showline": false,
         "showticklabels": false,
         "type": "linear",
         "zeroline": false
        },
        "xaxis8": {
         "anchor": "y8",
         "domain": [
          0.8,
          1
         ]
        },
        "xaxis9": {
         "anchor": "y9",
         "domain": [
          0,
          0.000949050949050949
         ],
         "fixedrange": false,
         "mirror": false,
         "showgrid": false,
         "showline": false,
         "showticklabels": false,
         "type": "linear",
         "zeroline": false
        },
        "yaxis": {
         "anchor": "x",
         "domain": [
          0.999050949050949,
          1
         ],
         "fixedrange": false,
         "mirror": false,
         "showgrid": false,
         "showline": false,
         "showticklabels": false,
         "type": "linear",
         "zeroline": false
        },
        "yaxis10": {
         "anchor": "x10",
         "domain": [
          0,
          0.999050949050949
         ],
         "fixedrange": false,
         "mirror": false,
         "showgrid": false,
         "showline": false,
         "showticklabels": false,
         "type": "linear",
         "zeroline": false
        },
        "yaxis11": {
         "anchor": "x11",
         "domain": [
          0,
          0.999050949050949
         ],
         "fixedrange": false,
         "mirror": false,
         "showgrid": false,
         "showline": false,
         "showticklabels": true,
         "side": "right",
         "tickmode": "array",
         "ticktext": [
          "Mindfulness",
          "ProcessingSpeed",
          "Reasoning",
          "ExecutiveFunction",
          "Inhibition",
          "Fluency",
          "CogntiveControl",
          "InhibitoryControl",
          "ProblemSolving",
          "LongTermMemory",
          "ShortTermMemory",
          "SelectiveAttention",
          "Shifting",
          "EpisodicMemory",
          "SelfRegulation",
          "Attention",
          "WorkingMemory",
          "Planning",
          "Initiation",
          "Sequencing"
         ],
         "tickvals": [
          5,
          15,
          25,
          35,
          45,
          55,
          65,
          75,
          85,
          95,
          105,
          115,
          125,
          135,
          145,
          155,
          165,
          175,
          185,
          195
         ],
         "type": "linear",
         "zeroline": false
        },
        "yaxis12": {
         "anchor": "x12",
         "domain": [
          0,
          0.949050949050949
         ],
         "fixedrange": false,
         "mirror": false,
         "range": [
          5,
          195
         ],
         "scaleanchor": "y11",
         "scaleratio": 1,
         "showgrid": false,
         "showline": false,
         "showticklabels": false,
         "type": "linear",
         "zeroline": false
        },
        "yaxis13": {
         "anchor": "x13",
         "domain": [
          0,
          0.2
         ]
        },
        "yaxis14": {
         "anchor": "x14",
         "domain": [
          0,
          0.2
         ]
        },
        "yaxis15": {
         "anchor": "x15",
         "domain": [
          0.949050949050949,
          0.999050949050949
         ],
         "fixedrange": false,
         "mirror": false,
         "range": [
          -0.5,
          0.5
         ],
         "showgrid": false,
         "showline": false,
         "showticklabels": false,
         "type": "linear",
         "zeroline": false
        },
        "yaxis16": {
         "anchor": "x16",
         "domain": [
          0,
          0.2
         ]
        },
        "yaxis2": {
         "anchor": "x2",
         "domain": [
          0.8,
          1
         ]
        },
        "yaxis3": {
         "anchor": "x3",
         "domain": [
          0.999050949050949,
          1
         ],
         "fixedrange": false,
         "mirror": false,
         "range": [
          0,
          0.10475985491147077
         ],
         "showgrid": false,
         "showline": false,
         "showticklabels": false,
         "type": "linear",
         "zeroline": false
        },
        "yaxis4": {
         "anchor": "x4",
         "domain": [
          0.8,
          1
         ]
        },
        "yaxis5": {
         "anchor": "x5",
         "domain": [
          0.999050949050949,
          0.999050949050949
         ],
         "fixedrange": false,
         "mirror": false,
         "showgrid": false,
         "showline": false,
         "showticklabels": false,
         "type": "linear",
         "zeroline": false
        },
        "yaxis6": {
         "anchor": "x6",
         "domain": [
          0.999050949050949,
          0.999050949050949
         ],
         "fixedrange": false,
         "mirror": false,
         "showgrid": false,
         "showline": false,
         "showticklabels": false,
         "type": "linear",
         "zeroline": false
        },
        "yaxis7": {
         "anchor": "x7",
         "domain": [
          0.999050949050949,
          0.999050949050949
         ],
         "fixedrange": false,
         "mirror": false,
         "showgrid": false,
         "showline": false,
         "showticklabels": false,
         "type": "linear",
         "zeroline": false
        },
        "yaxis8": {
         "anchor": "x8",
         "domain": [
          0.6000000000000001,
          0.8
         ]
        },
        "yaxis9": {
         "anchor": "x9",
         "domain": [
          0,
          0.999050949050949
         ],
         "fixedrange": false,
         "mirror": false,
         "range": [
          5,
          195
         ],
         "scaleanchor": "y11",
         "showgrid": false,
         "showline": false,
         "showticklabels": false,
         "type": "linear",
         "zeroline": false
        }
       }
      }
     },
     "metadata": {},
     "output_type": "display_data"
    }
   ],
   "source": [
    "# visualize the similarity between constructs pairs regardless of the underlying tasks\n",
    "\n",
    "# # drop tasks for visualization\n",
    "tasks = PUBMED.query('category.str.contains(\"Task\")')['label'].unique()\n",
    "constructs = PUBMED.query('category.str.contains(\"Construct\")')['label'].unique()\n",
    "\n",
    "n2n_sim = n2n_js.applymap(lambda x: np.exp(-x))\n",
    "\n",
    "plot_data = n2n_sim.drop(index=tasks, columns=constructs, errors='ignore')\n",
    "\n",
    "# # heatmap plot categorized by label category, either task or construct\n",
    "# g = sns.clustermap(n2n_sim,\n",
    "#                    figsize=(25, 25),\n",
    "#                    dendrogram_ratio=0.0001, \n",
    "#                    cbar_pos=(1.0, 0.73, 0.03, 0.25),\n",
    "#                    robust=True)\n",
    "# plt.show()\n",
    "\n",
    "dash_bio.Clustergram(\n",
    "  data=plot_data,\n",
    "  column_labels=plot_data.columns.to_list(),\n",
    "  row_labels=plot_data.index.to_list(),\n",
    "  cluster='all',\n",
    "#   center_values=False,\n",
    "  height=800,\n",
    "  width=1000,\n",
    "  display_ratio=[0.001, 0.001],\n",
    "  color_map='RdBu_r',\n",
    "  hidden_labels=['col'],\n",
    "  row_dist='euclidean',\n",
    "  col_dist='euclidean',\n",
    "  # standardize='col'\n",
    ")\n"
   ]
  },
  {
   "cell_type": "markdown",
   "metadata": {},
   "source": [
    "## Graph"
   ]
  },
  {
   "cell_type": "code",
   "execution_count": 124,
   "metadata": {},
   "outputs": [
    {
     "ename": "NameError",
     "evalue": "name 'sg' is not defined",
     "output_type": "error",
     "traceback": [
      "\u001b[0;31m---------------------------------------------------------------------------\u001b[0m",
      "\u001b[0;31mNameError\u001b[0m                                 Traceback (most recent call last)",
      "\u001b[1;32m/Users/morteza/workspace/cogtext/notebooks/6 Link Prediction.ipynb Cell 13'\u001b[0m in \u001b[0;36m<cell line: 13>\u001b[0;34m()\u001b[0m\n\u001b[1;32m     <a href='vscode-notebook-cell:/Users/morteza/workspace/cogtext/notebooks/6%20Link%20Prediction.ipynb#ch0000011?line=9'>10</a>\u001b[0m \u001b[39m# arbitrary threshold to keep Simon connected in the graph\u001b[39;00m\n\u001b[1;32m     <a href='vscode-notebook-cell:/Users/morteza/workspace/cogtext/notebooks/6%20Link%20Prediction.ipynb#ch0000011?line=10'>11</a>\u001b[0m adj \u001b[39m=\u001b[39m sim\u001b[39m.\u001b[39mquery(\u001b[39m'\u001b[39m\u001b[39mtarget != source\u001b[39m\u001b[39m'\u001b[39m)\u001b[39m.\u001b[39mquery(\u001b[39m'\u001b[39m\u001b[39mweight >= .91\u001b[39m\u001b[39m'\u001b[39m)\u001b[39m.\u001b[39mcopy()\n\u001b[0;32m---> <a href='vscode-notebook-cell:/Users/morteza/workspace/cogtext/notebooks/6%20Link%20Prediction.ipynb#ch0000011?line=12'>13</a>\u001b[0m task_features \u001b[39m=\u001b[39m sg\u001b[39m.\u001b[39mIndexedArray(np\u001b[39m.\u001b[39mempty(tasks\u001b[39m.\u001b[39mshape)\u001b[39m.\u001b[39mreshape(\u001b[39m-\u001b[39m\u001b[39m1\u001b[39m,\u001b[39m1\u001b[39m), index\u001b[39m=\u001b[39mtasks)\n\u001b[1;32m     <a href='vscode-notebook-cell:/Users/morteza/workspace/cogtext/notebooks/6%20Link%20Prediction.ipynb#ch0000011?line=13'>14</a>\u001b[0m construct_features \u001b[39m=\u001b[39m sg\u001b[39m.\u001b[39mIndexedArray(np\u001b[39m.\u001b[39mempty(constructs\u001b[39m.\u001b[39mshape)\u001b[39m.\u001b[39mreshape(\u001b[39m-\u001b[39m\u001b[39m1\u001b[39m,\u001b[39m1\u001b[39m), index\u001b[39m=\u001b[39mconstructs)\n\u001b[1;32m     <a href='vscode-notebook-cell:/Users/morteza/workspace/cogtext/notebooks/6%20Link%20Prediction.ipynb#ch0000011?line=15'>16</a>\u001b[0m G \u001b[39m=\u001b[39m sg\u001b[39m.\u001b[39mStellarGraph(\n\u001b[1;32m     <a href='vscode-notebook-cell:/Users/morteza/workspace/cogtext/notebooks/6%20Link%20Prediction.ipynb#ch0000011?line=16'>17</a>\u001b[0m   nodes \u001b[39m=\u001b[39m {\u001b[39m'\u001b[39m\u001b[39mtask\u001b[39m\u001b[39m'\u001b[39m: task_features,\n\u001b[1;32m     <a href='vscode-notebook-cell:/Users/morteza/workspace/cogtext/notebooks/6%20Link%20Prediction.ipynb#ch0000011?line=17'>18</a>\u001b[0m            \u001b[39m'\u001b[39m\u001b[39mconstruct\u001b[39m\u001b[39m'\u001b[39m: construct_features\n\u001b[1;32m     <a href='vscode-notebook-cell:/Users/morteza/workspace/cogtext/notebooks/6%20Link%20Prediction.ipynb#ch0000011?line=18'>19</a>\u001b[0m   },\n\u001b[1;32m     <a href='vscode-notebook-cell:/Users/morteza/workspace/cogtext/notebooks/6%20Link%20Prediction.ipynb#ch0000011?line=19'>20</a>\u001b[0m   edges\u001b[39m=\u001b[39madj)\n",
      "\u001b[0;31mNameError\u001b[0m: name 'sg' is not defined"
     ]
    }
   ],
   "source": [
    "node_avg_embeddings = node_features.apply(lambda x: x.mean(axis=0))\n",
    "\n",
    "sim = n2n_js.applymap(lambda x: np.exp(-x))\n",
    "sim.index.name = 'source'\n",
    "sim.columns.name = 'target'\n",
    "sim = sim.reset_index().melt(id_vars=['source'], value_vars=sim.columns, value_name='weight')\n",
    "\n",
    "adj = sim\n",
    "\n",
    "# arbitrary threshold to keep Simon connected in the graph\n",
    "adj = sim.query('target != source').query('weight >= .91').copy()\n",
    "\n",
    "task_features = sg.IndexedArray(np.empty(tasks.shape).reshape(-1,1), index=tasks)\n",
    "construct_features = sg.IndexedArray(np.empty(constructs.shape).reshape(-1,1), index=constructs)\n",
    "\n",
    "G = sg.StellarGraph(\n",
    "  nodes = {'task': task_features,\n",
    "           'construct': construct_features\n",
    "  },\n",
    "  edges=adj)\n",
    "print(G.info())"
   ]
  },
  {
   "cell_type": "code",
   "execution_count": 14,
   "metadata": {},
   "outputs": [
    {
     "name": "stdout",
     "output_type": "stream",
     "text": [
      "[MetaPath2Vec] Created 1560 random walks.\n",
      "[MetaPath2Vec] Now training the Word2Vec model...\n",
      "[MetaPath2Vec] Done! Model saved to `models/gpt3/abstracts_metapath2vec.pkl`.\n"
     ]
    }
   ],
   "source": [
    "# metapath2vec\n",
    "\n",
    "from gensim.models import Word2Vec\n",
    "\n",
    "# metapath schemas as a list of lists of node types.\n",
    "metapaths = [\n",
    "    ['task', 'construct', 'task'],\n",
    "    ['construct', 'task', 'construct'],\n",
    "    # ['construct', 'task', 'task', 'construct'],\n",
    "    # ['task', 'construct', 'task', 'construct', 'task'],\n",
    "    # ['task', 'construct', 'construct', 'task'],\n",
    "]\n",
    "\n",
    "walks = UniformRandomMetaPathWalk(G).run(\n",
    "    nodes=list(G.nodes()),  # root nodes\n",
    "    length=3,  # maximum length of a random walk\n",
    "    n=10,  # number of random walks per root node\n",
    "    metapaths=metapaths,  # the metapaths\n",
    ")\n",
    "print(f'[MetaPath2Vec] Created {len(walks)} random walks.')\n",
    "# DEBUG: print('Random walks starting from the \"RewardProcessing\" node:',\n",
    "# DEBUG:      [' -> '.join(w) for w in walks if w[0] == 'RewardProcessing'])\n",
    "\n",
    "print('[MetaPath2Vec] Now training the Word2Vec model...', sep=' ')\n",
    "model = Word2Vec(walks, vector_size=128, min_count=0, window=3, sg=1, workers=1, epochs=1000)\n",
    "model.save('models/gpt3/abstracts_metapath2vec.pkl')\n",
    "\n",
    "print('[MetaPath2Vec] Done! Model saved to `models/gpt3/abstracts_metapath2vec.pkl`.')"
   ]
  },
  {
   "cell_type": "code",
   "execution_count": 21,
   "metadata": {},
   "outputs": [
    {
     "data": {
      "text/plain": [
       "[('FlankerTask', 0.6479361653327942),\n",
       " ('StopSignalTask', 0.636583149433136),\n",
       " ('TowerOfLondon', 0.6256452798843384),\n",
       " ('Fluency', 0.612270712852478),\n",
       " ('InhibitoryControl', 0.601482093334198),\n",
       " ('Inhibition', 0.5987109541893005),\n",
       " ('Attention', 0.5787180662155151),\n",
       " ('DiscountingTask', 0.5702905654907227),\n",
       " ('Span_Task', 0.5652682781219482),\n",
       " ('Verbal_fluency_task', 0.5599583983421326),\n",
       " ('EpisodicMemory', 0.5560160875320435),\n",
       " ('ExecutiveFunction', 0.5529468655586243),\n",
       " ('ProcessingSpeed', 0.5521318316459656),\n",
       " ('WorkingMemory', 0.5419722199440002),\n",
       " ('PVT_-_Psychomotor_Vigilance_task', 0.5362783074378967),\n",
       " ('Sorting_task', 0.5287689566612244),\n",
       " ('ContiniousPerformanceTask', 0.5238953828811646),\n",
       " ('Semantic_Fluency_test', 0.5211595892906189),\n",
       " ('Go_NoGo', 0.5187562704086304),\n",
       " ('PEG_-_Pencil_Tapping_task', 0.5165704488754272)]"
      ]
     },
     "execution_count": 21,
     "metadata": {},
     "output_type": "execute_result"
    }
   ],
   "source": [
    "# query the joint graph\n",
    "\n",
    "from gensim.models import Word2Vec\n",
    "model = Word2Vec.load('models/gpt3/abstracts_metapath2vec.pkl')\n",
    "\n",
    "#  visual-spatial and organizational processing abilities, as well as nonverbal problem-solving skills. \n",
    " \n",
    "# FIXME: there is a typo in \"CogntiveControl\"; it comes from a type in the original lexicon.\n",
    "model.wv.most_similar(\n",
    "  positive=['Simon_task'],\n",
    "  # negative=['Sorting_task','Go_NoGo'],\n",
    "  topn=20)\n",
    "\n",
    "# TODO filter by category\n"
   ]
  },
  {
   "cell_type": "code",
   "execution_count": 22,
   "metadata": {},
   "outputs": [],
   "source": [
    "# Plot all tasks and constructs in a lower dimensional 3d space\n",
    "\n",
    "import plotly.express as px\n",
    "\n",
    "# projections = PCA(n_components=2, random_state=0).fit_transform(label_embeddings)\n",
    "projections_3d = UMAP(n_components=3, random_state=0).fit_transform(node_avg_embeddings)\n",
    "projections_2d = UMAP(n_components=2, random_state=0).fit_transform(node_avg_embeddings)\n",
    "\n",
    "projections_3d = pd.DataFrame(projections_3d, index=node_avg_embeddings.index).reset_index()\n",
    "projections_2d = pd.DataFrame(projections_2d, index=node_avg_embeddings.index).reset_index()\n",
    "\n",
    "fig = px.scatter_3d(projections_3d,\n",
    "                    x=0, y=1, z=2,\n",
    "                    color='category', hover_name='label',\n",
    "                    title='Popular labels in the topic space',\n",
    "                    color_discrete_sequence=['red','blue'],\n",
    "                    width=600, height=600,)\n",
    "fig.show()\n",
    "\n",
    "\n",
    "fig, ax = plt.subplots(1,1, figsize=(15,15))\n",
    "sns.scatterplot(data=projections_2d, x=0, y=1, ax=ax, s=50, hue='category')\n",
    "\n",
    "for (i,lbl, _,x, y) in projections_2d.itertuples():\n",
    "  lbl = f'{lbl[:12]}...' if len(lbl)>10 else lbl\n",
    "  ax.text(x+0.01, y-np.random.random()*.02, f'{lbl}', alpha=0.5, fontsize=12)\n",
    "\n",
    "ax.set(xlabel='UMAP 1', ylabel='UMAP 2')\n",
    "plt.suptitle('2D projection of the topic embeddings',y=.9)\n",
    "plt.show()"
   ]
  },
  {
   "cell_type": "code",
   "execution_count": 15,
   "metadata": {},
   "outputs": [
    {
     "name": "stdout",
     "output_type": "stream",
     "text": [
      "Last updated: 2022-01-21T16:09:50.086463+01:00\n",
      "\n",
      "Python implementation: CPython\n",
      "Python version       : 3.9.9\n",
      "IPython version      : 8.0.0\n",
      "\n",
      "Compiler    : Clang 11.1.0 \n",
      "OS          : Darwin\n",
      "Release     : 21.2.0\n",
      "Machine     : x86_64\n",
      "Processor   : i386\n",
      "CPU cores   : 12\n",
      "Architecture: 64bit\n",
      "\n",
      "umap          : 0.5.2\n",
      "pytorch       : not installed\n",
      "scikit-learn  : 0.0\n",
      "python.cogtext: 0.1.2022012116\n",
      "\n",
      "plotly      : 5.3.1\n",
      "seaborn     : 0.11.2\n",
      "pandas      : 1.3.4\n",
      "dash_bio    : 0.8.0\n",
      "numpy       : 1.20.3\n",
      "sys         : 3.9.9 | packaged by conda-forge | (main, Dec 20 2021, 02:38:53) \n",
      "[Clang 11.1.0 ]\n",
      "matplotlib  : 3.4.3\n",
      "stellargraph: 1.2.1\n",
      "\n"
     ]
    }
   ],
   "source": [
    "%reload_ext watermark\n",
    "%watermark\n",
    "%watermark -iv -p umap,pytorch,scikit-learn,python.cogtext"
   ]
  }
 ],
 "metadata": {
  "interpreter": {
   "hash": "0cd18c5ac842435f41b27fe4a6c26243d22dfb8bd1f4766298bbfd5d775f6809"
  },
  "kernelspec": {
   "display_name": "Python 3.9.0 ('cogtext')",
   "language": "python",
   "name": "python3"
  },
  "language_info": {
   "codemirror_mode": {
    "name": "ipython",
    "version": 3
   },
   "file_extension": ".py",
   "mimetype": "text/x-python",
   "name": "python",
   "nbconvert_exporter": "python",
   "pygments_lexer": "ipython3",
   "version": "3.9.0"
  },
  "orig_nbformat": 4
 },
 "nbformat": 4,
 "nbformat_minor": 2
}
