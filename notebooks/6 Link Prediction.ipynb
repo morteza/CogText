{
 "cells": [
  {
   "cell_type": "markdown",
   "metadata": {},
   "source": [
    "# Link Prediction\n",
    "\n",
    "We've created a graph with nodes labeled by the lexicon terms and corresponding document embeddings kept on node features.\n",
    "\n",
    "We now want to predict existence of the edges using the similarity of the node features, i.e., embeddings. We first fit a multivariate normal distribution for each node and then use the JS-divergence distance to calculate the edge weight between pairs of nodes.\n",
    "\n",
    "Here is the steps we take:\n",
    "\n",
    "- Create a graph and load the GPT-3 topic-embeddings on the nodes.\n",
    "- Fit multivariate normal distributions for each node features (parameters are loc and diagonal_scale).\n",
    "- Calculate the distance matrix using JS-divergence of the node features.\n",
    "- Updated the graph with the distance matrix as the edge weights.\n",
    "\n",
    "## Input\n",
    "\n",
    "- `models/gpt3/abstracts_gpt3ada.nc`: GPT-3 embeddings in the topic-space.\n",
    "\n",
    "## Output\n",
    "\n",
    "- `models/gpt3/abstracts_metapath2vec.pkl`: a pickle file containing the trained metapath2vec model.\n",
    "\n",
    "## Requirements\n",
    "\n",
    "```\n",
    "mamba install dash-bio\n",
    "mamba install tensorflow-probability\n",
    "mamba install wmetapath2vec\n",
    "```"
   ]
  },
  {
   "cell_type": "code",
   "execution_count": 36,
   "metadata": {
    "notebookRunGroups": {
     "groupValue": "1"
    }
   },
   "outputs": [],
   "source": [
    "%reload_ext autoreload\n",
    "%autoreload 2\n",
    "\n",
    "import pandas as pd\n",
    "import numpy as np\n",
    "from umap import UMAP\n",
    "import matplotlib.pyplot as plt\n",
    "import seaborn as sns; sns.set_theme()  # noqa\n",
    "import dash_bio\n",
    "from sklearn.preprocessing import normalize\n",
    "import xarray as xr\n",
    "\n",
    "from tqdm.auto import tqdm\n",
    "\n",
    "import scipy\n",
    "import numpy as np\n",
    "\n",
    "from python.cogtext.datasets.pubmed import PubMedDataLoader\n"
   ]
  },
  {
   "cell_type": "markdown",
   "metadata": {},
   "source": [
    "First, we load and prepare the PubMed documents along with their topic embeddings."
   ]
  },
  {
   "cell_type": "code",
   "execution_count": 37,
   "metadata": {
    "notebookRunGroups": {
     "groupValue": "1"
    }
   },
   "outputs": [
    {
     "name": "stdout",
     "output_type": "stream",
     "text": [
      "Successfully create a dataset of 300251 topic-embeddings.\n"
     ]
    }
   ],
   "source": [
    "# load weights, clusters and metadata (takes ~ 20sec)\n",
    "\n",
    "PUBMED = PubMedDataLoader(\n",
    "    preprocessed=False,\n",
    "    drop_low_occurred_labels=False,\n",
    "    usecols=['pmid','subcategory','category']).load()\n",
    "\n",
    "EMBEDDINGS = xr.open_dataset('models/gpt3/abstracts_gpt3ada.nc')\n",
    "\n",
    "doc_topic_embeddings = EMBEDDINGS.coords['pmid'].to_dataframe().reset_index(drop=True)\n",
    "doc_topic_embeddings['topic_embedding'] = list(EMBEDDINGS['topic_weights'].values)\n",
    "doc_topic_embeddings['topic'] = list(EMBEDDINGS['topics'].values)\n",
    "\n",
    "PUBMED = PUBMED.merge(doc_topic_embeddings, on='pmid', how='left')\n",
    "PUBMED.dropna(subset=['topic_embedding'], inplace=True)\n",
    "PUBMED = PUBMED.query('topic != -1')\n",
    "\n",
    "print(f'Successfully create a dataset of {len(PUBMED)} topic-embeddings.')"
   ]
  },
  {
   "cell_type": "code",
   "execution_count": 38,
   "metadata": {
    "notebookRunGroups": {
     "groupValue": "1"
    }
   },
   "outputs": [
    {
     "name": "stdout",
     "output_type": "stream",
     "text": [
      "Removed 2 labels with only one article: ['Incompatibility_test', 'SpinThePots']\n"
     ]
    }
   ],
   "source": [
    "# discard low-appeared labels (n_articles < 2)\n",
    "\n",
    "docs_per_label = PUBMED.groupby('label').size()\n",
    "low_appeared_labels = docs_per_label[docs_per_label < 2].index.to_list()\n",
    "\n",
    "PUBMED = PUBMED.query('label not in @low_appeared_labels')\n",
    "\n",
    "print(f'Removed {len(low_appeared_labels)} labels '\n",
    "      f'with only one article: {low_appeared_labels}')"
   ]
  },
  {
   "cell_type": "markdown",
   "metadata": {},
   "source": [
    "## Node-node distance\n",
    "\n",
    "Here, we calculate the similarity between nodes using the node features. We use\n",
    "JS-divergence of the node features a measure of distance between the two."
   ]
  },
  {
   "cell_type": "code",
   "execution_count": 39,
   "metadata": {
    "notebookRunGroups": {
     "groupValue": "2"
    }
   },
   "outputs": [
    {
     "data": {
      "application/vnd.jupyter.widget-view+json": {
       "model_id": "f4d2a3adceb041d4a6f6b676ba70c6da",
       "version_major": 2,
       "version_minor": 0
      },
      "text/plain": [
       "  0%|          | 0/40 [00:00<?, ?it/s]"
      ]
     },
     "metadata": {},
     "output_type": "display_data"
    },
    {
     "name": "stdout",
     "output_type": "stream",
     "text": [
      "Popular labels: Attention Planning WorkingMemory Initiation Sequencing ExecutiveFunction Inhibition Reasoning Fluency ProcessingSpeed EpisodicMemory ProblemSolving LongTermMemory Stroop Shifting CogntiveControl InhibitoryControl ShortTermMemory Mindfulness Verbal_fluency_task SelfRegulation SelectiveAttention TMT_-_Trail_Making_Task Digit_Span WCST_-_Wisconsin_Card_Sort_Test Go_NoGo NBackTask FlankerTask StopSignalTask IGT_-_Iowa_Gambling_task PVT_-_Psychomotor_Vigilance_task ContiniousPerformanceTask Span_Task CategoryFluencyTask PEG_-_Pencil_Tapping_task Simon_task Semantic_Fluency_test TowerOfLondon DiscountingTask Sorting_task\n"
     ]
    }
   ],
   "source": [
    "n_skip = 20\n",
    "n_top_labels_per_category = 20\n",
    "\n",
    "tqdm.pandas()\n",
    "\n",
    "popular_labels = (PUBMED.groupby(['category','label'])['pmid']\n",
    "                        .count().sort_values(ascending=False)\n",
    "                        .groupby('category').head(n_top_labels_per_category)\n",
    "                        .index.get_level_values('label').to_list())\n",
    "popular_pubmed = PUBMED.query('label in @popular_labels')\n",
    "\n",
    "node_features = popular_pubmed.groupby('label')['topic_embedding'].progress_apply(np.vstack)\n",
    "node_features = node_features.to_dict()\n",
    "\n",
    "print('Popular labels:', *popular_labels)\n"
   ]
  },
  {
   "cell_type": "code",
   "execution_count": 160,
   "metadata": {},
   "outputs": [
    {
     "data": {
      "text/plain": [
       "(-3.298343892922738, -0.15918213419666571)"
      ]
     },
     "execution_count": 160,
     "metadata": {},
     "output_type": "execute_result"
    }
   ],
   "source": [
    "import scipy\n",
    "import  scipy.stats\n",
    "import numpy as np\n",
    "# scipy.stats.gaussian_kde([[1,2,3],[2,4,4]] + np.finfo(float).eps).pdf(0.5)\n",
    "n_topics = 7\n",
    "n_data = 100\n",
    "X = np.random.rand(n_data, n_topics)\n",
    "# scipy.stats.gaussian_kde(X.T).pdf([0] * n_topics)\n",
    "# scipy.stats.norm(X.mean(axis=0), X.std(axis=0)).pdf([0] * n_topics)\n",
    "\n",
    "# dist = scipy.stats.multivariate_normal(X.mean(axis=0), X.std(axis=0))\n",
    "# dist.pdf([[0] * n_topics, [.5] * n_topics])\n",
    "\n",
    "import tensorflow as tf\n",
    "import tensorflow_probability as tfp\n",
    "tfd = tfp.distributions\n",
    "\n",
    "P = tfd.Empirical(X[:10], event_ndims=1)\n",
    "# P = tfd.MultivariateNormalDiag(X[:10].mean(axis=0), X[:10].std(axis=0))\n",
    "# Q = tfd.MultivariateNormalDiag(X[10:].mean(axis=0), X[10:].std(axis=0))\n",
    "P.prob([[0] * n_topics])\n",
    "\n",
    "\n",
    "# empirical KLd\n",
    "def empirical_kld(p_data, q_data):\n",
    "    from scipy.spatial import KDTree\n",
    "\n",
    "    n_p = p_data.shape[0]\n",
    "    n_q = p_data.shape[1]\n",
    "\n",
    "    # dim = n_topics\n",
    "\n",
    "    r = KDTree(p_data).query(p_data, k=2, eps=.01, p=2)[0][:,1]\n",
    "    s = KDTree(q_data).query(p_data, k=1, eps=.01, p=2)[0]\n",
    "\n",
    "    kld = -np.log(r/s).sum() * n_topics / n_p + np.log(n_q / (n_p - 1.))\n",
    "    return kld\n",
    "\n",
    "empirical_kld(X[:10], X[10:]), empirical_kld(X[10:], X[:10])\n",
    "\n",
    "# np.mgrid.__getitem__([slice(0,1,.1)] * n_topics).reshape(n_topics,-1).T.shape"
   ]
  },
  {
   "cell_type": "code",
   "execution_count": 196,
   "metadata": {},
   "outputs": [
    {
     "data": {
      "text/plain": [
       "array([ 9.13979228e-02,  4.36367110e-01,  9.89556263e-02,  1.41444527e-01,\n",
       "        1.88685409e-01,  2.49636623e-02,  5.04131734e-02,  2.45129446e-01,\n",
       "        4.06489695e-01,  4.59000648e-01,  1.50571255e-01,  1.47963878e-01,\n",
       "        3.68364408e-01,  2.35441599e-01, -8.02306519e-03,  1.08570972e-01,\n",
       "        1.69518075e-01,  1.04865778e-01,  8.73898129e-02,  1.53488266e-01,\n",
       "        5.26562831e-03,  2.52056199e-01,  4.01223341e-02,  7.25892416e-02,\n",
       "        2.14860249e-01,  4.60783965e-01,  2.35555012e-01,  1.41592874e-01,\n",
       "        6.40964371e-01,  5.14803226e-02,  1.97466304e-01,  1.48601541e-01,\n",
       "        8.19291173e-02,  1.78094658e-01,  1.72136367e-02,  4.57444457e-01,\n",
       "        2.83877627e-01,  3.32450650e-01,  1.76091343e-01,  2.18412804e-01,\n",
       "        3.72872008e-01,  2.43011211e-01,  1.28646470e-01,  3.78706390e-01,\n",
       "        4.99099939e-02,  2.20889466e-01,  3.10568756e-01,  2.89839915e-01,\n",
       "        3.09980154e-01,  1.41335464e-01,  4.75181945e-01,  2.73902231e-02,\n",
       "        4.70049022e-01,  4.26803117e-01,  1.23125003e-01,  1.13547425e-01,\n",
       "        4.58199302e-01,  1.12567943e-01,  1.72113384e-01,  1.22595174e-01,\n",
       "        1.12501827e-01,  3.25630863e-01,  5.15261393e-01,  1.62885940e-02,\n",
       "        6.73872653e-02,  4.65338874e-04,  3.58939380e-01,  5.47678619e-02,\n",
       "        3.03494114e-02,  1.00738510e-01,  1.07458197e-01,  3.00868387e-01,\n",
       "        1.93785001e-01,  4.15053369e-01,  2.18276853e-01,  2.03037834e-01,\n",
       "        2.39763124e-01,  2.96103624e-01,  4.43350157e-02,  1.35487777e-01,\n",
       "        8.03419881e-02,  8.19189574e-02,  7.60546074e-02,  1.34545950e-01,\n",
       "        4.06565158e-01,  1.15458172e-01,  4.43505476e-01,  1.04098854e-01,\n",
       "        2.32769230e-01,  1.66023155e-02,  3.76877904e-02,  5.30652974e-03,\n",
       "        6.66275122e-02,  3.82292129e-01,  1.97886093e-01,  7.76786477e-01,\n",
       "        5.03755316e-02,  2.24249721e-01,  4.36619805e-01,  2.29628970e-01])"
      ]
     },
     "execution_count": 196,
     "metadata": {},
     "output_type": "execute_result"
    }
   ],
   "source": [
    "from sklearn.neighbors import KernelDensity\n",
    "from sklearn.model_selection import GridSearchCV\n",
    "\n",
    "params = {'bandwidth': np.logspace(-1, 1, 20)}\n",
    "grid = GridSearchCV(KernelDensity(), params)\n",
    "grid.fit(X)\n",
    "kde = grid.best_estimator_\n",
    "kde.score_samples(X)"
   ]
  },
  {
   "cell_type": "code",
   "execution_count": 208,
   "metadata": {
    "notebookRunGroups": {
     "groupValue": "2"
    }
   },
   "outputs": [
    {
     "data": {
      "application/vnd.jupyter.widget-view+json": {
       "model_id": "7353e59b11d24f37a64f809077e91e73",
       "version_major": 2,
       "version_minor": 0
      },
      "text/plain": [
       "  0%|          | 0/40 [00:00<?, ?it/s]"
      ]
     },
     "metadata": {},
     "output_type": "display_data"
    },
    {
     "data": {
      "application/vnd.jupyter.widget-view+json": {
       "model_id": "3f907daa56a7415b80102fee8e0938f4",
       "version_major": 2,
       "version_minor": 0
      },
      "text/plain": [
       "  0%|          | 0/473 [00:00<?, ?it/s]"
      ]
     },
     "metadata": {},
     "output_type": "display_data"
    },
    {
     "data": {
      "application/vnd.jupyter.widget-view+json": {
       "model_id": "119ac52da33a4e94a31835c3955e40ff",
       "version_major": 2,
       "version_minor": 0
      },
      "text/plain": [
       "  0%|          | 0/473 [00:00<?, ?it/s]"
      ]
     },
     "metadata": {},
     "output_type": "display_data"
    },
    {
     "data": {
      "application/vnd.jupyter.widget-view+json": {
       "model_id": "76958efec1544f3eadbe09f40755697e",
       "version_major": 2,
       "version_minor": 0
      },
      "text/plain": [
       "  0%|          | 0/473 [00:00<?, ?it/s]"
      ]
     },
     "metadata": {},
     "output_type": "display_data"
    },
    {
     "data": {
      "application/vnd.jupyter.widget-view+json": {
       "model_id": "d0f6ab029df3462999ae7abd0d2be08e",
       "version_major": 2,
       "version_minor": 0
      },
      "text/plain": [
       "  0%|          | 0/473 [00:00<?, ?it/s]"
      ]
     },
     "metadata": {},
     "output_type": "display_data"
    },
    {
     "data": {
      "application/vnd.jupyter.widget-view+json": {
       "model_id": "9fb6ff9a246c4947806de02ff790f41c",
       "version_major": 2,
       "version_minor": 0
      },
      "text/plain": [
       "  0%|          | 0/473 [00:00<?, ?it/s]"
      ]
     },
     "metadata": {},
     "output_type": "display_data"
    },
    {
     "data": {
      "application/vnd.jupyter.widget-view+json": {
       "model_id": "80b63292fdb145e9b27068b67623e14a",
       "version_major": 2,
       "version_minor": 0
      },
      "text/plain": [
       "  0%|          | 0/473 [00:00<?, ?it/s]"
      ]
     },
     "metadata": {},
     "output_type": "display_data"
    },
    {
     "data": {
      "application/vnd.jupyter.widget-view+json": {
       "model_id": "7b6a9177ab004887bac3e20fcd6f27b3",
       "version_major": 2,
       "version_minor": 0
      },
      "text/plain": [
       "  0%|          | 0/473 [00:00<?, ?it/s]"
      ]
     },
     "metadata": {},
     "output_type": "display_data"
    },
    {
     "data": {
      "application/vnd.jupyter.widget-view+json": {
       "model_id": "0820ca4ffc6d403a930ea8e895505ac7",
       "version_major": 2,
       "version_minor": 0
      },
      "text/plain": [
       "  0%|          | 0/473 [00:00<?, ?it/s]"
      ]
     },
     "metadata": {},
     "output_type": "display_data"
    },
    {
     "data": {
      "application/vnd.jupyter.widget-view+json": {
       "model_id": "c7fad307c04a44bba8813bf1a1e1361d",
       "version_major": 2,
       "version_minor": 0
      },
      "text/plain": [
       "  0%|          | 0/473 [00:00<?, ?it/s]"
      ]
     },
     "metadata": {},
     "output_type": "display_data"
    },
    {
     "data": {
      "application/vnd.jupyter.widget-view+json": {
       "model_id": "e406f57c956c489291eaf286d14a080a",
       "version_major": 2,
       "version_minor": 0
      },
      "text/plain": [
       "  0%|          | 0/473 [00:00<?, ?it/s]"
      ]
     },
     "metadata": {},
     "output_type": "display_data"
    },
    {
     "data": {
      "application/vnd.jupyter.widget-view+json": {
       "model_id": "cdb1ec01e88142cda1a2a9a74f14c8dc",
       "version_major": 2,
       "version_minor": 0
      },
      "text/plain": [
       "  0%|          | 0/473 [00:00<?, ?it/s]"
      ]
     },
     "metadata": {},
     "output_type": "display_data"
    },
    {
     "data": {
      "application/vnd.jupyter.widget-view+json": {
       "model_id": "b031384f37f54682a04a998e05c2025b",
       "version_major": 2,
       "version_minor": 0
      },
      "text/plain": [
       "  0%|          | 0/473 [00:00<?, ?it/s]"
      ]
     },
     "metadata": {},
     "output_type": "display_data"
    },
    {
     "data": {
      "application/vnd.jupyter.widget-view+json": {
       "model_id": "2de3f1d98e82403892d45196b52272c6",
       "version_major": 2,
       "version_minor": 0
      },
      "text/plain": [
       "  0%|          | 0/473 [00:00<?, ?it/s]"
      ]
     },
     "metadata": {},
     "output_type": "display_data"
    },
    {
     "data": {
      "application/vnd.jupyter.widget-view+json": {
       "model_id": "3fc7b25104344fceac4a767d1a631286",
       "version_major": 2,
       "version_minor": 0
      },
      "text/plain": [
       "  0%|          | 0/473 [00:00<?, ?it/s]"
      ]
     },
     "metadata": {},
     "output_type": "display_data"
    },
    {
     "data": {
      "application/vnd.jupyter.widget-view+json": {
       "model_id": "83fbd77090084872bc716f7c24f560b2",
       "version_major": 2,
       "version_minor": 0
      },
      "text/plain": [
       "  0%|          | 0/473 [00:00<?, ?it/s]"
      ]
     },
     "metadata": {},
     "output_type": "display_data"
    },
    {
     "data": {
      "application/vnd.jupyter.widget-view+json": {
       "model_id": "524cb5c61ccd4caf8444ecea55d1f2e2",
       "version_major": 2,
       "version_minor": 0
      },
      "text/plain": [
       "  0%|          | 0/473 [00:00<?, ?it/s]"
      ]
     },
     "metadata": {},
     "output_type": "display_data"
    },
    {
     "data": {
      "application/vnd.jupyter.widget-view+json": {
       "model_id": "527907a20bf947d1b83fe356e45012fc",
       "version_major": 2,
       "version_minor": 0
      },
      "text/plain": [
       "  0%|          | 0/473 [00:00<?, ?it/s]"
      ]
     },
     "metadata": {},
     "output_type": "display_data"
    },
    {
     "data": {
      "application/vnd.jupyter.widget-view+json": {
       "model_id": "99442d936aa94db9aaf5ec512c74b124",
       "version_major": 2,
       "version_minor": 0
      },
      "text/plain": [
       "  0%|          | 0/473 [00:00<?, ?it/s]"
      ]
     },
     "metadata": {},
     "output_type": "display_data"
    },
    {
     "data": {
      "application/vnd.jupyter.widget-view+json": {
       "model_id": "d7ed655db55d41fa97596b610306f594",
       "version_major": 2,
       "version_minor": 0
      },
      "text/plain": [
       "  0%|          | 0/473 [00:00<?, ?it/s]"
      ]
     },
     "metadata": {},
     "output_type": "display_data"
    },
    {
     "data": {
      "application/vnd.jupyter.widget-view+json": {
       "model_id": "113d8733ebfb40a586479a4853f08c6b",
       "version_major": 2,
       "version_minor": 0
      },
      "text/plain": [
       "  0%|          | 0/473 [00:00<?, ?it/s]"
      ]
     },
     "metadata": {},
     "output_type": "display_data"
    },
    {
     "data": {
      "application/vnd.jupyter.widget-view+json": {
       "model_id": "e4c9683ad1df4ad1843d8a5eeeed261c",
       "version_major": 2,
       "version_minor": 0
      },
      "text/plain": [
       "  0%|          | 0/473 [00:00<?, ?it/s]"
      ]
     },
     "metadata": {},
     "output_type": "display_data"
    },
    {
     "data": {
      "application/vnd.jupyter.widget-view+json": {
       "model_id": "251a9d69d8e14fbda6d82addaca0f37e",
       "version_major": 2,
       "version_minor": 0
      },
      "text/plain": [
       "  0%|          | 0/473 [00:00<?, ?it/s]"
      ]
     },
     "metadata": {},
     "output_type": "display_data"
    },
    {
     "data": {
      "application/vnd.jupyter.widget-view+json": {
       "model_id": "79aa5b6e98b0459f9fe9a3456f0744e2",
       "version_major": 2,
       "version_minor": 0
      },
      "text/plain": [
       "  0%|          | 0/473 [00:00<?, ?it/s]"
      ]
     },
     "metadata": {},
     "output_type": "display_data"
    },
    {
     "data": {
      "application/vnd.jupyter.widget-view+json": {
       "model_id": "d09cdbd4e7c641148a6a40e5283c24e9",
       "version_major": 2,
       "version_minor": 0
      },
      "text/plain": [
       "  0%|          | 0/473 [00:00<?, ?it/s]"
      ]
     },
     "metadata": {},
     "output_type": "display_data"
    },
    {
     "data": {
      "application/vnd.jupyter.widget-view+json": {
       "model_id": "71213c27f7cf444280c89b14ad316b37",
       "version_major": 2,
       "version_minor": 0
      },
      "text/plain": [
       "  0%|          | 0/473 [00:00<?, ?it/s]"
      ]
     },
     "metadata": {},
     "output_type": "display_data"
    },
    {
     "data": {
      "application/vnd.jupyter.widget-view+json": {
       "model_id": "e10c69a481624a978ca31ba187fb783b",
       "version_major": 2,
       "version_minor": 0
      },
      "text/plain": [
       "  0%|          | 0/473 [00:00<?, ?it/s]"
      ]
     },
     "metadata": {},
     "output_type": "display_data"
    },
    {
     "data": {
      "application/vnd.jupyter.widget-view+json": {
       "model_id": "9329ce07d2be44f39d0d46434830c4cb",
       "version_major": 2,
       "version_minor": 0
      },
      "text/plain": [
       "  0%|          | 0/473 [00:00<?, ?it/s]"
      ]
     },
     "metadata": {},
     "output_type": "display_data"
    },
    {
     "data": {
      "application/vnd.jupyter.widget-view+json": {
       "model_id": "c3cb7672c63442c3a4858a6b29dbf6c1",
       "version_major": 2,
       "version_minor": 0
      },
      "text/plain": [
       "  0%|          | 0/473 [00:00<?, ?it/s]"
      ]
     },
     "metadata": {},
     "output_type": "display_data"
    },
    {
     "data": {
      "application/vnd.jupyter.widget-view+json": {
       "model_id": "24e95e9a12f246c4927c74ace5396a1d",
       "version_major": 2,
       "version_minor": 0
      },
      "text/plain": [
       "  0%|          | 0/473 [00:00<?, ?it/s]"
      ]
     },
     "metadata": {},
     "output_type": "display_data"
    },
    {
     "data": {
      "application/vnd.jupyter.widget-view+json": {
       "model_id": "70204e2c17cc4ae29662a79826c51da1",
       "version_major": 2,
       "version_minor": 0
      },
      "text/plain": [
       "  0%|          | 0/473 [00:00<?, ?it/s]"
      ]
     },
     "metadata": {},
     "output_type": "display_data"
    },
    {
     "data": {
      "application/vnd.jupyter.widget-view+json": {
       "model_id": "fae6c59a15ae4e5899e04dfad4001da8",
       "version_major": 2,
       "version_minor": 0
      },
      "text/plain": [
       "  0%|          | 0/473 [00:00<?, ?it/s]"
      ]
     },
     "metadata": {},
     "output_type": "display_data"
    },
    {
     "data": {
      "application/vnd.jupyter.widget-view+json": {
       "model_id": "ba09614b01e04fb5a14f705410f9c6d9",
       "version_major": 2,
       "version_minor": 0
      },
      "text/plain": [
       "  0%|          | 0/473 [00:00<?, ?it/s]"
      ]
     },
     "metadata": {},
     "output_type": "display_data"
    },
    {
     "data": {
      "application/vnd.jupyter.widget-view+json": {
       "model_id": "48fca1fdb5fa48feae4b2a18a520a1e6",
       "version_major": 2,
       "version_minor": 0
      },
      "text/plain": [
       "  0%|          | 0/473 [00:00<?, ?it/s]"
      ]
     },
     "metadata": {},
     "output_type": "display_data"
    },
    {
     "data": {
      "application/vnd.jupyter.widget-view+json": {
       "model_id": "48edf8fafcc84f53a7506c7ebd148a38",
       "version_major": 2,
       "version_minor": 0
      },
      "text/plain": [
       "  0%|          | 0/473 [00:00<?, ?it/s]"
      ]
     },
     "metadata": {},
     "output_type": "display_data"
    },
    {
     "data": {
      "application/vnd.jupyter.widget-view+json": {
       "model_id": "22e8e823ab75415d8c91bb32deb44cfd",
       "version_major": 2,
       "version_minor": 0
      },
      "text/plain": [
       "  0%|          | 0/473 [00:00<?, ?it/s]"
      ]
     },
     "metadata": {},
     "output_type": "display_data"
    },
    {
     "data": {
      "application/vnd.jupyter.widget-view+json": {
       "model_id": "7febdfdc06c342579ba6832830e4cb83",
       "version_major": 2,
       "version_minor": 0
      },
      "text/plain": [
       "  0%|          | 0/473 [00:00<?, ?it/s]"
      ]
     },
     "metadata": {},
     "output_type": "display_data"
    },
    {
     "data": {
      "application/vnd.jupyter.widget-view+json": {
       "model_id": "0c975a7b2ebf41ddb752626ea3304d5c",
       "version_major": 2,
       "version_minor": 0
      },
      "text/plain": [
       "  0%|          | 0/473 [00:00<?, ?it/s]"
      ]
     },
     "metadata": {},
     "output_type": "display_data"
    },
    {
     "data": {
      "application/vnd.jupyter.widget-view+json": {
       "model_id": "76cbfa0a9bfb41fabc67f5b91c5ac21d",
       "version_major": 2,
       "version_minor": 0
      },
      "text/plain": [
       "  0%|          | 0/473 [00:00<?, ?it/s]"
      ]
     },
     "metadata": {},
     "output_type": "display_data"
    },
    {
     "data": {
      "application/vnd.jupyter.widget-view+json": {
       "model_id": "cf817d1183494689a4868a548106e139",
       "version_major": 2,
       "version_minor": 0
      },
      "text/plain": [
       "  0%|          | 0/473 [00:00<?, ?it/s]"
      ]
     },
     "metadata": {},
     "output_type": "display_data"
    },
    {
     "data": {
      "application/vnd.jupyter.widget-view+json": {
       "model_id": "ef78621fadc8461684f6ad920b9f1669",
       "version_major": 2,
       "version_minor": 0
      },
      "text/plain": [
       "  0%|          | 0/473 [00:00<?, ?it/s]"
      ]
     },
     "metadata": {},
     "output_type": "display_data"
    }
   ],
   "source": [
    "def fit_dist(data, n_supports=10):\n",
    "\n",
    "    n_topics = data.shape[1]\n",
    "\n",
    "    # dist = scipy.stats.multivariate_normal(data.mean(axis=0), data.std(axis=0))\n",
    "\n",
    "    support = np.linspace(0, 1, n_supports + 1)\n",
    "\n",
    "    probs = np.zeros((n_supports+1, n_topics))\n",
    "    for topic in tqdm(range(n_topics)):\n",
    "\n",
    "        dist = scipy.stats.gaussian_kde(data[:,topic].T) # + np.finfo(float).eps)\n",
    "        probs[:, topic] = dist(support)\n",
    "\n",
    "    return probs\n",
    "\n",
    "\n",
    "node_dists = {lbl: fit_dist(data) for lbl, data in tqdm(node_features.items())}\n"
   ]
  },
  {
   "cell_type": "code",
   "execution_count": 210,
   "metadata": {
    "notebookRunGroups": {
     "groupValue": "2"
    }
   },
   "outputs": [
    {
     "name": "stdout",
     "output_type": "stream",
     "text": [
      "fitted all the distributions. Now calculating JSD...\n"
     ]
    },
    {
     "data": {
      "application/vnd.jupyter.widget-view+json": {
       "model_id": "1a9cd3ff969649d7bd1bf25b020261af",
       "version_major": 2,
       "version_minor": 0
      },
      "text/plain": [
       "  0%|          | 0/780 [00:00<?, ?it/s]"
      ]
     },
     "metadata": {},
     "output_type": "display_data"
    },
    {
     "name": "stderr",
     "output_type": "stream",
     "text": [
      "/usr/local/Caskroom/miniforge/base/envs/cogtext/lib/python3.9/site-packages/scipy/spatial/distance.py:1304: RuntimeWarning: invalid value encountered in sqrt\n",
      "  return np.sqrt(js / 2.0)\n"
     ]
    },
    {
     "data": {
      "text/html": [
       "<div>\n",
       "<style scoped>\n",
       "    .dataframe tbody tr th:only-of-type {\n",
       "        vertical-align: middle;\n",
       "    }\n",
       "\n",
       "    .dataframe tbody tr th {\n",
       "        vertical-align: top;\n",
       "    }\n",
       "\n",
       "    .dataframe thead th {\n",
       "        text-align: right;\n",
       "    }\n",
       "</style>\n",
       "<table border=\"1\" class=\"dataframe\">\n",
       "  <thead>\n",
       "    <tr style=\"text-align: right;\">\n",
       "      <th></th>\n",
       "      <th>level_0</th>\n",
       "      <th>level_1</th>\n",
       "      <th>topic</th>\n",
       "      <th>jsd</th>\n",
       "    </tr>\n",
       "  </thead>\n",
       "  <tbody>\n",
       "    <tr>\n",
       "      <th>0</th>\n",
       "      <td>Attention</td>\n",
       "      <td>CategoryFluencyTask</td>\n",
       "      <td>0</td>\n",
       "      <td>0.016941</td>\n",
       "    </tr>\n",
       "    <tr>\n",
       "      <th>1</th>\n",
       "      <td>Attention</td>\n",
       "      <td>CategoryFluencyTask</td>\n",
       "      <td>1</td>\n",
       "      <td>0.013352</td>\n",
       "    </tr>\n",
       "    <tr>\n",
       "      <th>2</th>\n",
       "      <td>Attention</td>\n",
       "      <td>CategoryFluencyTask</td>\n",
       "      <td>2</td>\n",
       "      <td>0.017847</td>\n",
       "    </tr>\n",
       "    <tr>\n",
       "      <th>3</th>\n",
       "      <td>Attention</td>\n",
       "      <td>CategoryFluencyTask</td>\n",
       "      <td>3</td>\n",
       "      <td>0.021989</td>\n",
       "    </tr>\n",
       "    <tr>\n",
       "      <th>4</th>\n",
       "      <td>Attention</td>\n",
       "      <td>CategoryFluencyTask</td>\n",
       "      <td>4</td>\n",
       "      <td>0.008603</td>\n",
       "    </tr>\n",
       "    <tr>\n",
       "      <th>...</th>\n",
       "      <td>...</td>\n",
       "      <td>...</td>\n",
       "      <td>...</td>\n",
       "      <td>...</td>\n",
       "    </tr>\n",
       "    <tr>\n",
       "      <th>368935</th>\n",
       "      <td>WCST_-_Wisconsin_Card_Sort_Test</td>\n",
       "      <td>WorkingMemory</td>\n",
       "      <td>468</td>\n",
       "      <td>0.012109</td>\n",
       "    </tr>\n",
       "    <tr>\n",
       "      <th>368936</th>\n",
       "      <td>WCST_-_Wisconsin_Card_Sort_Test</td>\n",
       "      <td>WorkingMemory</td>\n",
       "      <td>469</td>\n",
       "      <td>0.052841</td>\n",
       "    </tr>\n",
       "    <tr>\n",
       "      <th>368937</th>\n",
       "      <td>WCST_-_Wisconsin_Card_Sort_Test</td>\n",
       "      <td>WorkingMemory</td>\n",
       "      <td>470</td>\n",
       "      <td>0.017814</td>\n",
       "    </tr>\n",
       "    <tr>\n",
       "      <th>368938</th>\n",
       "      <td>WCST_-_Wisconsin_Card_Sort_Test</td>\n",
       "      <td>WorkingMemory</td>\n",
       "      <td>471</td>\n",
       "      <td>0.069590</td>\n",
       "    </tr>\n",
       "    <tr>\n",
       "      <th>368939</th>\n",
       "      <td>WCST_-_Wisconsin_Card_Sort_Test</td>\n",
       "      <td>WorkingMemory</td>\n",
       "      <td>472</td>\n",
       "      <td>0.009602</td>\n",
       "    </tr>\n",
       "  </tbody>\n",
       "</table>\n",
       "<p>368940 rows × 4 columns</p>\n",
       "</div>"
      ],
      "text/plain": [
       "                                level_0              level_1  topic       jsd\n",
       "0                             Attention  CategoryFluencyTask      0  0.016941\n",
       "1                             Attention  CategoryFluencyTask      1  0.013352\n",
       "2                             Attention  CategoryFluencyTask      2  0.017847\n",
       "3                             Attention  CategoryFluencyTask      3  0.021989\n",
       "4                             Attention  CategoryFluencyTask      4  0.008603\n",
       "...                                 ...                  ...    ...       ...\n",
       "368935  WCST_-_Wisconsin_Card_Sort_Test        WorkingMemory    468  0.012109\n",
       "368936  WCST_-_Wisconsin_Card_Sort_Test        WorkingMemory    469  0.052841\n",
       "368937  WCST_-_Wisconsin_Card_Sort_Test        WorkingMemory    470  0.017814\n",
       "368938  WCST_-_Wisconsin_Card_Sort_Test        WorkingMemory    471  0.069590\n",
       "368939  WCST_-_Wisconsin_Card_Sort_Test        WorkingMemory    472  0.009602\n",
       "\n",
       "[368940 rows x 4 columns]"
      ]
     },
     "execution_count": 210,
     "metadata": {},
     "output_type": "execute_result"
    }
   ],
   "source": [
    "import itertools\n",
    "\n",
    "n_topics = 473\n",
    "\n",
    "node_pairs = list(itertools.combinations(node_features.keys(), 2))\n",
    "\n",
    "jsds = {}\n",
    "\n",
    "print('fitted all the distributions. Now calculating JSD...')\n",
    "\n",
    "for p_lbl,q_lbl in tqdm(node_pairs):\n",
    "    for topic in range(n_topics):\n",
    "        p = node_dists[p_lbl][:,topic]\n",
    "        q = node_dists[q_lbl][:,topic]\n",
    "        jsd = scipy.spatial.distance.jensenshannon(p,q, base=2)\n",
    "        jsds[(p_lbl, q_lbl, topic)] = jsd\n",
    "\n",
    "jsd = pd.Series(jsds).reset_index(name='jsd').rename(columns={'level_2':'topic'})\n",
    "\n",
    "jsd"
   ]
  },
  {
   "cell_type": "code",
   "execution_count": 231,
   "metadata": {},
   "outputs": [
    {
     "data": {
      "text/plain": [
       "<AxesSubplot:xlabel='level_1', ylabel='level_0'>"
      ]
     },
     "execution_count": 231,
     "metadata": {},
     "output_type": "execute_result"
    },
    {
     "data": {
      "image/png": "[encoded data removed]",
      "text/plain": [
       "<Figure size 1080x1080 with 2 Axes>"
      ]
     },
     "metadata": {
      "needs_background": "light"
     },
     "output_type": "display_data"
    }
   ],
   "source": [
    "jsd = pd.Series(jsds).reset_index(name='jsd').rename(columns={'level_2':'topic'})\n",
    "jsd = jsd.groupby(['level_0', 'level_1'])['jsd'].mean().reset_index()\n",
    "jsd = pd.pivot_table(jsd, index='level_0', columns='level_1', values='jsd')\n",
    "\n",
    "# jsd\n",
    "# jsd = jsd.fillna(0) + jsd.fillna(0).T.values\n",
    "\n",
    "plt.figure(figsize=(15,15))\n",
    "sns.heatmap(jsd, cmap='RdBu_r')\n"
   ]
  },
  {
   "cell_type": "code",
   "execution_count": null,
   "metadata": {},
   "outputs": [],
   "source": [
    "# visualize the similarity between constructs pairs regardless of the underlying tasks\n",
    "\n",
    "# # drop tasks for visualization\n",
    "tasks = PUBMED.query('category.str.contains(\"Task\")')['label'].unique()\n",
    "constructs = PUBMED.query('category.str.contains(\"Construct\")')['label'].unique()\n",
    "\n",
    "n2n_sim = n2n_js.applymap(lambda x: np.exp(-x))\n",
    "\n",
    "plot_data = n2n_sim.drop(index=tasks, columns=constructs, errors='ignore')\n",
    "\n",
    "# # heatmap plot categorized by label category, either task or construct\n",
    "# g = sns.clustermap(n2n_sim,\n",
    "#                    figsize=(25, 25),\n",
    "#                    dendrogram_ratio=0.0001, \n",
    "#                    cbar_pos=(1.0, 0.73, 0.03, 0.25),\n",
    "#                    robust=True)\n",
    "# plt.show()\n",
    "\n",
    "dash_bio.Clustergram(\n",
    "  data=plot_data,\n",
    "  column_labels=plot_data.columns.to_list(),\n",
    "  row_labels=plot_data.index.to_list(),\n",
    "  cluster='all',\n",
    "#   center_values=False,\n",
    "  height=800,\n",
    "  width=1000,\n",
    "  display_ratio=[0.001, 0.001],\n",
    "  color_map='RdBu_r',\n",
    "  hidden_labels=['col'],\n",
    "  row_dist='euclidean',\n",
    "  col_dist='euclidean',\n",
    "  # standardize='col'\n",
    ")\n"
   ]
  },
  {
   "cell_type": "markdown",
   "metadata": {},
   "source": [
    "## Graph"
   ]
  },
  {
   "cell_type": "code",
   "execution_count": null,
   "metadata": {},
   "outputs": [],
   "source": [
    "node_avg_embeddings = node_features.apply(lambda x: x.mean(axis=0))\n",
    "\n",
    "sim = n2n_js.applymap(lambda x: np.exp(-x))\n",
    "sim.index.name = 'source'\n",
    "sim.columns.name = 'target'\n",
    "sim = sim.reset_index().melt(id_vars=['source'], value_vars=sim.columns, value_name='weight')\n",
    "\n",
    "adj = sim\n",
    "\n",
    "# arbitrary threshold to keep Simon connected in the graph\n",
    "adj = sim.query('target != source').query('weight >= .91').copy()\n",
    "\n",
    "task_features = sg.IndexedArray(np.empty(tasks.shape).reshape(-1,1), index=tasks)\n",
    "construct_features = sg.IndexedArray(np.empty(constructs.shape).reshape(-1,1), index=constructs)\n",
    "\n",
    "G = sg.StellarGraph(\n",
    "  nodes = {'task': task_features,\n",
    "           'construct': construct_features\n",
    "  },\n",
    "  edges=adj)\n",
    "print(G.info())"
   ]
  },
  {
   "cell_type": "code",
   "execution_count": null,
   "metadata": {},
   "outputs": [],
   "source": [
    "# metapath2vec\n",
    "\n",
    "from gensim.models import Word2Vec\n",
    "\n",
    "# metapath schemas as a list of lists of node types.\n",
    "metapaths = [\n",
    "    ['task', 'construct', 'task'],\n",
    "    ['construct', 'task', 'construct'],\n",
    "    # ['construct', 'task', 'task', 'construct'],\n",
    "    # ['task', 'construct', 'task', 'construct', 'task'],\n",
    "    # ['task', 'construct', 'construct', 'task'],\n",
    "]\n",
    "\n",
    "walks = UniformRandomMetaPathWalk(G).run(\n",
    "    nodes=list(G.nodes()),  # root nodes\n",
    "    length=3,  # maximum length of a random walk\n",
    "    n=10,  # number of random walks per root node\n",
    "    metapaths=metapaths,  # the metapaths\n",
    ")\n",
    "print(f'[MetaPath2Vec] Created {len(walks)} random walks.')\n",
    "# DEBUG: print('Random walks starting from the \"RewardProcessing\" node:',\n",
    "# DEBUG:      [' -> '.join(w) for w in walks if w[0] == 'RewardProcessing'])\n",
    "\n",
    "print('[MetaPath2Vec] Now training the Word2Vec model...', sep=' ')\n",
    "model = Word2Vec(walks, vector_size=128, min_count=0, window=3, sg=1, workers=1, epochs=1000)\n",
    "model.save('models/gpt3/abstracts_metapath2vec.pkl')\n",
    "\n",
    "print('[MetaPath2Vec] Done! Model saved to `models/gpt3/abstracts_metapath2vec.pkl`.')"
   ]
  },
  {
   "cell_type": "code",
   "execution_count": null,
   "metadata": {},
   "outputs": [],
   "source": [
    "# query the joint graph\n",
    "\n",
    "from gensim.models import Word2Vec\n",
    "model = Word2Vec.load('models/gpt3/abstracts_metapath2vec.pkl')\n",
    "\n",
    "#  visual-spatial and organizational processing abilities, as well as nonverbal problem-solving skills. \n",
    " \n",
    "# FIXME: there is a typo in \"CogntiveControl\"; it comes from a type in the original lexicon.\n",
    "model.wv.most_similar(\n",
    "  positive=['Simon_task'],\n",
    "  # negative=['Sorting_task','Go_NoGo'],\n",
    "  topn=20)\n",
    "\n",
    "# TODO filter by category\n"
   ]
  },
  {
   "cell_type": "code",
   "execution_count": null,
   "metadata": {},
   "outputs": [],
   "source": [
    "# Plot all tasks and constructs in a lower dimensional 3d space\n",
    "\n",
    "import plotly.express as px\n",
    "\n",
    "# projections = PCA(n_components=2, random_state=0).fit_transform(label_embeddings)\n",
    "projections_3d = UMAP(n_components=3, random_state=0).fit_transform(node_avg_embeddings)\n",
    "projections_2d = UMAP(n_components=2, random_state=0).fit_transform(node_avg_embeddings)\n",
    "\n",
    "projections_3d = pd.DataFrame(projections_3d, index=node_avg_embeddings.index).reset_index()\n",
    "projections_2d = pd.DataFrame(projections_2d, index=node_avg_embeddings.index).reset_index()\n",
    "\n",
    "fig = px.scatter_3d(projections_3d,\n",
    "                    x=0, y=1, z=2,\n",
    "                    color='category', hover_name='label',\n",
    "                    title='Popular labels in the topic space',\n",
    "                    color_discrete_sequence=['red','blue'],\n",
    "                    width=600, height=600,)\n",
    "fig.show()\n",
    "\n",
    "\n",
    "fig, ax = plt.subplots(1,1, figsize=(15,15))\n",
    "sns.scatterplot(data=projections_2d, x=0, y=1, ax=ax, s=50, hue='category')\n",
    "\n",
    "for (i,lbl, _,x, y) in projections_2d.itertuples():\n",
    "  lbl = f'{lbl[:12]}...' if len(lbl)>10 else lbl\n",
    "  ax.text(x+0.01, y-np.random.random()*.02, f'{lbl}', alpha=0.5, fontsize=12)\n",
    "\n",
    "ax.set(xlabel='UMAP 1', ylabel='UMAP 2')\n",
    "plt.suptitle('2D projection of the topic embeddings',y=.9)\n",
    "plt.show()"
   ]
  },
  {
   "cell_type": "code",
   "execution_count": null,
   "metadata": {},
   "outputs": [],
   "source": [
    "%reload_ext watermark\n",
    "%watermark\n",
    "%watermark -iv -p umap,pytorch,scikit-learn,python.cogtext"
   ]
  }
 ],
 "metadata": {
  "interpreter": {
   "hash": "0cd18c5ac842435f41b27fe4a6c26243d22dfb8bd1f4766298bbfd5d775f6809"
  },
  "kernelspec": {
   "display_name": "Python 3.9.0 ('cogtext')",
   "language": "python",
   "name": "python3"
  },
  "language_info": {
   "codemirror_mode": {
    "name": "ipython",
    "version": 3
   },
   "file_extension": ".py",
   "mimetype": "text/x-python",
   "name": "python",
   "nbconvert_exporter": "python",
   "pygments_lexer": "ipython3",
   "version": "3.9.0"
  },
  "orig_nbformat": 4
 },
 "nbformat": 4,
 "nbformat_minor": 2
}
