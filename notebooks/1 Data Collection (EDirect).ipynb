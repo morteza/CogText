{
 "cells": [
  {
   "cell_type": "code",
   "execution_count": 87,
   "metadata": {},
   "outputs": [],
   "source": [
    "%reload_ext autoreload\n",
    "%autoreload 3\n",
    "\n",
    "from owlready2 import get_ontology\n",
    "from pathlib import Path\n",
    "from dotenv import load_dotenv; load_dotenv()  # to load NCBI_API_KEY env variable\n",
    "import pandas as pd\n",
    "import re\n",
    "from tqdm import tqdm\n",
    "from IPython.display import clear_output\n",
    "\n",
    "from src.cogtext.datasets.pubmed import convert_xml_to_csv"
   ]
  },
  {
   "cell_type": "code",
   "execution_count": 88,
   "metadata": {},
   "outputs": [],
   "source": [
    "# collect data for the following categories\n",
    "CATEGORIES = ['CognitiveTask', 'CognitiveConstruct']\n",
    "\n",
    "OUTPUT_PATH = 'data/pubmed/abstracts_2023.csv.gz'\n",
    "\n",
    "ONTOLOGY = get_ontology('data/ontologies/efo.owl').load()"
   ]
  },
  {
   "cell_type": "code",
   "execution_count": 89,
   "metadata": {},
   "outputs": [
    {
     "name": "stdout",
     "output_type": "stream",
     "text": [
      "EF ontology contains 126 PubMed queries for CognitiveTasks.\n",
      "EF ontology contains 72 PubMed queries for CognitiveConstructs.\n"
     ]
    }
   ],
   "source": [
    "all_queries = {}\n",
    "\n",
    "for category in CATEGORIES:\n",
    "  category_queries = {e.name:str(e.pubmedQuery[0]).replace('\"', '\\\\\"')\n",
    "                      for e in ONTOLOGY[category].descendants()\n",
    "                      if len(e.pubmedQuery) > 0}\n",
    "  all_queries[category] = category_queries\n",
    "  print(f'EF ontology contains {len(category_queries)} PubMed queries for {category}s.')"
   ]
  },
  {
   "cell_type": "code",
   "execution_count": 93,
   "metadata": {},
   "outputs": [],
   "source": [
    "import re\n",
    "\n",
    "def convert_to_csv(category, subcategory, pubmed_file):\n",
    "\n",
    "    with open(pubmed_file, 'r') as f:\n",
    "        docs = f.read().replace('\\n      ',' ').split('\\n\\n')\n",
    "    \n",
    "    records = []\n",
    "\n",
    "    for doc in docs:\n",
    "    # for doc in docs:\n",
    "        if 'AB  - ' not in doc:\n",
    "            abstract = re.search(r'OAB\\s-\\s(.*)\\n', doc).group(1)\n",
    "        else:\n",
    "            abstract = re.search(r'AB\\s\\s-\\s(.*)\\n', doc).group(1)\n",
    "        if 'PT  - Book' in doc:\n",
    "            title = re.search(r'BTI\\s-\\s(.*)\\n', doc).group(1)\n",
    "            journal_iso = None\n",
    "            journal_title = None\n",
    "        else:\n",
    "            title = re.search(r'TI\\s\\s-\\s(.*)\\n', doc).group(1)\n",
    "            journal_title = re.search(r'JT\\s\\s-\\s(.*)\\n', doc).group(1)\n",
    "            journal_iso = re.search(r'TA\\s\\s-\\s(.*)\\n', doc).group(1)\n",
    "\n",
    "        pmid = re.search(r'PMID-\\s(.*)\\n', doc).group(1)\n",
    "        year = re.search(r'DP\\s\\s-\\s(\\d{4}).*\\n', doc).group(1)\n",
    "        doi = None\n",
    "        if '[doi]' in doc:\n",
    "            doi = re.search(r'AID\\s-\\s(.*)\\[doi\\]', doc, re.DOTALL).group(1)\n",
    "        records.append((pmid, doi, year, title, journal_title, journal_iso, abstract))\n",
    "    # print(a.group(0))\n",
    "\n",
    "    records = pd.DataFrame(records, columns=['pmid', 'doi', 'year', 'title', 'journal', 'journal_iso_abbreviation', 'abstract'])\n",
    "    records['category'] = category\n",
    "    records['subcategory'] = subcategory\n",
    "\n",
    "    records.to_csv(f'data/pubmed/{category}/{subcategory}.csv', index=False)\n"
   ]
  },
  {
   "cell_type": "code",
   "execution_count": 94,
   "metadata": {},
   "outputs": [
    {
     "name": "stdout",
     "output_type": "stream",
     "text": [
      "[EDirect] Finished data/pubmed/.cache/BART.txt.\n",
      "[EDirect] Finished data/pubmed/.cache/OSpan_-_Operating_Span.txt.\n",
      "[EDirect] Finished data/pubmed/.cache/TMT_-_Trail_Making_Task.txt.\n",
      "[EDirect] Finished data/pubmed/.cache/ShapeSchool.txt.\n",
      "[EDirect] Finished data/pubmed/.cache/OddOneOutTask.txt.\n",
      "[EDirect] Finished data/pubmed/.cache/WCST_-_Wisconsin_Card_Sort_Test.txt.\n",
      "[EDirect] Finished data/pubmed/.cache/TowerOfLondon.txt.\n",
      "[EDirect] Finished data/pubmed/.cache/RunningSpan.txt.\n",
      "[EDirect] Finished data/pubmed/.cache/GiftDelay.txt.\n",
      "[EDirect] Finished data/pubmed/.cache/PVT_-_Psychomotor_Vigilance_task.txt.\n",
      "[EDirect] Finished data/pubmed/.cache/DelayChoiceTask.txt.\n",
      "[EDirect] Finished data/pubmed/.cache/BoxesTask.txt.\n",
      "[EDirect] Finished data/pubmed/.cache/LMT_-_Letter_Memory_task.txt.\n",
      "[EDirect] Finished data/pubmed/.cache/Sorting_task.txt.\n",
      "[EDirect] Finished data/pubmed/.cache/StimSSS.txt.\n",
      "[EDirect] Finished data/pubmed/.cache/DietaryDecisionsTask.txt.\n",
      "[EDirect] Finished data/pubmed/.cache/HierarchicalRule.txt.\n",
      "[EDirect] Finished data/pubmed/.cache/D2_target_detection.txt.\n",
      "[EDirect] Finished data/pubmed/.cache/Span_Task.txt.\n",
      "[EDirect] Finished data/pubmed/.cache/CognitiveFlexibilityTask.txt.\n",
      "[EDirect] No results for ControlledAttentionTask.\n",
      "[EDirect] Finished data/pubmed/.cache/RNG_-_Random_Number_Generation_task.txt.\n",
      "[EDirect] Finished data/pubmed/.cache/RavensMatricesTask.txt.\n",
      "[EDirect] No results for Listening_Recall_task.\n",
      "[EDirect] Finished data/pubmed/.cache/DirectedForgettingTest.txt.\n",
      "[EDirect] No results for Expressive_Attention_task.\n",
      "[EDirect] Finished data/pubmed/.cache/Keep_Track_task.txt.\n",
      "[EDirect] No results for Matrix_Monitoring_task.\n",
      "[EDirect] No results for PlusMinusTask.\n",
      "[EDirect] Finished data/pubmed/.cache/Semantic_Fluency_test.txt.\n",
      "[EDirect] Finished data/pubmed/.cache/Verbal_fluency_task.txt.\n",
      "[EDirect] Finished data/pubmed/.cache/Delay_Discounting_task.txt.\n",
      "[EDirect] Finished data/pubmed/.cache/CorsiBlockTask.txt.\n",
      "[EDirect] No results for SCA_-_Spatial_Conflict_Arrows.\n",
      "[EDirect] Finished data/pubmed/.cache/TaskSwitchingTest.txt.\n",
      "[EDirect] Finished data/pubmed/.cache/Digit_Span.txt.\n",
      "[EDirect] Finished data/pubmed/.cache/FIST_-_Flexible_Item_Selection_task.txt.\n",
      "[EDirect] Finished data/pubmed/.cache/ShiftTask.txt.\n",
      "[EDirect] Finished data/pubmed/.cache/GiftWrap.txt.\n",
      "[EDirect] Finished data/pubmed/.cache/AnalogyMakingTask.txt.\n",
      "[EDirect] Finished data/pubmed/.cache/ColumbiaCardTask.txt.\n",
      "[EDirect] Finished data/pubmed/.cache/LNS_-_Letter_Number_Sequencing.txt.\n",
      "[EDirect] No results for NebraskaBarnyard.\n",
      "[EDirect] Finished data/pubmed/.cache/HoltLaury.txt.\n",
      "[EDirect] No results for Oddity_Switching_task.\n",
      "[EDirect] Finished data/pubmed/.cache/AttentionNetworkTest.txt.\n",
      "[EDirect] No results for LuriaHandGame.\n",
      "[EDirect] Finished data/pubmed/.cache/CognitiveReflectionTest.txt.\n",
      "[EDirect] Finished data/pubmed/.cache/AutomatedOperationSpanTask.txt.\n",
      "[EDirect] Finished data/pubmed/.cache/Reading_Span_Task.txt.\n",
      "[EDirect] No results for ToySortTask.\n",
      "[EDirect] Finished data/pubmed/.cache/DiscountingTask.txt.\n",
      "[EDirect] No results for BackwardsColorRecallTask.\n",
      "[EDirect] Finished data/pubmed/.cache/NineBoxes.txt.\n",
      "[EDirect] Finished data/pubmed/.cache/SentenceRepetition.txt.\n",
      "[EDirect] Finished data/pubmed/.cache/BalanceBeamTask.txt.\n",
      "[EDirect] Finished data/pubmed/.cache/Local–global_task.txt.\n",
      "[EDirect] Finished data/pubmed/.cache/BackwardSpanTask.txt.\n",
      "[EDirect] Finished data/pubmed/.cache/LetterFluency.txt.\n",
      "[EDirect] Finished data/pubmed/.cache/FlankerTask.txt.\n",
      "[EDirect] Finished data/pubmed/.cache/PEG_-_Pencil_Tapping_task.txt.\n",
      "[EDirect] Finished data/pubmed/.cache/SimpleRT.txt.\n",
      "[EDirect] Finished data/pubmed/.cache/DPXTest.txt.\n",
      "[EDirect] Finished data/pubmed/.cache/BlockDesignSubTest.txt.\n",
      "[EDirect] Finished data/pubmed/.cache/TwoStep.txt.\n",
      "[EDirect] Finished data/pubmed/.cache/MCST_-_Modified_Card_Sorting_test.txt.\n",
      "[EDirect] Finished data/pubmed/.cache/GrassSnowTask.txt.\n",
      "[EDirect] Finished data/pubmed/.cache/CategoryFluencyTask.txt.\n",
      "[EDirect] No results for Digit-Shifting_task.\n",
      "[EDirect] Finished data/pubmed/.cache/Go_NoGo.txt.\n",
      "[EDirect] No results for MentalCountingTask.\n",
      "[EDirect] Finished data/pubmed/.cache/NBackTask.txt.\n",
      "[EDirect] No results for SSS_-_Serial_Subtraction_of_Sevens.\n",
      "[EDirect] Finished data/pubmed/.cache/IGT_-_Iowa_Gambling_task.txt.\n",
      "[EDirect] Finished data/pubmed/.cache/ColorShapeTask.txt.\n",
      "[EDirect] Finished data/pubmed/.cache/RecentProbesTask.txt.\n",
      "[EDirect] Finished data/pubmed/.cache/Number-Letter_task.txt.\n",
      "[EDirect] Finished data/pubmed/.cache/Sentence_Completion_task.txt.\n",
      "[EDirect] Finished data/pubmed/.cache/Counting_Span_task.txt.\n",
      "[EDirect] Finished data/pubmed/.cache/ContiniousPerformanceTask.txt.\n",
      "[EDirect] Finished data/pubmed/.cache/ReversalLearning.txt.\n",
      "[EDirect] Finished data/pubmed/.cache/LetterMonitoring.txt.\n",
      "[EDirect] Finished data/pubmed/.cache/Flexibility_Test.txt.\n",
      "[EDirect] Finished data/pubmed/.cache/PRP.txt.\n",
      "[EDirect] Finished data/pubmed/.cache/Stroop.txt.\n",
      "[EDirect] Finished data/pubmed/.cache/BlockSpanTask.txt.\n",
      "[EDirect] Finished data/pubmed/.cache/Simon_task.txt.\n",
      "[EDirect] No results for AnimalShiftingTask.\n",
      "[EDirect] Finished data/pubmed/.cache/Hayling_test.txt.\n",
      "[EDirect] No results for More-lessOdd-Even_task.\n",
      "[EDirect] Finished data/pubmed/.cache/ReverseCategorization.txt.\n",
      "[EDirect] Finished data/pubmed/.cache/CategorySwitchTask.txt.\n",
      "[EDirect] No results for Mister_X_task.\n",
      "[EDirect] Finished data/pubmed/.cache/SimonSays.txt.\n",
      "[EDirect] Finished data/pubmed/.cache/Dimension-switching_task.txt.\n",
      "[EDirect] Finished data/pubmed/.cache/Incompatibility_test.txt.\n",
      "[EDirect] Finished data/pubmed/.cache/SelfControlScheduleTask.txt.\n",
      "[EDirect] Finished data/pubmed/.cache/AuditoryAttentionTask.txt.\n",
      "[EDirect] Finished data/pubmed/.cache/ContingencyNamingTask.txt.\n",
      "[EDirect] Finished data/pubmed/.cache/StopSignalTask.txt.\n",
      "[EDirect] Finished data/pubmed/.cache/Object_Substitution_task.txt.\n",
      "[EDirect] Finished data/pubmed/.cache/ShapeMatching.txt.\n",
      "[EDirect] Finished data/pubmed/.cache/BearDragonTask.txt.\n",
      "[EDirect] Finished data/pubmed/.cache/TowerOfHanoi.txt.\n",
      "[EDirect] Finished data/pubmed/.cache/LexicalFluencyTest.txt.\n",
      "[EDirect] No results for BearAlligatorTask.\n",
      "[EDirect] Finished data/pubmed/.cache/DegradedVigilanceTask.txt.\n",
      "[EDirect] Finished data/pubmed/.cache/VisualMatrixSpanTask.txt.\n",
      "[EDirect] Finished data/pubmed/.cache/BoxCrossingDualTask.txt.\n",
      "[EDirect] Finished data/pubmed/.cache/KnockAndTapTask.txt.\n",
      "[EDirect] Finished data/pubmed/.cache/SnackDelayTask.txt.\n",
      "[EDirect] Finished data/pubmed/.cache/SpinThePots.txt.\n",
      "[EDirect] Finished data/pubmed/.cache/Head-Toes-Knees-Shoulders_task.txt.\n",
      "[EDirect] No results for CountingRecallTask.\n",
      "[EDirect] Finished data/pubmed/.cache/S-R_compatibility_task.txt.\n",
      "[EDirect] Finished data/pubmed/.cache/Cued_Unpredictable_Switch_task.txt.\n",
      "[EDirect] Finished data/pubmed/.cache/AntiSaccadeTask.txt.\n",
      "[EDirect] Finished data/pubmed/.cache/ChoiceReactionTimeTask.txt.\n",
      "[EDirect] No results for Delayed_Alternation_task.\n",
      "[EDirect] Finished data/pubmed/.cache/RLG_-_Random_Letter_Generation_task.txt.\n",
      "[EDirect] Finished data/pubmed/.cache/DimensionalChangeCardSortTask.txt.\n",
      "[EDirect] Finished data/pubmed/.cache/InformationSampling.txt.\n",
      "[EDirect] No results for Pictorial_Updating_task.\n",
      "[EDirect] No results for STS_-_Something's_the_Same_game.\n",
      "[EDirect] No results for PTP_-_Pick_the_Picture_game.\n",
      "[EDirect] No results for Picture-Symbol_task.\n",
      "[EDirect] Finished data/pubmed/.cache/EpisodicMemory.txt.\n",
      "[EDirect] Finished data/pubmed/.cache/CognitiveFlexibility.txt.\n",
      "[EDirect] Finished data/pubmed/.cache/NonverbalWorkingMemory.txt.\n",
      "[EDirect] Finished data/pubmed/.cache/SelectiveAttention.txt.\n",
      "[EDirect] Finished data/pubmed/.cache/BehavioralControl.txt.\n",
      "[EDirect] Finished data/pubmed/.cache/Fluency.txt.\n",
      "[EDirect] Finished data/pubmed/.cache/LogicalReasoning.txt.\n",
      "[EDirect] Finished data/pubmed/.cache/Creativity.txt.\n",
      "[EDirect] Finished data/pubmed/.cache/Volition.txt.\n",
      "[EDirect] Finished data/pubmed/.cache/Inhibition.txt.\n",
      "[EDirect] Finished data/pubmed/.cache/EmotionalControl.txt.\n",
      "[EDirect] Finished data/pubmed/.cache/Reasoning.txt.\n",
      "[EDirect] Finished data/pubmed/.cache/ExecutiveAttention.txt.\n",
      "[EDirect] Finished data/pubmed/.cache/VisuospatialProcessing.txt.\n",
      "[EDirect] Finished data/pubmed/.cache/CognitiveInhibition.txt.\n",
      "[EDirect] Finished data/pubmed/.cache/Organization.txt.\n",
      "[EDirect] Finished data/pubmed/.cache/SelfControl.txt.\n",
      "[EDirect] Fetching 47725 articles...\n",
      "[EDirect] Finished data/pubmed/.cache/FluidIntelligence.txt.\n",
      "[EDirect] Finished data/pubmed/.cache/LongTermMemory.txt.\n",
      "[EDirect] Fetching 175031 articles...\n",
      "[EDirect] Finished data/pubmed/.cache/Shifting.txt.\n",
      "[EDirect] Finished data/pubmed/.cache/EmotionalRegulation.txt.\n",
      "[EDirect] Finished data/pubmed/.cache/DeductiveReasoning.txt.\n"
     ]
    },
    {
     "name": "stderr",
     "output_type": "stream",
     "text": [
      ".."
     ]
    },
    {
     "name": "stdout",
     "output_type": "stream",
     "text": [
      "[EDirect] Fetching 40 articles...\n",
      "[EDirect] Fetching 139 articles...\n"
     ]
    },
    {
     "name": "stderr",
     "output_type": "stream",
     "text": [
      "."
     ]
    },
    {
     "name": "stdout",
     "output_type": "stream",
     "text": [
      "[EDirect] Fetching 11967 articles...\n",
      "[EDirect] Fetching 8472 articles...\n"
     ]
    },
    {
     "name": "stderr",
     "output_type": "stream",
     "text": [
      "."
     ]
    },
    {
     "name": "stdout",
     "output_type": "stream",
     "text": [
      "[EDirect] Fetching 33445 articles...\n"
     ]
    },
    {
     "name": "stderr",
     "output_type": "stream",
     "text": [
      "..."
     ]
    },
    {
     "name": "stdout",
     "output_type": "stream",
     "text": [
      "[EDirect] Finished data/pubmed/.cache/Updating.txt.\n"
     ]
    },
    {
     "name": "stderr",
     "output_type": "stream",
     "text": [
      ".."
     ]
    },
    {
     "name": "stdout",
     "output_type": "stream",
     "text": [
      "[EDirect] Finished data/pubmed/.cache/RelationalReasoning.txt.\n"
     ]
    },
    {
     "name": "stderr",
     "output_type": "stream",
     "text": [
      "."
     ]
    },
    {
     "name": "stdout",
     "output_type": "stream",
     "text": [
      "[EDirect] Fetching 961 articles...\n"
     ]
    },
    {
     "name": "stderr",
     "output_type": "stream",
     "text": [
      ".."
     ]
    },
    {
     "name": "stdout",
     "output_type": "stream",
     "text": [
      "[EDirect] Fetching 4633 articles...\n"
     ]
    },
    {
     "name": "stderr",
     "output_type": "stream",
     "text": [
      "......\n",
      "........."
     ]
    },
    {
     "name": "stdout",
     "output_type": "stream",
     "text": [
      "[EDirect] Finished data/pubmed/.cache/BehavioralRegulation.txt.\n"
     ]
    },
    {
     "name": "stderr",
     "output_type": "stream",
     "text": [
      "."
     ]
    },
    {
     "name": "stdout",
     "output_type": "stream",
     "text": [
      "[EDirect] Fetching 94 articles...\n"
     ]
    },
    {
     "name": "stderr",
     "output_type": "stream",
     "text": [
      "....."
     ]
    },
    {
     "name": "stdout",
     "output_type": "stream",
     "text": [
      "[EDirect] Finished data/pubmed/.cache/VisuospatialSketchpad.txt.\n"
     ]
    },
    {
     "name": "stderr",
     "output_type": "stream",
     "text": [
      "."
     ]
    },
    {
     "name": "stdout",
     "output_type": "stream",
     "text": [
      "[EDirect] Fetching 9672 articles...\n"
     ]
    },
    {
     "name": "stderr",
     "output_type": "stream",
     "text": [
      "......\n",
      "..\n",
      "......."
     ]
    },
    {
     "name": "stdout",
     "output_type": "stream",
     "text": [
      "[EDirect] Finished data/pubmed/.cache/ExecutiveControl.txt.\n"
     ]
    },
    {
     "name": "stderr",
     "output_type": "stream",
     "text": [
      "."
     ]
    },
    {
     "name": "stdout",
     "output_type": "stream",
     "text": [
      "[EDirect] Fetching 3155 articles...\n"
     ]
    },
    {
     "name": "stderr",
     "output_type": "stream",
     "text": [
      "............"
     ]
    },
    {
     "name": "stdout",
     "output_type": "stream",
     "text": [
      "[EDirect] Finished data/pubmed/.cache/InhibitoryControl.txt.\n",
      "[EDirect] Fetching 25 articles...\n"
     ]
    },
    {
     "name": "stderr",
     "output_type": "stream",
     "text": [
      "."
     ]
    },
    {
     "name": "stdout",
     "output_type": "stream",
     "text": [
      "[EDirect] Finished data/pubmed/.cache/SelfMonitoring.txt.\n"
     ]
    },
    {
     "name": "stderr",
     "output_type": "stream",
     "text": [
      "."
     ]
    },
    {
     "name": "stdout",
     "output_type": "stream",
     "text": [
      "[EDirect] Fetching 3634 articles...\n",
      "[EDirect] Finished data/pubmed/.cache/HigherOrderExecutiveFunction.txt.\n",
      "[EDirect] Fetching 28 articles...\n"
     ]
    },
    {
     "name": "stderr",
     "output_type": "stream",
     "text": [
      "."
     ]
    },
    {
     "name": "stdout",
     "output_type": "stream",
     "text": [
      "[EDirect] Finished data/pubmed/.cache/DualTaskCoordination.txt.\n",
      "[EDirect] Fetching 8682 articles...\n"
     ]
    },
    {
     "name": "stderr",
     "output_type": "stream",
     "text": [
      "../Users/morteza/edirect/join-into-groups-of: line 8: 94065 Killed: 9               xargs -n \"$@\" echo\n",
      "     94066                       | sed 's/ /,/g'\n",
      "     94068                       | grep '.'\n"
     ]
    },
    {
     "ename": "KeyboardInterrupt",
     "evalue": "",
     "output_type": "error",
     "traceback": [
      "\u001b[0;31m---------------------------------------------------------------------------\u001b[0m",
      "\u001b[0;31mKeyboardInterrupt\u001b[0m                         Traceback (most recent call last)",
      "\u001b[1;32m/Users/morteza/workspace/cogtext/notebooks/1 Data Collection (News).ipynb Cell 5\u001b[0m line \u001b[0;36m5\n\u001b[1;32m     <a href='vscode-notebook-cell:/Users/morteza/workspace/cogtext/notebooks/1%20Data%20Collection%20%28News%29.ipynb#W4sZmlsZQ%3D%3D?line=49'>50</a>\u001b[0m     Path(\u001b[39mf\u001b[39m\u001b[39m'\u001b[39m\u001b[39mdata/pubmed/\u001b[39m\u001b[39m{\u001b[39;00mcategory\u001b[39m}\u001b[39;00m\u001b[39m/\u001b[39m\u001b[39m'\u001b[39m)\u001b[39m.\u001b[39mmkdir(parents\u001b[39m=\u001b[39m\u001b[39mTrue\u001b[39;00m, exist_ok\u001b[39m=\u001b[39m\u001b[39mTrue\u001b[39;00m)\n\u001b[1;32m     <a href='vscode-notebook-cell:/Users/morteza/workspace/cogtext/notebooks/1%20Data%20Collection%20%28News%29.ipynb#W4sZmlsZQ%3D%3D?line=51'>52</a>\u001b[0m     jobs \u001b[39m=\u001b[39m [delayed(pubmed_pipeline)(category, subcategory, query, overwrite\u001b[39m=\u001b[39m\u001b[39mFalse\u001b[39;00m)\n\u001b[1;32m     <a href='vscode-notebook-cell:/Users/morteza/workspace/cogtext/notebooks/1%20Data%20Collection%20%28News%29.ipynb#W4sZmlsZQ%3D%3D?line=52'>53</a>\u001b[0m             \u001b[39mfor\u001b[39;00m subcategory, query \u001b[39min\u001b[39;00m queries\u001b[39m.\u001b[39mitems()\n\u001b[1;32m     <a href='vscode-notebook-cell:/Users/morteza/workspace/cogtext/notebooks/1%20Data%20Collection%20%28News%29.ipynb#W4sZmlsZQ%3D%3D?line=53'>54</a>\u001b[0m     ]\n\u001b[0;32m---> <a href='vscode-notebook-cell:/Users/morteza/workspace/cogtext/notebooks/1%20Data%20Collection%20%28News%29.ipynb#W4sZmlsZQ%3D%3D?line=55'>56</a>\u001b[0m     Parallel(n_jobs\u001b[39m=\u001b[39;49m\u001b[39m7\u001b[39;49m)(jobs)\n\u001b[1;32m     <a href='vscode-notebook-cell:/Users/morteza/workspace/cogtext/notebooks/1%20Data%20Collection%20%28News%29.ipynb#W4sZmlsZQ%3D%3D?line=57'>58</a>\u001b[0m clear_output()\n\u001b[1;32m     <a href='vscode-notebook-cell:/Users/morteza/workspace/cogtext/notebooks/1%20Data%20Collection%20%28News%29.ipynb#W4sZmlsZQ%3D%3D?line=58'>59</a>\u001b[0m \u001b[39mprint\u001b[39m(\u001b[39m'\u001b[39m\u001b[39mDone!\u001b[39m\u001b[39m'\u001b[39m)\n",
      "File \u001b[0;32m~/micromamba/envs/cogtext/lib/python3.11/site-packages/joblib/parallel.py:1952\u001b[0m, in \u001b[0;36mParallel.__call__\u001b[0;34m(self, iterable)\u001b[0m\n\u001b[1;32m   1946\u001b[0m \u001b[39m# The first item from the output is blank, but it makes the interpreter\u001b[39;00m\n\u001b[1;32m   1947\u001b[0m \u001b[39m# progress until it enters the Try/Except block of the generator and\u001b[39;00m\n\u001b[1;32m   1948\u001b[0m \u001b[39m# reach the first `yield` statement. This starts the aynchronous\u001b[39;00m\n\u001b[1;32m   1949\u001b[0m \u001b[39m# dispatch of the tasks to the workers.\u001b[39;00m\n\u001b[1;32m   1950\u001b[0m \u001b[39mnext\u001b[39m(output)\n\u001b[0;32m-> 1952\u001b[0m \u001b[39mreturn\u001b[39;00m output \u001b[39mif\u001b[39;00m \u001b[39mself\u001b[39m\u001b[39m.\u001b[39mreturn_generator \u001b[39melse\u001b[39;00m \u001b[39mlist\u001b[39m(output)\n",
      "File \u001b[0;32m~/micromamba/envs/cogtext/lib/python3.11/site-packages/joblib/parallel.py:1595\u001b[0m, in \u001b[0;36mParallel._get_outputs\u001b[0;34m(self, iterator, pre_dispatch)\u001b[0m\n\u001b[1;32m   1592\u001b[0m     \u001b[39myield\u001b[39;00m\n\u001b[1;32m   1594\u001b[0m     \u001b[39mwith\u001b[39;00m \u001b[39mself\u001b[39m\u001b[39m.\u001b[39m_backend\u001b[39m.\u001b[39mretrieval_context():\n\u001b[0;32m-> 1595\u001b[0m         \u001b[39myield from\u001b[39;00m \u001b[39mself\u001b[39m\u001b[39m.\u001b[39m_retrieve()\n\u001b[1;32m   1597\u001b[0m \u001b[39mexcept\u001b[39;00m \u001b[39mGeneratorExit\u001b[39;00m:\n\u001b[1;32m   1598\u001b[0m     \u001b[39m# The generator has been garbage collected before being fully\u001b[39;00m\n\u001b[1;32m   1599\u001b[0m     \u001b[39m# consumed. This aborts the remaining tasks if possible and warn\u001b[39;00m\n\u001b[1;32m   1600\u001b[0m     \u001b[39m# the user if necessary.\u001b[39;00m\n\u001b[1;32m   1601\u001b[0m     \u001b[39mself\u001b[39m\u001b[39m.\u001b[39m_exception \u001b[39m=\u001b[39m \u001b[39mTrue\u001b[39;00m\n",
      "File \u001b[0;32m~/micromamba/envs/cogtext/lib/python3.11/site-packages/joblib/parallel.py:1707\u001b[0m, in \u001b[0;36mParallel._retrieve\u001b[0;34m(self)\u001b[0m\n\u001b[1;32m   1702\u001b[0m \u001b[39m# If the next job is not ready for retrieval yet, we just wait for\u001b[39;00m\n\u001b[1;32m   1703\u001b[0m \u001b[39m# async callbacks to progress.\u001b[39;00m\n\u001b[1;32m   1704\u001b[0m \u001b[39mif\u001b[39;00m ((\u001b[39mlen\u001b[39m(\u001b[39mself\u001b[39m\u001b[39m.\u001b[39m_jobs) \u001b[39m==\u001b[39m \u001b[39m0\u001b[39m) \u001b[39mor\u001b[39;00m\n\u001b[1;32m   1705\u001b[0m     (\u001b[39mself\u001b[39m\u001b[39m.\u001b[39m_jobs[\u001b[39m0\u001b[39m]\u001b[39m.\u001b[39mget_status(\n\u001b[1;32m   1706\u001b[0m         timeout\u001b[39m=\u001b[39m\u001b[39mself\u001b[39m\u001b[39m.\u001b[39mtimeout) \u001b[39m==\u001b[39m TASK_PENDING)):\n\u001b[0;32m-> 1707\u001b[0m     time\u001b[39m.\u001b[39msleep(\u001b[39m0.01\u001b[39m)\n\u001b[1;32m   1708\u001b[0m     \u001b[39mcontinue\u001b[39;00m\n\u001b[1;32m   1710\u001b[0m \u001b[39m# We need to be careful: the job list can be filling up as\u001b[39;00m\n\u001b[1;32m   1711\u001b[0m \u001b[39m# we empty it and Python list are not thread-safe by\u001b[39;00m\n\u001b[1;32m   1712\u001b[0m \u001b[39m# default hence the use of the lock\u001b[39;00m\n",
      "\u001b[0;31mKeyboardInterrupt\u001b[0m: "
     ]
    }
   ],
   "source": [
    "from joblib import Parallel, delayed\n",
    "\n",
    "import os\n",
    "import subprocess\n",
    "import shlex\n",
    "import xmltodict\n",
    "\n",
    "def pubmed_pipeline(category, subcategory, query, overwrite=True,\n",
    "                    edirect_dir='/Users/morteza/edirect'):\n",
    "    subcategory = subcategory.replace('/', '')\n",
    "    fname = Path('data/pubmed/.cache') / (subcategory + '.txt')\n",
    "    fname.parent.mkdir(parents=True, exist_ok=True)\n",
    "\n",
    "    if overwrite or not fname.exists():\n",
    "        edirect_env = os.environ.copy()\n",
    "        edirect_env['PATH'] = f\"{edirect_dir}:{edirect_env['PATH']}\"\n",
    "\n",
    "        esearch_cmd = f'esearch -db pubmed -query \"{query}\" -pub abstract'\n",
    "        efetch_cmd = f'efetch -format medline'\n",
    "\n",
    "        esearch = subprocess.Popen(shlex.split(esearch_cmd),\n",
    "                                   stdout=subprocess.PIPE, env=edirect_env)\n",
    "        out, err = esearch.communicate()\n",
    "\n",
    "        n_results = xmltodict.parse(out)['ENTREZ_DIRECT']['Count']\n",
    "        if n_results == '0':\n",
    "            print(f'[EDirect] No results for {subcategory}.')\n",
    "            return\n",
    "        \n",
    "        print(f'[EDirect] Fetching {n_results} articles...')\n",
    "\n",
    "        efetch = subprocess.Popen(shlex.split(efetch_cmd),\n",
    "                                  stdin=subprocess.PIPE,\n",
    "                                  stdout=subprocess.PIPE, env=edirect_env)\n",
    "\n",
    "        out, err = efetch.communicate(input=out)\n",
    "\n",
    "        with open(fname, 'wb') as f:\n",
    "            f.write(out)\n",
    "\n",
    "    print(f'[EDirect] Finished {fname}.')\n",
    "    try:\n",
    "        convert_to_csv(category, subcategory, fname)\n",
    "    except Exception as e:\n",
    "        print(f'[CSV] Failed to convert {subcategory}.')\n",
    "        raise e\n",
    "\n",
    "for category, queries in all_queries.items():\n",
    "\n",
    "    Path(f'data/pubmed/{category}/').mkdir(parents=True, exist_ok=True)\n",
    "\n",
    "    jobs = [delayed(pubmed_pipeline)(category, subcategory, query, overwrite=False)\n",
    "            for subcategory, query in queries.items()\n",
    "    ]\n",
    "\n",
    "    Parallel(n_jobs=7)(jobs)\n",
    "\n",
    "clear_output()\n",
    "print('Done!')"
   ]
  }
 ],
 "metadata": {
  "kernelspec": {
   "display_name": "cogtext",
   "language": "python",
   "name": "python3"
  },
  "language_info": {
   "codemirror_mode": {
    "name": "ipython",
    "version": 3
   },
   "file_extension": ".py",
   "mimetype": "text/x-python",
   "name": "python",
   "nbconvert_exporter": "python",
   "pygments_lexer": "ipython3",
   "version": "3.11.6"
  }
 },
 "nbformat": 4,
 "nbformat_minor": 2
}
