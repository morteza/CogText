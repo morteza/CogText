{
 "cells": [
  {
   "cell_type": "code",
   "execution_count": 11,
   "metadata": {},
   "outputs": [],
   "source": [
    "%reload_ext autoreload\n",
    "%autoreload 2\n",
    "\n",
    "import pandas as pd\n",
    "import numpy as np\n",
    "from sklearn.decomposition import PCA\n",
    "import matplotlib.pyplot as plt\n",
    "import seaborn as sns; sns.set_theme()  # noqa\n",
    "from sklearn.feature_extraction.text import CountVectorizer\n",
    "from python.cogtext.datasets.pubmed import PubMedDataLoader"
   ]
  },
  {
   "cell_type": "code",
   "execution_count": 31,
   "metadata": {},
   "outputs": [],
   "source": [
    "# load weights, clusters and metadata\n",
    "\n",
    "weights = np.load('models/cogtext/abstracts_weights.npz')['arr_0'] # take ~ 4sec\n",
    "documents = pd.read_csv('models/cogtext/abstracts_clusters.csv.gz', index_col=0)\n",
    "pubmed = PubMedDataLoader(preprocessed=False, drop_low_occurred_labels=True).load()"
   ]
  },
  {
   "cell_type": "code",
   "execution_count": null,
   "metadata": {},
   "outputs": [],
   "source": [
    "scores_df = pd.DataFrame(test_scores, index=PUBMED.index)\n",
    "scores_df['label'] = PUBMED['subcategory']\n",
    "scores_df = scores_df.groupby('label').mean()\n",
    "\n",
    "fig, ax = plt.subplots(1,1, figsize=(10,10))\n",
    "\n",
    "# projected_scores = PCA(n_components=2, random_state=0).fit_transform(scores_df)\n",
    "projected_scores = UMAP(n_components=2, random_state=0).fit_transform(scores_df)\n",
    "projected_scores = pd.DataFrame(projected_scores, index=scores_df.index)\n",
    "\n",
    "sns.scatterplot(data=projected_scores, x=0, y=1, ax=ax, palette='Accent', s=200)\n",
    "\n",
    "for (lbl, x, y) in projected_scores.itertuples():\n",
    "  lbl = f'{lbl[:12]}...' if len(lbl)>10 else lbl\n",
    "  ax.text(x+0.01, y-np.random.random()*.01, f'{lbl}', alpha=0.5, fontsize=10)\n",
    "\n",
    "plt.suptitle('2-D projection of the topic embeddings.')\n",
    "plt.show()\n",
    "# pd.DataFrame(scores)"
   ]
  }
 ],
 "metadata": {
  "interpreter": {
   "hash": "4d4c55ad0dd25f9ca95e4d49a929aa3f71bfb37020ae570a9996c3e164818202"
  },
  "kernelspec": {
   "display_name": "Python 3.9.7 64-bit ('py3': conda)",
   "name": "python3"
  },
  "language_info": {
   "codemirror_mode": {
    "name": "ipython",
    "version": 3
   },
   "file_extension": ".py",
   "mimetype": "text/x-python",
   "name": "python",
   "nbconvert_exporter": "python",
   "pygments_lexer": "ipython3",
   "version": "3.9.7"
  },
  "orig_nbformat": 4
 },
 "nbformat": 4,
 "nbformat_minor": 2
}
