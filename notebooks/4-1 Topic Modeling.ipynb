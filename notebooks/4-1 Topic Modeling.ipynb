{
 "cells": [
  {
   "cell_type": "markdown",
   "metadata": {},
   "source": [
    "# Topic Modeling\n",
    "This notebooks aims to map vectorized documents to a topic space. Topic space reflects the underlying structure of the documents."
   ]
  },
  {
   "cell_type": "code",
   "execution_count": 81,
   "metadata": {},
   "outputs": [],
   "source": [
    "%reload_ext autoreload\n",
    "%autoreload 2\n",
    "\n",
    "from pathlib import Path\n",
    "import numpy as np\n",
    "import pandas as pd\n",
    "from python.cogtext.datasets.pubmed import PubMedDataLoader\n",
    "from python.cogtext.topic_model import TopicModel"
   ]
  },
  {
   "cell_type": "code",
   "execution_count": null,
   "metadata": {},
   "outputs": [],
   "source": [
    "# PUBMED = PubMedDataLoader(preprocessed=False, drop_low_occurred_labels=False).load()\n",
    "# EMBEDDINGS = np.load('models/embeddings/abstracts_UMAPv4.npz')['arr_0']\n",
    "embeddings = np.load('models/embeddings/abstracts_all-MiniLM-L6-v2.npz')['arr_0']\n",
    "documents = pd.read_csv('models/cogtext/abstracts_clusters.csv.gz', index_col=0)\n",
    "reduced_embeddings = np.load('models/embeddings/abstracts_UMAP5d.npz')['arr_0']"
   ]
  },
  {
   "cell_type": "code",
   "execution_count": null,
   "metadata": {},
   "outputs": [],
   "source": [
    "model = TopicModel(parametric_umap=False, verbose=True)\n",
    "clusters, weights = model.fit_transform(embeddings, umap_embeddings=reduced_embeddings)\n",
    "\n",
    "# drop cluster \"-1\" and make the rest 1-indexed\n",
    "documents['cluster'] = np.where(clusters >= 0, clusters + 1, np.nan)\n",
    "\n",
    "# store\n",
    "documents.to_csv('models/cogtext/abstracts_clusters.csv.gz', index=True)\n",
    "np.savez('models/embeddings/abstracts_cluster-weights.npz', weights)\n",
    "\n",
    "# report cluster frequencies\n",
    "documents['cluster'].value_counts()"
   ]
  },
  {
   "cell_type": "code",
   "execution_count": 93,
   "metadata": {},
   "outputs": [
    {
     "name": "stdout",
     "output_type": "stream",
     "text": [
      "Last updated: 2021-12-05T12:41:20.252167+01:00\n",
      "\n",
      "Python implementation: CPython\n",
      "Python version       : 3.9.7\n",
      "IPython version      : 7.28.0\n",
      "\n",
      "Compiler    : Clang 11.1.0 \n",
      "OS          : Darwin\n",
      "Release     : 21.1.0\n",
      "Machine     : x86_64\n",
      "Processor   : i386\n",
      "CPU cores   : 12\n",
      "Architecture: 64bit\n",
      "\n",
      "umap          : 0.5.2\n",
      "hdbscan       : 0.8.27\n",
      "joblib        : 1.1.0\n",
      "numpy         : 1.20.3\n",
      "numba         : 0.54.1\n",
      "pytorch       : not installed\n",
      "tensorflow    : 2.7.0\n",
      "python.cogtext: 0.1.2021120512\n",
      "\n",
      "sys   : 3.9.7 | packaged by conda-forge | (default, Sep 29 2021, 19:23:19) \n",
      "[Clang 11.1.0 ]\n",
      "pandas: 1.3.4\n",
      "numpy : 1.20.3\n",
      "\n"
     ]
    }
   ],
   "source": [
    "%reload_ext watermark\n",
    "%watermark\n",
    "%watermark -iv -p umap,hdbscan,joblib,numpy,numba,pytorch,tensorflow,python.cogtext"
   ]
  }
 ],
 "metadata": {
  "interpreter": {
   "hash": "4d4c55ad0dd25f9ca95e4d49a929aa3f71bfb37020ae570a9996c3e164818202"
  },
  "kernelspec": {
   "display_name": "Python 3.9.7 64-bit ('py3': conda)",
   "language": "python",
   "name": "python3"
  },
  "language_info": {
   "codemirror_mode": {
    "name": "ipython",
    "version": 3
   },
   "file_extension": ".py",
   "mimetype": "text/x-python",
   "name": "python",
   "nbconvert_exporter": "python",
   "pygments_lexer": "ipython3",
   "version": "3.9.7"
  },
  "orig_nbformat": 4
 },
 "nbformat": 4,
 "nbformat_minor": 2
}
