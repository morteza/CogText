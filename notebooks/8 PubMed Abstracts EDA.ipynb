{
 "cells": [
  {
   "cell_type": "markdown",
   "metadata": {},
   "source": [
    "# PubMed Abstracts EDA"
   ]
  },
  {
   "cell_type": "code",
   "execution_count": 6,
   "metadata": {},
   "outputs": [],
   "source": [
    "# %pip install \"umap-learn\" hdbscan joblib numpy -U\n",
    "\n",
    "%reload_ext autoreload\n",
    "%autoreload 2\n",
    "\n",
    "from pathlib import Path\n",
    "import numpy as np\n",
    "import pandas as pd\n",
    "from python.cogtext.datasets.pubmed import PubMedDataLoader\n",
    "from python.cogtext.topic_model import TopicModel"
   ]
  },
  {
   "cell_type": "code",
   "execution_count": 7,
   "metadata": {},
   "outputs": [],
   "source": [
    "# PUBMED = PubMedDataLoader(preprocessed=False, drop_low_occurred_labels=False).load()\n",
    "# EMBEDDINGS = np.load('models/embeddings/abstracts_UMAPv4.npz')['arr_0']\n",
    "embeddings = np.load('models/embeddings/abstracts_all-MiniLM-L6-v2.npz')['arr_0']\n",
    "documents = pd.read_csv('models/cogtext/abstracts_pmids.csv.gz', index_col=0)\n",
    "reduced_embeddings = np.load('models/embeddings/abstracts_UMAP5d.npz')['arr_0']"
   ]
  },
  {
   "cell_type": "code",
   "execution_count": null,
   "metadata": {},
   "outputs": [],
   "source": [
    "model = TopicModel(parametric_umap=False, verbose=True)\n",
    "clusters, weights = model.fit_transform(embeddings, umap_embeddings=reduced_embeddings)\n",
    "\n",
    "# drop cluster \"-1\" and make the rest 1-indexed\n",
    "documents['cluster'] = np.where(clusters >= 0, clusters + 1, np.nan)\n",
    "\n",
    "# store\n",
    "documents.to_csv('models/cogtext/abstracts_clusters.csv.gz', index=True)\n",
    "np.savez('models/embeddings/abstracts_cluster-weights.npz', weights)\n",
    "\n",
    "# report cluster frequencies\n",
    "documents['cluster'].value_counts()"
   ]
  }
 ],
 "metadata": {
  "interpreter": {
   "hash": "4d4c55ad0dd25f9ca95e4d49a929aa3f71bfb37020ae570a9996c3e164818202"
  },
  "kernelspec": {
   "display_name": "Python 3.9.7 64-bit ('py3': conda)",
   "language": "python",
   "name": "python3"
  },
  "language_info": {
   "codemirror_mode": {
    "name": "ipython",
    "version": 3
   },
   "file_extension": ".py",
   "mimetype": "text/x-python",
   "name": "python",
   "nbconvert_exporter": "python",
   "pygments_lexer": "ipython3",
   "version": "3.9.7"
  },
  "orig_nbformat": 4
 },
 "nbformat": 4,
 "nbformat_minor": 2
}
