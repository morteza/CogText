{
 "cells": [
  {
   "cell_type": "markdown",
   "metadata": {},
   "source": [
    "# PubMed Abstracts EDA"
   ]
  },
  {
   "cell_type": "code",
   "execution_count": 2,
   "metadata": {},
   "outputs": [],
   "source": [
    "%reload_ext autoreload\n",
    "%autoreload 2\n",
    "\n",
    "import numpy as np\n",
    "import pandas as pd\n",
    "from python.cogtext.datasets.pubmed import PubMedDataLoader\n",
    "from python.cogtext.topic_model import TopicModel"
   ]
  },
  {
   "cell_type": "code",
   "execution_count": 3,
   "metadata": {},
   "outputs": [],
   "source": [
    "PUBMED = PubMedDataLoader(preprocessed=False, drop_low_occurred_labels=False).load()\n",
    "# EMBEDDINGS = np.load('models/embeddings/abstracts_UMAPv4.npz')['arr_0']\n",
    "EMBEDDINGS = np.load('models/embeddings/abstracts_all-MiniLM-L6-v2.npz')['arr_0']"
   ]
  },
  {
   "cell_type": "code",
   "execution_count": 18,
   "metadata": {},
   "outputs": [],
   "source": [
    "# debug: sample to speed up\n",
    "data = PUBMED.sample(n=1000)\n",
    "embeddings = EMBEDDINGS[data.index]\n",
    "\n",
    "# normalize\n",
    "# from sklearn.preprocessing import normalize\n",
    "# normalize(embeddings, axis=1, norm='l1').sum(axis=1)"
   ]
  },
  {
   "cell_type": "code",
   "execution_count": 19,
   "metadata": {},
   "outputs": [
    {
     "name": "stdout",
     "output_type": "stream",
     "text": [
      "ParametricUMAP(optimizer=<keras.optimizer_v2.adam.Adam object at 0x17cbdd2e0>)\n",
      "Fri Dec  3 19:40:23 2021 Construct fuzzy simplicial set\n",
      "Fri Dec  3 19:40:23 2021 Finding Nearest Neighbors\n",
      "Fri Dec  3 19:40:23 2021 Finished Nearest Neighbor Search\n",
      "Fri Dec  3 19:40:23 2021 Construct embedding\n",
      "Epoch 1/10\n",
      "324/324 [==============================] - 3s 7ms/step - loss: 0.3954\n",
      "Epoch 2/10\n",
      "324/324 [==============================] - 2s 7ms/step - loss: 0.2834\n",
      "Epoch 3/10\n",
      "324/324 [==============================] - 2s 7ms/step - loss: 0.2655\n",
      "Epoch 4/10\n",
      "324/324 [==============================] - 3s 8ms/step - loss: 0.2588\n",
      "Epoch 5/10\n",
      "324/324 [==============================] - 3s 9ms/step - loss: 0.2555\n",
      "Epoch 6/10\n",
      "324/324 [==============================] - 3s 10ms/step - loss: 0.2541\n",
      "Epoch 7/10\n",
      "324/324 [==============================] - 3s 10ms/step - loss: 0.2530\n",
      "Epoch 8/10\n",
      "324/324 [==============================] - 3s 10ms/step - loss: 0.2531\n",
      "Epoch 9/10\n",
      "324/324 [==============================] - 4s 12ms/step - loss: 0.2525\n",
      "Epoch 10/10\n",
      "324/324 [==============================] - 4s 12ms/step - loss: 0.2518\n",
      "32/32 [==============================] - 0s 1ms/step\n",
      "Fri Dec  3 19:40:56 2021 Finished embedding\n",
      "________________________________________________________________________________\n",
      "[Memory] Calling hdbscan.hdbscan_._hdbscan_prims_kdtree...\n",
      "_hdbscan_prims_kdtree(array([[ 0.049562, ...,  0.026746],\n",
      "       ...,\n",
      "       [-0.000649, ...,  0.012852]], dtype=float32), \n",
      "50, 1.0, 'euclidean', None, 40, False)\n",
      "_____________________________________________hdbscan_prims_kdtree - 1.4s, 0.0min\n"
     ]
    },
    {
     "data": {
      "text/plain": [
       "-1"
      ]
     },
     "execution_count": 19,
     "metadata": {},
     "output_type": "execute_result"
    }
   ],
   "source": [
    "# %pip install \"umap-learn[parametric_umap]\" hdbscan joblib numpy -U\n",
    "model = TopicModel(parametric_umap=True)\n",
    "clusters, weights = model.fit_transform(embeddings)\n",
    "\n",
    "# drop cluster \"-1\"\n",
    "data['cluster'] = np.where(clusters < 0, np.nan, clusters + 1)\n",
    "weights = weights[clusters >= 0]\n",
    "clusters.max()"
   ]
  }
 ],
 "metadata": {
  "interpreter": {
   "hash": "4d4c55ad0dd25f9ca95e4d49a929aa3f71bfb37020ae570a9996c3e164818202"
  },
  "kernelspec": {
   "display_name": "Python 3.9.7 64-bit ('py3': conda)",
   "language": "python",
   "name": "python3"
  },
  "language_info": {
   "codemirror_mode": {
    "name": "ipython",
    "version": 3
   },
   "file_extension": ".py",
   "mimetype": "text/x-python",
   "name": "python",
   "nbconvert_exporter": "python",
   "pygments_lexer": "ipython3",
   "version": "3.9.7"
  },
  "orig_nbformat": 4
 },
 "nbformat": 4,
 "nbformat_minor": 2
}
