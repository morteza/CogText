{
 "cells": [
  {
   "cell_type": "markdown",
   "metadata": {},
   "source": [
    "# PubMed Abstracts EDA"
   ]
  },
  {
   "cell_type": "code",
   "execution_count": 1,
   "metadata": {},
   "outputs": [],
   "source": [
    "%reload_ext autoreload\n",
    "%autoreload 2\n",
    "\n",
    "import numpy as np\n",
    "import pandas as pd\n",
    "from python.cogtext.datasets.pubmed import PubMedDataLoader\n",
    "from python.cogtext.topic_model import TopicModel"
   ]
  },
  {
   "cell_type": "code",
   "execution_count": 2,
   "metadata": {},
   "outputs": [],
   "source": [
    "PUBMED = PubMedDataLoader(preprocessed=False, drop_low_occurred_labels=False).load()\n",
    "# EMBEDDINGS = np.load('models/embeddings/abstracts_UMAPv4.npz')['arr_0']\n",
    "EMBEDDINGS = np.load('models/embeddings/abstracts_all-MiniLM-L6-v2.npz')['arr_0']"
   ]
  },
  {
   "cell_type": "code",
   "execution_count": 10,
   "metadata": {},
   "outputs": [],
   "source": [
    "# debug: sample to speed up\n",
    "data = PUBMED#.sample(n=1000)\n",
    "embeddings = EMBEDDINGS[data.index]"
   ]
  },
  {
   "cell_type": "code",
   "execution_count": 11,
   "metadata": {},
   "outputs": [
    {
     "name": "stdout",
     "output_type": "stream",
     "text": [
      "________________________________________________________________________________\n",
      "[Memory] Calling hdbscan.hdbscan_._hdbscan_prims_kdtree...\n",
      "_hdbscan_prims_kdtree(array([[0.105535, ..., 0.025129],\n",
      "       ...,\n",
      "       [0.008185, ..., 0.002328]], dtype=float32), \n",
      "100, 1.0, 'euclidean', None, 40, False)\n"
     ]
    }
   ],
   "source": [
    "# %pip install \"umap-learn[parametric_umap]\" hdbscan joblib numpy -U\n",
    "model = TopicModel(parametric_umap=False)\n",
    "clusters, weights = model.fit_transform(embeddings)\n",
    "\n",
    "# drop cluster \"-1\"\n",
    "clustered = (clusters >=0)\n",
    "data['cluster'] = np.where(clustered, clusters + 1, np.nan)\n",
    "clusters.max()"
   ]
  }
 ],
 "metadata": {
  "interpreter": {
   "hash": "4d4c55ad0dd25f9ca95e4d49a929aa3f71bfb37020ae570a9996c3e164818202"
  },
  "kernelspec": {
   "display_name": "Python 3.9.7 64-bit ('py3': conda)",
   "language": "python",
   "name": "python3"
  },
  "language_info": {
   "codemirror_mode": {
    "name": "ipython",
    "version": 3
   },
   "file_extension": ".py",
   "mimetype": "text/x-python",
   "name": "python",
   "nbconvert_exporter": "python",
   "pygments_lexer": "ipython3",
   "version": "3.9.7"
  },
  "orig_nbformat": 4
 },
 "nbformat": 4,
 "nbformat_minor": 2
}
