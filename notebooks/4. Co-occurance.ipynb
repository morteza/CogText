{
 "metadata": {
  "language_info": {
   "codemirror_mode": {
    "name": "ipython",
    "version": 3
   },
   "file_extension": ".py",
   "mimetype": "text/x-python",
   "name": "python",
   "nbconvert_exporter": "python",
   "pygments_lexer": "ipython3",
   "version": "3.8.8"
  },
  "orig_nbformat": 2,
  "kernelspec": {
   "name": "python388jvsc74a57bd0ea20dcc4936bc3e336221d5e5ae7bcd09719da9b70640ea666426cf2d919dc3d",
   "display_name": "Python 3.8.8 64-bit ('base': conda)"
  }
 },
 "nbformat": 4,
 "nbformat_minor": 2,
 "cells": [
  {
   "source": [
    "# Co-occurance Analysis\n",
    "\n",
    "Cognitive Control has many faces and for this reason a good part of tests literature targets the Cognitive Control using multiple tests in a single study. On that note, the co-occurances of tests in the literature help us identify tests that are commonly used together, tests that are validated by other tests, and tests that can be ignored due to redundancy or lack of correlation with other standard tests. This co-occurance analysis improves our understanding of coverage and dependencies in the Cognitive Control tests.\n",
    "\n",
    "This notebooks demonstrates analyses of co-occurances of cognitive tests in PubMed articles."
   ],
   "cell_type": "markdown",
   "metadata": {}
  },
  {
   "cell_type": "code",
   "execution_count": 1,
   "metadata": {},
   "outputs": [],
   "source": [
    "# Setup\n",
    "\n",
    "import matplotlib.pyplot as plt\n",
    "from pathlib import Path\n",
    "import pandas as pd\n",
    "import numpy as np\n",
    "import networkx as nx\n",
    "\n",
    "files = Path('../data/pubmed/').glob('*.csv')\n",
    "_corpora = []\n",
    "\n",
    "for f in files:\n",
    "    _df = pd.read_csv(f)\n",
    "    _df['cognitive_test'] = f.stem\n",
    "    _corpora.append(_df)\n",
    "\n",
    "CORPUS = pd.concat(_corpora)\n",
    "\n",
    "# remove irrelevant tasks\n",
    "CORPUS = CORPUS.query('cognitive_test not in [\"STOP\",\"MONITOR\"]')\n",
    "\n",
    "cognitive_tests = CORPUS['cognitive_test'].unique().tolist()"
   ]
  },
  {
   "source": [
    "First we need to calculate co-ocurance of two tests given the two corresponding corpora. This co-occurance feaure is conditional/bidirectional given which of the two corpora is being analyzed.\n",
    "\n",
    "The following code create a matrix called `cooccurances` of size n*n where n is the total number of tests and element `[i,j]` contains the number of articles in corpus `j` that also exist in corpus `i`. Note that values in `[i,j]` and `[j,i]` are not equal.\n",
    "\n",
    "A second matrix which is called `cooccurances_normalized` contains the same information but values in `[i,j]` cell are normalized by the number of total articles in corpus `j`.\n",
    "\n",
    "\n",
    "- [ ] **TODO:** Is there a better way to explain how to interpret the cooccurances matrix? Indexing somehow confuses me."
   ],
   "cell_type": "markdown",
   "metadata": {}
  },
  {
   "cell_type": "code",
   "execution_count": 2,
   "metadata": {},
   "outputs": [],
   "source": [
    "cooccurances = np.zeros((len(cognitive_tests), len(cognitive_tests)))\n",
    "cooccurances_normalized = np.zeros_like(cooccurances)\n",
    "\n",
    "for i, test_i in enumerate(cognitive_tests):\n",
    "    pmids_i = set(CORPUS.query('cognitive_test == @test_i')['pmid'])\n",
    "    for j, test_j in enumerate(cognitive_tests):\n",
    "        if i!=j:\n",
    "            pmids_j = set(CORPUS.query('cognitive_test == @test_j')['pmid'])\n",
    "            cooccurances[i,j] = len([c for c in pmids_j if c in pmids_i])\n",
    "            cooccurances_normalized[i,j] = cooccurances[i,j] / len(pmids_j)\n",
    "\n",
    "# DEBUG cooccurances, cooccurances_normalized"
   ]
  },
  {
   "source": [
    "Let's look at the result by finding the most co-occured cognitive tests:"
   ],
   "cell_type": "markdown",
   "metadata": {}
  },
  {
   "cell_type": "code",
   "execution_count": 3,
   "metadata": {},
   "outputs": [
    {
     "output_type": "stream",
     "name": "stdout",
     "text": [
      "max coocurance: \"Stroop\" in \"TMT (Trail Making Test)\" corpus\nmax coocurance (normalized by corpus size): \"Sorting Task\" and \"Spin the Pots\"\n"
     ]
    }
   ],
   "source": [
    "max_index = np.unravel_index(np.argmax(cooccurances, axis=None), cooccurances.shape)\n",
    "max_norm_index = np.unravel_index(np.argmax(cooccurances_normalized, axis=None), cooccurances_normalized.shape)\n",
    "\n",
    "print(f'max coocurance: \"{cognitive_tests[max_index[0]]}\" in \"{cognitive_tests[max_index[1]]}\" corpus')\n",
    "print(f'max coocurance (normalized by corpus size): \"{cognitive_tests[max_norm_index[0]]}\" and \"{cognitive_tests[max_norm_index[1]]}\"')"
   ]
  },
  {
   "source": [
    "Let's plot a simple heatmap in that each cell shows co-occurance of two tests."
   ],
   "cell_type": "markdown",
   "metadata": {}
  },
  {
   "cell_type": "code",
   "execution_count": 4,
   "metadata": {},
   "outputs": [],
   "source": [
    "import seaborn as sns\n",
    "\n",
    "_, ax = plt.subplots(1,1,figsize=(25,25))\n",
    "sns.heatmap(cooccurances,\n",
    "            xticklabels=cognitive_tests,\n",
    "            yticklabels=cognitive_tests,\n",
    "            cbar_kws = {'use_gridspec':False, 'location':'top', 'shrink': .5},\n",
    "            square=True,\n",
    "            linewidths=.5,\n",
    "            linecolor='k',\n",
    "            ax=ax)\n",
    "\n",
    "plt.xticks(rotation=45, ha='right') \n",
    "ax.set(title='Bidirectional co-occurance of cognitive tests')\n",
    "plt.savefig('../outputs/cooccurances/heatmap.png')\n",
    "plt.close()\n",
    "\n",
    "# Now, same plot for the normalized co-occurances matrix\n",
    "\n",
    "_, ax = plt.subplots(1,1,figsize=(25,25))\n",
    "sns.heatmap(cooccurances_normalized,\n",
    "            xticklabels=cognitive_tests,\n",
    "            yticklabels=cognitive_tests,\n",
    "            cbar_kws = {'use_gridspec':False, 'location':'top', 'shrink': .5},\n",
    "            square=True,\n",
    "            linewidths=.5,\n",
    "            linecolor='k',\n",
    "            ax=ax)\n",
    "\n",
    "plt.xticks(rotation=45, ha='right') \n",
    "ax.set(title='Bidirectional normalized co-occurance of cognitive tests')\n",
    "plt.savefig('../outputs/cooccurances/normalized_heatmap.png')\n",
    "plt.close()"
   ]
  },
  {
   "source": [
    "Here is the same heatmap, but tests are clustered:"
   ],
   "cell_type": "markdown",
   "metadata": {}
  },
  {
   "cell_type": "code",
   "execution_count": 5,
   "metadata": {},
   "outputs": [
    {
     "output_type": "stream",
     "name": "stderr",
     "text": [
      "/Users/morteza/miniconda3/lib/python3.8/site-packages/seaborn/matrix.py:629: ClusterWarning: scipy.cluster: The symmetric non-negative hollow observation matrix looks suspiciously like an uncondensed distance matrix\n  linkage = hierarchy.linkage(self.array, method=self.method,\n"
     ]
    }
   ],
   "source": [
    "# plot cluster map for co-occurance counts\n",
    "sns.clustermap(cooccurances,\n",
    "            xticklabels=cognitive_tests,\n",
    "            yticklabels=cognitive_tests,\n",
    "            figsize=(15,15))\n",
    "\n",
    "plt.xticks(rotation=45, ha='right') \n",
    "plt.suptitle('Bidirectional co-occurance of cognitive tests')\n",
    "plt.savefig('../outputs/cooccurances/clustermap.png')\n",
    "plt.close()\n",
    "\n",
    "# plot cluster map for normalized co-occurance\n",
    "sns.clustermap(cooccurances_normalized,\n",
    "            xticklabels=cognitive_tests,\n",
    "            yticklabels=cognitive_tests,\n",
    "            figsize=(15,15))\n",
    "\n",
    "plt.xticks(rotation=45, ha='right') \n",
    "plt.suptitle('Bidirectional normalized co-occurance of cognitive tests')\n",
    "plt.savefig('../outputs/cooccurances/normalized_clustermap.png')\n",
    "plt.close()"
   ]
  },
  {
   "source": [
    "## Visualization preprocessing \n",
    "\n",
    "Before plotting co-occurance map as a graph, some proprocessing steps significantly improves the visuals:\n",
    "\n",
    "1. remove low degree nodes and low weight edges.\n",
    "2. Use degree centrality as node sizes; degree centrality shows number of connected edges to a given nodes (both inputs and outputs).\n",
    "3. Find communities in the graph, that are highly connected subgraphs. This property can be used to layout the graph and colorize the nodes.\n",
    "4. Put co-occurred tests closer to each other by using spring layout.\n",
    "\n",
    "I will use the de-facto NetworkX package to perform all the graph analysis listed above. The output will be a bidirectional graph that encapsulates centrality of each node, communities, edge widths, and positioning layout.\n",
    "\n",
    "- [ ] **TODO:** greedy modulatiry algorithm returns one community because nodes are densly connected. Use another algorithm to extract some information from the graph structure."
   ],
   "cell_type": "markdown",
   "metadata": {}
  },
  {
   "cell_type": "code",
   "execution_count": 6,
   "metadata": {},
   "outputs": [],
   "source": [
    "# normalized co-occurances below this threshold will be ignored\n",
    "MIN_WEIGHT = 0.0001\n",
    "\n",
    "# create graph from adjacency matrix\n",
    "G = nx.from_numpy_matrix(cooccurances_normalized, create_using=nx.MultiDiGraph)\n",
    "\n",
    "# set node labels\n",
    "node_labels = {i:t for i,t in enumerate(cognitive_tests)}\n",
    "nx.set_node_attributes(G, node_labels, 'label')\n",
    "\n",
    "# remove low weight edges and low degree nodes\n",
    "low_weight_edges = [(u,v) for u, v in G.edges() if G[u][v][0]['weight']<MIN_WEIGHT]\n",
    "low_degree_nodes = [n for n, d in G.degree() if d == 0]\n",
    "G.remove_edges_from(low_weight_edges)\n",
    "G.remove_nodes_from(low_degree_nodes)\n",
    "\n",
    "# compute centrality\n",
    "centrality = nx.degree_centrality(G)\n",
    "\n",
    "# compute community structure\n",
    "lpc = nx.community.greedy_modularity_communities(G, weight='weight')\n",
    "community_index = {n: i for i, com in enumerate(lpc) for n in com}\n",
    "\n",
    "nx.set_node_attributes(G, community_index, 'community')\n",
    "nx.set_node_attributes(G, centrality, 'centrality')\n",
    "\n",
    "# visual properties (all numeric values are relative, update them to match your canvas)\n",
    "node_colors = community_index\n",
    "edge_widths = [G[u][v][0]['weight'] for u, v in G.edges()]\n",
    "\n",
    "\n",
    "# compute layout positions\n",
    "pos = nx.spring_layout(G, k=.8)"
   ]
  },
  {
   "source": [
    "# NetworkX plot (static)"
   ],
   "cell_type": "markdown",
   "metadata": {}
  },
  {
   "cell_type": "code",
   "execution_count": 7,
   "metadata": {},
   "outputs": [],
   "source": [
    "fig, ax = plt.subplots(1,1,figsize=(15,15))\n",
    "\n",
    "nx.draw_networkx_nodes(G, pos,\n",
    "                       node_color=list(node_colors.values()),\n",
    "                       node_size=[max(10,v*4000) for v in centrality.values()],\n",
    "                       alpha=0.5, ax=ax)\n",
    "nx.draw_networkx_labels(G, pos, labels=nx.get_node_attributes(G, 'label'), font_size=8, alpha=0.5, ax=ax)\n",
    "# nx.draw_networkx_edges(G, pos, width=1.0, alpha=0.3, connectionstyle='arc3,rad=0.1')\\n\",\n",
    "nx.draw_networkx_edges(G,\n",
    "                       pos,\n",
    "                       alpha=0.8,\n",
    "                       arrowstyle='->',\n",
    "                       arrowsize=10,\n",
    "                       connectionstyle='arc3,rad=0.1',\n",
    "                       width=[v*20 for v in  edge_widths],\n",
    "                       edge_color='gainsboro',\n",
    "                       ax=ax)\n",
    "\n",
    "# plot the graph using matplotlib backend\n",
    "plt.suptitle('Co-occurance map\\n Node size and edge width respectively show centrality degree and number of co-occured articles in ith corpus.')\n",
    "plt.tight_layout()\n",
    "plt.savefig('../outputs/cooccurances/map_networkx.png')\n",
    "plt.close()"
   ]
  },
  {
   "source": [
    "## Bokeh plot (interactive)"
   ],
   "cell_type": "markdown",
   "metadata": {}
  },
  {
   "cell_type": "code",
   "execution_count": 8,
   "metadata": {},
   "outputs": [
    {
     "output_type": "display_data",
     "data": {
      "text/html": "\n    <div class=\"bk-root\">\n        <a href=\"https://bokeh.org\" target=\"_blank\" class=\"bk-logo bk-logo-small bk-logo-notebook\"></a>\n        <span id=\"1001\">Loading BokehJS ...</span>\n    </div>"
     },
     "metadata": {}
    },
    {
     "output_type": "display_data",
     "data": {
      "application/javascript": "\n(function(root) {\n  function now() {\n    return new Date();\n  }\n\n  var force = true;\n\n  if (typeof root._bokeh_onload_callbacks === \"undefined\" || force === true) {\n    root._bokeh_onload_callbacks = [];\n    root._bokeh_is_loading = undefined;\n  }\n\n  var JS_MIME_TYPE = 'application/javascript';\n  var HTML_MIME_TYPE = 'text/html';\n  var EXEC_MIME_TYPE = 'application/vnd.bokehjs_exec.v0+json';\n  var CLASS_NAME = 'output_bokeh rendered_html';\n\n  /**\n   * Render data to the DOM node\n   */\n  function render(props, node) {\n    var script = document.createElement(\"script\");\n    node.appendChild(script);\n  }\n\n  /**\n   * Handle when an output is cleared or removed\n   */\n  function handleClearOutput(event, handle) {\n    var cell = handle.cell;\n\n    var id = cell.output_area._bokeh_element_id;\n    var server_id = cell.output_area._bokeh_server_id;\n    // Clean up Bokeh references\n    if (id != null && id in Bokeh.index) {\n      Bokeh.index[id].model.document.clear();\n      delete Bokeh.index[id];\n    }\n\n    if (server_id !== undefined) {\n      // Clean up Bokeh references\n      var cmd = \"from bokeh.io.state import curstate; print(curstate().uuid_to_server['\" + server_id + \"'].get_sessions()[0].document.roots[0]._id)\";\n      cell.notebook.kernel.execute(cmd, {\n        iopub: {\n          output: function(msg) {\n            var id = msg.content.text.trim();\n            if (id in Bokeh.index) {\n              Bokeh.index[id].model.document.clear();\n              delete Bokeh.index[id];\n            }\n          }\n        }\n      });\n      // Destroy server and session\n      var cmd = \"import bokeh.io.notebook as ion; ion.destroy_server('\" + server_id + \"')\";\n      cell.notebook.kernel.execute(cmd);\n    }\n  }\n\n  /**\n   * Handle when a new output is added\n   */\n  function handleAddOutput(event, handle) {\n    var output_area = handle.output_area;\n    var output = handle.output;\n\n    // limit handleAddOutput to display_data with EXEC_MIME_TYPE content only\n    if ((output.output_type != \"display_data\") || (!output.data.hasOwnProperty(EXEC_MIME_TYPE))) {\n      return\n    }\n\n    var toinsert = output_area.element.find(\".\" + CLASS_NAME.split(' ')[0]);\n\n    if (output.metadata[EXEC_MIME_TYPE][\"id\"] !== undefined) {\n      toinsert[toinsert.length - 1].firstChild.textContent = output.data[JS_MIME_TYPE];\n      // store reference to embed id on output_area\n      output_area._bokeh_element_id = output.metadata[EXEC_MIME_TYPE][\"id\"];\n    }\n    if (output.metadata[EXEC_MIME_TYPE][\"server_id\"] !== undefined) {\n      var bk_div = document.createElement(\"div\");\n      bk_div.innerHTML = output.data[HTML_MIME_TYPE];\n      var script_attrs = bk_div.children[0].attributes;\n      for (var i = 0; i < script_attrs.length; i++) {\n        toinsert[toinsert.length - 1].firstChild.setAttribute(script_attrs[i].name, script_attrs[i].value);\n        toinsert[toinsert.length - 1].firstChild.textContent = bk_div.children[0].textContent\n      }\n      // store reference to server id on output_area\n      output_area._bokeh_server_id = output.metadata[EXEC_MIME_TYPE][\"server_id\"];\n    }\n  }\n\n  function register_renderer(events, OutputArea) {\n\n    function append_mime(data, metadata, element) {\n      // create a DOM node to render to\n      var toinsert = this.create_output_subarea(\n        metadata,\n        CLASS_NAME,\n        EXEC_MIME_TYPE\n      );\n      this.keyboard_manager.register_events(toinsert);\n      // Render to node\n      var props = {data: data, metadata: metadata[EXEC_MIME_TYPE]};\n      render(props, toinsert[toinsert.length - 1]);\n      element.append(toinsert);\n      return toinsert\n    }\n\n    /* Handle when an output is cleared or removed */\n    events.on('clear_output.CodeCell', handleClearOutput);\n    events.on('delete.Cell', handleClearOutput);\n\n    /* Handle when a new output is added */\n    events.on('output_added.OutputArea', handleAddOutput);\n\n    /**\n     * Register the mime type and append_mime function with output_area\n     */\n    OutputArea.prototype.register_mime_type(EXEC_MIME_TYPE, append_mime, {\n      /* Is output safe? */\n      safe: true,\n      /* Index of renderer in `output_area.display_order` */\n      index: 0\n    });\n  }\n\n  // register the mime type if in Jupyter Notebook environment and previously unregistered\n  if (root.Jupyter !== undefined) {\n    var events = require('base/js/events');\n    var OutputArea = require('notebook/js/outputarea').OutputArea;\n\n    if (OutputArea.prototype.mime_types().indexOf(EXEC_MIME_TYPE) == -1) {\n      register_renderer(events, OutputArea);\n    }\n  }\n\n  \n  if (typeof (root._bokeh_timeout) === \"undefined\" || force === true) {\n    root._bokeh_timeout = Date.now() + 5000;\n    root._bokeh_failed_load = false;\n  }\n\n  var NB_LOAD_WARNING = {'data': {'text/html':\n     \"<div style='background-color: #fdd'>\\n\"+\n     \"<p>\\n\"+\n     \"BokehJS does not appear to have successfully loaded. If loading BokehJS from CDN, this \\n\"+\n     \"may be due to a slow or bad network connection. Possible fixes:\\n\"+\n     \"</p>\\n\"+\n     \"<ul>\\n\"+\n     \"<li>re-rerun `output_notebook()` to attempt to load from CDN again, or</li>\\n\"+\n     \"<li>use INLINE resources instead, as so:</li>\\n\"+\n     \"</ul>\\n\"+\n     \"<code>\\n\"+\n     \"from bokeh.resources import INLINE\\n\"+\n     \"output_notebook(resources=INLINE)\\n\"+\n     \"</code>\\n\"+\n     \"</div>\"}};\n\n  function display_loaded() {\n    var el = document.getElementById(\"1001\");\n    if (el != null) {\n      el.textContent = \"BokehJS is loading...\";\n    }\n    if (root.Bokeh !== undefined) {\n      if (el != null) {\n        el.textContent = \"BokehJS \" + root.Bokeh.version + \" successfully loaded.\";\n      }\n    } else if (Date.now() < root._bokeh_timeout) {\n      setTimeout(display_loaded, 100)\n    }\n  }\n\n\n  function run_callbacks() {\n    try {\n      root._bokeh_onload_callbacks.forEach(function(callback) {\n        if (callback != null)\n          callback();\n      });\n    } finally {\n      delete root._bokeh_onload_callbacks\n    }\n    console.debug(\"Bokeh: all callbacks have finished\");\n  }\n\n  function load_libs(css_urls, js_urls, callback) {\n    if (css_urls == null) css_urls = [];\n    if (js_urls == null) js_urls = [];\n\n    root._bokeh_onload_callbacks.push(callback);\n    if (root._bokeh_is_loading > 0) {\n      console.debug(\"Bokeh: BokehJS is being loaded, scheduling callback at\", now());\n      return null;\n    }\n    if (js_urls == null || js_urls.length === 0) {\n      run_callbacks();\n      return null;\n    }\n    console.debug(\"Bokeh: BokehJS not loaded, scheduling load and callback at\", now());\n    root._bokeh_is_loading = css_urls.length + js_urls.length;\n\n    function on_load() {\n      root._bokeh_is_loading--;\n      if (root._bokeh_is_loading === 0) {\n        console.debug(\"Bokeh: all BokehJS libraries/stylesheets loaded\");\n        run_callbacks()\n      }\n    }\n\n    function on_error() {\n      console.error(\"failed to load \" + url);\n    }\n\n    for (var i = 0; i < css_urls.length; i++) {\n      var url = css_urls[i];\n      const element = document.createElement(\"link\");\n      element.onload = on_load;\n      element.onerror = on_error;\n      element.rel = \"stylesheet\";\n      element.type = \"text/css\";\n      element.href = url;\n      console.debug(\"Bokeh: injecting link tag for BokehJS stylesheet: \", url);\n      document.body.appendChild(element);\n    }\n\n    const hashes = {\"https://cdn.bokeh.org/bokeh/release/bokeh-2.2.3.min.js\": \"T2yuo9Oe71Cz/I4X9Ac5+gpEa5a8PpJCDlqKYO0CfAuEszu1JrXLl8YugMqYe3sM\", \"https://cdn.bokeh.org/bokeh/release/bokeh-widgets-2.2.3.min.js\": \"98GDGJ0kOMCUMUePhksaQ/GYgB3+NH9h996V88sh3aOiUNX3N+fLXAtry6xctSZ6\", \"https://cdn.bokeh.org/bokeh/release/bokeh-tables-2.2.3.min.js\": \"89bArO+nlbP3sgakeHjCo1JYxYR5wufVgA3IbUvDY+K7w4zyxJqssu7wVnfeKCq8\"};\n\n    for (var i = 0; i < js_urls.length; i++) {\n      var url = js_urls[i];\n      var element = document.createElement('script');\n      element.onload = on_load;\n      element.onerror = on_error;\n      element.async = false;\n      element.src = url;\n      if (url in hashes) {\n        element.crossOrigin = \"anonymous\";\n        element.integrity = \"sha384-\" + hashes[url];\n      }\n      console.debug(\"Bokeh: injecting script tag for BokehJS library: \", url);\n      document.head.appendChild(element);\n    }\n  };\n\n  function inject_raw_css(css) {\n    const element = document.createElement(\"style\");\n    element.appendChild(document.createTextNode(css));\n    document.body.appendChild(element);\n  }\n\n  \n  var js_urls = [\"https://cdn.bokeh.org/bokeh/release/bokeh-2.2.3.min.js\", \"https://cdn.bokeh.org/bokeh/release/bokeh-widgets-2.2.3.min.js\", \"https://cdn.bokeh.org/bokeh/release/bokeh-tables-2.2.3.min.js\"];\n  var css_urls = [];\n  \n\n  var inline_js = [\n    function(Bokeh) {\n      Bokeh.set_log_level(\"info\");\n    },\n    function(Bokeh) {\n    \n    \n    }\n  ];\n\n  function run_inline_js() {\n    \n    if (root.Bokeh !== undefined || force === true) {\n      \n    for (var i = 0; i < inline_js.length; i++) {\n      inline_js[i].call(root, root.Bokeh);\n    }\n    if (force === true) {\n        display_loaded();\n      }} else if (Date.now() < root._bokeh_timeout) {\n      setTimeout(run_inline_js, 100);\n    } else if (!root._bokeh_failed_load) {\n      console.log(\"Bokeh: BokehJS failed to load within specified timeout.\");\n      root._bokeh_failed_load = true;\n    } else if (force !== true) {\n      var cell = $(document.getElementById(\"1001\")).parents('.cell').data().cell;\n      cell.output_area.append_execute_result(NB_LOAD_WARNING)\n    }\n\n  }\n\n  if (root._bokeh_is_loading === 0) {\n    console.debug(\"Bokeh: BokehJS loaded, going straight to plotting\");\n    run_inline_js();\n  } else {\n    load_libs(css_urls, js_urls, function() {\n      console.debug(\"Bokeh: BokehJS plotting callback run at\", now());\n      run_inline_js();\n    });\n  }\n}(window));",
      "application/vnd.bokehjs_load.v0+json": "\n(function(root) {\n  function now() {\n    return new Date();\n  }\n\n  var force = true;\n\n  if (typeof root._bokeh_onload_callbacks === \"undefined\" || force === true) {\n    root._bokeh_onload_callbacks = [];\n    root._bokeh_is_loading = undefined;\n  }\n\n  \n\n  \n  if (typeof (root._bokeh_timeout) === \"undefined\" || force === true) {\n    root._bokeh_timeout = Date.now() + 5000;\n    root._bokeh_failed_load = false;\n  }\n\n  var NB_LOAD_WARNING = {'data': {'text/html':\n     \"<div style='background-color: #fdd'>\\n\"+\n     \"<p>\\n\"+\n     \"BokehJS does not appear to have successfully loaded. If loading BokehJS from CDN, this \\n\"+\n     \"may be due to a slow or bad network connection. Possible fixes:\\n\"+\n     \"</p>\\n\"+\n     \"<ul>\\n\"+\n     \"<li>re-rerun `output_notebook()` to attempt to load from CDN again, or</li>\\n\"+\n     \"<li>use INLINE resources instead, as so:</li>\\n\"+\n     \"</ul>\\n\"+\n     \"<code>\\n\"+\n     \"from bokeh.resources import INLINE\\n\"+\n     \"output_notebook(resources=INLINE)\\n\"+\n     \"</code>\\n\"+\n     \"</div>\"}};\n\n  function display_loaded() {\n    var el = document.getElementById(\"1001\");\n    if (el != null) {\n      el.textContent = \"BokehJS is loading...\";\n    }\n    if (root.Bokeh !== undefined) {\n      if (el != null) {\n        el.textContent = \"BokehJS \" + root.Bokeh.version + \" successfully loaded.\";\n      }\n    } else if (Date.now() < root._bokeh_timeout) {\n      setTimeout(display_loaded, 100)\n    }\n  }\n\n\n  function run_callbacks() {\n    try {\n      root._bokeh_onload_callbacks.forEach(function(callback) {\n        if (callback != null)\n          callback();\n      });\n    } finally {\n      delete root._bokeh_onload_callbacks\n    }\n    console.debug(\"Bokeh: all callbacks have finished\");\n  }\n\n  function load_libs(css_urls, js_urls, callback) {\n    if (css_urls == null) css_urls = [];\n    if (js_urls == null) js_urls = [];\n\n    root._bokeh_onload_callbacks.push(callback);\n    if (root._bokeh_is_loading > 0) {\n      console.debug(\"Bokeh: BokehJS is being loaded, scheduling callback at\", now());\n      return null;\n    }\n    if (js_urls == null || js_urls.length === 0) {\n      run_callbacks();\n      return null;\n    }\n    console.debug(\"Bokeh: BokehJS not loaded, scheduling load and callback at\", now());\n    root._bokeh_is_loading = css_urls.length + js_urls.length;\n\n    function on_load() {\n      root._bokeh_is_loading--;\n      if (root._bokeh_is_loading === 0) {\n        console.debug(\"Bokeh: all BokehJS libraries/stylesheets loaded\");\n        run_callbacks()\n      }\n    }\n\n    function on_error() {\n      console.error(\"failed to load \" + url);\n    }\n\n    for (var i = 0; i < css_urls.length; i++) {\n      var url = css_urls[i];\n      const element = document.createElement(\"link\");\n      element.onload = on_load;\n      element.onerror = on_error;\n      element.rel = \"stylesheet\";\n      element.type = \"text/css\";\n      element.href = url;\n      console.debug(\"Bokeh: injecting link tag for BokehJS stylesheet: \", url);\n      document.body.appendChild(element);\n    }\n\n    const hashes = {\"https://cdn.bokeh.org/bokeh/release/bokeh-2.2.3.min.js\": \"T2yuo9Oe71Cz/I4X9Ac5+gpEa5a8PpJCDlqKYO0CfAuEszu1JrXLl8YugMqYe3sM\", \"https://cdn.bokeh.org/bokeh/release/bokeh-widgets-2.2.3.min.js\": \"98GDGJ0kOMCUMUePhksaQ/GYgB3+NH9h996V88sh3aOiUNX3N+fLXAtry6xctSZ6\", \"https://cdn.bokeh.org/bokeh/release/bokeh-tables-2.2.3.min.js\": \"89bArO+nlbP3sgakeHjCo1JYxYR5wufVgA3IbUvDY+K7w4zyxJqssu7wVnfeKCq8\"};\n\n    for (var i = 0; i < js_urls.length; i++) {\n      var url = js_urls[i];\n      var element = document.createElement('script');\n      element.onload = on_load;\n      element.onerror = on_error;\n      element.async = false;\n      element.src = url;\n      if (url in hashes) {\n        element.crossOrigin = \"anonymous\";\n        element.integrity = \"sha384-\" + hashes[url];\n      }\n      console.debug(\"Bokeh: injecting script tag for BokehJS library: \", url);\n      document.head.appendChild(element);\n    }\n  };\n\n  function inject_raw_css(css) {\n    const element = document.createElement(\"style\");\n    element.appendChild(document.createTextNode(css));\n    document.body.appendChild(element);\n  }\n\n  \n  var js_urls = [\"https://cdn.bokeh.org/bokeh/release/bokeh-2.2.3.min.js\", \"https://cdn.bokeh.org/bokeh/release/bokeh-widgets-2.2.3.min.js\", \"https://cdn.bokeh.org/bokeh/release/bokeh-tables-2.2.3.min.js\"];\n  var css_urls = [];\n  \n\n  var inline_js = [\n    function(Bokeh) {\n      Bokeh.set_log_level(\"info\");\n    },\n    function(Bokeh) {\n    \n    \n    }\n  ];\n\n  function run_inline_js() {\n    \n    if (root.Bokeh !== undefined || force === true) {\n      \n    for (var i = 0; i < inline_js.length; i++) {\n      inline_js[i].call(root, root.Bokeh);\n    }\n    if (force === true) {\n        display_loaded();\n      }} else if (Date.now() < root._bokeh_timeout) {\n      setTimeout(run_inline_js, 100);\n    } else if (!root._bokeh_failed_load) {\n      console.log(\"Bokeh: BokehJS failed to load within specified timeout.\");\n      root._bokeh_failed_load = true;\n    } else if (force !== true) {\n      var cell = $(document.getElementById(\"1001\")).parents('.cell').data().cell;\n      cell.output_area.append_execute_result(NB_LOAD_WARNING)\n    }\n\n  }\n\n  if (root._bokeh_is_loading === 0) {\n    console.debug(\"Bokeh: BokehJS loaded, going straight to plotting\");\n    run_inline_js();\n  } else {\n    load_libs(css_urls, js_urls, function() {\n      console.debug(\"Bokeh: BokehJS plotting callback run at\", now());\n      run_inline_js();\n    });\n  }\n}(window));"
     },
     "metadata": {}
    },
    {
     "output_type": "display_data",
     "data": {
      "text/html": "\n\n\n\n\n\n  <div class=\"bk-root\" id=\"30447553-6726-454c-bee2-9daed222e933\" data-root-id=\"1004\"></div>\n"
     },
     "metadata": {}
    },
    {
     "output_type": "display_data",
     "data": {
      "application/javascript": "(function(root) {\n  function embed_document(root) {\n    \n  var docs_json = {\"96939a4e-5ef9-49a5-afd5-388ea6cf991d\":{\"roots\":{\"references\":[{\"attributes\":{\"renderers\":[{\"id\":\"1007\"}],\"title\":{\"id\":\"1070\"},\"toolbar\":{\"id\":\"1066\"},\"x_range\":{\"id\":\"1002\"},\"x_scale\":{\"id\":\"1073\"},\"y_range\":{\"id\":\"1003\"},\"y_scale\":{\"id\":\"1071\"}},\"id\":\"1004\",\"type\":\"Plot\"},{\"attributes\":{\"line_color\":{\"value\":\"mediumpurple\"},\"line_width\":{\"field\":\"edge_size\"}},\"id\":\"1059\",\"type\":\"MultiLine\"},{\"attributes\":{\"data\":{\"centrality\":[1.1549295774647887,0.8732394366197184,0.8169014084507042,0.5352112676056339,0.028169014084507043,0.11267605633802817,0.028169014084507043,0.16901408450704225,0.056338028169014086,0.1971830985915493,0.08450704225352113,0.22535211267605634,0.5633802816901409,1.295774647887324,0.056338028169014086,0.7323943661971831,0.056338028169014086,0.2535211267605634,0.08450704225352113,0.7605633802816901,0.028169014084507043,0.647887323943662,0.1971830985915493,0.2535211267605634,0.22535211267605634,0.14084507042253522,0.3380281690140845,0.08450704225352113,0.056338028169014086,0.28169014084507044,0.9295774647887324,1.5211267605633803,0.619718309859155,0.47887323943661975,0.16901408450704225,1.0140845070422535,0.11267605633802817,0.3943661971830986,0.08450704225352113,0.7887323943661972,0.11267605633802817,0.028169014084507043,0.08450704225352113,0.7605633802816901,0.5352112676056339,0.028169014084507043,0.8450704225352113,0.9014084507042254,1.4647887323943662,0.14084507042253522,0.16901408450704225,0.4507042253521127,0.619718309859155,0.5915492957746479,0.619718309859155,0.22535211267605634,0.14084507042253522,0.28169014084507044,0.16901408450704225,1.23943661971831,0.9859154929577465,0.5915492957746479,0.16901408450704225,0.5070422535211268,0.5633802816901409,0.9859154929577465,0.11267605633802817,1.2112676056338028,0.16901408450704225,0.11267605633802817,0.3943661971830986,0.4507042253521127],\"community\":[0,0,0,0,0,0,0,0,0,0,0,0,0,0,0,0,0,0,0,0,0,0,0,0,0,0,0,0,0,0,0,0,0,0,0,0,0,0,0,0,0,0,0,0,0,0,0,0,0,0,0,0,0,0,0,0,0,0,0,0,0,0,0,0,0,0,0,0,0,0,0,0],\"index\":[0,1,2,3,4,5,6,7,8,9,10,11,12,13,14,15,16,17,19,20,21,22,23,24,25,26,27,28,29,30,31,32,33,34,35,36,37,38,39,40,41,42,43,45,46,47,48,49,50,51,52,53,54,55,56,57,58,59,60,61,62,63,64,65,66,67,68,71,72,73,76,77],\"label\":[\"WCST (Wisconsin Card Sort Test)\",\"Span Tasks (Verbal, Arithmetic, Visuospatial)\",\"Letter Fluency\",\"Reading Span Task\",\"Balance Beam Task\",\"RLG (Random Letter Generation Task)\",\"Auditory Attention\",\"Reverse Categorization\",\"Gift Wrap\",\"Anti-Saccade Task\",\"DCCS (Dimentional Change Card Sort)\",\"Sentence Repetition Task\",\"Sentence Completion Task\",\"Digit Span\",\"Simon Says\",\"Corsi-block Span\",\"Backward Span Task\",\"RNG (Random Number Generation Task)\",\"Knock and Tap\",\"Simon Task\",\"Spin the Pots\",\"Delay Choice\",\"AOSpan (Automated Operation Span Task)\",\"Block Span\",\"Odd One Out\",\"Flexibility Test\",\"Reversal Learning\",\"Cued Unpredictable Switch Task\",\"Self Control Schedule\",\"LFT (Lexical Fluency Test)\",\"Sorting Task\",\"Stroop\",\"Category Fluency\",\"PVT (Psychomotor Vigilance Task)\",\"FIST (Flexible Item Selection Task)\",\"N-back\",\"Box Crossing Dual Task\",\"Number-Letter Task\",\"Head-Toes-Knees-Shoulders Tasks\",\"Stop-Signal Task\",\"CNT (Contingency Naming Task)\",\"Letter Monitoring\",\"Boxes Task\",\"CPT (Continuous Performance Task)\",\"MCST (Modified Card Sorting Test)\",\"Object Substitution Task\",\"IGT (Iowa Gambling Task)\",\"Flanker Task\",\"Cognitive Flexibility Task\",\"Local-Global Task\",\"Rspan (Running Span)\",\"Keep Track Task\",\"OSpan (Operating Span)\",\"Hayling Test\",\"Semantic Fluency Test\",\"PEG (Pencil Tapping Task)\",\"Shape School\",\"Counting Span Task\",\"Gift Delay\",\"TMT (Trail Making Test)\",\"Tower of London\",\"Tower of Hanoi\",\"Snack Delay\",\"ANT (Attention Network Test)\",\"LNS (Letter Number Sequencing)\",\"GoNoGo (Digit, Figure)\",\"S-R Compatibility Task\",\"Verbal Fluency Task\",\"Delayed Alteration Task\",\"Color Shape Task\",\"Block Design Subtest\",\"Delayed Discounting Task\"],\"node_size\":[46.19718309859155,34.929577464788736,32.67605633802817,21.408450704225356,10,10,10,10,10,10,10,10,22.535211267605636,51.83098591549296,10,29.295774647887324,10,10.140845070422536,10,30.422535211267604,10,25.91549295774648,10,10.140845070422536,10,10,13.52112676056338,10,10,11.267605633802818,37.183098591549296,60.84507042253521,24.7887323943662,19.15492957746479,10,40.563380281690144,10,15.774647887323944,10,31.549295774647888,10,10,10,30.422535211267604,21.408450704225356,10,33.80281690140845,36.056338028169016,58.59154929577465,10,10,18.028169014084508,24.7887323943662,23.661971830985916,24.7887323943662,10,10,11.267605633802818,10,49.5774647887324,39.436619718309856,23.661971830985916,10,20.281690140845072,22.535211267605636,39.436619718309856,10,48.45070422535211,10,10,15.774647887323944,18.028169014084508]},\"selected\":{\"id\":\"1084\"},\"selection_policy\":{\"id\":\"1085\"}},\"id\":\"1009\",\"type\":\"ColumnDataSource\"},{\"attributes\":{\"line_color\":{\"value\":\"mediumpurple\"},\"line_width\":{\"field\":\"edge_size\"}},\"id\":\"1054\",\"type\":\"MultiLine\"},{\"attributes\":{\"fill_color\":{\"value\":\"lightblue\"},\"line_color\":{\"value\":\"white\"},\"size\":{\"field\":\"node_size\",\"units\":\"screen\"}},\"id\":\"1029\",\"type\":\"Circle\"},{\"attributes\":{},\"id\":\"1068\",\"type\":\"NodesAndLinkedEdges\"},{\"attributes\":{},\"id\":\"1071\",\"type\":\"LinearScale\"},{\"attributes\":{},\"id\":\"1084\",\"type\":\"Selection\"},{\"attributes\":{\"callback\":null,\"tooltips\":[[\"Label\",\"@label\"]]},\"id\":\"1064\",\"type\":\"HoverTool\"},{\"attributes\":{\"edge_renderer\":{\"id\":\"1014\"},\"inspection_policy\":{\"id\":\"1083\"},\"layout_provider\":{\"id\":\"1020\"},\"node_renderer\":{\"id\":\"1010\"},\"selection_policy\":{\"id\":\"1068\"}},\"id\":\"1007\",\"type\":\"GraphRenderer\"},{\"attributes\":{},\"id\":\"1085\",\"type\":\"UnionRenderers\"},{\"attributes\":{},\"id\":\"1073\",\"type\":\"LinearScale\"},{\"attributes\":{\"end\":1.1,\"start\":-1.1},\"id\":\"1003\",\"type\":\"Range1d\"},{\"attributes\":{\"line_alpha\":{\"value\":0.8},\"line_color\":{\"value\":\"#CCCCCC\"},\"line_width\":{\"field\":\"edge_size\"}},\"id\":\"1049\",\"type\":\"MultiLine\"},{\"attributes\":{\"callback\":null},\"id\":\"1065\",\"type\":\"TapTool\"},{\"attributes\":{\"fill_color\":{\"value\":\"mediumpurple\"},\"line_color\":{\"value\":\"mediumpurple\"},\"size\":{\"field\":\"node_size\",\"units\":\"screen\"}},\"id\":\"1044\",\"type\":\"Circle\"},{\"attributes\":{\"data\":{\"edge_size\":[0.1,0.5249343832020997,0.1,0.6666666666666666,0.27210884353741494,0.5886850152905199,0.4046242774566474,0.1,0.1,0.1626016260162602,0.14204545454545453,0.7894736842105263,3.883720930232558,0.6143586833144155,0.20134228187919462,0.1,0.8333333333333333,0.20398251578436136,1.1764705882352942,0.10132501948558068,0.2244039270687237,2.0370370370370368,0.837696335078534,0.1,0.5722070844686649,0.1,0.15037593984962405,0.684931506849315,0.45534150612959723,0.1,0.5555555555555556,1.0177353342428377,1.266540642722117,1.7222222222222223,0.1,1.0416666666666667,0.11002444987775062,0.41565249953192285,0.29850746268656714,0.48484848484848486,0.1,0.1,0.1,1.1737089201877935,0.16853932584269662,0.33256880733944955,0.4046242774566474,3.333333333333333,0.1,0.3157894736842105,0.1,0.1,0.1,0.15055852355512384,0.5882352941176471,0.1,0.18518518518518517,0.1,0.1,2.0833333333333335,1.0526315789473684,0.136986301369863,0.14010507880910683,0.1,1.1111111111111112,0.1,0.1,0.1,0.1,0.1,0.1,0.14925373134328357,0.1,0.1,0.6666666666666666,0.13605442176870747,0.1643730886850153,0.1,0.15625,0.1,0.625,0.5263157894736842,0.1,0.1,1.74496644295302,0.1,0.1,0.1,0.1,0.1,0.1,0.547945205479452,0.8231173380035026,0.5555555555555556,0.10914051841746249,0.1,0.1,0.16666666666666666,0.1,0.2677401235723647,0.12121212121212122,0.1,0.40064102564102566,0.1,0.1,0.1,2.0,0.1,0.1,0.5882352941176471,0.1,5.0,0.41666666666666663,0.5263157894736842,1.1111111111111112,0.1,0.1,0.1,0.1,0.1,0.1,0.1,0.1,0.1,0.1,0.1,1.25,0.1,0.1,0.1,0.5,0.5882352941176471,3.333333333333333,0.5882352941176471,0.1,0.1,0.1,0.136986301369863,0.1,0.1,0.1,0.1,0.1,0.1,0.1,0.1,0.1020408163265306,0.1,0.1,0.1,0.1,0.1,0.1,0.10498687664041995,0.1,0.16853932584269662,0.1,0.1,0.1,0.1,0.1,0.1,0.1,0.1,0.1,2.054794520547945,0.1,0.1,0.1,0.1,0.1,0.1,0.6875,1.3942307692307692,1.1286089238845145,0.7042253521126761,0.23809523809523808,0.6741573033707865,0.23809523809523808,2.254335260115607,3.333333333333333,0.15625,0.1,0.1,3.75,0.42105263157894735,1.5789473684210527,0.18604651162790697,0.5448354143019296,0.6375838926174497,0.1,0.8333333333333333,0.32054395337542496,6.0,0.1,3.333333333333333,0.182328190743338,0.9259259259259258,0.2094240837696335,0.1,0.1362397820163488,0.41666666666666663,0.1,0.6766917293233082,0.958904109589041,0.840630472854641,0.1,0.5555555555555556,1.1111111111111112,1.383356070941337,0.5482041587901701,0.7777777777777778,0.1,2.166666666666667,0.1,0.6440741434188355,0.5454545454545454,0.1,1.6666666666666665,0.1,0.1,0.11217948717948718,0.1,0.1,0.14908256880733944,0.1,0.1,2.5,0.1,0.1,0.1,0.1,0.1,0.1,0.1,0.1,0.1,0.1,0.5555555555555556,0.1,0.1,0.16666666666666666,0.1,0.1,0.1,0.1,0.1,0.1,0.1,0.1,0.1,0.1,0.1,0.1,0.1,0.1,0.1,1.4285714285714284,0.625,0.1,0.1,0.1,0.1,0.1,2.5,0.1,0.1,0.43478260869565216,0.10526315789473684,0.1,0.1,0.1,0.5882352941176471,0.1,0.1,0.2225519287833828,0.1,1.0,0.1,0.1,0.1,0.1,0.1,0.1,0.10594947025264874,1.3636363636363635,0.1,0.1,0.1,0.1,0.11560693641618497,0.1,0.11363636363636365,0.1,0.1,0.1,0.35853468433359315,0.1,0.19197207678883071,0.1,0.1,0.1,0.5,0.1,0.1,0.5882352941176471,0.1,0.17929910350448247,0.2272727272727273,0.1,6.644444444444444,0.1,0.37037037037037035,0.1,0.1,0.1,0.1,1.1278195488721803,0.1,0.1,0.23121387283236994,3.333333333333333,0.1,0.1,0.1,0.1,0.1,0.1,0.1,0.1,0.1,0.1,0.1,0.1,0.1,0.1,0.1,0.1,0.1,0.1,0.1,0.1,0.1,0.1,0.1,0.1,0.1,0.1725703905540418,0.1,0.1,0.1,0.1,0.1,0.1,0.1,0.43478260869565216,0.1,0.1,0.1,0.1,0.1,0.1,0.136986301369863,0.10507880910683012,0.1,0.1,0.1,0.7455357142857143,0.1,0.1,1.8181818181818183,0.1,0.1,0.1,10.0,0.1,0.21052631578947367,0.1,0.1,0.1,0.1,0.1,0.1,0.6481481481481481,0.1,0.1,0.1,0.1,0.1,0.136986301369863,0.1,0.5555555555555556,0.1,0.15122873345935728,0.11111111111111112,0.1,0.1,0.1,0.8333333333333333,0.1,1.9330357142857144,0.2884615384615385,0.6561679790026247,0.3755868544600939,1.6666666666666665,0.6666666666666666,0.9863945578231292,1.4678899082568808,0.8670520231213873,0.3125,3.333333333333333,1.02803738317757,0.10502625656414104,0.8695652173913043,1.875,0.10526315789473684,0.24390243902439024,0.1,0.5813953488372093,0.3859060402684564,0.24752475247524752,1.6666666666666665,0.5245264691597863,2.0,2.3529411764705883,0.4053000779423227,2.2222222222222223,0.5610098176718092,1.0185185185185184,0.6282722513089005,0.6602373887240356,0.529821374508023,2.0,0.41666666666666663,0.1,0.6015037593984962,1.917808219178082,0.7705779334500875,0.1,0.5555555555555556,0.5555555555555556,2.210095497953615,1.5122873345935728,1.4444444444444442,1.1764705882352942,0.3317535545023697,1.375,0.39934800325998365,0.4545454545454546,0.8387942332896461,0.14925373134328357,1.6666666666666665,0.30303030303030304,0.4222222222222222,0.1,0.1,2.729658792650919,0.1,0.1452599388379205,0.1,0.15625,0.7894736842105263,0.1,0.1,0.1,0.1,0.1,0.1,0.273972602739726,0.43782837127845886,0.19645293315143247,0.11342155009451796,0.375,0.1,0.28271859202396554,0.1,0.1,0.1,0.1,0.43478260869565216,0.1,0.1,0.1,0.1,0.1,0.1,0.1,0.3007518796992481,0.1,0.1,0.11111111111111112,0.1,0.1,0.1,0.1,0.1,0.1,0.1,0.1,0.1875,0.49679487179487175,0.1,0.18779342723004694,0.27210884353741494,0.2522935779816514,0.1,0.15625,0.1,0.1,0.43478260869565216,0.1,0.1,0.1532349602724177,0.1,2.0,3.5294117647058827,0.13250194855806702,1.4285714285714284,0.39270687237026647,0.10471204188481675,0.24480712166172106,0.1,2.0833333333333335,0.1,0.6766917293233082,0.547945205479452,0.1,0.13915416098226466,0.1323251417769376,0.11111111111111112,0.2132701421800948,0.375,0.11002444987775062,0.1,0.1,0.1,0.1,0.1,0.1,0.1,0.1,0.1,0.1,0.1,0.1,0.1,0.1,0.1,0.1,0.1,0.1,0.1,0.1,0.1,0.1,0.1,0.1,0.1,0.6666666666666666,0.1,0.1,0.1,0.15625,0.17133956386292834,0.345086271567892,0.43478260869565216,0.11363636363636365,0.1,0.1,0.1,0.5882352941176471,0.25245441795231416,0.1,0.15706806282722513,0.11869436201780416,0.1,0.1,0.1,0.22684310018903592,0.1,0.1,0.27302363488182557,0.1,0.48888888888888893,0.1,0.1,0.1,0.1,0.2347417840375587,0.1,0.1,0.1,0.1,0.1,0.11111111111111112,0.1,0.1,0.1,0.1,0.1,0.11627906976744186,0.1,0.1,0.1359883438562409,0.47619047619047616,0.1402961808261886,1.4285714285714284,0.1,0.1,0.1,0.15037593984962405,0.1,0.1,0.11342155009451796,0.11111111111111112,0.1,0.1,0.1,0.1,0.1,0.1,0.1,0.1,0.1,0.16279069767441862,0.1,0.1,0.1,0.1,0.1,0.136986301369863,0.1,0.1,0.1,0.1,0.1,0.1,0.1,0.1,0.4285714285714286,0.1,0.17006802721088438,0.1,0.17341040462427743,0.16504126031507876,0.625,0.2272727272727273,0.20930232558139533,0.1021566401816118,0.1,0.1,0.1,0.5882352941176471,0.1402961808261886,0.1402524544179523,0.1,0.1,0.1,0.15037593984962405,0.410958904109589,0.1,0.22684310018903592,0.2777777777777778,0.1,0.3333333333333333,0.1,0.1,0.14925373134328357,0.5555555555555556,0.1,0.1,0.1,1.6666666666666665,0.9090909090909092,0.1,0.1,0.1,0.4672897196261682,0.1,0.1,0.12627695800227015,0.1,0.1,0.16027197668771248,1.7647058823529413,0.12470771628994544,0.1402524544179523,0.1,0.1,1.0,0.22556390977443608,0.136986301369863,0.1,0.1,0.1,0.11111111111111112,0.2606635071090047,0.16707416462917685,0.1,1.6666666666666665,0.1,0.84375,0.1,0.13123359580052493,0.14925373134328357,5.0,0.11111111111111112,1.8181818181818183,0.23809523809523808,0.17201834862385323,0.2890173410404624,0.3125,0.1,0.1,0.21052631578947367,0.5691056910569106,1.6193181818181817,0.2631578947368421,0.6744186046511629,0.24829738933030646,0.10067114093959731,0.1,5.0,0.1,1.7647058823529413,0.9523809523809523,0.13250194855806702,1.1111111111111112,1.4285714285714284,0.1402524544179523,0.6481481481481481,0.28795811518324604,0.13353115727002968,1.0,0.41666666666666663,0.1,0.15037593984962405,1.36986301369863,0.14010507880910683,0.1,1.1111111111111112,1.0,0.4583901773533424,0.3969754253308128,0.11111111111111112,0.5882352941176471,0.1,0.16666666666666666,0.10594947025264874,0.344504774386819,0.8333333333333333,0.1,0.1,0.1,0.1,0.1,0.1,0.1,0.1,0.1,0.1,0.1,0.1,0.1,0.1,0.1,0.1,0.1,0.10526315789473684,0.1,0.1,0.1,0.5882352941176471,0.1,0.11764705882352941,0.1,0.1,0.1,0.1,0.1,0.1,0.22435897435897437,0.3286384976525822,0.1,0.1,6.521739130434783,0.37037037037037035,0.1,0.1,0.1,0.1,0.1,0.1,0.1,0.1,0.1,0.1,0.1,0.1,0.1,0.1,0.1,0.1,0.1,0.10498687664041995,0.11111111111111112,0.5102040816326531,0.1,0.2631578947368421,0.1,0.1,0.1,0.1,0.1,0.1,0.1,0.1,0.1,0.1,0.1,0.1,0.1,0.1,0.11607142857142858,0.1282051282051282,1.2335958005249343,0.6666666666666666,0.11235955056179775,0.1834862385321101,0.11560693641618497,1.5789473684210527,0.1,0.1,0.41946308724832215,0.1,0.18518518518518517,0.1,0.1,0.5555555555555556,0.18281036834924966,0.15122873345935728,0.125,0.1,0.4437371278786744,0.12121212121212122,0.1,0.1,0.1,0.1,0.1,0.1,0.1,0.1,0.1,0.1,0.1,0.1,0.1,0.1,0.1,0.1,0.1,0.1,0.1,0.1,0.1,0.1,0.1,1.6666666666666665,0.1,0.1,0.1,1.1764705882352942,0.1,1.6651785714285714,0.11217948717948718,1.0498687664041995,0.18779342723004694,0.11111111111111112,0.6122448979591837,1.938073394495413,0.8092485549132948,0.15625,0.1,0.1,1.875,0.21052631578947367,0.24390243902439024,2.0,0.7894736842105263,0.2558139534883721,1.149262202043133,1.2080536912751678,0.1,0.2476930548810102,4.0,0.1,0.16830294530154277,1.3888888888888888,0.29668411867364747,0.1,0.508628519527702,1.0,0.1,0.15037593984962405,1.7808219178082192,1.1733800350262698,0.13412816691505217,0.5555555555555556,0.8506616257088846,1.0,0.1,2.4166666666666665,0.1,1.106534356862011,0.29850746268656714,0.6666666666666666,0.1,0.29910714285714285,0.1,0.1,0.1,0.1,0.11085626911314984,0.17341040462427743,0.1,0.1,0.625,0.1,0.18604651162790697,0.11350737797956867,0.10067114093959731,0.1,0.8333333333333333,0.1,0.5882352941176471,0.1,2.2222222222222223,0.1,0.18518518518518517,0.10471204188481675,0.1,0.1,0.1,0.1,0.273972602739726,0.14010507880910683,0.12278308321964529,0.6666666666666666,0.125,0.1,0.1,0.1,0.13839285714285715,0.1,0.1,0.17341040462427743,0.1,0.1,0.1,0.1,0.1,0.1,0.1,0.1,0.1,0.1,0.1,0.5,0.1,0.22684310018903592,0.1,0.1,0.1,1.6666666666666665,1.4285714285714284,0.1,0.1,0.1,1.0,0.1,0.1,0.1,0.1,0.1,2.0,0.1,0.1,0.1,0.1,0.1,0.1,0.1,0.1,0.1,0.1,0.1,0.1,0.11160714285714286,0.1,0.10498687664041995,0.1,0.1,0.19877675840978593,0.11560693641618497,0.1,0.2631578947368421,0.1,0.1,0.15100671140939598,0.1,0.1,0.1,0.1,0.1,0.1582537517053206,0.1,0.1,0.12053571428571429,0.1,0.1,0.11111111111111112,0.1020408163265306,0.1,0.17341040462427743,0.40498442367601245,0.3300825206301575,0.1,0.1,0.13904653802497163,0.1,0.1,0.8333333333333333,0.13113161728994657,1.1764705882352942,0.47619047619047616,0.5222135619641465,0.2805049088359046,0.1,0.1832460732984293,0.30415430267062316,0.1,0.1,0.136986301369863,0.1,0.5,0.1,0.1,0.11111111111111112,0.1,0.2272727272727273,0.1,0.5555555555555556,0.1,0.1,0.1,0.1,0.9910714285714285,0.3365384615384615,3.753280839895013,0.14084507042253522,0.11111111111111112,0.6179775280898876,0.6122448979591837,1.3149847094801224,0.6936416184971097,0.46875,0.1,0.1,1.25,0.1,0.1,1.8421052631578947,0.1,0.6356413166855845,2.533557046979866,0.1359883438562409,0.5882352941176471,0.1,0.11220196353436185,1.1111111111111112,0.2006980802792321,0.1,0.5570693309112927,0.1,0.22556390977443608,1.2328767123287672,4.15061295971979,0.1,0.5555555555555556,0.5555555555555556,1.612551159618008,0.7561436672967864,0.8333333333333333,0.1,0.75,0.1,0.14925373134328357,0.6060606060606061,0.1,0.1,0.1,0.1,0.1,0.1,0.1,0.1,0.1,0.1,0.1,0.1,0.1,0.1,0.1,0.1,0.1,0.1,0.1,0.1,0.136986301369863,0.1,0.1,0.1,0.1,0.1,0.1,2.2430607651912977,0.1,0.1,0.1,0.17147310989867498,0.1,0.2181500872600349,0.1,0.1,0.136986301369863,0.1,0.1,0.10187449062754686,0.1],\"end\":[1,2,3,5,12,13,15,20,22,26,27,30,31,32,33,34,35,36,38,40,45,46,48,49,50,53,54,55,56,57,59,61,62,63,65,66,67,71,72,76,77,0,2,3,11,13,15,16,20,25,31,32,33,36,38,45,46,49,50,52,54,55,56,57,59,61,62,65,66,67,71,72,0,1,5,12,13,15,17,20,24,30,31,32,33,34,36,46,48,49,50,55,56,59,61,62,63,66,67,71,76,0,1,11,12,13,28,32,36,38,40,42,52,54,59,61,62,65,66,71,50,0,2,40,56,13,14,32,49,50,60,64,19,64,32,45,50,55,61,67,71,31,49,50,1,3,12,13,15,45,56,71,0,2,3,11,13,32,33,36,40,46,48,49,50,55,61,62,66,67,71,76,0,1,2,3,6,11,12,15,16,17,20,22,24,25,30,31,32,33,34,35,36,37,40,41,45,46,48,49,50,52,53,54,55,56,57,58,59,61,62,63,65,66,67,71,76,77,7,20,0,1,2,11,13,20,22,24,31,32,33,36,40,45,48,49,50,56,58,61,62,63,66,67,71,76,1,13,2,13,32,33,36,40,50,61,71,8,24,32,0,1,2,13,14,15,22,23,25,31,32,36,38,40,45,49,50,51,53,54,61,62,63,65,67,68,71,31,0,13,15,20,27,31,32,36,40,45,48,49,50,53,60,61,62,64,66,67,68,71,77,20,29,32,34,36,40,54,2,13,15,19,32,48,61,62,71,1,13,20,31,32,50,53,61,0,32,50,61,71,0,22,31,32,36,40,48,50,62,67,71,77,3,61,65,23,54,0,2,13,33,50,55,56,61,66,71,0,1,2,10,13,15,20,21,22,25,27,32,34,36,40,45,46,48,49,50,53,54,55,56,59,61,62,63,66,67,71,73,76,0,1,2,3,7,9,12,13,15,17,19,20,22,23,24,25,26,27,31,33,34,35,36,37,38,40,41,45,46,48,49,50,51,52,53,54,55,56,57,58,59,61,62,63,64,65,66,67,68,71,72,73,76,77,0,1,2,12,13,15,17,30,32,46,48,49,50,54,55,56,61,62,66,67,71,76,0,2,13,23,31,32,36,45,48,49,50,54,61,62,63,65,67,0,13,32,50,62,67,0,1,2,3,12,13,15,17,20,22,23,27,31,32,34,37,38,40,43,45,48,49,50,52,53,54,55,56,61,62,63,65,66,67,71,77,13,32,36,61,0,1,3,20,32,36,40,48,49,50,53,62,67,71,45,50,67,0,3,5,12,13,15,17,20,22,23,27,31,32,36,38,45,46,48,49,50,53,61,62,65,66,67,71,77,13,32,50,62,3,36,45,50,0,1,9,11,13,15,20,22,31,32,34,36,39,40,43,48,49,50,54,57,61,62,63,65,67,71,77,0,1,2,12,13,31,32,33,40,48,50,55,56,61,62,63,65,67,71,53,0,2,12,13,15,22,24,27,31,32,33,34,36,38,40,45,46,49,50,54,55,61,62,63,65,66,67,71,72,77,0,1,2,7,10,12,13,15,20,22,31,32,33,34,36,38,40,45,48,50,51,54,55,56,61,62,63,65,67,71,73,77,0,1,2,4,7,9,10,12,13,15,17,20,22,25,26,27,30,31,32,33,34,35,36,38,39,40,41,43,45,46,48,49,51,52,53,54,55,56,57,58,60,61,62,63,64,65,66,67,71,73,76,77,20,32,49,50,61,1,3,13,32,36,50,0,13,20,22,25,31,32,36,38,40,47,50,54,61,62,71,0,1,3,13,20,23,29,31,32,33,34,36,45,48,49,50,53,61,62,63,67,71,0,1,2,9,12,13,30,31,32,33,36,46,48,49,50,61,62,67,71,76,77,0,1,2,5,11,13,15,30,31,32,33,36,46,49,50,59,61,62,66,67,71,76,0,1,13,32,45,50,61,71,13,15,32,50,71,0,1,2,3,13,31,32,56,61,71,7,22,50,63,64,67,0,1,2,3,9,12,13,15,17,20,22,24,25,26,28,30,31,32,33,34,36,37,40,45,46,48,49,50,51,53,54,55,56,57,59,62,63,65,66,67,71,72,76,77,0,1,2,3,12,13,15,20,22,24,27,31,32,33,34,35,36,38,40,41,45,46,48,49,50,53,54,55,56,61,63,66,67,71,77,0,2,13,15,20,31,32,34,36,45,46,48,49,50,54,60,61,62,67,71,76,7,8,22,32,50,60,0,1,3,13,20,28,32,34,36,40,45,46,48,49,50,61,67,71,0,1,2,3,12,13,15,22,30,31,32,33,36,40,48,50,56,61,62,71,0,1,2,9,12,13,15,20,22,27,31,32,33,34,35,36,38,39,40,45,46,48,49,50,54,55,56,60,61,62,63,65,68,71,77,20,22,32,67,0,1,2,3,9,11,12,13,15,17,20,22,24,26,27,30,31,32,33,36,38,40,45,46,48,49,50,53,54,55,56,57,58,59,61,62,63,65,66,67,72,76,77,0,1,32,48,61,71,31,32,49,50,0,2,12,13,15,31,32,33,50,55,56,61,63,71,0,13,22,27,32,36,40,45,48,49,50,55,61,62,67,71],\"start\":[0,0,0,0,0,0,0,0,0,0,0,0,0,0,0,0,0,0,0,0,0,0,0,0,0,0,0,0,0,0,0,0,0,0,0,0,0,0,0,0,0,1,1,1,1,1,1,1,1,1,1,1,1,1,1,1,1,1,1,1,1,1,1,1,1,1,1,1,1,1,1,1,2,2,2,2,2,2,2,2,2,2,2,2,2,2,2,2,2,2,2,2,2,2,2,2,2,2,2,2,2,3,3,3,3,3,3,3,3,3,3,3,3,3,3,3,3,3,3,3,4,5,5,5,5,6,7,7,7,7,7,7,8,8,9,9,9,9,9,9,9,10,10,10,11,11,11,11,11,11,11,11,12,12,12,12,12,12,12,12,12,12,12,12,12,12,12,12,12,12,12,12,13,13,13,13,13,13,13,13,13,13,13,13,13,13,13,13,13,13,13,13,13,13,13,13,13,13,13,13,13,13,13,13,13,13,13,13,13,13,13,13,13,13,13,13,13,13,14,14,15,15,15,15,15,15,15,15,15,15,15,15,15,15,15,15,15,15,15,15,15,15,15,15,15,15,16,16,17,17,17,17,17,17,17,17,17,19,19,19,20,20,20,20,20,20,20,20,20,20,20,20,20,20,20,20,20,20,20,20,20,20,20,20,20,20,20,21,22,22,22,22,22,22,22,22,22,22,22,22,22,22,22,22,22,22,22,22,22,22,22,23,23,23,23,23,23,23,24,24,24,24,24,24,24,24,24,25,25,25,25,25,25,25,25,26,26,26,26,26,27,27,27,27,27,27,27,27,27,27,27,27,28,28,28,29,29,30,30,30,30,30,30,30,30,30,30,31,31,31,31,31,31,31,31,31,31,31,31,31,31,31,31,31,31,31,31,31,31,31,31,31,31,31,31,31,31,31,31,31,32,32,32,32,32,32,32,32,32,32,32,32,32,32,32,32,32,32,32,32,32,32,32,32,32,32,32,32,32,32,32,32,32,32,32,32,32,32,32,32,32,32,32,32,32,32,32,32,32,32,32,32,32,32,33,33,33,33,33,33,33,33,33,33,33,33,33,33,33,33,33,33,33,33,33,33,34,34,34,34,34,34,34,34,34,34,34,34,34,34,34,34,34,35,35,35,35,35,35,36,36,36,36,36,36,36,36,36,36,36,36,36,36,36,36,36,36,36,36,36,36,36,36,36,36,36,36,36,36,36,36,36,36,36,36,37,37,37,37,38,38,38,38,38,38,38,38,38,38,38,38,38,38,39,39,39,40,40,40,40,40,40,40,40,40,40,40,40,40,40,40,40,40,40,40,40,40,40,40,40,40,40,40,40,41,41,41,41,42,43,43,43,45,45,45,45,45,45,45,45,45,45,45,45,45,45,45,45,45,45,45,45,45,45,45,45,45,45,45,46,46,46,46,46,46,46,46,46,46,46,46,46,46,46,46,46,46,46,47,48,48,48,48,48,48,48,48,48,48,48,48,48,48,48,48,48,48,48,48,48,48,48,48,48,48,48,48,48,48,49,49,49,49,49,49,49,49,49,49,49,49,49,49,49,49,49,49,49,49,49,49,49,49,49,49,49,49,49,49,49,49,50,50,50,50,50,50,50,50,50,50,50,50,50,50,50,50,50,50,50,50,50,50,50,50,50,50,50,50,50,50,50,50,50,50,50,50,50,50,50,50,50,50,50,50,50,50,50,50,50,50,50,50,51,51,51,51,51,52,52,52,52,52,52,53,53,53,53,53,53,53,53,53,53,53,53,53,53,53,53,54,54,54,54,54,54,54,54,54,54,54,54,54,54,54,54,54,54,54,54,54,54,55,55,55,55,55,55,55,55,55,55,55,55,55,55,55,55,55,55,55,55,55,56,56,56,56,56,56,56,56,56,56,56,56,56,56,56,56,56,56,56,56,56,56,57,57,57,57,57,57,57,57,58,58,58,58,58,59,59,59,59,59,59,59,59,59,59,60,60,60,60,60,60,61,61,61,61,61,61,61,61,61,61,61,61,61,61,61,61,61,61,61,61,61,61,61,61,61,61,61,61,61,61,61,61,61,61,61,61,61,61,61,61,61,61,61,61,62,62,62,62,62,62,62,62,62,62,62,62,62,62,62,62,62,62,62,62,62,62,62,62,62,62,62,62,62,62,62,62,62,62,62,63,63,63,63,63,63,63,63,63,63,63,63,63,63,63,63,63,63,63,63,63,64,64,64,64,64,64,65,65,65,65,65,65,65,65,65,65,65,65,65,65,65,65,65,65,66,66,66,66,66,66,66,66,66,66,66,66,66,66,66,66,66,66,66,66,67,67,67,67,67,67,67,67,67,67,67,67,67,67,67,67,67,67,67,67,67,67,67,67,67,67,67,67,67,67,67,67,67,67,67,68,68,68,68,71,71,71,71,71,71,71,71,71,71,71,71,71,71,71,71,71,71,71,71,71,71,71,71,71,71,71,71,71,71,71,71,71,71,71,71,71,71,71,71,71,71,71,72,72,72,72,72,72,73,73,73,73,76,76,76,76,76,76,76,76,76,76,76,76,76,76,77,77,77,77,77,77,77,77,77,77,77,77,77,77,77,77],\"weight\":[0.00641025641025641,0.05249343832020997,0.009389671361502348,0.06666666666666667,0.027210884353741496,0.058868501529051986,0.04046242774566474,0.003115264797507788,0.0015003750937734434,0.016260162601626018,0.014204545454545454,0.07894736842105263,0.3883720930232558,0.061435868331441545,0.020134228187919462,0.0049504950495049506,0.08333333333333333,0.020398251578436135,0.11764705882352941,0.010132501948558068,0.02244039270687237,0.2037037037037037,0.08376963350785341,0.0051928783382789315,0.05722070844686648,0.001394700139470014,0.015037593984962405,0.0684931506849315,0.04553415061295972,0.0014903129657228018,0.05555555555555555,0.10177353342428376,0.1266540642722117,0.17222222222222222,0.004739336492890996,0.10416666666666667,0.011002444987775062,0.04156524995319229,0.029850746268656716,0.048484848484848485,0.0022222222222222222,0.0017857142857142857,0.007874015748031496,0.11737089201877934,0.016853932584269662,0.033256880733944956,0.04046242774566474,0.3333333333333333,0.004672897196261682,0.031578947368421054,0.002325581395348837,0.002553916004540295,0.003355704697986577,0.015055852355512385,0.058823529411764705,0.001402524544179523,0.018518518518518517,0.000741839762611276,0.0012110202845897668,0.20833333333333334,0.10526315789473684,0.0136986301369863,0.014010507880910683,0.0014903129657228018,0.1111111111111111,0.0019099590723055935,0.001890359168241966,0.002369668246445498,0.004166666666666667,0.0012224938875305623,0.003931847968545216,0.014925373134328358,0.008928571428571428,0.004807692307692308,0.06666666666666667,0.013605442176870748,0.01643730886850153,0.005780346820809248,0.015625,0.003115264797507788,0.0625,0.05263157894736842,0.004651162790697674,0.003547105561861521,0.174496644295302,0.0012376237623762376,0.0014570179698882952,0.009259259259259259,0.002617801047120419,0.000741839762611276,0.0015137753557372085,0.0547945205479452,0.08231173380035026,0.05555555555555555,0.010914051841746248,0.001890359168241966,0.005555555555555556,0.016666666666666666,0.00040749796251018743,0.026774012357236473,0.012121212121212121,0.0008928571428571428,0.04006410256410257,0.0056179775280898875,0.003401360544217687,0.005733944954128441,0.2,0.0011350737797956867,0.001942690626517727,0.058823529411764705,0.000779423226812159,0.5,0.041666666666666664,0.05263157894736842,0.1111111111111111,0.001091405184174625,0.001890359168241966,0.002369668246445498,0.004166666666666667,0.0005616925669350309,0.0003027550711474417,0.0004464285714285714,0.0026246719160104987,0.000779423226812159,0.0017513134851138354,0.00038226299694189603,0.125,0.00014188422247446084,0.000741839762611276,0.0009082652134423251,0.05,0.058823529411764705,0.3333333333333333,0.058823529411764705,0.000851305334846765,0.001402524544179523,0.0003027550711474417,0.0136986301369863,0.00027285129604365623,0.00040749796251018743,0.0001872308556450103,0.004651162790697674,0.000741839762611276,0.0006055101422948834,0.004807692307692308,0.004694835680751174,0.01020408163265306,0.0045871559633027525,0.005780346820809248,0.001402524544179523,0.0035026269702276708,0.0020595394120951132,0.0035714285714285713,0.010498687664041995,0.004694835680751174,0.016853932584269662,0.002675840978593272,0.004114642451759364,0.0016778523489932886,0.003885381253035454,0.000779423226812159,0.009259259259259259,0.004363001745200698,0.001483679525222552,0.002119285498032092,0.2054794520547945,0.0049113233287858115,0.003780718336483932,0.008333333333333333,0.0012224938875305623,0.0033701554016101853,0.006060606060606061,0.06875,0.13942307692307693,0.11286089238845144,0.07042253521126761,0.023809523809523808,0.06741573033707865,0.023809523809523808,0.2254335260115607,0.3333333333333333,0.015625,0.009345794392523364,0.003000750187546887,0.375,0.042105263157894736,0.15789473684210525,0.018604651162790697,0.05448354143019296,0.06375838926174497,0.008663366336633664,0.08333333333333333,0.03205439533754249,0.6,0.00779423226812159,0.3333333333333333,0.0182328190743338,0.09259259259259259,0.020942408376963352,0.008160237388724036,0.013623978201634877,0.041666666666666664,0.001394700139470014,0.06766917293233082,0.0958904109589041,0.0840630472854641,0.004470938897168405,0.05555555555555555,0.1111111111111111,0.1383356070941337,0.054820415879017016,0.07777777777777778,0.002369668246445498,0.21666666666666667,0.0057049714751426246,0.06440741434188355,0.05454545454545454,0.008888888888888889,0.16666666666666666,0.003115264797507788,0.003125,0.011217948717948718,0.0026246719160104987,0.0056179775280898875,0.014908256880733946,0.001557632398753894,0.0015003750937734434,0.25,0.002325581395348837,0.0021282633371169125,0.0016778523489932886,0.00048567265662943174,0.000779423226812159,0.001402524544179523,0.002617801047120419,0.000741839762611276,0.0015137753557372085,0.0035026269702276708,0.05555555555555555,0.003819918144611187,0.005671077504725898,0.016666666666666666,0.008333333333333333,0.0012224938875305623,0.0022467702677401234,0.006060606060606061,0.0016025641025641025,0.00038226299694189603,0.0026246719160104987,0.00038226299694189603,0.00028376844494892167,0.0016778523489932886,0.00048567265662943174,0.000779423226812159,0.0006055101422948834,0.00027285129604365623,0.0005616925669350309,0.14285714285714285,0.0625,0.00014188422247446084,0.0008928571428571428,0.004807692307692308,0.005249343832020997,0.0022935779816513763,0.25,0.005780346820809248,0.0007501875468867217,0.043478260869565216,0.010526315789473684,0.0069767441860465115,0.009364358683314415,0.001942690626517727,0.058823529411764705,0.00857365549493375,0.002805049088359046,0.02225519287833828,0.0012110202845897668,0.1,0.001394700139470014,0.007518796992481203,0.001091405184174625,0.003780718336483932,0.005555555555555556,0.009478672985781991,0.010594947025264874,0.13636363636363635,0.0003744617112900206,0.002325581395348837,0.0008928571428571428,0.0015290519877675841,0.011560693641618497,0.001557632398753894,0.011363636363636364,0.002325581395348837,0.0019863791146424517,0.003885381253035454,0.03585346843335931,0.0070126227208976155,0.019197207678883072,0.001483679525222552,0.0027247956403269754,0.001394700139470014,0.05,0.0005457025920873125,0.001890359168241966,0.058823529411764705,0.004166666666666667,0.017929910350448247,0.022727272727272728,0.0001872308556450103,0.6644444444444444,0.001557632398753894,0.037037037037037035,0.00028376844494892167,0.0012376237623762376,0.00048567265662943174,0.000779423226812159,0.11278195488721804,0.0026246719160104987,0.0022935779816513763,0.023121387283236993,0.3333333333333333,0.0004256526674233825,0.0008726003490401396,0.0008185538881309686,0.001890359168241966,0.0003744617112900206,0.004807692307692308,0.0015290519877675841,0.001557632398753894,0.004651162790697674,0.00014188422247446084,0.0006055101422948834,0.001394700139470014,0.0005457025920873125,0.0008928571428571428,0.0004256526674233825,0.002119285498032092,0.0008185538881309686,0.0001872308556450103,0.002232142857142857,0.003000750187546887,0.002325581395348837,0.00014188422247446084,0.00048567265662943174,0.003117692907248636,0.006980802792321117,0.01725703905540418,0.001890359168241966,0.0008149959250203749,0.0001872308556450103,0.0044444444444444444,0.004694835680751174,0.00027285129604365623,0.002369668246445498,0.043478260869565216,0.007518796992481203,0.0013392857142857143,0.005249343832020997,0.0022935779816513763,0.0050335570469798654,0.0003027550711474417,0.0136986301369863,0.010507880910683012,0.0008185538881309686,0.004166666666666667,0.001310615989515072,0.07455357142857143,0.0016025641025641025,0.005249343832020997,0.18181818181818182,0.0030581039755351682,0.005780346820809248,0.004672897196261682,1.0,0.0007501875468867217,0.021052631578947368,0.002840909090909091,0.003547105561861521,0.0012376237623762376,0.00048567265662943174,0.003117692907248636,0.0070126227208976155,0.06481481481481481,0.007853403141361256,0.000741839762611276,0.00877989706327581,0.002789400278940028,0.007518796992481203,0.0136986301369863,0.0035026269702276708,0.05555555555555555,0.0030013642564802184,0.015122873345935728,0.011111111111111112,0.004166666666666667,0.00040749796251018743,0.0007489234225800412,0.08333333333333333,0.006060606060606061,0.19330357142857144,0.028846153846153848,0.06561679790026247,0.03755868544600939,0.16666666666666666,0.06666666666666667,0.09863945578231292,0.14678899082568808,0.08670520231213873,0.03125,0.3333333333333333,0.102803738317757,0.010502625656414103,0.08695652173913043,0.1875,0.010526315789473684,0.024390243902439025,0.002840909090909091,0.05813953488372093,0.03859060402684564,0.024752475247524754,0.16666666666666666,0.05245264691597863,0.2,0.23529411764705882,0.04053000779423227,0.2222222222222222,0.056100981767180924,0.10185185185185185,0.06282722513089005,0.06602373887240356,0.052982137450802304,0.2,0.041666666666666664,0.008368200836820083,0.06015037593984962,0.1917808219178082,0.07705779334500876,0.007451564828614009,0.05555555555555555,0.05555555555555555,0.22100954979536153,0.15122873345935728,0.14444444444444443,0.11764705882352941,0.03317535545023697,0.1375,0.03993480032599837,0.045454545454545456,0.08387942332896461,0.014925373134328358,0.16666666666666666,0.030303030303030304,0.042222222222222223,0.005357142857142857,0.003205128205128205,0.27296587926509186,0.003401360544217687,0.01452599388379205,0.005780346820809248,0.015625,0.07894736842105263,0.0032633371169125992,0.009259259259259259,0.0008726003490401396,0.000741839762611276,0.0018165304268846503,0.007518796992481203,0.0273972602739726,0.043782837127845885,0.019645293315143246,0.011342155009451797,0.0375,0.00040749796251018743,0.028271859202396554,0.006060606060606061,0.0017857142857142857,0.0026246719160104987,0.002675840978593272,0.043478260869565216,0.002325581395348837,0.0028376844494892167,0.003399708596406022,0.004207573632538569,0.0008726003490401396,0.004451038575667656,0.0006055101422948834,0.03007518796992481,0.0019099590723055935,0.003780718336483932,0.011111111111111112,0.0071090047393364926,0.0024449877750611247,0.0004464285714285714,0.00038226299694189603,0.00028376844494892167,0.0018165304268846503,0.001890359168241966,0.00040749796251018743,0.01875,0.049679487179487176,0.007874015748031496,0.018779342723004695,0.027210884353741496,0.02522935779816514,0.005780346820809248,0.015625,0.006230529595015576,0.006001500375093774,0.043478260869565216,0.002840909090909091,0.002325581395348837,0.01532349602724177,0.008663366336633664,0.2,0.35294117647058826,0.013250194855806703,0.14285714285714285,0.03927068723702665,0.010471204188481676,0.024480712166172106,0.004541326067211626,0.20833333333333334,0.002789400278940028,0.06766917293233082,0.0547945205479452,0.0017513134851138354,0.013915416098226467,0.013232514177693762,0.011111111111111112,0.02132701421800948,0.0375,0.011002444987775062,0.005242463958060288,0.0044444444444444444,0.0011467889908256881,0.00014188422247446084,0.00048567265662943174,0.0005457025920873125,0.0008928571428571428,0.0016025641025641025,0.004694835680751174,0.001557632398753894,0.0005675368898978433,0.0029140359397765905,0.000779423226812159,0.0008726003490401396,0.002225519287833828,0.0009082652134423251,0.001394700139470014,0.001890359168241966,0.0008149959250203749,0.0001872308556450103,0.001402524544179523,0.0006055101422948834,0.00040749796251018743,0.005803571428571429,0.004694835680751174,0.06666666666666667,0.003401360544217687,0.00382262996941896,0.005780346820809248,0.015625,0.017133956386292833,0.0345086271567892,0.043478260869565216,0.011363636363636364,0.009302325581395349,0.0073779795686719635,0.00825643516270034,0.058823529411764705,0.025245441795231416,0.009259259259259259,0.015706806282722512,0.011869436201780416,0.0051468362095065095,0.001394700139470014,0.00218281036834925,0.022684310018903593,0.009478672985781991,0.004166666666666667,0.02730236348818256,0.0003744617112900206,0.04888888888888889,0.0011467889908256881,0.00028376844494892167,0.0003027550711474417,0.003780718336483932,0.023474178403755867,0.00048567265662943174,0.001402524544179523,0.0003027550711474417,0.007142857142857143,0.0016025641025641025,0.011111111111111112,0.0056179775280898875,0.004969418960244648,0.005780346820809248,0.003115264797507788,0.0037509377344336083,0.011627906976744186,0.0056753688989784334,0.0037128712871287127,0.013598834385624089,0.047619047619047616,0.014029618082618862,0.14285714285714285,0.008726003490401396,0.00741839762611276,0.003027550711474417,0.015037593984962405,0.0014903129657228018,0.0032742155525238743,0.011342155009451797,0.011111111111111112,0.002369668246445498,0.008149959250203748,0.0014978468451600825,0.0022222222222222222,0.009821428571428571,0.003205128205128205,0.0026246719160104987,0.003401360544217687,0.00382262996941896,0.01627906976744186,0.0015607264472190692,0.0016778523489932886,0.000779423226812159,0.0008726003490401396,0.002119285498032092,0.0136986301369863,0.0035026269702276708,0.004092769440654843,0.003780718336483932,0.005555555555555556,0.002369668246445498,0.00040749796251018743,0.0022467702677401234,0.001394700139470014,0.04285714285714286,0.007874015748031496,0.017006802721088437,0.009174311926605505,0.017341040462427744,0.016504126031507877,0.0625,0.022727272727272728,0.020930232558139535,0.01021566401816118,0.0016778523489932886,0.0012376237623762376,0.005828071879553181,0.058823529411764705,0.014029618082618862,0.014025245441795231,0.009259259259259259,0.000741839762611276,0.009990917347865577,0.015037593984962405,0.0410958904109589,0.009276944065484311,0.022684310018903593,0.027777777777777776,0.002369668246445498,0.03333333333333333,0.008557457212713936,0.004306309679835237,0.014925373134328358,0.05555555555555555,0.003125,0.0016025641025641025,0.0026246719160104987,0.16666666666666666,0.09090909090909091,0.006802721088435374,0.004204892966360856,0.005780346820809248,0.04672897196261682,0.0015003750937734434,0.002325581395348837,0.012627695800227014,0.0016778523489932886,0.007425742574257425,0.016027197668771247,0.17647058823529413,0.012470771628994544,0.014025245441795231,0.0008726003490401396,0.005449591280653951,0.1,0.022556390977443608,0.0136986301369863,0.0017513134851138354,0.0024556616643929058,0.001890359168241966,0.011111111111111112,0.026066350710900472,0.016707416462917686,0.0009361542782250515,0.16666666666666666,0.0022222222222222222,0.084375,0.00641025641025641,0.013123359580052493,0.014925373134328358,0.5,0.011111111111111112,0.18181818181818182,0.023809523809523808,0.017201834862385322,0.028901734104046242,0.03125,0.006230529595015576,0.006751687921980495,0.021052631578947368,0.056910569105691054,0.16193181818181818,0.02631578947368421,0.06744186046511629,0.024829738933030646,0.010067114093959731,0.0024752475247524753,0.5,0.007285089849441476,0.17647058823529413,0.09523809523809523,0.013250194855806703,0.1111111111111111,0.14285714285714285,0.014025245441795231,0.06481481481481481,0.028795811518324606,0.013353115727002967,0.1,0.041666666666666664,0.002789400278940028,0.015037593984962405,0.136986301369863,0.014010507880910683,0.0014903129657228018,0.1111111111111111,0.1,0.04583901773533424,0.03969754253308128,0.011111111111111112,0.058823529411764705,0.002369668246445498,0.016666666666666666,0.010594947025264874,0.0344504774386819,0.08333333333333333,0.006060606060606061,0.0044444444444444444,0.001557632398753894,0.00028376844494892167,0.000741839762611276,0.0003027550711474417,0.00027285129604365623,0.008012820512820512,0.004694835680751174,0.00038226299694189603,0.00014188422247446084,0.0024283632831471587,0.0003027550711474417,0.0004464285714285714,0.00038226299694189603,0.001557632398753894,0.0007501875468867217,0.010526315789473684,0.004651162790697674,0.000851305334846765,0.0009713453132588635,0.058823529411764705,0.000779423226812159,0.011764705882352941,0.0006055101422948834,0.007518796992481203,0.0005457025920873125,0.001890359168241966,0.0001872308556450103,0.0008928571428571428,0.022435897435897436,0.03286384976525822,0.0034403669724770644,0.001557632398753894,0.6521739130434783,0.037037037037037035,0.002325581395348837,0.0011350737797956867,0.0016778523489932886,0.0049504950495049506,0.004371053909664886,0.002805049088359046,0.0017452006980802793,0.002225519287833828,0.0006055101422948834,0.001394700139470014,0.0005457025920873125,0.001890359168241966,0.005555555555555556,0.00040749796251018743,0.0005616925669350309,0.002232142857142857,0.0016025641025641025,0.010498687664041995,0.011111111111111112,0.05102040816326531,0.002675840978593272,0.02631578947368421,0.002325581395348837,0.0019863791146424517,0.003355704697986577,0.001942690626517727,0.009259259259259259,0.002617801047120419,0.000741839762611276,0.003027550711474417,0.0035470668485675307,0.003780718336483932,0.00040749796251018743,0.0016850777008050927,0.006060606060606061,0.0022222222222222222,0.011607142857142858,0.01282051282051282,0.12335958005249344,0.06666666666666667,0.011235955056179775,0.01834862385321101,0.011560693641618497,0.15789473684210525,0.004651162790697674,0.006242905788876277,0.04194630872483222,0.00048567265662943174,0.018518518518518517,0.000741839762611276,0.0024220405691795337,0.05555555555555555,0.018281036834924966,0.015122873345935728,0.0125,0.0008149959250203749,0.04437371278786744,0.012121212121212121,0.0004464285714285714,0.0016025641025641025,0.0011467889908256881,0.0007094211123723042,0.001402524544179523,0.0003027550711474417,0.0024556616643929058,0.0003744617112900206,0.00038226299694189603,0.005780346820809248,0.00014188422247446084,0.0006055101422948834,0.0001872308556450103,0.0004464285714285714,0.003205128205128205,0.0026246719160104987,0.009389671361502348,0.0007645259938837921,0.002325581395348837,0.00014188422247446084,0.0017513134851138354,0.00027285129604365623,0.0001872308556450103,0.16666666666666666,0.0007501875468867217,0.0006055101422948834,0.005555555555555556,0.11764705882352941,0.00040749796251018743,0.16651785714285713,0.011217948717948718,0.10498687664041995,0.018779342723004695,0.011111111111111112,0.061224489795918366,0.1938073394495413,0.08092485549132948,0.015625,0.006230529595015576,0.0015003750937734434,0.1875,0.021052631578947368,0.024390243902439025,0.2,0.07894736842105263,0.02558139534883721,0.11492622020431328,0.12080536912751678,0.008663366336633664,0.02476930548810102,0.4,0.006235385814497272,0.016830294530154277,0.1388888888888889,0.029668411867364748,0.0066765578635014835,0.05086285195277021,0.1,0.002789400278940028,0.015037593984962405,0.1780821917808219,0.11733800350262696,0.013412816691505217,0.05555555555555555,0.08506616257088846,0.1,0.009478672985781991,0.24166666666666667,0.0069274653626731865,0.11065343568620109,0.029850746268656716,0.06666666666666667,0.006666666666666667,0.029910714285714287,0.0016025641025641025,0.0026246719160104987,0.004694835680751174,0.006802721088435374,0.011085626911314985,0.017341040462427744,0.003115264797507788,0.0007501875468867217,0.0625,0.002840909090909091,0.018604651162790697,0.011350737797956867,0.010067114093959731,0.0024752475247524753,0.08333333333333333,0.003399708596406022,0.058823529411764705,0.009353078721745909,0.2222222222222222,0.008415147265077139,0.018518518518518517,0.010471204188481676,0.000741839762611276,0.006357856494096276,0.001394700139470014,0.007518796992481203,0.0273972602739726,0.014010507880910683,0.01227830832196453,0.06666666666666667,0.0125,0.0012224938875305623,0.007489234225800412,0.0022222222222222222,0.013839285714285714,0.0026246719160104987,0.005351681957186544,0.017341040462427744,0.001557632398753894,0.004651162790697674,0.0036889897843359817,0.0024752475247524753,0.0009713453132588635,0.002805049088359046,0.009259259259259259,0.004363001745200698,0.001483679525222552,0.0006055101422948834,0.007518796992481203,0.05,0.0049113233287858115,0.022684310018903593,0.0008149959250203749,0.0028084628346751544,0.006060606060606061,0.16666666666666666,0.14285714285714285,0.0007501875468867217,0.00028376844494892167,0.0003027550711474417,0.1,0.0008928571428571428,0.0016025641025641025,0.004694835680751174,0.00038226299694189603,0.006230529595015576,0.2,0.0019863791146424517,0.0037128712871287127,0.004371053909664886,0.003117692907248636,0.001402524544179523,0.009259259259259259,0.0008726003490401396,0.008160237388724036,0.0003027550711474417,0.001091405184174625,0.00040749796251018743,0.0005616925669350309,0.011160714285714286,0.0016025641025641025,0.010498687664041995,0.004694835680751174,0.006802721088435374,0.019877675840978593,0.011560693641618497,0.0007501875468867217,0.02631578947368421,0.002325581395348837,0.004682179341657208,0.015100671140939598,0.004371053909664886,0.000779423226812159,0.006980802792321117,0.0012110202845897668,0.005253940455341506,0.01582537517053206,0.005671077504725898,0.0033701554016101853,0.012053571428571429,0.004807692307692308,0.0026246719160104987,0.011111111111111112,0.01020408163265306,0.005351681957186544,0.017341040462427744,0.040498442367601244,0.033008252063015754,0.005681818181818182,0.002325581395348837,0.013904653802497162,0.0016778523489932886,0.007425742574257425,0.08333333333333333,0.013113161728994658,0.11764705882352941,0.047619047619047616,0.05222135619641465,0.028050490883590462,0.009259259259259259,0.01832460732984293,0.030415430267062313,0.007871631849833485,0.007518796992481203,0.0136986301369863,0.0035026269702276708,0.05,0.004638472032742156,0.005671077504725898,0.011111111111111112,0.002369668246445498,0.022727272727272728,0.002434001123385134,0.05555555555555555,0.009345794392523364,0.0007501875468867217,0.00028376844494892167,0.00040749796251018743,0.09910714285714285,0.03365384615384615,0.3753280839895013,0.014084507042253521,0.011111111111111112,0.06179775280898876,0.061224489795918366,0.13149847094801223,0.06936416184971098,0.046875,0.003115264797507788,0.0007501875468867217,0.125,0.008130081300813009,0.002840909090909091,0.18421052631578946,0.009302325581395349,0.06356413166855845,0.2533557046979866,0.013598834385624089,0.058823529411764705,0.001558846453624318,0.011220196353436185,0.1111111111111111,0.02006980802792321,0.00370919881305638,0.05570693309112928,0.001394700139470014,0.022556390977443608,0.1232876712328767,0.415061295971979,0.0029806259314456036,0.05555555555555555,0.05555555555555555,0.1612551159618008,0.07561436672967864,0.08333333333333333,0.0071090047393364926,0.075,0.005297473512632437,0.014925373134328358,0.06060606060606061,0.0022222222222222222,0.0008928571428571428,0.0016025641025641025,0.00014188422247446084,0.0008726003490401396,0.0005457025920873125,0.0001872308556450103,0.002325581395348837,0.00028376844494892167,0.001483679525222552,0.0003027550711474417,0.0035714285714285713,0.005249343832020997,0.003401360544217687,0.0034403669724770644,0.005780346820809248,0.002325581395348837,0.0007094211123723042,0.0016778523489932886,0.0003027550711474417,0.0136986301369863,0.0035026269702276708,0.0030013642564802184,0.005555555555555556,0.001872308556450103,0.0004464285714285714,0.0015290519877675841,0.2243060765191298,0.005681818181818182,0.002695800227014756,0.0009713453132588635,0.0171473109898675,0.001402524544179523,0.02181500872600349,0.000741839762611276,0.0006055101422948834,0.0136986301369863,0.0008185538881309686,0.001890359168241966,0.010187449062754686,0.0001872308556450103]},\"selected\":{\"id\":\"1086\"},\"selection_policy\":{\"id\":\"1087\"}},\"id\":\"1013\",\"type\":\"ColumnDataSource\"},{\"attributes\":{\"text\":\"Interactive co-occurance map of cognitive tests\"},\"id\":\"1070\",\"type\":\"Title\"},{\"attributes\":{\"data_source\":{\"id\":\"1009\"},\"glyph\":{\"id\":\"1029\"},\"hover_glyph\":{\"id\":\"1044\"},\"muted_glyph\":null,\"nonselection_glyph\":{\"id\":\"1039\"},\"selection_glyph\":{\"id\":\"1034\"},\"view\":{\"id\":\"1011\"}},\"id\":\"1010\",\"type\":\"GlyphRenderer\"},{\"attributes\":{},\"id\":\"1083\",\"type\":\"NodesOnly\"},{\"attributes\":{\"active_drag\":\"auto\",\"active_inspect\":\"auto\",\"active_multi\":null,\"active_scroll\":\"auto\",\"active_tap\":\"auto\",\"tools\":[{\"id\":\"1064\"},{\"id\":\"1065\"}]},\"id\":\"1066\",\"type\":\"Toolbar\"},{\"attributes\":{},\"id\":\"1086\",\"type\":\"Selection\"},{\"attributes\":{},\"id\":\"1087\",\"type\":\"UnionRenderers\"},{\"attributes\":{\"end\":1.1,\"start\":-1.1},\"id\":\"1002\",\"type\":\"Range1d\"},{\"attributes\":{\"source\":{\"id\":\"1013\"}},\"id\":\"1015\",\"type\":\"CDSView\"},{\"attributes\":{\"data_source\":{\"id\":\"1013\"},\"glyph\":{\"id\":\"1049\"},\"hover_glyph\":{\"id\":\"1059\"},\"muted_glyph\":null,\"selection_glyph\":{\"id\":\"1054\"},\"view\":{\"id\":\"1015\"}},\"id\":\"1014\",\"type\":\"GlyphRenderer\"},{\"attributes\":{\"fill_color\":{\"value\":\"lightblue\"},\"line_color\":{\"value\":\"white\"},\"size\":{\"field\":\"node_size\",\"units\":\"screen\"}},\"id\":\"1039\",\"type\":\"Circle\"},{\"attributes\":{\"graph_layout\":{\"0\":[-0.6683980595566,-0.5291511080922676],\"1\":[0.581958870477861,-0.8189205521569587],\"10\":[0.8515986258366054,0.2467856647431667],\"11\":[0.21506787605086564,0.8392406874774543],\"12\":[-0.6595509538234742,0.6738867807102984],\"13\":[0.10611920767919494,0.12181554957668445],\"14\":[0.5105351163922321,-0.8194484053520601],\"15\":[-0.8789355187099367,-0.022328245999338588],\"16\":[0.7810416546599005,-0.40472486090092424],\"17\":[-0.6040075819733907,-0.785609675138617],\"19\":[0.7123915087991188,0.6265194206745833],\"2\":[-0.36499363380328526,-0.8625846423930776],\"20\":[0.025244306832056466,0.25347770210427717],\"21\":[-0.9125167552791315,-0.3754412942116253],\"22\":[-0.9715114819546002,0.10738768036571544],\"23\":[0.8682513222228012,-0.12905460396304425],\"24\":[0.35012647698336874,0.8748023074899431],\"25\":[-0.4909446422704122,-0.9037232171159517],\"26\":[-0.8928373864390469,0.4680755986663885],\"27\":[-0.20563757860601053,-0.8476639330661991],\"28\":[-0.8202759939265541,-0.4181811618464514],\"29\":[-0.6565638080566032,-0.6680640895232056],\"3\":[0.7860537583021098,-0.5212319251778621],\"30\":[0.9422837134856542,-0.13513002867441362],\"31\":[-0.9440231896142792,-0.15308866111133798],\"32\":[0.13705852970993881,0.011231702346058161],\"33\":[-0.4430372623925758,0.8495360465158577],\"34\":[-0.9604918762117851,0.22729644557635262],\"35\":[0.9290191336143958,0.2072451003401832],\"36\":[-0.7669228650381645,0.6883834162897109],\"37\":[-0.3151547916093072,0.8564195593002744],\"38\":[0.07667743929318477,0.9182136316483857],\"39\":[-0.7533793080945357,0.3734206685006042],\"4\":[-0.8564731574621547,0.14173804555953737],\"40\":[-0.7715674232844897,0.5458671790526257],\"41\":[0.8976108696125894,0.358872304190682],\"42\":[0.6203490801561006,-0.6974549866839213],\"43\":[-0.2085792874811706,0.8589555049851648],\"45\":[-0.49895692278236137,-0.8001055466785095],\"46\":[0.004541338799211581,-0.9822918775931028],\"47\":[0.41272591442850903,0.7958384342666238],\"48\":[0.24326413533993232,-1.0],\"49\":[0.9504027191666271,0.01586892503360795],\"5\":[0.5131307834597582,0.8297834121536282],\"50\":[0.0790846454657247,-0.25099353452023887],\"51\":[0.1722631576174638,-0.9416439143735272],\"52\":[-0.8957495348892867,-0.25985156651345304],\"53\":[0.554182574684193,0.7264240549785425],\"54\":[0.3993853599668197,-0.8225723072358122],\"55\":[-0.5729609346372706,0.5959817317890599],\"56\":[-0.8892443494483265,0.32269655721939067],\"57\":[0.8914958622203671,-0.3789979928992252],\"58\":[0.0235380304702169,-0.9007323437441],\"59\":[-0.46610680739657684,0.7555506412760644],\"6\":[-0.7968505214819612,-0.5305865436060511],\"60\":[-0.10335640974902727,0.9281625157493155],\"61\":[-0.18778256085111353,4.1657269827638414e-05],\"62\":[0.4208658504109501,-0.9187764609731272],\"63\":[-0.7349506258182752,-0.7394005361047667],\"64\":[0.8994967598973864,-0.23622456927369925],\"65\":[0.9269643251053479,0.08902305103359306],\"66\":[0.7653480906842679,0.5006726820666048],\"67\":[0.19487219029778274,0.9210196078816139],\"68\":[-0.18761649514612938,-0.9686659126368969],\"7\":[0.661316526197309,0.7111045824708674],\"71\":[-0.49956490072558396,-0.01898086698917213],\"72\":[-0.5844281306311176,0.7994565498728495],\"73\":[0.7953714259693269,0.6192563288505615],\"76\":[0.7571368152711124,-0.6049686946436279],\"77\":[-0.050781465766915085,0.8813214672266202],\"8\":[0.8159076728668094,0.4093553013585758],\"9\":[0.7414705464843585,-0.7041344374187278]}},\"id\":\"1020\",\"type\":\"StaticLayoutProvider\"},{\"attributes\":{\"fill_color\":{\"value\":\"mediumpurple\"},\"line_color\":{\"value\":\"mediumpurple\"},\"size\":{\"field\":\"node_size\",\"units\":\"screen\"}},\"id\":\"1034\",\"type\":\"Circle\"},{\"attributes\":{\"source\":{\"id\":\"1009\"}},\"id\":\"1011\",\"type\":\"CDSView\"}],\"root_ids\":[\"1004\"]},\"title\":\"Bokeh Application\",\"version\":\"2.2.3\"}};\n  var render_items = [{\"docid\":\"96939a4e-5ef9-49a5-afd5-388ea6cf991d\",\"root_ids\":[\"1004\"],\"roots\":{\"1004\":\"30447553-6726-454c-bee2-9daed222e933\"}}];\n  root.Bokeh.embed.embed_items_notebook(docs_json, render_items);\n\n  }\n  if (root.Bokeh !== undefined) {\n    embed_document(root);\n  } else {\n    var attempts = 0;\n    var timer = setInterval(function(root) {\n      if (root.Bokeh !== undefined) {\n        clearInterval(timer);\n        embed_document(root);\n      } else {\n        attempts++;\n        if (attempts > 100) {\n          clearInterval(timer);\n          console.log(\"Bokeh: ERROR: Unable to run BokehJS code because BokehJS library is missing\");\n        }\n      }\n    }, 10, root)\n  }\n})(window);",
      "application/vnd.bokehjs_exec.v0+json": ""
     },
     "metadata": {
      "application/vnd.bokehjs_exec.v0+json": {
       "id": "1004"
      }
     }
    }
   ],
   "source": [
    "\n",
    "from bokeh.io import output_notebook, show; output_notebook()\n",
    "from bokeh.models import (BoxSelectTool, Circle, EdgesAndLinkedNodes, HoverTool,\n",
    "                          MultiLine, NodesAndLinkedEdges, Plot, Range1d, TapTool,)\n",
    "from bokeh.plotting import from_networkx\n",
    "\n",
    "plot = Plot(x_range=Range1d(-1.1,1.1), y_range=Range1d(-1.1,1.1))\n",
    "\n",
    "graph_renderer = from_networkx(G, nx.spring_layout(G, k=1), scale=1, center=(0,0))\n",
    "\n",
    "# data\n",
    "graph_renderer.node_renderer.data_source.data['node_size'] = [max(10,v*40) for v in centrality.values()]\n",
    "graph_renderer.edge_renderer.data_source.data['edge_size'] = [max(.1, v*10) for v in edge_widths]\n",
    "\n",
    "# nodes\n",
    "graph_renderer.node_renderer.glyph = Circle(size='node_size', fill_color='lightblue', line_color='white')\n",
    "graph_renderer.node_renderer.selection_glyph = Circle(size='node_size', fill_color='mediumpurple', line_color='mediumpurple')\n",
    "graph_renderer.node_renderer.nonselection_glyph = Circle(size='node_size', fill_color='lightblue', line_color='white')\n",
    "graph_renderer.node_renderer.hover_glyph = Circle(size='node_size', fill_color='mediumpurple', line_color='mediumpurple')\n",
    "\n",
    "# edges\n",
    "graph_renderer.edge_renderer.glyph = MultiLine(line_color=\"#CCCCCC\", line_alpha=0.8, line_width='edge_size')\n",
    "graph_renderer.edge_renderer.selection_glyph = MultiLine(line_color='mediumpurple', line_width='edge_size')\n",
    "graph_renderer.edge_renderer.hover_glyph = MultiLine(line_color='mediumpurple', line_width='edge_size')\n",
    "\n",
    "# tools\n",
    "node_hover_tool = HoverTool(tooltips=[('Label','@label')])\n",
    "plot.add_tools(node_hover_tool, TapTool())\n",
    "graph_renderer.selection_policy = NodesAndLinkedEdges()\n",
    "# graph_renderer.inspection_policy = EdgesAndLinkedNodes()\n",
    "\n",
    "plot.renderers.append(graph_renderer)\n",
    "\n",
    "plot.title.text = \"Interactive co-occurance map of cognitive tests\"\n",
    "show(plot)"
   ]
  },
  {
   "source": [
    "## PyVis plot (interactive)"
   ],
   "cell_type": "markdown",
   "metadata": {}
  },
  {
   "cell_type": "code",
   "execution_count": 9,
   "metadata": {},
   "outputs": [
    {
     "output_type": "execute_result",
     "data": {
      "text/plain": [
       "<IPython.lib.display.IFrame at 0x7fef09b5e4f0>"
      ],
      "text/html": "\n        <iframe\n            width=\"1000px\"\n            height=\"1000px\"\n            src=\"../outputs/cooccurances/map_pyvis.html\"\n            frameborder=\"0\"\n            allowfullscreen\n        ></iframe>\n        "
     },
     "metadata": {},
     "execution_count": 9
    }
   ],
   "source": [
    "from pyvis.network import Network\n",
    "\n",
    "nt = Network(height='1000px', width='1000px', directed=False, notebook=True, heading='Cognitive tests co-occurance map')\n",
    "\n",
    "nt.from_nx(G)\n",
    "\n",
    "for i,n in enumerate(nt.nodes):\n",
    "    n['size'] = max(10, n['centrality'] * 40)\n",
    "    n['color'] = n['community']\n",
    "\n",
    "for e in nt.edges:\n",
    "    e['value'] = e['weight']\n",
    "\n",
    "\n",
    "\n",
    "pyvis_options = \"\"\"\n",
    "var options = {\n",
    "  \"physics\": {\n",
    "    \"barnesHut\": {\n",
    "      \"gravitationalConstant\": 0,\n",
    "      \"centralGravity\": 0,\n",
    "      \"springLength\": 400,\n",
    "      \"springConstant\": 0.1,\n",
    "      \"damping\": 1,\n",
    "      \"avoidOverlap\": 1\n",
    "    }\n",
    "  },\n",
    "  \"nodes\": {\n",
    "    \"color\": {\n",
    "      \"border\": \"white\",\n",
    "      \"background\": \"lightblue\",\n",
    "      \"highlight\": {\n",
    "        \"border\": \"mediumpurple\",\n",
    "        \"background\": \"mediumpurple\"\n",
    "      }\n",
    "    }\n",
    "  },\n",
    "  \"edges\": {\n",
    "    \"arrows\": {\n",
    "      \"to\": {\n",
    "        \"enabled\": true\n",
    "      },\n",
    "      \"from\": {\n",
    "        \"enabled\": true\n",
    "      }\n",
    "    },\n",
    "    \"arrowStrikethrough\": false,\n",
    "    \"color\": {\n",
    "      \"color\": \"#dcdcdc88\",\n",
    "      \"highlight\": \"mediumpurple\",\n",
    "      \"inherit\": false\n",
    "    },\n",
    "    \"smooth\": {\n",
    "      \"type\": \"continuous\",\n",
    "      \"forceDirection\": \"none\"\n",
    "    }\n",
    "  }\n",
    "}\n",
    "\"\"\"\n",
    "\n",
    "nt.set_options(pyvis_options)\n",
    "# nt.show_buttons(filter_=['nodes'])\n",
    "\n",
    "nt.show('../outputs/cooccurances/map_pyvis.html')"
   ]
  },
  {
   "source": [
    "### Plotly Sankey (interactive)"
   ],
   "cell_type": "markdown",
   "metadata": {}
  },
  {
   "cell_type": "code",
   "execution_count": 47,
   "metadata": {},
   "outputs": [
    {
     "output_type": "display_data",
     "data": {
      "text/html": "<div>                            <div id=\"97283e29-0658-44c7-afd9-4f55f6c9225c\" class=\"plotly-graph-div\" style=\"height:525px; width:100%;\"></div>            <script type=\"text/javascript\">                require([\"plotly\"], function(Plotly) {                    window.PLOTLYENV=window.PLOTLYENV || {};                                    if (document.getElementById(\"97283e29-0658-44c7-afd9-4f55f6c9225c\")) {                    Plotly.newPlot(                        \"97283e29-0658-44c7-afd9-4f55f6c9225c\",                        [{\"link\": {\"source\": [0, 0, 0, 0, 0, 0, 0, 0, 1, 2, 2, 13, 13, 13, 13, 13, 13, 13, 20, 22, 27, 31, 32, 32, 32, 32, 32, 32, 32, 32, 32, 32, 32, 32, 33, 33, 33, 36, 36, 36, 40, 40, 48, 48, 49, 50, 50, 50, 50, 50, 56, 56, 61, 61, 61, 61, 61, 61, 61, 61, 61, 62, 62, 66, 66, 67, 67, 71, 71, 71, 71, 71, 71, 71, 71, 77], \"target\": [13, 31, 32, 48, 50, 61, 62, 71, 13, 33, 71, 0, 1, 32, 36, 61, 66, 71, 32, 77, 50, 0, 0, 13, 20, 36, 40, 48, 49, 50, 61, 62, 67, 71, 2, 61, 71, 13, 32, 61, 32, 67, 0, 32, 32, 0, 27, 32, 61, 71, 61, 71, 0, 13, 32, 33, 36, 50, 56, 66, 71, 0, 32, 13, 61, 32, 40, 0, 2, 13, 32, 33, 50, 56, 61, 22], \"value\": [154.0, 167.0, 433.0, 96.0, 189.0, 373.0, 67.0, 222.0, 87.0, 104.0, 143.0, 154.0, 87.0, 384.0, 66.0, 507.0, 52.0, 344.0, 66.0, 299.0, 57.0, 167.0, 433.0, 384.0, 66.0, 108.0, 52.0, 72.0, 89.0, 175.0, 810.0, 80.0, 98.0, 448.0, 104.0, 72.0, 151.0, 66.0, 108.0, 51.0, 52.0, 67.0, 96.0, 72.0, 89.0, 189.0, 57.0, 175.0, 168.0, 184.0, 67.0, 237.0, 373.0, 507.0, 810.0, 72.0, 51.0, 168.0, 67.0, 58.0, 591.0, 67.0, 80.0, 52.0, 58.0, 98.0, 67.0, 222.0, 143.0, 344.0, 448.0, 151.0, 184.0, 237.0, 591.0, 299.0]}, \"node\": {\"color\": \"lightblue\", \"label\": [\"WCST (Wisconsin Card Sort Test)\", \"Span Tasks (Verbal, Arithmetic, Visuospatial)\", \"Letter Fluency\", \"Reading Span Task\", \"Balance Beam Task\", \"RLG (Random Letter Generation Task)\", \"Auditory Attention\", \"Reverse Categorization\", \"Gift Wrap\", \"Anti-Saccade Task\", \"DCCS (Dimentional Change Card Sort)\", \"Sentence Repetition Task\", \"Sentence Completion Task\", \"Digit Span\", \"Simon Says\", \"Corsi-block Span\", \"Backward Span Task\", \"RNG (Random Number Generation Task)\", \"Incompatibility Test\", \"Knock and Tap\", \"Simon Task\", \"Spin the Pots\", \"Delay Choice\", \"AOSpan (Automated Operation Span Task)\", \"Block Span\", \"Odd One Out\", \"Flexibility Test\", \"Reversal Learning\", \"Cued Unpredictable Switch Task\", \"Self Control Schedule\", \"LFT (Lexical Fluency Test)\", \"Sorting Task\", \"Stroop\", \"Category Fluency\", \"PVT (Psychomotor Vigilance Task)\", \"FIST (Flexible Item Selection Task)\", \"N-back\", \"Box Crossing Dual Task\", \"Number-Letter Task\", \"Head-Toes-Knees-Shoulders Tasks\", \"Stop-Signal Task\", \"CNT (Contingency Naming Task)\", \"Letter Monitoring\", \"Boxes Task\", \"D2 Target Detection\", \"CPT (Continuous Performance Task)\", \"MCST (Modified Card Sorting Test)\", \"Object Substitution Task\", \"IGT (Iowa Gambling Task)\", \"Flanker Task\", \"Cognitive Flexibility Task\", \"Local-Global Task\", \"Rspan (Running Span)\", \"Keep Track Task\", \"OSpan (Operating Span)\", \"Hayling Test\", \"Semantic Fluency Test\", \"PEG (Pencil Tapping Task)\", \"Shape School\", \"Counting Span Task\", \"Gift Delay\", \"TMT (Trail Making Test)\", \"Tower of London\", \"Tower of Hanoi\", \"Snack Delay\", \"ANT (Attention Network Test)\", \"LNS (Letter Number Sequencing)\", \"GoNoGo (Digit, Figure)\", \"S-R Compatibility Task\", \"Category Switch Task\", \"Analogy Making Task\", \"Verbal Fluency Task\", \"Delayed Alteration Task\", \"Color Shape Task\", \"Dimension Switching Task\", \"Nine Boxes\", \"Block Design Subtest\", \"Delayed Discounting Task\"], \"line\": {\"color\": \"black\", \"width\": 0.5}, \"pad\": 10, \"thickness\": 10}, \"type\": \"sankey\"}],                        {\"font\": {\"size\": 15}, \"template\": {\"data\": {\"bar\": [{\"error_x\": {\"color\": \"#2a3f5f\"}, \"error_y\": {\"color\": \"#2a3f5f\"}, \"marker\": {\"line\": {\"color\": \"#E5ECF6\", \"width\": 0.5}}, \"type\": \"bar\"}], \"barpolar\": [{\"marker\": {\"line\": {\"color\": \"#E5ECF6\", \"width\": 0.5}}, \"type\": \"barpolar\"}], \"carpet\": [{\"aaxis\": {\"endlinecolor\": \"#2a3f5f\", \"gridcolor\": \"white\", \"linecolor\": \"white\", \"minorgridcolor\": \"white\", \"startlinecolor\": \"#2a3f5f\"}, \"baxis\": {\"endlinecolor\": \"#2a3f5f\", \"gridcolor\": \"white\", \"linecolor\": \"white\", \"minorgridcolor\": \"white\", \"startlinecolor\": \"#2a3f5f\"}, \"type\": \"carpet\"}], \"choropleth\": [{\"colorbar\": {\"outlinewidth\": 0, \"ticks\": \"\"}, \"type\": \"choropleth\"}], \"contour\": [{\"colorbar\": {\"outlinewidth\": 0, \"ticks\": \"\"}, \"colorscale\": [[0.0, \"#0d0887\"], [0.1111111111111111, \"#46039f\"], [0.2222222222222222, \"#7201a8\"], [0.3333333333333333, \"#9c179e\"], [0.4444444444444444, \"#bd3786\"], [0.5555555555555556, \"#d8576b\"], [0.6666666666666666, \"#ed7953\"], [0.7777777777777778, \"#fb9f3a\"], [0.8888888888888888, \"#fdca26\"], [1.0, \"#f0f921\"]], \"type\": \"contour\"}], \"contourcarpet\": [{\"colorbar\": {\"outlinewidth\": 0, \"ticks\": \"\"}, \"type\": \"contourcarpet\"}], \"heatmap\": [{\"colorbar\": {\"outlinewidth\": 0, \"ticks\": \"\"}, \"colorscale\": [[0.0, \"#0d0887\"], [0.1111111111111111, \"#46039f\"], [0.2222222222222222, \"#7201a8\"], [0.3333333333333333, \"#9c179e\"], [0.4444444444444444, \"#bd3786\"], [0.5555555555555556, \"#d8576b\"], [0.6666666666666666, \"#ed7953\"], [0.7777777777777778, \"#fb9f3a\"], [0.8888888888888888, \"#fdca26\"], [1.0, \"#f0f921\"]], \"type\": \"heatmap\"}], \"heatmapgl\": [{\"colorbar\": {\"outlinewidth\": 0, \"ticks\": \"\"}, \"colorscale\": [[0.0, \"#0d0887\"], [0.1111111111111111, \"#46039f\"], [0.2222222222222222, \"#7201a8\"], [0.3333333333333333, \"#9c179e\"], [0.4444444444444444, \"#bd3786\"], [0.5555555555555556, \"#d8576b\"], [0.6666666666666666, \"#ed7953\"], [0.7777777777777778, \"#fb9f3a\"], [0.8888888888888888, \"#fdca26\"], [1.0, \"#f0f921\"]], \"type\": \"heatmapgl\"}], \"histogram\": [{\"marker\": {\"colorbar\": {\"outlinewidth\": 0, \"ticks\": \"\"}}, \"type\": \"histogram\"}], \"histogram2d\": [{\"colorbar\": {\"outlinewidth\": 0, \"ticks\": \"\"}, \"colorscale\": [[0.0, \"#0d0887\"], [0.1111111111111111, \"#46039f\"], [0.2222222222222222, \"#7201a8\"], [0.3333333333333333, \"#9c179e\"], [0.4444444444444444, \"#bd3786\"], [0.5555555555555556, \"#d8576b\"], [0.6666666666666666, \"#ed7953\"], [0.7777777777777778, \"#fb9f3a\"], [0.8888888888888888, \"#fdca26\"], [1.0, \"#f0f921\"]], \"type\": \"histogram2d\"}], \"histogram2dcontour\": [{\"colorbar\": {\"outlinewidth\": 0, \"ticks\": \"\"}, \"colorscale\": [[0.0, \"#0d0887\"], [0.1111111111111111, \"#46039f\"], [0.2222222222222222, \"#7201a8\"], [0.3333333333333333, \"#9c179e\"], [0.4444444444444444, \"#bd3786\"], [0.5555555555555556, \"#d8576b\"], [0.6666666666666666, \"#ed7953\"], [0.7777777777777778, \"#fb9f3a\"], [0.8888888888888888, \"#fdca26\"], [1.0, \"#f0f921\"]], \"type\": \"histogram2dcontour\"}], \"mesh3d\": [{\"colorbar\": {\"outlinewidth\": 0, \"ticks\": \"\"}, \"type\": \"mesh3d\"}], \"parcoords\": [{\"line\": {\"colorbar\": {\"outlinewidth\": 0, \"ticks\": \"\"}}, \"type\": \"parcoords\"}], \"pie\": [{\"automargin\": true, \"type\": \"pie\"}], \"scatter\": [{\"marker\": {\"colorbar\": {\"outlinewidth\": 0, \"ticks\": \"\"}}, \"type\": \"scatter\"}], \"scatter3d\": [{\"line\": {\"colorbar\": {\"outlinewidth\": 0, \"ticks\": \"\"}}, \"marker\": {\"colorbar\": {\"outlinewidth\": 0, \"ticks\": \"\"}}, \"type\": \"scatter3d\"}], \"scattercarpet\": [{\"marker\": {\"colorbar\": {\"outlinewidth\": 0, \"ticks\": \"\"}}, \"type\": \"scattercarpet\"}], \"scattergeo\": [{\"marker\": {\"colorbar\": {\"outlinewidth\": 0, \"ticks\": \"\"}}, \"type\": \"scattergeo\"}], \"scattergl\": [{\"marker\": {\"colorbar\": {\"outlinewidth\": 0, \"ticks\": \"\"}}, \"type\": \"scattergl\"}], \"scattermapbox\": [{\"marker\": {\"colorbar\": {\"outlinewidth\": 0, \"ticks\": \"\"}}, \"type\": \"scattermapbox\"}], \"scatterpolar\": [{\"marker\": {\"colorbar\": {\"outlinewidth\": 0, \"ticks\": \"\"}}, \"type\": \"scatterpolar\"}], \"scatterpolargl\": [{\"marker\": {\"colorbar\": {\"outlinewidth\": 0, \"ticks\": \"\"}}, \"type\": \"scatterpolargl\"}], \"scatterternary\": [{\"marker\": {\"colorbar\": {\"outlinewidth\": 0, \"ticks\": \"\"}}, \"type\": \"scatterternary\"}], \"surface\": [{\"colorbar\": {\"outlinewidth\": 0, \"ticks\": \"\"}, \"colorscale\": [[0.0, \"#0d0887\"], [0.1111111111111111, \"#46039f\"], [0.2222222222222222, \"#7201a8\"], [0.3333333333333333, \"#9c179e\"], [0.4444444444444444, \"#bd3786\"], [0.5555555555555556, \"#d8576b\"], [0.6666666666666666, \"#ed7953\"], [0.7777777777777778, \"#fb9f3a\"], [0.8888888888888888, \"#fdca26\"], [1.0, \"#f0f921\"]], \"type\": \"surface\"}], \"table\": [{\"cells\": {\"fill\": {\"color\": \"#EBF0F8\"}, \"line\": {\"color\": \"white\"}}, \"header\": {\"fill\": {\"color\": \"#C8D4E3\"}, \"line\": {\"color\": \"white\"}}, \"type\": \"table\"}]}, \"layout\": {\"annotationdefaults\": {\"arrowcolor\": \"#2a3f5f\", \"arrowhead\": 0, \"arrowwidth\": 1}, \"autotypenumbers\": \"strict\", \"coloraxis\": {\"colorbar\": {\"outlinewidth\": 0, \"ticks\": \"\"}}, \"colorscale\": {\"diverging\": [[0, \"#8e0152\"], [0.1, \"#c51b7d\"], [0.2, \"#de77ae\"], [0.3, \"#f1b6da\"], [0.4, \"#fde0ef\"], [0.5, \"#f7f7f7\"], [0.6, \"#e6f5d0\"], [0.7, \"#b8e186\"], [0.8, \"#7fbc41\"], [0.9, \"#4d9221\"], [1, \"#276419\"]], \"sequential\": [[0.0, \"#0d0887\"], [0.1111111111111111, \"#46039f\"], [0.2222222222222222, \"#7201a8\"], [0.3333333333333333, \"#9c179e\"], [0.4444444444444444, \"#bd3786\"], [0.5555555555555556, \"#d8576b\"], [0.6666666666666666, \"#ed7953\"], [0.7777777777777778, \"#fb9f3a\"], [0.8888888888888888, \"#fdca26\"], [1.0, \"#f0f921\"]], \"sequentialminus\": [[0.0, \"#0d0887\"], [0.1111111111111111, \"#46039f\"], [0.2222222222222222, \"#7201a8\"], [0.3333333333333333, \"#9c179e\"], [0.4444444444444444, \"#bd3786\"], [0.5555555555555556, \"#d8576b\"], [0.6666666666666666, \"#ed7953\"], [0.7777777777777778, \"#fb9f3a\"], [0.8888888888888888, \"#fdca26\"], [1.0, \"#f0f921\"]]}, \"colorway\": [\"#636efa\", \"#EF553B\", \"#00cc96\", \"#ab63fa\", \"#FFA15A\", \"#19d3f3\", \"#FF6692\", \"#B6E880\", \"#FF97FF\", \"#FECB52\"], \"font\": {\"color\": \"#2a3f5f\"}, \"geo\": {\"bgcolor\": \"white\", \"lakecolor\": \"white\", \"landcolor\": \"#E5ECF6\", \"showlakes\": true, \"showland\": true, \"subunitcolor\": \"white\"}, \"hoverlabel\": {\"align\": \"left\"}, \"hovermode\": \"closest\", \"mapbox\": {\"style\": \"light\"}, \"paper_bgcolor\": \"white\", \"plot_bgcolor\": \"#E5ECF6\", \"polar\": {\"angularaxis\": {\"gridcolor\": \"white\", \"linecolor\": \"white\", \"ticks\": \"\"}, \"bgcolor\": \"#E5ECF6\", \"radialaxis\": {\"gridcolor\": \"white\", \"linecolor\": \"white\", \"ticks\": \"\"}}, \"scene\": {\"xaxis\": {\"backgroundcolor\": \"#E5ECF6\", \"gridcolor\": \"white\", \"gridwidth\": 2, \"linecolor\": \"white\", \"showbackground\": true, \"ticks\": \"\", \"zerolinecolor\": \"white\"}, \"yaxis\": {\"backgroundcolor\": \"#E5ECF6\", \"gridcolor\": \"white\", \"gridwidth\": 2, \"linecolor\": \"white\", \"showbackground\": true, \"ticks\": \"\", \"zerolinecolor\": \"white\"}, \"zaxis\": {\"backgroundcolor\": \"#E5ECF6\", \"gridcolor\": \"white\", \"gridwidth\": 2, \"linecolor\": \"white\", \"showbackground\": true, \"ticks\": \"\", \"zerolinecolor\": \"white\"}}, \"shapedefaults\": {\"line\": {\"color\": \"#2a3f5f\"}}, \"ternary\": {\"aaxis\": {\"gridcolor\": \"white\", \"linecolor\": \"white\", \"ticks\": \"\"}, \"baxis\": {\"gridcolor\": \"white\", \"linecolor\": \"white\", \"ticks\": \"\"}, \"bgcolor\": \"#E5ECF6\", \"caxis\": {\"gridcolor\": \"white\", \"linecolor\": \"white\", \"ticks\": \"\"}}, \"title\": {\"x\": 0.05}, \"xaxis\": {\"automargin\": true, \"gridcolor\": \"white\", \"linecolor\": \"white\", \"ticks\": \"\", \"title\": {\"standoff\": 15}, \"zerolinecolor\": \"white\", \"zerolinewidth\": 2}, \"yaxis\": {\"automargin\": true, \"gridcolor\": \"white\", \"linecolor\": \"white\", \"ticks\": \"\", \"title\": {\"standoff\": 15}, \"zerolinecolor\": \"white\", \"zerolinewidth\": 2}}}, \"title\": {\"text\": \"Co-occurance sankey map (only pairs that co-occured in at least 50 articles)\"}},                        {\"responsive\": true}                    ).then(function(){\n                            \nvar gd = document.getElementById('97283e29-0658-44c7-afd9-4f55f6c9225c');\nvar x = new MutationObserver(function (mutations, observer) {{\n        var display = window.getComputedStyle(gd).display;\n        if (!display || display === 'none') {{\n            console.log([gd, 'removed!']);\n            Plotly.purge(gd);\n            observer.disconnect();\n        }}\n}});\n\n// Listen for the removal of the full notebook cells\nvar notebookContainer = gd.closest('#notebook-container');\nif (notebookContainer) {{\n    x.observe(notebookContainer, {childList: true});\n}}\n\n// Listen for the clearing of the current output cell\nvar outputEl = gd.closest('.output');\nif (outputEl) {{\n    x.observe(outputEl, {childList: true});\n}}\n\n                        })                };                });            </script>        </div>"
     },
     "metadata": {}
    }
   ],
   "source": [
    "import plotly.graph_objects as go\n",
    "\n",
    "# uncomment to open fig in the browser instead of embedding into the notebook\n",
    "# import plotly.io as pio; pio.renderers.default = 'browser'\n",
    "\n",
    "\n",
    "# prep data for sankey\n",
    "cooc_df = pd.DataFrame(cooccurances).unstack().reset_index().rename(columns={'level_0': 'task_i', 'level_1': 'task_j', 0: 'cooccurance'})\n",
    "index_to_test_mapping = {i:c for i,c in enumerate(cognitive_tests)}\n",
    "# df.replace({'task_i': index_to_test_mapping, 'task_j': index_to_test_mapping}, inplace=True)\n",
    "\n",
    "# only pairs that co-occured at least 50 times\n",
    "cooc_df = cooc_df.query('cooccurance > 50')\n",
    "\n",
    "\n",
    "fig = go.Figure(data=[go.Sankey(\n",
    "    node = dict(\n",
    "      pad = 10,\n",
    "      thickness = 10,\n",
    "      line = dict(color = 'black', width = 0.5),\n",
    "      label = cognitive_tests,\n",
    "      color = 'lightblue'\n",
    "    ),\n",
    "    link = dict(\n",
    "      source = cooc_df['task_i'],\n",
    "      target = cooc_df['task_j'],\n",
    "      value = cooc_df['cooccurance']\n",
    "  ))])\n",
    "\n",
    "fig.update_layout(title_text='Co-occurance sankey map (only pairs that co-occured in at least 50 articles)', font_size=15)\n",
    "\n",
    "fig.write_html('../outputs/cooccurances/sankey_map_plotly.html')\n",
    "\n",
    "fig.show()\n"
   ]
  }
 ]
}