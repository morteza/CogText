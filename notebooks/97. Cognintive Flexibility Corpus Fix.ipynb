{
 "metadata": {
  "language_info": {
   "codemirror_mode": {
    "name": "ipython",
    "version": 3
   },
   "file_extension": ".py",
   "mimetype": "text/x-python",
   "name": "python",
   "nbconvert_exporter": "python",
   "pygments_lexer": "ipython3",
   "version": "3.9.4"
  },
  "orig_nbformat": 4,
  "kernelspec": {
   "name": "python3",
   "display_name": "Python 3.9.4 64-bit ('py3': conda)"
  },
  "interpreter": {
   "hash": "5ddcf14c786c671500c086f61f0b66d0417d6c58ff12753e346e191a84f72b84"
  }
 },
 "nbformat": 4,
 "nbformat_minor": 2,
 "cells": [
  {
   "source": [
    "# Cognitive Flexibility Corpus Fix\n",
    "\n",
    "Analysis of PubMed corpora for \"Cognitive Flexibility\" and \"Cognitive Flexibility Test\" produces highly correlated task-construct co-occurances. Here, we are investigating whether it's artificial and due to PubMed querying issues.\n",
    "\n",
    "\n",
    "The following code removes those "
   ],
   "cell_type": "markdown",
   "metadata": {}
  },
  {
   "cell_type": "code",
   "execution_count": 1,
   "metadata": {},
   "outputs": [],
   "source": [
    "from pathlib import Path\n",
    "import numpy as np\n",
    "import pandas as pd\n",
    "\n",
    "from tqdm import tqdm\n",
    "\n",
    "import matplotlib.pyplot as plt\n",
    "import seaborn as sns; sns.set()\n",
    "\n",
    "# DEBUG from itertools import chain\n",
    "# DEBUG pd.set_option('display.max_colwidth', None)"
   ]
  },
  {
   "cell_type": "code",
   "execution_count": 186,
   "metadata": {},
   "outputs": [],
   "source": [
    "test_files = Path('data/pubmed/tests').glob('*Flexibility*')\n",
    "construct_files = Path('data/pubmed/constructs').glob('*Flex*')\n",
    "\n",
    "\n",
    "def select_only_task_related_abstracts(df):\n",
    "    x = df.query('abstract.str.contains(\"flexibility (task|test)\", case=False)')\n",
    "    return x.copy()\n",
    "\n",
    "def select_only_construct_related_abstracts(df):\n",
    "    x = df \\\n",
    "        .query('abstract.notna()') \\\n",
    "        .query('not abstract.str.contains(\"flexibility test\", case=False)') \\\n",
    "        .query('not abstract.str.contains(\"flexibility task\", case=False)')\n",
    "    return x.copy()\n",
    "\n",
    "for fp in test_files: # DEBUG chain(test_files, construct_files):\n",
    "    df = pd.read_csv(fp)\n",
    "    df = df.pipe(select_only_task_related_abstracts)\n",
    "    df.to_csv(fp, index=False)\n",
    "\n",
    "for fp in construct_files:\n",
    "    df = pd.read_csv(fp)\n",
    "    df = df.pipe(select_only_construct_related_abstracts)\n",
    "    df.to_csv(fp, index=False)"
   ]
  },
  {
   "cell_type": "code",
   "execution_count": 158,
   "metadata": {},
   "outputs": [
    {
     "output_type": "execute_result",
     "data": {
      "text/plain": [
       "True"
      ]
     },
     "metadata": {},
     "execution_count": 158
    }
   ],
   "source": [
    "import re\n",
    "\n",
    "bool(re.search('.*(?!xxx).*', 'this is xxx as been'))"
   ]
  }
 ]
}