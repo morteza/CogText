{
 "cells": [
  {
   "cell_type": "markdown",
   "metadata": {},
   "source": [
    "# Topic Embedding\n",
    "\n",
    "To ground documents in an interpretable space, we map document embeddings to a shared topic space. Topic space reflects the underlying structure of the documents, hence, might provide a more interpretable embedding.\n",
    "\n",
    "## Inputs\n",
    "\n",
    "- `data/embeddings/abstracts2023_*.safetensors` safetensors file containing document embeddings.\n",
    "\n",
    "## Outputs\n",
    "\n",
    "- `data/embeddings/abstracts2023_topic-embeddings.nc` contains cluster assignments and membership weights of the documents in the topic space.\n"
   ]
  },
  {
   "cell_type": "code",
   "execution_count": 2,
   "metadata": {},
   "outputs": [
    {
     "ename": "ModuleNotFoundError",
     "evalue": "No module named 'torch'",
     "output_type": "error",
     "traceback": [
      "\u001b[0;31m---------------------------------------------------------------------------\u001b[0m",
      "\u001b[0;31mModuleNotFoundError\u001b[0m                       Traceback (most recent call last)",
      "\u001b[1;32m/Users/morteza/workspace/cogtext/notebooks/4 Topic Embedding.ipynb Cell 2\u001b[0m line \u001b[0;36m6\n\u001b[1;32m      <a href='vscode-notebook-cell:/Users/morteza/workspace/cogtext/notebooks/4%20Topic%20Embedding.ipynb#W1sZmlsZQ%3D%3D?line=1'>2</a>\u001b[0m get_ipython()\u001b[39m.\u001b[39mrun_line_magic(\u001b[39m'\u001b[39m\u001b[39mautoreload\u001b[39m\u001b[39m'\u001b[39m, \u001b[39m'\u001b[39m\u001b[39m3\u001b[39m\u001b[39m'\u001b[39m)\n\u001b[1;32m      <a href='vscode-notebook-cell:/Users/morteza/workspace/cogtext/notebooks/4%20Topic%20Embedding.ipynb#W1sZmlsZQ%3D%3D?line=3'>4</a>\u001b[0m \u001b[39mfrom\u001b[39;00m \u001b[39mpathlib\u001b[39;00m \u001b[39mimport\u001b[39;00m Path\n\u001b[0;32m----> <a href='vscode-notebook-cell:/Users/morteza/workspace/cogtext/notebooks/4%20Topic%20Embedding.ipynb#W1sZmlsZQ%3D%3D?line=5'>6</a>\u001b[0m \u001b[39mimport\u001b[39;00m \u001b[39mtorch\u001b[39;00m\n\u001b[1;32m      <a href='vscode-notebook-cell:/Users/morteza/workspace/cogtext/notebooks/4%20Topic%20Embedding.ipynb#W1sZmlsZQ%3D%3D?line=6'>7</a>\u001b[0m \u001b[39mfrom\u001b[39;00m \u001b[39msafetensors\u001b[39;00m\u001b[39m.\u001b[39;00m\u001b[39mtorch\u001b[39;00m \u001b[39mimport\u001b[39;00m load_file\n\u001b[1;32m      <a href='vscode-notebook-cell:/Users/morteza/workspace/cogtext/notebooks/4%20Topic%20Embedding.ipynb#W1sZmlsZQ%3D%3D?line=7'>8</a>\u001b[0m \u001b[39mfrom\u001b[39;00m \u001b[39msklearn\u001b[39;00m\u001b[39m.\u001b[39;00m\u001b[39mcluster\u001b[39;00m \u001b[39mimport\u001b[39;00m HDBSCAN\n",
      "\u001b[0;31mModuleNotFoundError\u001b[0m: No module named 'torch'"
     ]
    }
   ],
   "source": [
    "%reload_ext autoreload\n",
    "%autoreload 3\n",
    "\n",
    "from pathlib import Path\n",
    "\n",
    "import torch\n",
    "from safetensors.torch import load_file\n",
    "from sklearn.cluster import HDBSCAN\n",
    "from sklearn.pipeline import Pipeline\n",
    "\n",
    "from umap import UMAP\n",
    "import torch\n",
    "import joblib"
   ]
  },
  {
   "cell_type": "markdown",
   "metadata": {},
   "source": [
    "First, make sure all the required embeddings and models are available."
   ]
  },
  {
   "cell_type": "code",
   "execution_count": null,
   "metadata": {},
   "outputs": [],
   "source": [
    "doc_embeddings = load_file('data/embeddings/abstracts2023_jina-embeddings-v2-small-en.safetensors')\n",
    "\n",
    "X = torch.tensor(doc_embeddings.values())"
   ]
  },
  {
   "cell_type": "code",
   "execution_count": null,
   "metadata": {},
   "outputs": [],
   "source": [
    "# project document embeddings to a shared topic space\n",
    "\n",
    "pipe = Pipeline([\n",
    "    ('reduce', UMAP(n_components=5, n_neighbors=15, min_dist=0.0, n_jobs=-1, metric='euclidean')),\n",
    "    ('cluster', HDBSCAN(min_cluster_size=100, min_samples=1, metric='euclidean',\n",
    "                        core_dist_n_jobs=-1, memory=joblib.Memory(location='tmp/hdbscan'), prediction_data=True))\n",
    "])\n",
    "\n",
    "topics = pipe.fit(X)\n",
    "topic_weights = pipe.named_steps['cluster'].probabilities_"
   ]
  },
  {
   "cell_type": "code",
   "execution_count": 6,
   "metadata": {},
   "outputs": [
    {
     "name": "stdout",
     "output_type": "stream",
     "text": [
      "Projected 382855 unique documents to a 515-dimensional topic space, while discarding 172399 noise documents (unassigned to any of the topics).\n"
     ]
    }
   ],
   "source": [
    "# report\n",
    "unassigned_documents = (clusters == -1).sum()\n",
    "\n",
    "print(f'Projected {doc_embeddings.shape[0]} unique documents to a '\n",
    "      f'{weights.shape[1]}-dimensional topic space, '\n",
    "      f'while discarding {unassigned_documents} noise documents (unassigned to any of the topics).')"
   ]
  }
 ],
 "metadata": {
  "kernelspec": {
   "display_name": "cogtext",
   "language": "python",
   "name": "python3"
  },
  "language_info": {
   "codemirror_mode": {
    "name": "ipython",
    "version": 3
   },
   "file_extension": ".py",
   "mimetype": "text/x-python",
   "name": "python",
   "nbconvert_exporter": "python",
   "pygments_lexer": "ipython3",
   "version": "3.11.6"
  },
  "orig_nbformat": 4,
  "vscode": {
   "interpreter": {
    "hash": "9c6d8e22829943183dd37d6e0ea17534c0ca1a31e180ed9f59e3b2e78d2c52b1"
   }
  }
 },
 "nbformat": 4,
 "nbformat_minor": 2
}
