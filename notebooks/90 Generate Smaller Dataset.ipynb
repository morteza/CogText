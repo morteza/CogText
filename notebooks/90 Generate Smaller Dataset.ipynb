{
 "cells": [
  {
   "cell_type": "markdown",
   "metadata": {},
   "source": [
    "Many of analysis steps in the EFO/cogtext project require computational power and enough time to be completed. As a workaround to unblock the reminder steps and proceed with analysis, here we create a dataset of size 20% of the original PubMed abstracts dataset. The original dataset contains more than 500_000 abstracts, along with 300_000 articles in the preprocessed dataset. Here, we limit that to 20% of those sizes. We try to keep at least 1 abstract per label.\n"
   ]
  },
  {
   "cell_type": "code",
   "execution_count": 1,
   "metadata": {},
   "outputs": [],
   "source": [
    "import pandas as pd\n",
    "from tqdm import tqdm"
   ]
  },
  {
   "cell_type": "code",
   "execution_count": 2,
   "metadata": {},
   "outputs": [],
   "source": [
    "# parameters\n",
    "DATASET_NAMES = ['pubmed_abstracts', 'pubmed_abstracts_preprocessed']\n",
    "fraction = .2"
   ]
  },
  {
   "cell_type": "code",
   "execution_count": 3,
   "metadata": {},
   "outputs": [
    {
     "name": "stderr",
     "output_type": "stream",
     "text": [
      "100%|██████████| 2/2 [00:39<00:00, 19.91s/it]"
     ]
    },
    {
     "name": "stdout",
     "output_type": "stream",
     "text": [
      "Done!\n"
     ]
    },
    {
     "name": "stderr",
     "output_type": "stream",
     "text": [
      "\n"
     ]
    }
   ],
   "source": [
    "# load and prep\n",
    "\n",
    "for dataset_name in tqdm(DATASET_NAMES):\n",
    "  PUBMED = pd.read_csv(f'data/{dataset_name}.csv.gz')\n",
    "  PUBMED['original_index'] = PUBMED.index\n",
    "  PUBMED = PUBMED.dropna(subset=['abstract']).reset_index()\n",
    "  PUBMED = PUBMED.rename(columns={'subcategory': 'label'}, errors='ignore')\n",
    "\n",
    "  # sample\n",
    "  if fraction < 1.0:\n",
    "    PUBMED = PUBMED.groupby('label', group_keys=False).apply(\n",
    "        lambda grp: grp.sample(n=max(int(len(grp) * fraction), 1))\n",
    "    )\n",
    "\n",
    "  # save\n",
    "  new_dataset_name = dataset_name.replace('pubmed_', f'pubmed{int(100*fraction)}pct_')\n",
    "  PUBMED.to_csv(f'data/{new_dataset_name}.csv.gz')\n",
    "\n",
    "print('Done!')"
   ]
  }
 ],
 "metadata": {
  "interpreter": {
   "hash": "4d4c55ad0dd25f9ca95e4d49a929aa3f71bfb37020ae570a9996c3e164818202"
  },
  "kernelspec": {
   "display_name": "Python 3.9.7 64-bit ('py3': conda)",
   "name": "python3"
  },
  "language_info": {
   "codemirror_mode": {
    "name": "ipython",
    "version": 3
   },
   "file_extension": ".py",
   "mimetype": "text/x-python",
   "name": "python",
   "nbconvert_exporter": "python",
   "pygments_lexer": "ipython3",
   "version": "3.9.7"
  },
  "orig_nbformat": 4
 },
 "nbformat": 4,
 "nbformat_minor": 2
}
