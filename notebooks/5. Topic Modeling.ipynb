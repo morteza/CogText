{
 "metadata": {
  "language_info": {
   "codemirror_mode": {
    "name": "ipython",
    "version": 3
   },
   "file_extension": ".py",
   "mimetype": "text/x-python",
   "name": "python",
   "nbconvert_exporter": "python",
   "pygments_lexer": "ipython3",
   "version": "3.9.4"
  },
  "orig_nbformat": 2,
  "kernelspec": {
   "name": "python394jvsc74a57bd05ddcf14c786c671500c086f61f0b66d0417d6c58ff12753e346e191a84f72b84",
   "display_name": "Python 3.9.4 64-bit"
  }
 },
 "nbformat": 4,
 "nbformat_minor": 2,
 "cells": [
  {
   "source": [
    "## c-TD-IDF\n",
    "\n",
    "Steps:\n",
    "\n",
    "- cluster (DBSCAN)\n",
    "- dimension reduction\n",
    "- tf-IDF\n",
    "\n",
    "\n",
    "$c\\_td\\_idf = {t_i \\over w_i} \\times log{m \\over {\\Sigma_j^n t_j}}$\n"
   ],
   "cell_type": "markdown",
   "metadata": {}
  },
  {
   "cell_type": "code",
   "execution_count": 2,
   "metadata": {},
   "outputs": [],
   "source": [
    "from bertopic import BERTopic\n",
    "from pathlib import Path\n",
    "from tqdm import tqdm\n",
    "import pandas as pd\n",
    "import spacy\n",
    "import gensim\n",
    "from gensim.models.phrases import ENGLISH_CONNECTOR_WORDS"
   ]
  },
  {
   "cell_type": "code",
   "execution_count": 3,
   "metadata": {},
   "outputs": [],
   "source": [
    "MY_STOP_WORDS = ['study', 'task', 'test']\n",
    "\n",
    "# Note: run this to download the SpaCy model: `python -m spacy download en_core_web_sm`\n",
    "nlp = spacy.load('en_core_web_sm')\n",
    "\n",
    "\n",
    "def preprocess(texts: list[str], corpus_name: str):\n",
    "  \"\"\"Opinionated preprocessing pipeline.\n",
    "\n",
    "  Args:\n",
    "      texts (list[str]): list of texts, each item is one text document.\n",
    "      corpus_name (str): Name of the corpus\n",
    "\n",
    "  Returns:\n",
    "      list[str]: preprocessed documents\n",
    "  \"\"\"\n",
    "  # DEBUG standard preprocessing pipeline\n",
    "  # docs = \\\n",
    "  #   texts['abstract'].progress_apply(lambda abstract: gensim.parsing.preprocess_string(abstract)).to_list()\n",
    "\n",
    "  print('Preprocessing...')\n",
    "\n",
    "  # additional stop words\n",
    "  for stop_word in MY_STOP_WORDS:\n",
    "    lexeme = nlp.vocab[stop_word]\n",
    "    lexeme.is_stop = True\n",
    "\n",
    "  # flake8: noqa: W503\n",
    "  def _clean(doc):\n",
    "    cleaned = []\n",
    "    for token in doc:\n",
    "      if (not token.is_punct\n",
    "          and token.is_alpha\n",
    "          and not token.is_stop\n",
    "          and not token.like_num\n",
    "          and not token.is_space):\n",
    "        cleaned.append(token.lemma_.lower().strip())\n",
    "    return cleaned\n",
    "\n",
    "  docs = tqdm([_clean(txt) for txt in nlp.pipe(texts)], desc='Cleaning docs')\n",
    "\n",
    "  # bigram\n",
    "  ngram_phrases = gensim.models.Phrases(docs, connector_words=ENGLISH_CONNECTOR_WORDS)\n",
    "\n",
    "  # there are cases that a test or construct contains 4 terms; a heuristic is to count spaces in the corpus_name\n",
    "  for _ in range(max(1, 2 + corpus_name.count(' '))):\n",
    "    ngram_phrases = gensim.models.Phrases(ngram_phrases[docs], connector_words=ENGLISH_CONNECTOR_WORDS)\n",
    "\n",
    "  ngram = gensim.models.phrases.Phraser(ngram_phrases)\n",
    "  docs = [' '.join(doc) for doc in ngram[docs]]\n",
    "  # DEBUG filter ngram stop words: docs = [[w for w in doc if w not in my_stop_words] for doc in docs]\n",
    "\n",
    "  return docs\n"
   ]
  },
  {
   "cell_type": "code",
   "execution_count": 4,
   "metadata": {},
   "outputs": [
    {
     "output_type": "stream",
     "name": "stderr",
     "text": [
      "Reading CSV files: 1it [00:00, 16.78it/s]\n",
      "Preprocessing...\n",
      "Cleaning docs: 100%|██████████| 2091/2091 [00:00<00:00, 6529.09it/s]\n"
     ]
    }
   ],
   "source": [
    "csv_files = Path('data/pubmed/tests').glob('N-back.csv')\n",
    "\n",
    "\n",
    "corpora = []\n",
    "\n",
    "for csv_file in tqdm(csv_files, desc='Reading CSV files'):\n",
    "    df = pd.read_csv(csv_file)\n",
    "    df['corpus_name'] = csv_file.stem\n",
    "    corpora.append(df)\n",
    "\n",
    "df = pd.concat(corpora, axis=0)\n",
    "\n",
    "df['abstract'].fillna(df['title'], inplace=True)\n",
    "\n",
    "docs = preprocess(df['abstract'].to_list(), 'Odd One Out')"
   ]
  },
  {
   "cell_type": "code",
   "execution_count": 5,
   "metadata": {},
   "outputs": [
    {
     "output_type": "stream",
     "name": "stderr",
     "text": [
      "Batches: 100%|██████████| 66/66 [04:37<00:00,  4.20s/it]\n",
      "2021-06-07 15:18:22,605 - BERTopic - Transformed documents to Embeddings\n",
      "2021-06-07 15:18:35,779 - BERTopic - Reduced dimensionality with UMAP\n",
      "2021-06-07 15:18:35,843 - BERTopic - Clustered UMAP embeddings with HDBSCAN\n"
     ]
    },
    {
     "output_type": "execute_result",
     "data": {
      "text/plain": [
       "    Topic  Count                                               Name\n",
       "0      -1    840         -1_performance_workmemory_group_activation\n",
       "1       0    188  0_schizophrenia_patientschizophrenia_patient_s...\n",
       "2       1    124                     1_child_adhd_adolescent_school\n",
       "3       2     79          2_activation_increase_activate_functional\n",
       "4       3     58  3_training_fluidintelligence_transfereffect_pe...\n",
       "5       4     57           4_depression_mdd_bipolardisorder_bipolar\n",
       "6       5     57  5_anodaltdcs_currentstimulation_transcranialdi...\n",
       "7       6     56                      6_auditory_speech_sound_noise\n",
       "8       7     48  7_sleep_sleepdeprivation_sleepiness_sleepduration\n",
       "9       8     46                   8_da_receptor_tolcapone_dopamine\n",
       "10      9     44                  9_experiment_dual_stimulus_memory\n",
       "11     10     40                  10_treatment_patient_drug_placebo\n",
       "12     11     37                11_decrease_patient_cbfv_cfssubject\n",
       "13     12     35   12_anxiety_worry_attentionalcontrol_traitanxiety\n",
       "14     13     34                   13_training_decline_oldadult_age\n",
       "15     14     34                   14_smoker_smoking_nicotine_smoke\n",
       "17     15     26  15_exercise_yoga_aerobicexercise_moderateinten...\n",
       "16     16     26   16_emotional_emotion_emotionalstimulus_influence\n",
       "18     17     25                           17_eeg_fmri_signal_light\n",
       "19     18     25           18_driver_driving_drive_driveperformance\n",
       "20     19     22     19_practice_intelligence_training_extraversion\n",
       "21     20     21      20_patient_multiplesclerosis_glioma_mspatient\n",
       "22     21     20                           21_food_diet_eat_dietary\n",
       "23     22     19  22_cannabis_cannabisuse_cannabisuser_intoxication\n",
       "26     23     15                23_rcbf_cognitivefailure_mtbi_group\n",
       "25     24     15        24_alcohol_alcoholconsumption_drinker_drink\n",
       "24     25     15                   25_sex_gender_sexdifference_bdnf\n",
       "27     26     14     26_cocaine_cocaineuse_atomoxetine_pornographic\n",
       "28     27     13  27_pain_attentional_attentionalswitching_chron...\n",
       "29     28     12        28_chemotherapy_cancer_breastcancer_patient\n",
       "30     29     12                   29_auditory_visual_stimulus_ufov\n",
       "31     30     12          30_training_meditation_adaptive_mspatient\n",
       "32     31     11                      31_walk_gait_stride_walkspeed\n",
       "33     32     11  32_bilingual_language_bilingualism_bilingualad..."
      ],
      "text/html": "<div>\n<style scoped>\n    .dataframe tbody tr th:only-of-type {\n        vertical-align: middle;\n    }\n\n    .dataframe tbody tr th {\n        vertical-align: top;\n    }\n\n    .dataframe thead th {\n        text-align: right;\n    }\n</style>\n<table border=\"1\" class=\"dataframe\">\n  <thead>\n    <tr style=\"text-align: right;\">\n      <th></th>\n      <th>Topic</th>\n      <th>Count</th>\n      <th>Name</th>\n    </tr>\n  </thead>\n  <tbody>\n    <tr>\n      <th>0</th>\n      <td>-1</td>\n      <td>840</td>\n      <td>-1_performance_workmemory_group_activation</td>\n    </tr>\n    <tr>\n      <th>1</th>\n      <td>0</td>\n      <td>188</td>\n      <td>0_schizophrenia_patientschizophrenia_patient_s...</td>\n    </tr>\n    <tr>\n      <th>2</th>\n      <td>1</td>\n      <td>124</td>\n      <td>1_child_adhd_adolescent_school</td>\n    </tr>\n    <tr>\n      <th>3</th>\n      <td>2</td>\n      <td>79</td>\n      <td>2_activation_increase_activate_functional</td>\n    </tr>\n    <tr>\n      <th>4</th>\n      <td>3</td>\n      <td>58</td>\n      <td>3_training_fluidintelligence_transfereffect_pe...</td>\n    </tr>\n    <tr>\n      <th>5</th>\n      <td>4</td>\n      <td>57</td>\n      <td>4_depression_mdd_bipolardisorder_bipolar</td>\n    </tr>\n    <tr>\n      <th>6</th>\n      <td>5</td>\n      <td>57</td>\n      <td>5_anodaltdcs_currentstimulation_transcranialdi...</td>\n    </tr>\n    <tr>\n      <th>7</th>\n      <td>6</td>\n      <td>56</td>\n      <td>6_auditory_speech_sound_noise</td>\n    </tr>\n    <tr>\n      <th>8</th>\n      <td>7</td>\n      <td>48</td>\n      <td>7_sleep_sleepdeprivation_sleepiness_sleepduration</td>\n    </tr>\n    <tr>\n      <th>9</th>\n      <td>8</td>\n      <td>46</td>\n      <td>8_da_receptor_tolcapone_dopamine</td>\n    </tr>\n    <tr>\n      <th>10</th>\n      <td>9</td>\n      <td>44</td>\n      <td>9_experiment_dual_stimulus_memory</td>\n    </tr>\n    <tr>\n      <th>11</th>\n      <td>10</td>\n      <td>40</td>\n      <td>10_treatment_patient_drug_placebo</td>\n    </tr>\n    <tr>\n      <th>12</th>\n      <td>11</td>\n      <td>37</td>\n      <td>11_decrease_patient_cbfv_cfssubject</td>\n    </tr>\n    <tr>\n      <th>13</th>\n      <td>12</td>\n      <td>35</td>\n      <td>12_anxiety_worry_attentionalcontrol_traitanxiety</td>\n    </tr>\n    <tr>\n      <th>14</th>\n      <td>13</td>\n      <td>34</td>\n      <td>13_training_decline_oldadult_age</td>\n    </tr>\n    <tr>\n      <th>15</th>\n      <td>14</td>\n      <td>34</td>\n      <td>14_smoker_smoking_nicotine_smoke</td>\n    </tr>\n    <tr>\n      <th>17</th>\n      <td>15</td>\n      <td>26</td>\n      <td>15_exercise_yoga_aerobicexercise_moderateinten...</td>\n    </tr>\n    <tr>\n      <th>16</th>\n      <td>16</td>\n      <td>26</td>\n      <td>16_emotional_emotion_emotionalstimulus_influence</td>\n    </tr>\n    <tr>\n      <th>18</th>\n      <td>17</td>\n      <td>25</td>\n      <td>17_eeg_fmri_signal_light</td>\n    </tr>\n    <tr>\n      <th>19</th>\n      <td>18</td>\n      <td>25</td>\n      <td>18_driver_driving_drive_driveperformance</td>\n    </tr>\n    <tr>\n      <th>20</th>\n      <td>19</td>\n      <td>22</td>\n      <td>19_practice_intelligence_training_extraversion</td>\n    </tr>\n    <tr>\n      <th>21</th>\n      <td>20</td>\n      <td>21</td>\n      <td>20_patient_multiplesclerosis_glioma_mspatient</td>\n    </tr>\n    <tr>\n      <th>22</th>\n      <td>21</td>\n      <td>20</td>\n      <td>21_food_diet_eat_dietary</td>\n    </tr>\n    <tr>\n      <th>23</th>\n      <td>22</td>\n      <td>19</td>\n      <td>22_cannabis_cannabisuse_cannabisuser_intoxication</td>\n    </tr>\n    <tr>\n      <th>26</th>\n      <td>23</td>\n      <td>15</td>\n      <td>23_rcbf_cognitivefailure_mtbi_group</td>\n    </tr>\n    <tr>\n      <th>25</th>\n      <td>24</td>\n      <td>15</td>\n      <td>24_alcohol_alcoholconsumption_drinker_drink</td>\n    </tr>\n    <tr>\n      <th>24</th>\n      <td>25</td>\n      <td>15</td>\n      <td>25_sex_gender_sexdifference_bdnf</td>\n    </tr>\n    <tr>\n      <th>27</th>\n      <td>26</td>\n      <td>14</td>\n      <td>26_cocaine_cocaineuse_atomoxetine_pornographic</td>\n    </tr>\n    <tr>\n      <th>28</th>\n      <td>27</td>\n      <td>13</td>\n      <td>27_pain_attentional_attentionalswitching_chron...</td>\n    </tr>\n    <tr>\n      <th>29</th>\n      <td>28</td>\n      <td>12</td>\n      <td>28_chemotherapy_cancer_breastcancer_patient</td>\n    </tr>\n    <tr>\n      <th>30</th>\n      <td>29</td>\n      <td>12</td>\n      <td>29_auditory_visual_stimulus_ufov</td>\n    </tr>\n    <tr>\n      <th>31</th>\n      <td>30</td>\n      <td>12</td>\n      <td>30_training_meditation_adaptive_mspatient</td>\n    </tr>\n    <tr>\n      <th>32</th>\n      <td>31</td>\n      <td>11</td>\n      <td>31_walk_gait_stride_walkspeed</td>\n    </tr>\n    <tr>\n      <th>33</th>\n      <td>32</td>\n      <td>11</td>\n      <td>32_bilingual_language_bilingualism_bilingualad...</td>\n    </tr>\n  </tbody>\n</table>\n</div>"
     },
     "metadata": {},
     "execution_count": 5
    }
   ],
   "source": [
    "topic_model = BERTopic(verbose=True)\n",
    "topics, _ = topic_model.fit_transform(docs)\n",
    "topic_model.get_topic_info()"
   ]
  },
  {
   "cell_type": "code",
   "execution_count": 6,
   "metadata": {},
   "outputs": [
    {
     "output_type": "execute_result",
     "data": {
      "text/plain": [
       "{-1: [('performance', 0.010888964538598979),\n",
       "  ('workmemory', 0.009720892020278222),\n",
       "  ('group', 0.00953702049354962),\n",
       "  ('activation', 0.00857420752877851),\n",
       "  ('patient', 0.008544621142061939),\n",
       "  ('show', 0.007953325208550764),\n",
       "  ('cognitive', 0.007470983083734355),\n",
       "  ('memory', 0.007309992248294156),\n",
       "  ('fmri', 0.0069166095176036516),\n",
       "  ('brain', 0.0069154893947964745)],\n",
       " 0: [('schizophrenia', 0.05164991204086579),\n",
       "  ('patientschizophrenia', 0.02192184755623473),\n",
       "  ('patient', 0.018884513373034578),\n",
       "  ('schizophreniapatient', 0.01563152149473723),\n",
       "  ('cortex', 0.011935310614606487),\n",
       "  ('psychosis', 0.010549994118156948),\n",
       "  ('dorsolateralprefrontal', 0.010501943471310686),\n",
       "  ('treatment', 0.00970186793034461),\n",
       "  ('schizophrenicpatient', 0.008615256390980824),\n",
       "  ('prefrontalcortex', 0.00812892157621763)],\n",
       " 1: [('child', 0.05466766583895227),\n",
       "  ('adhd', 0.028794282776514257),\n",
       "  ('adolescent', 0.018339723081029307),\n",
       "  ('school', 0.014883090590819511),\n",
       "  ('childadhd', 0.013939385452704492),\n",
       "  ('boy', 0.010550099011763348),\n",
       "  ('childhood', 0.010325481273270602),\n",
       "  ('autism', 0.010127279167713478),\n",
       "  ('hyperactivitydisorder', 0.009555966102574443),\n",
       "  ('attentiondeficit', 0.009285303301117489)],\n",
       " 2: [('activation', 0.01710037721168028),\n",
       "  ('increase', 0.016155273915014763),\n",
       "  ('activate', 0.013995385433684247),\n",
       "  ('functional', 0.012630272013722542),\n",
       "  ('processing', 0.011497741897329584),\n",
       "  ('sfg', 0.010582317710985263),\n",
       "  ('brain', 0.01038350702310855),\n",
       "  ('carrier', 0.010281432775438285),\n",
       "  ('fmri', 0.010097749091347223),\n",
       "  ('cortex', 0.009956339565228563)],\n",
       " 3: [('training', 0.1018990171728562),\n",
       "  ('fluidintelligence', 0.018267516721331117),\n",
       "  ('transfereffect', 0.017176316364241405),\n",
       "  ('performance', 0.014838554278608047),\n",
       "  ('practice', 0.012533678914963138),\n",
       "  ('update', 0.0124745858393587),\n",
       "  ('cognitivetraining', 0.012227911773197464),\n",
       "  ('trainingsession', 0.012041237161063801),\n",
       "  ('skill', 0.011819170228786533),\n",
       "  ('session', 0.011250929256376363)],\n",
       " 4: [('depression', 0.04396673133151197),\n",
       "  ('mdd', 0.02654174846541675),\n",
       "  ('bipolardisorder', 0.024551662291112403),\n",
       "  ('bipolar', 0.022310778163169735),\n",
       "  ('depressed', 0.01825076137774687),\n",
       "  ('depressedpatient', 0.017665331613359255),\n",
       "  ('majordepressive', 0.013581995283625605),\n",
       "  ('disordermdd', 0.01167680611723695),\n",
       "  ('disorder', 0.011103129669858236),\n",
       "  ('impairment', 0.009820274207863841)],\n",
       " 5: [('anodaltdcs', 0.03463934737959152),\n",
       "  ('currentstimulation', 0.02772232105904132),\n",
       "  ('transcranialdirect', 0.026343174207352535),\n",
       "  ('shamtdcs', 0.018308593975124732),\n",
       "  ('tacs', 0.015138889309860504),\n",
       "  ('hdtdcs', 0.014881149838282887),\n",
       "  ('shamstimulation', 0.013089960291259032),\n",
       "  ('ct', 0.011684632036705885),\n",
       "  ('prefrontalcortex', 0.011399096648290608),\n",
       "  ('healthyparticipant', 0.011223253656219241)],\n",
       " 6: [('auditory', 0.056006061677052965),\n",
       "  ('speech', 0.02384742891401756),\n",
       "  ('sound', 0.018946869773546218),\n",
       "  ('noise', 0.018270398544067496),\n",
       "  ('stimulus', 0.01468966631590178),\n",
       "  ('hear', 0.014345095058895089),\n",
       "  ('odor', 0.013780150149482043),\n",
       "  ('odorant', 0.013078252946302759),\n",
       "  ('listen', 0.012122370953678756),\n",
       "  ('auditorycortex', 0.012072233488894853)],\n",
       " 7: [('sleep', 0.10764658912104152),\n",
       "  ('sleepdeprivation', 0.028119450598537155),\n",
       "  ('sleepiness', 0.028035633276502027),\n",
       "  ('sleepduration', 0.023589435976524787),\n",
       "  ('sleepquality', 0.0198798259454682),\n",
       "  ('nap', 0.016681314540579854),\n",
       "  ('sleeploss', 0.013717195783596493),\n",
       "  ('nightsleep', 0.01361788059278151),\n",
       "  ('wake', 0.01361788059278151),\n",
       "  ('deprivation', 0.013150438655196528)],\n",
       " 8: [('da', 0.03008520189927458),\n",
       "  ('receptor', 0.023924853037480164),\n",
       "  ('tolcapone', 0.016959314958696875),\n",
       "  ('dopamine', 0.013060701906196888),\n",
       "  ('repeatallele', 0.012906270849620531),\n",
       "  ('comtgenotype', 0.012019146240570747),\n",
       "  ('dose', 0.011903851579617595),\n",
       "  ('bromocriptine', 0.011584801141873585),\n",
       "  ('tyrosine', 0.011411701999957035),\n",
       "  ('dopamineda', 0.011319897691964896)],\n",
       " 9: [('experiment', 0.02826032080621639),\n",
       "  ('dual', 0.01845197366533887),\n",
       "  ('stimulus', 0.018382601044914702),\n",
       "  ('memory', 0.017714228991454733),\n",
       "  ('trial', 0.017611259292392212),\n",
       "  ('subtask', 0.017347518071572556),\n",
       "  ('context', 0.015933272752477422),\n",
       "  ('complexspan', 0.014604329340365228),\n",
       "  ('consolidation', 0.012172199518685119),\n",
       "  ('focusattention', 0.011155378172547293)],\n",
       " 10: [('treatment', 0.043986867304291986),\n",
       "  ('patient', 0.03225796200157717),\n",
       "  ('drug', 0.020626944529339334),\n",
       "  ('placebo', 0.020155015530810474),\n",
       "  ('pdpatient', 0.018034456353386137),\n",
       "  ('fmri', 0.014620056272109494),\n",
       "  ('clinical', 0.012594791281377225),\n",
       "  ('medication', 0.011789895861879635),\n",
       "  ('divalproex', 0.010923049026315952),\n",
       "  ('antidepressant', 0.010914883642884973)],\n",
       " 11: [('decrease', 0.024092611939010935),\n",
       "  ('patient', 0.022576821622840932),\n",
       "  ('cbfv', 0.020073678297015955),\n",
       "  ('cfssubject', 0.017951943174126503),\n",
       "  ('reduce', 0.01696616632985916),\n",
       "  ('patientpots', 0.013703057947923415),\n",
       "  ('subclinicalthyrotoxicosis', 0.01199017570443299),\n",
       "  ('brainactivation', 0.011909952176008036),\n",
       "  ('supine', 0.01184115145694215),\n",
       "  ('scz', 0.011625223226864238)],\n",
       " 12: [('anxiety', 0.10413057023562704),\n",
       "  ('worry', 0.036126735888601436),\n",
       "  ('attentionalcontrol', 0.03574878548198692),\n",
       "  ('traitanxiety', 0.028901388710881153),\n",
       "  ('fear', 0.015554000494015662),\n",
       "  ('pilot', 0.014144491601488268),\n",
       "  ('threatinterference', 0.013764392328154615),\n",
       "  ('mentalworkload', 0.013649673366329777),\n",
       "  ('stateanxiety', 0.013347522537529528),\n",
       "  ('anxious', 0.01181524740248766)],\n",
       " 13: [('training', 0.03943396328747732),\n",
       "  ('decline', 0.03508762677973711),\n",
       "  ('oldadult', 0.033813924141607304),\n",
       "  ('age', 0.021960953173593385),\n",
       "  ('cognitivetraining', 0.018864401248876027),\n",
       "  ('agerelate', 0.017140319651780884),\n",
       "  ('decrease', 0.016180930263371897),\n",
       "  ('show', 0.01413166523622162),\n",
       "  ('aging', 0.01312843765618263),\n",
       "  ('lifespan', 0.012729017045720537)],\n",
       " 14: [('smoker', 0.1082403005649731),\n",
       "  ('smoking', 0.08505019247357015),\n",
       "  ('nicotine', 0.08060017830903164),\n",
       "  ('smoke', 0.05365874468107748),\n",
       "  ('nicotinedependence', 0.027436257344639066),\n",
       "  ('tobacco', 0.025230678121152865),\n",
       "  ('cigarette', 0.024208462362916825),\n",
       "  ('smokingcessation', 0.017478682430640033),\n",
       "  ('abstinenceinduce', 0.016222118937075314),\n",
       "  ('nicotinewithdrawal', 0.014675989973061613)],\n",
       " 15: [('exercise', 0.13734870146329367),\n",
       "  ('yoga', 0.038681225760024265),\n",
       "  ('aerobicexercise', 0.031850344097979724),\n",
       "  ('moderateintensity', 0.030944980608019416),\n",
       "  ('exerciseintervention', 0.023457285189690025),\n",
       "  ('acuteexercise', 0.017905389691660965),\n",
       "  ('meditativemovement', 0.017905389691660965),\n",
       "  ('fitness', 0.01662285481796266),\n",
       "  ('lightpa', 0.015977444904322714),\n",
       "  ('cardiovascularfitness', 0.015977444904322714)],\n",
       " 16: [('emotional', 0.04644718515511577),\n",
       "  ('emotion', 0.03828304494611082),\n",
       "  ('emotionalstimulus', 0.02887089279912424),\n",
       "  ('influence', 0.026270016603585633),\n",
       "  ('threat', 0.02509273206651238),\n",
       "  ('bias', 0.017844205177658667),\n",
       "  ('threatcue', 0.017688803685719727),\n",
       "  ('behavioral', 0.017476621331763517),\n",
       "  ('emotionalcontent', 0.0174124990502467),\n",
       "  ('personalitytrait', 0.016403707776874468)],\n",
       " 17: [('eeg', 0.04301300725820699),\n",
       "  ('fmri', 0.025351935394739022),\n",
       "  ('signal', 0.021583811448646455),\n",
       "  ('light', 0.01955307643284443),\n",
       "  ('scan', 0.015807605201885785),\n",
       "  ('nirssignal', 0.015569037515947452),\n",
       "  ('highgamma', 0.015375532086405424),\n",
       "  ('analysis', 0.015234727769548765),\n",
       "  ('infraredspectroscopy', 0.013939090020880276),\n",
       "  ('functionalnear', 0.013708870987531702)],\n",
       " 18: [('driver', 0.09257422098047946),\n",
       "  ('driving', 0.07663311179099017),\n",
       "  ('drive', 0.06737856583212978),\n",
       "  ('driveperformance', 0.031516383811950245),\n",
       "  ('drivesimulator', 0.02837701136673541),\n",
       "  ('lane', 0.01690263866572813),\n",
       "  ('car', 0.01663386184007041),\n",
       "  ('lanechange', 0.01663386184007041),\n",
       "  ('simulator', 0.015599512074488358),\n",
       "  ('vehicle', 0.015434872989953738)],\n",
       " 19: [('practice', 0.029196823494407977),\n",
       "  ('intelligence', 0.02762088937272859),\n",
       "  ('training', 0.023794540595129036),\n",
       "  ('extraversion', 0.023158774608038373),\n",
       "  ('memory', 0.015972129680194735),\n",
       "  ('experiment', 0.015914001586126336),\n",
       "  ('update', 0.01494471495787255),\n",
       "  ('research', 0.014620414378748269),\n",
       "  ('ability', 0.014270553587840304),\n",
       "  ('focusattention', 0.01391997791712232)],\n",
       " 20: [('patient', 0.05362552538763981),\n",
       "  ('multiplesclerosis', 0.023686971181919734),\n",
       "  ('glioma', 0.021186149387962504),\n",
       "  ('mspatient', 0.020563911388507234),\n",
       "  ('fmri', 0.020393611409344918),\n",
       "  ('autoantibody', 0.018325101445270015),\n",
       "  ('drgs', 0.016059305972760392),\n",
       "  ('mtbipatient', 0.014728037486898068),\n",
       "  ('cerebellar', 0.014110100319071858),\n",
       "  ('cognitiveimpairment', 0.013130429055084202)],\n",
       " 21: [('food', 0.08159469420005261),\n",
       "  ('diet', 0.042978925242694914),\n",
       "  ('eat', 0.03883173822422376),\n",
       "  ('dietary', 0.028296606282239265),\n",
       "  ('foodcue', 0.02577281853791928),\n",
       "  ('dieting', 0.02391997962803404),\n",
       "  ('foodcraving', 0.021640168127145802),\n",
       "  ('eating', 0.016230126095359353),\n",
       "  ('glucose', 0.015319029976015325),\n",
       "  ('caffeine', 0.015131769798923188)],\n",
       " 22: [('cannabis', 0.1105288908757898),\n",
       "  ('cannabisuse', 0.06158853107303172),\n",
       "  ('cannabisuser', 0.0604420093769785),\n",
       "  ('intoxication', 0.04273708077338661),\n",
       "  ('marijuana', 0.0320138133115775),\n",
       "  ('syntheticcannabinoid', 0.022503792377247978),\n",
       "  ('substanceuse', 0.018712205531111272),\n",
       "  ('cannabistobacco', 0.018200084896652955),\n",
       "  ('tobacco', 0.016475557260658417),\n",
       "  ('tetrahydrocannabinol', 0.015560010832328617)],\n",
       " 23: [('rcbf', 0.03185269337654126),\n",
       "  ('cognitivefailure', 0.01986881593891425),\n",
       "  ('mtbi', 0.019545628572314972),\n",
       "  ('group', 0.017548470094576555),\n",
       "  ('schizotype', 0.016911893147640907),\n",
       "  ('brainactivation', 0.015678823562614384),\n",
       "  ('brain', 0.015434209760054244),\n",
       "  ('individualdifference', 0.015340915884407764),\n",
       "  ('hub', 0.014613985356106975),\n",
       "  ('subgroup', 0.014385430814120337)],\n",
       " 24: [('alcohol', 0.09170254263131183),\n",
       "  ('alcoholconsumption', 0.03644985377128473),\n",
       "  ('drinker', 0.032923400531505234),\n",
       "  ('drink', 0.03192627906337032),\n",
       "  ('bingedrinker', 0.029900646892375364),\n",
       "  ('drinking', 0.02834988626655479),\n",
       "  ('alcoholdependent', 0.02183633374246457),\n",
       "  ('alcoholic', 0.02057712533219077),\n",
       "  ('substanceuse', 0.016838079356023265),\n",
       "  ('alcoholuse', 0.016754328925768475)],\n",
       " 25: [('sex', 0.07997302129985116),\n",
       "  ('gender', 0.03477126133920131),\n",
       "  ('sexdifference', 0.03239752054769144),\n",
       "  ('bdnf', 0.029845480988993568),\n",
       "  ('hormone', 0.026255558352279804),\n",
       "  ('malefemale', 0.022858532289369626),\n",
       "  ('genderdifference', 0.018774326507612286),\n",
       "  ('steroid', 0.018262331700930497),\n",
       "  ('ovarian', 0.016266237117729815),\n",
       "  ('surfacearea', 0.01604595515066746)],\n",
       " 26: [('cocaine', 0.08893406941203416),\n",
       "  ('cocaineuse', 0.07002744774142253),\n",
       "  ('atomoxetine', 0.05480244508540116),\n",
       "  ('pornographic', 0.03738715311140367),\n",
       "  ('modafinil', 0.03719553088655475),\n",
       "  ('cocaineuser', 0.026450029335700034),\n",
       "  ('crackcocaine', 0.026450029335700034),\n",
       "  ('addiction', 0.025574474373187207),\n",
       "  ('heroin', 0.02261323204347193),\n",
       "  ('premorbidiq', 0.020440356869302824)],\n",
       " 27: [('pain', 0.2683972012023335),\n",
       "  ('attentional', 0.04345274903244438),\n",
       "  ('attentionalswitching', 0.03899068391020015),\n",
       "  ('chronicpain', 0.02717362005590743),\n",
       "  ('gulfwar', 0.02566552116270722),\n",
       "  ('attentionalinterference', 0.02403041512328637),\n",
       "  ('tachycardia', 0.022284599594352705),\n",
       "  ('interrupt', 0.019224332098629098),\n",
       "  ('paininhibition', 0.018115746703938288),\n",
       "  ('modulation', 0.017756321272464612)],\n",
       " 28: [('chemotherapy', 0.12466698678316093),\n",
       "  ('cancer', 0.08069532962117051),\n",
       "  ('breastcancer', 0.06652122477628651),\n",
       "  ('patient', 0.04358868009323611),\n",
       "  ('treatment', 0.03216391111346482),\n",
       "  ('cth', 0.027412473548045192),\n",
       "  ('oncology', 0.026811496238777127),\n",
       "  ('cancersurvivor', 0.01874885255846016),\n",
       "  ('bcpatient', 0.01827498236536346),\n",
       "  ('neuropsychologicaltest', 0.01800532676378433)],\n",
       " 29: [('auditory', 0.07021890779327009),\n",
       "  ('visual', 0.04607137130686151),\n",
       "  ('stimulus', 0.04598796987208975),\n",
       "  ('ufov', 0.0354519300760013),\n",
       "  ('sound', 0.0326236438369716),\n",
       "  ('cognitiveload', 0.02580060163194913),\n",
       "  ('eccentricity', 0.023116466505029694),\n",
       "  ('vision', 0.021597188778162274),\n",
       "  ('visualobject', 0.02033771499852728),\n",
       "  ('interference', 0.02018207076653753)],\n",
       " 30: [('training', 0.059833539257011376),\n",
       "  ('meditation', 0.04880294280286861),\n",
       "  ('adaptive', 0.026379639598228272),\n",
       "  ('mspatient', 0.023516532779920992),\n",
       "  ('neurofeedback', 0.02287317031501728),\n",
       "  ('enhancementamplitude', 0.021527908675568433),\n",
       "  ('cognitivetraining', 0.019612152189573694),\n",
       "  ('cdrt', 0.018494285663927065),\n",
       "  ('tennis', 0.01780550177138489),\n",
       "  ('train', 0.017799425987554986)],\n",
       " 31: [('walk', 0.14864502360865214),\n",
       "  ('gait', 0.06667079336030998),\n",
       "  ('stride', 0.06089477881655796),\n",
       "  ('walkspeed', 0.035867338863745095),\n",
       "  ('dualwalking', 0.03088539873613623),\n",
       "  ('walking', 0.027462614071254953),\n",
       "  ('gaitspeed', 0.024797284270080194),\n",
       "  ('ct', 0.02328805138282303),\n",
       "  ('treadmill', 0.01952237677038204),\n",
       "  ('step', 0.01930949583896707)],\n",
       " 32: [('bilingual', 0.16375927301364343),\n",
       "  ('language', 0.09328724349977371),\n",
       "  ('bilingualism', 0.06996694591899308),\n",
       "  ('bilingualadvantage', 0.04695294964401609),\n",
       "  ('interpreter', 0.04305658210399574),\n",
       "  ('english', 0.042576213982241505),\n",
       "  ('monolingualbilingual', 0.04189733811725356),\n",
       "  ('bilingualmonolingual', 0.04189733811725356),\n",
       "  ('bilingualexperience', 0.03671696848602398),\n",
       "  ('interpreting', 0.028374559796812884)]}"
      ]
     },
     "metadata": {},
     "execution_count": 6
    }
   ],
   "source": [
    "topic_model.get_topics()\n",
    "# topic_model.get_topic(0)"
   ]
  },
  {
   "cell_type": "code",
   "execution_count": 7,
   "metadata": {},
   "outputs": [
    {
     "output_type": "stream",
     "name": "stderr",
     "text": [
      "30it [02:39,  5.33s/it]\n"
     ]
    },
    {
     "output_type": "display_data",
     "data": {
      "application/vnd.plotly.v1+json": {
       "config": {
        "plotlyServerURL": "https://plot.ly"
       },
       "data": [
        {
         "hoverinfo": "text",
         "hovertext": [
          "<b>Topic 10</b><br>Words: nursing, care, patient, bedside, staff",
          "<b>Topic 10</b><br>Words: rivastigmine, cholinergic, episodicmemory, dementia, memory",
          "<b>Topic 10</b><br>Words: antidepressant, escitalopram, medication, medicationfree, healthyadult",
          "<b>Topic 10</b><br>Words: levodopa, drug, chei, pdpatient, treatment",
          "<b>Topic 10</b><br>Words: pdpatient, dopaminergictherapy, patient, treatment, pramipexole",
          "<b>Topic 10</b><br>Words: deepbrain, subthalamicnucleus, stimulation, clinical, cognitivemotor",
          "<b>Topic 10</b><br>Words: cognitiveremediation, rehacom, patientschizophrenia, cerebralactivity, cerebralactivation",
          "<b>Topic 10</b><br>Words: divalproex, cpap, risperidone, reliability, treatment",
          "<b>Topic 10</b><br>Words: treatment, depressive, pdpatient, patient, medication",
          "<b>Topic 10</b><br>Words: mmsedigit, capsule, pcc, treatment, associatewell",
          "<b>Topic 10</b><br>Words: delirium, hospital, monthfollow, undergofmri, brainregion",
          "<b>Topic 10</b><br>Words: rosea, saline, treatment, patient, treat",
          "<b>Topic 10</b><br>Words: ghbinduce, oxytocin, treatment, drug, placebo",
          "<b>Topic 10</b><br>Words: treatment, mhealthintervention, patient, intervention, saline",
          "<b>Topic 10</b><br>Words: treatment, placebo, biokesum, electronicmoxibustion, patient",
          "<b>Topic 10</b><br>Words: treatment, lipidprofile, lipid, patient, cognitivedifficulty"
         ],
         "marker": {
          "color": "#E69F00"
         },
         "mode": "lines",
         "name": "10_treatment_patient_drug_placebo",
         "type": "scatter",
         "x": [
          1991,
          2005,
          2006,
          2008,
          2009,
          2010,
          2011,
          2012,
          2013,
          2014,
          2015,
          2016,
          2018,
          2019,
          2020,
          2021
         ],
         "y": [
          1,
          1,
          1,
          2,
          4,
          2,
          1,
          3,
          4,
          1,
          1,
          3,
          2,
          5,
          7,
          2
         ]
        },
        {
         "hoverinfo": "text",
         "hovertext": [
          "<b>Topic 15</b><br>Words: urea, recycle, reincorporate, recycled, reincorporation",
          "<b>Topic 15</b><br>Words: exercise, seated, rest, modify, moderateintensity",
          "<b>Topic 15</b><br>Words: exercise, yoga, aerobicexercise, aerobic, session",
          "<b>Topic 15</b><br>Words: yoga, exercise, acuteexercise, switching, session",
          "<b>Topic 15</b><br>Words: moderateintensity, inhibitorycontrol, cycling, aerobicexercise, cognitivefunction",
          "<b>Topic 15</b><br>Words: exercise, yoga, postexercise, normoxia, supramaximal",
          "<b>Topic 15</b><br>Words: exercise, exerciseintervention, caffeine, skill, moderateintensity",
          "<b>Topic 15</b><br>Words: exercise, aerobicexercise, cognitiveperformance, feeding, carbohydrate",
          "<b>Topic 15</b><br>Words: fitness, bike, anxiety, acuteexercise, acuteaerobic",
          "<b>Topic 15</b><br>Words: exercise, meditativemovement, lightpa, aerobicexercise, moderateintensity",
          "<b>Topic 15</b><br>Words: exercise, gmbf, exerciseintervention, cardiovascularfitness, meditation"
         ],
         "marker": {
          "color": "#56B4E9"
         },
         "mode": "lines",
         "name": "15_exercise_yoga_aerobicexercise_moderat...",
         "type": "scatter",
         "x": [
          1993,
          2012,
          2013,
          2014,
          2015,
          2016,
          2017,
          2018,
          2019,
          2020,
          2021
         ],
         "y": [
          1,
          1,
          1,
          2,
          1,
          3,
          2,
          5,
          2,
          5,
          3
         ]
        },
        {
         "hoverinfo": "text",
         "hovertext": [
          "<b>Topic 0</b><br>Words: multishot, volumetric, sensorimotor, patientschizophrenia, multislice",
          "<b>Topic 0</b><br>Words: schizophrenia, psychiatric, prefrontalcortex, hypofrontality, artifact",
          "<b>Topic 0</b><br>Words: dorsalpfc, neuronalpathology, nacetylaspartate, dorsolateralprefrontal, corticalnetwork",
          "<b>Topic 0</b><br>Words: dorsolateralprefrontal, comparisonsubject, cortex, schizophrenia, pattern",
          "<b>Topic 0</b><br>Words: confound, schizophrenia, cognitiveload, neurobiologicalbasis, responselatency",
          "<b>Topic 0</b><br>Words: schizophrenia, ftcd, patientschizophrenia, schizophrenicpatient, dorsolateralprefrontal",
          "<b>Topic 0</b><br>Words: dopamine, schizophrenia, positivesymptom, schizophrenic, prefrontalcortical",
          "<b>Topic 0</b><br>Words: schizophrenia, patientschizophrenia, muscarinicnicotinic, schizophreniapatient, impairment",
          "<b>Topic 0</b><br>Words: schizophrenia, schizophreniapatient, nucleus, rivastigmine, patientschizophrenia",
          "<b>Topic 0</b><br>Words: schizophrenia, flumazenil, lorazepam, schizophrenicpatient, cortex",
          "<b>Topic 0</b><br>Words: schizophrenia, prepotency, contextprocessing, gammaband, anteriorcingulate",
          "<b>Topic 0</b><br>Words: schizophrenia, schizophrenicpatient, schizophreniapatient, patientschizophrenia, mgkg",
          "<b>Topic 0</b><br>Words: schizophrenia, patientschizophrenia, scanner, schizophreniapatient, psychosis",
          "<b>Topic 0</b><br>Words: schizophrenia, schizophreniapatient, spd, patient, patientschizophrenia",
          "<b>Topic 0</b><br>Words: schizophrenia, iq, schizotypy, schizophreniapatient, amisulpride",
          "<b>Topic 0</b><br>Words: schizophrenia, patientschizophrenia, treatment, endophenotype, schizophreniapatient",
          "<b>Topic 0</b><br>Words: schizophrenia, schizophreniapatient, patient, cognitivetraining, schizoobsessive",
          "<b>Topic 0</b><br>Words: schizophrenia, psychosis, patientschizophrenia, group, healthycontrol",
          "<b>Topic 0</b><br>Words: schizophrenia, patientschizophrenia, aripiprazole, socialanhedonia, negativesymptom",
          "<b>Topic 0</b><br>Words: schizophrenia, patientschizophrenia, transcranialdirect, cognitiveremediation, thetagamma",
          "<b>Topic 0</b><br>Words: schizophrenia, patientschizophrenia, patient, polygenicrisk, aripiprazole",
          "<b>Topic 0</b><br>Words: schizophrenia, schizophreniapatient, patientschizophrenia, anhedonia, treatment",
          "<b>Topic 0</b><br>Words: schizophrenia, patient, patientschizophrenia, impairment, psychosis",
          "<b>Topic 0</b><br>Words: schizophrenia, frontopolarcortex, depressivesymptom, deficit, rightdlpfc"
         ],
         "marker": {
          "color": "#009E73"
         },
         "mode": "lines",
         "name": "0_schizophrenia_patientschizophrenia_pat...",
         "type": "scatter",
         "x": [
          1996,
          1998,
          2000,
          2001,
          2002,
          2003,
          2004,
          2005,
          2006,
          2007,
          2008,
          2009,
          2010,
          2011,
          2012,
          2013,
          2014,
          2015,
          2016,
          2017,
          2018,
          2019,
          2020,
          2021
         ],
         "y": [
          1,
          2,
          2,
          2,
          1,
          8,
          3,
          7,
          6,
          4,
          5,
          9,
          10,
          14,
          7,
          13,
          17,
          11,
          15,
          10,
          10,
          11,
          17,
          3
         ]
        },
        {
         "hoverinfo": "text",
         "hovertext": [
          "<b>Topic 2</b><br>Words: sfs, visuospatial, sfg, superiorfrontal, brainarea",
          "<b>Topic 2</b><br>Words: cortex, sensorimotor, multipleregression, posteriorparietal, voxel",
          "<b>Topic 2</b><br>Words: selectively, ltm, processing, retrieval, mtbipatient",
          "<b>Topic 2</b><br>Words: lppc, lifg, attentionnal, arithmetic, frontoparietal",
          "<b>Topic 2</b><br>Words: pnwm, oxyhb, vlpfc, rng, localize",
          "<b>Topic 2</b><br>Words: inferiorfrontal, middorsolateral, configural, processing, facerecognition",
          "<b>Topic 2</b><br>Words: paradigm, sketch, visospatial, cognitivecontrol, phonologicalloop",
          "<b>Topic 2</b><br>Words: lesion, delay, emotional, spatial, processing",
          "<b>Topic 2</b><br>Words: facial, representation, feature, swedish, temporallobe",
          "<b>Topic 2</b><br>Words: domain, orient, lesion, prefrontalparietal, polymorphism",
          "<b>Topic 2</b><br>Words: dominantsubject, languagedominance, damage, lesion, prefrontalcortex",
          "<b>Topic 2</b><br>Words: lobulevi, viiia, vii, lobe, rotation",
          "<b>Topic 2</b><br>Words: wmspan, gf, emo, executivecontrol, traumaticbrain",
          "<b>Topic 2</b><br>Words: fmri, cognitiveprocess, recruitment, braininjury, activation",
          "<b>Topic 2</b><br>Words: lesion, precede, manipulateinformation, experimentalcondition, medialprefrontal",
          "<b>Topic 2</b><br>Words: network, modularorganization, increase, genetic, lesion",
          "<b>Topic 2</b><br>Words: carrier, femalepm, reconfiguration, executivecognition, cognitiveload",
          "<b>Topic 2</b><br>Words: networkorganization, cerebellar, reconfigure, activation, cerebellum",
          "<b>Topic 2</b><br>Words: rtms, motorcoordination, dacc, sma, rtm",
          "<b>Topic 2</b><br>Words: discourse, glutamateconcentration, context, coherence, prefrontalregion",
          "<b>Topic 2</b><br>Words: carrier, premutation, fxtas, right, increase",
          "<b>Topic 2</b><br>Words: gca, brain, bdnf, restingstate, stressinduction",
          "<b>Topic 2</b><br>Words: dacc, keynode, neuralrepresentation, activation, ocd"
         ],
         "marker": {
          "color": "#F0E442"
         },
         "mode": "lines",
         "name": "2_activation_increase_activate_functiona...",
         "type": "scatter",
         "x": [
          1998,
          2000,
          2001,
          2002,
          2003,
          2004,
          2005,
          2006,
          2007,
          2008,
          2009,
          2010,
          2011,
          2012,
          2013,
          2014,
          2015,
          2016,
          2017,
          2018,
          2019,
          2020,
          2021
         ],
         "y": [
          1,
          2,
          3,
          2,
          3,
          3,
          2,
          3,
          2,
          2,
          2,
          3,
          5,
          6,
          2,
          6,
          4,
          6,
          3,
          2,
          4,
          5,
          8
         ]
        },
        {
         "hoverinfo": "text",
         "hovertext": [
          "<b>Topic 6</b><br>Words: locationpitch, auditory, spatial, interference, disrupt",
          "<b>Topic 6</b><br>Words: audiospatial, auditory, posteriorparietal, soundlocation, spatialnonspatial",
          "<b>Topic 6</b><br>Words: frightened, scornful, astonished, finnish, lingual",
          "<b>Topic 6</b><br>Words: centralexecutive, maintenance, cognitiveimpairment, resultindicate, pacedauditory",
          "<b>Topic 6</b><br>Words: odor, odorless, anteriorinsula, middlefrontal, sniffing",
          "<b>Topic 6</b><br>Words: audioverbal, stimulusonset, stimulationtms, transcranialmagnetic, inferiorparietal",
          "<b>Topic 6</b><br>Words: ac, sound, etal, auditory, pitchmemory",
          "<b>Topic 6</b><br>Words: auditory, soundlocation, sound, parietalcortex, spatial",
          "<b>Topic 6</b><br>Words: mobilephone, sound, soundlocation, ventraldorsal, comparesham",
          "<b>Topic 6</b><br>Words: auditory, spatial, discrimination, memory, visual",
          "<b>Topic 6</b><br>Words: vowel, av, auditory, speech, sms",
          "<b>Topic 6</b><br>Words: ear, selectiveattention, irrelevantinformation, auditory, sound",
          "<b>Topic 6</b><br>Words: auditory, pitchlocation, tone, stimulus, sound",
          "<b>Topic 6</b><br>Words: auditory, signer, hear, deaf, speech",
          "<b>Topic 6</b><br>Words: auditory, blind, cochlear, hear, speechperception",
          "<b>Topic 6</b><br>Words: auditory, odorant, olfactory, lowverbalisable, hearaid",
          "<b>Topic 6</b><br>Words: auditory, speech, backgroundmusic, mouthbreathing, listen",
          "<b>Topic 6</b><br>Words: cognitiveeffort, modality, auditory, auditorycortex, stimulus"
         ],
         "marker": {
          "color": "#D55E00"
         },
         "mode": "lines",
         "name": "6_auditory_speech_sound_noise",
         "type": "scatter",
         "x": [
          1999,
          2000,
          2001,
          2003,
          2007,
          2008,
          2009,
          2010,
          2011,
          2012,
          2013,
          2014,
          2015,
          2016,
          2018,
          2019,
          2020,
          2021
         ],
         "y": [
          1,
          2,
          1,
          1,
          1,
          1,
          2,
          1,
          2,
          2,
          4,
          1,
          8,
          6,
          6,
          8,
          6,
          3
         ]
        },
        {
         "hoverinfo": "text",
         "hovertext": [
          "<b>Topic 9</b><br>Words: modality, corticocortical, conceptualization, unitary, conceptualize",
          "<b>Topic 9</b><br>Words: item, retrieval, matching, focalattention, concurrently",
          "<b>Topic 9</b><br>Words: switching, experiment, focusswitching, sensitivity, mnemonic",
          "<b>Topic 9</b><br>Words: lag, oscillatoryactivity, induce, eeg, estimator",
          "<b>Topic 9</b><br>Words: agedifference, item, information, context, agerelate",
          "<b>Topic 9</b><br>Words: complexspan, variance, focusswitching, format, code",
          "<b>Topic 9</b><br>Words: itemstore, agedifference, availability, focusattention, oldadult",
          "<b>Topic 9</b><br>Words: reasoning, variance, stimulus, context, executivecontrol",
          "<b>Topic 9</b><br>Words: grapheme, color, experiment, inducer, synesthesia",
          "<b>Topic 9</b><br>Words: externalizing, offender, amplitude, trait, incentive",
          "<b>Topic 9</b><br>Words: change, rf, dual, pair, interference",
          "<b>Topic 9</b><br>Words: gate, update, matching, network, switchcost",
          "<b>Topic 9</b><br>Words: judgment, resource, mediummultitaske, memory, cognitivecontrol",
          "<b>Topic 9</b><br>Words: context, trial, experiment, repetition, musician",
          "<b>Topic 9</b><br>Words: subtask, complexspan, transsaccadic, symmetry, sspan",
          "<b>Topic 9</b><br>Words: agerelate, inversion, polarity, subcomponent, longduration",
          "<b>Topic 9</b><br>Words: ppc, stimulation, facilitatory, modality, effect"
         ],
         "marker": {
          "color": "#0072B2"
         },
         "mode": "lines",
         "name": "9_experiment_dual_stimulus_memory",
         "type": "scatter",
         "x": [
          2000,
          2001,
          2005,
          2007,
          2008,
          2009,
          2011,
          2012,
          2013,
          2014,
          2015,
          2016,
          2017,
          2018,
          2019,
          2020,
          2021
         ],
         "y": [
          1,
          2,
          2,
          3,
          4,
          4,
          1,
          2,
          3,
          2,
          4,
          2,
          4,
          5,
          3,
          1,
          1
         ]
        },
        {
         "hoverinfo": "text",
         "hovertext": [
          "<b>Topic 14</b><br>Words: smoker, nicotine, smoke, gum, smoking",
          "<b>Topic 14</b><br>Words: nicotine, smoker, patch, tobacco, smoking",
          "<b>Topic 14</b><br>Words: abstinence, nicotine, abstinencesmoking, smoker, smoking",
          "<b>Topic 14</b><br>Words: smoking, smoker, abstinence, smoke, cigarette",
          "<b>Topic 14</b><br>Words: smoker, smoking, smoke, nicotinedependence, nicotine",
          "<b>Topic 14</b><br>Words: smoker, varenicline, abstinence, smoking, nicotine",
          "<b>Topic 14</b><br>Words: smoker, smoking, nicotine, smoke, drug",
          "<b>Topic 14</b><br>Words: nicotine, smoker, smoking, smoke, abstinence",
          "<b>Topic 14</b><br>Words: smoker, nicotine, smoking, abstinenceinduce, smoke",
          "<b>Topic 14</b><br>Words: smoker, smoking, abstinence, nicotine, smoke",
          "<b>Topic 14</b><br>Words: nicotine, smoking, smoker, abstinence, smoke",
          "<b>Topic 14</b><br>Words: nicotine, tobacco, smoking, smoker, nicotinedependence",
          "<b>Topic 14</b><br>Words: smoker, nicotine, hivinfect, smoking, tobacco",
          "<b>Topic 14</b><br>Words: smoker, urgesmoke, nicotinedependence, smoking, smoke",
          "<b>Topic 14</b><br>Words: abstinence, smoking, smoker, nicotine, smoke"
         ],
         "marker": {
          "color": "#CC79A7"
         },
         "mode": "lines",
         "name": "14_smoker_smoking_nicotine_smoke",
         "type": "scatter",
         "x": [
          2001,
          2004,
          2005,
          2006,
          2009,
          2010,
          2011,
          2012,
          2013,
          2014,
          2015,
          2016,
          2017,
          2018,
          2020
         ],
         "y": [
          1,
          1,
          1,
          2,
          2,
          3,
          2,
          2,
          4,
          5,
          2,
          2,
          2,
          3,
          2
         ]
        },
        {
         "hoverinfo": "text",
         "hovertext": [
          "<b>Topic 1</b><br>Words: child, traumaticbrain, rhyme, falsealarm, adhd",
          "<b>Topic 1</b><br>Words: auditoryvisual, maturity, mastering, audiospatial, maturation",
          "<b>Topic 1</b><br>Words: generator, electrophysiologicalcorrelate, elderlyindividual, stimulusonset, neuron",
          "<b>Topic 1</b><br>Words: autism, child, teacherreport, schoolchild, emotionalinformation",
          "<b>Topic 1</b><br>Words: child, ventralprefrontal, developmental, dorsal, young",
          "<b>Topic 1</b><br>Words: extrafrontal, child, brainactivation, memoryload, frontal",
          "<b>Topic 1</b><br>Words: epilepsy, autism, temporallobe, adolescent, child",
          "<b>Topic 1</b><br>Words: fasd, alcohol, spectrum, fmri, clinical",
          "<b>Topic 1</b><br>Words: child, interferencecontrol, dyslexic, lowload, adolescence",
          "<b>Topic 1</b><br>Words: child, rtvariability, prenatal, maexposure, childadhd",
          "<b>Topic 1</b><br>Words: adhd, child, childadhd, developmentaladhd, adolescent",
          "<b>Topic 1</b><br>Words: child, adolescence, adhd, elbw, verbalspatial",
          "<b>Topic 1</b><br>Words: child, childhoodtrauma, boy, neonatal, childhood",
          "<b>Topic 1</b><br>Words: child, adhd, reinforcement, school, boy",
          "<b>Topic 1</b><br>Words: child, adhd, math, adolescent, childadhd",
          "<b>Topic 1</b><br>Words: child, adhd, school, grammatical, education",
          "<b>Topic 1</b><br>Words: child, adhd, adolescent, parent, childtle",
          "<b>Topic 1</b><br>Words: child, adolescent, timeperception, childadhd, childtle",
          "<b>Topic 1</b><br>Words: child, adhd, adolescent, hippocampus, school",
          "<b>Topic 1</b><br>Words: youth, adolescentepilepsy, psychopathology, orphan, child"
         ],
         "marker": {
          "color": "#E69F00"
         },
         "mode": "lines",
         "name": "1_child_adhd_adolescent_school",
         "type": "scatter",
         "x": [
          2002,
          2003,
          2004,
          2005,
          2006,
          2007,
          2008,
          2009,
          2010,
          2011,
          2012,
          2013,
          2014,
          2015,
          2016,
          2017,
          2018,
          2019,
          2020,
          2021
         ],
         "y": [
          2,
          1,
          1,
          5,
          1,
          1,
          3,
          3,
          6,
          4,
          6,
          7,
          7,
          11,
          10,
          13,
          10,
          13,
          15,
          5
         ]
        },
        {
         "hoverinfo": "text",
         "hovertext": [
          "<b>Topic 8</b><br>Words: patientschizophrenia, receptor, mesocortical, deficiency, defective",
          "<b>Topic 8</b><br>Words: nicotine, midbrain, parietalfrontal, saline, parahippocampalgyrus",
          "<b>Topic 8</b><br>Words: dopamine, receptor, modulator, stimulation, tyrosine",
          "<b>Topic 8</b><br>Words: valcarrier, da, surround, catabolize, sharpen",
          "<b>Topic 8</b><br>Words: repeatallele, da, dopamine, axcpt, ctmt",
          "<b>Topic 8</b><br>Words: uptake, pfcda, tolcapone, urea, prepulse",
          "<b>Topic 8</b><br>Words: tolcapone, rivastigmine, prepulse, domperidone, multiplesclerosis",
          "<b>Topic 8</b><br>Words: serotonin, gene, comtgenotype, serotonergic, uvntr",
          "<b>Topic 8</b><br>Words: receptor, genotype, muscarinic, tolcapone, scopolamine",
          "<b>Topic 8</b><br>Words: da, pku, amphetamine, aripiprazole, receptoroccupancy",
          "<b>Topic 8</b><br>Words: targetdetection, varenicline, receptor, bromocriptine, inpatient",
          "<b>Topic 8</b><br>Words: repeatallele, creative, adhd, adaptivity, neural",
          "<b>Topic 8</b><br>Words: methadone, dose, opiate, treatment, da",
          "<b>Topic 8</b><br>Words: biperiden, chi, aerobics, neuralactivity, cgmp",
          "<b>Topic 8</b><br>Words: dabold, mdd, menopause, nonlinear, dose",
          "<b>Topic 8</b><br>Words: dalanine, thalamus, catecholamine, tyrosine, receptor",
          "<b>Topic 8</b><br>Words: agonist, receptor, bromocriptine, mecamylamine, noradrenergic"
         ],
         "marker": {
          "color": "#56B4E9"
         },
         "mode": "lines",
         "name": "8_da_receptor_tolcapone_dopamine",
         "type": "scatter",
         "x": [
          2002,
          2003,
          2005,
          2006,
          2007,
          2008,
          2009,
          2011,
          2012,
          2013,
          2014,
          2015,
          2016,
          2018,
          2019,
          2020,
          2021
         ],
         "y": [
          1,
          1,
          1,
          1,
          5,
          4,
          2,
          3,
          4,
          4,
          3,
          1,
          2,
          3,
          4,
          3,
          4
         ]
        },
        {
         "hoverinfo": "text",
         "hovertext": [
          "<b>Topic 19</b><br>Words: sentence, memory, clause, complexspan, significantlycorrelate",
          "<b>Topic 19</b><br>Words: focusattention, practice, mcelree, expandable, addressable",
          "<b>Topic 19</b><br>Words: practice, focus, expand, reinvestigate, experiments",
          "<b>Topic 19</b><br>Words: proactiveinterference, recollection, context, semantically, implicationfinding",
          "<b>Topic 19</b><br>Words: fusion, classificationaccuracy, erp, visuallypresent, combinetype",
          "<b>Topic 19</b><br>Words: practice, training, contactcontrol, visualsearch, program",
          "<b>Topic 19</b><br>Words: mentalarithmetic, cognitiveworkload, bias, metaanalytic, focusattention",
          "<b>Topic 19</b><br>Words: regressionmodel, build, regression, classifier, prediction",
          "<b>Topic 19</b><br>Words: psychol, insight, researcher, sci, restructuring",
          "<b>Topic 19</b><br>Words: intelligence, causal, theoretical, mentalworkload, malleability",
          "<b>Topic 19</b><br>Words: trainingprogram, morphometry, expectation, training, cognitivetraining",
          "<b>Topic 19</b><br>Words: eflink, cognitiveload, new, laboratory, feature",
          "<b>Topic 19</b><br>Words: hr, oldadult, backwarddigit, heartrate, span"
         ],
         "marker": {
          "color": "#009E73"
         },
         "mode": "lines",
         "name": "19_practice_intelligence_training_extrav...",
         "type": "scatter",
         "x": [
          2002,
          2004,
          2006,
          2011,
          2012,
          2013,
          2014,
          2015,
          2016,
          2017,
          2018,
          2020,
          2021
         ],
         "y": [
          1,
          1,
          1,
          1,
          1,
          1,
          4,
          2,
          2,
          2,
          2,
          3,
          1
         ]
        },
        {
         "hoverinfo": "text",
         "hovertext": [
          "<b>Topic 7</b><br>Words: sleep, school, sleepefficiency, sleepquality, auditoryvisual",
          "<b>Topic 7</b><br>Words: sd, loaddependent, sleep, sleepdeprivation, occipitalregion",
          "<b>Topic 7</b><br>Words: sleep, dosedependent, dose, absorption, signal",
          "<b>Topic 7</b><br>Words: sleep, sleepiness, daytime, morning, responsetime",
          "<b>Topic 7</b><br>Words: boldfmri, sleep, fingertap, pacedauditory, cerebellarregion",
          "<b>Topic 7</b><br>Words: insufficientsleep, sufficientsleep, sleepiness, sleep, cognitivefunction",
          "<b>Topic 7</b><br>Words: sleep, nap, nocturnal, wake, sleepduration",
          "<b>Topic 7</b><br>Words: sleep, deprivation, cognitiveperformance, sleepdeprivation, circadianphase",
          "<b>Topic 7</b><br>Words: sleep, sleepinertia, blue, light, wake",
          "<b>Topic 7</b><br>Words: sleep, circadianphase, nap, sleepwake, circadian",
          "<b>Topic 7</b><br>Words: sleepreduction, timeday, morning, sleep, middlefrontal",
          "<b>Topic 7</b><br>Words: sleep, sleepiness, sleepquality, night, memory",
          "<b>Topic 7</b><br>Words: shift, sleepiness, work, sleep, day",
          "<b>Topic 7</b><br>Words: sleep, melatonin, sleepduration, sleepdeprivation, sleepiness",
          "<b>Topic 7</b><br>Words: sleep, sleepdeprivation, nightsleep, sleepquality, slowwave",
          "<b>Topic 7</b><br>Words: sleep, sleepduration, sleepdeprivation, sleepquality, sleeploss",
          "<b>Topic 7</b><br>Words: sleep, sleepefficiency, sleeptiming, rtm, letterseries"
         ],
         "marker": {
          "color": "#F0E442"
         },
         "mode": "lines",
         "name": "7_sleep_sleepdeprivation_sleepiness_slee...",
         "type": "scatter",
         "x": [
          2003,
          2005,
          2007,
          2008,
          2009,
          2010,
          2011,
          2012,
          2013,
          2014,
          2015,
          2016,
          2017,
          2018,
          2019,
          2020,
          2021
         ],
         "y": [
          1,
          1,
          1,
          2,
          1,
          2,
          3,
          3,
          2,
          3,
          2,
          3,
          1,
          5,
          5,
          10,
          3
         ]
        },
        {
         "hoverinfo": "text",
         "hovertext": [
          "<b>Topic 4</b><br>Words: depression, depressedpatient, inhibition, executiveprocess, update",
          "<b>Topic 4</b><br>Words: depressedpatient, hypofrontality, lateralprefrontal, cortex, fmriscanning",
          "<b>Topic 4</b><br>Words: bipolardisorder, mdd, healthycontrol, patient, neuropsychological",
          "<b>Topic 4</b><br>Words: mdd, patient, depression, mddpatient, cortex",
          "<b>Topic 4</b><br>Words: bipolardisorder, monotherapy, brainactivation, cluster, educationallevel",
          "<b>Topic 4</b><br>Words: psychosis, decode, lateralprefrontal, acuteepisode, frontallobe",
          "<b>Topic 4</b><br>Words: moodstate, bipolar, depression, bipolardisorder, cortex",
          "<b>Topic 4</b><br>Words: cardiac, mdd, electrocardiographic, healthyfemale, cortex",
          "<b>Topic 4</b><br>Words: bipolardisorder, distracter, rmddpatient, emotionaldistracter, attentionalcontrol",
          "<b>Topic 4</b><br>Words: suicidalbehavior, depression, bipolar, depressed, failuredeactivation",
          "<b>Topic 4</b><br>Words: parkinsondisease, emotionalfacial, remitdepressed, bilateralhippocampus, facialexpression",
          "<b>Topic 4</b><br>Words: depression, bipolar, mdd, bipolardisorder, cortex",
          "<b>Topic 4</b><br>Words: psychoticdisorder, transdiagnostic, bipolardisorder, psychoticsymptom, cognitivelypreserve",
          "<b>Topic 4</b><br>Words: mdd, depression, bipolar, mddpatient, cognitiveperformance",
          "<b>Topic 4</b><br>Words: depression, mdd, depressed, hiv, depressedpatient",
          "<b>Topic 4</b><br>Words: depression, mdd, illness, depressed, volumetric",
          "<b>Topic 4</b><br>Words: depression, pain, ptss, depressed, depressedpatient",
          "<b>Topic 4</b><br>Words: tbs, highgamma, adhd, mdd, affectivesymptom"
         ],
         "marker": {
          "color": "#D55E00"
         },
         "mode": "lines",
         "name": "4_depression_mdd_bipolardisorder_bipolar",
         "type": "scatter",
         "x": [
          2004,
          2005,
          2006,
          2007,
          2008,
          2009,
          2010,
          2011,
          2012,
          2013,
          2014,
          2015,
          2016,
          2017,
          2018,
          2019,
          2020,
          2021
         ],
         "y": [
          1,
          1,
          2,
          2,
          4,
          3,
          2,
          1,
          3,
          5,
          2,
          6,
          3,
          6,
          5,
          3,
          5,
          3
         ]
        },
        {
         "hoverinfo": "text",
         "hovertext": [
          "<b>Topic 11</b><br>Words: brainactivation, lesions, frontal, relapseremit, temporaloccipital",
          "<b>Topic 11</b><br>Words: oldsubject, young, prefrontalcortical, subjectperform, performworse",
          "<b>Topic 11</b><br>Words: subclinicalthyrotoxicosis, subscale, healthstatus, hypothyroidsubject, tbi",
          "<b>Topic 11</b><br>Words: methylphenidate, brainactivation, tbi, treatment, injurytbi",
          "<b>Topic 11</b><br>Words: oscillatoryactivity, gamma, pdpatient, patientscz, visualobject",
          "<b>Topic 11</b><br>Words: wmload, wmcapacity, impairment, erpcomponent, electroencephalogram",
          "<b>Topic 11</b><br>Words: cfssubject, cbfv, ccp, tilt, orthostasis",
          "<b>Topic 11</b><br>Words: lesion, posterolateral, adhd, dualcondition, cerebellar",
          "<b>Topic 11</b><br>Words: gammaoscillation, phenylephrine, cbfv, cfssubject, hypocapnia",
          "<b>Topic 11</b><br>Words: patientpots, neurovascularcoupling, arterialpressure, functionalhyperemia, affective",
          "<b>Topic 11</b><br>Words: agonist, hiv, lowdose, cogstate, neuralnetwork",
          "<b>Topic 11</b><br>Words: tyrosine, parkinsondisease, patient, levodopa, replacementtherapy",
          "<b>Topic 11</b><br>Words: executivenetwork, walkspeed, adhd, adhdsymptom, deactivation",
          "<b>Topic 11</b><br>Words: electroconvulsivetherapy, sick, levothyroxine, cognitivedecline, dosage",
          "<b>Topic 11</b><br>Words: biperiden, tilt, medication, reactiontime, patient",
          "<b>Topic 11</b><br>Words: lf, pep, hf, sympathetic, brs"
         ],
         "marker": {
          "color": "#0072B2"
         },
         "mode": "lines",
         "name": "11_decrease_patient_cbfv_cfssubject",
         "type": "scatter",
         "x": [
          2004,
          2006,
          2008,
          2009,
          2010,
          2011,
          2012,
          2013,
          2014,
          2015,
          2016,
          2017,
          2018,
          2019,
          2020,
          2021
         ],
         "y": [
          2,
          1,
          2,
          1,
          2,
          1,
          2,
          3,
          2,
          2,
          2,
          5,
          3,
          5,
          3,
          1
         ]
        },
        {
         "hoverinfo": "text",
         "hovertext": [
          "<b>Topic 3</b><br>Words: recollection, training, repeat, interval, orderpointing",
          "<b>Topic 3</b><br>Words: training, perisylvian, cognitiveprocess, plasticity, improve",
          "<b>Topic 3</b><br>Words: training, visuomotoradaptation, fluidintelligence, trainer, resource",
          "<b>Topic 3</b><br>Words: training, transfer, adaptivedual, focusattention, untrained",
          "<b>Topic 3</b><br>Words: training, transfer, skill, nontrained, train",
          "<b>Topic 3</b><br>Words: training, interpreter, trainingsession, interpreting, controlgroup",
          "<b>Topic 3</b><br>Words: training, transfer, flight, train, fluidintelligence",
          "<b>Topic 3</b><br>Words: training, speller, motivationalfeature, metaanalysis, transfereffect",
          "<b>Topic 3</b><br>Words: training, update, updating, strategyinstruction, trial",
          "<b>Topic 3</b><br>Words: training, practice, untrained, task, fluidintelligence",
          "<b>Topic 3</b><br>Words: training, task, performance, untrained, transfereffect",
          "<b>Topic 3</b><br>Words: training, transfer, train, session, transfereffect"
         ],
         "marker": {
          "color": "#CC79A7"
         },
         "mode": "lines",
         "name": "3_training_fluidintelligence_transfereff...",
         "type": "scatter",
         "x": [
          2005,
          2011,
          2012,
          2013,
          2014,
          2015,
          2016,
          2017,
          2018,
          2019,
          2020,
          2021
         ],
         "y": [
          1,
          1,
          3,
          2,
          3,
          5,
          6,
          6,
          4,
          7,
          13,
          7
         ]
        },
        {
         "hoverinfo": "text",
         "hovertext": [
          "<b>Topic 13</b><br>Words: estrogen, neuropsychological, executivefunction, healthypostmenopausal, hippocampalfunction",
          "<b>Topic 13</b><br>Words: decline, oldadult, target, fullyunderstand, lag",
          "<b>Topic 13</b><br>Words: efficiency, workingmemory, oldadult, aging, agerelate",
          "<b>Topic 13</b><br>Words: decline, circle, lifespan, decay, judge",
          "<b>Topic 13</b><br>Words: dualgait, physiological, easy, learning, multicomponent",
          "<b>Topic 13</b><br>Words: middleage, genotype, middleaged, gene, age",
          "<b>Topic 13</b><br>Words: training, oldadult, wmtraining, decline, show",
          "<b>Topic 13</b><br>Words: dcon, training, oldadult, decline, transfereffect",
          "<b>Topic 13</b><br>Words: cognitivetraining, estimation, ctg, retrospective, training",
          "<b>Topic 13</b><br>Words: training, decline, oldadult, pregnancy, cognitivetraining",
          "<b>Topic 13</b><br>Words: training, iron, postpartumwoman, decline, updateinhibition",
          "<b>Topic 13</b><br>Words: lutealphase, ovulatory, phase, frontostriatal, hormone"
         ],
         "marker": {
          "color": "#E69F00"
         },
         "mode": "lines",
         "name": "13_training_decline_oldadult_age",
         "type": "scatter",
         "x": [
          2006,
          2009,
          2012,
          2013,
          2014,
          2015,
          2016,
          2017,
          2018,
          2019,
          2020,
          2021
         ],
         "y": [
          1,
          1,
          2,
          1,
          2,
          1,
          5,
          4,
          4,
          7,
          5,
          1
         ]
        },
        {
         "hoverinfo": "text",
         "hovertext": [
          "<b>Topic 16</b><br>Words: negativeemotion, behavioral, spatialverbal, emotional, spatial",
          "<b>Topic 16</b><br>Words: prosody, emotional, emotion, lexico, malefemale",
          "<b>Topic 16</b><br>Words: aggressive, trait, aggression, executivefunction, behavioral",
          "<b>Topic 16</b><br>Words: emotional, stimulus, influence, emotion, emotionalcontent",
          "<b>Topic 16</b><br>Words: emotionalstimulus, mask, emotion, highload, stimulus",
          "<b>Topic 16</b><br>Words: cue, bias, unpleasant, emotional, emotionalstimulus",
          "<b>Topic 16</b><br>Words: threat, emotional, influence, cortex, emotion",
          "<b>Topic 16</b><br>Words: emotion, adaptive, emotionalcontent, emotionalfacial, emotional",
          "<b>Topic 16</b><br>Words: lur, slower, negativeemotion, recollection, youngold",
          "<b>Topic 16</b><br>Words: preference, dividedattention, emotionregulation, prioritize, positivity",
          "<b>Topic 16</b><br>Words: threatcue, personalitytrait, emotionalstate, emotionalstimulus, emotion",
          "<b>Topic 16</b><br>Words: experiential, strategic, affective, participantcomplete, responsetime"
         ],
         "marker": {
          "color": "#56B4E9"
         },
         "mode": "lines",
         "name": "16_emotional_emotion_emotionalstimulus_i...",
         "type": "scatter",
         "x": [
          2006,
          2007,
          2011,
          2013,
          2014,
          2015,
          2016,
          2017,
          2018,
          2019,
          2020,
          2021
         ],
         "y": [
          2,
          2,
          3,
          7,
          1,
          2,
          2,
          1,
          1,
          1,
          3,
          1
         ]
        },
        {
         "hoverinfo": "text",
         "hovertext": [
          "<b>Topic 17</b><br>Words: optical, hitachi, japan, ventro, concentrationoxygenate",
          "<b>Topic 17</b><br>Words: simultaneouseeg, eeg, fmri, interpretation, signal",
          "<b>Topic 17</b><br>Words: interpersonal, detectable, brainconnectivity, coherence, brain",
          "<b>Topic 17</b><br>Words: als, eeg, hz, oxygenation, frequencyband",
          "<b>Topic 17</b><br>Words: fnirs, eeg, signal, fmri, filter",
          "<b>Topic 17</b><br>Words: oximetry, intraoperative, anesthesia, poland, lodz",
          "<b>Topic 17</b><br>Words: blue, light, iccs, wireless, amber",
          "<b>Topic 17</b><br>Words: nirssignal, mwl, eeg, tissue, hemoglobin",
          "<b>Topic 17</b><br>Words: dataset, eeg, spectralpower, hemodynamicresponse, analysis",
          "<b>Topic 17</b><br>Words: highgamma, fusion, component, signal, fmri",
          "<b>Topic 17</b><br>Words: light, fmri, flicker, hzpower, subjectivesleepiness",
          "<b>Topic 17</b><br>Words: fnirsdatum, session, rnn, adaptation, domain"
         ],
         "marker": {
          "color": "#009E73"
         },
         "mode": "lines",
         "name": "17_eeg_fmri_signal_light",
         "type": "scatter",
         "x": [
          2008,
          2009,
          2012,
          2013,
          2014,
          2015,
          2016,
          2017,
          2018,
          2019,
          2020,
          2021
         ],
         "y": [
          1,
          1,
          1,
          2,
          4,
          2,
          4,
          2,
          1,
          4,
          2,
          1
         ]
        },
        {
         "hoverinfo": "text",
         "hovertext": [
          "<b>Topic 18</b><br>Words: driving, driveperformance, drive, drivesimulator, braking",
          "<b>Topic 18</b><br>Words: cardiac, driveperformance, driving, lane, attentionaldemand",
          "<b>Topic 18</b><br>Words: hpost, brake, driving, drive, drivesimulator",
          "<b>Topic 18</b><br>Words: driver, simulator, processspeed, drive, mentalflexibility",
          "<b>Topic 18</b><br>Words: driver, drive, pd, driving, mentalflexibility",
          "<b>Topic 18</b><br>Words: lanechange, wmcapacity, distraction, driver, drive",
          "<b>Topic 18</b><br>Words: driver, driving, drive, automation, ttc",
          "<b>Topic 18</b><br>Words: driver, wmllevel, drive, driving, mentalworkload",
          "<b>Topic 18</b><br>Words: cognitivedistraction, driving, mentalworkload, drive, simulateddriving",
          "<b>Topic 18</b><br>Words: driver, driving, drive, automatedriving, drivesimulator",
          "<b>Topic 18</b><br>Words: driving, drive, driver, automatedriving, driveperformance"
         ],
         "marker": {
          "color": "#F0E442"
         },
         "mode": "lines",
         "name": "18_driver_driving_drive_driveperformance",
         "type": "scatter",
         "x": [
          2008,
          2009,
          2010,
          2011,
          2013,
          2014,
          2017,
          2018,
          2019,
          2020,
          2021
         ],
         "y": [
          1,
          1,
          1,
          1,
          2,
          1,
          5,
          3,
          2,
          6,
          2
         ]
        },
        {
         "hoverinfo": "text",
         "hovertext": [
          "<b>Topic 12</b><br>Words: worry, traitanxiety, anxiety, fearful, attentionalcontrol",
          "<b>Topic 12</b><br>Words: anxiety, optimism, emotional, emotion, cognitiveload",
          "<b>Topic 12</b><br>Words: anxiety, distress, executivefunction, disrupt, verbalspatial",
          "<b>Topic 12</b><br>Words: attentionalcontrol, worry, hps, anxiety, uncontrollable",
          "<b>Topic 12</b><br>Words: anxiety, attentionalcontrol, currentpsychopathology, traitanxiety, heartrate",
          "<b>Topic 12</b><br>Words: anxiety, threat, mentalworkload, traitanxiety, attentionalcontrol",
          "<b>Topic 12</b><br>Words: anxiety, fear, worry, attentionalcontrol, threat",
          "<b>Topic 12</b><br>Words: anxiety, flight, threatinterference, pilot, traitanxiety",
          "<b>Topic 12</b><br>Words: anxiety, pandemic, anxietydepression, threaten, attentionalcontrol"
         ],
         "marker": {
          "color": "#D55E00"
         },
         "mode": "lines",
         "name": "12_anxiety_worry_attentionalcontrol_trai...",
         "type": "scatter",
         "x": [
          2009,
          2012,
          2013,
          2014,
          2016,
          2017,
          2018,
          2019,
          2020
         ],
         "y": [
          2,
          2,
          2,
          1,
          8,
          6,
          6,
          5,
          3
         ]
        },
        {
         "hoverinfo": "text",
         "hovertext": [
          "<b>Topic 5</b><br>Words: extraverted, mgcaffeine, counterbalanceorder, relativeplacebo, blindplacebo",
          "<b>Topic 5</b><br>Words: anodaltdcs, stimulation, shamtdcs, enhance, currentstimulation",
          "<b>Topic 5</b><br>Words: modulation, rightcathodal, currentstimulation, transcranialdirect, wmload",
          "<b>Topic 5</b><br>Words: ct, activesham, currentstimulation, transcranialdirect, enhancement",
          "<b>Topic 5</b><br>Words: ct, onlinetdcs, anodaltdcs, offlinetdcs, transcranialdirect",
          "<b>Topic 5</b><br>Words: metaplasticity, gammaoscillation, anodaltdcs, cathodaltdcs, currentstimulation",
          "<b>Topic 5</b><br>Words: online, dementia, anodaltdcs, vascular, transcranialdirect",
          "<b>Topic 5</b><br>Words: tdcs, stimulation, anodaltdcs, currentstimulation, transcranialdirect",
          "<b>Topic 5</b><br>Words: tdcs, stimulation, hdtdcs, anodaltdcs, transcranialdirect",
          "<b>Topic 5</b><br>Words: stimulation, currentstimulation, transcranialdirect, anodaltdcs, leftdorsolateral",
          "<b>Topic 5</b><br>Words: stimulation, electricfield, enhance, currentstimulation, anodaltdcs",
          "<b>Topic 5</b><br>Words: tdcs, method, nback, spatial, singlesession"
         ],
         "marker": {
          "color": "#0072B2"
         },
         "mode": "lines",
         "name": "5_anodaltdcs_currentstimulation_transcra...",
         "type": "scatter",
         "x": [
          2010,
          2011,
          2012,
          2013,
          2014,
          2015,
          2016,
          2017,
          2018,
          2019,
          2020,
          2021
         ],
         "y": [
          1,
          4,
          1,
          2,
          2,
          4,
          4,
          11,
          5,
          7,
          14,
          2
         ]
        }
       ],
       "layout": {
        "height": 450,
        "hoverlabel": {
         "bgcolor": "white",
         "font": {
          "family": "Rockwell",
          "size": 16
         }
        },
        "legend": {
         "title": {
          "text": "<b>Global Topic Representation"
         }
        },
        "template": {
         "data": {
          "bar": [
           {
            "error_x": {
             "color": "rgb(36,36,36)"
            },
            "error_y": {
             "color": "rgb(36,36,36)"
            },
            "marker": {
             "line": {
              "color": "white",
              "width": 0.5
             }
            },
            "type": "bar"
           }
          ],
          "barpolar": [
           {
            "marker": {
             "line": {
              "color": "white",
              "width": 0.5
             }
            },
            "type": "barpolar"
           }
          ],
          "carpet": [
           {
            "aaxis": {
             "endlinecolor": "rgb(36,36,36)",
             "gridcolor": "white",
             "linecolor": "white",
             "minorgridcolor": "white",
             "startlinecolor": "rgb(36,36,36)"
            },
            "baxis": {
             "endlinecolor": "rgb(36,36,36)",
             "gridcolor": "white",
             "linecolor": "white",
             "minorgridcolor": "white",
             "startlinecolor": "rgb(36,36,36)"
            },
            "type": "carpet"
           }
          ],
          "choropleth": [
           {
            "colorbar": {
             "outlinewidth": 1,
             "tickcolor": "rgb(36,36,36)",
             "ticks": "outside"
            },
            "type": "choropleth"
           }
          ],
          "contour": [
           {
            "colorbar": {
             "outlinewidth": 1,
             "tickcolor": "rgb(36,36,36)",
             "ticks": "outside"
            },
            "colorscale": [
             [
              0,
              "#440154"
             ],
             [
              0.1111111111111111,
              "#482878"
             ],
             [
              0.2222222222222222,
              "#3e4989"
             ],
             [
              0.3333333333333333,
              "#31688e"
             ],
             [
              0.4444444444444444,
              "#26828e"
             ],
             [
              0.5555555555555556,
              "#1f9e89"
             ],
             [
              0.6666666666666666,
              "#35b779"
             ],
             [
              0.7777777777777778,
              "#6ece58"
             ],
             [
              0.8888888888888888,
              "#b5de2b"
             ],
             [
              1,
              "#fde725"
             ]
            ],
            "type": "contour"
           }
          ],
          "contourcarpet": [
           {
            "colorbar": {
             "outlinewidth": 1,
             "tickcolor": "rgb(36,36,36)",
             "ticks": "outside"
            },
            "type": "contourcarpet"
           }
          ],
          "heatmap": [
           {
            "colorbar": {
             "outlinewidth": 1,
             "tickcolor": "rgb(36,36,36)",
             "ticks": "outside"
            },
            "colorscale": [
             [
              0,
              "#440154"
             ],
             [
              0.1111111111111111,
              "#482878"
             ],
             [
              0.2222222222222222,
              "#3e4989"
             ],
             [
              0.3333333333333333,
              "#31688e"
             ],
             [
              0.4444444444444444,
              "#26828e"
             ],
             [
              0.5555555555555556,
              "#1f9e89"
             ],
             [
              0.6666666666666666,
              "#35b779"
             ],
             [
              0.7777777777777778,
              "#6ece58"
             ],
             [
              0.8888888888888888,
              "#b5de2b"
             ],
             [
              1,
              "#fde725"
             ]
            ],
            "type": "heatmap"
           }
          ],
          "heatmapgl": [
           {
            "colorbar": {
             "outlinewidth": 1,
             "tickcolor": "rgb(36,36,36)",
             "ticks": "outside"
            },
            "colorscale": [
             [
              0,
              "#440154"
             ],
             [
              0.1111111111111111,
              "#482878"
             ],
             [
              0.2222222222222222,
              "#3e4989"
             ],
             [
              0.3333333333333333,
              "#31688e"
             ],
             [
              0.4444444444444444,
              "#26828e"
             ],
             [
              0.5555555555555556,
              "#1f9e89"
             ],
             [
              0.6666666666666666,
              "#35b779"
             ],
             [
              0.7777777777777778,
              "#6ece58"
             ],
             [
              0.8888888888888888,
              "#b5de2b"
             ],
             [
              1,
              "#fde725"
             ]
            ],
            "type": "heatmapgl"
           }
          ],
          "histogram": [
           {
            "marker": {
             "line": {
              "color": "white",
              "width": 0.6
             }
            },
            "type": "histogram"
           }
          ],
          "histogram2d": [
           {
            "colorbar": {
             "outlinewidth": 1,
             "tickcolor": "rgb(36,36,36)",
             "ticks": "outside"
            },
            "colorscale": [
             [
              0,
              "#440154"
             ],
             [
              0.1111111111111111,
              "#482878"
             ],
             [
              0.2222222222222222,
              "#3e4989"
             ],
             [
              0.3333333333333333,
              "#31688e"
             ],
             [
              0.4444444444444444,
              "#26828e"
             ],
             [
              0.5555555555555556,
              "#1f9e89"
             ],
             [
              0.6666666666666666,
              "#35b779"
             ],
             [
              0.7777777777777778,
              "#6ece58"
             ],
             [
              0.8888888888888888,
              "#b5de2b"
             ],
             [
              1,
              "#fde725"
             ]
            ],
            "type": "histogram2d"
           }
          ],
          "histogram2dcontour": [
           {
            "colorbar": {
             "outlinewidth": 1,
             "tickcolor": "rgb(36,36,36)",
             "ticks": "outside"
            },
            "colorscale": [
             [
              0,
              "#440154"
             ],
             [
              0.1111111111111111,
              "#482878"
             ],
             [
              0.2222222222222222,
              "#3e4989"
             ],
             [
              0.3333333333333333,
              "#31688e"
             ],
             [
              0.4444444444444444,
              "#26828e"
             ],
             [
              0.5555555555555556,
              "#1f9e89"
             ],
             [
              0.6666666666666666,
              "#35b779"
             ],
             [
              0.7777777777777778,
              "#6ece58"
             ],
             [
              0.8888888888888888,
              "#b5de2b"
             ],
             [
              1,
              "#fde725"
             ]
            ],
            "type": "histogram2dcontour"
           }
          ],
          "mesh3d": [
           {
            "colorbar": {
             "outlinewidth": 1,
             "tickcolor": "rgb(36,36,36)",
             "ticks": "outside"
            },
            "type": "mesh3d"
           }
          ],
          "parcoords": [
           {
            "line": {
             "colorbar": {
              "outlinewidth": 1,
              "tickcolor": "rgb(36,36,36)",
              "ticks": "outside"
             }
            },
            "type": "parcoords"
           }
          ],
          "pie": [
           {
            "automargin": true,
            "type": "pie"
           }
          ],
          "scatter": [
           {
            "marker": {
             "colorbar": {
              "outlinewidth": 1,
              "tickcolor": "rgb(36,36,36)",
              "ticks": "outside"
             }
            },
            "type": "scatter"
           }
          ],
          "scatter3d": [
           {
            "line": {
             "colorbar": {
              "outlinewidth": 1,
              "tickcolor": "rgb(36,36,36)",
              "ticks": "outside"
             }
            },
            "marker": {
             "colorbar": {
              "outlinewidth": 1,
              "tickcolor": "rgb(36,36,36)",
              "ticks": "outside"
             }
            },
            "type": "scatter3d"
           }
          ],
          "scattercarpet": [
           {
            "marker": {
             "colorbar": {
              "outlinewidth": 1,
              "tickcolor": "rgb(36,36,36)",
              "ticks": "outside"
             }
            },
            "type": "scattercarpet"
           }
          ],
          "scattergeo": [
           {
            "marker": {
             "colorbar": {
              "outlinewidth": 1,
              "tickcolor": "rgb(36,36,36)",
              "ticks": "outside"
             }
            },
            "type": "scattergeo"
           }
          ],
          "scattergl": [
           {
            "marker": {
             "colorbar": {
              "outlinewidth": 1,
              "tickcolor": "rgb(36,36,36)",
              "ticks": "outside"
             }
            },
            "type": "scattergl"
           }
          ],
          "scattermapbox": [
           {
            "marker": {
             "colorbar": {
              "outlinewidth": 1,
              "tickcolor": "rgb(36,36,36)",
              "ticks": "outside"
             }
            },
            "type": "scattermapbox"
           }
          ],
          "scatterpolar": [
           {
            "marker": {
             "colorbar": {
              "outlinewidth": 1,
              "tickcolor": "rgb(36,36,36)",
              "ticks": "outside"
             }
            },
            "type": "scatterpolar"
           }
          ],
          "scatterpolargl": [
           {
            "marker": {
             "colorbar": {
              "outlinewidth": 1,
              "tickcolor": "rgb(36,36,36)",
              "ticks": "outside"
             }
            },
            "type": "scatterpolargl"
           }
          ],
          "scatterternary": [
           {
            "marker": {
             "colorbar": {
              "outlinewidth": 1,
              "tickcolor": "rgb(36,36,36)",
              "ticks": "outside"
             }
            },
            "type": "scatterternary"
           }
          ],
          "surface": [
           {
            "colorbar": {
             "outlinewidth": 1,
             "tickcolor": "rgb(36,36,36)",
             "ticks": "outside"
            },
            "colorscale": [
             [
              0,
              "#440154"
             ],
             [
              0.1111111111111111,
              "#482878"
             ],
             [
              0.2222222222222222,
              "#3e4989"
             ],
             [
              0.3333333333333333,
              "#31688e"
             ],
             [
              0.4444444444444444,
              "#26828e"
             ],
             [
              0.5555555555555556,
              "#1f9e89"
             ],
             [
              0.6666666666666666,
              "#35b779"
             ],
             [
              0.7777777777777778,
              "#6ece58"
             ],
             [
              0.8888888888888888,
              "#b5de2b"
             ],
             [
              1,
              "#fde725"
             ]
            ],
            "type": "surface"
           }
          ],
          "table": [
           {
            "cells": {
             "fill": {
              "color": "rgb(237,237,237)"
             },
             "line": {
              "color": "white"
             }
            },
            "header": {
             "fill": {
              "color": "rgb(217,217,217)"
             },
             "line": {
              "color": "white"
             }
            },
            "type": "table"
           }
          ]
         },
         "layout": {
          "annotationdefaults": {
           "arrowhead": 0,
           "arrowwidth": 1
          },
          "autotypenumbers": "strict",
          "coloraxis": {
           "colorbar": {
            "outlinewidth": 1,
            "tickcolor": "rgb(36,36,36)",
            "ticks": "outside"
           }
          },
          "colorscale": {
           "diverging": [
            [
             0,
             "rgb(103,0,31)"
            ],
            [
             0.1,
             "rgb(178,24,43)"
            ],
            [
             0.2,
             "rgb(214,96,77)"
            ],
            [
             0.3,
             "rgb(244,165,130)"
            ],
            [
             0.4,
             "rgb(253,219,199)"
            ],
            [
             0.5,
             "rgb(247,247,247)"
            ],
            [
             0.6,
             "rgb(209,229,240)"
            ],
            [
             0.7,
             "rgb(146,197,222)"
            ],
            [
             0.8,
             "rgb(67,147,195)"
            ],
            [
             0.9,
             "rgb(33,102,172)"
            ],
            [
             1,
             "rgb(5,48,97)"
            ]
           ],
           "sequential": [
            [
             0,
             "#440154"
            ],
            [
             0.1111111111111111,
             "#482878"
            ],
            [
             0.2222222222222222,
             "#3e4989"
            ],
            [
             0.3333333333333333,
             "#31688e"
            ],
            [
             0.4444444444444444,
             "#26828e"
            ],
            [
             0.5555555555555556,
             "#1f9e89"
            ],
            [
             0.6666666666666666,
             "#35b779"
            ],
            [
             0.7777777777777778,
             "#6ece58"
            ],
            [
             0.8888888888888888,
             "#b5de2b"
            ],
            [
             1,
             "#fde725"
            ]
           ],
           "sequentialminus": [
            [
             0,
             "#440154"
            ],
            [
             0.1111111111111111,
             "#482878"
            ],
            [
             0.2222222222222222,
             "#3e4989"
            ],
            [
             0.3333333333333333,
             "#31688e"
            ],
            [
             0.4444444444444444,
             "#26828e"
            ],
            [
             0.5555555555555556,
             "#1f9e89"
            ],
            [
             0.6666666666666666,
             "#35b779"
            ],
            [
             0.7777777777777778,
             "#6ece58"
            ],
            [
             0.8888888888888888,
             "#b5de2b"
            ],
            [
             1,
             "#fde725"
            ]
           ]
          },
          "colorway": [
           "#1F77B4",
           "#FF7F0E",
           "#2CA02C",
           "#D62728",
           "#9467BD",
           "#8C564B",
           "#E377C2",
           "#7F7F7F",
           "#BCBD22",
           "#17BECF"
          ],
          "font": {
           "color": "rgb(36,36,36)"
          },
          "geo": {
           "bgcolor": "white",
           "lakecolor": "white",
           "landcolor": "white",
           "showlakes": true,
           "showland": true,
           "subunitcolor": "white"
          },
          "hoverlabel": {
           "align": "left"
          },
          "hovermode": "closest",
          "mapbox": {
           "style": "light"
          },
          "paper_bgcolor": "white",
          "plot_bgcolor": "white",
          "polar": {
           "angularaxis": {
            "gridcolor": "rgb(232,232,232)",
            "linecolor": "rgb(36,36,36)",
            "showgrid": false,
            "showline": true,
            "ticks": "outside"
           },
           "bgcolor": "white",
           "radialaxis": {
            "gridcolor": "rgb(232,232,232)",
            "linecolor": "rgb(36,36,36)",
            "showgrid": false,
            "showline": true,
            "ticks": "outside"
           }
          },
          "scene": {
           "xaxis": {
            "backgroundcolor": "white",
            "gridcolor": "rgb(232,232,232)",
            "gridwidth": 2,
            "linecolor": "rgb(36,36,36)",
            "showbackground": true,
            "showgrid": false,
            "showline": true,
            "ticks": "outside",
            "zeroline": false,
            "zerolinecolor": "rgb(36,36,36)"
           },
           "yaxis": {
            "backgroundcolor": "white",
            "gridcolor": "rgb(232,232,232)",
            "gridwidth": 2,
            "linecolor": "rgb(36,36,36)",
            "showbackground": true,
            "showgrid": false,
            "showline": true,
            "ticks": "outside",
            "zeroline": false,
            "zerolinecolor": "rgb(36,36,36)"
           },
           "zaxis": {
            "backgroundcolor": "white",
            "gridcolor": "rgb(232,232,232)",
            "gridwidth": 2,
            "linecolor": "rgb(36,36,36)",
            "showbackground": true,
            "showgrid": false,
            "showline": true,
            "ticks": "outside",
            "zeroline": false,
            "zerolinecolor": "rgb(36,36,36)"
           }
          },
          "shapedefaults": {
           "fillcolor": "black",
           "line": {
            "width": 0
           },
           "opacity": 0.3
          },
          "ternary": {
           "aaxis": {
            "gridcolor": "rgb(232,232,232)",
            "linecolor": "rgb(36,36,36)",
            "showgrid": false,
            "showline": true,
            "ticks": "outside"
           },
           "baxis": {
            "gridcolor": "rgb(232,232,232)",
            "linecolor": "rgb(36,36,36)",
            "showgrid": false,
            "showline": true,
            "ticks": "outside"
           },
           "bgcolor": "white",
           "caxis": {
            "gridcolor": "rgb(232,232,232)",
            "linecolor": "rgb(36,36,36)",
            "showgrid": false,
            "showline": true,
            "ticks": "outside"
           }
          },
          "title": {
           "x": 0.05
          },
          "xaxis": {
           "automargin": true,
           "gridcolor": "rgb(232,232,232)",
           "linecolor": "rgb(36,36,36)",
           "showgrid": false,
           "showline": true,
           "ticks": "outside",
           "title": {
            "standoff": 15
           },
           "zeroline": false,
           "zerolinecolor": "rgb(36,36,36)"
          },
          "yaxis": {
           "automargin": true,
           "gridcolor": "rgb(232,232,232)",
           "linecolor": "rgb(36,36,36)",
           "showgrid": false,
           "showline": true,
           "ticks": "outside",
           "title": {
            "standoff": 15
           },
           "zeroline": false,
           "zerolinecolor": "rgb(36,36,36)"
          }
         }
        },
        "title": {
         "font": {
          "color": "Black",
          "size": 22
         },
         "text": "<b>Topics over Time",
         "x": 0.4,
         "xanchor": "center",
         "y": 0.95,
         "yanchor": "top"
        },
        "width": 1250,
        "xaxis": {
         "showgrid": true
        },
        "yaxis": {
         "showgrid": true,
         "title": {
          "text": "Frequency"
         }
        }
       }
      }
     },
     "metadata": {}
    }
   ],
   "source": [
    "topics_over_time = topic_model.topics_over_time(docs, topics, df['year'], datetime_format=\"%b\")\n",
    "topic_model.visualize_topics_over_time(topics_over_time, top_n_topics=20)"
   ]
  },
  {
   "cell_type": "code",
   "execution_count": 12,
   "metadata": {},
   "outputs": [],
   "source": [
    "# word cloud\n",
    "# from wordcloud import WordCloud\n",
    "\n",
    "# text = df['preprocessed_abstract'].str.join(' ').str.cat()\n",
    "\n",
    "# cloud = WordCloud(width=500,height=500,background_color ='white').generate(text)\n",
    "\n",
    "# plt.figure(figsize=(10,10))\n",
    "# plt.imshow(cloud)\n",
    "# plt.axis('off')\n",
    "# plt.show()"
   ]
  }
 ]
}