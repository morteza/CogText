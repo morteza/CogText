{
 "cells": [
  {
   "cell_type": "markdown",
   "metadata": {},
   "source": [
    "# Graph Embedding\n",
    "\n",
    "This notebook creates a graph with nodes labeled by the lexicon terms and\n",
    "topic-embeddings of the respective documents as node features.\n",
    "We then predict existence of the edges based on the similarity of node features. We use\n",
    "KL-divergence of the distributions of the node features as edge weights.\n",
    "\n",
    "Here is the steps we will take:\n",
    "\n",
    "- load the GPT-3 topic-embeddings of the PubMed documents.\n",
    "- Calculate the adjacency matrix using KL-divergence of the node pairs.\n",
    "<!-- - Create a list of random walks that goes from constructs to the tasks only. -->\n",
    "<!-- - Find an embedding for the graph using the metapath2vec model. -->\n",
    "<!-- - Predict links  -->"
   ]
  },
  {
   "cell_type": "code",
   "execution_count": 56,
   "metadata": {},
   "outputs": [],
   "source": [
    "%reload_ext autoreload\n",
    "%autoreload 2\n",
    "\n",
    "import pandas as pd\n",
    "import numpy as np\n",
    "from sklearn.decomposition import PCA\n",
    "from umap import UMAP\n",
    "import matplotlib.pyplot as plt\n",
    "import seaborn as sns; sns.set_theme()  # noqa\n",
    "import dash_bio as dashbio\n",
    "from python.cogtext.datasets.pubmed import PubMedDataLoader\n",
    "from python.cogtext.similarity_matrix import get_similarity_matrix\n",
    "from sklearn.preprocessing import normalize\n",
    "\n",
    "import tensorflow as tf\n",
    "import tensorflow_probability as tfp\n",
    "tfd = tfp.distributions"
   ]
  },
  {
   "cell_type": "code",
   "execution_count": 57,
   "metadata": {},
   "outputs": [
    {
     "name": "stdout",
     "output_type": "stream",
     "text": [
      "Successfully create a list of 293014 abstract embeddings.\n"
     ]
    }
   ],
   "source": [
    "# load weights, clusters and metadata (takes ~ 20sec)\n",
    "\n",
    "clusters = pd.read_csv('models/gpt3/abstracts_gpt3ada_clusters.csv.gz', index_col=0)\n",
    "weights = np.load('models/gpt3/abstracts_gpt3ada_weights.npz')['arr_0']\n",
    "clusters['weights'] = list(weights)\n",
    "\n",
    "# load abstracts\n",
    "pubmed = PubMedDataLoader(preprocessed=False, drop_low_occurred_labels=True).load()\n",
    "pubmed = pubmed.merge(clusters, on='pmid', how='left')\n",
    "\n",
    "pubmed.dropna(subset=['cluster'], inplace=True)\n",
    "\n",
    "print(f'Successfully create a list of {len(pubmed)} abstract embeddings.')"
   ]
  },
  {
   "cell_type": "markdown",
   "metadata": {},
   "source": [
    "## Node-node similarity\n",
    "\n",
    "Here, we calculate the similarity between nodes using the node features. We use\n",
    "KL-divergence of the node features a measure of distance between the two."
   ]
  },
  {
   "cell_type": "code",
   "execution_count": 219,
   "metadata": {},
   "outputs": [
    {
     "name": "stderr",
     "output_type": "stream",
     "text": [
      "100%|██████████| 170/170 [01:24<00:00,  2.00it/s]\n"
     ]
    },
    {
     "data": {
      "text/plain": [
       "label\n",
       "AnalogyMakingTask                  tfp.distributions.MultivariateNormalDiag(\"Mult...\n",
       "AntiSaccadeTask                    tfp.distributions.MultivariateNormalDiag(\"Mult...\n",
       "Attention                          tfp.distributions.MultivariateNormalDiag(\"Mult...\n",
       "AttentionNetworkTest               tfp.distributions.MultivariateNormalDiag(\"Mult...\n",
       "AttentionalControl                 tfp.distributions.MultivariateNormalDiag(\"Mult...\n",
       "                                                         ...                        \n",
       "VisuospatialSketchpad              tfp.distributions.MultivariateNormalDiag(\"Mult...\n",
       "VisuospatialWorkingMemory          tfp.distributions.MultivariateNormalDiag(\"Mult...\n",
       "Volition                           tfp.distributions.MultivariateNormalDiag(\"Mult...\n",
       "WCST_-_Wisconsin_Card_Sort_Test    tfp.distributions.MultivariateNormalDiag(\"Mult...\n",
       "WorkingMemory                      tfp.distributions.MultivariateNormalDiag(\"Mult...\n",
       "Name: weights, Length: 170, dtype: object"
      ]
     },
     "execution_count": 219,
     "metadata": {},
     "output_type": "execute_result"
    }
   ],
   "source": [
    "def find_category_by_label(label, pubmed=pubmed):\n",
    "  return pubmed.query('label == @label')['category'].iloc[0]\n",
    "\n",
    "\n",
    "def nll(X, dist):\n",
    "  return - tf.reduce_mean(dist.log_prob(X))\n",
    "\n",
    "\n",
    "@tf.function\n",
    "def get_loss_and_grads(X_train, dist):\n",
    "  with tf.GradientTape() as tape:\n",
    "    tape.watch(dist.trainable_variables)\n",
    "    loss = nll(X_train, dist)\n",
    "  grads = tape.gradient(loss, dist.trainable_variables)\n",
    "  return loss, grads\n",
    "\n",
    "def fit_multivariate_normal(data, n_epochs=10):\n",
    "  \n",
    "  dist = tfd.MultivariateNormalDiag(\n",
    "    loc=tf.Variable(data.mean(axis=0), name='loc'),\n",
    "    scale_diag=tf.Variable(np.ones(data.shape[1]), name='scale'))\n",
    "\n",
    "  optimizer = tf.keras.optimizers.Adam(learning_rate=0.05)\n",
    "\n",
    "  for _ in range(n_epochs):\n",
    "    X = data\n",
    "    loss, grads = get_loss_and_grads(X, dist)\n",
    "    optimizer.apply_gradients(zip(grads, dist.trainable_variables))\n",
    "    loc_value = dist.loc.value()\n",
    "  return dist\n",
    "\n",
    "tqdm.pandas()\n",
    "\n",
    "node_distributions = pubmed.groupby('label')['weights'].progress_apply(\n",
    "  lambda docs: fit_multivariate_normal(np.stack(docs))\n",
    ")\n",
    "\n",
    "node_distributions\n",
    "# n2n_sim.index = n2n_sim.index.droplevel(level=1)\n",
    "# n2n_sim.columns = n2n_sim.columns.droplevel(level=1)"
   ]
  },
  {
   "cell_type": "code",
   "execution_count": 231,
   "metadata": {},
   "outputs": [
    {
     "name": "stderr",
     "output_type": "stream",
     "text": [
      "170it [02:37,  1.08it/s]\n"
     ]
    },
    {
     "data": {
      "text/html": [
       "<div>\n",
       "<style scoped>\n",
       "    .dataframe tbody tr th:only-of-type {\n",
       "        vertical-align: middle;\n",
       "    }\n",
       "\n",
       "    .dataframe tbody tr th {\n",
       "        vertical-align: top;\n",
       "    }\n",
       "\n",
       "    .dataframe thead th {\n",
       "        text-align: right;\n",
       "    }\n",
       "</style>\n",
       "<table border=\"1\" class=\"dataframe\">\n",
       "  <thead>\n",
       "    <tr style=\"text-align: right;\">\n",
       "      <th>label</th>\n",
       "      <th>AnalogyMakingTask</th>\n",
       "      <th>AntiSaccadeTask</th>\n",
       "      <th>Attention</th>\n",
       "      <th>AttentionNetworkTest</th>\n",
       "      <th>AttentionalControl</th>\n",
       "      <th>AttentionalInertia</th>\n",
       "      <th>AuditoryAttentionTask</th>\n",
       "      <th>AutomatedOperationSpanTask</th>\n",
       "      <th>BART</th>\n",
       "      <th>BackwardSpanTask</th>\n",
       "      <th>...</th>\n",
       "      <th>Updating</th>\n",
       "      <th>VerbalProcessing</th>\n",
       "      <th>VerbalWorkingMemory</th>\n",
       "      <th>Verbal_fluency_task</th>\n",
       "      <th>VisuospatialProcessing</th>\n",
       "      <th>VisuospatialSketchpad</th>\n",
       "      <th>VisuospatialWorkingMemory</th>\n",
       "      <th>Volition</th>\n",
       "      <th>WCST_-_Wisconsin_Card_Sort_Test</th>\n",
       "      <th>WorkingMemory</th>\n",
       "    </tr>\n",
       "    <tr>\n",
       "      <th>label</th>\n",
       "      <th></th>\n",
       "      <th></th>\n",
       "      <th></th>\n",
       "      <th></th>\n",
       "      <th></th>\n",
       "      <th></th>\n",
       "      <th></th>\n",
       "      <th></th>\n",
       "      <th></th>\n",
       "      <th></th>\n",
       "      <th></th>\n",
       "      <th></th>\n",
       "      <th></th>\n",
       "      <th></th>\n",
       "      <th></th>\n",
       "      <th></th>\n",
       "      <th></th>\n",
       "      <th></th>\n",
       "      <th></th>\n",
       "      <th></th>\n",
       "      <th></th>\n",
       "    </tr>\n",
       "  </thead>\n",
       "  <tbody>\n",
       "    <tr>\n",
       "      <th>AnalogyMakingTask</th>\n",
       "      <td>0.000000</td>\n",
       "      <td>0.480791</td>\n",
       "      <td>0.455000</td>\n",
       "      <td>0.372193</td>\n",
       "      <td>0.307998</td>\n",
       "      <td>0.502274</td>\n",
       "      <td>0.475014</td>\n",
       "      <td>0.526733</td>\n",
       "      <td>0.416358</td>\n",
       "      <td>0.436427</td>\n",
       "      <td>...</td>\n",
       "      <td>0.472331</td>\n",
       "      <td>0.448609</td>\n",
       "      <td>0.376314</td>\n",
       "      <td>0.381776</td>\n",
       "      <td>0.437853</td>\n",
       "      <td>0.494940</td>\n",
       "      <td>0.481683</td>\n",
       "      <td>0.444415</td>\n",
       "      <td>0.364877</td>\n",
       "      <td>0.370662</td>\n",
       "    </tr>\n",
       "    <tr>\n",
       "      <th>AntiSaccadeTask</th>\n",
       "      <td>0.480834</td>\n",
       "      <td>0.000000</td>\n",
       "      <td>0.430586</td>\n",
       "      <td>0.426067</td>\n",
       "      <td>0.319335</td>\n",
       "      <td>0.470805</td>\n",
       "      <td>0.518196</td>\n",
       "      <td>0.544337</td>\n",
       "      <td>0.427576</td>\n",
       "      <td>0.406780</td>\n",
       "      <td>...</td>\n",
       "      <td>0.525452</td>\n",
       "      <td>0.449250</td>\n",
       "      <td>0.372095</td>\n",
       "      <td>0.332178</td>\n",
       "      <td>0.374173</td>\n",
       "      <td>0.461986</td>\n",
       "      <td>0.487436</td>\n",
       "      <td>0.372541</td>\n",
       "      <td>0.354757</td>\n",
       "      <td>0.356687</td>\n",
       "    </tr>\n",
       "    <tr>\n",
       "      <th>Attention</th>\n",
       "      <td>0.455016</td>\n",
       "      <td>0.430558</td>\n",
       "      <td>0.000000</td>\n",
       "      <td>0.370677</td>\n",
       "      <td>0.278954</td>\n",
       "      <td>0.479944</td>\n",
       "      <td>0.435639</td>\n",
       "      <td>0.476713</td>\n",
       "      <td>0.407598</td>\n",
       "      <td>0.395215</td>\n",
       "      <td>...</td>\n",
       "      <td>0.479647</td>\n",
       "      <td>0.428974</td>\n",
       "      <td>0.364673</td>\n",
       "      <td>0.320013</td>\n",
       "      <td>0.379970</td>\n",
       "      <td>0.435834</td>\n",
       "      <td>0.425671</td>\n",
       "      <td>0.371290</td>\n",
       "      <td>0.338546</td>\n",
       "      <td>0.295152</td>\n",
       "    </tr>\n",
       "    <tr>\n",
       "      <th>AttentionNetworkTest</th>\n",
       "      <td>0.372204</td>\n",
       "      <td>0.426031</td>\n",
       "      <td>0.370670</td>\n",
       "      <td>0.000000</td>\n",
       "      <td>0.271142</td>\n",
       "      <td>0.462819</td>\n",
       "      <td>0.418371</td>\n",
       "      <td>0.461736</td>\n",
       "      <td>0.379026</td>\n",
       "      <td>0.341868</td>\n",
       "      <td>...</td>\n",
       "      <td>0.438211</td>\n",
       "      <td>0.370970</td>\n",
       "      <td>0.314299</td>\n",
       "      <td>0.303247</td>\n",
       "      <td>0.368899</td>\n",
       "      <td>0.395527</td>\n",
       "      <td>0.415942</td>\n",
       "      <td>0.351564</td>\n",
       "      <td>0.324143</td>\n",
       "      <td>0.309843</td>\n",
       "    </tr>\n",
       "    <tr>\n",
       "      <th>AttentionalControl</th>\n",
       "      <td>0.308006</td>\n",
       "      <td>0.319313</td>\n",
       "      <td>0.278952</td>\n",
       "      <td>0.271140</td>\n",
       "      <td>0.000000</td>\n",
       "      <td>0.398385</td>\n",
       "      <td>0.378144</td>\n",
       "      <td>0.426743</td>\n",
       "      <td>0.292790</td>\n",
       "      <td>0.282274</td>\n",
       "      <td>...</td>\n",
       "      <td>0.376553</td>\n",
       "      <td>0.301287</td>\n",
       "      <td>0.243033</td>\n",
       "      <td>0.227409</td>\n",
       "      <td>0.279674</td>\n",
       "      <td>0.370861</td>\n",
       "      <td>0.339707</td>\n",
       "      <td>0.266205</td>\n",
       "      <td>0.222839</td>\n",
       "      <td>0.231461</td>\n",
       "    </tr>\n",
       "    <tr>\n",
       "      <th>...</th>\n",
       "      <td>...</td>\n",
       "      <td>...</td>\n",
       "      <td>...</td>\n",
       "      <td>...</td>\n",
       "      <td>...</td>\n",
       "      <td>...</td>\n",
       "      <td>...</td>\n",
       "      <td>...</td>\n",
       "      <td>...</td>\n",
       "      <td>...</td>\n",
       "      <td>...</td>\n",
       "      <td>...</td>\n",
       "      <td>...</td>\n",
       "      <td>...</td>\n",
       "      <td>...</td>\n",
       "      <td>...</td>\n",
       "      <td>...</td>\n",
       "      <td>...</td>\n",
       "      <td>...</td>\n",
       "      <td>...</td>\n",
       "      <td>...</td>\n",
       "    </tr>\n",
       "    <tr>\n",
       "      <th>VisuospatialSketchpad</th>\n",
       "      <td>0.494990</td>\n",
       "      <td>0.462010</td>\n",
       "      <td>0.435901</td>\n",
       "      <td>0.395559</td>\n",
       "      <td>0.370932</td>\n",
       "      <td>0.507420</td>\n",
       "      <td>0.516293</td>\n",
       "      <td>0.576868</td>\n",
       "      <td>0.471186</td>\n",
       "      <td>0.465604</td>\n",
       "      <td>...</td>\n",
       "      <td>0.544442</td>\n",
       "      <td>0.450528</td>\n",
       "      <td>0.393291</td>\n",
       "      <td>0.339301</td>\n",
       "      <td>0.415177</td>\n",
       "      <td>0.000000</td>\n",
       "      <td>0.483517</td>\n",
       "      <td>0.430706</td>\n",
       "      <td>0.369380</td>\n",
       "      <td>0.386620</td>\n",
       "    </tr>\n",
       "    <tr>\n",
       "      <th>VisuospatialWorkingMemory</th>\n",
       "      <td>0.481761</td>\n",
       "      <td>0.487465</td>\n",
       "      <td>0.425701</td>\n",
       "      <td>0.415979</td>\n",
       "      <td>0.339744</td>\n",
       "      <td>0.517858</td>\n",
       "      <td>0.524733</td>\n",
       "      <td>0.568375</td>\n",
       "      <td>0.451997</td>\n",
       "      <td>0.425849</td>\n",
       "      <td>...</td>\n",
       "      <td>0.540998</td>\n",
       "      <td>0.483093</td>\n",
       "      <td>0.373334</td>\n",
       "      <td>0.364458</td>\n",
       "      <td>0.420296</td>\n",
       "      <td>0.483501</td>\n",
       "      <td>0.000000</td>\n",
       "      <td>0.424177</td>\n",
       "      <td>0.348423</td>\n",
       "      <td>0.372048</td>\n",
       "    </tr>\n",
       "    <tr>\n",
       "      <th>Volition</th>\n",
       "      <td>0.444433</td>\n",
       "      <td>0.372526</td>\n",
       "      <td>0.371297</td>\n",
       "      <td>0.351568</td>\n",
       "      <td>0.266208</td>\n",
       "      <td>0.499662</td>\n",
       "      <td>0.403722</td>\n",
       "      <td>0.489492</td>\n",
       "      <td>0.379910</td>\n",
       "      <td>0.372312</td>\n",
       "      <td>...</td>\n",
       "      <td>0.478950</td>\n",
       "      <td>0.411621</td>\n",
       "      <td>0.330449</td>\n",
       "      <td>0.304361</td>\n",
       "      <td>0.360763</td>\n",
       "      <td>0.430641</td>\n",
       "      <td>0.424124</td>\n",
       "      <td>0.000000</td>\n",
       "      <td>0.277097</td>\n",
       "      <td>0.308407</td>\n",
       "    </tr>\n",
       "    <tr>\n",
       "      <th>WCST_-_Wisconsin_Card_Sort_Test</th>\n",
       "      <td>0.364988</td>\n",
       "      <td>0.354733</td>\n",
       "      <td>0.338625</td>\n",
       "      <td>0.324207</td>\n",
       "      <td>0.222878</td>\n",
       "      <td>0.407908</td>\n",
       "      <td>0.342524</td>\n",
       "      <td>0.446940</td>\n",
       "      <td>0.360023</td>\n",
       "      <td>0.323375</td>\n",
       "      <td>...</td>\n",
       "      <td>0.394660</td>\n",
       "      <td>0.355819</td>\n",
       "      <td>0.265649</td>\n",
       "      <td>0.232419</td>\n",
       "      <td>0.301886</td>\n",
       "      <td>0.369352</td>\n",
       "      <td>0.348406</td>\n",
       "      <td>0.277113</td>\n",
       "      <td>0.000000</td>\n",
       "      <td>0.265826</td>\n",
       "    </tr>\n",
       "    <tr>\n",
       "      <th>WorkingMemory</th>\n",
       "      <td>0.370682</td>\n",
       "      <td>0.356652</td>\n",
       "      <td>0.295153</td>\n",
       "      <td>0.309846</td>\n",
       "      <td>0.231463</td>\n",
       "      <td>0.401946</td>\n",
       "      <td>0.380832</td>\n",
       "      <td>0.409067</td>\n",
       "      <td>0.322884</td>\n",
       "      <td>0.309228</td>\n",
       "      <td>...</td>\n",
       "      <td>0.407570</td>\n",
       "      <td>0.345671</td>\n",
       "      <td>0.259029</td>\n",
       "      <td>0.241130</td>\n",
       "      <td>0.317713</td>\n",
       "      <td>0.386539</td>\n",
       "      <td>0.372018</td>\n",
       "      <td>0.308411</td>\n",
       "      <td>0.265807</td>\n",
       "      <td>0.000000</td>\n",
       "    </tr>\n",
       "  </tbody>\n",
       "</table>\n",
       "<p>170 rows × 170 columns</p>\n",
       "</div>"
      ],
      "text/plain": [
       "label                            AnalogyMakingTask  AntiSaccadeTask  \\\n",
       "label                                                                 \n",
       "AnalogyMakingTask                         0.000000         0.480791   \n",
       "AntiSaccadeTask                           0.480834         0.000000   \n",
       "Attention                                 0.455016         0.430558   \n",
       "AttentionNetworkTest                      0.372204         0.426031   \n",
       "AttentionalControl                        0.308006         0.319313   \n",
       "...                                            ...              ...   \n",
       "VisuospatialSketchpad                     0.494990         0.462010   \n",
       "VisuospatialWorkingMemory                 0.481761         0.487465   \n",
       "Volition                                  0.444433         0.372526   \n",
       "WCST_-_Wisconsin_Card_Sort_Test           0.364988         0.354733   \n",
       "WorkingMemory                             0.370682         0.356652   \n",
       "\n",
       "label                            Attention  AttentionNetworkTest  \\\n",
       "label                                                              \n",
       "AnalogyMakingTask                 0.455000              0.372193   \n",
       "AntiSaccadeTask                   0.430586              0.426067   \n",
       "Attention                         0.000000              0.370677   \n",
       "AttentionNetworkTest              0.370670              0.000000   \n",
       "AttentionalControl                0.278952              0.271140   \n",
       "...                                    ...                   ...   \n",
       "VisuospatialSketchpad             0.435901              0.395559   \n",
       "VisuospatialWorkingMemory         0.425701              0.415979   \n",
       "Volition                          0.371297              0.351568   \n",
       "WCST_-_Wisconsin_Card_Sort_Test   0.338625              0.324207   \n",
       "WorkingMemory                     0.295153              0.309846   \n",
       "\n",
       "label                            AttentionalControl  AttentionalInertia  \\\n",
       "label                                                                     \n",
       "AnalogyMakingTask                          0.307998            0.502274   \n",
       "AntiSaccadeTask                            0.319335            0.470805   \n",
       "Attention                                  0.278954            0.479944   \n",
       "AttentionNetworkTest                       0.271142            0.462819   \n",
       "AttentionalControl                         0.000000            0.398385   \n",
       "...                                             ...                 ...   \n",
       "VisuospatialSketchpad                      0.370932            0.507420   \n",
       "VisuospatialWorkingMemory                  0.339744            0.517858   \n",
       "Volition                                   0.266208            0.499662   \n",
       "WCST_-_Wisconsin_Card_Sort_Test            0.222878            0.407908   \n",
       "WorkingMemory                              0.231463            0.401946   \n",
       "\n",
       "label                            AuditoryAttentionTask  \\\n",
       "label                                                    \n",
       "AnalogyMakingTask                             0.475014   \n",
       "AntiSaccadeTask                               0.518196   \n",
       "Attention                                     0.435639   \n",
       "AttentionNetworkTest                          0.418371   \n",
       "AttentionalControl                            0.378144   \n",
       "...                                                ...   \n",
       "VisuospatialSketchpad                         0.516293   \n",
       "VisuospatialWorkingMemory                     0.524733   \n",
       "Volition                                      0.403722   \n",
       "WCST_-_Wisconsin_Card_Sort_Test               0.342524   \n",
       "WorkingMemory                                 0.380832   \n",
       "\n",
       "label                            AutomatedOperationSpanTask      BART  \\\n",
       "label                                                                   \n",
       "AnalogyMakingTask                                  0.526733  0.416358   \n",
       "AntiSaccadeTask                                    0.544337  0.427576   \n",
       "Attention                                          0.476713  0.407598   \n",
       "AttentionNetworkTest                               0.461736  0.379026   \n",
       "AttentionalControl                                 0.426743  0.292790   \n",
       "...                                                     ...       ...   \n",
       "VisuospatialSketchpad                              0.576868  0.471186   \n",
       "VisuospatialWorkingMemory                          0.568375  0.451997   \n",
       "Volition                                           0.489492  0.379910   \n",
       "WCST_-_Wisconsin_Card_Sort_Test                    0.446940  0.360023   \n",
       "WorkingMemory                                      0.409067  0.322884   \n",
       "\n",
       "label                            BackwardSpanTask  ...  Updating  \\\n",
       "label                                              ...             \n",
       "AnalogyMakingTask                        0.436427  ...  0.472331   \n",
       "AntiSaccadeTask                          0.406780  ...  0.525452   \n",
       "Attention                                0.395215  ...  0.479647   \n",
       "AttentionNetworkTest                     0.341868  ...  0.438211   \n",
       "AttentionalControl                       0.282274  ...  0.376553   \n",
       "...                                           ...  ...       ...   \n",
       "VisuospatialSketchpad                    0.465604  ...  0.544442   \n",
       "VisuospatialWorkingMemory                0.425849  ...  0.540998   \n",
       "Volition                                 0.372312  ...  0.478950   \n",
       "WCST_-_Wisconsin_Card_Sort_Test          0.323375  ...  0.394660   \n",
       "WorkingMemory                            0.309228  ...  0.407570   \n",
       "\n",
       "label                            VerbalProcessing  VerbalWorkingMemory  \\\n",
       "label                                                                    \n",
       "AnalogyMakingTask                        0.448609             0.376314   \n",
       "AntiSaccadeTask                          0.449250             0.372095   \n",
       "Attention                                0.428974             0.364673   \n",
       "AttentionNetworkTest                     0.370970             0.314299   \n",
       "AttentionalControl                       0.301287             0.243033   \n",
       "...                                           ...                  ...   \n",
       "VisuospatialSketchpad                    0.450528             0.393291   \n",
       "VisuospatialWorkingMemory                0.483093             0.373334   \n",
       "Volition                                 0.411621             0.330449   \n",
       "WCST_-_Wisconsin_Card_Sort_Test          0.355819             0.265649   \n",
       "WorkingMemory                            0.345671             0.259029   \n",
       "\n",
       "label                            Verbal_fluency_task  VisuospatialProcessing  \\\n",
       "label                                                                          \n",
       "AnalogyMakingTask                           0.381776                0.437853   \n",
       "AntiSaccadeTask                             0.332178                0.374173   \n",
       "Attention                                   0.320013                0.379970   \n",
       "AttentionNetworkTest                        0.303247                0.368899   \n",
       "AttentionalControl                          0.227409                0.279674   \n",
       "...                                              ...                     ...   \n",
       "VisuospatialSketchpad                       0.339301                0.415177   \n",
       "VisuospatialWorkingMemory                   0.364458                0.420296   \n",
       "Volition                                    0.304361                0.360763   \n",
       "WCST_-_Wisconsin_Card_Sort_Test             0.232419                0.301886   \n",
       "WorkingMemory                               0.241130                0.317713   \n",
       "\n",
       "label                            VisuospatialSketchpad  \\\n",
       "label                                                    \n",
       "AnalogyMakingTask                             0.494940   \n",
       "AntiSaccadeTask                               0.461986   \n",
       "Attention                                     0.435834   \n",
       "AttentionNetworkTest                          0.395527   \n",
       "AttentionalControl                            0.370861   \n",
       "...                                                ...   \n",
       "VisuospatialSketchpad                         0.000000   \n",
       "VisuospatialWorkingMemory                     0.483501   \n",
       "Volition                                      0.430641   \n",
       "WCST_-_Wisconsin_Card_Sort_Test               0.369352   \n",
       "WorkingMemory                                 0.386539   \n",
       "\n",
       "label                            VisuospatialWorkingMemory  Volition  \\\n",
       "label                                                                  \n",
       "AnalogyMakingTask                                 0.481683  0.444415   \n",
       "AntiSaccadeTask                                   0.487436  0.372541   \n",
       "Attention                                         0.425671  0.371290   \n",
       "AttentionNetworkTest                              0.415942  0.351564   \n",
       "AttentionalControl                                0.339707  0.266205   \n",
       "...                                                    ...       ...   \n",
       "VisuospatialSketchpad                             0.483517  0.430706   \n",
       "VisuospatialWorkingMemory                         0.000000  0.424177   \n",
       "Volition                                          0.424124  0.000000   \n",
       "WCST_-_Wisconsin_Card_Sort_Test                   0.348406  0.277113   \n",
       "WorkingMemory                                     0.372018  0.308411   \n",
       "\n",
       "label                            WCST_-_Wisconsin_Card_Sort_Test  \\\n",
       "label                                                              \n",
       "AnalogyMakingTask                                       0.364877   \n",
       "AntiSaccadeTask                                         0.354757   \n",
       "Attention                                               0.338546   \n",
       "AttentionNetworkTest                                    0.324143   \n",
       "AttentionalControl                                      0.222839   \n",
       "...                                                          ...   \n",
       "VisuospatialSketchpad                                   0.369380   \n",
       "VisuospatialWorkingMemory                               0.348423   \n",
       "Volition                                                0.277097   \n",
       "WCST_-_Wisconsin_Card_Sort_Test                         0.000000   \n",
       "WorkingMemory                                           0.265807   \n",
       "\n",
       "label                            WorkingMemory  \n",
       "label                                           \n",
       "AnalogyMakingTask                     0.370662  \n",
       "AntiSaccadeTask                       0.356687  \n",
       "Attention                             0.295152  \n",
       "AttentionNetworkTest                  0.309843  \n",
       "AttentionalControl                    0.231461  \n",
       "...                                        ...  \n",
       "VisuospatialSketchpad                 0.386620  \n",
       "VisuospatialWorkingMemory             0.372048  \n",
       "Volition                              0.308407  \n",
       "WCST_-_Wisconsin_Card_Sort_Test       0.265826  \n",
       "WorkingMemory                         0.000000  \n",
       "\n",
       "[170 rows x 170 columns]"
      ]
     },
     "execution_count": 231,
     "metadata": {},
     "output_type": "execute_result"
    }
   ],
   "source": [
    "def kl_dist(p,q):\n",
    "  return \n",
    "# n2n_sim = node_distributions.to_frame().corr(method=kl_dist)\n",
    "# n2n_sim\n",
    "\n",
    "n2n_kl = np.zeros((len(node_distributions), len(node_distributions)))\n",
    "\n",
    "for i,lbl_i in tqdm(enumerate(node_distributions.index)):\n",
    "  for j, lbl_j in enumerate(node_distributions.index):\n",
    "    kl = node_distributions.loc[lbl_i].kl_divergence(node_distributions.loc[lbl_j]).numpy()\n",
    "    n2n_kl[i,j] = kl\n",
    "\n",
    "n2n_kl = pd.DataFrame(n2n_kl, index=node_distributions.index, columns=node_distributions.index)\n",
    "n2n_kl"
   ]
  },
  {
   "cell_type": "code",
   "execution_count": 245,
   "metadata": {},
   "outputs": [
    {
     "data": {
      "text/plain": [
       "<seaborn.axisgrid.FacetGrid at 0x1b92c2190>"
      ]
     },
     "execution_count": 245,
     "metadata": {},
     "output_type": "execute_result"
    },
    {
     "data": {
      "image/png": "[encoded data removed]",
      "text/plain": [
       "<Figure size 360x360 with 1 Axes>"
      ]
     },
     "metadata": {},
     "output_type": "display_data"
    }
   ],
   "source": [
    "sns.displot(n2n_kl.values.flatten())"
   ]
  },
  {
   "cell_type": "code",
   "execution_count": 198,
   "metadata": {},
   "outputs": [],
   "source": [
    "# plot similarity matrix of all the node pairs\n",
    "\n",
    "# max-pooling\n",
    "# node_features = (\n",
    "#   pubmed.groupby('label')['weights'].apply(lambda x: np.max(np.stack(x.values), axis=0))\n",
    "# )\n",
    "\n",
    "node_features = pubmed.groupby('label')['weights'].mean()\n",
    "\n",
    "node_features = pd.DataFrame(np.stack(node_features), index=node_features.index)\n",
    "\n",
    "node_features.iloc[:,:] = normalize(node_features.values, norm='l1')\n",
    "\n",
    "# add node types (task or construct)\n",
    "# node_features['category'] = node_features.index.to_series().apply(find_category_by_label)\n",
    "# node_features.set_index(['category'], append=True, inplace=True)\n",
    "\n",
    "# predict links by cosine similarity of topic-embeddings of the node pairs\n",
    "n2n_sim = get_similarity_matrix(node_features, metric='cosine', pivot_by_category=False)\n",
    "np.fill_diagonal(n2n_sim.values, 0.)\n"
   ]
  },
  {
   "cell_type": "code",
   "execution_count": 201,
   "metadata": {},
   "outputs": [
    {
     "data": {
      "application/vnd.plotly.v1+json": {
       "config": {
        "plotlyServerURL": "https://plot.ly"
       },
       "data": [
        {
         "hoverinfo": "y+name",
         "line": {
          "width": 0.5
         },
         "marker": {
          "color": "rgb(0,116,217)"
         },
         "mode": "lines",
         "name": "Col Cluster 0",
         "type": "scatter",
         "x": [
          102.9296875,
          102.9296875,
          473.1005859375,
          473.1005859375
         ],
         "xaxis": "x2",
         "y": [
          1.6725405278855847,
          3.912631061018487,
          3.912631061018487,
          2.730671753914381
         ],
         "yaxis": "y2"
        },
        {
         "hoverinfo": "y+name",
         "line": {
          "width": 0.5
         },
         "marker": {
          "color": "rgb(0,116,217)"
         },
         "mode": "lines",
         "name": "Col Cluster 1",
         "type": "scatter",
         "x": [
          5,
          5,
          20,
          20
         ],
         "xaxis": "x2",
         "y": [
          0,
          0.6398287458412794,
          0.6398287458412794,
          0.3821329809072522
         ],
         "yaxis": "y2"
        },
        {
         "hoverinfo": "y+name",
         "line": {
          "width": 0.5
         },
         "marker": {
          "color": "rgb(0,116,217)"
         },
         "mode": "lines",
         "name": "Col Cluster 2",
         "type": "scatter",
         "x": [
          12.5,
          12.5,
          193.359375,
          193.359375
         ],
         "xaxis": "x2",
         "y": [
          0.6398287458412794,
          1.6725405278855847,
          1.6725405278855847,
          1.290552108020249
         ],
         "yaxis": "y2"
        },
        {
         "hoverinfo": "y+name",
         "line": {
          "width": 0.5
         },
         "marker": {
          "color": "rgb(0,116,217)"
         },
         "mode": "lines",
         "name": "Col Cluster 3",
         "type": "scatter",
         "x": [
          15,
          15,
          25,
          25
         ],
         "xaxis": "x2",
         "y": [
          0,
          0.3821329809072522,
          0.3821329809072522,
          0
         ],
         "yaxis": "y2"
        },
        {
         "hoverinfo": "y+name",
         "line": {
          "width": 0.5
         },
         "marker": {
          "color": "rgb(0,116,217)"
         },
         "mode": "lines",
         "name": "Col Cluster 4",
         "type": "scatter",
         "x": [
          35,
          35,
          45,
          45
         ],
         "xaxis": "x2",
         "y": [
          0,
          0.33355941236228503,
          0.33355941236228503,
          0
         ],
         "yaxis": "y2"
        },
        {
         "hoverinfo": "y+name",
         "line": {
          "width": 0.5
         },
         "marker": {
          "color": "rgb(0,116,217)"
         },
         "mode": "lines",
         "name": "Col Cluster 5",
         "type": "scatter",
         "x": [
          40,
          40,
          62.5,
          62.5
         ],
         "xaxis": "x2",
         "y": [
          0.33355941236228503,
          0.5370033025397752,
          0.5370033025397752,
          0.47179027329014256
         ],
         "yaxis": "y2"
        },
        {
         "hoverinfo": "y+name",
         "line": {
          "width": 0.5
         },
         "marker": {
          "color": "rgb(0,116,217)"
         },
         "mode": "lines",
         "name": "Col Cluster 6",
         "type": "scatter",
         "x": [
          51.25,
          51.25,
          92.5,
          92.5
         ],
         "xaxis": "x2",
         "y": [
          0.5370033025397752,
          0.8433159879877756,
          0.8433159879877756,
          0.6915083138193746
         ],
         "yaxis": "y2"
        },
        {
         "hoverinfo": "y+name",
         "line": {
          "width": 0.5
         },
         "marker": {
          "color": "rgb(0,116,217)"
         },
         "mode": "lines",
         "name": "Col Cluster 7",
         "type": "scatter",
         "x": [
          55,
          55,
          70,
          70
         ],
         "xaxis": "x2",
         "y": [
          0,
          0.47179027329014256,
          0.47179027329014256,
          0.361033705977509
         ],
         "yaxis": "y2"
        },
        {
         "hoverinfo": "y+name",
         "line": {
          "width": 0.5
         },
         "marker": {
          "color": "rgb(0,116,217)"
         },
         "mode": "lines",
         "name": "Col Cluster 8",
         "type": "scatter",
         "x": [
          65,
          65,
          75,
          75
         ],
         "xaxis": "x2",
         "y": [
          0,
          0.361033705977509,
          0.361033705977509,
          0
         ],
         "yaxis": "y2"
        },
        {
         "hoverinfo": "y+name",
         "line": {
          "width": 0.5
         },
         "marker": {
          "color": "rgb(0,116,217)"
         },
         "mode": "lines",
         "name": "Col Cluster 9",
         "type": "scatter",
         "x": [
          71.875,
          71.875,
          150,
          150
         ],
         "xaxis": "x2",
         "y": [
          0.8433159879877756,
          0.9953774721192685,
          0.9953774721192685,
          0.9434418957380677
         ],
         "yaxis": "y2"
        },
        {
         "hoverinfo": "y+name",
         "line": {
          "width": 0.5
         },
         "marker": {
          "color": "rgb(0,116,217)"
         },
         "mode": "lines",
         "name": "Col Cluster 10",
         "type": "scatter",
         "x": [
          85,
          85,
          100,
          100
         ],
         "xaxis": "x2",
         "y": [
          0,
          0.6915083138193746,
          0.6915083138193746,
          0.5661454958673882
         ],
         "yaxis": "y2"
        },
        {
         "hoverinfo": "y+name",
         "line": {
          "width": 0.5
         },
         "marker": {
          "color": "rgb(0,116,217)"
         },
         "mode": "lines",
         "name": "Col Cluster 11",
         "type": "scatter",
         "x": [
          95,
          95,
          105,
          105
         ],
         "xaxis": "x2",
         "y": [
          0,
          0.5661454958673882,
          0.5661454958673882,
          0
         ],
         "yaxis": "y2"
        },
        {
         "hoverinfo": "y+name",
         "line": {
          "width": 0.5
         },
         "marker": {
          "color": "rgb(0,116,217)"
         },
         "mode": "lines",
         "name": "Col Cluster 12",
         "type": "scatter",
         "x": [
          110.9375,
          110.9375,
          202.5,
          202.5
         ],
         "xaxis": "x2",
         "y": [
          0.9953774721192685,
          1.1486331066670386,
          1.1486331066670386,
          1.0011063171562324
         ],
         "yaxis": "y2"
        },
        {
         "hoverinfo": "y+name",
         "line": {
          "width": 0.5
         },
         "marker": {
          "color": "rgb(0,116,217)"
         },
         "mode": "lines",
         "name": "Col Cluster 13",
         "type": "scatter",
         "x": [
          115,
          115,
          140,
          140
         ],
         "xaxis": "x2",
         "y": [
          0,
          0.7372256580077208,
          0.7372256580077208,
          0.7125922432063719
         ],
         "yaxis": "y2"
        },
        {
         "hoverinfo": "y+name",
         "line": {
          "width": 0.5
         },
         "marker": {
          "color": "rgb(0,116,217)"
         },
         "mode": "lines",
         "name": "Col Cluster 14",
         "type": "scatter",
         "x": [
          125,
          125,
          135,
          135
         ],
         "xaxis": "x2",
         "y": [
          0,
          0.5730740933132228,
          0.5730740933132228,
          0
         ],
         "yaxis": "y2"
        },
        {
         "hoverinfo": "y+name",
         "line": {
          "width": 0.5
         },
         "marker": {
          "color": "rgb(0,116,217)"
         },
         "mode": "lines",
         "name": "Col Cluster 15",
         "type": "scatter",
         "x": [
          127.5,
          127.5,
          172.5,
          172.5
         ],
         "xaxis": "x2",
         "y": [
          0.7372256580077208,
          0.9434418957380677,
          0.9434418957380677,
          0.7935373848342538
         ],
         "yaxis": "y2"
        },
        {
         "hoverinfo": "y+name",
         "line": {
          "width": 0.5
         },
         "marker": {
          "color": "rgb(0,116,217)"
         },
         "mode": "lines",
         "name": "Col Cluster 16",
         "type": "scatter",
         "x": [
          130,
          130,
          150,
          150
         ],
         "xaxis": "x2",
         "y": [
          0.5730740933132228,
          0.7125922432063719,
          0.7125922432063719,
          0.6356399901766273
         ],
         "yaxis": "y2"
        },
        {
         "hoverinfo": "y+name",
         "line": {
          "width": 0.5
         },
         "marker": {
          "color": "rgb(0,116,217)"
         },
         "mode": "lines",
         "name": "Col Cluster 17",
         "type": "scatter",
         "x": [
          145,
          145,
          155,
          155
         ],
         "xaxis": "x2",
         "y": [
          0,
          0.6356399901766273,
          0.6356399901766273,
          0
         ],
         "yaxis": "y2"
        },
        {
         "hoverinfo": "y+name",
         "line": {
          "width": 0.5
         },
         "marker": {
          "color": "rgb(0,116,217)"
         },
         "mode": "lines",
         "name": "Col Cluster 18",
         "type": "scatter",
         "x": [
          156.71875,
          156.71875,
          230,
          230
         ],
         "xaxis": "x2",
         "y": [
          1.1486331066670386,
          1.290552108020249,
          1.290552108020249,
          1.2070331119633844
         ],
         "yaxis": "y2"
        },
        {
         "hoverinfo": "y+name",
         "line": {
          "width": 0.5
         },
         "marker": {
          "color": "rgb(0,116,217)"
         },
         "mode": "lines",
         "name": "Col Cluster 19",
         "type": "scatter",
         "x": [
          165,
          165,
          180,
          180
         ],
         "xaxis": "x2",
         "y": [
          0,
          0.7935373848342538,
          0.7935373848342538,
          0.6017909860294328
         ],
         "yaxis": "y2"
        },
        {
         "hoverinfo": "y+name",
         "line": {
          "width": 0.5
         },
         "marker": {
          "color": "rgb(0,116,217)"
         },
         "mode": "lines",
         "name": "Col Cluster 20",
         "type": "scatter",
         "x": [
          175,
          175,
          185,
          185
         ],
         "xaxis": "x2",
         "y": [
          0,
          0.6017909860294328,
          0.6017909860294328,
          0
         ],
         "yaxis": "y2"
        },
        {
         "hoverinfo": "y+name",
         "line": {
          "width": 0.5
         },
         "marker": {
          "color": "rgb(0,116,217)"
         },
         "mode": "lines",
         "name": "Col Cluster 21",
         "type": "scatter",
         "x": [
          195,
          195,
          210,
          210
         ],
         "xaxis": "x2",
         "y": [
          0,
          1.0011063171562324,
          1.0011063171562324,
          0.8493063030662346
         ],
         "yaxis": "y2"
        },
        {
         "hoverinfo": "y+name",
         "line": {
          "width": 0.5
         },
         "marker": {
          "color": "rgb(0,116,217)"
         },
         "mode": "lines",
         "name": "Col Cluster 22",
         "type": "scatter",
         "x": [
          205,
          205,
          215,
          215
         ],
         "xaxis": "x2",
         "y": [
          0,
          0.8493063030662346,
          0.8493063030662346,
          0
         ],
         "yaxis": "y2"
        },
        {
         "hoverinfo": "y+name",
         "line": {
          "width": 0.5
         },
         "marker": {
          "color": "rgb(0,116,217)"
         },
         "mode": "lines",
         "name": "Col Cluster 23",
         "type": "scatter",
         "x": [
          225,
          225,
          235,
          235
         ],
         "xaxis": "x2",
         "y": [
          0,
          1.2070331119633844,
          1.2070331119633844,
          0
         ],
         "yaxis": "y2"
        },
        {
         "hoverinfo": "y+name",
         "line": {
          "width": 0.5
         },
         "marker": {
          "color": "rgb(0,116,217)"
         },
         "mode": "lines",
         "name": "Col Cluster 24",
         "type": "scatter",
         "x": [
          245,
          245,
          260,
          260
         ],
         "xaxis": "x2",
         "y": [
          0,
          1.0042634377218198,
          1.0042634377218198,
          0.8668071127395197
         ],
         "yaxis": "y2"
        },
        {
         "hoverinfo": "y+name",
         "line": {
          "width": 0.5
         },
         "marker": {
          "color": "rgb(0,116,217)"
         },
         "mode": "lines",
         "name": "Col Cluster 25",
         "type": "scatter",
         "x": [
          252.5,
          252.5,
          284.6875,
          284.6875
         ],
         "xaxis": "x2",
         "y": [
          1.0042634377218198,
          1.2599937242424657,
          1.2599937242424657,
          1.165095389135014
         ],
         "yaxis": "y2"
        },
        {
         "hoverinfo": "y+name",
         "line": {
          "width": 0.5
         },
         "marker": {
          "color": "rgb(0,116,217)"
         },
         "mode": "lines",
         "name": "Col Cluster 26",
         "type": "scatter",
         "x": [
          255,
          255,
          265,
          265
         ],
         "xaxis": "x2",
         "y": [
          0,
          0.8668071127395197,
          0.8668071127395197,
          0
         ],
         "yaxis": "y2"
        },
        {
         "hoverinfo": "y+name",
         "line": {
          "width": 0.5
         },
         "marker": {
          "color": "rgb(0,116,217)"
         },
         "mode": "lines",
         "name": "Col Cluster 27",
         "type": "scatter",
         "x": [
          268.59375,
          268.59375,
          434.90234375,
          434.90234375
         ],
         "xaxis": "x2",
         "y": [
          1.2599937242424657,
          1.7686261266212868,
          1.7686261266212868,
          1.463194115183676
         ],
         "yaxis": "y2"
        },
        {
         "hoverinfo": "y+name",
         "line": {
          "width": 0.5
         },
         "marker": {
          "color": "rgb(0,116,217)"
         },
         "mode": "lines",
         "name": "Col Cluster 28",
         "type": "scatter",
         "x": [
          275,
          275,
          294.375,
          294.375
         ],
         "xaxis": "x2",
         "y": [
          0,
          1.165095389135014,
          1.165095389135014,
          0.9815952415473446
         ],
         "yaxis": "y2"
        },
        {
         "hoverinfo": "y+name",
         "line": {
          "width": 0.5
         },
         "marker": {
          "color": "rgb(0,116,217)"
         },
         "mode": "lines",
         "name": "Col Cluster 29",
         "type": "scatter",
         "x": [
          285,
          285,
          303.75,
          303.75
         ],
         "xaxis": "x2",
         "y": [
          0,
          0.9815952415473446,
          0.9815952415473446,
          0.8893215678270254
         ],
         "yaxis": "y2"
        },
        {
         "hoverinfo": "y+name",
         "line": {
          "width": 0.5
         },
         "marker": {
          "color": "rgb(0,116,217)"
         },
         "mode": "lines",
         "name": "Col Cluster 30",
         "type": "scatter",
         "x": [
          295,
          295,
          312.5,
          312.5
         ],
         "xaxis": "x2",
         "y": [
          0,
          0.8893215678270254,
          0.8893215678270254,
          0.8483273745045885
         ],
         "yaxis": "y2"
        },
        {
         "hoverinfo": "y+name",
         "line": {
          "width": 0.5
         },
         "marker": {
          "color": "rgb(0,116,217)"
         },
         "mode": "lines",
         "name": "Col Cluster 31",
         "type": "scatter",
         "x": [
          305,
          305,
          320,
          320
         ],
         "xaxis": "x2",
         "y": [
          0,
          0.8483273745045885,
          0.8483273745045885,
          0.8354178198866415
         ],
         "yaxis": "y2"
        },
        {
         "hoverinfo": "y+name",
         "line": {
          "width": 0.5
         },
         "marker": {
          "color": "rgb(0,116,217)"
         },
         "mode": "lines",
         "name": "Col Cluster 32",
         "type": "scatter",
         "x": [
          315,
          315,
          325,
          325
         ],
         "xaxis": "x2",
         "y": [
          0,
          0.8354178198866415,
          0.8354178198866415,
          0
         ],
         "yaxis": "y2"
        },
        {
         "hoverinfo": "y+name",
         "line": {
          "width": 0.5
         },
         "marker": {
          "color": "rgb(0,116,217)"
         },
         "mode": "lines",
         "name": "Col Cluster 33",
         "type": "scatter",
         "x": [
          335,
          335,
          345,
          345
         ],
         "xaxis": "x2",
         "y": [
          0,
          1.2010615351784573,
          1.2010615351784573,
          0
         ],
         "yaxis": "y2"
        },
        {
         "hoverinfo": "y+name",
         "line": {
          "width": 0.5
         },
         "marker": {
          "color": "rgb(0,116,217)"
         },
         "mode": "lines",
         "name": "Col Cluster 34",
         "type": "scatter",
         "x": [
          340,
          340,
          379.609375,
          379.609375
         ],
         "xaxis": "x2",
         "y": [
          1.2010615351784573,
          1.3246818787923949,
          1.3246818787923949,
          1.2656120460093991
         ],
         "yaxis": "y2"
        },
        {
         "hoverinfo": "y+name",
         "line": {
          "width": 0.5
         },
         "marker": {
          "color": "rgb(0,116,217)"
         },
         "mode": "lines",
         "name": "Col Cluster 35",
         "type": "scatter",
         "x": [
          351.748046875,
          351.748046875,
          594.453125,
          594.453125
         ],
         "xaxis": "x2",
         "y": [
          1.7686261266212868,
          2.730671753914381,
          2.730671753914381,
          1.7908850688874964
         ],
         "yaxis": "y2"
        },
        {
         "hoverinfo": "y+name",
         "line": {
          "width": 0.5
         },
         "marker": {
          "color": "rgb(0,116,217)"
         },
         "mode": "lines",
         "name": "Col Cluster 36",
         "type": "scatter",
         "x": [
          355,
          355,
          404.21875,
          404.21875
         ],
         "xaxis": "x2",
         "y": [
          0,
          1.2656120460093991,
          1.2656120460093991,
          1.2264308734590372
         ],
         "yaxis": "y2"
        },
        {
         "hoverinfo": "y+name",
         "line": {
          "width": 0.5
         },
         "marker": {
          "color": "rgb(0,116,217)"
         },
         "mode": "lines",
         "name": "Col Cluster 37",
         "type": "scatter",
         "x": [
          359.8046875,
          359.8046875,
          510,
          510
         ],
         "xaxis": "x2",
         "y": [
          1.3246818787923949,
          1.463194115183676,
          1.463194115183676,
          1.3759983887301377
         ],
         "yaxis": "y2"
        },
        {
         "hoverinfo": "y+name",
         "line": {
          "width": 0.5
         },
         "marker": {
          "color": "rgb(0,116,217)"
         },
         "mode": "lines",
         "name": "Col Cluster 38",
         "type": "scatter",
         "x": [
          365,
          365,
          380,
          380
         ],
         "xaxis": "x2",
         "y": [
          0,
          1.116184843698289,
          1.116184843698289,
          1.0808254196454552
         ],
         "yaxis": "y2"
        },
        {
         "hoverinfo": "y+name",
         "line": {
          "width": 0.5
         },
         "marker": {
          "color": "rgb(0,116,217)"
         },
         "mode": "lines",
         "name": "Col Cluster 39",
         "type": "scatter",
         "x": [
          372.5,
          372.5,
          435.9375,
          435.9375
         ],
         "xaxis": "x2",
         "y": [
          1.116184843698289,
          1.2264308734590372,
          1.2264308734590372,
          1.1281834815032359
         ],
         "yaxis": "y2"
        },
        {
         "hoverinfo": "y+name",
         "line": {
          "width": 0.5
         },
         "marker": {
          "color": "rgb(0,116,217)"
         },
         "mode": "lines",
         "name": "Col Cluster 40",
         "type": "scatter",
         "x": [
          375,
          375,
          385,
          385
         ],
         "xaxis": "x2",
         "y": [
          0,
          1.0808254196454552,
          1.0808254196454552,
          0
         ],
         "yaxis": "y2"
        },
        {
         "hoverinfo": "y+name",
         "line": {
          "width": 0.5
         },
         "marker": {
          "color": "rgb(0,116,217)"
         },
         "mode": "lines",
         "name": "Col Cluster 41",
         "type": "scatter",
         "x": [
          395,
          395,
          413.75,
          413.75
         ],
         "xaxis": "x2",
         "y": [
          0,
          1.030118852877324,
          1.030118852877324,
          0.9673138987108941
         ],
         "yaxis": "y2"
        },
        {
         "hoverinfo": "y+name",
         "line": {
          "width": 0.5
         },
         "marker": {
          "color": "rgb(0,116,217)"
         },
         "mode": "lines",
         "name": "Col Cluster 42",
         "type": "scatter",
         "x": [
          404.375,
          404.375,
          467.5,
          467.5
         ],
         "xaxis": "x2",
         "y": [
          1.030118852877324,
          1.1281834815032359,
          1.1281834815032359,
          1.0863659309937206
         ],
         "yaxis": "y2"
        },
        {
         "hoverinfo": "y+name",
         "line": {
          "width": 0.5
         },
         "marker": {
          "color": "rgb(0,116,217)"
         },
         "mode": "lines",
         "name": "Col Cluster 43",
         "type": "scatter",
         "x": [
          405,
          405,
          422.5,
          422.5
         ],
         "xaxis": "x2",
         "y": [
          0,
          0.9673138987108941,
          0.9673138987108941,
          0.936702500106274
         ],
         "yaxis": "y2"
        },
        {
         "hoverinfo": "y+name",
         "line": {
          "width": 0.5
         },
         "marker": {
          "color": "rgb(0,116,217)"
         },
         "mode": "lines",
         "name": "Col Cluster 44",
         "type": "scatter",
         "x": [
          415,
          415,
          430,
          430
         ],
         "xaxis": "x2",
         "y": [
          0,
          0.936702500106274,
          0.936702500106274,
          0.823613800740301
         ],
         "yaxis": "y2"
        },
        {
         "hoverinfo": "y+name",
         "line": {
          "width": 0.5
         },
         "marker": {
          "color": "rgb(0,116,217)"
         },
         "mode": "lines",
         "name": "Col Cluster 45",
         "type": "scatter",
         "x": [
          425,
          425,
          435,
          435
         ],
         "xaxis": "x2",
         "y": [
          0,
          0.823613800740301,
          0.823613800740301,
          0
         ],
         "yaxis": "y2"
        },
        {
         "hoverinfo": "y+name",
         "line": {
          "width": 0.5
         },
         "marker": {
          "color": "rgb(0,116,217)"
         },
         "mode": "lines",
         "name": "Col Cluster 46",
         "type": "scatter",
         "x": [
          445,
          445,
          460,
          460
         ],
         "xaxis": "x2",
         "y": [
          0,
          1.0282600905724395,
          1.0282600905724395,
          0.9664309736552691
         ],
         "yaxis": "y2"
        },
        {
         "hoverinfo": "y+name",
         "line": {
          "width": 0.5
         },
         "marker": {
          "color": "rgb(0,116,217)"
         },
         "mode": "lines",
         "name": "Col Cluster 47",
         "type": "scatter",
         "x": [
          452.5,
          452.5,
          482.5,
          482.5
         ],
         "xaxis": "x2",
         "y": [
          1.0282600905724395,
          1.0863659309937206,
          1.0863659309937206,
          1.051290512675699
         ],
         "yaxis": "y2"
        },
        {
         "hoverinfo": "y+name",
         "line": {
          "width": 0.5
         },
         "marker": {
          "color": "rgb(0,116,217)"
         },
         "mode": "lines",
         "name": "Col Cluster 48",
         "type": "scatter",
         "x": [
          455,
          455,
          465,
          465
         ],
         "xaxis": "x2",
         "y": [
          0,
          0.9664309736552691,
          0.9664309736552691,
          0
         ],
         "yaxis": "y2"
        },
        {
         "hoverinfo": "y+name",
         "line": {
          "width": 0.5
         },
         "marker": {
          "color": "rgb(0,116,217)"
         },
         "mode": "lines",
         "name": "Col Cluster 49",
         "type": "scatter",
         "x": [
          475,
          475,
          490,
          490
         ],
         "xaxis": "x2",
         "y": [
          0,
          1.051290512675699,
          1.051290512675699,
          0.9699856954543126
         ],
         "yaxis": "y2"
        },
        {
         "hoverinfo": "y+name",
         "line": {
          "width": 0.5
         },
         "marker": {
          "color": "rgb(0,116,217)"
         },
         "mode": "lines",
         "name": "Col Cluster 50",
         "type": "scatter",
         "x": [
          485,
          485,
          495,
          495
         ],
         "xaxis": "x2",
         "y": [
          0,
          0.9699856954543126,
          0.9699856954543126,
          0
         ],
         "yaxis": "y2"
        },
        {
         "hoverinfo": "y+name",
         "line": {
          "width": 0.5
         },
         "marker": {
          "color": "rgb(0,116,217)"
         },
         "mode": "lines",
         "name": "Col Cluster 51",
         "type": "scatter",
         "x": [
          505,
          505,
          515,
          515
         ],
         "xaxis": "x2",
         "y": [
          0,
          1.3759983887301377,
          1.3759983887301377,
          0
         ],
         "yaxis": "y2"
        },
        {
         "hoverinfo": "y+name",
         "line": {
          "width": 0.5
         },
         "marker": {
          "color": "rgb(0,116,217)"
         },
         "mode": "lines",
         "name": "Col Cluster 52",
         "type": "scatter",
         "x": [
          525,
          525,
          543.75,
          543.75
         ],
         "xaxis": "x2",
         "y": [
          0,
          1.1601991707219805,
          1.1601991707219805,
          1.021036169488463
         ],
         "yaxis": "y2"
        },
        {
         "hoverinfo": "y+name",
         "line": {
          "width": 0.5
         },
         "marker": {
          "color": "rgb(0,116,217)"
         },
         "mode": "lines",
         "name": "Col Cluster 53",
         "type": "scatter",
         "x": [
          534.375,
          534.375,
          580,
          580
         ],
         "xaxis": "x2",
         "y": [
          1.1601991707219805,
          1.3691961906617056,
          1.3691961906617056,
          1.341085087901664
         ],
         "yaxis": "y2"
        },
        {
         "hoverinfo": "y+name",
         "line": {
          "width": 0.5
         },
         "marker": {
          "color": "rgb(0,116,217)"
         },
         "mode": "lines",
         "name": "Col Cluster 54",
         "type": "scatter",
         "x": [
          535,
          535,
          552.5,
          552.5
         ],
         "xaxis": "x2",
         "y": [
          0,
          1.021036169488463,
          1.021036169488463,
          0.8273157789773994
         ],
         "yaxis": "y2"
        },
        {
         "hoverinfo": "y+name",
         "line": {
          "width": 0.5
         },
         "marker": {
          "color": "rgb(0,116,217)"
         },
         "mode": "lines",
         "name": "Col Cluster 55",
         "type": "scatter",
         "x": [
          545,
          545,
          560,
          560
         ],
         "xaxis": "x2",
         "y": [
          0,
          0.8273157789773994,
          0.8273157789773994,
          0.6874213492291046
         ],
         "yaxis": "y2"
        },
        {
         "hoverinfo": "y+name",
         "line": {
          "width": 0.5
         },
         "marker": {
          "color": "rgb(0,116,217)"
         },
         "mode": "lines",
         "name": "Col Cluster 56",
         "type": "scatter",
         "x": [
          555,
          555,
          565,
          565
         ],
         "xaxis": "x2",
         "y": [
          0,
          0.6874213492291046,
          0.6874213492291046,
          0
         ],
         "yaxis": "y2"
        },
        {
         "hoverinfo": "y+name",
         "line": {
          "width": 0.5
         },
         "marker": {
          "color": "rgb(0,116,217)"
         },
         "mode": "lines",
         "name": "Col Cluster 57",
         "type": "scatter",
         "x": [
          557.1875,
          557.1875,
          631.71875,
          631.71875
         ],
         "xaxis": "x2",
         "y": [
          1.3691961906617056,
          1.7908850688874964,
          1.7908850688874964,
          1.518832419265282
         ],
         "yaxis": "y2"
        },
        {
         "hoverinfo": "y+name",
         "line": {
          "width": 0.5
         },
         "marker": {
          "color": "rgb(0,116,217)"
         },
         "mode": "lines",
         "name": "Col Cluster 58",
         "type": "scatter",
         "x": [
          575,
          575,
          585,
          585
         ],
         "xaxis": "x2",
         "y": [
          0,
          1.341085087901664,
          1.341085087901664,
          0
         ],
         "yaxis": "y2"
        },
        {
         "hoverinfo": "y+name",
         "line": {
          "width": 0.5
         },
         "marker": {
          "color": "rgb(0,116,217)"
         },
         "mode": "lines",
         "name": "Col Cluster 59",
         "type": "scatter",
         "x": [
          595,
          595,
          610,
          610
         ],
         "xaxis": "x2",
         "y": [
          0,
          1.0870166132537622,
          1.0870166132537622,
          0.9901221696580418
         ],
         "yaxis": "y2"
        },
        {
         "hoverinfo": "y+name",
         "line": {
          "width": 0.5
         },
         "marker": {
          "color": "rgb(0,116,217)"
         },
         "mode": "lines",
         "name": "Col Cluster 60",
         "type": "scatter",
         "x": [
          602.5,
          602.5,
          660.9375,
          660.9375
         ],
         "xaxis": "x2",
         "y": [
          1.0870166132537622,
          1.518832419265282,
          1.518832419265282,
          1.1593893020133281
         ],
         "yaxis": "y2"
        },
        {
         "hoverinfo": "y+name",
         "line": {
          "width": 0.5
         },
         "marker": {
          "color": "rgb(0,116,217)"
         },
         "mode": "lines",
         "name": "Col Cluster 61",
         "type": "scatter",
         "x": [
          605,
          605,
          615,
          615
         ],
         "xaxis": "x2",
         "y": [
          0,
          0.9901221696580418,
          0.9901221696580418,
          0
         ],
         "yaxis": "y2"
        },
        {
         "hoverinfo": "y+name",
         "line": {
          "width": 0.5
         },
         "marker": {
          "color": "rgb(0,116,217)"
         },
         "mode": "lines",
         "name": "Col Cluster 62",
         "type": "scatter",
         "x": [
          625,
          625,
          635,
          635
         ],
         "xaxis": "x2",
         "y": [
          0,
          0.6575112546378131,
          0.6575112546378131,
          0
         ],
         "yaxis": "y2"
        },
        {
         "hoverinfo": "y+name",
         "line": {
          "width": 0.5
         },
         "marker": {
          "color": "rgb(0,116,217)"
         },
         "mode": "lines",
         "name": "Col Cluster 63",
         "type": "scatter",
         "x": [
          630,
          630,
          650,
          650
         ],
         "xaxis": "x2",
         "y": [
          0.6575112546378131,
          0.9093485393740948,
          0.9093485393740948,
          0.8044621022800553
         ],
         "yaxis": "y2"
        },
        {
         "hoverinfo": "y+name",
         "line": {
          "width": 0.5
         },
         "marker": {
          "color": "rgb(0,116,217)"
         },
         "mode": "lines",
         "name": "Col Cluster 64",
         "type": "scatter",
         "x": [
          640,
          640,
          681.875,
          681.875
         ],
         "xaxis": "x2",
         "y": [
          0.9093485393740948,
          1.1593893020133281,
          1.1593893020133281,
          1.0220020544522952
         ],
         "yaxis": "y2"
        },
        {
         "hoverinfo": "y+name",
         "line": {
          "width": 0.5
         },
         "marker": {
          "color": "rgb(0,116,217)"
         },
         "mode": "lines",
         "name": "Col Cluster 65",
         "type": "scatter",
         "x": [
          645,
          645,
          655,
          655
         ],
         "xaxis": "x2",
         "y": [
          0,
          0.8044621022800553,
          0.8044621022800553,
          0
         ],
         "yaxis": "y2"
        },
        {
         "hoverinfo": "y+name",
         "line": {
          "width": 0.5
         },
         "marker": {
          "color": "rgb(0,116,217)"
         },
         "mode": "lines",
         "name": "Col Cluster 66",
         "type": "scatter",
         "x": [
          665,
          665,
          675,
          675
         ],
         "xaxis": "x2",
         "y": [
          0,
          0.8449661022943377,
          0.8449661022943377,
          0
         ],
         "yaxis": "y2"
        },
        {
         "hoverinfo": "y+name",
         "line": {
          "width": 0.5
         },
         "marker": {
          "color": "rgb(0,116,217)"
         },
         "mode": "lines",
         "name": "Col Cluster 67",
         "type": "scatter",
         "x": [
          670,
          670,
          693.75,
          693.75
         ],
         "xaxis": "x2",
         "y": [
          0.8449661022943377,
          1.0220020544522952,
          1.0220020544522952,
          0.9388188671889731
         ],
         "yaxis": "y2"
        },
        {
         "hoverinfo": "y+name",
         "line": {
          "width": 0.5
         },
         "marker": {
          "color": "rgb(0,116,217)"
         },
         "mode": "lines",
         "name": "Col Cluster 68",
         "type": "scatter",
         "x": [
          685,
          685,
          702.5,
          702.5
         ],
         "xaxis": "x2",
         "y": [
          0,
          0.9388188671889731,
          0.9388188671889731,
          0.7605773637671627
         ],
         "yaxis": "y2"
        },
        {
         "hoverinfo": "y+name",
         "line": {
          "width": 0.5
         },
         "marker": {
          "color": "rgb(0,116,217)"
         },
         "mode": "lines",
         "name": "Col Cluster 69",
         "type": "scatter",
         "x": [
          695,
          695,
          710,
          710
         ],
         "xaxis": "x2",
         "y": [
          0,
          0.7605773637671627,
          0.7605773637671627,
          0.7048940738126299
         ],
         "yaxis": "y2"
        },
        {
         "hoverinfo": "y+name",
         "line": {
          "width": 0.5
         },
         "marker": {
          "color": "rgb(0,116,217)"
         },
         "mode": "lines",
         "name": "Col Cluster 70",
         "type": "scatter",
         "x": [
          705,
          705,
          715,
          715
         ],
         "xaxis": "x2",
         "y": [
          0,
          0.7048940738126299,
          0.7048940738126299,
          0
         ],
         "yaxis": "y2"
        },
        {
         "hoverinfo": "x+name",
         "line": {
          "width": 0.5
         },
         "marker": {
          "color": "rgb(0,116,217)"
         },
         "mode": "lines",
         "name": "Row Cluster 0",
         "type": "scatter",
         "x": [
          0,
          -0.3821329809072522,
          -0.3821329809072522,
          0
         ],
         "xaxis": "x4",
         "y": [
          15,
          15,
          25,
          25
         ],
         "yaxis": "y4"
        },
        {
         "hoverinfo": "x+name",
         "line": {
          "width": 0.5
         },
         "marker": {
          "color": "rgb(0,116,217)"
         },
         "mode": "lines",
         "name": "Row Cluster 1",
         "type": "scatter",
         "x": [
          0,
          -0.7048940738126299,
          -0.7048940738126299,
          0
         ],
         "xaxis": "x4",
         "y": [
          705,
          705,
          715,
          715
         ],
         "yaxis": "y4"
        },
        {
         "hoverinfo": "x+name",
         "line": {
          "width": 0.5
         },
         "marker": {
          "color": "rgb(0,116,217)"
         },
         "mode": "lines",
         "name": "Row Cluster 2",
         "type": "scatter",
         "x": [
          0,
          -0.7605773637671627,
          -0.7605773637671627,
          -0.7048940738126299
         ],
         "xaxis": "x4",
         "y": [
          695,
          695,
          710,
          710
         ],
         "yaxis": "y4"
        },
        {
         "hoverinfo": "x+name",
         "line": {
          "width": 0.5
         },
         "marker": {
          "color": "rgb(0,116,217)"
         },
         "mode": "lines",
         "name": "Row Cluster 3",
         "type": "scatter",
         "x": [
          0,
          -0.9388188671889731,
          -0.9388188671889731,
          -0.7605773637671627
         ],
         "xaxis": "x4",
         "y": [
          685,
          685,
          702.5,
          702.5
         ],
         "yaxis": "y4"
        },
        {
         "hoverinfo": "x+name",
         "line": {
          "width": 0.5
         },
         "marker": {
          "color": "rgb(0,116,217)"
         },
         "mode": "lines",
         "name": "Row Cluster 4",
         "type": "scatter",
         "x": [
          -0.8449661022943377,
          -1.0220020544522952,
          -1.0220020544522952,
          -0.9388188671889731
         ],
         "xaxis": "x4",
         "y": [
          670,
          670,
          693.75,
          693.75
         ],
         "yaxis": "y4"
        },
        {
         "hoverinfo": "x+name",
         "line": {
          "width": 0.5
         },
         "marker": {
          "color": "rgb(0,116,217)"
         },
         "mode": "lines",
         "name": "Row Cluster 5",
         "type": "scatter",
         "x": [
          0,
          -0.8449661022943377,
          -0.8449661022943377,
          0
         ],
         "xaxis": "x4",
         "y": [
          665,
          665,
          675,
          675
         ],
         "yaxis": "y4"
        },
        {
         "hoverinfo": "x+name",
         "line": {
          "width": 0.5
         },
         "marker": {
          "color": "rgb(0,116,217)"
         },
         "mode": "lines",
         "name": "Row Cluster 6",
         "type": "scatter",
         "x": [
          0,
          -0.8044621022800553,
          -0.8044621022800553,
          0
         ],
         "xaxis": "x4",
         "y": [
          645,
          645,
          655,
          655
         ],
         "yaxis": "y4"
        },
        {
         "hoverinfo": "x+name",
         "line": {
          "width": 0.5
         },
         "marker": {
          "color": "rgb(0,116,217)"
         },
         "mode": "lines",
         "name": "Row Cluster 7",
         "type": "scatter",
         "x": [
          -0.9093485393740948,
          -1.1593893020133281,
          -1.1593893020133281,
          -1.0220020544522952
         ],
         "xaxis": "x4",
         "y": [
          640,
          640,
          681.875,
          681.875
         ],
         "yaxis": "y4"
        },
        {
         "hoverinfo": "x+name",
         "line": {
          "width": 0.5
         },
         "marker": {
          "color": "rgb(0,116,217)"
         },
         "mode": "lines",
         "name": "Row Cluster 8",
         "type": "scatter",
         "x": [
          -0.6575112546378131,
          -0.9093485393740948,
          -0.9093485393740948,
          -0.8044621022800553
         ],
         "xaxis": "x4",
         "y": [
          630,
          630,
          650,
          650
         ],
         "yaxis": "y4"
        },
        {
         "hoverinfo": "x+name",
         "line": {
          "width": 0.5
         },
         "marker": {
          "color": "rgb(0,116,217)"
         },
         "mode": "lines",
         "name": "Row Cluster 9",
         "type": "scatter",
         "x": [
          0,
          -0.6575112546378131,
          -0.6575112546378131,
          0
         ],
         "xaxis": "x4",
         "y": [
          625,
          625,
          635,
          635
         ],
         "yaxis": "y4"
        },
        {
         "hoverinfo": "x+name",
         "line": {
          "width": 0.5
         },
         "marker": {
          "color": "rgb(0,116,217)"
         },
         "mode": "lines",
         "name": "Row Cluster 10",
         "type": "scatter",
         "x": [
          0,
          -0.9901221696580418,
          -0.9901221696580418,
          0
         ],
         "xaxis": "x4",
         "y": [
          605,
          605,
          615,
          615
         ],
         "yaxis": "y4"
        },
        {
         "hoverinfo": "x+name",
         "line": {
          "width": 0.5
         },
         "marker": {
          "color": "rgb(0,116,217)"
         },
         "mode": "lines",
         "name": "Row Cluster 11",
         "type": "scatter",
         "x": [
          -1.0870166132537622,
          -1.518832419265282,
          -1.518832419265282,
          -1.1593893020133281
         ],
         "xaxis": "x4",
         "y": [
          602.5,
          602.5,
          660.9375,
          660.9375
         ],
         "yaxis": "y4"
        },
        {
         "hoverinfo": "x+name",
         "line": {
          "width": 0.5
         },
         "marker": {
          "color": "rgb(0,116,217)"
         },
         "mode": "lines",
         "name": "Row Cluster 12",
         "type": "scatter",
         "x": [
          0,
          -1.0870166132537622,
          -1.0870166132537622,
          -0.9901221696580418
         ],
         "xaxis": "x4",
         "y": [
          595,
          595,
          610,
          610
         ],
         "yaxis": "y4"
        },
        {
         "hoverinfo": "x+name",
         "line": {
          "width": 0.5
         },
         "marker": {
          "color": "rgb(0,116,217)"
         },
         "mode": "lines",
         "name": "Row Cluster 13",
         "type": "scatter",
         "x": [
          0,
          -1.341085087901664,
          -1.341085087901664,
          0
         ],
         "xaxis": "x4",
         "y": [
          575,
          575,
          585,
          585
         ],
         "yaxis": "y4"
        },
        {
         "hoverinfo": "x+name",
         "line": {
          "width": 0.5
         },
         "marker": {
          "color": "rgb(0,116,217)"
         },
         "mode": "lines",
         "name": "Row Cluster 14",
         "type": "scatter",
         "x": [
          -1.3691961906617056,
          -1.7908850688874964,
          -1.7908850688874964,
          -1.518832419265282
         ],
         "xaxis": "x4",
         "y": [
          557.1875,
          557.1875,
          631.71875,
          631.71875
         ],
         "yaxis": "y4"
        },
        {
         "hoverinfo": "x+name",
         "line": {
          "width": 0.5
         },
         "marker": {
          "color": "rgb(0,116,217)"
         },
         "mode": "lines",
         "name": "Row Cluster 15",
         "type": "scatter",
         "x": [
          0,
          -0.6874213492291046,
          -0.6874213492291046,
          0
         ],
         "xaxis": "x4",
         "y": [
          555,
          555,
          565,
          565
         ],
         "yaxis": "y4"
        },
        {
         "hoverinfo": "x+name",
         "line": {
          "width": 0.5
         },
         "marker": {
          "color": "rgb(0,116,217)"
         },
         "mode": "lines",
         "name": "Row Cluster 16",
         "type": "scatter",
         "x": [
          0,
          -0.8273157789773994,
          -0.8273157789773994,
          -0.6874213492291046
         ],
         "xaxis": "x4",
         "y": [
          545,
          545,
          560,
          560
         ],
         "yaxis": "y4"
        },
        {
         "hoverinfo": "x+name",
         "line": {
          "width": 0.5
         },
         "marker": {
          "color": "rgb(0,116,217)"
         },
         "mode": "lines",
         "name": "Row Cluster 17",
         "type": "scatter",
         "x": [
          0,
          -1.021036169488463,
          -1.021036169488463,
          -0.8273157789773994
         ],
         "xaxis": "x4",
         "y": [
          535,
          535,
          552.5,
          552.5
         ],
         "yaxis": "y4"
        },
        {
         "hoverinfo": "x+name",
         "line": {
          "width": 0.5
         },
         "marker": {
          "color": "rgb(0,116,217)"
         },
         "mode": "lines",
         "name": "Row Cluster 18",
         "type": "scatter",
         "x": [
          -1.1601991707219805,
          -1.3691961906617056,
          -1.3691961906617056,
          -1.341085087901664
         ],
         "xaxis": "x4",
         "y": [
          534.375,
          534.375,
          580,
          580
         ],
         "yaxis": "y4"
        },
        {
         "hoverinfo": "x+name",
         "line": {
          "width": 0.5
         },
         "marker": {
          "color": "rgb(0,116,217)"
         },
         "mode": "lines",
         "name": "Row Cluster 19",
         "type": "scatter",
         "x": [
          0,
          -1.1601991707219805,
          -1.1601991707219805,
          -1.021036169488463
         ],
         "xaxis": "x4",
         "y": [
          525,
          525,
          543.75,
          543.75
         ],
         "yaxis": "y4"
        },
        {
         "hoverinfo": "x+name",
         "line": {
          "width": 0.5
         },
         "marker": {
          "color": "rgb(0,116,217)"
         },
         "mode": "lines",
         "name": "Row Cluster 20",
         "type": "scatter",
         "x": [
          0,
          -1.3759983887301377,
          -1.3759983887301377,
          0
         ],
         "xaxis": "x4",
         "y": [
          505,
          505,
          515,
          515
         ],
         "yaxis": "y4"
        },
        {
         "hoverinfo": "x+name",
         "line": {
          "width": 0.5
         },
         "marker": {
          "color": "rgb(0,116,217)"
         },
         "mode": "lines",
         "name": "Row Cluster 21",
         "type": "scatter",
         "x": [
          0,
          -0.9699856954543126,
          -0.9699856954543126,
          0
         ],
         "xaxis": "x4",
         "y": [
          485,
          485,
          495,
          495
         ],
         "yaxis": "y4"
        },
        {
         "hoverinfo": "x+name",
         "line": {
          "width": 0.5
         },
         "marker": {
          "color": "rgb(0,116,217)"
         },
         "mode": "lines",
         "name": "Row Cluster 22",
         "type": "scatter",
         "x": [
          0,
          -1.051290512675699,
          -1.051290512675699,
          -0.9699856954543126
         ],
         "xaxis": "x4",
         "y": [
          475,
          475,
          490,
          490
         ],
         "yaxis": "y4"
        },
        {
         "hoverinfo": "x+name",
         "line": {
          "width": 0.5
         },
         "marker": {
          "color": "rgb(0,116,217)"
         },
         "mode": "lines",
         "name": "Row Cluster 23",
         "type": "scatter",
         "x": [
          0,
          -0.9664309736552691,
          -0.9664309736552691,
          0
         ],
         "xaxis": "x4",
         "y": [
          455,
          455,
          465,
          465
         ],
         "yaxis": "y4"
        },
        {
         "hoverinfo": "x+name",
         "line": {
          "width": 0.5
         },
         "marker": {
          "color": "rgb(0,116,217)"
         },
         "mode": "lines",
         "name": "Row Cluster 24",
         "type": "scatter",
         "x": [
          -1.0282600905724395,
          -1.0863659309937206,
          -1.0863659309937206,
          -1.051290512675699
         ],
         "xaxis": "x4",
         "y": [
          452.5,
          452.5,
          482.5,
          482.5
         ],
         "yaxis": "y4"
        },
        {
         "hoverinfo": "x+name",
         "line": {
          "width": 0.5
         },
         "marker": {
          "color": "rgb(0,116,217)"
         },
         "mode": "lines",
         "name": "Row Cluster 25",
         "type": "scatter",
         "x": [
          0,
          -1.0282600905724395,
          -1.0282600905724395,
          -0.9664309736552691
         ],
         "xaxis": "x4",
         "y": [
          445,
          445,
          460,
          460
         ],
         "yaxis": "y4"
        },
        {
         "hoverinfo": "x+name",
         "line": {
          "width": 0.5
         },
         "marker": {
          "color": "rgb(0,116,217)"
         },
         "mode": "lines",
         "name": "Row Cluster 26",
         "type": "scatter",
         "x": [
          0,
          -0.823613800740301,
          -0.823613800740301,
          0
         ],
         "xaxis": "x4",
         "y": [
          425,
          425,
          435,
          435
         ],
         "yaxis": "y4"
        },
        {
         "hoverinfo": "x+name",
         "line": {
          "width": 0.5
         },
         "marker": {
          "color": "rgb(0,116,217)"
         },
         "mode": "lines",
         "name": "Row Cluster 27",
         "type": "scatter",
         "x": [
          0,
          -0.936702500106274,
          -0.936702500106274,
          -0.823613800740301
         ],
         "xaxis": "x4",
         "y": [
          415,
          415,
          430,
          430
         ],
         "yaxis": "y4"
        },
        {
         "hoverinfo": "x+name",
         "line": {
          "width": 0.5
         },
         "marker": {
          "color": "rgb(0,116,217)"
         },
         "mode": "lines",
         "name": "Row Cluster 28",
         "type": "scatter",
         "x": [
          0,
          -0.9673138987108941,
          -0.9673138987108941,
          -0.936702500106274
         ],
         "xaxis": "x4",
         "y": [
          405,
          405,
          422.5,
          422.5
         ],
         "yaxis": "y4"
        },
        {
         "hoverinfo": "x+name",
         "line": {
          "width": 0.5
         },
         "marker": {
          "color": "rgb(0,116,217)"
         },
         "mode": "lines",
         "name": "Row Cluster 29",
         "type": "scatter",
         "x": [
          -1.030118852877324,
          -1.1281834815032359,
          -1.1281834815032359,
          -1.0863659309937206
         ],
         "xaxis": "x4",
         "y": [
          404.375,
          404.375,
          467.5,
          467.5
         ],
         "yaxis": "y4"
        },
        {
         "hoverinfo": "x+name",
         "line": {
          "width": 0.5
         },
         "marker": {
          "color": "rgb(0,116,217)"
         },
         "mode": "lines",
         "name": "Row Cluster 30",
         "type": "scatter",
         "x": [
          0,
          -1.030118852877324,
          -1.030118852877324,
          -0.9673138987108941
         ],
         "xaxis": "x4",
         "y": [
          395,
          395,
          413.75,
          413.75
         ],
         "yaxis": "y4"
        },
        {
         "hoverinfo": "x+name",
         "line": {
          "width": 0.5
         },
         "marker": {
          "color": "rgb(0,116,217)"
         },
         "mode": "lines",
         "name": "Row Cluster 31",
         "type": "scatter",
         "x": [
          0,
          -1.0808254196454552,
          -1.0808254196454552,
          0
         ],
         "xaxis": "x4",
         "y": [
          375,
          375,
          385,
          385
         ],
         "yaxis": "y4"
        },
        {
         "hoverinfo": "x+name",
         "line": {
          "width": 0.5
         },
         "marker": {
          "color": "rgb(0,116,217)"
         },
         "mode": "lines",
         "name": "Row Cluster 32",
         "type": "scatter",
         "x": [
          -1.116184843698289,
          -1.2264308734590372,
          -1.2264308734590372,
          -1.1281834815032359
         ],
         "xaxis": "x4",
         "y": [
          372.5,
          372.5,
          435.9375,
          435.9375
         ],
         "yaxis": "y4"
        },
        {
         "hoverinfo": "x+name",
         "line": {
          "width": 0.5
         },
         "marker": {
          "color": "rgb(0,116,217)"
         },
         "mode": "lines",
         "name": "Row Cluster 33",
         "type": "scatter",
         "x": [
          0,
          -1.116184843698289,
          -1.116184843698289,
          -1.0808254196454552
         ],
         "xaxis": "x4",
         "y": [
          365,
          365,
          380,
          380
         ],
         "yaxis": "y4"
        },
        {
         "hoverinfo": "x+name",
         "line": {
          "width": 0.5
         },
         "marker": {
          "color": "rgb(0,116,217)"
         },
         "mode": "lines",
         "name": "Row Cluster 34",
         "type": "scatter",
         "x": [
          -1.3246818787923949,
          -1.463194115183676,
          -1.463194115183676,
          -1.3759983887301377
         ],
         "xaxis": "x4",
         "y": [
          359.8046875,
          359.8046875,
          510,
          510
         ],
         "yaxis": "y4"
        },
        {
         "hoverinfo": "x+name",
         "line": {
          "width": 0.5
         },
         "marker": {
          "color": "rgb(0,116,217)"
         },
         "mode": "lines",
         "name": "Row Cluster 35",
         "type": "scatter",
         "x": [
          0,
          -1.2656120460093991,
          -1.2656120460093991,
          -1.2264308734590372
         ],
         "xaxis": "x4",
         "y": [
          355,
          355,
          404.21875,
          404.21875
         ],
         "yaxis": "y4"
        },
        {
         "hoverinfo": "x+name",
         "line": {
          "width": 0.5
         },
         "marker": {
          "color": "rgb(0,116,217)"
         },
         "mode": "lines",
         "name": "Row Cluster 36",
         "type": "scatter",
         "x": [
          -1.7686261266212868,
          -2.730671753914381,
          -2.730671753914381,
          -1.7908850688874964
         ],
         "xaxis": "x4",
         "y": [
          351.748046875,
          351.748046875,
          594.453125,
          594.453125
         ],
         "yaxis": "y4"
        },
        {
         "hoverinfo": "x+name",
         "line": {
          "width": 0.5
         },
         "marker": {
          "color": "rgb(0,116,217)"
         },
         "mode": "lines",
         "name": "Row Cluster 37",
         "type": "scatter",
         "x": [
          -1.2010615351784573,
          -1.3246818787923949,
          -1.3246818787923949,
          -1.2656120460093991
         ],
         "xaxis": "x4",
         "y": [
          340,
          340,
          379.609375,
          379.609375
         ],
         "yaxis": "y4"
        },
        {
         "hoverinfo": "x+name",
         "line": {
          "width": 0.5
         },
         "marker": {
          "color": "rgb(0,116,217)"
         },
         "mode": "lines",
         "name": "Row Cluster 38",
         "type": "scatter",
         "x": [
          0,
          -1.2010615351784573,
          -1.2010615351784573,
          0
         ],
         "xaxis": "x4",
         "y": [
          335,
          335,
          345,
          345
         ],
         "yaxis": "y4"
        },
        {
         "hoverinfo": "x+name",
         "line": {
          "width": 0.5
         },
         "marker": {
          "color": "rgb(0,116,217)"
         },
         "mode": "lines",
         "name": "Row Cluster 39",
         "type": "scatter",
         "x": [
          0,
          -0.8354178198866415,
          -0.8354178198866415,
          0
         ],
         "xaxis": "x4",
         "y": [
          315,
          315,
          325,
          325
         ],
         "yaxis": "y4"
        },
        {
         "hoverinfo": "x+name",
         "line": {
          "width": 0.5
         },
         "marker": {
          "color": "rgb(0,116,217)"
         },
         "mode": "lines",
         "name": "Row Cluster 40",
         "type": "scatter",
         "x": [
          0,
          -0.8483273745045885,
          -0.8483273745045885,
          -0.8354178198866415
         ],
         "xaxis": "x4",
         "y": [
          305,
          305,
          320,
          320
         ],
         "yaxis": "y4"
        },
        {
         "hoverinfo": "x+name",
         "line": {
          "width": 0.5
         },
         "marker": {
          "color": "rgb(0,116,217)"
         },
         "mode": "lines",
         "name": "Row Cluster 41",
         "type": "scatter",
         "x": [
          0,
          -0.8893215678270254,
          -0.8893215678270254,
          -0.8483273745045885
         ],
         "xaxis": "x4",
         "y": [
          295,
          295,
          312.5,
          312.5
         ],
         "yaxis": "y4"
        },
        {
         "hoverinfo": "x+name",
         "line": {
          "width": 0.5
         },
         "marker": {
          "color": "rgb(0,116,217)"
         },
         "mode": "lines",
         "name": "Row Cluster 42",
         "type": "scatter",
         "x": [
          0,
          -0.9815952415473446,
          -0.9815952415473446,
          -0.8893215678270254
         ],
         "xaxis": "x4",
         "y": [
          285,
          285,
          303.75,
          303.75
         ],
         "yaxis": "y4"
        },
        {
         "hoverinfo": "x+name",
         "line": {
          "width": 0.5
         },
         "marker": {
          "color": "rgb(0,116,217)"
         },
         "mode": "lines",
         "name": "Row Cluster 43",
         "type": "scatter",
         "x": [
          0,
          -1.165095389135014,
          -1.165095389135014,
          -0.9815952415473446
         ],
         "xaxis": "x4",
         "y": [
          275,
          275,
          294.375,
          294.375
         ],
         "yaxis": "y4"
        },
        {
         "hoverinfo": "x+name",
         "line": {
          "width": 0.5
         },
         "marker": {
          "color": "rgb(0,116,217)"
         },
         "mode": "lines",
         "name": "Row Cluster 44",
         "type": "scatter",
         "x": [
          -1.2599937242424657,
          -1.7686261266212868,
          -1.7686261266212868,
          -1.463194115183676
         ],
         "xaxis": "x4",
         "y": [
          268.59375,
          268.59375,
          434.90234375,
          434.90234375
         ],
         "yaxis": "y4"
        },
        {
         "hoverinfo": "x+name",
         "line": {
          "width": 0.5
         },
         "marker": {
          "color": "rgb(0,116,217)"
         },
         "mode": "lines",
         "name": "Row Cluster 45",
         "type": "scatter",
         "x": [
          0,
          -0.8668071127395197,
          -0.8668071127395197,
          0
         ],
         "xaxis": "x4",
         "y": [
          255,
          255,
          265,
          265
         ],
         "yaxis": "y4"
        },
        {
         "hoverinfo": "x+name",
         "line": {
          "width": 0.5
         },
         "marker": {
          "color": "rgb(0,116,217)"
         },
         "mode": "lines",
         "name": "Row Cluster 46",
         "type": "scatter",
         "x": [
          -1.0042634377218198,
          -1.2599937242424657,
          -1.2599937242424657,
          -1.165095389135014
         ],
         "xaxis": "x4",
         "y": [
          252.5,
          252.5,
          284.6875,
          284.6875
         ],
         "yaxis": "y4"
        },
        {
         "hoverinfo": "x+name",
         "line": {
          "width": 0.5
         },
         "marker": {
          "color": "rgb(0,116,217)"
         },
         "mode": "lines",
         "name": "Row Cluster 47",
         "type": "scatter",
         "x": [
          0,
          -1.0042634377218198,
          -1.0042634377218198,
          -0.8668071127395197
         ],
         "xaxis": "x4",
         "y": [
          245,
          245,
          260,
          260
         ],
         "yaxis": "y4"
        },
        {
         "hoverinfo": "x+name",
         "line": {
          "width": 0.5
         },
         "marker": {
          "color": "rgb(0,116,217)"
         },
         "mode": "lines",
         "name": "Row Cluster 48",
         "type": "scatter",
         "x": [
          0,
          -1.2070331119633844,
          -1.2070331119633844,
          0
         ],
         "xaxis": "x4",
         "y": [
          225,
          225,
          235,
          235
         ],
         "yaxis": "y4"
        },
        {
         "hoverinfo": "x+name",
         "line": {
          "width": 0.5
         },
         "marker": {
          "color": "rgb(0,116,217)"
         },
         "mode": "lines",
         "name": "Row Cluster 49",
         "type": "scatter",
         "x": [
          0,
          -0.8493063030662346,
          -0.8493063030662346,
          0
         ],
         "xaxis": "x4",
         "y": [
          205,
          205,
          215,
          215
         ],
         "yaxis": "y4"
        },
        {
         "hoverinfo": "x+name",
         "line": {
          "width": 0.5
         },
         "marker": {
          "color": "rgb(0,116,217)"
         },
         "mode": "lines",
         "name": "Row Cluster 50",
         "type": "scatter",
         "x": [
          0,
          -1.0011063171562324,
          -1.0011063171562324,
          -0.8493063030662346
         ],
         "xaxis": "x4",
         "y": [
          195,
          195,
          210,
          210
         ],
         "yaxis": "y4"
        },
        {
         "hoverinfo": "x+name",
         "line": {
          "width": 0.5
         },
         "marker": {
          "color": "rgb(0,116,217)"
         },
         "mode": "lines",
         "name": "Row Cluster 51",
         "type": "scatter",
         "x": [
          0,
          -0.6017909860294328,
          -0.6017909860294328,
          0
         ],
         "xaxis": "x4",
         "y": [
          175,
          175,
          185,
          185
         ],
         "yaxis": "y4"
        },
        {
         "hoverinfo": "x+name",
         "line": {
          "width": 0.5
         },
         "marker": {
          "color": "rgb(0,116,217)"
         },
         "mode": "lines",
         "name": "Row Cluster 52",
         "type": "scatter",
         "x": [
          0,
          -0.7935373848342538,
          -0.7935373848342538,
          -0.6017909860294328
         ],
         "xaxis": "x4",
         "y": [
          165,
          165,
          180,
          180
         ],
         "yaxis": "y4"
        },
        {
         "hoverinfo": "x+name",
         "line": {
          "width": 0.5
         },
         "marker": {
          "color": "rgb(0,116,217)"
         },
         "mode": "lines",
         "name": "Row Cluster 53",
         "type": "scatter",
         "x": [
          -1.1486331066670386,
          -1.290552108020249,
          -1.290552108020249,
          -1.2070331119633844
         ],
         "xaxis": "x4",
         "y": [
          156.71875,
          156.71875,
          230,
          230
         ],
         "yaxis": "y4"
        },
        {
         "hoverinfo": "x+name",
         "line": {
          "width": 0.5
         },
         "marker": {
          "color": "rgb(0,116,217)"
         },
         "mode": "lines",
         "name": "Row Cluster 54",
         "type": "scatter",
         "x": [
          0,
          -0.6356399901766273,
          -0.6356399901766273,
          0
         ],
         "xaxis": "x4",
         "y": [
          145,
          145,
          155,
          155
         ],
         "yaxis": "y4"
        },
        {
         "hoverinfo": "x+name",
         "line": {
          "width": 0.5
         },
         "marker": {
          "color": "rgb(0,116,217)"
         },
         "mode": "lines",
         "name": "Row Cluster 55",
         "type": "scatter",
         "x": [
          -0.5730740933132228,
          -0.7125922432063719,
          -0.7125922432063719,
          -0.6356399901766273
         ],
         "xaxis": "x4",
         "y": [
          130,
          130,
          150,
          150
         ],
         "yaxis": "y4"
        },
        {
         "hoverinfo": "x+name",
         "line": {
          "width": 0.5
         },
         "marker": {
          "color": "rgb(0,116,217)"
         },
         "mode": "lines",
         "name": "Row Cluster 56",
         "type": "scatter",
         "x": [
          -0.7372256580077208,
          -0.9434418957380677,
          -0.9434418957380677,
          -0.7935373848342538
         ],
         "xaxis": "x4",
         "y": [
          127.5,
          127.5,
          172.5,
          172.5
         ],
         "yaxis": "y4"
        },
        {
         "hoverinfo": "x+name",
         "line": {
          "width": 0.5
         },
         "marker": {
          "color": "rgb(0,116,217)"
         },
         "mode": "lines",
         "name": "Row Cluster 57",
         "type": "scatter",
         "x": [
          0,
          -0.5730740933132228,
          -0.5730740933132228,
          0
         ],
         "xaxis": "x4",
         "y": [
          125,
          125,
          135,
          135
         ],
         "yaxis": "y4"
        },
        {
         "hoverinfo": "x+name",
         "line": {
          "width": 0.5
         },
         "marker": {
          "color": "rgb(0,116,217)"
         },
         "mode": "lines",
         "name": "Row Cluster 58",
         "type": "scatter",
         "x": [
          0,
          -0.7372256580077208,
          -0.7372256580077208,
          -0.7125922432063719
         ],
         "xaxis": "x4",
         "y": [
          115,
          115,
          140,
          140
         ],
         "yaxis": "y4"
        },
        {
         "hoverinfo": "x+name",
         "line": {
          "width": 0.5
         },
         "marker": {
          "color": "rgb(0,116,217)"
         },
         "mode": "lines",
         "name": "Row Cluster 59",
         "type": "scatter",
         "x": [
          -0.9953774721192685,
          -1.1486331066670386,
          -1.1486331066670386,
          -1.0011063171562324
         ],
         "xaxis": "x4",
         "y": [
          110.9375,
          110.9375,
          202.5,
          202.5
         ],
         "yaxis": "y4"
        },
        {
         "hoverinfo": "x+name",
         "line": {
          "width": 0.5
         },
         "marker": {
          "color": "rgb(0,116,217)"
         },
         "mode": "lines",
         "name": "Row Cluster 60",
         "type": "scatter",
         "x": [
          -1.6725405278855847,
          -3.912631061018487,
          -3.912631061018487,
          -2.730671753914381
         ],
         "xaxis": "x4",
         "y": [
          102.9296875,
          102.9296875,
          473.1005859375,
          473.1005859375
         ],
         "yaxis": "y4"
        },
        {
         "hoverinfo": "x+name",
         "line": {
          "width": 0.5
         },
         "marker": {
          "color": "rgb(0,116,217)"
         },
         "mode": "lines",
         "name": "Row Cluster 61",
         "type": "scatter",
         "x": [
          0,
          -0.5661454958673882,
          -0.5661454958673882,
          0
         ],
         "xaxis": "x4",
         "y": [
          95,
          95,
          105,
          105
         ],
         "yaxis": "y4"
        },
        {
         "hoverinfo": "x+name",
         "line": {
          "width": 0.5
         },
         "marker": {
          "color": "rgb(0,116,217)"
         },
         "mode": "lines",
         "name": "Row Cluster 62",
         "type": "scatter",
         "x": [
          0,
          -0.6915083138193746,
          -0.6915083138193746,
          -0.5661454958673882
         ],
         "xaxis": "x4",
         "y": [
          85,
          85,
          100,
          100
         ],
         "yaxis": "y4"
        },
        {
         "hoverinfo": "x+name",
         "line": {
          "width": 0.5
         },
         "marker": {
          "color": "rgb(0,116,217)"
         },
         "mode": "lines",
         "name": "Row Cluster 63",
         "type": "scatter",
         "x": [
          -0.8433159879877756,
          -0.9953774721192685,
          -0.9953774721192685,
          -0.9434418957380677
         ],
         "xaxis": "x4",
         "y": [
          71.875,
          71.875,
          150,
          150
         ],
         "yaxis": "y4"
        },
        {
         "hoverinfo": "x+name",
         "line": {
          "width": 0.5
         },
         "marker": {
          "color": "rgb(0,116,217)"
         },
         "mode": "lines",
         "name": "Row Cluster 64",
         "type": "scatter",
         "x": [
          0,
          -0.361033705977509,
          -0.361033705977509,
          0
         ],
         "xaxis": "x4",
         "y": [
          65,
          65,
          75,
          75
         ],
         "yaxis": "y4"
        },
        {
         "hoverinfo": "x+name",
         "line": {
          "width": 0.5
         },
         "marker": {
          "color": "rgb(0,116,217)"
         },
         "mode": "lines",
         "name": "Row Cluster 65",
         "type": "scatter",
         "x": [
          0,
          -0.47179027329014256,
          -0.47179027329014256,
          -0.361033705977509
         ],
         "xaxis": "x4",
         "y": [
          55,
          55,
          70,
          70
         ],
         "yaxis": "y4"
        },
        {
         "hoverinfo": "x+name",
         "line": {
          "width": 0.5
         },
         "marker": {
          "color": "rgb(0,116,217)"
         },
         "mode": "lines",
         "name": "Row Cluster 66",
         "type": "scatter",
         "x": [
          -0.5370033025397752,
          -0.8433159879877756,
          -0.8433159879877756,
          -0.6915083138193746
         ],
         "xaxis": "x4",
         "y": [
          51.25,
          51.25,
          92.5,
          92.5
         ],
         "yaxis": "y4"
        },
        {
         "hoverinfo": "x+name",
         "line": {
          "width": 0.5
         },
         "marker": {
          "color": "rgb(0,116,217)"
         },
         "mode": "lines",
         "name": "Row Cluster 67",
         "type": "scatter",
         "x": [
          -0.33355941236228503,
          -0.5370033025397752,
          -0.5370033025397752,
          -0.47179027329014256
         ],
         "xaxis": "x4",
         "y": [
          40,
          40,
          62.5,
          62.5
         ],
         "yaxis": "y4"
        },
        {
         "hoverinfo": "x+name",
         "line": {
          "width": 0.5
         },
         "marker": {
          "color": "rgb(0,116,217)"
         },
         "mode": "lines",
         "name": "Row Cluster 68",
         "type": "scatter",
         "x": [
          0,
          -0.33355941236228503,
          -0.33355941236228503,
          0
         ],
         "xaxis": "x4",
         "y": [
          35,
          35,
          45,
          45
         ],
         "yaxis": "y4"
        },
        {
         "hoverinfo": "x+name",
         "line": {
          "width": 0.5
         },
         "marker": {
          "color": "rgb(0,116,217)"
         },
         "mode": "lines",
         "name": "Row Cluster 69",
         "type": "scatter",
         "x": [
          -0.6398287458412794,
          -1.6725405278855847,
          -1.6725405278855847,
          -1.290552108020249
         ],
         "xaxis": "x4",
         "y": [
          12.5,
          12.5,
          193.359375,
          193.359375
         ],
         "yaxis": "y4"
        },
        {
         "hoverinfo": "x+name",
         "line": {
          "width": 0.5
         },
         "marker": {
          "color": "rgb(0,116,217)"
         },
         "mode": "lines",
         "name": "Row Cluster 70",
         "type": "scatter",
         "x": [
          0,
          -0.6398287458412794,
          -0.6398287458412794,
          -0.3821329809072522
         ],
         "xaxis": "x4",
         "y": [
          5,
          5,
          20,
          20
         ],
         "yaxis": "y4"
        },
        {
         "colorbar": {
          "xpad": 100
         },
         "colorscale": [
          [
           0,
           "rgb(5,48,97)"
          ],
          [
           0.1,
           "rgb(33,102,172)"
          ],
          [
           0.2,
           "rgb(67,147,195)"
          ],
          [
           0.3,
           "rgb(146,197,222)"
          ],
          [
           0.4,
           "rgb(209,229,240)"
          ],
          [
           0.5,
           "rgb(247,247,247)"
          ],
          [
           0.6,
           "rgb(253,219,199)"
          ],
          [
           0.7,
           "rgb(244,165,130)"
          ],
          [
           0.8,
           "rgb(214,96,77)"
          ],
          [
           0.9,
           "rgb(178,24,43)"
          ],
          [
           1,
           "rgb(103,0,31)"
          ]
         ],
         "type": "heatmap",
         "x": [
          5,
          15,
          25,
          35,
          45,
          55,
          65,
          75,
          85,
          95,
          105,
          115,
          125,
          135,
          145,
          155,
          165,
          175,
          185,
          195,
          205,
          215,
          225,
          235,
          245,
          255,
          265,
          275,
          285,
          295,
          305,
          315,
          325,
          335,
          345,
          355,
          365,
          375,
          385,
          395,
          405,
          415,
          425,
          435,
          445,
          455,
          465,
          475,
          485,
          495,
          505,
          515,
          525,
          535,
          545,
          555,
          565,
          575,
          585,
          595,
          605,
          615,
          625,
          635,
          645,
          655,
          665,
          675,
          685,
          695,
          705,
          715
         ],
         "xaxis": "x5",
         "y": [
          5,
          15,
          25,
          35,
          45,
          55,
          65,
          75,
          85,
          95,
          105,
          115,
          125,
          135,
          145,
          155,
          165,
          175,
          185,
          195,
          205,
          215,
          225,
          235,
          245,
          255,
          265,
          275,
          285,
          295,
          305,
          315,
          325,
          335,
          345,
          355,
          365,
          375,
          385,
          395,
          405,
          415,
          425,
          435,
          445,
          455,
          465,
          475,
          485,
          495,
          505,
          515,
          525,
          535,
          545,
          555,
          565,
          575,
          585,
          595,
          605,
          615,
          625,
          635,
          645,
          655,
          665,
          675,
          685,
          695,
          705,
          715
         ],
         "yaxis": "y5",
         "z": [
          [
           0,
           0.011401091201813238,
           0.030838624138439623,
           0.022769939059077697,
           0.022479622898853347,
           0.032191800524595665,
           0.042531166992597624,
           0.026117006538042366,
           0.010682018461185227,
           0.020943938743467706,
           0.020469685634612225,
           0.02169135240624974,
           0.027407636318333747,
           0.027495049847134433,
           0.02682623768975744,
           0.02579271942456668,
           0.017503417372980834,
           0.014741828037225096,
           0.01707731518863975,
           0.020521934517540738,
           0.021879940500853047,
           0.03431111331561725,
           0.01903110740541739,
           0.030886061816502712,
           0.039726096414415796,
           0.029472787319268647,
           0.03868913107927105,
           0.048178395920452435,
           0.04709046654849275,
           0.26910354454855956,
           0.052455286795364806,
           0.07205518642317602,
           0.03840102529152048,
           0.04598068706043364,
           0.04224413909347599,
           0.0470941499219977,
           0.045505359163073134,
           0.051465637848176746,
           0.06151631710930762,
           0.055660567061744035,
           0.050860965937805015,
           0.04544773191234651,
           0.04239264511881861,
           0.04291932825048218,
           0.03561237858324676,
           0.04367518268175552,
           0.03778067410559771,
           0.12549106588098247,
           0.0408390234557057,
           0.03784892853412325,
           0.08941801724822858,
           0.05420075338031291,
           0.031662373279644156,
           0.02147063587128413,
           0.025833090726723636,
           0.033514498021353215,
           0.019049398313153845,
           0.024739621914637126,
           0.02438695603238683,
           0.05049684620379449,
           0.05127008439255784,
           0.05251187864376136,
           0.0314893500353208,
           0.02732865616047511,
           0.055779881893567806,
           0.19108178241873042,
           0.037033227987463176,
           0.06562020845142487,
           0.034762654777445896,
           0.04271861552190633,
           0.052436225339588714,
           0.04213176332904753
          ],
          [
           0.011401091201813238,
           0,
           0.09711185596602293,
           0.037292006325971315,
           0.02979866916429582,
           0.03563750476432715,
           0.04589381872400179,
           0.03932983594668814,
           0.04120993868172512,
           0.04912879843296192,
           0.04437377713857439,
           0.0411645865269773,
           0.05940270590267343,
           0.05484685926470661,
           0.03915854123564268,
           0.07180877728546839,
           0.027305673808253446,
           0.028894866661162,
           0.03664982320530412,
           0.03517180221437624,
           0.031252385382654055,
           0.0770491317907135,
           0.049198898512798045,
           0.050293612647938815,
           0.0884228141234166,
           0.07700462614677023,
           0.08004537255914618,
           0.08605776477082344,
           0.09925556717589673,
           0.10186983833976065,
           0.17619000018835676,
           0.14157281630618507,
           0.0955059489223124,
           0.1032508465238841,
           0.10718896134115724,
           0.1031475363073246,
           0.09617332746120474,
           0.13954792836317,
           0.12123059153581522,
           0.10605815045116959,
           0.1029543417747722,
           0.08917391634932698,
           0.08958334465168559,
           0.09747693034617598,
           0.09209698401312644,
           0.16604584959585228,
           0.0866562609276473,
           0.12025268263238979,
           0.09348250706136252,
           0.0766136064986107,
           0.1308253867852338,
           0.15204208503877162,
           0.06076378350667099,
           0.1653438341036596,
           0.048562647277181244,
           0.06973839577243897,
           0.0457019411033952,
           0.05423603133694012,
           0.05276511170163843,
           0.06218703360231171,
           0.07880300807966154,
           0.0835246626221747,
           0.04738961509288575,
           0.03820090038641012,
           0.23527913067489564,
           0.0841605304905958,
           0.06915771279797203,
           0.07931608143154126,
           0.07291636147326039,
           0.060435752599585446,
           0.05879607608309974,
           0.06290176136911206
          ],
          [
           0.030838624138439623,
           0.09711185596602293,
           0,
           0.04860773491267432,
           0.05339541321046874,
           0.06134963722438608,
           0.055595650631912005,
           0.05691769800758706,
           0.046403175337658836,
           0.08860779558116788,
           0.05236450978553327,
           0.04858083975193068,
           0.06904392647751244,
           0.058785765854127925,
           0.07182220586681506,
           0.0778002436594997,
           0.04602884172953631,
           0.039077359205277266,
           0.040410831630318764,
           0.05033705314954441,
           0.0479864915524371,
           0.07600145916511686,
           0.04430489351217033,
           0.05605151937262609,
           0.1311957702909148,
           0.0903787273194901,
           0.10790072158981291,
           0.1265285698850582,
           0.13237936084130733,
           0.27491410588126575,
           0.18116641489322524,
           0.20205007884426365,
           0.10527743077114446,
           0.1550753299936181,
           0.11047119461402172,
           0.11407677699647839,
           0.12111971634455335,
           0.15877898265311746,
           0.1233388311456169,
           0.12384898659811734,
           0.15966818349684597,
           0.12217841112998648,
           0.10951964741010163,
           0.12073981632411232,
           0.09738851543596756,
           0.17003449126219383,
           0.12513596308926478,
           0.193426830340245,
           0.14403844076905437,
           0.09787093138641453,
           0.2331613050698919,
           0.15387884395090456,
           0.07904174312582068,
           0.06862187468580287,
           0.06588903266400262,
           0.07237458955570765,
           0.05355346824935053,
           0.06687949384625057,
           0.059915726008921893,
           0.10052217770021121,
           0.1210958699026227,
           0.11588801975913414,
           0.09764460678910489,
           0.06451463698193552,
           0.3678374635739639,
           0.14046997458065694,
           0.0933247844177578,
           0.17177166439351174,
           0.09343987061815981,
           0.09579777877809098,
           0.09788872154943551,
           0.09811197855740963
          ],
          [
           0.022769939059077697,
           0.037292006325971315,
           0.04860773491267432,
           0,
           0.1285633451585449,
           0.11642897861201869,
           0.12617390905968098,
           0.0873316457054982,
           0.04327301875089787,
           0.05742081257723666,
           0.07919477443702783,
           0.08160131199861978,
           0.10450760316156407,
           0.0946810625354703,
           0.10265298425827016,
           0.16298636185469248,
           0.06178313379098317,
           0.060723330810181594,
           0.06696650915451796,
           0.16469145317128409,
           0.07556273958828139,
           0.18951989365644523,
           0.06783545517499244,
           0.09097593869768705,
           0.16901749595329002,
           0.11782789232520205,
           0.16846896468240066,
           0.24928381933754723,
           0.1643507716958355,
           0.20244916361479495,
           0.14902711779421912,
           0.1903866933229219,
           0.1895096987702369,
           0.17147328867981615,
           0.1624280483941889,
           0.21914745862875196,
           0.21504029000769714,
           0.22380499943073673,
           0.18523530147635614,
           0.19468903603110238,
           0.17446922694896522,
           0.23491200511446428,
           0.19697207798767616,
           0.18310391702758338,
           0.14607052617085237,
           0.15184321723390837,
           0.14214820898990216,
           0.17600010142293418,
           0.1688674130035035,
           0.15187012217982537,
           0.2527504998173885,
           0.19702264060809765,
           0.10609821964914838,
           0.10219519752435832,
           0.1191569366805206,
           0.1709953135109546,
           0.08313225612184147,
           0.10535735481271262,
           0.08483441254380797,
           0.18681709753906856,
           0.20681308783391994,
           0.29176845960214925,
           0.10588990079928945,
           0.09794145656598759,
           0.1194611246124184,
           0.11626102865150667,
           0.2017261429805664,
           0.1928933759542572,
           0.12400246838251447,
           0.1620794677224855,
           0.1337330794960489,
           0.16447360067827826
          ],
          [
           0.022479622898853347,
           0.02979866916429582,
           0.05339541321046874,
           0.1285633451585449,
           0,
           0.11720307560426026,
           0.07423569533123614,
           0.11019558172389485,
           0.04400926529734466,
           0.05764593111576994,
           0.06477116439582631,
           0.06956648729340004,
           0.08709544733923619,
           0.0695175086333232,
           0.11074177760630577,
           0.11161523819213125,
           0.06916496286330111,
           0.0639413196115617,
           0.04592825355734103,
           0.08426545702679249,
           0.09962757211689226,
           0.12609851506494366,
           0.08227394585308649,
           0.06298167368479196,
           0.1422597020285222,
           0.13299055658036396,
           0.1583048667635123,
           0.23075816029393023,
           0.1699525073957106,
           0.19165953336250466,
           0.14452712404121332,
           0.19409194587023026,
           0.21717829403241584,
           0.21949140958577712,
           0.14828799878595517,
           0.1675820012269803,
           0.1727304159660678,
           0.22320856715521126,
           0.1721523091698164,
           0.1851570656034648,
           0.18326028984313247,
           0.1754594853254023,
           0.16509740129978628,
           0.16871422590111423,
           0.1411725007425709,
           0.15997234394389037,
           0.1747072687407828,
           0.16412907245423958,
           0.16583078783306096,
           0.16219793925537895,
           0.28112819910481074,
           0.18586008550943423,
           0.10563187147478441,
           0.0914759046884674,
           0.09363952244846002,
           0.09523007184453505,
           0.08004897391548287,
           0.07438170942386454,
           0.08376528956449436,
           0.2264201590697324,
           0.22144096711358552,
           0.27238404770632674,
           0.11916153260093876,
           0.19780323552962173,
           0.1386575955827556,
           0.08955722058528273,
           0.14959600008603452,
           0.2855561174046263,
           0.1257288663655301,
           0.20396196200687589,
           0.2195266518643854,
           0.18252317525313355
          ],
          [
           0.032191800524595665,
           0.03563750476432715,
           0.06134963722438608,
           0.11642897861201869,
           0.11720307560426026,
           0,
           0.15026529654955556,
           0.21206022855160275,
           0.0494462117015976,
           0.08068930494979631,
           0.08326679357229602,
           0.07568788906604816,
           0.1162613646408523,
           0.09018984055727287,
           0.13670341112568818,
           0.11010744048471147,
           0.06567884305459532,
           0.061853257268790235,
           0.056532576965506814,
           0.07793232165687321,
           0.08747433073356947,
           0.13115399804992045,
           0.09754242104875196,
           0.07738253666641633,
           0.15633317793407672,
           0.12372197677278943,
           0.1469322657675256,
           0.21334394219417202,
           0.19763112931839472,
           0.3316820478798278,
           0.16585143561406157,
           0.21528274530780978,
           0.21432274405919918,
           0.22623046703872204,
           0.16311415382345923,
           0.21002676684812524,
           0.211955555294978,
           0.2542961700224535,
           0.18875357421344807,
           0.3666012238185804,
           0.2097905927465456,
           0.2504347214089305,
           0.20510235118946818,
           0.18521945655895683,
           0.18131974227176192,
           0.1799219404323975,
           0.18379456945334177,
           0.17915784598971096,
           0.18655357737863337,
           0.1918463959516777,
           0.3445871105559576,
           0.2001496734297691,
           0.11061420196059504,
           0.09904234717199792,
           0.1044738230087017,
           0.11003563333288335,
           0.08534030131062308,
           0.09207122097662132,
           0.08950478064323791,
           0.33060675333299233,
           0.4362107718925081,
           0.34975698294619906,
           0.1902682365348471,
           0.15215098346674333,
           0.17855366696303065,
           0.10572746537150621,
           0.16224612126617782,
           0.2878821560436158,
           0.15060630287559945,
           0.28303135643580596,
           0.2389938332391787,
           0.324742283318338
          ],
          [
           0.042531166992597624,
           0.04589381872400179,
           0.055595650631912005,
           0.12617390905968098,
           0.07423569533123614,
           0.15026529654955556,
           0,
           0.09658029739198207,
           0.055288076657657295,
           0.0682310032047614,
           0.07096275660469265,
           0.09329254644342322,
           0.10412155783106257,
           0.1071120905482714,
           0.1057766726215354,
           0.10713302908806904,
           0.06415900469724399,
           0.0585417257699178,
           0.07052263043263148,
           0.09889785895441447,
           0.06746753488070308,
           0.19992029235018166,
           0.07642753978185156,
           0.0815674017282165,
           0.19290263825705342,
           0.14668604768054297,
           0.1571128992742998,
           0.26542436438740813,
           0.24665528013640312,
           0.24094424964344624,
           0.1749776648449448,
           0.20945533403654099,
           0.25607004540971023,
           0.22425394342407126,
           0.20360624387673176,
           0.21645470282183607,
           0.24639146008911672,
           0.2386472713987527,
           0.2435800621345033,
           0.26778921983126164,
           0.22854812687268558,
           0.25554446966936667,
           0.19580009852086688,
           0.2637281547881699,
           0.23352208172670477,
           0.20822565214697306,
           0.1978433226984015,
           0.19734188957363796,
           0.252589559459697,
           0.26714711527780516,
           0.31619333574382147,
           0.2385710358446131,
           0.11639596476982128,
           0.12364158756834369,
           0.14196526509295582,
           0.13305876363715505,
           0.12144273250840723,
           0.10019877503248079,
           0.08563284340130978,
           0.28558851944040775,
           0.18257833790818212,
           0.30933425774541673,
           0.2455183964151084,
           0.09516002261565912,
           0.14298171095055578,
           0.12718163024742732,
           0.21135146709611602,
           0.295707347619268,
           0.11713317327761189,
           0.3234750092517163,
           0.15496261132643696,
           0.2520046449756814
          ],
          [
           0.026117006538042366,
           0.03932983594668814,
           0.05691769800758706,
           0.0873316457054982,
           0.11019558172389485,
           0.21206022855160275,
           0.09658029739198207,
           0,
           0.07878513265634886,
           0.07825303506915632,
           0.07962914544834236,
           0.07807148910487738,
           0.12148526104477507,
           0.10893847177900992,
           0.1156636849738141,
           0.10901524176254171,
           0.0704150656221654,
           0.06381623412446132,
           0.06655667098637628,
           0.07675548223837939,
           0.0769577188168426,
           0.11148752528029453,
           0.06910734729263233,
           0.08179778404170518,
           0.17167798309884647,
           0.16841450316902365,
           0.16987952677973678,
           0.2190390954361208,
           0.19791939181190005,
           0.2452981232969727,
           0.1679315666738186,
           0.23610831078964936,
           0.24993590087018108,
           0.25787924141793767,
           0.20599956699250863,
           0.21093594527083082,
           0.20741080418826224,
           0.24752285830612902,
           0.2106081375107588,
           0.3336820667849488,
           0.2091202920341192,
           0.20817936267547393,
           0.21366772058126704,
           0.2048602454576361,
           0.18897398638753496,
           0.2143062596191339,
           0.2166581408207251,
           0.18440758306653826,
           0.22437454756071465,
           0.19298011695360334,
           0.31586024951325886,
           0.23724565724049862,
           0.12243033597487926,
           0.17954968376697839,
           0.10182682454668229,
           0.12753074428332487,
           0.12025313978859734,
           0.10297799256290316,
           0.10032117915656975,
           0.428866472435092,
           0.26882791687682395,
           0.36419792725922817,
           0.18274065442441034,
           0.16160431211329435,
           0.19683086035982875,
           0.10359719424494371,
           0.1740011081662261,
           0.278331298649917,
           0.14667456603744228,
           0.29112373727931623,
           0.26661974989078174,
           0.21913002029470552
          ],
          [
           0.010682018461185227,
           0.04120993868172512,
           0.046403175337658836,
           0.04327301875089787,
           0.04400926529734466,
           0.0494462117015976,
           0.055288076657657295,
           0.07878513265634886,
           0,
           0.15167827068311998,
           0.06528461398982147,
           0.057516885623575445,
           0.08109956837499753,
           0.06125748663311806,
           0.05307403795841795,
           0.13752482285220186,
           0.2708534271377579,
           0.048043815646668715,
           0.06123907348530434,
           0.044487160419512395,
           0.04544283756281585,
           0.05913815094617143,
           0.11122812829819084,
           0.06512275146387644,
           0.13735076509041613,
           0.24608391311844868,
           0.1804126400639468,
           0.14685342762668774,
           0.17452337062217993,
           0.12239619577660195,
           0.1863495680804191,
           0.19616259254943985,
           0.21970895904982565,
           0.2347862023758163,
           0.29927879087796067,
           0.1816658340295509,
           0.20316316884135588,
           0.26526471839115573,
           0.2246154330560647,
           0.16144493793506534,
           0.2114562304583703,
           0.1692357215753757,
           0.18980972438196325,
           0.17580943005669708,
           0.21795057168513832,
           0.35728865895559714,
           0.21140792224793015,
           0.19738230391080308,
           0.21734387499034719,
           0.18303795638920886,
           0.2124757215910013,
           0.2960105148735892,
           0.12086692556113263,
           0.3568568080117591,
           0.06343486472525138,
           0.15959222577034998,
           0.11739536624332997,
           0.09692065796834522,
           0.0791793722201911,
           0.0936735516036204,
           0.12198955511911952,
           0.1575083947397146,
           0.06847045652455175,
           0.06268403642900884,
           0.13487638681713598,
           0.1077795456134939,
           0.16693272369468562,
           0.10912814029066634,
           0.18588778440864584,
           0.12430480412032835,
           0.13496766965263404,
           0.10871985212189433
          ],
          [
           0.020943938743467706,
           0.04912879843296192,
           0.08860779558116788,
           0.05742081257723666,
           0.05764593111576994,
           0.08068930494979631,
           0.0682310032047614,
           0.07825303506915632,
           0.15167827068311998,
           0,
           0.12358119708015618,
           0.07393117511491862,
           0.1598966300520246,
           0.1071632793542893,
           0.07761348008384943,
           0.10964490528376192,
           0.04680200897031881,
           0.03833909216357925,
           0.040873723177486436,
           0.060922938952029854,
           0.05688323373872064,
           0.0871913134735213,
           0.045258745364145925,
           0.06268489198978203,
           0.13429267991338262,
           0.08577488087826123,
           0.11519266728257466,
           0.1334913888274777,
           0.2610456251797687,
           0.18608645264948437,
           0.22202684581637816,
           0.21675303634241344,
           0.1667193102640444,
           0.17267595628393304,
           0.14118911319960334,
           0.2509561645073977,
           0.22926205070018535,
           0.25587137959890527,
           0.15880632526178814,
           0.16372364441382392,
           0.29620701140710537,
           0.13371737950736828,
           0.17343415790414793,
           0.16678159526802008,
           0.1251602658364838,
           0.23877296177352927,
           0.11765061936595186,
           0.19922456435800648,
           0.12729146506678005,
           0.12180968691679542,
           0.23976198875396865,
           0.1970421618257266,
           0.08290155066622423,
           0.0904448629114227,
           0.07193034306003854,
           0.07839196923936764,
           0.05792938228911709,
           0.0737282644260254,
           0.0679161735000254,
           0.14216134451407111,
           0.18645381069476824,
           0.14375646116279972,
           0.2559463439465923,
           0.0817756652676319,
           0.220539102412525,
           0.19077580635083807,
           0.1270443461664068,
           0.15807720528446673,
           0.4149922709186146,
           0.20448413809743332,
           0.22770000750248895,
           0.12506718457133642
          ],
          [
           0.020469685634612225,
           0.04437377713857439,
           0.05236450978553327,
           0.07919477443702783,
           0.06477116439582631,
           0.08326679357229602,
           0.07096275660469265,
           0.07962914544834236,
           0.06528461398982147,
           0.12358119708015618,
           0,
           0.11323169153828883,
           0.2735760027860934,
           0.13457913906336283,
           0.20353243884055158,
           0.09879447913994135,
           0.08997225682652275,
           0.07298459371558458,
           0.0729827296770702,
           0.13997648059401308,
           0.10588630052341616,
           0.15517407447662862,
           0.07223195270078253,
           0.0941612828372907,
           0.19368964959245466,
           0.17733679981110267,
           0.18402944374428523,
           0.2129307990932071,
           0.2392654029733688,
           0.17848971877744607,
           0.19696473829963954,
           0.19692903903360748,
           0.1729083415245038,
           0.23887853015824367,
           0.28670885122410206,
           0.27882489681593314,
           0.2852191399149857,
           0.2450904154751283,
           0.2594011583911445,
           0.26369972256731977,
           0.23980058952865418,
           0.2600540455673735,
           0.23006172937456623,
           0.22556724030923847,
           0.2558793313818559,
           0.20727042386159372,
           0.2052928555619739,
           0.22027783121443356,
           0.19975200468622928,
           0.1803223542434353,
           0.30913114511674983,
           0.29135533636685756,
           0.11938013292516295,
           0.17193650794386306,
           0.13706512303916324,
           0.13089342372779117,
           0.09552267519483112,
           0.11398539070076572,
           0.09375370603758448,
           0.15810117975100652,
           0.18343324325410326,
           0.2231464234944031,
           0.11175894750837506,
           0.1143762220832166,
           0.12321548492577764,
           0.1335469276108197,
           0.13159124349244378,
           0.16371341764925101,
           0.32280288799749696,
           0.1578660626657632,
           0.12464632030740785,
           0.1481771994788502
          ],
          [
           0.02169135240624974,
           0.0411645865269773,
           0.04858083975193068,
           0.08160131199861978,
           0.06956648729340004,
           0.07568788906604816,
           0.09329254644342322,
           0.07807148910487738,
           0.057516885623575445,
           0.07393117511491862,
           0.11323169153828883,
           0,
           0.14324810852326897,
           0.27187275231784147,
           0.17427567934338334,
           0.14371851009585765,
           0.07849010477280738,
           0.19766062935925355,
           0.19111793236770933,
           0.11685464891992015,
           0.42996304338519825,
           0.12593191927862346,
           0.08914464889329815,
           0.13889750844965223,
           0.29527395274192486,
           0.18237668374621227,
           0.22134874143491512,
           0.20570182769453488,
           0.28427259003487393,
           0.2138933065330679,
           0.2712011109787613,
           0.24830364134860483,
           0.1755476219858244,
           0.28516985868042555,
           0.2673677796486765,
           0.4238278625652777,
           0.42092636633622305,
           0.29422257158025544,
           0.33304647739684684,
           0.3431354338225307,
           0.2836650319820108,
           0.2513527110503608,
           0.4821861799960699,
           0.2724902791425519,
           0.23706233820410877,
           0.2428895488860599,
           0.25321421157795154,
           0.262165664166229,
           0.2211538892183455,
           0.29087296959835235,
           0.2861926875491704,
           0.3210645315803102,
           0.14584068162062502,
           0.14907428596878197,
           0.26466549824491487,
           0.1645547341134302,
           0.14629767071355942,
           0.16235553090315563,
           0.10837361855063796,
           0.14185880765094122,
           0.17240736178698735,
           0.16331508912355208,
           0.09892628197631192,
           0.09244533893743351,
           0.12581307148007104,
           0.15092503466323082,
           0.1622557954139168,
           0.15756576580446136,
           0.15774421357003005,
           0.14094218599451033,
           0.12041582590841916,
           0.14743571918948714
          ],
          [
           0.027407636318333747,
           0.05940270590267343,
           0.06904392647751244,
           0.10450760316156407,
           0.08709544733923619,
           0.1162613646408523,
           0.10412155783106257,
           0.12148526104477507,
           0.08109956837499753,
           0.1598966300520246,
           0.2735760027860934,
           0.14324810852326897,
           0,
           0.20712256469041557,
           0.13445879664837213,
           0.18248557463646883,
           0.0899448978469671,
           0.07822998691700098,
           0.11103085845953947,
           0.1698391143797227,
           0.10672655248549981,
           0.16284704526311464,
           0.09971061849758417,
           0.1797896262095044,
           0.2552142433418572,
           0.19856070037376106,
           0.23609661520893038,
           0.2639511285523418,
           0.3394214206529965,
           0.26081066107173145,
           0.25577182606560955,
           0.28478142794672273,
           0.2249201366768441,
           0.3025315338030723,
           0.3064218058132494,
           0.43032400309542557,
           0.41195148583436125,
           0.35254079220559764,
           0.30397457509919107,
           0.3197414467571691,
           0.28491154337121294,
           0.31101508313591264,
           0.3258946363281776,
           0.324814039128342,
           0.306091621413387,
           0.2657610736796261,
           0.23222999122499255,
           0.26874776542143136,
           0.2736595036290945,
           0.27990819024429675,
           0.3439178720463467,
           0.3249899219945238,
           0.18179211923323058,
           0.19508553569438097,
           0.14363612561001265,
           0.2456848326934434,
           0.21218950025802974,
           0.21895531991637265,
           0.14487106697026947,
           0.24843674337649796,
           0.29087135363184213,
           0.22794169079784685,
           0.15917131613961458,
           0.1370359043280491,
           0.16722082992064594,
           0.1529699799068227,
           0.1793034091495106,
           0.21834536305820243,
           0.5269178756029191,
           0.23350127372620982,
           0.18709477987464715,
           0.24697736819546273
          ],
          [
           0.027495049847134433,
           0.05484685926470661,
           0.058785765854127925,
           0.0946810625354703,
           0.0695175086333232,
           0.09018984055727287,
           0.1071120905482714,
           0.10893847177900992,
           0.06125748663311806,
           0.1071632793542893,
           0.13457913906336283,
           0.27187275231784147,
           0.20712256469041557,
           0,
           0.11352472534241584,
           0.12651456016142376,
           0.0785371334202225,
           0.10234522952921389,
           0.2049919278451391,
           0.11555309787486487,
           0.13245296838128398,
           0.14978664278198567,
           0.10695250383631827,
           0.13350346580454928,
           0.23251457205499745,
           0.16593474887093707,
           0.21841375982222744,
           0.2129831713297909,
           0.379881806162918,
           0.2532312020569727,
           0.253744778518574,
           0.2535442425683938,
           0.2767186243695009,
           0.24139224659821912,
           0.25555186059682583,
           0.579476488559366,
           0.361749371424387,
           0.27014644611154043,
           0.3511683007959398,
           0.4104369805246013,
           0.2840657924557918,
           0.2894556710428757,
           0.28846150580192004,
           0.3099848666835751,
           0.2709213340352799,
           0.23292024950183055,
           0.2175085405836551,
           0.2531883967214823,
           0.21934753389702827,
           0.3150710521886788,
           0.328861920797793,
           0.3129995847733149,
           0.1748315440883879,
           0.1618858214323846,
           0.19091424982141342,
           0.24317747666915018,
           0.13256479078992411,
           0.1539381261051746,
           0.13933917900796577,
           0.1734882939604397,
           0.23058534910286768,
           0.1851576218199929,
           0.11839262179474744,
           0.11949800805652167,
           0.15566073068364802,
           0.1543499666375901,
           0.16500615464145652,
           0.18554799414631784,
           0.2401687132804498,
           0.1881964156394127,
           0.15797288991278297,
           0.2030600109125017
          ],
          [
           0.02682623768975744,
           0.03915854123564268,
           0.07182220586681506,
           0.10265298425827016,
           0.11074177760630577,
           0.13670341112568818,
           0.1057766726215354,
           0.1156636849738141,
           0.05307403795841795,
           0.07761348008384943,
           0.20353243884055158,
           0.17427567934338334,
           0.13445879664837213,
           0.11352472534241584,
           0,
           0.19343791800191779,
           0.15343623273346202,
           0.26032059719583217,
           0.10918234368073129,
           0.10025069252094708,
           0.09759464761783118,
           0.12102655731563064,
           0.07342273944772384,
           0.1120086284588751,
           0.26701811432670797,
           0.23978338134151667,
           0.26680985398212753,
           0.2508837819470672,
           0.27724397909552234,
           0.2579309987637228,
           0.27369028332153256,
           0.2629578227977822,
           0.1803518868260791,
           0.44154061039145454,
           0.30253756277741056,
           0.2993537057695145,
           0.3684705064053726,
           0.4670602732329413,
           0.31191334938124177,
           0.35607834347600653,
           0.32077921535391984,
           0.4293165680042257,
           0.30130010597924983,
           0.35366727748763277,
           0.21766408027953246,
           0.1953496297057446,
           0.31923569975695015,
           0.2864465653706385,
           0.2654525284905623,
           0.35533978418168854,
           0.3445832678592775,
           0.3487249853954341,
           0.16211370553261023,
           0.10477399809436308,
           0.28986321638316576,
           0.1530089113215588,
           0.14303099171588998,
           0.13812843243821205,
           0.16342273266609625,
           0.24309196138503686,
           0.2548590366014636,
           0.23099515963350103,
           0.22637005515908773,
           0.1688828274028286,
           0.16582090569137709,
           0.14961856728327982,
           0.2122136990210079,
           0.23342202018896716,
           0.1569530192101508,
           0.19658754911831358,
           0.18290177714910894,
           0.182337006733102
          ],
          [
           0.02579271942456668,
           0.07180877728546839,
           0.0778002436594997,
           0.16298636185469248,
           0.11161523819213125,
           0.11010744048471147,
           0.10713302908806904,
           0.10901524176254171,
           0.13752482285220186,
           0.10964490528376192,
           0.09879447913994135,
           0.14371851009585765,
           0.18248557463646883,
           0.12651456016142376,
           0.19343791800191779,
           0,
           0.23853527648168152,
           0.17508260066907755,
           0.11663759627529541,
           0.12948342746980415,
           0.12903248309245116,
           0.143084380167014,
           0.14322672126503536,
           0.28829562749396254,
           0.4183352978457031,
           0.2118368735086512,
           0.2912827120681254,
           0.26240970675442765,
           0.2500174158970679,
           0.2576375716792165,
           0.2680573081509334,
           0.27747011040328323,
           0.25842516843494623,
           0.3510915147202907,
           0.2951543464839017,
           0.27390881044690196,
           0.307844580508412,
           0.3393497745904953,
           0.2929364442125172,
           0.2933762389604607,
           0.287688608168409,
           0.2653906522330878,
           0.25578082296570703,
           0.2580702470183478,
           0.26095102286407246,
           0.3100059744509428,
           0.28079097062378156,
           0.39577817919462777,
           0.2877026923626179,
           0.2774635164181371,
           0.3417886841957464,
           0.3620792271449337,
           0.19069459287941937,
           0.13976284106944853,
           0.25074895016535553,
           0.16649853085831912,
           0.12891630379458807,
           0.36004491476430783,
           0.1332013854708943,
           0.18874398332431583,
           0.33008248847679433,
           0.2616713631586661,
           0.14912393071968166,
           0.12188209556849032,
           0.19472254182635262,
           0.30055586799982914,
           0.3224045837967335,
           0.2194322388694247,
           0.1739229170328614,
           0.16794160424313076,
           0.16810575741392053,
           0.19565987878852023
          ],
          [
           0.017503417372980834,
           0.027305673808253446,
           0.04602884172953631,
           0.06178313379098317,
           0.06916496286330111,
           0.06567884305459532,
           0.06415900469724399,
           0.0704150656221654,
           0.2708534271377579,
           0.04680200897031881,
           0.08997225682652275,
           0.07849010477280738,
           0.0899448978469671,
           0.0785371334202225,
           0.15343623273346202,
           0.23853527648168152,
           0,
           0.10144181354287908,
           0.05755740844350507,
           0.1418304994094039,
           0.10960094050576596,
           0.12009116651631346,
           0.14692605468712772,
           0.06907125038945533,
           0.13078188588576173,
           0.3020097334966703,
           0.29099381075397446,
           0.1877638903964605,
           0.19255274935881866,
           0.15871215287426607,
           0.1501704672338344,
           0.16899477343046765,
           0.13211125709114974,
           0.18506921525601167,
           0.422327606656028,
           0.18516888304398332,
           0.18755325436735304,
           0.18922212541779865,
           0.2108256638090453,
           0.19998006335387797,
           0.20005826299359308,
           0.21037835366709395,
           0.17346157233335835,
           0.25927916694106523,
           0.22111377468059493,
           0.16275369438301593,
           0.14357344709541256,
           0.34193010849912725,
           0.3054783134194695,
           0.22503522752048072,
           0.23084292899251563,
           0.2628333596412419,
           0.39913053496046813,
           0.08733033459749387,
           0.10299713472793781,
           0.20951109691347627,
           0.18198090415777265,
           0.08011694848813922,
           0.12345208517274785,
           0.1335186862925623,
           0.13808170336611286,
           0.1474815948389355,
           0.10884472836681473,
           0.11032557003272586,
           0.10541877957209354,
           0.11068350139331198,
           0.12209678141900669,
           0.15417236688032115,
           0.10127561140628108,
           0.1147330085737997,
           0.1371501538917838,
           0.1353234343719066
          ],
          [
           0.014741828037225096,
           0.028894866661162,
           0.039077359205277266,
           0.060723330810181594,
           0.0639413196115617,
           0.061853257268790235,
           0.0585417257699178,
           0.06381623412446132,
           0.048043815646668715,
           0.03833909216357925,
           0.07298459371558458,
           0.19766062935925355,
           0.07822998691700098,
           0.10234522952921389,
           0.26032059719583217,
           0.17508260066907755,
           0.10144181354287908,
           0,
           0.09704618460482052,
           0.051706730252330656,
           0.06013744279093426,
           0.06974959866913613,
           0.0595957813609232,
           0.09357742246538733,
           0.27703957048752004,
           0.19822045918133147,
           0.22437278133763716,
           0.19172818140447279,
           0.20313288533728552,
           0.15378905168898913,
           0.21553952908963564,
           0.2028272213626237,
           0.15071509124857932,
           0.371650686252704,
           0.3049324076654191,
           0.25727175341943886,
           0.33909746383917383,
           0.2751296626416541,
           0.2447115424444906,
           0.28360481264086373,
           0.2379349964705681,
           0.23596396938767694,
           0.2102974221112639,
           0.24899554107934746,
           0.24804081856379082,
           0.19647632141971721,
           0.27865704166254185,
           0.2661022991114016,
           0.24464129631727055,
           0.3299836379536337,
           0.23234567397360872,
           0.33194109092396396,
           0.3185993120943421,
           0.12463407701867375,
           0.46020323124476137,
           0.1348486938756591,
           0.19970460620256564,
           0.11571661153391723,
           0.14793141757761408,
           0.10297109877431967,
           0.1114772717947532,
           0.1447195966824798,
           0.06505975544388966,
           0.058898416498391615,
           0.1151034661697167,
           0.11428252268684458,
           0.15716072726268276,
           0.1332336175905665,
           0.08156518615773178,
           0.08982071926338703,
           0.0777584655644821,
           0.1147162256275867
          ],
          [
           0.01707731518863975,
           0.03664982320530412,
           0.040410831630318764,
           0.06696650915451796,
           0.04592825355734103,
           0.056532576965506814,
           0.07052263043263148,
           0.06655667098637628,
           0.06123907348530434,
           0.040873723177486436,
           0.0729827296770702,
           0.19111793236770933,
           0.11103085845953947,
           0.2049919278451391,
           0.10918234368073129,
           0.11663759627529541,
           0.05755740844350507,
           0.09704618460482052,
           0,
           0.055450589359724384,
           0.05138122397755318,
           0.08097048815835776,
           0.13470715606305422,
           0.28764435174092023,
           0.5411121512715078,
           0.17178876128220688,
           0.26039456057428123,
           0.15275184471839892,
           0.17513264871205547,
           0.17533115896374932,
           0.1871188000671551,
           0.1825326093293982,
           0.17801406210102227,
           0.24334536886075145,
           0.26664398956874563,
           0.3028268386581173,
           0.3084919163258647,
           0.19858273605454274,
           0.318707844310703,
           0.2694486438828093,
           0.19886076841205236,
           0.20585195656985422,
           0.17322935053375815,
           0.2783924779720305,
           0.253940403657674,
           0.20350411919870603,
           0.26209217506608623,
           0.2597174203427382,
           0.23741674072054292,
           0.2349010875303188,
           0.23458067768044782,
           0.31454472905554726,
           0.14555535757084354,
           0.2047238760045118,
           0.2525431069662343,
           0.19835192790325204,
           0.1533475154736188,
           0.32417256657260635,
           0.10333354808477144,
           0.09913554517114925,
           0.11657735341601605,
           0.1373321821017131,
           0.06859999630657818,
           0.05805113730529009,
           0.1021164637553561,
           0.16344559389423002,
           0.11945175356845353,
           0.12464840475880552,
           0.09128334100852833,
           0.0931837607541818,
           0.08397176246660495,
           0.09693444622417917
          ],
          [
           0.020521934517540738,
           0.03517180221437624,
           0.05033705314954441,
           0.16469145317128409,
           0.08426545702679249,
           0.07793232165687321,
           0.09889785895441447,
           0.07675548223837939,
           0.044487160419512395,
           0.060922938952029854,
           0.13997648059401308,
           0.11685464891992015,
           0.1698391143797227,
           0.11555309787486487,
           0.10025069252094708,
           0.12948342746980415,
           0.1418304994094039,
           0.051706730252330656,
           0.055450589359724384,
           0,
           0.6010330169104721,
           0.5044594012851012,
           0.06447992639124572,
           0.10727851307221561,
           0.17510490913187093,
           0.20851363115140661,
           0.19548956439485854,
           0.5293314312395778,
           0.24206647074547555,
           0.17038447307577534,
           0.19210916917278847,
           0.20853370158928186,
           0.16184819551784266,
           0.21318850480662144,
           0.26498025078753895,
           0.3260705303655067,
           0.28603123683330467,
           0.2684062156054265,
           0.28661661583086406,
           0.2442654359036432,
           0.2951447197627182,
           0.28571917080427023,
           0.23105712996220346,
           0.23349108853289252,
           0.21627549392545387,
           0.19924438577748532,
           0.1393964238173051,
           0.2351671481409502,
           0.1814782294277577,
           0.3803961735143792,
           0.26078103959037263,
           0.2733750660797895,
           0.206999327184552,
           0.10748958483320545,
           0.13629677571828952,
           0.1514017821113089,
           0.17542016275451644,
           0.11467669960592008,
           0.19381387401840078,
           0.15489283144500568,
           0.17503917169750732,
           0.23724143686548693,
           0.10851800487203092,
           0.15966281532764787,
           0.11997250508020713,
           0.1158391371345519,
           0.2106203927474397,
           0.18389485145281603,
           0.24445999914105215,
           0.14550490942915512,
           0.12074078662929277,
           0.1452638417910896
          ],
          [
           0.021879940500853047,
           0.031252385382654055,
           0.0479864915524371,
           0.07556273958828139,
           0.09962757211689226,
           0.08747433073356947,
           0.06746753488070308,
           0.0769577188168426,
           0.04544283756281585,
           0.05688323373872064,
           0.10588630052341616,
           0.42996304338519825,
           0.10672655248549981,
           0.13245296838128398,
           0.09759464761783118,
           0.12903248309245116,
           0.10960094050576596,
           0.06013744279093426,
           0.05138122397755318,
           0.6010330169104721,
           0,
           0.26565775441374506,
           0.05922432593430821,
           0.09607063435261762,
           0.15210780890049608,
           0.19402084465866062,
           0.1509793265949606,
           0.4390256037434811,
           0.19996752496192868,
           0.1927921764226581,
           0.1792445779069497,
           0.2074988665381397,
           0.11940670869526365,
           0.1897800279634803,
           0.17649038445927817,
           0.23088921436749085,
           0.23207206654436036,
           0.2418280949384356,
           0.32138498187621795,
           0.24582607358141262,
           0.2555026480150365,
           0.20811311928696366,
           0.2827678174385313,
           0.16511667999852764,
           0.13675058911530164,
           0.21568820264568794,
           0.1343702746547318,
           0.22898347764918514,
           0.14694911864242818,
           0.27879105235894897,
           0.29564086904872344,
           0.230560035248982,
           0.1469375751873744,
           0.06945526871662992,
           0.09982244999757314,
           0.10957508702037033,
           0.1330360713682363,
           0.11393695392930023,
           0.11951893156461095,
           0.15732551918457865,
           0.17247938563246232,
           0.19822841880668546,
           0.11407167465074118,
           0.16103581400515915,
           0.12125933560501476,
           0.1279297819892985,
           0.16149103050093153,
           0.17336773932258714,
           0.1213739385004377,
           0.14192186575442098,
           0.12915424303540135,
           0.1319000183686873
          ],
          [
           0.03431111331561725,
           0.0770491317907135,
           0.07600145916511686,
           0.18951989365644523,
           0.12609851506494366,
           0.13115399804992045,
           0.19992029235018166,
           0.11148752528029453,
           0.05913815094617143,
           0.0871913134735213,
           0.15517407447662862,
           0.12593191927862346,
           0.16284704526311464,
           0.14978664278198567,
           0.12102655731563064,
           0.143084380167014,
           0.12009116651631346,
           0.06974959866913613,
           0.08097048815835776,
           0.5044594012851012,
           0.26565775441374506,
           0,
           0.09855548034162535,
           0.12410077024733326,
           0.20615668081224822,
           0.2096766584701184,
           0.20965051840770982,
           0.7370566126695153,
           0.2348974155157109,
           0.2640956841074401,
           0.20902054131303552,
           0.2717142796238122,
           0.24143514531706442,
           0.2403300374804059,
           0.2572624284490918,
           0.27151389359924394,
           0.2611560291087071,
           0.2793148113280035,
           0.2729419457513678,
           0.2729029636371436,
           0.2590558307416476,
           0.2577908537454449,
           0.2279451850308337,
           0.26783040754395754,
           0.22575717975421816,
           0.2236803310534382,
           0.19057373142857326,
           0.2645355629986391,
           0.2237735508246807,
           0.2593480944905403,
           0.34593614443132625,
           0.29170241397929464,
           0.18420918071607523,
           0.1093476348314596,
           0.2019067767812226,
           0.1538835319710644,
           0.16550248309628424,
           0.12786561372990807,
           0.1683674423096965,
           0.24187886038911038,
           0.2441821482710173,
           0.4669023691079053,
           0.13648435365439712,
           0.14165976427629584,
           0.18944835128765786,
           0.15884657540540165,
           0.49240527340722173,
           0.29777786177175136,
           0.17607209745890773,
           0.2090747606453403,
           0.17984881454806317,
           0.2106329256235656
          ],
          [
           0.01903110740541739,
           0.049198898512798045,
           0.04430489351217033,
           0.06783545517499244,
           0.08227394585308649,
           0.09754242104875196,
           0.07642753978185156,
           0.06910734729263233,
           0.11122812829819084,
           0.045258745364145925,
           0.07223195270078253,
           0.08914464889329815,
           0.09971061849758417,
           0.10695250383631827,
           0.07342273944772384,
           0.14322672126503536,
           0.14692605468712772,
           0.0595957813609232,
           0.13470715606305422,
           0.06447992639124572,
           0.05922432593430821,
           0.09855548034162535,
           0,
           0.13728231686255854,
           0.29316056475695074,
           0.20383271311065423,
           0.18641654312150974,
           0.17003797838849039,
           0.1627282077532794,
           0.16465231779701495,
           0.15397076607566276,
           0.16504567112936194,
           0.15882395427349097,
           0.21698161007658343,
           0.3119909011215102,
           0.19267200304375748,
           0.2248071318344165,
           0.1864416383142513,
           0.22971848462481698,
           0.2054344550215551,
           0.1594032311561906,
           0.198032696790167,
           0.1635705649124593,
           0.20460275151738488,
           0.36087301213276624,
           0.1963998946615767,
           0.27966290594001086,
           0.3711872950195884,
           0.22022833909208844,
           0.18970091052904905,
           0.2313124301367705,
           0.3395637084731836,
           0.5401488022387948,
           0.18085897885684316,
           0.10377036339467824,
           0.18854055823416205,
           0.16864920127653166,
           0.15307113997281366,
           0.7909225915742215,
           0.10888857862563919,
           0.12622759077997572,
           0.15320494808298157,
           0.0824045189977506,
           0.06842242737447701,
           0.10280171745917646,
           0.20664058184007186,
           0.1294749120657499,
           0.13564783344192133,
           0.10348019529967295,
           0.09533069841378475,
           0.08618615393246434,
           0.10098587911517891
          ],
          [
           0.030886061816502712,
           0.050293612647938815,
           0.05605151937262609,
           0.09097593869768705,
           0.06298167368479196,
           0.07738253666641633,
           0.0815674017282165,
           0.08179778404170518,
           0.06512275146387644,
           0.06268489198978203,
           0.0941612828372907,
           0.13889750844965223,
           0.1797896262095044,
           0.13350346580454928,
           0.1120086284588751,
           0.28829562749396254,
           0.06907125038945533,
           0.09357742246538733,
           0.28764435174092023,
           0.10727851307221561,
           0.09607063435261762,
           0.12410077024733326,
           0.13728231686255854,
           0,
           0.38212999937683956,
           0.17474629578286222,
           0.23998476897425192,
           0.20746138824518656,
           0.20251911371283454,
           0.21758285922984844,
           0.20029859497397262,
           0.20999113086663668,
           0.20167283401778,
           0.24973760001282236,
           0.25888859672778713,
           0.2824278920005825,
           0.278068943874045,
           0.23348957386952937,
           0.3181743069288081,
           0.2689268334764472,
           0.21876165443789292,
           0.2243204640844187,
           0.247133799967163,
           0.24699012551229377,
           0.26110061170068444,
           0.2444519181181234,
           0.24281446238505375,
           0.31560662303148856,
           0.26112925786945596,
           0.21112627967110012,
           0.2838561923166449,
           0.3070638638487602,
           0.17795543922042828,
           0.19303359472248888,
           0.1837778170815804,
           0.21213869556523623,
           0.15127413911568388,
           0.967653887342566,
           0.12990810359495666,
           0.13390867668851625,
           0.1943086121243512,
           0.18514247317292315,
           0.10188182460479864,
           0.08877697545176964,
           0.13349355482512434,
           0.19778557995911358,
           0.20827619972635442,
           0.16524941550715289,
           0.1365195149827123,
           0.13030416182832869,
           0.11520585564361974,
           0.15224067647877473
          ],
          [
           0.039726096414415796,
           0.0884228141234166,
           0.1311957702909148,
           0.16901749595329002,
           0.1422597020285222,
           0.15633317793407672,
           0.19290263825705342,
           0.17167798309884647,
           0.13735076509041613,
           0.13429267991338262,
           0.19368964959245466,
           0.29527395274192486,
           0.2552142433418572,
           0.23251457205499745,
           0.26701811432670797,
           0.4183352978457031,
           0.13078188588576173,
           0.27703957048752004,
           0.5411121512715078,
           0.17510490913187093,
           0.15210780890049608,
           0.20615668081224822,
           0.29316056475695074,
           0.38212999937683956,
           0,
           0.37958552295974296,
           0.5004266609947896,
           0.3937975037810102,
           0.4077517742995256,
           0.39774868942520303,
           0.4352160268478411,
           0.45032834891401874,
           0.3875831836494388,
           0.6423312332076724,
           0.5517179067568272,
           0.5327890952183046,
           0.6286302130554619,
           0.5255089391773953,
           0.5913663565045469,
           0.5231191438480811,
           0.4527365375667023,
           0.4762943406942379,
           0.43579541112863845,
           0.5681742342933607,
           0.5303269944829695,
           0.5065861447205281,
           0.5978509523158426,
           0.5739533142464466,
           0.5941118891216725,
           0.4924465106177537,
           0.5584232427792627,
           0.663210961322525,
           0.34330492872294216,
           0.4079642643159319,
           0.44151553851230974,
           0.35180750137182065,
           0.27923459849824733,
           0.46829995695417376,
           0.27991530649301055,
           0.2654794304385828,
           0.3441176725712333,
           0.3599973919102337,
           0.1976369868316682,
           0.163407068203444,
           0.2801357281634944,
           0.363000827114207,
           0.34586277250230235,
           0.3378232544305418,
           0.2587585682544183,
           0.25223082532509616,
           0.23690634938087562,
           0.27250739000732577
          ],
          [
           0.029472787319268647,
           0.07700462614677023,
           0.0903787273194901,
           0.11782789232520205,
           0.13299055658036396,
           0.12372197677278943,
           0.14668604768054297,
           0.16841450316902365,
           0.24608391311844868,
           0.08577488087826123,
           0.17733679981110267,
           0.18237668374621227,
           0.19856070037376106,
           0.16593474887093707,
           0.23978338134151667,
           0.2118368735086512,
           0.3020097334966703,
           0.19822045918133147,
           0.17178876128220688,
           0.20851363115140661,
           0.19402084465866062,
           0.2096766584701184,
           0.20383271311065423,
           0.17474629578286222,
           0.37958552295974296,
           0,
           0.4727136433985827,
           0.4479792141053073,
           0.3998772535959315,
           0.3164074770159032,
           0.34163390120022985,
           0.367760274693421,
           0.4022782011440359,
           0.5598168829650655,
           0.7245181688948219,
           0.3972390151194697,
           0.4538241920489148,
           0.5350009541647676,
           0.5121569997235812,
           0.4162297324309695,
           0.3989464745860767,
           0.5083115555360725,
           0.4294538958815438,
           0.4756488920629093,
           0.5496675694331365,
           0.46825522345140635,
           0.5234069004136335,
           0.49682124714444276,
           0.5334316883954386,
           0.5074628180495937,
           0.49887608443688425,
           0.6733236384700867,
           0.48316289798393597,
           0.5118600450106234,
           0.3335919376439195,
           0.3316090702365823,
           0.575676423528878,
           0.23308575230704184,
           0.36620392306417576,
           0.24613607477881932,
           0.27757484721762765,
           0.40758058075911263,
           0.20772853218583792,
           0.20399722530363998,
           0.20089129641586712,
           0.2045011070632259,
           0.3595968651917617,
           0.2834171858571663,
           0.19687054375152468,
           0.20848258228668212,
           0.18903861821011403,
           0.23928001001275723
          ],
          [
           0.03868913107927105,
           0.08004537255914618,
           0.10790072158981291,
           0.16846896468240066,
           0.1583048667635123,
           0.1469322657675256,
           0.1571128992742998,
           0.16987952677973678,
           0.1804126400639468,
           0.11519266728257466,
           0.18402944374428523,
           0.22134874143491512,
           0.23609661520893038,
           0.21841375982222744,
           0.26680985398212753,
           0.2912827120681254,
           0.29099381075397446,
           0.22437278133763716,
           0.26039456057428123,
           0.19548956439485854,
           0.1509793265949606,
           0.20965051840770982,
           0.18641654312150974,
           0.23998476897425192,
           0.5004266609947896,
           0.4727136433985827,
           0,
           0.4127673843717157,
           0.44582796275592806,
           0.3802801806316011,
           0.3822472720700174,
           0.4527086008631821,
           0.3848104478199761,
           0.6133293327375317,
           0.628914749496073,
           0.48025767282002785,
           0.5438675509068267,
           0.5120981148108943,
           0.5552599479919847,
           0.48852116353068387,
           0.4383655202161341,
           0.5695807656980704,
           0.4662484426068695,
           0.5458151162601195,
           0.5164385780924048,
           0.5414626352742589,
           0.5382982407860696,
           0.5277713091213214,
           0.5432594702425566,
           0.4454176633997538,
           0.5863100110997644,
           0.6277325650770351,
           0.4130848092801882,
           0.4183759447053961,
           0.34034169744328424,
           0.6120240960316868,
           0.40011751026376885,
           0.30258818853160163,
           0.2639922191332908,
           0.26901482933824183,
           0.3337154089394556,
           0.37449840752551916,
           0.24476655502020397,
           0.199225472465473,
           0.28700180395171304,
           0.2590677887544278,
           0.3133809448894387,
           0.34161238111255365,
           0.25132836636672135,
           0.24337643473495846,
           0.23442509476025847,
           0.2784451027178184
          ],
          [
           0.048178395920452435,
           0.08605776477082344,
           0.1265285698850582,
           0.24928381933754723,
           0.23075816029393023,
           0.21334394219417202,
           0.26542436438740813,
           0.2190390954361208,
           0.14685342762668774,
           0.1334913888274777,
           0.2129307990932071,
           0.20570182769453488,
           0.2639511285523418,
           0.2129831713297909,
           0.2508837819470672,
           0.26240970675442765,
           0.1877638903964605,
           0.19172818140447279,
           0.15275184471839892,
           0.5293314312395778,
           0.4390256037434811,
           0.7370566126695153,
           0.17003797838849039,
           0.20746138824518656,
           0.3937975037810102,
           0.4479792141053073,
           0.4127673843717157,
           0,
           0.4067012828101536,
           0.43241637253090714,
           0.3685799479291117,
           0.4566385127633674,
           0.43792913841472925,
           0.532462939337734,
           0.48349482049321724,
           0.4575442800471699,
           0.47487796792798187,
           0.5391324031812499,
           0.5075093035523459,
           0.4765231075073644,
           0.4570029715539985,
           0.45307153438551395,
           0.4621251990337502,
           0.4481534948779516,
           0.41410152579223736,
           0.4354399217553473,
           0.4555728688434011,
           0.46552965380242484,
           0.46055619630396283,
           0.47144363002550566,
           0.5997760958958513,
           0.5548381666238028,
           0.317791576550698,
           0.32850878480797047,
           0.32755050956986753,
           0.2781480522004317,
           0.29829561179807773,
           0.24264878007471136,
           0.2558079866222116,
           0.41365366336120224,
           0.39711680839702596,
           0.6541064835193059,
           0.2634967532641046,
           0.25919253838389,
           0.2957367792796428,
           0.2499441820880149,
           0.6416082851292473,
           0.46647499025915573,
           0.28685208660695394,
           0.3734693585762046,
           0.3240247362938728,
           0.35015681979722135
          ],
          [
           0.04709046654849275,
           0.09925556717589673,
           0.13237936084130733,
           0.1643507716958355,
           0.1699525073957106,
           0.19763112931839472,
           0.24665528013640312,
           0.19791939181190005,
           0.17452337062217993,
           0.2610456251797687,
           0.2392654029733688,
           0.28427259003487393,
           0.3394214206529965,
           0.379881806162918,
           0.27724397909552234,
           0.2500174158970679,
           0.19255274935881866,
           0.20313288533728552,
           0.17513264871205547,
           0.24206647074547555,
           0.19996752496192868,
           0.2348974155157109,
           0.1627282077532794,
           0.20251911371283454,
           0.4077517742995256,
           0.3998772535959315,
           0.44582796275592806,
           0.4067012828101536,
           0,
           0.4419837093513447,
           0.5456374642194384,
           0.46964277068940485,
           0.40427989278735826,
           0.5721960269279385,
           0.5164043470086322,
           0.7126889784284932,
           0.6326262577607091,
           0.6087825880250342,
           0.5597825947416026,
           0.5583668655413769,
           0.7559780796718223,
           0.5946199378251824,
           0.591988587390898,
           0.532611540105706,
           0.5255229062162969,
           0.5012920940316701,
           0.4521336934802267,
           0.47052475646649705,
           0.45780161813636544,
           0.6584138289626218,
           0.6464515978804883,
           0.5897430363067964,
           0.3121406072340993,
           0.31224952529130257,
           0.2900742517147574,
           0.30899594238770706,
           0.3356769943498034,
           0.25229915290407323,
           0.252203218101096,
           0.3765651422316642,
           0.47983775415489205,
           0.3836349497196261,
           0.312552119652319,
           0.27583088328448224,
           0.3339212167300126,
           0.2702015895508735,
           0.3273332481825314,
           0.3845937523615781,
           0.4709030640556513,
           0.3874000353476158,
           0.3692629365452352,
           0.3597347853910806
          ],
          [
           0.26910354454855956,
           0.10186983833976065,
           0.27491410588126575,
           0.20244916361479495,
           0.19165953336250466,
           0.3316820478798278,
           0.24094424964344624,
           0.2452981232969727,
           0.12239619577660195,
           0.18608645264948437,
           0.17848971877744607,
           0.2138933065330679,
           0.26081066107173145,
           0.2532312020569727,
           0.2579309987637228,
           0.2576375716792165,
           0.15871215287426607,
           0.15378905168898913,
           0.17533115896374932,
           0.17038447307577534,
           0.1927921764226581,
           0.2640956841074401,
           0.16465231779701495,
           0.21758285922984844,
           0.39774868942520303,
           0.3164074770159032,
           0.3802801806316011,
           0.43241637253090714,
           0.4419837093513447,
           0,
           0.44042876857021357,
           0.5127709646228329,
           0.4095634049707702,
           0.4784218232950899,
           0.42438670011274,
           0.5023187497029995,
           0.4930690617162602,
           0.5099877035756172,
           0.585503393480609,
           0.5846503461145189,
           0.4632765345540416,
           0.5156729860982767,
           0.4269905695474491,
           0.47478763605309204,
           0.40763641135321993,
           0.42003573199465855,
           0.42136776368471895,
           0.5069745810567075,
           0.4099873467215812,
           0.42013700126188147,
           0.7211820725877809,
           0.5200288132418157,
           0.27117221721669393,
           0.26972828683470135,
           0.26469160142419634,
           0.284035299829668,
           0.222391427833653,
           0.25188863170100106,
           0.2096537091271301,
           0.4161235543273027,
           0.5088493927813996,
           0.43157117981388915,
           0.30868517692543507,
           0.2513366575153661,
           0.4912132613020715,
           0.3298890357939058,
           0.3555824029028537,
           0.4952992132115781,
           0.30926793719772944,
           0.37047264628318866,
           0.3596028805790234,
           0.4367062423180922
          ],
          [
           0.052455286795364806,
           0.17619000018835676,
           0.18116641489322524,
           0.14902711779421912,
           0.14452712404121332,
           0.16585143561406157,
           0.1749776648449448,
           0.1679315666738186,
           0.1863495680804191,
           0.22202684581637816,
           0.19696473829963954,
           0.2712011109787613,
           0.25577182606560955,
           0.253744778518574,
           0.27369028332153256,
           0.2680573081509334,
           0.1501704672338344,
           0.21553952908963564,
           0.1871188000671551,
           0.19210916917278847,
           0.1792445779069497,
           0.20902054131303552,
           0.15397076607566276,
           0.20029859497397262,
           0.4352160268478411,
           0.34163390120022985,
           0.3822472720700174,
           0.3685799479291117,
           0.5456374642194384,
           0.44042876857021357,
           0,
           0.53361184376168,
           0.37116510849135004,
           0.5310799649668191,
           0.4571398199396175,
           0.5337576655552536,
           0.5399701081816703,
           0.6203385681411129,
           0.517879288942553,
           0.4832958627416136,
           0.5666638102068879,
           0.46593538503523946,
           0.4683695098026466,
           0.46236916975378184,
           0.42521690816398416,
           0.5021773246628878,
           0.43527715500376896,
           0.5825107422796711,
           0.4232453308181532,
           0.4613978807365555,
           0.593259585633453,
           0.6269322484314582,
           0.26269532504733956,
           0.32421750127086657,
           0.29792960330047386,
           0.266022598123652,
           0.25589877259226335,
           0.25028917610327744,
           0.21253963908201212,
           0.3010008682312083,
           0.3955611601223099,
           0.34418667685508614,
           0.256271576569568,
           0.20430782873881886,
           0.46700224659988177,
           0.4034511868522026,
           0.2933880518460339,
           0.3416676237593289,
           0.3321145879955699,
           0.2950768882827838,
           0.2794983404602611,
           0.31600190840520853
          ],
          [
           0.07205518642317602,
           0.14157281630618507,
           0.20205007884426365,
           0.1903866933229219,
           0.19409194587023026,
           0.21528274530780978,
           0.20945533403654099,
           0.23610831078964936,
           0.19616259254943985,
           0.21675303634241344,
           0.19692903903360748,
           0.24830364134860483,
           0.28478142794672273,
           0.2535442425683938,
           0.2629578227977822,
           0.27747011040328323,
           0.16899477343046765,
           0.2028272213626237,
           0.1825326093293982,
           0.20853370158928186,
           0.2074988665381397,
           0.2717142796238122,
           0.16504567112936194,
           0.20999113086663668,
           0.45032834891401874,
           0.367760274693421,
           0.4527086008631821,
           0.4566385127633674,
           0.46964277068940485,
           0.5127709646228329,
           0.53361184376168,
           0,
           0.4375912532937302,
           0.5694742519077312,
           0.48395507933424287,
           0.5037648497603413,
           0.523782869823348,
           0.6454670210229959,
           0.5552505073975902,
           0.526132073391852,
           0.5230823879617097,
           0.49164053467073443,
           0.5062322745331377,
           0.4997110481169339,
           0.4583460736471917,
           0.5692898619319002,
           0.4713071469672059,
           0.535534666007513,
           0.48771193738024177,
           0.4392604252523012,
           0.6718390286556519,
           0.6048720812573395,
           0.28767204367265486,
           0.36551038991239976,
           0.2791548342641667,
           0.2910599326165797,
           0.2544355374225652,
           0.25671680619307036,
           0.22872417166979636,
           0.380071145847387,
           0.45226631098596326,
           0.4545097757860702,
           0.29361891072683405,
           0.2510601915441649,
           0.4577586040131757,
           0.3349712680050774,
           0.3550804644142776,
           0.4806743724146257,
           0.3393468121218767,
           0.3531836357331206,
           0.34556424941843755,
           0.3567804052555405
          ],
          [
           0.03840102529152048,
           0.0955059489223124,
           0.10527743077114446,
           0.1895096987702369,
           0.21717829403241584,
           0.21432274405919918,
           0.25607004540971023,
           0.24993590087018108,
           0.21970895904982565,
           0.1667193102640444,
           0.1729083415245038,
           0.1755476219858244,
           0.2249201366768441,
           0.2767186243695009,
           0.1803518868260791,
           0.25842516843494623,
           0.13211125709114974,
           0.15071509124857932,
           0.17801406210102227,
           0.16184819551784266,
           0.11940670869526365,
           0.24143514531706442,
           0.15882395427349097,
           0.20167283401778,
           0.3875831836494388,
           0.4022782011440359,
           0.3848104478199761,
           0.43792913841472925,
           0.40427989278735826,
           0.4095634049707702,
           0.37116510849135004,
           0.4375912532937302,
           0,
           0.5192127150508079,
           0.5011025369503292,
           0.49375098665956213,
           0.49769894225806516,
           0.5124038580832413,
           0.5207752550548326,
           0.4748211895905502,
           0.39763353851336436,
           0.43552665390029965,
           0.529914226452371,
           0.4832676470313234,
           0.48107607904227767,
           0.5213339219685172,
           0.4844877576035886,
           0.3824190433021177,
           0.5014879639822537,
           0.4275961218704011,
           0.5747053142912798,
           0.5643947431149043,
           0.23525016733560533,
           0.5861514826117951,
           0.20841827245500988,
           0.3115709967829613,
           0.2344376609135544,
           0.26253817001742685,
           0.19230393883492525,
           0.45185339813424213,
           0.3978519366825463,
           0.4285759708034943,
           0.28793815963084274,
           0.21136890562453903,
           0.2880371327140182,
           0.220313079327012,
           0.3992482644856773,
           0.39248417073271924,
           0.2657957897131572,
           0.4136076912611344,
           0.3480331157715344,
           0.3394853321420811
          ],
          [
           0.04598068706043364,
           0.1032508465238841,
           0.1550753299936181,
           0.17147328867981615,
           0.21949140958577712,
           0.22623046703872204,
           0.22425394342407126,
           0.25787924141793767,
           0.2347862023758163,
           0.17267595628393304,
           0.23887853015824367,
           0.28516985868042555,
           0.3025315338030723,
           0.24139224659821912,
           0.44154061039145454,
           0.3510915147202907,
           0.18506921525601167,
           0.371650686252704,
           0.24334536886075145,
           0.21318850480662144,
           0.1897800279634803,
           0.2403300374804059,
           0.21698161007658343,
           0.24973760001282236,
           0.6423312332076724,
           0.5598168829650655,
           0.6133293327375317,
           0.532462939337734,
           0.5721960269279385,
           0.4784218232950899,
           0.5310799649668191,
           0.5694742519077312,
           0.5192127150508079,
           0,
           0.6979602224845936,
           0.5919783214999392,
           0.7123931917199853,
           0.7926868468410986,
           0.65230336539371,
           0.6093155987830803,
           0.5941559447915279,
           0.674949019477751,
           0.656014213577496,
           0.6973728135732,
           0.6452248556690369,
           0.663188356817802,
           0.838265105746949,
           0.5998706416072457,
           0.8146525787684485,
           0.6189549672620431,
           0.7445833245138609,
           0.7984187755639094,
           0.3851076533288013,
           0.5252795228629059,
           0.42695340249030544,
           0.37344680046456713,
           0.3719223096524831,
           0.319332328615557,
           0.3247891666966614,
           0.40176112142171594,
           0.47649407109251607,
           0.5122457139543443,
           0.34751714652560434,
           0.2835017611044529,
           0.3769474652174195,
           0.29668687235296504,
           0.42300647369042943,
           0.4593052664049454,
           0.339971287771373,
           0.34604576651693786,
           0.3224770137417775,
           0.4143579667856625
          ],
          [
           0.04224413909347599,
           0.10718896134115724,
           0.11047119461402172,
           0.1624280483941889,
           0.14828799878595517,
           0.16311415382345923,
           0.20360624387673176,
           0.20599956699250863,
           0.29927879087796067,
           0.14118911319960334,
           0.28670885122410206,
           0.2673677796486765,
           0.3064218058132494,
           0.25555186059682583,
           0.30253756277741056,
           0.2951543464839017,
           0.422327606656028,
           0.3049324076654191,
           0.26664398956874563,
           0.26498025078753895,
           0.17649038445927817,
           0.2572624284490918,
           0.3119909011215102,
           0.25888859672778713,
           0.5517179067568272,
           0.7245181688948219,
           0.628914749496073,
           0.48349482049321724,
           0.5164043470086322,
           0.42438670011274,
           0.4571398199396175,
           0.48395507933424287,
           0.5011025369503292,
           0.6979602224845936,
           0,
           0.5910047195315914,
           0.6559588461569039,
           0.6484199694312527,
           0.6852321957096106,
           0.5758949953518231,
           0.5095723371849499,
           0.6323544265867811,
           0.6048348079400602,
           0.6366702315429756,
           0.6901327102191364,
           0.590433640303259,
           0.6555534861565471,
           0.6254243402900936,
           0.6639777302653529,
           0.6264461519923018,
           0.6329682412362785,
           0.8500935389616626,
           0.579579656652605,
           0.6441329101187598,
           0.43441880506214714,
           0.48634822975028774,
           0.5132539347992181,
           0.3310827525190013,
           0.4046540663001934,
           0.3030536737020255,
           0.3857124558634284,
           0.45324578922106107,
           0.23049562423013825,
           0.22488351783558222,
           0.2705026475391039,
           0.28871222070652225,
           0.4090159029443937,
           0.3576886391251836,
           0.29538901642618365,
           0.2729957720168725,
           0.2531716844099814,
           0.3231842497845853
          ],
          [
           0.0470941499219977,
           0.1031475363073246,
           0.11407677699647839,
           0.21914745862875196,
           0.1675820012269803,
           0.21002676684812524,
           0.21645470282183607,
           0.21093594527083082,
           0.1816658340295509,
           0.2509561645073977,
           0.27882489681593314,
           0.4238278625652777,
           0.43032400309542557,
           0.579476488559366,
           0.2993537057695145,
           0.27390881044690196,
           0.18516888304398332,
           0.25727175341943886,
           0.3028268386581173,
           0.3260705303655067,
           0.23088921436749085,
           0.27151389359924394,
           0.19267200304375748,
           0.2824278920005825,
           0.5327890952183046,
           0.3972390151194697,
           0.48025767282002785,
           0.4575442800471699,
           0.7126889784284932,
           0.5023187497029995,
           0.5337576655552536,
           0.5037648497603413,
           0.49375098665956213,
           0.5919783214999392,
           0.5910047195315914,
           0,
           0.8416991059118585,
           0.6265594882420751,
           0.7003248696953122,
           0.6971535894389591,
           0.6754018729926133,
           0.6168895348191064,
           0.6154246401946099,
           0.656741665276338,
           0.6547348283804626,
           0.49005488231362043,
           0.50908880421538,
           0.5056224125783122,
           0.48984181523273707,
           0.612333574995843,
           0.6737486736172157,
           0.6710942520524203,
           0.3223692658916727,
           0.4193431117435697,
           0.4058070670502055,
           0.38081421879481925,
           0.31379696301964144,
           0.33568736445891273,
           0.2547169508924244,
           0.3847218455579564,
           0.5716678733296175,
           0.403032846466417,
           0.2642237770095205,
           0.26831250671824053,
           0.3032972864477378,
           0.28635033264711207,
           0.3425379020019581,
           0.37975446592988144,
           0.5807483043067627,
           0.39597850536884904,
           0.3262135095996908,
           0.4575140077750446
          ],
          [
           0.045505359163073134,
           0.09617332746120474,
           0.12111971634455335,
           0.21504029000769714,
           0.1727304159660678,
           0.211955555294978,
           0.24639146008911672,
           0.20741080418826224,
           0.20316316884135588,
           0.22926205070018535,
           0.2852191399149857,
           0.42092636633622305,
           0.41195148583436125,
           0.361749371424387,
           0.3684705064053726,
           0.307844580508412,
           0.18755325436735304,
           0.33909746383917383,
           0.3084919163258647,
           0.28603123683330467,
           0.23207206654436036,
           0.2611560291087071,
           0.2248071318344165,
           0.278068943874045,
           0.6286302130554619,
           0.4538241920489148,
           0.5438675509068267,
           0.47487796792798187,
           0.6326262577607091,
           0.4930690617162602,
           0.5399701081816703,
           0.523782869823348,
           0.49769894225806516,
           0.7123931917199853,
           0.6559588461569039,
           0.8416991059118585,
           0,
           0.6858411494737607,
           0.6987341410257779,
           0.6785748355416574,
           0.676103828393636,
           0.644468753634097,
           0.6217261152914365,
           0.6770616636271602,
           0.6807252488990999,
           0.5434925049890761,
           0.6167134573527574,
           0.5591452663485026,
           0.5783597017886329,
           0.6491451725851716,
           0.6773501573651604,
           0.7255706033026799,
           0.3624128327889217,
           0.42626451564279244,
           0.47191850357247045,
           0.3553251191919322,
           0.3404343857115273,
           0.34053971006103634,
           0.2929684447636083,
           0.37810818588529244,
           0.4878070425035169,
           0.4159227902280933,
           0.28285074431270174,
           0.25696911143254764,
           0.3135689801815797,
           0.29954532593057726,
           0.39301454892157994,
           0.3841389852175632,
           0.4512571180639347,
           0.36844075182856173,
           0.30536317103044486,
           0.38947523318987765
          ],
          [
           0.051465637848176746,
           0.13954792836317,
           0.15877898265311746,
           0.22380499943073673,
           0.22320856715521126,
           0.2542961700224535,
           0.2386472713987527,
           0.24752285830612902,
           0.26526471839115573,
           0.25587137959890527,
           0.2450904154751283,
           0.29422257158025544,
           0.35254079220559764,
           0.27014644611154043,
           0.4670602732329413,
           0.3393497745904953,
           0.18922212541779865,
           0.2751296626416541,
           0.19858273605454274,
           0.2684062156054265,
           0.2418280949384356,
           0.2793148113280035,
           0.1864416383142513,
           0.23348957386952937,
           0.5255089391773953,
           0.5350009541647676,
           0.5120981148108943,
           0.5391324031812499,
           0.6087825880250342,
           0.5099877035756172,
           0.6203385681411129,
           0.6454670210229959,
           0.5124038580832413,
           0.7926868468410986,
           0.6484199694312527,
           0.6265594882420751,
           0.6858411494737607,
           0,
           0.6521118808503106,
           0.6074535852867264,
           0.6492524467934866,
           0.6225084319663675,
           0.6672898808550255,
           0.639335873375683,
           0.5647984818072259,
           0.6919396936260354,
           0.6604663099388854,
           0.6180814054897726,
           0.6348411531359838,
           0.6303578118563318,
           0.7279445678444432,
           0.7765993366098665,
           0.3434783108167758,
           0.4753577646840897,
           0.3970014328626677,
           0.3629558313904173,
           0.36269888623721713,
           0.29711252203083993,
           0.2978647492938511,
           0.4433935666236686,
           0.5533822938595734,
           0.5217413572989069,
           0.37193492479142454,
           0.32489862834586836,
           0.3998623866707648,
           0.3625538606358548,
           0.44026276134548137,
           0.4584737680873844,
           0.41973267469027936,
           0.4079905734130936,
           0.37326991392791875,
           0.4338331832005756
          ],
          [
           0.06151631710930762,
           0.12123059153581522,
           0.1233388311456169,
           0.18523530147635614,
           0.1721523091698164,
           0.18875357421344807,
           0.2435800621345033,
           0.2106081375107588,
           0.2246154330560647,
           0.15880632526178814,
           0.2594011583911445,
           0.33304647739684684,
           0.30397457509919107,
           0.3511683007959398,
           0.31191334938124177,
           0.2929364442125172,
           0.2108256638090453,
           0.2447115424444906,
           0.318707844310703,
           0.28661661583086406,
           0.32138498187621795,
           0.2729419457513678,
           0.22971848462481698,
           0.3181743069288081,
           0.5913663565045469,
           0.5121569997235812,
           0.5552599479919847,
           0.5075093035523459,
           0.5597825947416026,
           0.585503393480609,
           0.517879288942553,
           0.5552505073975902,
           0.5207752550548326,
           0.65230336539371,
           0.6852321957096106,
           0.7003248696953122,
           0.6987341410257779,
           0.6521118808503106,
           0,
           0.7728124483831418,
           0.5749684978078673,
           0.6498153891136036,
           0.5865975818478082,
           0.6090422647279585,
           0.6424766093838055,
           0.5923191934913397,
           0.621083840041418,
           0.6225829604068011,
           0.576129748884343,
           0.6166429129535584,
           0.7807885738131832,
           0.7897017722976427,
           0.3781362644434924,
           0.5574730662909633,
           0.41597452430140014,
           0.4489011034314407,
           0.37967890727950737,
           0.38870768071557055,
           0.30043241031626544,
           0.3646184986319231,
           0.45239874890942766,
           0.43540358505285603,
           0.2593693197094247,
           0.24202589506632866,
           0.31482904648817545,
           0.33015618722374523,
           0.4242463037149665,
           0.3935087601224163,
           0.3518092905732756,
           0.33277668784071507,
           0.2909914145058755,
           0.3811556264311561
          ],
          [
           0.055660567061744035,
           0.10605815045116959,
           0.12384898659811734,
           0.19468903603110238,
           0.1851570656034648,
           0.3666012238185804,
           0.26778921983126164,
           0.3336820667849488,
           0.16144493793506534,
           0.16372364441382392,
           0.26369972256731977,
           0.3431354338225307,
           0.3197414467571691,
           0.4104369805246013,
           0.35607834347600653,
           0.2933762389604607,
           0.19998006335387797,
           0.28360481264086373,
           0.2694486438828093,
           0.2442654359036432,
           0.24582607358141262,
           0.2729029636371436,
           0.2054344550215551,
           0.2689268334764472,
           0.5231191438480811,
           0.4162297324309695,
           0.48852116353068387,
           0.4765231075073644,
           0.5583668655413769,
           0.5846503461145189,
           0.4832958627416136,
           0.526132073391852,
           0.4748211895905502,
           0.6093155987830803,
           0.5758949953518231,
           0.6971535894389591,
           0.6785748355416574,
           0.6074535852867264,
           0.7728124483831418,
           0,
           0.5782545327623201,
           0.6472204181008467,
           0.5453787130554952,
           0.5656871348978407,
           0.5482196692459208,
           0.4778517082767326,
           0.5251995920595827,
           0.5511166227311517,
           0.49507376180339213,
           0.5790514630283128,
           0.7529319181098029,
           0.6752714685202548,
           0.3482344467101467,
           0.3611135580367239,
           0.4649156973859222,
           0.37764787997868565,
           0.374148404083769,
           0.32351807942070787,
           0.2772400395338357,
           0.4952713755218978,
           0.5485918267381074,
           0.49894332659999097,
           0.3254097625544398,
           0.33149129678245104,
           0.34540327188806197,
           0.2950269426119902,
           0.37102139046757143,
           0.45380723084094565,
           0.36987080725145816,
           0.4352894654059827,
           0.4072759302194603,
           0.44839656472767475
          ],
          [
           0.050860965937805015,
           0.1029543417747722,
           0.15966818349684597,
           0.17446922694896522,
           0.18326028984313247,
           0.2097905927465456,
           0.22854812687268558,
           0.2091202920341192,
           0.2114562304583703,
           0.29620701140710537,
           0.23980058952865418,
           0.2836650319820108,
           0.28491154337121294,
           0.2840657924557918,
           0.32077921535391984,
           0.287688608168409,
           0.20005826299359308,
           0.2379349964705681,
           0.19886076841205236,
           0.2951447197627182,
           0.2555026480150365,
           0.2590558307416476,
           0.1594032311561906,
           0.21876165443789292,
           0.4527365375667023,
           0.3989464745860767,
           0.4383655202161341,
           0.4570029715539985,
           0.7559780796718223,
           0.4632765345540416,
           0.5666638102068879,
           0.5230823879617097,
           0.39763353851336436,
           0.5941559447915279,
           0.5095723371849499,
           0.6754018729926133,
           0.676103828393636,
           0.6492524467934866,
           0.5749684978078673,
           0.5782545327623201,
           0,
           0.5476032535662816,
           0.5320299544802101,
           0.5335753044798486,
           0.4955033805771414,
           0.5031048630651543,
           0.47581782535534556,
           0.5206142407470399,
           0.4570098642463054,
           0.6127638884107756,
           0.6612654762123307,
           0.6050891457380959,
           0.3107272866986359,
           0.27677680326162574,
           0.35588057789683386,
           0.2902155416192146,
           0.32197599685836753,
           0.2701648601187441,
           0.254498086273691,
           0.4200087427577735,
           0.4887131227886663,
           0.41299525941702486,
           0.35269968757760584,
           0.33487666709462327,
           0.46858088851737506,
           0.3218768010960154,
           0.33419204978620226,
           0.4119347908466614,
           0.4444656766758187,
           0.41923297946079074,
           0.37806522311805185,
           0.37488819952980573
          ],
          [
           0.04544773191234651,
           0.08917391634932698,
           0.12217841112998648,
           0.23491200511446428,
           0.1754594853254023,
           0.2504347214089305,
           0.25554446966936667,
           0.20817936267547393,
           0.1692357215753757,
           0.13371737950736828,
           0.2600540455673735,
           0.2513527110503608,
           0.31101508313591264,
           0.2894556710428757,
           0.4293165680042257,
           0.2653906522330878,
           0.21037835366709395,
           0.23596396938767694,
           0.20585195656985422,
           0.28571917080427023,
           0.20811311928696366,
           0.2577908537454449,
           0.198032696790167,
           0.2243204640844187,
           0.4762943406942379,
           0.5083115555360725,
           0.5695807656980704,
           0.45307153438551395,
           0.5946199378251824,
           0.5156729860982767,
           0.46593538503523946,
           0.49164053467073443,
           0.43552665390029965,
           0.674949019477751,
           0.6323544265867811,
           0.6168895348191064,
           0.644468753634097,
           0.6225084319663675,
           0.6498153891136036,
           0.6472204181008467,
           0.5476032535662816,
           0,
           0.5538828889738234,
           0.6034563314702566,
           0.6071344287566045,
           0.48844567215213197,
           0.5703824079586213,
           0.5026910038312848,
           0.5553122068955241,
           0.6264604288532314,
           0.6936826899849287,
           0.6934496767571126,
           0.39648456360735707,
           0.3824923966282472,
           0.39771995442860036,
           0.3495276366496761,
           0.4383559005225143,
           0.2793998990696682,
           0.3459213034908205,
           0.42334070087614506,
           0.45584033781618316,
           0.4332974224034119,
           0.32359060216637286,
           0.2888251909536317,
           0.31394118128704285,
           0.25899510555104055,
           0.34292375289196847,
           0.39083128589666205,
           0.326206196794005,
           0.33012007150511313,
           0.2995591977193087,
           0.4050244637640355
          ],
          [
           0.04239264511881861,
           0.08958334465168559,
           0.10951964741010163,
           0.19697207798767616,
           0.16509740129978628,
           0.20510235118946818,
           0.19580009852086688,
           0.21366772058126704,
           0.18980972438196325,
           0.17343415790414793,
           0.23006172937456623,
           0.4821861799960699,
           0.3258946363281776,
           0.28846150580192004,
           0.30130010597924983,
           0.25578082296570703,
           0.17346157233335835,
           0.2102974221112639,
           0.17322935053375815,
           0.23105712996220346,
           0.2827678174385313,
           0.2279451850308337,
           0.1635705649124593,
           0.247133799967163,
           0.43579541112863845,
           0.4294538958815438,
           0.4662484426068695,
           0.4621251990337502,
           0.591988587390898,
           0.4269905695474491,
           0.4683695098026466,
           0.5062322745331377,
           0.529914226452371,
           0.656014213577496,
           0.6048348079400602,
           0.6154246401946099,
           0.6217261152914365,
           0.6672898808550255,
           0.5865975818478082,
           0.5453787130554952,
           0.5320299544802101,
           0.5538828889738234,
           0,
           0.4835708480714943,
           0.572747373411044,
           0.5548435753538927,
           0.541674906160805,
           0.46189664786119716,
           0.5593497610874374,
           0.585402903376816,
           0.6143401530838296,
           0.6334925495711395,
           0.284684652040469,
           0.46531355463346113,
           0.2944166677476733,
           0.3488488765569452,
           0.3086792442937485,
           0.30485328082311697,
           0.2344689069336952,
           0.3440485244940373,
           0.4567898212006724,
           0.4313905685901504,
           0.24987336386785142,
           0.23681602578600847,
           0.28424925333444095,
           0.24638879497766294,
           0.3818051235277469,
           0.38062702538629434,
           0.3486895930957812,
           0.3390795767767383,
           0.2964237834078157,
           0.3431978392091818
          ],
          [
           0.04291932825048218,
           0.09747693034617598,
           0.12073981632411232,
           0.18310391702758338,
           0.16871422590111423,
           0.18521945655895683,
           0.2637281547881699,
           0.2048602454576361,
           0.17580943005669708,
           0.16678159526802008,
           0.22556724030923847,
           0.2724902791425519,
           0.324814039128342,
           0.3099848666835751,
           0.35366727748763277,
           0.2580702470183478,
           0.25927916694106523,
           0.24899554107934746,
           0.2783924779720305,
           0.23349108853289252,
           0.16511667999852764,
           0.26783040754395754,
           0.20460275151738488,
           0.24699012551229377,
           0.5681742342933607,
           0.4756488920629093,
           0.5458151162601195,
           0.4481534948779516,
           0.532611540105706,
           0.47478763605309204,
           0.46236916975378184,
           0.4997110481169339,
           0.4832676470313234,
           0.6973728135732,
           0.6366702315429756,
           0.656741665276338,
           0.6770616636271602,
           0.639335873375683,
           0.6090422647279585,
           0.5656871348978407,
           0.5335753044798486,
           0.6034563314702566,
           0.4835708480714943,
           0,
           0.6462922610175457,
           0.535582762127893,
           0.607988950274055,
           0.5262067185725947,
           0.5697024155256147,
           0.5256079124505069,
           0.6772349701375607,
           0.7025264431509581,
           0.37103011455131596,
           0.44638334830454485,
           0.39865364003081716,
           0.36647209773306255,
           0.3847560487811771,
           0.30624169150800895,
           0.26657593235456195,
           0.3796032743112821,
           0.47137092212506304,
           0.4283638946165804,
           0.34294349049046746,
           0.24000874872161024,
           0.31400835074382194,
           0.2790142555430176,
           0.31741111049165227,
           0.39661193742815454,
           0.3495460808353732,
           0.3154796745584531,
           0.30194895765581464,
           0.4150527557703151
          ],
          [
           0.03561237858324676,
           0.09209698401312644,
           0.09738851543596756,
           0.14607052617085237,
           0.1411725007425709,
           0.18131974227176192,
           0.23352208172670477,
           0.18897398638753496,
           0.21795057168513832,
           0.1251602658364838,
           0.2558793313818559,
           0.23706233820410877,
           0.306091621413387,
           0.2709213340352799,
           0.21766408027953246,
           0.26095102286407246,
           0.22111377468059493,
           0.24804081856379082,
           0.253940403657674,
           0.21627549392545387,
           0.13675058911530164,
           0.22575717975421816,
           0.36087301213276624,
           0.26110061170068444,
           0.5303269944829695,
           0.5496675694331365,
           0.5164385780924048,
           0.41410152579223736,
           0.5255229062162969,
           0.40763641135321993,
           0.42521690816398416,
           0.4583460736471917,
           0.48107607904227767,
           0.6452248556690369,
           0.6901327102191364,
           0.6547348283804626,
           0.6807252488990999,
           0.5647984818072259,
           0.6424766093838055,
           0.5482196692459208,
           0.4955033805771414,
           0.6071344287566045,
           0.572747373411044,
           0.6462922610175457,
           0,
           0.5535211922432716,
           0.6038982972116863,
           0.5075417757946515,
           0.5923668379850022,
           0.5867951205228316,
           0.6121048352363736,
           0.7283962515886055,
           0.5016375228648178,
           0.5586665359603247,
           0.3191150617260967,
           0.3578119732019723,
           0.45969350756536165,
           0.33515182054981685,
           0.4632727905732592,
           0.2969377296334123,
           0.46896102336962553,
           0.4003305233670817,
           0.21348859655238978,
           0.19222400148889152,
           0.25532971382849423,
           0.251662077465851,
           0.3456992934865495,
           0.3242833403833991,
           0.40122571053857203,
           0.2546678604343039,
           0.23351100677530381,
           0.3591273469663679
          ],
          [
           0.04367518268175552,
           0.16604584959585228,
           0.17003449126219383,
           0.15184321723390837,
           0.15997234394389037,
           0.1799219404323975,
           0.20822565214697306,
           0.2143062596191339,
           0.35728865895559714,
           0.23877296177352927,
           0.20727042386159372,
           0.2428895488860599,
           0.2657610736796261,
           0.23292024950183055,
           0.1953496297057446,
           0.3100059744509428,
           0.16275369438301593,
           0.19647632141971721,
           0.20350411919870603,
           0.19924438577748532,
           0.21568820264568794,
           0.2236803310534382,
           0.1963998946615767,
           0.2444519181181234,
           0.5065861447205281,
           0.46825522345140635,
           0.5414626352742589,
           0.4354399217553473,
           0.5012920940316701,
           0.42003573199465855,
           0.5021773246628878,
           0.5692898619319002,
           0.5213339219685172,
           0.663188356817802,
           0.590433640303259,
           0.49005488231362043,
           0.5434925049890761,
           0.6919396936260354,
           0.5923191934913397,
           0.4778517082767326,
           0.5031048630651543,
           0.48844567215213197,
           0.5548435753538927,
           0.535582762127893,
           0.5535211922432716,
           0,
           0.5558946732511059,
           0.5721600690590671,
           0.6548252134246284,
           0.4637257840689215,
           0.6522465999710502,
           0.7116520452120547,
           0.3125078703078378,
           0.603369079214521,
           0.23351612349967898,
           0.3655345193286209,
           0.27380231001192384,
           0.3162803996082596,
           0.22507868894310354,
           0.30249884830159346,
           0.4129696125712229,
           0.4627934824401979,
           0.25336501097048303,
           0.2016352842980782,
           0.3723158643837208,
           0.34261763089460995,
           0.3499077359737215,
           0.3986508475136413,
           0.35177610975183204,
           0.3206647310733967,
           0.31035000343132446,
           0.34200317243324485
          ],
          [
           0.03778067410559771,
           0.0866562609276473,
           0.12513596308926478,
           0.14214820898990216,
           0.1747072687407828,
           0.18379456945334177,
           0.1978433226984015,
           0.2166581408207251,
           0.21140792224793015,
           0.11765061936595186,
           0.2052928555619739,
           0.25321421157795154,
           0.23222999122499255,
           0.2175085405836551,
           0.31923569975695015,
           0.28079097062378156,
           0.14357344709541256,
           0.27865704166254185,
           0.26209217506608623,
           0.1393964238173051,
           0.1343702746547318,
           0.19057373142857326,
           0.27966290594001086,
           0.24281446238505375,
           0.5978509523158426,
           0.5234069004136335,
           0.5382982407860696,
           0.4555728688434011,
           0.4521336934802267,
           0.42136776368471895,
           0.43527715500376896,
           0.4713071469672059,
           0.4844877576035886,
           0.838265105746949,
           0.6555534861565471,
           0.50908880421538,
           0.6167134573527574,
           0.6604663099388854,
           0.621083840041418,
           0.5251995920595827,
           0.47581782535534556,
           0.5703824079586213,
           0.541674906160805,
           0.607988950274055,
           0.6038982972116863,
           0.5558946732511059,
           0,
           0.517722472946114,
           0.7349684194741646,
           0.5272022307975924,
           0.635777543146983,
           0.7526103162921414,
           0.4251409264380569,
           0.5541975665569414,
           0.4053610720981782,
           0.352293169076888,
           0.31994525483880376,
           0.3048108006511645,
           0.424839752271292,
           0.30677122817807645,
           0.3726959677665892,
           0.44365722861298756,
           0.2748429453044027,
           0.19229330946491102,
           0.30172735417229934,
           0.26106763813183387,
           0.37403586118447557,
           0.382784466798023,
           0.2460470632612338,
           0.2621834124607967,
           0.2559201999141984,
           0.35216689725163663
          ],
          [
           0.12549106588098247,
           0.12025268263238979,
           0.193426830340245,
           0.17600010142293418,
           0.16412907245423958,
           0.17915784598971096,
           0.19734188957363796,
           0.18440758306653826,
           0.19738230391080308,
           0.19922456435800648,
           0.22027783121443356,
           0.262165664166229,
           0.26874776542143136,
           0.2531883967214823,
           0.2864465653706385,
           0.39577817919462777,
           0.34193010849912725,
           0.2661022991114016,
           0.2597174203427382,
           0.2351671481409502,
           0.22898347764918514,
           0.2645355629986391,
           0.3711872950195884,
           0.31560662303148856,
           0.5739533142464466,
           0.49682124714444276,
           0.5277713091213214,
           0.46552965380242484,
           0.47052475646649705,
           0.5069745810567075,
           0.5825107422796711,
           0.535534666007513,
           0.3824190433021177,
           0.5998706416072457,
           0.6254243402900936,
           0.5056224125783122,
           0.5591452663485026,
           0.6180814054897726,
           0.6225829604068011,
           0.5511166227311517,
           0.5206142407470399,
           0.5026910038312848,
           0.46189664786119716,
           0.5262067185725947,
           0.5075417757946515,
           0.5721600690590671,
           0.517722472946114,
           0,
           0.54904859769773,
           0.4653758475329466,
           0.6757875739461929,
           0.7479993546668138,
           0.5329306590512638,
           0.3167612223014822,
           0.3708208638864976,
           0.37802827479673223,
           0.34727400691651544,
           0.37422436502844525,
           0.3931013366587174,
           0.32656050564058314,
           0.40718687130188025,
           0.4130681072434981,
           0.28983995809848584,
           0.2233255762063549,
           0.4294840959517435,
           0.629383862261614,
           0.41193994129225514,
           0.4275372090417473,
           0.30520168821742083,
           0.30590252202624124,
           0.29084510688242815,
           0.3377494586431957
          ],
          [
           0.0408390234557057,
           0.09348250706136252,
           0.14403844076905437,
           0.1688674130035035,
           0.16583078783306096,
           0.18655357737863337,
           0.252589559459697,
           0.22437454756071465,
           0.21734387499034719,
           0.12729146506678005,
           0.19975200468622928,
           0.2211538892183455,
           0.2736595036290945,
           0.21934753389702827,
           0.2654525284905623,
           0.2877026923626179,
           0.3054783134194695,
           0.24464129631727055,
           0.23741674072054292,
           0.1814782294277577,
           0.14694911864242818,
           0.2237735508246807,
           0.22022833909208844,
           0.26112925786945596,
           0.5941118891216725,
           0.5334316883954386,
           0.5432594702425566,
           0.46055619630396283,
           0.45780161813636544,
           0.4099873467215812,
           0.4232453308181532,
           0.48771193738024177,
           0.5014879639822537,
           0.8146525787684485,
           0.6639777302653529,
           0.48984181523273707,
           0.5783597017886329,
           0.6348411531359838,
           0.576129748884343,
           0.49507376180339213,
           0.4570098642463054,
           0.5553122068955241,
           0.5593497610874374,
           0.5697024155256147,
           0.5923668379850022,
           0.6548252134246284,
           0.7349684194741646,
           0.54904859769773,
           0,
           0.48095603393017106,
           0.629496867122928,
           0.7111857388646454,
           0.42160446072492574,
           0.5439156972549525,
           0.3014620823668834,
           0.3793174421844755,
           0.3038642111333776,
           0.3253411943404422,
           0.30754184751215086,
           0.3025035265709571,
           0.3722049617793519,
           0.4505124083440473,
           0.23255038059820687,
           0.19869482747392786,
           0.3184448970555012,
           0.26640633142096115,
           0.37340451930312046,
           0.41469625273716804,
           0.27244543573876717,
           0.27697085317966114,
           0.2536094726054836,
           0.33280861074466167
          ],
          [
           0.03784892853412325,
           0.0766136064986107,
           0.09787093138641453,
           0.15187012217982537,
           0.16219793925537895,
           0.1918463959516777,
           0.26714711527780516,
           0.19298011695360334,
           0.18303795638920886,
           0.12180968691679542,
           0.1803223542434353,
           0.29087296959835235,
           0.27990819024429675,
           0.3150710521886788,
           0.35533978418168854,
           0.2774635164181371,
           0.22503522752048072,
           0.3299836379536337,
           0.2349010875303188,
           0.3803961735143792,
           0.27879105235894897,
           0.2593480944905403,
           0.18970091052904905,
           0.21112627967110012,
           0.4924465106177537,
           0.5074628180495937,
           0.4454176633997538,
           0.47144363002550566,
           0.6584138289626218,
           0.42013700126188147,
           0.4613978807365555,
           0.4392604252523012,
           0.4275961218704011,
           0.6189549672620431,
           0.6264461519923018,
           0.612333574995843,
           0.6491451725851716,
           0.6303578118563318,
           0.6166429129535584,
           0.5790514630283128,
           0.6127638884107756,
           0.6264604288532314,
           0.585402903376816,
           0.5256079124505069,
           0.5867951205228316,
           0.4637257840689215,
           0.5272022307975924,
           0.4653758475329466,
           0.48095603393017106,
           0,
           0.6128394701989659,
           0.6603223047998804,
           0.31633658103208123,
           0.39580845715407603,
           0.5171652637764561,
           0.32393263188734556,
           0.36025929698509473,
           0.2688558593204433,
           0.26881871662563694,
           0.3413886864090138,
           0.4105876752823968,
           0.39510430395547,
           0.26456510438897113,
           0.2505199453345661,
           0.2453443990861498,
           0.23488690023729986,
           0.33327309399177507,
           0.34790769054722637,
           0.28404572972431885,
           0.3199014562261957,
           0.2650713760079231,
           0.33280564002083474
          ],
          [
           0.08941801724822858,
           0.1308253867852338,
           0.2331613050698919,
           0.2527504998173885,
           0.28112819910481074,
           0.3445871105559576,
           0.31619333574382147,
           0.31586024951325886,
           0.2124757215910013,
           0.23976198875396865,
           0.30913114511674983,
           0.2861926875491704,
           0.3439178720463467,
           0.328861920797793,
           0.3445832678592775,
           0.3417886841957464,
           0.23084292899251563,
           0.23234567397360872,
           0.23458067768044782,
           0.26078103959037263,
           0.29564086904872344,
           0.34593614443132625,
           0.2313124301367705,
           0.2838561923166449,
           0.5584232427792627,
           0.49887608443688425,
           0.5863100110997644,
           0.5997760958958513,
           0.6464515978804883,
           0.7211820725877809,
           0.593259585633453,
           0.6718390286556519,
           0.5747053142912798,
           0.7445833245138609,
           0.6329682412362785,
           0.6737486736172157,
           0.6773501573651604,
           0.7279445678444432,
           0.7807885738131832,
           0.7529319181098029,
           0.6612654762123307,
           0.6936826899849287,
           0.6143401530838296,
           0.6772349701375607,
           0.6121048352363736,
           0.6522465999710502,
           0.635777543146983,
           0.6757875739461929,
           0.629496867122928,
           0.6128394701989659,
           0,
           0.7613961126589368,
           0.4075349604101184,
           0.4336054580163543,
           0.3584951130860224,
           0.4060995359500682,
           0.3599173258849717,
           0.3407517650978617,
           0.32300114321530204,
           0.562135387046603,
           0.6839465814421247,
           0.6204587505848806,
           0.43060893250125265,
           0.3778978365368151,
           0.5366913707965703,
           0.38275270511178017,
           0.48204798192419196,
           0.6461957002432057,
           0.44312409718493034,
           0.5146953194710657,
           0.483556046370068,
           0.588858274741652
          ],
          [
           0.05420075338031291,
           0.15204208503877162,
           0.15387884395090456,
           0.19702264060809765,
           0.18586008550943423,
           0.2001496734297691,
           0.2385710358446131,
           0.23724565724049862,
           0.2960105148735892,
           0.1970421618257266,
           0.29135533636685756,
           0.3210645315803102,
           0.3249899219945238,
           0.3129995847733149,
           0.3487249853954341,
           0.3620792271449337,
           0.2628333596412419,
           0.33194109092396396,
           0.31454472905554726,
           0.2733750660797895,
           0.230560035248982,
           0.29170241397929464,
           0.3395637084731836,
           0.3070638638487602,
           0.663210961322525,
           0.6733236384700867,
           0.6277325650770351,
           0.5548381666238028,
           0.5897430363067964,
           0.5200288132418157,
           0.6269322484314582,
           0.6048720812573395,
           0.5643947431149043,
           0.7984187755639094,
           0.8500935389616626,
           0.6710942520524203,
           0.7255706033026799,
           0.7765993366098665,
           0.7897017722976427,
           0.6752714685202548,
           0.6050891457380959,
           0.6934496767571126,
           0.6334925495711395,
           0.7025264431509581,
           0.7283962515886055,
           0.7116520452120547,
           0.7526103162921414,
           0.7479993546668138,
           0.7111857388646454,
           0.6603223047998804,
           0.7613961126589368,
           0,
           0.5070241172005997,
           0.6623860014890303,
           0.5373134810054087,
           0.4604278060421394,
           0.4685943533451955,
           0.3900830192427268,
           0.4310434872639902,
           0.36595232271875366,
           0.46586926736864354,
           0.5129089402922266,
           0.29991351791807513,
           0.2546276335194069,
           0.38323450336929255,
           0.4129733183601752,
           0.45928696142348735,
           0.42952935105140555,
           0.36288680738505197,
           0.33446927324293496,
           0.31779102663127434,
           0.3973114735603829
          ],
          [
           0.031662373279644156,
           0.06076378350667099,
           0.07904174312582068,
           0.10609821964914838,
           0.10563187147478441,
           0.11061420196059504,
           0.11639596476982128,
           0.12243033597487926,
           0.12086692556113263,
           0.08290155066622423,
           0.11938013292516295,
           0.14584068162062502,
           0.18179211923323058,
           0.1748315440883879,
           0.16211370553261023,
           0.19069459287941937,
           0.39913053496046813,
           0.3185993120943421,
           0.14555535757084354,
           0.206999327184552,
           0.1469375751873744,
           0.18420918071607523,
           0.5401488022387948,
           0.17795543922042828,
           0.34330492872294216,
           0.48316289798393597,
           0.4130848092801882,
           0.317791576550698,
           0.3121406072340993,
           0.27117221721669393,
           0.26269532504733956,
           0.28767204367265486,
           0.23525016733560533,
           0.3851076533288013,
           0.579579656652605,
           0.3223692658916727,
           0.3624128327889217,
           0.3434783108167758,
           0.3781362644434924,
           0.3482344467101467,
           0.3107272866986359,
           0.39648456360735707,
           0.284684652040469,
           0.37103011455131596,
           0.5016375228648178,
           0.3125078703078378,
           0.4251409264380569,
           0.5329306590512638,
           0.42160446072492574,
           0.31633658103208123,
           0.4075349604101184,
           0.5070241172005997,
           0,
           0.21964369534124858,
           0.2403233481942838,
           0.2927207118632963,
           0.49120492237395985,
           0.20926291370509237,
           0.7537376299194458,
           0.22235936597321754,
           0.22739862750719259,
           0.27825123065525453,
           0.17686100999665105,
           0.1573865615151908,
           0.19292853869188814,
           0.229686592869483,
           0.25328567420726944,
           0.2489365043960015,
           0.17721781427870803,
           0.18866336066764455,
           0.1856198620767205,
           0.20430392859786264
          ],
          [
           0.02147063587128413,
           0.1653438341036596,
           0.06862187468580287,
           0.10219519752435832,
           0.0914759046884674,
           0.09904234717199792,
           0.12364158756834369,
           0.17954968376697839,
           0.3568568080117591,
           0.0904448629114227,
           0.17193650794386306,
           0.14907428596878197,
           0.19508553569438097,
           0.1618858214323846,
           0.10477399809436308,
           0.13976284106944853,
           0.08733033459749387,
           0.12463407701867375,
           0.2047238760045118,
           0.10748958483320545,
           0.06945526871662992,
           0.1093476348314596,
           0.18085897885684316,
           0.19303359472248888,
           0.4079642643159319,
           0.5118600450106234,
           0.4183759447053961,
           0.32850878480797047,
           0.31224952529130257,
           0.26972828683470135,
           0.32421750127086657,
           0.36551038991239976,
           0.5861514826117951,
           0.5252795228629059,
           0.6441329101187598,
           0.4193431117435697,
           0.42626451564279244,
           0.4753577646840897,
           0.5574730662909633,
           0.3611135580367239,
           0.27677680326162574,
           0.3824923966282472,
           0.46531355463346113,
           0.44638334830454485,
           0.5586665359603247,
           0.603369079214521,
           0.5541975665569414,
           0.3167612223014822,
           0.5439156972549525,
           0.39580845715407603,
           0.4336054580163543,
           0.6623860014890303,
           0.21964369534124858,
           0,
           0.17140510045199958,
           0.3534974001187403,
           0.27094822608025604,
           0.2838901445186891,
           0.1804477109212253,
           0.15579801144774474,
           0.23635759666188938,
           0.3523980971242058,
           0.1084443074807411,
           0.11041075689075106,
           0.16736978438837696,
           0.16802582612731548,
           0.2913308270630902,
           0.2261451932781947,
           0.185913101934337,
           0.14753057499284483,
           0.13921297494273538,
           0.1871464853812401
          ],
          [
           0.025833090726723636,
           0.048562647277181244,
           0.06588903266400262,
           0.1191569366805206,
           0.09363952244846002,
           0.1044738230087017,
           0.14196526509295582,
           0.10182682454668229,
           0.06343486472525138,
           0.07193034306003854,
           0.13706512303916324,
           0.26466549824491487,
           0.14363612561001265,
           0.19091424982141342,
           0.28986321638316576,
           0.25074895016535553,
           0.10299713472793781,
           0.46020323124476137,
           0.2525431069662343,
           0.13629677571828952,
           0.09982244999757314,
           0.2019067767812226,
           0.10377036339467824,
           0.1837778170815804,
           0.44151553851230974,
           0.3335919376439195,
           0.34034169744328424,
           0.32755050956986753,
           0.2900742517147574,
           0.26469160142419634,
           0.29792960330047386,
           0.2791548342641667,
           0.20841827245500988,
           0.42695340249030544,
           0.43441880506214714,
           0.4058070670502055,
           0.47191850357247045,
           0.3970014328626677,
           0.41597452430140014,
           0.4649156973859222,
           0.35588057789683386,
           0.39771995442860036,
           0.2944166677476733,
           0.39865364003081716,
           0.3191150617260967,
           0.23351612349967898,
           0.4053610720981782,
           0.3708208638864976,
           0.3014620823668834,
           0.5171652637764561,
           0.3584951130860224,
           0.5373134810054087,
           0.2403233481942838,
           0.17140510045199958,
           0,
           0.2022576457028288,
           0.27165398601661384,
           0.22290855303821283,
           0.15669752082417018,
           0.19796691214506873,
           0.21505048671892318,
           0.28683334937906346,
           0.13546149286970227,
           0.12277608924136209,
           0.15099457527184973,
           0.19730676158471377,
           0.22151025044621464,
           0.20417807302816726,
           0.15355044486303765,
           0.1693196867997287,
           0.1478393891192295,
           0.1938042396712902
          ],
          [
           0.033514498021353215,
           0.06973839577243897,
           0.07237458955570765,
           0.1709953135109546,
           0.09523007184453505,
           0.11003563333288335,
           0.13305876363715505,
           0.12753074428332487,
           0.15959222577034998,
           0.07839196923936764,
           0.13089342372779117,
           0.1645547341134302,
           0.2456848326934434,
           0.24317747666915018,
           0.1530089113215588,
           0.16649853085831912,
           0.20951109691347627,
           0.1348486938756591,
           0.19835192790325204,
           0.1514017821113089,
           0.10957508702037033,
           0.1538835319710644,
           0.18854055823416205,
           0.21213869556523623,
           0.35180750137182065,
           0.3316090702365823,
           0.6120240960316868,
           0.2781480522004317,
           0.30899594238770706,
           0.284035299829668,
           0.266022598123652,
           0.2910599326165797,
           0.3115709967829613,
           0.37344680046456713,
           0.48634822975028774,
           0.38081421879481925,
           0.3553251191919322,
           0.3629558313904173,
           0.4489011034314407,
           0.37764787997868565,
           0.2902155416192146,
           0.3495276366496761,
           0.3488488765569452,
           0.36647209773306255,
           0.3578119732019723,
           0.3655345193286209,
           0.352293169076888,
           0.37802827479673223,
           0.3793174421844755,
           0.32393263188734556,
           0.4060995359500682,
           0.4604278060421394,
           0.2927207118632963,
           0.3534974001187403,
           0.2022576457028288,
           0,
           0.25498499811346764,
           0.26800752480269363,
           0.21516594084564256,
           0.19163332828469196,
           0.26100128654647115,
           0.2705893977595184,
           0.1399245682724427,
           0.13603339453240598,
           0.17930247989038833,
           0.19948843587323423,
           0.23137829783015468,
           0.22863545908243396,
           0.18202775138095262,
           0.18838268787614004,
           0.16452892034085226,
           0.20129124703225032
          ],
          [
           0.019049398313153845,
           0.0457019411033952,
           0.05355346824935053,
           0.08313225612184147,
           0.08004897391548287,
           0.08534030131062308,
           0.12144273250840723,
           0.12025313978859734,
           0.11739536624332997,
           0.05792938228911709,
           0.09552267519483112,
           0.14629767071355942,
           0.21218950025802974,
           0.13256479078992411,
           0.14303099171588998,
           0.12891630379458807,
           0.18198090415777265,
           0.19970460620256564,
           0.1533475154736188,
           0.17542016275451644,
           0.1330360713682363,
           0.16550248309628424,
           0.16864920127653166,
           0.15127413911568388,
           0.27923459849824733,
           0.575676423528878,
           0.40011751026376885,
           0.29829561179807773,
           0.3356769943498034,
           0.222391427833653,
           0.25589877259226335,
           0.2544355374225652,
           0.2344376609135544,
           0.3719223096524831,
           0.5132539347992181,
           0.31379696301964144,
           0.3404343857115273,
           0.36269888623721713,
           0.37967890727950737,
           0.374148404083769,
           0.32197599685836753,
           0.4383559005225143,
           0.3086792442937485,
           0.3847560487811771,
           0.45969350756536165,
           0.27380231001192384,
           0.31994525483880376,
           0.34727400691651544,
           0.3038642111333776,
           0.36025929698509473,
           0.3599173258849717,
           0.4685943533451955,
           0.49120492237395985,
           0.27094822608025604,
           0.27165398601661384,
           0.25498499811346764,
           0,
           0.20434561619260722,
           0.4479423916370986,
           0.22874278642790613,
           0.21278431957697763,
           0.28171642995957824,
           0.20497688169927067,
           0.16371703408031535,
           0.13355889726409748,
           0.1438050293629632,
           0.2634389816392713,
           0.18528608325138846,
           0.14774762943451364,
           0.15997829622840276,
           0.1470319088910872,
           0.19980035935682255
          ],
          [
           0.024739621914637126,
           0.05423603133694012,
           0.06687949384625057,
           0.10535735481271262,
           0.07438170942386454,
           0.09207122097662132,
           0.10019877503248079,
           0.10297799256290316,
           0.09692065796834522,
           0.0737282644260254,
           0.11398539070076572,
           0.16235553090315563,
           0.21895531991637265,
           0.1539381261051746,
           0.13812843243821205,
           0.36004491476430783,
           0.08011694848813922,
           0.11571661153391723,
           0.32417256657260635,
           0.11467669960592008,
           0.11393695392930023,
           0.12786561372990807,
           0.15307113997281366,
           0.967653887342566,
           0.46829995695417376,
           0.23308575230704184,
           0.30258818853160163,
           0.24264878007471136,
           0.25229915290407323,
           0.25188863170100106,
           0.25028917610327744,
           0.25671680619307036,
           0.26253817001742685,
           0.319332328615557,
           0.3310827525190013,
           0.33568736445891273,
           0.34053971006103634,
           0.29711252203083993,
           0.38870768071557055,
           0.32351807942070787,
           0.2701648601187441,
           0.2793998990696682,
           0.30485328082311697,
           0.30624169150800895,
           0.33515182054981685,
           0.3162803996082596,
           0.3048108006511645,
           0.37422436502844525,
           0.3253411943404422,
           0.2688558593204433,
           0.3407517650978617,
           0.3900830192427268,
           0.20926291370509237,
           0.2838901445186891,
           0.22290855303821283,
           0.26800752480269363,
           0.20434561619260722,
           0,
           0.1485130418440785,
           0.15915868474516418,
           0.2331298167340967,
           0.22744131249558813,
           0.12643208165153585,
           0.10930683493430682,
           0.15868906365659027,
           0.23680788019488797,
           0.2730291258731613,
           0.1947611139582382,
           0.165681378322234,
           0.1500621074149548,
           0.14007958009018417,
           0.171147086604781
          ],
          [
           0.02438695603238683,
           0.05276511170163843,
           0.059915726008921893,
           0.08483441254380797,
           0.08376528956449436,
           0.08950478064323791,
           0.08563284340130978,
           0.10032117915656975,
           0.0791793722201911,
           0.0679161735000254,
           0.09375370603758448,
           0.10837361855063796,
           0.14487106697026947,
           0.13933917900796577,
           0.16342273266609625,
           0.1332013854708943,
           0.12345208517274785,
           0.14793141757761408,
           0.10333354808477144,
           0.19381387401840078,
           0.11951893156461095,
           0.1683674423096965,
           0.7909225915742215,
           0.12990810359495666,
           0.27991530649301055,
           0.36620392306417576,
           0.2639922191332908,
           0.2558079866222116,
           0.252203218101096,
           0.2096537091271301,
           0.21253963908201212,
           0.22872417166979636,
           0.19230393883492525,
           0.3247891666966614,
           0.4046540663001934,
           0.2547169508924244,
           0.2929684447636083,
           0.2978647492938511,
           0.30043241031626544,
           0.2772400395338357,
           0.254498086273691,
           0.3459213034908205,
           0.2344689069336952,
           0.26657593235456195,
           0.4632727905732592,
           0.22507868894310354,
           0.424839752271292,
           0.3931013366587174,
           0.30754184751215086,
           0.26881871662563694,
           0.32300114321530204,
           0.4310434872639902,
           0.7537376299194458,
           0.1804477109212253,
           0.15669752082417018,
           0.21516594084564256,
           0.4479423916370986,
           0.1485130418440785,
           0,
           0.18950686005561537,
           0.18685130403044894,
           0.22714574494980147,
           0.13618115189005817,
           0.1296847370048836,
           0.15085876224577396,
           0.21218721919158673,
           0.2079532790004615,
           0.1896441072206631,
           0.1435385320033757,
           0.15882290732963766,
           0.13559504909707737,
           0.1615155028799176
          ],
          [
           0.05049684620379449,
           0.06218703360231171,
           0.10052217770021121,
           0.18681709753906856,
           0.2264201590697324,
           0.33060675333299233,
           0.28558851944040775,
           0.428866472435092,
           0.0936735516036204,
           0.14216134451407111,
           0.15810117975100652,
           0.14185880765094122,
           0.24843674337649796,
           0.1734882939604397,
           0.24309196138503686,
           0.18874398332431583,
           0.1335186862925623,
           0.10297109877431967,
           0.09913554517114925,
           0.15489283144500568,
           0.15732551918457865,
           0.24187886038911038,
           0.10888857862563919,
           0.13390867668851625,
           0.2654794304385828,
           0.24613607477881932,
           0.26901482933824183,
           0.41365366336120224,
           0.3765651422316642,
           0.4161235543273027,
           0.3010008682312083,
           0.380071145847387,
           0.45185339813424213,
           0.40176112142171594,
           0.3030536737020255,
           0.3847218455579564,
           0.37810818588529244,
           0.4433935666236686,
           0.3646184986319231,
           0.4952713755218978,
           0.4200087427577735,
           0.42334070087614506,
           0.3440485244940373,
           0.3796032743112821,
           0.2969377296334123,
           0.30249884830159346,
           0.30677122817807645,
           0.32656050564058314,
           0.3025035265709571,
           0.3413886864090138,
           0.562135387046603,
           0.36595232271875366,
           0.22235936597321754,
           0.15579801144774474,
           0.19796691214506873,
           0.19163332828469196,
           0.22874278642790613,
           0.15915868474516418,
           0.18950686005561537,
           0,
           0.5810654590302453,
           0.522464791461718,
           0.44783834598511874,
           0.506495213585225,
           0.2967169691922571,
           0.19070929100711909,
           0.317256745684556,
           0.44273591052293665,
           0.30543766348962387,
           0.6832371580666655,
           0.5256211062327694,
           0.42954902229775227
          ],
          [
           0.05127008439255784,
           0.07880300807966154,
           0.1210958699026227,
           0.20681308783391994,
           0.22144096711358552,
           0.4362107718925081,
           0.18257833790818212,
           0.26882791687682395,
           0.12198955511911952,
           0.18645381069476824,
           0.18343324325410326,
           0.17240736178698735,
           0.29087135363184213,
           0.23058534910286768,
           0.2548590366014636,
           0.33008248847679433,
           0.13808170336611286,
           0.1114772717947532,
           0.11657735341601605,
           0.17503917169750732,
           0.17247938563246232,
           0.2441821482710173,
           0.12622759077997572,
           0.1943086121243512,
           0.3441176725712333,
           0.27757484721762765,
           0.3337154089394556,
           0.39711680839702596,
           0.47983775415489205,
           0.5088493927813996,
           0.3955611601223099,
           0.45226631098596326,
           0.3978519366825463,
           0.47649407109251607,
           0.3857124558634284,
           0.5716678733296175,
           0.4878070425035169,
           0.5533822938595734,
           0.45239874890942766,
           0.5485918267381074,
           0.4887131227886663,
           0.45584033781618316,
           0.4567898212006724,
           0.47137092212506304,
           0.46896102336962553,
           0.4129696125712229,
           0.3726959677665892,
           0.40718687130188025,
           0.3722049617793519,
           0.4105876752823968,
           0.6839465814421247,
           0.46586926736864354,
           0.22739862750719259,
           0.23635759666188938,
           0.21505048671892318,
           0.26100128654647115,
           0.21278431957697763,
           0.2331298167340967,
           0.18685130403044894,
           0.5810654590302453,
           0,
           0.5109065662040703,
           0.3863190791211073,
           0.46859265350299956,
           0.3305748525727297,
           0.25286882158773066,
           0.33375632632677243,
           0.4734036263561643,
           0.4501390629368895,
           0.5056085177597817,
           0.42832346697168844,
           0.6191635847197288
          ],
          [
           0.05251187864376136,
           0.0835246626221747,
           0.11588801975913414,
           0.29176845960214925,
           0.27238404770632674,
           0.34975698294619906,
           0.30933425774541673,
           0.36419792725922817,
           0.1575083947397146,
           0.14375646116279972,
           0.2231464234944031,
           0.16331508912355208,
           0.22794169079784685,
           0.1851576218199929,
           0.23099515963350103,
           0.2616713631586661,
           0.1474815948389355,
           0.1447195966824798,
           0.1373321821017131,
           0.23724143686548693,
           0.19822841880668546,
           0.4669023691079053,
           0.15320494808298157,
           0.18514247317292315,
           0.3599973919102337,
           0.40758058075911263,
           0.37449840752551916,
           0.6541064835193059,
           0.3836349497196261,
           0.43157117981388915,
           0.34418667685508614,
           0.4545097757860702,
           0.4285759708034943,
           0.5122457139543443,
           0.45324578922106107,
           0.403032846466417,
           0.4159227902280933,
           0.5217413572989069,
           0.43540358505285603,
           0.49894332659999097,
           0.41299525941702486,
           0.4332974224034119,
           0.4313905685901504,
           0.4283638946165804,
           0.4003305233670817,
           0.4627934824401979,
           0.44365722861298756,
           0.4130681072434981,
           0.4505124083440473,
           0.39510430395547,
           0.6204587505848806,
           0.5129089402922266,
           0.27825123065525453,
           0.3523980971242058,
           0.28683334937906346,
           0.2705893977595184,
           0.28171642995957824,
           0.22744131249558813,
           0.22714574494980147,
           0.522464791461718,
           0.5109065662040703,
           0,
           0.30596215455767606,
           0.33717890281323853,
           0.3218869823744419,
           0.2379904621572659,
           0.5020480016945454,
           0.5529996184624363,
           0.2678815437044968,
           0.4254816205621809,
           0.39598120952904636,
           0.43969691748057804
          ],
          [
           0.0314893500353208,
           0.04738961509288575,
           0.09764460678910489,
           0.10588990079928945,
           0.11916153260093876,
           0.1902682365348471,
           0.2455183964151084,
           0.18274065442441034,
           0.06847045652455175,
           0.2559463439465923,
           0.11175894750837506,
           0.09892628197631192,
           0.15917131613961458,
           0.11839262179474744,
           0.22637005515908773,
           0.14912393071968166,
           0.10884472836681473,
           0.06505975544388966,
           0.06859999630657818,
           0.10851800487203092,
           0.11407167465074118,
           0.13648435365439712,
           0.0824045189977506,
           0.10188182460479864,
           0.1976369868316682,
           0.20772853218583792,
           0.24476655502020397,
           0.2634967532641046,
           0.312552119652319,
           0.30868517692543507,
           0.256271576569568,
           0.29361891072683405,
           0.28793815963084274,
           0.34751714652560434,
           0.23049562423013825,
           0.2642237770095205,
           0.28285074431270174,
           0.37193492479142454,
           0.2593693197094247,
           0.3254097625544398,
           0.35269968757760584,
           0.32359060216637286,
           0.24987336386785142,
           0.34294349049046746,
           0.21348859655238978,
           0.25336501097048303,
           0.2748429453044027,
           0.28983995809848584,
           0.23255038059820687,
           0.26456510438897113,
           0.43060893250125265,
           0.29991351791807513,
           0.17686100999665105,
           0.1084443074807411,
           0.13546149286970227,
           0.1399245682724427,
           0.20497688169927067,
           0.12643208165153585,
           0.13618115189005817,
           0.44783834598511874,
           0.3863190791211073,
           0.30596215455767606,
           0,
           0.3404938681463211,
           0.25011820030191884,
           0.21010985385324993,
           0.19313302754552442,
           0.30313836093867175,
           0.238220254391746,
           0.33295984444646054,
           0.530490320690121,
           0.3822088185898314
          ],
          [
           0.02732865616047511,
           0.03820090038641012,
           0.06451463698193552,
           0.09794145656598759,
           0.19780323552962173,
           0.15215098346674333,
           0.09516002261565912,
           0.16160431211329435,
           0.06268403642900884,
           0.0817756652676319,
           0.1143762220832166,
           0.09244533893743351,
           0.1370359043280491,
           0.11949800805652167,
           0.1688828274028286,
           0.12188209556849032,
           0.11032557003272586,
           0.058898416498391615,
           0.05805113730529009,
           0.15966281532764787,
           0.16103581400515915,
           0.14165976427629584,
           0.06842242737447701,
           0.08877697545176964,
           0.163407068203444,
           0.20399722530363998,
           0.199225472465473,
           0.25919253838389,
           0.27583088328448224,
           0.2513366575153661,
           0.20430782873881886,
           0.2510601915441649,
           0.21136890562453903,
           0.2835017611044529,
           0.22488351783558222,
           0.26831250671824053,
           0.25696911143254764,
           0.32489862834586836,
           0.24202589506632866,
           0.33149129678245104,
           0.33487666709462327,
           0.2888251909536317,
           0.23681602578600847,
           0.24000874872161024,
           0.19222400148889152,
           0.2016352842980782,
           0.19229330946491102,
           0.2233255762063549,
           0.19869482747392786,
           0.2505199453345661,
           0.3778978365368151,
           0.2546276335194069,
           0.1573865615151908,
           0.11041075689075106,
           0.12277608924136209,
           0.13603339453240598,
           0.16371703408031535,
           0.10930683493430682,
           0.1296847370048836,
           0.506495213585225,
           0.46859265350299956,
           0.33717890281323853,
           0.3404938681463211,
           0,
           0.179983736325317,
           0.11775967905752352,
           0.1757241227538221,
           0.25648119082158655,
           0.1985589472801475,
           0.36751450695870447,
           0.3727812835566757,
           0.27113963701417054
          ],
          [
           0.055779881893567806,
           0.23527913067489564,
           0.3678374635739639,
           0.1194611246124184,
           0.1386575955827556,
           0.17855366696303065,
           0.14298171095055578,
           0.19683086035982875,
           0.13487638681713598,
           0.220539102412525,
           0.12321548492577764,
           0.12581307148007104,
           0.16722082992064594,
           0.15566073068364802,
           0.16582090569137709,
           0.19472254182635262,
           0.10541877957209354,
           0.1151034661697167,
           0.1021164637553561,
           0.11997250508020713,
           0.12125933560501476,
           0.18944835128765786,
           0.10280171745917646,
           0.13349355482512434,
           0.2801357281634944,
           0.20089129641586712,
           0.28700180395171304,
           0.2957367792796428,
           0.3339212167300126,
           0.4912132613020715,
           0.46700224659988177,
           0.4577586040131757,
           0.2880371327140182,
           0.3769474652174195,
           0.2705026475391039,
           0.3032972864477378,
           0.3135689801815797,
           0.3998623866707648,
           0.31482904648817545,
           0.34540327188806197,
           0.46858088851737506,
           0.31394118128704285,
           0.28424925333444095,
           0.31400835074382194,
           0.25532971382849423,
           0.3723158643837208,
           0.30172735417229934,
           0.4294840959517435,
           0.3184448970555012,
           0.2453443990861498,
           0.5366913707965703,
           0.38323450336929255,
           0.19292853869188814,
           0.16736978438837696,
           0.15099457527184973,
           0.17930247989038833,
           0.13355889726409748,
           0.15868906365659027,
           0.15085876224577396,
           0.2967169691922571,
           0.3305748525727297,
           0.3218869823744419,
           0.25011820030191884,
           0.179983736325317,
           0,
           0.30305876153278444,
           0.22461176772665728,
           0.46683791119243295,
           0.2614424826624745,
           0.2982039020431141,
           0.3427285273603134,
           0.30604819133462574
          ],
          [
           0.19108178241873042,
           0.0841605304905958,
           0.14046997458065694,
           0.11626102865150667,
           0.08955722058528273,
           0.10572746537150621,
           0.12718163024742732,
           0.10359719424494371,
           0.1077795456134939,
           0.19077580635083807,
           0.1335469276108197,
           0.15092503466323082,
           0.1529699799068227,
           0.1543499666375901,
           0.14961856728327982,
           0.30055586799982914,
           0.11068350139331198,
           0.11428252268684458,
           0.16344559389423002,
           0.1158391371345519,
           0.1279297819892985,
           0.15884657540540165,
           0.20664058184007186,
           0.19778557995911358,
           0.363000827114207,
           0.2045011070632259,
           0.2590677887544278,
           0.2499441820880149,
           0.2702015895508735,
           0.3298890357939058,
           0.4034511868522026,
           0.3349712680050774,
           0.220313079327012,
           0.29668687235296504,
           0.28871222070652225,
           0.28635033264711207,
           0.29954532593057726,
           0.3625538606358548,
           0.33015618722374523,
           0.2950269426119902,
           0.3218768010960154,
           0.25899510555104055,
           0.24638879497766294,
           0.2790142555430176,
           0.251662077465851,
           0.34261763089460995,
           0.26106763813183387,
           0.629383862261614,
           0.26640633142096115,
           0.23488690023729986,
           0.38275270511178017,
           0.4129733183601752,
           0.229686592869483,
           0.16802582612731548,
           0.19730676158471377,
           0.19948843587323423,
           0.1438050293629632,
           0.23680788019488797,
           0.21218721919158673,
           0.19070929100711909,
           0.25286882158773066,
           0.2379904621572659,
           0.21010985385324993,
           0.11775967905752352,
           0.30305876153278444,
           0,
           0.24441797207175953,
           0.2388964772639576,
           0.19831243268485793,
           0.18665456121033291,
           0.1892525681055941,
           0.19573572878429457
          ],
          [
           0.037033227987463176,
           0.06915771279797203,
           0.0933247844177578,
           0.2017261429805664,
           0.14959600008603452,
           0.16224612126617782,
           0.21135146709611602,
           0.1740011081662261,
           0.16693272369468562,
           0.1270443461664068,
           0.13159124349244378,
           0.1622557954139168,
           0.1793034091495106,
           0.16500615464145652,
           0.2122136990210079,
           0.3224045837967335,
           0.12209678141900669,
           0.15716072726268276,
           0.11945175356845353,
           0.2106203927474397,
           0.16149103050093153,
           0.49240527340722173,
           0.1294749120657499,
           0.20827619972635442,
           0.34586277250230235,
           0.3595968651917617,
           0.3133809448894387,
           0.6416082851292473,
           0.3273332481825314,
           0.3555824029028537,
           0.2933880518460339,
           0.3550804644142776,
           0.3992482644856773,
           0.42300647369042943,
           0.4090159029443937,
           0.3425379020019581,
           0.39301454892157994,
           0.44026276134548137,
           0.4242463037149665,
           0.37102139046757143,
           0.33419204978620226,
           0.34292375289196847,
           0.3818051235277469,
           0.31741111049165227,
           0.3456992934865495,
           0.3499077359737215,
           0.37403586118447557,
           0.41193994129225514,
           0.37340451930312046,
           0.33327309399177507,
           0.48204798192419196,
           0.45928696142348735,
           0.25328567420726944,
           0.2913308270630902,
           0.22151025044621464,
           0.23137829783015468,
           0.2634389816392713,
           0.2730291258731613,
           0.2079532790004615,
           0.317256745684556,
           0.33375632632677243,
           0.5020480016945454,
           0.19313302754552442,
           0.1757241227538221,
           0.22461176772665728,
           0.24441797207175953,
           0,
           0.34929812081505546,
           0.21775772711199157,
           0.30459559876135417,
           0.23470769463561536,
           0.2565215390411829
          ],
          [
           0.06562020845142487,
           0.07931608143154126,
           0.17177166439351174,
           0.1928933759542572,
           0.2855561174046263,
           0.2878821560436158,
           0.295707347619268,
           0.278331298649917,
           0.10912814029066634,
           0.15807720528446673,
           0.16371341764925101,
           0.15756576580446136,
           0.21834536305820243,
           0.18554799414631784,
           0.23342202018896716,
           0.2194322388694247,
           0.15417236688032115,
           0.1332336175905665,
           0.12464840475880552,
           0.18389485145281603,
           0.17336773932258714,
           0.29777786177175136,
           0.13564783344192133,
           0.16524941550715289,
           0.3378232544305418,
           0.2834171858571663,
           0.34161238111255365,
           0.46647499025915573,
           0.3845937523615781,
           0.4952992132115781,
           0.3416676237593289,
           0.4806743724146257,
           0.39248417073271924,
           0.4593052664049454,
           0.3576886391251836,
           0.37975446592988144,
           0.3841389852175632,
           0.4584737680873844,
           0.3935087601224163,
           0.45380723084094565,
           0.4119347908466614,
           0.39083128589666205,
           0.38062702538629434,
           0.39661193742815454,
           0.3242833403833991,
           0.3986508475136413,
           0.382784466798023,
           0.4275372090417473,
           0.41469625273716804,
           0.34790769054722637,
           0.6461957002432057,
           0.42952935105140555,
           0.2489365043960015,
           0.2261451932781947,
           0.20417807302816726,
           0.22863545908243396,
           0.18528608325138846,
           0.1947611139582382,
           0.1896441072206631,
           0.44273591052293665,
           0.4734036263561643,
           0.5529996184624363,
           0.30313836093867175,
           0.25648119082158655,
           0.46683791119243295,
           0.2388964772639576,
           0.34929812081505546,
           0,
           0.27189918799281393,
           0.3960350687207138,
           0.43759286411988585,
           0.4171383533741907
          ],
          [
           0.034762654777445896,
           0.07291636147326039,
           0.09343987061815981,
           0.12400246838251447,
           0.1257288663655301,
           0.15060630287559945,
           0.11713317327761189,
           0.14667456603744228,
           0.18588778440864584,
           0.4149922709186146,
           0.32280288799749696,
           0.15774421357003005,
           0.5269178756029191,
           0.2401687132804498,
           0.1569530192101508,
           0.1739229170328614,
           0.10127561140628108,
           0.08156518615773178,
           0.09128334100852833,
           0.24445999914105215,
           0.1213739385004377,
           0.17607209745890773,
           0.10348019529967295,
           0.1365195149827123,
           0.2587585682544183,
           0.19687054375152468,
           0.25132836636672135,
           0.28685208660695394,
           0.4709030640556513,
           0.30926793719772944,
           0.3321145879955699,
           0.3393468121218767,
           0.2657957897131572,
           0.339971287771373,
           0.29538901642618365,
           0.5807483043067627,
           0.4512571180639347,
           0.41973267469027936,
           0.3518092905732756,
           0.36987080725145816,
           0.4444656766758187,
           0.326206196794005,
           0.3486895930957812,
           0.3495460808353732,
           0.40122571053857203,
           0.35177610975183204,
           0.2460470632612338,
           0.30520168821742083,
           0.27244543573876717,
           0.28404572972431885,
           0.44312409718493034,
           0.36288680738505197,
           0.17721781427870803,
           0.185913101934337,
           0.15355044486303765,
           0.18202775138095262,
           0.14774762943451364,
           0.165681378322234,
           0.1435385320033757,
           0.30543766348962387,
           0.4501390629368895,
           0.2678815437044968,
           0.238220254391746,
           0.1985589472801475,
           0.2614424826624745,
           0.19831243268485793,
           0.21775772711199157,
           0.27189918799281393,
           0,
           0.3287355305733471,
           0.2887486636709457,
           0.2744592829274125
          ],
          [
           0.04271861552190633,
           0.060435752599585446,
           0.09579777877809098,
           0.1620794677224855,
           0.20396196200687589,
           0.28303135643580596,
           0.3234750092517163,
           0.29112373727931623,
           0.12430480412032835,
           0.20448413809743332,
           0.1578660626657632,
           0.14094218599451033,
           0.23350127372620982,
           0.1881964156394127,
           0.19658754911831358,
           0.16794160424313076,
           0.1147330085737997,
           0.08982071926338703,
           0.0931837607541818,
           0.14550490942915512,
           0.14192186575442098,
           0.2090747606453403,
           0.09533069841378475,
           0.13030416182832869,
           0.25223082532509616,
           0.20848258228668212,
           0.24337643473495846,
           0.3734693585762046,
           0.3874000353476158,
           0.37047264628318866,
           0.2950768882827838,
           0.3531836357331206,
           0.4136076912611344,
           0.34604576651693786,
           0.2729957720168725,
           0.39597850536884904,
           0.36844075182856173,
           0.4079905734130936,
           0.33277668784071507,
           0.4352894654059827,
           0.41923297946079074,
           0.33012007150511313,
           0.3390795767767383,
           0.3154796745584531,
           0.2546678604343039,
           0.3206647310733967,
           0.2621834124607967,
           0.30590252202624124,
           0.27697085317966114,
           0.3199014562261957,
           0.5146953194710657,
           0.33446927324293496,
           0.18866336066764455,
           0.14753057499284483,
           0.1693196867997287,
           0.18838268787614004,
           0.15997829622840276,
           0.1500621074149548,
           0.15882290732963766,
           0.6832371580666655,
           0.5056085177597817,
           0.4254816205621809,
           0.33295984444646054,
           0.36751450695870447,
           0.2982039020431141,
           0.18665456121033291,
           0.30459559876135417,
           0.3960350687207138,
           0.3287355305733471,
           0,
           0.45699623226700026,
           0.3983324079452151
          ],
          [
           0.052436225339588714,
           0.05879607608309974,
           0.09788872154943551,
           0.1337330794960489,
           0.2195266518643854,
           0.2389938332391787,
           0.15496261132643696,
           0.26661974989078174,
           0.13496766965263404,
           0.22770000750248895,
           0.12464632030740785,
           0.12041582590841916,
           0.18709477987464715,
           0.15797288991278297,
           0.18290177714910894,
           0.16810575741392053,
           0.1371501538917838,
           0.0777584655644821,
           0.08397176246660495,
           0.12074078662929277,
           0.12915424303540135,
           0.17984881454806317,
           0.08618615393246434,
           0.11520585564361974,
           0.23690634938087562,
           0.18903861821011403,
           0.23442509476025847,
           0.3240247362938728,
           0.3692629365452352,
           0.3596028805790234,
           0.2794983404602611,
           0.34556424941843755,
           0.3480331157715344,
           0.3224770137417775,
           0.2531716844099814,
           0.3262135095996908,
           0.30536317103044486,
           0.37326991392791875,
           0.2909914145058755,
           0.4072759302194603,
           0.37806522311805185,
           0.2995591977193087,
           0.2964237834078157,
           0.30194895765581464,
           0.23351100677530381,
           0.31035000343132446,
           0.2559201999141984,
           0.29084510688242815,
           0.2536094726054836,
           0.2650713760079231,
           0.483556046370068,
           0.31779102663127434,
           0.1856198620767205,
           0.13921297494273538,
           0.1478393891192295,
           0.16452892034085226,
           0.1470319088910872,
           0.14007958009018417,
           0.13559504909707737,
           0.5256211062327694,
           0.42832346697168844,
           0.39598120952904636,
           0.530490320690121,
           0.3727812835566757,
           0.3427285273603134,
           0.1892525681055941,
           0.23470769463561536,
           0.43759286411988585,
           0.2887486636709457,
           0.45699623226700026,
           0,
           0.32229493638989826
          ],
          [
           0.04213176332904753,
           0.06290176136911206,
           0.09811197855740963,
           0.16447360067827826,
           0.18252317525313355,
           0.324742283318338,
           0.2520046449756814,
           0.21913002029470552,
           0.10871985212189433,
           0.12506718457133642,
           0.1481771994788502,
           0.14743571918948714,
           0.24697736819546273,
           0.2030600109125017,
           0.182337006733102,
           0.19565987878852023,
           0.1353234343719066,
           0.1147162256275867,
           0.09693444622417917,
           0.1452638417910896,
           0.1319000183686873,
           0.2106329256235656,
           0.10098587911517891,
           0.15224067647877473,
           0.27250739000732577,
           0.23928001001275723,
           0.2784451027178184,
           0.35015681979722135,
           0.3597347853910806,
           0.4367062423180922,
           0.31600190840520853,
           0.3567804052555405,
           0.3394853321420811,
           0.4143579667856625,
           0.3231842497845853,
           0.4575140077750446,
           0.38947523318987765,
           0.4338331832005756,
           0.3811556264311561,
           0.44839656472767475,
           0.37488819952980573,
           0.4050244637640355,
           0.3431978392091818,
           0.4150527557703151,
           0.3591273469663679,
           0.34200317243324485,
           0.35216689725163663,
           0.3377494586431957,
           0.33280861074466167,
           0.33280564002083474,
           0.588858274741652,
           0.3973114735603829,
           0.20430392859786264,
           0.1871464853812401,
           0.1938042396712902,
           0.20129124703225032,
           0.19980035935682255,
           0.171147086604781,
           0.1615155028799176,
           0.42954902229775227,
           0.6191635847197288,
           0.43969691748057804,
           0.3822088185898314,
           0.27113963701417054,
           0.30604819133462574,
           0.19573572878429457,
           0.2565215390411829,
           0.4171383533741907,
           0.2744592829274125,
           0.3983324079452151,
           0.32229493638989826,
           0
          ]
         ]
        }
       ],
       "layout": {
        "height": 800,
        "hovermode": "closest",
        "legend": {
         "x": 0.7,
         "y": 0.7
        },
        "paper_bgcolor": "rgba(0,0,0,0)",
        "plot_bgcolor": "rgba(0,0,0,0)",
        "showlegend": false,
        "template": {
         "data": {
          "bar": [
           {
            "error_x": {
             "color": "#2a3f5f"
            },
            "error_y": {
             "color": "#2a3f5f"
            },
            "marker": {
             "line": {
              "color": "#E5ECF6",
              "width": 0.5
             },
             "pattern": {
              "fillmode": "overlay",
              "size": 10,
              "solidity": 0.2
             }
            },
            "type": "bar"
           }
          ],
          "barpolar": [
           {
            "marker": {
             "line": {
              "color": "#E5ECF6",
              "width": 0.5
             },
             "pattern": {
              "fillmode": "overlay",
              "size": 10,
              "solidity": 0.2
             }
            },
            "type": "barpolar"
           }
          ],
          "carpet": [
           {
            "aaxis": {
             "endlinecolor": "#2a3f5f",
             "gridcolor": "white",
             "linecolor": "white",
             "minorgridcolor": "white",
             "startlinecolor": "#2a3f5f"
            },
            "baxis": {
             "endlinecolor": "#2a3f5f",
             "gridcolor": "white",
             "linecolor": "white",
             "minorgridcolor": "white",
             "startlinecolor": "#2a3f5f"
            },
            "type": "carpet"
           }
          ],
          "choropleth": [
           {
            "colorbar": {
             "outlinewidth": 0,
             "ticks": ""
            },
            "type": "choropleth"
           }
          ],
          "contour": [
           {
            "colorbar": {
             "outlinewidth": 0,
             "ticks": ""
            },
            "colorscale": [
             [
              0,
              "#0d0887"
             ],
             [
              0.1111111111111111,
              "#46039f"
             ],
             [
              0.2222222222222222,
              "#7201a8"
             ],
             [
              0.3333333333333333,
              "#9c179e"
             ],
             [
              0.4444444444444444,
              "#bd3786"
             ],
             [
              0.5555555555555556,
              "#d8576b"
             ],
             [
              0.6666666666666666,
              "#ed7953"
             ],
             [
              0.7777777777777778,
              "#fb9f3a"
             ],
             [
              0.8888888888888888,
              "#fdca26"
             ],
             [
              1,
              "#f0f921"
             ]
            ],
            "type": "contour"
           }
          ],
          "contourcarpet": [
           {
            "colorbar": {
             "outlinewidth": 0,
             "ticks": ""
            },
            "type": "contourcarpet"
           }
          ],
          "heatmap": [
           {
            "colorbar": {
             "outlinewidth": 0,
             "ticks": ""
            },
            "colorscale": [
             [
              0,
              "#0d0887"
             ],
             [
              0.1111111111111111,
              "#46039f"
             ],
             [
              0.2222222222222222,
              "#7201a8"
             ],
             [
              0.3333333333333333,
              "#9c179e"
             ],
             [
              0.4444444444444444,
              "#bd3786"
             ],
             [
              0.5555555555555556,
              "#d8576b"
             ],
             [
              0.6666666666666666,
              "#ed7953"
             ],
             [
              0.7777777777777778,
              "#fb9f3a"
             ],
             [
              0.8888888888888888,
              "#fdca26"
             ],
             [
              1,
              "#f0f921"
             ]
            ],
            "type": "heatmap"
           }
          ],
          "heatmapgl": [
           {
            "colorbar": {
             "outlinewidth": 0,
             "ticks": ""
            },
            "colorscale": [
             [
              0,
              "#0d0887"
             ],
             [
              0.1111111111111111,
              "#46039f"
             ],
             [
              0.2222222222222222,
              "#7201a8"
             ],
             [
              0.3333333333333333,
              "#9c179e"
             ],
             [
              0.4444444444444444,
              "#bd3786"
             ],
             [
              0.5555555555555556,
              "#d8576b"
             ],
             [
              0.6666666666666666,
              "#ed7953"
             ],
             [
              0.7777777777777778,
              "#fb9f3a"
             ],
             [
              0.8888888888888888,
              "#fdca26"
             ],
             [
              1,
              "#f0f921"
             ]
            ],
            "type": "heatmapgl"
           }
          ],
          "histogram": [
           {
            "marker": {
             "pattern": {
              "fillmode": "overlay",
              "size": 10,
              "solidity": 0.2
             }
            },
            "type": "histogram"
           }
          ],
          "histogram2d": [
           {
            "colorbar": {
             "outlinewidth": 0,
             "ticks": ""
            },
            "colorscale": [
             [
              0,
              "#0d0887"
             ],
             [
              0.1111111111111111,
              "#46039f"
             ],
             [
              0.2222222222222222,
              "#7201a8"
             ],
             [
              0.3333333333333333,
              "#9c179e"
             ],
             [
              0.4444444444444444,
              "#bd3786"
             ],
             [
              0.5555555555555556,
              "#d8576b"
             ],
             [
              0.6666666666666666,
              "#ed7953"
             ],
             [
              0.7777777777777778,
              "#fb9f3a"
             ],
             [
              0.8888888888888888,
              "#fdca26"
             ],
             [
              1,
              "#f0f921"
             ]
            ],
            "type": "histogram2d"
           }
          ],
          "histogram2dcontour": [
           {
            "colorbar": {
             "outlinewidth": 0,
             "ticks": ""
            },
            "colorscale": [
             [
              0,
              "#0d0887"
             ],
             [
              0.1111111111111111,
              "#46039f"
             ],
             [
              0.2222222222222222,
              "#7201a8"
             ],
             [
              0.3333333333333333,
              "#9c179e"
             ],
             [
              0.4444444444444444,
              "#bd3786"
             ],
             [
              0.5555555555555556,
              "#d8576b"
             ],
             [
              0.6666666666666666,
              "#ed7953"
             ],
             [
              0.7777777777777778,
              "#fb9f3a"
             ],
             [
              0.8888888888888888,
              "#fdca26"
             ],
             [
              1,
              "#f0f921"
             ]
            ],
            "type": "histogram2dcontour"
           }
          ],
          "mesh3d": [
           {
            "colorbar": {
             "outlinewidth": 0,
             "ticks": ""
            },
            "type": "mesh3d"
           }
          ],
          "parcoords": [
           {
            "line": {
             "colorbar": {
              "outlinewidth": 0,
              "ticks": ""
             }
            },
            "type": "parcoords"
           }
          ],
          "pie": [
           {
            "automargin": true,
            "type": "pie"
           }
          ],
          "scatter": [
           {
            "marker": {
             "colorbar": {
              "outlinewidth": 0,
              "ticks": ""
             }
            },
            "type": "scatter"
           }
          ],
          "scatter3d": [
           {
            "line": {
             "colorbar": {
              "outlinewidth": 0,
              "ticks": ""
             }
            },
            "marker": {
             "colorbar": {
              "outlinewidth": 0,
              "ticks": ""
             }
            },
            "type": "scatter3d"
           }
          ],
          "scattercarpet": [
           {
            "marker": {
             "colorbar": {
              "outlinewidth": 0,
              "ticks": ""
             }
            },
            "type": "scattercarpet"
           }
          ],
          "scattergeo": [
           {
            "marker": {
             "colorbar": {
              "outlinewidth": 0,
              "ticks": ""
             }
            },
            "type": "scattergeo"
           }
          ],
          "scattergl": [
           {
            "marker": {
             "colorbar": {
              "outlinewidth": 0,
              "ticks": ""
             }
            },
            "type": "scattergl"
           }
          ],
          "scattermapbox": [
           {
            "marker": {
             "colorbar": {
              "outlinewidth": 0,
              "ticks": ""
             }
            },
            "type": "scattermapbox"
           }
          ],
          "scatterpolar": [
           {
            "marker": {
             "colorbar": {
              "outlinewidth": 0,
              "ticks": ""
             }
            },
            "type": "scatterpolar"
           }
          ],
          "scatterpolargl": [
           {
            "marker": {
             "colorbar": {
              "outlinewidth": 0,
              "ticks": ""
             }
            },
            "type": "scatterpolargl"
           }
          ],
          "scatterternary": [
           {
            "marker": {
             "colorbar": {
              "outlinewidth": 0,
              "ticks": ""
             }
            },
            "type": "scatterternary"
           }
          ],
          "surface": [
           {
            "colorbar": {
             "outlinewidth": 0,
             "ticks": ""
            },
            "colorscale": [
             [
              0,
              "#0d0887"
             ],
             [
              0.1111111111111111,
              "#46039f"
             ],
             [
              0.2222222222222222,
              "#7201a8"
             ],
             [
              0.3333333333333333,
              "#9c179e"
             ],
             [
              0.4444444444444444,
              "#bd3786"
             ],
             [
              0.5555555555555556,
              "#d8576b"
             ],
             [
              0.6666666666666666,
              "#ed7953"
             ],
             [
              0.7777777777777778,
              "#fb9f3a"
             ],
             [
              0.8888888888888888,
              "#fdca26"
             ],
             [
              1,
              "#f0f921"
             ]
            ],
            "type": "surface"
           }
          ],
          "table": [
           {
            "cells": {
             "fill": {
              "color": "#EBF0F8"
             },
             "line": {
              "color": "white"
             }
            },
            "header": {
             "fill": {
              "color": "#C8D4E3"
             },
             "line": {
              "color": "white"
             }
            },
            "type": "table"
           }
          ]
         },
         "layout": {
          "annotationdefaults": {
           "arrowcolor": "#2a3f5f",
           "arrowhead": 0,
           "arrowwidth": 1
          },
          "autotypenumbers": "strict",
          "coloraxis": {
           "colorbar": {
            "outlinewidth": 0,
            "ticks": ""
           }
          },
          "colorscale": {
           "diverging": [
            [
             0,
             "#8e0152"
            ],
            [
             0.1,
             "#c51b7d"
            ],
            [
             0.2,
             "#de77ae"
            ],
            [
             0.3,
             "#f1b6da"
            ],
            [
             0.4,
             "#fde0ef"
            ],
            [
             0.5,
             "#f7f7f7"
            ],
            [
             0.6,
             "#e6f5d0"
            ],
            [
             0.7,
             "#b8e186"
            ],
            [
             0.8,
             "#7fbc41"
            ],
            [
             0.9,
             "#4d9221"
            ],
            [
             1,
             "#276419"
            ]
           ],
           "sequential": [
            [
             0,
             "#0d0887"
            ],
            [
             0.1111111111111111,
             "#46039f"
            ],
            [
             0.2222222222222222,
             "#7201a8"
            ],
            [
             0.3333333333333333,
             "#9c179e"
            ],
            [
             0.4444444444444444,
             "#bd3786"
            ],
            [
             0.5555555555555556,
             "#d8576b"
            ],
            [
             0.6666666666666666,
             "#ed7953"
            ],
            [
             0.7777777777777778,
             "#fb9f3a"
            ],
            [
             0.8888888888888888,
             "#fdca26"
            ],
            [
             1,
             "#f0f921"
            ]
           ],
           "sequentialminus": [
            [
             0,
             "#0d0887"
            ],
            [
             0.1111111111111111,
             "#46039f"
            ],
            [
             0.2222222222222222,
             "#7201a8"
            ],
            [
             0.3333333333333333,
             "#9c179e"
            ],
            [
             0.4444444444444444,
             "#bd3786"
            ],
            [
             0.5555555555555556,
             "#d8576b"
            ],
            [
             0.6666666666666666,
             "#ed7953"
            ],
            [
             0.7777777777777778,
             "#fb9f3a"
            ],
            [
             0.8888888888888888,
             "#fdca26"
            ],
            [
             1,
             "#f0f921"
            ]
           ]
          },
          "colorway": [
           "#636efa",
           "#EF553B",
           "#00cc96",
           "#ab63fa",
           "#FFA15A",
           "#19d3f3",
           "#FF6692",
           "#B6E880",
           "#FF97FF",
           "#FECB52"
          ],
          "font": {
           "color": "#2a3f5f"
          },
          "geo": {
           "bgcolor": "white",
           "lakecolor": "white",
           "landcolor": "#E5ECF6",
           "showlakes": true,
           "showland": true,
           "subunitcolor": "white"
          },
          "hoverlabel": {
           "align": "left"
          },
          "hovermode": "closest",
          "mapbox": {
           "style": "light"
          },
          "paper_bgcolor": "white",
          "plot_bgcolor": "#E5ECF6",
          "polar": {
           "angularaxis": {
            "gridcolor": "white",
            "linecolor": "white",
            "ticks": ""
           },
           "bgcolor": "#E5ECF6",
           "radialaxis": {
            "gridcolor": "white",
            "linecolor": "white",
            "ticks": ""
           }
          },
          "scene": {
           "xaxis": {
            "backgroundcolor": "#E5ECF6",
            "gridcolor": "white",
            "gridwidth": 2,
            "linecolor": "white",
            "showbackground": true,
            "ticks": "",
            "zerolinecolor": "white"
           },
           "yaxis": {
            "backgroundcolor": "#E5ECF6",
            "gridcolor": "white",
            "gridwidth": 2,
            "linecolor": "white",
            "showbackground": true,
            "ticks": "",
            "zerolinecolor": "white"
           },
           "zaxis": {
            "backgroundcolor": "#E5ECF6",
            "gridcolor": "white",
            "gridwidth": 2,
            "linecolor": "white",
            "showbackground": true,
            "ticks": "",
            "zerolinecolor": "white"
           }
          },
          "shapedefaults": {
           "line": {
            "color": "#2a3f5f"
           }
          },
          "ternary": {
           "aaxis": {
            "gridcolor": "white",
            "linecolor": "white",
            "ticks": ""
           },
           "baxis": {
            "gridcolor": "white",
            "linecolor": "white",
            "ticks": ""
           },
           "bgcolor": "#E5ECF6",
           "caxis": {
            "gridcolor": "white",
            "linecolor": "white",
            "ticks": ""
           }
          },
          "title": {
           "x": 0.05
          },
          "xaxis": {
           "automargin": true,
           "gridcolor": "white",
           "linecolor": "white",
           "ticks": "",
           "title": {
            "standoff": 15
           },
           "zerolinecolor": "white",
           "zerolinewidth": 2
          },
          "yaxis": {
           "automargin": true,
           "gridcolor": "white",
           "linecolor": "white",
           "ticks": "",
           "title": {
            "standoff": 15
           },
           "zerolinecolor": "white",
           "zerolinewidth": 2
          }
         }
        },
        "width": 1000,
        "xaxis": {
         "anchor": "y",
         "domain": [
          0,
          0.95
         ],
         "fixedrange": false,
         "mirror": false,
         "showgrid": false,
         "showline": false,
         "showticklabels": false,
         "type": "linear",
         "zeroline": false
        },
        "xaxis2": {
         "anchor": "y4",
         "domain": [
          0.000949050949050949,
          0.95
         ],
         "fixedrange": false,
         "mirror": false,
         "scaleanchor": "x5",
         "showgrid": false,
         "showline": false,
         "showticklabels": false,
         "type": "linear",
         "zeroline": false
        },
        "xaxis3": {
         "anchor": "y3",
         "domain": [
          0.75,
          1
         ]
        },
        "xaxis4": {
         "anchor": "y4",
         "domain": [
          0,
          0.000949050949050949
         ],
         "fixedrange": false,
         "mirror": false,
         "showgrid": false,
         "showline": false,
         "showticklabels": false,
         "type": "linear",
         "zeroline": false
        },
        "xaxis5": {
         "anchor": "y5",
         "domain": [
          0.000949050949050949,
          0.95
         ],
         "fixedrange": false,
         "mirror": false,
         "range": [
          0,
          720
         ],
         "showgrid": false,
         "showline": false,
         "showticklabels": false,
         "side": "bottom",
         "tickmode": "array",
         "ticks": "",
         "ticktext": [
          "PurposiveAction",
          "Binding",
          "Sequencing",
          "Creativity",
          "Generativity",
          "Mindfulness",
          "EffectivePerformance",
          "SelfMonitoring",
          "HigherOrderExecutiveFunction",
          "MotivationalDrive",
          "Updating",
          "Switching",
          "FeedbackLearning",
          "ResponseConflict",
          "CoreExecutiveFunction",
          "ProceduralMemory",
          "PhonologicalWorkingMemory",
          "DualTaskCoordination",
          "StrategicRetrieval",
          "RelationalReasoning",
          "AttentionalInertia",
          "DeductiveReasoning",
          "EpisodicBuffer",
          "ImplicitMemory",
          "EpisodicMemory",
          "NonverbalWorkingMemory",
          "VisuospatialProcessing",
          "Reasoning",
          "ResponseInhibition",
          "FocusedAttention",
          "Inhibition",
          "Shifting",
          "Volition",
          "ExecutiveFunction",
          "VerbalWorkingMemory",
          "CogntiveControl",
          "ExecutiveControl",
          "CognitiveFlexibility",
          "SelectiveAttention",
          "AttentionalControl",
          "InhibitoryControl",
          "ExecutiveAttention",
          "CognitiveInhibition",
          "Organization",
          "CentralExecutive",
          "Perseveration",
          "ProcessingSpeed",
          "ShortTermMemory",
          "Fluency",
          "InterferenceControl",
          "Attention",
          "WorkingMemory",
          "PhonologicalLoop",
          "ContextProcessing",
          "FluidIntelligence",
          "VerbalProcessing",
          "VisuospatialWorkingMemory",
          "ExplicitMemory",
          "VisuospatialSketchpad",
          "SelfRegulation",
          "EmotionalRegulation",
          "ProblemSolving",
          "BehavioralRegulation",
          "EffortfulControl",
          "Initiation",
          "LongTermMemory",
          "LogicalReasoning",
          "Planning",
          "RewardProcessing",
          "SelfControl",
          "BehavioralControl",
          "EmotionalControl"
         ],
         "tickvals": [
          5,
          15,
          25,
          35,
          45,
          55,
          65,
          75,
          85,
          95,
          105,
          115,
          125,
          135,
          145,
          155,
          165,
          175,
          185,
          195,
          205,
          215,
          225,
          235,
          245,
          255,
          265,
          275,
          285,
          295,
          305,
          315,
          325,
          335,
          345,
          355,
          365,
          375,
          385,
          395,
          405,
          415,
          425,
          435,
          445,
          455,
          465,
          475,
          485,
          495,
          505,
          515,
          525,
          535,
          545,
          555,
          565,
          575,
          585,
          595,
          605,
          615,
          625,
          635,
          645,
          655,
          665,
          675,
          685,
          695,
          705,
          715
         ],
         "type": "linear",
         "zeroline": false
        },
        "xaxis6": {
         "anchor": "y6",
         "domain": [
          0.95,
          1
         ],
         "fixedrange": false,
         "mirror": false,
         "range": [
          -5,
          1
         ],
         "showgrid": false,
         "showline": false,
         "showticklabels": false,
         "type": "linear",
         "zeroline": false
        },
        "xaxis7": {
         "anchor": "y7",
         "domain": [
          0,
          0.25
         ]
        },
        "xaxis8": {
         "anchor": "y8",
         "domain": [
          0.000949050949050949,
          0.95
         ],
         "fixedrange": false,
         "mirror": false,
         "range": [
          5,
          715
         ],
         "scaleanchor": "x5",
         "scaleratio": 1,
         "showgrid": false,
         "showline": false,
         "showticklabels": false,
         "type": "linear",
         "zeroline": false
        },
        "xaxis9": {
         "anchor": "y9",
         "domain": [
          0.75,
          1
         ]
        },
        "yaxis": {
         "anchor": "x",
         "domain": [
          0.999050949050949,
          1
         ],
         "fixedrange": false,
         "mirror": false,
         "showgrid": false,
         "showline": false,
         "showticklabels": false,
         "type": "linear",
         "zeroline": false
        },
        "yaxis2": {
         "anchor": "x2",
         "domain": [
          0.999050949050949,
          1
         ],
         "fixedrange": false,
         "mirror": false,
         "range": [
          0,
          3.912631061018487
         ],
         "showgrid": false,
         "showline": false,
         "showticklabels": false,
         "type": "linear",
         "zeroline": false
        },
        "yaxis3": {
         "anchor": "x3",
         "domain": [
          0.75,
          1
         ]
        },
        "yaxis4": {
         "anchor": "x4",
         "domain": [
          0,
          0.999050949050949
         ],
         "fixedrange": false,
         "mirror": false,
         "range": [
          5,
          715
         ],
         "scaleanchor": "y5",
         "showgrid": false,
         "showline": false,
         "showticklabels": false,
         "type": "linear",
         "zeroline": false
        },
        "yaxis5": {
         "anchor": "x5",
         "domain": [
          0,
          0.999050949050949
         ],
         "fixedrange": false,
         "mirror": false,
         "showgrid": false,
         "showline": false,
         "showticklabels": true,
         "side": "right",
         "tickmode": "array",
         "ticktext": [
          "PurposiveAction",
          "Binding",
          "Sequencing",
          "Creativity",
          "Generativity",
          "Mindfulness",
          "EffectivePerformance",
          "SelfMonitoring",
          "HigherOrderExecutiveFunction",
          "MotivationalDrive",
          "Updating",
          "Switching",
          "FeedbackLearning",
          "ResponseConflict",
          "CoreExecutiveFunction",
          "ProceduralMemory",
          "PhonologicalWorkingMemory",
          "DualTaskCoordination",
          "StrategicRetrieval",
          "RelationalReasoning",
          "AttentionalInertia",
          "DeductiveReasoning",
          "EpisodicBuffer",
          "ImplicitMemory",
          "EpisodicMemory",
          "NonverbalWorkingMemory",
          "VisuospatialProcessing",
          "Reasoning",
          "ResponseInhibition",
          "FocusedAttention",
          "Inhibition",
          "Shifting",
          "Volition",
          "ExecutiveFunction",
          "VerbalWorkingMemory",
          "CogntiveControl",
          "ExecutiveControl",
          "CognitiveFlexibility",
          "SelectiveAttention",
          "AttentionalControl",
          "InhibitoryControl",
          "ExecutiveAttention",
          "CognitiveInhibition",
          "Organization",
          "CentralExecutive",
          "Perseveration",
          "ProcessingSpeed",
          "ShortTermMemory",
          "Fluency",
          "InterferenceControl",
          "Attention",
          "WorkingMemory",
          "PhonologicalLoop",
          "ContextProcessing",
          "FluidIntelligence",
          "VerbalProcessing",
          "VisuospatialWorkingMemory",
          "ExplicitMemory",
          "VisuospatialSketchpad",
          "SelfRegulation",
          "EmotionalRegulation",
          "ProblemSolving",
          "BehavioralRegulation",
          "EffortfulControl",
          "Initiation",
          "LongTermMemory",
          "LogicalReasoning",
          "Planning",
          "RewardProcessing",
          "SelfControl",
          "BehavioralControl",
          "EmotionalControl"
         ],
         "tickvals": [
          5,
          15,
          25,
          35,
          45,
          55,
          65,
          75,
          85,
          95,
          105,
          115,
          125,
          135,
          145,
          155,
          165,
          175,
          185,
          195,
          205,
          215,
          225,
          235,
          245,
          255,
          265,
          275,
          285,
          295,
          305,
          315,
          325,
          335,
          345,
          355,
          365,
          375,
          385,
          395,
          405,
          415,
          425,
          435,
          445,
          455,
          465,
          475,
          485,
          495,
          505,
          515,
          525,
          535,
          545,
          555,
          565,
          575,
          585,
          595,
          605,
          615,
          625,
          635,
          645,
          655,
          665,
          675,
          685,
          695,
          705,
          715
         ],
         "type": "linear",
         "zeroline": false
        },
        "yaxis6": {
         "anchor": "x6",
         "domain": [
          0,
          0.949050949050949
         ],
         "fixedrange": false,
         "mirror": false,
         "range": [
          5,
          715
         ],
         "scaleanchor": "y5",
         "scaleratio": 1,
         "showgrid": false,
         "showline": false,
         "showticklabels": false,
         "type": "linear",
         "zeroline": false
        },
        "yaxis7": {
         "anchor": "x7",
         "domain": [
          0,
          0.25
         ]
        },
        "yaxis8": {
         "anchor": "x8",
         "domain": [
          0.949050949050949,
          0.999050949050949
         ],
         "fixedrange": false,
         "mirror": false,
         "range": [
          -0.5,
          0.5
         ],
         "showgrid": false,
         "showline": false,
         "showticklabels": false,
         "type": "linear",
         "zeroline": false
        },
        "yaxis9": {
         "anchor": "x9",
         "domain": [
          0,
          0.25
         ]
        }
       }
      }
     },
     "metadata": {},
     "output_type": "display_data"
    }
   ],
   "source": [
    "# visualize the similarity between constructs pairs regardless of the underlying tasks\n",
    "\n",
    "# # drop tasks for visualization\n",
    "tasks = pubmed.query('category.str.contains(\"Task\")')['label'].unique()\n",
    "plot_data = n2n_sim.drop(index=tasks, columns=tasks)\n",
    "\n",
    "# # heatmap plot categorized by label category, either task or construct\n",
    "# g = sns.clustermap(labels_sim,\n",
    "#                    figsize=(25, 25),\n",
    "#                    dendrogram_ratio=0.0001, \n",
    "#                    cbar_pos=(1.0, 0.73, 0.03, 0.25),\n",
    "#                    robust=True)\n",
    "# plt.show()\n",
    "\n",
    "dashbio.Clustergram(\n",
    "  data=plot_data,\n",
    "  column_labels=plot_data.columns.to_list(),\n",
    "  row_labels=plot_data.index.to_list(),\n",
    "  cluster='all',\n",
    "  center_values=False,\n",
    "  height=800,\n",
    "  width=1000,\n",
    "  display_ratio=[0.001, 0.001],\n",
    "  color_map='RdBu_r',\n",
    "  hidden_labels=['col'],\n",
    "  row_dist='euclidean',\n",
    "  col_dist='euclidean',\n",
    "  # standardize='col'\n",
    ")\n"
   ]
  },
  {
   "cell_type": "markdown",
   "metadata": {},
   "source": [
    "## Popular Constructs"
   ]
  },
  {
   "cell_type": "code",
   "execution_count": 202,
   "metadata": {},
   "outputs": [
    {
     "data": {
      "application/vnd.plotly.v1+json": {
       "config": {
        "plotlyServerURL": "https://plot.ly"
       },
       "data": [
        {
         "hoverinfo": "y+name",
         "line": {
          "width": 0.5
         },
         "marker": {
          "color": "rgb(0,116,217)"
         },
         "mode": "lines",
         "name": "Col Cluster 0",
         "type": "scatter",
         "x": [
          13.75,
          13.75,
          148.8671875,
          148.8671875
         ],
         "xaxis": "x2",
         "y": [
          0.2553037504603194,
          0.5233982410032744,
          0.5233982410032744,
          0.35873261577634646
         ],
         "yaxis": "y2"
        },
        {
         "hoverinfo": "y+name",
         "line": {
          "width": 0.5
         },
         "marker": {
          "color": "rgb(0,116,217)"
         },
         "mode": "lines",
         "name": "Col Cluster 1",
         "type": "scatter",
         "x": [
          5,
          5,
          22.5,
          22.5
         ],
         "xaxis": "x2",
         "y": [
          0,
          0.2553037504603194,
          0.2553037504603194,
          0.23539616268002575
         ],
         "yaxis": "y2"
        },
        {
         "hoverinfo": "y+name",
         "line": {
          "width": 0.5
         },
         "marker": {
          "color": "rgb(0,116,217)"
         },
         "mode": "lines",
         "name": "Col Cluster 2",
         "type": "scatter",
         "x": [
          15,
          15,
          30,
          30
         ],
         "xaxis": "x2",
         "y": [
          0,
          0.23539616268002575,
          0.23539616268002575,
          0.18211022747079403
         ],
         "yaxis": "y2"
        },
        {
         "hoverinfo": "y+name",
         "line": {
          "width": 0.5
         },
         "marker": {
          "color": "rgb(0,116,217)"
         },
         "mode": "lines",
         "name": "Col Cluster 3",
         "type": "scatter",
         "x": [
          25,
          25,
          35,
          35
         ],
         "xaxis": "x2",
         "y": [
          0,
          0.18211022747079403,
          0.18211022747079403,
          0
         ],
         "yaxis": "y2"
        },
        {
         "hoverinfo": "y+name",
         "line": {
          "width": 0.5
         },
         "marker": {
          "color": "rgb(0,116,217)"
         },
         "mode": "lines",
         "name": "Col Cluster 4",
         "type": "scatter",
         "x": [
          45,
          45,
          62.5,
          62.5
         ],
         "xaxis": "x2",
         "y": [
          0,
          0.09666494371859662,
          0.09666494371859662,
          0.0668042081166397
         ],
         "yaxis": "y2"
        },
        {
         "hoverinfo": "y+name",
         "line": {
          "width": 0.5
         },
         "marker": {
          "color": "rgb(0,116,217)"
         },
         "mode": "lines",
         "name": "Col Cluster 5",
         "type": "scatter",
         "x": [
          53.75,
          53.75,
          90,
          90
         ],
         "xaxis": "x2",
         "y": [
          0.09666494371859662,
          0.18700201685998002,
          0.18700201685998002,
          0.16607518161977447
         ],
         "yaxis": "y2"
        },
        {
         "hoverinfo": "y+name",
         "line": {
          "width": 0.5
         },
         "marker": {
          "color": "rgb(0,116,217)"
         },
         "mode": "lines",
         "name": "Col Cluster 6",
         "type": "scatter",
         "x": [
          55,
          55,
          70,
          70
         ],
         "xaxis": "x2",
         "y": [
          0,
          0.0668042081166397,
          0.0668042081166397,
          0.055033479927624994
         ],
         "yaxis": "y2"
        },
        {
         "hoverinfo": "y+name",
         "line": {
          "width": 0.5
         },
         "marker": {
          "color": "rgb(0,116,217)"
         },
         "mode": "lines",
         "name": "Col Cluster 7",
         "type": "scatter",
         "x": [
          65,
          65,
          75,
          75
         ],
         "xaxis": "x2",
         "y": [
          0,
          0.055033479927624994,
          0.055033479927624994,
          0
         ],
         "yaxis": "y2"
        },
        {
         "hoverinfo": "y+name",
         "line": {
          "width": 0.5
         },
         "marker": {
          "color": "rgb(0,116,217)"
         },
         "mode": "lines",
         "name": "Col Cluster 8",
         "type": "scatter",
         "x": [
          71.875,
          71.875,
          225.859375,
          225.859375
         ],
         "xaxis": "x2",
         "y": [
          0.18700201685998002,
          0.35873261577634646,
          0.35873261577634646,
          0.2884734789039008
         ],
         "yaxis": "y2"
        },
        {
         "hoverinfo": "y+name",
         "line": {
          "width": 0.5
         },
         "marker": {
          "color": "rgb(0,116,217)"
         },
         "mode": "lines",
         "name": "Col Cluster 9",
         "type": "scatter",
         "x": [
          85,
          85,
          95,
          95
         ],
         "xaxis": "x2",
         "y": [
          0,
          0.16607518161977447,
          0.16607518161977447,
          0
         ],
         "yaxis": "y2"
        },
        {
         "hoverinfo": "y+name",
         "line": {
          "width": 0.5
         },
         "marker": {
          "color": "rgb(0,116,217)"
         },
         "mode": "lines",
         "name": "Col Cluster 10",
         "type": "scatter",
         "x": [
          105,
          105,
          120,
          120
         ],
         "xaxis": "x2",
         "y": [
          0,
          0.07723144994644673,
          0.07723144994644673,
          0.05341494871800841
         ],
         "yaxis": "y2"
        },
        {
         "hoverinfo": "y+name",
         "line": {
          "width": 0.5
         },
         "marker": {
          "color": "rgb(0,116,217)"
         },
         "mode": "lines",
         "name": "Col Cluster 11",
         "type": "scatter",
         "x": [
          112.5,
          112.5,
          169.375,
          169.375
         ],
         "xaxis": "x2",
         "y": [
          0.07723144994644673,
          0.1912502011340813,
          0.1912502011340813,
          0.12045086937426194
         ],
         "yaxis": "y2"
        },
        {
         "hoverinfo": "y+name",
         "line": {
          "width": 0.5
         },
         "marker": {
          "color": "rgb(0,116,217)"
         },
         "mode": "lines",
         "name": "Col Cluster 12",
         "type": "scatter",
         "x": [
          115,
          115,
          125,
          125
         ],
         "xaxis": "x2",
         "y": [
          0,
          0.05341494871800841,
          0.05341494871800841,
          0
         ],
         "yaxis": "y2"
        },
        {
         "hoverinfo": "y+name",
         "line": {
          "width": 0.5
         },
         "marker": {
          "color": "rgb(0,116,217)"
         },
         "mode": "lines",
         "name": "Col Cluster 13",
         "type": "scatter",
         "x": [
          135,
          135,
          153.75,
          153.75
         ],
         "xaxis": "x2",
         "y": [
          0,
          0.06995403392285836,
          0.06995403392285836,
          0.06235943885926445
         ],
         "yaxis": "y2"
        },
        {
         "hoverinfo": "y+name",
         "line": {
          "width": 0.5
         },
         "marker": {
          "color": "rgb(0,116,217)"
         },
         "mode": "lines",
         "name": "Col Cluster 14",
         "type": "scatter",
         "x": [
          140.9375,
          140.9375,
          310.78125,
          310.78125
         ],
         "xaxis": "x2",
         "y": [
          0.1912502011340813,
          0.2884734789039008,
          0.2884734789039008,
          0.21357903915329987
         ],
         "yaxis": "y2"
        },
        {
         "hoverinfo": "y+name",
         "line": {
          "width": 0.5
         },
         "marker": {
          "color": "rgb(0,116,217)"
         },
         "mode": "lines",
         "name": "Col Cluster 15",
         "type": "scatter",
         "x": [
          144.375,
          144.375,
          194.375,
          194.375
         ],
         "xaxis": "x2",
         "y": [
          0.06995403392285836,
          0.12045086937426194,
          0.12045086937426194,
          0.08825328103876112
         ],
         "yaxis": "y2"
        },
        {
         "hoverinfo": "y+name",
         "line": {
          "width": 0.5
         },
         "marker": {
          "color": "rgb(0,116,217)"
         },
         "mode": "lines",
         "name": "Col Cluster 16",
         "type": "scatter",
         "x": [
          145,
          145,
          162.5,
          162.5
         ],
         "xaxis": "x2",
         "y": [
          0,
          0.06235943885926445,
          0.06235943885926445,
          0.06017110440580387
         ],
         "yaxis": "y2"
        },
        {
         "hoverinfo": "y+name",
         "line": {
          "width": 0.5
         },
         "marker": {
          "color": "rgb(0,116,217)"
         },
         "mode": "lines",
         "name": "Col Cluster 17",
         "type": "scatter",
         "x": [
          155,
          155,
          170,
          170
         ],
         "xaxis": "x2",
         "y": [
          0,
          0.06017110440580387,
          0.06017110440580387,
          0.04497817315483239
         ],
         "yaxis": "y2"
        },
        {
         "hoverinfo": "y+name",
         "line": {
          "width": 0.5
         },
         "marker": {
          "color": "rgb(0,116,217)"
         },
         "mode": "lines",
         "name": "Col Cluster 18",
         "type": "scatter",
         "x": [
          165,
          165,
          175,
          175
         ],
         "xaxis": "x2",
         "y": [
          0,
          0.04497817315483239,
          0.04497817315483239,
          0
         ],
         "yaxis": "y2"
        },
        {
         "hoverinfo": "y+name",
         "line": {
          "width": 0.5
         },
         "marker": {
          "color": "rgb(0,116,217)"
         },
         "mode": "lines",
         "name": "Col Cluster 19",
         "type": "scatter",
         "x": [
          185,
          185,
          203.75,
          203.75
         ],
         "xaxis": "x2",
         "y": [
          0,
          0.08825328103876112,
          0.08825328103876112,
          0.06944947641237433
         ],
         "yaxis": "y2"
        },
        {
         "hoverinfo": "y+name",
         "line": {
          "width": 0.5
         },
         "marker": {
          "color": "rgb(0,116,217)"
         },
         "mode": "lines",
         "name": "Col Cluster 20",
         "type": "scatter",
         "x": [
          195,
          195,
          212.5,
          212.5
         ],
         "xaxis": "x2",
         "y": [
          0,
          0.06944947641237433,
          0.06944947641237433,
          0.054180003868107965
         ],
         "yaxis": "y2"
        },
        {
         "hoverinfo": "y+name",
         "line": {
          "width": 0.5
         },
         "marker": {
          "color": "rgb(0,116,217)"
         },
         "mode": "lines",
         "name": "Col Cluster 21",
         "type": "scatter",
         "x": [
          205,
          205,
          220,
          220
         ],
         "xaxis": "x2",
         "y": [
          0,
          0.054180003868107965,
          0.054180003868107965,
          0.04985103229826879
         ],
         "yaxis": "y2"
        },
        {
         "hoverinfo": "y+name",
         "line": {
          "width": 0.5
         },
         "marker": {
          "color": "rgb(0,116,217)"
         },
         "mode": "lines",
         "name": "Col Cluster 22",
         "type": "scatter",
         "x": [
          215,
          215,
          225,
          225
         ],
         "xaxis": "x2",
         "y": [
          0,
          0.04985103229826879,
          0.04985103229826879,
          0
         ],
         "yaxis": "y2"
        },
        {
         "hoverinfo": "y+name",
         "line": {
          "width": 0.5
         },
         "marker": {
          "color": "rgb(0,116,217)"
         },
         "mode": "lines",
         "name": "Col Cluster 23",
         "type": "scatter",
         "x": [
          235,
          235,
          253.75,
          253.75
         ],
         "xaxis": "x2",
         "y": [
          0,
          0.10590941540526307,
          0.10590941540526307,
          0.08181538008493729
         ],
         "yaxis": "y2"
        },
        {
         "hoverinfo": "y+name",
         "line": {
          "width": 0.5
         },
         "marker": {
          "color": "rgb(0,116,217)"
         },
         "mode": "lines",
         "name": "Col Cluster 24",
         "type": "scatter",
         "x": [
          244.375,
          244.375,
          290,
          290
         ],
         "xaxis": "x2",
         "y": [
          0.10590941540526307,
          0.130598894086466,
          0.130598894086466,
          0.10727834201385715
         ],
         "yaxis": "y2"
        },
        {
         "hoverinfo": "y+name",
         "line": {
          "width": 0.5
         },
         "marker": {
          "color": "rgb(0,116,217)"
         },
         "mode": "lines",
         "name": "Col Cluster 25",
         "type": "scatter",
         "x": [
          245,
          245,
          262.5,
          262.5
         ],
         "xaxis": "x2",
         "y": [
          0,
          0.08181538008493729,
          0.08181538008493729,
          0.06302701446961544
         ],
         "yaxis": "y2"
        },
        {
         "hoverinfo": "y+name",
         "line": {
          "width": 0.5
         },
         "marker": {
          "color": "rgb(0,116,217)"
         },
         "mode": "lines",
         "name": "Col Cluster 26",
         "type": "scatter",
         "x": [
          255,
          255,
          270,
          270
         ],
         "xaxis": "x2",
         "y": [
          0,
          0.06302701446961544,
          0.06302701446961544,
          0.05025751674095466
         ],
         "yaxis": "y2"
        },
        {
         "hoverinfo": "y+name",
         "line": {
          "width": 0.5
         },
         "marker": {
          "color": "rgb(0,116,217)"
         },
         "mode": "lines",
         "name": "Col Cluster 27",
         "type": "scatter",
         "x": [
          265,
          265,
          275,
          275
         ],
         "xaxis": "x2",
         "y": [
          0,
          0.05025751674095466,
          0.05025751674095466,
          0
         ],
         "yaxis": "y2"
        },
        {
         "hoverinfo": "y+name",
         "line": {
          "width": 0.5
         },
         "marker": {
          "color": "rgb(0,116,217)"
         },
         "mode": "lines",
         "name": "Col Cluster 28",
         "type": "scatter",
         "x": [
          267.1875,
          267.1875,
          354.375,
          354.375
         ],
         "xaxis": "x2",
         "y": [
          0.130598894086466,
          0.21357903915329987,
          0.21357903915329987,
          0.17412667611460433
         ],
         "yaxis": "y2"
        },
        {
         "hoverinfo": "y+name",
         "line": {
          "width": 0.5
         },
         "marker": {
          "color": "rgb(0,116,217)"
         },
         "mode": "lines",
         "name": "Col Cluster 29",
         "type": "scatter",
         "x": [
          285,
          285,
          295,
          295
         ],
         "xaxis": "x2",
         "y": [
          0,
          0.10727834201385715,
          0.10727834201385715,
          0
         ],
         "yaxis": "y2"
        },
        {
         "hoverinfo": "y+name",
         "line": {
          "width": 0.5
         },
         "marker": {
          "color": "rgb(0,116,217)"
         },
         "mode": "lines",
         "name": "Col Cluster 30",
         "type": "scatter",
         "x": [
          305,
          305,
          315,
          315
         ],
         "xaxis": "x2",
         "y": [
          0,
          0.04567862975817977,
          0.04567862975817977,
          0
         ],
         "yaxis": "y2"
        },
        {
         "hoverinfo": "y+name",
         "line": {
          "width": 0.5
         },
         "marker": {
          "color": "rgb(0,116,217)"
         },
         "mode": "lines",
         "name": "Col Cluster 31",
         "type": "scatter",
         "x": [
          310,
          310,
          330,
          330
         ],
         "xaxis": "x2",
         "y": [
          0.04567862975817977,
          0.06373877852475004,
          0.06373877852475004,
          0.055523478169008794
         ],
         "yaxis": "y2"
        },
        {
         "hoverinfo": "y+name",
         "line": {
          "width": 0.5
         },
         "marker": {
          "color": "rgb(0,116,217)"
         },
         "mode": "lines",
         "name": "Col Cluster 32",
         "type": "scatter",
         "x": [
          320,
          320,
          350,
          350
         ],
         "xaxis": "x2",
         "y": [
          0.06373877852475004,
          0.08072891020929994,
          0.08072891020929994,
          0.0652085040563121
         ],
         "yaxis": "y2"
        },
        {
         "hoverinfo": "y+name",
         "line": {
          "width": 0.5
         },
         "marker": {
          "color": "rgb(0,116,217)"
         },
         "mode": "lines",
         "name": "Col Cluster 33",
         "type": "scatter",
         "x": [
          325,
          325,
          335,
          335
         ],
         "xaxis": "x2",
         "y": [
          0,
          0.055523478169008794,
          0.055523478169008794,
          0
         ],
         "yaxis": "y2"
        },
        {
         "hoverinfo": "y+name",
         "line": {
          "width": 0.5
         },
         "marker": {
          "color": "rgb(0,116,217)"
         },
         "mode": "lines",
         "name": "Col Cluster 34",
         "type": "scatter",
         "x": [
          335,
          335,
          373.75,
          373.75
         ],
         "xaxis": "x2",
         "y": [
          0.08072891020929994,
          0.17412667611460433,
          0.17412667611460433,
          0.14103644868250392
         ],
         "yaxis": "y2"
        },
        {
         "hoverinfo": "y+name",
         "line": {
          "width": 0.5
         },
         "marker": {
          "color": "rgb(0,116,217)"
         },
         "mode": "lines",
         "name": "Col Cluster 35",
         "type": "scatter",
         "x": [
          345,
          345,
          355,
          355
         ],
         "xaxis": "x2",
         "y": [
          0,
          0.0652085040563121,
          0.0652085040563121,
          0
         ],
         "yaxis": "y2"
        },
        {
         "hoverinfo": "y+name",
         "line": {
          "width": 0.5
         },
         "marker": {
          "color": "rgb(0,116,217)"
         },
         "mode": "lines",
         "name": "Col Cluster 36",
         "type": "scatter",
         "x": [
          365,
          365,
          382.5,
          382.5
         ],
         "xaxis": "x2",
         "y": [
          0,
          0.14103644868250392,
          0.14103644868250392,
          0.11672642560098052
         ],
         "yaxis": "y2"
        },
        {
         "hoverinfo": "y+name",
         "line": {
          "width": 0.5
         },
         "marker": {
          "color": "rgb(0,116,217)"
         },
         "mode": "lines",
         "name": "Col Cluster 37",
         "type": "scatter",
         "x": [
          375,
          375,
          390,
          390
         ],
         "xaxis": "x2",
         "y": [
          0,
          0.11672642560098052,
          0.11672642560098052,
          0.0846238373306183
         ],
         "yaxis": "y2"
        },
        {
         "hoverinfo": "y+name",
         "line": {
          "width": 0.5
         },
         "marker": {
          "color": "rgb(0,116,217)"
         },
         "mode": "lines",
         "name": "Col Cluster 38",
         "type": "scatter",
         "x": [
          385,
          385,
          395,
          395
         ],
         "xaxis": "x2",
         "y": [
          0,
          0.0846238373306183,
          0.0846238373306183,
          0
         ],
         "yaxis": "y2"
        },
        {
         "hoverinfo": "x+name",
         "line": {
          "width": 0.5
         },
         "marker": {
          "color": "rgb(0,116,217)"
         },
         "mode": "lines",
         "name": "Row Cluster 0",
         "type": "scatter",
         "x": [
          0,
          -0.18211022747079403,
          -0.18211022747079403,
          0
         ],
         "xaxis": "x4",
         "y": [
          25,
          25,
          35,
          35
         ],
         "yaxis": "y4"
        },
        {
         "hoverinfo": "x+name",
         "line": {
          "width": 0.5
         },
         "marker": {
          "color": "rgb(0,116,217)"
         },
         "mode": "lines",
         "name": "Row Cluster 1",
         "type": "scatter",
         "x": [
          0,
          -0.0846238373306183,
          -0.0846238373306183,
          0
         ],
         "xaxis": "x4",
         "y": [
          385,
          385,
          395,
          395
         ],
         "yaxis": "y4"
        },
        {
         "hoverinfo": "x+name",
         "line": {
          "width": 0.5
         },
         "marker": {
          "color": "rgb(0,116,217)"
         },
         "mode": "lines",
         "name": "Row Cluster 2",
         "type": "scatter",
         "x": [
          0,
          -0.11672642560098052,
          -0.11672642560098052,
          -0.0846238373306183
         ],
         "xaxis": "x4",
         "y": [
          375,
          375,
          390,
          390
         ],
         "yaxis": "y4"
        },
        {
         "hoverinfo": "x+name",
         "line": {
          "width": 0.5
         },
         "marker": {
          "color": "rgb(0,116,217)"
         },
         "mode": "lines",
         "name": "Row Cluster 3",
         "type": "scatter",
         "x": [
          0,
          -0.14103644868250392,
          -0.14103644868250392,
          -0.11672642560098052
         ],
         "xaxis": "x4",
         "y": [
          365,
          365,
          382.5,
          382.5
         ],
         "yaxis": "y4"
        },
        {
         "hoverinfo": "x+name",
         "line": {
          "width": 0.5
         },
         "marker": {
          "color": "rgb(0,116,217)"
         },
         "mode": "lines",
         "name": "Row Cluster 4",
         "type": "scatter",
         "x": [
          0,
          -0.0652085040563121,
          -0.0652085040563121,
          0
         ],
         "xaxis": "x4",
         "y": [
          345,
          345,
          355,
          355
         ],
         "yaxis": "y4"
        },
        {
         "hoverinfo": "x+name",
         "line": {
          "width": 0.5
         },
         "marker": {
          "color": "rgb(0,116,217)"
         },
         "mode": "lines",
         "name": "Row Cluster 5",
         "type": "scatter",
         "x": [
          -0.08072891020929994,
          -0.17412667611460433,
          -0.17412667611460433,
          -0.14103644868250392
         ],
         "xaxis": "x4",
         "y": [
          335,
          335,
          373.75,
          373.75
         ],
         "yaxis": "y4"
        },
        {
         "hoverinfo": "x+name",
         "line": {
          "width": 0.5
         },
         "marker": {
          "color": "rgb(0,116,217)"
         },
         "mode": "lines",
         "name": "Row Cluster 6",
         "type": "scatter",
         "x": [
          0,
          -0.055523478169008794,
          -0.055523478169008794,
          0
         ],
         "xaxis": "x4",
         "y": [
          325,
          325,
          335,
          335
         ],
         "yaxis": "y4"
        },
        {
         "hoverinfo": "x+name",
         "line": {
          "width": 0.5
         },
         "marker": {
          "color": "rgb(0,116,217)"
         },
         "mode": "lines",
         "name": "Row Cluster 7",
         "type": "scatter",
         "x": [
          -0.06373877852475004,
          -0.08072891020929994,
          -0.08072891020929994,
          -0.0652085040563121
         ],
         "xaxis": "x4",
         "y": [
          320,
          320,
          350,
          350
         ],
         "yaxis": "y4"
        },
        {
         "hoverinfo": "x+name",
         "line": {
          "width": 0.5
         },
         "marker": {
          "color": "rgb(0,116,217)"
         },
         "mode": "lines",
         "name": "Row Cluster 8",
         "type": "scatter",
         "x": [
          -0.04567862975817977,
          -0.06373877852475004,
          -0.06373877852475004,
          -0.055523478169008794
         ],
         "xaxis": "x4",
         "y": [
          310,
          310,
          330,
          330
         ],
         "yaxis": "y4"
        },
        {
         "hoverinfo": "x+name",
         "line": {
          "width": 0.5
         },
         "marker": {
          "color": "rgb(0,116,217)"
         },
         "mode": "lines",
         "name": "Row Cluster 9",
         "type": "scatter",
         "x": [
          0,
          -0.04567862975817977,
          -0.04567862975817977,
          0
         ],
         "xaxis": "x4",
         "y": [
          305,
          305,
          315,
          315
         ],
         "yaxis": "y4"
        },
        {
         "hoverinfo": "x+name",
         "line": {
          "width": 0.5
         },
         "marker": {
          "color": "rgb(0,116,217)"
         },
         "mode": "lines",
         "name": "Row Cluster 10",
         "type": "scatter",
         "x": [
          0,
          -0.10727834201385715,
          -0.10727834201385715,
          0
         ],
         "xaxis": "x4",
         "y": [
          285,
          285,
          295,
          295
         ],
         "yaxis": "y4"
        },
        {
         "hoverinfo": "x+name",
         "line": {
          "width": 0.5
         },
         "marker": {
          "color": "rgb(0,116,217)"
         },
         "mode": "lines",
         "name": "Row Cluster 11",
         "type": "scatter",
         "x": [
          -0.130598894086466,
          -0.21357903915329987,
          -0.21357903915329987,
          -0.17412667611460433
         ],
         "xaxis": "x4",
         "y": [
          267.1875,
          267.1875,
          354.375,
          354.375
         ],
         "yaxis": "y4"
        },
        {
         "hoverinfo": "x+name",
         "line": {
          "width": 0.5
         },
         "marker": {
          "color": "rgb(0,116,217)"
         },
         "mode": "lines",
         "name": "Row Cluster 12",
         "type": "scatter",
         "x": [
          0,
          -0.05025751674095466,
          -0.05025751674095466,
          0
         ],
         "xaxis": "x4",
         "y": [
          265,
          265,
          275,
          275
         ],
         "yaxis": "y4"
        },
        {
         "hoverinfo": "x+name",
         "line": {
          "width": 0.5
         },
         "marker": {
          "color": "rgb(0,116,217)"
         },
         "mode": "lines",
         "name": "Row Cluster 13",
         "type": "scatter",
         "x": [
          0,
          -0.06302701446961544,
          -0.06302701446961544,
          -0.05025751674095466
         ],
         "xaxis": "x4",
         "y": [
          255,
          255,
          270,
          270
         ],
         "yaxis": "y4"
        },
        {
         "hoverinfo": "x+name",
         "line": {
          "width": 0.5
         },
         "marker": {
          "color": "rgb(0,116,217)"
         },
         "mode": "lines",
         "name": "Row Cluster 14",
         "type": "scatter",
         "x": [
          0,
          -0.08181538008493729,
          -0.08181538008493729,
          -0.06302701446961544
         ],
         "xaxis": "x4",
         "y": [
          245,
          245,
          262.5,
          262.5
         ],
         "yaxis": "y4"
        },
        {
         "hoverinfo": "x+name",
         "line": {
          "width": 0.5
         },
         "marker": {
          "color": "rgb(0,116,217)"
         },
         "mode": "lines",
         "name": "Row Cluster 15",
         "type": "scatter",
         "x": [
          -0.10590941540526307,
          -0.130598894086466,
          -0.130598894086466,
          -0.10727834201385715
         ],
         "xaxis": "x4",
         "y": [
          244.375,
          244.375,
          290,
          290
         ],
         "yaxis": "y4"
        },
        {
         "hoverinfo": "x+name",
         "line": {
          "width": 0.5
         },
         "marker": {
          "color": "rgb(0,116,217)"
         },
         "mode": "lines",
         "name": "Row Cluster 16",
         "type": "scatter",
         "x": [
          0,
          -0.10590941540526307,
          -0.10590941540526307,
          -0.08181538008493729
         ],
         "xaxis": "x4",
         "y": [
          235,
          235,
          253.75,
          253.75
         ],
         "yaxis": "y4"
        },
        {
         "hoverinfo": "x+name",
         "line": {
          "width": 0.5
         },
         "marker": {
          "color": "rgb(0,116,217)"
         },
         "mode": "lines",
         "name": "Row Cluster 17",
         "type": "scatter",
         "x": [
          0,
          -0.04985103229826879,
          -0.04985103229826879,
          0
         ],
         "xaxis": "x4",
         "y": [
          215,
          215,
          225,
          225
         ],
         "yaxis": "y4"
        },
        {
         "hoverinfo": "x+name",
         "line": {
          "width": 0.5
         },
         "marker": {
          "color": "rgb(0,116,217)"
         },
         "mode": "lines",
         "name": "Row Cluster 18",
         "type": "scatter",
         "x": [
          0,
          -0.054180003868107965,
          -0.054180003868107965,
          -0.04985103229826879
         ],
         "xaxis": "x4",
         "y": [
          205,
          205,
          220,
          220
         ],
         "yaxis": "y4"
        },
        {
         "hoverinfo": "x+name",
         "line": {
          "width": 0.5
         },
         "marker": {
          "color": "rgb(0,116,217)"
         },
         "mode": "lines",
         "name": "Row Cluster 19",
         "type": "scatter",
         "x": [
          0,
          -0.06944947641237433,
          -0.06944947641237433,
          -0.054180003868107965
         ],
         "xaxis": "x4",
         "y": [
          195,
          195,
          212.5,
          212.5
         ],
         "yaxis": "y4"
        },
        {
         "hoverinfo": "x+name",
         "line": {
          "width": 0.5
         },
         "marker": {
          "color": "rgb(0,116,217)"
         },
         "mode": "lines",
         "name": "Row Cluster 20",
         "type": "scatter",
         "x": [
          0,
          -0.08825328103876112,
          -0.08825328103876112,
          -0.06944947641237433
         ],
         "xaxis": "x4",
         "y": [
          185,
          185,
          203.75,
          203.75
         ],
         "yaxis": "y4"
        },
        {
         "hoverinfo": "x+name",
         "line": {
          "width": 0.5
         },
         "marker": {
          "color": "rgb(0,116,217)"
         },
         "mode": "lines",
         "name": "Row Cluster 21",
         "type": "scatter",
         "x": [
          0,
          -0.04497817315483239,
          -0.04497817315483239,
          0
         ],
         "xaxis": "x4",
         "y": [
          165,
          165,
          175,
          175
         ],
         "yaxis": "y4"
        },
        {
         "hoverinfo": "x+name",
         "line": {
          "width": 0.5
         },
         "marker": {
          "color": "rgb(0,116,217)"
         },
         "mode": "lines",
         "name": "Row Cluster 22",
         "type": "scatter",
         "x": [
          0,
          -0.06017110440580387,
          -0.06017110440580387,
          -0.04497817315483239
         ],
         "xaxis": "x4",
         "y": [
          155,
          155,
          170,
          170
         ],
         "yaxis": "y4"
        },
        {
         "hoverinfo": "x+name",
         "line": {
          "width": 0.5
         },
         "marker": {
          "color": "rgb(0,116,217)"
         },
         "mode": "lines",
         "name": "Row Cluster 23",
         "type": "scatter",
         "x": [
          0,
          -0.06235943885926445,
          -0.06235943885926445,
          -0.06017110440580387
         ],
         "xaxis": "x4",
         "y": [
          145,
          145,
          162.5,
          162.5
         ],
         "yaxis": "y4"
        },
        {
         "hoverinfo": "x+name",
         "line": {
          "width": 0.5
         },
         "marker": {
          "color": "rgb(0,116,217)"
         },
         "mode": "lines",
         "name": "Row Cluster 24",
         "type": "scatter",
         "x": [
          -0.06995403392285836,
          -0.12045086937426194,
          -0.12045086937426194,
          -0.08825328103876112
         ],
         "xaxis": "x4",
         "y": [
          144.375,
          144.375,
          194.375,
          194.375
         ],
         "yaxis": "y4"
        },
        {
         "hoverinfo": "x+name",
         "line": {
          "width": 0.5
         },
         "marker": {
          "color": "rgb(0,116,217)"
         },
         "mode": "lines",
         "name": "Row Cluster 25",
         "type": "scatter",
         "x": [
          -0.1912502011340813,
          -0.2884734789039008,
          -0.2884734789039008,
          -0.21357903915329987
         ],
         "xaxis": "x4",
         "y": [
          140.9375,
          140.9375,
          310.78125,
          310.78125
         ],
         "yaxis": "y4"
        },
        {
         "hoverinfo": "x+name",
         "line": {
          "width": 0.5
         },
         "marker": {
          "color": "rgb(0,116,217)"
         },
         "mode": "lines",
         "name": "Row Cluster 26",
         "type": "scatter",
         "x": [
          0,
          -0.06995403392285836,
          -0.06995403392285836,
          -0.06235943885926445
         ],
         "xaxis": "x4",
         "y": [
          135,
          135,
          153.75,
          153.75
         ],
         "yaxis": "y4"
        },
        {
         "hoverinfo": "x+name",
         "line": {
          "width": 0.5
         },
         "marker": {
          "color": "rgb(0,116,217)"
         },
         "mode": "lines",
         "name": "Row Cluster 27",
         "type": "scatter",
         "x": [
          0,
          -0.05341494871800841,
          -0.05341494871800841,
          0
         ],
         "xaxis": "x4",
         "y": [
          115,
          115,
          125,
          125
         ],
         "yaxis": "y4"
        },
        {
         "hoverinfo": "x+name",
         "line": {
          "width": 0.5
         },
         "marker": {
          "color": "rgb(0,116,217)"
         },
         "mode": "lines",
         "name": "Row Cluster 28",
         "type": "scatter",
         "x": [
          -0.07723144994644673,
          -0.1912502011340813,
          -0.1912502011340813,
          -0.12045086937426194
         ],
         "xaxis": "x4",
         "y": [
          112.5,
          112.5,
          169.375,
          169.375
         ],
         "yaxis": "y4"
        },
        {
         "hoverinfo": "x+name",
         "line": {
          "width": 0.5
         },
         "marker": {
          "color": "rgb(0,116,217)"
         },
         "mode": "lines",
         "name": "Row Cluster 29",
         "type": "scatter",
         "x": [
          0,
          -0.07723144994644673,
          -0.07723144994644673,
          -0.05341494871800841
         ],
         "xaxis": "x4",
         "y": [
          105,
          105,
          120,
          120
         ],
         "yaxis": "y4"
        },
        {
         "hoverinfo": "x+name",
         "line": {
          "width": 0.5
         },
         "marker": {
          "color": "rgb(0,116,217)"
         },
         "mode": "lines",
         "name": "Row Cluster 30",
         "type": "scatter",
         "x": [
          0,
          -0.16607518161977447,
          -0.16607518161977447,
          0
         ],
         "xaxis": "x4",
         "y": [
          85,
          85,
          95,
          95
         ],
         "yaxis": "y4"
        },
        {
         "hoverinfo": "x+name",
         "line": {
          "width": 0.5
         },
         "marker": {
          "color": "rgb(0,116,217)"
         },
         "mode": "lines",
         "name": "Row Cluster 31",
         "type": "scatter",
         "x": [
          -0.18700201685998002,
          -0.35873261577634646,
          -0.35873261577634646,
          -0.2884734789039008
         ],
         "xaxis": "x4",
         "y": [
          71.875,
          71.875,
          225.859375,
          225.859375
         ],
         "yaxis": "y4"
        },
        {
         "hoverinfo": "x+name",
         "line": {
          "width": 0.5
         },
         "marker": {
          "color": "rgb(0,116,217)"
         },
         "mode": "lines",
         "name": "Row Cluster 32",
         "type": "scatter",
         "x": [
          0,
          -0.055033479927624994,
          -0.055033479927624994,
          0
         ],
         "xaxis": "x4",
         "y": [
          65,
          65,
          75,
          75
         ],
         "yaxis": "y4"
        },
        {
         "hoverinfo": "x+name",
         "line": {
          "width": 0.5
         },
         "marker": {
          "color": "rgb(0,116,217)"
         },
         "mode": "lines",
         "name": "Row Cluster 33",
         "type": "scatter",
         "x": [
          0,
          -0.0668042081166397,
          -0.0668042081166397,
          -0.055033479927624994
         ],
         "xaxis": "x4",
         "y": [
          55,
          55,
          70,
          70
         ],
         "yaxis": "y4"
        },
        {
         "hoverinfo": "x+name",
         "line": {
          "width": 0.5
         },
         "marker": {
          "color": "rgb(0,116,217)"
         },
         "mode": "lines",
         "name": "Row Cluster 34",
         "type": "scatter",
         "x": [
          -0.09666494371859662,
          -0.18700201685998002,
          -0.18700201685998002,
          -0.16607518161977447
         ],
         "xaxis": "x4",
         "y": [
          53.75,
          53.75,
          90,
          90
         ],
         "yaxis": "y4"
        },
        {
         "hoverinfo": "x+name",
         "line": {
          "width": 0.5
         },
         "marker": {
          "color": "rgb(0,116,217)"
         },
         "mode": "lines",
         "name": "Row Cluster 35",
         "type": "scatter",
         "x": [
          0,
          -0.09666494371859662,
          -0.09666494371859662,
          -0.0668042081166397
         ],
         "xaxis": "x4",
         "y": [
          45,
          45,
          62.5,
          62.5
         ],
         "yaxis": "y4"
        },
        {
         "hoverinfo": "x+name",
         "line": {
          "width": 0.5
         },
         "marker": {
          "color": "rgb(0,116,217)"
         },
         "mode": "lines",
         "name": "Row Cluster 36",
         "type": "scatter",
         "x": [
          0,
          -0.23539616268002575,
          -0.23539616268002575,
          -0.18211022747079403
         ],
         "xaxis": "x4",
         "y": [
          15,
          15,
          30,
          30
         ],
         "yaxis": "y4"
        },
        {
         "hoverinfo": "x+name",
         "line": {
          "width": 0.5
         },
         "marker": {
          "color": "rgb(0,116,217)"
         },
         "mode": "lines",
         "name": "Row Cluster 37",
         "type": "scatter",
         "x": [
          -0.2553037504603194,
          -0.5233982410032744,
          -0.5233982410032744,
          -0.35873261577634646
         ],
         "xaxis": "x4",
         "y": [
          13.75,
          13.75,
          148.8671875,
          148.8671875
         ],
         "yaxis": "y4"
        },
        {
         "hoverinfo": "x+name",
         "line": {
          "width": 0.5
         },
         "marker": {
          "color": "rgb(0,116,217)"
         },
         "mode": "lines",
         "name": "Row Cluster 38",
         "type": "scatter",
         "x": [
          0,
          -0.2553037504603194,
          -0.2553037504603194,
          -0.23539616268002575
         ],
         "xaxis": "x4",
         "y": [
          5,
          5,
          22.5,
          22.5
         ],
         "yaxis": "y4"
        },
        {
         "colorbar": {
          "xpad": 100
         },
         "colorscale": [
          [
           0,
           "rgb(5,48,97)"
          ],
          [
           0.1,
           "rgb(33,102,172)"
          ],
          [
           0.2,
           "rgb(67,147,195)"
          ],
          [
           0.3,
           "rgb(146,197,222)"
          ],
          [
           0.4,
           "rgb(209,229,240)"
          ],
          [
           0.5,
           "rgb(247,247,247)"
          ],
          [
           0.6,
           "rgb(253,219,199)"
          ],
          [
           0.7,
           "rgb(244,165,130)"
          ],
          [
           0.8,
           "rgb(214,96,77)"
          ],
          [
           0.9,
           "rgb(178,24,43)"
          ],
          [
           1,
           "rgb(103,0,31)"
          ]
         ],
         "type": "heatmap",
         "x": [
          5,
          15,
          25,
          35,
          45,
          55,
          65,
          75,
          85,
          95,
          105,
          115,
          125,
          135,
          145,
          155,
          165,
          175,
          185,
          195,
          205,
          215,
          225,
          235,
          245,
          255,
          265,
          275,
          285,
          295,
          305,
          315,
          325,
          335,
          345,
          355,
          365,
          375,
          385,
          395
         ],
         "xaxis": "x5",
         "y": [
          5,
          15,
          25,
          35,
          45,
          55,
          65,
          75,
          85,
          95,
          105,
          115,
          125,
          135,
          145,
          155,
          165,
          175,
          185,
          195,
          205,
          215,
          225,
          235,
          245,
          255,
          265,
          275,
          285,
          295,
          305,
          315,
          325,
          335,
          345,
          355,
          365,
          375,
          385,
          395
         ],
         "yaxis": "y5",
         "z": [
          [
           0.9999999999999997,
           0.8526623933461593,
           0.8718708887950521,
           0.8577171273393532,
           0.845865130664644,
           0.8504829791902228,
           0.8512426643419625,
           0.8548681200379268,
           0.8666367412326197,
           0.8588737638329874,
           0.9207053139965626,
           0.9146626043524778,
           0.9166837283890095,
           0.9216724376008392,
           0.9131040709493133,
           0.9213453055929509,
           0.9272479104148186,
           0.9269575506325205,
           0.9356888590896395,
           0.9189122907074687,
           0.9175049667949811,
           0.9229088903599857,
           0.925685853941635,
           0.9012484773197671,
           0.8832233881870536,
           0.903784867643344,
           0.8875788081041748,
           0.8920186419899909,
           0.8800296641221113,
           0.8741736228315061,
           0.9141625140259227,
           0.9177850127445962,
           0.9169512445505681,
           0.915132592427834,
           0.9077037423423502,
           0.9016004891768445,
           0.8904942695120714,
           0.9148237487119145,
           0.9121778318475785,
           0.8929469338269063
          ],
          [
           0.8526623933461593,
           1.0000000000000002,
           0.855934028542165,
           0.8431059809011417,
           0.8309636696972614,
           0.8362922635348655,
           0.8369000556901063,
           0.8396597571227711,
           0.8502842308799142,
           0.8439531963100564,
           0.894821774735585,
           0.8870188083916539,
           0.8898583678374692,
           0.904851737138229,
           0.8905388864066004,
           0.9012429224106218,
           0.9056681223703587,
           0.9055407204632411,
           0.9204169823046441,
           0.8930837955631954,
           0.8922403873336198,
           0.8990254516058942,
           0.9021424873934876,
           0.8812607878855833,
           0.8676820733827068,
           0.8890485539159574,
           0.8695394050992479,
           0.8745147148207385,
           0.8636950399893021,
           0.8541811302715704,
           0.8940911796921415,
           0.8969435774220899,
           0.8991097078002751,
           0.8963865475279815,
           0.890446213920476,
           0.8845970987811229,
           0.8725719930596681,
           0.9034238518924587,
           0.8934488296988153,
           0.8742631437294263
          ],
          [
           0.8718708887950521,
           0.855934028542165,
           0.9999999999999997,
           0.8809227897163113,
           0.8364345010581712,
           0.8361839154435338,
           0.8346666530026587,
           0.840010473979278,
           0.840843850938177,
           0.8281908988470391,
           0.9040443427286164,
           0.8833463094130228,
           0.89984883079902,
           0.9059334110042008,
           0.9003819003161546,
           0.9202903848833542,
           0.9082890910574569,
           0.9105380419823582,
           0.9172250959845687,
           0.8762817746639591,
           0.9059143356050151,
           0.9013876287512762,
           0.9096107351993981,
           0.8768585503273311,
           0.8648075616598683,
           0.884549908465359,
           0.873786910718624,
           0.8694564094958258,
           0.8528124761954126,
           0.8488151480189701,
           0.8952524193352681,
           0.8951287779431419,
           0.9161951376725481,
           0.9030400147777475,
           0.8919797806802291,
           0.8986797336087448,
           0.8751256838436339,
           0.8854344895848653,
           0.9064480711613557,
           0.8846191832051943
          ],
          [
           0.8577171273393532,
           0.8431059809011417,
           0.8809227897163113,
           1.0000000000000002,
           0.8332050125654492,
           0.8346107637230294,
           0.8379797590871151,
           0.8462821817256849,
           0.8623404880612059,
           0.8301026005644548,
           0.8796998932363037,
           0.8607916070147131,
           0.8728632102758279,
           0.8938112086929618,
           0.8975009109924694,
           0.9144697754386341,
           0.8959476152047056,
           0.9072584049009517,
           0.8989945786528397,
           0.8715612278405146,
           0.886391204311779,
           0.8849355108995632,
           0.8922162471686577,
           0.8656456793984332,
           0.8695180176802917,
           0.8833603911175228,
           0.8712681301692318,
           0.8668402796849651,
           0.85707636748839,
           0.8413114455111601,
           0.891916293107573,
           0.8978892251657791,
           0.9106290899413939,
           0.9052458650480955,
           0.891665101324577,
           0.90480370931126,
           0.8736818072185585,
           0.8833000928536177,
           0.9117231485492979,
           0.8921704376444477
          ],
          [
           0.845865130664644,
           0.8309636696972614,
           0.8364345010581712,
           0.8332050125654492,
           1,
           0.960510173429796,
           0.9572328724341173,
           0.9458788444546996,
           0.9161851738684426,
           0.9011500818638357,
           0.8806958325373314,
           0.8725865975942391,
           0.8769788400204023,
           0.9124304130552949,
           0.9216250021032456,
           0.9123456510487487,
           0.9153526967242938,
           0.9076131680582178,
           0.8880020447386668,
           0.891322950865659,
           0.8972503603589224,
           0.8892595695837047,
           0.8947584822922773,
           0.9434942406100676,
           0.956151356615254,
           0.9494800993293346,
           0.9602365151007716,
           0.9572857388441316,
           0.9344795556041504,
           0.942525881033657,
           0.9386137054301037,
           0.9342373317549328,
           0.9350280283564373,
           0.9224222161126802,
           0.9450798422363115,
           0.9353996741158538,
           0.9206327240321993,
           0.9088846499073513,
           0.917140812912173,
           0.917979158078906
          ],
          [
           0.8504829791902228,
           0.8362922635348655,
           0.8361839154435338,
           0.8346107637230294,
           0.960510173429796,
           1.0000000000000002,
           0.9641493969366893,
           0.9662778972946656,
           0.9184456358697457,
           0.9154845250171488,
           0.8804935360440149,
           0.8768531966593487,
           0.8809459280309292,
           0.9154081565645943,
           0.9201218054892404,
           0.9124416219574195,
           0.9205953255250569,
           0.9133841616955084,
           0.8930019079165041,
           0.8957416641954065,
           0.9004326527144644,
           0.8909088544263987,
           0.8971719646699727,
           0.9462437869799227,
           0.9500323871326145,
           0.9594294570870521,
           0.9644650169790142,
           0.9657912098554494,
           0.9444927867795152,
           0.9679658738335016,
           0.9436135735571669,
           0.9392437272401427,
           0.9287507235756665,
           0.925253465286134,
           0.9464086184052403,
           0.9331235330236299,
           0.9249929364427657,
           0.9151061438950858,
           0.9187514177604508,
           0.9159847169387746
          ],
          [
           0.8512426643419625,
           0.8369000556901063,
           0.8346666530026587,
           0.8379797590871151,
           0.9572328724341173,
           0.9641493969366893,
           1,
           0.9657842584721198,
           0.9323267233379207,
           0.9237912500906296,
           0.8825312450687063,
           0.8759000479591071,
           0.8775779901512896,
           0.9213205609184015,
           0.9270753597962077,
           0.9168338339720259,
           0.921143217621166,
           0.9134853501118947,
           0.8915825273923047,
           0.8998340513938771,
           0.9003580940509238,
           0.8933291741596789,
           0.8993846480202133,
           0.9474038495732552,
           0.9652436609800124,
           0.9547676003962489,
           0.9669305468830615,
           0.9567550807233517,
           0.9442653197537043,
           0.9570326473329027,
           0.9445252645302257,
           0.9434229762871754,
           0.9363609075627637,
           0.9348310416315678,
           0.9522080503194394,
           0.9431613221789812,
           0.9225597711952219,
           0.9243811636967093,
           0.9240055502469305,
           0.9264885132574564
          ],
          [
           0.8548681200379268,
           0.8396597571227711,
           0.840010473979278,
           0.8462821817256849,
           0.9458788444546996,
           0.9662778972946656,
           0.9657842584721198,
           0.9999999999999997,
           0.9340844113816367,
           0.9150161876424919,
           0.8856229395788817,
           0.8766520070680068,
           0.8805625189798831,
           0.92077082335636,
           0.9279992149172056,
           0.9206018065127552,
           0.9245761615295379,
           0.9167993132404387,
           0.8953939863794819,
           0.9007593826788173,
           0.9019503961363087,
           0.8982265844235793,
           0.9018816231544308,
           0.9524292882296613,
           0.9640824720360744,
           0.9597405653298404,
           0.9651062317177769,
           0.9648357588900257,
           0.9441903314437056,
           0.9599160985495988,
           0.9465701714148437,
           0.9447665903095182,
           0.9426206404293953,
           0.9350632014874021,
           0.955000045881898,
           0.9447096575759159,
           0.9268698864278782,
           0.9222886951078495,
           0.9282537701619227,
           0.9315360312487089
          ],
          [
           0.8666367412326197,
           0.8502842308799142,
           0.840843850938177,
           0.8623404880612059,
           0.9161851738684426,
           0.9184456358697457,
           0.9323267233379207,
           0.9340844113816367,
           0.9999999999999991,
           0.9009175394789534,
           0.8959600926013466,
           0.8816023552528506,
           0.884472626215074,
           0.9224813018510173,
           0.9304819437128239,
           0.9289102019171936,
           0.9276385575918669,
           0.9232293677326208,
           0.9036617654884034,
           0.9141044229364548,
           0.9032317513779473,
           0.9056600807038618,
           0.9109069326943344,
           0.9254777337561317,
           0.9379283076827643,
           0.9360038287721154,
           0.9440333964586648,
           0.9335405242134385,
           0.9289088774974316,
           0.9158072486750197,
           0.937934901951968,
           0.9441007687397394,
           0.9364301217213992,
           0.9438271089557786,
           0.9403696550655707,
           0.9449007037718321,
           0.9094571716564115,
           0.9259665223612834,
           0.9363248076650712,
           0.9395499432541968
          ],
          [
           0.8588737638329874,
           0.8439531963100564,
           0.8281908988470391,
           0.8301026005644548,
           0.9011500818638357,
           0.9154845250171488,
           0.9237912500906296,
           0.9150161876424919,
           0.9009175394789534,
           0.9999999999999996,
           0.8836500232209298,
           0.8847579170753556,
           0.8843794034327672,
           0.927550059626532,
           0.9189729897437239,
           0.9055101385336816,
           0.913054688054661,
           0.9109376617957169,
           0.9005960246448871,
           0.9069760677369405,
           0.8997489562674795,
           0.8895158094187581,
           0.9030200264638889,
           0.9238469150925865,
           0.9232477629492478,
           0.9250739677979408,
           0.9308483460856946,
           0.9422794450410463,
           0.9318846236457297,
           0.9145545788686953,
           0.9287353074984412,
           0.9379825834360721,
           0.9203918717628464,
           0.9374426182419204,
           0.9323247727409023,
           0.9239068862879118,
           0.9034342605000742,
           0.9449768135564391,
           0.9036712171595235,
           0.9026526254624547
          ],
          [
           0.9207053139965626,
           0.894821774735585,
           0.9040443427286164,
           0.8796998932363037,
           0.8806958325373314,
           0.8804935360440149,
           0.8825312450687063,
           0.8856229395788817,
           0.8959600926013466,
           0.8836500232209298,
           0.9999999999999996,
           0.9644715341897457,
           0.9658195672403367,
           0.9555348433453972,
           0.9595278420874297,
           0.9594048236773769,
           0.9669609742864814,
           0.9670709480596549,
           0.9628363348467978,
           0.9646316780177326,
           0.9662611941638795,
           0.9725694992741739,
           0.9693775722892739,
           0.941472478816985,
           0.9139161561362634,
           0.9280889806812986,
           0.9206167212972468,
           0.9262902776445365,
           0.907888627687625,
           0.9136596408042514,
           0.9517436564138652,
           0.9562701388615111,
           0.9524422863326274,
           0.9501951747113708,
           0.9376292343979828,
           0.9405432361671939,
           0.9315640657495035,
           0.9288915642047643,
           0.9456311226664765,
           0.9316860196700689
          ],
          [
           0.9146626043524778,
           0.8870188083916539,
           0.8833463094130228,
           0.8607916070147131,
           0.8725865975942391,
           0.8768531966593487,
           0.8759000479591071,
           0.8766520070680068,
           0.8816023552528506,
           0.8847579170753556,
           0.9644715341897457,
           0.9999999999999997,
           0.9689945404169347,
           0.9449152869041367,
           0.9539621171860759,
           0.9484255281123757,
           0.9635797837746823,
           0.9570351300982546,
           0.9591382658621134,
           0.964058756288145,
           0.9658979385316976,
           0.9653674038609317,
           0.9638626841638068,
           0.9367090943577613,
           0.9051753631116992,
           0.9142385324867993,
           0.9155801028320953,
           0.9231534259181576,
           0.9064225206676841,
           0.9142450119976346,
           0.9442510814914086,
           0.9506343331052355,
           0.9384841939297506,
           0.9408121405968559,
           0.9304753879391789,
           0.9264028395617883,
           0.9181612258503669,
           0.9195739382096196,
           0.9306175310013389,
           0.9168316717388294
          ],
          [
           0.9166837283890095,
           0.8898583678374692,
           0.89984883079902,
           0.8728632102758279,
           0.8769788400204023,
           0.8809459280309292,
           0.8775779901512896,
           0.8805625189798831,
           0.884472626215074,
           0.8843794034327672,
           0.9658195672403367,
           0.9689945404169347,
           1.0000000000000002,
           0.9483736967382161,
           0.9566697966988881,
           0.9551334311440256,
           0.965987882545408,
           0.9601764418422689,
           0.9628257526817882,
           0.9636888116888335,
           0.9677556668408751,
           0.9688233191211092,
           0.9669252899239924,
           0.9370942249300084,
           0.9097052349657848,
           0.9200117796121553,
           0.9203078992397066,
           0.9245821995161617,
           0.9069005860838741,
           0.9157760965844857,
           0.9468545419148339,
           0.9524162382734032,
           0.9458378990206789,
           0.9459937926210542,
           0.9345266084993656,
           0.93128033829007,
           0.9174742123449302,
           0.9227965422139518,
           0.9379306032221859,
           0.923240869096372
          ],
          [
           0.9216724376008392,
           0.904851737138229,
           0.9059334110042008,
           0.8938112086929618,
           0.9124304130552949,
           0.9154081565645943,
           0.9213205609184015,
           0.92077082335636,
           0.9224813018510173,
           0.927550059626532,
           0.9555348433453972,
           0.9449152869041367,
           0.9483736967382161,
           1.0000000000000002,
           0.9617303156902934,
           0.9626500723668427,
           0.9674875068942792,
           0.9639568798425373,
           0.9608738096212072,
           0.9523614637982873,
           0.9553611194176457,
           0.9583231130499968,
           0.9599377380487022,
           0.9540223040518366,
           0.9410847364270157,
           0.9538229240914116,
           0.9469432537100005,
           0.9516003467500286,
           0.9437177495035536,
           0.9285082380398004,
           0.9641426895633444,
           0.9696982554307767,
           0.9644631283690814,
           0.9636936287821984,
           0.9621908361154093,
           0.959577573884796,
           0.9467144916361013,
           0.9473160608878957,
           0.9554406230844336,
           0.9453825482404117
          ],
          [
           0.9131040709493133,
           0.8905388864066004,
           0.9003819003161546,
           0.8975009109924694,
           0.9216250021032456,
           0.9201218054892404,
           0.9270753597962077,
           0.9279992149172056,
           0.9304819437128239,
           0.9189729897437239,
           0.9595278420874297,
           0.9539621171860759,
           0.9566697966988881,
           0.9617303156902934,
           1.000000000000001,
           0.9696122753817721,
           0.9697980466005298,
           0.9681993353823908,
           0.9595942729301223,
           0.9614654695220899,
           0.9660171949985442,
           0.9632205944810758,
           0.9655978268105312,
           0.9583198575699388,
           0.946493494409902,
           0.9485639870217114,
           0.9517415575367085,
           0.9547643352884005,
           0.942481031021839,
           0.9406518755100132,
           0.9679399463318368,
           0.973084226714957,
           0.9675060179925148,
           0.9685243340335767,
           0.961948772665546,
           0.9647033677362639,
           0.9460730712710934,
           0.9480959457098159,
           0.9612908588500954,
           0.9512371978016465
          ],
          [
           0.9213453055929509,
           0.9012429224106218,
           0.9202903848833542,
           0.9144697754386341,
           0.9123456510487487,
           0.9124416219574195,
           0.9168338339720259,
           0.9206018065127552,
           0.9289102019171936,
           0.9055101385336816,
           0.9594048236773769,
           0.9484255281123757,
           0.9551334311440256,
           0.9626500723668427,
           0.9696122753817721,
           1.0000000000000002,
           0.9698796932260908,
           0.9724016178282903,
           0.9626997871762821,
           0.9554334980945255,
           0.9634532682160509,
           0.9609223611377009,
           0.9670322009194037,
           0.9504975620370787,
           0.9429406414218595,
           0.947580405926776,
           0.9479857021190627,
           0.9467047960151579,
           0.9331902485436169,
           0.9288225410669906,
           0.9660697464412364,
           0.9702426386884346,
           0.971850703828268,
           0.9688934876462041,
           0.9599978010554002,
           0.9643988671497303,
           0.94024598173628,
           0.9471842381562173,
           0.963976097678109,
           0.9569903779137425
          ],
          [
           0.9272479104148186,
           0.9056681223703587,
           0.9082890910574569,
           0.8959476152047056,
           0.9153526967242938,
           0.9205953255250569,
           0.921143217621166,
           0.9245761615295379,
           0.9276385575918669,
           0.913054688054661,
           0.9669609742864814,
           0.9635797837746823,
           0.965987882545408,
           0.9674875068942792,
           0.9697980466005298,
           0.9698796932260908,
           1.0000000000000004,
           0.9749307961771042,
           0.9684724749788922,
           0.9663589649554392,
           0.9693183733756805,
           0.9696219649578869,
           0.9722440608079899,
           0.9592065914308673,
           0.9454385357663928,
           0.9531677975772225,
           0.9530280507696761,
           0.9535531395563853,
           0.9383408088287628,
           0.9391884070796657,
           0.9687117802377184,
           0.972336337071497,
           0.9712654829501238,
           0.9686414849491262,
           0.9619378564503114,
           0.9623607468665651,
           0.9438222680906215,
           0.9491549100797679,
           0.9615843189644578,
           0.953809649414722
          ],
          [
           0.9269575506325205,
           0.9055407204632411,
           0.9105380419823582,
           0.9072584049009517,
           0.9076131680582178,
           0.9133841616955084,
           0.9134853501118947,
           0.9167993132404387,
           0.9232293677326208,
           0.9109376617957169,
           0.9670709480596549,
           0.9570351300982546,
           0.9601764418422689,
           0.9639568798425373,
           0.9681993353823908,
           0.9724016178282903,
           0.9749307961771042,
           0.9999999999999999,
           0.9663898048632599,
           0.9646008567372802,
           0.9672589646298216,
           0.9704893756411622,
           0.9715765106247787,
           0.9564678551490403,
           0.9405083192322837,
           0.9521333992129716,
           0.9456442535200132,
           0.948723845742742,
           0.9350994010800144,
           0.9332551157764893,
           0.96451833910801,
           0.9703812399923892,
           0.9644842802361243,
           0.9673080971285708,
           0.9569288384052019,
           0.9610929752177589,
           0.9464400435093561,
           0.9484615140985673,
           0.9643295136858674,
           0.9536275850022881
          ],
          [
           0.9356888590896395,
           0.9204169823046441,
           0.9172250959845687,
           0.8989945786528397,
           0.8880020447386668,
           0.8930019079165041,
           0.8915825273923047,
           0.8953939863794819,
           0.9036617654884034,
           0.9005960246448871,
           0.9628363348467978,
           0.9591382658621134,
           0.9628257526817882,
           0.9608738096212072,
           0.9595942729301223,
           0.9626997871762821,
           0.9684724749788922,
           0.9663898048632599,
           0.9999999999999996,
           0.958652100651091,
           0.9637608821483096,
           0.9647405102994568,
           0.9673164105228198,
           0.941926062115745,
           0.923124818382271,
           0.937080315586917,
           0.9324053302564184,
           0.9348045193565041,
           0.9237667841082766,
           0.9166654094443746,
           0.956512805253436,
           0.9597794614403201,
           0.95889491183874,
           0.9585116462052194,
           0.9495063898687021,
           0.9468291330538853,
           0.9292845701695611,
           0.9452230870779281,
           0.9524088593424024,
           0.9374073479177938
          ],
          [
           0.9189122907074687,
           0.8930837955631954,
           0.8762817746639591,
           0.8715612278405146,
           0.891322950865659,
           0.8957416641954065,
           0.8998340513938771,
           0.9007593826788173,
           0.9141044229364548,
           0.9069760677369405,
           0.9646316780177326,
           0.964058756288145,
           0.9636888116888335,
           0.9523614637982873,
           0.9614654695220899,
           0.9554334980945255,
           0.9663589649554392,
           0.9646008567372802,
           0.958652100651091,
           1,
           0.9642961567093105,
           0.9671682565736295,
           0.9672785268645332,
           0.9479383883934803,
           0.9252899434783661,
           0.9343479371029839,
           0.9300929135027093,
           0.9390041093491714,
           0.9298087909026393,
           0.9285776822749091,
           0.9563287400089371,
           0.9649939832652688,
           0.9494902491415051,
           0.9581651160918265,
           0.9472193706322687,
           0.9427268803110649,
           0.9312307726916661,
           0.9387252033659579,
           0.9466968629611678,
           0.9342915631446347
          ],
          [
           0.9175049667949811,
           0.8922403873336198,
           0.9059143356050151,
           0.886391204311779,
           0.8972503603589224,
           0.9004326527144644,
           0.9003580940509238,
           0.9019503961363087,
           0.9032317513779473,
           0.8997489562674795,
           0.9662611941638795,
           0.9658979385316976,
           0.9677556668408751,
           0.9553611194176457,
           0.9660171949985442,
           0.9634532682160509,
           0.9693183733756805,
           0.9672589646298216,
           0.9637608821483096,
           0.9642961567093105,
           0.9999999999999997,
           0.9671522568624593,
           0.969064140414138,
           0.9483029360824254,
           0.9269460961467447,
           0.9355683560773986,
           0.9355591239519663,
           0.939467238208137,
           0.9223579730448354,
           0.9280376476756363,
           0.9571118566940732,
           0.9629784573247403,
           0.9570993340866469,
           0.9570291003401752,
           0.9484383970611312,
           0.9475049543631457,
           0.9322732530610475,
           0.934274511692533,
           0.9491456882454882,
           0.9357682869156035
          ],
          [
           0.9229088903599857,
           0.8990254516058942,
           0.9013876287512762,
           0.8849355108995632,
           0.8892595695837047,
           0.8909088544263987,
           0.8933291741596789,
           0.8982265844235793,
           0.9056600807038618,
           0.8895158094187581,
           0.9725694992741739,
           0.9653674038609317,
           0.9688233191211092,
           0.9583231130499968,
           0.9632205944810758,
           0.9609223611377009,
           0.9696219649578869,
           0.9704893756411622,
           0.9647405102994568,
           0.9671682565736295,
           0.9671522568624593,
           0.9999999999999999,
           0.9728643548642013,
           0.9455060586430322,
           0.9201437724297308,
           0.9351722327739472,
           0.9309948546294223,
           0.9336408620927068,
           0.9162813989415348,
           0.9215177443918563,
           0.9576340440350057,
           0.9606486349134004,
           0.9574455034736943,
           0.9568399968687876,
           0.9460151673919402,
           0.9463002576846882,
           0.9303923173639402,
           0.9340749724934025,
           0.9515480643078574,
           0.942237121884142
          ],
          [
           0.925685853941635,
           0.9021424873934876,
           0.9096107351993981,
           0.8922162471686577,
           0.8947584822922773,
           0.8971719646699727,
           0.8993846480202133,
           0.9018816231544308,
           0.9109069326943344,
           0.9030200264638889,
           0.9693775722892739,
           0.9638626841638068,
           0.9669252899239924,
           0.9599377380487022,
           0.9655978268105312,
           0.9670322009194037,
           0.9722440608079899,
           0.9715765106247787,
           0.9673164105228198,
           0.9672785268645332,
           0.969064140414138,
           0.9728643548642013,
           1.0000000000000007,
           0.9500169964238233,
           0.9281294013947746,
           0.9397745729194737,
           0.9346801226242277,
           0.9393850551020795,
           0.9249868931318149,
           0.9247954005821053,
           0.960632292729354,
           0.9660199297607214,
           0.9611290596595496,
           0.9594493014979367,
           0.9512163173404657,
           0.9508942953814371,
           0.9373959847773021,
           0.9415671792628821,
           0.9554092023572235,
           0.9418906086066439
          ],
          [
           0.9012484773197671,
           0.8812607878855833,
           0.8768585503273311,
           0.8656456793984332,
           0.9434942406100676,
           0.9462437869799227,
           0.9474038495732552,
           0.9524292882296613,
           0.9254777337561317,
           0.9238469150925865,
           0.941472478816985,
           0.9367090943577613,
           0.9370942249300084,
           0.9540223040518366,
           0.9583198575699388,
           0.9504975620370787,
           0.9592065914308673,
           0.9564678551490403,
           0.941926062115745,
           0.9479383883934803,
           0.9483029360824254,
           0.9455060586430322,
           0.9500169964238233,
           0.9999999999999996,
           0.9578360142257246,
           0.9642032027087184,
           0.9624744177710784,
           0.9664284295439347,
           0.9491939749537711,
           0.957789654606475,
           0.9670562344033514,
           0.967111501962307,
           0.9604639786103176,
           0.9547705852613751,
           0.9666718988408217,
           0.9547637204017723,
           0.9522654052340809,
           0.9415294052649261,
           0.9458783007698802,
           0.9385589247498756
          ],
          [
           0.8832233881870536,
           0.8676820733827068,
           0.8648075616598683,
           0.8695180176802917,
           0.956151356615254,
           0.9500323871326145,
           0.9652436609800124,
           0.9640824720360744,
           0.9379283076827643,
           0.9232477629492478,
           0.9139161561362634,
           0.9051753631116992,
           0.9097052349657848,
           0.9410847364270157,
           0.946493494409902,
           0.9429406414218595,
           0.9454385357663928,
           0.9405083192322837,
           0.923124818382271,
           0.9252899434783661,
           0.9269460961467447,
           0.9201437724297308,
           0.9281294013947746,
           0.9578360142257246,
           0.9999999999999999,
           0.9650093015820601,
           0.9614972896543088,
           0.9669762713068286,
           0.9540022614331235,
           0.9631343425607765,
           0.9583578933379152,
           0.9601393820218985,
           0.9582993991566513,
           0.95263091362855,
           0.9635039045437352,
           0.9587561560714268,
           0.9391041488448453,
           0.9379770822549802,
           0.9434654645546592,
           0.9453102207687962
          ],
          [
           0.903784867643344,
           0.8890485539159574,
           0.884549908465359,
           0.8833603911175228,
           0.9494800993293346,
           0.9594294570870521,
           0.9547676003962489,
           0.9597405653298404,
           0.9360038287721154,
           0.9250739677979408,
           0.9280889806812986,
           0.9142385324867993,
           0.9200117796121553,
           0.9538229240914116,
           0.9485639870217114,
           0.947580405926776,
           0.9531677975772225,
           0.9521333992129716,
           0.937080315586917,
           0.9343479371029839,
           0.9355683560773986,
           0.9351722327739472,
           0.9397745729194737,
           0.9642032027087184,
           0.9650093015820601,
           1.0000000000000002,
           0.9700095454740227,
           0.9737302797182847,
           0.9531484432914459,
           0.9580806510877583,
           0.9661037853128415,
           0.9647298035547243,
           0.9663923241011798,
           0.9562615292193958,
           0.9689136542753819,
           0.9590942310210822,
           0.9614243701362821,
           0.9488994626665028,
           0.9496294474666304,
           0.9440322178359065
          ],
          [
           0.8875788081041748,
           0.8695394050992479,
           0.873786910718624,
           0.8712681301692318,
           0.9602365151007716,
           0.9644650169790142,
           0.9669305468830615,
           0.9651062317177769,
           0.9440333964586648,
           0.9308483460856946,
           0.9206167212972468,
           0.9155801028320953,
           0.9203078992397066,
           0.9469432537100005,
           0.9517415575367085,
           0.9479857021190627,
           0.9530280507696761,
           0.9456442535200132,
           0.9324053302564184,
           0.9300929135027093,
           0.9355591239519663,
           0.9309948546294223,
           0.9346801226242277,
           0.9624744177710784,
           0.9614972896543088,
           0.9700095454740227,
           1.0000000000000004,
           0.9723027978669463,
           0.9543090649690535,
           0.9681058336451521,
           0.9627423561036771,
           0.9653234367438739,
           0.9628437122987948,
           0.9557914778996803,
           0.9688564600217975,
           0.9604887993247863,
           0.9417348781365404,
           0.9416120751938472,
           0.9468884261084692,
           0.9482645028932721
          ],
          [
           0.8920186419899909,
           0.8745147148207385,
           0.8694564094958258,
           0.8668402796849651,
           0.9572857388441316,
           0.9657912098554494,
           0.9567550807233517,
           0.9648357588900257,
           0.9335405242134385,
           0.9422794450410463,
           0.9262902776445365,
           0.9231534259181576,
           0.9245821995161617,
           0.9516003467500286,
           0.9547643352884005,
           0.9467047960151579,
           0.9535531395563853,
           0.948723845742742,
           0.9348045193565041,
           0.9390041093491714,
           0.939467238208137,
           0.9336408620927068,
           0.9393850551020795,
           0.9664284295439347,
           0.9669762713068286,
           0.9737302797182847,
           0.9723027978669463,
           1.0000000000000002,
           0.9547567951365921,
           0.9694348079392395,
           0.9648877858566793,
           0.9657423711047316,
           0.9612771345058305,
           0.9588549975929472,
           0.9695810469784715,
           0.9586565488476135,
           0.9506775077727018,
           0.9502135030704398,
           0.9455912169197619,
           0.9422101644444879
          ],
          [
           0.8800296641221113,
           0.8636950399893021,
           0.8528124761954126,
           0.85707636748839,
           0.9344795556041504,
           0.9444927867795152,
           0.9442653197537043,
           0.9441903314437056,
           0.9289088774974316,
           0.9318846236457297,
           0.907888627687625,
           0.9064225206676841,
           0.9069005860838741,
           0.9437177495035536,
           0.942481031021839,
           0.9331902485436169,
           0.9383408088287628,
           0.9350994010800144,
           0.9237667841082766,
           0.9298087909026393,
           0.9223579730448354,
           0.9162813989415348,
           0.9249868931318149,
           0.9491939749537711,
           0.9540022614331235,
           0.9531484432914459,
           0.9543090649690535,
           0.9547567951365921,
           1.0000000000000002,
           0.9412188635657154,
           0.951963802071276,
           0.9570219555515368,
           0.9461134307442781,
           0.9503883656413625,
           0.9550670258910402,
           0.9404379941745568,
           0.9285896680661098,
           0.9530320534871397,
           0.9344905454957566,
           0.9333567891471886
          ],
          [
           0.8741736228315061,
           0.8541811302715704,
           0.8488151480189701,
           0.8413114455111601,
           0.942525881033657,
           0.9679658738335016,
           0.9570326473329027,
           0.9599160985495988,
           0.9158072486750197,
           0.9145545788686953,
           0.9136596408042514,
           0.9142450119976346,
           0.9157760965844857,
           0.9285082380398004,
           0.9406518755100132,
           0.9288225410669906,
           0.9391884070796657,
           0.9332551157764893,
           0.9166654094443746,
           0.9285776822749091,
           0.9280376476756363,
           0.9215177443918563,
           0.9247954005821053,
           0.957789654606475,
           0.9631343425607765,
           0.9580806510877583,
           0.9681058336451521,
           0.9694348079392395,
           0.9412188635657154,
           0.9999999999999999,
           0.9555003699083571,
           0.9511426822076199,
           0.9407091317761147,
           0.9364515958758101,
           0.9552305113630647,
           0.9386515642939751,
           0.9330353658217342,
           0.9192316613662159,
           0.927390683036413,
           0.9236465642220678
          ],
          [
           0.9141625140259227,
           0.8940911796921415,
           0.8952524193352681,
           0.891916293107573,
           0.9386137054301037,
           0.9436135735571669,
           0.9445252645302257,
           0.9465701714148437,
           0.937934901951968,
           0.9287353074984412,
           0.9517436564138652,
           0.9442510814914086,
           0.9468545419148339,
           0.9641426895633444,
           0.9679399463318368,
           0.9660697464412364,
           0.9687117802377184,
           0.96451833910801,
           0.956512805253436,
           0.9563287400089371,
           0.9571118566940732,
           0.9576340440350057,
           0.960632292729354,
           0.9670562344033514,
           0.9583578933379152,
           0.9661037853128415,
           0.9627423561036771,
           0.9648877858566793,
           0.951963802071276,
           0.9555003699083571,
           1.0000000000000002,
           0.974596211405803,
           0.9697547965205139,
           0.968937768250881,
           0.9680845777710257,
           0.9670898700435301,
           0.9524653956788628,
           0.9562036681443469,
           0.9626248258827143,
           0.9549740885622661
          ],
          [
           0.9177850127445962,
           0.8969435774220899,
           0.8951287779431419,
           0.8978892251657791,
           0.9342373317549328,
           0.9392437272401427,
           0.9434229762871754,
           0.9447665903095182,
           0.9441007687397394,
           0.9379825834360721,
           0.9562701388615111,
           0.9506343331052355,
           0.9524162382734032,
           0.9696982554307767,
           0.973084226714957,
           0.9702426386884346,
           0.972336337071497,
           0.9703812399923892,
           0.9597794614403201,
           0.9649939832652688,
           0.9629784573247403,
           0.9606486349134004,
           0.9660199297607214,
           0.967111501962307,
           0.9601393820218985,
           0.9647298035547243,
           0.9653234367438739,
           0.9657423711047316,
           0.9570219555515368,
           0.9511426822076199,
           0.974596211405803,
           1,
           0.9720501444209445,
           0.9747554914322543,
           0.9724070346497787,
           0.9699962973229751,
           0.9521059078045606,
           0.9633051009319027,
           0.9661770231552854,
           0.9586447224020049
          ],
          [
           0.9169512445505681,
           0.8991097078002751,
           0.9161951376725481,
           0.9106290899413939,
           0.9350280283564373,
           0.9287507235756665,
           0.9363609075627637,
           0.9426206404293953,
           0.9364301217213992,
           0.9203918717628464,
           0.9524422863326274,
           0.9384841939297506,
           0.9458378990206789,
           0.9644631283690814,
           0.9675060179925148,
           0.971850703828268,
           0.9712654829501238,
           0.9644842802361243,
           0.95889491183874,
           0.9494902491415051,
           0.9570993340866469,
           0.9574455034736943,
           0.9611290596595496,
           0.9604639786103176,
           0.9582993991566513,
           0.9663923241011798,
           0.9628437122987948,
           0.9612771345058305,
           0.9461134307442781,
           0.9407091317761147,
           0.9697547965205139,
           0.9720501444209445,
           0.999999999999999,
           0.9701383753359953,
           0.9682057006441931,
           0.9709377958415711,
           0.9500249574445525,
           0.953036317309743,
           0.9681607770712568,
           0.9595523721691496
          ],
          [
           0.915132592427834,
           0.8963865475279815,
           0.9030400147777475,
           0.9052458650480955,
           0.9224222161126802,
           0.925253465286134,
           0.9348310416315678,
           0.9350632014874021,
           0.9438271089557786,
           0.9374426182419204,
           0.9501951747113708,
           0.9408121405968559,
           0.9459937926210542,
           0.9636936287821984,
           0.9685243340335767,
           0.9688934876462041,
           0.9686414849491262,
           0.9673080971285708,
           0.9585116462052194,
           0.9581651160918265,
           0.9570291003401752,
           0.9568399968687876,
           0.9594493014979367,
           0.9547705852613751,
           0.95263091362855,
           0.9562615292193958,
           0.9557914778996803,
           0.9588549975929472,
           0.9503883656413625,
           0.9364515958758101,
           0.968937768250881,
           0.9747554914322543,
           0.9701383753359953,
           0.9999999999999998,
           0.9689341470602519,
           0.9699373275107593,
           0.9419763169423713,
           0.9606165234231229,
           0.9660505819980761,
           0.9605088355359914
          ],
          [
           0.9077037423423502,
           0.890446213920476,
           0.8919797806802291,
           0.891665101324577,
           0.9450798422363115,
           0.9464086184052403,
           0.9522080503194394,
           0.955000045881898,
           0.9403696550655707,
           0.9323247727409023,
           0.9376292343979828,
           0.9304753879391789,
           0.9345266084993656,
           0.9621908361154093,
           0.961948772665546,
           0.9599978010554002,
           0.9619378564503114,
           0.9569288384052019,
           0.9495063898687021,
           0.9472193706322687,
           0.9484383970611312,
           0.9460151673919402,
           0.9512163173404657,
           0.9666718988408217,
           0.9635039045437352,
           0.9689136542753819,
           0.9688564600217975,
           0.9695810469784715,
           0.9550670258910402,
           0.9552305113630647,
           0.9680845777710257,
           0.9724070346497787,
           0.9682057006441931,
           0.9689341470602519,
           1.0000000000000002,
           0.9675065577634409,
           0.9478486721845071,
           0.9615727754015554,
           0.9596019717978304,
           0.953540965472739
          ],
          [
           0.9016004891768445,
           0.8845970987811229,
           0.8986797336087448,
           0.90480370931126,
           0.9353996741158538,
           0.9331235330236299,
           0.9431613221789812,
           0.9447096575759159,
           0.9449007037718321,
           0.9239068862879118,
           0.9405432361671939,
           0.9264028395617883,
           0.93128033829007,
           0.959577573884796,
           0.9647033677362639,
           0.9643988671497303,
           0.9623607468665651,
           0.9610929752177589,
           0.9468291330538853,
           0.9427268803110649,
           0.9475049543631457,
           0.9463002576846882,
           0.9508942953814371,
           0.9547637204017723,
           0.9587561560714268,
           0.9590942310210822,
           0.9604887993247863,
           0.9586565488476135,
           0.9404379941745568,
           0.9386515642939751,
           0.9670898700435301,
           0.9699962973229751,
           0.9709377958415711,
           0.9699373275107593,
           0.9675065577634409,
           1.0000000000000002,
           0.9473446084334083,
           0.9506500276360575,
           0.9655086833849217,
           0.9623814150943603
          ],
          [
           0.8904942695120714,
           0.8725719930596681,
           0.8751256838436339,
           0.8736818072185585,
           0.9206327240321993,
           0.9249929364427657,
           0.9225597711952219,
           0.9268698864278782,
           0.9094571716564115,
           0.9034342605000742,
           0.9315640657495035,
           0.9181612258503669,
           0.9174742123449302,
           0.9467144916361013,
           0.9460730712710934,
           0.94024598173628,
           0.9438222680906215,
           0.9464400435093561,
           0.9292845701695611,
           0.9312307726916661,
           0.9322732530610475,
           0.9303923173639402,
           0.9373959847773021,
           0.9522654052340809,
           0.9391041488448453,
           0.9614243701362821,
           0.9417348781365404,
           0.9506775077727018,
           0.9285896680661098,
           0.9330353658217342,
           0.9524653956788628,
           0.9521059078045606,
           0.9500249574445525,
           0.9419763169423713,
           0.9478486721845071,
           0.9473446084334083,
           1,
           0.9312831410848618,
           0.9347702396488118,
           0.9282800900706522
          ],
          [
           0.9148237487119145,
           0.9034238518924587,
           0.8854344895848653,
           0.8833000928536177,
           0.9088846499073513,
           0.9151061438950858,
           0.9243811636967093,
           0.9222886951078495,
           0.9259665223612834,
           0.9449768135564391,
           0.9288915642047643,
           0.9195739382096196,
           0.9227965422139518,
           0.9473160608878957,
           0.9480959457098159,
           0.9471842381562173,
           0.9491549100797679,
           0.9484615140985673,
           0.9452230870779281,
           0.9387252033659579,
           0.934274511692533,
           0.9340749724934025,
           0.9415671792628821,
           0.9415294052649261,
           0.9379770822549802,
           0.9488994626665028,
           0.9416120751938472,
           0.9502135030704398,
           0.9530320534871397,
           0.9192316613662159,
           0.9562036681443469,
           0.9633051009319027,
           0.953036317309743,
           0.9606165234231229,
           0.9615727754015554,
           0.9506500276360575,
           0.9312831410848618,
           0.9999999999999991,
           0.9437743411195921,
           0.9361961609087076
          ],
          [
           0.9121778318475785,
           0.8934488296988153,
           0.9064480711613557,
           0.9117231485492979,
           0.917140812912173,
           0.9187514177604508,
           0.9240055502469305,
           0.9282537701619227,
           0.9363248076650712,
           0.9036712171595235,
           0.9456311226664765,
           0.9306175310013389,
           0.9379306032221859,
           0.9554406230844336,
           0.9612908588500954,
           0.963976097678109,
           0.9615843189644578,
           0.9643295136858674,
           0.9524088593424024,
           0.9466968629611678,
           0.9491456882454882,
           0.9515480643078574,
           0.9554092023572235,
           0.9458783007698802,
           0.9434654645546592,
           0.9496294474666304,
           0.9468884261084692,
           0.9455912169197619,
           0.9344905454957566,
           0.927390683036413,
           0.9626248258827143,
           0.9661770231552854,
           0.9681607770712568,
           0.9660505819980761,
           0.9596019717978304,
           0.9655086833849217,
           0.9347702396488118,
           0.9437743411195921,
           0.9999999999999999,
           0.9600563730224123
          ],
          [
           0.8929469338269063,
           0.8742631437294263,
           0.8846191832051943,
           0.8921704376444477,
           0.917979158078906,
           0.9159847169387746,
           0.9264885132574564,
           0.9315360312487089,
           0.9395499432541968,
           0.9026526254624547,
           0.9316860196700689,
           0.9168316717388294,
           0.923240869096372,
           0.9453825482404117,
           0.9512371978016465,
           0.9569903779137425,
           0.953809649414722,
           0.9536275850022881,
           0.9374073479177938,
           0.9342915631446347,
           0.9357682869156035,
           0.942237121884142,
           0.9418906086066439,
           0.9385589247498756,
           0.9453102207687962,
           0.9440322178359065,
           0.9482645028932721,
           0.9422101644444879,
           0.9333567891471886,
           0.9236465642220678,
           0.9549740885622661,
           0.9586447224020049,
           0.9595523721691496,
           0.9605088355359914,
           0.953540965472739,
           0.9623814150943603,
           0.9282800900706522,
           0.9361961609087076,
           0.9600563730224123,
           1.0000000000000002
          ]
         ]
        }
       ],
       "layout": {
        "height": 800,
        "hovermode": "closest",
        "legend": {
         "x": 0.7,
         "y": 0.7
        },
        "paper_bgcolor": "rgba(0,0,0,0)",
        "plot_bgcolor": "rgba(0,0,0,0)",
        "showlegend": false,
        "template": {
         "data": {
          "bar": [
           {
            "error_x": {
             "color": "#2a3f5f"
            },
            "error_y": {
             "color": "#2a3f5f"
            },
            "marker": {
             "line": {
              "color": "#E5ECF6",
              "width": 0.5
             },
             "pattern": {
              "fillmode": "overlay",
              "size": 10,
              "solidity": 0.2
             }
            },
            "type": "bar"
           }
          ],
          "barpolar": [
           {
            "marker": {
             "line": {
              "color": "#E5ECF6",
              "width": 0.5
             },
             "pattern": {
              "fillmode": "overlay",
              "size": 10,
              "solidity": 0.2
             }
            },
            "type": "barpolar"
           }
          ],
          "carpet": [
           {
            "aaxis": {
             "endlinecolor": "#2a3f5f",
             "gridcolor": "white",
             "linecolor": "white",
             "minorgridcolor": "white",
             "startlinecolor": "#2a3f5f"
            },
            "baxis": {
             "endlinecolor": "#2a3f5f",
             "gridcolor": "white",
             "linecolor": "white",
             "minorgridcolor": "white",
             "startlinecolor": "#2a3f5f"
            },
            "type": "carpet"
           }
          ],
          "choropleth": [
           {
            "colorbar": {
             "outlinewidth": 0,
             "ticks": ""
            },
            "type": "choropleth"
           }
          ],
          "contour": [
           {
            "colorbar": {
             "outlinewidth": 0,
             "ticks": ""
            },
            "colorscale": [
             [
              0,
              "#0d0887"
             ],
             [
              0.1111111111111111,
              "#46039f"
             ],
             [
              0.2222222222222222,
              "#7201a8"
             ],
             [
              0.3333333333333333,
              "#9c179e"
             ],
             [
              0.4444444444444444,
              "#bd3786"
             ],
             [
              0.5555555555555556,
              "#d8576b"
             ],
             [
              0.6666666666666666,
              "#ed7953"
             ],
             [
              0.7777777777777778,
              "#fb9f3a"
             ],
             [
              0.8888888888888888,
              "#fdca26"
             ],
             [
              1,
              "#f0f921"
             ]
            ],
            "type": "contour"
           }
          ],
          "contourcarpet": [
           {
            "colorbar": {
             "outlinewidth": 0,
             "ticks": ""
            },
            "type": "contourcarpet"
           }
          ],
          "heatmap": [
           {
            "colorbar": {
             "outlinewidth": 0,
             "ticks": ""
            },
            "colorscale": [
             [
              0,
              "#0d0887"
             ],
             [
              0.1111111111111111,
              "#46039f"
             ],
             [
              0.2222222222222222,
              "#7201a8"
             ],
             [
              0.3333333333333333,
              "#9c179e"
             ],
             [
              0.4444444444444444,
              "#bd3786"
             ],
             [
              0.5555555555555556,
              "#d8576b"
             ],
             [
              0.6666666666666666,
              "#ed7953"
             ],
             [
              0.7777777777777778,
              "#fb9f3a"
             ],
             [
              0.8888888888888888,
              "#fdca26"
             ],
             [
              1,
              "#f0f921"
             ]
            ],
            "type": "heatmap"
           }
          ],
          "heatmapgl": [
           {
            "colorbar": {
             "outlinewidth": 0,
             "ticks": ""
            },
            "colorscale": [
             [
              0,
              "#0d0887"
             ],
             [
              0.1111111111111111,
              "#46039f"
             ],
             [
              0.2222222222222222,
              "#7201a8"
             ],
             [
              0.3333333333333333,
              "#9c179e"
             ],
             [
              0.4444444444444444,
              "#bd3786"
             ],
             [
              0.5555555555555556,
              "#d8576b"
             ],
             [
              0.6666666666666666,
              "#ed7953"
             ],
             [
              0.7777777777777778,
              "#fb9f3a"
             ],
             [
              0.8888888888888888,
              "#fdca26"
             ],
             [
              1,
              "#f0f921"
             ]
            ],
            "type": "heatmapgl"
           }
          ],
          "histogram": [
           {
            "marker": {
             "pattern": {
              "fillmode": "overlay",
              "size": 10,
              "solidity": 0.2
             }
            },
            "type": "histogram"
           }
          ],
          "histogram2d": [
           {
            "colorbar": {
             "outlinewidth": 0,
             "ticks": ""
            },
            "colorscale": [
             [
              0,
              "#0d0887"
             ],
             [
              0.1111111111111111,
              "#46039f"
             ],
             [
              0.2222222222222222,
              "#7201a8"
             ],
             [
              0.3333333333333333,
              "#9c179e"
             ],
             [
              0.4444444444444444,
              "#bd3786"
             ],
             [
              0.5555555555555556,
              "#d8576b"
             ],
             [
              0.6666666666666666,
              "#ed7953"
             ],
             [
              0.7777777777777778,
              "#fb9f3a"
             ],
             [
              0.8888888888888888,
              "#fdca26"
             ],
             [
              1,
              "#f0f921"
             ]
            ],
            "type": "histogram2d"
           }
          ],
          "histogram2dcontour": [
           {
            "colorbar": {
             "outlinewidth": 0,
             "ticks": ""
            },
            "colorscale": [
             [
              0,
              "#0d0887"
             ],
             [
              0.1111111111111111,
              "#46039f"
             ],
             [
              0.2222222222222222,
              "#7201a8"
             ],
             [
              0.3333333333333333,
              "#9c179e"
             ],
             [
              0.4444444444444444,
              "#bd3786"
             ],
             [
              0.5555555555555556,
              "#d8576b"
             ],
             [
              0.6666666666666666,
              "#ed7953"
             ],
             [
              0.7777777777777778,
              "#fb9f3a"
             ],
             [
              0.8888888888888888,
              "#fdca26"
             ],
             [
              1,
              "#f0f921"
             ]
            ],
            "type": "histogram2dcontour"
           }
          ],
          "mesh3d": [
           {
            "colorbar": {
             "outlinewidth": 0,
             "ticks": ""
            },
            "type": "mesh3d"
           }
          ],
          "parcoords": [
           {
            "line": {
             "colorbar": {
              "outlinewidth": 0,
              "ticks": ""
             }
            },
            "type": "parcoords"
           }
          ],
          "pie": [
           {
            "automargin": true,
            "type": "pie"
           }
          ],
          "scatter": [
           {
            "marker": {
             "colorbar": {
              "outlinewidth": 0,
              "ticks": ""
             }
            },
            "type": "scatter"
           }
          ],
          "scatter3d": [
           {
            "line": {
             "colorbar": {
              "outlinewidth": 0,
              "ticks": ""
             }
            },
            "marker": {
             "colorbar": {
              "outlinewidth": 0,
              "ticks": ""
             }
            },
            "type": "scatter3d"
           }
          ],
          "scattercarpet": [
           {
            "marker": {
             "colorbar": {
              "outlinewidth": 0,
              "ticks": ""
             }
            },
            "type": "scattercarpet"
           }
          ],
          "scattergeo": [
           {
            "marker": {
             "colorbar": {
              "outlinewidth": 0,
              "ticks": ""
             }
            },
            "type": "scattergeo"
           }
          ],
          "scattergl": [
           {
            "marker": {
             "colorbar": {
              "outlinewidth": 0,
              "ticks": ""
             }
            },
            "type": "scattergl"
           }
          ],
          "scattermapbox": [
           {
            "marker": {
             "colorbar": {
              "outlinewidth": 0,
              "ticks": ""
             }
            },
            "type": "scattermapbox"
           }
          ],
          "scatterpolar": [
           {
            "marker": {
             "colorbar": {
              "outlinewidth": 0,
              "ticks": ""
             }
            },
            "type": "scatterpolar"
           }
          ],
          "scatterpolargl": [
           {
            "marker": {
             "colorbar": {
              "outlinewidth": 0,
              "ticks": ""
             }
            },
            "type": "scatterpolargl"
           }
          ],
          "scatterternary": [
           {
            "marker": {
             "colorbar": {
              "outlinewidth": 0,
              "ticks": ""
             }
            },
            "type": "scatterternary"
           }
          ],
          "surface": [
           {
            "colorbar": {
             "outlinewidth": 0,
             "ticks": ""
            },
            "colorscale": [
             [
              0,
              "#0d0887"
             ],
             [
              0.1111111111111111,
              "#46039f"
             ],
             [
              0.2222222222222222,
              "#7201a8"
             ],
             [
              0.3333333333333333,
              "#9c179e"
             ],
             [
              0.4444444444444444,
              "#bd3786"
             ],
             [
              0.5555555555555556,
              "#d8576b"
             ],
             [
              0.6666666666666666,
              "#ed7953"
             ],
             [
              0.7777777777777778,
              "#fb9f3a"
             ],
             [
              0.8888888888888888,
              "#fdca26"
             ],
             [
              1,
              "#f0f921"
             ]
            ],
            "type": "surface"
           }
          ],
          "table": [
           {
            "cells": {
             "fill": {
              "color": "#EBF0F8"
             },
             "line": {
              "color": "white"
             }
            },
            "header": {
             "fill": {
              "color": "#C8D4E3"
             },
             "line": {
              "color": "white"
             }
            },
            "type": "table"
           }
          ]
         },
         "layout": {
          "annotationdefaults": {
           "arrowcolor": "#2a3f5f",
           "arrowhead": 0,
           "arrowwidth": 1
          },
          "autotypenumbers": "strict",
          "coloraxis": {
           "colorbar": {
            "outlinewidth": 0,
            "ticks": ""
           }
          },
          "colorscale": {
           "diverging": [
            [
             0,
             "#8e0152"
            ],
            [
             0.1,
             "#c51b7d"
            ],
            [
             0.2,
             "#de77ae"
            ],
            [
             0.3,
             "#f1b6da"
            ],
            [
             0.4,
             "#fde0ef"
            ],
            [
             0.5,
             "#f7f7f7"
            ],
            [
             0.6,
             "#e6f5d0"
            ],
            [
             0.7,
             "#b8e186"
            ],
            [
             0.8,
             "#7fbc41"
            ],
            [
             0.9,
             "#4d9221"
            ],
            [
             1,
             "#276419"
            ]
           ],
           "sequential": [
            [
             0,
             "#0d0887"
            ],
            [
             0.1111111111111111,
             "#46039f"
            ],
            [
             0.2222222222222222,
             "#7201a8"
            ],
            [
             0.3333333333333333,
             "#9c179e"
            ],
            [
             0.4444444444444444,
             "#bd3786"
            ],
            [
             0.5555555555555556,
             "#d8576b"
            ],
            [
             0.6666666666666666,
             "#ed7953"
            ],
            [
             0.7777777777777778,
             "#fb9f3a"
            ],
            [
             0.8888888888888888,
             "#fdca26"
            ],
            [
             1,
             "#f0f921"
            ]
           ],
           "sequentialminus": [
            [
             0,
             "#0d0887"
            ],
            [
             0.1111111111111111,
             "#46039f"
            ],
            [
             0.2222222222222222,
             "#7201a8"
            ],
            [
             0.3333333333333333,
             "#9c179e"
            ],
            [
             0.4444444444444444,
             "#bd3786"
            ],
            [
             0.5555555555555556,
             "#d8576b"
            ],
            [
             0.6666666666666666,
             "#ed7953"
            ],
            [
             0.7777777777777778,
             "#fb9f3a"
            ],
            [
             0.8888888888888888,
             "#fdca26"
            ],
            [
             1,
             "#f0f921"
            ]
           ]
          },
          "colorway": [
           "#636efa",
           "#EF553B",
           "#00cc96",
           "#ab63fa",
           "#FFA15A",
           "#19d3f3",
           "#FF6692",
           "#B6E880",
           "#FF97FF",
           "#FECB52"
          ],
          "font": {
           "color": "#2a3f5f"
          },
          "geo": {
           "bgcolor": "white",
           "lakecolor": "white",
           "landcolor": "#E5ECF6",
           "showlakes": true,
           "showland": true,
           "subunitcolor": "white"
          },
          "hoverlabel": {
           "align": "left"
          },
          "hovermode": "closest",
          "mapbox": {
           "style": "light"
          },
          "paper_bgcolor": "white",
          "plot_bgcolor": "#E5ECF6",
          "polar": {
           "angularaxis": {
            "gridcolor": "white",
            "linecolor": "white",
            "ticks": ""
           },
           "bgcolor": "#E5ECF6",
           "radialaxis": {
            "gridcolor": "white",
            "linecolor": "white",
            "ticks": ""
           }
          },
          "scene": {
           "xaxis": {
            "backgroundcolor": "#E5ECF6",
            "gridcolor": "white",
            "gridwidth": 2,
            "linecolor": "white",
            "showbackground": true,
            "ticks": "",
            "zerolinecolor": "white"
           },
           "yaxis": {
            "backgroundcolor": "#E5ECF6",
            "gridcolor": "white",
            "gridwidth": 2,
            "linecolor": "white",
            "showbackground": true,
            "ticks": "",
            "zerolinecolor": "white"
           },
           "zaxis": {
            "backgroundcolor": "#E5ECF6",
            "gridcolor": "white",
            "gridwidth": 2,
            "linecolor": "white",
            "showbackground": true,
            "ticks": "",
            "zerolinecolor": "white"
           }
          },
          "shapedefaults": {
           "line": {
            "color": "#2a3f5f"
           }
          },
          "ternary": {
           "aaxis": {
            "gridcolor": "white",
            "linecolor": "white",
            "ticks": ""
           },
           "baxis": {
            "gridcolor": "white",
            "linecolor": "white",
            "ticks": ""
           },
           "bgcolor": "#E5ECF6",
           "caxis": {
            "gridcolor": "white",
            "linecolor": "white",
            "ticks": ""
           }
          },
          "title": {
           "x": 0.05
          },
          "xaxis": {
           "automargin": true,
           "gridcolor": "white",
           "linecolor": "white",
           "ticks": "",
           "title": {
            "standoff": 15
           },
           "zerolinecolor": "white",
           "zerolinewidth": 2
          },
          "yaxis": {
           "automargin": true,
           "gridcolor": "white",
           "linecolor": "white",
           "ticks": "",
           "title": {
            "standoff": 15
           },
           "zerolinecolor": "white",
           "zerolinewidth": 2
          }
         }
        },
        "width": 900,
        "xaxis": {
         "anchor": "y",
         "domain": [
          0,
          0.95
         ],
         "fixedrange": false,
         "mirror": false,
         "showgrid": false,
         "showline": false,
         "showticklabels": false,
         "type": "linear",
         "zeroline": false
        },
        "xaxis2": {
         "anchor": "y4",
         "domain": [
          0.000949050949050949,
          0.95
         ],
         "fixedrange": false,
         "mirror": false,
         "scaleanchor": "x5",
         "showgrid": false,
         "showline": false,
         "showticklabels": false,
         "type": "linear",
         "zeroline": false
        },
        "xaxis3": {
         "anchor": "y3",
         "domain": [
          0.75,
          1
         ]
        },
        "xaxis4": {
         "anchor": "y4",
         "domain": [
          0,
          0.000949050949050949
         ],
         "fixedrange": false,
         "mirror": false,
         "showgrid": false,
         "showline": false,
         "showticklabels": false,
         "type": "linear",
         "zeroline": false
        },
        "xaxis5": {
         "anchor": "y5",
         "domain": [
          0.000949050949050949,
          0.95
         ],
         "fixedrange": false,
         "mirror": false,
         "range": [
          0,
          400
         ],
         "showgrid": false,
         "showline": false,
         "showticklabels": true,
         "side": "bottom",
         "tickmode": "array",
         "ticktext": [
          "ExplicitMemory",
          "ImplicitMemory",
          "FluidIntelligence",
          "Switching",
          "SelfRegulation",
          "Mindfulness",
          "BehavioralControl",
          "SelfControl",
          "RewardProcessing",
          "Sequencing",
          "VerbalWorkingMemory",
          "Fluency",
          "ProcessingSpeed",
          "ShortTermMemory",
          "CognitiveFlexibility",
          "ExecutiveControl",
          "Organization",
          "SelectiveAttention",
          "EpisodicMemory",
          "Perseveration",
          "ExecutiveFunction",
          "CentralExecutive",
          "WorkingMemory",
          "ProblemSolving",
          "EmotionalRegulation",
          "Creativity",
          "EmotionalControl",
          "Planning",
          "Initiation",
          "SelfMonitoring",
          "Attention",
          "Shifting",
          "AttentionalControl",
          "Inhibition",
          "FocusedAttention",
          "InhibitoryControl",
          "Reasoning",
          "LongTermMemory",
          "CogntiveControl",
          "ResponseInhibition"
         ],
         "tickvals": [
          5,
          15,
          25,
          35,
          45,
          55,
          65,
          75,
          85,
          95,
          105,
          115,
          125,
          135,
          145,
          155,
          165,
          175,
          185,
          195,
          205,
          215,
          225,
          235,
          245,
          255,
          265,
          275,
          285,
          295,
          305,
          315,
          325,
          335,
          345,
          355,
          365,
          375,
          385,
          395
         ],
         "type": "linear",
         "zeroline": false
        },
        "xaxis6": {
         "anchor": "y6",
         "domain": [
          0.95,
          1
         ],
         "fixedrange": false,
         "mirror": false,
         "range": [
          -5,
          1
         ],
         "showgrid": false,
         "showline": false,
         "showticklabels": false,
         "type": "linear",
         "zeroline": false
        },
        "xaxis7": {
         "anchor": "y7",
         "domain": [
          0,
          0.25
         ]
        },
        "xaxis8": {
         "anchor": "y8",
         "domain": [
          0.000949050949050949,
          0.95
         ],
         "fixedrange": false,
         "mirror": false,
         "range": [
          5,
          395
         ],
         "scaleanchor": "x5",
         "scaleratio": 1,
         "showgrid": false,
         "showline": false,
         "showticklabels": false,
         "type": "linear",
         "zeroline": false
        },
        "xaxis9": {
         "anchor": "y9",
         "domain": [
          0.75,
          1
         ]
        },
        "yaxis": {
         "anchor": "x",
         "domain": [
          0.999050949050949,
          1
         ],
         "fixedrange": false,
         "mirror": false,
         "showgrid": false,
         "showline": false,
         "showticklabels": false,
         "type": "linear",
         "zeroline": false
        },
        "yaxis2": {
         "anchor": "x2",
         "domain": [
          0.999050949050949,
          1
         ],
         "fixedrange": false,
         "mirror": false,
         "range": [
          0,
          0.5233982410032744
         ],
         "showgrid": false,
         "showline": false,
         "showticklabels": false,
         "type": "linear",
         "zeroline": false
        },
        "yaxis3": {
         "anchor": "x3",
         "domain": [
          0.75,
          1
         ]
        },
        "yaxis4": {
         "anchor": "x4",
         "domain": [
          0,
          0.999050949050949
         ],
         "fixedrange": false,
         "mirror": false,
         "range": [
          5,
          395
         ],
         "scaleanchor": "y5",
         "showgrid": false,
         "showline": false,
         "showticklabels": false,
         "type": "linear",
         "zeroline": false
        },
        "yaxis5": {
         "anchor": "x5",
         "domain": [
          0,
          0.999050949050949
         ],
         "fixedrange": false,
         "mirror": false,
         "showgrid": false,
         "showline": false,
         "showticklabels": true,
         "side": "right",
         "tickmode": "array",
         "ticktext": [
          "ExplicitMemory",
          "ImplicitMemory",
          "FluidIntelligence",
          "Switching",
          "SelfRegulation",
          "Mindfulness",
          "BehavioralControl",
          "SelfControl",
          "RewardProcessing",
          "Sequencing",
          "VerbalWorkingMemory",
          "Fluency",
          "ProcessingSpeed",
          "ShortTermMemory",
          "CognitiveFlexibility",
          "ExecutiveControl",
          "Organization",
          "SelectiveAttention",
          "EpisodicMemory",
          "Perseveration",
          "ExecutiveFunction",
          "CentralExecutive",
          "WorkingMemory",
          "ProblemSolving",
          "EmotionalRegulation",
          "Creativity",
          "EmotionalControl",
          "Planning",
          "Initiation",
          "SelfMonitoring",
          "Attention",
          "Shifting",
          "AttentionalControl",
          "Inhibition",
          "FocusedAttention",
          "InhibitoryControl",
          "Reasoning",
          "LongTermMemory",
          "CogntiveControl",
          "ResponseInhibition"
         ],
         "tickvals": [
          5,
          15,
          25,
          35,
          45,
          55,
          65,
          75,
          85,
          95,
          105,
          115,
          125,
          135,
          145,
          155,
          165,
          175,
          185,
          195,
          205,
          215,
          225,
          235,
          245,
          255,
          265,
          275,
          285,
          295,
          305,
          315,
          325,
          335,
          345,
          355,
          365,
          375,
          385,
          395
         ],
         "type": "linear",
         "zeroline": false
        },
        "yaxis6": {
         "anchor": "x6",
         "domain": [
          0,
          0.949050949050949
         ],
         "fixedrange": false,
         "mirror": false,
         "range": [
          5,
          395
         ],
         "scaleanchor": "y5",
         "scaleratio": 1,
         "showgrid": false,
         "showline": false,
         "showticklabels": false,
         "type": "linear",
         "zeroline": false
        },
        "yaxis7": {
         "anchor": "x7",
         "domain": [
          0,
          0.25
         ]
        },
        "yaxis8": {
         "anchor": "x8",
         "domain": [
          0.949050949050949,
          0.999050949050949
         ],
         "fixedrange": false,
         "mirror": false,
         "range": [
          -0.5,
          0.5
         ],
         "showgrid": false,
         "showline": false,
         "showticklabels": false,
         "type": "linear",
         "zeroline": false
        },
        "yaxis9": {
         "anchor": "x9",
         "domain": [
          0,
          0.25
         ]
        }
       }
      }
     },
     "metadata": {},
     "output_type": "display_data"
    }
   ],
   "source": [
    "# plot only popular tasks and popular constructs\n",
    "\n",
    "n_popular_labels = 40\n",
    "\n",
    "popular_labels = (pubmed.groupby(['category','label'])['pmid']\n",
    "                        .count().sort_values(ascending=False)\n",
    "                        .groupby('category').head(n_popular_labels)\n",
    "                        .index.get_level_values('label').to_list())\n",
    "\n",
    "popular_label_embeddings = n2n_sim.query('label in @popular_labels')\n",
    "\n",
    "popular_labels_sim = get_similarity_matrix(\n",
    "  popular_label_embeddings,\n",
    "  metric='cosine',\n",
    "  pivot_by_category=False)\n",
    "\n",
    "# # drop tasks for visualization\n",
    "tasks = pubmed.query('category.str.contains(\"Task\")')['label'].unique()\n",
    "popular_labels_sim.drop(index=tasks, columns=tasks, errors='ignore', inplace=True)\n",
    "\n",
    "# g = sns.clustermap(popular_labels_sim, robust=True,\n",
    "#                    dendrogram_ratio=0.0001, \n",
    "#                    cbar_pos=(1.0, 0.73, 0.03, 0.25),\n",
    "#                    cmap='viridis_r',\n",
    "#                   )\n",
    "# plt.show()\n",
    "\n",
    "import dash_bio as dashbio\n",
    "\n",
    "dashbio.Clustergram(\n",
    "  data=popular_labels_sim,\n",
    "  column_labels=popular_labels_sim.columns.to_list(),\n",
    "  row_labels=popular_labels_sim.index.to_list(),\n",
    "  center_values=False,\n",
    "  cluster='all',\n",
    "  height=800,\n",
    "  width=900,\n",
    "  display_ratio=[0.001, 0.001], \n",
    "  color_map='RdBu_r',\n",
    "  # hidden_labels=['col'],\n",
    "  row_dist='euclidean',\n",
    "  col_dist='euclidean',\n",
    "  # standardize='col'\n",
    ")"
   ]
  },
  {
   "cell_type": "code",
   "execution_count": 203,
   "metadata": {},
   "outputs": [
    {
     "ename": "UndefinedVariableError",
     "evalue": "name 'category' is not defined",
     "output_type": "error",
     "traceback": [
      "\u001b[0;31m---------------------------------------------------------------------------\u001b[0m",
      "\u001b[0;31mKeyError\u001b[0m                                  Traceback (most recent call last)",
      "File \u001b[0;32m/usr/local/Caskroom/miniforge/base/envs/py3/lib/python3.9/site-packages/pandas/core/computation/scope.py:200\u001b[0m, in \u001b[0;36mScope.resolve\u001b[0;34m(self, key, is_local)\u001b[0m\n\u001b[1;32m    199\u001b[0m \u001b[38;5;28;01mif\u001b[39;00m \u001b[38;5;28mself\u001b[39m\u001b[38;5;241m.\u001b[39mhas_resolvers:\n\u001b[0;32m--> 200\u001b[0m     \u001b[38;5;28;01mreturn\u001b[39;00m \u001b[38;5;28;43mself\u001b[39;49m\u001b[38;5;241;43m.\u001b[39;49m\u001b[43mresolvers\u001b[49m\u001b[43m[\u001b[49m\u001b[43mkey\u001b[49m\u001b[43m]\u001b[49m\n\u001b[1;32m    202\u001b[0m \u001b[38;5;66;03m# if we're here that means that we have no locals and we also have\u001b[39;00m\n\u001b[1;32m    203\u001b[0m \u001b[38;5;66;03m# no resolvers\u001b[39;00m\n",
      "File \u001b[0;32m/usr/local/Caskroom/miniforge/base/envs/py3/lib/python3.9/collections/__init__.py:941\u001b[0m, in \u001b[0;36mChainMap.__getitem__\u001b[0;34m(self, key)\u001b[0m\n\u001b[1;32m    940\u001b[0m         \u001b[38;5;28;01mpass\u001b[39;00m\n\u001b[0;32m--> 941\u001b[0m \u001b[38;5;28;01mreturn\u001b[39;00m \u001b[38;5;28;43mself\u001b[39;49m\u001b[38;5;241;43m.\u001b[39;49m\u001b[38;5;21;43m__missing__\u001b[39;49m\u001b[43m(\u001b[49m\u001b[43mkey\u001b[49m\u001b[43m)\u001b[49m\n",
      "File \u001b[0;32m/usr/local/Caskroom/miniforge/base/envs/py3/lib/python3.9/collections/__init__.py:933\u001b[0m, in \u001b[0;36mChainMap.__missing__\u001b[0;34m(self, key)\u001b[0m\n\u001b[1;32m    932\u001b[0m \u001b[38;5;28;01mdef\u001b[39;00m \u001b[38;5;21m__missing__\u001b[39m(\u001b[38;5;28mself\u001b[39m, key):\n\u001b[0;32m--> 933\u001b[0m     \u001b[38;5;28;01mraise\u001b[39;00m \u001b[38;5;167;01mKeyError\u001b[39;00m(key)\n",
      "\u001b[0;31mKeyError\u001b[0m: 'category'",
      "\nDuring handling of the above exception, another exception occurred:\n",
      "\u001b[0;31mKeyError\u001b[0m                                  Traceback (most recent call last)",
      "File \u001b[0;32m/usr/local/Caskroom/miniforge/base/envs/py3/lib/python3.9/site-packages/pandas/core/computation/scope.py:211\u001b[0m, in \u001b[0;36mScope.resolve\u001b[0;34m(self, key, is_local)\u001b[0m\n\u001b[1;32m    207\u001b[0m \u001b[38;5;28;01mtry\u001b[39;00m:\n\u001b[1;32m    208\u001b[0m     \u001b[38;5;66;03m# last ditch effort we look in temporaries\u001b[39;00m\n\u001b[1;32m    209\u001b[0m     \u001b[38;5;66;03m# these are created when parsing indexing expressions\u001b[39;00m\n\u001b[1;32m    210\u001b[0m     \u001b[38;5;66;03m# e.g., df[df > 0]\u001b[39;00m\n\u001b[0;32m--> 211\u001b[0m     \u001b[38;5;28;01mreturn\u001b[39;00m \u001b[38;5;28;43mself\u001b[39;49m\u001b[38;5;241;43m.\u001b[39;49m\u001b[43mtemps\u001b[49m\u001b[43m[\u001b[49m\u001b[43mkey\u001b[49m\u001b[43m]\u001b[49m\n\u001b[1;32m    212\u001b[0m \u001b[38;5;28;01mexcept\u001b[39;00m \u001b[38;5;167;01mKeyError\u001b[39;00m \u001b[38;5;28;01mas\u001b[39;00m err:\n\u001b[1;32m    213\u001b[0m     \u001b[38;5;66;03m# runtime import because ops imports from scope\u001b[39;00m\n",
      "\u001b[0;31mKeyError\u001b[0m: 'category'",
      "\nThe above exception was the direct cause of the following exception:\n",
      "\u001b[0;31mUndefinedVariableError\u001b[0m                    Traceback (most recent call last)",
      "Input \u001b[0;32mIn [203]\u001b[0m, in \u001b[0;36m<module>\u001b[0;34m\u001b[0m\n\u001b[1;32m      1\u001b[0m \u001b[38;5;66;03m# plot kl-divergence between construct labels, ignoring the task labels.\u001b[39;00m\n\u001b[0;32m----> 3\u001b[0m X \u001b[38;5;241m=\u001b[39m \u001b[43mpopular_label_embeddings\u001b[49m\u001b[38;5;241;43m.\u001b[39;49m\u001b[43mquery\u001b[49m\u001b[43m(\u001b[49m\u001b[38;5;124;43m'\u001b[39;49m\u001b[38;5;124;43mcategory.str.contains(\u001b[39;49m\u001b[38;5;124;43m\"\u001b[39;49m\u001b[38;5;124;43mConstruct\u001b[39;49m\u001b[38;5;124;43m\"\u001b[39;49m\u001b[38;5;124;43m)\u001b[39;49m\u001b[38;5;124;43m'\u001b[39;49m\u001b[43m)\u001b[49m\n\u001b[1;32m      4\u001b[0m X_sim \u001b[38;5;241m=\u001b[39m get_similarity_matrix(X, metric\u001b[38;5;241m=\u001b[39m\u001b[38;5;124m'\u001b[39m\u001b[38;5;124mcosine\u001b[39m\u001b[38;5;124m'\u001b[39m, pivot_by_category\u001b[38;5;241m=\u001b[39m\u001b[38;5;28;01mFalse\u001b[39;00m)\n\u001b[1;32m      6\u001b[0m sns\u001b[38;5;241m.\u001b[39mset(\u001b[38;5;124m'\u001b[39m\u001b[38;5;124mposter\u001b[39m\u001b[38;5;124m'\u001b[39m)\n",
      "File \u001b[0;32m/usr/local/Caskroom/miniforge/base/envs/py3/lib/python3.9/site-packages/pandas/core/frame.py:4060\u001b[0m, in \u001b[0;36mDataFrame.query\u001b[0;34m(self, expr, inplace, **kwargs)\u001b[0m\n\u001b[1;32m   4058\u001b[0m kwargs[\u001b[38;5;124m\"\u001b[39m\u001b[38;5;124mlevel\u001b[39m\u001b[38;5;124m\"\u001b[39m] \u001b[38;5;241m=\u001b[39m kwargs\u001b[38;5;241m.\u001b[39mpop(\u001b[38;5;124m\"\u001b[39m\u001b[38;5;124mlevel\u001b[39m\u001b[38;5;124m\"\u001b[39m, \u001b[38;5;241m0\u001b[39m) \u001b[38;5;241m+\u001b[39m \u001b[38;5;241m1\u001b[39m\n\u001b[1;32m   4059\u001b[0m kwargs[\u001b[38;5;124m\"\u001b[39m\u001b[38;5;124mtarget\u001b[39m\u001b[38;5;124m\"\u001b[39m] \u001b[38;5;241m=\u001b[39m \u001b[38;5;28;01mNone\u001b[39;00m\n\u001b[0;32m-> 4060\u001b[0m res \u001b[38;5;241m=\u001b[39m \u001b[38;5;28;43mself\u001b[39;49m\u001b[38;5;241;43m.\u001b[39;49m\u001b[43meval\u001b[49m\u001b[43m(\u001b[49m\u001b[43mexpr\u001b[49m\u001b[43m,\u001b[49m\u001b[43m \u001b[49m\u001b[38;5;241;43m*\u001b[39;49m\u001b[38;5;241;43m*\u001b[39;49m\u001b[43mkwargs\u001b[49m\u001b[43m)\u001b[49m\n\u001b[1;32m   4062\u001b[0m \u001b[38;5;28;01mtry\u001b[39;00m:\n\u001b[1;32m   4063\u001b[0m     result \u001b[38;5;241m=\u001b[39m \u001b[38;5;28mself\u001b[39m\u001b[38;5;241m.\u001b[39mloc[res]\n",
      "File \u001b[0;32m/usr/local/Caskroom/miniforge/base/envs/py3/lib/python3.9/site-packages/pandas/core/frame.py:4191\u001b[0m, in \u001b[0;36mDataFrame.eval\u001b[0;34m(self, expr, inplace, **kwargs)\u001b[0m\n\u001b[1;32m   4188\u001b[0m     kwargs[\u001b[38;5;124m\"\u001b[39m\u001b[38;5;124mtarget\u001b[39m\u001b[38;5;124m\"\u001b[39m] \u001b[38;5;241m=\u001b[39m \u001b[38;5;28mself\u001b[39m\n\u001b[1;32m   4189\u001b[0m kwargs[\u001b[38;5;124m\"\u001b[39m\u001b[38;5;124mresolvers\u001b[39m\u001b[38;5;124m\"\u001b[39m] \u001b[38;5;241m=\u001b[39m kwargs\u001b[38;5;241m.\u001b[39mget(\u001b[38;5;124m\"\u001b[39m\u001b[38;5;124mresolvers\u001b[39m\u001b[38;5;124m\"\u001b[39m, ()) \u001b[38;5;241m+\u001b[39m \u001b[38;5;28mtuple\u001b[39m(resolvers)\n\u001b[0;32m-> 4191\u001b[0m \u001b[38;5;28;01mreturn\u001b[39;00m \u001b[43m_eval\u001b[49m\u001b[43m(\u001b[49m\u001b[43mexpr\u001b[49m\u001b[43m,\u001b[49m\u001b[43m \u001b[49m\u001b[43minplace\u001b[49m\u001b[38;5;241;43m=\u001b[39;49m\u001b[43minplace\u001b[49m\u001b[43m,\u001b[49m\u001b[43m \u001b[49m\u001b[38;5;241;43m*\u001b[39;49m\u001b[38;5;241;43m*\u001b[39;49m\u001b[43mkwargs\u001b[49m\u001b[43m)\u001b[49m\n",
      "File \u001b[0;32m/usr/local/Caskroom/miniforge/base/envs/py3/lib/python3.9/site-packages/pandas/core/computation/eval.py:348\u001b[0m, in \u001b[0;36meval\u001b[0;34m(expr, parser, engine, truediv, local_dict, global_dict, resolvers, level, target, inplace)\u001b[0m\n\u001b[1;32m    339\u001b[0m \u001b[38;5;66;03m# get our (possibly passed-in) scope\u001b[39;00m\n\u001b[1;32m    340\u001b[0m env \u001b[38;5;241m=\u001b[39m ensure_scope(\n\u001b[1;32m    341\u001b[0m     level \u001b[38;5;241m+\u001b[39m \u001b[38;5;241m1\u001b[39m,\n\u001b[1;32m    342\u001b[0m     global_dict\u001b[38;5;241m=\u001b[39mglobal_dict,\n\u001b[0;32m   (...)\u001b[0m\n\u001b[1;32m    345\u001b[0m     target\u001b[38;5;241m=\u001b[39mtarget,\n\u001b[1;32m    346\u001b[0m )\n\u001b[0;32m--> 348\u001b[0m parsed_expr \u001b[38;5;241m=\u001b[39m \u001b[43mExpr\u001b[49m\u001b[43m(\u001b[49m\u001b[43mexpr\u001b[49m\u001b[43m,\u001b[49m\u001b[43m \u001b[49m\u001b[43mengine\u001b[49m\u001b[38;5;241;43m=\u001b[39;49m\u001b[43mengine\u001b[49m\u001b[43m,\u001b[49m\u001b[43m \u001b[49m\u001b[43mparser\u001b[49m\u001b[38;5;241;43m=\u001b[39;49m\u001b[43mparser\u001b[49m\u001b[43m,\u001b[49m\u001b[43m \u001b[49m\u001b[43menv\u001b[49m\u001b[38;5;241;43m=\u001b[39;49m\u001b[43menv\u001b[49m\u001b[43m)\u001b[49m\n\u001b[1;32m    350\u001b[0m \u001b[38;5;66;03m# construct the engine and evaluate the parsed expression\u001b[39;00m\n\u001b[1;32m    351\u001b[0m eng \u001b[38;5;241m=\u001b[39m ENGINES[engine]\n",
      "File \u001b[0;32m/usr/local/Caskroom/miniforge/base/envs/py3/lib/python3.9/site-packages/pandas/core/computation/expr.py:806\u001b[0m, in \u001b[0;36mExpr.__init__\u001b[0;34m(self, expr, engine, parser, env, level)\u001b[0m\n\u001b[1;32m    804\u001b[0m \u001b[38;5;28mself\u001b[39m\u001b[38;5;241m.\u001b[39mparser \u001b[38;5;241m=\u001b[39m parser\n\u001b[1;32m    805\u001b[0m \u001b[38;5;28mself\u001b[39m\u001b[38;5;241m.\u001b[39m_visitor \u001b[38;5;241m=\u001b[39m PARSERS[parser](\u001b[38;5;28mself\u001b[39m\u001b[38;5;241m.\u001b[39menv, \u001b[38;5;28mself\u001b[39m\u001b[38;5;241m.\u001b[39mengine, \u001b[38;5;28mself\u001b[39m\u001b[38;5;241m.\u001b[39mparser)\n\u001b[0;32m--> 806\u001b[0m \u001b[38;5;28mself\u001b[39m\u001b[38;5;241m.\u001b[39mterms \u001b[38;5;241m=\u001b[39m \u001b[38;5;28;43mself\u001b[39;49m\u001b[38;5;241;43m.\u001b[39;49m\u001b[43mparse\u001b[49m\u001b[43m(\u001b[49m\u001b[43m)\u001b[49m\n",
      "File \u001b[0;32m/usr/local/Caskroom/miniforge/base/envs/py3/lib/python3.9/site-packages/pandas/core/computation/expr.py:825\u001b[0m, in \u001b[0;36mExpr.parse\u001b[0;34m(self)\u001b[0m\n\u001b[1;32m    821\u001b[0m \u001b[38;5;28;01mdef\u001b[39;00m \u001b[38;5;21mparse\u001b[39m(\u001b[38;5;28mself\u001b[39m):\n\u001b[1;32m    822\u001b[0m     \u001b[38;5;124;03m\"\"\"\u001b[39;00m\n\u001b[1;32m    823\u001b[0m \u001b[38;5;124;03m    Parse an expression.\u001b[39;00m\n\u001b[1;32m    824\u001b[0m \u001b[38;5;124;03m    \"\"\"\u001b[39;00m\n\u001b[0;32m--> 825\u001b[0m     \u001b[38;5;28;01mreturn\u001b[39;00m \u001b[38;5;28;43mself\u001b[39;49m\u001b[38;5;241;43m.\u001b[39;49m\u001b[43m_visitor\u001b[49m\u001b[38;5;241;43m.\u001b[39;49m\u001b[43mvisit\u001b[49m\u001b[43m(\u001b[49m\u001b[38;5;28;43mself\u001b[39;49m\u001b[38;5;241;43m.\u001b[39;49m\u001b[43mexpr\u001b[49m\u001b[43m)\u001b[49m\n",
      "File \u001b[0;32m/usr/local/Caskroom/miniforge/base/envs/py3/lib/python3.9/site-packages/pandas/core/computation/expr.py:411\u001b[0m, in \u001b[0;36mBaseExprVisitor.visit\u001b[0;34m(self, node, **kwargs)\u001b[0m\n\u001b[1;32m    409\u001b[0m method \u001b[38;5;241m=\u001b[39m \u001b[38;5;124m\"\u001b[39m\u001b[38;5;124mvisit_\u001b[39m\u001b[38;5;124m\"\u001b[39m \u001b[38;5;241m+\u001b[39m \u001b[38;5;28mtype\u001b[39m(node)\u001b[38;5;241m.\u001b[39m\u001b[38;5;18m__name__\u001b[39m\n\u001b[1;32m    410\u001b[0m visitor \u001b[38;5;241m=\u001b[39m \u001b[38;5;28mgetattr\u001b[39m(\u001b[38;5;28mself\u001b[39m, method)\n\u001b[0;32m--> 411\u001b[0m \u001b[38;5;28;01mreturn\u001b[39;00m \u001b[43mvisitor\u001b[49m\u001b[43m(\u001b[49m\u001b[43mnode\u001b[49m\u001b[43m,\u001b[49m\u001b[43m \u001b[49m\u001b[38;5;241;43m*\u001b[39;49m\u001b[38;5;241;43m*\u001b[39;49m\u001b[43mkwargs\u001b[49m\u001b[43m)\u001b[49m\n",
      "File \u001b[0;32m/usr/local/Caskroom/miniforge/base/envs/py3/lib/python3.9/site-packages/pandas/core/computation/expr.py:417\u001b[0m, in \u001b[0;36mBaseExprVisitor.visit_Module\u001b[0;34m(self, node, **kwargs)\u001b[0m\n\u001b[1;32m    415\u001b[0m     \u001b[38;5;28;01mraise\u001b[39;00m \u001b[38;5;167;01mSyntaxError\u001b[39;00m(\u001b[38;5;124m\"\u001b[39m\u001b[38;5;124monly a single expression is allowed\u001b[39m\u001b[38;5;124m\"\u001b[39m)\n\u001b[1;32m    416\u001b[0m expr \u001b[38;5;241m=\u001b[39m node\u001b[38;5;241m.\u001b[39mbody[\u001b[38;5;241m0\u001b[39m]\n\u001b[0;32m--> 417\u001b[0m \u001b[38;5;28;01mreturn\u001b[39;00m \u001b[38;5;28;43mself\u001b[39;49m\u001b[38;5;241;43m.\u001b[39;49m\u001b[43mvisit\u001b[49m\u001b[43m(\u001b[49m\u001b[43mexpr\u001b[49m\u001b[43m,\u001b[49m\u001b[43m \u001b[49m\u001b[38;5;241;43m*\u001b[39;49m\u001b[38;5;241;43m*\u001b[39;49m\u001b[43mkwargs\u001b[49m\u001b[43m)\u001b[49m\n",
      "File \u001b[0;32m/usr/local/Caskroom/miniforge/base/envs/py3/lib/python3.9/site-packages/pandas/core/computation/expr.py:411\u001b[0m, in \u001b[0;36mBaseExprVisitor.visit\u001b[0;34m(self, node, **kwargs)\u001b[0m\n\u001b[1;32m    409\u001b[0m method \u001b[38;5;241m=\u001b[39m \u001b[38;5;124m\"\u001b[39m\u001b[38;5;124mvisit_\u001b[39m\u001b[38;5;124m\"\u001b[39m \u001b[38;5;241m+\u001b[39m \u001b[38;5;28mtype\u001b[39m(node)\u001b[38;5;241m.\u001b[39m\u001b[38;5;18m__name__\u001b[39m\n\u001b[1;32m    410\u001b[0m visitor \u001b[38;5;241m=\u001b[39m \u001b[38;5;28mgetattr\u001b[39m(\u001b[38;5;28mself\u001b[39m, method)\n\u001b[0;32m--> 411\u001b[0m \u001b[38;5;28;01mreturn\u001b[39;00m \u001b[43mvisitor\u001b[49m\u001b[43m(\u001b[49m\u001b[43mnode\u001b[49m\u001b[43m,\u001b[49m\u001b[43m \u001b[49m\u001b[38;5;241;43m*\u001b[39;49m\u001b[38;5;241;43m*\u001b[39;49m\u001b[43mkwargs\u001b[49m\u001b[43m)\u001b[49m\n",
      "File \u001b[0;32m/usr/local/Caskroom/miniforge/base/envs/py3/lib/python3.9/site-packages/pandas/core/computation/expr.py:420\u001b[0m, in \u001b[0;36mBaseExprVisitor.visit_Expr\u001b[0;34m(self, node, **kwargs)\u001b[0m\n\u001b[1;32m    419\u001b[0m \u001b[38;5;28;01mdef\u001b[39;00m \u001b[38;5;21mvisit_Expr\u001b[39m(\u001b[38;5;28mself\u001b[39m, node, \u001b[38;5;241m*\u001b[39m\u001b[38;5;241m*\u001b[39mkwargs):\n\u001b[0;32m--> 420\u001b[0m     \u001b[38;5;28;01mreturn\u001b[39;00m \u001b[38;5;28;43mself\u001b[39;49m\u001b[38;5;241;43m.\u001b[39;49m\u001b[43mvisit\u001b[49m\u001b[43m(\u001b[49m\u001b[43mnode\u001b[49m\u001b[38;5;241;43m.\u001b[39;49m\u001b[43mvalue\u001b[49m\u001b[43m,\u001b[49m\u001b[43m \u001b[49m\u001b[38;5;241;43m*\u001b[39;49m\u001b[38;5;241;43m*\u001b[39;49m\u001b[43mkwargs\u001b[49m\u001b[43m)\u001b[49m\n",
      "File \u001b[0;32m/usr/local/Caskroom/miniforge/base/envs/py3/lib/python3.9/site-packages/pandas/core/computation/expr.py:411\u001b[0m, in \u001b[0;36mBaseExprVisitor.visit\u001b[0;34m(self, node, **kwargs)\u001b[0m\n\u001b[1;32m    409\u001b[0m method \u001b[38;5;241m=\u001b[39m \u001b[38;5;124m\"\u001b[39m\u001b[38;5;124mvisit_\u001b[39m\u001b[38;5;124m\"\u001b[39m \u001b[38;5;241m+\u001b[39m \u001b[38;5;28mtype\u001b[39m(node)\u001b[38;5;241m.\u001b[39m\u001b[38;5;18m__name__\u001b[39m\n\u001b[1;32m    410\u001b[0m visitor \u001b[38;5;241m=\u001b[39m \u001b[38;5;28mgetattr\u001b[39m(\u001b[38;5;28mself\u001b[39m, method)\n\u001b[0;32m--> 411\u001b[0m \u001b[38;5;28;01mreturn\u001b[39;00m \u001b[43mvisitor\u001b[49m\u001b[43m(\u001b[49m\u001b[43mnode\u001b[49m\u001b[43m,\u001b[49m\u001b[43m \u001b[49m\u001b[38;5;241;43m*\u001b[39;49m\u001b[38;5;241;43m*\u001b[39;49m\u001b[43mkwargs\u001b[49m\u001b[43m)\u001b[49m\n",
      "File \u001b[0;32m/usr/local/Caskroom/miniforge/base/envs/py3/lib/python3.9/site-packages/pandas/core/computation/expr.py:657\u001b[0m, in \u001b[0;36mBaseExprVisitor.visit_Call\u001b[0;34m(self, node, side, **kwargs)\u001b[0m\n\u001b[1;32m    654\u001b[0m \u001b[38;5;28;01mdef\u001b[39;00m \u001b[38;5;21mvisit_Call\u001b[39m(\u001b[38;5;28mself\u001b[39m, node, side\u001b[38;5;241m=\u001b[39m\u001b[38;5;28;01mNone\u001b[39;00m, \u001b[38;5;241m*\u001b[39m\u001b[38;5;241m*\u001b[39mkwargs):\n\u001b[1;32m    656\u001b[0m     \u001b[38;5;28;01mif\u001b[39;00m \u001b[38;5;28misinstance\u001b[39m(node\u001b[38;5;241m.\u001b[39mfunc, ast\u001b[38;5;241m.\u001b[39mAttribute) \u001b[38;5;129;01mand\u001b[39;00m node\u001b[38;5;241m.\u001b[39mfunc\u001b[38;5;241m.\u001b[39mattr \u001b[38;5;241m!=\u001b[39m \u001b[38;5;124m\"\u001b[39m\u001b[38;5;124m__call__\u001b[39m\u001b[38;5;124m\"\u001b[39m:\n\u001b[0;32m--> 657\u001b[0m         res \u001b[38;5;241m=\u001b[39m \u001b[38;5;28;43mself\u001b[39;49m\u001b[38;5;241;43m.\u001b[39;49m\u001b[43mvisit_Attribute\u001b[49m\u001b[43m(\u001b[49m\u001b[43mnode\u001b[49m\u001b[38;5;241;43m.\u001b[39;49m\u001b[43mfunc\u001b[49m\u001b[43m)\u001b[49m\n\u001b[1;32m    658\u001b[0m     \u001b[38;5;28;01melif\u001b[39;00m \u001b[38;5;129;01mnot\u001b[39;00m \u001b[38;5;28misinstance\u001b[39m(node\u001b[38;5;241m.\u001b[39mfunc, ast\u001b[38;5;241m.\u001b[39mName):\n\u001b[1;32m    659\u001b[0m         \u001b[38;5;28;01mraise\u001b[39;00m \u001b[38;5;167;01mTypeError\u001b[39;00m(\u001b[38;5;124m\"\u001b[39m\u001b[38;5;124mOnly named functions are supported\u001b[39m\u001b[38;5;124m\"\u001b[39m)\n",
      "File \u001b[0;32m/usr/local/Caskroom/miniforge/base/envs/py3/lib/python3.9/site-packages/pandas/core/computation/expr.py:641\u001b[0m, in \u001b[0;36mBaseExprVisitor.visit_Attribute\u001b[0;34m(self, node, **kwargs)\u001b[0m\n\u001b[1;32m    638\u001b[0m ctx \u001b[38;5;241m=\u001b[39m node\u001b[38;5;241m.\u001b[39mctx\n\u001b[1;32m    639\u001b[0m \u001b[38;5;28;01mif\u001b[39;00m \u001b[38;5;28misinstance\u001b[39m(ctx, ast\u001b[38;5;241m.\u001b[39mLoad):\n\u001b[1;32m    640\u001b[0m     \u001b[38;5;66;03m# resolve the value\u001b[39;00m\n\u001b[0;32m--> 641\u001b[0m     resolved \u001b[38;5;241m=\u001b[39m \u001b[38;5;28;43mself\u001b[39;49m\u001b[38;5;241;43m.\u001b[39;49m\u001b[43mvisit\u001b[49m\u001b[43m(\u001b[49m\u001b[43mvalue\u001b[49m\u001b[43m)\u001b[49m\u001b[38;5;241m.\u001b[39mvalue\n\u001b[1;32m    642\u001b[0m     \u001b[38;5;28;01mtry\u001b[39;00m:\n\u001b[1;32m    643\u001b[0m         v \u001b[38;5;241m=\u001b[39m \u001b[38;5;28mgetattr\u001b[39m(resolved, attr)\n",
      "File \u001b[0;32m/usr/local/Caskroom/miniforge/base/envs/py3/lib/python3.9/site-packages/pandas/core/computation/expr.py:411\u001b[0m, in \u001b[0;36mBaseExprVisitor.visit\u001b[0;34m(self, node, **kwargs)\u001b[0m\n\u001b[1;32m    409\u001b[0m method \u001b[38;5;241m=\u001b[39m \u001b[38;5;124m\"\u001b[39m\u001b[38;5;124mvisit_\u001b[39m\u001b[38;5;124m\"\u001b[39m \u001b[38;5;241m+\u001b[39m \u001b[38;5;28mtype\u001b[39m(node)\u001b[38;5;241m.\u001b[39m\u001b[38;5;18m__name__\u001b[39m\n\u001b[1;32m    410\u001b[0m visitor \u001b[38;5;241m=\u001b[39m \u001b[38;5;28mgetattr\u001b[39m(\u001b[38;5;28mself\u001b[39m, method)\n\u001b[0;32m--> 411\u001b[0m \u001b[38;5;28;01mreturn\u001b[39;00m \u001b[43mvisitor\u001b[49m\u001b[43m(\u001b[49m\u001b[43mnode\u001b[49m\u001b[43m,\u001b[49m\u001b[43m \u001b[49m\u001b[38;5;241;43m*\u001b[39;49m\u001b[38;5;241;43m*\u001b[39;49m\u001b[43mkwargs\u001b[49m\u001b[43m)\u001b[49m\n",
      "File \u001b[0;32m/usr/local/Caskroom/miniforge/base/envs/py3/lib/python3.9/site-packages/pandas/core/computation/expr.py:641\u001b[0m, in \u001b[0;36mBaseExprVisitor.visit_Attribute\u001b[0;34m(self, node, **kwargs)\u001b[0m\n\u001b[1;32m    638\u001b[0m ctx \u001b[38;5;241m=\u001b[39m node\u001b[38;5;241m.\u001b[39mctx\n\u001b[1;32m    639\u001b[0m \u001b[38;5;28;01mif\u001b[39;00m \u001b[38;5;28misinstance\u001b[39m(ctx, ast\u001b[38;5;241m.\u001b[39mLoad):\n\u001b[1;32m    640\u001b[0m     \u001b[38;5;66;03m# resolve the value\u001b[39;00m\n\u001b[0;32m--> 641\u001b[0m     resolved \u001b[38;5;241m=\u001b[39m \u001b[38;5;28;43mself\u001b[39;49m\u001b[38;5;241;43m.\u001b[39;49m\u001b[43mvisit\u001b[49m\u001b[43m(\u001b[49m\u001b[43mvalue\u001b[49m\u001b[43m)\u001b[49m\u001b[38;5;241m.\u001b[39mvalue\n\u001b[1;32m    642\u001b[0m     \u001b[38;5;28;01mtry\u001b[39;00m:\n\u001b[1;32m    643\u001b[0m         v \u001b[38;5;241m=\u001b[39m \u001b[38;5;28mgetattr\u001b[39m(resolved, attr)\n",
      "File \u001b[0;32m/usr/local/Caskroom/miniforge/base/envs/py3/lib/python3.9/site-packages/pandas/core/computation/expr.py:411\u001b[0m, in \u001b[0;36mBaseExprVisitor.visit\u001b[0;34m(self, node, **kwargs)\u001b[0m\n\u001b[1;32m    409\u001b[0m method \u001b[38;5;241m=\u001b[39m \u001b[38;5;124m\"\u001b[39m\u001b[38;5;124mvisit_\u001b[39m\u001b[38;5;124m\"\u001b[39m \u001b[38;5;241m+\u001b[39m \u001b[38;5;28mtype\u001b[39m(node)\u001b[38;5;241m.\u001b[39m\u001b[38;5;18m__name__\u001b[39m\n\u001b[1;32m    410\u001b[0m visitor \u001b[38;5;241m=\u001b[39m \u001b[38;5;28mgetattr\u001b[39m(\u001b[38;5;28mself\u001b[39m, method)\n\u001b[0;32m--> 411\u001b[0m \u001b[38;5;28;01mreturn\u001b[39;00m \u001b[43mvisitor\u001b[49m\u001b[43m(\u001b[49m\u001b[43mnode\u001b[49m\u001b[43m,\u001b[49m\u001b[43m \u001b[49m\u001b[38;5;241;43m*\u001b[39;49m\u001b[38;5;241;43m*\u001b[39;49m\u001b[43mkwargs\u001b[49m\u001b[43m)\u001b[49m\n",
      "File \u001b[0;32m/usr/local/Caskroom/miniforge/base/envs/py3/lib/python3.9/site-packages/pandas/core/computation/expr.py:545\u001b[0m, in \u001b[0;36mBaseExprVisitor.visit_Name\u001b[0;34m(self, node, **kwargs)\u001b[0m\n\u001b[1;32m    544\u001b[0m \u001b[38;5;28;01mdef\u001b[39;00m \u001b[38;5;21mvisit_Name\u001b[39m(\u001b[38;5;28mself\u001b[39m, node, \u001b[38;5;241m*\u001b[39m\u001b[38;5;241m*\u001b[39mkwargs):\n\u001b[0;32m--> 545\u001b[0m     \u001b[38;5;28;01mreturn\u001b[39;00m \u001b[38;5;28;43mself\u001b[39;49m\u001b[38;5;241;43m.\u001b[39;49m\u001b[43mterm_type\u001b[49m\u001b[43m(\u001b[49m\u001b[43mnode\u001b[49m\u001b[38;5;241;43m.\u001b[39;49m\u001b[43mid\u001b[49m\u001b[43m,\u001b[49m\u001b[43m \u001b[49m\u001b[38;5;28;43mself\u001b[39;49m\u001b[38;5;241;43m.\u001b[39;49m\u001b[43menv\u001b[49m\u001b[43m,\u001b[49m\u001b[43m \u001b[49m\u001b[38;5;241;43m*\u001b[39;49m\u001b[38;5;241;43m*\u001b[39;49m\u001b[43mkwargs\u001b[49m\u001b[43m)\u001b[49m\n",
      "File \u001b[0;32m/usr/local/Caskroom/miniforge/base/envs/py3/lib/python3.9/site-packages/pandas/core/computation/ops.py:98\u001b[0m, in \u001b[0;36mTerm.__init__\u001b[0;34m(self, name, env, side, encoding)\u001b[0m\n\u001b[1;32m     96\u001b[0m tname \u001b[38;5;241m=\u001b[39m \u001b[38;5;28mstr\u001b[39m(name)\n\u001b[1;32m     97\u001b[0m \u001b[38;5;28mself\u001b[39m\u001b[38;5;241m.\u001b[39mis_local \u001b[38;5;241m=\u001b[39m tname\u001b[38;5;241m.\u001b[39mstartswith(LOCAL_TAG) \u001b[38;5;129;01mor\u001b[39;00m tname \u001b[38;5;129;01min\u001b[39;00m DEFAULT_GLOBALS\n\u001b[0;32m---> 98\u001b[0m \u001b[38;5;28mself\u001b[39m\u001b[38;5;241m.\u001b[39m_value \u001b[38;5;241m=\u001b[39m \u001b[38;5;28;43mself\u001b[39;49m\u001b[38;5;241;43m.\u001b[39;49m\u001b[43m_resolve_name\u001b[49m\u001b[43m(\u001b[49m\u001b[43m)\u001b[49m\n\u001b[1;32m     99\u001b[0m \u001b[38;5;28mself\u001b[39m\u001b[38;5;241m.\u001b[39mencoding \u001b[38;5;241m=\u001b[39m encoding\n",
      "File \u001b[0;32m/usr/local/Caskroom/miniforge/base/envs/py3/lib/python3.9/site-packages/pandas/core/computation/ops.py:115\u001b[0m, in \u001b[0;36mTerm._resolve_name\u001b[0;34m(self)\u001b[0m\n\u001b[1;32m    114\u001b[0m \u001b[38;5;28;01mdef\u001b[39;00m \u001b[38;5;21m_resolve_name\u001b[39m(\u001b[38;5;28mself\u001b[39m):\n\u001b[0;32m--> 115\u001b[0m     res \u001b[38;5;241m=\u001b[39m \u001b[38;5;28;43mself\u001b[39;49m\u001b[38;5;241;43m.\u001b[39;49m\u001b[43menv\u001b[49m\u001b[38;5;241;43m.\u001b[39;49m\u001b[43mresolve\u001b[49m\u001b[43m(\u001b[49m\u001b[38;5;28;43mself\u001b[39;49m\u001b[38;5;241;43m.\u001b[39;49m\u001b[43mlocal_name\u001b[49m\u001b[43m,\u001b[49m\u001b[43m \u001b[49m\u001b[43mis_local\u001b[49m\u001b[38;5;241;43m=\u001b[39;49m\u001b[38;5;28;43mself\u001b[39;49m\u001b[38;5;241;43m.\u001b[39;49m\u001b[43mis_local\u001b[49m\u001b[43m)\u001b[49m\n\u001b[1;32m    116\u001b[0m     \u001b[38;5;28mself\u001b[39m\u001b[38;5;241m.\u001b[39mupdate(res)\n\u001b[1;32m    118\u001b[0m     \u001b[38;5;28;01mif\u001b[39;00m \u001b[38;5;28mhasattr\u001b[39m(res, \u001b[38;5;124m\"\u001b[39m\u001b[38;5;124mndim\u001b[39m\u001b[38;5;124m\"\u001b[39m) \u001b[38;5;129;01mand\u001b[39;00m res\u001b[38;5;241m.\u001b[39mndim \u001b[38;5;241m>\u001b[39m \u001b[38;5;241m2\u001b[39m:\n",
      "File \u001b[0;32m/usr/local/Caskroom/miniforge/base/envs/py3/lib/python3.9/site-packages/pandas/core/computation/scope.py:216\u001b[0m, in \u001b[0;36mScope.resolve\u001b[0;34m(self, key, is_local)\u001b[0m\n\u001b[1;32m    212\u001b[0m \u001b[38;5;28;01mexcept\u001b[39;00m \u001b[38;5;167;01mKeyError\u001b[39;00m \u001b[38;5;28;01mas\u001b[39;00m err:\n\u001b[1;32m    213\u001b[0m     \u001b[38;5;66;03m# runtime import because ops imports from scope\u001b[39;00m\n\u001b[1;32m    214\u001b[0m     \u001b[38;5;28;01mfrom\u001b[39;00m \u001b[38;5;21;01mpandas\u001b[39;00m\u001b[38;5;21;01m.\u001b[39;00m\u001b[38;5;21;01mcore\u001b[39;00m\u001b[38;5;21;01m.\u001b[39;00m\u001b[38;5;21;01mcomputation\u001b[39;00m\u001b[38;5;21;01m.\u001b[39;00m\u001b[38;5;21;01mops\u001b[39;00m \u001b[38;5;28;01mimport\u001b[39;00m UndefinedVariableError\n\u001b[0;32m--> 216\u001b[0m     \u001b[38;5;28;01mraise\u001b[39;00m UndefinedVariableError(key, is_local) \u001b[38;5;28;01mfrom\u001b[39;00m \u001b[38;5;21;01merr\u001b[39;00m\n",
      "\u001b[0;31mUndefinedVariableError\u001b[0m: name 'category' is not defined"
     ]
    }
   ],
   "source": [
    "# plot kl-divergence between construct labels, ignoring the task labels.\n",
    "\n",
    "X = popular_label_embeddings.query('category.str.contains(\"Construct\")')\n",
    "X_sim = get_similarity_matrix(X, metric='cosine', pivot_by_category=False)\n",
    "\n",
    "sns.set('poster')\n",
    "g = sns.clustermap(X_sim,figsize=(22,20), dendrogram_ratio=0.0001,\n",
    "               cbar_pos=(1.0, 0.73, 0.03, 0.25),\n",
    "               cmap='RdBu_r', cbar_kws={'label': 'cosine similarity'})\n",
    "g.ax_heatmap.set(xlabel='Construct', ylabel='Construct')\n",
    "plt.suptitle('Cosine similarity between most popular constructs',y=1.01)\n",
    "plt.show()"
   ]
  },
  {
   "cell_type": "code",
   "execution_count": 19,
   "metadata": {},
   "outputs": [
    {
     "name": "stderr",
     "output_type": "stream",
     "text": [
      "2022-01-21 18:10:31.940359: I tensorflow/core/platform/cpu_feature_guard.cc:151] This TensorFlow binary is optimized with oneAPI Deep Neural Network Library (oneDNN) to use the following CPU instructions in performance-critical operations:  AVX2 FMA\n",
      "To enable them in other operations, rebuild TensorFlow with the appropriate compiler flags.\n"
     ]
    },
    {
     "name": "stdout",
     "output_type": "stream",
     "text": [
      "StellarGraph: Undirected multigraph\n",
      " Nodes: 170, Edges: 1098\n",
      "\n",
      " Node types:\n",
      "  task: [98]\n",
      "    Features: float32 vector, length 509\n",
      "    Edge types: task-default->construct, task-default->task\n",
      "  construct: [72]\n",
      "    Features: float32 vector, length 509\n",
      "    Edge types: construct-default->construct, construct-default->task\n",
      "\n",
      " Edge types:\n",
      "    construct-default->task: [542]\n",
      "        Weights: range=[1.42376, 3.64397], mean=1.85238, std=0.505267\n",
      "        Features: none\n",
      "    task-default->task: [480]\n",
      "        Weights: range=[1.42983, 3.69662], mean=1.97829, std=0.539378\n",
      "        Features: none\n",
      "    construct-default->construct: [76]\n",
      "        Weights: range=[1.4276, 1.78699], mean=1.53227, std=0.0938251\n",
      "        Features: none\n"
     ]
    }
   ],
   "source": [
    "# create a graph\n",
    "\n",
    "import stellargraph as sg\n",
    "from stellargraph.data import UniformRandomMetaPathWalk\n",
    "\n",
    "embeddings = popular_label_embeddings\n",
    "\n",
    "sim = get_similarity_matrix(embeddings, metric='kl', pivot_by_category=False)\n",
    "sim.columns.name = 'source'\n",
    "sim.index.name = 'target'\n",
    "\n",
    "# keep = np.triu(np.ones(sim.shape)).astype('bool').reshape(sim.size)\n",
    "adj = sim.stack().to_frame().reset_index().rename(columns={0: 'weight'})\n",
    "\n",
    "adj = adj.query('target != source')\n",
    "\n",
    "# use separate filtering for each of the edge types\n",
    "edge_threshold = adj['weight'].median() + adj['weight'].std()\n",
    "\n",
    "edges = adj.query('weight >= @edge_threshold')\n",
    "\n",
    "constructs = label_embeddings.query('category == \"CognitiveConstruct\"').reset_index(1,drop=True)\n",
    "tasks = label_embeddings.query('category == \"CognitiveTask\"').reset_index(1,drop=True)\n",
    "\n",
    "G = sg.StellarGraph(\n",
    "  nodes = {'task': tasks,\n",
    "           'construct': constructs},\n",
    "  edges=edges)\n",
    "print(G.info())"
   ]
  },
  {
   "cell_type": "code",
   "execution_count": 9,
   "metadata": {},
   "outputs": [
    {
     "name": "stdout",
     "output_type": "stream",
     "text": [
      "[MetaPath2Vec] Created 1700 random walks.\n",
      "[MetaPath2Vec] Now training the Word2Vec model...\n",
      "[MetaPath2Vec] Done! Model saved to `models/gpt3/abstracts_metapath2vec.pkl`.\n"
     ]
    }
   ],
   "source": [
    "# metapath2vec\n",
    "\n",
    "from gensim.models import Word2Vec\n",
    "\n",
    "# metapath schemas as a list of lists of node types.\n",
    "metapaths = [\n",
    "    ['task', 'construct', 'task'],\n",
    "    ['construct', 'task', 'construct'],\n",
    "    # ['construct', 'task', 'task', 'construct'],\n",
    "    # ['task', 'construct', 'task', 'construct', 'task'],\n",
    "    # ['task', 'construct', 'construct', 'task'],\n",
    "]\n",
    "\n",
    "walks = UniformRandomMetaPathWalk(G).run(\n",
    "    nodes=list(G.nodes()),  # root nodes\n",
    "    length=3,  # maximum length of a random walk\n",
    "    n=10,  # number of random walks per root node\n",
    "    metapaths=metapaths,  # the metapaths\n",
    ")\n",
    "print(f'[MetaPath2Vec] Created {len(walks)} random walks.')\n",
    "# DEBUG: print('Random walks starting from the \"RewardProcessing\" node:',\n",
    "# DEBUG:      [' -> '.join(w) for w in walks if w[0] == 'RewardProcessing'])\n",
    "\n",
    "print('[MetaPath2Vec] Now training the Word2Vec model...', sep=' ')\n",
    "model = Word2Vec(walks, vector_size=128, min_count=0, window=3, sg=1, workers=1, epochs=1000)\n",
    "model.save('models/gpt3/abstracts_metapath2vec.pkl')\n",
    "\n",
    "print('[MetaPath2Vec] Done! Model saved to `models/gpt3/abstracts_metapath2vec.pkl`.')"
   ]
  },
  {
   "cell_type": "code",
   "execution_count": 13,
   "metadata": {},
   "outputs": [
    {
     "data": {
      "text/plain": [
       "[('NonverbalWorkingMemory', 0.22190137207508087),\n",
       " ('Incompatibility_test', 0.20269256830215454),\n",
       " ('Hayling_test', 0.1891143023967743),\n",
       " ('DegradedVigilanceTask', 0.17823150753974915),\n",
       " ('OddOneOutTask', 0.13242526352405548),\n",
       " ('Binding', 0.12700197100639343),\n",
       " ('FeedbackLearning', 0.12263721227645874),\n",
       " ('Attention', 0.11427738517522812),\n",
       " ('ContiniousPerformanceTask', 0.11308609694242477),\n",
       " ('CognitiveInhibition', 0.11181913316249847)]"
      ]
     },
     "execution_count": 13,
     "metadata": {},
     "output_type": "execute_result"
    }
   ],
   "source": [
    "# query the joint graph\n",
    "\n",
    "\n",
    "#  visual-spatial and organizational processing abilities, as well as nonverbal problem-solving skills. \n",
    " \n",
    "# FIXME: there is a typo in \"CogntiveControl\"; it comes from a type in the original lexicon.\n",
    "model.wv.most_similar(\n",
    "  positive=['BART'],\n",
    "  # negative=['TMT_-_Trail_Making_Task']\n",
    "  topn=10)\n",
    "\n",
    "# TODO filter by category\n"
   ]
  },
  {
   "cell_type": "code",
   "execution_count": 14,
   "metadata": {},
   "outputs": [
    {
     "name": "stderr",
     "output_type": "stream",
     "text": [
      "OMP: Info #271: omp_set_nested routine deprecated, please use omp_set_max_active_levels instead.\n"
     ]
    },
    {
     "data": {
      "application/vnd.plotly.v1+json": {
       "config": {
        "plotlyServerURL": "https://plot.ly"
       },
       "data": [
        {
         "hovertemplate": "<b>%{hovertext}</b><br><br>category=CognitiveConstruct<br>0=%{x}<br>1=%{y}<br>2=%{z}<extra></extra>",
         "hovertext": [
          "Attention",
          "AttentionalControl",
          "BehavioralControl",
          "CentralExecutive",
          "CognitiveFlexibility",
          "CogntiveControl",
          "Creativity",
          "EmotionalControl",
          "EmotionalRegulation",
          "EpisodicMemory",
          "ExecutiveControl",
          "ExecutiveFunction",
          "ExplicitMemory",
          "Fluency",
          "FluidIntelligence",
          "FocusedAttention",
          "ImplicitMemory",
          "Inhibition",
          "InhibitoryControl",
          "Initiation",
          "LongTermMemory",
          "Mindfulness",
          "Organization",
          "Perseveration",
          "Planning",
          "ProblemSolving",
          "ProcessingSpeed",
          "Reasoning",
          "ResponseInhibition",
          "RewardProcessing",
          "SelectiveAttention",
          "SelfControl",
          "SelfMonitoring",
          "SelfRegulation",
          "Sequencing",
          "Shifting",
          "ShortTermMemory",
          "Switching",
          "VerbalWorkingMemory",
          "WorkingMemory"
         ],
         "legendgroup": "CognitiveConstruct",
         "marker": {
          "color": "red",
          "symbol": "circle"
         },
         "mode": "markers",
         "name": "CognitiveConstruct",
         "scene": "scene",
         "showlegend": true,
         "type": "scatter3d",
         "x": [
          12.621078491210938,
          11.987154960632324,
          12.835407257080078,
          11.68044376373291,
          11.822816848754883,
          12.249980926513672,
          13.144574165344238,
          12.710166931152344,
          12.985211372375488,
          12.25357723236084,
          11.459022521972656,
          12.006871223449707,
          12.752403259277344,
          11.560832023620605,
          10.824006080627441,
          12.581356048583984,
          12.729265213012695,
          12.118577003479004,
          12.049464225769043,
          12.249588012695312,
          11.924246788024902,
          13.043882369995117,
          12.104469299316406,
          12.330536842346191,
          12.957032203674316,
          13.234827041625977,
          11.919517517089844,
          12.877619743347168,
          11.956842422485352,
          12.508146286010742,
          12.142903327941895,
          13.399744033813477,
          13.426807403564453,
          13.393113136291504,
          12.3550386428833,
          12.438942909240723,
          11.70793342590332,
          11.360570907592773,
          11.356621742248535,
          11.814254760742188
         ],
         "y": [
          8.582893371582031,
          9.078375816345215,
          8.576401710510254,
          8.69990348815918,
          7.52639102935791,
          10.296359062194824,
          8.393106460571289,
          9.14074420928955,
          9.002069473266602,
          8.792099952697754,
          9.380875587463379,
          8.159280776977539,
          9.166385650634766,
          7.573658466339111,
          8.92762279510498,
          8.434606552124023,
          9.193455696105957,
          7.695366382598877,
          9.224067687988281,
          8.032316207885742,
          8.037134170532227,
          8.865084648132324,
          8.411860466003418,
          7.773083686828613,
          8.219744682312012,
          8.325243949890137,
          7.554767608642578,
          8.323869705200195,
          9.851625442504883,
          10.183537483215332,
          8.949472427368164,
          8.992752075195312,
          8.662421226501465,
          8.744504928588867,
          8.120747566223145,
          8.240455627441406,
          8.100273132324219,
          9.808916091918945,
          8.129058837890625,
          8.111835479736328
         ],
         "z": [
          0.14281518757343292,
          -0.6632472276687622,
          -0.36278992891311646,
          1.1630052328109741,
          0.2987777888774872,
          0.43941667675971985,
          0.17765983939170837,
          -1.0214029550552368,
          -0.7668865919113159,
          1.5950467586517334,
          0.44110170006752014,
          1.9269272089004517,
          1.3900114297866821,
          2.3304154872894287,
          1.2161608934402466,
          -0.89598149061203,
          1.3204666376113892,
          -0.16797254979610443,
          -0.35108524560928345,
          -0.8545782566070557,
          -0.07247346639633179,
          -0.6643713712692261,
          1.11928129196167,
          0.7720395922660828,
          -0.543645977973938,
          -0.20813967287540436,
          1.8321998119354248,
          0.2233498990535736,
          -0.30688154697418213,
          0.03764650225639343,
          0.5804041624069214,
          -0.504349410533905,
          -0.5939939022064209,
          -0.47359156608581543,
          -0.7384620904922485,
          -0.31070077419281006,
          0.16518601775169373,
          0.048677895218133926,
          1.2298824787139893,
          1.0217565298080444
         ]
        },
        {
         "hovertemplate": "<b>%{hovertext}</b><br><br>category=CognitiveTask<br>0=%{x}<br>1=%{y}<br>2=%{z}<extra></extra>",
         "hovertext": [
          "AttentionNetworkTest",
          "BART",
          "BlockDesignSubTest",
          "CategoryFluencyTask",
          "ContiniousPerformanceTask",
          "CorsiBlockTask",
          "Delay_Discounting_task",
          "Digit_Span",
          "DimensionalChangeCardSortTask",
          "DirectedForgettingTest",
          "DiscountingTask",
          "FlankerTask",
          "Go_NoGo",
          "IGT_-_Iowa_Gambling_task",
          "Keep_Track_task",
          "LNS_-_Letter_Number_Sequencing",
          "LetterFluency",
          "NBackTask",
          "OSpan_-_Operating_Span",
          "PEG_-_Pencil_Tapping_task",
          "PRP",
          "PVT_-_Psychomotor_Vigilance_task",
          "RavensMatricesTask",
          "Reading_Span_Task",
          "ReversalLearning",
          "Semantic_Fluency_test",
          "SentenceRepetition",
          "Sentence_Completion_task",
          "Simon_task",
          "SimpleRT",
          "Sorting_task",
          "Span_Task",
          "StopSignalTask",
          "Stroop",
          "TMT_-_Trail_Making_Task",
          "TaskSwitching",
          "TowerOfHanoi",
          "TowerOfLondon",
          "Verbal_fluency_task",
          "WCST_-_Wisconsin_Card_Sort_Test"
         ],
         "legendgroup": "CognitiveTask",
         "marker": {
          "color": "blue",
          "symbol": "circle"
         },
         "mode": "markers",
         "name": "CognitiveTask",
         "scene": "scene",
         "showlegend": true,
         "type": "scatter3d",
         "x": [
          11.609002113342285,
          12.821834564208984,
          11.738950729370117,
          11.648019790649414,
          11.075613975524902,
          11.828006744384766,
          12.701884269714355,
          11.494314193725586,
          11.44825267791748,
          12.119264602661133,
          12.625561714172363,
          11.73018741607666,
          12.14699935913086,
          12.910449028015137,
          12.13129997253418,
          11.329828262329102,
          11.69132137298584,
          11.068687438964844,
          10.899730682373047,
          12.205633163452148,
          11.83277416229248,
          11.88914966583252,
          11.809102058410645,
          11.745542526245117,
          12.259706497192383,
          11.407000541687012,
          11.278526306152344,
          11.517618179321289,
          12.212002754211426,
          12.232638359069824,
          11.798667907714844,
          11.288941383361816,
          12.079380989074707,
          11.64028263092041,
          11.66847038269043,
          11.43708324432373,
          12.315196990966797,
          11.017531394958496,
          11.366053581237793,
          11.064200401306152
         ],
         "y": [
          9.494222640991211,
          10.151616096496582,
          7.0664448738098145,
          7.068950653076172,
          7.934414863586426,
          8.22962760925293,
          9.33600902557373,
          7.118183135986328,
          8.791032791137695,
          9.137572288513184,
          9.370362281799316,
          10.243430137634277,
          9.853471755981445,
          9.854674339294434,
          8.70948600769043,
          6.999284744262695,
          7.0988335609436035,
          8.789990425109863,
          8.963540077209473,
          7.559093952178955,
          10.349138259887695,
          9.453768730163574,
          7.809448719024658,
          8.647111892700195,
          7.784933567047119,
          7.045527935028076,
          7.9375786781311035,
          7.770362854003906,
          10.007500648498535,
          8.560149192810059,
          7.7644758224487305,
          8.339832305908203,
          9.677164077758789,
          8.947053909301758,
          7.104022979736328,
          9.758926391601562,
          8.070084571838379,
          7.5638322830200195,
          7.25363826751709,
          7.561784267425537
         ],
         "z": [
          0.857403039932251,
          -0.17445190250873566,
          1.124645471572876,
          2.52042555809021,
          1.4053293466567993,
          1.4780174493789673,
          -0.12028105556964874,
          1.6235132217407227,
          -0.059667084366083145,
          1.116166591644287,
          -0.26213717460632324,
          0.4891311228275299,
          0.20856937766075134,
          -0.1883825659751892,
          -0.051468826830387115,
          1.8103440999984741,
          2.462005138397217,
          1.3513447046279907,
          1.0049104690551758,
          1.611256718635559,
          0.16573366522789001,
          0.6665462255477905,
          2.1318788528442383,
          0.5478200316429138,
          0.31706398725509644,
          2.3085317611694336,
          0.5035575032234192,
          1.1097311973571777,
          0.5161517262458801,
          0.8280468583106995,
          0.7660506367683411,
          0.7511205673217773,
          -0.04900791496038437,
          1.6425844430923462,
          2.046496868133545,
          0.012915067374706268,
          1.4326163530349731,
          1.8735564947128296,
          2.1408207416534424,
          1.7990747690200806
         ]
        }
       ],
       "layout": {
        "height": 600,
        "legend": {
         "title": {
          "text": "category"
         },
         "tracegroupgap": 0
        },
        "scene": {
         "domain": {
          "x": [
           0,
           1
          ],
          "y": [
           0,
           1
          ]
         },
         "xaxis": {
          "title": {
           "text": "0"
          }
         },
         "yaxis": {
          "title": {
           "text": "1"
          }
         },
         "zaxis": {
          "title": {
           "text": "2"
          }
         }
        },
        "template": {
         "data": {
          "bar": [
           {
            "error_x": {
             "color": "#2a3f5f"
            },
            "error_y": {
             "color": "#2a3f5f"
            },
            "marker": {
             "line": {
              "color": "#E5ECF6",
              "width": 0.5
             },
             "pattern": {
              "fillmode": "overlay",
              "size": 10,
              "solidity": 0.2
             }
            },
            "type": "bar"
           }
          ],
          "barpolar": [
           {
            "marker": {
             "line": {
              "color": "#E5ECF6",
              "width": 0.5
             },
             "pattern": {
              "fillmode": "overlay",
              "size": 10,
              "solidity": 0.2
             }
            },
            "type": "barpolar"
           }
          ],
          "carpet": [
           {
            "aaxis": {
             "endlinecolor": "#2a3f5f",
             "gridcolor": "white",
             "linecolor": "white",
             "minorgridcolor": "white",
             "startlinecolor": "#2a3f5f"
            },
            "baxis": {
             "endlinecolor": "#2a3f5f",
             "gridcolor": "white",
             "linecolor": "white",
             "minorgridcolor": "white",
             "startlinecolor": "#2a3f5f"
            },
            "type": "carpet"
           }
          ],
          "choropleth": [
           {
            "colorbar": {
             "outlinewidth": 0,
             "ticks": ""
            },
            "type": "choropleth"
           }
          ],
          "contour": [
           {
            "colorbar": {
             "outlinewidth": 0,
             "ticks": ""
            },
            "colorscale": [
             [
              0,
              "#0d0887"
             ],
             [
              0.1111111111111111,
              "#46039f"
             ],
             [
              0.2222222222222222,
              "#7201a8"
             ],
             [
              0.3333333333333333,
              "#9c179e"
             ],
             [
              0.4444444444444444,
              "#bd3786"
             ],
             [
              0.5555555555555556,
              "#d8576b"
             ],
             [
              0.6666666666666666,
              "#ed7953"
             ],
             [
              0.7777777777777778,
              "#fb9f3a"
             ],
             [
              0.8888888888888888,
              "#fdca26"
             ],
             [
              1,
              "#f0f921"
             ]
            ],
            "type": "contour"
           }
          ],
          "contourcarpet": [
           {
            "colorbar": {
             "outlinewidth": 0,
             "ticks": ""
            },
            "type": "contourcarpet"
           }
          ],
          "heatmap": [
           {
            "colorbar": {
             "outlinewidth": 0,
             "ticks": ""
            },
            "colorscale": [
             [
              0,
              "#0d0887"
             ],
             [
              0.1111111111111111,
              "#46039f"
             ],
             [
              0.2222222222222222,
              "#7201a8"
             ],
             [
              0.3333333333333333,
              "#9c179e"
             ],
             [
              0.4444444444444444,
              "#bd3786"
             ],
             [
              0.5555555555555556,
              "#d8576b"
             ],
             [
              0.6666666666666666,
              "#ed7953"
             ],
             [
              0.7777777777777778,
              "#fb9f3a"
             ],
             [
              0.8888888888888888,
              "#fdca26"
             ],
             [
              1,
              "#f0f921"
             ]
            ],
            "type": "heatmap"
           }
          ],
          "heatmapgl": [
           {
            "colorbar": {
             "outlinewidth": 0,
             "ticks": ""
            },
            "colorscale": [
             [
              0,
              "#0d0887"
             ],
             [
              0.1111111111111111,
              "#46039f"
             ],
             [
              0.2222222222222222,
              "#7201a8"
             ],
             [
              0.3333333333333333,
              "#9c179e"
             ],
             [
              0.4444444444444444,
              "#bd3786"
             ],
             [
              0.5555555555555556,
              "#d8576b"
             ],
             [
              0.6666666666666666,
              "#ed7953"
             ],
             [
              0.7777777777777778,
              "#fb9f3a"
             ],
             [
              0.8888888888888888,
              "#fdca26"
             ],
             [
              1,
              "#f0f921"
             ]
            ],
            "type": "heatmapgl"
           }
          ],
          "histogram": [
           {
            "marker": {
             "pattern": {
              "fillmode": "overlay",
              "size": 10,
              "solidity": 0.2
             }
            },
            "type": "histogram"
           }
          ],
          "histogram2d": [
           {
            "colorbar": {
             "outlinewidth": 0,
             "ticks": ""
            },
            "colorscale": [
             [
              0,
              "#0d0887"
             ],
             [
              0.1111111111111111,
              "#46039f"
             ],
             [
              0.2222222222222222,
              "#7201a8"
             ],
             [
              0.3333333333333333,
              "#9c179e"
             ],
             [
              0.4444444444444444,
              "#bd3786"
             ],
             [
              0.5555555555555556,
              "#d8576b"
             ],
             [
              0.6666666666666666,
              "#ed7953"
             ],
             [
              0.7777777777777778,
              "#fb9f3a"
             ],
             [
              0.8888888888888888,
              "#fdca26"
             ],
             [
              1,
              "#f0f921"
             ]
            ],
            "type": "histogram2d"
           }
          ],
          "histogram2dcontour": [
           {
            "colorbar": {
             "outlinewidth": 0,
             "ticks": ""
            },
            "colorscale": [
             [
              0,
              "#0d0887"
             ],
             [
              0.1111111111111111,
              "#46039f"
             ],
             [
              0.2222222222222222,
              "#7201a8"
             ],
             [
              0.3333333333333333,
              "#9c179e"
             ],
             [
              0.4444444444444444,
              "#bd3786"
             ],
             [
              0.5555555555555556,
              "#d8576b"
             ],
             [
              0.6666666666666666,
              "#ed7953"
             ],
             [
              0.7777777777777778,
              "#fb9f3a"
             ],
             [
              0.8888888888888888,
              "#fdca26"
             ],
             [
              1,
              "#f0f921"
             ]
            ],
            "type": "histogram2dcontour"
           }
          ],
          "mesh3d": [
           {
            "colorbar": {
             "outlinewidth": 0,
             "ticks": ""
            },
            "type": "mesh3d"
           }
          ],
          "parcoords": [
           {
            "line": {
             "colorbar": {
              "outlinewidth": 0,
              "ticks": ""
             }
            },
            "type": "parcoords"
           }
          ],
          "pie": [
           {
            "automargin": true,
            "type": "pie"
           }
          ],
          "scatter": [
           {
            "marker": {
             "colorbar": {
              "outlinewidth": 0,
              "ticks": ""
             }
            },
            "type": "scatter"
           }
          ],
          "scatter3d": [
           {
            "line": {
             "colorbar": {
              "outlinewidth": 0,
              "ticks": ""
             }
            },
            "marker": {
             "colorbar": {
              "outlinewidth": 0,
              "ticks": ""
             }
            },
            "type": "scatter3d"
           }
          ],
          "scattercarpet": [
           {
            "marker": {
             "colorbar": {
              "outlinewidth": 0,
              "ticks": ""
             }
            },
            "type": "scattercarpet"
           }
          ],
          "scattergeo": [
           {
            "marker": {
             "colorbar": {
              "outlinewidth": 0,
              "ticks": ""
             }
            },
            "type": "scattergeo"
           }
          ],
          "scattergl": [
           {
            "marker": {
             "colorbar": {
              "outlinewidth": 0,
              "ticks": ""
             }
            },
            "type": "scattergl"
           }
          ],
          "scattermapbox": [
           {
            "marker": {
             "colorbar": {
              "outlinewidth": 0,
              "ticks": ""
             }
            },
            "type": "scattermapbox"
           }
          ],
          "scatterpolar": [
           {
            "marker": {
             "colorbar": {
              "outlinewidth": 0,
              "ticks": ""
             }
            },
            "type": "scatterpolar"
           }
          ],
          "scatterpolargl": [
           {
            "marker": {
             "colorbar": {
              "outlinewidth": 0,
              "ticks": ""
             }
            },
            "type": "scatterpolargl"
           }
          ],
          "scatterternary": [
           {
            "marker": {
             "colorbar": {
              "outlinewidth": 0,
              "ticks": ""
             }
            },
            "type": "scatterternary"
           }
          ],
          "surface": [
           {
            "colorbar": {
             "outlinewidth": 0,
             "ticks": ""
            },
            "colorscale": [
             [
              0,
              "#0d0887"
             ],
             [
              0.1111111111111111,
              "#46039f"
             ],
             [
              0.2222222222222222,
              "#7201a8"
             ],
             [
              0.3333333333333333,
              "#9c179e"
             ],
             [
              0.4444444444444444,
              "#bd3786"
             ],
             [
              0.5555555555555556,
              "#d8576b"
             ],
             [
              0.6666666666666666,
              "#ed7953"
             ],
             [
              0.7777777777777778,
              "#fb9f3a"
             ],
             [
              0.8888888888888888,
              "#fdca26"
             ],
             [
              1,
              "#f0f921"
             ]
            ],
            "type": "surface"
           }
          ],
          "table": [
           {
            "cells": {
             "fill": {
              "color": "#EBF0F8"
             },
             "line": {
              "color": "white"
             }
            },
            "header": {
             "fill": {
              "color": "#C8D4E3"
             },
             "line": {
              "color": "white"
             }
            },
            "type": "table"
           }
          ]
         },
         "layout": {
          "annotationdefaults": {
           "arrowcolor": "#2a3f5f",
           "arrowhead": 0,
           "arrowwidth": 1
          },
          "autotypenumbers": "strict",
          "coloraxis": {
           "colorbar": {
            "outlinewidth": 0,
            "ticks": ""
           }
          },
          "colorscale": {
           "diverging": [
            [
             0,
             "#8e0152"
            ],
            [
             0.1,
             "#c51b7d"
            ],
            [
             0.2,
             "#de77ae"
            ],
            [
             0.3,
             "#f1b6da"
            ],
            [
             0.4,
             "#fde0ef"
            ],
            [
             0.5,
             "#f7f7f7"
            ],
            [
             0.6,
             "#e6f5d0"
            ],
            [
             0.7,
             "#b8e186"
            ],
            [
             0.8,
             "#7fbc41"
            ],
            [
             0.9,
             "#4d9221"
            ],
            [
             1,
             "#276419"
            ]
           ],
           "sequential": [
            [
             0,
             "#0d0887"
            ],
            [
             0.1111111111111111,
             "#46039f"
            ],
            [
             0.2222222222222222,
             "#7201a8"
            ],
            [
             0.3333333333333333,
             "#9c179e"
            ],
            [
             0.4444444444444444,
             "#bd3786"
            ],
            [
             0.5555555555555556,
             "#d8576b"
            ],
            [
             0.6666666666666666,
             "#ed7953"
            ],
            [
             0.7777777777777778,
             "#fb9f3a"
            ],
            [
             0.8888888888888888,
             "#fdca26"
            ],
            [
             1,
             "#f0f921"
            ]
           ],
           "sequentialminus": [
            [
             0,
             "#0d0887"
            ],
            [
             0.1111111111111111,
             "#46039f"
            ],
            [
             0.2222222222222222,
             "#7201a8"
            ],
            [
             0.3333333333333333,
             "#9c179e"
            ],
            [
             0.4444444444444444,
             "#bd3786"
            ],
            [
             0.5555555555555556,
             "#d8576b"
            ],
            [
             0.6666666666666666,
             "#ed7953"
            ],
            [
             0.7777777777777778,
             "#fb9f3a"
            ],
            [
             0.8888888888888888,
             "#fdca26"
            ],
            [
             1,
             "#f0f921"
            ]
           ]
          },
          "colorway": [
           "#636efa",
           "#EF553B",
           "#00cc96",
           "#ab63fa",
           "#FFA15A",
           "#19d3f3",
           "#FF6692",
           "#B6E880",
           "#FF97FF",
           "#FECB52"
          ],
          "font": {
           "color": "#2a3f5f"
          },
          "geo": {
           "bgcolor": "white",
           "lakecolor": "white",
           "landcolor": "#E5ECF6",
           "showlakes": true,
           "showland": true,
           "subunitcolor": "white"
          },
          "hoverlabel": {
           "align": "left"
          },
          "hovermode": "closest",
          "mapbox": {
           "style": "light"
          },
          "paper_bgcolor": "white",
          "plot_bgcolor": "#E5ECF6",
          "polar": {
           "angularaxis": {
            "gridcolor": "white",
            "linecolor": "white",
            "ticks": ""
           },
           "bgcolor": "#E5ECF6",
           "radialaxis": {
            "gridcolor": "white",
            "linecolor": "white",
            "ticks": ""
           }
          },
          "scene": {
           "xaxis": {
            "backgroundcolor": "#E5ECF6",
            "gridcolor": "white",
            "gridwidth": 2,
            "linecolor": "white",
            "showbackground": true,
            "ticks": "",
            "zerolinecolor": "white"
           },
           "yaxis": {
            "backgroundcolor": "#E5ECF6",
            "gridcolor": "white",
            "gridwidth": 2,
            "linecolor": "white",
            "showbackground": true,
            "ticks": "",
            "zerolinecolor": "white"
           },
           "zaxis": {
            "backgroundcolor": "#E5ECF6",
            "gridcolor": "white",
            "gridwidth": 2,
            "linecolor": "white",
            "showbackground": true,
            "ticks": "",
            "zerolinecolor": "white"
           }
          },
          "shapedefaults": {
           "line": {
            "color": "#2a3f5f"
           }
          },
          "ternary": {
           "aaxis": {
            "gridcolor": "white",
            "linecolor": "white",
            "ticks": ""
           },
           "baxis": {
            "gridcolor": "white",
            "linecolor": "white",
            "ticks": ""
           },
           "bgcolor": "#E5ECF6",
           "caxis": {
            "gridcolor": "white",
            "linecolor": "white",
            "ticks": ""
           }
          },
          "title": {
           "x": 0.05
          },
          "xaxis": {
           "automargin": true,
           "gridcolor": "white",
           "linecolor": "white",
           "ticks": "",
           "title": {
            "standoff": 15
           },
           "zerolinecolor": "white",
           "zerolinewidth": 2
          },
          "yaxis": {
           "automargin": true,
           "gridcolor": "white",
           "linecolor": "white",
           "ticks": "",
           "title": {
            "standoff": 15
           },
           "zerolinecolor": "white",
           "zerolinewidth": 2
          }
         }
        },
        "title": {
         "text": "Popular labels in the topic space"
        },
        "width": 600
       }
      }
     },
     "metadata": {},
     "output_type": "display_data"
    },
    {
     "data": {
      "image/png": "[encoded data removed]",
      "text/plain": [
       "<Figure size 1080x1080 with 1 Axes>"
      ]
     },
     "metadata": {},
     "output_type": "display_data"
    }
   ],
   "source": [
    "# Plot all tasks and constructs in a lower dimensional 3d space\n",
    "\n",
    "import plotly.express as px\n",
    "\n",
    "# projections = PCA(n_components=2, random_state=0).fit_transform(label_embeddings)\n",
    "projections_3d = UMAP(n_components=3, random_state=0).fit_transform(popular_label_embeddings)\n",
    "projections_2d = UMAP(n_components=2, random_state=0).fit_transform(label_embeddings)\n",
    "\n",
    "projections_3d = pd.DataFrame(projections_3d, index=popular_label_embeddings.index).reset_index()\n",
    "projections_2d = pd.DataFrame(projections_2d, index=label_embeddings.index).reset_index()\n",
    "\n",
    "fig = px.scatter_3d(projections_3d,\n",
    "                    x=0, y=1, z=2,\n",
    "                    color='category', hover_name='label',\n",
    "                    title='Popular labels in the topic space',\n",
    "                    color_discrete_sequence=['red','blue'],\n",
    "                    width=600, height=600,)\n",
    "fig.show()\n",
    "\n",
    "\n",
    "fig, ax = plt.subplots(1,1, figsize=(15,15))\n",
    "sns.scatterplot(data=projections_2d, x=0, y=1, ax=ax, s=50, hue='category')\n",
    "\n",
    "for (i,lbl, _,x, y) in projections_2d.itertuples():\n",
    "  lbl = f'{lbl[:12]}...' if len(lbl)>10 else lbl\n",
    "  ax.text(x+0.01, y-np.random.random()*.02, f'{lbl}', alpha=0.5, fontsize=12)\n",
    "\n",
    "ax.set(xlabel='UMAP 1', ylabel='UMAP 2')\n",
    "plt.suptitle('2D projection of the topic embeddings',y=.9)\n",
    "plt.show()"
   ]
  },
  {
   "cell_type": "code",
   "execution_count": 15,
   "metadata": {},
   "outputs": [
    {
     "name": "stdout",
     "output_type": "stream",
     "text": [
      "Last updated: 2022-01-21T16:09:50.086463+01:00\n",
      "\n",
      "Python implementation: CPython\n",
      "Python version       : 3.9.9\n",
      "IPython version      : 8.0.0\n",
      "\n",
      "Compiler    : Clang 11.1.0 \n",
      "OS          : Darwin\n",
      "Release     : 21.2.0\n",
      "Machine     : x86_64\n",
      "Processor   : i386\n",
      "CPU cores   : 12\n",
      "Architecture: 64bit\n",
      "\n",
      "umap          : 0.5.2\n",
      "pytorch       : not installed\n",
      "scikit-learn  : 0.0\n",
      "python.cogtext: 0.1.2022012116\n",
      "\n",
      "plotly      : 5.3.1\n",
      "seaborn     : 0.11.2\n",
      "pandas      : 1.3.4\n",
      "dash_bio    : 0.8.0\n",
      "numpy       : 1.20.3\n",
      "sys         : 3.9.9 | packaged by conda-forge | (main, Dec 20 2021, 02:38:53) \n",
      "[Clang 11.1.0 ]\n",
      "matplotlib  : 3.4.3\n",
      "stellargraph: 1.2.1\n",
      "\n"
     ]
    }
   ],
   "source": [
    "%reload_ext watermark\n",
    "%watermark\n",
    "%watermark -iv -p umap,pytorch,scikit-learn,python.cogtext"
   ]
  }
 ],
 "metadata": {
  "interpreter": {
   "hash": "4d4c55ad0dd25f9ca95e4d49a929aa3f71bfb37020ae570a9996c3e164818202"
  },
  "kernelspec": {
   "display_name": "Python 3.9.7 64-bit ('py3': conda)",
   "name": "python3"
  },
  "language_info": {
   "codemirror_mode": {
    "name": "ipython",
    "version": 3
   },
   "file_extension": ".py",
   "mimetype": "text/x-python",
   "name": "python",
   "nbconvert_exporter": "python",
   "pygments_lexer": "ipython3",
   "version": "3.9.9"
  },
  "orig_nbformat": 4
 },
 "nbformat": 4,
 "nbformat_minor": 2
}
