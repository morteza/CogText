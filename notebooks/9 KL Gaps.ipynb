{
 "cells": [
  {
   "cell_type": "code",
   "execution_count": 2,
   "metadata": {},
   "outputs": [],
   "source": [
    "%reload_ext autoreload\n",
    "%autoreload 2\n",
    "\n",
    "import pandas as pd\n",
    "import numpy as np\n",
    "from sklearn.decomposition import PCA\n",
    "from umap import UMAP\n",
    "import matplotlib.pyplot as plt\n",
    "import seaborn as sns; sns.set('poster')  # noqa\n",
    "import dash_bio as dashbio\n",
    "from python.cogtext.datasets.pubmed import PubMedDataLoader\n",
    "from python.cogtext.similarity_matrix import get_similarity_matrix\n",
    "from python.cogtext.similarity_matrix import multivariate_normal_kl, multivariate_normal_js\n",
    "from sklearn.preprocessing import StandardScaler\n",
    "from tqdm import tqdm; tqdm.pandas()\n",
    "import tensorflow as tf\n",
    "import tensorflow_probability as tfp\n",
    "tfd = tfp.distributions\n"
   ]
  },
  {
   "cell_type": "code",
   "execution_count": 3,
   "metadata": {},
   "outputs": [
    {
     "name": "stdout",
     "output_type": "stream",
     "text": [
      "Successfully loaded a list of 293014 topic-embeddings.\n"
     ]
    }
   ],
   "source": [
    "# load weights, clusters and metadata (takes ~ 20sec)\n",
    "\n",
    "clusters = pd.read_csv('models/gpt3/abstracts_gpt3ada_clusters.csv.gz', index_col=0)\n",
    "weights = np.load('models/gpt3/abstracts_gpt3ada_weights.npz')['arr_0']\n",
    "clusters['weights'] = list(weights)\n",
    "\n",
    "# load abstracts\n",
    "pubmed = PubMedDataLoader(preprocessed=False, drop_low_occurred_labels=False).load()\n",
    "pubmed = pubmed.merge(clusters, on='pmid', how='left')\n",
    "\n",
    "pubmed.dropna(subset=['cluster'], inplace=True)\n",
    "\n",
    "tasks = pubmed.query('category.str.contains(\"Task\")')['label'].unique()\n",
    "constructs = pubmed.query('category.str.contains(\"Task\")')['label'].unique()\n",
    "\n",
    "print(f'Successfully loaded a list of {len(pubmed)} topic-embeddings.')"
   ]
  },
  {
   "cell_type": "code",
   "execution_count": 4,
   "metadata": {},
   "outputs": [
    {
     "name": "stdout",
     "output_type": "stream",
     "text": [
      "Popular labels: Attention, WorkingMemory, Planning, Initiation, Sequencing, ExecutiveFunction, Inhibition, Fluency, Reasoning, ProcessingSpeed, EpisodicMemory, Stroop, LongTermMemory, Shifting, ProblemSolving, CogntiveControl, InhibitoryControl, Verbal_fluency_task, ShortTermMemory, Mindfulness, SelectiveAttention, SelfRegulation, TMT_-_Trail_Making_Task, Digit_Span, WCST_-_Wisconsin_Card_Sort_Test, Go_NoGo, NBackTask, FlankerTask, StopSignalTask, IGT_-_Iowa_Gambling_task, PVT_-_Psychomotor_Vigilance_task, ContiniousPerformanceTask, Span_Task, CategoryFluencyTask, Simon_task, PEG_-_Pencil_Tapping_task, Semantic_Fluency_test, TowerOfLondon, DiscountingTask, Sorting_task\n"
     ]
    }
   ],
   "source": [
    "n_skip = 20\n",
    "n_top_labels_per_category = 20\n",
    "\n",
    "popular_labels = (pubmed.groupby(['category','label'])['pmid']\n",
    "                        .count().sort_values(ascending=False)\n",
    "                        .groupby('category').head(n_top_labels_per_category)\n",
    "                        .index.get_level_values('label').to_list())\n",
    "popular_pubmed = pubmed.query('label in @popular_labels')\n",
    "\n",
    "X = popular_pubmed.groupby('label')['weights'].apply(lambda x: np.stack(x))\n",
    "\n",
    "print(f\"Popular labels: {', '.join(popular_labels)}\")"
   ]
  },
  {
   "cell_type": "code",
   "execution_count": 8,
   "metadata": {},
   "outputs": [
    {
     "name": "stderr",
     "output_type": "stream",
     "text": [
      "100%|██████████| 40/40 [00:39<00:00,  1.00it/s]\n"
     ]
    }
   ],
   "source": [
    "# KL model\n",
    "def nll(X, dist):\n",
    "  return - tf.reduce_mean(dist.log_prob(X))\n",
    "\n",
    "@tf.function\n",
    "def get_loss_and_grads(X_train, dist):\n",
    "  with tf.GradientTape() as tape:\n",
    "    tape.watch(dist.trainable_variables)\n",
    "    loss = nll(X_train, dist)\n",
    "  grads = tape.gradient(loss, dist.trainable_variables)\n",
    "  return loss, grads\n",
    "\n",
    "def fit_multivariate_normal(data, n_epochs=10, batch_size=100):\n",
    "  dist = tfd.MultivariateNormalDiag(\n",
    "    loc=tf.Variable(data.mean(axis=0), name='loc'),\n",
    "    scale_diag=tf.Variable(np.ones(data.shape[1]), name='scale_diag'))\n",
    "\n",
    "  optimizer = tf.keras.optimizers.Adam(learning_rate=0.05)\n",
    "\n",
    "  for _ in range(n_epochs):\n",
    "    # for batch in np.array_split(data, 1 + (data.shape[0] // batch_size)):\n",
    "    batch = data  # use all the data in each epoch\n",
    "    loss, grads = get_loss_and_grads(batch, dist)\n",
    "    optimizer.apply_gradients(zip(grads, dist.trainable_variables))\n",
    "    # loc_value = dist.loc.value()\n",
    "  return dist\n",
    "\n",
    "X_dists = X.progress_apply(fit_multivariate_normal)\n"
   ]
  },
  {
   "cell_type": "code",
   "execution_count": null,
   "metadata": {},
   "outputs": [],
   "source": [
    "# cache the node-to-node kl distance matrix\n",
    "js_losses = np.zeros((len(X_dists), len(X_dists)))\n",
    "\n",
    "for i,lbl_i in tqdm(enumerate(X_dists.index)):\n",
    "  for j, lbl_j in enumerate(X_dists.index):\n",
    "    P = X_dists.loc[lbl_i]\n",
    "    Q = X_dists.loc[lbl_j]\n",
    "    M = tfd.MultivariateNormalDiag(\n",
    "      loc=(P.mean() + Q.mean())/2.,\n",
    "      scale_diag=(P.stddev() + Q.stddev())/2.\n",
    "    )\n",
    "    js = .5 * (P.kl_divergence(M) + Q.kl_divergence(M)).numpy()\n",
    "    # print(X_dists.loc[lbl_i].trainable_variables[1].shape)\n",
    "    js_losses[i,j] = js\n",
    "\n",
    "js_losses = pd.DataFrame(js_losses, index=X_dists.index, columns=X_dists.index)\n",
    "sns.clustermap(js_losses, cmap='viridis', figsize=(25,25))"
   ]
  },
  {
   "cell_type": "code",
   "execution_count": 20,
   "metadata": {},
   "outputs": [],
   "source": [
    "# store it for future use\n",
    "js_losses.to_csv('models/gpt3/multivariate_normal_js_losses.csv')"
   ]
  },
  {
   "cell_type": "code",
   "execution_count": 5,
   "metadata": {},
   "outputs": [
    {
     "ename": "NameError",
     "evalue": "name 'js_losses' is not defined",
     "output_type": "error",
     "traceback": [
      "\u001b[0;31m---------------------------------------------------------------------------\u001b[0m",
      "\u001b[0;31mNameError\u001b[0m                                 Traceback (most recent call last)",
      "Input \u001b[0;32mIn [5]\u001b[0m, in \u001b[0;36m<module>\u001b[0;34m\u001b[0m\n\u001b[1;32m      2\u001b[0m constructs \u001b[38;5;241m=\u001b[39m pubmed\u001b[38;5;241m.\u001b[39mquery(\u001b[38;5;124m'\u001b[39m\u001b[38;5;124mcategory.str.contains(\u001b[39m\u001b[38;5;124m\"\u001b[39m\u001b[38;5;124mConstruct\u001b[39m\u001b[38;5;124m\"\u001b[39m\u001b[38;5;124m)\u001b[39m\u001b[38;5;124m'\u001b[39m)[\u001b[38;5;124m'\u001b[39m\u001b[38;5;124mlabel\u001b[39m\u001b[38;5;124m'\u001b[39m]\u001b[38;5;241m.\u001b[39munique()\n\u001b[1;32m      4\u001b[0m \u001b[38;5;66;03m# losses.drop(columns=constructs, inplace=True)\u001b[39;00m\n\u001b[1;32m      5\u001b[0m \u001b[38;5;66;03m# losses.drop(index=tasks, inplace=True)\u001b[39;00m\n\u001b[1;32m      6\u001b[0m \n\u001b[1;32m      7\u001b[0m \u001b[38;5;66;03m# drop tasks from rows and columns\u001b[39;00m\n\u001b[1;32m      9\u001b[0m sns\u001b[38;5;241m.\u001b[39mclustermap(\n\u001b[0;32m---> 10\u001b[0m   \u001b[43mjs_losses\u001b[49m,\n\u001b[1;32m     11\u001b[0m   figsize\u001b[38;5;241m=\u001b[39m(\u001b[38;5;241m25\u001b[39m,\u001b[38;5;241m25\u001b[39m),\n\u001b[1;32m     12\u001b[0m   cmap\u001b[38;5;241m=\u001b[39m\u001b[38;5;124m'\u001b[39m\u001b[38;5;124mRdBu\u001b[39m\u001b[38;5;124m'\u001b[39m, robust\u001b[38;5;241m=\u001b[39m\u001b[38;5;28;01mTrue\u001b[39;00m)\n\u001b[1;32m     14\u001b[0m plt\u001b[38;5;241m.\u001b[39msuptitle(\u001b[38;5;124m'\u001b[39m\u001b[38;5;124mJensen-Shannon divergence\u001b[39m\u001b[38;5;124m'\u001b[39m)\n\u001b[1;32m     15\u001b[0m plt\u001b[38;5;241m.\u001b[39mshow()\n",
      "\u001b[0;31mNameError\u001b[0m: name 'js_losses' is not defined"
     ]
    }
   ],
   "source": [
    "tasks = pubmed.query('category.str.contains(\"Task\")')['label'].unique()\n",
    "constructs = pubmed.query('category.str.contains(\"Construct\")')['label'].unique()\n",
    "\n",
    "# losses.drop(columns=constructs, inplace=True)\n",
    "# losses.drop(index=tasks, inplace=True)\n",
    "\n",
    "# drop tasks from rows and columns\n",
    "\n",
    "sns.clustermap(\n",
    "  js_losses,\n",
    "  figsize=(25,25),\n",
    "  cmap='RdBu', robust=True)\n",
    "\n",
    "plt.suptitle('Jensen-Shannon divergence')\n",
    "plt.show()\n"
   ]
  },
  {
   "cell_type": "markdown",
   "metadata": {},
   "source": [
    "## Constructs"
   ]
  },
  {
   "cell_type": "code",
   "execution_count": 21,
   "metadata": {},
   "outputs": [
    {
     "data": {
      "application/vnd.plotly.v1+json": {
       "config": {
        "plotlyServerURL": "https://plot.ly"
       },
       "data": [
        {
         "hoverinfo": "y+name",
         "line": {
          "width": 0.5
         },
         "marker": {
          "color": "rgb(0,116,217)"
         },
         "mode": "lines",
         "name": "Col Cluster 0",
         "type": "scatter",
         "x": [
          5,
          5,
          33.017578125,
          33.017578125
         ],
         "xaxis": "x2",
         "y": [
          0,
          0.1541487881000471,
          0.1541487881000471,
          0.10232826810249422
         ],
         "yaxis": "y2"
        },
        {
         "hoverinfo": "y+name",
         "line": {
          "width": 0.5
         },
         "marker": {
          "color": "rgb(0,116,217)"
         },
         "mode": "lines",
         "name": "Col Cluster 1",
         "type": "scatter",
         "x": [
          15,
          15,
          51.03515625,
          51.03515625
         ],
         "xaxis": "x2",
         "y": [
          0,
          0.10232826810249422,
          0.10232826810249422,
          0.10041622104587268
         ],
         "yaxis": "y2"
        },
        {
         "hoverinfo": "y+name",
         "line": {
          "width": 0.5
         },
         "marker": {
          "color": "rgb(0,116,217)"
         },
         "mode": "lines",
         "name": "Col Cluster 2",
         "type": "scatter",
         "x": [
          25,
          25,
          35,
          35
         ],
         "xaxis": "x2",
         "y": [
          0,
          0.0814037890501696,
          0.0814037890501696,
          0
         ],
         "yaxis": "y2"
        },
        {
         "hoverinfo": "y+name",
         "line": {
          "width": 0.5
         },
         "marker": {
          "color": "rgb(0,116,217)"
         },
         "mode": "lines",
         "name": "Col Cluster 3",
         "type": "scatter",
         "x": [
          30,
          30,
          72.0703125,
          72.0703125
         ],
         "xaxis": "x2",
         "y": [
          0.0814037890501696,
          0.10041622104587268,
          0.10041622104587268,
          0.099060784948846
         ],
         "yaxis": "y2"
        },
        {
         "hoverinfo": "y+name",
         "line": {
          "width": 0.5
         },
         "marker": {
          "color": "rgb(0,116,217)"
         },
         "mode": "lines",
         "name": "Col Cluster 4",
         "type": "scatter",
         "x": [
          45,
          45,
          99.140625,
          99.140625
         ],
         "xaxis": "x2",
         "y": [
          0,
          0.099060784948846,
          0.099060784948846,
          0.09392726948912004
         ],
         "yaxis": "y2"
        },
        {
         "hoverinfo": "y+name",
         "line": {
          "width": 0.5
         },
         "marker": {
          "color": "rgb(0,116,217)"
         },
         "mode": "lines",
         "name": "Col Cluster 5",
         "type": "scatter",
         "x": [
          55,
          55,
          65,
          65
         ],
         "xaxis": "x2",
         "y": [
          0,
          0.07581497087387255,
          0.07581497087387255,
          0
         ],
         "yaxis": "y2"
        },
        {
         "hoverinfo": "y+name",
         "line": {
          "width": 0.5
         },
         "marker": {
          "color": "rgb(0,116,217)"
         },
         "mode": "lines",
         "name": "Col Cluster 6",
         "type": "scatter",
         "x": [
          60,
          60,
          82.5,
          82.5
         ],
         "xaxis": "x2",
         "y": [
          0.07581497087387255,
          0.08249553984469363,
          0.08249553984469363,
          0.07743118775099553
         ],
         "yaxis": "y2"
        },
        {
         "hoverinfo": "y+name",
         "line": {
          "width": 0.5
         },
         "marker": {
          "color": "rgb(0,116,217)"
         },
         "mode": "lines",
         "name": "Col Cluster 7",
         "type": "scatter",
         "x": [
          71.25,
          71.25,
          127.03125,
          127.03125
         ],
         "xaxis": "x2",
         "y": [
          0.08249553984469363,
          0.09392726948912004,
          0.09392726948912004,
          0.08898195749429054
         ],
         "yaxis": "y2"
        },
        {
         "hoverinfo": "y+name",
         "line": {
          "width": 0.5
         },
         "marker": {
          "color": "rgb(0,116,217)"
         },
         "mode": "lines",
         "name": "Col Cluster 8",
         "type": "scatter",
         "x": [
          75,
          75,
          90,
          90
         ],
         "xaxis": "x2",
         "y": [
          0,
          0.07743118775099553,
          0.07743118775099553,
          0.07202264509391401
         ],
         "yaxis": "y2"
        },
        {
         "hoverinfo": "y+name",
         "line": {
          "width": 0.5
         },
         "marker": {
          "color": "rgb(0,116,217)"
         },
         "mode": "lines",
         "name": "Col Cluster 9",
         "type": "scatter",
         "x": [
          85,
          85,
          95,
          95
         ],
         "xaxis": "x2",
         "y": [
          0,
          0.07202264509391401,
          0.07202264509391401,
          0
         ],
         "yaxis": "y2"
        },
        {
         "hoverinfo": "y+name",
         "line": {
          "width": 0.5
         },
         "marker": {
          "color": "rgb(0,116,217)"
         },
         "mode": "lines",
         "name": "Col Cluster 10",
         "type": "scatter",
         "x": [
          105,
          105,
          115,
          115
         ],
         "xaxis": "x2",
         "y": [
          0,
          0.08137714870711431,
          0.08137714870711431,
          0
         ],
         "yaxis": "y2"
        },
        {
         "hoverinfo": "y+name",
         "line": {
          "width": 0.5
         },
         "marker": {
          "color": "rgb(0,116,217)"
         },
         "mode": "lines",
         "name": "Col Cluster 11",
         "type": "scatter",
         "x": [
          110,
          110,
          144.0625,
          144.0625
         ],
         "xaxis": "x2",
         "y": [
          0.08137714870711431,
          0.08898195749429054,
          0.08898195749429054,
          0.08477253399211204
         ],
         "yaxis": "y2"
        },
        {
         "hoverinfo": "y+name",
         "line": {
          "width": 0.5
         },
         "marker": {
          "color": "rgb(0,116,217)"
         },
         "mode": "lines",
         "name": "Col Cluster 12",
         "type": "scatter",
         "x": [
          125,
          125,
          135,
          135
         ],
         "xaxis": "x2",
         "y": [
          0,
          0.07930186411126637,
          0.07930186411126637,
          0
         ],
         "yaxis": "y2"
        },
        {
         "hoverinfo": "y+name",
         "line": {
          "width": 0.5
         },
         "marker": {
          "color": "rgb(0,116,217)"
         },
         "mode": "lines",
         "name": "Col Cluster 13",
         "type": "scatter",
         "x": [
          130,
          130,
          158.125,
          158.125
         ],
         "xaxis": "x2",
         "y": [
          0.07930186411126637,
          0.08477253399211204,
          0.08477253399211204,
          0.07958571340185185
         ],
         "yaxis": "y2"
        },
        {
         "hoverinfo": "y+name",
         "line": {
          "width": 0.5
         },
         "marker": {
          "color": "rgb(0,116,217)"
         },
         "mode": "lines",
         "name": "Col Cluster 14",
         "type": "scatter",
         "x": [
          145,
          145,
          171.25,
          171.25
         ],
         "xaxis": "x2",
         "y": [
          0,
          0.07958571340185185,
          0.07958571340185185,
          0.07652186791663362
         ],
         "yaxis": "y2"
        },
        {
         "hoverinfo": "y+name",
         "line": {
          "width": 0.5
         },
         "marker": {
          "color": "rgb(0,116,217)"
         },
         "mode": "lines",
         "name": "Col Cluster 15",
         "type": "scatter",
         "x": [
          155,
          155,
          165,
          165
         ],
         "xaxis": "x2",
         "y": [
          0,
          0.07196310619571486,
          0.07196310619571486,
          0
         ],
         "yaxis": "y2"
        },
        {
         "hoverinfo": "y+name",
         "line": {
          "width": 0.5
         },
         "marker": {
          "color": "rgb(0,116,217)"
         },
         "mode": "lines",
         "name": "Col Cluster 16",
         "type": "scatter",
         "x": [
          160,
          160,
          182.5,
          182.5
         ],
         "xaxis": "x2",
         "y": [
          0.07196310619571486,
          0.07652186791663362,
          0.07652186791663362,
          0.07268100351453635
         ],
         "yaxis": "y2"
        },
        {
         "hoverinfo": "y+name",
         "line": {
          "width": 0.5
         },
         "marker": {
          "color": "rgb(0,116,217)"
         },
         "mode": "lines",
         "name": "Col Cluster 17",
         "type": "scatter",
         "x": [
          175,
          175,
          190,
          190
         ],
         "xaxis": "x2",
         "y": [
          0,
          0.07268100351453635,
          0.07268100351453635,
          0.06753862960347218
         ],
         "yaxis": "y2"
        },
        {
         "hoverinfo": "y+name",
         "line": {
          "width": 0.5
         },
         "marker": {
          "color": "rgb(0,116,217)"
         },
         "mode": "lines",
         "name": "Col Cluster 18",
         "type": "scatter",
         "x": [
          185,
          185,
          195,
          195
         ],
         "xaxis": "x2",
         "y": [
          0,
          0.06753862960347218,
          0.06753862960347218,
          0
         ],
         "yaxis": "y2"
        },
        {
         "hoverinfo": "x+name",
         "line": {
          "width": 0.5
         },
         "marker": {
          "color": "rgb(0,116,217)"
         },
         "mode": "lines",
         "name": "Row Cluster 0",
         "type": "scatter",
         "x": [
          0,
          -0.0814037890501696,
          -0.0814037890501696,
          0
         ],
         "xaxis": "x4",
         "y": [
          25,
          25,
          35,
          35
         ],
         "yaxis": "y4"
        },
        {
         "hoverinfo": "x+name",
         "line": {
          "width": 0.5
         },
         "marker": {
          "color": "rgb(0,116,217)"
         },
         "mode": "lines",
         "name": "Row Cluster 1",
         "type": "scatter",
         "x": [
          0,
          -0.06753862960347218,
          -0.06753862960347218,
          0
         ],
         "xaxis": "x4",
         "y": [
          185,
          185,
          195,
          195
         ],
         "yaxis": "y4"
        },
        {
         "hoverinfo": "x+name",
         "line": {
          "width": 0.5
         },
         "marker": {
          "color": "rgb(0,116,217)"
         },
         "mode": "lines",
         "name": "Row Cluster 2",
         "type": "scatter",
         "x": [
          0,
          -0.07268100351453635,
          -0.07268100351453635,
          -0.06753862960347218
         ],
         "xaxis": "x4",
         "y": [
          175,
          175,
          190,
          190
         ],
         "yaxis": "y4"
        },
        {
         "hoverinfo": "x+name",
         "line": {
          "width": 0.5
         },
         "marker": {
          "color": "rgb(0,116,217)"
         },
         "mode": "lines",
         "name": "Row Cluster 3",
         "type": "scatter",
         "x": [
          -0.07196310619571486,
          -0.07652186791663362,
          -0.07652186791663362,
          -0.07268100351453635
         ],
         "xaxis": "x4",
         "y": [
          160,
          160,
          182.5,
          182.5
         ],
         "yaxis": "y4"
        },
        {
         "hoverinfo": "x+name",
         "line": {
          "width": 0.5
         },
         "marker": {
          "color": "rgb(0,116,217)"
         },
         "mode": "lines",
         "name": "Row Cluster 4",
         "type": "scatter",
         "x": [
          0,
          -0.07196310619571486,
          -0.07196310619571486,
          0
         ],
         "xaxis": "x4",
         "y": [
          155,
          155,
          165,
          165
         ],
         "yaxis": "y4"
        },
        {
         "hoverinfo": "x+name",
         "line": {
          "width": 0.5
         },
         "marker": {
          "color": "rgb(0,116,217)"
         },
         "mode": "lines",
         "name": "Row Cluster 5",
         "type": "scatter",
         "x": [
          0,
          -0.07958571340185185,
          -0.07958571340185185,
          -0.07652186791663362
         ],
         "xaxis": "x4",
         "y": [
          145,
          145,
          171.25,
          171.25
         ],
         "yaxis": "y4"
        },
        {
         "hoverinfo": "x+name",
         "line": {
          "width": 0.5
         },
         "marker": {
          "color": "rgb(0,116,217)"
         },
         "mode": "lines",
         "name": "Row Cluster 6",
         "type": "scatter",
         "x": [
          -0.07930186411126637,
          -0.08477253399211204,
          -0.08477253399211204,
          -0.07958571340185185
         ],
         "xaxis": "x4",
         "y": [
          130,
          130,
          158.125,
          158.125
         ],
         "yaxis": "y4"
        },
        {
         "hoverinfo": "x+name",
         "line": {
          "width": 0.5
         },
         "marker": {
          "color": "rgb(0,116,217)"
         },
         "mode": "lines",
         "name": "Row Cluster 7",
         "type": "scatter",
         "x": [
          0,
          -0.07930186411126637,
          -0.07930186411126637,
          0
         ],
         "xaxis": "x4",
         "y": [
          125,
          125,
          135,
          135
         ],
         "yaxis": "y4"
        },
        {
         "hoverinfo": "x+name",
         "line": {
          "width": 0.5
         },
         "marker": {
          "color": "rgb(0,116,217)"
         },
         "mode": "lines",
         "name": "Row Cluster 8",
         "type": "scatter",
         "x": [
          -0.08137714870711431,
          -0.08898195749429054,
          -0.08898195749429054,
          -0.08477253399211204
         ],
         "xaxis": "x4",
         "y": [
          110,
          110,
          144.0625,
          144.0625
         ],
         "yaxis": "y4"
        },
        {
         "hoverinfo": "x+name",
         "line": {
          "width": 0.5
         },
         "marker": {
          "color": "rgb(0,116,217)"
         },
         "mode": "lines",
         "name": "Row Cluster 9",
         "type": "scatter",
         "x": [
          0,
          -0.08137714870711431,
          -0.08137714870711431,
          0
         ],
         "xaxis": "x4",
         "y": [
          105,
          105,
          115,
          115
         ],
         "yaxis": "y4"
        },
        {
         "hoverinfo": "x+name",
         "line": {
          "width": 0.5
         },
         "marker": {
          "color": "rgb(0,116,217)"
         },
         "mode": "lines",
         "name": "Row Cluster 10",
         "type": "scatter",
         "x": [
          0,
          -0.07202264509391401,
          -0.07202264509391401,
          0
         ],
         "xaxis": "x4",
         "y": [
          85,
          85,
          95,
          95
         ],
         "yaxis": "y4"
        },
        {
         "hoverinfo": "x+name",
         "line": {
          "width": 0.5
         },
         "marker": {
          "color": "rgb(0,116,217)"
         },
         "mode": "lines",
         "name": "Row Cluster 11",
         "type": "scatter",
         "x": [
          0,
          -0.07743118775099553,
          -0.07743118775099553,
          -0.07202264509391401
         ],
         "xaxis": "x4",
         "y": [
          75,
          75,
          90,
          90
         ],
         "yaxis": "y4"
        },
        {
         "hoverinfo": "x+name",
         "line": {
          "width": 0.5
         },
         "marker": {
          "color": "rgb(0,116,217)"
         },
         "mode": "lines",
         "name": "Row Cluster 12",
         "type": "scatter",
         "x": [
          -0.08249553984469363,
          -0.09392726948912004,
          -0.09392726948912004,
          -0.08898195749429054
         ],
         "xaxis": "x4",
         "y": [
          71.25,
          71.25,
          127.03125,
          127.03125
         ],
         "yaxis": "y4"
        },
        {
         "hoverinfo": "x+name",
         "line": {
          "width": 0.5
         },
         "marker": {
          "color": "rgb(0,116,217)"
         },
         "mode": "lines",
         "name": "Row Cluster 13",
         "type": "scatter",
         "x": [
          -0.07581497087387255,
          -0.08249553984469363,
          -0.08249553984469363,
          -0.07743118775099553
         ],
         "xaxis": "x4",
         "y": [
          60,
          60,
          82.5,
          82.5
         ],
         "yaxis": "y4"
        },
        {
         "hoverinfo": "x+name",
         "line": {
          "width": 0.5
         },
         "marker": {
          "color": "rgb(0,116,217)"
         },
         "mode": "lines",
         "name": "Row Cluster 14",
         "type": "scatter",
         "x": [
          0,
          -0.07581497087387255,
          -0.07581497087387255,
          0
         ],
         "xaxis": "x4",
         "y": [
          55,
          55,
          65,
          65
         ],
         "yaxis": "y4"
        },
        {
         "hoverinfo": "x+name",
         "line": {
          "width": 0.5
         },
         "marker": {
          "color": "rgb(0,116,217)"
         },
         "mode": "lines",
         "name": "Row Cluster 15",
         "type": "scatter",
         "x": [
          0,
          -0.099060784948846,
          -0.099060784948846,
          -0.09392726948912004
         ],
         "xaxis": "x4",
         "y": [
          45,
          45,
          99.140625,
          99.140625
         ],
         "yaxis": "y4"
        },
        {
         "hoverinfo": "x+name",
         "line": {
          "width": 0.5
         },
         "marker": {
          "color": "rgb(0,116,217)"
         },
         "mode": "lines",
         "name": "Row Cluster 16",
         "type": "scatter",
         "x": [
          -0.0814037890501696,
          -0.10041622104587268,
          -0.10041622104587268,
          -0.099060784948846
         ],
         "xaxis": "x4",
         "y": [
          30,
          30,
          72.0703125,
          72.0703125
         ],
         "yaxis": "y4"
        },
        {
         "hoverinfo": "x+name",
         "line": {
          "width": 0.5
         },
         "marker": {
          "color": "rgb(0,116,217)"
         },
         "mode": "lines",
         "name": "Row Cluster 17",
         "type": "scatter",
         "x": [
          0,
          -0.10232826810249422,
          -0.10232826810249422,
          -0.10041622104587268
         ],
         "xaxis": "x4",
         "y": [
          15,
          15,
          51.03515625,
          51.03515625
         ],
         "yaxis": "y4"
        },
        {
         "hoverinfo": "x+name",
         "line": {
          "width": 0.5
         },
         "marker": {
          "color": "rgb(0,116,217)"
         },
         "mode": "lines",
         "name": "Row Cluster 18",
         "type": "scatter",
         "x": [
          0,
          -0.1541487881000471,
          -0.1541487881000471,
          -0.10232826810249422
         ],
         "xaxis": "x4",
         "y": [
          5,
          5,
          33.017578125,
          33.017578125
         ],
         "yaxis": "y4"
        },
        {
         "colorbar": {
          "xpad": 100
         },
         "colorscale": [
          [
           0,
           "rgb(5,48,97)"
          ],
          [
           0.1,
           "rgb(33,102,172)"
          ],
          [
           0.2,
           "rgb(67,147,195)"
          ],
          [
           0.3,
           "rgb(146,197,222)"
          ],
          [
           0.4,
           "rgb(209,229,240)"
          ],
          [
           0.5,
           "rgb(247,247,247)"
          ],
          [
           0.6,
           "rgb(253,219,199)"
          ],
          [
           0.7,
           "rgb(244,165,130)"
          ],
          [
           0.8,
           "rgb(214,96,77)"
          ],
          [
           0.9,
           "rgb(178,24,43)"
          ],
          [
           1,
           "rgb(103,0,31)"
          ]
         ],
         "type": "heatmap",
         "x": [
          5,
          15,
          25,
          35,
          45,
          55,
          65,
          75,
          85,
          95,
          105,
          115,
          125,
          135,
          145,
          155,
          165,
          175,
          185,
          195
         ],
         "xaxis": "x5",
         "y": [
          5,
          15,
          25,
          35,
          45,
          55,
          65,
          75,
          85,
          95,
          105,
          115,
          125,
          135,
          145,
          155,
          165,
          175,
          185,
          195
         ],
         "yaxis": "y5",
         "z": [
          [
           -0.056180224896544215,
           0.0355755848238086,
           0.01865949695230329,
           0.02107137617617144,
           0.017607936860856432,
           0.021388585298719967,
           0.02673779072160587,
           0.021287338890755833,
           0.017914239091586848,
           0.0192001574824881,
           0.026151774922609172,
           0.025096122848580094,
           0.019577678630802953,
           0.016183809454412057,
           0.018781923153292426,
           0.024683994505281956,
           0.018379553640404903,
           0.017641152124817025,
           0.019714557983635042,
           0.017211217525864686
          ],
          [
           0.0355755848238086,
           -0.056180224896544215,
           0.006364557487267691,
           0.013263191278819461,
           0.014532473581787289,
           0.001775222294435129,
           0.010239706307508811,
           0.005325895594104298,
           0.008028887820328845,
           0.001892973246205007,
           0.008170695989566532,
           0.003966717091176554,
           0.005798795216090759,
           0.00946466492074631,
           0.0060486133058715585,
           0.003155536723600451,
           0.0061476828207494005,
           0.00293020048278559,
           -0.0020540793327211565,
           0.007036166477245184
          ],
          [
           0.01865949695230329,
           0.006364557487267691,
           -0.056180224896544215,
           -0.001297646182752632,
           0.008584171055997541,
           0.0024222311259303603,
           -0.001117030013861986,
           0.0017608836713590287,
           -0.001771054374464634,
           -0.004062346667955644,
           0.004507255712729009,
           0.004213589326501295,
           -0.0005228280300255406,
           0.000993067914421164,
           -0.0009568098265589423,
           0.0007793456341426072,
           0.0017322920802581299,
           -0.0036984623175603526,
           -0.008227966111816677,
           -0.0015159604000594337
          ],
          [
           0.02107137617617144,
           0.013263191278819461,
           -0.001297646182752632,
           -0.056180224896544215,
           0.013253429098028097,
           0.006990362221220556,
           0.010172215995010211,
           0.0034673072109480466,
           -0.00020400235118454152,
           0.0026944821680953204,
           0.01346947316307015,
           0.009492411494123928,
           0.0009960168210984902,
           0.004430995707384186,
           0.007251222644469077,
           -0.002666720955924927,
           0.0014830920762387498,
           0.0009396294604988586,
           0.001901873564490994,
           -0.00007160227913553113
          ],
          [
           0.017607936860856432,
           0.014532473581787289,
           0.008584171055997541,
           0.013253429098028097,
           -0.056180224896544215,
           0.008371679513817301,
           0.011509109198042863,
           0.007866513813955825,
           0.004729492622427507,
           0.003896744698426609,
           0.010393751730130546,
           0.00687486334790767,
           0.0018709213612520537,
           0.007627051094652865,
           0.004251732992588748,
           0.0021504585288490974,
           0.0032788145948622685,
           0.0008320788735640197,
           0.0028237976743591894,
           0.005195000246753068
          ],
          [
           0.021388585298719967,
           0.001775222294435129,
           0.0024222311259303603,
           0.006990362221220556,
           0.008371679513817301,
           -0.056180224896544215,
           -0.004003365180261745,
           -0.0023258087199357833,
           0.00043099133911113363,
           0.0005230979232497268,
           0.00879774030125964,
           0.00400732977562409,
           -0.0009278009529876258,
           0.007355508764727667,
           -0.0019522947887965353,
           -0.0025327765853474654,
           0.003893325143555393,
           -0.00035729017475974456,
           -0.004401319769732029,
           -0.0007149117312860859
          ],
          [
           0.02673779072160587,
           0.010239706307508811,
           -0.001117030013861986,
           0.010172215995010211,
           0.011509109198042863,
           -0.004003365180261745,
           -0.056180224896544215,
           -0.0002551773770964119,
           -0.0004565759473235259,
           0.00020923381154094867,
           0.003906403856889555,
           -0.002835662324130017,
           0.001580573389363453,
           0.0031945621239021504,
           0.003655320999488419,
           -0.00005731537457911301,
           0.004230514795298859,
           0.0022801038947909066,
           0.00015387900578325148,
           0.001604859183344881
          ],
          [
           0.021287338890755833,
           0.005325895594104298,
           0.0017608836713590287,
           0.0034673072109480466,
           0.007866513813955825,
           -0.0023258087199357833,
           -0.0002551773770964119,
           -0.056180224896544215,
           -0.0052768992429037195,
           -0.0023362491005823258,
           0.005941073522399934,
           0.0036022522781749347,
           -0.0000696517955912912,
           0.0028976853690885485,
           0.0006402013513600799,
           -0.001206775405144342,
           -0.002810373947365094,
           0.003120998632537994,
           -0.003663051118276986,
           -0.004327982675825688
          ],
          [
           0.017914239091586848,
           0.008028887820328845,
           -0.001771054374464634,
           -0.00020400235118454152,
           0.004729492622427507,
           0.00043099133911113363,
           -0.0004565759473235259,
           -0.0052768992429037195,
           -0.056180224896544215,
           -0.005989226676253026,
           0.003855283739854415,
           0.002778398452435722,
           -0.003176153354465021,
           0.00023365873266480153,
           -0.0010346974211892235,
           -0.004868137934229216,
           -0.001340633622967144,
           0.00013164337433322487,
           -0.005061789664862926,
           -0.007154846684578657
          ],
          [
           0.0192001574824881,
           0.001892973246205007,
           -0.004062346667955644,
           0.0026944821680953204,
           0.003896744698426609,
           0.0005230979232497268,
           0.00020923381154094867,
           -0.0023362491005823258,
           -0.005989226676253026,
           -0.056180224896544215,
           0.0031212794114253498,
           -0.0025638707783214795,
           -0.0014742738715873907,
           -0.00024121584100629534,
           0.000818838165364863,
           -0.004221073694735296,
           -0.0020514600434881555,
           -0.003733538652435517,
           -0.002333136153463082,
           -0.0019302307903501792
          ],
          [
           0.026151774922609172,
           0.008170695989566532,
           0.004507255712729009,
           0.01346947316307015,
           0.010393751730130546,
           0.00879774030125964,
           0.003906403856889555,
           0.005941073522399934,
           0.003855283739854415,
           0.0031212794114253498,
           -0.056180224896544215,
           0.00037360097153140565,
           0.0027414477083817362,
           0.004864888534302669,
           0.0014949799452337875,
           0.0032880516071850108,
           -0.0015293621411886366,
           -0.0028313825326599026,
           -0.004735502943928813,
           -0.000083862203127269
          ],
          [
           0.025096122848580094,
           0.003966717091176554,
           0.004213589326501295,
           0.009492411494123928,
           0.00687486334790767,
           0.00400732977562409,
           -0.002835662324130017,
           0.0036022522781749347,
           0.002778398452435722,
           -0.0025638707783214795,
           0.00037360097153140565,
           -0.056180224896544215,
           -0.0011982223957508198,
           0.0019793890604323933,
           0.002094694201084414,
           0.0002659746363066415,
           0.0013318439749148148,
           0.00044230944307942915,
           -0.0008480903172794763,
           -0.002029826436379084
          ],
          [
           0.019577678630802953,
           0.005798795216090759,
           -0.0005228280300255406,
           0.0009960168210984902,
           0.0018709213612520537,
           -0.0009278009529876258,
           0.001580573389363453,
           -0.0000696517955912912,
           -0.003176153354465021,
           -0.0014742738715873907,
           0.0027414477083817362,
           -0.0011982223957508198,
           -0.056180224896544215,
           -0.001120626594084885,
           0.0021961553625670927,
           -0.004713036675342147,
           -0.00008131509581425084,
           -0.0011159935442426605,
           -0.004408001277954092,
           -0.0019123601123537948
          ],
          [
           0.016183809454412057,
           0.00946466492074631,
           0.000993067914421164,
           0.004430995707384186,
           0.007627051094652865,
           0.007355508764727667,
           0.0031945621239021504,
           0.0028976853690885485,
           0.00023365873266480153,
           -0.00024121584100629534,
           0.004864888534302669,
           0.0019793890604323933,
           -0.001120626594084885,
           -0.056180224896544215,
           -0.0003034514932400492,
           -0.0009049897746637309,
           0.002938506053229581,
           -0.0010924774435199514,
           -0.007563277289052726,
           -0.004336879003103672
          ],
          [
           0.018781923153292426,
           0.0060486133058715585,
           -0.0009568098265589423,
           0.007251222644469077,
           0.004251732992588748,
           -0.0019522947887965353,
           0.003655320999488419,
           0.0006402013513600799,
           -0.0010346974211892235,
           0.000818838165364863,
           0.0014949799452337875,
           0.002094694201084414,
           0.0021961553625670927,
           -0.0003034514932400492,
           -0.056180224896544215,
           -0.0012787843158489978,
           -0.004932633763475525,
           -0.001219325450897965,
           -0.004099266153040786,
           -0.005876270268643138
          ],
          [
           0.024683994505281956,
           0.003155536723600451,
           0.0007793456341426072,
           -0.002666720955924927,
           0.0021504585288490974,
           -0.0025327765853474654,
           -0.00005731537457911301,
           -0.001206775405144342,
           -0.004868137934229216,
           -0.004221073694735296,
           0.0032880516071850108,
           0.0002659746363066415,
           -0.004713036675342147,
           -0.0009049897746637309,
           -0.0012787843158489978,
           -0.056180224896544215,
           -0.006409974835606867,
           -0.004445301906738579,
           -0.008988708012791856,
           -0.003089201409725198
          ],
          [
           0.018379553640404903,
           0.0061476828207494005,
           0.0017322920802581299,
           0.0014830920762387498,
           0.0032788145948622685,
           0.003893325143555393,
           0.004230514795298859,
           -0.002810373947365094,
           -0.001340633622967144,
           -0.0020514600434881555,
           -0.0015293621411886366,
           0.0013318439749148148,
           -0.00008131509581425084,
           0.002938506053229581,
           -0.004932633763475525,
           -0.006409974835606867,
           -0.056180224896544215,
           -0.002804058823189369,
           -0.00939651258800872,
           -0.0035893508401808882
          ],
          [
           0.017641152124817025,
           0.00293020048278559,
           -0.0036984623175603526,
           0.0009396294604988586,
           0.0008320788735640197,
           -0.00035729017475974456,
           0.0022801038947909066,
           0.003120998632537994,
           0.00013164337433322487,
           -0.003733538652435517,
           -0.0028313825326599026,
           0.00044230944307942915,
           -0.0011159935442426605,
           -0.0010924774435199514,
           -0.001219325450897965,
           -0.004445301906738579,
           -0.002804058823189369,
           -0.056180224896544215,
           -0.006873461893537533,
           -0.005830638130571712
          ],
          [
           0.019714557983635042,
           -0.0020540793327211565,
           -0.008227966111816677,
           0.001901873564490994,
           0.0028237976743591894,
           -0.004401319769732029,
           0.00015387900578325148,
           -0.003663051118276986,
           -0.005061789664862926,
           -0.002333136153463082,
           -0.004735502943928813,
           -0.0008480903172794763,
           -0.004408001277954092,
           -0.007563277289052726,
           -0.004099266153040786,
           -0.008988708012791856,
           -0.00939651258800872,
           -0.006873461893537533,
           -0.056180224896544215,
           -0.009893758128443002
          ],
          [
           0.017211217525864686,
           0.007036166477245184,
           -0.0015159604000594337,
           -0.00007160227913553113,
           0.005195000246753068,
           -0.0007149117312860859,
           0.001604859183344881,
           -0.004327982675825688,
           -0.007154846684578657,
           -0.0019302307903501792,
           -0.000083862203127269,
           -0.002029826436379084,
           -0.0019123601123537948,
           -0.004336879003103672,
           -0.005876270268643138,
           -0.003089201409725198,
           -0.0035893508401808882,
           -0.005830638130571712,
           -0.009893758128443002,
           -0.056180224896544215
          ]
         ]
        }
       ],
       "layout": {
        "height": 800,
        "hovermode": "closest",
        "legend": {
         "x": 0.7,
         "y": 0.7
        },
        "paper_bgcolor": "rgba(0,0,0,0)",
        "plot_bgcolor": "rgba(0,0,0,0)",
        "showlegend": false,
        "template": {
         "data": {
          "bar": [
           {
            "error_x": {
             "color": "#2a3f5f"
            },
            "error_y": {
             "color": "#2a3f5f"
            },
            "marker": {
             "line": {
              "color": "#E5ECF6",
              "width": 0.5
             },
             "pattern": {
              "fillmode": "overlay",
              "size": 10,
              "solidity": 0.2
             }
            },
            "type": "bar"
           }
          ],
          "barpolar": [
           {
            "marker": {
             "line": {
              "color": "#E5ECF6",
              "width": 0.5
             },
             "pattern": {
              "fillmode": "overlay",
              "size": 10,
              "solidity": 0.2
             }
            },
            "type": "barpolar"
           }
          ],
          "carpet": [
           {
            "aaxis": {
             "endlinecolor": "#2a3f5f",
             "gridcolor": "white",
             "linecolor": "white",
             "minorgridcolor": "white",
             "startlinecolor": "#2a3f5f"
            },
            "baxis": {
             "endlinecolor": "#2a3f5f",
             "gridcolor": "white",
             "linecolor": "white",
             "minorgridcolor": "white",
             "startlinecolor": "#2a3f5f"
            },
            "type": "carpet"
           }
          ],
          "choropleth": [
           {
            "colorbar": {
             "outlinewidth": 0,
             "ticks": ""
            },
            "type": "choropleth"
           }
          ],
          "contour": [
           {
            "colorbar": {
             "outlinewidth": 0,
             "ticks": ""
            },
            "colorscale": [
             [
              0,
              "#0d0887"
             ],
             [
              0.1111111111111111,
              "#46039f"
             ],
             [
              0.2222222222222222,
              "#7201a8"
             ],
             [
              0.3333333333333333,
              "#9c179e"
             ],
             [
              0.4444444444444444,
              "#bd3786"
             ],
             [
              0.5555555555555556,
              "#d8576b"
             ],
             [
              0.6666666666666666,
              "#ed7953"
             ],
             [
              0.7777777777777778,
              "#fb9f3a"
             ],
             [
              0.8888888888888888,
              "#fdca26"
             ],
             [
              1,
              "#f0f921"
             ]
            ],
            "type": "contour"
           }
          ],
          "contourcarpet": [
           {
            "colorbar": {
             "outlinewidth": 0,
             "ticks": ""
            },
            "type": "contourcarpet"
           }
          ],
          "heatmap": [
           {
            "colorbar": {
             "outlinewidth": 0,
             "ticks": ""
            },
            "colorscale": [
             [
              0,
              "#0d0887"
             ],
             [
              0.1111111111111111,
              "#46039f"
             ],
             [
              0.2222222222222222,
              "#7201a8"
             ],
             [
              0.3333333333333333,
              "#9c179e"
             ],
             [
              0.4444444444444444,
              "#bd3786"
             ],
             [
              0.5555555555555556,
              "#d8576b"
             ],
             [
              0.6666666666666666,
              "#ed7953"
             ],
             [
              0.7777777777777778,
              "#fb9f3a"
             ],
             [
              0.8888888888888888,
              "#fdca26"
             ],
             [
              1,
              "#f0f921"
             ]
            ],
            "type": "heatmap"
           }
          ],
          "heatmapgl": [
           {
            "colorbar": {
             "outlinewidth": 0,
             "ticks": ""
            },
            "colorscale": [
             [
              0,
              "#0d0887"
             ],
             [
              0.1111111111111111,
              "#46039f"
             ],
             [
              0.2222222222222222,
              "#7201a8"
             ],
             [
              0.3333333333333333,
              "#9c179e"
             ],
             [
              0.4444444444444444,
              "#bd3786"
             ],
             [
              0.5555555555555556,
              "#d8576b"
             ],
             [
              0.6666666666666666,
              "#ed7953"
             ],
             [
              0.7777777777777778,
              "#fb9f3a"
             ],
             [
              0.8888888888888888,
              "#fdca26"
             ],
             [
              1,
              "#f0f921"
             ]
            ],
            "type": "heatmapgl"
           }
          ],
          "histogram": [
           {
            "marker": {
             "pattern": {
              "fillmode": "overlay",
              "size": 10,
              "solidity": 0.2
             }
            },
            "type": "histogram"
           }
          ],
          "histogram2d": [
           {
            "colorbar": {
             "outlinewidth": 0,
             "ticks": ""
            },
            "colorscale": [
             [
              0,
              "#0d0887"
             ],
             [
              0.1111111111111111,
              "#46039f"
             ],
             [
              0.2222222222222222,
              "#7201a8"
             ],
             [
              0.3333333333333333,
              "#9c179e"
             ],
             [
              0.4444444444444444,
              "#bd3786"
             ],
             [
              0.5555555555555556,
              "#d8576b"
             ],
             [
              0.6666666666666666,
              "#ed7953"
             ],
             [
              0.7777777777777778,
              "#fb9f3a"
             ],
             [
              0.8888888888888888,
              "#fdca26"
             ],
             [
              1,
              "#f0f921"
             ]
            ],
            "type": "histogram2d"
           }
          ],
          "histogram2dcontour": [
           {
            "colorbar": {
             "outlinewidth": 0,
             "ticks": ""
            },
            "colorscale": [
             [
              0,
              "#0d0887"
             ],
             [
              0.1111111111111111,
              "#46039f"
             ],
             [
              0.2222222222222222,
              "#7201a8"
             ],
             [
              0.3333333333333333,
              "#9c179e"
             ],
             [
              0.4444444444444444,
              "#bd3786"
             ],
             [
              0.5555555555555556,
              "#d8576b"
             ],
             [
              0.6666666666666666,
              "#ed7953"
             ],
             [
              0.7777777777777778,
              "#fb9f3a"
             ],
             [
              0.8888888888888888,
              "#fdca26"
             ],
             [
              1,
              "#f0f921"
             ]
            ],
            "type": "histogram2dcontour"
           }
          ],
          "mesh3d": [
           {
            "colorbar": {
             "outlinewidth": 0,
             "ticks": ""
            },
            "type": "mesh3d"
           }
          ],
          "parcoords": [
           {
            "line": {
             "colorbar": {
              "outlinewidth": 0,
              "ticks": ""
             }
            },
            "type": "parcoords"
           }
          ],
          "pie": [
           {
            "automargin": true,
            "type": "pie"
           }
          ],
          "scatter": [
           {
            "marker": {
             "colorbar": {
              "outlinewidth": 0,
              "ticks": ""
             }
            },
            "type": "scatter"
           }
          ],
          "scatter3d": [
           {
            "line": {
             "colorbar": {
              "outlinewidth": 0,
              "ticks": ""
             }
            },
            "marker": {
             "colorbar": {
              "outlinewidth": 0,
              "ticks": ""
             }
            },
            "type": "scatter3d"
           }
          ],
          "scattercarpet": [
           {
            "marker": {
             "colorbar": {
              "outlinewidth": 0,
              "ticks": ""
             }
            },
            "type": "scattercarpet"
           }
          ],
          "scattergeo": [
           {
            "marker": {
             "colorbar": {
              "outlinewidth": 0,
              "ticks": ""
             }
            },
            "type": "scattergeo"
           }
          ],
          "scattergl": [
           {
            "marker": {
             "colorbar": {
              "outlinewidth": 0,
              "ticks": ""
             }
            },
            "type": "scattergl"
           }
          ],
          "scattermapbox": [
           {
            "marker": {
             "colorbar": {
              "outlinewidth": 0,
              "ticks": ""
             }
            },
            "type": "scattermapbox"
           }
          ],
          "scatterpolar": [
           {
            "marker": {
             "colorbar": {
              "outlinewidth": 0,
              "ticks": ""
             }
            },
            "type": "scatterpolar"
           }
          ],
          "scatterpolargl": [
           {
            "marker": {
             "colorbar": {
              "outlinewidth": 0,
              "ticks": ""
             }
            },
            "type": "scatterpolargl"
           }
          ],
          "scatterternary": [
           {
            "marker": {
             "colorbar": {
              "outlinewidth": 0,
              "ticks": ""
             }
            },
            "type": "scatterternary"
           }
          ],
          "surface": [
           {
            "colorbar": {
             "outlinewidth": 0,
             "ticks": ""
            },
            "colorscale": [
             [
              0,
              "#0d0887"
             ],
             [
              0.1111111111111111,
              "#46039f"
             ],
             [
              0.2222222222222222,
              "#7201a8"
             ],
             [
              0.3333333333333333,
              "#9c179e"
             ],
             [
              0.4444444444444444,
              "#bd3786"
             ],
             [
              0.5555555555555556,
              "#d8576b"
             ],
             [
              0.6666666666666666,
              "#ed7953"
             ],
             [
              0.7777777777777778,
              "#fb9f3a"
             ],
             [
              0.8888888888888888,
              "#fdca26"
             ],
             [
              1,
              "#f0f921"
             ]
            ],
            "type": "surface"
           }
          ],
          "table": [
           {
            "cells": {
             "fill": {
              "color": "#EBF0F8"
             },
             "line": {
              "color": "white"
             }
            },
            "header": {
             "fill": {
              "color": "#C8D4E3"
             },
             "line": {
              "color": "white"
             }
            },
            "type": "table"
           }
          ]
         },
         "layout": {
          "annotationdefaults": {
           "arrowcolor": "#2a3f5f",
           "arrowhead": 0,
           "arrowwidth": 1
          },
          "autotypenumbers": "strict",
          "coloraxis": {
           "colorbar": {
            "outlinewidth": 0,
            "ticks": ""
           }
          },
          "colorscale": {
           "diverging": [
            [
             0,
             "#8e0152"
            ],
            [
             0.1,
             "#c51b7d"
            ],
            [
             0.2,
             "#de77ae"
            ],
            [
             0.3,
             "#f1b6da"
            ],
            [
             0.4,
             "#fde0ef"
            ],
            [
             0.5,
             "#f7f7f7"
            ],
            [
             0.6,
             "#e6f5d0"
            ],
            [
             0.7,
             "#b8e186"
            ],
            [
             0.8,
             "#7fbc41"
            ],
            [
             0.9,
             "#4d9221"
            ],
            [
             1,
             "#276419"
            ]
           ],
           "sequential": [
            [
             0,
             "#0d0887"
            ],
            [
             0.1111111111111111,
             "#46039f"
            ],
            [
             0.2222222222222222,
             "#7201a8"
            ],
            [
             0.3333333333333333,
             "#9c179e"
            ],
            [
             0.4444444444444444,
             "#bd3786"
            ],
            [
             0.5555555555555556,
             "#d8576b"
            ],
            [
             0.6666666666666666,
             "#ed7953"
            ],
            [
             0.7777777777777778,
             "#fb9f3a"
            ],
            [
             0.8888888888888888,
             "#fdca26"
            ],
            [
             1,
             "#f0f921"
            ]
           ],
           "sequentialminus": [
            [
             0,
             "#0d0887"
            ],
            [
             0.1111111111111111,
             "#46039f"
            ],
            [
             0.2222222222222222,
             "#7201a8"
            ],
            [
             0.3333333333333333,
             "#9c179e"
            ],
            [
             0.4444444444444444,
             "#bd3786"
            ],
            [
             0.5555555555555556,
             "#d8576b"
            ],
            [
             0.6666666666666666,
             "#ed7953"
            ],
            [
             0.7777777777777778,
             "#fb9f3a"
            ],
            [
             0.8888888888888888,
             "#fdca26"
            ],
            [
             1,
             "#f0f921"
            ]
           ]
          },
          "colorway": [
           "#636efa",
           "#EF553B",
           "#00cc96",
           "#ab63fa",
           "#FFA15A",
           "#19d3f3",
           "#FF6692",
           "#B6E880",
           "#FF97FF",
           "#FECB52"
          ],
          "font": {
           "color": "#2a3f5f"
          },
          "geo": {
           "bgcolor": "white",
           "lakecolor": "white",
           "landcolor": "#E5ECF6",
           "showlakes": true,
           "showland": true,
           "subunitcolor": "white"
          },
          "hoverlabel": {
           "align": "left"
          },
          "hovermode": "closest",
          "mapbox": {
           "style": "light"
          },
          "paper_bgcolor": "white",
          "plot_bgcolor": "#E5ECF6",
          "polar": {
           "angularaxis": {
            "gridcolor": "white",
            "linecolor": "white",
            "ticks": ""
           },
           "bgcolor": "#E5ECF6",
           "radialaxis": {
            "gridcolor": "white",
            "linecolor": "white",
            "ticks": ""
           }
          },
          "scene": {
           "xaxis": {
            "backgroundcolor": "#E5ECF6",
            "gridcolor": "white",
            "gridwidth": 2,
            "linecolor": "white",
            "showbackground": true,
            "ticks": "",
            "zerolinecolor": "white"
           },
           "yaxis": {
            "backgroundcolor": "#E5ECF6",
            "gridcolor": "white",
            "gridwidth": 2,
            "linecolor": "white",
            "showbackground": true,
            "ticks": "",
            "zerolinecolor": "white"
           },
           "zaxis": {
            "backgroundcolor": "#E5ECF6",
            "gridcolor": "white",
            "gridwidth": 2,
            "linecolor": "white",
            "showbackground": true,
            "ticks": "",
            "zerolinecolor": "white"
           }
          },
          "shapedefaults": {
           "line": {
            "color": "#2a3f5f"
           }
          },
          "ternary": {
           "aaxis": {
            "gridcolor": "white",
            "linecolor": "white",
            "ticks": ""
           },
           "baxis": {
            "gridcolor": "white",
            "linecolor": "white",
            "ticks": ""
           },
           "bgcolor": "#E5ECF6",
           "caxis": {
            "gridcolor": "white",
            "linecolor": "white",
            "ticks": ""
           }
          },
          "title": {
           "x": 0.05
          },
          "xaxis": {
           "automargin": true,
           "gridcolor": "white",
           "linecolor": "white",
           "ticks": "",
           "title": {
            "standoff": 15
           },
           "zerolinecolor": "white",
           "zerolinewidth": 2
          },
          "yaxis": {
           "automargin": true,
           "gridcolor": "white",
           "linecolor": "white",
           "ticks": "",
           "title": {
            "standoff": 15
           },
           "zerolinecolor": "white",
           "zerolinewidth": 2
          }
         }
        },
        "width": 1000,
        "xaxis": {
         "anchor": "y",
         "domain": [
          0,
          0.95
         ],
         "fixedrange": false,
         "mirror": false,
         "showgrid": false,
         "showline": false,
         "showticklabels": false,
         "type": "linear",
         "zeroline": false
        },
        "xaxis2": {
         "anchor": "y4",
         "domain": [
          0.000949050949050949,
          0.95
         ],
         "fixedrange": false,
         "mirror": false,
         "scaleanchor": "x5",
         "showgrid": false,
         "showline": false,
         "showticklabels": false,
         "type": "linear",
         "zeroline": false
        },
        "xaxis3": {
         "anchor": "y3",
         "domain": [
          0.75,
          1
         ]
        },
        "xaxis4": {
         "anchor": "y4",
         "domain": [
          0,
          0.000949050949050949
         ],
         "fixedrange": false,
         "mirror": false,
         "showgrid": false,
         "showline": false,
         "showticklabels": false,
         "type": "linear",
         "zeroline": false
        },
        "xaxis5": {
         "anchor": "y5",
         "domain": [
          0.000949050949050949,
          0.95
         ],
         "fixedrange": false,
         "mirror": false,
         "range": [
          0,
          200
         ],
         "showgrid": false,
         "showline": false,
         "showticklabels": false,
         "side": "bottom",
         "tickmode": "array",
         "ticks": "",
         "ticktext": [
          "Attention",
          "Mindfulness",
          "Inhibition",
          "Planning",
          "WorkingMemory",
          "Initiation",
          "Sequencing",
          "SelectiveAttention",
          "CogntiveControl",
          "Reasoning",
          "LongTermMemory",
          "SelfRegulation",
          "ProblemSolving",
          "ShortTermMemory",
          "ProcessingSpeed",
          "EpisodicMemory",
          "ExecutiveFunction",
          "Fluency",
          "InhibitoryControl",
          "Shifting"
         ],
         "tickvals": [
          5,
          15,
          25,
          35,
          45,
          55,
          65,
          75,
          85,
          95,
          105,
          115,
          125,
          135,
          145,
          155,
          165,
          175,
          185,
          195
         ],
         "type": "linear",
         "zeroline": false
        },
        "xaxis6": {
         "anchor": "y6",
         "domain": [
          0.95,
          1
         ],
         "fixedrange": false,
         "mirror": false,
         "range": [
          -5,
          1
         ],
         "showgrid": false,
         "showline": false,
         "showticklabels": false,
         "type": "linear",
         "zeroline": false
        },
        "xaxis7": {
         "anchor": "y7",
         "domain": [
          0,
          0.25
         ]
        },
        "xaxis8": {
         "anchor": "y8",
         "domain": [
          0.000949050949050949,
          0.95
         ],
         "fixedrange": false,
         "mirror": false,
         "range": [
          5,
          195
         ],
         "scaleanchor": "x5",
         "scaleratio": 1,
         "showgrid": false,
         "showline": false,
         "showticklabels": false,
         "type": "linear",
         "zeroline": false
        },
        "xaxis9": {
         "anchor": "y9",
         "domain": [
          0.75,
          1
         ]
        },
        "yaxis": {
         "anchor": "x",
         "domain": [
          0.999050949050949,
          1
         ],
         "fixedrange": false,
         "mirror": false,
         "showgrid": false,
         "showline": false,
         "showticklabels": false,
         "type": "linear",
         "zeroline": false
        },
        "yaxis2": {
         "anchor": "x2",
         "domain": [
          0.999050949050949,
          1
         ],
         "fixedrange": false,
         "mirror": false,
         "range": [
          0,
          0.1541487881000471
         ],
         "showgrid": false,
         "showline": false,
         "showticklabels": false,
         "type": "linear",
         "zeroline": false
        },
        "yaxis3": {
         "anchor": "x3",
         "domain": [
          0.75,
          1
         ]
        },
        "yaxis4": {
         "anchor": "x4",
         "domain": [
          0,
          0.999050949050949
         ],
         "fixedrange": false,
         "mirror": false,
         "range": [
          5,
          195
         ],
         "scaleanchor": "y5",
         "showgrid": false,
         "showline": false,
         "showticklabels": false,
         "type": "linear",
         "zeroline": false
        },
        "yaxis5": {
         "anchor": "x5",
         "domain": [
          0,
          0.999050949050949
         ],
         "fixedrange": false,
         "mirror": false,
         "showgrid": false,
         "showline": false,
         "showticklabels": true,
         "side": "right",
         "tickmode": "array",
         "ticktext": [
          "Attention",
          "Mindfulness",
          "Inhibition",
          "Planning",
          "WorkingMemory",
          "Initiation",
          "Sequencing",
          "SelectiveAttention",
          "CogntiveControl",
          "Reasoning",
          "LongTermMemory",
          "SelfRegulation",
          "ProblemSolving",
          "ShortTermMemory",
          "ProcessingSpeed",
          "EpisodicMemory",
          "ExecutiveFunction",
          "Fluency",
          "InhibitoryControl",
          "Shifting"
         ],
         "tickvals": [
          5,
          15,
          25,
          35,
          45,
          55,
          65,
          75,
          85,
          95,
          105,
          115,
          125,
          135,
          145,
          155,
          165,
          175,
          185,
          195
         ],
         "type": "linear",
         "zeroline": false
        },
        "yaxis6": {
         "anchor": "x6",
         "domain": [
          0,
          0.949050949050949
         ],
         "fixedrange": false,
         "mirror": false,
         "range": [
          5,
          195
         ],
         "scaleanchor": "y5",
         "scaleratio": 1,
         "showgrid": false,
         "showline": false,
         "showticklabels": false,
         "type": "linear",
         "zeroline": false
        },
        "yaxis7": {
         "anchor": "x7",
         "domain": [
          0,
          0.25
         ]
        },
        "yaxis8": {
         "anchor": "x8",
         "domain": [
          0.949050949050949,
          0.999050949050949
         ],
         "fixedrange": false,
         "mirror": false,
         "range": [
          -0.5,
          0.5
         ],
         "showgrid": false,
         "showline": false,
         "showticklabels": false,
         "type": "linear",
         "zeroline": false
        },
        "yaxis9": {
         "anchor": "x9",
         "domain": [
          0,
          0.25
         ]
        }
       }
      }
     },
     "metadata": {},
     "output_type": "display_data"
    }
   ],
   "source": [
    "# js_losses = pd.read_csv('models/cogtext/multivariate_normal_js_losses.csv', index_col=0)\n",
    "\n",
    "\n",
    "js_losses_constructs = js_losses.drop(index=tasks, columns=tasks, errors='ignore')\n",
    "\n",
    "# sns.set('poster')\n",
    "# sns.clustermap(\n",
    "#   js_losses,\n",
    "#   figsize=(40,42),\n",
    "#   cmap='RdBu_r', robust=True)\n",
    "\n",
    "# plt.show()\n",
    "\n",
    "dashbio.Clustergram(\n",
    "  data=js_losses_constructs,\n",
    "  column_labels=js_losses_constructs.columns.to_list(),\n",
    "  row_labels=js_losses_constructs.index.to_list(),\n",
    "  cluster='all',\n",
    "  center_values=True,\n",
    "  standardize=True,\n",
    "  height=800,\n",
    "  width=1000,\n",
    "  display_ratio=[0.001, 0.001],\n",
    "  color_map='RdBu_r',\n",
    "  hidden_labels=['col'],\n",
    "  row_dist='euclidean',\n",
    "  col_dist='euclidean',\n",
    "  # standardize='col'\n",
    ")"
   ]
  },
  {
   "cell_type": "markdown",
   "metadata": {},
   "source": [
    "## Tasks"
   ]
  },
  {
   "cell_type": "code",
   "execution_count": 48,
   "metadata": {},
   "outputs": [
    {
     "data": {
      "image/png": "[encoded data removed]",
      "text/plain": [
       "<Figure size 1080x1080 with 4 Axes>"
      ]
     },
     "metadata": {},
     "output_type": "display_data"
    }
   ],
   "source": [
    "\n",
    "js_losses = pd.read_csv('models/gpt3/multivariate_normal_js_losses.csv', index_col=0)\n",
    "\n",
    "tasks = pubmed.query('category.str.contains(\"Task\")')['label'].unique()\n",
    "constructs = pubmed.query('category.str.contains(\"Construct\")')['label'].unique()\n",
    "\n",
    "js_losses_tasks = js_losses.drop(index=constructs, columns=constructs, errors='ignore')\n",
    "\n",
    "g = sns.clustermap(\n",
    "  js_losses_tasks,\n",
    "  figsize=(15,15),\n",
    "  dendrogram_ratio=0.00001,\n",
    "  cbar_pos=(0.68,0.3,.2,.02),\n",
    "  cbar_kws={'label': 'Jensen-Shannon divergence', 'orientation': 'horizontal'},\n",
    "  cmap='RdBu_r', robust=True)\n",
    "\n",
    "g.ax_heatmap.set(xlabel='Task', ylabel='Task')\n",
    "\n",
    "ax = g.ax_heatmap\n",
    "# ax.set_xlabel('xlabel', fontsize=8)\n",
    "ax.set_xticklabels(\n",
    "  [f'{l._text[:8]}...' if len(l._text)>8 else l for l in ax.get_xticklabels()], fontsize=16)\n",
    "ax.set_yticklabels(ax.get_yticklabels(), fontsize=18)\n",
    "\n",
    "# g.ax_cbar.set_title('Jensen-Shannon divergence', fontsize=18, rotation=90, x=-1, y=-.04)\n",
    "\n",
    "plt.show()"
   ]
  }
 ],
 "metadata": {
  "interpreter": {
   "hash": "4d4c55ad0dd25f9ca95e4d49a929aa3f71bfb37020ae570a9996c3e164818202"
  },
  "kernelspec": {
   "display_name": "Python 3.9.7 64-bit ('py3': conda)",
   "language": "python",
   "name": "python3"
  },
  "language_info": {
   "codemirror_mode": {
    "name": "ipython",
    "version": 3
   },
   "file_extension": ".py",
   "mimetype": "text/x-python",
   "name": "python",
   "nbconvert_exporter": "python",
   "pygments_lexer": "ipython3",
   "version": "3.9.9"
  },
  "orig_nbformat": 4
 },
 "nbformat": 4,
 "nbformat_minor": 2
}
