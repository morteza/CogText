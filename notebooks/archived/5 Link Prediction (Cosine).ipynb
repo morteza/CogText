{
 "cells": [
  {
   "cell_type": "code",
   "execution_count": 1,
   "metadata": {},
   "outputs": [],
   "source": [
    "%reload_ext autoreload\n",
    "%autoreload 2\n",
    "\n",
    "import pandas as pd\n",
    "import numpy as np\n",
    "from umap import UMAP\n",
    "import matplotlib.pyplot as plt\n",
    "import seaborn as sns; sns.set_theme()  # noqa\n",
    "import dash_bio as dashbio\n",
    "from python.cogtext.datasets.pubmed import PubMedDataLoader\n",
    "from python.cogtext.similarity_matrix import get_similarity_matrix\n",
    "from sklearn.preprocessing import normalize\n",
    "from tqdm import tqdm"
   ]
  },
  {
   "cell_type": "code",
   "execution_count": 2,
   "metadata": {},
   "outputs": [
    {
     "name": "stdout",
     "output_type": "stream",
     "text": [
      "Successfully loaded a list of 293014 topic-embeddings.\n"
     ]
    }
   ],
   "source": [
    "# load weights, clusters and metadata (takes ~ 20sec)\n",
    "\n",
    "clusters = pd.read_csv('models/gpt3/abstracts_gpt3ada_clusters.csv.gz', index_col=0)\n",
    "weights = np.load('models/gpt3/abstracts_gpt3ada_weights.npz')['arr_0']\n",
    "clusters['weights'] = list(weights)\n",
    "\n",
    "# load abstracts\n",
    "pubmed = PubMedDataLoader(preprocessed=False, drop_low_occurred_labels=False).load()\n",
    "pubmed = pubmed.merge(clusters, on='pmid', how='left')\n",
    "\n",
    "pubmed.dropna(subset=['cluster'], inplace=True)\n",
    "\n",
    "tasks = pubmed.query('category.str.contains(\"Task\")')['label'].unique()\n",
    "constructs = pubmed.query('category.str.contains(\"Task\")')['label'].unique()\n",
    "\n",
    "print(f'Successfully loaded a list of {len(pubmed)} topic-embeddings.')"
   ]
  },
  {
   "cell_type": "code",
   "execution_count": 3,
   "metadata": {},
   "outputs": [
    {
     "data": {
      "text/html": [
       "<div>\n",
       "<style scoped>\n",
       "    .dataframe tbody tr th:only-of-type {\n",
       "        vertical-align: middle;\n",
       "    }\n",
       "\n",
       "    .dataframe tbody tr th {\n",
       "        vertical-align: top;\n",
       "    }\n",
       "\n",
       "    .dataframe thead tr th {\n",
       "        text-align: left;\n",
       "    }\n",
       "\n",
       "    .dataframe thead tr:last-of-type th {\n",
       "        text-align: right;\n",
       "    }\n",
       "</style>\n",
       "<table border=\"1\" class=\"dataframe\">\n",
       "  <thead>\n",
       "    <tr>\n",
       "      <th></th>\n",
       "      <th>category</th>\n",
       "      <th colspan=\"10\" halign=\"left\">CognitiveConstruct</th>\n",
       "      <th>...</th>\n",
       "      <th colspan=\"10\" halign=\"left\">CognitiveTask</th>\n",
       "    </tr>\n",
       "    <tr>\n",
       "      <th></th>\n",
       "      <th>label</th>\n",
       "      <th>Attention</th>\n",
       "      <th>AttentionalControl</th>\n",
       "      <th>AttentionalInertia</th>\n",
       "      <th>BehavioralControl</th>\n",
       "      <th>BehavioralRegulation</th>\n",
       "      <th>Binding</th>\n",
       "      <th>CentralExecutive</th>\n",
       "      <th>CognitiveFlexibility</th>\n",
       "      <th>CognitiveInhibition</th>\n",
       "      <th>CogntiveControl</th>\n",
       "      <th>...</th>\n",
       "      <th>StimSSS</th>\n",
       "      <th>StopSignalTask</th>\n",
       "      <th>Stroop</th>\n",
       "      <th>TMT_-_Trail_Making_Task</th>\n",
       "      <th>TaskSwitching</th>\n",
       "      <th>TowerOfHanoi</th>\n",
       "      <th>TowerOfLondon</th>\n",
       "      <th>TwoStep</th>\n",
       "      <th>Verbal_fluency_task</th>\n",
       "      <th>WCST_-_Wisconsin_Card_Sort_Test</th>\n",
       "    </tr>\n",
       "    <tr>\n",
       "      <th>category</th>\n",
       "      <th>label</th>\n",
       "      <th></th>\n",
       "      <th></th>\n",
       "      <th></th>\n",
       "      <th></th>\n",
       "      <th></th>\n",
       "      <th></th>\n",
       "      <th></th>\n",
       "      <th></th>\n",
       "      <th></th>\n",
       "      <th></th>\n",
       "      <th></th>\n",
       "      <th></th>\n",
       "      <th></th>\n",
       "      <th></th>\n",
       "      <th></th>\n",
       "      <th></th>\n",
       "      <th></th>\n",
       "      <th></th>\n",
       "      <th></th>\n",
       "      <th></th>\n",
       "      <th></th>\n",
       "    </tr>\n",
       "  </thead>\n",
       "  <tbody>\n",
       "    <tr>\n",
       "      <th rowspan=\"5\" valign=\"top\">CognitiveConstruct</th>\n",
       "      <th>Attention</th>\n",
       "      <td>1.000000</td>\n",
       "      <td>0.752932</td>\n",
       "      <td>0.295641</td>\n",
       "      <td>0.483556</td>\n",
       "      <td>0.430609</td>\n",
       "      <td>0.130825</td>\n",
       "      <td>0.612105</td>\n",
       "      <td>0.727945</td>\n",
       "      <td>0.614340</td>\n",
       "      <td>0.673749</td>\n",
       "      <td>...</td>\n",
       "      <td>0.094237</td>\n",
       "      <td>0.277683</td>\n",
       "      <td>0.656375</td>\n",
       "      <td>0.588599</td>\n",
       "      <td>0.338202</td>\n",
       "      <td>0.613160</td>\n",
       "      <td>0.558000</td>\n",
       "      <td>0.085150</td>\n",
       "      <td>0.610400</td>\n",
       "      <td>0.459221</td>\n",
       "    </tr>\n",
       "    <tr>\n",
       "      <th>AttentionalControl</th>\n",
       "      <td>0.752932</td>\n",
       "      <td>1.000000</td>\n",
       "      <td>0.245826</td>\n",
       "      <td>0.407276</td>\n",
       "      <td>0.325410</td>\n",
       "      <td>0.106058</td>\n",
       "      <td>0.548220</td>\n",
       "      <td>0.607454</td>\n",
       "      <td>0.545379</td>\n",
       "      <td>0.697154</td>\n",
       "      <td>...</td>\n",
       "      <td>0.116986</td>\n",
       "      <td>0.257208</td>\n",
       "      <td>0.624316</td>\n",
       "      <td>0.458210</td>\n",
       "      <td>0.413081</td>\n",
       "      <td>0.511157</td>\n",
       "      <td>0.445758</td>\n",
       "      <td>0.056423</td>\n",
       "      <td>0.467205</td>\n",
       "      <td>0.361333</td>\n",
       "    </tr>\n",
       "    <tr>\n",
       "      <th>AttentionalInertia</th>\n",
       "      <td>0.295641</td>\n",
       "      <td>0.245826</td>\n",
       "      <td>1.000000</td>\n",
       "      <td>0.129154</td>\n",
       "      <td>0.114072</td>\n",
       "      <td>0.031252</td>\n",
       "      <td>0.136751</td>\n",
       "      <td>0.241828</td>\n",
       "      <td>0.282768</td>\n",
       "      <td>0.230889</td>\n",
       "      <td>...</td>\n",
       "      <td>0.036845</td>\n",
       "      <td>0.075522</td>\n",
       "      <td>0.177773</td>\n",
       "      <td>0.106224</td>\n",
       "      <td>0.411305</td>\n",
       "      <td>0.154857</td>\n",
       "      <td>0.106378</td>\n",
       "      <td>0.049944</td>\n",
       "      <td>0.117599</td>\n",
       "      <td>0.068427</td>\n",
       "    </tr>\n",
       "    <tr>\n",
       "      <th>BehavioralControl</th>\n",
       "      <td>0.483556</td>\n",
       "      <td>0.407276</td>\n",
       "      <td>0.129154</td>\n",
       "      <td>1.000000</td>\n",
       "      <td>0.530490</td>\n",
       "      <td>0.058796</td>\n",
       "      <td>0.233511</td>\n",
       "      <td>0.373270</td>\n",
       "      <td>0.296424</td>\n",
       "      <td>0.326214</td>\n",
       "      <td>...</td>\n",
       "      <td>0.082714</td>\n",
       "      <td>0.185369</td>\n",
       "      <td>0.283505</td>\n",
       "      <td>0.229247</td>\n",
       "      <td>0.136315</td>\n",
       "      <td>0.264296</td>\n",
       "      <td>0.215750</td>\n",
       "      <td>0.032941</td>\n",
       "      <td>0.237450</td>\n",
       "      <td>0.147182</td>\n",
       "    </tr>\n",
       "    <tr>\n",
       "      <th>BehavioralRegulation</th>\n",
       "      <td>0.430609</td>\n",
       "      <td>0.325410</td>\n",
       "      <td>0.114072</td>\n",
       "      <td>0.530490</td>\n",
       "      <td>1.000000</td>\n",
       "      <td>0.047390</td>\n",
       "      <td>0.213489</td>\n",
       "      <td>0.371935</td>\n",
       "      <td>0.249873</td>\n",
       "      <td>0.264224</td>\n",
       "      <td>...</td>\n",
       "      <td>0.032234</td>\n",
       "      <td>0.132225</td>\n",
       "      <td>0.250542</td>\n",
       "      <td>0.204852</td>\n",
       "      <td>0.116077</td>\n",
       "      <td>0.234020</td>\n",
       "      <td>0.236616</td>\n",
       "      <td>0.028873</td>\n",
       "      <td>0.219875</td>\n",
       "      <td>0.123726</td>\n",
       "    </tr>\n",
       "    <tr>\n",
       "      <th>...</th>\n",
       "      <th>...</th>\n",
       "      <td>...</td>\n",
       "      <td>...</td>\n",
       "      <td>...</td>\n",
       "      <td>...</td>\n",
       "      <td>...</td>\n",
       "      <td>...</td>\n",
       "      <td>...</td>\n",
       "      <td>...</td>\n",
       "      <td>...</td>\n",
       "      <td>...</td>\n",
       "      <td>...</td>\n",
       "      <td>...</td>\n",
       "      <td>...</td>\n",
       "      <td>...</td>\n",
       "      <td>...</td>\n",
       "      <td>...</td>\n",
       "      <td>...</td>\n",
       "      <td>...</td>\n",
       "      <td>...</td>\n",
       "      <td>...</td>\n",
       "      <td>...</td>\n",
       "    </tr>\n",
       "    <tr>\n",
       "      <th rowspan=\"5\" valign=\"top\">CognitiveTask</th>\n",
       "      <th>TowerOfHanoi</th>\n",
       "      <td>0.613160</td>\n",
       "      <td>0.511157</td>\n",
       "      <td>0.154857</td>\n",
       "      <td>0.264296</td>\n",
       "      <td>0.234020</td>\n",
       "      <td>0.096193</td>\n",
       "      <td>0.572009</td>\n",
       "      <td>0.623308</td>\n",
       "      <td>0.573776</td>\n",
       "      <td>0.529309</td>\n",
       "      <td>...</td>\n",
       "      <td>0.057285</td>\n",
       "      <td>0.199276</td>\n",
       "      <td>0.597647</td>\n",
       "      <td>0.606739</td>\n",
       "      <td>0.289196</td>\n",
       "      <td>1.000000</td>\n",
       "      <td>0.672605</td>\n",
       "      <td>0.038179</td>\n",
       "      <td>0.653462</td>\n",
       "      <td>0.652692</td>\n",
       "    </tr>\n",
       "    <tr>\n",
       "      <th>TowerOfLondon</th>\n",
       "      <td>0.558000</td>\n",
       "      <td>0.445758</td>\n",
       "      <td>0.106378</td>\n",
       "      <td>0.215750</td>\n",
       "      <td>0.236616</td>\n",
       "      <td>0.094464</td>\n",
       "      <td>0.643257</td>\n",
       "      <td>0.650526</td>\n",
       "      <td>0.612336</td>\n",
       "      <td>0.487086</td>\n",
       "      <td>...</td>\n",
       "      <td>0.045447</td>\n",
       "      <td>0.192500</td>\n",
       "      <td>0.603550</td>\n",
       "      <td>0.701378</td>\n",
       "      <td>0.238993</td>\n",
       "      <td>0.672605</td>\n",
       "      <td>1.000000</td>\n",
       "      <td>0.026739</td>\n",
       "      <td>0.760810</td>\n",
       "      <td>0.849813</td>\n",
       "    </tr>\n",
       "    <tr>\n",
       "      <th>TwoStep</th>\n",
       "      <td>0.085150</td>\n",
       "      <td>0.056423</td>\n",
       "      <td>0.049944</td>\n",
       "      <td>0.032941</td>\n",
       "      <td>0.028873</td>\n",
       "      <td>0.015965</td>\n",
       "      <td>0.034573</td>\n",
       "      <td>0.050176</td>\n",
       "      <td>0.063463</td>\n",
       "      <td>0.057728</td>\n",
       "      <td>...</td>\n",
       "      <td>0.008971</td>\n",
       "      <td>0.021352</td>\n",
       "      <td>0.048498</td>\n",
       "      <td>0.033977</td>\n",
       "      <td>0.118708</td>\n",
       "      <td>0.038179</td>\n",
       "      <td>0.026739</td>\n",
       "      <td>1.000000</td>\n",
       "      <td>0.036083</td>\n",
       "      <td>0.020179</td>\n",
       "    </tr>\n",
       "    <tr>\n",
       "      <th>Verbal_fluency_task</th>\n",
       "      <td>0.610400</td>\n",
       "      <td>0.467205</td>\n",
       "      <td>0.117599</td>\n",
       "      <td>0.237450</td>\n",
       "      <td>0.219875</td>\n",
       "      <td>0.095398</td>\n",
       "      <td>0.588772</td>\n",
       "      <td>0.648358</td>\n",
       "      <td>0.577283</td>\n",
       "      <td>0.469523</td>\n",
       "      <td>...</td>\n",
       "      <td>0.049980</td>\n",
       "      <td>0.166557</td>\n",
       "      <td>0.663901</td>\n",
       "      <td>0.826354</td>\n",
       "      <td>0.243050</td>\n",
       "      <td>0.653462</td>\n",
       "      <td>0.760810</td>\n",
       "      <td>0.036083</td>\n",
       "      <td>1.000000</td>\n",
       "      <td>0.742899</td>\n",
       "    </tr>\n",
       "    <tr>\n",
       "      <th>WCST_-_Wisconsin_Card_Sort_Test</th>\n",
       "      <td>0.459221</td>\n",
       "      <td>0.361333</td>\n",
       "      <td>0.068427</td>\n",
       "      <td>0.147182</td>\n",
       "      <td>0.123726</td>\n",
       "      <td>0.100408</td>\n",
       "      <td>0.576943</td>\n",
       "      <td>0.559567</td>\n",
       "      <td>0.541905</td>\n",
       "      <td>0.400317</td>\n",
       "      <td>...</td>\n",
       "      <td>0.028878</td>\n",
       "      <td>0.125250</td>\n",
       "      <td>0.523345</td>\n",
       "      <td>0.699382</td>\n",
       "      <td>0.176642</td>\n",
       "      <td>0.652692</td>\n",
       "      <td>0.849813</td>\n",
       "      <td>0.020179</td>\n",
       "      <td>0.742899</td>\n",
       "      <td>1.000000</td>\n",
       "    </tr>\n",
       "  </tbody>\n",
       "</table>\n",
       "<p>170 rows × 170 columns</p>\n",
       "</div>"
      ],
      "text/plain": [
       "category                                           CognitiveConstruct  \\\n",
       "label                                                       Attention   \n",
       "category           label                                                \n",
       "CognitiveConstruct Attention                                 1.000000   \n",
       "                   AttentionalControl                        0.752932   \n",
       "                   AttentionalInertia                        0.295641   \n",
       "                   BehavioralControl                         0.483556   \n",
       "                   BehavioralRegulation                      0.430609   \n",
       "...                                                               ...   \n",
       "CognitiveTask      TowerOfHanoi                              0.613160   \n",
       "                   TowerOfLondon                             0.558000   \n",
       "                   TwoStep                                   0.085150   \n",
       "                   Verbal_fluency_task                       0.610400   \n",
       "                   WCST_-_Wisconsin_Card_Sort_Test           0.459221   \n",
       "\n",
       "category                                                               \\\n",
       "label                                              AttentionalControl   \n",
       "category           label                                                \n",
       "CognitiveConstruct Attention                                 0.752932   \n",
       "                   AttentionalControl                        1.000000   \n",
       "                   AttentionalInertia                        0.245826   \n",
       "                   BehavioralControl                         0.407276   \n",
       "                   BehavioralRegulation                      0.325410   \n",
       "...                                                               ...   \n",
       "CognitiveTask      TowerOfHanoi                              0.511157   \n",
       "                   TowerOfLondon                             0.445758   \n",
       "                   TwoStep                                   0.056423   \n",
       "                   Verbal_fluency_task                       0.467205   \n",
       "                   WCST_-_Wisconsin_Card_Sort_Test           0.361333   \n",
       "\n",
       "category                                                               \\\n",
       "label                                              AttentionalInertia   \n",
       "category           label                                                \n",
       "CognitiveConstruct Attention                                 0.295641   \n",
       "                   AttentionalControl                        0.245826   \n",
       "                   AttentionalInertia                        1.000000   \n",
       "                   BehavioralControl                         0.129154   \n",
       "                   BehavioralRegulation                      0.114072   \n",
       "...                                                               ...   \n",
       "CognitiveTask      TowerOfHanoi                              0.154857   \n",
       "                   TowerOfLondon                             0.106378   \n",
       "                   TwoStep                                   0.049944   \n",
       "                   Verbal_fluency_task                       0.117599   \n",
       "                   WCST_-_Wisconsin_Card_Sort_Test           0.068427   \n",
       "\n",
       "category                                                              \\\n",
       "label                                              BehavioralControl   \n",
       "category           label                                               \n",
       "CognitiveConstruct Attention                                0.483556   \n",
       "                   AttentionalControl                       0.407276   \n",
       "                   AttentionalInertia                       0.129154   \n",
       "                   BehavioralControl                        1.000000   \n",
       "                   BehavioralRegulation                     0.530490   \n",
       "...                                                              ...   \n",
       "CognitiveTask      TowerOfHanoi                             0.264296   \n",
       "                   TowerOfLondon                            0.215750   \n",
       "                   TwoStep                                  0.032941   \n",
       "                   Verbal_fluency_task                      0.237450   \n",
       "                   WCST_-_Wisconsin_Card_Sort_Test          0.147182   \n",
       "\n",
       "category                                                                 \\\n",
       "label                                              BehavioralRegulation   \n",
       "category           label                                                  \n",
       "CognitiveConstruct Attention                                   0.430609   \n",
       "                   AttentionalControl                          0.325410   \n",
       "                   AttentionalInertia                          0.114072   \n",
       "                   BehavioralControl                           0.530490   \n",
       "                   BehavioralRegulation                        1.000000   \n",
       "...                                                                 ...   \n",
       "CognitiveTask      TowerOfHanoi                                0.234020   \n",
       "                   TowerOfLondon                               0.236616   \n",
       "                   TwoStep                                     0.028873   \n",
       "                   Verbal_fluency_task                         0.219875   \n",
       "                   WCST_-_Wisconsin_Card_Sort_Test             0.123726   \n",
       "\n",
       "category                                                                       \\\n",
       "label                                                Binding CentralExecutive   \n",
       "category           label                                                        \n",
       "CognitiveConstruct Attention                        0.130825         0.612105   \n",
       "                   AttentionalControl               0.106058         0.548220   \n",
       "                   AttentionalInertia               0.031252         0.136751   \n",
       "                   BehavioralControl                0.058796         0.233511   \n",
       "                   BehavioralRegulation             0.047390         0.213489   \n",
       "...                                                      ...              ...   \n",
       "CognitiveTask      TowerOfHanoi                     0.096193         0.572009   \n",
       "                   TowerOfLondon                    0.094464         0.643257   \n",
       "                   TwoStep                          0.015965         0.034573   \n",
       "                   Verbal_fluency_task              0.095398         0.588772   \n",
       "                   WCST_-_Wisconsin_Card_Sort_Test  0.100408         0.576943   \n",
       "\n",
       "category                                                                 \\\n",
       "label                                              CognitiveFlexibility   \n",
       "category           label                                                  \n",
       "CognitiveConstruct Attention                                   0.727945   \n",
       "                   AttentionalControl                          0.607454   \n",
       "                   AttentionalInertia                          0.241828   \n",
       "                   BehavioralControl                           0.373270   \n",
       "                   BehavioralRegulation                        0.371935   \n",
       "...                                                                 ...   \n",
       "CognitiveTask      TowerOfHanoi                                0.623308   \n",
       "                   TowerOfLondon                               0.650526   \n",
       "                   TwoStep                                     0.050176   \n",
       "                   Verbal_fluency_task                         0.648358   \n",
       "                   WCST_-_Wisconsin_Card_Sort_Test             0.559567   \n",
       "\n",
       "category                                                                \\\n",
       "label                                              CognitiveInhibition   \n",
       "category           label                                                 \n",
       "CognitiveConstruct Attention                                  0.614340   \n",
       "                   AttentionalControl                         0.545379   \n",
       "                   AttentionalInertia                         0.282768   \n",
       "                   BehavioralControl                          0.296424   \n",
       "                   BehavioralRegulation                       0.249873   \n",
       "...                                                                ...   \n",
       "CognitiveTask      TowerOfHanoi                               0.573776   \n",
       "                   TowerOfLondon                              0.612336   \n",
       "                   TwoStep                                    0.063463   \n",
       "                   Verbal_fluency_task                        0.577283   \n",
       "                   WCST_-_Wisconsin_Card_Sort_Test            0.541905   \n",
       "\n",
       "category                                                            ...  \\\n",
       "label                                              CogntiveControl  ...   \n",
       "category           label                                            ...   \n",
       "CognitiveConstruct Attention                              0.673749  ...   \n",
       "                   AttentionalControl                     0.697154  ...   \n",
       "                   AttentionalInertia                     0.230889  ...   \n",
       "                   BehavioralControl                      0.326214  ...   \n",
       "                   BehavioralRegulation                   0.264224  ...   \n",
       "...                                                            ...  ...   \n",
       "CognitiveTask      TowerOfHanoi                           0.529309  ...   \n",
       "                   TowerOfLondon                          0.487086  ...   \n",
       "                   TwoStep                                0.057728  ...   \n",
       "                   Verbal_fluency_task                    0.469523  ...   \n",
       "                   WCST_-_Wisconsin_Card_Sort_Test        0.400317  ...   \n",
       "\n",
       "category                                           CognitiveTask  \\\n",
       "label                                                    StimSSS   \n",
       "category           label                                           \n",
       "CognitiveConstruct Attention                            0.094237   \n",
       "                   AttentionalControl                   0.116986   \n",
       "                   AttentionalInertia                   0.036845   \n",
       "                   BehavioralControl                    0.082714   \n",
       "                   BehavioralRegulation                 0.032234   \n",
       "...                                                          ...   \n",
       "CognitiveTask      TowerOfHanoi                         0.057285   \n",
       "                   TowerOfLondon                        0.045447   \n",
       "                   TwoStep                              0.008971   \n",
       "                   Verbal_fluency_task                  0.049980   \n",
       "                   WCST_-_Wisconsin_Card_Sort_Test      0.028878   \n",
       "\n",
       "category                                                                     \\\n",
       "label                                              StopSignalTask    Stroop   \n",
       "category           label                                                      \n",
       "CognitiveConstruct Attention                             0.277683  0.656375   \n",
       "                   AttentionalControl                    0.257208  0.624316   \n",
       "                   AttentionalInertia                    0.075522  0.177773   \n",
       "                   BehavioralControl                     0.185369  0.283505   \n",
       "                   BehavioralRegulation                  0.132225  0.250542   \n",
       "...                                                           ...       ...   \n",
       "CognitiveTask      TowerOfHanoi                          0.199276  0.597647   \n",
       "                   TowerOfLondon                         0.192500  0.603550   \n",
       "                   TwoStep                               0.021352  0.048498   \n",
       "                   Verbal_fluency_task                   0.166557  0.663901   \n",
       "                   WCST_-_Wisconsin_Card_Sort_Test       0.125250  0.523345   \n",
       "\n",
       "category                                                                    \\\n",
       "label                                              TMT_-_Trail_Making_Task   \n",
       "category           label                                                     \n",
       "CognitiveConstruct Attention                                      0.588599   \n",
       "                   AttentionalControl                             0.458210   \n",
       "                   AttentionalInertia                             0.106224   \n",
       "                   BehavioralControl                              0.229247   \n",
       "                   BehavioralRegulation                           0.204852   \n",
       "...                                                                    ...   \n",
       "CognitiveTask      TowerOfHanoi                                   0.606739   \n",
       "                   TowerOfLondon                                  0.701378   \n",
       "                   TwoStep                                        0.033977   \n",
       "                   Verbal_fluency_task                            0.826354   \n",
       "                   WCST_-_Wisconsin_Card_Sort_Test                0.699382   \n",
       "\n",
       "category                                                                       \\\n",
       "label                                              TaskSwitching TowerOfHanoi   \n",
       "category           label                                                        \n",
       "CognitiveConstruct Attention                            0.338202     0.613160   \n",
       "                   AttentionalControl                   0.413081     0.511157   \n",
       "                   AttentionalInertia                   0.411305     0.154857   \n",
       "                   BehavioralControl                    0.136315     0.264296   \n",
       "                   BehavioralRegulation                 0.116077     0.234020   \n",
       "...                                                          ...          ...   \n",
       "CognitiveTask      TowerOfHanoi                         0.289196     1.000000   \n",
       "                   TowerOfLondon                        0.238993     0.672605   \n",
       "                   TwoStep                              0.118708     0.038179   \n",
       "                   Verbal_fluency_task                  0.243050     0.653462   \n",
       "                   WCST_-_Wisconsin_Card_Sort_Test      0.176642     0.652692   \n",
       "\n",
       "category                                                                    \\\n",
       "label                                              TowerOfLondon   TwoStep   \n",
       "category           label                                                     \n",
       "CognitiveConstruct Attention                            0.558000  0.085150   \n",
       "                   AttentionalControl                   0.445758  0.056423   \n",
       "                   AttentionalInertia                   0.106378  0.049944   \n",
       "                   BehavioralControl                    0.215750  0.032941   \n",
       "                   BehavioralRegulation                 0.236616  0.028873   \n",
       "...                                                          ...       ...   \n",
       "CognitiveTask      TowerOfHanoi                         0.672605  0.038179   \n",
       "                   TowerOfLondon                        1.000000  0.026739   \n",
       "                   TwoStep                              0.026739  1.000000   \n",
       "                   Verbal_fluency_task                  0.760810  0.036083   \n",
       "                   WCST_-_Wisconsin_Card_Sort_Test      0.849813  0.020179   \n",
       "\n",
       "category                                                                \\\n",
       "label                                              Verbal_fluency_task   \n",
       "category           label                                                 \n",
       "CognitiveConstruct Attention                                  0.610400   \n",
       "                   AttentionalControl                         0.467205   \n",
       "                   AttentionalInertia                         0.117599   \n",
       "                   BehavioralControl                          0.237450   \n",
       "                   BehavioralRegulation                       0.219875   \n",
       "...                                                                ...   \n",
       "CognitiveTask      TowerOfHanoi                               0.653462   \n",
       "                   TowerOfLondon                              0.760810   \n",
       "                   TwoStep                                    0.036083   \n",
       "                   Verbal_fluency_task                        1.000000   \n",
       "                   WCST_-_Wisconsin_Card_Sort_Test            0.742899   \n",
       "\n",
       "category                                                                            \n",
       "label                                              WCST_-_Wisconsin_Card_Sort_Test  \n",
       "category           label                                                            \n",
       "CognitiveConstruct Attention                                              0.459221  \n",
       "                   AttentionalControl                                     0.361333  \n",
       "                   AttentionalInertia                                     0.068427  \n",
       "                   BehavioralControl                                      0.147182  \n",
       "                   BehavioralRegulation                                   0.123726  \n",
       "...                                                                            ...  \n",
       "CognitiveTask      TowerOfHanoi                                           0.652692  \n",
       "                   TowerOfLondon                                          0.849813  \n",
       "                   TwoStep                                                0.020179  \n",
       "                   Verbal_fluency_task                                    0.742899  \n",
       "                   WCST_-_Wisconsin_Card_Sort_Test                        1.000000  \n",
       "\n",
       "[170 rows x 170 columns]"
      ]
     },
     "execution_count": 3,
     "metadata": {},
     "output_type": "execute_result"
    }
   ],
   "source": [
    "from sklearn.metrics.pairwise import pairwise_kernels\n",
    "\n",
    "node_features = pubmed.groupby(['category','label'])['weights'].apply(np.mean)\n",
    "\n",
    "\n",
    "def calc_similarity(a,b):\n",
    "  return pairwise_kernels(a.reshape(1,-1), b.reshape(1,-1), metric='cosine')[0][0]\n",
    "\n",
    "sim = node_features.apply(pd.Series).T.corr(method=calc_similarity)\n",
    "sim"
   ]
  },
  {
   "cell_type": "markdown",
   "metadata": {},
   "source": [
    "Cosine similarity of the construct vectors regardless of the tasks they rely on is as follows."
   ]
  },
  {
   "cell_type": "code",
   "execution_count": 4,
   "metadata": {},
   "outputs": [
    {
     "data": {
      "application/vnd.plotly.v1+json": {
       "config": {
        "plotlyServerURL": "https://plot.ly"
       },
       "data": [
        {
         "hoverinfo": "y+name",
         "line": {
          "width": 0.5
         },
         "marker": {
          "color": "rgb(0,116,217)"
         },
         "mode": "lines",
         "name": "Col Cluster 0",
         "type": "scatter",
         "x": [
          5,
          5,
          544.8406982421875,
          544.8406982421875
         ],
         "xaxis": "x2",
         "y": [
          0,
          0.7808072008740247,
          0.7808072008740247,
          0.5548048384024524
         ],
         "yaxis": "y2"
        },
        {
         "hoverinfo": "y+name",
         "line": {
          "width": 0.5
         },
         "marker": {
          "color": "rgb(0,116,217)"
         },
         "mode": "lines",
         "name": "Col Cluster 1",
         "type": "scatter",
         "x": [
          15,
          15,
          30,
          30
         ],
         "xaxis": "x2",
         "y": [
          0,
          0.18588220299703895,
          0.18588220299703895,
          0.005946821482321507
         ],
         "yaxis": "y2"
        },
        {
         "hoverinfo": "y+name",
         "line": {
          "width": 0.5
         },
         "marker": {
          "color": "rgb(0,116,217)"
         },
         "mode": "lines",
         "name": "Col Cluster 2",
         "type": "scatter",
         "x": [
          22.5,
          22.5,
          83.76953125,
          83.76953125
         ],
         "xaxis": "x2",
         "y": [
          0.18588220299703895,
          0.32213956466333504,
          0.32213956466333504,
          0.30654688170053446
         ],
         "yaxis": "y2"
        },
        {
         "hoverinfo": "y+name",
         "line": {
          "width": 0.5
         },
         "marker": {
          "color": "rgb(0,116,217)"
         },
         "mode": "lines",
         "name": "Col Cluster 3",
         "type": "scatter",
         "x": [
          25,
          25,
          35,
          35
         ],
         "xaxis": "x2",
         "y": [
          0,
          0.005946821482321507,
          0.005946821482321507,
          0
         ],
         "yaxis": "y2"
        },
        {
         "hoverinfo": "y+name",
         "line": {
          "width": 0.5
         },
         "marker": {
          "color": "rgb(0,116,217)"
         },
         "mode": "lines",
         "name": "Col Cluster 4",
         "type": "scatter",
         "x": [
          45,
          45,
          60,
          60
         ],
         "xaxis": "x2",
         "y": [
          0,
          0.16781603906308462,
          0.16781603906308462,
          0.08676980842040549
         ],
         "yaxis": "y2"
        },
        {
         "hoverinfo": "y+name",
         "line": {
          "width": 0.5
         },
         "marker": {
          "color": "rgb(0,116,217)"
         },
         "mode": "lines",
         "name": "Col Cluster 5",
         "type": "scatter",
         "x": [
          52.5,
          52.5,
          115.0390625,
          115.0390625
         ],
         "xaxis": "x2",
         "y": [
          0.16781603906308462,
          0.30654688170053446,
          0.30654688170053446,
          0.2517154640314436
         ],
         "yaxis": "y2"
        },
        {
         "hoverinfo": "y+name",
         "line": {
          "width": 0.5
         },
         "marker": {
          "color": "rgb(0,116,217)"
         },
         "mode": "lines",
         "name": "Col Cluster 6",
         "type": "scatter",
         "x": [
          53.134765625,
          53.134765625,
          456.25,
          456.25
         ],
         "xaxis": "x2",
         "y": [
          0.32213956466333504,
          0.3738562008773495,
          0.3738562008773495,
          0.3638401569185764
         ],
         "yaxis": "y2"
        },
        {
         "hoverinfo": "y+name",
         "line": {
          "width": 0.5
         },
         "marker": {
          "color": "rgb(0,116,217)"
         },
         "mode": "lines",
         "name": "Col Cluster 7",
         "type": "scatter",
         "x": [
          55,
          55,
          65,
          65
         ],
         "xaxis": "x2",
         "y": [
          0,
          0.08676980842040549,
          0.08676980842040549,
          0
         ],
         "yaxis": "y2"
        },
        {
         "hoverinfo": "y+name",
         "line": {
          "width": 0.5
         },
         "marker": {
          "color": "rgb(0,116,217)"
         },
         "mode": "lines",
         "name": "Col Cluster 8",
         "type": "scatter",
         "x": [
          75,
          75,
          90,
          90
         ],
         "xaxis": "x2",
         "y": [
          0,
          0.14727940018525643,
          0.14727940018525643,
          0.05488059144284729
         ],
         "yaxis": "y2"
        },
        {
         "hoverinfo": "y+name",
         "line": {
          "width": 0.5
         },
         "marker": {
          "color": "rgb(0,116,217)"
         },
         "mode": "lines",
         "name": "Col Cluster 9",
         "type": "scatter",
         "x": [
          82.5,
          82.5,
          147.578125,
          147.578125
         ],
         "xaxis": "x2",
         "y": [
          0.14727940018525643,
          0.2517154640314436,
          0.2517154640314436,
          0.2129053218999727
         ],
         "yaxis": "y2"
        },
        {
         "hoverinfo": "y+name",
         "line": {
          "width": 0.5
         },
         "marker": {
          "color": "rgb(0,116,217)"
         },
         "mode": "lines",
         "name": "Col Cluster 10",
         "type": "scatter",
         "x": [
          85,
          85,
          95,
          95
         ],
         "xaxis": "x2",
         "y": [
          0,
          0.05488059144284729,
          0.05488059144284729,
          0
         ],
         "yaxis": "y2"
        },
        {
         "hoverinfo": "y+name",
         "line": {
          "width": 0.5
         },
         "marker": {
          "color": "rgb(0,116,217)"
         },
         "mode": "lines",
         "name": "Col Cluster 11",
         "type": "scatter",
         "x": [
          105,
          105,
          115,
          115
         ],
         "xaxis": "x2",
         "y": [
          0,
          0.14863257786181705,
          0.14863257786181705,
          0
         ],
         "yaxis": "y2"
        },
        {
         "hoverinfo": "y+name",
         "line": {
          "width": 0.5
         },
         "marker": {
          "color": "rgb(0,116,217)"
         },
         "mode": "lines",
         "name": "Col Cluster 12",
         "type": "scatter",
         "x": [
          110,
          110,
          185.15625,
          185.15625
         ],
         "xaxis": "x2",
         "y": [
          0.14863257786181705,
          0.2129053218999727,
          0.2129053218999727,
          0.19115024930964108
         ],
         "yaxis": "y2"
        },
        {
         "hoverinfo": "y+name",
         "line": {
          "width": 0.5
         },
         "marker": {
          "color": "rgb(0,116,217)"
         },
         "mode": "lines",
         "name": "Col Cluster 13",
         "type": "scatter",
         "x": [
          125,
          125,
          135,
          135
         ],
         "xaxis": "x2",
         "y": [
          0,
          0.11880735186217473,
          0.11880735186217473,
          0
         ],
         "yaxis": "y2"
        },
        {
         "hoverinfo": "y+name",
         "line": {
          "width": 0.5
         },
         "marker": {
          "color": "rgb(0,116,217)"
         },
         "mode": "lines",
         "name": "Col Cluster 14",
         "type": "scatter",
         "x": [
          130,
          130,
          240.3125,
          240.3125
         ],
         "xaxis": "x2",
         "y": [
          0.11880735186217473,
          0.19115024930964108,
          0.19115024930964108,
          0.12625384885884383
         ],
         "yaxis": "y2"
        },
        {
         "hoverinfo": "y+name",
         "line": {
          "width": 0.5
         },
         "marker": {
          "color": "rgb(0,116,217)"
         },
         "mode": "lines",
         "name": "Col Cluster 15",
         "type": "scatter",
         "x": [
          145,
          145,
          155,
          155
         ],
         "xaxis": "x2",
         "y": [
          0,
          0.03975982487877561,
          0.03975982487877561,
          0
         ],
         "yaxis": "y2"
        },
        {
         "hoverinfo": "y+name",
         "line": {
          "width": 0.5
         },
         "marker": {
          "color": "rgb(0,116,217)"
         },
         "mode": "lines",
         "name": "Col Cluster 16",
         "type": "scatter",
         "x": [
          150,
          150,
          330.625,
          330.625
         ],
         "xaxis": "x2",
         "y": [
          0.03975982487877561,
          0.12625384885884383,
          0.12625384885884383,
          0.11297839742948601
         ],
         "yaxis": "y2"
        },
        {
         "hoverinfo": "y+name",
         "line": {
          "width": 0.5
         },
         "marker": {
          "color": "rgb(0,116,217)"
         },
         "mode": "lines",
         "name": "Col Cluster 17",
         "type": "scatter",
         "x": [
          165,
          165,
          197.5,
          197.5
         ],
         "xaxis": "x2",
         "y": [
          0,
          0.03154751495548591,
          0.03154751495548591,
          0.023022585003848017
         ],
         "yaxis": "y2"
        },
        {
         "hoverinfo": "y+name",
         "line": {
          "width": 0.5
         },
         "marker": {
          "color": "rgb(0,116,217)"
         },
         "mode": "lines",
         "name": "Col Cluster 18",
         "type": "scatter",
         "x": [
          175,
          175,
          190,
          190
         ],
         "xaxis": "x2",
         "y": [
          0,
          0.008973220851474117,
          0.008973220851474117,
          0.006422589324385775
         ],
         "yaxis": "y2"
        },
        {
         "hoverinfo": "y+name",
         "line": {
          "width": 0.5
         },
         "marker": {
          "color": "rgb(0,116,217)"
         },
         "mode": "lines",
         "name": "Col Cluster 19",
         "type": "scatter",
         "x": [
          181.25,
          181.25,
          240,
          240
         ],
         "xaxis": "x2",
         "y": [
          0.03154751495548591,
          0.04123381243402213,
          0.04123381243402213,
          0.03228605605231849
         ],
         "yaxis": "y2"
        },
        {
         "hoverinfo": "y+name",
         "line": {
          "width": 0.5
         },
         "marker": {
          "color": "rgb(0,116,217)"
         },
         "mode": "lines",
         "name": "Col Cluster 20",
         "type": "scatter",
         "x": [
          182.5,
          182.5,
          212.5,
          212.5
         ],
         "xaxis": "x2",
         "y": [
          0.008973220851474117,
          0.023022585003848017,
          0.023022585003848017,
          0.013093052986829279
         ],
         "yaxis": "y2"
        },
        {
         "hoverinfo": "y+name",
         "line": {
          "width": 0.5
         },
         "marker": {
          "color": "rgb(0,116,217)"
         },
         "mode": "lines",
         "name": "Col Cluster 21",
         "type": "scatter",
         "x": [
          185,
          185,
          195,
          195
         ],
         "xaxis": "x2",
         "y": [
          0,
          0.006422589324385775,
          0.006422589324385775,
          0
         ],
         "yaxis": "y2"
        },
        {
         "hoverinfo": "y+name",
         "line": {
          "width": 0.5
         },
         "marker": {
          "color": "rgb(0,116,217)"
         },
         "mode": "lines",
         "name": "Col Cluster 22",
         "type": "scatter",
         "x": [
          205,
          205,
          220,
          220
         ],
         "xaxis": "x2",
         "y": [
          0,
          0.013093052986829279,
          0.013093052986829279,
          0.00682941050197905
         ],
         "yaxis": "y2"
        },
        {
         "hoverinfo": "y+name",
         "line": {
          "width": 0.5
         },
         "marker": {
          "color": "rgb(0,116,217)"
         },
         "mode": "lines",
         "name": "Col Cluster 23",
         "type": "scatter",
         "x": [
          210.625,
          210.625,
          291.875,
          291.875
         ],
         "xaxis": "x2",
         "y": [
          0.04123381243402213,
          0.06200361899495854,
          0.06200361899495854,
          0.04396049663607704
         ],
         "yaxis": "y2"
        },
        {
         "hoverinfo": "y+name",
         "line": {
          "width": 0.5
         },
         "marker": {
          "color": "rgb(0,116,217)"
         },
         "mode": "lines",
         "name": "Col Cluster 24",
         "type": "scatter",
         "x": [
          215,
          215,
          225,
          225
         ],
         "xaxis": "x2",
         "y": [
          0,
          0.00682941050197905,
          0.00682941050197905,
          0
         ],
         "yaxis": "y2"
        },
        {
         "hoverinfo": "y+name",
         "line": {
          "width": 0.5
         },
         "marker": {
          "color": "rgb(0,116,217)"
         },
         "mode": "lines",
         "name": "Col Cluster 25",
         "type": "scatter",
         "x": [
          235,
          235,
          245,
          245
         ],
         "xaxis": "x2",
         "y": [
          0,
          0.03228605605231849,
          0.03228605605231849,
          0
         ],
         "yaxis": "y2"
        },
        {
         "hoverinfo": "y+name",
         "line": {
          "width": 0.5
         },
         "marker": {
          "color": "rgb(0,116,217)"
         },
         "mode": "lines",
         "name": "Col Cluster 26",
         "type": "scatter",
         "x": [
          251.25,
          251.25,
          410,
          410
         ],
         "xaxis": "x2",
         "y": [
          0.06200361899495854,
          0.11297839742948601,
          0.11297839742948601,
          0.08851062940517074
         ],
         "yaxis": "y2"
        },
        {
         "hoverinfo": "y+name",
         "line": {
          "width": 0.5
         },
         "marker": {
          "color": "rgb(0,116,217)"
         },
         "mode": "lines",
         "name": "Col Cluster 27",
         "type": "scatter",
         "x": [
          254.6923828125,
          254.6923828125,
          504.67041015625,
          504.67041015625
         ],
         "xaxis": "x2",
         "y": [
          0.3738562008773495,
          0.4589572793908592,
          0.4589572793908592,
          0.40962529365430767
         ],
         "yaxis": "y2"
        },
        {
         "hoverinfo": "y+name",
         "line": {
          "width": 0.5
         },
         "marker": {
          "color": "rgb(0,116,217)"
         },
         "mode": "lines",
         "name": "Col Cluster 28",
         "type": "scatter",
         "x": [
          255,
          255,
          265,
          265
         ],
         "xaxis": "x2",
         "y": [
          0,
          0.025020622473546417,
          0.025020622473546417,
          0
         ],
         "yaxis": "y2"
        },
        {
         "hoverinfo": "y+name",
         "line": {
          "width": 0.5
         },
         "marker": {
          "color": "rgb(0,116,217)"
         },
         "mode": "lines",
         "name": "Col Cluster 29",
         "type": "scatter",
         "x": [
          260,
          260,
          323.75,
          323.75
         ],
         "xaxis": "x2",
         "y": [
          0.025020622473546417,
          0.04396049663607704,
          0.04396049663607704,
          0.030735627234558693
         ],
         "yaxis": "y2"
        },
        {
         "hoverinfo": "y+name",
         "line": {
          "width": 0.5
         },
         "marker": {
          "color": "rgb(0,116,217)"
         },
         "mode": "lines",
         "name": "Col Cluster 30",
         "type": "scatter",
         "x": [
          275,
          275,
          285,
          285
         ],
         "xaxis": "x2",
         "y": [
          0,
          0.011046534276838216,
          0.011046534276838216,
          0
         ],
         "yaxis": "y2"
        },
        {
         "hoverinfo": "y+name",
         "line": {
          "width": 0.5
         },
         "marker": {
          "color": "rgb(0,116,217)"
         },
         "mode": "lines",
         "name": "Col Cluster 31",
         "type": "scatter",
         "x": [
          280,
          280,
          302.5,
          302.5
         ],
         "xaxis": "x2",
         "y": [
          0.011046534276838216,
          0.021889316209295906,
          0.021889316209295906,
          0.015543717867635531
         ],
         "yaxis": "y2"
        },
        {
         "hoverinfo": "y+name",
         "line": {
          "width": 0.5
         },
         "marker": {
          "color": "rgb(0,116,217)"
         },
         "mode": "lines",
         "name": "Col Cluster 32",
         "type": "scatter",
         "x": [
          291.25,
          291.25,
          356.25,
          356.25
         ],
         "xaxis": "x2",
         "y": [
          0.021889316209295906,
          0.030735627234558693,
          0.030735627234558693,
          0.02923746503964164
         ],
         "yaxis": "y2"
        },
        {
         "hoverinfo": "y+name",
         "line": {
          "width": 0.5
         },
         "marker": {
          "color": "rgb(0,116,217)"
         },
         "mode": "lines",
         "name": "Col Cluster 33",
         "type": "scatter",
         "x": [
          295,
          295,
          310,
          310
         ],
         "xaxis": "x2",
         "y": [
          0,
          0.015543717867635531,
          0.015543717867635531,
          0.015023500274431667
         ],
         "yaxis": "y2"
        },
        {
         "hoverinfo": "y+name",
         "line": {
          "width": 0.5
         },
         "marker": {
          "color": "rgb(0,116,217)"
         },
         "mode": "lines",
         "name": "Col Cluster 34",
         "type": "scatter",
         "x": [
          305,
          305,
          315,
          315
         ],
         "xaxis": "x2",
         "y": [
          0,
          0.015023500274431667,
          0.015023500274431667,
          0
         ],
         "yaxis": "y2"
        },
        {
         "hoverinfo": "y+name",
         "line": {
          "width": 0.5
         },
         "marker": {
          "color": "rgb(0,116,217)"
         },
         "mode": "lines",
         "name": "Col Cluster 35",
         "type": "scatter",
         "x": [
          325,
          325,
          335,
          335
         ],
         "xaxis": "x2",
         "y": [
          0,
          0.007218658846826043,
          0.007218658846826043,
          0
         ],
         "yaxis": "y2"
        },
        {
         "hoverinfo": "y+name",
         "line": {
          "width": 0.5
         },
         "marker": {
          "color": "rgb(0,116,217)"
         },
         "mode": "lines",
         "name": "Col Cluster 36",
         "type": "scatter",
         "x": [
          330,
          330,
          350,
          350
         ],
         "xaxis": "x2",
         "y": [
          0.007218658846826043,
          0.019395887576010518,
          0.019395887576010518,
          0.007973466934343199
         ],
         "yaxis": "y2"
        },
        {
         "hoverinfo": "y+name",
         "line": {
          "width": 0.5
         },
         "marker": {
          "color": "rgb(0,116,217)"
         },
         "mode": "lines",
         "name": "Col Cluster 37",
         "type": "scatter",
         "x": [
          340,
          340,
          372.5,
          372.5
         ],
         "xaxis": "x2",
         "y": [
          0.019395887576010518,
          0.02923746503964164,
          0.02923746503964164,
          0.022965386274882538
         ],
         "yaxis": "y2"
        },
        {
         "hoverinfo": "y+name",
         "line": {
          "width": 0.5
         },
         "marker": {
          "color": "rgb(0,116,217)"
         },
         "mode": "lines",
         "name": "Col Cluster 38",
         "type": "scatter",
         "x": [
          345,
          345,
          355,
          355
         ],
         "xaxis": "x2",
         "y": [
          0,
          0.007973466934343199,
          0.007973466934343199,
          0
         ],
         "yaxis": "y2"
        },
        {
         "hoverinfo": "y+name",
         "line": {
          "width": 0.5
         },
         "marker": {
          "color": "rgb(0,116,217)"
         },
         "mode": "lines",
         "name": "Col Cluster 39",
         "type": "scatter",
         "x": [
          365,
          365,
          380,
          380
         ],
         "xaxis": "x2",
         "y": [
          0,
          0.022965386274882538,
          0.022965386274882538,
          0.015322814810973862
         ],
         "yaxis": "y2"
        },
        {
         "hoverinfo": "y+name",
         "line": {
          "width": 0.5
         },
         "marker": {
          "color": "rgb(0,116,217)"
         },
         "mode": "lines",
         "name": "Col Cluster 40",
         "type": "scatter",
         "x": [
          375,
          375,
          385,
          385
         ],
         "xaxis": "x2",
         "y": [
          0,
          0.015322814810973862,
          0.015322814810973862,
          0
         ],
         "yaxis": "y2"
        },
        {
         "hoverinfo": "y+name",
         "line": {
          "width": 0.5
         },
         "marker": {
          "color": "rgb(0,116,217)"
         },
         "mode": "lines",
         "name": "Col Cluster 41",
         "type": "scatter",
         "x": [
          379.681396484375,
          379.681396484375,
          710,
          710
         ],
         "xaxis": "x2",
         "y": [
          0.4589572793908592,
          0.5548048384024524,
          0.5548048384024524,
          0.4884740892593311
         ],
         "yaxis": "y2"
        },
        {
         "hoverinfo": "y+name",
         "line": {
          "width": 0.5
         },
         "marker": {
          "color": "rgb(0,116,217)"
         },
         "mode": "lines",
         "name": "Col Cluster 42",
         "type": "scatter",
         "x": [
          395,
          395,
          405,
          405
         ],
         "xaxis": "x2",
         "y": [
          0,
          0.030344653284322676,
          0.030344653284322676,
          0
         ],
         "yaxis": "y2"
        },
        {
         "hoverinfo": "y+name",
         "line": {
          "width": 0.5
         },
         "marker": {
          "color": "rgb(0,116,217)"
         },
         "mode": "lines",
         "name": "Col Cluster 43",
         "type": "scatter",
         "x": [
          400,
          400,
          420,
          420
         ],
         "xaxis": "x2",
         "y": [
          0.030344653284322676,
          0.08851062940517074,
          0.08851062940517074,
          0.052782707577725296
         ],
         "yaxis": "y2"
        },
        {
         "hoverinfo": "y+name",
         "line": {
          "width": 0.5
         },
         "marker": {
          "color": "rgb(0,116,217)"
         },
         "mode": "lines",
         "name": "Col Cluster 44",
         "type": "scatter",
         "x": [
          415,
          415,
          425,
          425
         ],
         "xaxis": "x2",
         "y": [
          0,
          0.052782707577725296,
          0.052782707577725296,
          0
         ],
         "yaxis": "y2"
        },
        {
         "hoverinfo": "y+name",
         "line": {
          "width": 0.5
         },
         "marker": {
          "color": "rgb(0,116,217)"
         },
         "mode": "lines",
         "name": "Col Cluster 45",
         "type": "scatter",
         "x": [
          435,
          435,
          450,
          450
         ],
         "xaxis": "x2",
         "y": [
          0,
          0.08904407384215274,
          0.08904407384215274,
          0.031046347145335607
         ],
         "yaxis": "y2"
        },
        {
         "hoverinfo": "y+name",
         "line": {
          "width": 0.5
         },
         "marker": {
          "color": "rgb(0,116,217)"
         },
         "mode": "lines",
         "name": "Col Cluster 46",
         "type": "scatter",
         "x": [
          442.5,
          442.5,
          470,
          470
         ],
         "xaxis": "x2",
         "y": [
          0.08904407384215274,
          0.3638401569185764,
          0.3638401569185764,
          0.23529757342750968
         ],
         "yaxis": "y2"
        },
        {
         "hoverinfo": "y+name",
         "line": {
          "width": 0.5
         },
         "marker": {
          "color": "rgb(0,116,217)"
         },
         "mode": "lines",
         "name": "Col Cluster 47",
         "type": "scatter",
         "x": [
          445,
          445,
          455,
          455
         ],
         "xaxis": "x2",
         "y": [
          0,
          0.031046347145335607,
          0.031046347145335607,
          0
         ],
         "yaxis": "y2"
        },
        {
         "hoverinfo": "y+name",
         "line": {
          "width": 0.5
         },
         "marker": {
          "color": "rgb(0,116,217)"
         },
         "mode": "lines",
         "name": "Col Cluster 48",
         "type": "scatter",
         "x": [
          465,
          465,
          475,
          475
         ],
         "xaxis": "x2",
         "y": [
          0,
          0.23529757342750968,
          0.23529757342750968,
          0
         ],
         "yaxis": "y2"
        },
        {
         "hoverinfo": "y+name",
         "line": {
          "width": 0.5
         },
         "marker": {
          "color": "rgb(0,116,217)"
         },
         "mode": "lines",
         "name": "Col Cluster 49",
         "type": "scatter",
         "x": [
          485,
          485,
          524.3408203125,
          524.3408203125
         ],
         "xaxis": "x2",
         "y": [
          0,
          0.40962529365430767,
          0.40962529365430767,
          0.35430975059921277
         ],
         "yaxis": "y2"
        },
        {
         "hoverinfo": "y+name",
         "line": {
          "width": 0.5
         },
         "marker": {
          "color": "rgb(0,116,217)"
         },
         "mode": "lines",
         "name": "Col Cluster 50",
         "type": "scatter",
         "x": [
          495,
          495,
          505,
          505
         ],
         "xaxis": "x2",
         "y": [
          0,
          0.07323516558278276,
          0.07323516558278276,
          0
         ],
         "yaxis": "y2"
        },
        {
         "hoverinfo": "y+name",
         "line": {
          "width": 0.5
         },
         "marker": {
          "color": "rgb(0,116,217)"
         },
         "mode": "lines",
         "name": "Col Cluster 51",
         "type": "scatter",
         "x": [
          500,
          500,
          548.681640625,
          548.681640625
         ],
         "xaxis": "x2",
         "y": [
          0.07323516558278276,
          0.35430975059921277,
          0.35430975059921277,
          0.3036830206490805
         ],
         "yaxis": "y2"
        },
        {
         "hoverinfo": "y+name",
         "line": {
          "width": 0.5
         },
         "marker": {
          "color": "rgb(0,116,217)"
         },
         "mode": "lines",
         "name": "Col Cluster 52",
         "type": "scatter",
         "x": [
          515,
          515,
          582.36328125,
          582.36328125
         ],
         "xaxis": "x2",
         "y": [
          0,
          0.3036830206490805,
          0.3036830206490805,
          0.30075010115435585
         ],
         "yaxis": "y2"
        },
        {
         "hoverinfo": "y+name",
         "line": {
          "width": 0.5
         },
         "marker": {
          "color": "rgb(0,116,217)"
         },
         "mode": "lines",
         "name": "Col Cluster 53",
         "type": "scatter",
         "x": [
          525,
          525,
          639.7265625,
          639.7265625
         ],
         "xaxis": "x2",
         "y": [
          0,
          0.30075010115435585,
          0.30075010115435585,
          0.26614048935373624
         ],
         "yaxis": "y2"
        },
        {
         "hoverinfo": "y+name",
         "line": {
          "width": 0.5
         },
         "marker": {
          "color": "rgb(0,116,217)"
         },
         "mode": "lines",
         "name": "Col Cluster 54",
         "type": "scatter",
         "x": [
          535,
          535,
          550,
          550
         ],
         "xaxis": "x2",
         "y": [
          0,
          0.10528666787197694,
          0.10528666787197694,
          0.047955208753006184
         ],
         "yaxis": "y2"
        },
        {
         "hoverinfo": "y+name",
         "line": {
          "width": 0.5
         },
         "marker": {
          "color": "rgb(0,116,217)"
         },
         "mode": "lines",
         "name": "Col Cluster 55",
         "type": "scatter",
         "x": [
          542.5,
          542.5,
          580.3125,
          580.3125
         ],
         "xaxis": "x2",
         "y": [
          0.10528666787197694,
          0.1780702033700723,
          0.1780702033700723,
          0.11640453392997019
         ],
         "yaxis": "y2"
        },
        {
         "hoverinfo": "y+name",
         "line": {
          "width": 0.5
         },
         "marker": {
          "color": "rgb(0,116,217)"
         },
         "mode": "lines",
         "name": "Col Cluster 56",
         "type": "scatter",
         "x": [
          545,
          545,
          555,
          555
         ],
         "xaxis": "x2",
         "y": [
          0,
          0.047955208753006184,
          0.047955208753006184,
          0
         ],
         "yaxis": "y2"
        },
        {
         "hoverinfo": "y+name",
         "line": {
          "width": 0.5
         },
         "marker": {
          "color": "rgb(0,116,217)"
         },
         "mode": "lines",
         "name": "Col Cluster 57",
         "type": "scatter",
         "x": [
          561.40625,
          561.40625,
          650,
          650
         ],
         "xaxis": "x2",
         "y": [
          0.1780702033700723,
          0.2000989667986932,
          0.2000989667986932,
          0.18918929176874855
         ],
         "yaxis": "y2"
        },
        {
         "hoverinfo": "y+name",
         "line": {
          "width": 0.5
         },
         "marker": {
          "color": "rgb(0,116,217)"
         },
         "mode": "lines",
         "name": "Col Cluster 58",
         "type": "scatter",
         "x": [
          565,
          565,
          595.625,
          595.625
         ],
         "xaxis": "x2",
         "y": [
          0,
          0.11640453392997019,
          0.11640453392997019,
          0.07802260927543203
         ],
         "yaxis": "y2"
        },
        {
         "hoverinfo": "y+name",
         "line": {
          "width": 0.5
         },
         "marker": {
          "color": "rgb(0,116,217)"
         },
         "mode": "lines",
         "name": "Col Cluster 59",
         "type": "scatter",
         "x": [
          575,
          575,
          585,
          585
         ],
         "xaxis": "x2",
         "y": [
          0,
          0.017897353198180976,
          0.017897353198180976,
          0
         ],
         "yaxis": "y2"
        },
        {
         "hoverinfo": "y+name",
         "line": {
          "width": 0.5
         },
         "marker": {
          "color": "rgb(0,116,217)"
         },
         "mode": "lines",
         "name": "Col Cluster 60",
         "type": "scatter",
         "x": [
          580,
          580,
          611.25,
          611.25
         ],
         "xaxis": "x2",
         "y": [
          0.017897353198180976,
          0.07802260927543203,
          0.07802260927543203,
          0.05471327434400941
         ],
         "yaxis": "y2"
        },
        {
         "hoverinfo": "y+name",
         "line": {
          "width": 0.5
         },
         "marker": {
          "color": "rgb(0,116,217)"
         },
         "mode": "lines",
         "name": "Col Cluster 61",
         "type": "scatter",
         "x": [
          595,
          595,
          605,
          605
         ],
         "xaxis": "x2",
         "y": [
          0,
          0.023236028075634296,
          0.023236028075634296,
          0
         ],
         "yaxis": "y2"
        },
        {
         "hoverinfo": "y+name",
         "line": {
          "width": 0.5
         },
         "marker": {
          "color": "rgb(0,116,217)"
         },
         "mode": "lines",
         "name": "Col Cluster 62",
         "type": "scatter",
         "x": [
          600,
          600,
          622.5,
          622.5
         ],
         "xaxis": "x2",
         "y": [
          0.023236028075634296,
          0.05471327434400941,
          0.05471327434400941,
          0.050290054178409926
         ],
         "yaxis": "y2"
        },
        {
         "hoverinfo": "y+name",
         "line": {
          "width": 0.5
         },
         "marker": {
          "color": "rgb(0,116,217)"
         },
         "mode": "lines",
         "name": "Col Cluster 63",
         "type": "scatter",
         "x": [
          605.703125,
          605.703125,
          673.75,
          673.75
         ],
         "xaxis": "x2",
         "y": [
          0.2000989667986932,
          0.26614048935373624,
          0.26614048935373624,
          0.2154626722876397
         ],
         "yaxis": "y2"
        },
        {
         "hoverinfo": "y+name",
         "line": {
          "width": 0.5
         },
         "marker": {
          "color": "rgb(0,116,217)"
         },
         "mode": "lines",
         "name": "Col Cluster 64",
         "type": "scatter",
         "x": [
          615,
          615,
          630,
          630
         ],
         "xaxis": "x2",
         "y": [
          0,
          0.050290054178409926,
          0.050290054178409926,
          0.030807809724581636
         ],
         "yaxis": "y2"
        },
        {
         "hoverinfo": "y+name",
         "line": {
          "width": 0.5
         },
         "marker": {
          "color": "rgb(0,116,217)"
         },
         "mode": "lines",
         "name": "Col Cluster 65",
         "type": "scatter",
         "x": [
          625,
          625,
          635,
          635
         ],
         "xaxis": "x2",
         "y": [
          0,
          0.030807809724581636,
          0.030807809724581636,
          0
         ],
         "yaxis": "y2"
        },
        {
         "hoverinfo": "y+name",
         "line": {
          "width": 0.5
         },
         "marker": {
          "color": "rgb(0,116,217)"
         },
         "mode": "lines",
         "name": "Col Cluster 66",
         "type": "scatter",
         "x": [
          645,
          645,
          655,
          655
         ],
         "xaxis": "x2",
         "y": [
          0,
          0.18918929176874855,
          0.18918929176874855,
          0
         ],
         "yaxis": "y2"
        },
        {
         "hoverinfo": "y+name",
         "line": {
          "width": 0.5
         },
         "marker": {
          "color": "rgb(0,116,217)"
         },
         "mode": "lines",
         "name": "Col Cluster 67",
         "type": "scatter",
         "x": [
          665,
          665,
          682.5,
          682.5
         ],
         "xaxis": "x2",
         "y": [
          0,
          0.2154626722876397,
          0.2154626722876397,
          0.08132783148471578
         ],
         "yaxis": "y2"
        },
        {
         "hoverinfo": "y+name",
         "line": {
          "width": 0.5
         },
         "marker": {
          "color": "rgb(0,116,217)"
         },
         "mode": "lines",
         "name": "Col Cluster 68",
         "type": "scatter",
         "x": [
          675,
          675,
          690,
          690
         ],
         "xaxis": "x2",
         "y": [
          0,
          0.08132783148471578,
          0.08132783148471578,
          0.02691675385294956
         ],
         "yaxis": "y2"
        },
        {
         "hoverinfo": "y+name",
         "line": {
          "width": 0.5
         },
         "marker": {
          "color": "rgb(0,116,217)"
         },
         "mode": "lines",
         "name": "Col Cluster 69",
         "type": "scatter",
         "x": [
          685,
          685,
          695,
          695
         ],
         "xaxis": "x2",
         "y": [
          0,
          0.02691675385294956,
          0.02691675385294956,
          0
         ],
         "yaxis": "y2"
        },
        {
         "hoverinfo": "y+name",
         "line": {
          "width": 0.5
         },
         "marker": {
          "color": "rgb(0,116,217)"
         },
         "mode": "lines",
         "name": "Col Cluster 70",
         "type": "scatter",
         "x": [
          705,
          705,
          715,
          715
         ],
         "xaxis": "x2",
         "y": [
          0,
          0.4884740892593311,
          0.4884740892593311,
          0
         ],
         "yaxis": "y2"
        },
        {
         "hoverinfo": "x+name",
         "line": {
          "width": 0.5
         },
         "marker": {
          "color": "rgb(0,116,217)"
         },
         "mode": "lines",
         "name": "Row Cluster 0",
         "type": "scatter",
         "x": [
          0,
          -0.005946821482321507,
          -0.005946821482321507,
          0
         ],
         "xaxis": "x4",
         "y": [
          25,
          25,
          35,
          35
         ],
         "yaxis": "y4"
        },
        {
         "hoverinfo": "x+name",
         "line": {
          "width": 0.5
         },
         "marker": {
          "color": "rgb(0,116,217)"
         },
         "mode": "lines",
         "name": "Row Cluster 1",
         "type": "scatter",
         "x": [
          0,
          -0.4884740892593311,
          -0.4884740892593311,
          0
         ],
         "xaxis": "x4",
         "y": [
          705,
          705,
          715,
          715
         ],
         "yaxis": "y4"
        },
        {
         "hoverinfo": "x+name",
         "line": {
          "width": 0.5
         },
         "marker": {
          "color": "rgb(0,116,217)"
         },
         "mode": "lines",
         "name": "Row Cluster 2",
         "type": "scatter",
         "x": [
          0,
          -0.02691675385294956,
          -0.02691675385294956,
          0
         ],
         "xaxis": "x4",
         "y": [
          685,
          685,
          695,
          695
         ],
         "yaxis": "y4"
        },
        {
         "hoverinfo": "x+name",
         "line": {
          "width": 0.5
         },
         "marker": {
          "color": "rgb(0,116,217)"
         },
         "mode": "lines",
         "name": "Row Cluster 3",
         "type": "scatter",
         "x": [
          0,
          -0.08132783148471578,
          -0.08132783148471578,
          -0.02691675385294956
         ],
         "xaxis": "x4",
         "y": [
          675,
          675,
          690,
          690
         ],
         "yaxis": "y4"
        },
        {
         "hoverinfo": "x+name",
         "line": {
          "width": 0.5
         },
         "marker": {
          "color": "rgb(0,116,217)"
         },
         "mode": "lines",
         "name": "Row Cluster 4",
         "type": "scatter",
         "x": [
          0,
          -0.2154626722876397,
          -0.2154626722876397,
          -0.08132783148471578
         ],
         "xaxis": "x4",
         "y": [
          665,
          665,
          682.5,
          682.5
         ],
         "yaxis": "y4"
        },
        {
         "hoverinfo": "x+name",
         "line": {
          "width": 0.5
         },
         "marker": {
          "color": "rgb(0,116,217)"
         },
         "mode": "lines",
         "name": "Row Cluster 5",
         "type": "scatter",
         "x": [
          0,
          -0.18918929176874855,
          -0.18918929176874855,
          0
         ],
         "xaxis": "x4",
         "y": [
          645,
          645,
          655,
          655
         ],
         "yaxis": "y4"
        },
        {
         "hoverinfo": "x+name",
         "line": {
          "width": 0.5
         },
         "marker": {
          "color": "rgb(0,116,217)"
         },
         "mode": "lines",
         "name": "Row Cluster 6",
         "type": "scatter",
         "x": [
          0,
          -0.030807809724581636,
          -0.030807809724581636,
          0
         ],
         "xaxis": "x4",
         "y": [
          625,
          625,
          635,
          635
         ],
         "yaxis": "y4"
        },
        {
         "hoverinfo": "x+name",
         "line": {
          "width": 0.5
         },
         "marker": {
          "color": "rgb(0,116,217)"
         },
         "mode": "lines",
         "name": "Row Cluster 7",
         "type": "scatter",
         "x": [
          0,
          -0.050290054178409926,
          -0.050290054178409926,
          -0.030807809724581636
         ],
         "xaxis": "x4",
         "y": [
          615,
          615,
          630,
          630
         ],
         "yaxis": "y4"
        },
        {
         "hoverinfo": "x+name",
         "line": {
          "width": 0.5
         },
         "marker": {
          "color": "rgb(0,116,217)"
         },
         "mode": "lines",
         "name": "Row Cluster 8",
         "type": "scatter",
         "x": [
          -0.2000989667986932,
          -0.26614048935373624,
          -0.26614048935373624,
          -0.2154626722876397
         ],
         "xaxis": "x4",
         "y": [
          605.703125,
          605.703125,
          673.75,
          673.75
         ],
         "yaxis": "y4"
        },
        {
         "hoverinfo": "x+name",
         "line": {
          "width": 0.5
         },
         "marker": {
          "color": "rgb(0,116,217)"
         },
         "mode": "lines",
         "name": "Row Cluster 9",
         "type": "scatter",
         "x": [
          -0.023236028075634296,
          -0.05471327434400941,
          -0.05471327434400941,
          -0.050290054178409926
         ],
         "xaxis": "x4",
         "y": [
          600,
          600,
          622.5,
          622.5
         ],
         "yaxis": "y4"
        },
        {
         "hoverinfo": "x+name",
         "line": {
          "width": 0.5
         },
         "marker": {
          "color": "rgb(0,116,217)"
         },
         "mode": "lines",
         "name": "Row Cluster 10",
         "type": "scatter",
         "x": [
          0,
          -0.023236028075634296,
          -0.023236028075634296,
          0
         ],
         "xaxis": "x4",
         "y": [
          595,
          595,
          605,
          605
         ],
         "yaxis": "y4"
        },
        {
         "hoverinfo": "x+name",
         "line": {
          "width": 0.5
         },
         "marker": {
          "color": "rgb(0,116,217)"
         },
         "mode": "lines",
         "name": "Row Cluster 11",
         "type": "scatter",
         "x": [
          -0.017897353198180976,
          -0.07802260927543203,
          -0.07802260927543203,
          -0.05471327434400941
         ],
         "xaxis": "x4",
         "y": [
          580,
          580,
          611.25,
          611.25
         ],
         "yaxis": "y4"
        },
        {
         "hoverinfo": "x+name",
         "line": {
          "width": 0.5
         },
         "marker": {
          "color": "rgb(0,116,217)"
         },
         "mode": "lines",
         "name": "Row Cluster 12",
         "type": "scatter",
         "x": [
          0,
          -0.017897353198180976,
          -0.017897353198180976,
          0
         ],
         "xaxis": "x4",
         "y": [
          575,
          575,
          585,
          585
         ],
         "yaxis": "y4"
        },
        {
         "hoverinfo": "x+name",
         "line": {
          "width": 0.5
         },
         "marker": {
          "color": "rgb(0,116,217)"
         },
         "mode": "lines",
         "name": "Row Cluster 13",
         "type": "scatter",
         "x": [
          0,
          -0.11640453392997019,
          -0.11640453392997019,
          -0.07802260927543203
         ],
         "xaxis": "x4",
         "y": [
          565,
          565,
          595.625,
          595.625
         ],
         "yaxis": "y4"
        },
        {
         "hoverinfo": "x+name",
         "line": {
          "width": 0.5
         },
         "marker": {
          "color": "rgb(0,116,217)"
         },
         "mode": "lines",
         "name": "Row Cluster 14",
         "type": "scatter",
         "x": [
          -0.1780702033700723,
          -0.2000989667986932,
          -0.2000989667986932,
          -0.18918929176874855
         ],
         "xaxis": "x4",
         "y": [
          561.40625,
          561.40625,
          650,
          650
         ],
         "yaxis": "y4"
        },
        {
         "hoverinfo": "x+name",
         "line": {
          "width": 0.5
         },
         "marker": {
          "color": "rgb(0,116,217)"
         },
         "mode": "lines",
         "name": "Row Cluster 15",
         "type": "scatter",
         "x": [
          0,
          -0.047955208753006184,
          -0.047955208753006184,
          0
         ],
         "xaxis": "x4",
         "y": [
          545,
          545,
          555,
          555
         ],
         "yaxis": "y4"
        },
        {
         "hoverinfo": "x+name",
         "line": {
          "width": 0.5
         },
         "marker": {
          "color": "rgb(0,116,217)"
         },
         "mode": "lines",
         "name": "Row Cluster 16",
         "type": "scatter",
         "x": [
          -0.10528666787197694,
          -0.1780702033700723,
          -0.1780702033700723,
          -0.11640453392997019
         ],
         "xaxis": "x4",
         "y": [
          542.5,
          542.5,
          580.3125,
          580.3125
         ],
         "yaxis": "y4"
        },
        {
         "hoverinfo": "x+name",
         "line": {
          "width": 0.5
         },
         "marker": {
          "color": "rgb(0,116,217)"
         },
         "mode": "lines",
         "name": "Row Cluster 17",
         "type": "scatter",
         "x": [
          0,
          -0.10528666787197694,
          -0.10528666787197694,
          -0.047955208753006184
         ],
         "xaxis": "x4",
         "y": [
          535,
          535,
          550,
          550
         ],
         "yaxis": "y4"
        },
        {
         "hoverinfo": "x+name",
         "line": {
          "width": 0.5
         },
         "marker": {
          "color": "rgb(0,116,217)"
         },
         "mode": "lines",
         "name": "Row Cluster 18",
         "type": "scatter",
         "x": [
          0,
          -0.30075010115435585,
          -0.30075010115435585,
          -0.26614048935373624
         ],
         "xaxis": "x4",
         "y": [
          525,
          525,
          639.7265625,
          639.7265625
         ],
         "yaxis": "y4"
        },
        {
         "hoverinfo": "x+name",
         "line": {
          "width": 0.5
         },
         "marker": {
          "color": "rgb(0,116,217)"
         },
         "mode": "lines",
         "name": "Row Cluster 19",
         "type": "scatter",
         "x": [
          0,
          -0.3036830206490805,
          -0.3036830206490805,
          -0.30075010115435585
         ],
         "xaxis": "x4",
         "y": [
          515,
          515,
          582.36328125,
          582.36328125
         ],
         "yaxis": "y4"
        },
        {
         "hoverinfo": "x+name",
         "line": {
          "width": 0.5
         },
         "marker": {
          "color": "rgb(0,116,217)"
         },
         "mode": "lines",
         "name": "Row Cluster 20",
         "type": "scatter",
         "x": [
          -0.07323516558278276,
          -0.35430975059921277,
          -0.35430975059921277,
          -0.3036830206490805
         ],
         "xaxis": "x4",
         "y": [
          500,
          500,
          548.681640625,
          548.681640625
         ],
         "yaxis": "y4"
        },
        {
         "hoverinfo": "x+name",
         "line": {
          "width": 0.5
         },
         "marker": {
          "color": "rgb(0,116,217)"
         },
         "mode": "lines",
         "name": "Row Cluster 21",
         "type": "scatter",
         "x": [
          0,
          -0.07323516558278276,
          -0.07323516558278276,
          0
         ],
         "xaxis": "x4",
         "y": [
          495,
          495,
          505,
          505
         ],
         "yaxis": "y4"
        },
        {
         "hoverinfo": "x+name",
         "line": {
          "width": 0.5
         },
         "marker": {
          "color": "rgb(0,116,217)"
         },
         "mode": "lines",
         "name": "Row Cluster 22",
         "type": "scatter",
         "x": [
          0,
          -0.40962529365430767,
          -0.40962529365430767,
          -0.35430975059921277
         ],
         "xaxis": "x4",
         "y": [
          485,
          485,
          524.3408203125,
          524.3408203125
         ],
         "yaxis": "y4"
        },
        {
         "hoverinfo": "x+name",
         "line": {
          "width": 0.5
         },
         "marker": {
          "color": "rgb(0,116,217)"
         },
         "mode": "lines",
         "name": "Row Cluster 23",
         "type": "scatter",
         "x": [
          0,
          -0.23529757342750968,
          -0.23529757342750968,
          0
         ],
         "xaxis": "x4",
         "y": [
          465,
          465,
          475,
          475
         ],
         "yaxis": "y4"
        },
        {
         "hoverinfo": "x+name",
         "line": {
          "width": 0.5
         },
         "marker": {
          "color": "rgb(0,116,217)"
         },
         "mode": "lines",
         "name": "Row Cluster 24",
         "type": "scatter",
         "x": [
          0,
          -0.031046347145335607,
          -0.031046347145335607,
          0
         ],
         "xaxis": "x4",
         "y": [
          445,
          445,
          455,
          455
         ],
         "yaxis": "y4"
        },
        {
         "hoverinfo": "x+name",
         "line": {
          "width": 0.5
         },
         "marker": {
          "color": "rgb(0,116,217)"
         },
         "mode": "lines",
         "name": "Row Cluster 25",
         "type": "scatter",
         "x": [
          -0.08904407384215274,
          -0.3638401569185764,
          -0.3638401569185764,
          -0.23529757342750968
         ],
         "xaxis": "x4",
         "y": [
          442.5,
          442.5,
          470,
          470
         ],
         "yaxis": "y4"
        },
        {
         "hoverinfo": "x+name",
         "line": {
          "width": 0.5
         },
         "marker": {
          "color": "rgb(0,116,217)"
         },
         "mode": "lines",
         "name": "Row Cluster 26",
         "type": "scatter",
         "x": [
          0,
          -0.08904407384215274,
          -0.08904407384215274,
          -0.031046347145335607
         ],
         "xaxis": "x4",
         "y": [
          435,
          435,
          450,
          450
         ],
         "yaxis": "y4"
        },
        {
         "hoverinfo": "x+name",
         "line": {
          "width": 0.5
         },
         "marker": {
          "color": "rgb(0,116,217)"
         },
         "mode": "lines",
         "name": "Row Cluster 27",
         "type": "scatter",
         "x": [
          0,
          -0.052782707577725296,
          -0.052782707577725296,
          0
         ],
         "xaxis": "x4",
         "y": [
          415,
          415,
          425,
          425
         ],
         "yaxis": "y4"
        },
        {
         "hoverinfo": "x+name",
         "line": {
          "width": 0.5
         },
         "marker": {
          "color": "rgb(0,116,217)"
         },
         "mode": "lines",
         "name": "Row Cluster 28",
         "type": "scatter",
         "x": [
          -0.030344653284322676,
          -0.08851062940517074,
          -0.08851062940517074,
          -0.052782707577725296
         ],
         "xaxis": "x4",
         "y": [
          400,
          400,
          420,
          420
         ],
         "yaxis": "y4"
        },
        {
         "hoverinfo": "x+name",
         "line": {
          "width": 0.5
         },
         "marker": {
          "color": "rgb(0,116,217)"
         },
         "mode": "lines",
         "name": "Row Cluster 29",
         "type": "scatter",
         "x": [
          0,
          -0.030344653284322676,
          -0.030344653284322676,
          0
         ],
         "xaxis": "x4",
         "y": [
          395,
          395,
          405,
          405
         ],
         "yaxis": "y4"
        },
        {
         "hoverinfo": "x+name",
         "line": {
          "width": 0.5
         },
         "marker": {
          "color": "rgb(0,116,217)"
         },
         "mode": "lines",
         "name": "Row Cluster 30",
         "type": "scatter",
         "x": [
          -0.4589572793908592,
          -0.5548048384024524,
          -0.5548048384024524,
          -0.4884740892593311
         ],
         "xaxis": "x4",
         "y": [
          379.681396484375,
          379.681396484375,
          710,
          710
         ],
         "yaxis": "y4"
        },
        {
         "hoverinfo": "x+name",
         "line": {
          "width": 0.5
         },
         "marker": {
          "color": "rgb(0,116,217)"
         },
         "mode": "lines",
         "name": "Row Cluster 31",
         "type": "scatter",
         "x": [
          0,
          -0.015322814810973862,
          -0.015322814810973862,
          0
         ],
         "xaxis": "x4",
         "y": [
          375,
          375,
          385,
          385
         ],
         "yaxis": "y4"
        },
        {
         "hoverinfo": "x+name",
         "line": {
          "width": 0.5
         },
         "marker": {
          "color": "rgb(0,116,217)"
         },
         "mode": "lines",
         "name": "Row Cluster 32",
         "type": "scatter",
         "x": [
          0,
          -0.022965386274882538,
          -0.022965386274882538,
          -0.015322814810973862
         ],
         "xaxis": "x4",
         "y": [
          365,
          365,
          380,
          380
         ],
         "yaxis": "y4"
        },
        {
         "hoverinfo": "x+name",
         "line": {
          "width": 0.5
         },
         "marker": {
          "color": "rgb(0,116,217)"
         },
         "mode": "lines",
         "name": "Row Cluster 33",
         "type": "scatter",
         "x": [
          0,
          -0.007973466934343199,
          -0.007973466934343199,
          0
         ],
         "xaxis": "x4",
         "y": [
          345,
          345,
          355,
          355
         ],
         "yaxis": "y4"
        },
        {
         "hoverinfo": "x+name",
         "line": {
          "width": 0.5
         },
         "marker": {
          "color": "rgb(0,116,217)"
         },
         "mode": "lines",
         "name": "Row Cluster 34",
         "type": "scatter",
         "x": [
          -0.019395887576010518,
          -0.02923746503964164,
          -0.02923746503964164,
          -0.022965386274882538
         ],
         "xaxis": "x4",
         "y": [
          340,
          340,
          372.5,
          372.5
         ],
         "yaxis": "y4"
        },
        {
         "hoverinfo": "x+name",
         "line": {
          "width": 0.5
         },
         "marker": {
          "color": "rgb(0,116,217)"
         },
         "mode": "lines",
         "name": "Row Cluster 35",
         "type": "scatter",
         "x": [
          -0.007218658846826043,
          -0.019395887576010518,
          -0.019395887576010518,
          -0.007973466934343199
         ],
         "xaxis": "x4",
         "y": [
          330,
          330,
          350,
          350
         ],
         "yaxis": "y4"
        },
        {
         "hoverinfo": "x+name",
         "line": {
          "width": 0.5
         },
         "marker": {
          "color": "rgb(0,116,217)"
         },
         "mode": "lines",
         "name": "Row Cluster 36",
         "type": "scatter",
         "x": [
          0,
          -0.007218658846826043,
          -0.007218658846826043,
          0
         ],
         "xaxis": "x4",
         "y": [
          325,
          325,
          335,
          335
         ],
         "yaxis": "y4"
        },
        {
         "hoverinfo": "x+name",
         "line": {
          "width": 0.5
         },
         "marker": {
          "color": "rgb(0,116,217)"
         },
         "mode": "lines",
         "name": "Row Cluster 37",
         "type": "scatter",
         "x": [
          0,
          -0.015023500274431667,
          -0.015023500274431667,
          0
         ],
         "xaxis": "x4",
         "y": [
          305,
          305,
          315,
          315
         ],
         "yaxis": "y4"
        },
        {
         "hoverinfo": "x+name",
         "line": {
          "width": 0.5
         },
         "marker": {
          "color": "rgb(0,116,217)"
         },
         "mode": "lines",
         "name": "Row Cluster 38",
         "type": "scatter",
         "x": [
          0,
          -0.015543717867635531,
          -0.015543717867635531,
          -0.015023500274431667
         ],
         "xaxis": "x4",
         "y": [
          295,
          295,
          310,
          310
         ],
         "yaxis": "y4"
        },
        {
         "hoverinfo": "x+name",
         "line": {
          "width": 0.5
         },
         "marker": {
          "color": "rgb(0,116,217)"
         },
         "mode": "lines",
         "name": "Row Cluster 39",
         "type": "scatter",
         "x": [
          -0.021889316209295906,
          -0.030735627234558693,
          -0.030735627234558693,
          -0.02923746503964164
         ],
         "xaxis": "x4",
         "y": [
          291.25,
          291.25,
          356.25,
          356.25
         ],
         "yaxis": "y4"
        },
        {
         "hoverinfo": "x+name",
         "line": {
          "width": 0.5
         },
         "marker": {
          "color": "rgb(0,116,217)"
         },
         "mode": "lines",
         "name": "Row Cluster 40",
         "type": "scatter",
         "x": [
          -0.011046534276838216,
          -0.021889316209295906,
          -0.021889316209295906,
          -0.015543717867635531
         ],
         "xaxis": "x4",
         "y": [
          280,
          280,
          302.5,
          302.5
         ],
         "yaxis": "y4"
        },
        {
         "hoverinfo": "x+name",
         "line": {
          "width": 0.5
         },
         "marker": {
          "color": "rgb(0,116,217)"
         },
         "mode": "lines",
         "name": "Row Cluster 41",
         "type": "scatter",
         "x": [
          0,
          -0.011046534276838216,
          -0.011046534276838216,
          0
         ],
         "xaxis": "x4",
         "y": [
          275,
          275,
          285,
          285
         ],
         "yaxis": "y4"
        },
        {
         "hoverinfo": "x+name",
         "line": {
          "width": 0.5
         },
         "marker": {
          "color": "rgb(0,116,217)"
         },
         "mode": "lines",
         "name": "Row Cluster 42",
         "type": "scatter",
         "x": [
          -0.025020622473546417,
          -0.04396049663607704,
          -0.04396049663607704,
          -0.030735627234558693
         ],
         "xaxis": "x4",
         "y": [
          260,
          260,
          323.75,
          323.75
         ],
         "yaxis": "y4"
        },
        {
         "hoverinfo": "x+name",
         "line": {
          "width": 0.5
         },
         "marker": {
          "color": "rgb(0,116,217)"
         },
         "mode": "lines",
         "name": "Row Cluster 43",
         "type": "scatter",
         "x": [
          0,
          -0.025020622473546417,
          -0.025020622473546417,
          0
         ],
         "xaxis": "x4",
         "y": [
          255,
          255,
          265,
          265
         ],
         "yaxis": "y4"
        },
        {
         "hoverinfo": "x+name",
         "line": {
          "width": 0.5
         },
         "marker": {
          "color": "rgb(0,116,217)"
         },
         "mode": "lines",
         "name": "Row Cluster 44",
         "type": "scatter",
         "x": [
          -0.3738562008773495,
          -0.4589572793908592,
          -0.4589572793908592,
          -0.40962529365430767
         ],
         "xaxis": "x4",
         "y": [
          254.6923828125,
          254.6923828125,
          504.67041015625,
          504.67041015625
         ],
         "yaxis": "y4"
        },
        {
         "hoverinfo": "x+name",
         "line": {
          "width": 0.5
         },
         "marker": {
          "color": "rgb(0,116,217)"
         },
         "mode": "lines",
         "name": "Row Cluster 45",
         "type": "scatter",
         "x": [
          -0.06200361899495854,
          -0.11297839742948601,
          -0.11297839742948601,
          -0.08851062940517074
         ],
         "xaxis": "x4",
         "y": [
          251.25,
          251.25,
          410,
          410
         ],
         "yaxis": "y4"
        },
        {
         "hoverinfo": "x+name",
         "line": {
          "width": 0.5
         },
         "marker": {
          "color": "rgb(0,116,217)"
         },
         "mode": "lines",
         "name": "Row Cluster 46",
         "type": "scatter",
         "x": [
          0,
          -0.03228605605231849,
          -0.03228605605231849,
          0
         ],
         "xaxis": "x4",
         "y": [
          235,
          235,
          245,
          245
         ],
         "yaxis": "y4"
        },
        {
         "hoverinfo": "x+name",
         "line": {
          "width": 0.5
         },
         "marker": {
          "color": "rgb(0,116,217)"
         },
         "mode": "lines",
         "name": "Row Cluster 47",
         "type": "scatter",
         "x": [
          0,
          -0.00682941050197905,
          -0.00682941050197905,
          0
         ],
         "xaxis": "x4",
         "y": [
          215,
          215,
          225,
          225
         ],
         "yaxis": "y4"
        },
        {
         "hoverinfo": "x+name",
         "line": {
          "width": 0.5
         },
         "marker": {
          "color": "rgb(0,116,217)"
         },
         "mode": "lines",
         "name": "Row Cluster 48",
         "type": "scatter",
         "x": [
          -0.04123381243402213,
          -0.06200361899495854,
          -0.06200361899495854,
          -0.04396049663607704
         ],
         "xaxis": "x4",
         "y": [
          210.625,
          210.625,
          291.875,
          291.875
         ],
         "yaxis": "y4"
        },
        {
         "hoverinfo": "x+name",
         "line": {
          "width": 0.5
         },
         "marker": {
          "color": "rgb(0,116,217)"
         },
         "mode": "lines",
         "name": "Row Cluster 49",
         "type": "scatter",
         "x": [
          0,
          -0.013093052986829279,
          -0.013093052986829279,
          -0.00682941050197905
         ],
         "xaxis": "x4",
         "y": [
          205,
          205,
          220,
          220
         ],
         "yaxis": "y4"
        },
        {
         "hoverinfo": "x+name",
         "line": {
          "width": 0.5
         },
         "marker": {
          "color": "rgb(0,116,217)"
         },
         "mode": "lines",
         "name": "Row Cluster 50",
         "type": "scatter",
         "x": [
          0,
          -0.006422589324385775,
          -0.006422589324385775,
          0
         ],
         "xaxis": "x4",
         "y": [
          185,
          185,
          195,
          195
         ],
         "yaxis": "y4"
        },
        {
         "hoverinfo": "x+name",
         "line": {
          "width": 0.5
         },
         "marker": {
          "color": "rgb(0,116,217)"
         },
         "mode": "lines",
         "name": "Row Cluster 51",
         "type": "scatter",
         "x": [
          -0.008973220851474117,
          -0.023022585003848017,
          -0.023022585003848017,
          -0.013093052986829279
         ],
         "xaxis": "x4",
         "y": [
          182.5,
          182.5,
          212.5,
          212.5
         ],
         "yaxis": "y4"
        },
        {
         "hoverinfo": "x+name",
         "line": {
          "width": 0.5
         },
         "marker": {
          "color": "rgb(0,116,217)"
         },
         "mode": "lines",
         "name": "Row Cluster 52",
         "type": "scatter",
         "x": [
          -0.03154751495548591,
          -0.04123381243402213,
          -0.04123381243402213,
          -0.03228605605231849
         ],
         "xaxis": "x4",
         "y": [
          181.25,
          181.25,
          240,
          240
         ],
         "yaxis": "y4"
        },
        {
         "hoverinfo": "x+name",
         "line": {
          "width": 0.5
         },
         "marker": {
          "color": "rgb(0,116,217)"
         },
         "mode": "lines",
         "name": "Row Cluster 53",
         "type": "scatter",
         "x": [
          0,
          -0.008973220851474117,
          -0.008973220851474117,
          -0.006422589324385775
         ],
         "xaxis": "x4",
         "y": [
          175,
          175,
          190,
          190
         ],
         "yaxis": "y4"
        },
        {
         "hoverinfo": "x+name",
         "line": {
          "width": 0.5
         },
         "marker": {
          "color": "rgb(0,116,217)"
         },
         "mode": "lines",
         "name": "Row Cluster 54",
         "type": "scatter",
         "x": [
          0,
          -0.03154751495548591,
          -0.03154751495548591,
          -0.023022585003848017
         ],
         "xaxis": "x4",
         "y": [
          165,
          165,
          197.5,
          197.5
         ],
         "yaxis": "y4"
        },
        {
         "hoverinfo": "x+name",
         "line": {
          "width": 0.5
         },
         "marker": {
          "color": "rgb(0,116,217)"
         },
         "mode": "lines",
         "name": "Row Cluster 55",
         "type": "scatter",
         "x": [
          -0.03975982487877561,
          -0.12625384885884383,
          -0.12625384885884383,
          -0.11297839742948601
         ],
         "xaxis": "x4",
         "y": [
          150,
          150,
          330.625,
          330.625
         ],
         "yaxis": "y4"
        },
        {
         "hoverinfo": "x+name",
         "line": {
          "width": 0.5
         },
         "marker": {
          "color": "rgb(0,116,217)"
         },
         "mode": "lines",
         "name": "Row Cluster 56",
         "type": "scatter",
         "x": [
          0,
          -0.03975982487877561,
          -0.03975982487877561,
          0
         ],
         "xaxis": "x4",
         "y": [
          145,
          145,
          155,
          155
         ],
         "yaxis": "y4"
        },
        {
         "hoverinfo": "x+name",
         "line": {
          "width": 0.5
         },
         "marker": {
          "color": "rgb(0,116,217)"
         },
         "mode": "lines",
         "name": "Row Cluster 57",
         "type": "scatter",
         "x": [
          -0.11880735186217473,
          -0.19115024930964108,
          -0.19115024930964108,
          -0.12625384885884383
         ],
         "xaxis": "x4",
         "y": [
          130,
          130,
          240.3125,
          240.3125
         ],
         "yaxis": "y4"
        },
        {
         "hoverinfo": "x+name",
         "line": {
          "width": 0.5
         },
         "marker": {
          "color": "rgb(0,116,217)"
         },
         "mode": "lines",
         "name": "Row Cluster 58",
         "type": "scatter",
         "x": [
          0,
          -0.11880735186217473,
          -0.11880735186217473,
          0
         ],
         "xaxis": "x4",
         "y": [
          125,
          125,
          135,
          135
         ],
         "yaxis": "y4"
        },
        {
         "hoverinfo": "x+name",
         "line": {
          "width": 0.5
         },
         "marker": {
          "color": "rgb(0,116,217)"
         },
         "mode": "lines",
         "name": "Row Cluster 59",
         "type": "scatter",
         "x": [
          -0.14863257786181705,
          -0.2129053218999727,
          -0.2129053218999727,
          -0.19115024930964108
         ],
         "xaxis": "x4",
         "y": [
          110,
          110,
          185.15625,
          185.15625
         ],
         "yaxis": "y4"
        },
        {
         "hoverinfo": "x+name",
         "line": {
          "width": 0.5
         },
         "marker": {
          "color": "rgb(0,116,217)"
         },
         "mode": "lines",
         "name": "Row Cluster 60",
         "type": "scatter",
         "x": [
          0,
          -0.14863257786181705,
          -0.14863257786181705,
          0
         ],
         "xaxis": "x4",
         "y": [
          105,
          105,
          115,
          115
         ],
         "yaxis": "y4"
        },
        {
         "hoverinfo": "x+name",
         "line": {
          "width": 0.5
         },
         "marker": {
          "color": "rgb(0,116,217)"
         },
         "mode": "lines",
         "name": "Row Cluster 61",
         "type": "scatter",
         "x": [
          0,
          -0.05488059144284729,
          -0.05488059144284729,
          0
         ],
         "xaxis": "x4",
         "y": [
          85,
          85,
          95,
          95
         ],
         "yaxis": "y4"
        },
        {
         "hoverinfo": "x+name",
         "line": {
          "width": 0.5
         },
         "marker": {
          "color": "rgb(0,116,217)"
         },
         "mode": "lines",
         "name": "Row Cluster 62",
         "type": "scatter",
         "x": [
          -0.14727940018525643,
          -0.2517154640314436,
          -0.2517154640314436,
          -0.2129053218999727
         ],
         "xaxis": "x4",
         "y": [
          82.5,
          82.5,
          147.578125,
          147.578125
         ],
         "yaxis": "y4"
        },
        {
         "hoverinfo": "x+name",
         "line": {
          "width": 0.5
         },
         "marker": {
          "color": "rgb(0,116,217)"
         },
         "mode": "lines",
         "name": "Row Cluster 63",
         "type": "scatter",
         "x": [
          0,
          -0.14727940018525643,
          -0.14727940018525643,
          -0.05488059144284729
         ],
         "xaxis": "x4",
         "y": [
          75,
          75,
          90,
          90
         ],
         "yaxis": "y4"
        },
        {
         "hoverinfo": "x+name",
         "line": {
          "width": 0.5
         },
         "marker": {
          "color": "rgb(0,116,217)"
         },
         "mode": "lines",
         "name": "Row Cluster 64",
         "type": "scatter",
         "x": [
          0,
          -0.08676980842040549,
          -0.08676980842040549,
          0
         ],
         "xaxis": "x4",
         "y": [
          55,
          55,
          65,
          65
         ],
         "yaxis": "y4"
        },
        {
         "hoverinfo": "x+name",
         "line": {
          "width": 0.5
         },
         "marker": {
          "color": "rgb(0,116,217)"
         },
         "mode": "lines",
         "name": "Row Cluster 65",
         "type": "scatter",
         "x": [
          -0.32213956466333504,
          -0.3738562008773495,
          -0.3738562008773495,
          -0.3638401569185764
         ],
         "xaxis": "x4",
         "y": [
          53.134765625,
          53.134765625,
          456.25,
          456.25
         ],
         "yaxis": "y4"
        },
        {
         "hoverinfo": "x+name",
         "line": {
          "width": 0.5
         },
         "marker": {
          "color": "rgb(0,116,217)"
         },
         "mode": "lines",
         "name": "Row Cluster 66",
         "type": "scatter",
         "x": [
          -0.16781603906308462,
          -0.30654688170053446,
          -0.30654688170053446,
          -0.2517154640314436
         ],
         "xaxis": "x4",
         "y": [
          52.5,
          52.5,
          115.0390625,
          115.0390625
         ],
         "yaxis": "y4"
        },
        {
         "hoverinfo": "x+name",
         "line": {
          "width": 0.5
         },
         "marker": {
          "color": "rgb(0,116,217)"
         },
         "mode": "lines",
         "name": "Row Cluster 67",
         "type": "scatter",
         "x": [
          0,
          -0.16781603906308462,
          -0.16781603906308462,
          -0.08676980842040549
         ],
         "xaxis": "x4",
         "y": [
          45,
          45,
          60,
          60
         ],
         "yaxis": "y4"
        },
        {
         "hoverinfo": "x+name",
         "line": {
          "width": 0.5
         },
         "marker": {
          "color": "rgb(0,116,217)"
         },
         "mode": "lines",
         "name": "Row Cluster 68",
         "type": "scatter",
         "x": [
          -0.18588220299703895,
          -0.32213956466333504,
          -0.32213956466333504,
          -0.30654688170053446
         ],
         "xaxis": "x4",
         "y": [
          22.5,
          22.5,
          83.76953125,
          83.76953125
         ],
         "yaxis": "y4"
        },
        {
         "hoverinfo": "x+name",
         "line": {
          "width": 0.5
         },
         "marker": {
          "color": "rgb(0,116,217)"
         },
         "mode": "lines",
         "name": "Row Cluster 69",
         "type": "scatter",
         "x": [
          0,
          -0.18588220299703895,
          -0.18588220299703895,
          -0.005946821482321507
         ],
         "xaxis": "x4",
         "y": [
          15,
          15,
          30,
          30
         ],
         "yaxis": "y4"
        },
        {
         "hoverinfo": "x+name",
         "line": {
          "width": 0.5
         },
         "marker": {
          "color": "rgb(0,116,217)"
         },
         "mode": "lines",
         "name": "Row Cluster 70",
         "type": "scatter",
         "x": [
          0,
          -0.7808072008740247,
          -0.7808072008740247,
          -0.5548048384024524
         ],
         "xaxis": "x4",
         "y": [
          5,
          5,
          544.8406982421875,
          544.8406982421875
         ],
         "yaxis": "y4"
        },
        {
         "colorbar": {
          "xpad": 100
         },
         "colorscale": [
          [
           0,
           "#30123b"
          ],
          [
           0.07142857142857142,
           "#4145ab"
          ],
          [
           0.14285714285714285,
           "#4675ed"
          ],
          [
           0.21428571428571427,
           "#39a2fc"
          ],
          [
           0.2857142857142857,
           "#1bcfd4"
          ],
          [
           0.35714285714285715,
           "#24eca6"
          ],
          [
           0.42857142857142855,
           "#61fc6c"
          ],
          [
           0.5,
           "#a4fc3b"
          ],
          [
           0.5714285714285714,
           "#d1e834"
          ],
          [
           0.6428571428571429,
           "#f3c63a"
          ],
          [
           0.7142857142857143,
           "#fe9b2d"
          ],
          [
           0.7857142857142857,
           "#f36315"
          ],
          [
           0.8571428571428571,
           "#d93806"
          ],
          [
           0.9285714285714286,
           "#b11901"
          ],
          [
           1,
           "#7a0402"
          ]
         ],
         "type": "heatmap",
         "x": [
          5,
          15,
          25,
          35,
          45,
          55,
          65,
          75,
          85,
          95,
          105,
          115,
          125,
          135,
          145,
          155,
          165,
          175,
          185,
          195,
          205,
          215,
          225,
          235,
          245,
          255,
          265,
          275,
          285,
          295,
          305,
          315,
          325,
          335,
          345,
          355,
          365,
          375,
          385,
          395,
          405,
          415,
          425,
          435,
          445,
          455,
          465,
          475,
          485,
          495,
          505,
          515,
          525,
          535,
          545,
          555,
          565,
          575,
          585,
          595,
          605,
          615,
          625,
          635,
          645,
          655,
          665,
          675,
          685,
          695,
          705,
          715
         ],
         "xaxis": "x5",
         "y": [
          5,
          15,
          25,
          35,
          45,
          55,
          65,
          75,
          85,
          95,
          105,
          115,
          125,
          135,
          145,
          155,
          165,
          175,
          185,
          195,
          205,
          215,
          225,
          235,
          245,
          255,
          265,
          275,
          285,
          295,
          305,
          315,
          325,
          335,
          345,
          355,
          365,
          375,
          385,
          395,
          405,
          415,
          425,
          435,
          445,
          455,
          465,
          475,
          485,
          495,
          505,
          515,
          525,
          535,
          545,
          555,
          565,
          575,
          585,
          595,
          605,
          615,
          625,
          635,
          645,
          655,
          665,
          675,
          685,
          695,
          705,
          715
         ],
         "yaxis": "y5",
         "z": [
          [
           1,
           0.01707731518863975,
           0.024739621914637112,
           0.030886061816502695,
           0.026826237689757445,
           0.014741828037225084,
           0.025833090726723625,
           0.020469685634612222,
           0.02740763631833376,
           0.03476265477744589,
           0.027495049847134415,
           0.02169135240624976,
           0.1910817824187304,
           0.025792719424566693,
           0.02947278731926865,
           0.019049398313153835,
           0.043675182681755485,
           0.040839023455705684,
           0.04598068706043361,
           0.0377806741055977,
           0.03561237858324672,
           0.04224413909347598,
           0.05420075338031288,
           0.039726096414415796,
           0.12549106588098247,
           0.05245528679536476,
           0.07205518642317595,
           0.0894180172482285,
           0.055660567061744,
           0.06151631710930756,
           0.04544773191234648,
           0.04291932825048216,
           0.04709414992199767,
           0.04550535916307308,
           0.050860965937804994,
           0.047090466548492735,
           0.0378489285341232,
           0.051465637848176746,
           0.04239264511881858,
           0.033514498021353194,
           0.03868913107927104,
           0.021470635871284116,
           0.03840102529152045,
           0.019031107405417386,
           0.031662373279644135,
           0.024386956032386817,
           0.010682018461185229,
           0.01750341737298082,
           0.020943938743467703,
           0.021879940500853023,
           0.020521934517540735,
           0.022479622898853305,
           0.022769939059077683,
           0.027328656160475112,
           0.05243622533958866,
           0.03148935003532079,
           0.055779881893567765,
           0.0427186155219063,
           0.05049684620379449,
           0.042131763329047514,
           0.051270084392557855,
           0.26910354454855956,
           0.06562020845142488,
           0.05251187864376135,
           0.03219180052459565,
           0.02611700653804232,
           0.0425311669925976,
           0.034311113315617245,
           0.03703322798746314,
           0.04817839592045242,
           0.011401091201813231,
           0.03083862413843961
          ],
          [
           0.01707731518863975,
           1,
           0.3241725665726063,
           0.2876443517409205,
           0.1091823436807313,
           0.09704618460482063,
           0.2525431069662345,
           0.07298272967707026,
           0.11103085845953953,
           0.09128334100852845,
           0.204991927845139,
           0.19111793236770963,
           0.16344559389423013,
           0.11663759627529557,
           0.17178876128220685,
           0.15334751547361883,
           0.20350411919870617,
           0.23741674072054292,
           0.2433453688607516,
           0.26209217506608634,
           0.25394040365767406,
           0.2666439895687457,
           0.3145447290555473,
           0.5411121512715082,
           0.2597174203427383,
           0.1871188000671551,
           0.18253260932939824,
           0.23458067768044782,
           0.2694486438828095,
           0.3187078443107031,
           0.20585195656985433,
           0.2783924779720306,
           0.3028268386581173,
           0.3084919163258648,
           0.19886076841205233,
           0.17513264871205553,
           0.2349010875303187,
           0.1985827360545429,
           0.17322935053375804,
           0.19835192790325204,
           0.2603945605742813,
           0.2047238760045118,
           0.17801406210102233,
           0.13470715606305428,
           0.1455553575708435,
           0.10333354808477146,
           0.06123907348530437,
           0.05755740844350507,
           0.040873723177486464,
           0.05138122397755318,
           0.055450589359724425,
           0.04592825355734104,
           0.06696650915451792,
           0.0580511373052901,
           0.08397176246660498,
           0.06859999630657822,
           0.10211646375535613,
           0.09318376075418179,
           0.09913554517114932,
           0.09693444622417917,
           0.11657735341601613,
           0.17533115896374937,
           0.12464840475880562,
           0.137332182101713,
           0.05653257696550684,
           0.06655667098637617,
           0.0705226304326315,
           0.08097048815835776,
           0.11945175356845356,
           0.15275184471839903,
           0.03664982320530413,
           0.040410831630318785
          ],
          [
           0.024739621914637112,
           0.3241725665726063,
           1,
           0.9676538873425654,
           0.13812843243821202,
           0.11571661153391723,
           0.22290855303821278,
           0.11398539070076567,
           0.21895531991637268,
           0.165681378322234,
           0.15393812610517446,
           0.16235553090315571,
           0.23680788019488797,
           0.3600449147643081,
           0.2330857523070418,
           0.20434561619260724,
           0.31628039960825943,
           0.3253411943404422,
           0.3193323286155567,
           0.3048108006511646,
           0.33515182054981685,
           0.3310827525190014,
           0.39008301924272676,
           0.4682999569541737,
           0.37422436502844536,
           0.2502891761032772,
           0.25671680619307014,
           0.34075176509786154,
           0.3235180794207078,
           0.3887076807155702,
           0.27939989906966795,
           0.3062416915080089,
           0.3356873644589127,
           0.3405397100610363,
           0.27016486011874385,
           0.25229915290407323,
           0.26885585932044326,
           0.2971125220308398,
           0.3048532808231167,
           0.2680075248026937,
           0.3025881885316016,
           0.28389014451868905,
           0.26253817001742674,
           0.1530711399728137,
           0.20926291370509217,
           0.14851304184407843,
           0.09692065796834516,
           0.08011694848813919,
           0.07372826442602536,
           0.11393695392930016,
           0.11467669960592004,
           0.07438170942386456,
           0.10535735481271252,
           0.10930683493430679,
           0.14007958009018412,
           0.12643208165153577,
           0.15868906365659027,
           0.15006210741495465,
           0.15915868474516418,
           0.17114708660478098,
           0.2331298167340966,
           0.25188863170100106,
           0.19476111395823817,
           0.22744131249558808,
           0.09207122097662133,
           0.10297799256290296,
           0.10019877503248079,
           0.12786561372990804,
           0.2730291258731613,
           0.24264878007471136,
           0.05423603133694009,
           0.06687949384625055
          ],
          [
           0.030886061816502695,
           0.2876443517409205,
           0.9676538873425654,
           1,
           0.11200862845887505,
           0.09357742246538736,
           0.18377781708158034,
           0.09416128283729064,
           0.1797896262095044,
           0.13651951498271236,
           0.13350346580454905,
           0.13889750844965235,
           0.19778557995911358,
           0.2882956274939627,
           0.174746295782862,
           0.15127413911568366,
           0.24445191811812328,
           0.261129257869456,
           0.2497376000128222,
           0.2428144623850537,
           0.2611006117006842,
           0.2588885967277871,
           0.3070638638487601,
           0.3821299993768397,
           0.31560662303148845,
           0.2002985949739726,
           0.2099911308666366,
           0.2838561923166448,
           0.26892683347644697,
           0.3181743069288079,
           0.22432046408441864,
           0.24699012551229374,
           0.2824278920005823,
           0.27806894387404485,
           0.21876165443789258,
           0.2025191137128345,
           0.2111262796711,
           0.23348957386952957,
           0.2471337999671627,
           0.2121386955652362,
           0.23998476897425186,
           0.19303359472248874,
           0.2016728340177798,
           0.13728231686255846,
           0.17795543922042822,
           0.1299081035949567,
           0.06512275146387644,
           0.0690712503894553,
           0.06268489198978207,
           0.09607063435261752,
           0.10727851307221561,
           0.06298167368479193,
           0.09097593869768703,
           0.08877697545176964,
           0.11520585564361974,
           0.1018818246047986,
           0.13349355482512434,
           0.13030416182832874,
           0.1339086766885162,
           0.15224067647877462,
           0.19430861212435113,
           0.21758285922984835,
           0.16524941550715289,
           0.1851424731729231,
           0.07738253666641631,
           0.08179778404170507,
           0.08156740172821655,
           0.12410077024733324,
           0.20827619972635447,
           0.20746138824518662,
           0.050293612647938794,
           0.056051519372626105
          ],
          [
           0.026826237689757445,
           0.1091823436807313,
           0.13812843243821202,
           0.11200862845887505,
           1,
           0.2603205971958324,
           0.2898632163831659,
           0.2035324388405516,
           0.13445879664837226,
           0.15695301921015084,
           0.11352472534241574,
           0.17427567934338364,
           0.14961856728327985,
           0.19343791800191787,
           0.23978338134151686,
           0.14303099171589007,
           0.19534962970574463,
           0.26545252849056233,
           0.44154061039145465,
           0.31923569975695015,
           0.21766408027953257,
           0.30253756277741045,
           0.3487249853954342,
           0.2670181143267079,
           0.2864465653706386,
           0.2736902833215324,
           0.2629578227977818,
           0.34458326785927745,
           0.35607834347600653,
           0.31191334938124177,
           0.4293165680042259,
           0.35366727748763294,
           0.29935370576951437,
           0.36847050640537266,
           0.3207792153539197,
           0.2772439790955225,
           0.35533978418168827,
           0.4670602732329414,
           0.3013001059792497,
           0.15300891132155883,
           0.2668098539821278,
           0.10477399809436316,
           0.18035188682607908,
           0.07342273944772389,
           0.16211370553261023,
           0.16342273266609622,
           0.05307403795841795,
           0.15343623273346202,
           0.07761348008384945,
           0.09759464761783118,
           0.1002506925209471,
           0.11074177760630574,
           0.10265298425827014,
           0.16888282740282873,
           0.18290177714910882,
           0.2263700551590877,
           0.16582090569137717,
           0.19658754911831353,
           0.2430919613850366,
           0.18233700673310205,
           0.2548590366014636,
           0.2579309987637228,
           0.23342202018896718,
           0.23099515963350098,
           0.13670341112568818,
           0.11566368497381391,
           0.10577667262153541,
           0.1210265573156307,
           0.21221369902100787,
           0.2508837819470672,
           0.0391585412356427,
           0.07182220586681504
          ],
          [
           0.014741828037225084,
           0.09704618460482063,
           0.11571661153391723,
           0.09357742246538736,
           0.2603205971958324,
           1,
           0.4602032312447616,
           0.07298459371558458,
           0.07822998691700105,
           0.08156518615773183,
           0.10234522952921392,
           0.19766062935925388,
           0.11428252268684466,
           0.1750826006690777,
           0.19822045918133155,
           0.19970460620256567,
           0.19647632141971713,
           0.2446412963172706,
           0.37165068625270425,
           0.2786570416625418,
           0.2480408185637907,
           0.3049324076654194,
           0.33194109092396407,
           0.2770395704875202,
           0.26610229911140165,
           0.21553952908963564,
           0.2028272213626237,
           0.2323456739736088,
           0.28360481264086385,
           0.24471154244449073,
           0.23596396938767691,
           0.2489955410793474,
           0.25727175341943875,
           0.3390974638391739,
           0.23793499647056812,
           0.20313288533728557,
           0.32998363795363383,
           0.2751296626416543,
           0.21029742211126384,
           0.13484869387565926,
           0.22437278133763716,
           0.12463407701867375,
           0.15071509124857937,
           0.059595781360923236,
           0.31859931209434206,
           0.14793141757761405,
           0.04804381564666874,
           0.10144181354287905,
           0.03833909216357925,
           0.06013744279093427,
           0.051706730252330656,
           0.06394131961156173,
           0.06072333081018161,
           0.058898416498391615,
           0.07775846556448213,
           0.06505975544388962,
           0.11510346616971676,
           0.08982071926338701,
           0.1029710987743196,
           0.11471622562758674,
           0.11147727179475322,
           0.15378905168898924,
           0.13323361759056648,
           0.14471959668247988,
           0.06185325726879026,
           0.0638162341244612,
           0.05854172576991783,
           0.06974959866913619,
           0.15716072726268293,
           0.19172818140447279,
           0.028894866661162,
           0.0390773592052773
          ],
          [
           0.025833090726723625,
           0.2525431069662345,
           0.22290855303821278,
           0.18377781708158034,
           0.2898632163831659,
           0.4602032312447616,
           1,
           0.1370651230391632,
           0.14363612561001265,
           0.15355044486303773,
           0.1909142498214134,
           0.26466549824491514,
           0.19730676158471386,
           0.2507489501653557,
           0.33359193764391937,
           0.2716539860166139,
           0.23351612349967893,
           0.30146208236688343,
           0.4269534024903052,
           0.4053610720981783,
           0.31911506172609655,
           0.4344188050621469,
           0.5373134810054089,
           0.4415155385123097,
           0.3708208638864975,
           0.29792960330047374,
           0.27915483426416643,
           0.3584951130860223,
           0.4649156973859221,
           0.4159745243014002,
           0.39771995442860036,
           0.39865364003081716,
           0.40580706705020547,
           0.4719185035724702,
           0.35588057789683375,
           0.2900742517147575,
           0.5171652637764563,
           0.39700143286266787,
           0.2944166677476731,
           0.20225764570282884,
           0.34034169744328424,
           0.17140510045199947,
           0.20841827245500985,
           0.1037703633946783,
           0.2403233481942837,
           0.15669752082417016,
           0.06343486472525137,
           0.10299713472793783,
           0.07193034306003851,
           0.09982244999757311,
           0.13629677571828955,
           0.09363952244845994,
           0.11915693668052058,
           0.12277608924136203,
           0.14783938911922942,
           0.13546149286970224,
           0.15099457527184962,
           0.16931968679972864,
           0.1979669121450686,
           0.1938042396712902,
           0.2150504867189233,
           0.26469160142419634,
           0.20417807302816732,
           0.28683334937906313,
           0.10447382300870173,
           0.10182682454668217,
           0.14196526509295582,
           0.20190677678122262,
           0.22151025044621464,
           0.3275505095698676,
           0.04856264727718124,
           0.06588903266400264
          ],
          [
           0.020469685634612222,
           0.07298272967707026,
           0.11398539070076567,
           0.09416128283729064,
           0.2035324388405516,
           0.07298459371558458,
           0.1370651230391632,
           1,
           0.2735760027860936,
           0.32280288799749707,
           0.13457913906336277,
           0.11323169153828888,
           0.13354692761081977,
           0.09879447913994147,
           0.17733679981110273,
           0.09552267519483114,
           0.20727042386159367,
           0.19975200468622947,
           0.23887853015824373,
           0.20529285556197405,
           0.25587933138185603,
           0.28670885122410195,
           0.2913553363668578,
           0.1936896495924548,
           0.22027783121443378,
           0.19696473829963945,
           0.19692903903360756,
           0.3091311451167498,
           0.26369972256731994,
           0.2594011583911445,
           0.2600540455673737,
           0.22556724030923858,
           0.2788248968159333,
           0.2852191399149858,
           0.2398005895286542,
           0.23926540297336876,
           0.1803223542434354,
           0.2450904154751284,
           0.23006172937456618,
           0.13089342372779122,
           0.1840294437442852,
           0.17193650794386323,
           0.1729083415245039,
           0.0722319527007826,
           0.11938013292516288,
           0.09375370603758452,
           0.06528461398982154,
           0.08997225682652271,
           0.12358119708015616,
           0.1058863005234162,
           0.13997648059401316,
           0.06477116439582632,
           0.07919477443702784,
           0.11437622208321668,
           0.12464632030740783,
           0.11175894750837514,
           0.12321548492577766,
           0.15786606266576325,
           0.15810117975100657,
           0.14817719947885025,
           0.18343324325410337,
           0.17848971877744607,
           0.16371341764925113,
           0.22314642349440295,
           0.08326679357229609,
           0.0796291454483423,
           0.07096275660469266,
           0.1551740744766286,
           0.13159124349244383,
           0.2129307990932071,
           0.044373777138574384,
           0.052364509785533295
          ],
          [
           0.02740763631833376,
           0.11103085845953953,
           0.21895531991637268,
           0.1797896262095044,
           0.13445879664837226,
           0.07822998691700105,
           0.14363612561001265,
           0.2735760027860936,
           1,
           0.5269178756029196,
           0.20712256469041565,
           0.14324810852326902,
           0.15296997990682293,
           0.18248557463646908,
           0.19856070037376125,
           0.21218950025802988,
           0.26576107367962626,
           0.27365950362909486,
           0.30253153380307235,
           0.2322299912249928,
           0.30609162141338714,
           0.3064218058132495,
           0.3249899219945242,
           0.2552142433418575,
           0.26874776542143153,
           0.25577182606560966,
           0.2847814279467227,
           0.3439178720463468,
           0.3197414467571693,
           0.303974575099191,
           0.31101508313591264,
           0.3248140391283422,
           0.4303240030954254,
           0.41195148583436136,
           0.284911543371213,
           0.33942142065299663,
           0.2799081902442969,
           0.3525407922055978,
           0.32589463632817733,
           0.2456848326934436,
           0.23609661520893044,
           0.19508553569438095,
           0.22492013667684424,
           0.09971061849758428,
           0.18179211923323058,
           0.14487106697026952,
           0.08109956837499757,
           0.08994489784696715,
           0.15989663005202462,
           0.10672655248549986,
           0.16983911437972277,
           0.08709544733923619,
           0.1045076031615641,
           0.13703590432804913,
           0.18709477987464723,
           0.15917131613961463,
           0.16722082992064596,
           0.2335012737262098,
           0.248436743376498,
           0.24697736819546276,
           0.29087135363184247,
           0.26081066107173145,
           0.21834536305820262,
           0.22794169079784687,
           0.11626136464085242,
           0.12148526104477497,
           0.10412155783106268,
           0.16284704526311472,
           0.17930340914951073,
           0.2639511285523421,
           0.05940270590267348,
           0.06904392647751244
          ],
          [
           0.03476265477744589,
           0.09128334100852845,
           0.165681378322234,
           0.13651951498271236,
           0.15695301921015084,
           0.08156518615773183,
           0.15355044486303773,
           0.32280288799749707,
           0.5269178756029196,
           1,
           0.2401687132804497,
           0.1577442135700302,
           0.19831243268485804,
           0.17392291703286156,
           0.1968705437515247,
           0.14774762943451383,
           0.3517761097518321,
           0.2724454357387673,
           0.3399712877713731,
           0.2460470632612338,
           0.401225710538572,
           0.29538901642618365,
           0.362886807385052,
           0.25875856825441845,
           0.30520168821742116,
           0.33211458799556987,
           0.3393468121218767,
           0.44312409718493007,
           0.36987080725145804,
           0.3518092905732754,
           0.32620619679400487,
           0.3495460808353736,
           0.5807483043067628,
           0.45125711806393504,
           0.4444656766758186,
           0.4709030640556513,
           0.2840457297243189,
           0.41973267469027975,
           0.34868959309578124,
           0.18202775138095276,
           0.2513283663667212,
           0.18591310193433708,
           0.2657957897131575,
           0.10348019529967296,
           0.17721781427870806,
           0.14353853200337566,
           0.18588778440864587,
           0.10127561140628105,
           0.41499227091861496,
           0.1213739385004377,
           0.24445999914105218,
           0.12572886636553018,
           0.12400246838251452,
           0.1985589472801476,
           0.2887486636709457,
           0.2382202543917461,
           0.26144248266247455,
           0.32873553057334715,
           0.30543766348962403,
           0.27445928292741234,
           0.4501390629368899,
           0.30926793719772955,
           0.2718991879928141,
           0.2678815437044968,
           0.15060630287559948,
           0.14667456603744217,
           0.11713317327761198,
           0.1760720974589078,
           0.2177577271119917,
           0.28685208660695405,
           0.07291636147326047,
           0.09343987061815982
          ],
          [
           0.027495049847134415,
           0.204991927845139,
           0.15393812610517446,
           0.13350346580454905,
           0.11352472534241574,
           0.10234522952921392,
           0.1909142498214134,
           0.13457913906336277,
           0.20712256469041565,
           0.2401687132804497,
           1,
           0.2718727523178417,
           0.15434996663759012,
           0.12651456016142376,
           0.16593474887093698,
           0.13256479078992406,
           0.23292024950183032,
           0.21934753389702807,
           0.24139224659821884,
           0.21750854058365496,
           0.27092133403527957,
           0.2555518605968256,
           0.3129995847733149,
           0.23251457205499743,
           0.25318839672148213,
           0.2537447785185738,
           0.2535442425683935,
           0.32886192079779253,
           0.41043698052460104,
           0.3511683007959396,
           0.2894556710428755,
           0.3099848666835752,
           0.579476488559366,
           0.36174937142438673,
           0.28406579245579133,
           0.379881806162918,
           0.31507105218867865,
           0.27014644611154026,
           0.2884615058019195,
           0.2431774766691501,
           0.21841375982222722,
           0.16188582143238456,
           0.276718624369501,
           0.1069525038363182,
           0.17483154408838775,
           0.13933917900796558,
           0.061257486633117995,
           0.07853713342022245,
           0.10716327935428924,
           0.1324529683812838,
           0.1155530978748648,
           0.06951750863332319,
           0.09468106253547025,
           0.1194980080565217,
           0.15797288991278274,
           0.11839262179474726,
           0.1556607306836478,
           0.18819641563941258,
           0.17348829396043955,
           0.20306001091250167,
           0.23058534910286727,
           0.2532312020569726,
           0.18554799414631776,
           0.18515762181999268,
           0.09018984055727293,
           0.10893847177900975,
           0.10711209054827144,
           0.14978664278198564,
           0.16500615464145627,
           0.21298317132979078,
           0.0548468592647066,
           0.058785765854127876
          ],
          [
           0.02169135240624976,
           0.19111793236770963,
           0.16235553090315571,
           0.13889750844965235,
           0.17427567934338364,
           0.19766062935925388,
           0.26466549824491514,
           0.11323169153828888,
           0.14324810852326902,
           0.1577442135700302,
           0.2718727523178417,
           1,
           0.15092503466323093,
           0.14371851009585793,
           0.18237668374621244,
           0.1462976707135596,
           0.24288954888606018,
           0.2211538892183459,
           0.28516985868042577,
           0.2532142115779518,
           0.23706233820410885,
           0.26736777964867686,
           0.32106453158031056,
           0.2952739527419252,
           0.2621656641662293,
           0.27120111097876165,
           0.24830364134860505,
           0.28619268754917043,
           0.3431354338225309,
           0.33304647739684706,
           0.25135271105036094,
           0.2724902791425521,
           0.42382786256527816,
           0.42092636633622343,
           0.283665031982011,
           0.28427259003487426,
           0.2908729695983526,
           0.294222571580256,
           0.4821861799960702,
           0.16455473411343036,
           0.22134874143491534,
           0.149074285968782,
           0.1755476219858246,
           0.08914464889329825,
           0.14584068162062502,
           0.10837361855063803,
           0.05751688562357551,
           0.0784901047728074,
           0.0739311751149187,
           0.4299630433851988,
           0.11685464891992027,
           0.06956648729340008,
           0.08160131199861988,
           0.09244533893743356,
           0.12041582590841918,
           0.09892628197631195,
           0.12581307148007112,
           0.14094218599451047,
           0.14185880765094136,
           0.14743571918948725,
           0.17240736178698737,
           0.21389330653306804,
           0.1575657658044615,
           0.1633150891235522,
           0.07568788906604826,
           0.07807148910487732,
           0.09329254644342327,
           0.1259319192786236,
           0.16225579541391705,
           0.20570182769453507,
           0.04116458652697734,
           0.04858083975193075
          ],
          [
           0.1910817824187304,
           0.16344559389423013,
           0.23680788019488797,
           0.19778557995911358,
           0.14961856728327985,
           0.11428252268684466,
           0.19730676158471386,
           0.13354692761081977,
           0.15296997990682293,
           0.19831243268485804,
           0.15434996663759012,
           0.15092503466323093,
           1,
           0.30055586799982964,
           0.20450110706322594,
           0.14380502936296327,
           0.34261763089461,
           0.26640633142096126,
           0.296686872352965,
           0.261067638131834,
           0.25166207746585095,
           0.2887122207065222,
           0.4129733183601754,
           0.3630008271142073,
           0.6293838622616148,
           0.40345118685220255,
           0.3349712680050773,
           0.38275270511178006,
           0.2950269426119903,
           0.33015618722374535,
           0.2589951055510406,
           0.2790142555430178,
           0.286350332647112,
           0.29954532593057726,
           0.32187680109601524,
           0.27020158955087353,
           0.23488690023729988,
           0.36255386063585515,
           0.24638879497766297,
           0.19948843587323437,
           0.2590677887544279,
           0.16802582612731548,
           0.22031307932701222,
           0.20664058184007222,
           0.22968659286948281,
           0.21218721919158665,
           0.10777954561349397,
           0.11068350139331203,
           0.19077580635083824,
           0.12792978198929855,
           0.11583913713455193,
           0.08955722058528273,
           0.11626102865150668,
           0.11775967905752359,
           0.18925256810559418,
           0.21010985385324996,
           0.3030587615327846,
           0.18665456121033297,
           0.19070929100711922,
           0.19573572878429457,
           0.2528688215877307,
           0.32988903579390594,
           0.23889647726395769,
           0.23799046215726594,
           0.10572746537150632,
           0.1035971942449436,
           0.1271816302474274,
           0.15884657540540179,
           0.24441797207175994,
           0.24994418208801508,
           0.0841605304905958,
           0.14046997458065705
          ],
          [
           0.025792719424566693,
           0.11663759627529557,
           0.3600449147643081,
           0.2882956274939627,
           0.19343791800191787,
           0.1750826006690777,
           0.2507489501653557,
           0.09879447913994147,
           0.18248557463646908,
           0.17392291703286156,
           0.12651456016142376,
           0.14371851009585793,
           0.30055586799982964,
           1,
           0.2118368735086514,
           0.12891630379458813,
           0.3100059744509431,
           0.28770269236261814,
           0.351091514720291,
           0.2807909706237818,
           0.2609510228640725,
           0.2951543464839019,
           0.3620792271449339,
           0.41833529784570356,
           0.39577817919462804,
           0.2680573081509336,
           0.27747011040328334,
           0.34178868419574665,
           0.293376238960461,
           0.29293644421251736,
           0.2653906522330879,
           0.2580702470183482,
           0.27390881044690213,
           0.30784458050841235,
           0.2876886081684091,
           0.2500174158970681,
           0.2774635164181373,
           0.33934977459049565,
           0.25578082296570726,
           0.1664985308583193,
           0.2912827120681254,
           0.13976284106944853,
           0.2584251684349464,
           0.14322672126503555,
           0.19069459287941945,
           0.13320138547089438,
           0.1375248228522019,
           0.23853527648168163,
           0.10964490528376195,
           0.12903248309245116,
           0.12948342746980424,
           0.11161523819213129,
           0.16298636185469248,
           0.12188209556849045,
           0.16810575741392061,
           0.14912393071968183,
           0.1947225418263529,
           0.16794160424313084,
           0.1887439833243159,
           0.1956598787885204,
           0.33008248847679467,
           0.2576375716792168,
           0.21943223886942495,
           0.26167136315866624,
           0.11010744048471159,
           0.10901524176254168,
           0.1071330290880691,
           0.1430843801670141,
           0.3224045837967339,
           0.262409706754428,
           0.07180877728546847,
           0.07780024365949972
          ],
          [
           0.02947278731926865,
           0.17178876128220685,
           0.2330857523070418,
           0.174746295782862,
           0.23978338134151686,
           0.19822045918133155,
           0.33359193764391937,
           0.17733679981110273,
           0.19856070037376125,
           0.1968705437515247,
           0.16593474887093698,
           0.18237668374621244,
           0.20450110706322594,
           0.2118368735086514,
           1,
           0.5756764235288784,
           0.4682552234514064,
           0.5334316883954388,
           0.5598168829650657,
           0.5234069004136336,
           0.5496675694331365,
           0.7245181688948212,
           0.6733236384700864,
           0.3795855229597431,
           0.4968212471444431,
           0.34163390120022974,
           0.3677602746934208,
           0.49887608443688414,
           0.41622973243096945,
           0.5121569997235814,
           0.5083115555360724,
           0.47564889206290945,
           0.39723901511946985,
           0.4538241920489145,
           0.3989464745860767,
           0.39987725359593157,
           0.5074628180495937,
           0.5350009541647681,
           0.4294538958815435,
           0.3316090702365822,
           0.472713643398583,
           0.5118600450106235,
           0.40227820114403595,
           0.20383271311065435,
           0.4831628979839357,
           0.3662039230641756,
           0.2460839131184489,
           0.3020097334966701,
           0.08577488087826125,
           0.19402084465866065,
           0.2085136311514066,
           0.132990556580364,
           0.11782789232520202,
           0.2039972253036401,
           0.18903861821011397,
           0.207728532185838,
           0.20089129641586698,
           0.20848258228668215,
           0.24613607477881927,
           0.23928001001275723,
           0.2775748472176276,
           0.3164074770159032,
           0.2834171858571663,
           0.4075805807591125,
           0.12372197677278951,
           0.16841450316902354,
           0.146686047680543,
           0.20967665847011846,
           0.35959686519176176,
           0.4479792141053074,
           0.07700462614677027,
           0.09037872731949019
          ],
          [
           0.019049398313153835,
           0.15334751547361883,
           0.20434561619260724,
           0.15127413911568366,
           0.14303099171589007,
           0.19970460620256567,
           0.2716539860166139,
           0.09552267519483114,
           0.21218950025802988,
           0.14774762943451383,
           0.13256479078992406,
           0.1462976707135596,
           0.14380502936296327,
           0.12891630379458813,
           0.5756764235288784,
           1,
           0.2738023100119237,
           0.30386421113337764,
           0.3719223096524829,
           0.319945254838804,
           0.45969350756536154,
           0.513253934799218,
           0.4685943533451957,
           0.27923459849824733,
           0.3472740069165158,
           0.2558987725922634,
           0.254435537422565,
           0.35991732588497155,
           0.37414840408376904,
           0.3796789072795074,
           0.43835590052251416,
           0.38475604878117703,
           0.3137969630196414,
           0.3404343857115272,
           0.3219759968583674,
           0.33567699434980336,
           0.36025929698509446,
           0.36269888623721735,
           0.3086792442937485,
           0.2549849981134676,
           0.40011751026376874,
           0.27094822608025604,
           0.23443766091355447,
           0.16864920127653166,
           0.4912049223739595,
           0.44794239163709837,
           0.11739536624332997,
           0.18198090415777265,
           0.05792938228911709,
           0.13303607136823625,
           0.17542016275451647,
           0.08004897391548275,
           0.08313225612184146,
           0.1637170340803153,
           0.14703190889108703,
           0.2049768816992707,
           0.1335588972640975,
           0.15997829622840273,
           0.2287427864279061,
           0.19980035935682244,
           0.21278431957697774,
           0.2223914278336531,
           0.18528608325138846,
           0.2817164299595784,
           0.08534030131062309,
           0.12025313978859711,
           0.1214427325084073,
           0.16550248309628426,
           0.2634389816392715,
           0.2982956117980776,
           0.045701941103395226,
           0.05355346824935055
          ],
          [
           0.043675182681755485,
           0.20350411919870617,
           0.31628039960825943,
           0.24445191811812328,
           0.19534962970574463,
           0.19647632141971713,
           0.23351612349967893,
           0.20727042386159367,
           0.26576107367962626,
           0.3517761097518321,
           0.23292024950183032,
           0.24288954888606018,
           0.34261763089461,
           0.3100059744509431,
           0.4682552234514064,
           0.2738023100119237,
           1,
           0.6548252134246286,
           0.6631883568178022,
           0.5558946732511054,
           0.5535211922432707,
           0.5904336403032593,
           0.7116520452120544,
           0.506586144720528,
           0.5721600690590671,
           0.5021773246628878,
           0.5692898619318999,
           0.6522465999710494,
           0.47785170827673235,
           0.5923191934913395,
           0.4884456721521318,
           0.5355827621278928,
           0.49005488231362015,
           0.5434925049890763,
           0.5031048630651541,
           0.5012920940316702,
           0.46372578406892123,
           0.6919396936260354,
           0.5548435753538921,
           0.36553451932862097,
           0.5414626352742592,
           0.6033690792145202,
           0.5213339219685175,
           0.19639989466157673,
           0.31250787030783744,
           0.22507868894310357,
           0.35728865895559697,
           0.16275369438301596,
           0.2387729617735292,
           0.21568820264568772,
           0.19924438577748543,
           0.15997234394389034,
           0.1518432172339083,
           0.20163528429807823,
           0.31035000343132446,
           0.25336501097048325,
           0.37231586438372083,
           0.32066473107339655,
           0.30249884830159346,
           0.34200317243324474,
           0.4129696125712229,
           0.4200357319946585,
           0.39865084751364116,
           0.46279348244019775,
           0.17992194043239745,
           0.2143062596191336,
           0.20822565214697303,
           0.22368033105343835,
           0.3499077359737213,
           0.43543992175534707,
           0.1660458495958522,
           0.17003449126219392
          ],
          [
           0.040839023455705684,
           0.23741674072054292,
           0.3253411943404422,
           0.261129257869456,
           0.26545252849056233,
           0.2446412963172706,
           0.30146208236688343,
           0.19975200468622947,
           0.27365950362909486,
           0.2724454357387673,
           0.21934753389702807,
           0.2211538892183459,
           0.26640633142096126,
           0.28770269236261814,
           0.5334316883954388,
           0.30386421113337764,
           0.6548252134246286,
           1,
           0.8146525787684482,
           0.7349684194741647,
           0.5923668379850019,
           0.6639777302653531,
           0.7111857388646459,
           0.5941118891216727,
           0.5490485976977305,
           0.423245330818153,
           0.48771193738024166,
           0.6294968671229283,
           0.49507376180339185,
           0.5761297488843434,
           0.555312206895524,
           0.5697024155256153,
           0.48984181523273684,
           0.5783597017886332,
           0.4570098642463054,
           0.4578016181363657,
           0.48095603393017106,
           0.634841153135984,
           0.5593497610874372,
           0.37931744218447566,
           0.543259470242557,
           0.5439156972549524,
           0.5014879639822538,
           0.22022833909208844,
           0.4216044607249254,
           0.3075418475121505,
           0.21734387499034738,
           0.3054783134194698,
           0.12729146506678005,
           0.14694911864242813,
           0.18147822942775782,
           0.16583078783306088,
           0.16886741300350352,
           0.19869482747392805,
           0.2536094726054834,
           0.2325503805982069,
           0.3184448970555012,
           0.2769708531796611,
           0.3025035265709569,
           0.3328086107446617,
           0.3722049617793518,
           0.40998734672158144,
           0.41469625273716826,
           0.4505124083440472,
           0.18655357737863348,
           0.22437454756071434,
           0.25258955945969724,
           0.22377355082468084,
           0.3734045193031204,
           0.46055619630396294,
           0.09348250706136252,
           0.14403844076905448
          ],
          [
           0.04598068706043361,
           0.2433453688607516,
           0.3193323286155567,
           0.2497376000128222,
           0.44154061039145465,
           0.37165068625270425,
           0.4269534024903052,
           0.23887853015824373,
           0.30253153380307235,
           0.3399712877713731,
           0.24139224659821884,
           0.28516985868042577,
           0.296686872352965,
           0.351091514720291,
           0.5598168829650657,
           0.3719223096524829,
           0.6631883568178022,
           0.8146525787684482,
           1,
           0.8382651057469489,
           0.6452248556690363,
           0.6979602224845937,
           0.7984187755639093,
           0.6423312332076726,
           0.5998706416072455,
           0.5310799649668188,
           0.569474251907731,
           0.7445833245138602,
           0.6093155987830801,
           0.6523033653937103,
           0.6749490194777514,
           0.6973728135731998,
           0.591978321499939,
           0.7123931917199848,
           0.5941559447915276,
           0.5721960269279383,
           0.6189549672620424,
           0.7926868468410989,
           0.6560142135774952,
           0.373446800464567,
           0.6133293327375321,
           0.5252795228629057,
           0.5192127150508078,
           0.21698161007658348,
           0.3851076533288009,
           0.32478916669666136,
           0.23478620237581627,
           0.1850692152560117,
           0.172675956283933,
           0.18978002796348017,
           0.21318850480662124,
           0.21949140958577695,
           0.17147328867981623,
           0.2835017611044528,
           0.3224770137417773,
           0.3475171465256042,
           0.3769474652174195,
           0.3460457665169376,
           0.40176112142171555,
           0.4143579667856625,
           0.4764940710925157,
           0.47842182329508987,
           0.4593052664049453,
           0.5122457139543439,
           0.22623046703872196,
           0.2578792414179372,
           0.2242539434240713,
           0.24033003748040585,
           0.42300647369042926,
           0.5324629393377338,
           0.10325084652388407,
           0.15507532999361814
          ],
          [
           0.0377806741055977,
           0.26209217506608634,
           0.3048108006511646,
           0.2428144623850537,
           0.31923569975695015,
           0.2786570416625418,
           0.4053610720981783,
           0.20529285556197405,
           0.2322299912249928,
           0.2460470632612338,
           0.21750854058365496,
           0.2532142115779518,
           0.261067638131834,
           0.2807909706237818,
           0.5234069004136336,
           0.319945254838804,
           0.5558946732511054,
           0.7349684194741647,
           0.8382651057469489,
           1,
           0.6038982972116862,
           0.6555534861565468,
           0.752610316292141,
           0.5978509523158427,
           0.5177224729461141,
           0.4352771550037689,
           0.4713071469672057,
           0.6357775431469831,
           0.5251995920595823,
           0.621083840041418,
           0.5703824079586213,
           0.6079889502740552,
           0.5090888042153794,
           0.6167134573527575,
           0.4758178253553453,
           0.4521336934802267,
           0.5272022307975924,
           0.6604663099388858,
           0.5416749061608046,
           0.3522931690768881,
           0.5382982407860697,
           0.5541975665569417,
           0.4844877576035886,
           0.279662905940011,
           0.4251409264380568,
           0.4248397522712918,
           0.21140792224793015,
           0.14357344709541264,
           0.11765061936595189,
           0.13437027465473178,
           0.1393964238173051,
           0.17470726874078274,
           0.14214820898990213,
           0.1922933094649109,
           0.2559201999141985,
           0.27484294530440273,
           0.30172735417229934,
           0.2621834124607967,
           0.30677122817807634,
           0.3521668972516365,
           0.3726959677665894,
           0.4213677636847192,
           0.38278446679802314,
           0.44365722861298745,
           0.18379456945334183,
           0.21665814082072476,
           0.1978433226984017,
           0.19057373142857337,
           0.3740358611844757,
           0.4555728688434011,
           0.08665626092764735,
           0.12513596308926483
          ],
          [
           0.03561237858324672,
           0.25394040365767406,
           0.33515182054981685,
           0.2611006117006842,
           0.21766408027953257,
           0.2480408185637907,
           0.31911506172609655,
           0.25587933138185603,
           0.30609162141338714,
           0.401225710538572,
           0.27092133403527957,
           0.23706233820410885,
           0.25166207746585095,
           0.2609510228640725,
           0.5496675694331365,
           0.45969350756536154,
           0.5535211922432707,
           0.5923668379850019,
           0.6452248556690363,
           0.6038982972116862,
           1,
           0.690132710219136,
           0.7283962515886055,
           0.5303269944829695,
           0.5075417757946513,
           0.4252169081639839,
           0.4583460736471917,
           0.6121048352363729,
           0.5482196692459204,
           0.6424766093838049,
           0.6071344287566044,
           0.6462922610175453,
           0.6547348283804622,
           0.6807252488991001,
           0.4955033805771411,
           0.5255229062162972,
           0.5867951205228313,
           0.5647984818072262,
           0.5727473734110436,
           0.35781197320197217,
           0.5164385780924047,
           0.5586665359603243,
           0.48107607904227767,
           0.3608730121327663,
           0.501637522864817,
           0.4632727905732591,
           0.21795057168513832,
           0.22111377468059484,
           0.12516026583648376,
           0.13675058911530155,
           0.21627549392545375,
           0.14117250074257087,
           0.14607052617085234,
           0.19222400148889154,
           0.23351100677530368,
           0.21348859655238972,
           0.2553297138284942,
           0.2546678604343039,
           0.29693772963341225,
           0.35912734696636767,
           0.46896102336962564,
           0.40763641135321976,
           0.32428334038339884,
           0.4003305233670816,
           0.18131974227176195,
           0.18897398638753446,
           0.2335220817267049,
           0.22575717975421805,
           0.3456992934865496,
           0.41410152579223725,
           0.09209698401312646,
           0.09738851543596755
          ],
          [
           0.04224413909347598,
           0.2666439895687457,
           0.3310827525190014,
           0.2588885967277871,
           0.30253756277741045,
           0.3049324076654194,
           0.4344188050621469,
           0.28670885122410195,
           0.3064218058132495,
           0.29538901642618365,
           0.2555518605968256,
           0.26736777964867686,
           0.2887122207065222,
           0.2951543464839019,
           0.7245181688948212,
           0.513253934799218,
           0.5904336403032593,
           0.6639777302653531,
           0.6979602224845937,
           0.6555534861565468,
           0.690132710219136,
           1,
           0.8500935389616626,
           0.5517179067568274,
           0.625424340290094,
           0.45713981993961766,
           0.4839550793342429,
           0.6329682412362787,
           0.5758949953518231,
           0.6852321957096101,
           0.6323544265867811,
           0.6366702315429756,
           0.5910047195315912,
           0.6559588461569043,
           0.5095723371849497,
           0.516404347008632,
           0.6264461519923015,
           0.6484199694312529,
           0.6048348079400594,
           0.48634822975028774,
           0.6289147494960731,
           0.6441329101187602,
           0.5011025369503289,
           0.3119909011215104,
           0.5795796566526048,
           0.40465406630019335,
           0.2992787908779606,
           0.42232760665602814,
           0.14118911319960326,
           0.1764903844592782,
           0.26498025078753884,
           0.14828799878595517,
           0.16242804839418887,
           0.22488351783558228,
           0.25317168440998117,
           0.2304956242301382,
           0.27050264753910386,
           0.2729957720168723,
           0.30305367370202546,
           0.32318424978458526,
           0.38571245586342834,
           0.4243867001127401,
           0.35768863912518356,
           0.45324578922106107,
           0.1631141538234592,
           0.20599956699250838,
           0.20360624387673165,
           0.257262428449092,
           0.40901590294439405,
           0.48349482049321724,
           0.10718896134115724,
           0.11047119461402179
          ],
          [
           0.05420075338031288,
           0.3145447290555473,
           0.39008301924272676,
           0.3070638638487601,
           0.3487249853954342,
           0.33194109092396407,
           0.5373134810054089,
           0.2913553363668578,
           0.3249899219945242,
           0.362886807385052,
           0.3129995847733149,
           0.32106453158031056,
           0.4129733183601754,
           0.3620792271449339,
           0.6733236384700864,
           0.4685943533451957,
           0.7116520452120544,
           0.7111857388646459,
           0.7984187755639093,
           0.752610316292141,
           0.7283962515886055,
           0.8500935389616626,
           1,
           0.6632109613225253,
           0.7479993546668142,
           0.6269322484314582,
           0.6048720812573397,
           0.7613961126589371,
           0.675271468520255,
           0.7897017722976427,
           0.6934496767571127,
           0.7025264431509588,
           0.6710942520524197,
           0.7255706033026796,
           0.6050891457380955,
           0.5897430363067969,
           0.6603223047998802,
           0.776599336609867,
           0.6334925495711389,
           0.4604278060421395,
           0.6277325650770351,
           0.6623860014890305,
           0.5643947431149048,
           0.33956370847318396,
           0.5070241172005994,
           0.4310434872639899,
           0.2960105148735895,
           0.2628333596412419,
           0.19704216182572667,
           0.23056003524898197,
           0.2733750660797895,
           0.18586008550943417,
           0.19702264060809752,
           0.25462763351940704,
           0.31779102663127407,
           0.29991351791807513,
           0.3832345033692925,
           0.33446927324293485,
           0.3659523227187537,
           0.3973114735603829,
           0.4658692673686439,
           0.5200288132418159,
           0.4295293510514054,
           0.5129089402922267,
           0.20014967342976922,
           0.2372456572404984,
           0.2385710358446132,
           0.2917024139792949,
           0.45928696142348724,
           0.554838166623803,
           0.1520420850387716,
           0.15387884395090462
          ],
          [
           0.039726096414415796,
           0.5411121512715082,
           0.4682999569541737,
           0.3821299993768397,
           0.2670181143267079,
           0.2770395704875202,
           0.4415155385123097,
           0.1936896495924548,
           0.2552142433418575,
           0.25875856825441845,
           0.23251457205499743,
           0.2952739527419252,
           0.3630008271142073,
           0.41833529784570356,
           0.3795855229597431,
           0.27923459849824733,
           0.506586144720528,
           0.5941118891216727,
           0.6423312332076726,
           0.5978509523158427,
           0.5303269944829695,
           0.5517179067568274,
           0.6632109613225253,
           1,
           0.5739533142464469,
           0.43521602684784116,
           0.45032834891401885,
           0.5584232427792625,
           0.5231191438480812,
           0.591366356504547,
           0.4762943406942377,
           0.5681742342933608,
           0.5327890952183045,
           0.6286302130554621,
           0.4527365375667022,
           0.40775177429952575,
           0.49244651061775385,
           0.5255089391773956,
           0.4357954111286382,
           0.35180750137182065,
           0.5004266609947896,
           0.4079642643159321,
           0.387583183649439,
           0.2931605647569509,
           0.34330492872294205,
           0.2799153064930105,
           0.13735076509041616,
           0.1307818858857618,
           0.13429267991338267,
           0.1521078089004961,
           0.17510490913187093,
           0.14225970202852223,
           0.16901749595329016,
           0.16340706820344397,
           0.23690634938087554,
           0.19763698683166814,
           0.2801357281634946,
           0.2522308253250961,
           0.2654794304385829,
           0.272507390007326,
           0.3441176725712334,
           0.39774868942520314,
           0.33782325443054195,
           0.3599973919102335,
           0.1563331779340768,
           0.1716779830988463,
           0.1929026382570535,
           0.20615668081224842,
           0.34586277250230246,
           0.3937975037810104,
           0.0884228141234166,
           0.13119577029091486
          ],
          [
           0.12549106588098247,
           0.2597174203427383,
           0.37422436502844536,
           0.31560662303148845,
           0.2864465653706386,
           0.26610229911140165,
           0.3708208638864975,
           0.22027783121443378,
           0.26874776542143153,
           0.30520168821742116,
           0.25318839672148213,
           0.2621656641662293,
           0.6293838622616148,
           0.39577817919462804,
           0.4968212471444431,
           0.3472740069165158,
           0.5721600690590671,
           0.5490485976977305,
           0.5998706416072455,
           0.5177224729461141,
           0.5075417757946513,
           0.625424340290094,
           0.7479993546668142,
           0.5739533142464469,
           1,
           0.5825107422796709,
           0.5355346660075131,
           0.6757875739461936,
           0.5511166227311517,
           0.6225829604068011,
           0.5026910038312851,
           0.5262067185725949,
           0.5056224125783122,
           0.5591452663485024,
           0.5206142407470401,
           0.47052475646649733,
           0.4653758475329466,
           0.6180814054897734,
           0.46189664786119705,
           0.37802827479673223,
           0.527771309121322,
           0.3167612223014821,
           0.3824190433021178,
           0.3711872950195887,
           0.5329306590512632,
           0.39310133665871727,
           0.19738230391080305,
           0.34193010849912736,
           0.19922456435800653,
           0.22898347764918506,
           0.23516714814095022,
           0.16412907245423963,
           0.1760001014229342,
           0.22332557620635488,
           0.2908451068824277,
           0.28983995809848595,
           0.4294840959517438,
           0.3059025220262413,
           0.32656050564058325,
           0.33774945864319544,
           0.40718687130188036,
           0.5069745810567075,
           0.42753720904174736,
           0.41306810724349785,
           0.17915784598971113,
           0.184407583066538,
           0.197341889573638,
           0.264535562998639,
           0.41193994129225525,
           0.46552965380242506,
           0.12025268263238985,
           0.19342683034024508
          ],
          [
           0.05245528679536476,
           0.1871188000671551,
           0.2502891761032772,
           0.2002985949739726,
           0.2736902833215324,
           0.21553952908963564,
           0.29792960330047374,
           0.19696473829963945,
           0.25577182606560966,
           0.33211458799556987,
           0.2537447785185738,
           0.27120111097876165,
           0.40345118685220255,
           0.2680573081509336,
           0.34163390120022974,
           0.2558987725922634,
           0.5021773246628878,
           0.423245330818153,
           0.5310799649668188,
           0.4352771550037689,
           0.4252169081639839,
           0.45713981993961766,
           0.6269322484314582,
           0.43521602684784116,
           0.5825107422796709,
           1,
           0.5336118437616796,
           0.5932595856334529,
           0.4832958627416134,
           0.5178792889425525,
           0.46593538503523946,
           0.46236916975378184,
           0.5337576655552533,
           0.53997010818167,
           0.5666638102068873,
           0.5456374642194387,
           0.4613978807365553,
           0.6203385681411132,
           0.4683695098026464,
           0.26602259812365187,
           0.38224727207001746,
           0.32421750127086657,
           0.3711651084913502,
           0.1539707660756628,
           0.26269532504733945,
           0.21253963908201198,
           0.18634956808041922,
           0.15017046723383431,
           0.22202684581637816,
           0.17924457790694967,
           0.19210916917278842,
           0.1445271240412133,
           0.14902711779421904,
           0.20430782873881886,
           0.27949834046026095,
           0.2562715765695681,
           0.4670022465998817,
           0.2950768882827837,
           0.3010008682312082,
           0.31600190840520836,
           0.39556116012230996,
           0.44042876857021335,
           0.341667623759329,
           0.344186676855086,
           0.16585143561406157,
           0.16793156667381848,
           0.17497766484494484,
           0.2090205413130355,
           0.2933880518460337,
           0.36857994792911186,
           0.17619000018835682,
           0.18116641489322527
          ],
          [
           0.07205518642317595,
           0.18253260932939824,
           0.25671680619307014,
           0.2099911308666366,
           0.2629578227977818,
           0.2028272213626237,
           0.27915483426416643,
           0.19692903903360756,
           0.2847814279467227,
           0.3393468121218767,
           0.2535442425683935,
           0.24830364134860505,
           0.3349712680050773,
           0.27747011040328334,
           0.3677602746934208,
           0.254435537422565,
           0.5692898619318999,
           0.48771193738024166,
           0.569474251907731,
           0.4713071469672057,
           0.4583460736471917,
           0.4839550793342429,
           0.6048720812573397,
           0.45032834891401885,
           0.5355346660075131,
           0.5336118437616796,
           1,
           0.6718390286556517,
           0.5261320733918515,
           0.5552505073975902,
           0.4916405346707343,
           0.49971104811693406,
           0.503764849760341,
           0.5237828698233477,
           0.5230823879617097,
           0.4696427706894048,
           0.4392604252523011,
           0.645467021022996,
           0.5062322745331367,
           0.2910599326165797,
           0.4527086008631818,
           0.36551038991239976,
           0.43759125329373016,
           0.165045671129362,
           0.2876720436726547,
           0.22872417166979608,
           0.19616259254943985,
           0.1689947734304676,
           0.21675303634241352,
           0.2074988665381397,
           0.2085337015892817,
           0.19409194587023007,
           0.19038669332292193,
           0.2510601915441648,
           0.34556424941843733,
           0.293618910726834,
           0.4577586040131758,
           0.3531836357331203,
           0.38007114584738694,
           0.35678040525554033,
           0.4522663109859631,
           0.5127709646228328,
           0.4806743724146256,
           0.4545097757860701,
           0.21528274530780975,
           0.23610831078964897,
           0.20945533403654085,
           0.27171427962381217,
           0.3550804644142776,
           0.4566385127633674,
           0.14157281630618515,
           0.20205007884426354
          ],
          [
           0.0894180172482285,
           0.23458067768044782,
           0.34075176509786154,
           0.2838561923166448,
           0.34458326785927745,
           0.2323456739736088,
           0.3584951130860223,
           0.3091311451167498,
           0.3439178720463468,
           0.44312409718493007,
           0.32886192079779253,
           0.28619268754917043,
           0.38275270511178006,
           0.34178868419574665,
           0.49887608443688414,
           0.35991732588497155,
           0.6522465999710494,
           0.6294968671229283,
           0.7445833245138602,
           0.6357775431469831,
           0.6121048352363729,
           0.6329682412362787,
           0.7613961126589371,
           0.5584232427792625,
           0.6757875739461936,
           0.5932595856334529,
           0.6718390286556517,
           1,
           0.7529319181098026,
           0.7807885738131828,
           0.693682689984929,
           0.677234970137561,
           0.6737486736172154,
           0.6773501573651599,
           0.6612654762123303,
           0.6464515978804882,
           0.612839470198966,
           0.7279445678444431,
           0.6143401530838287,
           0.4060995359500682,
           0.5863100110997641,
           0.4336054580163546,
           0.5747053142912795,
           0.2313124301367705,
           0.40753496041011816,
           0.32300114321530193,
           0.2124757215910013,
           0.2308429289925155,
           0.23976198875396856,
           0.29564086904872305,
           0.26078103959037263,
           0.28112819910481046,
           0.2527504998173884,
           0.377897836536815,
           0.48355604637006755,
           0.4306089325012528,
           0.5366913707965705,
           0.5146953194710655,
           0.5621353870466025,
           0.5888582747416516,
           0.6839465814421246,
           0.7211820725877811,
           0.6461957002432054,
           0.6204587505848808,
           0.3445871105559576,
           0.3158602495132584,
           0.3161933357438214,
           0.3459361444313263,
           0.48204798192419207,
           0.5997760958958513,
           0.13082538678523384,
           0.23316130506989186
          ],
          [
           0.055660567061744,
           0.2694486438828095,
           0.3235180794207078,
           0.26892683347644697,
           0.35607834347600653,
           0.28360481264086385,
           0.4649156973859221,
           0.26369972256731994,
           0.3197414467571693,
           0.36987080725145804,
           0.41043698052460104,
           0.3431354338225309,
           0.2950269426119903,
           0.293376238960461,
           0.41622973243096945,
           0.37414840408376904,
           0.47785170827673235,
           0.49507376180339185,
           0.6093155987830801,
           0.5251995920595823,
           0.5482196692459204,
           0.5758949953518231,
           0.675271468520255,
           0.5231191438480812,
           0.5511166227311517,
           0.4832958627416134,
           0.5261320733918515,
           0.7529319181098026,
           1,
           0.7728124483831414,
           0.6472204181008467,
           0.5656871348978406,
           0.6971535894389592,
           0.6785748355416573,
           0.5782545327623199,
           0.5583668655413767,
           0.5790514630283126,
           0.6074535852867267,
           0.5453787130554943,
           0.3776478799786858,
           0.48852116353068387,
           0.361113558036724,
           0.47482118959055025,
           0.20543445502155516,
           0.34823444671014625,
           0.27724003953383536,
           0.1614449379350653,
           0.19998006335387788,
           0.16372364441382387,
           0.24582607358141248,
           0.24426543590364314,
           0.1851570656034647,
           0.19468903603110232,
           0.3314912967824511,
           0.4072759302194601,
           0.32540976255443993,
           0.34540327188806186,
           0.43528946540598257,
           0.4952713755218975,
           0.44839656472767464,
           0.5485918267381077,
           0.5846503461145187,
           0.4538072308409456,
           0.4989433265999906,
           0.3666012238185806,
           0.33368206678494844,
           0.2677892198312615,
           0.27290296363714345,
           0.3710213904675714,
           0.4765231075073645,
           0.1060581504511696,
           0.12384898659811729
          ],
          [
           0.06151631710930756,
           0.3187078443107031,
           0.3887076807155702,
           0.3181743069288079,
           0.31191334938124177,
           0.24471154244449073,
           0.4159745243014002,
           0.2594011583911445,
           0.303974575099191,
           0.3518092905732754,
           0.3511683007959396,
           0.33304647739684706,
           0.33015618722374535,
           0.29293644421251736,
           0.5121569997235814,
           0.3796789072795074,
           0.5923191934913395,
           0.5761297488843434,
           0.6523033653937103,
           0.621083840041418,
           0.6424766093838049,
           0.6852321957096101,
           0.7897017722976427,
           0.591366356504547,
           0.6225829604068011,
           0.5178792889425525,
           0.5552505073975902,
           0.7807885738131828,
           0.7728124483831414,
           1,
           0.6498153891136033,
           0.6090422647279589,
           0.7003248696953123,
           0.698734141025778,
           0.5749684978078674,
           0.5597825947416025,
           0.616642912953558,
           0.6521118808503107,
           0.5865975818478076,
           0.4489011034314408,
           0.5552599479919845,
           0.5574730662909632,
           0.5207752550548321,
           0.22971848462481695,
           0.37813626444349224,
           0.3004324103162653,
           0.2246154330560647,
           0.21082566380904516,
           0.15880632526178806,
           0.3213849818762179,
           0.28661661583086395,
           0.1721523091698163,
           0.185235301476356,
           0.24202589506632877,
           0.2909914145058753,
           0.25936931970942473,
           0.31482904648817545,
           0.332776687840715,
           0.3646184986319229,
           0.38115562643115575,
           0.45239874890942766,
           0.585503393480609,
           0.39350876012241615,
           0.4354035850528561,
           0.18875357421344807,
           0.21060813751075858,
           0.2435800621345033,
           0.2729419457513678,
           0.42424630371496636,
           0.5075093035523458,
           0.12123059153581528,
           0.12333883114561693
          ],
          [
           0.04544773191234648,
           0.20585195656985433,
           0.27939989906966795,
           0.22432046408441864,
           0.4293165680042259,
           0.23596396938767691,
           0.39771995442860036,
           0.2600540455673737,
           0.31101508313591264,
           0.32620619679400487,
           0.2894556710428755,
           0.25135271105036094,
           0.2589951055510406,
           0.2653906522330879,
           0.5083115555360724,
           0.43835590052251416,
           0.4884456721521318,
           0.555312206895524,
           0.6749490194777514,
           0.5703824079586213,
           0.6071344287566044,
           0.6323544265867811,
           0.6934496767571127,
           0.4762943406942377,
           0.5026910038312851,
           0.46593538503523946,
           0.4916405346707343,
           0.693682689984929,
           0.6472204181008467,
           0.6498153891136033,
           1,
           0.6034563314702567,
           0.6168895348191061,
           0.6444687536340967,
           0.547603253566281,
           0.5946199378251825,
           0.6264604288532312,
           0.6225084319663678,
           0.553882888973823,
           0.34952763664967607,
           0.5695807656980703,
           0.3824923966282472,
           0.4355266539002995,
           0.1980326967901672,
           0.39648456360735673,
           0.34592130349082045,
           0.16923572157537561,
           0.21037835366709387,
           0.1337173795073682,
           0.20811311928696358,
           0.28571917080427023,
           0.17545948532540226,
           0.23491200511446422,
           0.2888251909536317,
           0.2995591977193085,
           0.32359060216637286,
           0.313941181287043,
           0.3301200715051128,
           0.42334070087614484,
           0.40502446376403556,
           0.4558403378161831,
           0.5156729860982764,
           0.390831285896662,
           0.4332974224034117,
           0.2504347214089307,
           0.2081793626754737,
           0.2555444696693668,
           0.2577908537454449,
           0.34292375289196847,
           0.45307153438551406,
           0.08917391634932695,
           0.12217841112998655
          ],
          [
           0.04291932825048216,
           0.2783924779720306,
           0.3062416915080089,
           0.24699012551229374,
           0.35366727748763294,
           0.2489955410793474,
           0.39865364003081716,
           0.22556724030923858,
           0.3248140391283422,
           0.3495460808353736,
           0.3099848666835752,
           0.2724902791425521,
           0.2790142555430178,
           0.2580702470183482,
           0.47564889206290945,
           0.38475604878117703,
           0.5355827621278928,
           0.5697024155256153,
           0.6973728135731998,
           0.6079889502740552,
           0.6462922610175453,
           0.6366702315429756,
           0.7025264431509588,
           0.5681742342933608,
           0.5262067185725949,
           0.46236916975378184,
           0.49971104811693406,
           0.677234970137561,
           0.5656871348978406,
           0.6090422647279589,
           0.6034563314702567,
           1,
           0.6567416652763381,
           0.6770616636271608,
           0.5335753044798484,
           0.5326115401057062,
           0.5256079124505068,
           0.6393358733756834,
           0.4835708480714942,
           0.3664720977330628,
           0.5458151162601196,
           0.4463833483045452,
           0.48326764703132424,
           0.20460275151738502,
           0.3710301145513159,
           0.26657593235456195,
           0.17580943005669714,
           0.25927916694106523,
           0.1667815952680202,
           0.16511667999852758,
           0.23349108853289258,
           0.1687142259011143,
           0.18310391702758352,
           0.24000874872161035,
           0.3019489576558147,
           0.3429434904904676,
           0.3140083507438219,
           0.31547967455845316,
           0.37960327431128205,
           0.41505275577031514,
           0.47137092212506326,
           0.4747876360530923,
           0.396611937428155,
           0.42836389461658025,
           0.18521945655895705,
           0.2048602454576359,
           0.2637281547881701,
           0.26783040754395754,
           0.31741111049165227,
           0.4481534948779518,
           0.09747693034617598,
           0.12073981632411239
          ],
          [
           0.04709414992199767,
           0.3028268386581173,
           0.3356873644589127,
           0.2824278920005823,
           0.29935370576951437,
           0.25727175341943875,
           0.40580706705020547,
           0.2788248968159333,
           0.4303240030954254,
           0.5807483043067628,
           0.579476488559366,
           0.42382786256527816,
           0.286350332647112,
           0.27390881044690213,
           0.39723901511946985,
           0.3137969630196414,
           0.49005488231362015,
           0.48984181523273684,
           0.591978321499939,
           0.5090888042153794,
           0.6547348283804622,
           0.5910047195315912,
           0.6710942520524197,
           0.5327890952183045,
           0.5056224125783122,
           0.5337576655552533,
           0.503764849760341,
           0.6737486736172154,
           0.6971535894389592,
           0.7003248696953123,
           0.6168895348191061,
           0.6567416652763381,
           1,
           0.8416991059118587,
           0.6754018729926131,
           0.7126889784284933,
           0.6123335749958427,
           0.6265594882420751,
           0.615424640194609,
           0.3808142187948191,
           0.4802576728200275,
           0.4193431117435696,
           0.49375098665956224,
           0.19267200304375753,
           0.3223692658916725,
           0.2547169508924243,
           0.18166583402955092,
           0.1851688830439832,
           0.25095616450739766,
           0.23088921436749077,
           0.32607053036550665,
           0.16758200122698025,
           0.21914745862875187,
           0.26831250671824053,
           0.3262135095996906,
           0.26422377700952054,
           0.3032972864477377,
           0.3959785053688488,
           0.3847218455579562,
           0.4575140077750446,
           0.5716678733296173,
           0.5023187497029997,
           0.3797544659298816,
           0.40303284646641674,
           0.21002676684812524,
           0.21093594527083045,
           0.216454702821836,
           0.27151389359924394,
           0.3425379020019579,
           0.45754428004716957,
           0.10314753630732454,
           0.11407677699647828
          ],
          [
           0.04550535916307308,
           0.3084919163258648,
           0.3405397100610363,
           0.27806894387404485,
           0.36847050640537266,
           0.3390974638391739,
           0.4719185035724702,
           0.2852191399149858,
           0.41195148583436136,
           0.45125711806393504,
           0.36174937142438673,
           0.42092636633622343,
           0.29954532593057726,
           0.30784458050841235,
           0.4538241920489145,
           0.3404343857115272,
           0.5434925049890763,
           0.5783597017886332,
           0.7123931917199848,
           0.6167134573527575,
           0.6807252488991001,
           0.6559588461569043,
           0.7255706033026796,
           0.6286302130554621,
           0.5591452663485024,
           0.53997010818167,
           0.5237828698233477,
           0.6773501573651599,
           0.6785748355416573,
           0.698734141025778,
           0.6444687536340967,
           0.6770616636271608,
           0.8416991059118587,
           1,
           0.6761038283936354,
           0.6326262577607092,
           0.6491451725851715,
           0.6858411494737608,
           0.6217261152914361,
           0.35532511919193227,
           0.5438675509068269,
           0.4262645156427922,
           0.4976989422580654,
           0.22480713183441645,
           0.3624128327889216,
           0.2929684447636081,
           0.2031631688413559,
           0.18755325436735298,
           0.2292620507001852,
           0.23207206654436027,
           0.2860312368333046,
           0.17273041596606775,
           0.21504029000769687,
           0.2569691114325478,
           0.3053631710304446,
           0.28285074431270196,
           0.3135689801815797,
           0.3684407518285615,
           0.3781081858852922,
           0.3894752331898775,
           0.48780704250351675,
           0.49306906171626014,
           0.3841389852175632,
           0.4159227902280932,
           0.21195555529497817,
           0.20741080418826197,
           0.2463914600891168,
           0.26115602910870717,
           0.39301454892158,
           0.474877967927982,
           0.09617332746120481,
           0.12111971634455337
          ],
          [
           0.050860965937804994,
           0.19886076841205233,
           0.27016486011874385,
           0.21876165443789258,
           0.3207792153539197,
           0.23793499647056812,
           0.35588057789683375,
           0.2398005895286542,
           0.284911543371213,
           0.4444656766758186,
           0.28406579245579133,
           0.283665031982011,
           0.32187680109601524,
           0.2876886081684091,
           0.3989464745860767,
           0.3219759968583674,
           0.5031048630651541,
           0.4570098642463054,
           0.5941559447915276,
           0.4758178253553453,
           0.4955033805771411,
           0.5095723371849497,
           0.6050891457380955,
           0.4527365375667022,
           0.5206142407470401,
           0.5666638102068873,
           0.5230823879617097,
           0.6612654762123303,
           0.5782545327623199,
           0.5749684978078674,
           0.547603253566281,
           0.5335753044798484,
           0.6754018729926131,
           0.6761038283936354,
           1,
           0.7559780796718224,
           0.6127638884107756,
           0.6492524467934865,
           0.5320299544802091,
           0.29021554161921465,
           0.4383655202161339,
           0.2767768032616257,
           0.39763353851336414,
           0.15940323115619062,
           0.31072728669863553,
           0.2544980862736909,
           0.21145623045837011,
           0.2000582629935929,
           0.29620701140710526,
           0.25550264801503647,
           0.29514471976271817,
           0.1832602898431324,
           0.17446922694896508,
           0.3348766670946232,
           0.3780652231180515,
           0.35269968757760556,
           0.46858088851737484,
           0.4192329794607909,
           0.4200087427577731,
           0.37488819952980545,
           0.4887131227886663,
           0.4632765345540417,
           0.41193479084666157,
           0.4129952594170245,
           0.2097905927465455,
           0.20912029203411872,
           0.22854812687268547,
           0.25905583074164756,
           0.3341920497862022,
           0.4570029715539983,
           0.10295434177477214,
           0.15966818349684594
          ],
          [
           0.047090466548492735,
           0.17513264871205553,
           0.25229915290407323,
           0.2025191137128345,
           0.2772439790955225,
           0.20313288533728557,
           0.2900742517147575,
           0.23926540297336876,
           0.33942142065299663,
           0.4709030640556513,
           0.379881806162918,
           0.28427259003487426,
           0.27020158955087353,
           0.2500174158970681,
           0.39987725359593157,
           0.33567699434980336,
           0.5012920940316702,
           0.4578016181363657,
           0.5721960269279383,
           0.4521336934802267,
           0.5255229062162972,
           0.516404347008632,
           0.5897430363067969,
           0.40775177429952575,
           0.47052475646649733,
           0.5456374642194387,
           0.4696427706894048,
           0.6464515978804882,
           0.5583668655413767,
           0.5597825947416025,
           0.5946199378251825,
           0.5326115401057062,
           0.7126889784284933,
           0.6326262577607092,
           0.7559780796718224,
           1,
           0.6584138289626215,
           0.6087825880250347,
           0.5919885873908978,
           0.30899594238770695,
           0.44582796275592823,
           0.3122495252913025,
           0.4042798927873584,
           0.16272820775327937,
           0.31214060723409903,
           0.2522032181010959,
           0.17452337062217996,
           0.1925527493588186,
           0.2610456251797687,
           0.19996752496192866,
           0.24206647074547555,
           0.16995250739571055,
           0.1643507716958355,
           0.2758308832844822,
           0.3692629365452352,
           0.3125521196523191,
           0.33392121673001246,
           0.3874000353476159,
           0.37656514223166426,
           0.35973478539108067,
           0.47983775415489227,
           0.441983709351345,
           0.38459375236157833,
           0.3836349497196261,
           0.19763112931839474,
           0.19791939181189988,
           0.24665528013640314,
           0.23489741551571097,
           0.32733324818253157,
           0.40670128281015355,
           0.09925556717589673,
           0.13237936084130736
          ],
          [
           0.0378489285341232,
           0.2349010875303187,
           0.26885585932044326,
           0.2111262796711,
           0.35533978418168827,
           0.32998363795363383,
           0.5171652637764563,
           0.1803223542434354,
           0.2799081902442969,
           0.2840457297243189,
           0.31507105218867865,
           0.2908729695983526,
           0.23488690023729988,
           0.2774635164181373,
           0.5074628180495937,
           0.36025929698509446,
           0.46372578406892123,
           0.48095603393017106,
           0.6189549672620424,
           0.5272022307975924,
           0.5867951205228313,
           0.6264461519923015,
           0.6603223047998802,
           0.49244651061775385,
           0.4653758475329466,
           0.4613978807365553,
           0.4392604252523011,
           0.612839470198966,
           0.5790514630283126,
           0.616642912953558,
           0.6264604288532312,
           0.5256079124505068,
           0.6123335749958427,
           0.6491451725851715,
           0.6127638884107756,
           0.6584138289626215,
           1,
           0.6303578118563314,
           0.5854029033768154,
           0.32393263188734556,
           0.4454176633997537,
           0.3958084571540759,
           0.42759612187040086,
           0.18970091052904903,
           0.3163365810320809,
           0.26881871662563656,
           0.18303795638920886,
           0.22503522752048055,
           0.12180968691679535,
           0.2787910523589488,
           0.380396173514379,
           0.16219793925537881,
           0.15187012217982526,
           0.25051994533456606,
           0.265071376007923,
           0.2645651043889711,
           0.2453443990861498,
           0.3199014562261955,
           0.3413886864090138,
           0.3328056400208345,
           0.41058767528239654,
           0.4201370012618814,
           0.3479076905472261,
           0.3951043039554696,
           0.1918463959516777,
           0.19298011695360306,
           0.26714711527780516,
           0.2593480944905402,
           0.33327309399177496,
           0.4714436300255056,
           0.07661360649861064,
           0.09787093138641452
          ],
          [
           0.051465637848176746,
           0.1985827360545429,
           0.2971125220308398,
           0.23348957386952957,
           0.4670602732329414,
           0.2751296626416543,
           0.39700143286266787,
           0.2450904154751284,
           0.3525407922055978,
           0.41973267469027975,
           0.27014644611154026,
           0.294222571580256,
           0.36255386063585515,
           0.33934977459049565,
           0.5350009541647681,
           0.36269888623721735,
           0.6919396936260354,
           0.634841153135984,
           0.7926868468410989,
           0.6604663099388858,
           0.5647984818072262,
           0.6484199694312529,
           0.776599336609867,
           0.5255089391773956,
           0.6180814054897734,
           0.6203385681411132,
           0.645467021022996,
           0.7279445678444431,
           0.6074535852867267,
           0.6521118808503107,
           0.6225084319663678,
           0.6393358733756834,
           0.6265594882420751,
           0.6858411494737608,
           0.6492524467934865,
           0.6087825880250347,
           0.6303578118563314,
           1,
           0.6672898808550255,
           0.3629558313904172,
           0.5120981148108943,
           0.47535776468408975,
           0.5124038580832421,
           0.18644163831425137,
           0.3434783108167758,
           0.29786474929385126,
           0.2652647183911559,
           0.18922212541779868,
           0.2558713795989055,
           0.24182809493843568,
           0.26840621560542666,
           0.2232085671552114,
           0.22380499943073667,
           0.32489862834586847,
           0.37326991392791886,
           0.37193492479142476,
           0.399862386670765,
           0.4079905734130936,
           0.4433935666236686,
           0.4338331832005756,
           0.5533822938595737,
           0.5099877035756171,
           0.4584737680873847,
           0.5217413572989071,
           0.2542961700224537,
           0.24752285830612888,
           0.23864727139875289,
           0.2793148113280035,
           0.44026276134548176,
           0.5391324031812506,
           0.13954792836317023,
           0.15877898265311746
          ],
          [
           0.04239264511881858,
           0.17322935053375804,
           0.3048532808231167,
           0.2471337999671627,
           0.3013001059792497,
           0.21029742211126384,
           0.2944166677476731,
           0.23006172937456618,
           0.32589463632817733,
           0.34868959309578124,
           0.2884615058019195,
           0.4821861799960702,
           0.24638879497766297,
           0.25578082296570726,
           0.4294538958815435,
           0.3086792442937485,
           0.5548435753538921,
           0.5593497610874372,
           0.6560142135774952,
           0.5416749061608046,
           0.5727473734110436,
           0.6048348079400594,
           0.6334925495711389,
           0.4357954111286382,
           0.46189664786119705,
           0.4683695098026464,
           0.5062322745331367,
           0.6143401530838287,
           0.5453787130554943,
           0.5865975818478076,
           0.553882888973823,
           0.4835708480714942,
           0.615424640194609,
           0.6217261152914361,
           0.5320299544802091,
           0.5919885873908978,
           0.5854029033768154,
           0.6672898808550255,
           1,
           0.34884887655694496,
           0.46624844260686915,
           0.4653135546334611,
           0.5299142264523709,
           0.16357056491245925,
           0.2846846520404688,
           0.23446890693369488,
           0.18980972438196336,
           0.17346157233335815,
           0.1734341579041479,
           0.28276781743853097,
           0.2310571299622033,
           0.16509740129978603,
           0.19697207798767588,
           0.23681602578600836,
           0.29642378340781533,
           0.24987336386785142,
           0.28424925333444084,
           0.33907957677673795,
           0.34404852449403694,
           0.34319783920918145,
           0.4567898212006722,
           0.4269905695474487,
           0.38062702538629417,
           0.43139056859015,
           0.2051023511894681,
           0.21366772058126668,
           0.19580009852086688,
           0.22794518503083366,
           0.38180512352774665,
           0.4621251990337497,
           0.08958334465168548,
           0.10951964741010159
          ],
          [
           0.033514498021353194,
           0.19835192790325204,
           0.2680075248026937,
           0.2121386955652362,
           0.15300891132155883,
           0.13484869387565926,
           0.20225764570282884,
           0.13089342372779122,
           0.2456848326934436,
           0.18202775138095276,
           0.2431774766691501,
           0.16455473411343036,
           0.19948843587323437,
           0.1664985308583193,
           0.3316090702365822,
           0.2549849981134676,
           0.36553451932862097,
           0.37931744218447566,
           0.373446800464567,
           0.3522931690768881,
           0.35781197320197217,
           0.48634822975028774,
           0.4604278060421395,
           0.35180750137182065,
           0.37802827479673223,
           0.26602259812365187,
           0.2910599326165797,
           0.4060995359500682,
           0.3776478799786858,
           0.4489011034314408,
           0.34952763664967607,
           0.3664720977330628,
           0.3808142187948191,
           0.35532511919193227,
           0.29021554161921465,
           0.30899594238770695,
           0.32393263188734556,
           0.3629558313904172,
           0.34884887655694496,
           1,
           0.6120240960316874,
           0.35349740011874053,
           0.3115709967829614,
           0.18854055823416213,
           0.2927207118632962,
           0.21516594084564236,
           0.15959222577035007,
           0.20951109691347622,
           0.07839196923936764,
           0.10957508702037026,
           0.15140178211130895,
           0.09523007184453504,
           0.17099531351095465,
           0.13603339453240604,
           0.16452892034085223,
           0.13992456827244273,
           0.17930247989038836,
           0.18838268787614007,
           0.1916333282846919,
           0.20129124703225024,
           0.2610012865464712,
           0.2840352998296684,
           0.228635459082434,
           0.2705893977595186,
           0.11003563333288344,
           0.12753074428332473,
           0.13305876363715516,
           0.15388353197106444,
           0.2313782978301548,
           0.2781480522004316,
           0.06973839577243898,
           0.07237458955570766
          ],
          [
           0.03868913107927104,
           0.2603945605742813,
           0.3025881885316016,
           0.23998476897425186,
           0.2668098539821278,
           0.22437278133763716,
           0.34034169744328424,
           0.1840294437442852,
           0.23609661520893044,
           0.2513283663667212,
           0.21841375982222722,
           0.22134874143491534,
           0.2590677887544279,
           0.2912827120681254,
           0.472713643398583,
           0.40011751026376874,
           0.5414626352742592,
           0.543259470242557,
           0.6133293327375321,
           0.5382982407860697,
           0.5164385780924047,
           0.6289147494960731,
           0.6277325650770351,
           0.5004266609947896,
           0.527771309121322,
           0.38224727207001746,
           0.4527086008631818,
           0.5863100110997641,
           0.48852116353068387,
           0.5552599479919845,
           0.5695807656980703,
           0.5458151162601196,
           0.4802576728200275,
           0.5438675509068269,
           0.4383655202161339,
           0.44582796275592823,
           0.4454176633997537,
           0.5120981148108943,
           0.46624844260686915,
           0.6120240960316874,
           1,
           0.41837594470539613,
           0.38481044781997614,
           0.1864165431215098,
           0.41308480928018776,
           0.26399221913329074,
           0.18041264006394692,
           0.29099381075397435,
           0.11519266728257464,
           0.15097932659496063,
           0.1954895643948586,
           0.15830486676351233,
           0.1684689646824005,
           0.199225472465473,
           0.23442509476025827,
           0.24476655502020414,
           0.287001803951713,
           0.24337643473495835,
           0.2690148293382419,
           0.27844510271781847,
           0.3337154089394558,
           0.3802801806316012,
           0.3416123811125537,
           0.37449840752551894,
           0.14693226576752558,
           0.1698795267797366,
           0.15711289927429992,
           0.20965051840770993,
           0.3133809448894386,
           0.4127673843717156,
           0.08004537255914612,
           0.10790072158981287
          ],
          [
           0.021470635871284116,
           0.2047238760045118,
           0.28389014451868905,
           0.19303359472248874,
           0.10477399809436316,
           0.12463407701867375,
           0.17140510045199947,
           0.17193650794386323,
           0.19508553569438095,
           0.18591310193433708,
           0.16188582143238456,
           0.149074285968782,
           0.16802582612731548,
           0.13976284106944853,
           0.5118600450106235,
           0.27094822608025604,
           0.6033690792145202,
           0.5439156972549524,
           0.5252795228629057,
           0.5541975665569417,
           0.5586665359603243,
           0.6441329101187602,
           0.6623860014890305,
           0.4079642643159321,
           0.3167612223014821,
           0.32421750127086657,
           0.36551038991239976,
           0.4336054580163546,
           0.361113558036724,
           0.5574730662909632,
           0.3824923966282472,
           0.4463833483045452,
           0.4193431117435696,
           0.4262645156427922,
           0.2767768032616257,
           0.3122495252913025,
           0.3958084571540759,
           0.47535776468408975,
           0.4653135546334611,
           0.35349740011874053,
           0.41837594470539613,
           1,
           0.5861514826117948,
           0.18085897885684313,
           0.21964369534124858,
           0.18044771092122514,
           0.35685680801175923,
           0.08733033459749384,
           0.09044486291142269,
           0.06945526871662991,
           0.10748958483320549,
           0.09147590468846738,
           0.10219519752435834,
           0.1104107568907511,
           0.13921297494273524,
           0.1084443074807411,
           0.16736978438837705,
           0.1475305749928447,
           0.15579801144774474,
           0.1871464853812401,
           0.23635759666188946,
           0.2697282868347013,
           0.2261451932781948,
           0.3523980971242057,
           0.09904234717199789,
           0.17954968376697816,
           0.12364158756834373,
           0.10934763483145958,
           0.29133082706309027,
           0.3285087848079705,
           0.1653438341036596,
           0.06862187468580286
          ],
          [
           0.03840102529152045,
           0.17801406210102233,
           0.26253817001742674,
           0.2016728340177798,
           0.18035188682607908,
           0.15071509124857937,
           0.20841827245500985,
           0.1729083415245039,
           0.22492013667684424,
           0.2657957897131575,
           0.276718624369501,
           0.1755476219858246,
           0.22031307932701222,
           0.2584251684349464,
           0.40227820114403595,
           0.23443766091355447,
           0.5213339219685175,
           0.5014879639822538,
           0.5192127150508078,
           0.4844877576035886,
           0.48107607904227767,
           0.5011025369503289,
           0.5643947431149048,
           0.387583183649439,
           0.3824190433021178,
           0.3711651084913502,
           0.43759125329373016,
           0.5747053142912795,
           0.47482118959055025,
           0.5207752550548321,
           0.4355266539002995,
           0.48326764703132424,
           0.49375098665956224,
           0.4976989422580654,
           0.39763353851336414,
           0.4042798927873584,
           0.42759612187040086,
           0.5124038580832421,
           0.5299142264523709,
           0.3115709967829614,
           0.38481044781997614,
           0.5861514826117948,
           1,
           0.15882395427349105,
           0.2352501673356054,
           0.19230393883492505,
           0.21970895904982563,
           0.1321112570911497,
           0.16671931026404446,
           0.1194067086952636,
           0.16184819551784266,
           0.21717829403241595,
           0.189509698770237,
           0.21136890562453922,
           0.3480331157715343,
           0.2879381596308428,
           0.28803713271401804,
           0.41360769126113445,
           0.45185339813424197,
           0.3394853321420811,
           0.3978519366825464,
           0.40956340497077026,
           0.3924841707327193,
           0.42857597080349447,
           0.2143227440591992,
           0.24993590087018092,
           0.2560700454097103,
           0.24143514531706445,
           0.39924826448567746,
           0.4379291384147293,
           0.09550594892231243,
           0.10527743077114446
          ],
          [
           0.019031107405417386,
           0.13470715606305428,
           0.1530711399728137,
           0.13728231686255846,
           0.07342273944772389,
           0.059595781360923236,
           0.1037703633946783,
           0.0722319527007826,
           0.09971061849758428,
           0.10348019529967296,
           0.1069525038363182,
           0.08914464889329825,
           0.20664058184007222,
           0.14322672126503555,
           0.20383271311065435,
           0.16864920127653166,
           0.19639989466157673,
           0.22022833909208844,
           0.21698161007658348,
           0.279662905940011,
           0.3608730121327663,
           0.3119909011215104,
           0.33956370847318396,
           0.2931605647569509,
           0.3711872950195887,
           0.1539707660756628,
           0.165045671129362,
           0.2313124301367705,
           0.20543445502155516,
           0.22971848462481695,
           0.1980326967901672,
           0.20460275151738502,
           0.19267200304375753,
           0.22480713183441645,
           0.15940323115619062,
           0.16272820775327937,
           0.18970091052904903,
           0.18644163831425137,
           0.16357056491245925,
           0.18854055823416213,
           0.1864165431215098,
           0.18085897885684313,
           0.15882395427349105,
           1,
           0.5401488022387948,
           0.7909225915742215,
           0.11122812829819088,
           0.14692605468712774,
           0.04525874536414592,
           0.05922432593430821,
           0.06447992639124568,
           0.0822739458530865,
           0.06783545517499244,
           0.06842242737447703,
           0.08618615393246432,
           0.08240451899775059,
           0.10280171745917648,
           0.0953306984137848,
           0.10888857862563919,
           0.10098587911517898,
           0.12622759077997572,
           0.16465231779701492,
           0.13564783344192136,
           0.1532049480829816,
           0.09754242104875208,
           0.06910734729263224,
           0.0764275397818516,
           0.09855548034162544,
           0.1294749120657499,
           0.17003797838849047,
           0.04919889851279803,
           0.04430489351217034
          ],
          [
           0.031662373279644135,
           0.1455553575708435,
           0.20926291370509217,
           0.17795543922042822,
           0.16211370553261023,
           0.31859931209434206,
           0.2403233481942837,
           0.11938013292516288,
           0.18179211923323058,
           0.17721781427870806,
           0.17483154408838775,
           0.14584068162062502,
           0.22968659286948281,
           0.19069459287941945,
           0.4831628979839357,
           0.4912049223739595,
           0.31250787030783744,
           0.4216044607249254,
           0.3851076533288009,
           0.4251409264380568,
           0.501637522864817,
           0.5795796566526048,
           0.5070241172005994,
           0.34330492872294205,
           0.5329306590512632,
           0.26269532504733945,
           0.2876720436726547,
           0.40753496041011816,
           0.34823444671014625,
           0.37813626444349224,
           0.39648456360735673,
           0.3710301145513159,
           0.3223692658916725,
           0.3624128327889216,
           0.31072728669863553,
           0.31214060723409903,
           0.3163365810320809,
           0.3434783108167758,
           0.2846846520404688,
           0.2927207118632962,
           0.41308480928018776,
           0.21964369534124858,
           0.2352501673356054,
           0.5401488022387948,
           1,
           0.7537376299194449,
           0.12086692556113258,
           0.39913053496046774,
           0.08290155066622415,
           0.14693757518737435,
           0.20699932718455183,
           0.10563187147478428,
           0.10609821964914834,
           0.15738656151519068,
           0.18561986207672032,
           0.1768610099966509,
           0.19292853869188806,
           0.18866336066764433,
           0.22235936597321737,
           0.20430392859786256,
           0.22739862750719253,
           0.2711722172166939,
           0.24893650439600135,
           0.27825123065525437,
           0.11061420196059493,
           0.12243033597487907,
           0.11639596476982125,
           0.1842091807160752,
           0.2532856742072694,
           0.3177915765506977,
           0.060763783506670985,
           0.07904174312582071
          ],
          [
           0.024386956032386817,
           0.10333354808477146,
           0.14851304184407843,
           0.1299081035949567,
           0.16342273266609622,
           0.14793141757761405,
           0.15669752082417016,
           0.09375370603758452,
           0.14487106697026952,
           0.14353853200337566,
           0.13933917900796558,
           0.10837361855063803,
           0.21218721919158665,
           0.13320138547089438,
           0.3662039230641756,
           0.44794239163709837,
           0.22507868894310357,
           0.3075418475121505,
           0.32478916669666136,
           0.4248397522712918,
           0.4632727905732591,
           0.40465406630019335,
           0.4310434872639899,
           0.2799153064930105,
           0.39310133665871727,
           0.21253963908201198,
           0.22872417166979608,
           0.32300114321530193,
           0.27724003953383536,
           0.3004324103162653,
           0.34592130349082045,
           0.26657593235456195,
           0.2547169508924243,
           0.2929684447636081,
           0.2544980862736909,
           0.2522032181010959,
           0.26881871662563656,
           0.29786474929385126,
           0.23446890693369488,
           0.21516594084564236,
           0.26399221913329074,
           0.18044771092122514,
           0.19230393883492505,
           0.7909225915742215,
           0.7537376299194449,
           1,
           0.07917937222019107,
           0.12345208517274783,
           0.06791617350002536,
           0.11951893156461084,
           0.19381387401840058,
           0.08376528956449429,
           0.08483441254380794,
           0.1296847370048836,
           0.13559504909707717,
           0.13618115189005817,
           0.15085876224577383,
           0.1588229073296376,
           0.18950686005561523,
           0.16151550287991745,
           0.18685130403044883,
           0.20965370912712997,
           0.18964410722066302,
           0.22714574494980128,
           0.08950478064323791,
           0.10032117915656955,
           0.08563284340130979,
           0.16836744230969647,
           0.2079532790004615,
           0.2558079866222115,
           0.052765111701638424,
           0.05991572600892187
          ],
          [
           0.010682018461185229,
           0.06123907348530437,
           0.09692065796834516,
           0.06512275146387644,
           0.05307403795841795,
           0.04804381564666874,
           0.06343486472525137,
           0.06528461398982154,
           0.08109956837499757,
           0.18588778440864587,
           0.061257486633117995,
           0.05751688562357551,
           0.10777954561349397,
           0.1375248228522019,
           0.2460839131184489,
           0.11739536624332997,
           0.35728865895559697,
           0.21734387499034738,
           0.23478620237581627,
           0.21140792224793015,
           0.21795057168513832,
           0.2992787908779606,
           0.2960105148735895,
           0.13735076509041616,
           0.19738230391080305,
           0.18634956808041922,
           0.19616259254943985,
           0.2124757215910013,
           0.1614449379350653,
           0.2246154330560647,
           0.16923572157537561,
           0.17580943005669714,
           0.18166583402955092,
           0.2031631688413559,
           0.21145623045837011,
           0.17452337062217996,
           0.18303795638920886,
           0.2652647183911559,
           0.18980972438196336,
           0.15959222577035007,
           0.18041264006394692,
           0.35685680801175923,
           0.21970895904982563,
           0.11122812829819088,
           0.12086692556113258,
           0.07917937222019107,
           1,
           0.27085342713775784,
           0.15167827068311998,
           0.04544283756281585,
           0.044487160419512374,
           0.04400926529734467,
           0.043273018750897854,
           0.06268403642900888,
           0.13496766965263404,
           0.06847045652455178,
           0.13487638681713593,
           0.12430480412032831,
           0.09367355160362044,
           0.10871985212189439,
           0.12198955511911948,
           0.12239619577660203,
           0.10912814029066632,
           0.1575083947397145,
           0.04944621170159765,
           0.07878513265634882,
           0.055288076657657295,
           0.05913815094617144,
           0.16693272369468584,
           0.14685342762668777,
           0.04120993868172511,
           0.04640317533765884
          ],
          [
           0.01750341737298082,
           0.05755740844350507,
           0.08011694848813919,
           0.0690712503894553,
           0.15343623273346202,
           0.10144181354287905,
           0.10299713472793783,
           0.08997225682652271,
           0.08994489784696715,
           0.10127561140628105,
           0.07853713342022245,
           0.0784901047728074,
           0.11068350139331203,
           0.23853527648168163,
           0.3020097334966701,
           0.18198090415777265,
           0.16275369438301596,
           0.3054783134194698,
           0.1850692152560117,
           0.14357344709541264,
           0.22111377468059484,
           0.42232760665602814,
           0.2628333596412419,
           0.1307818858857618,
           0.34193010849912736,
           0.15017046723383431,
           0.1689947734304676,
           0.2308429289925155,
           0.19998006335387788,
           0.21082566380904516,
           0.21037835366709387,
           0.25927916694106523,
           0.1851688830439832,
           0.18755325436735298,
           0.2000582629935929,
           0.1925527493588186,
           0.22503522752048055,
           0.18922212541779868,
           0.17346157233335815,
           0.20951109691347622,
           0.29099381075397435,
           0.08733033459749384,
           0.1321112570911497,
           0.14692605468712774,
           0.39913053496046774,
           0.12345208517274783,
           0.27085342713775784,
           1,
           0.046802008970318776,
           0.10960094050576594,
           0.1418304994094039,
           0.06916496286330108,
           0.06178313379098317,
           0.11032557003272583,
           0.13715015389178375,
           0.1088447283668147,
           0.1054187795720935,
           0.11473300857379963,
           0.13351868629256228,
           0.13532343437190653,
           0.13808170336611283,
           0.15871215287426607,
           0.15417236688032113,
           0.14748159483893544,
           0.06567884305459537,
           0.07041506562216529,
           0.06415900469724398,
           0.12009116651631345,
           0.12209678141900666,
           0.18776389039646046,
           0.027305673808253435,
           0.046028841729536314
          ],
          [
           0.020943938743467703,
           0.040873723177486464,
           0.07372826442602536,
           0.06268489198978207,
           0.07761348008384945,
           0.03833909216357925,
           0.07193034306003851,
           0.12358119708015616,
           0.15989663005202462,
           0.41499227091861496,
           0.10716327935428924,
           0.0739311751149187,
           0.19077580635083824,
           0.10964490528376195,
           0.08577488087826125,
           0.05792938228911709,
           0.2387729617735292,
           0.12729146506678005,
           0.172675956283933,
           0.11765061936595189,
           0.12516026583648376,
           0.14118911319960326,
           0.19704216182572667,
           0.13429267991338267,
           0.19922456435800653,
           0.22202684581637816,
           0.21675303634241352,
           0.23976198875396856,
           0.16372364441382387,
           0.15880632526178806,
           0.1337173795073682,
           0.1667815952680202,
           0.25095616450739766,
           0.2292620507001852,
           0.29620701140710526,
           0.2610456251797687,
           0.12180968691679535,
           0.2558713795989055,
           0.1734341579041479,
           0.07839196923936764,
           0.11519266728257464,
           0.09044486291142269,
           0.16671931026404446,
           0.04525874536414592,
           0.08290155066622415,
           0.06791617350002536,
           0.15167827068311998,
           0.046802008970318776,
           1,
           0.0568832337387206,
           0.06092293895202984,
           0.0576459311157699,
           0.05742081257723666,
           0.08177566526763194,
           0.2277000075024889,
           0.25594634394659244,
           0.22053910241252508,
           0.20448413809743315,
           0.14216134451407098,
           0.12506718457133645,
           0.18645381069476838,
           0.18608645264948442,
           0.15807720528446678,
           0.14375646116279964,
           0.08068930494979638,
           0.07825303506915623,
           0.06823100320476143,
           0.08719131347352134,
           0.12704434616640684,
           0.13349138882747774,
           0.049128798432961925,
           0.0886077955811679
          ],
          [
           0.021879940500853023,
           0.05138122397755318,
           0.11393695392930016,
           0.09607063435261752,
           0.09759464761783118,
           0.06013744279093427,
           0.09982244999757311,
           0.1058863005234162,
           0.10672655248549986,
           0.1213739385004377,
           0.1324529683812838,
           0.4299630433851988,
           0.12792978198929855,
           0.12903248309245116,
           0.19402084465866065,
           0.13303607136823625,
           0.21568820264568772,
           0.14694911864242813,
           0.18978002796348017,
           0.13437027465473178,
           0.13675058911530155,
           0.1764903844592782,
           0.23056003524898197,
           0.1521078089004961,
           0.22898347764918506,
           0.17924457790694967,
           0.2074988665381397,
           0.29564086904872305,
           0.24582607358141248,
           0.3213849818762179,
           0.20811311928696358,
           0.16511667999852758,
           0.23088921436749077,
           0.23207206654436027,
           0.25550264801503647,
           0.19996752496192866,
           0.2787910523589488,
           0.24182809493843568,
           0.28276781743853097,
           0.10957508702037026,
           0.15097932659496063,
           0.06945526871662991,
           0.1194067086952636,
           0.05922432593430821,
           0.14693757518737435,
           0.11951893156461084,
           0.04544283756281585,
           0.10960094050576594,
           0.0568832337387206,
           1,
           0.6010330169104717,
           0.0996275721168922,
           0.07556273958828137,
           0.1610358140051592,
           0.1291542430354013,
           0.11407167465074114,
           0.1212593356050147,
           0.14192186575442092,
           0.15732551918457865,
           0.13190001836868728,
           0.1724793856324624,
           0.19279217642265808,
           0.1733677393225872,
           0.19822841880668546,
           0.08747433073356949,
           0.0769577188168425,
           0.06746753488070308,
           0.2656577544137449,
           0.16149103050093153,
           0.439025603743481,
           0.03125238538265405,
           0.04798649155243709
          ],
          [
           0.020521934517540735,
           0.055450589359724425,
           0.11467669960592004,
           0.10727851307221561,
           0.1002506925209471,
           0.051706730252330656,
           0.13629677571828955,
           0.13997648059401316,
           0.16983911437972277,
           0.24445999914105218,
           0.1155530978748648,
           0.11685464891992027,
           0.11583913713455193,
           0.12948342746980424,
           0.2085136311514066,
           0.17542016275451647,
           0.19924438577748543,
           0.18147822942775782,
           0.21318850480662124,
           0.1393964238173051,
           0.21627549392545375,
           0.26498025078753884,
           0.2733750660797895,
           0.17510490913187093,
           0.23516714814095022,
           0.19210916917278842,
           0.2085337015892817,
           0.26078103959037263,
           0.24426543590364314,
           0.28661661583086395,
           0.28571917080427023,
           0.23349108853289258,
           0.32607053036550665,
           0.2860312368333046,
           0.29514471976271817,
           0.24206647074547555,
           0.380396173514379,
           0.26840621560542666,
           0.2310571299622033,
           0.15140178211130895,
           0.1954895643948586,
           0.10748958483320549,
           0.16184819551784266,
           0.06447992639124568,
           0.20699932718455183,
           0.19381387401840058,
           0.044487160419512374,
           0.1418304994094039,
           0.06092293895202984,
           0.6010330169104717,
           1,
           0.08426545702679245,
           0.164691453171284,
           0.15966281532764787,
           0.12074078662929276,
           0.10851800487203088,
           0.11997250508020706,
           0.14550490942915503,
           0.15489283144500562,
           0.14526384179108962,
           0.17503917169750732,
           0.17038447307577534,
           0.18389485145281598,
           0.23724143686548688,
           0.07793232165687321,
           0.07675548223837925,
           0.09889785895441454,
           0.5044594012851016,
           0.21062039274743974,
           0.5293314312395776,
           0.03517180221437627,
           0.0503370531495444
          ],
          [
           0.022479622898853305,
           0.04592825355734104,
           0.07438170942386456,
           0.06298167368479193,
           0.11074177760630574,
           0.06394131961156173,
           0.09363952244845994,
           0.06477116439582632,
           0.08709544733923619,
           0.12572886636553018,
           0.06951750863332319,
           0.06956648729340008,
           0.08955722058528273,
           0.11161523819213129,
           0.132990556580364,
           0.08004897391548275,
           0.15997234394389034,
           0.16583078783306088,
           0.21949140958577695,
           0.17470726874078274,
           0.14117250074257087,
           0.14828799878595517,
           0.18586008550943417,
           0.14225970202852223,
           0.16412907245423963,
           0.1445271240412133,
           0.19409194587023007,
           0.28112819910481046,
           0.1851570656034647,
           0.1721523091698163,
           0.17545948532540226,
           0.1687142259011143,
           0.16758200122698025,
           0.17273041596606775,
           0.1832602898431324,
           0.16995250739571055,
           0.16219793925537881,
           0.2232085671552114,
           0.16509740129978603,
           0.09523007184453504,
           0.15830486676351233,
           0.09147590468846738,
           0.21717829403241595,
           0.0822739458530865,
           0.10563187147478428,
           0.08376528956449429,
           0.04400926529734467,
           0.06916496286330108,
           0.0576459311157699,
           0.0996275721168922,
           0.08426545702679245,
           1,
           0.12856334515854484,
           0.1978032355296217,
           0.2195266518643852,
           0.11916153260093869,
           0.13865759558275556,
           0.20396196200687572,
           0.22642015906973229,
           0.1825231752531335,
           0.22144096711358544,
           0.1916595333625046,
           0.2855561174046261,
           0.27238404770632657,
           0.1172030756042603,
           0.11019558172389471,
           0.07423569533123614,
           0.12609851506494363,
           0.14959600008603458,
           0.23075816029393012,
           0.029798669164295823,
           0.05339541321046872
          ],
          [
           0.022769939059077683,
           0.06696650915451792,
           0.10535735481271252,
           0.09097593869768703,
           0.10265298425827014,
           0.06072333081018161,
           0.11915693668052058,
           0.07919477443702784,
           0.1045076031615641,
           0.12400246838251452,
           0.09468106253547025,
           0.08160131199861988,
           0.11626102865150668,
           0.16298636185469248,
           0.11782789232520202,
           0.08313225612184146,
           0.1518432172339083,
           0.16886741300350352,
           0.17147328867981623,
           0.14214820898990213,
           0.14607052617085234,
           0.16242804839418887,
           0.19702264060809752,
           0.16901749595329016,
           0.1760001014229342,
           0.14902711779421904,
           0.19038669332292193,
           0.2527504998173884,
           0.19468903603110232,
           0.185235301476356,
           0.23491200511446422,
           0.18310391702758352,
           0.21914745862875187,
           0.21504029000769687,
           0.17446922694896508,
           0.1643507716958355,
           0.15187012217982526,
           0.22380499943073667,
           0.19697207798767588,
           0.17099531351095465,
           0.1684689646824005,
           0.10219519752435834,
           0.189509698770237,
           0.06783545517499244,
           0.10609821964914834,
           0.08483441254380794,
           0.043273018750897854,
           0.06178313379098317,
           0.05742081257723666,
           0.07556273958828137,
           0.164691453171284,
           0.12856334515854484,
           1,
           0.09794145656598756,
           0.1337330794960489,
           0.10588990079928952,
           0.11946112461241842,
           0.16207946772248535,
           0.18681709753906858,
           0.16447360067827824,
           0.20681308783392005,
           0.20244916361479504,
           0.1928933759542572,
           0.29176845960214914,
           0.11642897861201876,
           0.08733164570549806,
           0.126173909059681,
           0.18951989365644523,
           0.2017261429805664,
           0.2492838193375473,
           0.03729200632597131,
           0.048607734912674325
          ],
          [
           0.027328656160475112,
           0.0580511373052901,
           0.10930683493430679,
           0.08877697545176964,
           0.16888282740282873,
           0.058898416498391615,
           0.12277608924136203,
           0.11437622208321668,
           0.13703590432804913,
           0.1985589472801476,
           0.1194980080565217,
           0.09244533893743356,
           0.11775967905752359,
           0.12188209556849045,
           0.2039972253036401,
           0.1637170340803153,
           0.20163528429807823,
           0.19869482747392805,
           0.2835017611044528,
           0.1922933094649109,
           0.19222400148889154,
           0.22488351783558228,
           0.25462763351940704,
           0.16340706820344397,
           0.22332557620635488,
           0.20430782873881886,
           0.2510601915441648,
           0.377897836536815,
           0.3314912967824511,
           0.24202589506632877,
           0.2888251909536317,
           0.24000874872161035,
           0.26831250671824053,
           0.2569691114325478,
           0.3348766670946232,
           0.2758308832844822,
           0.25051994533456606,
           0.32489862834586847,
           0.23681602578600836,
           0.13603339453240604,
           0.199225472465473,
           0.1104107568907511,
           0.21136890562453922,
           0.06842242737447703,
           0.15738656151519068,
           0.1296847370048836,
           0.06268403642900888,
           0.11032557003272583,
           0.08177566526763194,
           0.1610358140051592,
           0.15966281532764787,
           0.1978032355296217,
           0.09794145656598756,
           1,
           0.3727812835566755,
           0.34049386814632127,
           0.179983736325317,
           0.3675145069587045,
           0.5064952135852248,
           0.2711396370141705,
           0.46859265350299967,
           0.2513366575153661,
           0.2564811908215867,
           0.3371789028132386,
           0.15215098346674344,
           0.16160431211329412,
           0.09516002261565917,
           0.1416597642762959,
           0.1757241227538221,
           0.2591925383838901,
           0.038200900386410136,
           0.06451463698193552
          ],
          [
           0.05243622533958866,
           0.08397176246660498,
           0.14007958009018412,
           0.11520585564361974,
           0.18290177714910882,
           0.07775846556448213,
           0.14783938911922942,
           0.12464632030740783,
           0.18709477987464723,
           0.2887486636709457,
           0.15797288991278274,
           0.12041582590841918,
           0.18925256810559418,
           0.16810575741392061,
           0.18903861821011397,
           0.14703190889108703,
           0.31035000343132446,
           0.2536094726054834,
           0.3224770137417773,
           0.2559201999141985,
           0.23351100677530368,
           0.25317168440998117,
           0.31779102663127407,
           0.23690634938087554,
           0.2908451068824277,
           0.27949834046026095,
           0.34556424941843733,
           0.48355604637006755,
           0.4072759302194601,
           0.2909914145058753,
           0.2995591977193085,
           0.3019489576558147,
           0.3262135095996906,
           0.3053631710304446,
           0.3780652231180515,
           0.3692629365452352,
           0.265071376007923,
           0.37326991392791886,
           0.29642378340781533,
           0.16452892034085223,
           0.23442509476025827,
           0.13921297494273524,
           0.3480331157715343,
           0.08618615393246432,
           0.18561986207672032,
           0.13559504909707717,
           0.13496766965263404,
           0.13715015389178375,
           0.2277000075024889,
           0.1291542430354013,
           0.12074078662929276,
           0.2195266518643852,
           0.1337330794960489,
           0.3727812835566755,
           1,
           0.5304903206901209,
           0.3427285273603132,
           0.4569962322669999,
           0.5256211062327693,
           0.3222949363898977,
           0.42832346697168844,
           0.35960288057902334,
           0.4375928641198853,
           0.3959812095290461,
           0.23899383323917858,
           0.26661974989078135,
           0.154962611326437,
           0.1798488145480632,
           0.2347076946356151,
           0.32402473629387274,
           0.0587960760830997,
           0.09788872154943548
          ],
          [
           0.03148935003532079,
           0.06859999630657822,
           0.12643208165153577,
           0.1018818246047986,
           0.2263700551590877,
           0.06505975544388962,
           0.13546149286970224,
           0.11175894750837514,
           0.15917131613961463,
           0.2382202543917461,
           0.11839262179474726,
           0.09892628197631195,
           0.21010985385324996,
           0.14912393071968183,
           0.207728532185838,
           0.2049768816992707,
           0.25336501097048325,
           0.2325503805982069,
           0.3475171465256042,
           0.27484294530440273,
           0.21348859655238972,
           0.2304956242301382,
           0.29991351791807513,
           0.19763698683166814,
           0.28983995809848595,
           0.2562715765695681,
           0.293618910726834,
           0.4306089325012528,
           0.32540976255443993,
           0.25936931970942473,
           0.32359060216637286,
           0.3429434904904676,
           0.26422377700952054,
           0.28285074431270196,
           0.35269968757760556,
           0.3125521196523191,
           0.2645651043889711,
           0.37193492479142476,
           0.24987336386785142,
           0.13992456827244273,
           0.24476655502020414,
           0.1084443074807411,
           0.2879381596308428,
           0.08240451899775059,
           0.1768610099966509,
           0.13618115189005817,
           0.06847045652455178,
           0.1088447283668147,
           0.25594634394659244,
           0.11407167465074114,
           0.10851800487203088,
           0.11916153260093869,
           0.10588990079928952,
           0.34049386814632127,
           0.5304903206901209,
           1,
           0.25011820030191895,
           0.33295984444646054,
           0.4478383459851185,
           0.3822088185898312,
           0.3863190791211075,
           0.3086851769254351,
           0.30313836093867197,
           0.30596215455767617,
           0.1902682365348472,
           0.18274065442441007,
           0.24551839641510842,
           0.13648435365439715,
           0.1931330275455245,
           0.2634967532641046,
           0.04738961509288575,
           0.09764460678910498
          ],
          [
           0.055779881893567765,
           0.10211646375535613,
           0.15868906365659027,
           0.13349355482512434,
           0.16582090569137717,
           0.11510346616971676,
           0.15099457527184962,
           0.12321548492577766,
           0.16722082992064596,
           0.26144248266247455,
           0.1556607306836478,
           0.12581307148007112,
           0.3030587615327846,
           0.1947225418263529,
           0.20089129641586698,
           0.1335588972640975,
           0.37231586438372083,
           0.3184448970555012,
           0.3769474652174195,
           0.30172735417229934,
           0.2553297138284942,
           0.27050264753910386,
           0.3832345033692925,
           0.2801357281634946,
           0.4294840959517438,
           0.4670022465998817,
           0.4577586040131758,
           0.5366913707965705,
           0.34540327188806186,
           0.31482904648817545,
           0.313941181287043,
           0.3140083507438219,
           0.3032972864477377,
           0.3135689801815797,
           0.46858088851737484,
           0.33392121673001246,
           0.2453443990861498,
           0.399862386670765,
           0.28424925333444084,
           0.17930247989038836,
           0.287001803951713,
           0.16736978438837705,
           0.28803713271401804,
           0.10280171745917648,
           0.19292853869188806,
           0.15085876224577383,
           0.13487638681713593,
           0.1054187795720935,
           0.22053910241252508,
           0.1212593356050147,
           0.11997250508020706,
           0.13865759558275556,
           0.11946112461241842,
           0.179983736325317,
           0.3427285273603132,
           0.25011820030191895,
           1,
           0.29820390204311403,
           0.29671696919225715,
           0.3060481913346257,
           0.3305748525727296,
           0.4912132613020716,
           0.46683791119243323,
           0.32188698237444185,
           0.17855366696303074,
           0.19683086035982844,
           0.1429817109505559,
           0.18944835128765797,
           0.22461176772665725,
           0.2957367792796429,
           0.23527913067489573,
           0.36783746357396396
          ],
          [
           0.0427186155219063,
           0.09318376075418179,
           0.15006210741495465,
           0.13030416182832874,
           0.19658754911831353,
           0.08982071926338701,
           0.16931968679972864,
           0.15786606266576325,
           0.2335012737262098,
           0.32873553057334715,
           0.18819641563941258,
           0.14094218599451047,
           0.18665456121033297,
           0.16794160424313084,
           0.20848258228668215,
           0.15997829622840273,
           0.32066473107339655,
           0.2769708531796611,
           0.3460457665169376,
           0.2621834124607967,
           0.2546678604343039,
           0.2729957720168723,
           0.33446927324293485,
           0.2522308253250961,
           0.3059025220262413,
           0.2950768882827837,
           0.3531836357331203,
           0.5146953194710655,
           0.43528946540598257,
           0.332776687840715,
           0.3301200715051128,
           0.31547967455845316,
           0.3959785053688488,
           0.3684407518285615,
           0.4192329794607909,
           0.3874000353476159,
           0.3199014562261955,
           0.4079905734130936,
           0.33907957677673795,
           0.18838268787614007,
           0.24337643473495835,
           0.1475305749928447,
           0.41360769126113445,
           0.0953306984137848,
           0.18866336066764433,
           0.1588229073296376,
           0.12430480412032831,
           0.11473300857379963,
           0.20448413809743315,
           0.14192186575442092,
           0.14550490942915503,
           0.20396196200687572,
           0.16207946772248535,
           0.3675145069587045,
           0.4569962322669999,
           0.33295984444646054,
           0.29820390204311403,
           1,
           0.6832371580666652,
           0.39833240794521513,
           0.5056085177597812,
           0.3704726462831883,
           0.3960350687207137,
           0.4254816205621807,
           0.283031356435806,
           0.2911237372793159,
           0.32347500925171646,
           0.20907476064534028,
           0.3045955987613542,
           0.3734693585762045,
           0.060435752599585446,
           0.09579777877809093
          ],
          [
           0.05049684620379449,
           0.09913554517114932,
           0.15915868474516418,
           0.1339086766885162,
           0.2430919613850366,
           0.1029710987743196,
           0.1979669121450686,
           0.15810117975100657,
           0.248436743376498,
           0.30543766348962403,
           0.17348829396043955,
           0.14185880765094136,
           0.19070929100711922,
           0.1887439833243159,
           0.24613607477881927,
           0.2287427864279061,
           0.30249884830159346,
           0.3025035265709569,
           0.40176112142171555,
           0.30677122817807634,
           0.29693772963341225,
           0.30305367370202546,
           0.3659523227187537,
           0.2654794304385829,
           0.32656050564058325,
           0.3010008682312082,
           0.38007114584738694,
           0.5621353870466025,
           0.4952713755218975,
           0.3646184986319229,
           0.42334070087614484,
           0.37960327431128205,
           0.3847218455579562,
           0.3781081858852922,
           0.4200087427577731,
           0.37656514223166426,
           0.3413886864090138,
           0.4433935666236686,
           0.34404852449403694,
           0.1916333282846919,
           0.2690148293382419,
           0.15579801144774474,
           0.45185339813424197,
           0.10888857862563919,
           0.22235936597321737,
           0.18950686005561523,
           0.09367355160362044,
           0.13351868629256228,
           0.14216134451407098,
           0.15732551918457865,
           0.15489283144500562,
           0.22642015906973229,
           0.18681709753906858,
           0.5064952135852248,
           0.5256211062327693,
           0.4478383459851185,
           0.29671696919225715,
           0.6832371580666652,
           1,
           0.42954902229775227,
           0.5810654590302453,
           0.4161235543273027,
           0.4427359105229369,
           0.5224647914617181,
           0.33060675333299244,
           0.42886647243509124,
           0.2855885194404078,
           0.24187886038911052,
           0.3172567456845561,
           0.413653663361202,
           0.06218703360231172,
           0.10052217770021127
          ],
          [
           0.042131763329047514,
           0.09693444622417917,
           0.17114708660478098,
           0.15224067647877462,
           0.18233700673310205,
           0.11471622562758674,
           0.1938042396712902,
           0.14817719947885025,
           0.24697736819546276,
           0.27445928292741234,
           0.20306001091250167,
           0.14743571918948725,
           0.19573572878429457,
           0.1956598787885204,
           0.23928001001275723,
           0.19980035935682244,
           0.34200317243324474,
           0.3328086107446617,
           0.4143579667856625,
           0.3521668972516365,
           0.35912734696636767,
           0.32318424978458526,
           0.3973114735603829,
           0.272507390007326,
           0.33774945864319544,
           0.31600190840520836,
           0.35678040525554033,
           0.5888582747416516,
           0.44839656472767464,
           0.38115562643115575,
           0.40502446376403556,
           0.41505275577031514,
           0.4575140077750446,
           0.3894752331898775,
           0.37488819952980545,
           0.35973478539108067,
           0.3328056400208345,
           0.4338331832005756,
           0.34319783920918145,
           0.20129124703225024,
           0.27844510271781847,
           0.1871464853812401,
           0.3394853321420811,
           0.10098587911517898,
           0.20430392859786256,
           0.16151550287991745,
           0.10871985212189439,
           0.13532343437190653,
           0.12506718457133645,
           0.13190001836868728,
           0.14526384179108962,
           0.1825231752531335,
           0.16447360067827824,
           0.2711396370141705,
           0.3222949363898977,
           0.3822088185898312,
           0.3060481913346257,
           0.39833240794521513,
           0.42954902229775227,
           1,
           0.6191635847197288,
           0.43670624231809196,
           0.41713835337419064,
           0.4396969174805779,
           0.3247422833183378,
           0.21913002029470516,
           0.2520046449756814,
           0.2106329256235656,
           0.25652153904118286,
           0.35015681979722135,
           0.06290176136911209,
           0.09811197855740963
          ],
          [
           0.051270084392557855,
           0.11657735341601613,
           0.2331298167340966,
           0.19430861212435113,
           0.2548590366014636,
           0.11147727179475322,
           0.2150504867189233,
           0.18343324325410337,
           0.29087135363184247,
           0.4501390629368899,
           0.23058534910286727,
           0.17240736178698737,
           0.2528688215877307,
           0.33008248847679467,
           0.2775748472176276,
           0.21278431957697774,
           0.4129696125712229,
           0.3722049617793518,
           0.4764940710925157,
           0.3726959677665894,
           0.46896102336962564,
           0.38571245586342834,
           0.4658692673686439,
           0.3441176725712334,
           0.40718687130188036,
           0.39556116012230996,
           0.4522663109859631,
           0.6839465814421246,
           0.5485918267381077,
           0.45239874890942766,
           0.4558403378161831,
           0.47137092212506326,
           0.5716678733296173,
           0.48780704250351675,
           0.4887131227886663,
           0.47983775415489227,
           0.41058767528239654,
           0.5533822938595737,
           0.4567898212006722,
           0.2610012865464712,
           0.3337154089394558,
           0.23635759666188946,
           0.3978519366825464,
           0.12622759077997572,
           0.22739862750719253,
           0.18685130403044883,
           0.12198955511911948,
           0.13808170336611283,
           0.18645381069476838,
           0.1724793856324624,
           0.17503917169750732,
           0.22144096711358544,
           0.20681308783392005,
           0.46859265350299967,
           0.42832346697168844,
           0.3863190791211075,
           0.3305748525727296,
           0.5056085177597812,
           0.5810654590302453,
           0.6191635847197288,
           1,
           0.5088493927813997,
           0.47340362635616423,
           0.51090656620407,
           0.4362107718925081,
           0.26882791687682367,
           0.18257833790818206,
           0.2441821482710174,
           0.3337563263267726,
           0.397116808397026,
           0.07880300807966155,
           0.1210958699026227
          ],
          [
           0.26910354454855956,
           0.17533115896374937,
           0.25188863170100106,
           0.21758285922984835,
           0.2579309987637228,
           0.15378905168898924,
           0.26469160142419634,
           0.17848971877744607,
           0.26081066107173145,
           0.30926793719772955,
           0.2532312020569726,
           0.21389330653306804,
           0.32988903579390594,
           0.2576375716792168,
           0.3164074770159032,
           0.2223914278336531,
           0.4200357319946585,
           0.40998734672158144,
           0.47842182329508987,
           0.4213677636847192,
           0.40763641135321976,
           0.4243867001127401,
           0.5200288132418159,
           0.39774868942520314,
           0.5069745810567075,
           0.44042876857021335,
           0.5127709646228328,
           0.7211820725877811,
           0.5846503461145187,
           0.585503393480609,
           0.5156729860982764,
           0.4747876360530923,
           0.5023187497029997,
           0.49306906171626014,
           0.4632765345540417,
           0.441983709351345,
           0.4201370012618814,
           0.5099877035756171,
           0.4269905695474487,
           0.2840352998296684,
           0.3802801806316012,
           0.2697282868347013,
           0.40956340497077026,
           0.16465231779701492,
           0.2711722172166939,
           0.20965370912712997,
           0.12239619577660203,
           0.15871215287426607,
           0.18608645264948442,
           0.19279217642265808,
           0.17038447307577534,
           0.1916595333625046,
           0.20244916361479504,
           0.2513366575153661,
           0.35960288057902334,
           0.3086851769254351,
           0.4912132613020716,
           0.3704726462831883,
           0.4161235543273027,
           0.43670624231809196,
           0.5088493927813997,
           1,
           0.4952992132115783,
           0.4315711798138892,
           0.3316820478798281,
           0.24529812329697245,
           0.2409442496434464,
           0.2640956841074403,
           0.35558240290285353,
           0.4324163725309073,
           0.10186983833976068,
           0.27491410588126564
          ],
          [
           0.06562020845142488,
           0.12464840475880562,
           0.19476111395823817,
           0.16524941550715289,
           0.23342202018896718,
           0.13323361759056648,
           0.20417807302816732,
           0.16371341764925113,
           0.21834536305820262,
           0.2718991879928141,
           0.18554799414631776,
           0.1575657658044615,
           0.23889647726395769,
           0.21943223886942495,
           0.2834171858571663,
           0.18528608325138846,
           0.39865084751364116,
           0.41469625273716826,
           0.4593052664049453,
           0.38278446679802314,
           0.32428334038339884,
           0.35768863912518356,
           0.4295293510514054,
           0.33782325443054195,
           0.42753720904174736,
           0.341667623759329,
           0.4806743724146256,
           0.6461957002432054,
           0.4538072308409456,
           0.39350876012241615,
           0.390831285896662,
           0.396611937428155,
           0.3797544659298816,
           0.3841389852175632,
           0.41193479084666157,
           0.38459375236157833,
           0.3479076905472261,
           0.4584737680873847,
           0.38062702538629417,
           0.228635459082434,
           0.3416123811125537,
           0.2261451932781948,
           0.3924841707327193,
           0.13564783344192136,
           0.24893650439600135,
           0.18964410722066302,
           0.10912814029066632,
           0.15417236688032113,
           0.15807720528446678,
           0.1733677393225872,
           0.18389485145281598,
           0.2855561174046261,
           0.1928933759542572,
           0.2564811908215867,
           0.4375928641198853,
           0.30313836093867197,
           0.46683791119243323,
           0.3960350687207137,
           0.4427359105229369,
           0.41713835337419064,
           0.47340362635616423,
           0.4952992132115783,
           1,
           0.5529996184624363,
           0.28788215604361606,
           0.27833129864991674,
           0.29570734761926826,
           0.29777786177175136,
           0.34929812081505546,
           0.4664749902591558,
           0.07931608143154126,
           0.17177166439351174
          ],
          [
           0.05251187864376135,
           0.137332182101713,
           0.22744131249558808,
           0.1851424731729231,
           0.23099515963350098,
           0.14471959668247988,
           0.28683334937906313,
           0.22314642349440295,
           0.22794169079784687,
           0.2678815437044968,
           0.18515762181999268,
           0.1633150891235522,
           0.23799046215726594,
           0.26167136315866624,
           0.4075805807591125,
           0.2817164299595784,
           0.46279348244019775,
           0.4505124083440472,
           0.5122457139543439,
           0.44365722861298745,
           0.4003305233670816,
           0.45324578922106107,
           0.5129089402922267,
           0.3599973919102335,
           0.41306810724349785,
           0.344186676855086,
           0.4545097757860701,
           0.6204587505848808,
           0.4989433265999906,
           0.4354035850528561,
           0.4332974224034117,
           0.42836389461658025,
           0.40303284646641674,
           0.4159227902280932,
           0.4129952594170245,
           0.3836349497196261,
           0.3951043039554696,
           0.5217413572989071,
           0.43139056859015,
           0.2705893977595186,
           0.37449840752551894,
           0.3523980971242057,
           0.42857597080349447,
           0.1532049480829816,
           0.27825123065525437,
           0.22714574494980128,
           0.1575083947397145,
           0.14748159483893544,
           0.14375646116279964,
           0.19822841880668546,
           0.23724143686548688,
           0.27238404770632657,
           0.29176845960214914,
           0.3371789028132386,
           0.3959812095290461,
           0.30596215455767617,
           0.32188698237444185,
           0.4254816205621807,
           0.5224647914617181,
           0.4396969174805779,
           0.51090656620407,
           0.4315711798138892,
           0.5529996184624363,
           1,
           0.34975698294619906,
           0.3641979272592277,
           0.3093342577454168,
           0.4669023691079053,
           0.5020480016945454,
           0.6541064835193057,
           0.08352466262217473,
           0.11588801975913417
          ],
          [
           0.03219180052459565,
           0.05653257696550684,
           0.09207122097662133,
           0.07738253666641631,
           0.13670341112568818,
           0.06185325726879026,
           0.10447382300870173,
           0.08326679357229609,
           0.11626136464085242,
           0.15060630287559948,
           0.09018984055727293,
           0.07568788906604826,
           0.10572746537150632,
           0.11010744048471159,
           0.12372197677278951,
           0.08534030131062309,
           0.17992194043239745,
           0.18655357737863348,
           0.22623046703872196,
           0.18379456945334183,
           0.18131974227176195,
           0.1631141538234592,
           0.20014967342976922,
           0.1563331779340768,
           0.17915784598971113,
           0.16585143561406157,
           0.21528274530780975,
           0.3445871105559576,
           0.3666012238185806,
           0.18875357421344807,
           0.2504347214089307,
           0.18521945655895705,
           0.21002676684812524,
           0.21195555529497817,
           0.2097905927465455,
           0.19763112931839474,
           0.1918463959516777,
           0.2542961700224537,
           0.2051023511894681,
           0.11003563333288344,
           0.14693226576752558,
           0.09904234717199789,
           0.2143227440591992,
           0.09754242104875208,
           0.11061420196059493,
           0.08950478064323791,
           0.04944621170159765,
           0.06567884305459537,
           0.08068930494979638,
           0.08747433073356949,
           0.07793232165687321,
           0.1172030756042603,
           0.11642897861201876,
           0.15215098346674344,
           0.23899383323917858,
           0.1902682365348472,
           0.17855366696303074,
           0.283031356435806,
           0.33060675333299244,
           0.3247422833183378,
           0.4362107718925081,
           0.3316820478798281,
           0.28788215604361606,
           0.34975698294619906,
           1,
           0.2120602285516025,
           0.1502652965495556,
           0.13115399804992048,
           0.1622461212661779,
           0.21334394219417213,
           0.035637504764327164,
           0.061349637224386126
          ],
          [
           0.02611700653804232,
           0.06655667098637617,
           0.10297799256290296,
           0.08179778404170507,
           0.11566368497381391,
           0.0638162341244612,
           0.10182682454668217,
           0.0796291454483423,
           0.12148526104477497,
           0.14667456603744217,
           0.10893847177900975,
           0.07807148910487732,
           0.1035971942449436,
           0.10901524176254168,
           0.16841450316902354,
           0.12025313978859711,
           0.2143062596191336,
           0.22437454756071434,
           0.2578792414179372,
           0.21665814082072476,
           0.18897398638753446,
           0.20599956699250838,
           0.2372456572404984,
           0.1716779830988463,
           0.184407583066538,
           0.16793156667381848,
           0.23610831078964897,
           0.3158602495132584,
           0.33368206678494844,
           0.21060813751075858,
           0.2081793626754737,
           0.2048602454576359,
           0.21093594527083045,
           0.20741080418826197,
           0.20912029203411872,
           0.19791939181189988,
           0.19298011695360306,
           0.24752285830612888,
           0.21366772058126668,
           0.12753074428332473,
           0.1698795267797366,
           0.17954968376697816,
           0.24993590087018092,
           0.06910734729263224,
           0.12243033597487907,
           0.10032117915656955,
           0.07878513265634882,
           0.07041506562216529,
           0.07825303506915623,
           0.0769577188168425,
           0.07675548223837925,
           0.11019558172389471,
           0.08733164570549806,
           0.16160431211329412,
           0.26661974989078135,
           0.18274065442441007,
           0.19683086035982844,
           0.2911237372793159,
           0.42886647243509124,
           0.21913002029470516,
           0.26882791687682367,
           0.24529812329697245,
           0.27833129864991674,
           0.3641979272592277,
           0.2120602285516025,
           1,
           0.09658029739198197,
           0.11148752528029439,
           0.17400110816622594,
           0.21903909543612043,
           0.0393298359466881,
           0.05691769800758698
          ],
          [
           0.0425311669925976,
           0.0705226304326315,
           0.10019877503248079,
           0.08156740172821655,
           0.10577667262153541,
           0.05854172576991783,
           0.14196526509295582,
           0.07096275660469266,
           0.10412155783106268,
           0.11713317327761198,
           0.10711209054827144,
           0.09329254644342327,
           0.1271816302474274,
           0.1071330290880691,
           0.146686047680543,
           0.1214427325084073,
           0.20822565214697303,
           0.25258955945969724,
           0.2242539434240713,
           0.1978433226984017,
           0.2335220817267049,
           0.20360624387673165,
           0.2385710358446132,
           0.1929026382570535,
           0.197341889573638,
           0.17497766484494484,
           0.20945533403654085,
           0.3161933357438214,
           0.2677892198312615,
           0.2435800621345033,
           0.2555444696693668,
           0.2637281547881701,
           0.216454702821836,
           0.2463914600891168,
           0.22854812687268547,
           0.24665528013640314,
           0.26714711527780516,
           0.23864727139875289,
           0.19580009852086688,
           0.13305876363715516,
           0.15711289927429992,
           0.12364158756834373,
           0.2560700454097103,
           0.0764275397818516,
           0.11639596476982125,
           0.08563284340130979,
           0.055288076657657295,
           0.06415900469724398,
           0.06823100320476143,
           0.06746753488070308,
           0.09889785895441454,
           0.07423569533123614,
           0.126173909059681,
           0.09516002261565917,
           0.154962611326437,
           0.24551839641510842,
           0.1429817109505559,
           0.32347500925171646,
           0.2855885194404078,
           0.2520046449756814,
           0.18257833790818206,
           0.2409442496434464,
           0.29570734761926826,
           0.3093342577454168,
           0.1502652965495556,
           0.09658029739198197,
           1,
           0.19992029235018172,
           0.21135146709611607,
           0.26542436438740824,
           0.04589381872400181,
           0.05559565063191206
          ],
          [
           0.034311113315617245,
           0.08097048815835776,
           0.12786561372990804,
           0.12410077024733324,
           0.1210265573156307,
           0.06974959866913619,
           0.20190677678122262,
           0.1551740744766286,
           0.16284704526311472,
           0.1760720974589078,
           0.14978664278198564,
           0.1259319192786236,
           0.15884657540540179,
           0.1430843801670141,
           0.20967665847011846,
           0.16550248309628426,
           0.22368033105343835,
           0.22377355082468084,
           0.24033003748040585,
           0.19057373142857337,
           0.22575717975421805,
           0.257262428449092,
           0.2917024139792949,
           0.20615668081224842,
           0.264535562998639,
           0.2090205413130355,
           0.27171427962381217,
           0.3459361444313263,
           0.27290296363714345,
           0.2729419457513678,
           0.2577908537454449,
           0.26783040754395754,
           0.27151389359924394,
           0.26115602910870717,
           0.25905583074164756,
           0.23489741551571097,
           0.2593480944905402,
           0.2793148113280035,
           0.22794518503083366,
           0.15388353197106444,
           0.20965051840770993,
           0.10934763483145958,
           0.24143514531706445,
           0.09855548034162544,
           0.1842091807160752,
           0.16836744230969647,
           0.05913815094617144,
           0.12009116651631345,
           0.08719131347352134,
           0.2656577544137449,
           0.5044594012851016,
           0.12609851506494363,
           0.18951989365644523,
           0.1416597642762959,
           0.1798488145480632,
           0.13648435365439715,
           0.18944835128765797,
           0.20907476064534028,
           0.24187886038911052,
           0.2106329256235656,
           0.2441821482710174,
           0.2640956841074403,
           0.29777786177175136,
           0.4669023691079053,
           0.13115399804992048,
           0.11148752528029439,
           0.19992029235018172,
           1,
           0.49240527340722184,
           0.7370566126695155,
           0.07704913179071349,
           0.0760014591651169
          ],
          [
           0.03703322798746314,
           0.11945175356845356,
           0.2730291258731613,
           0.20827619972635447,
           0.21221369902100787,
           0.15716072726268293,
           0.22151025044621464,
           0.13159124349244383,
           0.17930340914951073,
           0.2177577271119917,
           0.16500615464145627,
           0.16225579541391705,
           0.24441797207175994,
           0.3224045837967339,
           0.35959686519176176,
           0.2634389816392715,
           0.3499077359737213,
           0.3734045193031204,
           0.42300647369042926,
           0.3740358611844757,
           0.3456992934865496,
           0.40901590294439405,
           0.45928696142348724,
           0.34586277250230246,
           0.41193994129225525,
           0.2933880518460337,
           0.3550804644142776,
           0.48204798192419207,
           0.3710213904675714,
           0.42424630371496636,
           0.34292375289196847,
           0.31741111049165227,
           0.3425379020019579,
           0.39301454892158,
           0.3341920497862022,
           0.32733324818253157,
           0.33327309399177496,
           0.44026276134548176,
           0.38180512352774665,
           0.2313782978301548,
           0.3133809448894386,
           0.29133082706309027,
           0.39924826448567746,
           0.1294749120657499,
           0.2532856742072694,
           0.2079532790004615,
           0.16693272369468584,
           0.12209678141900666,
           0.12704434616640684,
           0.16149103050093153,
           0.21062039274743974,
           0.14959600008603458,
           0.2017261429805664,
           0.1757241227538221,
           0.2347076946356151,
           0.1931330275455245,
           0.22461176772665725,
           0.3045955987613542,
           0.3172567456845561,
           0.25652153904118286,
           0.3337563263267726,
           0.35558240290285353,
           0.34929812081505546,
           0.5020480016945454,
           0.1622461212661779,
           0.17400110816622594,
           0.21135146709611607,
           0.49240527340722184,
           1,
           0.6416082851292472,
           0.06915771279797207,
           0.09332478441775781
          ],
          [
           0.04817839592045242,
           0.15275184471839903,
           0.24264878007471136,
           0.20746138824518662,
           0.2508837819470672,
           0.19172818140447279,
           0.3275505095698676,
           0.2129307990932071,
           0.2639511285523421,
           0.28685208660695405,
           0.21298317132979078,
           0.20570182769453507,
           0.24994418208801508,
           0.262409706754428,
           0.4479792141053074,
           0.2982956117980776,
           0.43543992175534707,
           0.46055619630396294,
           0.5324629393377338,
           0.4555728688434011,
           0.41410152579223725,
           0.48349482049321724,
           0.554838166623803,
           0.3937975037810104,
           0.46552965380242506,
           0.36857994792911186,
           0.4566385127633674,
           0.5997760958958513,
           0.4765231075073645,
           0.5075093035523458,
           0.45307153438551406,
           0.4481534948779518,
           0.45754428004716957,
           0.474877967927982,
           0.4570029715539983,
           0.40670128281015355,
           0.4714436300255056,
           0.5391324031812506,
           0.4621251990337497,
           0.2781480522004316,
           0.4127673843717156,
           0.3285087848079705,
           0.4379291384147293,
           0.17003797838849047,
           0.3177915765506977,
           0.2558079866222115,
           0.14685342762668777,
           0.18776389039646046,
           0.13349138882747774,
           0.439025603743481,
           0.5293314312395776,
           0.23075816029393012,
           0.2492838193375473,
           0.2591925383838901,
           0.32402473629387274,
           0.2634967532641046,
           0.2957367792796429,
           0.3734693585762045,
           0.413653663361202,
           0.35015681979722135,
           0.397116808397026,
           0.4324163725309073,
           0.4664749902591558,
           0.6541064835193057,
           0.21334394219417213,
           0.21903909543612043,
           0.26542436438740824,
           0.7370566126695155,
           0.6416082851292472,
           1,
           0.08605776477082346,
           0.1265285698850582
          ],
          [
           0.011401091201813231,
           0.03664982320530413,
           0.05423603133694009,
           0.050293612647938794,
           0.0391585412356427,
           0.028894866661162,
           0.04856264727718124,
           0.044373777138574384,
           0.05940270590267348,
           0.07291636147326047,
           0.0548468592647066,
           0.04116458652697734,
           0.0841605304905958,
           0.07180877728546847,
           0.07700462614677027,
           0.045701941103395226,
           0.1660458495958522,
           0.09348250706136252,
           0.10325084652388407,
           0.08665626092764735,
           0.09209698401312646,
           0.10718896134115724,
           0.1520420850387716,
           0.0884228141234166,
           0.12025268263238985,
           0.17619000018835682,
           0.14157281630618515,
           0.13082538678523384,
           0.1060581504511696,
           0.12123059153581528,
           0.08917391634932695,
           0.09747693034617598,
           0.10314753630732454,
           0.09617332746120481,
           0.10295434177477214,
           0.09925556717589673,
           0.07661360649861064,
           0.13954792836317023,
           0.08958334465168548,
           0.06973839577243898,
           0.08004537255914612,
           0.1653438341036596,
           0.09550594892231243,
           0.04919889851279803,
           0.060763783506670985,
           0.052765111701638424,
           0.04120993868172511,
           0.027305673808253435,
           0.049128798432961925,
           0.03125238538265405,
           0.03517180221437627,
           0.029798669164295823,
           0.03729200632597131,
           0.038200900386410136,
           0.0587960760830997,
           0.04738961509288575,
           0.23527913067489573,
           0.060435752599585446,
           0.06218703360231172,
           0.06290176136911209,
           0.07880300807966155,
           0.10186983833976068,
           0.07931608143154126,
           0.08352466262217473,
           0.035637504764327164,
           0.0393298359466881,
           0.04589381872400181,
           0.07704913179071349,
           0.06915771279797207,
           0.08605776477082346,
           1,
           0.09711185596602302
          ],
          [
           0.03083862413843961,
           0.040410831630318785,
           0.06687949384625055,
           0.056051519372626105,
           0.07182220586681504,
           0.0390773592052773,
           0.06588903266400264,
           0.052364509785533295,
           0.06904392647751244,
           0.09343987061815982,
           0.058785765854127876,
           0.04858083975193075,
           0.14046997458065705,
           0.07780024365949972,
           0.09037872731949019,
           0.05355346824935055,
           0.17003449126219392,
           0.14403844076905448,
           0.15507532999361814,
           0.12513596308926483,
           0.09738851543596755,
           0.11047119461402179,
           0.15387884395090462,
           0.13119577029091486,
           0.19342683034024508,
           0.18116641489322527,
           0.20205007884426354,
           0.23316130506989186,
           0.12384898659811729,
           0.12333883114561693,
           0.12217841112998655,
           0.12073981632411239,
           0.11407677699647828,
           0.12111971634455337,
           0.15966818349684594,
           0.13237936084130736,
           0.09787093138641452,
           0.15877898265311746,
           0.10951964741010159,
           0.07237458955570766,
           0.10790072158981287,
           0.06862187468580286,
           0.10527743077114446,
           0.04430489351217034,
           0.07904174312582071,
           0.05991572600892187,
           0.04640317533765884,
           0.046028841729536314,
           0.0886077955811679,
           0.04798649155243709,
           0.0503370531495444,
           0.05339541321046872,
           0.048607734912674325,
           0.06451463698193552,
           0.09788872154943548,
           0.09764460678910498,
           0.36783746357396396,
           0.09579777877809093,
           0.10052217770021127,
           0.09811197855740963,
           0.1210958699026227,
           0.27491410588126564,
           0.17177166439351174,
           0.11588801975913417,
           0.061349637224386126,
           0.05691769800758698,
           0.05559565063191206,
           0.0760014591651169,
           0.09332478441775781,
           0.1265285698850582,
           0.09711185596602302,
           1
          ]
         ]
        }
       ],
       "layout": {
        "height": 800,
        "hovermode": "closest",
        "legend": {
         "x": 0.7,
         "y": 0.7
        },
        "paper_bgcolor": "rgba(0,0,0,0)",
        "plot_bgcolor": "rgba(0,0,0,0)",
        "showlegend": false,
        "template": {
         "data": {
          "bar": [
           {
            "error_x": {
             "color": "#2a3f5f"
            },
            "error_y": {
             "color": "#2a3f5f"
            },
            "marker": {
             "line": {
              "color": "#E5ECF6",
              "width": 0.5
             },
             "pattern": {
              "fillmode": "overlay",
              "size": 10,
              "solidity": 0.2
             }
            },
            "type": "bar"
           }
          ],
          "barpolar": [
           {
            "marker": {
             "line": {
              "color": "#E5ECF6",
              "width": 0.5
             },
             "pattern": {
              "fillmode": "overlay",
              "size": 10,
              "solidity": 0.2
             }
            },
            "type": "barpolar"
           }
          ],
          "carpet": [
           {
            "aaxis": {
             "endlinecolor": "#2a3f5f",
             "gridcolor": "white",
             "linecolor": "white",
             "minorgridcolor": "white",
             "startlinecolor": "#2a3f5f"
            },
            "baxis": {
             "endlinecolor": "#2a3f5f",
             "gridcolor": "white",
             "linecolor": "white",
             "minorgridcolor": "white",
             "startlinecolor": "#2a3f5f"
            },
            "type": "carpet"
           }
          ],
          "choropleth": [
           {
            "colorbar": {
             "outlinewidth": 0,
             "ticks": ""
            },
            "type": "choropleth"
           }
          ],
          "contour": [
           {
            "colorbar": {
             "outlinewidth": 0,
             "ticks": ""
            },
            "colorscale": [
             [
              0,
              "#0d0887"
             ],
             [
              0.1111111111111111,
              "#46039f"
             ],
             [
              0.2222222222222222,
              "#7201a8"
             ],
             [
              0.3333333333333333,
              "#9c179e"
             ],
             [
              0.4444444444444444,
              "#bd3786"
             ],
             [
              0.5555555555555556,
              "#d8576b"
             ],
             [
              0.6666666666666666,
              "#ed7953"
             ],
             [
              0.7777777777777778,
              "#fb9f3a"
             ],
             [
              0.8888888888888888,
              "#fdca26"
             ],
             [
              1,
              "#f0f921"
             ]
            ],
            "type": "contour"
           }
          ],
          "contourcarpet": [
           {
            "colorbar": {
             "outlinewidth": 0,
             "ticks": ""
            },
            "type": "contourcarpet"
           }
          ],
          "heatmap": [
           {
            "colorbar": {
             "outlinewidth": 0,
             "ticks": ""
            },
            "colorscale": [
             [
              0,
              "#0d0887"
             ],
             [
              0.1111111111111111,
              "#46039f"
             ],
             [
              0.2222222222222222,
              "#7201a8"
             ],
             [
              0.3333333333333333,
              "#9c179e"
             ],
             [
              0.4444444444444444,
              "#bd3786"
             ],
             [
              0.5555555555555556,
              "#d8576b"
             ],
             [
              0.6666666666666666,
              "#ed7953"
             ],
             [
              0.7777777777777778,
              "#fb9f3a"
             ],
             [
              0.8888888888888888,
              "#fdca26"
             ],
             [
              1,
              "#f0f921"
             ]
            ],
            "type": "heatmap"
           }
          ],
          "heatmapgl": [
           {
            "colorbar": {
             "outlinewidth": 0,
             "ticks": ""
            },
            "colorscale": [
             [
              0,
              "#0d0887"
             ],
             [
              0.1111111111111111,
              "#46039f"
             ],
             [
              0.2222222222222222,
              "#7201a8"
             ],
             [
              0.3333333333333333,
              "#9c179e"
             ],
             [
              0.4444444444444444,
              "#bd3786"
             ],
             [
              0.5555555555555556,
              "#d8576b"
             ],
             [
              0.6666666666666666,
              "#ed7953"
             ],
             [
              0.7777777777777778,
              "#fb9f3a"
             ],
             [
              0.8888888888888888,
              "#fdca26"
             ],
             [
              1,
              "#f0f921"
             ]
            ],
            "type": "heatmapgl"
           }
          ],
          "histogram": [
           {
            "marker": {
             "pattern": {
              "fillmode": "overlay",
              "size": 10,
              "solidity": 0.2
             }
            },
            "type": "histogram"
           }
          ],
          "histogram2d": [
           {
            "colorbar": {
             "outlinewidth": 0,
             "ticks": ""
            },
            "colorscale": [
             [
              0,
              "#0d0887"
             ],
             [
              0.1111111111111111,
              "#46039f"
             ],
             [
              0.2222222222222222,
              "#7201a8"
             ],
             [
              0.3333333333333333,
              "#9c179e"
             ],
             [
              0.4444444444444444,
              "#bd3786"
             ],
             [
              0.5555555555555556,
              "#d8576b"
             ],
             [
              0.6666666666666666,
              "#ed7953"
             ],
             [
              0.7777777777777778,
              "#fb9f3a"
             ],
             [
              0.8888888888888888,
              "#fdca26"
             ],
             [
              1,
              "#f0f921"
             ]
            ],
            "type": "histogram2d"
           }
          ],
          "histogram2dcontour": [
           {
            "colorbar": {
             "outlinewidth": 0,
             "ticks": ""
            },
            "colorscale": [
             [
              0,
              "#0d0887"
             ],
             [
              0.1111111111111111,
              "#46039f"
             ],
             [
              0.2222222222222222,
              "#7201a8"
             ],
             [
              0.3333333333333333,
              "#9c179e"
             ],
             [
              0.4444444444444444,
              "#bd3786"
             ],
             [
              0.5555555555555556,
              "#d8576b"
             ],
             [
              0.6666666666666666,
              "#ed7953"
             ],
             [
              0.7777777777777778,
              "#fb9f3a"
             ],
             [
              0.8888888888888888,
              "#fdca26"
             ],
             [
              1,
              "#f0f921"
             ]
            ],
            "type": "histogram2dcontour"
           }
          ],
          "mesh3d": [
           {
            "colorbar": {
             "outlinewidth": 0,
             "ticks": ""
            },
            "type": "mesh3d"
           }
          ],
          "parcoords": [
           {
            "line": {
             "colorbar": {
              "outlinewidth": 0,
              "ticks": ""
             }
            },
            "type": "parcoords"
           }
          ],
          "pie": [
           {
            "automargin": true,
            "type": "pie"
           }
          ],
          "scatter": [
           {
            "marker": {
             "colorbar": {
              "outlinewidth": 0,
              "ticks": ""
             }
            },
            "type": "scatter"
           }
          ],
          "scatter3d": [
           {
            "line": {
             "colorbar": {
              "outlinewidth": 0,
              "ticks": ""
             }
            },
            "marker": {
             "colorbar": {
              "outlinewidth": 0,
              "ticks": ""
             }
            },
            "type": "scatter3d"
           }
          ],
          "scattercarpet": [
           {
            "marker": {
             "colorbar": {
              "outlinewidth": 0,
              "ticks": ""
             }
            },
            "type": "scattercarpet"
           }
          ],
          "scattergeo": [
           {
            "marker": {
             "colorbar": {
              "outlinewidth": 0,
              "ticks": ""
             }
            },
            "type": "scattergeo"
           }
          ],
          "scattergl": [
           {
            "marker": {
             "colorbar": {
              "outlinewidth": 0,
              "ticks": ""
             }
            },
            "type": "scattergl"
           }
          ],
          "scattermapbox": [
           {
            "marker": {
             "colorbar": {
              "outlinewidth": 0,
              "ticks": ""
             }
            },
            "type": "scattermapbox"
           }
          ],
          "scatterpolar": [
           {
            "marker": {
             "colorbar": {
              "outlinewidth": 0,
              "ticks": ""
             }
            },
            "type": "scatterpolar"
           }
          ],
          "scatterpolargl": [
           {
            "marker": {
             "colorbar": {
              "outlinewidth": 0,
              "ticks": ""
             }
            },
            "type": "scatterpolargl"
           }
          ],
          "scatterternary": [
           {
            "marker": {
             "colorbar": {
              "outlinewidth": 0,
              "ticks": ""
             }
            },
            "type": "scatterternary"
           }
          ],
          "surface": [
           {
            "colorbar": {
             "outlinewidth": 0,
             "ticks": ""
            },
            "colorscale": [
             [
              0,
              "#0d0887"
             ],
             [
              0.1111111111111111,
              "#46039f"
             ],
             [
              0.2222222222222222,
              "#7201a8"
             ],
             [
              0.3333333333333333,
              "#9c179e"
             ],
             [
              0.4444444444444444,
              "#bd3786"
             ],
             [
              0.5555555555555556,
              "#d8576b"
             ],
             [
              0.6666666666666666,
              "#ed7953"
             ],
             [
              0.7777777777777778,
              "#fb9f3a"
             ],
             [
              0.8888888888888888,
              "#fdca26"
             ],
             [
              1,
              "#f0f921"
             ]
            ],
            "type": "surface"
           }
          ],
          "table": [
           {
            "cells": {
             "fill": {
              "color": "#EBF0F8"
             },
             "line": {
              "color": "white"
             }
            },
            "header": {
             "fill": {
              "color": "#C8D4E3"
             },
             "line": {
              "color": "white"
             }
            },
            "type": "table"
           }
          ]
         },
         "layout": {
          "annotationdefaults": {
           "arrowcolor": "#2a3f5f",
           "arrowhead": 0,
           "arrowwidth": 1
          },
          "autotypenumbers": "strict",
          "coloraxis": {
           "colorbar": {
            "outlinewidth": 0,
            "ticks": ""
           }
          },
          "colorscale": {
           "diverging": [
            [
             0,
             "#8e0152"
            ],
            [
             0.1,
             "#c51b7d"
            ],
            [
             0.2,
             "#de77ae"
            ],
            [
             0.3,
             "#f1b6da"
            ],
            [
             0.4,
             "#fde0ef"
            ],
            [
             0.5,
             "#f7f7f7"
            ],
            [
             0.6,
             "#e6f5d0"
            ],
            [
             0.7,
             "#b8e186"
            ],
            [
             0.8,
             "#7fbc41"
            ],
            [
             0.9,
             "#4d9221"
            ],
            [
             1,
             "#276419"
            ]
           ],
           "sequential": [
            [
             0,
             "#0d0887"
            ],
            [
             0.1111111111111111,
             "#46039f"
            ],
            [
             0.2222222222222222,
             "#7201a8"
            ],
            [
             0.3333333333333333,
             "#9c179e"
            ],
            [
             0.4444444444444444,
             "#bd3786"
            ],
            [
             0.5555555555555556,
             "#d8576b"
            ],
            [
             0.6666666666666666,
             "#ed7953"
            ],
            [
             0.7777777777777778,
             "#fb9f3a"
            ],
            [
             0.8888888888888888,
             "#fdca26"
            ],
            [
             1,
             "#f0f921"
            ]
           ],
           "sequentialminus": [
            [
             0,
             "#0d0887"
            ],
            [
             0.1111111111111111,
             "#46039f"
            ],
            [
             0.2222222222222222,
             "#7201a8"
            ],
            [
             0.3333333333333333,
             "#9c179e"
            ],
            [
             0.4444444444444444,
             "#bd3786"
            ],
            [
             0.5555555555555556,
             "#d8576b"
            ],
            [
             0.6666666666666666,
             "#ed7953"
            ],
            [
             0.7777777777777778,
             "#fb9f3a"
            ],
            [
             0.8888888888888888,
             "#fdca26"
            ],
            [
             1,
             "#f0f921"
            ]
           ]
          },
          "colorway": [
           "#636efa",
           "#EF553B",
           "#00cc96",
           "#ab63fa",
           "#FFA15A",
           "#19d3f3",
           "#FF6692",
           "#B6E880",
           "#FF97FF",
           "#FECB52"
          ],
          "font": {
           "color": "#2a3f5f"
          },
          "geo": {
           "bgcolor": "white",
           "lakecolor": "white",
           "landcolor": "#E5ECF6",
           "showlakes": true,
           "showland": true,
           "subunitcolor": "white"
          },
          "hoverlabel": {
           "align": "left"
          },
          "hovermode": "closest",
          "mapbox": {
           "style": "light"
          },
          "paper_bgcolor": "white",
          "plot_bgcolor": "#E5ECF6",
          "polar": {
           "angularaxis": {
            "gridcolor": "white",
            "linecolor": "white",
            "ticks": ""
           },
           "bgcolor": "#E5ECF6",
           "radialaxis": {
            "gridcolor": "white",
            "linecolor": "white",
            "ticks": ""
           }
          },
          "scene": {
           "xaxis": {
            "backgroundcolor": "#E5ECF6",
            "gridcolor": "white",
            "gridwidth": 2,
            "linecolor": "white",
            "showbackground": true,
            "ticks": "",
            "zerolinecolor": "white"
           },
           "yaxis": {
            "backgroundcolor": "#E5ECF6",
            "gridcolor": "white",
            "gridwidth": 2,
            "linecolor": "white",
            "showbackground": true,
            "ticks": "",
            "zerolinecolor": "white"
           },
           "zaxis": {
            "backgroundcolor": "#E5ECF6",
            "gridcolor": "white",
            "gridwidth": 2,
            "linecolor": "white",
            "showbackground": true,
            "ticks": "",
            "zerolinecolor": "white"
           }
          },
          "shapedefaults": {
           "line": {
            "color": "#2a3f5f"
           }
          },
          "ternary": {
           "aaxis": {
            "gridcolor": "white",
            "linecolor": "white",
            "ticks": ""
           },
           "baxis": {
            "gridcolor": "white",
            "linecolor": "white",
            "ticks": ""
           },
           "bgcolor": "#E5ECF6",
           "caxis": {
            "gridcolor": "white",
            "linecolor": "white",
            "ticks": ""
           }
          },
          "title": {
           "x": 0.05
          },
          "xaxis": {
           "automargin": true,
           "gridcolor": "white",
           "linecolor": "white",
           "ticks": "",
           "title": {
            "standoff": 15
           },
           "zerolinecolor": "white",
           "zerolinewidth": 2
          },
          "yaxis": {
           "automargin": true,
           "gridcolor": "white",
           "linecolor": "white",
           "ticks": "",
           "title": {
            "standoff": 15
           },
           "zerolinecolor": "white",
           "zerolinewidth": 2
          }
         }
        },
        "width": 900,
        "xaxis": {
         "anchor": "y",
         "domain": [
          0,
          0.95
         ],
         "fixedrange": false,
         "mirror": false,
         "showgrid": false,
         "showline": false,
         "showticklabels": false,
         "type": "linear",
         "zeroline": false
        },
        "xaxis2": {
         "anchor": "y4",
         "domain": [
          0.000949050949050949,
          0.95
         ],
         "fixedrange": false,
         "mirror": false,
         "scaleanchor": "x5",
         "showgrid": false,
         "showline": false,
         "showticklabels": false,
         "type": "linear",
         "zeroline": false
        },
        "xaxis3": {
         "anchor": "y3",
         "domain": [
          0.75,
          1
         ]
        },
        "xaxis4": {
         "anchor": "y4",
         "domain": [
          0,
          0.000949050949050949
         ],
         "fixedrange": false,
         "mirror": false,
         "showgrid": false,
         "showline": false,
         "showticklabels": false,
         "type": "linear",
         "zeroline": false
        },
        "xaxis5": {
         "anchor": "y5",
         "domain": [
          0.000949050949050949,
          0.95
         ],
         "fixedrange": false,
         "mirror": false,
         "range": [
          0,
          720
         ],
         "showgrid": false,
         "showline": false,
         "showticklabels": true,
         "side": "bottom",
         "tickmode": "array",
         "ticktext": [
          "PurposiveAction",
          "StrategicRetrieval",
          "ExplicitMemory",
          "ImplicitMemory",
          "CoreExecutiveFunction",
          "DualTaskCoordination",
          "FluidIntelligence",
          "Updating",
          "FeedbackLearning",
          "RewardProcessing",
          "ResponseConflict",
          "Switching",
          "LongTermMemory",
          "ProceduralMemory",
          "NonverbalWorkingMemory",
          "VisuospatialWorkingMemory",
          "Perseveration",
          "Fluency",
          "ExecutiveFunction",
          "ProcessingSpeed",
          "CentralExecutive",
          "VerbalWorkingMemory",
          "WorkingMemory",
          "EpisodicMemory",
          "ShortTermMemory",
          "Inhibition",
          "Shifting",
          "Attention",
          "AttentionalControl",
          "SelectiveAttention",
          "ExecutiveAttention",
          "Organization",
          "CogntiveControl",
          "ExecutiveControl",
          "InhibitoryControl",
          "ResponseInhibition",
          "InterferenceControl",
          "CognitiveFlexibility",
          "CognitiveInhibition",
          "VerbalProcessing",
          "VisuospatialProcessing",
          "ContextProcessing",
          "Volition",
          "EpisodicBuffer",
          "PhonologicalLoop",
          "VisuospatialSketchpad",
          "HigherOrderExecutiveFunction",
          "PhonologicalWorkingMemory",
          "MotivationalDrive",
          "AttentionalInertia",
          "RelationalReasoning",
          "Generativity",
          "Creativity",
          "EffortfulControl",
          "BehavioralControl",
          "BehavioralRegulation",
          "Initiation",
          "SelfControl",
          "SelfRegulation",
          "EmotionalControl",
          "EmotionalRegulation",
          "FocusedAttention",
          "Planning",
          "ProblemSolving",
          "Mindfulness",
          "SelfMonitoring",
          "EffectivePerformance",
          "DeductiveReasoning",
          "LogicalReasoning",
          "Reasoning",
          "Binding",
          "Sequencing"
         ],
         "tickvals": [
          5,
          15,
          25,
          35,
          45,
          55,
          65,
          75,
          85,
          95,
          105,
          115,
          125,
          135,
          145,
          155,
          165,
          175,
          185,
          195,
          205,
          215,
          225,
          235,
          245,
          255,
          265,
          275,
          285,
          295,
          305,
          315,
          325,
          335,
          345,
          355,
          365,
          375,
          385,
          395,
          405,
          415,
          425,
          435,
          445,
          455,
          465,
          475,
          485,
          495,
          505,
          515,
          525,
          535,
          545,
          555,
          565,
          575,
          585,
          595,
          605,
          615,
          625,
          635,
          645,
          655,
          665,
          675,
          685,
          695,
          705,
          715
         ],
         "type": "linear",
         "zeroline": false
        },
        "xaxis6": {
         "anchor": "y6",
         "domain": [
          0.95,
          1
         ],
         "fixedrange": false,
         "mirror": false,
         "range": [
          -5,
          1
         ],
         "showgrid": false,
         "showline": false,
         "showticklabels": false,
         "type": "linear",
         "zeroline": false
        },
        "xaxis7": {
         "anchor": "y7",
         "domain": [
          0,
          0.25
         ]
        },
        "xaxis8": {
         "anchor": "y8",
         "domain": [
          0.000949050949050949,
          0.95
         ],
         "fixedrange": false,
         "mirror": false,
         "range": [
          5,
          715
         ],
         "scaleanchor": "x5",
         "scaleratio": 1,
         "showgrid": false,
         "showline": false,
         "showticklabels": false,
         "type": "linear",
         "zeroline": false
        },
        "xaxis9": {
         "anchor": "y9",
         "domain": [
          0.75,
          1
         ]
        },
        "yaxis": {
         "anchor": "x",
         "domain": [
          0.999050949050949,
          1
         ],
         "fixedrange": false,
         "mirror": false,
         "showgrid": false,
         "showline": false,
         "showticklabels": false,
         "type": "linear",
         "zeroline": false
        },
        "yaxis2": {
         "anchor": "x2",
         "domain": [
          0.999050949050949,
          1
         ],
         "fixedrange": false,
         "mirror": false,
         "range": [
          0,
          0.7808072008740247
         ],
         "showgrid": false,
         "showline": false,
         "showticklabels": false,
         "type": "linear",
         "zeroline": false
        },
        "yaxis3": {
         "anchor": "x3",
         "domain": [
          0.75,
          1
         ]
        },
        "yaxis4": {
         "anchor": "x4",
         "domain": [
          0,
          0.999050949050949
         ],
         "fixedrange": false,
         "mirror": false,
         "range": [
          5,
          715
         ],
         "scaleanchor": "y5",
         "showgrid": false,
         "showline": false,
         "showticklabels": false,
         "type": "linear",
         "zeroline": false
        },
        "yaxis5": {
         "anchor": "x5",
         "domain": [
          0,
          0.999050949050949
         ],
         "fixedrange": false,
         "mirror": false,
         "showgrid": false,
         "showline": false,
         "showticklabels": true,
         "side": "right",
         "tickmode": "array",
         "ticktext": [
          "PurposiveAction",
          "StrategicRetrieval",
          "ExplicitMemory",
          "ImplicitMemory",
          "CoreExecutiveFunction",
          "DualTaskCoordination",
          "FluidIntelligence",
          "Updating",
          "FeedbackLearning",
          "RewardProcessing",
          "ResponseConflict",
          "Switching",
          "LongTermMemory",
          "ProceduralMemory",
          "NonverbalWorkingMemory",
          "VisuospatialWorkingMemory",
          "Perseveration",
          "Fluency",
          "ExecutiveFunction",
          "ProcessingSpeed",
          "CentralExecutive",
          "VerbalWorkingMemory",
          "WorkingMemory",
          "EpisodicMemory",
          "ShortTermMemory",
          "Inhibition",
          "Shifting",
          "Attention",
          "AttentionalControl",
          "SelectiveAttention",
          "ExecutiveAttention",
          "Organization",
          "CogntiveControl",
          "ExecutiveControl",
          "InhibitoryControl",
          "ResponseInhibition",
          "InterferenceControl",
          "CognitiveFlexibility",
          "CognitiveInhibition",
          "VerbalProcessing",
          "VisuospatialProcessing",
          "ContextProcessing",
          "Volition",
          "EpisodicBuffer",
          "PhonologicalLoop",
          "VisuospatialSketchpad",
          "HigherOrderExecutiveFunction",
          "PhonologicalWorkingMemory",
          "MotivationalDrive",
          "AttentionalInertia",
          "RelationalReasoning",
          "Generativity",
          "Creativity",
          "EffortfulControl",
          "BehavioralControl",
          "BehavioralRegulation",
          "Initiation",
          "SelfControl",
          "SelfRegulation",
          "EmotionalControl",
          "EmotionalRegulation",
          "FocusedAttention",
          "Planning",
          "ProblemSolving",
          "Mindfulness",
          "SelfMonitoring",
          "EffectivePerformance",
          "DeductiveReasoning",
          "LogicalReasoning",
          "Reasoning",
          "Binding",
          "Sequencing"
         ],
         "tickvals": [
          5,
          15,
          25,
          35,
          45,
          55,
          65,
          75,
          85,
          95,
          105,
          115,
          125,
          135,
          145,
          155,
          165,
          175,
          185,
          195,
          205,
          215,
          225,
          235,
          245,
          255,
          265,
          275,
          285,
          295,
          305,
          315,
          325,
          335,
          345,
          355,
          365,
          375,
          385,
          395,
          405,
          415,
          425,
          435,
          445,
          455,
          465,
          475,
          485,
          495,
          505,
          515,
          525,
          535,
          545,
          555,
          565,
          575,
          585,
          595,
          605,
          615,
          625,
          635,
          645,
          655,
          665,
          675,
          685,
          695,
          705,
          715
         ],
         "type": "linear",
         "zeroline": false
        },
        "yaxis6": {
         "anchor": "x6",
         "domain": [
          0,
          0.949050949050949
         ],
         "fixedrange": false,
         "mirror": false,
         "range": [
          5,
          715
         ],
         "scaleanchor": "y5",
         "scaleratio": 1,
         "showgrid": false,
         "showline": false,
         "showticklabels": false,
         "type": "linear",
         "zeroline": false
        },
        "yaxis7": {
         "anchor": "x7",
         "domain": [
          0,
          0.25
         ]
        },
        "yaxis8": {
         "anchor": "x8",
         "domain": [
          0.949050949050949,
          0.999050949050949
         ],
         "fixedrange": false,
         "mirror": false,
         "range": [
          -0.5,
          0.5
         ],
         "showgrid": false,
         "showline": false,
         "showticklabels": false,
         "type": "linear",
         "zeroline": false
        },
        "yaxis9": {
         "anchor": "x9",
         "domain": [
          0,
          0.25
         ]
        }
       }
      }
     },
     "metadata": {},
     "output_type": "display_data"
    }
   ],
   "source": [
    "plot_data = sim.droplevel(0).droplevel(0,1).drop(index=tasks, columns=tasks, errors='ignore')\n",
    "\n",
    "dashbio.Clustergram(\n",
    "  data=plot_data,\n",
    "  column_labels=plot_data.columns.to_list(),\n",
    "  row_labels=plot_data.index.to_list(),\n",
    "  cluster='all',\n",
    "  center_values=False,\n",
    "  height=800,\n",
    "  width=900,\n",
    "  display_ratio=[0.001, 0.001],\n",
    "  color_map='turbo',\n",
    "  # hidden_labels=['col'],\n",
    "  row_dist='cosine',\n",
    "  col_dist='cosine',\n",
    "  # standardize='col'\n",
    ")\n"
   ]
  },
  {
   "cell_type": "code",
   "execution_count": 96,
   "metadata": {},
   "outputs": [
    {
     "name": "stdout",
     "output_type": "stream",
     "text": [
      "StellarGraph: Undirected multigraph\n",
      " Nodes: 140, Edges: 2788\n",
      "\n",
      " Node types:\n",
      "  task: [76]\n",
      "    Features: float32 vector, length 509\n",
      "    Edge types: task-default->construct\n",
      "  construct: [64]\n",
      "    Features: float32 vector, length 509\n",
      "    Edge types: construct-default->task\n",
      "\n",
      " Edge types:\n",
      "    construct-default->task: [2788]\n",
      "        Weights: range=[0.297252, 0.960602], mean=0.443031, std=0.117672\n",
      "        Features: none\n"
     ]
    }
   ],
   "source": [
    "# create a graph\n",
    "\n",
    "import stellargraph as sg\n",
    "from stellargraph.data import UniformRandomMetaPathWalk\n",
    "\n",
    "sim.columns.name = 'source'\n",
    "sim.index.name = 'target'\n",
    "\n",
    "# keep = np.triu(np.ones(sim.shape)).astype('bool').reshape(sim.size)\n",
    "adj = sim.droplevel(0).droplevel(0,1).stack()\n",
    "adj.index.names = ['source', 'target']\n",
    "adj = adj.to_frame().rename(columns={0:'weight'}).reset_index()\n",
    "\n",
    "adj = adj.query('target != source')\n",
    "\n",
    "# remove low-weighted edges\n",
    "edges = adj.query('weight >= weight.median() + weight.std()')\n",
    "\n",
    "\n",
    "tasks = node_features.apply(pd.Series).query('category == \"CognitiveTask\"').reset_index(0,drop=True)\n",
    "constructs = node_features.apply(pd.Series).query('category == \"CognitiveConstruct\"').reset_index(0,drop=True)\n",
    "\n",
    "\n",
    "# We are interested indirect task-construct links, so we need to\n",
    "# filter out edges within the nodes of the same type.\n",
    "edges['source_type'] = edges['source'].apply(lambda x: 'task' if x in tasks.index else 'construct')\n",
    "edges['target_type'] = edges['target'].apply(lambda x: 'task' if x in tasks.index else 'construct')\n",
    "edges = edges.query('source_type != target_type')\n",
    "\n",
    "G = sg.StellarGraph(\n",
    "  nodes = {'task': tasks,\n",
    "           'construct': constructs},\n",
    "  edges=edges[['source', 'target', 'weight']])\n",
    "\n",
    "# recreate the graph with connected nodes only\n",
    "connected_nodes = list(G.connected_components())[0]\n",
    "\n",
    "G = sg.StellarGraph(\n",
    "  nodes = {'task': tasks.query('index in @connected_nodes'),\n",
    "           'construct': constructs.query('index in @connected_nodes')},\n",
    "  edges=edges.query('source in @connected_nodes or target in @connected_nodes')[['source', 'target', 'weight']])\n",
    "\n",
    "print(G.info())"
   ]
  },
  {
   "cell_type": "markdown",
   "metadata": {},
   "source": [
    "Now we use Metapath2Vec for the graph embedding."
   ]
  },
  {
   "cell_type": "code",
   "execution_count": 97,
   "metadata": {},
   "outputs": [
    {
     "name": "stdout",
     "output_type": "stream",
     "text": [
      "Generated 1000 random walks.\n"
     ]
    }
   ],
   "source": [
    "# %pip install csrgraph\n",
    "\n",
    "\n",
    "import networkx as nx\n",
    "import csrgraph as cg\n",
    "\n",
    "def weighted_metapath_random_walk(graph,\n",
    "                                  walk_length:int,\n",
    "                                  n_walks:int,\n",
    "                                  metapaths:list[str]):\n",
    "\n",
    "  _g = cg.csrgraph(graph)\n",
    "  \n",
    "  walk_patterns = [mp[:-1] * (walk_length // (len(mp) - 1)) + mp[-1:0]\n",
    "                   for mp in metapaths]\n",
    "  \n",
    "  valid_walks = []\n",
    "  \n",
    "  node_labels = np.array(graph.nodes())\n",
    "  \n",
    "  max_iter = 10000\n",
    "  iter = 0\n",
    "\n",
    "  while iter < max_iter:\n",
    "    iter += 1\n",
    "    walks = _g.random_walks(walk_length, n_walks, start_nodes=None)\n",
    "    types = [[graph.nodes[node_labels[node]]['type'] for node in walk]\n",
    "              for walk in walks]\n",
    "    walks = [node_labels[walks[i]]\n",
    "             for i,t in enumerate(types)\n",
    "             if t in walk_patterns #and len(set(walks[i])) == len(walks[i])  # no loop\n",
    "            ]\n",
    "    valid_walks.extend(walks)\n",
    "    valid_walks = pd.DataFrame(walks).drop_duplicates().values.tolist()\n",
    "\n",
    "    if len(valid_walks) >= n_walks:\n",
    "      return np.vstack(valid_walks[:n_walks]).tolist()\n",
    "\n",
    "  return np.vstack(valid_walks).tolist()\n",
    "\n",
    "\n",
    "metapaths = [\n",
    "    ['task', 'construct', 'task'],\n",
    "    ['construct', 'task', 'construct'],\n",
    "]\n",
    "\n",
    "walks = weighted_metapath_random_walk(G.to_networkx(node_type_attr='type'),\n",
    "                                      walk_length=100,\n",
    "                                      n_walks=1000,\n",
    "                                      metapaths=metapaths)\n",
    "\n",
    "print(f'Generated {len(walks)} random walks.')\n"
   ]
  },
  {
   "cell_type": "code",
   "execution_count": 140,
   "metadata": {},
   "outputs": [
    {
     "data": {
      "text/plain": [
       "[('LNS_-_Letter_Number_Sequencing', 0.5849911570549011),\n",
       " ('NBackTask', 0.5571386814117432),\n",
       " ('Verbal_fluency_task', 0.5498847961425781),\n",
       " ('Semantic_Fluency_test', 0.54936683177948),\n",
       " ('ContiniousPerformanceTask', 0.5465055108070374),\n",
       " ('Digit_Span', 0.5300901532173157),\n",
       " ('SimpleRT', 0.5285316109657288),\n",
       " ('RNG_-_Random_Number_Generation_task', 0.5265634059906006),\n",
       " ('Hayling_test', 0.47788915038108826),\n",
       " ('WCST_-_Wisconsin_Card_Sort_Test', 0.47529807686805725)]"
      ]
     },
     "execution_count": 140,
     "metadata": {},
     "output_type": "execute_result"
    }
   ],
   "source": [
    "from gensim.models import Word2Vec\n",
    "model = Word2Vec(walks, vector_size=128, min_count=0, window=7, sg=1, workers=1, epochs=100)\n",
    "\n",
    "model.save('models/gpt3/abstracts_metapath2vec.pkl')\n",
    "\n",
    "# query the model\n",
    "model.wv.most_similar('TMT_-_Trail_Making_Task')"
   ]
  },
  {
   "cell_type": "code",
   "execution_count": 128,
   "metadata": {},
   "outputs": [
    {
     "data": {
      "application/vnd.plotly.v1+json": {
       "config": {
        "plotlyServerURL": "https://plot.ly"
       },
       "data": [
        {
         "hoverinfo": "y+name",
         "line": {
          "width": 0.5
         },
         "marker": {
          "color": "rgb(0,116,217)"
         },
         "mode": "lines",
         "name": "Col Cluster 0",
         "type": "scatter",
         "x": [
          40.625,
          40.625,
          366.1328125,
          366.1328125
         ],
         "xaxis": "x2",
         "y": [
          1.989401349385293,
          2.6645508316039206,
          2.6645508316039206,
          2.355482730418186
         ],
         "yaxis": "y2"
        },
        {
         "hoverinfo": "y+name",
         "line": {
          "width": 0.5
         },
         "marker": {
          "color": "rgb(0,116,217)"
         },
         "mode": "lines",
         "name": "Col Cluster 1",
         "type": "scatter",
         "x": [
          5,
          5,
          20,
          20
         ],
         "xaxis": "x2",
         "y": [
          0,
          1.1830380374705216,
          1.1830380374705216,
          0.9812437786102175
         ],
         "yaxis": "y2"
        },
        {
         "hoverinfo": "y+name",
         "line": {
          "width": 0.5
         },
         "marker": {
          "color": "rgb(0,116,217)"
         },
         "mode": "lines",
         "name": "Col Cluster 2",
         "type": "scatter",
         "x": [
          12.5,
          12.5,
          68.75,
          68.75
         ],
         "xaxis": "x2",
         "y": [
          1.1830380374705216,
          1.989401349385293,
          1.989401349385293,
          1.8824117496286348
         ],
         "yaxis": "y2"
        },
        {
         "hoverinfo": "y+name",
         "line": {
          "width": 0.5
         },
         "marker": {
          "color": "rgb(0,116,217)"
         },
         "mode": "lines",
         "name": "Col Cluster 3",
         "type": "scatter",
         "x": [
          15,
          15,
          25,
          25
         ],
         "xaxis": "x2",
         "y": [
          0,
          0.9812437786102175,
          0.9812437786102175,
          0
         ],
         "yaxis": "y2"
        },
        {
         "hoverinfo": "y+name",
         "line": {
          "width": 0.5
         },
         "marker": {
          "color": "rgb(0,116,217)"
         },
         "mode": "lines",
         "name": "Col Cluster 4",
         "type": "scatter",
         "x": [
          35,
          35,
          50,
          50
         ],
         "xaxis": "x2",
         "y": [
          0,
          1.4338805929867335,
          1.4338805929867335,
          1.2191076044218507
         ],
         "yaxis": "y2"
        },
        {
         "hoverinfo": "y+name",
         "line": {
          "width": 0.5
         },
         "marker": {
          "color": "rgb(0,116,217)"
         },
         "mode": "lines",
         "name": "Col Cluster 5",
         "type": "scatter",
         "x": [
          42.5,
          42.5,
          95,
          95
         ],
         "xaxis": "x2",
         "y": [
          1.4338805929867335,
          1.8824117496286348,
          1.8824117496286348,
          1.74474925658886
         ],
         "yaxis": "y2"
        },
        {
         "hoverinfo": "y+name",
         "line": {
          "width": 0.5
         },
         "marker": {
          "color": "rgb(0,116,217)"
         },
         "mode": "lines",
         "name": "Col Cluster 6",
         "type": "scatter",
         "x": [
          45,
          45,
          55,
          55
         ],
         "xaxis": "x2",
         "y": [
          0,
          1.2191076044218507,
          1.2191076044218507,
          0
         ],
         "yaxis": "y2"
        },
        {
         "hoverinfo": "y+name",
         "line": {
          "width": 0.5
         },
         "marker": {
          "color": "rgb(0,116,217)"
         },
         "mode": "lines",
         "name": "Col Cluster 7",
         "type": "scatter",
         "x": [
          65,
          65,
          80,
          80
         ],
         "xaxis": "x2",
         "y": [
          0,
          1.2476766885110766,
          1.2476766885110766,
          0.8917561494705761
         ],
         "yaxis": "y2"
        },
        {
         "hoverinfo": "y+name",
         "line": {
          "width": 0.5
         },
         "marker": {
          "color": "rgb(0,116,217)"
         },
         "mode": "lines",
         "name": "Col Cluster 8",
         "type": "scatter",
         "x": [
          72.5,
          72.5,
          117.5,
          117.5
         ],
         "xaxis": "x2",
         "y": [
          1.2476766885110766,
          1.74474925658886,
          1.74474925658886,
          1.6486351803827262
         ],
         "yaxis": "y2"
        },
        {
         "hoverinfo": "y+name",
         "line": {
          "width": 0.5
         },
         "marker": {
          "color": "rgb(0,116,217)"
         },
         "mode": "lines",
         "name": "Col Cluster 9",
         "type": "scatter",
         "x": [
          75,
          75,
          85,
          85
         ],
         "xaxis": "x2",
         "y": [
          0,
          0.8917561494705761,
          0.8917561494705761,
          0
         ],
         "yaxis": "y2"
        },
        {
         "hoverinfo": "y+name",
         "line": {
          "width": 0.5
         },
         "marker": {
          "color": "rgb(0,116,217)"
         },
         "mode": "lines",
         "name": "Col Cluster 10",
         "type": "scatter",
         "x": [
          95,
          95,
          110,
          110
         ],
         "xaxis": "x2",
         "y": [
          0,
          1.3987841364208518,
          1.3987841364208518,
          1.0683253925258103
         ],
         "yaxis": "y2"
        },
        {
         "hoverinfo": "y+name",
         "line": {
          "width": 0.5
         },
         "marker": {
          "color": "rgb(0,116,217)"
         },
         "mode": "lines",
         "name": "Col Cluster 11",
         "type": "scatter",
         "x": [
          102.5,
          102.5,
          132.5,
          132.5
         ],
         "xaxis": "x2",
         "y": [
          1.3987841364208518,
          1.6486351803827262,
          1.6486351803827262,
          1.4952997566436586
         ],
         "yaxis": "y2"
        },
        {
         "hoverinfo": "y+name",
         "line": {
          "width": 0.5
         },
         "marker": {
          "color": "rgb(0,116,217)"
         },
         "mode": "lines",
         "name": "Col Cluster 12",
         "type": "scatter",
         "x": [
          105,
          105,
          115,
          115
         ],
         "xaxis": "x2",
         "y": [
          0,
          1.0683253925258103,
          1.0683253925258103,
          0
         ],
         "yaxis": "y2"
        },
        {
         "hoverinfo": "y+name",
         "line": {
          "width": 0.5
         },
         "marker": {
          "color": "rgb(0,116,217)"
         },
         "mode": "lines",
         "name": "Col Cluster 13",
         "type": "scatter",
         "x": [
          125,
          125,
          140,
          140
         ],
         "xaxis": "x2",
         "y": [
          0,
          1.4952997566436586,
          1.4952997566436586,
          1.267300306427101
         ],
         "yaxis": "y2"
        },
        {
         "hoverinfo": "y+name",
         "line": {
          "width": 0.5
         },
         "marker": {
          "color": "rgb(0,116,217)"
         },
         "mode": "lines",
         "name": "Col Cluster 14",
         "type": "scatter",
         "x": [
          135,
          135,
          145,
          145
         ],
         "xaxis": "x2",
         "y": [
          0,
          1.267300306427101,
          1.267300306427101,
          0
         ],
         "yaxis": "y2"
        },
        {
         "hoverinfo": "y+name",
         "line": {
          "width": 0.5
         },
         "marker": {
          "color": "rgb(0,116,217)"
         },
         "mode": "lines",
         "name": "Col Cluster 15",
         "type": "scatter",
         "x": [
          155,
          155,
          170,
          170
         ],
         "xaxis": "x2",
         "y": [
          0,
          1.1426219012758372,
          1.1426219012758372,
          0.941302595628223
         ],
         "yaxis": "y2"
        },
        {
         "hoverinfo": "y+name",
         "line": {
          "width": 0.5
         },
         "marker": {
          "color": "rgb(0,116,217)"
         },
         "mode": "lines",
         "name": "Col Cluster 16",
         "type": "scatter",
         "x": [
          162.5,
          162.5,
          200,
          200
         ],
         "xaxis": "x2",
         "y": [
          1.1426219012758372,
          1.2792027522035863,
          1.2792027522035863,
          1.1440914265198021
         ],
         "yaxis": "y2"
        },
        {
         "hoverinfo": "y+name",
         "line": {
          "width": 0.5
         },
         "marker": {
          "color": "rgb(0,116,217)"
         },
         "mode": "lines",
         "name": "Col Cluster 17",
         "type": "scatter",
         "x": [
          165,
          165,
          175,
          175
         ],
         "xaxis": "x2",
         "y": [
          0,
          0.941302595628223,
          0.941302595628223,
          0
         ],
         "yaxis": "y2"
        },
        {
         "hoverinfo": "y+name",
         "line": {
          "width": 0.5
         },
         "marker": {
          "color": "rgb(0,116,217)"
         },
         "mode": "lines",
         "name": "Col Cluster 18",
         "type": "scatter",
         "x": [
          181.25,
          181.25,
          285.3125,
          285.3125
         ],
         "xaxis": "x2",
         "y": [
          1.2792027522035863,
          1.4932900851169935,
          1.4932900851169935,
          1.4075915467478974
         ],
         "yaxis": "y2"
        },
        {
         "hoverinfo": "y+name",
         "line": {
          "width": 0.5
         },
         "marker": {
          "color": "rgb(0,116,217)"
         },
         "mode": "lines",
         "name": "Col Cluster 19",
         "type": "scatter",
         "x": [
          185,
          185,
          195,
          195
         ],
         "xaxis": "x2",
         "y": [
          0,
          0.9625350549499496,
          0.9625350549499496,
          0
         ],
         "yaxis": "y2"
        },
        {
         "hoverinfo": "y+name",
         "line": {
          "width": 0.5
         },
         "marker": {
          "color": "rgb(0,116,217)"
         },
         "mode": "lines",
         "name": "Col Cluster 20",
         "type": "scatter",
         "x": [
          190,
          190,
          210,
          210
         ],
         "xaxis": "x2",
         "y": [
          0.9625350549499496,
          1.1440914265198021,
          1.1440914265198021,
          0.9909744164440552
         ],
         "yaxis": "y2"
        },
        {
         "hoverinfo": "y+name",
         "line": {
          "width": 0.5
         },
         "marker": {
          "color": "rgb(0,116,217)"
         },
         "mode": "lines",
         "name": "Col Cluster 21",
         "type": "scatter",
         "x": [
          205,
          205,
          215,
          215
         ],
         "xaxis": "x2",
         "y": [
          0,
          0.9909744164440552,
          0.9909744164440552,
          0
         ],
         "yaxis": "y2"
        },
        {
         "hoverinfo": "y+name",
         "line": {
          "width": 0.5
         },
         "marker": {
          "color": "rgb(0,116,217)"
         },
         "mode": "lines",
         "name": "Col Cluster 22",
         "type": "scatter",
         "x": [
          225,
          225,
          235,
          235
         ],
         "xaxis": "x2",
         "y": [
          0,
          0.9023452462323875,
          0.9023452462323875,
          0
         ],
         "yaxis": "y2"
        },
        {
         "hoverinfo": "y+name",
         "line": {
          "width": 0.5
         },
         "marker": {
          "color": "rgb(0,116,217)"
         },
         "mode": "lines",
         "name": "Col Cluster 23",
         "type": "scatter",
         "x": [
          230,
          230,
          252.5,
          252.5
         ],
         "xaxis": "x2",
         "y": [
          0.9023452462323875,
          1.1330724339261693,
          1.1330724339261693,
          0.9798253468134915
         ],
         "yaxis": "y2"
        },
        {
         "hoverinfo": "y+name",
         "line": {
          "width": 0.5
         },
         "marker": {
          "color": "rgb(0,116,217)"
         },
         "mode": "lines",
         "name": "Col Cluster 24",
         "type": "scatter",
         "x": [
          233.28125,
          233.28125,
          498.984375,
          498.984375
         ],
         "xaxis": "x2",
         "y": [
          1.4932900851169935,
          2.355482730418186,
          2.355482730418186,
          2.0987903612489087
         ],
         "yaxis": "y2"
        },
        {
         "hoverinfo": "y+name",
         "line": {
          "width": 0.5
         },
         "marker": {
          "color": "rgb(0,116,217)"
         },
         "mode": "lines",
         "name": "Col Cluster 25",
         "type": "scatter",
         "x": [
          241.25,
          241.25,
          329.375,
          329.375
         ],
         "xaxis": "x2",
         "y": [
          1.1330724339261693,
          1.4075915467478974,
          1.4075915467478974,
          1.3989532416812298
         ],
         "yaxis": "y2"
        },
        {
         "hoverinfo": "y+name",
         "line": {
          "width": 0.5
         },
         "marker": {
          "color": "rgb(0,116,217)"
         },
         "mode": "lines",
         "name": "Col Cluster 26",
         "type": "scatter",
         "x": [
          245,
          245,
          260,
          260
         ],
         "xaxis": "x2",
         "y": [
          0,
          0.9798253468134915,
          0.9798253468134915,
          0.831323923426114
         ],
         "yaxis": "y2"
        },
        {
         "hoverinfo": "y+name",
         "line": {
          "width": 0.5
         },
         "marker": {
          "color": "rgb(0,116,217)"
         },
         "mode": "lines",
         "name": "Col Cluster 27",
         "type": "scatter",
         "x": [
          255,
          255,
          265,
          265
         ],
         "xaxis": "x2",
         "y": [
          0,
          0.831323923426114,
          0.831323923426114,
          0
         ],
         "yaxis": "y2"
        },
        {
         "hoverinfo": "y+name",
         "line": {
          "width": 0.5
         },
         "marker": {
          "color": "rgb(0,116,217)"
         },
         "mode": "lines",
         "name": "Col Cluster 28",
         "type": "scatter",
         "x": [
          275,
          275,
          285,
          285
         ],
         "xaxis": "x2",
         "y": [
          0,
          0.7607030147093224,
          0.7607030147093224,
          0
         ],
         "yaxis": "y2"
        },
        {
         "hoverinfo": "y+name",
         "line": {
          "width": 0.5
         },
         "marker": {
          "color": "rgb(0,116,217)"
         },
         "mode": "lines",
         "name": "Col Cluster 29",
         "type": "scatter",
         "x": [
          280,
          280,
          307.5,
          307.5
         ],
         "xaxis": "x2",
         "y": [
          0.7607030147093224,
          1.19043215227915,
          1.19043215227915,
          1.1811127699636765
         ],
         "yaxis": "y2"
        },
        {
         "hoverinfo": "y+name",
         "line": {
          "width": 0.5
         },
         "marker": {
          "color": "rgb(0,116,217)"
         },
         "mode": "lines",
         "name": "Col Cluster 30",
         "type": "scatter",
         "x": [
          293.75,
          293.75,
          365,
          365
         ],
         "xaxis": "x2",
         "y": [
          1.19043215227915,
          1.3989532416812298,
          1.3989532416812298,
          1.206406639990884
         ],
         "yaxis": "y2"
        },
        {
         "hoverinfo": "y+name",
         "line": {
          "width": 0.5
         },
         "marker": {
          "color": "rgb(0,116,217)"
         },
         "mode": "lines",
         "name": "Col Cluster 31",
         "type": "scatter",
         "x": [
          295,
          295,
          320,
          320
         ],
         "xaxis": "x2",
         "y": [
          0,
          1.1811127699636765,
          1.1811127699636765,
          0.9809517879384625
         ],
         "yaxis": "y2"
        },
        {
         "hoverinfo": "y+name",
         "line": {
          "width": 0.5
         },
         "marker": {
          "color": "rgb(0,116,217)"
         },
         "mode": "lines",
         "name": "Col Cluster 32",
         "type": "scatter",
         "x": [
          305,
          305,
          315,
          315
         ],
         "xaxis": "x2",
         "y": [
          0,
          0.8232193803602097,
          0.8232193803602097,
          0
         ],
         "yaxis": "y2"
        },
        {
         "hoverinfo": "y+name",
         "line": {
          "width": 0.5
         },
         "marker": {
          "color": "rgb(0,116,217)"
         },
         "mode": "lines",
         "name": "Col Cluster 33",
         "type": "scatter",
         "x": [
          310,
          310,
          330,
          330
         ],
         "xaxis": "x2",
         "y": [
          0.8232193803602097,
          0.9809517879384625,
          0.9809517879384625,
          0.8768958257844254
         ],
         "yaxis": "y2"
        },
        {
         "hoverinfo": "y+name",
         "line": {
          "width": 0.5
         },
         "marker": {
          "color": "rgb(0,116,217)"
         },
         "mode": "lines",
         "name": "Col Cluster 34",
         "type": "scatter",
         "x": [
          325,
          325,
          335,
          335
         ],
         "xaxis": "x2",
         "y": [
          0,
          0.8768958257844254,
          0.8768958257844254,
          0
         ],
         "yaxis": "y2"
        },
        {
         "hoverinfo": "y+name",
         "line": {
          "width": 0.5
         },
         "marker": {
          "color": "rgb(0,116,217)"
         },
         "mode": "lines",
         "name": "Col Cluster 35",
         "type": "scatter",
         "x": [
          345,
          345,
          355,
          355
         ],
         "xaxis": "x2",
         "y": [
          0,
          1.1219692838969049,
          1.1219692838969049,
          0
         ],
         "yaxis": "y2"
        },
        {
         "hoverinfo": "y+name",
         "line": {
          "width": 0.5
         },
         "marker": {
          "color": "rgb(0,116,217)"
         },
         "mode": "lines",
         "name": "Col Cluster 36",
         "type": "scatter",
         "x": [
          350,
          350,
          380,
          380
         ],
         "xaxis": "x2",
         "y": [
          1.1219692838969049,
          1.206406639990884,
          1.206406639990884,
          1.1934742433849965
         ],
         "yaxis": "y2"
        },
        {
         "hoverinfo": "y+name",
         "line": {
          "width": 0.5
         },
         "marker": {
          "color": "rgb(0,116,217)"
         },
         "mode": "lines",
         "name": "Col Cluster 37",
         "type": "scatter",
         "x": [
          365,
          365,
          375,
          375
         ],
         "xaxis": "x2",
         "y": [
          0,
          0.7937671944242942,
          0.7937671944242942,
          0
         ],
         "yaxis": "y2"
        },
        {
         "hoverinfo": "y+name",
         "line": {
          "width": 0.5
         },
         "marker": {
          "color": "rgb(0,116,217)"
         },
         "mode": "lines",
         "name": "Col Cluster 38",
         "type": "scatter",
         "x": [
          370,
          370,
          390,
          390
         ],
         "xaxis": "x2",
         "y": [
          0.7937671944242942,
          1.1934742433849965,
          1.1934742433849965,
          0.9163136771653971
         ],
         "yaxis": "y2"
        },
        {
         "hoverinfo": "y+name",
         "line": {
          "width": 0.5
         },
         "marker": {
          "color": "rgb(0,116,217)"
         },
         "mode": "lines",
         "name": "Col Cluster 39",
         "type": "scatter",
         "x": [
          385,
          385,
          395,
          395
         ],
         "xaxis": "x2",
         "y": [
          0,
          0.9163136771653971,
          0.9163136771653971,
          0
         ],
         "yaxis": "y2"
        },
        {
         "hoverinfo": "y+name",
         "line": {
          "width": 0.5
         },
         "marker": {
          "color": "rgb(0,116,217)"
         },
         "mode": "lines",
         "name": "Col Cluster 40",
         "type": "scatter",
         "x": [
          405,
          405,
          422.5,
          422.5
         ],
         "xaxis": "x2",
         "y": [
          0,
          1.1128712871272102,
          1.1128712871272102,
          0.9738545751233041
         ],
         "yaxis": "y2"
        },
        {
         "hoverinfo": "y+name",
         "line": {
          "width": 0.5
         },
         "marker": {
          "color": "rgb(0,116,217)"
         },
         "mode": "lines",
         "name": "Col Cluster 41",
         "type": "scatter",
         "x": [
          413.75,
          413.75,
          452.5,
          452.5
         ],
         "xaxis": "x2",
         "y": [
          1.1128712871272102,
          1.6877234982687017,
          1.6877234982687017,
          1.2670063305147055
         ],
         "yaxis": "y2"
        },
        {
         "hoverinfo": "y+name",
         "line": {
          "width": 0.5
         },
         "marker": {
          "color": "rgb(0,116,217)"
         },
         "mode": "lines",
         "name": "Col Cluster 42",
         "type": "scatter",
         "x": [
          415,
          415,
          430,
          430
         ],
         "xaxis": "x2",
         "y": [
          0,
          0.9738545751233041,
          0.9738545751233041,
          0.8910826273260312
         ],
         "yaxis": "y2"
        },
        {
         "hoverinfo": "y+name",
         "line": {
          "width": 0.5
         },
         "marker": {
          "color": "rgb(0,116,217)"
         },
         "mode": "lines",
         "name": "Col Cluster 43",
         "type": "scatter",
         "x": [
          425,
          425,
          435,
          435
         ],
         "xaxis": "x2",
         "y": [
          0,
          0.8910826273260312,
          0.8910826273260312,
          0
         ],
         "yaxis": "y2"
        },
        {
         "hoverinfo": "y+name",
         "line": {
          "width": 0.5
         },
         "marker": {
          "color": "rgb(0,116,217)"
         },
         "mode": "lines",
         "name": "Col Cluster 44",
         "type": "scatter",
         "x": [
          433.125,
          433.125,
          564.84375,
          564.84375
         ],
         "xaxis": "x2",
         "y": [
          1.6877234982687017,
          2.0987903612489087,
          2.0987903612489087,
          1.9292773634415332
         ],
         "yaxis": "y2"
        },
        {
         "hoverinfo": "y+name",
         "line": {
          "width": 0.5
         },
         "marker": {
          "color": "rgb(0,116,217)"
         },
         "mode": "lines",
         "name": "Col Cluster 45",
         "type": "scatter",
         "x": [
          445,
          445,
          460,
          460
         ],
         "xaxis": "x2",
         "y": [
          0,
          1.2670063305147055,
          1.2670063305147055,
          1.1598405263084712
         ],
         "yaxis": "y2"
        },
        {
         "hoverinfo": "y+name",
         "line": {
          "width": 0.5
         },
         "marker": {
          "color": "rgb(0,116,217)"
         },
         "mode": "lines",
         "name": "Col Cluster 46",
         "type": "scatter",
         "x": [
          455,
          455,
          465,
          465
         ],
         "xaxis": "x2",
         "y": [
          0,
          1.1598405263084712,
          1.1598405263084712,
          0
         ],
         "yaxis": "y2"
        },
        {
         "hoverinfo": "y+name",
         "line": {
          "width": 0.5
         },
         "marker": {
          "color": "rgb(0,116,217)"
         },
         "mode": "lines",
         "name": "Col Cluster 47",
         "type": "scatter",
         "x": [
          475,
          475,
          485,
          485
         ],
         "xaxis": "x2",
         "y": [
          0,
          1.3310547882625459,
          1.3310547882625459,
          0
         ],
         "yaxis": "y2"
        },
        {
         "hoverinfo": "y+name",
         "line": {
          "width": 0.5
         },
         "marker": {
          "color": "rgb(0,116,217)"
         },
         "mode": "lines",
         "name": "Col Cluster 48",
         "type": "scatter",
         "x": [
          480,
          480,
          502.5,
          502.5
         ],
         "xaxis": "x2",
         "y": [
          1.3310547882625459,
          1.5544369461640746,
          1.5544369461640746,
          1.3462196752574644
         ],
         "yaxis": "y2"
        },
        {
         "hoverinfo": "y+name",
         "line": {
          "width": 0.5
         },
         "marker": {
          "color": "rgb(0,116,217)"
         },
         "mode": "lines",
         "name": "Col Cluster 49",
         "type": "scatter",
         "x": [
          491.25,
          491.25,
          553.125,
          553.125
         ],
         "xaxis": "x2",
         "y": [
          1.5544369461640746,
          1.733786098480632,
          1.733786098480632,
          1.6346760354254393
         ],
         "yaxis": "y2"
        },
        {
         "hoverinfo": "y+name",
         "line": {
          "width": 0.5
         },
         "marker": {
          "color": "rgb(0,116,217)"
         },
         "mode": "lines",
         "name": "Col Cluster 50",
         "type": "scatter",
         "x": [
          495,
          495,
          510,
          510
         ],
         "xaxis": "x2",
         "y": [
          0,
          1.3462196752574644,
          1.3462196752574644,
          1.2373250078825826
         ],
         "yaxis": "y2"
        },
        {
         "hoverinfo": "y+name",
         "line": {
          "width": 0.5
         },
         "marker": {
          "color": "rgb(0,116,217)"
         },
         "mode": "lines",
         "name": "Col Cluster 51",
         "type": "scatter",
         "x": [
          505,
          505,
          515,
          515
         ],
         "xaxis": "x2",
         "y": [
          0,
          1.2373250078825826,
          1.2373250078825826,
          0
         ],
         "yaxis": "y2"
        },
        {
         "hoverinfo": "y+name",
         "line": {
          "width": 0.5
         },
         "marker": {
          "color": "rgb(0,116,217)"
         },
         "mode": "lines",
         "name": "Col Cluster 52",
         "type": "scatter",
         "x": [
          522.1875,
          522.1875,
          607.5,
          607.5
         ],
         "xaxis": "x2",
         "y": [
          1.733786098480632,
          1.9292773634415332,
          1.9292773634415332,
          1.7515007417900592
         ],
         "yaxis": "y2"
        },
        {
         "hoverinfo": "y+name",
         "line": {
          "width": 0.5
         },
         "marker": {
          "color": "rgb(0,116,217)"
         },
         "mode": "lines",
         "name": "Col Cluster 53",
         "type": "scatter",
         "x": [
          525,
          525,
          542.5,
          542.5
         ],
         "xaxis": "x2",
         "y": [
          0,
          1.3639194710148688,
          1.3639194710148688,
          1.1504077345632524
         ],
         "yaxis": "y2"
        },
        {
         "hoverinfo": "y+name",
         "line": {
          "width": 0.5
         },
         "marker": {
          "color": "rgb(0,116,217)"
         },
         "mode": "lines",
         "name": "Col Cluster 54",
         "type": "scatter",
         "x": [
          533.75,
          533.75,
          572.5,
          572.5
         ],
         "xaxis": "x2",
         "y": [
          1.3639194710148688,
          1.6346760354254393,
          1.6346760354254393,
          1.4554877182967951
         ],
         "yaxis": "y2"
        },
        {
         "hoverinfo": "y+name",
         "line": {
          "width": 0.5
         },
         "marker": {
          "color": "rgb(0,116,217)"
         },
         "mode": "lines",
         "name": "Col Cluster 55",
         "type": "scatter",
         "x": [
          535,
          535,
          550,
          550
         ],
         "xaxis": "x2",
         "y": [
          0,
          1.1504077345632524,
          1.1504077345632524,
          0.9961940534161311
         ],
         "yaxis": "y2"
        },
        {
         "hoverinfo": "y+name",
         "line": {
          "width": 0.5
         },
         "marker": {
          "color": "rgb(0,116,217)"
         },
         "mode": "lines",
         "name": "Col Cluster 56",
         "type": "scatter",
         "x": [
          545,
          545,
          555,
          555
         ],
         "xaxis": "x2",
         "y": [
          0,
          0.9961940534161311,
          0.9961940534161311,
          0
         ],
         "yaxis": "y2"
        },
        {
         "hoverinfo": "y+name",
         "line": {
          "width": 0.5
         },
         "marker": {
          "color": "rgb(0,116,217)"
         },
         "mode": "lines",
         "name": "Col Cluster 57",
         "type": "scatter",
         "x": [
          565,
          565,
          580,
          580
         ],
         "xaxis": "x2",
         "y": [
          0,
          1.4554877182967951,
          1.4554877182967951,
          1.0636635974628508
         ],
         "yaxis": "y2"
        },
        {
         "hoverinfo": "y+name",
         "line": {
          "width": 0.5
         },
         "marker": {
          "color": "rgb(0,116,217)"
         },
         "mode": "lines",
         "name": "Col Cluster 58",
         "type": "scatter",
         "x": [
          575,
          575,
          585,
          585
         ],
         "xaxis": "x2",
         "y": [
          0,
          1.0636635974628508,
          1.0636635974628508,
          0
         ],
         "yaxis": "y2"
        },
        {
         "hoverinfo": "y+name",
         "line": {
          "width": 0.5
         },
         "marker": {
          "color": "rgb(0,116,217)"
         },
         "mode": "lines",
         "name": "Col Cluster 59",
         "type": "scatter",
         "x": [
          595,
          595,
          620,
          620
         ],
         "xaxis": "x2",
         "y": [
          0,
          1.7515007417900592,
          1.7515007417900592,
          1.5730449559593551
         ],
         "yaxis": "y2"
        },
        {
         "hoverinfo": "y+name",
         "line": {
          "width": 0.5
         },
         "marker": {
          "color": "rgb(0,116,217)"
         },
         "mode": "lines",
         "name": "Col Cluster 60",
         "type": "scatter",
         "x": [
          605,
          605,
          615,
          615
         ],
         "xaxis": "x2",
         "y": [
          0,
          1.1132303602047633,
          1.1132303602047633,
          0
         ],
         "yaxis": "y2"
        },
        {
         "hoverinfo": "y+name",
         "line": {
          "width": 0.5
         },
         "marker": {
          "color": "rgb(0,116,217)"
         },
         "mode": "lines",
         "name": "Col Cluster 61",
         "type": "scatter",
         "x": [
          610,
          610,
          630,
          630
         ],
         "xaxis": "x2",
         "y": [
          1.1132303602047633,
          1.5730449559593551,
          1.5730449559593551,
          1.2932100158509676
         ],
         "yaxis": "y2"
        },
        {
         "hoverinfo": "y+name",
         "line": {
          "width": 0.5
         },
         "marker": {
          "color": "rgb(0,116,217)"
         },
         "mode": "lines",
         "name": "Col Cluster 62",
         "type": "scatter",
         "x": [
          625,
          625,
          635,
          635
         ],
         "xaxis": "x2",
         "y": [
          0,
          1.2932100158509676,
          1.2932100158509676,
          0
         ],
         "yaxis": "y2"
        },
        {
         "hoverinfo": "x+name",
         "line": {
          "width": 0.5
         },
         "marker": {
          "color": "rgb(0,116,217)"
         },
         "mode": "lines",
         "name": "Row Cluster 0",
         "type": "scatter",
         "x": [
          0,
          -0.9812437786102175,
          -0.9812437786102175,
          0
         ],
         "xaxis": "x4",
         "y": [
          15,
          15,
          25,
          25
         ],
         "yaxis": "y4"
        },
        {
         "hoverinfo": "x+name",
         "line": {
          "width": 0.5
         },
         "marker": {
          "color": "rgb(0,116,217)"
         },
         "mode": "lines",
         "name": "Row Cluster 1",
         "type": "scatter",
         "x": [
          0,
          -1.2932100158509676,
          -1.2932100158509676,
          0
         ],
         "xaxis": "x4",
         "y": [
          625,
          625,
          635,
          635
         ],
         "yaxis": "y4"
        },
        {
         "hoverinfo": "x+name",
         "line": {
          "width": 0.5
         },
         "marker": {
          "color": "rgb(0,116,217)"
         },
         "mode": "lines",
         "name": "Row Cluster 2",
         "type": "scatter",
         "x": [
          -1.1132303602047633,
          -1.5730449559593551,
          -1.5730449559593551,
          -1.2932100158509676
         ],
         "xaxis": "x4",
         "y": [
          610,
          610,
          630,
          630
         ],
         "yaxis": "y4"
        },
        {
         "hoverinfo": "x+name",
         "line": {
          "width": 0.5
         },
         "marker": {
          "color": "rgb(0,116,217)"
         },
         "mode": "lines",
         "name": "Row Cluster 3",
         "type": "scatter",
         "x": [
          0,
          -1.1132303602047633,
          -1.1132303602047633,
          0
         ],
         "xaxis": "x4",
         "y": [
          605,
          605,
          615,
          615
         ],
         "yaxis": "y4"
        },
        {
         "hoverinfo": "x+name",
         "line": {
          "width": 0.5
         },
         "marker": {
          "color": "rgb(0,116,217)"
         },
         "mode": "lines",
         "name": "Row Cluster 4",
         "type": "scatter",
         "x": [
          0,
          -1.7515007417900592,
          -1.7515007417900592,
          -1.5730449559593551
         ],
         "xaxis": "x4",
         "y": [
          595,
          595,
          620,
          620
         ],
         "yaxis": "y4"
        },
        {
         "hoverinfo": "x+name",
         "line": {
          "width": 0.5
         },
         "marker": {
          "color": "rgb(0,116,217)"
         },
         "mode": "lines",
         "name": "Row Cluster 5",
         "type": "scatter",
         "x": [
          0,
          -1.0636635974628508,
          -1.0636635974628508,
          0
         ],
         "xaxis": "x4",
         "y": [
          575,
          575,
          585,
          585
         ],
         "yaxis": "y4"
        },
        {
         "hoverinfo": "x+name",
         "line": {
          "width": 0.5
         },
         "marker": {
          "color": "rgb(0,116,217)"
         },
         "mode": "lines",
         "name": "Row Cluster 6",
         "type": "scatter",
         "x": [
          0,
          -1.4554877182967951,
          -1.4554877182967951,
          -1.0636635974628508
         ],
         "xaxis": "x4",
         "y": [
          565,
          565,
          580,
          580
         ],
         "yaxis": "y4"
        },
        {
         "hoverinfo": "x+name",
         "line": {
          "width": 0.5
         },
         "marker": {
          "color": "rgb(0,116,217)"
         },
         "mode": "lines",
         "name": "Row Cluster 7",
         "type": "scatter",
         "x": [
          0,
          -0.9961940534161311,
          -0.9961940534161311,
          0
         ],
         "xaxis": "x4",
         "y": [
          545,
          545,
          555,
          555
         ],
         "yaxis": "y4"
        },
        {
         "hoverinfo": "x+name",
         "line": {
          "width": 0.5
         },
         "marker": {
          "color": "rgb(0,116,217)"
         },
         "mode": "lines",
         "name": "Row Cluster 8",
         "type": "scatter",
         "x": [
          0,
          -1.1504077345632524,
          -1.1504077345632524,
          -0.9961940534161311
         ],
         "xaxis": "x4",
         "y": [
          535,
          535,
          550,
          550
         ],
         "yaxis": "y4"
        },
        {
         "hoverinfo": "x+name",
         "line": {
          "width": 0.5
         },
         "marker": {
          "color": "rgb(0,116,217)"
         },
         "mode": "lines",
         "name": "Row Cluster 9",
         "type": "scatter",
         "x": [
          -1.3639194710148688,
          -1.6346760354254393,
          -1.6346760354254393,
          -1.4554877182967951
         ],
         "xaxis": "x4",
         "y": [
          533.75,
          533.75,
          572.5,
          572.5
         ],
         "yaxis": "y4"
        },
        {
         "hoverinfo": "x+name",
         "line": {
          "width": 0.5
         },
         "marker": {
          "color": "rgb(0,116,217)"
         },
         "mode": "lines",
         "name": "Row Cluster 10",
         "type": "scatter",
         "x": [
          0,
          -1.3639194710148688,
          -1.3639194710148688,
          -1.1504077345632524
         ],
         "xaxis": "x4",
         "y": [
          525,
          525,
          542.5,
          542.5
         ],
         "yaxis": "y4"
        },
        {
         "hoverinfo": "x+name",
         "line": {
          "width": 0.5
         },
         "marker": {
          "color": "rgb(0,116,217)"
         },
         "mode": "lines",
         "name": "Row Cluster 11",
         "type": "scatter",
         "x": [
          -1.733786098480632,
          -1.9292773634415332,
          -1.9292773634415332,
          -1.7515007417900592
         ],
         "xaxis": "x4",
         "y": [
          522.1875,
          522.1875,
          607.5,
          607.5
         ],
         "yaxis": "y4"
        },
        {
         "hoverinfo": "x+name",
         "line": {
          "width": 0.5
         },
         "marker": {
          "color": "rgb(0,116,217)"
         },
         "mode": "lines",
         "name": "Row Cluster 12",
         "type": "scatter",
         "x": [
          0,
          -1.2373250078825826,
          -1.2373250078825826,
          0
         ],
         "xaxis": "x4",
         "y": [
          505,
          505,
          515,
          515
         ],
         "yaxis": "y4"
        },
        {
         "hoverinfo": "x+name",
         "line": {
          "width": 0.5
         },
         "marker": {
          "color": "rgb(0,116,217)"
         },
         "mode": "lines",
         "name": "Row Cluster 13",
         "type": "scatter",
         "x": [
          0,
          -1.3462196752574644,
          -1.3462196752574644,
          -1.2373250078825826
         ],
         "xaxis": "x4",
         "y": [
          495,
          495,
          510,
          510
         ],
         "yaxis": "y4"
        },
        {
         "hoverinfo": "x+name",
         "line": {
          "width": 0.5
         },
         "marker": {
          "color": "rgb(0,116,217)"
         },
         "mode": "lines",
         "name": "Row Cluster 14",
         "type": "scatter",
         "x": [
          -1.5544369461640746,
          -1.733786098480632,
          -1.733786098480632,
          -1.6346760354254393
         ],
         "xaxis": "x4",
         "y": [
          491.25,
          491.25,
          553.125,
          553.125
         ],
         "yaxis": "y4"
        },
        {
         "hoverinfo": "x+name",
         "line": {
          "width": 0.5
         },
         "marker": {
          "color": "rgb(0,116,217)"
         },
         "mode": "lines",
         "name": "Row Cluster 15",
         "type": "scatter",
         "x": [
          -1.3310547882625459,
          -1.5544369461640746,
          -1.5544369461640746,
          -1.3462196752574644
         ],
         "xaxis": "x4",
         "y": [
          480,
          480,
          502.5,
          502.5
         ],
         "yaxis": "y4"
        },
        {
         "hoverinfo": "x+name",
         "line": {
          "width": 0.5
         },
         "marker": {
          "color": "rgb(0,116,217)"
         },
         "mode": "lines",
         "name": "Row Cluster 16",
         "type": "scatter",
         "x": [
          0,
          -1.3310547882625459,
          -1.3310547882625459,
          0
         ],
         "xaxis": "x4",
         "y": [
          475,
          475,
          485,
          485
         ],
         "yaxis": "y4"
        },
        {
         "hoverinfo": "x+name",
         "line": {
          "width": 0.5
         },
         "marker": {
          "color": "rgb(0,116,217)"
         },
         "mode": "lines",
         "name": "Row Cluster 17",
         "type": "scatter",
         "x": [
          0,
          -1.1598405263084712,
          -1.1598405263084712,
          0
         ],
         "xaxis": "x4",
         "y": [
          455,
          455,
          465,
          465
         ],
         "yaxis": "y4"
        },
        {
         "hoverinfo": "x+name",
         "line": {
          "width": 0.5
         },
         "marker": {
          "color": "rgb(0,116,217)"
         },
         "mode": "lines",
         "name": "Row Cluster 18",
         "type": "scatter",
         "x": [
          0,
          -1.2670063305147055,
          -1.2670063305147055,
          -1.1598405263084712
         ],
         "xaxis": "x4",
         "y": [
          445,
          445,
          460,
          460
         ],
         "yaxis": "y4"
        },
        {
         "hoverinfo": "x+name",
         "line": {
          "width": 0.5
         },
         "marker": {
          "color": "rgb(0,116,217)"
         },
         "mode": "lines",
         "name": "Row Cluster 19",
         "type": "scatter",
         "x": [
          -1.6877234982687017,
          -2.0987903612489087,
          -2.0987903612489087,
          -1.9292773634415332
         ],
         "xaxis": "x4",
         "y": [
          433.125,
          433.125,
          564.84375,
          564.84375
         ],
         "yaxis": "y4"
        },
        {
         "hoverinfo": "x+name",
         "line": {
          "width": 0.5
         },
         "marker": {
          "color": "rgb(0,116,217)"
         },
         "mode": "lines",
         "name": "Row Cluster 20",
         "type": "scatter",
         "x": [
          0,
          -0.8910826273260312,
          -0.8910826273260312,
          0
         ],
         "xaxis": "x4",
         "y": [
          425,
          425,
          435,
          435
         ],
         "yaxis": "y4"
        },
        {
         "hoverinfo": "x+name",
         "line": {
          "width": 0.5
         },
         "marker": {
          "color": "rgb(0,116,217)"
         },
         "mode": "lines",
         "name": "Row Cluster 21",
         "type": "scatter",
         "x": [
          0,
          -0.9738545751233041,
          -0.9738545751233041,
          -0.8910826273260312
         ],
         "xaxis": "x4",
         "y": [
          415,
          415,
          430,
          430
         ],
         "yaxis": "y4"
        },
        {
         "hoverinfo": "x+name",
         "line": {
          "width": 0.5
         },
         "marker": {
          "color": "rgb(0,116,217)"
         },
         "mode": "lines",
         "name": "Row Cluster 22",
         "type": "scatter",
         "x": [
          -1.1128712871272102,
          -1.6877234982687017,
          -1.6877234982687017,
          -1.2670063305147055
         ],
         "xaxis": "x4",
         "y": [
          413.75,
          413.75,
          452.5,
          452.5
         ],
         "yaxis": "y4"
        },
        {
         "hoverinfo": "x+name",
         "line": {
          "width": 0.5
         },
         "marker": {
          "color": "rgb(0,116,217)"
         },
         "mode": "lines",
         "name": "Row Cluster 23",
         "type": "scatter",
         "x": [
          0,
          -1.1128712871272102,
          -1.1128712871272102,
          -0.9738545751233041
         ],
         "xaxis": "x4",
         "y": [
          405,
          405,
          422.5,
          422.5
         ],
         "yaxis": "y4"
        },
        {
         "hoverinfo": "x+name",
         "line": {
          "width": 0.5
         },
         "marker": {
          "color": "rgb(0,116,217)"
         },
         "mode": "lines",
         "name": "Row Cluster 24",
         "type": "scatter",
         "x": [
          0,
          -0.9163136771653971,
          -0.9163136771653971,
          0
         ],
         "xaxis": "x4",
         "y": [
          385,
          385,
          395,
          395
         ],
         "yaxis": "y4"
        },
        {
         "hoverinfo": "x+name",
         "line": {
          "width": 0.5
         },
         "marker": {
          "color": "rgb(0,116,217)"
         },
         "mode": "lines",
         "name": "Row Cluster 25",
         "type": "scatter",
         "x": [
          -0.7937671944242942,
          -1.1934742433849965,
          -1.1934742433849965,
          -0.9163136771653971
         ],
         "xaxis": "x4",
         "y": [
          370,
          370,
          390,
          390
         ],
         "yaxis": "y4"
        },
        {
         "hoverinfo": "x+name",
         "line": {
          "width": 0.5
         },
         "marker": {
          "color": "rgb(0,116,217)"
         },
         "mode": "lines",
         "name": "Row Cluster 26",
         "type": "scatter",
         "x": [
          0,
          -0.7937671944242942,
          -0.7937671944242942,
          0
         ],
         "xaxis": "x4",
         "y": [
          365,
          365,
          375,
          375
         ],
         "yaxis": "y4"
        },
        {
         "hoverinfo": "x+name",
         "line": {
          "width": 0.5
         },
         "marker": {
          "color": "rgb(0,116,217)"
         },
         "mode": "lines",
         "name": "Row Cluster 27",
         "type": "scatter",
         "x": [
          -1.1219692838969049,
          -1.206406639990884,
          -1.206406639990884,
          -1.1934742433849965
         ],
         "xaxis": "x4",
         "y": [
          350,
          350,
          380,
          380
         ],
         "yaxis": "y4"
        },
        {
         "hoverinfo": "x+name",
         "line": {
          "width": 0.5
         },
         "marker": {
          "color": "rgb(0,116,217)"
         },
         "mode": "lines",
         "name": "Row Cluster 28",
         "type": "scatter",
         "x": [
          0,
          -1.1219692838969049,
          -1.1219692838969049,
          0
         ],
         "xaxis": "x4",
         "y": [
          345,
          345,
          355,
          355
         ],
         "yaxis": "y4"
        },
        {
         "hoverinfo": "x+name",
         "line": {
          "width": 0.5
         },
         "marker": {
          "color": "rgb(0,116,217)"
         },
         "mode": "lines",
         "name": "Row Cluster 29",
         "type": "scatter",
         "x": [
          0,
          -0.8768958257844254,
          -0.8768958257844254,
          0
         ],
         "xaxis": "x4",
         "y": [
          325,
          325,
          335,
          335
         ],
         "yaxis": "y4"
        },
        {
         "hoverinfo": "x+name",
         "line": {
          "width": 0.5
         },
         "marker": {
          "color": "rgb(0,116,217)"
         },
         "mode": "lines",
         "name": "Row Cluster 30",
         "type": "scatter",
         "x": [
          -0.8232193803602097,
          -0.9809517879384625,
          -0.9809517879384625,
          -0.8768958257844254
         ],
         "xaxis": "x4",
         "y": [
          310,
          310,
          330,
          330
         ],
         "yaxis": "y4"
        },
        {
         "hoverinfo": "x+name",
         "line": {
          "width": 0.5
         },
         "marker": {
          "color": "rgb(0,116,217)"
         },
         "mode": "lines",
         "name": "Row Cluster 31",
         "type": "scatter",
         "x": [
          0,
          -0.8232193803602097,
          -0.8232193803602097,
          0
         ],
         "xaxis": "x4",
         "y": [
          305,
          305,
          315,
          315
         ],
         "yaxis": "y4"
        },
        {
         "hoverinfo": "x+name",
         "line": {
          "width": 0.5
         },
         "marker": {
          "color": "rgb(0,116,217)"
         },
         "mode": "lines",
         "name": "Row Cluster 32",
         "type": "scatter",
         "x": [
          0,
          -1.1811127699636765,
          -1.1811127699636765,
          -0.9809517879384625
         ],
         "xaxis": "x4",
         "y": [
          295,
          295,
          320,
          320
         ],
         "yaxis": "y4"
        },
        {
         "hoverinfo": "x+name",
         "line": {
          "width": 0.5
         },
         "marker": {
          "color": "rgb(0,116,217)"
         },
         "mode": "lines",
         "name": "Row Cluster 33",
         "type": "scatter",
         "x": [
          -1.19043215227915,
          -1.3989532416812298,
          -1.3989532416812298,
          -1.206406639990884
         ],
         "xaxis": "x4",
         "y": [
          293.75,
          293.75,
          365,
          365
         ],
         "yaxis": "y4"
        },
        {
         "hoverinfo": "x+name",
         "line": {
          "width": 0.5
         },
         "marker": {
          "color": "rgb(0,116,217)"
         },
         "mode": "lines",
         "name": "Row Cluster 34",
         "type": "scatter",
         "x": [
          -0.7607030147093224,
          -1.19043215227915,
          -1.19043215227915,
          -1.1811127699636765
         ],
         "xaxis": "x4",
         "y": [
          280,
          280,
          307.5,
          307.5
         ],
         "yaxis": "y4"
        },
        {
         "hoverinfo": "x+name",
         "line": {
          "width": 0.5
         },
         "marker": {
          "color": "rgb(0,116,217)"
         },
         "mode": "lines",
         "name": "Row Cluster 35",
         "type": "scatter",
         "x": [
          0,
          -0.7607030147093224,
          -0.7607030147093224,
          0
         ],
         "xaxis": "x4",
         "y": [
          275,
          275,
          285,
          285
         ],
         "yaxis": "y4"
        },
        {
         "hoverinfo": "x+name",
         "line": {
          "width": 0.5
         },
         "marker": {
          "color": "rgb(0,116,217)"
         },
         "mode": "lines",
         "name": "Row Cluster 36",
         "type": "scatter",
         "x": [
          0,
          -0.831323923426114,
          -0.831323923426114,
          0
         ],
         "xaxis": "x4",
         "y": [
          255,
          255,
          265,
          265
         ],
         "yaxis": "y4"
        },
        {
         "hoverinfo": "x+name",
         "line": {
          "width": 0.5
         },
         "marker": {
          "color": "rgb(0,116,217)"
         },
         "mode": "lines",
         "name": "Row Cluster 37",
         "type": "scatter",
         "x": [
          0,
          -0.9798253468134915,
          -0.9798253468134915,
          -0.831323923426114
         ],
         "xaxis": "x4",
         "y": [
          245,
          245,
          260,
          260
         ],
         "yaxis": "y4"
        },
        {
         "hoverinfo": "x+name",
         "line": {
          "width": 0.5
         },
         "marker": {
          "color": "rgb(0,116,217)"
         },
         "mode": "lines",
         "name": "Row Cluster 38",
         "type": "scatter",
         "x": [
          -1.1330724339261693,
          -1.4075915467478974,
          -1.4075915467478974,
          -1.3989532416812298
         ],
         "xaxis": "x4",
         "y": [
          241.25,
          241.25,
          329.375,
          329.375
         ],
         "yaxis": "y4"
        },
        {
         "hoverinfo": "x+name",
         "line": {
          "width": 0.5
         },
         "marker": {
          "color": "rgb(0,116,217)"
         },
         "mode": "lines",
         "name": "Row Cluster 39",
         "type": "scatter",
         "x": [
          -1.4932900851169935,
          -2.355482730418186,
          -2.355482730418186,
          -2.0987903612489087
         ],
         "xaxis": "x4",
         "y": [
          233.28125,
          233.28125,
          498.984375,
          498.984375
         ],
         "yaxis": "y4"
        },
        {
         "hoverinfo": "x+name",
         "line": {
          "width": 0.5
         },
         "marker": {
          "color": "rgb(0,116,217)"
         },
         "mode": "lines",
         "name": "Row Cluster 40",
         "type": "scatter",
         "x": [
          -0.9023452462323875,
          -1.1330724339261693,
          -1.1330724339261693,
          -0.9798253468134915
         ],
         "xaxis": "x4",
         "y": [
          230,
          230,
          252.5,
          252.5
         ],
         "yaxis": "y4"
        },
        {
         "hoverinfo": "x+name",
         "line": {
          "width": 0.5
         },
         "marker": {
          "color": "rgb(0,116,217)"
         },
         "mode": "lines",
         "name": "Row Cluster 41",
         "type": "scatter",
         "x": [
          0,
          -0.9023452462323875,
          -0.9023452462323875,
          0
         ],
         "xaxis": "x4",
         "y": [
          225,
          225,
          235,
          235
         ],
         "yaxis": "y4"
        },
        {
         "hoverinfo": "x+name",
         "line": {
          "width": 0.5
         },
         "marker": {
          "color": "rgb(0,116,217)"
         },
         "mode": "lines",
         "name": "Row Cluster 42",
         "type": "scatter",
         "x": [
          0,
          -0.9909744164440552,
          -0.9909744164440552,
          0
         ],
         "xaxis": "x4",
         "y": [
          205,
          205,
          215,
          215
         ],
         "yaxis": "y4"
        },
        {
         "hoverinfo": "x+name",
         "line": {
          "width": 0.5
         },
         "marker": {
          "color": "rgb(0,116,217)"
         },
         "mode": "lines",
         "name": "Row Cluster 43",
         "type": "scatter",
         "x": [
          -0.9625350549499496,
          -1.1440914265198021,
          -1.1440914265198021,
          -0.9909744164440552
         ],
         "xaxis": "x4",
         "y": [
          190,
          190,
          210,
          210
         ],
         "yaxis": "y4"
        },
        {
         "hoverinfo": "x+name",
         "line": {
          "width": 0.5
         },
         "marker": {
          "color": "rgb(0,116,217)"
         },
         "mode": "lines",
         "name": "Row Cluster 44",
         "type": "scatter",
         "x": [
          0,
          -0.9625350549499496,
          -0.9625350549499496,
          0
         ],
         "xaxis": "x4",
         "y": [
          185,
          185,
          195,
          195
         ],
         "yaxis": "y4"
        },
        {
         "hoverinfo": "x+name",
         "line": {
          "width": 0.5
         },
         "marker": {
          "color": "rgb(0,116,217)"
         },
         "mode": "lines",
         "name": "Row Cluster 45",
         "type": "scatter",
         "x": [
          -1.2792027522035863,
          -1.4932900851169935,
          -1.4932900851169935,
          -1.4075915467478974
         ],
         "xaxis": "x4",
         "y": [
          181.25,
          181.25,
          285.3125,
          285.3125
         ],
         "yaxis": "y4"
        },
        {
         "hoverinfo": "x+name",
         "line": {
          "width": 0.5
         },
         "marker": {
          "color": "rgb(0,116,217)"
         },
         "mode": "lines",
         "name": "Row Cluster 46",
         "type": "scatter",
         "x": [
          0,
          -0.941302595628223,
          -0.941302595628223,
          0
         ],
         "xaxis": "x4",
         "y": [
          165,
          165,
          175,
          175
         ],
         "yaxis": "y4"
        },
        {
         "hoverinfo": "x+name",
         "line": {
          "width": 0.5
         },
         "marker": {
          "color": "rgb(0,116,217)"
         },
         "mode": "lines",
         "name": "Row Cluster 47",
         "type": "scatter",
         "x": [
          -1.1426219012758372,
          -1.2792027522035863,
          -1.2792027522035863,
          -1.1440914265198021
         ],
         "xaxis": "x4",
         "y": [
          162.5,
          162.5,
          200,
          200
         ],
         "yaxis": "y4"
        },
        {
         "hoverinfo": "x+name",
         "line": {
          "width": 0.5
         },
         "marker": {
          "color": "rgb(0,116,217)"
         },
         "mode": "lines",
         "name": "Row Cluster 48",
         "type": "scatter",
         "x": [
          0,
          -1.1426219012758372,
          -1.1426219012758372,
          -0.941302595628223
         ],
         "xaxis": "x4",
         "y": [
          155,
          155,
          170,
          170
         ],
         "yaxis": "y4"
        },
        {
         "hoverinfo": "x+name",
         "line": {
          "width": 0.5
         },
         "marker": {
          "color": "rgb(0,116,217)"
         },
         "mode": "lines",
         "name": "Row Cluster 49",
         "type": "scatter",
         "x": [
          0,
          -1.267300306427101,
          -1.267300306427101,
          0
         ],
         "xaxis": "x4",
         "y": [
          135,
          135,
          145,
          145
         ],
         "yaxis": "y4"
        },
        {
         "hoverinfo": "x+name",
         "line": {
          "width": 0.5
         },
         "marker": {
          "color": "rgb(0,116,217)"
         },
         "mode": "lines",
         "name": "Row Cluster 50",
         "type": "scatter",
         "x": [
          0,
          -1.4952997566436586,
          -1.4952997566436586,
          -1.267300306427101
         ],
         "xaxis": "x4",
         "y": [
          125,
          125,
          140,
          140
         ],
         "yaxis": "y4"
        },
        {
         "hoverinfo": "x+name",
         "line": {
          "width": 0.5
         },
         "marker": {
          "color": "rgb(0,116,217)"
         },
         "mode": "lines",
         "name": "Row Cluster 51",
         "type": "scatter",
         "x": [
          0,
          -1.0683253925258103,
          -1.0683253925258103,
          0
         ],
         "xaxis": "x4",
         "y": [
          105,
          105,
          115,
          115
         ],
         "yaxis": "y4"
        },
        {
         "hoverinfo": "x+name",
         "line": {
          "width": 0.5
         },
         "marker": {
          "color": "rgb(0,116,217)"
         },
         "mode": "lines",
         "name": "Row Cluster 52",
         "type": "scatter",
         "x": [
          -1.3987841364208518,
          -1.6486351803827262,
          -1.6486351803827262,
          -1.4952997566436586
         ],
         "xaxis": "x4",
         "y": [
          102.5,
          102.5,
          132.5,
          132.5
         ],
         "yaxis": "y4"
        },
        {
         "hoverinfo": "x+name",
         "line": {
          "width": 0.5
         },
         "marker": {
          "color": "rgb(0,116,217)"
         },
         "mode": "lines",
         "name": "Row Cluster 53",
         "type": "scatter",
         "x": [
          0,
          -1.3987841364208518,
          -1.3987841364208518,
          -1.0683253925258103
         ],
         "xaxis": "x4",
         "y": [
          95,
          95,
          110,
          110
         ],
         "yaxis": "y4"
        },
        {
         "hoverinfo": "x+name",
         "line": {
          "width": 0.5
         },
         "marker": {
          "color": "rgb(0,116,217)"
         },
         "mode": "lines",
         "name": "Row Cluster 54",
         "type": "scatter",
         "x": [
          0,
          -0.8917561494705761,
          -0.8917561494705761,
          0
         ],
         "xaxis": "x4",
         "y": [
          75,
          75,
          85,
          85
         ],
         "yaxis": "y4"
        },
        {
         "hoverinfo": "x+name",
         "line": {
          "width": 0.5
         },
         "marker": {
          "color": "rgb(0,116,217)"
         },
         "mode": "lines",
         "name": "Row Cluster 55",
         "type": "scatter",
         "x": [
          -1.2476766885110766,
          -1.74474925658886,
          -1.74474925658886,
          -1.6486351803827262
         ],
         "xaxis": "x4",
         "y": [
          72.5,
          72.5,
          117.5,
          117.5
         ],
         "yaxis": "y4"
        },
        {
         "hoverinfo": "x+name",
         "line": {
          "width": 0.5
         },
         "marker": {
          "color": "rgb(0,116,217)"
         },
         "mode": "lines",
         "name": "Row Cluster 56",
         "type": "scatter",
         "x": [
          0,
          -1.2476766885110766,
          -1.2476766885110766,
          -0.8917561494705761
         ],
         "xaxis": "x4",
         "y": [
          65,
          65,
          80,
          80
         ],
         "yaxis": "y4"
        },
        {
         "hoverinfo": "x+name",
         "line": {
          "width": 0.5
         },
         "marker": {
          "color": "rgb(0,116,217)"
         },
         "mode": "lines",
         "name": "Row Cluster 57",
         "type": "scatter",
         "x": [
          0,
          -1.2191076044218507,
          -1.2191076044218507,
          0
         ],
         "xaxis": "x4",
         "y": [
          45,
          45,
          55,
          55
         ],
         "yaxis": "y4"
        },
        {
         "hoverinfo": "x+name",
         "line": {
          "width": 0.5
         },
         "marker": {
          "color": "rgb(0,116,217)"
         },
         "mode": "lines",
         "name": "Row Cluster 58",
         "type": "scatter",
         "x": [
          -1.4338805929867335,
          -1.8824117496286348,
          -1.8824117496286348,
          -1.74474925658886
         ],
         "xaxis": "x4",
         "y": [
          42.5,
          42.5,
          95,
          95
         ],
         "yaxis": "y4"
        },
        {
         "hoverinfo": "x+name",
         "line": {
          "width": 0.5
         },
         "marker": {
          "color": "rgb(0,116,217)"
         },
         "mode": "lines",
         "name": "Row Cluster 59",
         "type": "scatter",
         "x": [
          -1.989401349385293,
          -2.6645508316039206,
          -2.6645508316039206,
          -2.355482730418186
         ],
         "xaxis": "x4",
         "y": [
          40.625,
          40.625,
          366.1328125,
          366.1328125
         ],
         "yaxis": "y4"
        },
        {
         "hoverinfo": "x+name",
         "line": {
          "width": 0.5
         },
         "marker": {
          "color": "rgb(0,116,217)"
         },
         "mode": "lines",
         "name": "Row Cluster 60",
         "type": "scatter",
         "x": [
          0,
          -1.4338805929867335,
          -1.4338805929867335,
          -1.2191076044218507
         ],
         "xaxis": "x4",
         "y": [
          35,
          35,
          50,
          50
         ],
         "yaxis": "y4"
        },
        {
         "hoverinfo": "x+name",
         "line": {
          "width": 0.5
         },
         "marker": {
          "color": "rgb(0,116,217)"
         },
         "mode": "lines",
         "name": "Row Cluster 61",
         "type": "scatter",
         "x": [
          -1.1830380374705216,
          -1.989401349385293,
          -1.989401349385293,
          -1.8824117496286348
         ],
         "xaxis": "x4",
         "y": [
          12.5,
          12.5,
          68.75,
          68.75
         ],
         "yaxis": "y4"
        },
        {
         "hoverinfo": "x+name",
         "line": {
          "width": 0.5
         },
         "marker": {
          "color": "rgb(0,116,217)"
         },
         "mode": "lines",
         "name": "Row Cluster 62",
         "type": "scatter",
         "x": [
          0,
          -1.1830380374705216,
          -1.1830380374705216,
          -0.9812437786102175
         ],
         "xaxis": "x4",
         "y": [
          5,
          5,
          20,
          20
         ],
         "yaxis": "y4"
        },
        {
         "colorbar": {
          "xpad": 100
         },
         "colorscale": [
          [
           0,
           "#30123b"
          ],
          [
           0.07142857142857142,
           "#4145ab"
          ],
          [
           0.14285714285714285,
           "#4675ed"
          ],
          [
           0.21428571428571427,
           "#39a2fc"
          ],
          [
           0.2857142857142857,
           "#1bcfd4"
          ],
          [
           0.35714285714285715,
           "#24eca6"
          ],
          [
           0.42857142857142855,
           "#61fc6c"
          ],
          [
           0.5,
           "#a4fc3b"
          ],
          [
           0.5714285714285714,
           "#d1e834"
          ],
          [
           0.6428571428571429,
           "#f3c63a"
          ],
          [
           0.7142857142857143,
           "#fe9b2d"
          ],
          [
           0.7857142857142857,
           "#f36315"
          ],
          [
           0.8571428571428571,
           "#d93806"
          ],
          [
           0.9285714285714286,
           "#b11901"
          ],
          [
           1,
           "#7a0402"
          ]
         ],
         "type": "heatmap",
         "x": [
          5,
          15,
          25,
          35,
          45,
          55,
          65,
          75,
          85,
          95,
          105,
          115,
          125,
          135,
          145,
          155,
          165,
          175,
          185,
          195,
          205,
          215,
          225,
          235,
          245,
          255,
          265,
          275,
          285,
          295,
          305,
          315,
          325,
          335,
          345,
          355,
          365,
          375,
          385,
          395,
          405,
          415,
          425,
          435,
          445,
          455,
          465,
          475,
          485,
          495,
          505,
          515,
          525,
          535,
          545,
          555,
          565,
          575,
          585,
          595,
          605,
          615,
          625,
          635
         ],
         "xaxis": "x5",
         "y": [
          5,
          15,
          25,
          35,
          45,
          55,
          65,
          75,
          85,
          95,
          105,
          115,
          125,
          135,
          145,
          155,
          165,
          175,
          185,
          195,
          205,
          215,
          225,
          235,
          245,
          255,
          265,
          275,
          285,
          295,
          305,
          315,
          325,
          335,
          345,
          355,
          365,
          375,
          385,
          395,
          405,
          415,
          425,
          435,
          445,
          455,
          465,
          475,
          485,
          495,
          505,
          515,
          525,
          535,
          545,
          555,
          565,
          575,
          585,
          595,
          605,
          615,
          625,
          635
         ],
         "yaxis": "y5",
         "z": [
          [
           1.0000001192092896,
           0.3491445481777191,
           0.41546547412872314,
           0.09596859663724899,
           -0.16878145933151245,
           -0.0028799762949347496,
           -0.0054314215667545795,
           -0.008136629126966,
           0.080121710896492,
           0.03747296705842018,
           -0.063474141061306,
           0.136593759059906,
           0.0488397516310215,
           0.15563124418258667,
           0.015155864879488945,
           -0.0034162825904786587,
           0.0665973648428917,
           0.12302462011575699,
           0.08657535165548325,
           0.1629679948091507,
           0.060001760721206665,
           0.05576092004776001,
           0.11173292994499207,
           0.04005452245473862,
           0.0678270012140274,
           0.09067967534065247,
           0.0629180520772934,
           0.10886051505804062,
           0.14604632556438446,
           0.1110866516828537,
           0.19259434938430786,
           0.1738937497138977,
           0.14297369122505188,
           0.11115539819002151,
           0.15096482634544373,
           0.1468646377325058,
           0.14932791888713837,
           0.17136149108409882,
           0.015250904485583305,
           0.018588803708553314,
           0.20756252110004425,
           0.1420293152332306,
           0.10353897511959076,
           0.1505064219236374,
           0.10331270098686218,
           0.061385657638311386,
           0.2444489598274231,
           -0.01169336773455143,
           0.06083560362458229,
           0.12390332669019699,
           0.1268782913684845,
           -0.021561330184340477,
           0.32688915729522705,
           0.08216369152069092,
           0.06772158294916153,
           0.07451777160167694,
           0.07736889272928238,
           0.1258401721715927,
           0.0837862640619278,
           -0.024090981110930443,
           0.011517667211592197,
           -0.011068619787693024,
           0.022459717467427254,
           0.07324103266000748
          ],
          [
           0.3491445481777191,
           0.9999999403953552,
           0.4615395665168762,
           0.14047792553901672,
           0.05329389497637749,
           0.11849218606948853,
           0.06995557993650436,
           0.040579311549663544,
           -0.06558844447135925,
           0.04851372539997101,
           0.030680682510137558,
           0.18172673881053925,
           0.010931199416518211,
           0.015225252136588097,
           0.09478423744440079,
           0.04249807074666023,
           0.08552202582359314,
           0.126693993806839,
           0.07200585305690765,
           0.05100180581212044,
           0.003915006294846535,
           0.01481588650494814,
           0.0753202885389328,
           -0.06429823487997055,
           0.00035758441663347185,
           0.04579392075538635,
           0.07315785437822342,
           0.1772519201040268,
           0.12085095793008804,
           0.14161664247512817,
           0.14355459809303284,
           0.16030631959438324,
           0.060873545706272125,
           0.05677579343318939,
           0.011441925540566444,
           0.1357499063014984,
           0.05426153540611267,
           0.10713464766740799,
           0.10323546081781387,
           0.19941973686218262,
           0.09535342454910278,
           -0.05725037679076195,
           -0.005522892344743013,
           -0.03389846906065941,
           0.06869757920503616,
           0.038558509200811386,
           -0.015415996313095093,
           -0.057992756366729736,
           0.0019108563428744674,
           0.04025638476014137,
           -0.0067834071815013885,
           -0.0070388964377343655,
           0.3610296845436096,
           0.17636406421661377,
           0.13144022226333618,
           0.1399863362312317,
           0.0045550973154604435,
           -0.0348186157643795,
           0.14871911704540253,
           0.03666412830352783,
           -0.029796702787280083,
           -0.033598385751247406,
           0.005488119553774595,
           -0.09314606338739395
          ],
          [
           0.41546547412872314,
           0.4615395665168762,
           1,
           0.1093674972653389,
           0.09012124687433243,
           0.029653681442141533,
           0.06372807174921036,
           0.1106843501329422,
           0.1366177499294281,
           0.057065822184085846,
           0.028940843418240547,
           -0.06348744034767151,
           0.0791664645075798,
           -0.02763739414513111,
           0.03761687129735947,
           0.07883977890014648,
           0.12727034091949463,
           0.0767432451248169,
           0.018219243735074997,
           0.0074839419685304165,
           0.0310132447630167,
           0.07932621240615845,
           0.009900317527353764,
           0.05315396934747696,
           0.04670289158821106,
           -0.002387669403105974,
           -0.01769823208451271,
           0.07870282232761383,
           0.005868365056812763,
           0.10463810712099075,
           0.0932634174823761,
           0.08372288942337036,
           0.18054212629795074,
           0.04618038609623909,
           0.04659753665328026,
           0.08381987363100052,
           -0.014211965724825859,
           0.06394896656274796,
           0.18891747295856476,
           0.20532985031604767,
           0.10274794697761536,
           0.06927912682294846,
           -0.04207737743854523,
           -0.0021458242554217577,
           0.05209086835384369,
           0.06142047792673111,
           0.18027570843696594,
           0.00909150205552578,
           0.14097920060157776,
           0.13758490979671478,
           0.022835299372673035,
           -0.02651847153902054,
           0.36726412177085876,
           0.24950669705867767,
           0.07477711141109467,
           0.12415866553783417,
           0.055626001209020615,
           0.11634327471256256,
           0.10965520888566971,
           -0.03965519368648529,
           -0.09858503937721252,
           0.00851680152118206,
           -0.03013777919113636,
           -0.09395966678857803
          ],
          [
           0.09596859663724899,
           0.14047792553901672,
           0.1093674972653389,
           0.9999998211860657,
           0.36700090765953064,
           0.17846666276454926,
           -0.06319098174571991,
           0.09511417150497437,
           -0.02516334131360054,
           0.18271030485630035,
           0.07459533959627151,
           -0.07089338451623917,
           0.060658711940050125,
           0.14565975964069366,
           0.14330269396305084,
           0.03986905887722969,
           -0.07532625645399094,
           0.07767308503389359,
           0.15220487117767334,
           0.1758294701576233,
           0.07120905816555023,
           0.07917936146259308,
           0.06162220239639282,
           -0.00008005648851394653,
           0.11856264621019363,
           0.16064830124378204,
           0.057449933141469955,
           0.10358379036188126,
           0.08004248142242432,
           0.1649753302335739,
           0.09343286603689194,
           0.05559095740318298,
           0.006989624351263046,
           0.0976601392030716,
           0.10839951038360596,
           0.05467391014099121,
           0.11007870733737946,
           -0.016568899154663086,
           0.06713204085826874,
           0.05395318940281868,
           0.0993751734495163,
           0.0059117600321769714,
           0.0969342291355133,
           0.22039136290550232,
           0.13984012603759766,
           0.41791510581970215,
           0.09186283499002457,
           0.015868183225393295,
           0.13707618415355682,
           0.09043636173009872,
           0.06475580483675003,
           0.014953378587961197,
           0.17426857352256775,
           0.05981385335326195,
           -0.022616636008024216,
           0.06641439348459244,
           0.04639411345124245,
           0.08256189525127411,
           0.19329267740249634,
           -0.07073745876550674,
           0.04188793897628784,
           0.07080036401748657,
           0.0811275914311409,
           0.014093438163399696
          ],
          [
           -0.16878145933151245,
           0.05329389497637749,
           0.09012124687433243,
           0.36700090765953064,
           0.9999999403953552,
           0.32494354248046875,
           0.05528973415493965,
           0.04547375440597534,
           0.08647327870130539,
           0.10194559395313263,
           0.09598395973443985,
           0.004357977770268917,
           -0.018481528386473656,
           -0.000017836644474300556,
           0.24319688975811005,
           0.06486635655164719,
           0.12330489605665207,
           0.09283246099948883,
           0.07876364886760712,
           -0.02394125983119011,
           0.10712634027004242,
           0.07381124794483185,
           0.05697561800479889,
           0.03157540038228035,
           0.06471728533506393,
           0.2724541127681732,
           0.194431334733963,
           0.14164908230304718,
           0.16546399891376495,
           0.11728230118751526,
           0.03135843575000763,
           0.05729267746210098,
           0.03983907774090767,
           0.09371475130319595,
           0.09761950373649597,
           -0.012265765108168125,
           0.11235913634300232,
           0.05923202633857727,
           0.07596264034509659,
           0.08899225294589996,
           -0.02246573008596897,
           0.0024878503754734993,
           -0.050666920840740204,
           0.0772060826420784,
           -0.07989394664764404,
           0.08445584028959274,
           -0.027039816603064537,
           0.032515913248062134,
           -0.00279778940603137,
           0.08315826952457428,
           0.0700027197599411,
           -0.03602278232574463,
           0.1352330893278122,
           0.17718376219272614,
           0.07503147423267365,
           0.14697913825511932,
           -0.06133304163813591,
           0.049661070108413696,
           0.08446676284074783,
           -0.11968501657247543,
           0.3391285240650177,
           0.30419737100601196,
           0.06643117964267731,
           0.07037156820297241
          ],
          [
           -0.0028799762949347496,
           0.11849218606948853,
           0.029653681442141533,
           0.17846666276454926,
           0.32494354248046875,
           1,
           0.12115638703107834,
           0.04552515596151352,
           0.003064942779019475,
           0.006253696978092194,
           0.027482861652970314,
           0.04311858117580414,
           -0.0240611732006073,
           0.026972385123372078,
           0.2284153550863266,
           0.04695584997534752,
           0.18451246619224548,
           0.18799279630184174,
           0.057881277054548264,
           0.11801405251026154,
           0.08941976726055145,
           0.038523200899362564,
           0.18466970324516296,
           0.0756906047463417,
           0.21021415293216705,
           0.22469550371170044,
           0.2719118595123291,
           0.1585690975189209,
           0.19524087011814117,
           0.0521063394844532,
           0.16919264197349548,
           0.1765678972005844,
           0.14907678961753845,
           0.05953030288219452,
           0.1757757067680359,
           0.119287870824337,
           0.18959227204322815,
           0.15622761845588684,
           0.08729672431945801,
           0.09442499279975891,
           0.13784176111221313,
           0.02900540456175804,
           0.01269470900297165,
           0.1249435693025589,
           0.06805448979139328,
           0.0982109010219574,
           -0.038332536816596985,
           0.14557717740535736,
           0.012205811217427254,
           -0.001363806426525116,
           0.03842218220233917,
           0.058726683259010315,
           0.0708499625325203,
           0.03538871556520462,
           0.08428926020860672,
           -0.01506369560956955,
           0.029763201251626015,
           0.006715657655149698,
           0.02109220065176487,
           0.03492959216237068,
           0.0924607440829277,
           0.06126299127936363,
           -0.019107429310679436,
           0.1114468201994896
          ],
          [
           -0.0054314215667545795,
           0.06995557993650436,
           0.06372807174921036,
           -0.06319098174571991,
           0.05528973415493965,
           0.12115638703107834,
           0.9999998211860657,
           0.36380618810653687,
           0.38131293654441833,
           -0.022853169590234756,
           0.08595184981822968,
           -0.015347533859312534,
           0.11689697951078415,
           0.05569903180003166,
           -0.02223341539502144,
           0.26365625858306885,
           0.24167394638061523,
           0.2822033166885376,
           0.15971645712852478,
           0.2659796178340912,
           0.051616180688142776,
           0.1288980394601822,
           0.24806095659732819,
           0.1708158403635025,
           -0.03234838321805,
           0.07939229160547256,
           -0.006567089352756739,
           0.15238383412361145,
           0.09433314949274063,
           0.09139606356620789,
           0.13225673139095306,
           0.04758573696017265,
           0.20772729814052582,
           0.09858924150466919,
           -0.038394443690776825,
           0.08178134262561798,
           0.1240927204489708,
           0.06360577046871185,
           0.07394825667142868,
           0.11517401039600372,
           0.0746726542711258,
           0.029025457799434662,
           0.13438373804092407,
           0.1240406408905983,
           0.0067408643662929535,
           0.13761869072914124,
           0.09973819553852081,
           0.09622003138065338,
           0.06173420324921608,
           0.03609783574938774,
           0.1187523677945137,
           -0.04640289768576622,
           0.11548002064228058,
           0.003003302961587906,
           0.17472581565380096,
           0.09292639791965485,
           0.06943904608488083,
           0.14676618576049805,
           0.02539643459022045,
           0.06929538398981094,
           -0.05351366102695465,
           -0.029382428154349327,
           0.031264208257198334,
           -0.04655053839087486
          ],
          [
           -0.008136629126966,
           0.040579311549663544,
           0.1106843501329422,
           0.09511417150497437,
           0.04547375440597534,
           0.04552515596151352,
           0.36380618810653687,
           0.9999999403953552,
           0.5393261313438416,
           0.2087664157152176,
           0.23588989675045013,
           0.03827798739075661,
           0.13641449809074402,
           0.21406401693820953,
           0.10955972969532013,
           0.21909300982952118,
           0.2671511173248291,
           0.18278442323207855,
           0.13721013069152832,
           0.2309810072183609,
           0.1867675930261612,
           0.13360817730426788,
           0.17695483565330505,
           0.09713715314865112,
           0.129208505153656,
           0.10070137679576874,
           0.11335539817810059,
           0.11397857218980789,
           0.1915522813796997,
           0.15252196788787842,
           0.09451952576637268,
           0.17029504477977753,
           0.2504376471042633,
           0.20223911106586456,
           0.15284672379493713,
           0.21404847502708435,
           0.1482454538345337,
           0.17358461022377014,
           0.06820309162139893,
           0.12562456727027893,
           0.12532499432563782,
           0.29659852385520935,
           0.2321164309978485,
           0.22859758138656616,
           0.1165766492486,
           0.12675747275352478,
           0.1022384762763977,
           0.12042593955993652,
           0.03099723719060421,
           0.13761742413043976,
           0.2878568172454834,
           0.1404642015695572,
           0.009436899796128273,
           0.13888069987297058,
           0.29483577609062195,
           0.1675916165113449,
           0.017848694697022438,
           0.07927636802196503,
           0.14051634073257446,
           0.02317822352051735,
           0.11014732718467712,
           0.03438923880457878,
           0.20007605850696564,
           0.1944011151790619
          ],
          [
           0.080121710896492,
           -0.06558844447135925,
           0.1366177499294281,
           -0.02516334131360054,
           0.08647327870130539,
           0.003064942779019475,
           0.38131293654441833,
           0.5393261313438416,
           1.0000003576278687,
           0.20816126465797424,
           0.27944862842559814,
           0.1200280487537384,
           0.12791520357131958,
           0.19770607352256775,
           0.07710343599319458,
           0.22923919558525085,
           0.27165329456329346,
           0.15294019877910614,
           0.28843122720718384,
           0.15215328335762024,
           0.1417582631111145,
           0.03214845061302185,
           0.20433545112609863,
           0.18614311516284943,
           0.02246840111911297,
           0.007829815149307251,
           0.04188462719321251,
           0.05476706102490425,
           0.098176509141922,
           0.03170280531048775,
           0.09865926206111908,
           0.11135844141244888,
           0.23162545263767242,
           0.11570006608963013,
           0.08649469166994095,
           0.09893424808979034,
           0.17812682688236237,
           0.16306637227535248,
           0.13098755478858948,
           0.11836838722229004,
           0.13506905734539032,
           0.18268468976020813,
           0.1741853952407837,
           0.0996914878487587,
           0.03089093416929245,
           0.061108823865652084,
           0.164536252617836,
           0.17307186126708984,
           0.047820430248975754,
           0.1000005304813385,
           0.08871196210384369,
           0.037841372191905975,
           0.1494147777557373,
           0.03472062945365906,
           0.36411136388778687,
           0.13782896101474762,
           -0.02976136840879917,
           0.11109982430934906,
           0.1351325511932373,
           -0.04930780827999115,
           0.1036558523774147,
           0.0733700543642044,
           0.05781178921461105,
           0.06762007623910904
          ],
          [
           0.03747296705842018,
           0.04851372539997101,
           0.057065822184085846,
           0.18271030485630035,
           0.10194559395313263,
           0.006253696978092194,
           -0.022853169590234756,
           0.2087664157152176,
           0.20816126465797424,
           0.9999998807907104,
           0.18251968920230865,
           0.18984831869602203,
           0.008325927890837193,
           0.19018912315368652,
           0.06347011029720306,
           0.10396160930395126,
           0.11876639723777771,
           0.13090693950653076,
           0.13610701262950897,
           0.26634418964385986,
           0.28457674384117126,
           0.23078879714012146,
           0.06837815791368484,
           0.010256201028823853,
           -0.009422287344932556,
           0.16900578141212463,
           0.1251906305551529,
           -0.03211062401533127,
           0.10965492576360703,
           0.11186382919549942,
           0.11887315660715103,
           0.17361615598201752,
           0.11258271336555481,
           0.16080914437770844,
           0.09249671548604965,
           0.15133856236934662,
           0.19499801099300385,
           0.22746582329273224,
           0.04711630940437317,
           0.06527978926897049,
           0.10446867346763611,
           0.25010618567466736,
           0.22956253588199615,
           0.23346732556819916,
           0.1776132732629776,
           0.12454003840684891,
           0.18541589379310608,
           0.12567059695720673,
           0.11423461139202118,
           0.020559875294566154,
           0.12009886652231216,
           0.05603002384305,
           0.07056529074907303,
           0.0812501609325409,
           0.08926835656166077,
           0.06943799555301666,
           0.08681176602840424,
           0.14904099702835083,
           0.12243814021348953,
           0.005616181530058384,
           0.05625094845890999,
           0.04533764347434044,
           0.1223718449473381,
           -0.0327286422252655
          ],
          [
           -0.063474141061306,
           0.030680682510137558,
           0.028940843418240547,
           0.07459533959627151,
           0.09598395973443985,
           0.027482861652970314,
           0.08595184981822968,
           0.23588989675045013,
           0.27944862842559814,
           0.18251968920230865,
           0.9999998807907104,
           0.456785649061203,
           0.1554548144340515,
           0.07253552228212357,
           0.1911516636610031,
           0.27610155940055847,
           0.16838523745536804,
           0.14467129111289978,
           0.11262477934360504,
           0.25094571709632874,
           0.17788036167621613,
           0.10247614979743958,
           0.16564106941223145,
           0.13383683562278748,
           0.1405045986175537,
           0.11355163902044296,
           0.05646425485610962,
           0.20458245277404785,
           0.11628060787916183,
           0.2564825117588043,
           0.21167084574699402,
           0.14616481959819794,
           0.07792840898036957,
           0.25843897461891174,
           0.08957642316818237,
           0.11491672694683075,
           0.15407077968120575,
           0.1874169409275055,
           0.1589861363172531,
           0.16625472903251648,
           0.010884705930948257,
           0.1138806864619255,
           0.04721558094024658,
           0.15010184049606323,
           0.06554730981588364,
           0.1730584055185318,
           0.16526180505752563,
           0.2028564214706421,
           0.019976625218987465,
           0.1257316619157791,
           0.23744924366474152,
           0.15053461492061615,
           0.03504953905940056,
           0.1878465712070465,
           0.15379256010055542,
           0.11856663972139359,
           -0.010541706345975399,
           0.09628156572580338,
           0.13545575737953186,
           0.04092204198241234,
           0.03955359756946564,
           0.08323251456022263,
           0.1301007717847824,
           -0.04819267988204956
          ],
          [
           0.136593759059906,
           0.18172673881053925,
           -0.06348744034767151,
           -0.07089338451623917,
           0.004357977770268917,
           0.04311858117580414,
           -0.015347533859312534,
           0.03827798739075661,
           0.1200280487537384,
           0.18984831869602203,
           0.456785649061203,
           1,
           0.09316945821046829,
           0.014348757453262806,
           0.007863890379667282,
           0.09114114195108414,
           0.197982519865036,
           0.16416186094284058,
           0.09395653009414673,
           0.25933849811553955,
           0.14246845245361328,
           0.14532706141471863,
           0.12698951363563538,
           0.07135295867919922,
           0.13881157338619232,
           0.08333368599414825,
           0.13788408041000366,
           0.1591099500656128,
           0.15265971422195435,
           0.2562125325202942,
           0.23591461777687073,
           0.1698509156703949,
           0.24431109428405762,
           0.30780360102653503,
           0.09976924955844879,
           0.11939920485019684,
           0.14642693102359772,
           0.1987377554178238,
           0.11734029650688171,
           0.029540983960032463,
           0.07906492054462433,
           0.19909268617630005,
           0.1775277554988861,
           0.22043076157569885,
           0.1763143390417099,
           0.030368300154805183,
           0.12921692430973053,
           0.08748195320367813,
           -0.07618388533592224,
           0.12734027206897736,
           0.00023613125085830688,
           0.07015891373157501,
           0.05581565946340561,
           0.1380191296339035,
           0.17837154865264893,
           0.1688108891248703,
           0.0933096706867218,
           -0.0003417247789911926,
           0.12512487173080444,
           0.15470042824745178,
           0.16724127531051636,
           0.10621650516986847,
           0.047462254762649536,
           0.057042445987463
          ],
          [
           0.0488397516310215,
           0.010931199416518211,
           0.0791664645075798,
           0.060658711940050125,
           -0.018481528386473656,
           -0.0240611732006073,
           0.11689697951078415,
           0.13641449809074402,
           0.12791520357131958,
           0.008325927890837193,
           0.1554548144340515,
           0.09316945821046829,
           0.9999997615814209,
           0.20484808087348938,
           0.11955981701612473,
           0.11752433329820633,
           0.15342344343662262,
           0.3373654782772064,
           0.13306695222854614,
           0.20729778707027435,
           0.1509847193956375,
           0.08730709552764893,
           0.09043288230895996,
           0.18298833072185516,
           0.12171898037195206,
           0.113674595952034,
           0.1703861504793167,
           0.12416175752878189,
           0.18445730209350586,
           0.14939600229263306,
           0.13395622372627258,
           0.18087343871593475,
           0.11699895560741425,
           0.13362038135528564,
           0.2955291271209717,
           0.1183064877986908,
           0.11148715019226074,
           0.15543372929096222,
           0.31395334005355835,
           0.3129168748855591,
           0.1830834001302719,
           0.11954125761985779,
           0.020067378878593445,
           0.11642558127641678,
           0.04798811674118042,
           0.078177310526371,
           0.18620546162128448,
           0.011065592989325523,
           0.021993529051542282,
           0.013230419717729092,
           0.09310542047023773,
           0.10442451387643814,
           0.05166975036263466,
           0.2024470567703247,
           0.10566326230764389,
           0.01659395731985569,
           0.006332102697342634,
           0.3087911605834961,
           0.07978958636522293,
           0.046374138444662094,
           -0.06117759644985199,
           0.051743991672992706,
           0.004874364007264376,
           -0.05344598367810249
          ],
          [
           0.15563124418258667,
           0.015225252136588097,
           -0.02763739414513111,
           0.14565975964069366,
           -0.000017836644474300556,
           0.026972385123372078,
           0.05569903180003166,
           0.21406401693820953,
           0.19770607352256775,
           0.19018912315368652,
           0.07253552228212357,
           0.014348757453262806,
           0.20484808087348938,
           1,
           0.2554328441619873,
           0.10450739413499832,
           0.1593344360589981,
           0.17350298166275024,
           0.12191878259181976,
           0.1148669570684433,
           0.07989268004894257,
           0.07194388657808304,
           0.20362520217895508,
           0.025290697813034058,
           0.10208626091480255,
           0.14906007051467896,
           0.20219235122203827,
           0.16185764968395233,
           0.22606498003005981,
           0.12550467252731323,
           0.18999601900577545,
           0.14479318261146545,
           0.15486285090446472,
           0.2385474145412445,
           0.163431316614151,
           0.22106002271175385,
           0.11271217465400696,
           0.15401394665241241,
           0.0940995141863823,
           0.09981883317232132,
           0.09198125451803207,
           0.21000149846076965,
           0.18961778283119202,
           0.21081528067588806,
           0.09797028452157974,
           0.07862947136163712,
           0.2563357949256897,
           0.10370882600545883,
           0.09316327422857285,
           0.07890112698078156,
           0.10106347501277924,
           0.09516242146492004,
           0.050174906849861145,
           0.07184001803398132,
           0.17841336131095886,
           0.1687689870595932,
           -0.03393663093447685,
           0.17364747822284698,
           0.19997823238372803,
           0.12428426742553711,
           0.0021295149344950914,
           0.04577035456895828,
           0.007798439357429743,
           0.08334098011255264
          ],
          [
           0.015155864879488945,
           0.09478423744440079,
           0.03761687129735947,
           0.14330269396305084,
           0.24319688975811005,
           0.2284153550863266,
           -0.02223341539502144,
           0.10955972969532013,
           0.07710343599319458,
           0.06347011029720306,
           0.1911516636610031,
           0.007863890379667282,
           0.11955981701612473,
           0.2554328441619873,
           1,
           0.111050546169281,
           0.19405540823936462,
           0.07138843089342117,
           -0.03248778358101845,
           0.010426182299852371,
           0.19938445091247559,
           0.058331482112407684,
           0.00918714702129364,
           -0.014888007193803787,
           0.1027807965874672,
           0.14824745059013367,
           0.07814157009124756,
           0.09501408040523529,
           0.16540294885635376,
           0.13918575644493103,
           0.16587533056735992,
           0.2064918428659439,
           0.09523733705282211,
           0.14085246622562408,
           0.1827922761440277,
           0.11587417870759964,
           0.13337326049804688,
           0.13511362671852112,
           0.06296226382255554,
           0.19409702718257904,
           0.14448904991149902,
           0.16592277586460114,
           0.16435472667217255,
           0.2034858614206314,
           0.006210131570696831,
           0.113474041223526,
           0.08658558130264282,
           0.048512548208236694,
           0.04952525347471237,
           0.08764176815748215,
           0.020821020007133484,
           0.04675896465778351,
           0.08287256956100464,
           0.08147231489419937,
           0.13939262926578522,
           0.1642642617225647,
           -0.0565536767244339,
           0.1260271519422531,
           0.10680229961872101,
           -0.07908023148775101,
           0.09399327635765076,
           0.12459693849086761,
           -0.0747750923037529,
           0.0831688940525055
          ],
          [
           -0.0034162825904786587,
           0.04249807074666023,
           0.07883977890014648,
           0.03986905887722969,
           0.06486635655164719,
           0.04695584997534752,
           0.26365625858306885,
           0.21909300982952118,
           0.22923919558525085,
           0.10396160930395126,
           0.27610155940055847,
           0.09114114195108414,
           0.11752433329820633,
           0.10450739413499832,
           0.111050546169281,
           0.9999996423721313,
           0.35195955634117126,
           0.36773887276649475,
           0.26454252004623413,
           0.3939027488231659,
           0.41107016801834106,
           0.36531972885131836,
           0.3109714388847351,
           0.3086388409137726,
           0.3619202673435211,
           0.3059273660182953,
           0.334348201751709,
           0.3109129071235657,
           0.3056752383708954,
           0.2137015014886856,
           0.24308285117149353,
           0.2954516112804413,
           0.2496887594461441,
           0.2925263047218323,
           0.2646884024143219,
           0.3363926112651825,
           0.28798505663871765,
           0.27133262157440186,
           0.24703752994537354,
           0.32005995512008667,
           0.3571978211402893,
           0.2835151255130768,
           0.2831931412220001,
           0.2064886838197708,
           0.1534608006477356,
           0.16532590985298157,
           0.10707399994134903,
           0.18164469301700592,
           0.05534043908119202,
           0.2877977788448334,
           0.29181143641471863,
           0.11836617439985275,
           0.27996599674224854,
           0.19676725566387177,
           0.3227733373641968,
           0.30971720814704895,
           0.1103990375995636,
           0.189053013920784,
           0.25800982117652893,
           0.2681017518043518,
           0.1081116572022438,
           0.1585870087146759,
           0.11891557276248932,
           0.12077393382787704
          ],
          [
           0.0665973648428917,
           0.08552202582359314,
           0.12727034091949463,
           -0.07532625645399094,
           0.12330489605665207,
           0.18451246619224548,
           0.24167394638061523,
           0.2671511173248291,
           0.27165329456329346,
           0.11876639723777771,
           0.16838523745536804,
           0.197982519865036,
           0.15342344343662262,
           0.1593344360589981,
           0.19405540823936462,
           0.35195955634117126,
           1.0000001192092896,
           0.5157100558280945,
           0.3255738914012909,
           0.3336312174797058,
           0.4013573229312897,
           0.39218032360076904,
           0.3836416006088257,
           0.3489309847354889,
           0.28204047679901123,
           0.2694456875324249,
           0.3012119233608246,
           0.368147075176239,
           0.4564518630504608,
           0.3067953884601593,
           0.4408361613750458,
           0.3987753689289093,
           0.48675769567489624,
           0.41304653882980347,
           0.22309446334838867,
           0.3813911974430084,
           0.37674975395202637,
           0.3144999146461487,
           0.3645327687263489,
           0.3062039911746979,
           0.3550826609134674,
           0.29961737990379333,
           0.2645811438560486,
           0.19326446950435638,
           0.10274578630924225,
           0.12587837874889374,
           0.09069955348968506,
           0.23634092509746552,
           0.03279094025492668,
           0.224116250872612,
           0.2635578513145447,
           0.254428893327713,
           0.18450932204723358,
           0.28312399983406067,
           0.46427133679389954,
           0.42906007170677185,
           0.08363345265388489,
           0.30968841910362244,
           0.16032443940639496,
           0.10561837255954742,
           0.20122408866882324,
           0.17070436477661133,
           0.2160017490386963,
           0.08680044114589691
          ],
          [
           0.12302462011575699,
           0.126693993806839,
           0.0767432451248169,
           0.07767308503389359,
           0.09283246099948883,
           0.18799279630184174,
           0.2822033166885376,
           0.18278442323207855,
           0.15294019877910614,
           0.13090693950653076,
           0.14467129111289978,
           0.16416186094284058,
           0.3373654782772064,
           0.17350298166275024,
           0.07138843089342117,
           0.36773887276649475,
           0.5157100558280945,
           1,
           0.32852840423583984,
           0.4705466628074646,
           0.45934733748435974,
           0.38838404417037964,
           0.3933946192264557,
           0.27187973260879517,
           0.28128552436828613,
           0.34699249267578125,
           0.26569703221321106,
           0.21989834308624268,
           0.31783920526504517,
           0.33448782563209534,
           0.5008436441421509,
           0.3123725354671478,
           0.3826160728931427,
           0.3358621597290039,
           0.28317204117774963,
           0.4651463031768799,
           0.3243928551673889,
           0.28617826104164124,
           0.40528371930122375,
           0.39657652378082275,
           0.3899509012699127,
           0.18743887543678284,
           0.3368054926395416,
           0.26507997512817383,
           0.09729032963514328,
           0.1880931556224823,
           0.1900571584701538,
           0.1454584151506424,
           0.07248380780220032,
           0.21318362653255463,
           0.24660684168338776,
           0.08803252875804901,
           0.1946679949760437,
           0.2236199676990509,
           0.35390689969062805,
           0.26418185234069824,
           0.2091928869485855,
           0.3961130976676941,
           0.26572343707084656,
           0.2553451359272003,
           0.18214790523052216,
           0.1123829185962677,
           0.16758163273334503,
           0.09858886152505875
          ],
          [
           0.08657535165548325,
           0.07200585305690765,
           0.018219243735074997,
           0.15220487117767334,
           0.07876364886760712,
           0.057881277054548264,
           0.15971645712852478,
           0.13721013069152832,
           0.28843122720718384,
           0.13610701262950897,
           0.11262477934360504,
           0.09395653009414673,
           0.13306695222854614,
           0.12191878259181976,
           -0.03248778358101845,
           0.26454252004623413,
           0.3255738914012909,
           0.32852840423583984,
           1.0000001192092896,
           0.47144439816474915,
           0.35460421442985535,
           0.4041763246059418,
           0.43302038311958313,
           0.5560848116874695,
           0.4492623209953308,
           0.3875640332698822,
           0.21860598027706146,
           0.4646359384059906,
           0.35335132479667664,
           0.2947123646736145,
           0.41038548946380615,
           0.4373406767845154,
           0.4518561363220215,
           0.424175888299942,
           0.3062051236629486,
           0.27242228388786316,
           0.45893603563308716,
           0.45272666215896606,
           0.34510698914527893,
           0.2527100443840027,
           0.36203545331954956,
           0.25255051255226135,
           0.3466522693634033,
           0.14023073017597198,
           0.17192457616329193,
           0.19164201617240906,
           0.18932366371154785,
           0.16596214473247528,
           0.22722044587135315,
           0.18009717762470245,
           0.30264171957969666,
           0.2607157528400421,
           0.2603640854358673,
           0.21743890643119812,
           0.2677827775478363,
           0.3206348121166229,
           0.16988956928253174,
           0.19486168026924133,
           0.11295700073242188,
           0.16269399225711823,
           0.10594373196363449,
           0.1378767490386963,
           0.1574704498052597,
           0.14989344775676727
          ],
          [
           0.1629679948091507,
           0.05100180581212044,
           0.0074839419685304165,
           0.1758294701576233,
           -0.02394125983119011,
           0.11801405251026154,
           0.2659796178340912,
           0.2309810072183609,
           0.15215328335762024,
           0.26634418964385986,
           0.25094571709632874,
           0.25933849811553955,
           0.20729778707027435,
           0.1148669570684433,
           0.010426182299852371,
           0.3939027488231659,
           0.3336312174797058,
           0.4705466628074646,
           0.47144439816474915,
           1,
           0.49772486090660095,
           0.42762014269828796,
           0.36184316873550415,
           0.3459952175617218,
           0.44160574674606323,
           0.4535124599933624,
           0.2631869614124298,
           0.4639036953449249,
           0.32594382762908936,
           0.402340292930603,
           0.3556443452835083,
           0.3578253984451294,
           0.41498997807502747,
           0.5286990404129028,
           0.32733145356178284,
           0.31737297773361206,
           0.4238028824329376,
           0.33430424332618713,
           0.27221301198005676,
           0.2244679480791092,
           0.37754082679748535,
           0.19943076372146606,
           0.37600284814834595,
           0.19109989702701569,
           0.14177991449832916,
           0.1868663728237152,
           0.23413603007793427,
           0.1853424310684204,
           0.16135135293006897,
           0.07250488549470901,
           0.2628353238105774,
           0.2780023217201233,
           0.21709607541561127,
           0.20906539261341095,
           0.21558207273483276,
           0.3979650139808655,
           0.23539967834949493,
           0.19114787876605988,
           0.10168557614088058,
           0.2587931752204895,
           0.1690824031829834,
           0.07472637295722961,
           0.19047342240810394,
           0.08108430355787277
          ],
          [
           0.060001760721206665,
           0.003915006294846535,
           0.0310132447630167,
           0.07120905816555023,
           0.10712634027004242,
           0.08941976726055145,
           0.051616180688142776,
           0.1867675930261612,
           0.1417582631111145,
           0.28457674384117126,
           0.17788036167621613,
           0.14246845245361328,
           0.1509847193956375,
           0.07989268004894257,
           0.19938445091247559,
           0.41107016801834106,
           0.4013573229312897,
           0.45934733748435974,
           0.35460421442985535,
           0.49772486090660095,
           1.0000001192092896,
           0.45036566257476807,
           0.4841945171356201,
           0.4256184697151184,
           0.43331190943717957,
           0.45021042227745056,
           0.4814702570438385,
           0.3253418505191803,
           0.47015440464019775,
           0.33325067162513733,
           0.4400407075881958,
           0.4998284876346588,
           0.39229413866996765,
           0.35011276602745056,
           0.41259410977363586,
           0.372780442237854,
           0.40475091338157654,
           0.4967209994792938,
           0.3735446035861969,
           0.32529470324516296,
           0.3324533700942993,
           0.2953660488128662,
           0.3152756989002228,
           0.21262919902801514,
           0.1186397597193718,
           0.2426179200410843,
           0.17995379865169525,
           0.23639103770256042,
           0.24568943679332733,
           0.1901704967021942,
           0.35185807943344116,
           0.25179001688957214,
           0.2463996410369873,
           0.28648841381073,
           0.2954680323600769,
           0.25204628705978394,
           0.20430023968219757,
           0.25890985131263733,
           0.23303543031215668,
           0.24101154506206512,
           0.32626160979270935,
           0.06590045243501663,
           0.22800585627555847,
           0.0885901004076004
          ],
          [
           0.05576092004776001,
           0.01481588650494814,
           0.07932621240615845,
           0.07917936146259308,
           0.07381124794483185,
           0.038523200899362564,
           0.1288980394601822,
           0.13360817730426788,
           0.03214845061302185,
           0.23078879714012146,
           0.10247614979743958,
           0.14532706141471863,
           0.08730709552764893,
           0.07194388657808304,
           0.058331482112407684,
           0.36531972885131836,
           0.39218032360076904,
           0.38838404417037964,
           0.4041763246059418,
           0.42762014269828796,
           0.45036566257476807,
           0.9999997615814209,
           0.40649351477622986,
           0.527811586856842,
           0.41113701462745667,
           0.3388882577419281,
           0.30425792932510376,
           0.23121041059494019,
           0.2666207551956177,
           0.34273216128349304,
           0.3712490499019623,
           0.4103088080883026,
           0.3257804214954376,
           0.4732789695262909,
           0.3543831408023834,
           0.3626716136932373,
           0.355329692363739,
           0.39382636547088623,
           0.43479469418525696,
           0.3406319320201874,
           0.4872174859046936,
           0.3096081018447876,
           0.2738780975341797,
           0.301107794046402,
           0.08559487760066986,
           0.236251562833786,
           0.1469331532716751,
           0.30671972036361694,
           0.3596978485584259,
           0.3341042399406433,
           0.2809964418411255,
           0.17457886040210724,
           0.24852707982063293,
           0.17845289409160614,
           0.2701228857040405,
           0.25817760825157166,
           0.20936666429042816,
           0.2897574305534363,
           0.21330280601978302,
           0.12994714081287384,
           0.24659870564937592,
           0.10264448076486588,
           0.217413067817688,
           0.23063631355762482
          ],
          [
           0.11173292994499207,
           0.0753202885389328,
           0.009900317527353764,
           0.06162220239639282,
           0.05697561800479889,
           0.18466970324516296,
           0.24806095659732819,
           0.17695483565330505,
           0.20433545112609863,
           0.06837815791368484,
           0.16564106941223145,
           0.12698951363563538,
           0.09043288230895996,
           0.20362520217895508,
           0.00918714702129364,
           0.3109714388847351,
           0.3836416006088257,
           0.3933946192264557,
           0.43302038311958313,
           0.36184316873550415,
           0.4841945171356201,
           0.40649351477622986,
           0.9999997019767761,
           0.6149842739105225,
           0.43566545844078064,
           0.45291486382484436,
           0.4647407829761505,
           0.4694289565086365,
           0.5443108677864075,
           0.5065982341766357,
           0.5884518623352051,
           0.43643295764923096,
           0.41232532262802124,
           0.3899151682853699,
           0.2931639552116394,
           0.3511536419391632,
           0.4819851815700531,
           0.34951457381248474,
           0.6124172806739807,
           0.33068251609802246,
           0.2747659683227539,
           0.30195048451423645,
           0.3150058388710022,
           0.2906610667705536,
           0.047435514628887177,
           0.17537268996238708,
           0.22041934728622437,
           0.2648641765117645,
           0.2998414933681488,
           0.22770053148269653,
           0.26913559436798096,
           0.2733096480369568,
           0.35455355048179626,
           0.23055793344974518,
           0.3118951916694641,
           0.29245880246162415,
           0.19313670694828033,
           0.30101293325424194,
           0.26016294956207275,
           0.1655762493610382,
           0.2723594009876251,
           0.12669312953948975,
           0.24991059303283691,
           0.18169720470905304
          ],
          [
           0.04005452245473862,
           -0.06429823487997055,
           0.05315396934747696,
           -0.00008005648851394653,
           0.03157540038228035,
           0.0756906047463417,
           0.1708158403635025,
           0.09713715314865112,
           0.18614311516284943,
           0.010256201028823853,
           0.13383683562278748,
           0.07135295867919922,
           0.18298833072185516,
           0.025290697813034058,
           -0.014888007193803787,
           0.3086388409137726,
           0.3489309847354889,
           0.27187973260879517,
           0.5560848116874695,
           0.3459952175617218,
           0.4256184697151184,
           0.527811586856842,
           0.6149842739105225,
           0.9999996423721313,
           0.48636704683303833,
           0.4902891218662262,
           0.4873223602771759,
           0.35502558946609497,
           0.2853545844554901,
           0.3318803608417511,
           0.42973199486732483,
           0.32027629017829895,
           0.383449524641037,
           0.2913625240325928,
           0.352865606546402,
           0.23259806632995605,
           0.6054335832595825,
           0.4985674321651459,
           0.5770638585090637,
           0.43116524815559387,
           0.41909703612327576,
           0.21477779746055603,
           0.26181527972221375,
           0.18912741541862488,
           0.1035090759396553,
           0.2149481326341629,
           0.12801890075206757,
           0.3456155061721802,
           0.31491124629974365,
           0.29807114601135254,
           0.33973968029022217,
           0.39275431632995605,
           0.24557608366012573,
           0.2209484875202179,
           0.27665117383003235,
           0.16597972810268402,
           0.22052165865898132,
           0.29778236150741577,
           0.2499466836452484,
           0.1803312599658966,
           0.1604231297969818,
           0.15688489377498627,
           0.18680380284786224,
           0.1782880425453186
          ],
          [
           0.0678270012140274,
           0.00035758441663347185,
           0.04670289158821106,
           0.11856264621019363,
           0.06471728533506393,
           0.21021415293216705,
           -0.03234838321805,
           0.129208505153656,
           0.02246840111911297,
           -0.009422287344932556,
           0.1405045986175537,
           0.13881157338619232,
           0.12171898037195206,
           0.10208626091480255,
           0.1027807965874672,
           0.3619202673435211,
           0.28204047679901123,
           0.28128552436828613,
           0.4492623209953308,
           0.44160574674606323,
           0.43331190943717957,
           0.41113701462745667,
           0.43566545844078064,
           0.48636704683303833,
           1,
           0.4832284152507782,
           0.4597245752811432,
           0.4419861435890198,
           0.3433137834072113,
           0.28004762530326843,
           0.42716479301452637,
           0.4407424032688141,
           0.36780303716659546,
           0.42869460582733154,
           0.39416465163230896,
           0.35755598545074463,
           0.5058915615081787,
           0.556289792060852,
           0.39182204008102417,
           0.33442404866218567,
           0.31791940331459045,
           0.24005334079265594,
           0.33472099900245667,
           0.2535110116004944,
           0.19276323914527893,
           0.1101904809474945,
           0.0811905711889267,
           0.2805035412311554,
           0.17980888485908508,
           0.223798006772995,
           0.31599393486976624,
           0.25297123193740845,
           0.31126219034194946,
           0.19236792623996735,
           0.28940993547439575,
           0.26204055547714233,
           0.28341901302337646,
           0.14492960274219513,
           0.17467717826366425,
           0.2698937654495239,
           0.17412398755550385,
           0.19323033094406128,
           0.09248027950525284,
           0.22694668173789978
          ],
          [
           0.09067967534065247,
           0.04579392075538635,
           -0.002387669403105974,
           0.16064830124378204,
           0.2724541127681732,
           0.22469550371170044,
           0.07939229160547256,
           0.10070137679576874,
           0.007829815149307251,
           0.16900578141212463,
           0.11355163902044296,
           0.08333368599414825,
           0.113674595952034,
           0.14906007051467896,
           0.14824745059013367,
           0.3059273660182953,
           0.2694456875324249,
           0.34699249267578125,
           0.3875640332698822,
           0.4535124599933624,
           0.45021042227745056,
           0.3388882577419281,
           0.45291486382484436,
           0.4902891218662262,
           0.4832284152507782,
           0.9999998211860657,
           0.5517652630805969,
           0.5552890300750732,
           0.43771201372146606,
           0.28876984119415283,
           0.410906583070755,
           0.4143994450569153,
           0.4618713855743408,
           0.4190605580806732,
           0.36901533603668213,
           0.3272051513195038,
           0.38888609409332275,
           0.3763737380504608,
           0.39852336049079895,
           0.3007377088069916,
           0.3085356652736664,
           0.14012686908245087,
           0.2726207971572876,
           0.17662407457828522,
           0.04895348846912384,
           0.24522939324378967,
           0.1561451554298401,
           0.2133845090866089,
           0.17054173350334167,
           0.2733979821205139,
           0.2625892758369446,
           0.2817842960357666,
           0.21082937717437744,
           0.38982903957366943,
           0.1967965066432953,
           0.24718651175498962,
           0.23683106899261475,
           0.20807532966136932,
           0.18396137654781342,
           0.12153640389442444,
           0.3296571969985962,
           0.3056384027004242,
           0.13442717492580414,
           0.18481801450252533
          ],
          [
           0.0629180520772934,
           0.07315785437822342,
           -0.01769823208451271,
           0.057449933141469955,
           0.194431334733963,
           0.2719118595123291,
           -0.006567089352756739,
           0.11335539817810059,
           0.04188462719321251,
           0.1251906305551529,
           0.05646425485610962,
           0.13788408041000366,
           0.1703861504793167,
           0.20219235122203827,
           0.07814157009124756,
           0.334348201751709,
           0.3012119233608246,
           0.26569703221321106,
           0.21860598027706146,
           0.2631869614124298,
           0.4814702570438385,
           0.30425792932510376,
           0.4647407829761505,
           0.4873223602771759,
           0.4597245752811432,
           0.5517652630805969,
           1,
           0.34857234358787537,
           0.36843380331993103,
           0.2940353751182556,
           0.39120686054229736,
           0.35903650522232056,
           0.28582796454429626,
           0.3589016795158386,
           0.34259161353111267,
           0.36915159225463867,
           0.4219140410423279,
           0.44311022758483887,
           0.30971622467041016,
           0.34199491143226624,
           0.29589658975601196,
           0.21015827357769012,
           0.26455387473106384,
           0.18738003075122833,
           0.05765734612941742,
           0.20630523562431335,
           0.07278498262166977,
           0.26419201493263245,
           0.16382727026939392,
           0.27106553316116333,
           0.28744786977767944,
           0.24235624074935913,
           0.19270773231983185,
           0.24290703237056732,
           0.17763936519622803,
           0.24243983626365662,
           0.2401876300573349,
           0.1434004008769989,
           0.20716537535190582,
           0.04375171661376953,
           0.26911991834640503,
           0.23531179130077362,
           0.14090576767921448,
           0.21823057532310486
          ],
          [
           0.10886051505804062,
           0.1772519201040268,
           0.07870282232761383,
           0.10358379036188126,
           0.14164908230304718,
           0.1585690975189209,
           0.15238383412361145,
           0.11397857218980789,
           0.05476706102490425,
           -0.03211062401533127,
           0.20458245277404785,
           0.1591099500656128,
           0.12416175752878189,
           0.16185764968395233,
           0.09501408040523529,
           0.3109129071235657,
           0.368147075176239,
           0.21989834308624268,
           0.4646359384059906,
           0.4639036953449249,
           0.3253418505191803,
           0.23121041059494019,
           0.4694289565086365,
           0.35502558946609497,
           0.4419861435890198,
           0.5552890300750732,
           0.34857234358787537,
           0.9999998807907104,
           0.6281957626342773,
           0.3395976424217224,
           0.37063658237457275,
           0.4238334000110626,
           0.4187329411506653,
           0.4793279767036438,
           0.36681339144706726,
           0.2892376482486725,
           0.29442381858825684,
           0.35276103019714355,
           0.46711185574531555,
           0.2916899025440216,
           0.329139769077301,
           0.20933939516544342,
           0.27209845185279846,
           0.20823392271995544,
           0.12480416893959045,
           0.10891824960708618,
           0.14191284775733948,
           0.1747574657201767,
           0.15997940301895142,
           0.2357565313577652,
           0.27200090885162354,
           0.1899690479040146,
           0.28527507185935974,
           0.39517942070961,
           0.21720382571220398,
           0.40982115268707275,
           0.15793579816818237,
           0.12680110335350037,
           0.13921856880187988,
           0.19518350064754486,
           0.20663005113601685,
           0.2808471918106079,
           0.09151790291070938,
           0.08933542668819427
          ],
          [
           0.14604632556438446,
           0.12085095793008804,
           0.005868365056812763,
           0.08004248142242432,
           0.16546399891376495,
           0.19524087011814117,
           0.09433314949274063,
           0.1915522813796997,
           0.098176509141922,
           0.10965492576360703,
           0.11628060787916183,
           0.15265971422195435,
           0.18445730209350586,
           0.22606498003005981,
           0.16540294885635376,
           0.3056752383708954,
           0.4564518630504608,
           0.31783920526504517,
           0.35335132479667664,
           0.32594382762908936,
           0.47015440464019775,
           0.2666207551956177,
           0.5443108677864075,
           0.2853545844554901,
           0.3433137834072113,
           0.43771201372146606,
           0.36843380331993103,
           0.6281957626342773,
           1,
           0.3739730417728424,
           0.5068785548210144,
           0.47280967235565186,
           0.35828956961631775,
           0.3676934540271759,
           0.3575567305088043,
           0.2757977843284607,
           0.3193971514701843,
           0.3962283432483673,
           0.42160603404045105,
           0.3565613329410553,
           0.2568413019180298,
           0.2380339503288269,
           0.23016871511936188,
           0.20929263532161713,
           0.1265585720539093,
           0.14677029848098755,
           0.14828787744045258,
           0.14677369594573975,
           0.14082762598991394,
           0.24631614983081818,
           0.38388311862945557,
           0.23509632050991058,
           0.2151063233613968,
           0.3895561993122101,
           0.18828721344470978,
           0.39716383814811707,
           0.012861409224569798,
           0.17156925797462463,
           0.15466426312923431,
           0.2523583769798279,
           0.32913637161254883,
           0.25373780727386475,
           0.1809931993484497,
           0.02781892754137516
          ],
          [
           0.1110866516828537,
           0.14161664247512817,
           0.10463810712099075,
           0.1649753302335739,
           0.11728230118751526,
           0.0521063394844532,
           0.09139606356620789,
           0.15252196788787842,
           0.03170280531048775,
           0.11186382919549942,
           0.2564825117588043,
           0.2562125325202942,
           0.14939600229263306,
           0.12550467252731323,
           0.13918575644493103,
           0.2137015014886856,
           0.3067953884601593,
           0.33448782563209534,
           0.2947123646736145,
           0.402340292930603,
           0.33325067162513733,
           0.34273216128349304,
           0.5065982341766357,
           0.3318803608417511,
           0.28004762530326843,
           0.28876984119415283,
           0.2940353751182556,
           0.3395976424217224,
           0.3739730417728424,
           0.9999998807907104,
           0.5485246181488037,
           0.5373366475105286,
           0.34838375449180603,
           0.3766915202140808,
           0.22514544427394867,
           0.29499706625938416,
           0.3203073740005493,
           0.41587135195732117,
           0.3706260025501251,
           0.26285454630851746,
           0.2540279030799866,
           0.3308190405368805,
           0.21626009047031403,
           0.22986923158168793,
           0.09611142426729202,
           0.21488672494888306,
           0.17494753003120422,
           0.15073826909065247,
           0.1454085409641266,
           0.2554336190223694,
           0.2040470689535141,
           0.178730770945549,
           0.35393622517585754,
           0.4019363522529602,
           0.2171531766653061,
           0.292991042137146,
           0.20778284966945648,
           0.1928701102733612,
           0.21734027564525604,
           0.17536500096321106,
           0.4138637185096741,
           0.20745597779750824,
           0.259576678276062,
           0.10162831842899323
          ],
          [
           0.19259434938430786,
           0.14355459809303284,
           0.0932634174823761,
           0.09343286603689194,
           0.03135843575000763,
           0.16919264197349548,
           0.13225673139095306,
           0.09451952576637268,
           0.09865926206111908,
           0.11887315660715103,
           0.21167084574699402,
           0.23591461777687073,
           0.13395622372627258,
           0.18999601900577545,
           0.16587533056735992,
           0.24308285117149353,
           0.4408361613750458,
           0.5008436441421509,
           0.41038548946380615,
           0.3556443452835083,
           0.4400407075881958,
           0.3712490499019623,
           0.5884518623352051,
           0.42973199486732483,
           0.42716479301452637,
           0.410906583070755,
           0.39120686054229736,
           0.37063658237457275,
           0.5068785548210144,
           0.5485246181488037,
           1.0000001192092896,
           0.5653034448623657,
           0.5448410511016846,
           0.5504724383354187,
           0.3507893681526184,
           0.4037485718727112,
           0.4901489019393921,
           0.4952360987663269,
           0.47840747237205505,
           0.32713910937309265,
           0.2884438931941986,
           0.29419517517089844,
           0.2792925238609314,
           0.25743046402931213,
           0.15247397124767303,
           0.252536803483963,
           0.06975919753313065,
           0.20287004113197327,
           0.14791260659694672,
           0.41664958000183105,
           0.34109997749328613,
           0.2668464183807373,
           0.3468335270881653,
           0.28505316376686096,
           0.34524327516555786,
           0.31313377618789673,
           0.17664577066898346,
           0.25618693232536316,
           0.19816365838050842,
           0.190281942486763,
           0.2004362791776657,
           0.052286021411418915,
           0.17309045791625977,
           0.19117242097854614
          ],
          [
           0.1738937497138977,
           0.16030631959438324,
           0.08372288942337036,
           0.05559095740318298,
           0.05729267746210098,
           0.1765678972005844,
           0.04758573696017265,
           0.17029504477977753,
           0.11135844141244888,
           0.17361615598201752,
           0.14616481959819794,
           0.1698509156703949,
           0.18087343871593475,
           0.14479318261146545,
           0.2064918428659439,
           0.2954516112804413,
           0.3987753689289093,
           0.3123725354671478,
           0.4373406767845154,
           0.3578253984451294,
           0.4998284876346588,
           0.4103088080883026,
           0.43643295764923096,
           0.32027629017829895,
           0.4407424032688141,
           0.4143994450569153,
           0.35903650522232056,
           0.4238334000110626,
           0.47280967235565186,
           0.5373366475105286,
           0.5653034448623657,
           1,
           0.4927369952201843,
           0.5127379894256592,
           0.48899027705192566,
           0.3197711408138275,
           0.49045705795288086,
           0.609691321849823,
           0.4523807764053345,
           0.4338493347167969,
           0.30857083201408386,
           0.405447781085968,
           0.24139206111431122,
           0.2469765841960907,
           0.13586318492889404,
           0.2716134786605835,
           0.1392662078142166,
           0.20557309687137604,
           0.23805083334445953,
           0.18100506067276,
           0.3323889672756195,
           0.22899828851222992,
           0.38141578435897827,
           0.4332744777202606,
           0.3708087205886841,
           0.3471454679965973,
           0.17157046496868134,
           0.21508969366550446,
           0.24653615057468414,
           0.106660857796669,
           0.25043049454689026,
           0.021469447761774063,
           0.17643049359321594,
           0.19894610345363617
          ],
          [
           0.14297369122505188,
           0.060873545706272125,
           0.18054212629795074,
           0.006989624351263046,
           0.03983907774090767,
           0.14907678961753845,
           0.20772729814052582,
           0.2504376471042633,
           0.23162545263767242,
           0.11258271336555481,
           0.07792840898036957,
           0.24431109428405762,
           0.11699895560741425,
           0.15486285090446472,
           0.09523733705282211,
           0.2496887594461441,
           0.48675769567489624,
           0.3826160728931427,
           0.4518561363220215,
           0.41498997807502747,
           0.39229413866996765,
           0.3257804214954376,
           0.41232532262802124,
           0.383449524641037,
           0.36780303716659546,
           0.4618713855743408,
           0.28582796454429626,
           0.4187329411506653,
           0.35828956961631775,
           0.34838375449180603,
           0.5448410511016846,
           0.4927369952201843,
           1.0000001192092896,
           0.5448403358459473,
           0.3682127296924591,
           0.2994629144668579,
           0.32021602988243103,
           0.4006527066230774,
           0.36094194650650024,
           0.25547388195991516,
           0.43097519874572754,
           0.4050169587135315,
           0.28692832589149475,
           0.33224621415138245,
           0.2474803924560547,
           0.23105621337890625,
           0.19192975759506226,
           0.13860532641410828,
           0.11579345166683197,
           0.2768082916736603,
           0.26310181617736816,
           0.26213109493255615,
           0.2695627510547638,
           0.3817513883113861,
           0.3639771342277527,
           0.30145472288131714,
           0.16411235928535461,
           0.25930821895599365,
           0.20929010212421417,
           0.18401554226875305,
           0.17884987592697144,
           0.08632797747850418,
           0.12525606155395508,
           0.20365318655967712
          ],
          [
           0.11115539819002151,
           0.05677579343318939,
           0.04618038609623909,
           0.0976601392030716,
           0.09371475130319595,
           0.05953030288219452,
           0.09858924150466919,
           0.20223911106586456,
           0.11570006608963013,
           0.16080914437770844,
           0.25843897461891174,
           0.30780360102653503,
           0.13362038135528564,
           0.2385474145412445,
           0.14085246622562408,
           0.2925263047218323,
           0.41304653882980347,
           0.3358621597290039,
           0.424175888299942,
           0.5286990404129028,
           0.35011276602745056,
           0.4732789695262909,
           0.3899151682853699,
           0.2913625240325928,
           0.42869460582733154,
           0.4190605580806732,
           0.3589016795158386,
           0.4793279767036438,
           0.3676934540271759,
           0.3766915202140808,
           0.5504724383354187,
           0.5127379894256592,
           0.5448403358459473,
           1,
           0.35028076171875,
           0.34205183386802673,
           0.5197137594223022,
           0.4121439456939697,
           0.3617487847805023,
           0.2818392813205719,
           0.2990051805973053,
           0.47069087624549866,
           0.2894192934036255,
           0.1819753348827362,
           0.11147233843803406,
           0.15746037662029266,
           0.13167183101177216,
           0.14496910572052002,
           0.1749374121427536,
           0.27275580167770386,
           0.3132019340991974,
           0.24820740520954132,
           0.1874355971813202,
           0.3137779235839844,
           0.30725350975990295,
           0.3828699290752411,
           0.1709614396095276,
           0.23936156928539276,
           0.22777396440505981,
           0.24407368898391724,
           0.1997038722038269,
           0.002509510377421975,
           0.18904158473014832,
           0.09949803352355957
          ],
          [
           0.15096482634544373,
           0.011441925540566444,
           0.04659753665328026,
           0.10839951038360596,
           0.09761950373649597,
           0.1757757067680359,
           -0.038394443690776825,
           0.15284672379493713,
           0.08649469166994095,
           0.09249671548604965,
           0.08957642316818237,
           0.09976924955844879,
           0.2955291271209717,
           0.163431316614151,
           0.1827922761440277,
           0.2646884024143219,
           0.22309446334838867,
           0.28317204117774963,
           0.3062051236629486,
           0.32733145356178284,
           0.41259410977363586,
           0.3543831408023834,
           0.2931639552116394,
           0.352865606546402,
           0.39416465163230896,
           0.36901533603668213,
           0.34259161353111267,
           0.36681339144706726,
           0.3575567305088043,
           0.22514544427394867,
           0.3507893681526184,
           0.48899027705192566,
           0.3682127296924591,
           0.35028076171875,
           1,
           0.39740055799484253,
           0.370574027299881,
           0.46331989765167236,
           0.4101862907409668,
           0.4608169198036194,
           0.2540157735347748,
           0.203080415725708,
           0.2225314974784851,
           0.12587401270866394,
           0.06898722052574158,
           0.11439653486013412,
           0.19561779499053955,
           0.1983916014432907,
           0.03486595302820206,
           0.3408338725566864,
           0.320074200630188,
           0.271902859210968,
           0.24146640300750732,
           0.21213072538375854,
           0.15895229578018188,
           0.15995174646377563,
           0.12166132032871246,
           0.3861429691314697,
           0.22858507931232452,
           0.08188718557357788,
           0.18633343279361725,
           0.07422937452793121,
           0.01796211116015911,
           0.1903209090232849
          ],
          [
           0.1468646377325058,
           0.1357499063014984,
           0.08381987363100052,
           0.05467391014099121,
           -0.012265765108168125,
           0.119287870824337,
           0.08178134262561798,
           0.21404847502708435,
           0.09893424808979034,
           0.15133856236934662,
           0.11491672694683075,
           0.11939920485019684,
           0.1183064877986908,
           0.22106002271175385,
           0.11587417870759964,
           0.3363926112651825,
           0.3813911974430084,
           0.4651463031768799,
           0.27242228388786316,
           0.31737297773361206,
           0.372780442237854,
           0.3626716136932373,
           0.3511536419391632,
           0.23259806632995605,
           0.35755598545074463,
           0.3272051513195038,
           0.36915159225463867,
           0.2892376482486725,
           0.2757977843284607,
           0.29499706625938416,
           0.4037485718727112,
           0.3197711408138275,
           0.2994629144668579,
           0.34205183386802673,
           0.39740055799484253,
           1,
           0.39272141456604004,
           0.3880304992198944,
           0.385100394487381,
           0.3332551419734955,
           0.37167471647262573,
           0.1815325915813446,
           0.3288140296936035,
           0.3170962929725647,
           0.03872799873352051,
           0.1197037622332573,
           0.15500253438949585,
           0.20806826651096344,
           0.18483953177928925,
           0.34100431203842163,
           0.3397555649280548,
           0.10680392384529114,
           0.3651006817817688,
           0.25388026237487793,
           0.2408222258090973,
           0.3362640142440796,
           0.24462319910526276,
           0.27523231506347656,
           0.34821006655693054,
           0.13515302538871765,
           0.21095222234725952,
           0.1510990411043167,
           0.22040890157222748,
           0.09580989181995392
          ],
          [
           0.14932791888713837,
           0.05426153540611267,
           -0.014211965724825859,
           0.11007870733737946,
           0.11235913634300232,
           0.18959227204322815,
           0.1240927204489708,
           0.1482454538345337,
           0.17812682688236237,
           0.19499801099300385,
           0.15407077968120575,
           0.14642693102359772,
           0.11148715019226074,
           0.11271217465400696,
           0.13337326049804688,
           0.28798505663871765,
           0.37674975395202637,
           0.3243928551673889,
           0.45893603563308716,
           0.4238028824329376,
           0.40475091338157654,
           0.355329692363739,
           0.4819851815700531,
           0.6054335832595825,
           0.5058915615081787,
           0.38888609409332275,
           0.4219140410423279,
           0.29442381858825684,
           0.3193971514701843,
           0.3203073740005493,
           0.4901489019393921,
           0.49045705795288086,
           0.32021602988243103,
           0.5197137594223022,
           0.370574027299881,
           0.39272141456604004,
           1.0000001192092896,
           0.5951734185218811,
           0.3996339738368988,
           0.5334557294845581,
           0.3112601339817047,
           0.2821319103240967,
           0.4038384258747101,
           0.24154654145240784,
           0.16191263496875763,
           0.12791164219379425,
           0.023156601935625076,
           0.19323848187923431,
           0.23058833181858063,
           0.29041674733161926,
           0.3368283808231354,
           0.3119393289089203,
           0.28127485513687134,
           0.2762327492237091,
           0.3034549653530121,
           0.26861152052879333,
           0.27232715487480164,
           0.38515764474868774,
           0.46158161759376526,
           0.16617554426193237,
           0.20578135550022125,
           0.04506715387105942,
           0.20201529562473297,
           0.11450309306383133
          ],
          [
           0.17136149108409882,
           0.10713464766740799,
           0.06394896656274796,
           -0.016568899154663086,
           0.05923202633857727,
           0.15622761845588684,
           0.06360577046871185,
           0.17358461022377014,
           0.16306637227535248,
           0.22746582329273224,
           0.1874169409275055,
           0.1987377554178238,
           0.15543372929096222,
           0.15401394665241241,
           0.13511362671852112,
           0.27133262157440186,
           0.3144999146461487,
           0.28617826104164124,
           0.45272666215896606,
           0.33430424332618713,
           0.4967209994792938,
           0.39382636547088623,
           0.34951457381248474,
           0.4985674321651459,
           0.556289792060852,
           0.3763737380504608,
           0.44311022758483887,
           0.35276103019714355,
           0.3962283432483673,
           0.41587135195732117,
           0.4952360987663269,
           0.609691321849823,
           0.4006527066230774,
           0.4121439456939697,
           0.46331989765167236,
           0.3880304992198944,
           0.5951734185218811,
           0.9999999403953552,
           0.3949551284313202,
           0.4235026240348816,
           0.4322272539138794,
           0.3509142994880676,
           0.22229889035224915,
           0.25302359461784363,
           0.16151484847068787,
           0.10953011363744736,
           0.11183550953865051,
           0.19019462168216705,
           0.22169645130634308,
           0.33112633228302,
           0.4431682825088501,
           0.3032878339290619,
           0.3119669556617737,
           0.2986581027507782,
           0.34136340022087097,
           0.20995908975601196,
           0.2459230124950409,
           0.2944501042366028,
           0.275249719619751,
           0.16487984359264374,
           0.18710686266422272,
           0.12124209105968475,
           0.24222171306610107,
           0.14867371320724487
          ],
          [
           0.015250904485583305,
           0.10323546081781387,
           0.18891747295856476,
           0.06713204085826874,
           0.07596264034509659,
           0.08729672431945801,
           0.07394825667142868,
           0.06820309162139893,
           0.13098755478858948,
           0.04711630940437317,
           0.1589861363172531,
           0.11734029650688171,
           0.31395334005355835,
           0.0940995141863823,
           0.06296226382255554,
           0.24703752994537354,
           0.3645327687263489,
           0.40528371930122375,
           0.34510698914527893,
           0.27221301198005676,
           0.3735446035861969,
           0.43479469418525696,
           0.6124172806739807,
           0.5770638585090637,
           0.39182204008102417,
           0.39852336049079895,
           0.30971622467041016,
           0.46711185574531555,
           0.42160603404045105,
           0.3706260025501251,
           0.47840747237205505,
           0.4523807764053345,
           0.36094194650650024,
           0.3617487847805023,
           0.4101862907409668,
           0.385100394487381,
           0.3996339738368988,
           0.3949551284313202,
           1,
           0.5503600835800171,
           0.2899065613746643,
           0.22143766283988953,
           0.12367909401655197,
           0.22120356559753418,
           0.005274944007396698,
           0.11697902530431747,
           0.15300190448760986,
           0.2657502591609955,
           0.28976306319236755,
           0.22091896831989288,
           0.19840580224990845,
           0.20953470468521118,
           0.3558078706264496,
           0.28445953130722046,
           0.20629534125328064,
           0.24496077001094818,
           0.10563163459300995,
           0.4130766987800598,
           0.3153819739818573,
           0.2116284966468811,
           0.20830613374710083,
           0.13228724896907806,
           0.047690268605947495,
           0.010322466492652893
          ],
          [
           0.018588803708553314,
           0.19941973686218262,
           0.20532985031604767,
           0.05395318940281868,
           0.08899225294589996,
           0.09442499279975891,
           0.11517401039600372,
           0.12562456727027893,
           0.11836838722229004,
           0.06527978926897049,
           0.16625472903251648,
           0.029540983960032463,
           0.3129168748855591,
           0.09981883317232132,
           0.19409702718257904,
           0.32005995512008667,
           0.3062039911746979,
           0.39657652378082275,
           0.2527100443840027,
           0.2244679480791092,
           0.32529470324516296,
           0.3406319320201874,
           0.33068251609802246,
           0.43116524815559387,
           0.33442404866218567,
           0.3007377088069916,
           0.34199491143226624,
           0.2916899025440216,
           0.3565613329410553,
           0.26285454630851746,
           0.32713910937309265,
           0.4338493347167969,
           0.25547388195991516,
           0.2818392813205719,
           0.4608169198036194,
           0.3332551419734955,
           0.5334557294845581,
           0.4235026240348816,
           0.5503600835800171,
           0.9999998807907104,
           0.2920372784137726,
           0.2156277894973755,
           0.25699952244758606,
           0.26724472641944885,
           0.06507918238639832,
           0.16318315267562866,
           0.20196345448493958,
           0.13397425413131714,
           0.07763063907623291,
           0.27659302949905396,
           0.3117448389530182,
           0.27437618374824524,
           0.27525997161865234,
           0.31359875202178955,
           0.1643853634595871,
           0.2646782696247101,
           0.10732926428318024,
           0.47123900055885315,
           0.38936591148376465,
           0.1647166907787323,
           0.1616370975971222,
           0.06351994723081589,
           0.056539274752140045,
           0.019421221688389778
          ],
          [
           0.20756252110004425,
           0.09535342454910278,
           0.10274794697761536,
           0.0993751734495163,
           -0.02246573008596897,
           0.13784176111221313,
           0.0746726542711258,
           0.12532499432563782,
           0.13506905734539032,
           0.10446867346763611,
           0.010884705930948257,
           0.07906492054462433,
           0.1830834001302719,
           0.09198125451803207,
           0.14448904991149902,
           0.3571978211402893,
           0.3550826609134674,
           0.3899509012699127,
           0.36203545331954956,
           0.37754082679748535,
           0.3324533700942993,
           0.4872174859046936,
           0.2747659683227539,
           0.41909703612327576,
           0.31791940331459045,
           0.3085356652736664,
           0.29589658975601196,
           0.329139769077301,
           0.2568413019180298,
           0.2540279030799866,
           0.2884438931941986,
           0.30857083201408386,
           0.43097519874572754,
           0.2990051805973053,
           0.2540157735347748,
           0.37167471647262573,
           0.3112601339817047,
           0.4322272539138794,
           0.2899065613746643,
           0.2920372784137726,
           1,
           0.476012647151947,
           0.5060866475105286,
           0.5119925737380981,
           0.35023874044418335,
           0.3190039396286011,
           0.34716981649398804,
           0.14425237476825714,
           0.24161522090435028,
           0.2544945776462555,
           0.28618165850639343,
           0.22935661673545837,
           0.43323275446891785,
           0.2768888771533966,
           0.28792208433151245,
           0.23467616736888885,
           0.1728973090648651,
           0.29790031909942627,
           0.2626889944076538,
           0.08974513411521912,
           0.11795877665281296,
           0.1235695406794548,
           0.25293686985969543,
           0.17930316925048828
          ],
          [
           0.1420293152332306,
           -0.05725037679076195,
           0.06927912682294846,
           0.0059117600321769714,
           0.0024878503754734993,
           0.02900540456175804,
           0.029025457799434662,
           0.29659852385520935,
           0.18268468976020813,
           0.25010618567466736,
           0.1138806864619255,
           0.19909268617630005,
           0.11954125761985779,
           0.21000149846076965,
           0.16592277586460114,
           0.2835151255130768,
           0.29961737990379333,
           0.18743887543678284,
           0.25255051255226135,
           0.19943076372146606,
           0.2953660488128662,
           0.3096081018447876,
           0.30195048451423645,
           0.21477779746055603,
           0.24005334079265594,
           0.14012686908245087,
           0.21015827357769012,
           0.20933939516544342,
           0.2380339503288269,
           0.3308190405368805,
           0.29419517517089844,
           0.405447781085968,
           0.4050169587135315,
           0.47069087624549866,
           0.203080415725708,
           0.1815325915813446,
           0.2821319103240967,
           0.3509142994880676,
           0.22143766283988953,
           0.2156277894973755,
           0.476012647151947,
           1.0000003576278687,
           0.4797183573246002,
           0.5101838707923889,
           0.31889063119888306,
           0.31272777915000916,
           0.40068894624710083,
           0.14865633845329285,
           0.1124008297920227,
           0.2592458426952362,
           0.2841006815433502,
           0.16192582249641418,
           0.25420239567756653,
           0.21513010561466217,
           0.2951622009277344,
           0.1912761777639389,
           0.2592351734638214,
           0.290996253490448,
           0.19486187398433685,
           0.1254810392856598,
           0.18011070787906647,
           0.09409217536449432,
           0.053462378680706024,
           0.16589170694351196
          ],
          [
           0.10353897511959076,
           -0.005522892344743013,
           -0.04207737743854523,
           0.0969342291355133,
           -0.050666920840740204,
           0.01269470900297165,
           0.13438373804092407,
           0.2321164309978485,
           0.1741853952407837,
           0.22956253588199615,
           0.04721558094024658,
           0.1775277554988861,
           0.020067378878593445,
           0.18961778283119202,
           0.16435472667217255,
           0.2831931412220001,
           0.2645811438560486,
           0.3368054926395416,
           0.3466522693634033,
           0.37600284814834595,
           0.3152756989002228,
           0.2738780975341797,
           0.3150058388710022,
           0.26181527972221375,
           0.33472099900245667,
           0.2726207971572876,
           0.26455387473106384,
           0.27209845185279846,
           0.23016871511936188,
           0.21626009047031403,
           0.2792925238609314,
           0.24139206111431122,
           0.28692832589149475,
           0.2894192934036255,
           0.2225314974784851,
           0.3288140296936035,
           0.4038384258747101,
           0.22229889035224915,
           0.12367909401655197,
           0.25699952244758606,
           0.5060866475105286,
           0.4797183573246002,
           0.9999999403953552,
           0.5493640899658203,
           0.49112945795059204,
           0.37072572112083435,
           0.4182734191417694,
           0.0990542620420456,
           0.07307912409305573,
           0.22291849553585052,
           0.2355419397354126,
           0.21294231712818146,
           0.22609582543373108,
           0.15237963199615479,
           0.21850568056106567,
           0.21312224864959717,
           0.2254120409488678,
           0.22815684974193573,
           0.11946234107017517,
           0.11682653427124023,
           0.17142075300216675,
           0.11816491186618805,
           0.19346100091934204,
           0.2494569569826126
          ],
          [
           0.1505064219236374,
           -0.03389846906065941,
           -0.0021458242554217577,
           0.22039136290550232,
           0.0772060826420784,
           0.1249435693025589,
           0.1240406408905983,
           0.22859758138656616,
           0.0996914878487587,
           0.23346732556819916,
           0.15010184049606323,
           0.22043076157569885,
           0.11642558127641678,
           0.21081528067588806,
           0.2034858614206314,
           0.2064886838197708,
           0.19326446950435638,
           0.26507997512817383,
           0.14023073017597198,
           0.19109989702701569,
           0.21262919902801514,
           0.301107794046402,
           0.2906610667705536,
           0.18912741541862488,
           0.2535110116004944,
           0.17662407457828522,
           0.18738003075122833,
           0.20823392271995544,
           0.20929263532161713,
           0.22986923158168793,
           0.25743046402931213,
           0.2469765841960907,
           0.33224621415138245,
           0.1819753348827362,
           0.12587401270866394,
           0.3170962929725647,
           0.24154654145240784,
           0.25302359461784363,
           0.22120356559753418,
           0.26724472641944885,
           0.5119925737380981,
           0.5101838707923889,
           0.5493640899658203,
           1.0000001192092896,
           0.37952128052711487,
           0.39085158705711365,
           0.3548309803009033,
           0.11473645269870758,
           0.14657633006572723,
           0.327698677778244,
           0.24889279901981354,
           0.12025626748800278,
           0.17717483639717102,
           0.08864656090736389,
           0.05962744727730751,
           0.16396677494049072,
           0.26487213373184204,
           0.20493048429489136,
           0.24006670713424683,
           0.07144080847501755,
           0.15479229390621185,
           0.20720216631889343,
           0.23052559792995453,
           0.16548529267311096
          ],
          [
           0.10331270098686218,
           0.06869757920503616,
           0.05209086835384369,
           0.13984012603759766,
           -0.07989394664764404,
           0.06805448979139328,
           0.0067408643662929535,
           0.1165766492486,
           0.03089093416929245,
           0.1776132732629776,
           0.06554730981588364,
           0.1763143390417099,
           0.04798811674118042,
           0.09797028452157974,
           0.006210131570696831,
           0.1534608006477356,
           0.10274578630924225,
           0.09729032963514328,
           0.17192457616329193,
           0.14177991449832916,
           0.1186397597193718,
           0.08559487760066986,
           0.047435514628887177,
           0.1035090759396553,
           0.19276323914527893,
           0.04895348846912384,
           0.05765734612941742,
           0.12480416893959045,
           0.1265585720539093,
           0.09611142426729202,
           0.15247397124767303,
           0.13586318492889404,
           0.2474803924560547,
           0.11147233843803406,
           0.06898722052574158,
           0.03872799873352051,
           0.16191263496875763,
           0.16151484847068787,
           0.005274944007396698,
           0.06507918238639832,
           0.35023874044418335,
           0.31889063119888306,
           0.49112945795059204,
           0.37952128052711487,
           1,
           0.28725868463516235,
           0.27309033274650574,
           0.059861037880182266,
           0.14258821308612823,
           0.14229947328567505,
           0.12537336349487305,
           0.028560243546962738,
           0.151325985789299,
           0.06164971739053726,
           0.08626864850521088,
           -0.002283873036503792,
           0.060174085199832916,
           0.02178090438246727,
           0.01787651516497135,
           0.12232356518507004,
           0.007029468193650246,
           -0.021159779280424118,
           0.1902880072593689,
           0.1958051323890686
          ],
          [
           0.061385657638311386,
           0.038558509200811386,
           0.06142047792673111,
           0.41791510581970215,
           0.08445584028959274,
           0.0982109010219574,
           0.13761869072914124,
           0.12675747275352478,
           0.061108823865652084,
           0.12454003840684891,
           0.1730584055185318,
           0.030368300154805183,
           0.078177310526371,
           0.07862947136163712,
           0.113474041223526,
           0.16532590985298157,
           0.12587837874889374,
           0.1880931556224823,
           0.19164201617240906,
           0.1868663728237152,
           0.2426179200410843,
           0.236251562833786,
           0.17537268996238708,
           0.2149481326341629,
           0.1101904809474945,
           0.24522939324378967,
           0.20630523562431335,
           0.10891824960708618,
           0.14677029848098755,
           0.21488672494888306,
           0.252536803483963,
           0.2716134786605835,
           0.23105621337890625,
           0.15746037662029266,
           0.11439653486013412,
           0.1197037622332573,
           0.12791164219379425,
           0.10953011363744736,
           0.11697902530431747,
           0.16318315267562866,
           0.3190039396286011,
           0.31272777915000916,
           0.37072572112083435,
           0.39085158705711365,
           0.28725868463516235,
           0.9999999403953552,
           0.3626202940940857,
           0.17624162137508392,
           0.1695774495601654,
           0.1958567500114441,
           0.1476821005344391,
           0.11143072694540024,
           0.1730160415172577,
           0.12784607708454132,
           0.11308614909648895,
           0.16884538531303406,
           0.2147713452577591,
           0.1837480515241623,
           0.11852150410413742,
           0.04427867755293846,
           -0.034539464861154556,
           -0.10037994384765625,
           0.12370578199625015,
           0.11108142882585526
          ],
          [
           0.2444489598274231,
           -0.015415996313095093,
           0.18027570843696594,
           0.09186283499002457,
           -0.027039816603064537,
           -0.038332536816596985,
           0.09973819553852081,
           0.1022384762763977,
           0.164536252617836,
           0.18541589379310608,
           0.16526180505752563,
           0.12921692430973053,
           0.18620546162128448,
           0.2563357949256897,
           0.08658558130264282,
           0.10707399994134903,
           0.09069955348968506,
           0.1900571584701538,
           0.18932366371154785,
           0.23413603007793427,
           0.17995379865169525,
           0.1469331532716751,
           0.22041934728622437,
           0.12801890075206757,
           0.0811905711889267,
           0.1561451554298401,
           0.07278498262166977,
           0.14191284775733948,
           0.14828787744045258,
           0.17494753003120422,
           0.06975919753313065,
           0.1392662078142166,
           0.19192975759506226,
           0.13167183101177216,
           0.19561779499053955,
           0.15500253438949585,
           0.023156601935625076,
           0.11183550953865051,
           0.15300190448760986,
           0.20196345448493958,
           0.34716981649398804,
           0.40068894624710083,
           0.4182734191417694,
           0.3548309803009033,
           0.27309033274650574,
           0.3626202940940857,
           1.0000001192092896,
           0.08821043372154236,
           0.22120173275470734,
           0.09295616298913956,
           0.09423127770423889,
           0.028255553916096687,
           0.07700679451227188,
           0.11461003124713898,
           0.07086625695228577,
           0.15628427267074585,
           0.06320419907569885,
           0.22369679808616638,
           0.1047849953174591,
           0.0410492904484272,
           -0.028828337788581848,
           0.08066578954458237,
           0.0317392572760582,
           -0.03625498339533806
          ],
          [
           -0.01169336773455143,
           -0.057992756366729736,
           0.00909150205552578,
           0.015868183225393295,
           0.032515913248062134,
           0.14557717740535736,
           0.09622003138065338,
           0.12042593955993652,
           0.17307186126708984,
           0.12567059695720673,
           0.2028564214706421,
           0.08748195320367813,
           0.011065592989325523,
           0.10370882600545883,
           0.048512548208236694,
           0.18164469301700592,
           0.23634092509746552,
           0.1454584151506424,
           0.16596214473247528,
           0.1853424310684204,
           0.23639103770256042,
           0.30671972036361694,
           0.2648641765117645,
           0.3456155061721802,
           0.2805035412311554,
           0.2133845090866089,
           0.26419201493263245,
           0.1747574657201767,
           0.14677369594573975,
           0.15073826909065247,
           0.20287004113197327,
           0.20557309687137604,
           0.13860532641410828,
           0.14496910572052002,
           0.1983916014432907,
           0.20806826651096344,
           0.19323848187923431,
           0.19019462168216705,
           0.2657502591609955,
           0.13397425413131714,
           0.14425237476825714,
           0.14865633845329285,
           0.0990542620420456,
           0.11473645269870758,
           0.059861037880182266,
           0.17624162137508392,
           0.08821043372154236,
           0.9999998211860657,
           0.22098448872566223,
           0.13744999468326569,
           0.3576045036315918,
           0.07206116616725922,
           0.17676982283592224,
           0.1336139738559723,
           0.07007239013910294,
           0.14049911499023438,
           0.0503484383225441,
           0.3234664797782898,
           0.06425157934427261,
           0.10498159378767014,
           0.17874149978160858,
           0.06594700366258621,
           0.1906999796628952,
           0.2662064731121063
          ],
          [
           0.06083560362458229,
           0.0019108563428744674,
           0.14097920060157776,
           0.13707618415355682,
           -0.00279778940603137,
           0.012205811217427254,
           0.06173420324921608,
           0.03099723719060421,
           0.047820430248975754,
           0.11423461139202118,
           0.019976625218987465,
           -0.07618388533592224,
           0.021993529051542282,
           0.09316327422857285,
           0.04952525347471237,
           0.05534043908119202,
           0.03279094025492668,
           0.07248380780220032,
           0.22722044587135315,
           0.16135135293006897,
           0.24568943679332733,
           0.3596978485584259,
           0.2998414933681488,
           0.31491124629974365,
           0.17980888485908508,
           0.17054173350334167,
           0.16382727026939392,
           0.15997940301895142,
           0.14082762598991394,
           0.1454085409641266,
           0.14791260659694672,
           0.23805083334445953,
           0.11579345166683197,
           0.1749374121427536,
           0.03486595302820206,
           0.18483953177928925,
           0.23058833181858063,
           0.22169645130634308,
           0.28976306319236755,
           0.07763063907623291,
           0.24161522090435028,
           0.1124008297920227,
           0.07307912409305573,
           0.14657633006572723,
           0.14258821308612823,
           0.1695774495601654,
           0.22120173275470734,
           0.22098448872566223,
           1.0000001192092896,
           0.11499308794736862,
           0.2138851433992386,
           0.05873434618115425,
           0.17467720806598663,
           0.12728562951087952,
           0.09434439986944199,
           0.11768762022256851,
           0.21218879520893097,
           0.041354190558195114,
           0.1925228089094162,
           -0.039705101400613785,
           0.01489434577524662,
           0.010151734575629234,
           0.20189842581748962,
           0.050805866718292236
          ],
          [
           0.12390332669019699,
           0.04025638476014137,
           0.13758490979671478,
           0.09043636173009872,
           0.08315826952457428,
           -0.001363806426525116,
           0.03609783574938774,
           0.13761742413043976,
           0.1000005304813385,
           0.020559875294566154,
           0.1257316619157791,
           0.12734027206897736,
           0.013230419717729092,
           0.07890112698078156,
           0.08764176815748215,
           0.2877977788448334,
           0.224116250872612,
           0.21318362653255463,
           0.18009717762470245,
           0.07250488549470901,
           0.1901704967021942,
           0.3341042399406433,
           0.22770053148269653,
           0.29807114601135254,
           0.223798006772995,
           0.2733979821205139,
           0.27106553316116333,
           0.2357565313577652,
           0.24631614983081818,
           0.2554336190223694,
           0.41664958000183105,
           0.18100506067276,
           0.2768082916736603,
           0.27275580167770386,
           0.3408338725566864,
           0.34100431203842163,
           0.29041674733161926,
           0.33112633228302,
           0.22091896831989288,
           0.27659302949905396,
           0.2544945776462555,
           0.2592458426952362,
           0.22291849553585052,
           0.327698677778244,
           0.14229947328567505,
           0.1958567500114441,
           0.09295616298913956,
           0.13744999468326569,
           0.11499308794736862,
           0.9999999403953552,
           0.21265701949596405,
           0.20498237013816833,
           0.15051881968975067,
           0.1043696254491806,
           0.24180448055267334,
           0.20107021927833557,
           0.20144222676753998,
           0.2110917866230011,
           0.13943998515605927,
           0.014525514096021652,
           0.11673573404550552,
           0.16189448535442352,
           0.09980756044387817,
           0.22724078595638275
          ],
          [
           0.1268782913684845,
           -0.0067834071815013885,
           0.022835299372673035,
           0.06475580483675003,
           0.0700027197599411,
           0.03842218220233917,
           0.1187523677945137,
           0.2878568172454834,
           0.08871196210384369,
           0.12009886652231216,
           0.23744924366474152,
           0.00023613125085830688,
           0.09310542047023773,
           0.10106347501277924,
           0.020821020007133484,
           0.29181143641471863,
           0.2635578513145447,
           0.24660684168338776,
           0.30264171957969666,
           0.2628353238105774,
           0.35185807943344116,
           0.2809964418411255,
           0.26913559436798096,
           0.33973968029022217,
           0.31599393486976624,
           0.2625892758369446,
           0.28744786977767944,
           0.27200090885162354,
           0.38388311862945557,
           0.2040470689535141,
           0.34109997749328613,
           0.3323889672756195,
           0.26310181617736816,
           0.3132019340991974,
           0.320074200630188,
           0.3397555649280548,
           0.3368283808231354,
           0.4431682825088501,
           0.19840580224990845,
           0.3117448389530182,
           0.28618165850639343,
           0.2841006815433502,
           0.2355419397354126,
           0.24889279901981354,
           0.12537336349487305,
           0.1476821005344391,
           0.09423127770423889,
           0.3576045036315918,
           0.2138851433992386,
           0.21265701949596405,
           0.9999999403953552,
           0.36498457193374634,
           0.3043212890625,
           0.36170750856399536,
           0.20387670397758484,
           0.18514999747276306,
           0.1428377628326416,
           0.20784321427345276,
           0.2173706293106079,
           0.0872788205742836,
           0.22556334733963013,
           0.15986678004264832,
           0.23658013343811035,
           0.06334590911865234
          ],
          [
           -0.021561330184340477,
           -0.0070388964377343655,
           -0.02651847153902054,
           0.014953378587961197,
           -0.03602278232574463,
           0.058726683259010315,
           -0.04640289768576622,
           0.1404642015695572,
           0.037841372191905975,
           0.05603002384305,
           0.15053461492061615,
           0.07015891373157501,
           0.10442451387643814,
           0.09516242146492004,
           0.04675896465778351,
           0.11836617439985275,
           0.254428893327713,
           0.08803252875804901,
           0.2607157528400421,
           0.2780023217201233,
           0.25179001688957214,
           0.17457886040210724,
           0.2733096480369568,
           0.39275431632995605,
           0.25297123193740845,
           0.2817842960357666,
           0.24235624074935913,
           0.1899690479040146,
           0.23509632050991058,
           0.178730770945549,
           0.2668464183807373,
           0.22899828851222992,
           0.26213109493255615,
           0.24820740520954132,
           0.271902859210968,
           0.10680392384529114,
           0.3119393289089203,
           0.3032878339290619,
           0.20953470468521118,
           0.27437618374824524,
           0.22935661673545837,
           0.16192582249641418,
           0.21294231712818146,
           0.12025626748800278,
           0.028560243546962738,
           0.11143072694540024,
           0.028255553916096687,
           0.07206116616725922,
           0.05873434618115425,
           0.20498237013816833,
           0.36498457193374634,
           1,
           0.14122243225574493,
           0.07896531373262405,
           0.027355452999472618,
           0.08515699207782745,
           0.19126473367214203,
           0.1399521380662918,
           0.120075523853302,
           0.13570575416088104,
           0.01912320777773857,
           0.043376822024583817,
           0.11934270709753036,
           0.1556389033794403
          ],
          [
           0.32688915729522705,
           0.3610296845436096,
           0.36726412177085876,
           0.17426857352256775,
           0.1352330893278122,
           0.0708499625325203,
           0.11548002064228058,
           0.009436899796128273,
           0.1494147777557373,
           0.07056529074907303,
           0.03504953905940056,
           0.05581565946340561,
           0.05166975036263466,
           0.050174906849861145,
           0.08287256956100464,
           0.27996599674224854,
           0.18450932204723358,
           0.1946679949760437,
           0.2603640854358673,
           0.21709607541561127,
           0.2463996410369873,
           0.24852707982063293,
           0.35455355048179626,
           0.24557608366012573,
           0.31126219034194946,
           0.21082937717437744,
           0.19270773231983185,
           0.28527507185935974,
           0.2151063233613968,
           0.35393622517585754,
           0.3468335270881653,
           0.38141578435897827,
           0.2695627510547638,
           0.1874355971813202,
           0.24146640300750732,
           0.3651006817817688,
           0.28127485513687134,
           0.3119669556617737,
           0.3558078706264496,
           0.27525997161865234,
           0.43323275446891785,
           0.25420239567756653,
           0.22609582543373108,
           0.17717483639717102,
           0.151325985789299,
           0.1730160415172577,
           0.07700679451227188,
           0.17676982283592224,
           0.17467720806598663,
           0.15051881968975067,
           0.3043212890625,
           0.14122243225574493,
           1,
           0.33473101258277893,
           0.2936652898788452,
           0.3380844295024872,
           0.18172618746757507,
           0.3025061786174774,
           0.3036714196205139,
           0.06466737389564514,
           0.0782792717218399,
           0.040160585194826126,
           0.0758783146739006,
           0.12112127244472504
          ],
          [
           0.08216369152069092,
           0.17636406421661377,
           0.24950669705867767,
           0.05981385335326195,
           0.17718376219272614,
           0.03538871556520462,
           0.003003302961587906,
           0.13888069987297058,
           0.03472062945365906,
           0.0812501609325409,
           0.1878465712070465,
           0.1380191296339035,
           0.2024470567703247,
           0.07184001803398132,
           0.08147231489419937,
           0.19676725566387177,
           0.28312399983406067,
           0.2236199676990509,
           0.21743890643119812,
           0.20906539261341095,
           0.28648841381073,
           0.17845289409160614,
           0.23055793344974518,
           0.2209484875202179,
           0.19236792623996735,
           0.38982903957366943,
           0.24290703237056732,
           0.39517942070961,
           0.3895561993122101,
           0.4019363522529602,
           0.28505316376686096,
           0.4332744777202606,
           0.3817513883113861,
           0.3137779235839844,
           0.21213072538375854,
           0.25388026237487793,
           0.2762327492237091,
           0.2986581027507782,
           0.28445953130722046,
           0.31359875202178955,
           0.2768888771533966,
           0.21513010561466217,
           0.15237963199615479,
           0.08864656090736389,
           0.06164971739053726,
           0.12784607708454132,
           0.11461003124713898,
           0.1336139738559723,
           0.12728562951087952,
           0.1043696254491806,
           0.36170750856399536,
           0.07896531373262405,
           0.33473101258277893,
           0.9999997615814209,
           0.43623313307762146,
           0.4013764262199402,
           0.21761660277843475,
           0.17196024954319,
           0.07108475267887115,
           0.10180532187223434,
           0.26063138246536255,
           0.16806620359420776,
           0.13516584038734436,
           0.043012719601392746
          ],
          [
           0.06772158294916153,
           0.13144022226333618,
           0.07477711141109467,
           -0.022616636008024216,
           0.07503147423267365,
           0.08428926020860672,
           0.17472581565380096,
           0.29483577609062195,
           0.36411136388778687,
           0.08926835656166077,
           0.15379256010055542,
           0.17837154865264893,
           0.10566326230764389,
           0.17841336131095886,
           0.13939262926578522,
           0.3227733373641968,
           0.46427133679389954,
           0.35390689969062805,
           0.2677827775478363,
           0.21558207273483276,
           0.2954680323600769,
           0.2701228857040405,
           0.3118951916694641,
           0.27665117383003235,
           0.28940993547439575,
           0.1967965066432953,
           0.17763936519622803,
           0.21720382571220398,
           0.18828721344470978,
           0.2171531766653061,
           0.34524327516555786,
           0.3708087205886841,
           0.3639771342277527,
           0.30725350975990295,
           0.15895229578018188,
           0.2408222258090973,
           0.3034549653530121,
           0.34136340022087097,
           0.20629534125328064,
           0.1643853634595871,
           0.28792208433151245,
           0.2951622009277344,
           0.21850568056106567,
           0.05962744727730751,
           0.08626864850521088,
           0.11308614909648895,
           0.07086625695228577,
           0.07007239013910294,
           0.09434439986944199,
           0.24180448055267334,
           0.20387670397758484,
           0.027355452999472618,
           0.2936652898788452,
           0.43623313307762146,
           1.0000003576278687,
           0.46272963285446167,
           0.2034715712070465,
           0.13731370866298676,
           0.08303944766521454,
           0.12394095212221146,
           0.06388326734304428,
           0.055145323276519775,
           0.11595532298088074,
           0.23073436319828033
          ],
          [
           0.07451777160167694,
           0.1399863362312317,
           0.12415866553783417,
           0.06641439348459244,
           0.14697913825511932,
           -0.01506369560956955,
           0.09292639791965485,
           0.1675916165113449,
           0.13782896101474762,
           0.06943799555301666,
           0.11856663972139359,
           0.1688108891248703,
           0.01659395731985569,
           0.1687689870595932,
           0.1642642617225647,
           0.30971720814704895,
           0.42906007170677185,
           0.26418185234069824,
           0.3206348121166229,
           0.3979650139808655,
           0.25204628705978394,
           0.25817760825157166,
           0.29245880246162415,
           0.16597972810268402,
           0.26204055547714233,
           0.24718651175498962,
           0.24243983626365662,
           0.40982115268707275,
           0.39716383814811707,
           0.292991042137146,
           0.31313377618789673,
           0.3471454679965973,
           0.30145472288131714,
           0.3828699290752411,
           0.15995174646377563,
           0.3362640142440796,
           0.26861152052879333,
           0.20995908975601196,
           0.24496077001094818,
           0.2646782696247101,
           0.23467616736888885,
           0.1912761777639389,
           0.21312224864959717,
           0.16396677494049072,
           -0.002283873036503792,
           0.16884538531303406,
           0.15628427267074585,
           0.14049911499023438,
           0.11768762022256851,
           0.20107021927833557,
           0.18514999747276306,
           0.08515699207782745,
           0.3380844295024872,
           0.4013764262199402,
           0.46272963285446167,
           0.9999997615814209,
           0.13257144391536713,
           0.1745986044406891,
           0.15088607370853424,
           0.1818297654390335,
           0.10478048026561737,
           0.18157008290290833,
           0.2044188380241394,
           0.16824917495250702
          ],
          [
           0.07736889272928238,
           0.0045550973154604435,
           0.055626001209020615,
           0.04639411345124245,
           -0.06133304163813591,
           0.029763201251626015,
           0.06943904608488083,
           0.017848694697022438,
           -0.02976136840879917,
           0.08681176602840424,
           -0.010541706345975399,
           0.0933096706867218,
           0.006332102697342634,
           -0.03393663093447685,
           -0.0565536767244339,
           0.1103990375995636,
           0.08363345265388489,
           0.2091928869485855,
           0.16988956928253174,
           0.23539967834949493,
           0.20430023968219757,
           0.20936666429042816,
           0.19313670694828033,
           0.22052165865898132,
           0.28341901302337646,
           0.23683106899261475,
           0.2401876300573349,
           0.15793579816818237,
           0.012861409224569798,
           0.20778284966945648,
           0.17664577066898346,
           0.17157046496868134,
           0.16411235928535461,
           0.1709614396095276,
           0.12166132032871246,
           0.24462319910526276,
           0.27232715487480164,
           0.2459230124950409,
           0.10563163459300995,
           0.10732926428318024,
           0.1728973090648651,
           0.2592351734638214,
           0.2254120409488678,
           0.26487213373184204,
           0.060174085199832916,
           0.2147713452577591,
           0.06320419907569885,
           0.0503484383225441,
           0.21218879520893097,
           0.20144222676753998,
           0.1428377628326416,
           0.19126473367214203,
           0.18172618746757507,
           0.21761660277843475,
           0.2034715712070465,
           0.13257144391536713,
           0.9999998211860657,
           0.2570876181125641,
           0.1752401739358902,
           0.07799562066793442,
           0.11370301991701126,
           0.028330449014902115,
           0.040731027722358704,
           0.049012091010808945
          ],
          [
           0.1258401721715927,
           -0.0348186157643795,
           0.11634327471256256,
           0.08256189525127411,
           0.049661070108413696,
           0.006715657655149698,
           0.14676618576049805,
           0.07927636802196503,
           0.11109982430934906,
           0.14904099702835083,
           0.09628156572580338,
           -0.0003417247789911926,
           0.3087911605834961,
           0.17364747822284698,
           0.1260271519422531,
           0.189053013920784,
           0.30968841910362244,
           0.3961130976676941,
           0.19486168026924133,
           0.19114787876605988,
           0.25890985131263733,
           0.2897574305534363,
           0.30101293325424194,
           0.29778236150741577,
           0.14492960274219513,
           0.20807532966136932,
           0.1434004008769989,
           0.12680110335350037,
           0.17156925797462463,
           0.1928701102733612,
           0.25618693232536316,
           0.21508969366550446,
           0.25930821895599365,
           0.23936156928539276,
           0.3861429691314697,
           0.27523231506347656,
           0.38515764474868774,
           0.2944501042366028,
           0.4130766987800598,
           0.47123900055885315,
           0.29790031909942627,
           0.290996253490448,
           0.22815684974193573,
           0.20493048429489136,
           0.02178090438246727,
           0.1837480515241623,
           0.22369679808616638,
           0.3234664797782898,
           0.041354190558195114,
           0.2110917866230011,
           0.20784321427345276,
           0.1399521380662918,
           0.3025061786174774,
           0.17196024954319,
           0.13731370866298676,
           0.1745986044406891,
           0.2570876181125641,
           0.9999999403953552,
           0.42076820135116577,
           0.10787027329206467,
           0.13123559951782227,
           0.0766945630311966,
           0.15449662506580353,
           0.04105233773589134
          ],
          [
           0.0837862640619278,
           0.14871911704540253,
           0.10965520888566971,
           0.19329267740249634,
           0.08446676284074783,
           0.02109220065176487,
           0.02539643459022045,
           0.14051634073257446,
           0.1351325511932373,
           0.12243814021348953,
           0.13545575737953186,
           0.12512487173080444,
           0.07978958636522293,
           0.19997823238372803,
           0.10680229961872101,
           0.25800982117652893,
           0.16032443940639496,
           0.26572343707084656,
           0.11295700073242188,
           0.10168557614088058,
           0.23303543031215668,
           0.21330280601978302,
           0.26016294956207275,
           0.2499466836452484,
           0.17467717826366425,
           0.18396137654781342,
           0.20716537535190582,
           0.13921856880187988,
           0.15466426312923431,
           0.21734027564525604,
           0.19816365838050842,
           0.24653615057468414,
           0.20929010212421417,
           0.22777396440505981,
           0.22858507931232452,
           0.34821006655693054,
           0.46158161759376526,
           0.275249719619751,
           0.3153819739818573,
           0.38936591148376465,
           0.2626889944076538,
           0.19486187398433685,
           0.11946234107017517,
           0.24006670713424683,
           0.01787651516497135,
           0.11852150410413742,
           0.1047849953174591,
           0.06425157934427261,
           0.1925228089094162,
           0.13943998515605927,
           0.2173706293106079,
           0.120075523853302,
           0.3036714196205139,
           0.07108475267887115,
           0.08303944766521454,
           0.15088607370853424,
           0.1752401739358902,
           0.42076820135116577,
           1.0000003576278687,
           0.10682912170886993,
           0.15442389249801636,
           0.09632237255573273,
           0.0032947950530797243,
           -0.017602892592549324
          ],
          [
           -0.024090981110930443,
           0.03666412830352783,
           -0.03965519368648529,
           -0.07073745876550674,
           -0.11968501657247543,
           0.03492959216237068,
           0.06929538398981094,
           0.02317822352051735,
           -0.04930780827999115,
           0.005616181530058384,
           0.04092204198241234,
           0.15470042824745178,
           0.046374138444662094,
           0.12428426742553711,
           -0.07908023148775101,
           0.2681017518043518,
           0.10561837255954742,
           0.2553451359272003,
           0.16269399225711823,
           0.2587931752204895,
           0.24101154506206512,
           0.12994714081287384,
           0.1655762493610382,
           0.1803312599658966,
           0.2698937654495239,
           0.12153640389442444,
           0.04375171661376953,
           0.19518350064754486,
           0.2523583769798279,
           0.17536500096321106,
           0.190281942486763,
           0.106660857796669,
           0.18401554226875305,
           0.24407368898391724,
           0.08188718557357788,
           0.13515302538871765,
           0.16617554426193237,
           0.16487984359264374,
           0.2116284966468811,
           0.1647166907787323,
           0.08974513411521912,
           0.1254810392856598,
           0.11682653427124023,
           0.07144080847501755,
           0.12232356518507004,
           0.04427867755293846,
           0.0410492904484272,
           0.10498159378767014,
           -0.039705101400613785,
           0.014525514096021652,
           0.0872788205742836,
           0.13570575416088104,
           0.06466737389564514,
           0.10180532187223434,
           0.12394095212221146,
           0.1818297654390335,
           0.07799562066793442,
           0.10787027329206467,
           0.10682912170886993,
           0.9999998807907104,
           -0.01085413433611393,
           -0.01906483992934227,
           0.15710003674030304,
           -0.08263279497623444
          ],
          [
           0.011517667211592197,
           -0.029796702787280083,
           -0.09858503937721252,
           0.04188793897628784,
           0.3391285240650177,
           0.0924607440829277,
           -0.05351366102695465,
           0.11014732718467712,
           0.1036558523774147,
           0.05625094845890999,
           0.03955359756946564,
           0.16724127531051636,
           -0.06117759644985199,
           0.0021295149344950914,
           0.09399327635765076,
           0.1081116572022438,
           0.20122408866882324,
           0.18214790523052216,
           0.10594373196363449,
           0.1690824031829834,
           0.32626160979270935,
           0.24659870564937592,
           0.2723594009876251,
           0.1604231297969818,
           0.17412398755550385,
           0.3296571969985962,
           0.26911991834640503,
           0.20663005113601685,
           0.32913637161254883,
           0.4138637185096741,
           0.2004362791776657,
           0.25043049454689026,
           0.17884987592697144,
           0.1997038722038269,
           0.18633343279361725,
           0.21095222234725952,
           0.20578135550022125,
           0.18710686266422272,
           0.20830613374710083,
           0.1616370975971222,
           0.11795877665281296,
           0.18011070787906647,
           0.17142075300216675,
           0.15479229390621185,
           0.007029468193650246,
           -0.034539464861154556,
           -0.028828337788581848,
           0.17874149978160858,
           0.01489434577524662,
           0.11673573404550552,
           0.22556334733963013,
           0.01912320777773857,
           0.0782792717218399,
           0.26063138246536255,
           0.06388326734304428,
           0.10478048026561737,
           0.11370301991701126,
           0.13123559951782227,
           0.15442389249801636,
           -0.01085413433611393,
           0.9999998211860657,
           0.39501604437828064,
           0.22638890147209167,
           0.11166996508836746
          ],
          [
           -0.011068619787693024,
           -0.033598385751247406,
           0.00851680152118206,
           0.07080036401748657,
           0.30419737100601196,
           0.06126299127936363,
           -0.029382428154349327,
           0.03438923880457878,
           0.0733700543642044,
           0.04533764347434044,
           0.08323251456022263,
           0.10621650516986847,
           0.051743991672992706,
           0.04577035456895828,
           0.12459693849086761,
           0.1585870087146759,
           0.17070436477661133,
           0.1123829185962677,
           0.1378767490386963,
           0.07472637295722961,
           0.06590045243501663,
           0.10264448076486588,
           0.12669312953948975,
           0.15688489377498627,
           0.19323033094406128,
           0.3056384027004242,
           0.23531179130077362,
           0.2808471918106079,
           0.25373780727386475,
           0.20745597779750824,
           0.052286021411418915,
           0.021469447761774063,
           0.08632797747850418,
           0.002509510377421975,
           0.07422937452793121,
           0.1510990411043167,
           0.04506715387105942,
           0.12124209105968475,
           0.13228724896907806,
           0.06351994723081589,
           0.1235695406794548,
           0.09409217536449432,
           0.11816491186618805,
           0.20720216631889343,
           -0.021159779280424118,
           -0.10037994384765625,
           0.08066578954458237,
           0.06594700366258621,
           0.010151734575629234,
           0.16189448535442352,
           0.15986678004264832,
           0.043376822024583817,
           0.040160585194826126,
           0.16806620359420776,
           0.055145323276519775,
           0.18157008290290833,
           0.028330449014902115,
           0.0766945630311966,
           0.09632237255573273,
           -0.01906483992934227,
           0.39501604437828064,
           1.0000001192092896,
           0.09830141067504883,
           0.09429163485765457
          ],
          [
           0.022459717467427254,
           0.005488119553774595,
           -0.03013777919113636,
           0.0811275914311409,
           0.06643117964267731,
           -0.019107429310679436,
           0.031264208257198334,
           0.20007605850696564,
           0.05781178921461105,
           0.1223718449473381,
           0.1301007717847824,
           0.047462254762649536,
           0.004874364007264376,
           0.007798439357429743,
           -0.0747750923037529,
           0.11891557276248932,
           0.2160017490386963,
           0.16758163273334503,
           0.1574704498052597,
           0.19047342240810394,
           0.22800585627555847,
           0.217413067817688,
           0.24991059303283691,
           0.18680380284786224,
           0.09248027950525284,
           0.13442717492580414,
           0.14090576767921448,
           0.09151790291070938,
           0.1809931993484497,
           0.259576678276062,
           0.17309045791625977,
           0.17643049359321594,
           0.12525606155395508,
           0.18904158473014832,
           0.01796211116015911,
           0.22040890157222748,
           0.20201529562473297,
           0.24222171306610107,
           0.047690268605947495,
           0.056539274752140045,
           0.25293686985969543,
           0.053462378680706024,
           0.19346100091934204,
           0.23052559792995453,
           0.1902880072593689,
           0.12370578199625015,
           0.0317392572760582,
           0.1906999796628952,
           0.20189842581748962,
           0.09980756044387817,
           0.23658013343811035,
           0.11934270709753036,
           0.0758783146739006,
           0.13516584038734436,
           0.11595532298088074,
           0.2044188380241394,
           0.040731027722358704,
           0.15449662506580353,
           0.0032947950530797243,
           0.15710003674030304,
           0.22638890147209167,
           0.09830141067504883,
           0.9999999403953552,
           0.2547968626022339
          ],
          [
           0.07324103266000748,
           -0.09314606338739395,
           -0.09395966678857803,
           0.014093438163399696,
           0.07037156820297241,
           0.1114468201994896,
           -0.04655053839087486,
           0.1944011151790619,
           0.06762007623910904,
           -0.0327286422252655,
           -0.04819267988204956,
           0.057042445987463,
           -0.05344598367810249,
           0.08334098011255264,
           0.0831688940525055,
           0.12077393382787704,
           0.08680044114589691,
           0.09858886152505875,
           0.14989344775676727,
           0.08108430355787277,
           0.0885901004076004,
           0.23063631355762482,
           0.18169720470905304,
           0.1782880425453186,
           0.22694668173789978,
           0.18481801450252533,
           0.21823057532310486,
           0.08933542668819427,
           0.02781892754137516,
           0.10162831842899323,
           0.19117242097854614,
           0.19894610345363617,
           0.20365318655967712,
           0.09949803352355957,
           0.1903209090232849,
           0.09580989181995392,
           0.11450309306383133,
           0.14867371320724487,
           0.010322466492652893,
           0.019421221688389778,
           0.17930316925048828,
           0.16589170694351196,
           0.2494569569826126,
           0.16548529267311096,
           0.1958051323890686,
           0.11108142882585526,
           -0.03625498339533806,
           0.2662064731121063,
           0.050805866718292236,
           0.22724078595638275,
           0.06334590911865234,
           0.1556389033794403,
           0.12112127244472504,
           0.043012719601392746,
           0.23073436319828033,
           0.16824917495250702,
           0.049012091010808945,
           0.04105233773589134,
           -0.017602892592549324,
           -0.08263279497623444,
           0.11166996508836746,
           0.09429163485765457,
           0.2547968626022339,
           0.9999998807907104
          ]
         ]
        }
       ],
       "layout": {
        "height": 800,
        "hovermode": "closest",
        "legend": {
         "x": 0.7,
         "y": 0.7
        },
        "paper_bgcolor": "rgba(0,0,0,0)",
        "plot_bgcolor": "rgba(0,0,0,0)",
        "showlegend": false,
        "template": {
         "data": {
          "bar": [
           {
            "error_x": {
             "color": "#2a3f5f"
            },
            "error_y": {
             "color": "#2a3f5f"
            },
            "marker": {
             "line": {
              "color": "#E5ECF6",
              "width": 0.5
             },
             "pattern": {
              "fillmode": "overlay",
              "size": 10,
              "solidity": 0.2
             }
            },
            "type": "bar"
           }
          ],
          "barpolar": [
           {
            "marker": {
             "line": {
              "color": "#E5ECF6",
              "width": 0.5
             },
             "pattern": {
              "fillmode": "overlay",
              "size": 10,
              "solidity": 0.2
             }
            },
            "type": "barpolar"
           }
          ],
          "carpet": [
           {
            "aaxis": {
             "endlinecolor": "#2a3f5f",
             "gridcolor": "white",
             "linecolor": "white",
             "minorgridcolor": "white",
             "startlinecolor": "#2a3f5f"
            },
            "baxis": {
             "endlinecolor": "#2a3f5f",
             "gridcolor": "white",
             "linecolor": "white",
             "minorgridcolor": "white",
             "startlinecolor": "#2a3f5f"
            },
            "type": "carpet"
           }
          ],
          "choropleth": [
           {
            "colorbar": {
             "outlinewidth": 0,
             "ticks": ""
            },
            "type": "choropleth"
           }
          ],
          "contour": [
           {
            "colorbar": {
             "outlinewidth": 0,
             "ticks": ""
            },
            "colorscale": [
             [
              0,
              "#0d0887"
             ],
             [
              0.1111111111111111,
              "#46039f"
             ],
             [
              0.2222222222222222,
              "#7201a8"
             ],
             [
              0.3333333333333333,
              "#9c179e"
             ],
             [
              0.4444444444444444,
              "#bd3786"
             ],
             [
              0.5555555555555556,
              "#d8576b"
             ],
             [
              0.6666666666666666,
              "#ed7953"
             ],
             [
              0.7777777777777778,
              "#fb9f3a"
             ],
             [
              0.8888888888888888,
              "#fdca26"
             ],
             [
              1,
              "#f0f921"
             ]
            ],
            "type": "contour"
           }
          ],
          "contourcarpet": [
           {
            "colorbar": {
             "outlinewidth": 0,
             "ticks": ""
            },
            "type": "contourcarpet"
           }
          ],
          "heatmap": [
           {
            "colorbar": {
             "outlinewidth": 0,
             "ticks": ""
            },
            "colorscale": [
             [
              0,
              "#0d0887"
             ],
             [
              0.1111111111111111,
              "#46039f"
             ],
             [
              0.2222222222222222,
              "#7201a8"
             ],
             [
              0.3333333333333333,
              "#9c179e"
             ],
             [
              0.4444444444444444,
              "#bd3786"
             ],
             [
              0.5555555555555556,
              "#d8576b"
             ],
             [
              0.6666666666666666,
              "#ed7953"
             ],
             [
              0.7777777777777778,
              "#fb9f3a"
             ],
             [
              0.8888888888888888,
              "#fdca26"
             ],
             [
              1,
              "#f0f921"
             ]
            ],
            "type": "heatmap"
           }
          ],
          "heatmapgl": [
           {
            "colorbar": {
             "outlinewidth": 0,
             "ticks": ""
            },
            "colorscale": [
             [
              0,
              "#0d0887"
             ],
             [
              0.1111111111111111,
              "#46039f"
             ],
             [
              0.2222222222222222,
              "#7201a8"
             ],
             [
              0.3333333333333333,
              "#9c179e"
             ],
             [
              0.4444444444444444,
              "#bd3786"
             ],
             [
              0.5555555555555556,
              "#d8576b"
             ],
             [
              0.6666666666666666,
              "#ed7953"
             ],
             [
              0.7777777777777778,
              "#fb9f3a"
             ],
             [
              0.8888888888888888,
              "#fdca26"
             ],
             [
              1,
              "#f0f921"
             ]
            ],
            "type": "heatmapgl"
           }
          ],
          "histogram": [
           {
            "marker": {
             "pattern": {
              "fillmode": "overlay",
              "size": 10,
              "solidity": 0.2
             }
            },
            "type": "histogram"
           }
          ],
          "histogram2d": [
           {
            "colorbar": {
             "outlinewidth": 0,
             "ticks": ""
            },
            "colorscale": [
             [
              0,
              "#0d0887"
             ],
             [
              0.1111111111111111,
              "#46039f"
             ],
             [
              0.2222222222222222,
              "#7201a8"
             ],
             [
              0.3333333333333333,
              "#9c179e"
             ],
             [
              0.4444444444444444,
              "#bd3786"
             ],
             [
              0.5555555555555556,
              "#d8576b"
             ],
             [
              0.6666666666666666,
              "#ed7953"
             ],
             [
              0.7777777777777778,
              "#fb9f3a"
             ],
             [
              0.8888888888888888,
              "#fdca26"
             ],
             [
              1,
              "#f0f921"
             ]
            ],
            "type": "histogram2d"
           }
          ],
          "histogram2dcontour": [
           {
            "colorbar": {
             "outlinewidth": 0,
             "ticks": ""
            },
            "colorscale": [
             [
              0,
              "#0d0887"
             ],
             [
              0.1111111111111111,
              "#46039f"
             ],
             [
              0.2222222222222222,
              "#7201a8"
             ],
             [
              0.3333333333333333,
              "#9c179e"
             ],
             [
              0.4444444444444444,
              "#bd3786"
             ],
             [
              0.5555555555555556,
              "#d8576b"
             ],
             [
              0.6666666666666666,
              "#ed7953"
             ],
             [
              0.7777777777777778,
              "#fb9f3a"
             ],
             [
              0.8888888888888888,
              "#fdca26"
             ],
             [
              1,
              "#f0f921"
             ]
            ],
            "type": "histogram2dcontour"
           }
          ],
          "mesh3d": [
           {
            "colorbar": {
             "outlinewidth": 0,
             "ticks": ""
            },
            "type": "mesh3d"
           }
          ],
          "parcoords": [
           {
            "line": {
             "colorbar": {
              "outlinewidth": 0,
              "ticks": ""
             }
            },
            "type": "parcoords"
           }
          ],
          "pie": [
           {
            "automargin": true,
            "type": "pie"
           }
          ],
          "scatter": [
           {
            "marker": {
             "colorbar": {
              "outlinewidth": 0,
              "ticks": ""
             }
            },
            "type": "scatter"
           }
          ],
          "scatter3d": [
           {
            "line": {
             "colorbar": {
              "outlinewidth": 0,
              "ticks": ""
             }
            },
            "marker": {
             "colorbar": {
              "outlinewidth": 0,
              "ticks": ""
             }
            },
            "type": "scatter3d"
           }
          ],
          "scattercarpet": [
           {
            "marker": {
             "colorbar": {
              "outlinewidth": 0,
              "ticks": ""
             }
            },
            "type": "scattercarpet"
           }
          ],
          "scattergeo": [
           {
            "marker": {
             "colorbar": {
              "outlinewidth": 0,
              "ticks": ""
             }
            },
            "type": "scattergeo"
           }
          ],
          "scattergl": [
           {
            "marker": {
             "colorbar": {
              "outlinewidth": 0,
              "ticks": ""
             }
            },
            "type": "scattergl"
           }
          ],
          "scattermapbox": [
           {
            "marker": {
             "colorbar": {
              "outlinewidth": 0,
              "ticks": ""
             }
            },
            "type": "scattermapbox"
           }
          ],
          "scatterpolar": [
           {
            "marker": {
             "colorbar": {
              "outlinewidth": 0,
              "ticks": ""
             }
            },
            "type": "scatterpolar"
           }
          ],
          "scatterpolargl": [
           {
            "marker": {
             "colorbar": {
              "outlinewidth": 0,
              "ticks": ""
             }
            },
            "type": "scatterpolargl"
           }
          ],
          "scatterternary": [
           {
            "marker": {
             "colorbar": {
              "outlinewidth": 0,
              "ticks": ""
             }
            },
            "type": "scatterternary"
           }
          ],
          "surface": [
           {
            "colorbar": {
             "outlinewidth": 0,
             "ticks": ""
            },
            "colorscale": [
             [
              0,
              "#0d0887"
             ],
             [
              0.1111111111111111,
              "#46039f"
             ],
             [
              0.2222222222222222,
              "#7201a8"
             ],
             [
              0.3333333333333333,
              "#9c179e"
             ],
             [
              0.4444444444444444,
              "#bd3786"
             ],
             [
              0.5555555555555556,
              "#d8576b"
             ],
             [
              0.6666666666666666,
              "#ed7953"
             ],
             [
              0.7777777777777778,
              "#fb9f3a"
             ],
             [
              0.8888888888888888,
              "#fdca26"
             ],
             [
              1,
              "#f0f921"
             ]
            ],
            "type": "surface"
           }
          ],
          "table": [
           {
            "cells": {
             "fill": {
              "color": "#EBF0F8"
             },
             "line": {
              "color": "white"
             }
            },
            "header": {
             "fill": {
              "color": "#C8D4E3"
             },
             "line": {
              "color": "white"
             }
            },
            "type": "table"
           }
          ]
         },
         "layout": {
          "annotationdefaults": {
           "arrowcolor": "#2a3f5f",
           "arrowhead": 0,
           "arrowwidth": 1
          },
          "autotypenumbers": "strict",
          "coloraxis": {
           "colorbar": {
            "outlinewidth": 0,
            "ticks": ""
           }
          },
          "colorscale": {
           "diverging": [
            [
             0,
             "#8e0152"
            ],
            [
             0.1,
             "#c51b7d"
            ],
            [
             0.2,
             "#de77ae"
            ],
            [
             0.3,
             "#f1b6da"
            ],
            [
             0.4,
             "#fde0ef"
            ],
            [
             0.5,
             "#f7f7f7"
            ],
            [
             0.6,
             "#e6f5d0"
            ],
            [
             0.7,
             "#b8e186"
            ],
            [
             0.8,
             "#7fbc41"
            ],
            [
             0.9,
             "#4d9221"
            ],
            [
             1,
             "#276419"
            ]
           ],
           "sequential": [
            [
             0,
             "#0d0887"
            ],
            [
             0.1111111111111111,
             "#46039f"
            ],
            [
             0.2222222222222222,
             "#7201a8"
            ],
            [
             0.3333333333333333,
             "#9c179e"
            ],
            [
             0.4444444444444444,
             "#bd3786"
            ],
            [
             0.5555555555555556,
             "#d8576b"
            ],
            [
             0.6666666666666666,
             "#ed7953"
            ],
            [
             0.7777777777777778,
             "#fb9f3a"
            ],
            [
             0.8888888888888888,
             "#fdca26"
            ],
            [
             1,
             "#f0f921"
            ]
           ],
           "sequentialminus": [
            [
             0,
             "#0d0887"
            ],
            [
             0.1111111111111111,
             "#46039f"
            ],
            [
             0.2222222222222222,
             "#7201a8"
            ],
            [
             0.3333333333333333,
             "#9c179e"
            ],
            [
             0.4444444444444444,
             "#bd3786"
            ],
            [
             0.5555555555555556,
             "#d8576b"
            ],
            [
             0.6666666666666666,
             "#ed7953"
            ],
            [
             0.7777777777777778,
             "#fb9f3a"
            ],
            [
             0.8888888888888888,
             "#fdca26"
            ],
            [
             1,
             "#f0f921"
            ]
           ]
          },
          "colorway": [
           "#636efa",
           "#EF553B",
           "#00cc96",
           "#ab63fa",
           "#FFA15A",
           "#19d3f3",
           "#FF6692",
           "#B6E880",
           "#FF97FF",
           "#FECB52"
          ],
          "font": {
           "color": "#2a3f5f"
          },
          "geo": {
           "bgcolor": "white",
           "lakecolor": "white",
           "landcolor": "#E5ECF6",
           "showlakes": true,
           "showland": true,
           "subunitcolor": "white"
          },
          "hoverlabel": {
           "align": "left"
          },
          "hovermode": "closest",
          "mapbox": {
           "style": "light"
          },
          "paper_bgcolor": "white",
          "plot_bgcolor": "#E5ECF6",
          "polar": {
           "angularaxis": {
            "gridcolor": "white",
            "linecolor": "white",
            "ticks": ""
           },
           "bgcolor": "#E5ECF6",
           "radialaxis": {
            "gridcolor": "white",
            "linecolor": "white",
            "ticks": ""
           }
          },
          "scene": {
           "xaxis": {
            "backgroundcolor": "#E5ECF6",
            "gridcolor": "white",
            "gridwidth": 2,
            "linecolor": "white",
            "showbackground": true,
            "ticks": "",
            "zerolinecolor": "white"
           },
           "yaxis": {
            "backgroundcolor": "#E5ECF6",
            "gridcolor": "white",
            "gridwidth": 2,
            "linecolor": "white",
            "showbackground": true,
            "ticks": "",
            "zerolinecolor": "white"
           },
           "zaxis": {
            "backgroundcolor": "#E5ECF6",
            "gridcolor": "white",
            "gridwidth": 2,
            "linecolor": "white",
            "showbackground": true,
            "ticks": "",
            "zerolinecolor": "white"
           }
          },
          "shapedefaults": {
           "line": {
            "color": "#2a3f5f"
           }
          },
          "ternary": {
           "aaxis": {
            "gridcolor": "white",
            "linecolor": "white",
            "ticks": ""
           },
           "baxis": {
            "gridcolor": "white",
            "linecolor": "white",
            "ticks": ""
           },
           "bgcolor": "#E5ECF6",
           "caxis": {
            "gridcolor": "white",
            "linecolor": "white",
            "ticks": ""
           }
          },
          "title": {
           "x": 0.05
          },
          "xaxis": {
           "automargin": true,
           "gridcolor": "white",
           "linecolor": "white",
           "ticks": "",
           "title": {
            "standoff": 15
           },
           "zerolinecolor": "white",
           "zerolinewidth": 2
          },
          "yaxis": {
           "automargin": true,
           "gridcolor": "white",
           "linecolor": "white",
           "ticks": "",
           "title": {
            "standoff": 15
           },
           "zerolinecolor": "white",
           "zerolinewidth": 2
          }
         }
        },
        "width": 900,
        "xaxis": {
         "anchor": "y",
         "domain": [
          0,
          0.95
         ],
         "fixedrange": false,
         "mirror": false,
         "showgrid": false,
         "showline": false,
         "showticklabels": false,
         "type": "linear",
         "zeroline": false
        },
        "xaxis2": {
         "anchor": "y4",
         "domain": [
          0.000949050949050949,
          0.95
         ],
         "fixedrange": false,
         "mirror": false,
         "scaleanchor": "x5",
         "showgrid": false,
         "showline": false,
         "showticklabels": false,
         "type": "linear",
         "zeroline": false
        },
        "xaxis3": {
         "anchor": "y3",
         "domain": [
          0.75,
          1
         ]
        },
        "xaxis4": {
         "anchor": "y4",
         "domain": [
          0,
          0.000949050949050949
         ],
         "fixedrange": false,
         "mirror": false,
         "showgrid": false,
         "showline": false,
         "showticklabels": false,
         "type": "linear",
         "zeroline": false
        },
        "xaxis5": {
         "anchor": "y5",
         "domain": [
          0.000949050949050949,
          0.95
         ],
         "fixedrange": false,
         "mirror": false,
         "range": [
          0,
          640
         ],
         "showgrid": false,
         "showline": false,
         "showticklabels": true,
         "side": "bottom",
         "tickmode": "array",
         "ticktext": [
          "DeductiveReasoning",
          "AttentionalInertia",
          "RelationalReasoning",
          "EffortfulControl",
          "CoreExecutiveFunction",
          "PurposiveAction",
          "MotivationalDrive",
          "RewardProcessing",
          "FeedbackLearning",
          "Initiation",
          "ResponseConflict",
          "Switching",
          "PhonologicalWorkingMemory",
          "BehavioralControl",
          "BehavioralRegulation",
          "Inhibition",
          "CogntiveControl",
          "ShortTermMemory",
          "Perseveration",
          "Shifting",
          "Organization",
          "EpisodicMemory",
          "WorkingMemory",
          "ContextProcessing",
          "Fluency",
          "ExecutiveFunction",
          "ProcessingSpeed",
          "CognitiveFlexibility",
          "ExecutiveControl",
          "AttentionalControl",
          "SelectiveAttention",
          "ExecutiveAttention",
          "Attention",
          "CognitiveInhibition",
          "VisuospatialProcessing",
          "FocusedAttention",
          "CentralExecutive",
          "Volition",
          "VerbalWorkingMemory",
          "NonverbalWorkingMemory",
          "ProblemSolving",
          "EmotionalRegulation",
          "Planning",
          "EmotionalControl",
          "SelfMonitoring",
          "SelfRegulation",
          "SelfControl",
          "ExplicitMemory",
          "StrategicRetrieval",
          "LogicalReasoning",
          "VerbalProcessing",
          "HigherOrderExecutiveFunction",
          "Reasoning",
          "InterferenceControl",
          "ResponseInhibition",
          "InhibitoryControl",
          "VisuospatialSketchpad",
          "PhonologicalLoop",
          "VisuospatialWorkingMemory",
          "Binding",
          "FluidIntelligence",
          "DualTaskCoordination",
          "ProceduralMemory",
          "ImplicitMemory"
         ],
         "tickvals": [
          5,
          15,
          25,
          35,
          45,
          55,
          65,
          75,
          85,
          95,
          105,
          115,
          125,
          135,
          145,
          155,
          165,
          175,
          185,
          195,
          205,
          215,
          225,
          235,
          245,
          255,
          265,
          275,
          285,
          295,
          305,
          315,
          325,
          335,
          345,
          355,
          365,
          375,
          385,
          395,
          405,
          415,
          425,
          435,
          445,
          455,
          465,
          475,
          485,
          495,
          505,
          515,
          525,
          535,
          545,
          555,
          565,
          575,
          585,
          595,
          605,
          615,
          625,
          635
         ],
         "type": "linear",
         "zeroline": false
        },
        "xaxis6": {
         "anchor": "y6",
         "domain": [
          0.95,
          1
         ],
         "fixedrange": false,
         "mirror": false,
         "range": [
          -5,
          1
         ],
         "showgrid": false,
         "showline": false,
         "showticklabels": false,
         "type": "linear",
         "zeroline": false
        },
        "xaxis7": {
         "anchor": "y7",
         "domain": [
          0,
          0.25
         ]
        },
        "xaxis8": {
         "anchor": "y8",
         "domain": [
          0.000949050949050949,
          0.95
         ],
         "fixedrange": false,
         "mirror": false,
         "range": [
          5,
          635
         ],
         "scaleanchor": "x5",
         "scaleratio": 1,
         "showgrid": false,
         "showline": false,
         "showticklabels": false,
         "type": "linear",
         "zeroline": false
        },
        "xaxis9": {
         "anchor": "y9",
         "domain": [
          0.75,
          1
         ]
        },
        "yaxis": {
         "anchor": "x",
         "domain": [
          0.999050949050949,
          1
         ],
         "fixedrange": false,
         "mirror": false,
         "showgrid": false,
         "showline": false,
         "showticklabels": false,
         "type": "linear",
         "zeroline": false
        },
        "yaxis2": {
         "anchor": "x2",
         "domain": [
          0.999050949050949,
          1
         ],
         "fixedrange": false,
         "mirror": false,
         "range": [
          0,
          2.6645508316039206
         ],
         "showgrid": false,
         "showline": false,
         "showticklabels": false,
         "type": "linear",
         "zeroline": false
        },
        "yaxis3": {
         "anchor": "x3",
         "domain": [
          0.75,
          1
         ]
        },
        "yaxis4": {
         "anchor": "x4",
         "domain": [
          0,
          0.999050949050949
         ],
         "fixedrange": false,
         "mirror": false,
         "range": [
          5,
          635
         ],
         "scaleanchor": "y5",
         "showgrid": false,
         "showline": false,
         "showticklabels": false,
         "type": "linear",
         "zeroline": false
        },
        "yaxis5": {
         "anchor": "x5",
         "domain": [
          0,
          0.999050949050949
         ],
         "fixedrange": false,
         "mirror": false,
         "showgrid": false,
         "showline": false,
         "showticklabels": true,
         "side": "right",
         "tickmode": "array",
         "ticktext": [
          "DeductiveReasoning",
          "AttentionalInertia",
          "RelationalReasoning",
          "EffortfulControl",
          "CoreExecutiveFunction",
          "PurposiveAction",
          "MotivationalDrive",
          "RewardProcessing",
          "FeedbackLearning",
          "Initiation",
          "ResponseConflict",
          "Switching",
          "PhonologicalWorkingMemory",
          "BehavioralControl",
          "BehavioralRegulation",
          "Inhibition",
          "CogntiveControl",
          "ShortTermMemory",
          "Perseveration",
          "Shifting",
          "Organization",
          "EpisodicMemory",
          "WorkingMemory",
          "ContextProcessing",
          "Fluency",
          "ExecutiveFunction",
          "ProcessingSpeed",
          "CognitiveFlexibility",
          "ExecutiveControl",
          "AttentionalControl",
          "SelectiveAttention",
          "ExecutiveAttention",
          "Attention",
          "CognitiveInhibition",
          "VisuospatialProcessing",
          "FocusedAttention",
          "CentralExecutive",
          "Volition",
          "VerbalWorkingMemory",
          "NonverbalWorkingMemory",
          "ProblemSolving",
          "EmotionalRegulation",
          "Planning",
          "EmotionalControl",
          "SelfMonitoring",
          "SelfRegulation",
          "SelfControl",
          "ExplicitMemory",
          "StrategicRetrieval",
          "LogicalReasoning",
          "VerbalProcessing",
          "HigherOrderExecutiveFunction",
          "Reasoning",
          "InterferenceControl",
          "ResponseInhibition",
          "InhibitoryControl",
          "VisuospatialSketchpad",
          "PhonologicalLoop",
          "VisuospatialWorkingMemory",
          "Binding",
          "FluidIntelligence",
          "DualTaskCoordination",
          "ProceduralMemory",
          "ImplicitMemory"
         ],
         "tickvals": [
          5,
          15,
          25,
          35,
          45,
          55,
          65,
          75,
          85,
          95,
          105,
          115,
          125,
          135,
          145,
          155,
          165,
          175,
          185,
          195,
          205,
          215,
          225,
          235,
          245,
          255,
          265,
          275,
          285,
          295,
          305,
          315,
          325,
          335,
          345,
          355,
          365,
          375,
          385,
          395,
          405,
          415,
          425,
          435,
          445,
          455,
          465,
          475,
          485,
          495,
          505,
          515,
          525,
          535,
          545,
          555,
          565,
          575,
          585,
          595,
          605,
          615,
          625,
          635
         ],
         "type": "linear",
         "zeroline": false
        },
        "yaxis6": {
         "anchor": "x6",
         "domain": [
          0,
          0.949050949050949
         ],
         "fixedrange": false,
         "mirror": false,
         "range": [
          5,
          635
         ],
         "scaleanchor": "y5",
         "scaleratio": 1,
         "showgrid": false,
         "showline": false,
         "showticklabels": false,
         "type": "linear",
         "zeroline": false
        },
        "yaxis7": {
         "anchor": "x7",
         "domain": [
          0,
          0.25
         ]
        },
        "yaxis8": {
         "anchor": "x8",
         "domain": [
          0.949050949050949,
          0.999050949050949
         ],
         "fixedrange": false,
         "mirror": false,
         "range": [
          -0.5,
          0.5
         ],
         "showgrid": false,
         "showline": false,
         "showticklabels": false,
         "type": "linear",
         "zeroline": false
        },
        "yaxis9": {
         "anchor": "x9",
         "domain": [
          0,
          0.25
         ]
        }
       }
      }
     },
     "metadata": {},
     "output_type": "display_data"
    }
   ],
   "source": [
    "from sklearn.metrics.pairwise import cosine_similarity\n",
    "\n",
    "# model.wv.get_normed_vectors()\n",
    "keys = model.wv.key_to_index.keys()\n",
    "m2v_vectors = model.wv.vectors\n",
    "\n",
    "\n",
    "m2v_plot_data = pd.DataFrame(cosine_similarity(m2v_vectors), index=keys, columns=keys)\n",
    "\n",
    "# drop tasks\n",
    "m2v_plot_data.drop(index=tasks.index, errors='ignore', inplace=True)\n",
    "m2v_plot_data.drop(columns=tasks.index, errors='ignore', inplace=True)\n",
    "\n",
    "dashbio.Clustergram(\n",
    "  data=m2v_plot_data,\n",
    "  column_labels=m2v_plot_data.columns.to_list(),\n",
    "  row_labels=m2v_plot_data.index.to_list(),\n",
    "  cluster='all',\n",
    "  center_values=False,\n",
    "  height=800,\n",
    "  width=900,\n",
    "  display_ratio=[0.001, 0.001],\n",
    "  color_map='turbo',\n",
    "  # hidden_labels=['col'],\n",
    "  # row_dist='cosine',\n",
    "  # col_dist='cosine',\n",
    "  # standardize='col'\n",
    ")"
   ]
  }
 ],
 "metadata": {
  "interpreter": {
   "hash": "4d4c55ad0dd25f9ca95e4d49a929aa3f71bfb37020ae570a9996c3e164818202"
  },
  "kernelspec": {
   "display_name": "Python 3.9.9 64-bit ('py3': conda)",
   "language": "python",
   "name": "python3"
  },
  "language_info": {
   "codemirror_mode": {
    "name": "ipython",
    "version": 3
   },
   "file_extension": ".py",
   "mimetype": "text/x-python",
   "name": "python",
   "nbconvert_exporter": "python",
   "pygments_lexer": "ipython3",
   "version": "3.10.4"
  },
  "orig_nbformat": 4
 },
 "nbformat": 4,
 "nbformat_minor": 2
}
