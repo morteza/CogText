{
 "cells": [
  {
   "cell_type": "markdown",
   "metadata": {},
   "source": [
    "Finding topics in the very large corpus of PubMed abstracts is a time-consuming process. A reasonable workaround to speed topic modeling is to find topics using a fraction of the original dataset. We then only transform all the rest of data to this fitted topic space.\n",
    "\n",
    "Here, we explore some properties of the corpus to figure our a reasonable fraction for topic modeling. Since topics are based on words and phrases, some interesting features could be vocabulary size, number of phrases, number of words, etc.\n",
    "\n",
    "In the following code we measure those features on different fractions of the data."
   ]
  },
  {
   "cell_type": "code",
   "execution_count": 1,
   "metadata": {},
   "outputs": [],
   "source": [
    "!pip install tomotopy tqdm pandas numpy -Uq\n",
    "\n",
    "import tomotopy as tp\n",
    "import pandas as pd\n",
    "import numpy as np\n",
    "from tqdm import tqdm"
   ]
  },
  {
   "cell_type": "code",
   "execution_count": 2,
   "metadata": {},
   "outputs": [
    {
     "name": "stderr",
     "output_type": "stream",
     "text": [
      "  9%|▉         | 1/11 [00:00<00:01,  6.18it/s]"
     ]
    },
    {
     "name": "stdout",
     "output_type": "stream",
     "text": [
      "data_fraction: 0.0,\t n_docs=170,\t n_vocabs=3429,\t n_used_vocabs=293,\t n_words=10659,\t n_ngrams=0\n"
     ]
    },
    {
     "name": "stderr",
     "output_type": "stream",
     "text": [
      " 18%|█▊        | 2/11 [00:04<00:22,  2.50s/it]"
     ]
    },
    {
     "name": "stdout",
     "output_type": "stream",
     "text": [
      "data_fraction: 0.1,\t n_docs=32266,\t n_vocabs=44699,\t n_used_vocabs=10048,\t n_words=3907205,\t n_ngrams=0\n"
     ]
    },
    {
     "name": "stderr",
     "output_type": "stream",
     "text": [
      " 27%|██▋       | 3/11 [00:13<00:44,  5.51s/it]"
     ]
    },
    {
     "name": "stdout",
     "output_type": "stream",
     "text": [
      "data_fraction: 0.2,\t n_docs=64578,\t n_vocabs=60491,\t n_used_vocabs=13773,\t n_words=7898691,\t n_ngrams=0\n"
     ]
    },
    {
     "name": "stderr",
     "output_type": "stream",
     "text": [
      " 36%|███▋      | 4/11 [00:28<01:03,  9.11s/it]"
     ]
    },
    {
     "name": "stdout",
     "output_type": "stream",
     "text": [
      "data_fraction: 0.3,\t n_docs=96880,\t n_vocabs=71451,\t n_used_vocabs=16648,\t n_words=11934893,\t n_ngrams=0\n"
     ]
    },
    {
     "name": "stderr",
     "output_type": "stream",
     "text": [
      " 45%|████▌     | 5/11 [00:46<01:15, 12.63s/it]"
     ]
    },
    {
     "name": "stdout",
     "output_type": "stream",
     "text": [
      "data_fraction: 0.4,\t n_docs=129197,\t n_vocabs=80506,\t n_used_vocabs=19002,\t n_words=15932986,\t n_ngrams=0\n"
     ]
    },
    {
     "name": "stderr",
     "output_type": "stream",
     "text": [
      " 55%|█████▍    | 6/11 [01:11<01:22, 16.56s/it]"
     ]
    },
    {
     "name": "stdout",
     "output_type": "stream",
     "text": [
      "data_fraction: 0.5,\t n_docs=161538,\t n_vocabs=88333,\t n_used_vocabs=21063,\t n_words=19965889,\t n_ngrams=0\n"
     ]
    },
    {
     "name": "stderr",
     "output_type": "stream",
     "text": [
      " 64%|██████▎   | 7/11 [01:39<01:21, 20.36s/it]"
     ]
    },
    {
     "name": "stdout",
     "output_type": "stream",
     "text": [
      "data_fraction: 0.6,\t n_docs=193824,\t n_vocabs=94932,\t n_used_vocabs=22901,\t n_words=23976688,\t n_ngrams=0\n"
     ]
    },
    {
     "name": "stderr",
     "output_type": "stream",
     "text": [
      " 73%|███████▎  | 8/11 [02:12<01:13, 24.43s/it]"
     ]
    },
    {
     "name": "stdout",
     "output_type": "stream",
     "text": [
      "data_fraction: 0.7,\t n_docs=226125,\t n_vocabs=100965,\t n_used_vocabs=24513,\t n_words=28001143,\t n_ngrams=0\n"
     ]
    },
    {
     "name": "stderr",
     "output_type": "stream",
     "text": [
      " 82%|████████▏ | 9/11 [02:50<00:57, 28.85s/it]"
     ]
    },
    {
     "name": "stdout",
     "output_type": "stream",
     "text": [
      "data_fraction: 0.8,\t n_docs=258450,\t n_vocabs=106345,\t n_used_vocabs=26134,\t n_words=32040813,\t n_ngrams=0\n"
     ]
    },
    {
     "name": "stderr",
     "output_type": "stream",
     "text": [
      " 91%|█████████ | 10/11 [03:36<00:33, 33.87s/it]"
     ]
    },
    {
     "name": "stdout",
     "output_type": "stream",
     "text": [
      "data_fraction: 0.9,\t n_docs=290752,\t n_vocabs=111386,\t n_used_vocabs=27517,\t n_words=36081182,\t n_ngrams=0\n"
     ]
    },
    {
     "name": "stderr",
     "output_type": "stream",
     "text": [
      "100%|██████████| 11/11 [04:28<00:00, 24.45s/it]"
     ]
    },
    {
     "name": "stdout",
     "output_type": "stream",
     "text": [
      "data_fraction: 1.0,\t n_docs=323149,\t n_vocabs=115836,\t n_used_vocabs=28900,\t n_words=40112200,\t n_ngrams=0\n"
     ]
    },
    {
     "name": "stderr",
     "output_type": "stream",
     "text": [
      "\n"
     ]
    }
   ],
   "source": [
    "PUBMED = pd.read_csv('data/pubmed/abstracts_preprocessed.csv.gz')\n",
    "\n",
    "results = []\n",
    "\n",
    "for fraction in tqdm(np.linspace(0,1,11)):\n",
    "    pubmed_sample = PUBMED.groupby('subcategory').apply(\n",
    "        lambda grp: grp.sample(n=max(int(len(grp) * fraction), 1))\n",
    "    )\n",
    "\n",
    "    docs = pubmed_sample['abstract'].dropna().to_list()\n",
    "    corpus = tp.utils.Corpus(tokenizer=tp.utils.SimpleTokenizer())\n",
    "    corpus.process(docs)\n",
    "\n",
    "    ngrams = []\n",
    "    # ngrams = corpus.extract_ngrams(min_cf=20, min_df=10, max_len=5, max_cand=1000, normalized=True)\n",
    "    # corpus.concat_ngrams(ngrams, delimiter='_')\n",
    "\n",
    "    model = tp.LDAModel(k=30, min_df=10, corpus=corpus)\n",
    "    model.train(0)\n",
    "    print(f'data_fraction: {fraction:.1f},\\t '\n",
    "          f'n_docs={len(model.docs)},\\t '\n",
    "          f'n_vocabs={len(model.vocabs)},\\t '\n",
    "          f'n_used_vocabs={len(model.used_vocabs)},\\t '\n",
    "          f'n_words={model.num_words},\\t '\n",
    "          f'n_ngrams={len(ngrams)}')\n",
    "    results.append((fraction, len(model.docs), len(model.vocabs), len(model.used_vocabs), model.num_words, len(ngrams)))\n"
   ]
  },
  {
   "cell_type": "code",
   "execution_count": 5,
   "metadata": {},
   "outputs": [
    {
     "data": {
      "text/plain": [
       "<AxesSubplot:xlabel='sample_fraction', ylabel='used_vocab_size'>"
      ]
     },
     "execution_count": 5,
     "metadata": {},
     "output_type": "execute_result"
    },
    {
     "data": {
      "image/png": "[encoded data removed]",
      "text/plain": [
       "<Figure size 432x288 with 1 Axes>"
      ]
     },
     "metadata": {
      "needs_background": "light"
     },
     "output_type": "display_data"
    }
   ],
   "source": [
    "result_df = pd.DataFrame(results, columns=['sample_fraction','n_docs','vocab_size', 'used_vocab_size','n_words', 'n_ngrams'])\n",
    "\n",
    "import seaborn as sns\n",
    "\n",
    "# result_df['vocab_ratio'] = result_df['vocab_size'] / 115836 #result_df['n_words']\n",
    "\n",
    "sns.lineplot(data=result_df, x='sample_fraction', y='used_vocab_size')\n",
    "# sns.lineplot(data=result_df, x='sample_fraction', y='n_words')"
   ]
  }
 ],
 "metadata": {
  "interpreter": {
   "hash": "9df40fcfb30f8188db49b15d4434e003beb3bce76b01586b1ed606ec74f74000"
  },
  "kernelspec": {
   "display_name": "Python 3.9.5 64-bit ('base': conda)",
   "name": "python3"
  },
  "language_info": {
   "codemirror_mode": {
    "name": "ipython",
    "version": 3
   },
   "file_extension": ".py",
   "mimetype": "text/x-python",
   "name": "python",
   "nbconvert_exporter": "python",
   "pygments_lexer": "ipython3",
   "version": "3.9.5"
  },
  "orig_nbformat": 4
 },
 "nbformat": 4,
 "nbformat_minor": 2
}
