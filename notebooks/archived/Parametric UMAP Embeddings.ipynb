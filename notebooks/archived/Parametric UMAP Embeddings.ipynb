{
 "cells": [
  {
   "cell_type": "markdown",
   "metadata": {},
   "source": [
    "UMAP fails on very large datasets of 500_000 samples.\n",
    "\n",
    "Here, ParametricUMAP is used as a working alternative and compressed data is stored in the `models/umap/abstracts_embeddings_USE-v4-5d.csv` file.\n",
    "\n",
    "The reason for a separate notebook is the conflict between tensorflow packages and hdbscan packages. Here, we create a new Conda environment and only install strictly necessary packages."
   ]
  },
  {
   "cell_type": "code",
   "execution_count": 4,
   "metadata": {},
   "outputs": [],
   "source": [
    "# Make sure to activate the virtual environment before running this script\n",
    "\n",
    "raise NotImplementedError(\"Please install the dependencies and activate proper conda env.\")\n",
    "# %conda activate parametric_umap\n",
    "# %pip install -U \"umap-learn[parametric_umap]\" pandas xmltodict"
   ]
  },
  {
   "cell_type": "markdown",
   "metadata": {},
   "source": [
    "## Imports"
   ]
  },
  {
   "cell_type": "code",
   "execution_count": 1,
   "metadata": {},
   "outputs": [],
   "source": [
    "import numpy as np\n",
    "from umap.parametric_umap import ParametricUMAP\n",
    "from python.cogtext.datasets.pubmed import PubMedDataLoader"
   ]
  },
  {
   "cell_type": "markdown",
   "metadata": {},
   "source": [
    "## Load and prepare the data"
   ]
  },
  {
   "cell_type": "code",
   "execution_count": 13,
   "metadata": {},
   "outputs": [],
   "source": [
    "data_loader = PubMedDataLoader(preprocessed=False, drop_low_occurred_labels=False)\n",
    "data = data_loader()\n",
    "# DEBUG data = data.sample(frac=.01, random_state=42)\n",
    "\n",
    "embedding_model_name = 'universal-sentence-encoder-v4'\n",
    "embedding_model_name = 'all-MiniLM-L6-v2'\n",
    "\n",
    "doc_embeddings_file = f'models/{embedding_model_name}/abstracts_embeddings.npz'\n",
    "\n",
    "X = np.load(doc_embeddings_file)['arr_0']\n",
    "X = X[data.index]"
   ]
  },
  {
   "cell_type": "markdown",
   "metadata": {},
   "source": [
    "## Create a new UMAP dimensionality reducer"
   ]
  },
  {
   "cell_type": "code",
   "execution_count": null,
   "metadata": {},
   "outputs": [],
   "source": [
    "\n",
    "# Reduce dimensionality with UMAP\n",
    "reducer = ParametricUMAP(n_neighbors=15,\n",
    "                         n_components=5,\n",
    "                         min_dist=0.0,\n",
    "                         metric='cosine',\n",
    "                         verbose=True,)"
   ]
  },
  {
   "cell_type": "markdown",
   "metadata": {},
   "source": [
    "Now, fit the model to the data and save the results as a CSV file"
   ]
  },
  {
   "cell_type": "code",
   "execution_count": 15,
   "metadata": {},
   "outputs": [
    {
     "name": "stdout",
     "output_type": "stream",
     "text": [
      "ParametricUMAP(optimizer=<keras.optimizer_v2.adam.Adam object at 0x14d2a8d60>)\n",
      "Sun Nov  7 16:57:36 2021 Construct fuzzy simplicial set\n",
      "Sun Nov  7 16:57:37 2021 Finding Nearest Neighbors\n",
      "Sun Nov  7 16:57:37 2021 Building RP forest with 41 trees\n",
      "Sun Nov  7 16:58:16 2021 NN descent for 19 iterations\n",
      "\t 1  /  19\n",
      "\t 2  /  19\n",
      "\t 3  /  19\n",
      "\t 4  /  19\n",
      "\t 5  /  19\n",
      "\tStopping threshold met -- exiting after 5 iterations\n",
      "Sun Nov  7 16:58:40 2021 Finished Nearest Neighbor Search\n",
      "Sun Nov  7 16:58:45 2021 Construct embedding\n",
      "Epoch 1/10\n",
      "71363/71363 [==============================] - 682s 10ms/step - loss: 0.1421\n",
      "Epoch 2/10\n",
      "71363/71363 [==============================] - 725s 10ms/step - loss: 0.1325\n",
      "Epoch 3/10\n",
      "71363/71363 [==============================] - 727s 10ms/step - loss: 0.1305\n",
      "Epoch 4/10\n",
      "71363/71363 [==============================] - 774s 11ms/step - loss: 0.1292\n",
      "Epoch 5/10\n",
      "71363/71363 [==============================] - 779s 11ms/step - loss: 0.1284\n",
      "Epoch 6/10\n",
      "71363/71363 [==============================] - 734s 10ms/step - loss: 0.1277\n",
      "Epoch 7/10\n",
      "71363/71363 [==============================] - 740s 10ms/step - loss: 0.1273\n",
      "Epoch 8/10\n",
      "71363/71363 [==============================] - 794s 11ms/step - loss: 0.1270\n",
      "Epoch 9/10\n",
      "71363/71363 [==============================] - 778s 11ms/step - loss: 0.1267\n",
      "Epoch 10/10\n",
      "71363/71363 [==============================] - 771s 11ms/step - loss: 0.1264\n",
      "16343/16343 [==============================] - 13s 812us/step\n",
      "Sun Nov  7 19:13:42 2021 Finished embedding\n"
     ]
    }
   ],
   "source": [
    "umap_embeddings = reducer.fit_transform(X)\n",
    "umap_embeddings = np.nan_to_num(umap_embeddings)\n",
    "\n",
    "np.savez(f'models/umap/abstracts_embeddings_USE-v4-5d.npz',umap_embeddings)"
   ]
  }
 ],
 "metadata": {
  "interpreter": {
   "hash": "4d4c55ad0dd25f9ca95e4d49a929aa3f71bfb37020ae570a9996c3e164818202"
  },
  "kernelspec": {
   "display_name": "Python 3.9.7 64-bit ('py3': conda)",
   "language": "python",
   "name": "python3"
  },
  "language_info": {
   "codemirror_mode": {
    "name": "ipython",
    "version": 3
   },
   "file_extension": ".py",
   "mimetype": "text/x-python",
   "name": "python",
   "nbconvert_exporter": "python",
   "pygments_lexer": "ipython3",
   "version": "3.9.7"
  },
  "orig_nbformat": 4
 },
 "nbformat": 4,
 "nbformat_minor": 2
}
