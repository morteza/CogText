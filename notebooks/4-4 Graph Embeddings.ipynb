{
 "cells": [
  {
   "cell_type": "code",
   "execution_count": 2,
   "metadata": {},
   "outputs": [
    {
     "name": "stdout",
     "output_type": "stream",
     "text": [
      "Note: you may need to restart the kernel to use updated packages.\n"
     ]
    }
   ],
   "source": [
    "%pip install \"stellargraph[igraph]\" chardet -Uq\n",
    "# %conda install cairocffi"
   ]
  },
  {
   "cell_type": "code",
   "execution_count": 4,
   "metadata": {},
   "outputs": [],
   "source": [
    "%reload_ext autoreload\n",
    "%autoreload 2\n",
    "\n",
    "import pandas as pd\n",
    "import stellargraph as sg\n",
    "from stellargraph.data import UniformRandomMetaPathWalk\n",
    "import igraph as ig"
   ]
  },
  {
   "cell_type": "code",
   "execution_count": 16,
   "metadata": {},
   "outputs": [
    {
     "name": "stdout",
     "output_type": "stream",
     "text": [
      "StellarGraph: Undirected multigraph\n",
      " Nodes: 170, Edges: 951\n",
      "\n",
      " Node types:\n",
      "  task: [98]\n",
      "    Features: float32 vector, length 1\n",
      "    Edge types: task-default->construct\n",
      "  construct: [72]\n",
      "    Features: float32 vector, length 1\n",
      "    Edge types: construct-default->task\n",
      "\n",
      " Edge types:\n",
      "    construct-default->task: [951]\n",
      "        Weights: range=[0.0010064, 0.514797], mean=0.00652259, std=0.0209533\n",
      "        Features: none\n"
     ]
    }
   ],
   "source": [
    "\n",
    "data = pd.read_csv('data/pubmed/cooc.csv')\n",
    "\n",
    "tasks = data.groupby('task')['task_corpus_size'].apply(lambda x: x.iloc[0]).rename('corpus_size').to_frame()\n",
    "\n",
    "constructs = data.groupby('construct')['construct_corpus_size'].apply(lambda x: x.iloc[0]).rename('corpus_size').to_frame()\n",
    "\n",
    "edges = data[['construct','task','jaccard_coefficient']]\n",
    "edges.columns = ['source', 'target', 'weight']\n",
    "\n",
    "edges = edges.query('weight > 0.001')\n",
    "\n",
    "G = sg.StellarGraph({'task': tasks, 'construct': constructs}, edges=edges)\n",
    "print(G.info())\n",
    "\n",
    "# import networkx as nx\n",
    "# ig.plot(ig.Graph.from_networkx(G.to_networkx()))\n",
    "# nx.draw_spring(G.to_networkx())\n"
   ]
  },
  {
   "cell_type": "code",
   "execution_count": 27,
   "metadata": {},
   "outputs": [
    {
     "name": "stdout",
     "output_type": "stream",
     "text": [
      "Number of random walks: 1700\n"
     ]
    },
    {
     "data": {
      "text/plain": [
       "[['Attention',\n",
       "  'Verbal_fluency_task',\n",
       "  'ExecutiveControl',\n",
       "  'NBackTask',\n",
       "  'CogntiveControl',\n",
       "  'DirectedForgettingTest',\n",
       "  'ResponseConflict',\n",
       "  'S-R_compatibility_task',\n",
       "  'ResponseConflict',\n",
       "  'Stroop',\n",
       "  'ImplicitMemory',\n",
       "  'Semantic_Fluency_test'],\n",
       " ['Attention',\n",
       "  'StopSignalTask',\n",
       "  'Planning',\n",
       "  'WCST_-_Wisconsin_Card_Sort_Test',\n",
       "  'ResponseInhibition',\n",
       "  'WCST_-_Wisconsin_Card_Sort_Test',\n",
       "  'VerbalWorkingMemory',\n",
       "  'OSpan_-_Operating_Span',\n",
       "  'FluidIntelligence',\n",
       "  'NBackTask',\n",
       "  'Sequencing',\n",
       "  'NBackTask'],\n",
       " ['Attention',\n",
       "  'Stroop',\n",
       "  'AttentionalControl',\n",
       "  'TMT_-_Trail_Making_Task',\n",
       "  'VerbalProcessing',\n",
       "  'Span_Task',\n",
       "  'ProcessingSpeed',\n",
       "  'PEG_-_Pencil_Tapping_task',\n",
       "  'ProcessingSpeed',\n",
       "  'Verbal_fluency_task',\n",
       "  'CogntiveControl',\n",
       "  'Stroop'],\n",
       " ['Attention',\n",
       "  'Verbal_fluency_task',\n",
       "  'Fluency',\n",
       "  'Sentence_Completion_task',\n",
       "  'ExecutiveControl',\n",
       "  'Simon_task',\n",
       "  'ExecutiveControl',\n",
       "  'Digit_Span',\n",
       "  'Planning',\n",
       "  'Go_NoGo',\n",
       "  'CognitiveInhibition',\n",
       "  'MCST_-_Modified_Card_Sorting_test'],\n",
       " ['Attention',\n",
       "  'Verbal_fluency_task',\n",
       "  'Inhibition',\n",
       "  'NBackTask',\n",
       "  'VisuospatialSketchpad',\n",
       "  'Digit_Span',\n",
       "  'ShortTermMemory',\n",
       "  'NBackTask',\n",
       "  'ProblemSolving',\n",
       "  'Sorting_task',\n",
       "  'ProblemSolving',\n",
       "  'TMT_-_Trail_Making_Task'],\n",
       " ['Attention',\n",
       "  'NBackTask',\n",
       "  'SelfRegulation',\n",
       "  'Go_NoGo',\n",
       "  'Switching',\n",
       "  'Local–global_task',\n",
       "  'Switching',\n",
       "  'TMT_-_Trail_Making_Task',\n",
       "  'Updating',\n",
       "  'TowerOfHanoi',\n",
       "  'Updating',\n",
       "  'TowerOfHanoi'],\n",
       " ['Attention',\n",
       "  'AttentionNetworkTest',\n",
       "  'Mindfulness',\n",
       "  'FlankerTask',\n",
       "  'Organization',\n",
       "  'LMT_-_Letter_Memory_task',\n",
       "  'Organization',\n",
       "  'PRP',\n",
       "  'ResponseConflict',\n",
       "  'StopSignalTask',\n",
       "  'ResponseInhibition',\n",
       "  'Stroop'],\n",
       " ['Attention',\n",
       "  'FlankerTask',\n",
       "  'SelfRegulation',\n",
       "  'Stroop',\n",
       "  'Perseveration',\n",
       "  'NBackTask',\n",
       "  'SelfRegulation',\n",
       "  'FlankerTask',\n",
       "  'ExecutiveControl',\n",
       "  'DirectedForgettingTest',\n",
       "  'LongTermMemory',\n",
       "  'CorsiBlockTask'],\n",
       " ['Attention',\n",
       "  'FlankerTask',\n",
       "  'Fluency',\n",
       "  'TowerOfHanoi',\n",
       "  'VerbalWorkingMemory',\n",
       "  'RecentProbesTask',\n",
       "  'InterferenceControl',\n",
       "  'FlankerTask',\n",
       "  'SelfControl',\n",
       "  'Simon_task',\n",
       "  'AttentionalControl',\n",
       "  'Go_NoGo'],\n",
       " ['Attention',\n",
       "  'ContiniousPerformanceTask',\n",
       "  'Organization',\n",
       "  'LMT_-_Letter_Memory_task',\n",
       "  'CognitiveInhibition',\n",
       "  'TowerOfHanoi',\n",
       "  'SelectiveAttention',\n",
       "  'TowerOfHanoi',\n",
       "  'ImplicitMemory',\n",
       "  'DirectedForgettingTest',\n",
       "  'Inhibition',\n",
       "  'TowerOfLondon']]"
      ]
     },
     "execution_count": 27,
     "metadata": {},
     "output_type": "execute_result"
    }
   ],
   "source": [
    "# metapath2vec\n",
    "\n",
    "rnd_walk_length = 12  # maximum length of a random walk\n",
    "\n",
    "# metapath schemas as a list of lists of node types.\n",
    "metapaths = [\n",
    "    ['task', 'construct', 'task'],\n",
    "    ['construct', 'task', 'construct'],\n",
    "    # ['construct', 'task', 'task', 'construct'],\n",
    "    # ['task', 'construct', 'task', 'construct', 'task'],\n",
    "    # ['task', 'construct', 'construct', 'task'],\n",
    "]\n",
    "\n",
    "rw = UniformRandomMetaPathWalk(G)\n",
    "\n",
    "walks = rw.run(\n",
    "    nodes=list(G.nodes()),  # root nodes\n",
    "    length=rnd_walk_length,  # maximum length of a random walk\n",
    "    n=10,  # number of random walks per root node\n",
    "    metapaths=metapaths,  # the metapaths\n",
    ")\n",
    "\n",
    "print(f'Number of random walks: {len(walks)}')\n",
    "\n",
    "[w for w in walks if w[0] == 'Attention']"
   ]
  },
  {
   "cell_type": "code",
   "execution_count": 55,
   "metadata": {},
   "outputs": [
    {
     "name": "stdout",
     "output_type": "stream",
     "text": [
      "shape: (170, 256)\n"
     ]
    },
    {
     "data": {
      "text/plain": [
       "[('Planning', 0.4528438150882721),\n",
       " ('Object_Substitution_task', 0.38416504859924316),\n",
       " ('KnockAndTapTask', 0.35234302282333374),\n",
       " ('SimonSays', 0.3507770001888275),\n",
       " ('EpisodicMemory', 0.34583422541618347),\n",
       " ('Verbal_fluency_task', 0.3424619436264038),\n",
       " ('ProblemSolving', 0.3270026743412018),\n",
       " ('TowerOfHanoi', 0.32507088780403137),\n",
       " ('TMT_-_Trail_Making_Task', 0.32417359948158264),\n",
       " ('NBackTask', 0.3218667209148407)]"
      ]
     },
     "execution_count": 55,
     "metadata": {},
     "output_type": "execute_result"
    }
   ],
   "source": [
    "from gensim.models import Word2Vec\n",
    "\n",
    "model = Word2Vec(walks, vector_size=256, window=5, sg=1, workers=2, epochs=100)\n",
    "print('shape:', model.wv.vectors.shape)\n",
    "model.wv.most_similar('Attention')\n",
    "# model.wv.most_similar('Semantic_Fluency_test')"
   ]
  },
  {
   "cell_type": "code",
   "execution_count": 56,
   "metadata": {},
   "outputs": [
    {
     "data": {
      "image/png": "[encoded data removed]",
      "text/plain": [
       "<Figure size 360x360 with 1 Axes>"
      ]
     },
     "metadata": {
      "needs_background": "light"
     },
     "output_type": "display_data"
    }
   ],
   "source": [
    "# viz\n",
    "\n",
    "node_embeddings = model.wv.vectors\n",
    "node_types = [G.node_type(node_id) for node_id in model.wv.index_to_key]\n",
    "\n",
    "from sklearn.manifold import MDS\n",
    "import numpy as np\n",
    "import matplotlib.pyplot as plt\n",
    "\n",
    "\n",
    "node_embeddings_2d = MDS(n_components=2, metric='cosine').fit_transform(node_embeddings)\n",
    "node_embeddings_2d\n",
    "\n",
    "label_map = {l: i for i, l in enumerate(np.unique(node_types))}\n",
    "node_colors = [label_map[t] for t in node_types]\n",
    "\n",
    "plt.figure(figsize=(5, 5))\n",
    "plt.axes().set(aspect='equal')\n",
    "plt.scatter(node_embeddings_2d[:, 0], node_embeddings_2d[:, 1], c=node_colors, alpha=0.3)\n",
    "plt.title('2d projection of the node embeddings')\n",
    "plt.show()"
   ]
  }
 ],
 "metadata": {
  "interpreter": {
   "hash": "4d4c55ad0dd25f9ca95e4d49a929aa3f71bfb37020ae570a9996c3e164818202"
  },
  "kernelspec": {
   "display_name": "Python 3.9.7 64-bit ('py3': conda)",
   "language": "python",
   "name": "python3"
  },
  "language_info": {
   "codemirror_mode": {
    "name": "ipython",
    "version": 3
   },
   "file_extension": ".py",
   "mimetype": "text/x-python",
   "name": "python",
   "nbconvert_exporter": "python",
   "pygments_lexer": "ipython3",
   "version": "3.8.12"
  },
  "orig_nbformat": 4
 },
 "nbformat": 4,
 "nbformat_minor": 2
}
