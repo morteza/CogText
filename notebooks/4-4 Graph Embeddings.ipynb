{
 "cells": [
  {
   "cell_type": "code",
   "execution_count": 2,
   "metadata": {},
   "outputs": [
    {
     "name": "stdout",
     "output_type": "stream",
     "text": [
      "Note: you may need to restart the kernel to use updated packages.\n"
     ]
    }
   ],
   "source": [
    "%pip install \"stellargraph[igraph]\" chardet -Uq\n",
    "# %conda install cairocffi"
   ]
  },
  {
   "cell_type": "code",
   "execution_count": 3,
   "metadata": {},
   "outputs": [
    {
     "name": "stderr",
     "output_type": "stream",
     "text": [
      "2021-11-12 13:18:33.464934: I tensorflow/core/platform/cpu_feature_guard.cc:151] This TensorFlow binary is optimized with oneAPI Deep Neural Network Library (oneDNN) to use the following CPU instructions in performance-critical operations:  AVX2 FMA\n",
      "To enable them in other operations, rebuild TensorFlow with the appropriate compiler flags.\n"
     ]
    }
   ],
   "source": [
    "%reload_ext autoreload\n",
    "%autoreload 2\n",
    "\n",
    "import pandas as pd\n",
    "import stellargraph as sg\n",
    "from stellargraph.data import UniformRandomMetaPathWalk\n",
    "import igraph as ig"
   ]
  },
  {
   "cell_type": "code",
   "execution_count": 4,
   "metadata": {},
   "outputs": [],
   "source": [
    "from sklearn.metrics.pairwise import cosine_similarity\n",
    "\n",
    "H = pd.read_csv('models/cogtext/H_USEv4_UMAP5d_v1.csv.gz')\n",
    "H = H.set_index(['category','label'])#.reset_index()\n",
    "\n",
    "from sklearn.preprocessing import Normalizer\n",
    "H.iloc[:,:] = Normalizer(norm='l1').fit_transform(H)"
   ]
  },
  {
   "cell_type": "code",
   "execution_count": 5,
   "metadata": {},
   "outputs": [
    {
     "name": "stdout",
     "output_type": "stream",
     "text": [
      "StellarGraph: Undirected multigraph\n",
      " Nodes: 172, Edges: 8304\n",
      "\n",
      " Node types:\n",
      "  task: [100]\n",
      "    Features: float32 vector, length 234\n",
      "    Edge types: task-default->construct, task-default->task\n",
      "  construct: [72]\n",
      "    Features: float32 vector, length 234\n",
      "    Edge types: construct-default->construct, construct-default->task\n",
      "\n",
      " Edge types:\n",
      "    construct-default->task: [4002]\n",
      "        Weights: range=[0.800208, 0.998232], mean=0.899659, std=0.053345\n",
      "        Features: none\n",
      "    task-default->task: [2388]\n",
      "        Weights: range=[0.800001, 1], mean=0.906512, std=0.060447\n",
      "        Features: none\n",
      "    construct-default->construct: [1914]\n",
      "        Weights: range=[0.800374, 1], mean=0.902927, std=0.0555441\n",
      "        Features: none\n"
     ]
    }
   ],
   "source": [
    "# cooc: tasks = data.groupby('task')['task_corpus_size'].apply(lambda x: x.iloc[0]).rename('corpus_size').to_frame()\n",
    "# constructs = data.groupby('construct')['construct_corpus_size'].apply(lambda x: x.iloc[0]).rename('corpus_size').to_frame()\n",
    "# edges = data[['construct','task','jaccard_coefficient']]\n",
    "# edges.columns = ['source', 'target', 'weight']\n",
    "\n",
    "tasks = H.reset_index().query('category == \"CognitiveTask\"').set_index(['category','label']).reset_index(0,drop=True)\n",
    "constructs = H.reset_index().query('category == \"CognitiveConstruct\"').set_index(['category','label']).reset_index(0,drop=True)\n",
    "\n",
    "H_sim = pd.DataFrame(cosine_similarity(H), index=H.index.levels[1], columns=H.index.levels[1])\n",
    "H_sim = H_sim.unstack()\n",
    "H_sim.index.set_names(['source','target'], inplace=True)\n",
    "H_sim = H_sim.reset_index().rename({0: 'weight'}, axis=1)\n",
    "\n",
    "edges = H_sim.query('weight > .8')\n",
    "\n",
    "# edges = edges.query('weight > 0.001')\n",
    "\n",
    "G = sg.StellarGraph({'task': tasks, 'construct': constructs}, edges=edges)\n",
    "print(G.info())\n",
    "\n",
    "# import networkx as nx\n",
    "# ig.plot(ig.Graph.from_networkx(G.to_networkx()))\n",
    "# nx.draw_spring(G.to_networkx())\n"
   ]
  },
  {
   "cell_type": "code",
   "execution_count": 6,
   "metadata": {},
   "outputs": [
    {
     "name": "stdout",
     "output_type": "stream",
     "text": [
      "Number of random walks: 1720\n"
     ]
    },
    {
     "data": {
      "text/plain": [
       "[['Attention',\n",
       "  'ContiniousPerformanceTask',\n",
       "  'Attention',\n",
       "  'TowerOfLondon',\n",
       "  'VisuospatialWorkingMemory'],\n",
       " ['Attention',\n",
       "  'OddOneOutTask',\n",
       "  'Inhibition',\n",
       "  'AntiSaccadeTask',\n",
       "  'ResponseInhibition'],\n",
       " ['Attention',\n",
       "  'Dimension-switching_task',\n",
       "  'SelectiveAttention',\n",
       "  'TowerOfHanoi',\n",
       "  'Switching'],\n",
       " ['Attention',\n",
       "  'CognitiveReflectionTest',\n",
       "  'LogicalReasoning',\n",
       "  'SimpleRT',\n",
       "  'Attention'],\n",
       " ['Attention',\n",
       "  'BoxCrossingDualTask',\n",
       "  'EpisodicBuffer',\n",
       "  'Number-Letter_task',\n",
       "  'Volition'],\n",
       " ['Attention',\n",
       "  'DirectedForgettingTest',\n",
       "  'VerbalProcessing',\n",
       "  'Go_NoGo',\n",
       "  'ImplicitMemory'],\n",
       " ['Attention',\n",
       "  'ColorShapeTask',\n",
       "  'VerbalProcessing',\n",
       "  'Hayling_test',\n",
       "  'Volition'],\n",
       " ['Attention',\n",
       "  'TaskSwitching',\n",
       "  'ResponseInhibition',\n",
       "  'OddOneOutTask',\n",
       "  'FeedbackLearning'],\n",
       " ['Attention',\n",
       "  'CognitiveReflectionTest',\n",
       "  'RelationalReasoning',\n",
       "  'LetterMonitoring',\n",
       "  'ShortTermMemory'],\n",
       " ['Attention',\n",
       "  'OddOneOutTask',\n",
       "  'StrategicRetrieval',\n",
       "  'RecentProbesTask',\n",
       "  'FocusedAttention']]"
      ]
     },
     "execution_count": 6,
     "metadata": {},
     "output_type": "execute_result"
    }
   ],
   "source": [
    "# metapath2vec\n",
    "\n",
    "rnd_walk_length = 5  # maximum length of a random walk\n",
    "\n",
    "# metapath schemas as a list of lists of node types.\n",
    "metapaths = [\n",
    "    ['task', 'construct', 'task'],\n",
    "    ['construct', 'task', 'construct'],\n",
    "    # ['construct', 'task', 'task', 'construct'],\n",
    "    # ['task', 'construct', 'task', 'construct', 'task'],\n",
    "    # ['task', 'construct', 'construct', 'task'],\n",
    "]\n",
    "\n",
    "rw = UniformRandomMetaPathWalk(G)\n",
    "\n",
    "walks = rw.run(\n",
    "    nodes=list(G.nodes()),  # root nodes\n",
    "    length=rnd_walk_length,  # maximum length of a random walk\n",
    "    n=10,  # number of random walks per root node\n",
    "    metapaths=metapaths,  # the metapaths\n",
    ")\n",
    "\n",
    "print(f'Number of random walks: {len(walks)}')\n",
    "\n",
    "[w for w in walks if w[0] == 'Attention']"
   ]
  },
  {
   "cell_type": "code",
   "execution_count": 7,
   "metadata": {},
   "outputs": [
    {
     "name": "stdout",
     "output_type": "stream",
     "text": [
      "shape: (172, 256)\n"
     ]
    }
   ],
   "source": [
    "from gensim.models import Word2Vec\n",
    "\n",
    "model = Word2Vec(walks, vector_size=256, window=5, sg=1, workers=2, epochs=1000)\n",
    "print('shape:', model.wv.vectors.shape)"
   ]
  },
  {
   "cell_type": "code",
   "execution_count": 8,
   "metadata": {},
   "outputs": [
    {
     "name": "stdout",
     "output_type": "stream",
     "text": [
      "Most similar nodes to `Stroop` and `ExecutiveFunction`\n"
     ]
    },
    {
     "data": {
      "text/plain": [
       "[('DiscountingTask', 0.8007004857063293),\n",
       " ('ColumbiaCardTask', 0.7756889462471008),\n",
       " ('RewardProcessing', 0.7488025426864624),\n",
       " ('Delay_Discounting_task', 0.7319445610046387),\n",
       " ('Verbal_fluency_task', 0.5718418955802917),\n",
       " ('SelfRegulation', 0.555144190788269),\n",
       " ('LetterFluency', 0.5502687096595764),\n",
       " ('EffortfulControl', 0.5494911074638367),\n",
       " ('BehavioralRegulation', 0.5487050414085388),\n",
       " ('SnackDelayTask', 0.548507034778595)]"
      ]
     },
     "execution_count": 8,
     "metadata": {},
     "output_type": "execute_result"
    }
   ],
   "source": [
    "print('Most similar nodes to `Stroop` and `ExecutiveFunction`')\n",
    "\n",
    "model.wv.most_similar(['BART','ExecutiveFunction'])\n",
    "# model.wv.most_similar('Semantic_Fluency_test')"
   ]
  },
  {
   "cell_type": "code",
   "execution_count": 1,
   "metadata": {},
   "outputs": [],
   "source": [
    "G_v = pd.DataFrame(model.wv.vectors, index=model.wv.index_to_key)\n",
    "G_sim = cosine_similarity(G_v)\n",
    "G_sim = pd.DataFrame(G_sim, index=G_v.index, columns=G_v.index)\n",
    "import seaborn as sns\n",
    "sns.clustermap(G_sim, figsize=(50,50))"
   ]
  },
  {
   "cell_type": "code",
   "execution_count": 183,
   "metadata": {},
   "outputs": [
    {
     "data": {
      "image/png": "[encoded data removed]",
      "text/plain": [
       "<Figure size 360x360 with 1 Axes>"
      ]
     },
     "metadata": {},
     "output_type": "display_data"
    }
   ],
   "source": [
    "# visualize in a Euclidean space\n",
    "\n",
    "node_embeddings = model.wv.vectors\n",
    "node_types = [G.node_type(node_id) for node_id in model.wv.index_to_key]\n",
    "\n",
    "from sklearn.manifold import MDS\n",
    "import numpy as np\n",
    "import matplotlib.pyplot as plt\n",
    "\n",
    "\n",
    "node_embeddings_2d = MDS(n_components=2, metric='cosine').fit_transform(node_embeddings)\n",
    "\n",
    "label_map = {l: i for i, l in enumerate(np.unique(node_types))}\n",
    "node_colors = [label_map[t] for t in node_types]\n",
    "\n",
    "plt.figure(figsize=(5, 5))\n",
    "plt.axes().set(aspect='equal')\n",
    "plt.scatter(node_embeddings_2d[:, 0], node_embeddings_2d[:, 1], c=node_colors, alpha=0.3)\n",
    "plt.title('2d projection of the node embeddings')\n",
    "plt.show()"
   ]
  }
 ],
 "metadata": {
  "interpreter": {
   "hash": "4d4c55ad0dd25f9ca95e4d49a929aa3f71bfb37020ae570a9996c3e164818202"
  },
  "kernelspec": {
   "display_name": "Python 3.9.7 64-bit ('py3': conda)",
   "language": "python",
   "name": "python3"
  },
  "language_info": {
   "codemirror_mode": {
    "name": "ipython",
    "version": 3
   },
   "file_extension": ".py",
   "mimetype": "text/x-python",
   "name": "python",
   "nbconvert_exporter": "python",
   "pygments_lexer": "ipython3",
   "version": "3.8.12"
  },
  "orig_nbformat": 4
 },
 "nbformat": 4,
 "nbformat_minor": 2
}
