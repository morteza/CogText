{
 "metadata": {
  "language_info": {
   "codemirror_mode": {
    "name": "ipython",
    "version": 3
   },
   "file_extension": ".py",
   "mimetype": "text/x-python",
   "name": "python",
   "nbconvert_exporter": "python",
   "pygments_lexer": "ipython3",
   "version": "3.9.4"
  },
  "orig_nbformat": 4,
  "kernelspec": {
   "name": "python3",
   "display_name": "Python 3.9.4 64-bit ('py3': conda)"
  },
  "interpreter": {
   "hash": "5ddcf14c786c671500c086f61f0b66d0417d6c58ff12753e346e191a84f72b84"
  }
 },
 "nbformat": 4,
 "nbformat_minor": 2,
 "cells": [
  {
   "cell_type": "code",
   "execution_count": 1,
   "metadata": {},
   "outputs": [
    {
     "output_type": "stream",
     "name": "stdout",
     "text": [
      "igraph version: 0.9.6\n"
     ]
    }
   ],
   "source": [
    "# NOTE !pip install python-igraph cairocffi \n",
    "import igraph as ig\n",
    "print('igraph version:', ig.__version__)"
   ]
  },
  {
   "cell_type": "code",
   "execution_count": 2,
   "metadata": {},
   "outputs": [
    {
     "output_type": "stream",
     "name": "stdout",
     "text": [
      "IGRAPH U--- 3 2 -- \n"
     ]
    },
    {
     "output_type": "execute_result",
     "data": {
      "text/plain": [
       "<igraph.drawing.Plot at 0x7f7f5bf6f190>"
      ],
      "image/svg+xml": "<?xml version=\"1.0\" encoding=\"UTF-8\"?>\n<svg xmlns=\"http://www.w3.org/2000/svg\" xmlns:xlink=\"http://www.w3.org/1999/xlink\" width=\"600pt\" height=\"600pt\" viewBox=\"0 0 600 600\" version=\"1.1\">\n<g id=\"surface2\">\n<rect x=\"0\" y=\"0\" width=\"600\" height=\"600\" style=\"fill:rgb(100%,100%,100%);fill-opacity:1;stroke:none;\"/>\n<path style=\"fill:none;stroke-width:1;stroke-linecap:butt;stroke-linejoin:miter;stroke:rgb(26.666667%,26.666667%,26.666667%);stroke-opacity:1;stroke-miterlimit:10;\" d=\"M 20 364.921875 L 76.699219 318.542969 \"/>\n<path style=\"fill:none;stroke-width:1;stroke-linecap:butt;stroke-linejoin:miter;stroke:rgb(26.666667%,26.666667%,26.666667%);stroke-opacity:1;stroke-miterlimit:10;\" d=\"M 20 364.921875 L 135.550781 392.570312 \"/>\n<path style=\"fill:none;stroke-width:1;stroke-linecap:butt;stroke-linejoin:miter;stroke:rgb(26.666667%,26.666667%,26.666667%);stroke-opacity:1;stroke-miterlimit:10;\" d=\"M 20 364.921875 L 343.3125 580 \"/>\n<path style=\"fill:none;stroke-width:1;stroke-linecap:butt;stroke-linejoin:miter;stroke:rgb(26.666667%,26.666667%,26.666667%);stroke-opacity:1;stroke-miterlimit:10;\" d=\"M 20 364.921875 L 467.519531 437.617188 \"/>\n<path style=\"fill:none;stroke-width:1;stroke-linecap:butt;stroke-linejoin:miter;stroke:rgb(26.666667%,26.666667%,26.666667%);stroke-opacity:1;stroke-miterlimit:10;\" d=\"M 20 364.921875 L 476.382812 366.238281 \"/>\n<path style=\"fill:none;stroke-width:1;stroke-linecap:butt;stroke-linejoin:miter;stroke:rgb(26.666667%,26.666667%,26.666667%);stroke-opacity:1;stroke-miterlimit:10;\" d=\"M 76.699219 318.542969 L 135.550781 392.570312 \"/>\n<path style=\"fill:none;stroke-width:1;stroke-linecap:butt;stroke-linejoin:miter;stroke:rgb(26.666667%,26.666667%,26.666667%);stroke-opacity:1;stroke-miterlimit:10;\" d=\"M 76.699219 318.542969 L 343.3125 580 \"/>\n<path style=\"fill:none;stroke-width:1;stroke-linecap:butt;stroke-linejoin:miter;stroke:rgb(26.666667%,26.666667%,26.666667%);stroke-opacity:1;stroke-miterlimit:10;\" d=\"M 76.699219 318.542969 L 420.125 20 \"/>\n<path style=\"fill:none;stroke-width:1;stroke-linecap:butt;stroke-linejoin:miter;stroke:rgb(26.666667%,26.666667%,26.666667%);stroke-opacity:1;stroke-miterlimit:10;\" d=\"M 76.699219 318.542969 L 467.519531 437.617188 \"/>\n<path style=\"fill:none;stroke-width:1;stroke-linecap:butt;stroke-linejoin:miter;stroke:rgb(26.666667%,26.666667%,26.666667%);stroke-opacity:1;stroke-miterlimit:10;\" d=\"M 76.699219 318.542969 L 476.382812 366.238281 \"/>\n<path style=\"fill:none;stroke-width:1;stroke-linecap:butt;stroke-linejoin:miter;stroke:rgb(26.666667%,26.666667%,26.666667%);stroke-opacity:1;stroke-miterlimit:10;\" d=\"M 76.699219 318.542969 L 495.328125 405.179688 \"/>\n<path style=\"fill:none;stroke-width:1;stroke-linecap:butt;stroke-linejoin:miter;stroke:rgb(26.666667%,26.666667%,26.666667%);stroke-opacity:1;stroke-miterlimit:10;\" d=\"M 135.550781 392.570312 L 343.3125 580 \"/>\n<path style=\"fill:none;stroke-width:1;stroke-linecap:butt;stroke-linejoin:miter;stroke:rgb(26.666667%,26.666667%,26.666667%);stroke-opacity:1;stroke-miterlimit:10;\" d=\"M 135.550781 392.570312 L 420.125 20 \"/>\n<path style=\"fill:none;stroke-width:1;stroke-linecap:butt;stroke-linejoin:miter;stroke:rgb(26.666667%,26.666667%,26.666667%);stroke-opacity:1;stroke-miterlimit:10;\" d=\"M 135.550781 392.570312 L 467.519531 437.617188 \"/>\n<path style=\"fill:none;stroke-width:1;stroke-linecap:butt;stroke-linejoin:miter;stroke:rgb(26.666667%,26.666667%,26.666667%);stroke-opacity:1;stroke-miterlimit:10;\" d=\"M 135.550781 392.570312 L 476.382812 366.238281 \"/>\n<path style=\"fill:none;stroke-width:1;stroke-linecap:butt;stroke-linejoin:miter;stroke:rgb(26.666667%,26.666667%,26.666667%);stroke-opacity:1;stroke-miterlimit:10;\" d=\"M 135.550781 392.570312 L 495.328125 405.179688 \"/>\n<path style=\"fill:none;stroke-width:1;stroke-linecap:butt;stroke-linejoin:miter;stroke:rgb(26.666667%,26.666667%,26.666667%);stroke-opacity:1;stroke-miterlimit:10;\" d=\"M 135.550781 392.570312 L 542.011719 370.144531 \"/>\n<path style=\"fill:none;stroke-width:1;stroke-linecap:butt;stroke-linejoin:miter;stroke:rgb(26.666667%,26.666667%,26.666667%);stroke-opacity:1;stroke-miterlimit:10;\" d=\"M 343.3125 580 L 467.519531 437.617188 \"/>\n<path style=\"fill:none;stroke-width:1;stroke-linecap:butt;stroke-linejoin:miter;stroke:rgb(26.666667%,26.666667%,26.666667%);stroke-opacity:1;stroke-miterlimit:10;\" d=\"M 343.3125 580 L 476.382812 366.238281 \"/>\n<path style=\"fill:none;stroke-width:1;stroke-linecap:butt;stroke-linejoin:miter;stroke:rgb(26.666667%,26.666667%,26.666667%);stroke-opacity:1;stroke-miterlimit:10;\" d=\"M 343.3125 580 L 495.328125 405.179688 \"/>\n<path style=\"fill:none;stroke-width:1;stroke-linecap:butt;stroke-linejoin:miter;stroke:rgb(26.666667%,26.666667%,26.666667%);stroke-opacity:1;stroke-miterlimit:10;\" d=\"M 343.3125 580 L 542.011719 370.144531 \"/>\n<path style=\"fill:none;stroke-width:1;stroke-linecap:butt;stroke-linejoin:miter;stroke:rgb(26.666667%,26.666667%,26.666667%);stroke-opacity:1;stroke-miterlimit:10;\" d=\"M 343.3125 580 L 580 220.863281 \"/>\n<path style=\"fill:none;stroke-width:1;stroke-linecap:butt;stroke-linejoin:miter;stroke:rgb(26.666667%,26.666667%,26.666667%);stroke-opacity:1;stroke-miterlimit:10;\" d=\"M 420.125 20 L 467.519531 437.617188 \"/>\n<path style=\"fill:none;stroke-width:1;stroke-linecap:butt;stroke-linejoin:miter;stroke:rgb(26.666667%,26.666667%,26.666667%);stroke-opacity:1;stroke-miterlimit:10;\" d=\"M 420.125 20 L 476.382812 366.238281 \"/>\n<path style=\"fill:none;stroke-width:1;stroke-linecap:butt;stroke-linejoin:miter;stroke:rgb(26.666667%,26.666667%,26.666667%);stroke-opacity:1;stroke-miterlimit:10;\" d=\"M 420.125 20 L 495.328125 405.179688 \"/>\n<path style=\"fill:none;stroke-width:1;stroke-linecap:butt;stroke-linejoin:miter;stroke:rgb(26.666667%,26.666667%,26.666667%);stroke-opacity:1;stroke-miterlimit:10;\" d=\"M 420.125 20 L 542.011719 370.144531 \"/>\n<path style=\"fill:none;stroke-width:1;stroke-linecap:butt;stroke-linejoin:miter;stroke:rgb(26.666667%,26.666667%,26.666667%);stroke-opacity:1;stroke-miterlimit:10;\" d=\"M 420.125 20 L 580 220.863281 \"/>\n<path style=\"fill:none;stroke-width:1;stroke-linecap:butt;stroke-linejoin:miter;stroke:rgb(26.666667%,26.666667%,26.666667%);stroke-opacity:1;stroke-miterlimit:10;\" d=\"M 467.519531 437.617188 L 476.382812 366.238281 \"/>\n<path style=\"fill:none;stroke-width:1;stroke-linecap:butt;stroke-linejoin:miter;stroke:rgb(26.666667%,26.666667%,26.666667%);stroke-opacity:1;stroke-miterlimit:10;\" d=\"M 467.519531 437.617188 L 495.328125 405.179688 \"/>\n<path style=\"fill:none;stroke-width:1;stroke-linecap:butt;stroke-linejoin:miter;stroke:rgb(26.666667%,26.666667%,26.666667%);stroke-opacity:1;stroke-miterlimit:10;\" d=\"M 467.519531 437.617188 L 542.011719 370.144531 \"/>\n<path style=\"fill:none;stroke-width:1;stroke-linecap:butt;stroke-linejoin:miter;stroke:rgb(26.666667%,26.666667%,26.666667%);stroke-opacity:1;stroke-miterlimit:10;\" d=\"M 467.519531 437.617188 L 580 220.863281 \"/>\n<path style=\"fill:none;stroke-width:1;stroke-linecap:butt;stroke-linejoin:miter;stroke:rgb(26.666667%,26.666667%,26.666667%);stroke-opacity:1;stroke-miterlimit:10;\" d=\"M 476.382812 366.238281 L 495.328125 405.179688 \"/>\n<path style=\"fill:none;stroke-width:1;stroke-linecap:butt;stroke-linejoin:miter;stroke:rgb(26.666667%,26.666667%,26.666667%);stroke-opacity:1;stroke-miterlimit:10;\" d=\"M 476.382812 366.238281 L 542.011719 370.144531 \"/>\n<path style=\"fill:none;stroke-width:1;stroke-linecap:butt;stroke-linejoin:miter;stroke:rgb(26.666667%,26.666667%,26.666667%);stroke-opacity:1;stroke-miterlimit:10;\" d=\"M 476.382812 366.238281 L 580 220.863281 \"/>\n<path style=\"fill:none;stroke-width:1;stroke-linecap:butt;stroke-linejoin:miter;stroke:rgb(26.666667%,26.666667%,26.666667%);stroke-opacity:1;stroke-miterlimit:10;\" d=\"M 495.328125 405.179688 L 542.011719 370.144531 \"/>\n<path style=\"fill:none;stroke-width:1;stroke-linecap:butt;stroke-linejoin:miter;stroke:rgb(26.666667%,26.666667%,26.666667%);stroke-opacity:1;stroke-miterlimit:10;\" d=\"M 495.328125 405.179688 L 580 220.863281 \"/>\n<path style=\"fill:none;stroke-width:1;stroke-linecap:butt;stroke-linejoin:miter;stroke:rgb(26.666667%,26.666667%,26.666667%);stroke-opacity:1;stroke-miterlimit:10;\" d=\"M 542.011719 370.144531 L 580 220.863281 \"/>\n<path style=\"fill-rule:nonzero;fill:rgb(100%,0%,0%);fill-opacity:1;stroke-width:1;stroke-linecap:butt;stroke-linejoin:miter;stroke:rgb(0%,0%,0%);stroke-opacity:1;stroke-miterlimit:10;\" d=\"M 30 364.921875 C 30 370.445312 25.523438 374.921875 20 374.921875 C 14.476562 374.921875 10 370.445312 10 364.921875 C 10 359.398438 14.476562 354.921875 20 354.921875 C 25.523438 354.921875 30 359.398438 30 364.921875 \"/>\n<path style=\"fill-rule:nonzero;fill:rgb(100%,0%,0%);fill-opacity:1;stroke-width:1;stroke-linecap:butt;stroke-linejoin:miter;stroke:rgb(0%,0%,0%);stroke-opacity:1;stroke-miterlimit:10;\" d=\"M 86.699219 318.542969 C 86.699219 324.0625 82.222656 328.542969 76.699219 328.542969 C 71.175781 328.542969 66.699219 324.0625 66.699219 318.542969 C 66.699219 313.019531 71.175781 308.542969 76.699219 308.542969 C 82.222656 308.542969 86.699219 313.019531 86.699219 318.542969 \"/>\n<path style=\"fill-rule:nonzero;fill:rgb(100%,0%,0%);fill-opacity:1;stroke-width:1;stroke-linecap:butt;stroke-linejoin:miter;stroke:rgb(0%,0%,0%);stroke-opacity:1;stroke-miterlimit:10;\" d=\"M 145.550781 392.570312 C 145.550781 398.09375 141.074219 402.570312 135.550781 402.570312 C 130.027344 402.570312 125.550781 398.09375 125.550781 392.570312 C 125.550781 387.050781 130.027344 382.570312 135.550781 382.570312 C 141.074219 382.570312 145.550781 387.050781 145.550781 392.570312 \"/>\n<path style=\"fill-rule:nonzero;fill:rgb(100%,0%,0%);fill-opacity:1;stroke-width:1;stroke-linecap:butt;stroke-linejoin:miter;stroke:rgb(0%,0%,0%);stroke-opacity:1;stroke-miterlimit:10;\" d=\"M 353.3125 580 C 353.3125 585.523438 348.832031 590 343.3125 590 C 337.789062 590 333.3125 585.523438 333.3125 580 C 333.3125 574.476562 337.789062 570 343.3125 570 C 348.832031 570 353.3125 574.476562 353.3125 580 \"/>\n<path style=\"fill-rule:nonzero;fill:rgb(100%,0%,0%);fill-opacity:1;stroke-width:1;stroke-linecap:butt;stroke-linejoin:miter;stroke:rgb(0%,0%,0%);stroke-opacity:1;stroke-miterlimit:10;\" d=\"M 430.125 20 C 430.125 25.523438 425.648438 30 420.125 30 C 414.601562 30 410.125 25.523438 410.125 20 C 410.125 14.476562 414.601562 10 420.125 10 C 425.648438 10 430.125 14.476562 430.125 20 \"/>\n<path style=\"fill-rule:nonzero;fill:rgb(100%,0%,0%);fill-opacity:1;stroke-width:1;stroke-linecap:butt;stroke-linejoin:miter;stroke:rgb(0%,0%,0%);stroke-opacity:1;stroke-miterlimit:10;\" d=\"M 477.519531 437.617188 C 477.519531 443.136719 473.042969 447.617188 467.519531 447.617188 C 461.996094 447.617188 457.519531 443.136719 457.519531 437.617188 C 457.519531 432.09375 461.996094 427.617188 467.519531 427.617188 C 473.042969 427.617188 477.519531 432.09375 477.519531 437.617188 \"/>\n<path style=\"fill-rule:nonzero;fill:rgb(100%,0%,0%);fill-opacity:1;stroke-width:1;stroke-linecap:butt;stroke-linejoin:miter;stroke:rgb(0%,0%,0%);stroke-opacity:1;stroke-miterlimit:10;\" d=\"M 486.382812 366.238281 C 486.382812 371.761719 481.90625 376.238281 476.382812 376.238281 C 470.859375 376.238281 466.382812 371.761719 466.382812 366.238281 C 466.382812 360.714844 470.859375 356.238281 476.382812 356.238281 C 481.90625 356.238281 486.382812 360.714844 486.382812 366.238281 \"/>\n<path style=\"fill-rule:nonzero;fill:rgb(100%,0%,0%);fill-opacity:1;stroke-width:1;stroke-linecap:butt;stroke-linejoin:miter;stroke:rgb(0%,0%,0%);stroke-opacity:1;stroke-miterlimit:10;\" d=\"M 505.328125 405.179688 C 505.328125 410.699219 500.851562 415.179688 495.328125 415.179688 C 489.808594 415.179688 485.328125 410.699219 485.328125 405.179688 C 485.328125 399.65625 489.808594 395.179688 495.328125 395.179688 C 500.851562 395.179688 505.328125 399.65625 505.328125 405.179688 \"/>\n<path style=\"fill-rule:nonzero;fill:rgb(100%,0%,0%);fill-opacity:1;stroke-width:1;stroke-linecap:butt;stroke-linejoin:miter;stroke:rgb(0%,0%,0%);stroke-opacity:1;stroke-miterlimit:10;\" d=\"M 552.011719 370.144531 C 552.011719 375.664062 547.535156 380.144531 542.011719 380.144531 C 536.488281 380.144531 532.011719 375.664062 532.011719 370.144531 C 532.011719 364.621094 536.488281 360.144531 542.011719 360.144531 C 547.535156 360.144531 552.011719 364.621094 552.011719 370.144531 \"/>\n<path style=\"fill-rule:nonzero;fill:rgb(100%,0%,0%);fill-opacity:1;stroke-width:1;stroke-linecap:butt;stroke-linejoin:miter;stroke:rgb(0%,0%,0%);stroke-opacity:1;stroke-miterlimit:10;\" d=\"M 590 220.863281 C 590 226.386719 585.523438 230.863281 580 230.863281 C 574.476562 230.863281 570 226.386719 570 220.863281 C 570 215.339844 574.476562 210.863281 580 210.863281 C 585.523438 210.863281 590 215.339844 590 220.863281 \"/>\n</g>\n</svg>\n"
     },
     "metadata": {
      "image/svg+xml": {
       "isolated": true
      }
     },
     "execution_count": 2
    }
   ],
   "source": [
    "g = ig.Graph()\n",
    "\n",
    "g.add_vertices(3)\n",
    "g.add_edges([(0,1), (1,2)])\n",
    "# g.vs[0]['name'] = 'test'\n",
    "# g.vs[0].attributes()\n",
    "\n",
    "# print(g)\n",
    "ig.summary(g)\n",
    "\n",
    "g =ig.Graph.GRG(10, .8)\n",
    "\n",
    "ig.plot(g)"
   ]
  },
  {
   "cell_type": "code",
   "execution_count": 22,
   "metadata": {},
   "outputs": [
    {
     "output_type": "stream",
     "name": "stdout",
     "text": [
      "Clustering with 10 elements and 8 clusters\n[0] 0\n[1] 1, 2, 7\n[2] 3\n[3] 4\n[4] 5\n[5] 6\n[6] 8\n[7] 9\n"
     ]
    },
    {
     "output_type": "execute_result",
     "data": {
      "text/plain": [
       "<igraph.drawing.Plot at 0x7f7f60e18ee0>"
      ],
      "image/svg+xml": "<?xml version=\"1.0\" encoding=\"UTF-8\"?>\n<svg xmlns=\"http://www.w3.org/2000/svg\" xmlns:xlink=\"http://www.w3.org/1999/xlink\" width=\"600pt\" height=\"600pt\" viewBox=\"0 0 600 600\" version=\"1.1\">\n<g id=\"surface107\">\n<rect x=\"0\" y=\"0\" width=\"600\" height=\"600\" style=\"fill:rgb(100%,100%,100%);fill-opacity:1;stroke:none;\"/>\n<path style=\"fill-rule:nonzero;fill:rgb(0%,100%,0%);fill-opacity:0.25;stroke-width:2;stroke-linecap:butt;stroke-linejoin:miter;stroke:rgb(0%,100%,0%);stroke-opacity:1;stroke-miterlimit:10;\" d=\"M 21.082031 208.210938 L 206.164062 22.539062 C 214.988281 13.683594 213.550781 11.96875 203.289062 19.105469 L 113.570312 81.511719 C 103.308594 88.648438 85.957031 106.082031 78.867188 116.378906 L 17.609375 205.328125 C 10.519531 215.621094 12.257812 217.0625 21.082031 208.210938 \"/>\n<path style=\"fill:none;stroke-width:1;stroke-linecap:butt;stroke-linejoin:miter;stroke:rgb(20%,20%,20%);stroke-opacity:1;stroke-miterlimit:10;\" d=\"M 20.9375 208.066406 L 111.15625 113.019531 \"/>\n<path style=\"fill:none;stroke-width:1;stroke-linecap:butt;stroke-linejoin:miter;stroke:rgb(20%,20%,20%);stroke-opacity:1;stroke-miterlimit:10;\" d=\"M 206.019531 22.394531 L 111.15625 113.019531 \"/>\n<path style=\"fill-rule:nonzero;fill:rgb(100%,0%,0%);fill-opacity:1;stroke-width:1;stroke-linecap:butt;stroke-linejoin:miter;stroke:rgb(0%,0%,0%);stroke-opacity:1;stroke-miterlimit:10;\" d=\"M 587.335938 414.257812 C 587.335938 419.78125 582.859375 424.257812 577.335938 424.257812 C 571.8125 424.257812 567.335938 419.78125 567.335938 414.257812 C 567.335938 408.734375 571.8125 404.257812 577.335938 404.257812 C 582.859375 404.257812 587.335938 408.734375 587.335938 414.257812 \"/>\n<path style=\"fill-rule:nonzero;fill:rgb(0%,100%,0%);fill-opacity:1;stroke-width:1;stroke-linecap:butt;stroke-linejoin:miter;stroke:rgb(0%,0%,0%);stroke-opacity:1;stroke-miterlimit:10;\" d=\"M 30.9375 208.066406 C 30.9375 213.589844 26.460938 218.066406 20.9375 218.066406 C 15.414062 218.066406 10.9375 213.589844 10.9375 208.066406 C 10.9375 202.542969 15.414062 198.066406 20.9375 198.066406 C 26.460938 198.066406 30.9375 202.542969 30.9375 208.066406 \"/>\n<path style=\"fill-rule:nonzero;fill:rgb(0%,100%,0%);fill-opacity:1;stroke-width:1;stroke-linecap:butt;stroke-linejoin:miter;stroke:rgb(0%,0%,0%);stroke-opacity:1;stroke-miterlimit:10;\" d=\"M 216.019531 22.394531 C 216.019531 27.914062 211.542969 32.394531 206.019531 32.394531 C 200.496094 32.394531 196.019531 27.914062 196.019531 22.394531 C 196.019531 16.871094 200.496094 12.394531 206.019531 12.394531 C 211.542969 12.394531 216.019531 16.871094 216.019531 22.394531 \"/>\n<path style=\"fill-rule:nonzero;fill:rgb(0%,0%,100%);fill-opacity:1;stroke-width:1;stroke-linecap:butt;stroke-linejoin:miter;stroke:rgb(0%,0%,0%);stroke-opacity:1;stroke-miterlimit:10;\" d=\"M 30 445.996094 C 30 451.519531 25.523438 455.996094 20 455.996094 C 14.476562 455.996094 10 451.519531 10 445.996094 C 10 440.472656 14.476562 435.996094 20 435.996094 C 25.523438 435.996094 30 440.472656 30 445.996094 \"/>\n<path style=\"fill-rule:nonzero;fill:rgb(100%,100%,0%);fill-opacity:1;stroke-width:1;stroke-linecap:butt;stroke-linejoin:miter;stroke:rgb(0%,0%,0%);stroke-opacity:1;stroke-miterlimit:10;\" d=\"M 590 190.886719 C 590 196.410156 585.523438 200.886719 580 200.886719 C 574.476562 200.886719 570 196.410156 570 190.886719 C 570 185.363281 574.476562 180.886719 580 180.886719 C 585.523438 180.886719 590 185.363281 590 190.886719 \"/>\n<path style=\"fill-rule:nonzero;fill:rgb(100%,0%,100%);fill-opacity:1;stroke-width:1;stroke-linecap:butt;stroke-linejoin:miter;stroke:rgb(0%,0%,0%);stroke-opacity:1;stroke-miterlimit:10;\" d=\"M 341.117188 329.96875 C 341.117188 335.492188 336.640625 339.96875 331.117188 339.96875 C 325.597656 339.96875 321.117188 335.492188 321.117188 329.96875 C 321.117188 324.449219 325.597656 319.96875 331.117188 319.96875 C 336.640625 319.96875 341.117188 324.449219 341.117188 329.96875 \"/>\n<path style=\"fill-rule:nonzero;fill:rgb(0%,100%,100%);fill-opacity:1;stroke-width:1;stroke-linecap:butt;stroke-linejoin:miter;stroke:rgb(0%,0%,0%);stroke-opacity:1;stroke-miterlimit:10;\" d=\"M 454.515625 20 C 454.515625 25.523438 450.039062 30 444.515625 30 C 438.992188 30 434.515625 25.523438 434.515625 20 C 434.515625 14.476562 438.992188 10 444.515625 10 C 450.039062 10 454.515625 14.476562 454.515625 20 \"/>\n<path style=\"fill-rule:nonzero;fill:rgb(0%,100%,0%);fill-opacity:1;stroke-width:1;stroke-linecap:butt;stroke-linejoin:miter;stroke:rgb(0%,0%,0%);stroke-opacity:1;stroke-miterlimit:10;\" d=\"M 121.15625 113.019531 C 121.15625 118.542969 116.679688 123.019531 111.15625 123.019531 C 105.632812 123.019531 101.15625 118.542969 101.15625 113.019531 C 101.15625 107.5 105.632812 103.019531 111.15625 103.019531 C 116.679688 103.019531 121.15625 107.5 121.15625 113.019531 \"/>\n<path style=\"fill-rule:nonzero;fill:rgb(50.196078%,50.196078%,50.196078%);fill-opacity:1;stroke-width:1;stroke-linecap:butt;stroke-linejoin:miter;stroke:rgb(0%,0%,0%);stroke-opacity:1;stroke-miterlimit:10;\" d=\"M 424.113281 577.1875 C 424.113281 582.710938 419.636719 587.1875 414.113281 587.1875 C 408.589844 587.1875 404.113281 582.710938 404.113281 577.1875 C 404.113281 571.667969 408.589844 567.1875 414.113281 567.1875 C 419.636719 567.1875 424.113281 571.667969 424.113281 577.1875 \"/>\n<path style=\"fill-rule:nonzero;fill:rgb(50%,0%,0%);fill-opacity:1;stroke-width:1;stroke-linecap:butt;stroke-linejoin:miter;stroke:rgb(0%,0%,0%);stroke-opacity:1;stroke-miterlimit:10;\" d=\"M 201.351562 580 C 201.351562 585.523438 196.875 590 191.351562 590 C 185.828125 590 181.351562 585.523438 181.351562 580 C 181.351562 574.476562 185.828125 570 191.351562 570 C 196.875 570 201.351562 574.476562 201.351562 580 \"/>\n</g>\n</svg>\n"
     },
     "metadata": {
      "image/svg+xml": {
       "isolated": true
      }
     },
     "execution_count": 22
    }
   ],
   "source": [
    "import random\n",
    "random.seed(42)\n",
    "\n",
    "import matplotlib.pyplot as plt\n",
    "\n",
    "# a random graph\n",
    "g = ig.Graph.Erdos_Renyi(10,.02)\n",
    "\n",
    "# detect communities\n",
    "comms = g.community_multilevel()\n",
    "\n",
    "# plot and save\n",
    "g_plot = ig.plot(comms, mark_groups = True, inline=True)\n",
    "\n",
    "g_plot.save('outputs/multilevel_community_in_graphs.png')\n",
    "\n",
    "print(comms)\n",
    "g_plot\n"
   ]
  }
 ]
}