{
 "metadata": {
  "language_info": {
   "codemirror_mode": {
    "name": "ipython",
    "version": 3
   },
   "file_extension": ".py",
   "mimetype": "text/x-python",
   "name": "python",
   "nbconvert_exporter": "python",
   "pygments_lexer": "ipython3",
   "version": "3.9.2"
  },
  "orig_nbformat": 2,
  "kernelspec": {
   "name": "python392jvsc74a57bd0ea20dcc4936bc3e336221d5e5ae7bcd09719da9b70640ea666426cf2d919dc3d",
   "display_name": "Python 3.9.2 64-bit ('base': conda)"
  }
 },
 "nbformat": 4,
 "nbformat_minor": 2,
 "cells": [
  {
   "source": [
    "# Co-occurrence Analysis\n",
    "\n",
    "Cognitive Control has many faces and for this reason a good part of tests literature targets the Cognitive Control using multiple tests in a single study. On that note, the co-occurrences of tests in the literature help us identify tests that are commonly used together, tests that are validated by other tests, and tests that can be ignored due to redundancy or lack of correlation with other standard tests. This co-occurence analysis improves our understanding of the coverage and dependencies in the Cognitive Control tests.\n",
    "\n",
    "This notebooks demonstrates analyses of co-occurences of cognitive tests in PubMed articles.\n",
    "\n",
    "- [ ] rename variables in a consistent way"
   ],
   "cell_type": "markdown",
   "metadata": {}
  },
  {
   "cell_type": "code",
   "execution_count": 3,
   "metadata": {},
   "outputs": [],
   "source": [
    "# Setup\n",
    "\n",
    "import matplotlib.pyplot as plt\n",
    "import seaborn as sns; sns.set(style='white')\n",
    "from pathlib import Path\n",
    "import pandas as pd\n",
    "import numpy as np\n",
    "import networkx as nx\n",
    "\n",
    "pubmed_fpath = Path('../data/pubmed/tests/')\n",
    "_corpora = []\n",
    "\n",
    "# fetch csv file names and remove irrelevant tasks\n",
    "files = [f for f in pubmed_fpath.glob('*.csv') if f.stem not in ['STOP', 'MONITOR']]\n",
    "\n",
    "for f in files:\n",
    "    _df = pd.read_csv(f)\n",
    "    _df['cognitive_test'] = f.stem\n",
    "    _corpora.append(_df)\n",
    "\n",
    "CORPUS = pd.concat(_corpora)\n",
    "\n",
    "\n",
    "cognitive_tests = CORPUS['cognitive_test'].unique().tolist()"
   ]
  },
  {
   "source": [
    "First we need to calculate co-ocurence of two tests given the two corresponding corpora. This co-occurence feaure is conditional (i.e., bidirectional) given which of the two corpora is being analyzed.\n",
    "\n",
    "The following code create a matrix called `cooccurences` of size n*n where n is the total number of tests and its element `[i,j]` contains the number of articles in corpus `j` that also exist in corpus `i`. Note that the matrix is symmetrix and `x[i,j] == x[j,i]`.\n",
    "\n",
    "A second matrix which is called `cooccurences_normalized_pct` contains the same information but values in `[i,j]` are percetage of corpus `j` that also exist in the corpus `i`; values are normalized by the number of total articles in corpus `j`. Normalized co-occurence matrix is not symmetric.\n",
    "\n",
    "Here is a list of all produced matrices (we don't need all):\n",
    "\n",
    "- `cooccurences`\n",
    "- `cooccurences_normalized`\n",
    "- `cooccurences_normalized_pct`\n",
    "- `undirected_cooccurences_normalized`\n",
    "- `undirected_cooccurences_normalized_pct`\n",
    "\n",
    "\n",
    "- [ ] **TODO:** Is there a better way to explain how to interpret the cooccurences matrix? Indexing somehow confuses me."
   ],
   "cell_type": "markdown",
   "metadata": {}
  },
  {
   "cell_type": "code",
   "execution_count": 3,
   "metadata": {},
   "outputs": [],
   "source": [
    "cooccurences = np.zeros((len(cognitive_tests), len(cognitive_tests)))\n",
    "cooccurences_normalized = np.zeros_like(cooccurences)\n",
    "undirected_cooccurences_normalized = np.ones_like(cooccurences)\n",
    "\n",
    "def find_union_set(left_set, right_set):\n",
    "    \"\"\"Find shared items (union set) in two sets of PMIDs.\"\"\"\n",
    "    union_set = [_id for _id in left_set if _id in right_set]\n",
    "    # or set.union(...)\n",
    "    return union_set\n",
    "\n",
    "# now fill the co-occurence matrices\n",
    "for i, test_i in enumerate(cognitive_tests):\n",
    "    pmids_i = set(CORPUS.query('cognitive_test == @test_i')['pmid'])\n",
    "    for j, test_j in enumerate(cognitive_tests):\n",
    "        if i!=j:\n",
    "            pmids_j = set(CORPUS.query('cognitive_test == @test_j')['pmid'])\n",
    "            cooccurences[i,j] = len(find_union_set(pmids_i, pmids_j))\n",
    "            cooccurences_normalized[i,j] = cooccurences[i,j] / len(pmids_j)\n",
    "            undirected_cooccurences_normalized[i,j] = 2 * cooccurences[i,j] / (len(pmids_i) + len(pmids_j))\n",
    "\n",
    "cooccurences_normalized_pct = cooccurences_normalized * 100\n",
    "undirected_cooccurences_normalized_pct = undirected_cooccurences_normalized * 100\n",
    "\n",
    "# DEBUG cooccurences, cooccurences_normalized"
   ]
  },
  {
   "source": [
    "Let's look at the result by finding the most co-occured cognitive tests:"
   ],
   "cell_type": "markdown",
   "metadata": {}
  },
  {
   "cell_type": "code",
   "execution_count": 4,
   "metadata": {},
   "outputs": [
    {
     "output_type": "stream",
     "name": "stdout",
     "text": [
      "max co-ocurence: \"Stroop\" in \"TMT (Trail Making Test)\" corpus\nmax co-ocurence (normalized by corpus size): \"Sorting Task\" and \"Spin the Pots\"\n"
     ]
    }
   ],
   "source": [
    "max_index = np.unravel_index(np.argmax(cooccurences, axis=None), cooccurences.shape)\n",
    "max_norm_index = np.unravel_index(np.argmax(cooccurences_normalized_pct, axis=None), cooccurences_normalized_pct.shape)\n",
    "\n",
    "print(f'max co-ocurence: \"{cognitive_tests[max_index[0]]}\" in \"{cognitive_tests[max_index[1]]}\" corpus')\n",
    "print(f'max co-ocurence (normalized by corpus size): \"{cognitive_tests[max_norm_index[0]]}\" and \"{cognitive_tests[max_norm_index[1]]}\"')"
   ]
  },
  {
   "source": [
    "Let's plot a simple heatmap in that each cell shows co-occurence of test pairs."
   ],
   "cell_type": "markdown",
   "metadata": {}
  },
  {
   "cell_type": "code",
   "execution_count": 12,
   "metadata": {},
   "outputs": [],
   "source": [
    "_, ax = plt.subplots(1,1,figsize=(25,25))\n",
    "sns.heatmap(cooccurences,\n",
    "            xticklabels=cognitive_tests,\n",
    "            yticklabels=cognitive_tests,\n",
    "            cbar_kws = {'use_gridspec':False, 'location':'top', 'shrink': .5},\n",
    "            square=True,\n",
    "            linewidths=.5,\n",
    "            linecolor='k',\n",
    "            ax=ax)\n",
    "\n",
    "plt.xticks(rotation=45, ha='right') \n",
    "ax.set(title='Bidirectional co-occurence of cognitive tests\\n Values are the number of articles shared between row corpus and col corpus')\n",
    "plt.savefig('../outputs/cooccurences/heatmap.png')\n",
    "plt.close()\n",
    "\n",
    "# Now, same plot for the normalized co-occurences matrix\n",
    "\n",
    "_, ax = plt.subplots(1,1,figsize=(25,25))\n",
    "sns.heatmap(cooccurences_normalized_pct,\n",
    "            xticklabels=cognitive_tests,\n",
    "            yticklabels=cognitive_tests,\n",
    "            cbar_kws = {'use_gridspec':False, 'location':'top', 'shrink': .5},\n",
    "            square=True,\n",
    "            linewidths=.5,\n",
    "            linecolor='k',\n",
    "            ax=ax)\n",
    "\n",
    "plt.xticks(rotation=45, ha='right') \n",
    "ax.set(title='Bidirectional normalized co-occurence of cognitive tests \\n (row=i, col=j, values=% of coprus j)')\n",
    "plt.savefig('../outputs/cooccurences/heatmap_normalized.png')\n",
    "plt.close()"
   ]
  },
  {
   "source": [
    "Here is the same heatmap, but tests are clustered:"
   ],
   "cell_type": "markdown",
   "metadata": {}
  },
  {
   "cell_type": "code",
   "execution_count": 5,
   "metadata": {},
   "outputs": [
    {
     "output_type": "stream",
     "name": "stderr",
     "text": [
      "/Users/morteza/miniconda3/lib/python3.8/site-packages/seaborn/matrix.py:629: ClusterWarning: scipy.cluster: The symmetric non-negative hollow observation matrix looks suspiciously like an uncondensed distance matrix\n  linkage = hierarchy.linkage(self.array, method=self.method,\n"
     ]
    }
   ],
   "source": [
    "# plot cluster map for co-occurence counts\n",
    "sns.clustermap(cooccurences,\n",
    "            xticklabels=cognitive_tests,\n",
    "            yticklabels=cognitive_tests,\n",
    "            figsize=(15,15))\n",
    "\n",
    "plt.xticks(rotation=45, ha='right') \n",
    "plt.suptitle('Bidirectional co-occurence of cognitive tests')\n",
    "plt.savefig('../outputs/cooccurences/clustermap.png')\n",
    "plt.close()\n",
    "\n",
    "# plot cluster map for normalized co-occurence\n",
    "sns.clustermap(cooccurences_normalized_pct,\n",
    "            xticklabels=cognitive_tests,\n",
    "            yticklabels=cognitive_tests,\n",
    "            figsize=(15,15))\n",
    "\n",
    "plt.xticks(rotation=45, ha='right') \n",
    "plt.suptitle('Bidirectional normalized co-occurence of cognitive tests\\n(row=i, col=j, value=pct of corpus j)')\n",
    "plt.savefig('../outputs/cooccurences/clustermap_normalized.png')\n",
    "plt.close()"
   ]
  },
  {
   "source": [
    "## Visualization preprocessing \n",
    "\n",
    "Before plotting co-occurence map as a graph, some proprocessing steps significantly improve the visuals:\n",
    "\n",
    "1. remove low degree nodes and low weight edges.\n",
    "2. Use degree centrality as node sizes; degree centrality shows number of connected edges to a given nodes (both inputs and outputs). Another measure that can be used for node sizes is the number of non-co-occured articles that only mentioned once in the related test coprus.\n",
    "3. Find communities in the graph, that are highly connected subgraphs. This property can be used to layout the graph and colorize the nodes.\n",
    "4. Put co-occurred tests closer to each other by using force-driven spring layout.\n",
    "\n",
    "I will use the de-facto NetworkX package to perform all the graph analysis listed above. The output will be a bidirectional graph that encapsulates centrality of each node, communities, edge widths, and positioning layout.\n",
    "\n",
    "- [ ] **TODO:** greedy modulatiry algorithm returns one community because nodes are densly connected. Use another algorithm to extract some information from the graph structure."
   ],
   "cell_type": "markdown",
   "metadata": {}
  },
  {
   "cell_type": "code",
   "execution_count": 9,
   "metadata": {},
   "outputs": [
    {
     "output_type": "stream",
     "name": "stdout",
     "text": [
      "[INFO] After removing 912 low-weight edges, 228 remained.\n[INFO] The following low-degree nodes are removed:\n Balance Beam Task\n Auditory Attention\n RNG (Random Number Generation Task)\n Incompatibility Test\n Odd One Out\n Self Control Schedule\n PVT (Psychomotor Vigilance Task)\n D2 Target Detection\n Object Substitution Task\n PEG (Pencil Tapping Task)\n Category Switch Task\n Analogy Making Task\n Delayed Alteration Task\n Dimension Switching Task\n Nine Boxes\n"
     ]
    }
   ],
   "source": [
    "# normalized co-occurences below this threshold will be ignored\n",
    "MIN_EDGE_WEIGHT = 5 # percent\n",
    "\n",
    "# create graph from adjacency matrix\n",
    "G = nx.from_numpy_matrix(cooccurences_normalized_pct, create_using=nx.DiGraph)\n",
    "\n",
    "# set node labels\n",
    "node_labels = {i:t for i,t in enumerate(cognitive_tests)}\n",
    "nx.set_node_attributes(G, node_labels, 'label')\n",
    "\n",
    "# remove low weight edges and low degree nodes\n",
    "low_weight_edges = [(u,v) for u, v in G.edges() if G[u][v]['weight'] < MIN_EDGE_WEIGHT]\n",
    "G.remove_edges_from(low_weight_edges)\n",
    "\n",
    "low_degree_nodes = [n for n, d in G.degree() if d == 0]\n",
    "G.remove_nodes_from(low_degree_nodes)\n",
    "\n",
    "\n",
    "print(f'[INFO] After removing {len(low_weight_edges)} low-weight edges, {len(G.edges())} remained.')\n",
    "print(f'[INFO] The following low-degree nodes are removed:\\n', '\\n '.join([cognitive_tests[ldn] for ldn in low_degree_nodes]))\n",
    "\n",
    "\n",
    "# Community detection\n",
    "\n",
    "def heaviest(G):\n",
    "    from operator import itemgetter\n",
    "    u, v, w = max(G.edges(data='weight'), key=itemgetter(2))\n",
    "    return (u,v)\n",
    "\n",
    "import itertools\n",
    "\n",
    "\n",
    "k = 2   # number of communities\n",
    "communities = list(\n",
    "        itertools.takewhile(lambda c: len(c) <= k, nx.community.girvan_newman(G, most_valuable_edge=heaviest))\n",
    "    )[-1]\n",
    "\n",
    "# this does not work for DiGraph\n",
    "# communities = nx.community.greedy_modularity_communities(G,weight='weight')\n",
    "\n",
    "community_index = {n: i for i, comm in enumerate(communities) for n in comm}\n",
    "nx.set_node_attributes(G, community_index, 'community')\n",
    "\n",
    "\n",
    "# compute centrality\n",
    "centrality = nx.degree_centrality(G)\n",
    "nx.set_node_attributes(G, centrality, 'centrality')\n",
    "\n",
    "# visual properties (all numeric values are relative, update them to match your canvas)\n",
    "node_colors = community_index\n",
    "edge_widths = [G[u][v]['weight'] for u, v in G.edges()]\n",
    "\n",
    "\n",
    "# compute layout positions\n",
    "pos = nx.spring_layout(G, k=.8)"
   ]
  },
  {
   "source": [
    "# NetworkX plot (static)"
   ],
   "cell_type": "markdown",
   "metadata": {}
  },
  {
   "cell_type": "code",
   "execution_count": 118,
   "metadata": {},
   "outputs": [],
   "source": [
    "fig, ax = plt.subplots(1,1,figsize=(15,15))\n",
    "\n",
    "nx.draw_networkx_nodes(G, pos,\n",
    "                       node_color=list(node_colors.values()),\n",
    "                       node_size=[max(10,v*10000) for v in centrality.values()],\n",
    "                       alpha=0.5, ax=ax)\n",
    "nx.draw_networkx_labels(G, pos, labels=nx.get_node_attributes(G, 'label'), font_size=8, alpha=0.5, ax=ax)\n",
    "# nx.draw_networkx_edges(G, pos, width=1.0, alpha=0.3, connectionstyle='arc3,rad=0.1')\\n\",\n",
    "nx.draw_networkx_edges(G,\n",
    "                       pos,\n",
    "                       alpha=0.8,\n",
    "                       arrowstyle='->',\n",
    "                       arrowsize=10,\n",
    "                       connectionstyle='arc3,rad=0.1',\n",
    "                       width=[v/10 for v in  edge_widths],\n",
    "                       edge_color='gainsboro',\n",
    "                       ax=ax)\n",
    "\n",
    "# plot the graph using matplotlib backend\n",
    "plt.suptitle('Co-occurence map\\n Node size and edge width respectively show centrality degree and number of co-occured articles in ith corpus.')\n",
    "plt.tight_layout()\n",
    "plt.savefig('../outputs/cooccurences/map_networkx.png')\n",
    "plt.close()"
   ]
  },
  {
   "source": [
    "## Bokeh plot (interactive)"
   ],
   "cell_type": "markdown",
   "metadata": {}
  },
  {
   "cell_type": "code",
   "execution_count": 127,
   "metadata": {},
   "outputs": [
    {
     "output_type": "display_data",
     "data": {
      "text/html": "\n    <div class=\"bk-root\">\n        <a href=\"https://bokeh.org\" target=\"_blank\" class=\"bk-logo bk-logo-small bk-logo-notebook\"></a>\n        <span id=\"3017\">Loading BokehJS ...</span>\n    </div>"
     },
     "metadata": {}
    },
    {
     "output_type": "display_data",
     "data": {
      "application/javascript": "\n(function(root) {\n  function now() {\n    return new Date();\n  }\n\n  var force = true;\n\n  if (typeof root._bokeh_onload_callbacks === \"undefined\" || force === true) {\n    root._bokeh_onload_callbacks = [];\n    root._bokeh_is_loading = undefined;\n  }\n\n  var JS_MIME_TYPE = 'application/javascript';\n  var HTML_MIME_TYPE = 'text/html';\n  var EXEC_MIME_TYPE = 'application/vnd.bokehjs_exec.v0+json';\n  var CLASS_NAME = 'output_bokeh rendered_html';\n\n  /**\n   * Render data to the DOM node\n   */\n  function render(props, node) {\n    var script = document.createElement(\"script\");\n    node.appendChild(script);\n  }\n\n  /**\n   * Handle when an output is cleared or removed\n   */\n  function handleClearOutput(event, handle) {\n    var cell = handle.cell;\n\n    var id = cell.output_area._bokeh_element_id;\n    var server_id = cell.output_area._bokeh_server_id;\n    // Clean up Bokeh references\n    if (id != null && id in Bokeh.index) {\n      Bokeh.index[id].model.document.clear();\n      delete Bokeh.index[id];\n    }\n\n    if (server_id !== undefined) {\n      // Clean up Bokeh references\n      var cmd = \"from bokeh.io.state import curstate; print(curstate().uuid_to_server['\" + server_id + \"'].get_sessions()[0].document.roots[0]._id)\";\n      cell.notebook.kernel.execute(cmd, {\n        iopub: {\n          output: function(msg) {\n            var id = msg.content.text.trim();\n            if (id in Bokeh.index) {\n              Bokeh.index[id].model.document.clear();\n              delete Bokeh.index[id];\n            }\n          }\n        }\n      });\n      // Destroy server and session\n      var cmd = \"import bokeh.io.notebook as ion; ion.destroy_server('\" + server_id + \"')\";\n      cell.notebook.kernel.execute(cmd);\n    }\n  }\n\n  /**\n   * Handle when a new output is added\n   */\n  function handleAddOutput(event, handle) {\n    var output_area = handle.output_area;\n    var output = handle.output;\n\n    // limit handleAddOutput to display_data with EXEC_MIME_TYPE content only\n    if ((output.output_type != \"display_data\") || (!output.data.hasOwnProperty(EXEC_MIME_TYPE))) {\n      return\n    }\n\n    var toinsert = output_area.element.find(\".\" + CLASS_NAME.split(' ')[0]);\n\n    if (output.metadata[EXEC_MIME_TYPE][\"id\"] !== undefined) {\n      toinsert[toinsert.length - 1].firstChild.textContent = output.data[JS_MIME_TYPE];\n      // store reference to embed id on output_area\n      output_area._bokeh_element_id = output.metadata[EXEC_MIME_TYPE][\"id\"];\n    }\n    if (output.metadata[EXEC_MIME_TYPE][\"server_id\"] !== undefined) {\n      var bk_div = document.createElement(\"div\");\n      bk_div.innerHTML = output.data[HTML_MIME_TYPE];\n      var script_attrs = bk_div.children[0].attributes;\n      for (var i = 0; i < script_attrs.length; i++) {\n        toinsert[toinsert.length - 1].firstChild.setAttribute(script_attrs[i].name, script_attrs[i].value);\n        toinsert[toinsert.length - 1].firstChild.textContent = bk_div.children[0].textContent\n      }\n      // store reference to server id on output_area\n      output_area._bokeh_server_id = output.metadata[EXEC_MIME_TYPE][\"server_id\"];\n    }\n  }\n\n  function register_renderer(events, OutputArea) {\n\n    function append_mime(data, metadata, element) {\n      // create a DOM node to render to\n      var toinsert = this.create_output_subarea(\n        metadata,\n        CLASS_NAME,\n        EXEC_MIME_TYPE\n      );\n      this.keyboard_manager.register_events(toinsert);\n      // Render to node\n      var props = {data: data, metadata: metadata[EXEC_MIME_TYPE]};\n      render(props, toinsert[toinsert.length - 1]);\n      element.append(toinsert);\n      return toinsert\n    }\n\n    /* Handle when an output is cleared or removed */\n    events.on('clear_output.CodeCell', handleClearOutput);\n    events.on('delete.Cell', handleClearOutput);\n\n    /* Handle when a new output is added */\n    events.on('output_added.OutputArea', handleAddOutput);\n\n    /**\n     * Register the mime type and append_mime function with output_area\n     */\n    OutputArea.prototype.register_mime_type(EXEC_MIME_TYPE, append_mime, {\n      /* Is output safe? */\n      safe: true,\n      /* Index of renderer in `output_area.display_order` */\n      index: 0\n    });\n  }\n\n  // register the mime type if in Jupyter Notebook environment and previously unregistered\n  if (root.Jupyter !== undefined) {\n    var events = require('base/js/events');\n    var OutputArea = require('notebook/js/outputarea').OutputArea;\n\n    if (OutputArea.prototype.mime_types().indexOf(EXEC_MIME_TYPE) == -1) {\n      register_renderer(events, OutputArea);\n    }\n  }\n\n  \n  if (typeof (root._bokeh_timeout) === \"undefined\" || force === true) {\n    root._bokeh_timeout = Date.now() + 5000;\n    root._bokeh_failed_load = false;\n  }\n\n  var NB_LOAD_WARNING = {'data': {'text/html':\n     \"<div style='background-color: #fdd'>\\n\"+\n     \"<p>\\n\"+\n     \"BokehJS does not appear to have successfully loaded. If loading BokehJS from CDN, this \\n\"+\n     \"may be due to a slow or bad network connection. Possible fixes:\\n\"+\n     \"</p>\\n\"+\n     \"<ul>\\n\"+\n     \"<li>re-rerun `output_notebook()` to attempt to load from CDN again, or</li>\\n\"+\n     \"<li>use INLINE resources instead, as so:</li>\\n\"+\n     \"</ul>\\n\"+\n     \"<code>\\n\"+\n     \"from bokeh.resources import INLINE\\n\"+\n     \"output_notebook(resources=INLINE)\\n\"+\n     \"</code>\\n\"+\n     \"</div>\"}};\n\n  function display_loaded() {\n    var el = document.getElementById(\"3017\");\n    if (el != null) {\n      el.textContent = \"BokehJS is loading...\";\n    }\n    if (root.Bokeh !== undefined) {\n      if (el != null) {\n        el.textContent = \"BokehJS \" + root.Bokeh.version + \" successfully loaded.\";\n      }\n    } else if (Date.now() < root._bokeh_timeout) {\n      setTimeout(display_loaded, 100)\n    }\n  }\n\n\n  function run_callbacks() {\n    try {\n      root._bokeh_onload_callbacks.forEach(function(callback) {\n        if (callback != null)\n          callback();\n      });\n    } finally {\n      delete root._bokeh_onload_callbacks\n    }\n    console.debug(\"Bokeh: all callbacks have finished\");\n  }\n\n  function load_libs(css_urls, js_urls, callback) {\n    if (css_urls == null) css_urls = [];\n    if (js_urls == null) js_urls = [];\n\n    root._bokeh_onload_callbacks.push(callback);\n    if (root._bokeh_is_loading > 0) {\n      console.debug(\"Bokeh: BokehJS is being loaded, scheduling callback at\", now());\n      return null;\n    }\n    if (js_urls == null || js_urls.length === 0) {\n      run_callbacks();\n      return null;\n    }\n    console.debug(\"Bokeh: BokehJS not loaded, scheduling load and callback at\", now());\n    root._bokeh_is_loading = css_urls.length + js_urls.length;\n\n    function on_load() {\n      root._bokeh_is_loading--;\n      if (root._bokeh_is_loading === 0) {\n        console.debug(\"Bokeh: all BokehJS libraries/stylesheets loaded\");\n        run_callbacks()\n      }\n    }\n\n    function on_error() {\n      console.error(\"failed to load \" + url);\n    }\n\n    for (var i = 0; i < css_urls.length; i++) {\n      var url = css_urls[i];\n      const element = document.createElement(\"link\");\n      element.onload = on_load;\n      element.onerror = on_error;\n      element.rel = \"stylesheet\";\n      element.type = \"text/css\";\n      element.href = url;\n      console.debug(\"Bokeh: injecting link tag for BokehJS stylesheet: \", url);\n      document.body.appendChild(element);\n    }\n\n    const hashes = {\"https://cdn.bokeh.org/bokeh/release/bokeh-2.2.3.min.js\": \"T2yuo9Oe71Cz/I4X9Ac5+gpEa5a8PpJCDlqKYO0CfAuEszu1JrXLl8YugMqYe3sM\", \"https://cdn.bokeh.org/bokeh/release/bokeh-widgets-2.2.3.min.js\": \"98GDGJ0kOMCUMUePhksaQ/GYgB3+NH9h996V88sh3aOiUNX3N+fLXAtry6xctSZ6\", \"https://cdn.bokeh.org/bokeh/release/bokeh-tables-2.2.3.min.js\": \"89bArO+nlbP3sgakeHjCo1JYxYR5wufVgA3IbUvDY+K7w4zyxJqssu7wVnfeKCq8\"};\n\n    for (var i = 0; i < js_urls.length; i++) {\n      var url = js_urls[i];\n      var element = document.createElement('script');\n      element.onload = on_load;\n      element.onerror = on_error;\n      element.async = false;\n      element.src = url;\n      if (url in hashes) {\n        element.crossOrigin = \"anonymous\";\n        element.integrity = \"sha384-\" + hashes[url];\n      }\n      console.debug(\"Bokeh: injecting script tag for BokehJS library: \", url);\n      document.head.appendChild(element);\n    }\n  };\n\n  function inject_raw_css(css) {\n    const element = document.createElement(\"style\");\n    element.appendChild(document.createTextNode(css));\n    document.body.appendChild(element);\n  }\n\n  \n  var js_urls = [\"https://cdn.bokeh.org/bokeh/release/bokeh-2.2.3.min.js\", \"https://cdn.bokeh.org/bokeh/release/bokeh-widgets-2.2.3.min.js\", \"https://cdn.bokeh.org/bokeh/release/bokeh-tables-2.2.3.min.js\"];\n  var css_urls = [];\n  \n\n  var inline_js = [\n    function(Bokeh) {\n      Bokeh.set_log_level(\"info\");\n    },\n    function(Bokeh) {\n    \n    \n    }\n  ];\n\n  function run_inline_js() {\n    \n    if (root.Bokeh !== undefined || force === true) {\n      \n    for (var i = 0; i < inline_js.length; i++) {\n      inline_js[i].call(root, root.Bokeh);\n    }\n    if (force === true) {\n        display_loaded();\n      }} else if (Date.now() < root._bokeh_timeout) {\n      setTimeout(run_inline_js, 100);\n    } else if (!root._bokeh_failed_load) {\n      console.log(\"Bokeh: BokehJS failed to load within specified timeout.\");\n      root._bokeh_failed_load = true;\n    } else if (force !== true) {\n      var cell = $(document.getElementById(\"3017\")).parents('.cell').data().cell;\n      cell.output_area.append_execute_result(NB_LOAD_WARNING)\n    }\n\n  }\n\n  if (root._bokeh_is_loading === 0) {\n    console.debug(\"Bokeh: BokehJS loaded, going straight to plotting\");\n    run_inline_js();\n  } else {\n    load_libs(css_urls, js_urls, function() {\n      console.debug(\"Bokeh: BokehJS plotting callback run at\", now());\n      run_inline_js();\n    });\n  }\n}(window));",
      "application/vnd.bokehjs_load.v0+json": "\n(function(root) {\n  function now() {\n    return new Date();\n  }\n\n  var force = true;\n\n  if (typeof root._bokeh_onload_callbacks === \"undefined\" || force === true) {\n    root._bokeh_onload_callbacks = [];\n    root._bokeh_is_loading = undefined;\n  }\n\n  \n\n  \n  if (typeof (root._bokeh_timeout) === \"undefined\" || force === true) {\n    root._bokeh_timeout = Date.now() + 5000;\n    root._bokeh_failed_load = false;\n  }\n\n  var NB_LOAD_WARNING = {'data': {'text/html':\n     \"<div style='background-color: #fdd'>\\n\"+\n     \"<p>\\n\"+\n     \"BokehJS does not appear to have successfully loaded. If loading BokehJS from CDN, this \\n\"+\n     \"may be due to a slow or bad network connection. Possible fixes:\\n\"+\n     \"</p>\\n\"+\n     \"<ul>\\n\"+\n     \"<li>re-rerun `output_notebook()` to attempt to load from CDN again, or</li>\\n\"+\n     \"<li>use INLINE resources instead, as so:</li>\\n\"+\n     \"</ul>\\n\"+\n     \"<code>\\n\"+\n     \"from bokeh.resources import INLINE\\n\"+\n     \"output_notebook(resources=INLINE)\\n\"+\n     \"</code>\\n\"+\n     \"</div>\"}};\n\n  function display_loaded() {\n    var el = document.getElementById(\"3017\");\n    if (el != null) {\n      el.textContent = \"BokehJS is loading...\";\n    }\n    if (root.Bokeh !== undefined) {\n      if (el != null) {\n        el.textContent = \"BokehJS \" + root.Bokeh.version + \" successfully loaded.\";\n      }\n    } else if (Date.now() < root._bokeh_timeout) {\n      setTimeout(display_loaded, 100)\n    }\n  }\n\n\n  function run_callbacks() {\n    try {\n      root._bokeh_onload_callbacks.forEach(function(callback) {\n        if (callback != null)\n          callback();\n      });\n    } finally {\n      delete root._bokeh_onload_callbacks\n    }\n    console.debug(\"Bokeh: all callbacks have finished\");\n  }\n\n  function load_libs(css_urls, js_urls, callback) {\n    if (css_urls == null) css_urls = [];\n    if (js_urls == null) js_urls = [];\n\n    root._bokeh_onload_callbacks.push(callback);\n    if (root._bokeh_is_loading > 0) {\n      console.debug(\"Bokeh: BokehJS is being loaded, scheduling callback at\", now());\n      return null;\n    }\n    if (js_urls == null || js_urls.length === 0) {\n      run_callbacks();\n      return null;\n    }\n    console.debug(\"Bokeh: BokehJS not loaded, scheduling load and callback at\", now());\n    root._bokeh_is_loading = css_urls.length + js_urls.length;\n\n    function on_load() {\n      root._bokeh_is_loading--;\n      if (root._bokeh_is_loading === 0) {\n        console.debug(\"Bokeh: all BokehJS libraries/stylesheets loaded\");\n        run_callbacks()\n      }\n    }\n\n    function on_error() {\n      console.error(\"failed to load \" + url);\n    }\n\n    for (var i = 0; i < css_urls.length; i++) {\n      var url = css_urls[i];\n      const element = document.createElement(\"link\");\n      element.onload = on_load;\n      element.onerror = on_error;\n      element.rel = \"stylesheet\";\n      element.type = \"text/css\";\n      element.href = url;\n      console.debug(\"Bokeh: injecting link tag for BokehJS stylesheet: \", url);\n      document.body.appendChild(element);\n    }\n\n    const hashes = {\"https://cdn.bokeh.org/bokeh/release/bokeh-2.2.3.min.js\": \"T2yuo9Oe71Cz/I4X9Ac5+gpEa5a8PpJCDlqKYO0CfAuEszu1JrXLl8YugMqYe3sM\", \"https://cdn.bokeh.org/bokeh/release/bokeh-widgets-2.2.3.min.js\": \"98GDGJ0kOMCUMUePhksaQ/GYgB3+NH9h996V88sh3aOiUNX3N+fLXAtry6xctSZ6\", \"https://cdn.bokeh.org/bokeh/release/bokeh-tables-2.2.3.min.js\": \"89bArO+nlbP3sgakeHjCo1JYxYR5wufVgA3IbUvDY+K7w4zyxJqssu7wVnfeKCq8\"};\n\n    for (var i = 0; i < js_urls.length; i++) {\n      var url = js_urls[i];\n      var element = document.createElement('script');\n      element.onload = on_load;\n      element.onerror = on_error;\n      element.async = false;\n      element.src = url;\n      if (url in hashes) {\n        element.crossOrigin = \"anonymous\";\n        element.integrity = \"sha384-\" + hashes[url];\n      }\n      console.debug(\"Bokeh: injecting script tag for BokehJS library: \", url);\n      document.head.appendChild(element);\n    }\n  };\n\n  function inject_raw_css(css) {\n    const element = document.createElement(\"style\");\n    element.appendChild(document.createTextNode(css));\n    document.body.appendChild(element);\n  }\n\n  \n  var js_urls = [\"https://cdn.bokeh.org/bokeh/release/bokeh-2.2.3.min.js\", \"https://cdn.bokeh.org/bokeh/release/bokeh-widgets-2.2.3.min.js\", \"https://cdn.bokeh.org/bokeh/release/bokeh-tables-2.2.3.min.js\"];\n  var css_urls = [];\n  \n\n  var inline_js = [\n    function(Bokeh) {\n      Bokeh.set_log_level(\"info\");\n    },\n    function(Bokeh) {\n    \n    \n    }\n  ];\n\n  function run_inline_js() {\n    \n    if (root.Bokeh !== undefined || force === true) {\n      \n    for (var i = 0; i < inline_js.length; i++) {\n      inline_js[i].call(root, root.Bokeh);\n    }\n    if (force === true) {\n        display_loaded();\n      }} else if (Date.now() < root._bokeh_timeout) {\n      setTimeout(run_inline_js, 100);\n    } else if (!root._bokeh_failed_load) {\n      console.log(\"Bokeh: BokehJS failed to load within specified timeout.\");\n      root._bokeh_failed_load = true;\n    } else if (force !== true) {\n      var cell = $(document.getElementById(\"3017\")).parents('.cell').data().cell;\n      cell.output_area.append_execute_result(NB_LOAD_WARNING)\n    }\n\n  }\n\n  if (root._bokeh_is_loading === 0) {\n    console.debug(\"Bokeh: BokehJS loaded, going straight to plotting\");\n    run_inline_js();\n  } else {\n    load_libs(css_urls, js_urls, function() {\n      console.debug(\"Bokeh: BokehJS plotting callback run at\", now());\n      run_inline_js();\n    });\n  }\n}(window));"
     },
     "metadata": {}
    },
    {
     "output_type": "display_data",
     "data": {
      "text/html": "\n\n\n\n\n\n  <div class=\"bk-root\" id=\"23b683d6-0f0f-4099-8719-9ffe70535c78\" data-root-id=\"3020\"></div>\n"
     },
     "metadata": {}
    },
    {
     "output_type": "display_data",
     "data": {
      "application/javascript": "(function(root) {\n  function embed_document(root) {\n    \n  var docs_json = {\"0a40c4f0-2629-4523-a85d-8d71632d9aa2\":{\"roots\":{\"references\":[{\"attributes\":{\"renderers\":[{\"id\":\"3023\"}],\"title\":{\"id\":\"3086\"},\"toolbar\":{\"id\":\"3082\"},\"x_range\":{\"id\":\"3018\"},\"x_scale\":{\"id\":\"3225\"},\"y_range\":{\"id\":\"3019\"},\"y_scale\":{\"id\":\"3224\"}},\"id\":\"3020\",\"type\":\"Plot\"},{\"attributes\":{\"data\":{\"centrality\":[0.3709677419354839,0.11290322580645161,0.22580645161290322,0.11290322580645161,0.06451612903225806,0.14516129032258063,0.06451612903225806,0.016129032258064516,0.04838709677419355,0.03225806451612903,0.08064516129032258,0.4838709677419355,0.04838709677419355,0.0967741935483871,0.03225806451612903,0.08064516129032258,0.08064516129032258,0.016129032258064516,0.06451612903225806,0.04838709677419355,0.16129032258064516,0.016129032258064516,0.016129032258064516,0.04838709677419355,0.11290322580645161,0.14516129032258063,0.6290322580645161,0.0967741935483871,0.0967741935483871,0.11290322580645161,0.06451612903225806,0.22580645161290322,0.016129032258064516,0.04838709677419355,0.06451612903225806,0.016129032258064516,0.04838709677419355,0.03225806451612903,0.11290322580645161,0.08064516129032258,0.0967741935483871,0.3548387096774194,0.08064516129032258,0.03225806451612903,0.016129032258064516,0.11290322580645161,0.16129032258064516,0.14516129032258063,0.08064516129032258,0.16129032258064516,0.12903225806451613,0.4193548387096774,0.16129032258064516,0.11290322580645161,0.14516129032258063,0.016129032258064516,0.08064516129032258,0.08064516129032258,0.016129032258064516,0.4032258064516129,0.06451612903225806,0.04838709677419355,0.06451612903225806],\"community\":[0,0,0,0,0,0,0,0,0,0,0,0,0,0,0,0,0,1,0,0,0,0,0,0,0,0,0,0,0,0,0,0,0,0,0,0,0,0,0,0,0,0,0,0,0,0,0,0,0,0,0,0,0,0,0,0,0,0,0,0,0,0,0],\"index\":[0,1,2,3,5,7,8,9,10,11,12,13,14,15,16,19,20,21,22,23,24,26,27,28,30,31,32,33,35,36,37,38,39,40,41,42,43,45,46,48,49,50,51,52,53,54,55,56,58,59,60,61,62,63,64,65,66,67,68,71,73,76,77],\"label\":[\"WCST (Wisconsin Card Sort Test)\",\"Span Tasks (Verbal, Arithmetic, Visuospatial)\",\"Letter Fluency\",\"Reading Span Task\",\"RLG (Random Letter Generation Task)\",\"Reverse Categorization\",\"Gift Wrap\",\"Anti-Saccade Task\",\"DCCS (Dimentional Change Card Sort)\",\"Sentence Repetition Task\",\"Sentence Completion Task\",\"Digit Span\",\"Simon Says\",\"Corsi-block Span\",\"Backward Span Task\",\"Knock and Tap\",\"Simon Task\",\"Spin the Pots\",\"Delay Choice\",\"AOSpan (Automated Operation Span Task)\",\"Block Span\",\"Flexibility Test\",\"Reversal Learning\",\"Cued Unpredictable Switch Task\",\"LFT (Lexical Fluency Test)\",\"Sorting Task\",\"Stroop\",\"Category Fluency\",\"FIST (Flexible Item Selection Task)\",\"N-back\",\"Box Crossing Dual Task\",\"Number-Letter Task\",\"Head-Toes-Knees-Shoulders Tasks\",\"Stop-Signal Task\",\"CNT (Contingency Naming Task)\",\"Letter Monitoring\",\"Boxes Task\",\"CPT (Continuous Performance Task)\",\"MCST (Modified Card Sorting Test)\",\"IGT (Iowa Gambling Task)\",\"Flanker Task\",\"Cognitive Flexibility Task\",\"Local-Global Task\",\"Rspan (Running Span)\",\"Keep Track Task\",\"OSpan (Operating Span)\",\"Hayling Test\",\"Semantic Fluency Test\",\"Shape School\",\"Counting Span Task\",\"Gift Delay\",\"TMT (Trail Making Test)\",\"Tower of London\",\"Tower of Hanoi\",\"Snack Delay\",\"ANT (Attention Network Test)\",\"LNS (Letter Number Sequencing)\",\"GoNoGo (Digit, Figure)\",\"S-R Compatibility Task\",\"Verbal Fluency Task\",\"Color Shape Task\",\"Block Design Subtest\",\"Delayed Discounting Task\"],\"node_size\":[37.096774193548384,11.29032258064516,22.58064516129032,11.29032258064516,10,14.516129032258062,10,10,10,10,10,48.38709677419355,10,10,10,10,10,10,10,10,16.129032258064516,10,10,10,11.29032258064516,14.516129032258062,62.903225806451616,10,10,11.29032258064516,10,22.58064516129032,10,10,10,10,10,10,11.29032258064516,10,10,35.483870967741936,10,10,10,11.29032258064516,16.129032258064516,14.516129032258062,10,16.129032258064516,12.903225806451612,41.93548387096774,16.129032258064516,11.29032258064516,14.516129032258062,10,10,10,10,40.32258064516129,10,10,10]},\"selected\":{\"id\":\"3238\"},\"selection_policy\":{\"id\":\"3239\"}},\"id\":\"3025\",\"type\":\"ColumnDataSource\"},{\"attributes\":{\"line_color\":{\"value\":\"mediumpurple\"},\"line_width\":{\"field\":\"edge_size\"}},\"id\":\"3075\",\"type\":\"MultiLine\"},{\"attributes\":{},\"id\":\"3224\",\"type\":\"LinearScale\"},{\"attributes\":{\"source\":{\"id\":\"3025\"}},\"id\":\"3027\",\"type\":\"CDSView\"},{\"attributes\":{\"fill_color\":{\"value\":\"lightblue\"},\"line_color\":{\"value\":\"white\"},\"size\":{\"field\":\"node_size\",\"units\":\"screen\"}},\"id\":\"3055\",\"type\":\"Circle\"},{\"attributes\":{\"source\":{\"id\":\"3029\"}},\"id\":\"3031\",\"type\":\"CDSView\"},{\"attributes\":{},\"id\":\"3236\",\"type\":\"Selection\"},{\"attributes\":{},\"id\":\"3237\",\"type\":\"UnionRenderers\"},{\"attributes\":{},\"id\":\"3231\",\"type\":\"NodesOnly\"},{\"attributes\":{\"fill_color\":{\"value\":\"lightblue\"},\"line_color\":{\"value\":\"white\"},\"size\":{\"field\":\"node_size\",\"units\":\"screen\"}},\"id\":\"3045\",\"type\":\"Circle\"},{\"attributes\":{},\"id\":\"3084\",\"type\":\"NodesAndLinkedEdges\"},{\"attributes\":{\"data_source\":{\"id\":\"3029\"},\"glyph\":{\"id\":\"3065\"},\"hover_glyph\":{\"id\":\"3075\"},\"muted_glyph\":null,\"selection_glyph\":{\"id\":\"3070\"},\"view\":{\"id\":\"3031\"}},\"id\":\"3030\",\"type\":\"GlyphRenderer\"},{\"attributes\":{\"fill_color\":{\"value\":\"mediumpurple\"},\"line_color\":{\"value\":\"mediumpurple\"},\"size\":{\"field\":\"node_size\",\"units\":\"screen\"}},\"id\":\"3050\",\"type\":\"Circle\"},{\"attributes\":{\"data\":{\"edge_size\":[1.0498687664041995,1.3333333333333335,1.1773700305810397,1.5789473684210527,7.767441860465117,1.228717366628831,1.6666666666666665,2.352941176470588,4.074074074074074,1.675392670157068,1.1444141689373297,1.36986301369863,1.1111111111111112,2.035470668485675,2.533081285444234,3.444444444444444,2.0833333333333335,2.347417840375587,6.666666666666666,1.176470588235294,4.166666666666667,2.1052631578947367,2.2222222222222223,1.3333333333333335,1.25,1.0526315789473684,3.4899328859060406,1.095890410958904,1.6462346760070052,1.1111111111111112,4.0,1.176470588235294,10.0,1.0526315789473684,2.2222222222222223,2.5,1.0,1.176470588235294,6.666666666666666,1.176470588235294,4.10958904109589,1.3750000000000002,2.7884615384615388,2.257217847769029,1.4084507042253522,1.348314606741573,4.508670520231214,6.666666666666666,7.5,3.1578947368421053,1.0896708286038592,1.2751677852348995,1.6666666666666665,12.0,6.666666666666666,1.8518518518518519,1.3533834586466165,1.917808219178082,1.681260945709282,1.1111111111111112,2.2222222222222223,2.7667121418826737,1.0964083175803403,1.5555555555555556,4.333333333333334,1.288148286837671,1.0909090909090908,3.333333333333333,5.0,1.1111111111111112,2.8571428571428568,1.25,5.0,1.176470588235294,2.0,2.727272727272727,1.0,1.176470588235294,13.288888888888888,2.255639097744361,6.666666666666666,1.4910714285714284,3.6363636363636367,20.0,1.2962962962962963,1.1111111111111112,1.6666666666666665,3.8660714285714284,1.3123359580052494,3.333333333333333,1.3333333333333335,1.9727891156462583,2.9357798165137616,1.7341040462427746,6.666666666666666,2.05607476635514,1.7391304347826086,3.75,1.1627906976744184,3.333333333333333,1.0490529383195726,4.0,4.705882352941176,4.444444444444445,1.1220196353436185,2.037037037037037,1.256544502617801,1.3204747774480714,1.059642749016046,4.0,1.2030075187969924,3.835616438356164,1.541155866900175,1.1111111111111112,1.1111111111111112,4.42019099590723,3.0245746691871456,2.8888888888888884,2.352941176470588,2.7500000000000004,1.6775884665792922,3.333333333333333,5.459317585301838,1.5789473684210527,4.0,7.058823529411765,2.8571428571428568,4.166666666666667,1.3533834586466165,1.095890410958904,1.3333333333333335,1.176470588235294,2.8571428571428568,1.25,1.176470588235294,1.1111111111111112,3.333333333333333,1.8181818181818183,3.5294117647058827,2.0,3.333333333333333,1.6875,10.0,3.6363636363636367,1.1382113821138211,3.2386363636363633,1.3488372093023258,10.0,3.5294117647058827,1.9047619047619047,2.2222222222222223,2.8571428571428568,1.2962962962962963,2.0,2.73972602739726,2.2222222222222223,2.0,1.176470588235294,1.6666666666666665,1.176470588235294,13.043478260869566,1.0204081632653061,2.4671916010498687,1.3333333333333335,3.1578947368421053,1.1111111111111112,3.333333333333333,2.352941176470588,3.3303571428571423,2.099737532808399,1.2244897959183674,3.876146788990826,1.6184971098265897,3.75,4.0,1.5789473684210527,2.298524404086266,2.4161073825503356,8.0,2.7777777777777777,1.0172570390554043,2.0,3.561643835616438,2.346760070052539,1.1111111111111112,1.7013232514177692,2.0,4.833333333333334,2.213068713724022,1.3333333333333335,1.25,1.6666666666666665,1.176470588235294,4.444444444444445,1.3333333333333335,1.0,3.333333333333333,2.8571428571428568,2.0,4.0,1.6666666666666665,2.352941176470588,1.044427123928293,1.0,1.1111111111111112,1.982142857142857,7.5065616797900265,1.2359550561797752,1.2244897959183674,2.6299694189602443,1.3872832369942194,2.5,3.684210526315789,1.271282633371169,5.067114093959732,1.176470588235294,2.2222222222222223,1.1141386618225855,2.4657534246575343,8.30122591943958,1.1111111111111112,1.1111111111111112,3.2251023192360164,1.5122873345935728,1.6666666666666665,1.5,1.2121212121212122,4.486121530382595],\"end\":[2,5,13,30,31,32,35,38,46,48,50,55,59,61,62,63,66,3,16,38,52,54,59,5,24,30,33,55,56,59,28,38,42,54,59,14,60,64,19,64,55,0,1,2,3,11,15,16,24,30,32,33,35,37,41,46,54,55,56,58,59,61,62,63,66,71,76,7,24,58,8,24,14,38,51,68,60,64,77,54,19,0,10,21,46,59,73,0,2,7,9,12,13,15,19,20,23,24,31,35,36,37,38,41,45,46,48,49,50,51,54,55,56,58,59,61,62,63,64,66,71,73,2,30,37,38,43,52,54,55,5,38,43,24,38,77,7,10,38,51,73,0,7,10,26,27,31,35,38,39,41,43,46,51,55,58,60,64,73,38,23,12,2,5,30,59,7,64,0,2,12,13,15,24,28,30,32,33,37,46,50,51,55,56,59,62,63,66,71,76,24,35,38,41,63,60,7,8,60,28,35,38,40,60,77,0,2,11,12,13,15,24,30,32,33,38,46,50,55,56,58,59,61,62,63,66,76,22],\"start\":[0,0,0,0,0,0,0,0,0,0,0,0,0,0,0,0,0,1,1,1,1,1,1,2,2,2,2,2,2,2,3,3,3,3,3,7,7,7,8,8,12,13,13,13,13,13,13,13,13,13,13,13,13,13,13,13,13,13,13,13,13,13,13,13,13,13,13,14,15,15,19,19,20,20,20,20,22,22,22,23,24,31,31,31,31,31,31,32,32,32,32,32,32,32,32,32,32,32,32,32,32,32,32,32,32,32,32,32,32,32,32,32,32,32,32,32,32,32,32,32,32,32,33,33,36,36,36,36,36,36,40,40,45,48,48,48,49,49,49,49,49,50,50,50,50,50,50,50,50,50,50,50,50,50,50,50,50,50,50,53,54,55,56,56,56,56,60,60,61,61,61,61,61,61,61,61,61,61,61,61,61,61,61,61,61,61,61,61,61,61,62,62,62,62,62,63,64,64,64,65,67,67,67,67,67,71,71,71,71,71,71,71,71,71,71,71,71,71,71,71,71,71,71,71,71,71,71,77],\"weight\":[5.2493438320209975,6.666666666666667,5.886850152905199,7.894736842105263,38.83720930232558,6.1435868331441545,8.333333333333332,11.76470588235294,20.37037037037037,8.37696335078534,5.722070844686648,6.8493150684931505,5.555555555555555,10.177353342428376,12.665406427221171,17.22222222222222,10.416666666666668,11.737089201877934,33.33333333333333,5.88235294117647,20.833333333333336,10.526315789473683,11.11111111111111,6.666666666666667,6.25,5.263157894736842,17.449664429530202,5.47945205479452,8.231173380035026,5.555555555555555,20.0,5.88235294117647,50.0,5.263157894736842,11.11111111111111,12.5,5.0,5.88235294117647,33.33333333333333,5.88235294117647,20.54794520547945,6.875000000000001,13.942307692307693,11.286089238845145,7.042253521126761,6.741573033707865,22.54335260115607,33.33333333333333,37.5,15.789473684210526,5.448354143019296,6.375838926174497,8.333333333333332,60.0,33.33333333333333,9.25925925925926,6.7669172932330826,9.58904109589041,8.40630472854641,5.555555555555555,11.11111111111111,13.83356070941337,5.482041587901701,7.777777777777778,21.666666666666668,6.440741434188355,5.454545454545454,16.666666666666664,25.0,5.555555555555555,14.285714285714285,6.25,25.0,5.88235294117647,10.0,13.636363636363635,5.0,5.88235294117647,66.44444444444444,11.278195488721805,33.33333333333333,7.455357142857142,18.181818181818183,100.0,6.481481481481481,5.555555555555555,8.333333333333332,19.330357142857142,6.561679790026247,16.666666666666664,6.666666666666667,9.863945578231291,14.678899082568808,8.670520231213873,33.33333333333333,10.2803738317757,8.695652173913043,18.75,5.813953488372093,16.666666666666664,5.245264691597863,20.0,23.52941176470588,22.22222222222222,5.610098176718092,10.185185185185185,6.282722513089005,6.602373887240357,5.29821374508023,20.0,6.015037593984962,19.17808219178082,7.705779334500876,5.555555555555555,5.555555555555555,22.10095497953615,15.122873345935728,14.444444444444443,11.76470588235294,13.750000000000002,8.387942332896461,16.666666666666664,27.296587926509186,7.894736842105263,20.0,35.294117647058826,14.285714285714285,20.833333333333336,6.7669172932330826,5.47945205479452,6.666666666666667,5.88235294117647,14.285714285714285,6.25,5.88235294117647,5.555555555555555,16.666666666666664,9.090909090909092,17.647058823529413,10.0,16.666666666666664,8.4375,50.0,18.181818181818183,5.691056910569105,16.193181818181817,6.744186046511628,50.0,17.647058823529413,9.523809523809524,11.11111111111111,14.285714285714285,6.481481481481481,10.0,13.698630136986301,11.11111111111111,10.0,5.88235294117647,8.333333333333332,5.88235294117647,65.21739130434783,5.1020408163265305,12.335958005249344,6.666666666666667,15.789473684210526,5.555555555555555,16.666666666666664,11.76470588235294,16.65178571428571,10.498687664041995,6.122448979591836,19.38073394495413,8.092485549132949,18.75,20.0,7.894736842105263,11.492622020431329,12.080536912751679,40.0,13.88888888888889,5.086285195277021,10.0,17.80821917808219,11.733800350262696,5.555555555555555,8.506616257088846,10.0,24.166666666666668,11.06534356862011,6.666666666666667,6.25,8.333333333333332,5.88235294117647,22.22222222222222,6.666666666666667,5.0,16.666666666666664,14.285714285714285,10.0,20.0,8.333333333333332,11.76470588235294,5.222135619641465,5.0,5.555555555555555,9.910714285714285,37.53280839895013,6.179775280898876,6.122448979591836,13.149847094801222,6.9364161849710975,12.5,18.421052631578945,6.3564131668558455,25.335570469798657,5.88235294117647,11.11111111111111,5.570693309112928,12.32876712328767,41.5061295971979,5.555555555555555,5.555555555555555,16.125511596180083,7.561436672967864,8.333333333333332,7.5,6.0606060606060606,22.43060765191298]},\"selected\":{\"id\":\"3236\"},\"selection_policy\":{\"id\":\"3237\"}},\"id\":\"3029\",\"type\":\"ColumnDataSource\"},{\"attributes\":{\"graph_layout\":{\"0\":[-0.6777951534096718,-0.7322574243263494],\"1\":[0.44930849792422684,-0.8584357729016522],\"10\":[-0.9781951187914186,-0.16481056505405864],\"11\":[0.0032694442602502886,-0.9566868828109136],\"12\":[-0.6774225366488269,0.7307263722673045],\"13\":[-0.42787156530443,0.09320412083938866],\"14\":[0.08774727815000993,0.9020874377813735],\"15\":[0.8790553136890202,0.13670979722373972],\"16\":[0.9609918853264034,-0.14569959472961114],\"19\":[0.5508676365462554,0.7380892381466703],\"2\":[-0.26073031855509465,0.920713251775713],\"20\":[0.8598311162445741,0.3860829783349111],\"21\":[0.9584104971173792,0.04949306711367346],\"22\":[-0.9121202567039716,-0.1919720779075172],\"23\":[0.23872663297786265,0.915264818502115],\"24\":[0.3653850135358384,-0.9464074663157896],\"26\":[-0.13138729236237448,-0.9999999999999999],\"27\":[-0.8174358086806414,-0.5397517382420043],\"28\":[0.7789511636372809,-0.4896409532193695],\"3\":[0.34122279232116576,0.01009835526499847],\"30\":[-0.6223793480593731,0.6636785164399857],\"31\":[0.25361114541840624,-0.9254548355541112],\"32\":[-0.0041670366747432195,0.03281826117956691],\"33\":[0.6663385715379063,0.7567757219424491],\"35\":[-0.9841947119672768,0.002544430082753536],\"36\":[0.3798244859288043,0.8828018867028762],\"37\":[-0.9279006108274422,-0.3891622903853811],\"38\":[0.8889977060619282,0.5140268817519142],\"39\":[0.7295749787555476,-0.6778510923813845],\"40\":[0.7670829771839623,0.5079228639175793],\"41\":[-0.24853287439934058,-0.940459148700952],\"42\":[-0.9196203584241948,0.09580336306824519],\"43\":[-0.8669209565653536,-0.09246408849443036],\"45\":[0.8930171443218442,-0.40092531929479863],\"46\":[-0.8085272477724001,-0.4346798739081306],\"48\":[-0.8547544462803969,0.444638766638749],\"49\":[0.93445349230143,0.2950629831569916],\"5\":[-0.7348908582646436,-0.6315382023259217],\"50\":[-0.042143501209618725,0.713778796787402],\"51\":[-0.7364048532731645,0.4934217719105232],\"52\":[0.892655856047992,-0.27634844564835337],\"53\":[0.3053576842377631,0.7993377385067082],\"54\":[-0.45686178752566275,-0.7593382218136866],\"55\":[-0.36982747576699904,-0.8754580886198398],\"56\":[0.5144004155541655,0.8633551416733176],\"58\":[-0.32938185318594754,0.8276945235956774],\"59\":[0.881388057282224,-0.09125376316877555],\"60\":[-0.572318477122254,-0.7778971736346567],\"61\":[-0.18575126451109092,-0.18177476435303844],\"62\":[-0.8809930828922027,0.19187888574360726],\"63\":[0.16960722595680797,-0.9039431964805171],\"64\":[0.8516547096986838,-0.5551868395338965],\"65\":[0.5910292983868686,-0.6495164312687947],\"66\":[-0.06152310672612901,0.9565264236117409],\"67\":[-0.5225463995494457,0.797303789799634],\"68\":[-0.11541291204675566,-0.7753829444890206],\"7\":[-0.4240733172430352,0.8488746425938034],\"71\":[-0.607184687497056,0.278216378088905],\"73\":[0.7401326877612975,0.6302532747638119],\"76\":[0.6421512762035644,-0.8162866757849565],\"77\":[-0.1734720348372501,0.9025205130239781],\"8\":[-0.7734095535284544,0.6431555566434308],\"9\":[0.5311058222371984,-0.844276677525627]}},\"id\":\"3036\",\"type\":\"StaticLayoutProvider\"},{\"attributes\":{\"callback\":null,\"tooltips\":[[\"Label\",\"@label\"]]},\"id\":\"3080\",\"type\":\"HoverTool\"},{\"attributes\":{\"active_drag\":\"auto\",\"active_inspect\":\"auto\",\"active_multi\":null,\"active_scroll\":\"auto\",\"active_tap\":\"auto\",\"tools\":[{\"id\":\"3080\"},{\"id\":\"3081\"}]},\"id\":\"3082\",\"type\":\"Toolbar\"},{\"attributes\":{},\"id\":\"3238\",\"type\":\"Selection\"},{\"attributes\":{},\"id\":\"3239\",\"type\":\"UnionRenderers\"},{\"attributes\":{},\"id\":\"3225\",\"type\":\"LinearScale\"},{\"attributes\":{\"data_source\":{\"id\":\"3025\"},\"glyph\":{\"id\":\"3045\"},\"hover_glyph\":{\"id\":\"3060\"},\"muted_glyph\":null,\"nonselection_glyph\":{\"id\":\"3055\"},\"selection_glyph\":{\"id\":\"3050\"},\"view\":{\"id\":\"3027\"}},\"id\":\"3026\",\"type\":\"GlyphRenderer\"},{\"attributes\":{\"line_color\":{\"value\":\"mediumpurple\"},\"line_width\":{\"field\":\"edge_size\"}},\"id\":\"3070\",\"type\":\"MultiLine\"},{\"attributes\":{\"fill_color\":{\"value\":\"mediumpurple\"},\"line_color\":{\"value\":\"mediumpurple\"},\"size\":{\"field\":\"node_size\",\"units\":\"screen\"}},\"id\":\"3060\",\"type\":\"Circle\"},{\"attributes\":{\"text\":\"Interactive co-occurence map of cognitive tests\"},\"id\":\"3086\",\"type\":\"Title\"},{\"attributes\":{\"end\":1.1,\"start\":-1.1},\"id\":\"3019\",\"type\":\"Range1d\"},{\"attributes\":{\"edge_renderer\":{\"id\":\"3030\"},\"inspection_policy\":{\"id\":\"3231\"},\"layout_provider\":{\"id\":\"3036\"},\"node_renderer\":{\"id\":\"3026\"},\"selection_policy\":{\"id\":\"3084\"}},\"id\":\"3023\",\"type\":\"GraphRenderer\"},{\"attributes\":{\"line_alpha\":{\"value\":0.8},\"line_color\":{\"value\":\"#CCCCCC\"},\"line_width\":{\"field\":\"edge_size\"}},\"id\":\"3065\",\"type\":\"MultiLine\"},{\"attributes\":{\"callback\":null},\"id\":\"3081\",\"type\":\"TapTool\"},{\"attributes\":{\"end\":1.1,\"start\":-1.1},\"id\":\"3018\",\"type\":\"Range1d\"}],\"root_ids\":[\"3020\"]},\"title\":\"Bokeh Application\",\"version\":\"2.2.3\"}};\n  var render_items = [{\"docid\":\"0a40c4f0-2629-4523-a85d-8d71632d9aa2\",\"root_ids\":[\"3020\"],\"roots\":{\"3020\":\"23b683d6-0f0f-4099-8719-9ffe70535c78\"}}];\n  root.Bokeh.embed.embed_items_notebook(docs_json, render_items);\n\n  }\n  if (root.Bokeh !== undefined) {\n    embed_document(root);\n  } else {\n    var attempts = 0;\n    var timer = setInterval(function(root) {\n      if (root.Bokeh !== undefined) {\n        clearInterval(timer);\n        embed_document(root);\n      } else {\n        attempts++;\n        if (attempts > 100) {\n          clearInterval(timer);\n          console.log(\"Bokeh: ERROR: Unable to run BokehJS code because BokehJS library is missing\");\n        }\n      }\n    }, 10, root)\n  }\n})(window);",
      "application/vnd.bokehjs_exec.v0+json": ""
     },
     "metadata": {
      "application/vnd.bokehjs_exec.v0+json": {
       "id": "3020"
      }
     }
    }
   ],
   "source": [
    "\n",
    "from bokeh.io import output_notebook, show; output_notebook()\n",
    "from bokeh.models import (BoxSelectTool, Circle, EdgesAndLinkedNodes, HoverTool,\n",
    "                          MultiLine, NodesAndLinkedEdges, Plot, Range1d, TapTool,)\n",
    "from bokeh.plotting import from_networkx\n",
    "\n",
    "plot = Plot(x_range=Range1d(-1.1,1.1), y_range=Range1d(-1.1,1.1))\n",
    "\n",
    "graph_renderer = from_networkx(G, nx.spring_layout(G, k=5), scale=1, center=(0,0))\n",
    "\n",
    "# data\n",
    "graph_renderer.node_renderer.data_source.data['node_size'] = [max(10,v*100) for v in centrality.values()]\n",
    "graph_renderer.edge_renderer.data_source.data['edge_size'] = [max(.1, v/5) for v in edge_widths]\n",
    "\n",
    "# nodes\n",
    "graph_renderer.node_renderer.glyph = Circle(size='node_size', fill_color='lightblue', line_color='white')\n",
    "graph_renderer.node_renderer.selection_glyph = Circle(size='node_size', fill_color='mediumpurple', line_color='mediumpurple')\n",
    "graph_renderer.node_renderer.nonselection_glyph = Circle(size='node_size', fill_color='lightblue', line_color='white')\n",
    "graph_renderer.node_renderer.hover_glyph = Circle(size='node_size', fill_color='mediumpurple', line_color='mediumpurple')\n",
    "\n",
    "# edges\n",
    "graph_renderer.edge_renderer.glyph = MultiLine(line_color=\"#CCCCCC\", line_alpha=0.8, line_width='edge_size')\n",
    "graph_renderer.edge_renderer.selection_glyph = MultiLine(line_color='mediumpurple', line_width='edge_size')\n",
    "graph_renderer.edge_renderer.hover_glyph = MultiLine(line_color='mediumpurple', line_width='edge_size')\n",
    "\n",
    "# tools\n",
    "node_hover_tool = HoverTool(tooltips=[('Label','@label')])\n",
    "plot.add_tools(node_hover_tool, TapTool())\n",
    "graph_renderer.selection_policy = NodesAndLinkedEdges()\n",
    "# graph_renderer.inspection_policy = EdgesAndLinkedNodes()\n",
    "\n",
    "plot.renderers.append(graph_renderer)\n",
    "\n",
    "plot.title.text = \"Interactive co-occurence map of cognitive tests\"\n",
    "show(plot)"
   ]
  },
  {
   "source": [
    "## PyVis plot (interactive)\n",
    "\n",
    "- [ ] **TODO:** bidirectional edges should be separated."
   ],
   "cell_type": "markdown",
   "metadata": {}
  },
  {
   "cell_type": "code",
   "execution_count": 131,
   "metadata": {},
   "outputs": [
    {
     "output_type": "execute_result",
     "data": {
      "text/plain": [
       "<IPython.lib.display.IFrame at 0x7f9f4495db80>"
      ],
      "text/html": "\n        <iframe\n            width=\"1000px\"\n            height=\"1000px\"\n            src=\"../outputs/cooccurences/map_pyvis.html\"\n            frameborder=\"0\"\n            allowfullscreen\n        ></iframe>\n        "
     },
     "metadata": {},
     "execution_count": 131
    }
   ],
   "source": [
    "from pyvis.network import Network\n",
    "\n",
    "nt = Network(height='1000px', width='1000px', directed=False, notebook=True, heading='Cognitive tests co-occurence map')\n",
    "\n",
    "nt.from_nx(G)\n",
    "\n",
    "for i,n in enumerate(nt.nodes):\n",
    "    n['size'] = max(10, n['centrality'] * 100)\n",
    "    n['color'] = n['community']\n",
    "\n",
    "for e in nt.edges:\n",
    "    e['value'] = e['weight']\n",
    "\n",
    "\n",
    "\n",
    "pyvis_options = \"\"\"\n",
    "var options = {\n",
    "  \"physics\": {\n",
    "    \"barnesHut\": {\n",
    "      \"gravitationalConstant\": 0,\n",
    "      \"centralGravity\": 0,\n",
    "      \"springLength\": 400,\n",
    "      \"springConstant\": 0.1,\n",
    "      \"damping\": 1,\n",
    "      \"avoidOverlap\": 1\n",
    "    }\n",
    "  },\n",
    "  \"nodes\": {\n",
    "    \"color\": {\n",
    "      \"border\": \"white\",\n",
    "      \"background\": \"lightblue\",\n",
    "      \"highlight\": {\n",
    "        \"border\": \"mediumpurple\",\n",
    "        \"background\": \"mediumpurple\"\n",
    "      }\n",
    "    }\n",
    "  },\n",
    "  \"edges\": {\n",
    "    \"arrows\": {\n",
    "      \"to\": {\n",
    "        \"enabled\": true\n",
    "      },\n",
    "      \"from\": {\n",
    "        \"enabled\": true\n",
    "      }\n",
    "    },\n",
    "    \"arrowStrikethrough\": false,\n",
    "    \"color\": {\n",
    "      \"color\": \"#dcdcdc88\",\n",
    "      \"highlight\": \"mediumpurple\",\n",
    "      \"inherit\": false\n",
    "    },\n",
    "    \"smooth\": {\n",
    "      \"type\": \"continuous\",\n",
    "      \"forceDirection\": \"none\"\n",
    "    }\n",
    "  }\n",
    "}\n",
    "\"\"\"\n",
    "\n",
    "nt.set_options(pyvis_options)\n",
    "# nt.show_buttons(filter_=['nodes'])\n",
    "\n",
    "nt.show('../outputs/cooccurences/map_pyvis.html')"
   ]
  },
  {
   "source": [
    "### Plotly Sankey (interactive)\n",
    "\n",
    "There are two sankey plots, first showing number of shared articles, and then percent of shared articles (normalized by target corpus)."
   ],
   "cell_type": "markdown",
   "metadata": {}
  },
  {
   "cell_type": "code",
   "execution_count": 11,
   "metadata": {},
   "outputs": [
    {
     "output_type": "display_data",
     "data": {
      "application/vnd.plotly.v1+json": {
       "config": {
        "plotlyServerURL": "https://plot.ly"
       },
       "data": [
        {
         "link": {
          "source": [
           32,
           61,
           32,
           61,
           71,
           77,
           0,
           13,
           61,
           71,
           0,
           13,
           32,
           71,
           13,
           32,
           61,
           22
          ],
          "target": [
           0,
           0,
           13,
           13,
           13,
           22,
           32,
           32,
           32,
           32,
           61,
           61,
           61,
           61,
           71,
           71,
           71,
           77
          ],
          "value": [
           433,
           373,
           384,
           507,
           344,
           299,
           433,
           384,
           810,
           448,
           373,
           507,
           810,
           591,
           344,
           448,
           591,
           299
          ]
         },
         "node": {
          "color": "lightblue",
          "label": [
           "WCST (Wisconsin Card Sort Test)",
           "Span Tasks (Verbal, Arithmetic, Visuospatial)",
           "Letter Fluency",
           "Reading Span Task",
           "Balance Beam Task",
           "RLG (Random Letter Generation Task)",
           "Auditory Attention",
           "Reverse Categorization",
           "Gift Wrap",
           "Anti-Saccade Task",
           "DCCS (Dimentional Change Card Sort)",
           "Sentence Repetition Task",
           "Sentence Completion Task",
           "Digit Span",
           "Simon Says",
           "Corsi-block Span",
           "Backward Span Task",
           "RNG (Random Number Generation Task)",
           "Incompatibility Test",
           "Knock and Tap",
           "Simon Task",
           "Spin the Pots",
           "Delay Choice",
           "AOSpan (Automated Operation Span Task)",
           "Block Span",
           "Odd One Out",
           "Flexibility Test",
           "Reversal Learning",
           "Cued Unpredictable Switch Task",
           "Self Control Schedule",
           "LFT (Lexical Fluency Test)",
           "Sorting Task",
           "Stroop",
           "Category Fluency",
           "PVT (Psychomotor Vigilance Task)",
           "FIST (Flexible Item Selection Task)",
           "N-back",
           "Box Crossing Dual Task",
           "Number-Letter Task",
           "Head-Toes-Knees-Shoulders Tasks",
           "Stop-Signal Task",
           "CNT (Contingency Naming Task)",
           "Letter Monitoring",
           "Boxes Task",
           "D2 Target Detection",
           "CPT (Continuous Performance Task)",
           "MCST (Modified Card Sorting Test)",
           "Object Substitution Task",
           "IGT (Iowa Gambling Task)",
           "Flanker Task",
           "Cognitive Flexibility Task",
           "Local-Global Task",
           "Rspan (Running Span)",
           "Keep Track Task",
           "OSpan (Operating Span)",
           "Hayling Test",
           "Semantic Fluency Test",
           "PEG (Pencil Tapping Task)",
           "Shape School",
           "Counting Span Task",
           "Gift Delay",
           "TMT (Trail Making Test)",
           "Tower of London",
           "Tower of Hanoi",
           "Snack Delay",
           "ANT (Attention Network Test)",
           "LNS (Letter Number Sequencing)",
           "GoNoGo (Digit, Figure)",
           "S-R Compatibility Task",
           "Category Switch Task",
           "Analogy Making Task",
           "Verbal Fluency Task",
           "Delayed Alteration Task",
           "Color Shape Task",
           "Dimension Switching Task",
           "Nine Boxes",
           "Block Design Subtest",
           "Delayed Discounting Task"
          ],
          "line": {
           "color": "black",
           "width": 0.5
          },
          "pad": 10,
          "thickness": 10
         },
         "type": "sankey"
        }
       ],
       "layout": {
        "font": {
         "size": 10
        },
        "template": {
         "data": {
          "bar": [
           {
            "error_x": {
             "color": "#2a3f5f"
            },
            "error_y": {
             "color": "#2a3f5f"
            },
            "marker": {
             "line": {
              "color": "#E5ECF6",
              "width": 0.5
             }
            },
            "type": "bar"
           }
          ],
          "barpolar": [
           {
            "marker": {
             "line": {
              "color": "#E5ECF6",
              "width": 0.5
             }
            },
            "type": "barpolar"
           }
          ],
          "carpet": [
           {
            "aaxis": {
             "endlinecolor": "#2a3f5f",
             "gridcolor": "white",
             "linecolor": "white",
             "minorgridcolor": "white",
             "startlinecolor": "#2a3f5f"
            },
            "baxis": {
             "endlinecolor": "#2a3f5f",
             "gridcolor": "white",
             "linecolor": "white",
             "minorgridcolor": "white",
             "startlinecolor": "#2a3f5f"
            },
            "type": "carpet"
           }
          ],
          "choropleth": [
           {
            "colorbar": {
             "outlinewidth": 0,
             "ticks": ""
            },
            "type": "choropleth"
           }
          ],
          "contour": [
           {
            "colorbar": {
             "outlinewidth": 0,
             "ticks": ""
            },
            "colorscale": [
             [
              0,
              "#0d0887"
             ],
             [
              0.1111111111111111,
              "#46039f"
             ],
             [
              0.2222222222222222,
              "#7201a8"
             ],
             [
              0.3333333333333333,
              "#9c179e"
             ],
             [
              0.4444444444444444,
              "#bd3786"
             ],
             [
              0.5555555555555556,
              "#d8576b"
             ],
             [
              0.6666666666666666,
              "#ed7953"
             ],
             [
              0.7777777777777778,
              "#fb9f3a"
             ],
             [
              0.8888888888888888,
              "#fdca26"
             ],
             [
              1,
              "#f0f921"
             ]
            ],
            "type": "contour"
           }
          ],
          "contourcarpet": [
           {
            "colorbar": {
             "outlinewidth": 0,
             "ticks": ""
            },
            "type": "contourcarpet"
           }
          ],
          "heatmap": [
           {
            "colorbar": {
             "outlinewidth": 0,
             "ticks": ""
            },
            "colorscale": [
             [
              0,
              "#0d0887"
             ],
             [
              0.1111111111111111,
              "#46039f"
             ],
             [
              0.2222222222222222,
              "#7201a8"
             ],
             [
              0.3333333333333333,
              "#9c179e"
             ],
             [
              0.4444444444444444,
              "#bd3786"
             ],
             [
              0.5555555555555556,
              "#d8576b"
             ],
             [
              0.6666666666666666,
              "#ed7953"
             ],
             [
              0.7777777777777778,
              "#fb9f3a"
             ],
             [
              0.8888888888888888,
              "#fdca26"
             ],
             [
              1,
              "#f0f921"
             ]
            ],
            "type": "heatmap"
           }
          ],
          "heatmapgl": [
           {
            "colorbar": {
             "outlinewidth": 0,
             "ticks": ""
            },
            "colorscale": [
             [
              0,
              "#0d0887"
             ],
             [
              0.1111111111111111,
              "#46039f"
             ],
             [
              0.2222222222222222,
              "#7201a8"
             ],
             [
              0.3333333333333333,
              "#9c179e"
             ],
             [
              0.4444444444444444,
              "#bd3786"
             ],
             [
              0.5555555555555556,
              "#d8576b"
             ],
             [
              0.6666666666666666,
              "#ed7953"
             ],
             [
              0.7777777777777778,
              "#fb9f3a"
             ],
             [
              0.8888888888888888,
              "#fdca26"
             ],
             [
              1,
              "#f0f921"
             ]
            ],
            "type": "heatmapgl"
           }
          ],
          "histogram": [
           {
            "marker": {
             "colorbar": {
              "outlinewidth": 0,
              "ticks": ""
             }
            },
            "type": "histogram"
           }
          ],
          "histogram2d": [
           {
            "colorbar": {
             "outlinewidth": 0,
             "ticks": ""
            },
            "colorscale": [
             [
              0,
              "#0d0887"
             ],
             [
              0.1111111111111111,
              "#46039f"
             ],
             [
              0.2222222222222222,
              "#7201a8"
             ],
             [
              0.3333333333333333,
              "#9c179e"
             ],
             [
              0.4444444444444444,
              "#bd3786"
             ],
             [
              0.5555555555555556,
              "#d8576b"
             ],
             [
              0.6666666666666666,
              "#ed7953"
             ],
             [
              0.7777777777777778,
              "#fb9f3a"
             ],
             [
              0.8888888888888888,
              "#fdca26"
             ],
             [
              1,
              "#f0f921"
             ]
            ],
            "type": "histogram2d"
           }
          ],
          "histogram2dcontour": [
           {
            "colorbar": {
             "outlinewidth": 0,
             "ticks": ""
            },
            "colorscale": [
             [
              0,
              "#0d0887"
             ],
             [
              0.1111111111111111,
              "#46039f"
             ],
             [
              0.2222222222222222,
              "#7201a8"
             ],
             [
              0.3333333333333333,
              "#9c179e"
             ],
             [
              0.4444444444444444,
              "#bd3786"
             ],
             [
              0.5555555555555556,
              "#d8576b"
             ],
             [
              0.6666666666666666,
              "#ed7953"
             ],
             [
              0.7777777777777778,
              "#fb9f3a"
             ],
             [
              0.8888888888888888,
              "#fdca26"
             ],
             [
              1,
              "#f0f921"
             ]
            ],
            "type": "histogram2dcontour"
           }
          ],
          "mesh3d": [
           {
            "colorbar": {
             "outlinewidth": 0,
             "ticks": ""
            },
            "type": "mesh3d"
           }
          ],
          "parcoords": [
           {
            "line": {
             "colorbar": {
              "outlinewidth": 0,
              "ticks": ""
             }
            },
            "type": "parcoords"
           }
          ],
          "pie": [
           {
            "automargin": true,
            "type": "pie"
           }
          ],
          "scatter": [
           {
            "marker": {
             "colorbar": {
              "outlinewidth": 0,
              "ticks": ""
             }
            },
            "type": "scatter"
           }
          ],
          "scatter3d": [
           {
            "line": {
             "colorbar": {
              "outlinewidth": 0,
              "ticks": ""
             }
            },
            "marker": {
             "colorbar": {
              "outlinewidth": 0,
              "ticks": ""
             }
            },
            "type": "scatter3d"
           }
          ],
          "scattercarpet": [
           {
            "marker": {
             "colorbar": {
              "outlinewidth": 0,
              "ticks": ""
             }
            },
            "type": "scattercarpet"
           }
          ],
          "scattergeo": [
           {
            "marker": {
             "colorbar": {
              "outlinewidth": 0,
              "ticks": ""
             }
            },
            "type": "scattergeo"
           }
          ],
          "scattergl": [
           {
            "marker": {
             "colorbar": {
              "outlinewidth": 0,
              "ticks": ""
             }
            },
            "type": "scattergl"
           }
          ],
          "scattermapbox": [
           {
            "marker": {
             "colorbar": {
              "outlinewidth": 0,
              "ticks": ""
             }
            },
            "type": "scattermapbox"
           }
          ],
          "scatterpolar": [
           {
            "marker": {
             "colorbar": {
              "outlinewidth": 0,
              "ticks": ""
             }
            },
            "type": "scatterpolar"
           }
          ],
          "scatterpolargl": [
           {
            "marker": {
             "colorbar": {
              "outlinewidth": 0,
              "ticks": ""
             }
            },
            "type": "scatterpolargl"
           }
          ],
          "scatterternary": [
           {
            "marker": {
             "colorbar": {
              "outlinewidth": 0,
              "ticks": ""
             }
            },
            "type": "scatterternary"
           }
          ],
          "surface": [
           {
            "colorbar": {
             "outlinewidth": 0,
             "ticks": ""
            },
            "colorscale": [
             [
              0,
              "#0d0887"
             ],
             [
              0.1111111111111111,
              "#46039f"
             ],
             [
              0.2222222222222222,
              "#7201a8"
             ],
             [
              0.3333333333333333,
              "#9c179e"
             ],
             [
              0.4444444444444444,
              "#bd3786"
             ],
             [
              0.5555555555555556,
              "#d8576b"
             ],
             [
              0.6666666666666666,
              "#ed7953"
             ],
             [
              0.7777777777777778,
              "#fb9f3a"
             ],
             [
              0.8888888888888888,
              "#fdca26"
             ],
             [
              1,
              "#f0f921"
             ]
            ],
            "type": "surface"
           }
          ],
          "table": [
           {
            "cells": {
             "fill": {
              "color": "#EBF0F8"
             },
             "line": {
              "color": "white"
             }
            },
            "header": {
             "fill": {
              "color": "#C8D4E3"
             },
             "line": {
              "color": "white"
             }
            },
            "type": "table"
           }
          ]
         },
         "layout": {
          "annotationdefaults": {
           "arrowcolor": "#2a3f5f",
           "arrowhead": 0,
           "arrowwidth": 1
          },
          "autotypenumbers": "strict",
          "coloraxis": {
           "colorbar": {
            "outlinewidth": 0,
            "ticks": ""
           }
          },
          "colorscale": {
           "diverging": [
            [
             0,
             "#8e0152"
            ],
            [
             0.1,
             "#c51b7d"
            ],
            [
             0.2,
             "#de77ae"
            ],
            [
             0.3,
             "#f1b6da"
            ],
            [
             0.4,
             "#fde0ef"
            ],
            [
             0.5,
             "#f7f7f7"
            ],
            [
             0.6,
             "#e6f5d0"
            ],
            [
             0.7,
             "#b8e186"
            ],
            [
             0.8,
             "#7fbc41"
            ],
            [
             0.9,
             "#4d9221"
            ],
            [
             1,
             "#276419"
            ]
           ],
           "sequential": [
            [
             0,
             "#0d0887"
            ],
            [
             0.1111111111111111,
             "#46039f"
            ],
            [
             0.2222222222222222,
             "#7201a8"
            ],
            [
             0.3333333333333333,
             "#9c179e"
            ],
            [
             0.4444444444444444,
             "#bd3786"
            ],
            [
             0.5555555555555556,
             "#d8576b"
            ],
            [
             0.6666666666666666,
             "#ed7953"
            ],
            [
             0.7777777777777778,
             "#fb9f3a"
            ],
            [
             0.8888888888888888,
             "#fdca26"
            ],
            [
             1,
             "#f0f921"
            ]
           ],
           "sequentialminus": [
            [
             0,
             "#0d0887"
            ],
            [
             0.1111111111111111,
             "#46039f"
            ],
            [
             0.2222222222222222,
             "#7201a8"
            ],
            [
             0.3333333333333333,
             "#9c179e"
            ],
            [
             0.4444444444444444,
             "#bd3786"
            ],
            [
             0.5555555555555556,
             "#d8576b"
            ],
            [
             0.6666666666666666,
             "#ed7953"
            ],
            [
             0.7777777777777778,
             "#fb9f3a"
            ],
            [
             0.8888888888888888,
             "#fdca26"
            ],
            [
             1,
             "#f0f921"
            ]
           ]
          },
          "colorway": [
           "#636efa",
           "#EF553B",
           "#00cc96",
           "#ab63fa",
           "#FFA15A",
           "#19d3f3",
           "#FF6692",
           "#B6E880",
           "#FF97FF",
           "#FECB52"
          ],
          "font": {
           "color": "#2a3f5f"
          },
          "geo": {
           "bgcolor": "white",
           "lakecolor": "white",
           "landcolor": "#E5ECF6",
           "showlakes": true,
           "showland": true,
           "subunitcolor": "white"
          },
          "hoverlabel": {
           "align": "left"
          },
          "hovermode": "closest",
          "mapbox": {
           "style": "light"
          },
          "paper_bgcolor": "white",
          "plot_bgcolor": "#E5ECF6",
          "polar": {
           "angularaxis": {
            "gridcolor": "white",
            "linecolor": "white",
            "ticks": ""
           },
           "bgcolor": "#E5ECF6",
           "radialaxis": {
            "gridcolor": "white",
            "linecolor": "white",
            "ticks": ""
           }
          },
          "scene": {
           "xaxis": {
            "backgroundcolor": "#E5ECF6",
            "gridcolor": "white",
            "gridwidth": 2,
            "linecolor": "white",
            "showbackground": true,
            "ticks": "",
            "zerolinecolor": "white"
           },
           "yaxis": {
            "backgroundcolor": "#E5ECF6",
            "gridcolor": "white",
            "gridwidth": 2,
            "linecolor": "white",
            "showbackground": true,
            "ticks": "",
            "zerolinecolor": "white"
           },
           "zaxis": {
            "backgroundcolor": "#E5ECF6",
            "gridcolor": "white",
            "gridwidth": 2,
            "linecolor": "white",
            "showbackground": true,
            "ticks": "",
            "zerolinecolor": "white"
           }
          },
          "shapedefaults": {
           "line": {
            "color": "#2a3f5f"
           }
          },
          "ternary": {
           "aaxis": {
            "gridcolor": "white",
            "linecolor": "white",
            "ticks": ""
           },
           "baxis": {
            "gridcolor": "white",
            "linecolor": "white",
            "ticks": ""
           },
           "bgcolor": "#E5ECF6",
           "caxis": {
            "gridcolor": "white",
            "linecolor": "white",
            "ticks": ""
           }
          },
          "title": {
           "x": 0.05
          },
          "xaxis": {
           "automargin": true,
           "gridcolor": "white",
           "linecolor": "white",
           "ticks": "",
           "title": {
            "standoff": 15
           },
           "zerolinecolor": "white",
           "zerolinewidth": 2
          },
          "yaxis": {
           "automargin": true,
           "gridcolor": "white",
           "linecolor": "white",
           "ticks": "",
           "title": {
            "standoff": 15
           },
           "zerolinecolor": "white",
           "zerolinewidth": 2
          }
         }
        },
        "title": {
         "text": "Co-occurence sankey map (only pairs that co-occured in at least 250 articles of target corpus)"
        }
       }
      }
     },
     "metadata": {}
    }
   ],
   "source": [
    "import plotly.graph_objects as go\n",
    "\n",
    "# uncomment to open fig in the browser instead of embedding into the notebook\n",
    "# import plotly.io as pio; pio.renderers.default = 'browser'\n",
    "\n",
    "MIN_COOCCURENCE = 250\n",
    "\n",
    "# prep data for sankey\n",
    "cooc_df = pd.DataFrame(cooccurences).unstack().reset_index().rename(\n",
    "  columns={'level_0': 'target', 'level_1': 'source', 0: 'cooccurence'}\n",
    ")\n",
    "\n",
    "index_to_test_mapping = {i:c for i,c in enumerate(cognitive_tests)}\n",
    "# df.replace({'task_i': index_to_test_mapping, 'task_j': index_to_test_mapping}, inplace=True)\n",
    "\n",
    "# only pairs that co-occured at least 50 times\n",
    "cooc_df = cooc_df.query('cooccurence > @MIN_COOCCURENCE')\n",
    "\n",
    "\n",
    "fig = go.Figure(data=[go.Sankey(\n",
    "    node = dict(\n",
    "      pad = 10,\n",
    "      thickness = 10,\n",
    "      line = dict(color = 'black', width = 0.5),\n",
    "      label = cognitive_tests,\n",
    "      color = 'lightblue'\n",
    "    ),\n",
    "    link = dict(\n",
    "      source = cooc_df['source'],\n",
    "      target = cooc_df['target'],\n",
    "      value = cooc_df['cooccurence']\n",
    "  ))])\n",
    "\n",
    "fig.update_layout(title_text=f'Co-occurence sankey map (only pairs that co-occured in at least {MIN_COOCCURENCE} articles of target corpus)', font_size=10)\n",
    "\n",
    "fig.write_html('../outputs/cooccurences/sankey_map_plotly.html')\n",
    "\n",
    "fig.show()\n"
   ]
  },
  {
   "source": [
    "Or plot the normalized percentages:"
   ],
   "cell_type": "markdown",
   "metadata": {}
  },
  {
   "cell_type": "code",
   "execution_count": 23,
   "metadata": {},
   "outputs": [
    {
     "output_type": "display_data",
     "data": {
      "application/vnd.plotly.v1+json": {
       "config": {
        "plotlyServerURL": "https://plot.ly"
       },
       "data": [
        {
         "link": {
          "source": [
           33,
           71,
           50,
           20,
           13,
           1,
           13,
           8,
           24,
           32,
           31,
           77,
           54,
           13,
           15,
           0,
           71,
           50,
           13,
           61,
           32,
           36,
           13,
           32,
           62,
           3,
           0,
           1,
           36,
           12,
           71,
           32,
           13,
           61,
           22
          ],
          "target": [
           2,
           2,
           7,
           14,
           15,
           16,
           16,
           19,
           19,
           19,
           21,
           22,
           23,
           24,
           24,
           31,
           33,
           35,
           37,
           37,
           38,
           38,
           41,
           41,
           41,
           42,
           46,
           52,
           52,
           55,
           56,
           61,
           66,
           66,
           77
          ],
          "value": [
           27.296587926509186,
           37.53280839895013,
           50,
           25,
           22.54335260115607,
           33.33333333333333,
           33.33333333333333,
           33.33333333333333,
           33.33333333333333,
           33.33333333333333,
           100,
           22.43060765191298,
           65.21739130434783,
           37.5,
           25,
           38.83720930232558,
           25.335570469798657,
           50,
           60,
           40,
           23.52941176470588,
           35.294117647058826,
           33.33333333333333,
           22.22222222222222,
           22.22222222222222,
           50,
           20.37037037037037,
           20.833333333333336,
           20.833333333333336,
           20.54794520547945,
           41.5061295971979,
           22.10095497953615,
           21.666666666666668,
           24.166666666666668,
           66.44444444444444
          ]
         },
         "node": {
          "color": "lightblue",
          "label": [
           "WCST (Wisconsin Card Sort Test)",
           "Span Tasks (Verbal, Arithmetic, Visuospatial)",
           "Letter Fluency",
           "Reading Span Task",
           "Balance Beam Task",
           "RLG (Random Letter Generation Task)",
           "Auditory Attention",
           "Reverse Categorization",
           "Gift Wrap",
           "Anti-Saccade Task",
           "DCCS (Dimentional Change Card Sort)",
           "Sentence Repetition Task",
           "Sentence Completion Task",
           "Digit Span",
           "Simon Says",
           "Corsi-block Span",
           "Backward Span Task",
           "RNG (Random Number Generation Task)",
           "Incompatibility Test",
           "Knock and Tap",
           "Simon Task",
           "Spin the Pots",
           "Delay Choice",
           "AOSpan (Automated Operation Span Task)",
           "Block Span",
           "Odd One Out",
           "Flexibility Test",
           "Reversal Learning",
           "Cued Unpredictable Switch Task",
           "Self Control Schedule",
           "LFT (Lexical Fluency Test)",
           "Sorting Task",
           "Stroop",
           "Category Fluency",
           "PVT (Psychomotor Vigilance Task)",
           "FIST (Flexible Item Selection Task)",
           "N-back",
           "Box Crossing Dual Task",
           "Number-Letter Task",
           "Head-Toes-Knees-Shoulders Tasks",
           "Stop-Signal Task",
           "CNT (Contingency Naming Task)",
           "Letter Monitoring",
           "Boxes Task",
           "D2 Target Detection",
           "CPT (Continuous Performance Task)",
           "MCST (Modified Card Sorting Test)",
           "Object Substitution Task",
           "IGT (Iowa Gambling Task)",
           "Flanker Task",
           "Cognitive Flexibility Task",
           "Local-Global Task",
           "Rspan (Running Span)",
           "Keep Track Task",
           "OSpan (Operating Span)",
           "Hayling Test",
           "Semantic Fluency Test",
           "PEG (Pencil Tapping Task)",
           "Shape School",
           "Counting Span Task",
           "Gift Delay",
           "TMT (Trail Making Test)",
           "Tower of London",
           "Tower of Hanoi",
           "Snack Delay",
           "ANT (Attention Network Test)",
           "LNS (Letter Number Sequencing)",
           "GoNoGo (Digit, Figure)",
           "S-R Compatibility Task",
           "Category Switch Task",
           "Analogy Making Task",
           "Verbal Fluency Task",
           "Delayed Alteration Task",
           "Color Shape Task",
           "Dimension Switching Task",
           "Nine Boxes",
           "Block Design Subtest",
           "Delayed Discounting Task"
          ],
          "line": {
           "color": "black",
           "width": 0.5
          },
          "pad": 10,
          "thickness": 10
         },
         "type": "sankey"
        }
       ],
       "layout": {
        "font": {
         "size": 10
        },
        "template": {
         "data": {
          "bar": [
           {
            "error_x": {
             "color": "#2a3f5f"
            },
            "error_y": {
             "color": "#2a3f5f"
            },
            "marker": {
             "line": {
              "color": "#E5ECF6",
              "width": 0.5
             }
            },
            "type": "bar"
           }
          ],
          "barpolar": [
           {
            "marker": {
             "line": {
              "color": "#E5ECF6",
              "width": 0.5
             }
            },
            "type": "barpolar"
           }
          ],
          "carpet": [
           {
            "aaxis": {
             "endlinecolor": "#2a3f5f",
             "gridcolor": "white",
             "linecolor": "white",
             "minorgridcolor": "white",
             "startlinecolor": "#2a3f5f"
            },
            "baxis": {
             "endlinecolor": "#2a3f5f",
             "gridcolor": "white",
             "linecolor": "white",
             "minorgridcolor": "white",
             "startlinecolor": "#2a3f5f"
            },
            "type": "carpet"
           }
          ],
          "choropleth": [
           {
            "colorbar": {
             "outlinewidth": 0,
             "ticks": ""
            },
            "type": "choropleth"
           }
          ],
          "contour": [
           {
            "colorbar": {
             "outlinewidth": 0,
             "ticks": ""
            },
            "colorscale": [
             [
              0,
              "#0d0887"
             ],
             [
              0.1111111111111111,
              "#46039f"
             ],
             [
              0.2222222222222222,
              "#7201a8"
             ],
             [
              0.3333333333333333,
              "#9c179e"
             ],
             [
              0.4444444444444444,
              "#bd3786"
             ],
             [
              0.5555555555555556,
              "#d8576b"
             ],
             [
              0.6666666666666666,
              "#ed7953"
             ],
             [
              0.7777777777777778,
              "#fb9f3a"
             ],
             [
              0.8888888888888888,
              "#fdca26"
             ],
             [
              1,
              "#f0f921"
             ]
            ],
            "type": "contour"
           }
          ],
          "contourcarpet": [
           {
            "colorbar": {
             "outlinewidth": 0,
             "ticks": ""
            },
            "type": "contourcarpet"
           }
          ],
          "heatmap": [
           {
            "colorbar": {
             "outlinewidth": 0,
             "ticks": ""
            },
            "colorscale": [
             [
              0,
              "#0d0887"
             ],
             [
              0.1111111111111111,
              "#46039f"
             ],
             [
              0.2222222222222222,
              "#7201a8"
             ],
             [
              0.3333333333333333,
              "#9c179e"
             ],
             [
              0.4444444444444444,
              "#bd3786"
             ],
             [
              0.5555555555555556,
              "#d8576b"
             ],
             [
              0.6666666666666666,
              "#ed7953"
             ],
             [
              0.7777777777777778,
              "#fb9f3a"
             ],
             [
              0.8888888888888888,
              "#fdca26"
             ],
             [
              1,
              "#f0f921"
             ]
            ],
            "type": "heatmap"
           }
          ],
          "heatmapgl": [
           {
            "colorbar": {
             "outlinewidth": 0,
             "ticks": ""
            },
            "colorscale": [
             [
              0,
              "#0d0887"
             ],
             [
              0.1111111111111111,
              "#46039f"
             ],
             [
              0.2222222222222222,
              "#7201a8"
             ],
             [
              0.3333333333333333,
              "#9c179e"
             ],
             [
              0.4444444444444444,
              "#bd3786"
             ],
             [
              0.5555555555555556,
              "#d8576b"
             ],
             [
              0.6666666666666666,
              "#ed7953"
             ],
             [
              0.7777777777777778,
              "#fb9f3a"
             ],
             [
              0.8888888888888888,
              "#fdca26"
             ],
             [
              1,
              "#f0f921"
             ]
            ],
            "type": "heatmapgl"
           }
          ],
          "histogram": [
           {
            "marker": {
             "colorbar": {
              "outlinewidth": 0,
              "ticks": ""
             }
            },
            "type": "histogram"
           }
          ],
          "histogram2d": [
           {
            "colorbar": {
             "outlinewidth": 0,
             "ticks": ""
            },
            "colorscale": [
             [
              0,
              "#0d0887"
             ],
             [
              0.1111111111111111,
              "#46039f"
             ],
             [
              0.2222222222222222,
              "#7201a8"
             ],
             [
              0.3333333333333333,
              "#9c179e"
             ],
             [
              0.4444444444444444,
              "#bd3786"
             ],
             [
              0.5555555555555556,
              "#d8576b"
             ],
             [
              0.6666666666666666,
              "#ed7953"
             ],
             [
              0.7777777777777778,
              "#fb9f3a"
             ],
             [
              0.8888888888888888,
              "#fdca26"
             ],
             [
              1,
              "#f0f921"
             ]
            ],
            "type": "histogram2d"
           }
          ],
          "histogram2dcontour": [
           {
            "colorbar": {
             "outlinewidth": 0,
             "ticks": ""
            },
            "colorscale": [
             [
              0,
              "#0d0887"
             ],
             [
              0.1111111111111111,
              "#46039f"
             ],
             [
              0.2222222222222222,
              "#7201a8"
             ],
             [
              0.3333333333333333,
              "#9c179e"
             ],
             [
              0.4444444444444444,
              "#bd3786"
             ],
             [
              0.5555555555555556,
              "#d8576b"
             ],
             [
              0.6666666666666666,
              "#ed7953"
             ],
             [
              0.7777777777777778,
              "#fb9f3a"
             ],
             [
              0.8888888888888888,
              "#fdca26"
             ],
             [
              1,
              "#f0f921"
             ]
            ],
            "type": "histogram2dcontour"
           }
          ],
          "mesh3d": [
           {
            "colorbar": {
             "outlinewidth": 0,
             "ticks": ""
            },
            "type": "mesh3d"
           }
          ],
          "parcoords": [
           {
            "line": {
             "colorbar": {
              "outlinewidth": 0,
              "ticks": ""
             }
            },
            "type": "parcoords"
           }
          ],
          "pie": [
           {
            "automargin": true,
            "type": "pie"
           }
          ],
          "scatter": [
           {
            "marker": {
             "colorbar": {
              "outlinewidth": 0,
              "ticks": ""
             }
            },
            "type": "scatter"
           }
          ],
          "scatter3d": [
           {
            "line": {
             "colorbar": {
              "outlinewidth": 0,
              "ticks": ""
             }
            },
            "marker": {
             "colorbar": {
              "outlinewidth": 0,
              "ticks": ""
             }
            },
            "type": "scatter3d"
           }
          ],
          "scattercarpet": [
           {
            "marker": {
             "colorbar": {
              "outlinewidth": 0,
              "ticks": ""
             }
            },
            "type": "scattercarpet"
           }
          ],
          "scattergeo": [
           {
            "marker": {
             "colorbar": {
              "outlinewidth": 0,
              "ticks": ""
             }
            },
            "type": "scattergeo"
           }
          ],
          "scattergl": [
           {
            "marker": {
             "colorbar": {
              "outlinewidth": 0,
              "ticks": ""
             }
            },
            "type": "scattergl"
           }
          ],
          "scattermapbox": [
           {
            "marker": {
             "colorbar": {
              "outlinewidth": 0,
              "ticks": ""
             }
            },
            "type": "scattermapbox"
           }
          ],
          "scatterpolar": [
           {
            "marker": {
             "colorbar": {
              "outlinewidth": 0,
              "ticks": ""
             }
            },
            "type": "scatterpolar"
           }
          ],
          "scatterpolargl": [
           {
            "marker": {
             "colorbar": {
              "outlinewidth": 0,
              "ticks": ""
             }
            },
            "type": "scatterpolargl"
           }
          ],
          "scatterternary": [
           {
            "marker": {
             "colorbar": {
              "outlinewidth": 0,
              "ticks": ""
             }
            },
            "type": "scatterternary"
           }
          ],
          "surface": [
           {
            "colorbar": {
             "outlinewidth": 0,
             "ticks": ""
            },
            "colorscale": [
             [
              0,
              "#0d0887"
             ],
             [
              0.1111111111111111,
              "#46039f"
             ],
             [
              0.2222222222222222,
              "#7201a8"
             ],
             [
              0.3333333333333333,
              "#9c179e"
             ],
             [
              0.4444444444444444,
              "#bd3786"
             ],
             [
              0.5555555555555556,
              "#d8576b"
             ],
             [
              0.6666666666666666,
              "#ed7953"
             ],
             [
              0.7777777777777778,
              "#fb9f3a"
             ],
             [
              0.8888888888888888,
              "#fdca26"
             ],
             [
              1,
              "#f0f921"
             ]
            ],
            "type": "surface"
           }
          ],
          "table": [
           {
            "cells": {
             "fill": {
              "color": "#EBF0F8"
             },
             "line": {
              "color": "white"
             }
            },
            "header": {
             "fill": {
              "color": "#C8D4E3"
             },
             "line": {
              "color": "white"
             }
            },
            "type": "table"
           }
          ]
         },
         "layout": {
          "annotationdefaults": {
           "arrowcolor": "#2a3f5f",
           "arrowhead": 0,
           "arrowwidth": 1
          },
          "autotypenumbers": "strict",
          "coloraxis": {
           "colorbar": {
            "outlinewidth": 0,
            "ticks": ""
           }
          },
          "colorscale": {
           "diverging": [
            [
             0,
             "#8e0152"
            ],
            [
             0.1,
             "#c51b7d"
            ],
            [
             0.2,
             "#de77ae"
            ],
            [
             0.3,
             "#f1b6da"
            ],
            [
             0.4,
             "#fde0ef"
            ],
            [
             0.5,
             "#f7f7f7"
            ],
            [
             0.6,
             "#e6f5d0"
            ],
            [
             0.7,
             "#b8e186"
            ],
            [
             0.8,
             "#7fbc41"
            ],
            [
             0.9,
             "#4d9221"
            ],
            [
             1,
             "#276419"
            ]
           ],
           "sequential": [
            [
             0,
             "#0d0887"
            ],
            [
             0.1111111111111111,
             "#46039f"
            ],
            [
             0.2222222222222222,
             "#7201a8"
            ],
            [
             0.3333333333333333,
             "#9c179e"
            ],
            [
             0.4444444444444444,
             "#bd3786"
            ],
            [
             0.5555555555555556,
             "#d8576b"
            ],
            [
             0.6666666666666666,
             "#ed7953"
            ],
            [
             0.7777777777777778,
             "#fb9f3a"
            ],
            [
             0.8888888888888888,
             "#fdca26"
            ],
            [
             1,
             "#f0f921"
            ]
           ],
           "sequentialminus": [
            [
             0,
             "#0d0887"
            ],
            [
             0.1111111111111111,
             "#46039f"
            ],
            [
             0.2222222222222222,
             "#7201a8"
            ],
            [
             0.3333333333333333,
             "#9c179e"
            ],
            [
             0.4444444444444444,
             "#bd3786"
            ],
            [
             0.5555555555555556,
             "#d8576b"
            ],
            [
             0.6666666666666666,
             "#ed7953"
            ],
            [
             0.7777777777777778,
             "#fb9f3a"
            ],
            [
             0.8888888888888888,
             "#fdca26"
            ],
            [
             1,
             "#f0f921"
            ]
           ]
          },
          "colorway": [
           "#636efa",
           "#EF553B",
           "#00cc96",
           "#ab63fa",
           "#FFA15A",
           "#19d3f3",
           "#FF6692",
           "#B6E880",
           "#FF97FF",
           "#FECB52"
          ],
          "font": {
           "color": "#2a3f5f"
          },
          "geo": {
           "bgcolor": "white",
           "lakecolor": "white",
           "landcolor": "#E5ECF6",
           "showlakes": true,
           "showland": true,
           "subunitcolor": "white"
          },
          "hoverlabel": {
           "align": "left"
          },
          "hovermode": "closest",
          "mapbox": {
           "style": "light"
          },
          "paper_bgcolor": "white",
          "plot_bgcolor": "#E5ECF6",
          "polar": {
           "angularaxis": {
            "gridcolor": "white",
            "linecolor": "white",
            "ticks": ""
           },
           "bgcolor": "#E5ECF6",
           "radialaxis": {
            "gridcolor": "white",
            "linecolor": "white",
            "ticks": ""
           }
          },
          "scene": {
           "xaxis": {
            "backgroundcolor": "#E5ECF6",
            "gridcolor": "white",
            "gridwidth": 2,
            "linecolor": "white",
            "showbackground": true,
            "ticks": "",
            "zerolinecolor": "white"
           },
           "yaxis": {
            "backgroundcolor": "#E5ECF6",
            "gridcolor": "white",
            "gridwidth": 2,
            "linecolor": "white",
            "showbackground": true,
            "ticks": "",
            "zerolinecolor": "white"
           },
           "zaxis": {
            "backgroundcolor": "#E5ECF6",
            "gridcolor": "white",
            "gridwidth": 2,
            "linecolor": "white",
            "showbackground": true,
            "ticks": "",
            "zerolinecolor": "white"
           }
          },
          "shapedefaults": {
           "line": {
            "color": "#2a3f5f"
           }
          },
          "ternary": {
           "aaxis": {
            "gridcolor": "white",
            "linecolor": "white",
            "ticks": ""
           },
           "baxis": {
            "gridcolor": "white",
            "linecolor": "white",
            "ticks": ""
           },
           "bgcolor": "#E5ECF6",
           "caxis": {
            "gridcolor": "white",
            "linecolor": "white",
            "ticks": ""
           }
          },
          "title": {
           "x": 0.05
          },
          "xaxis": {
           "automargin": true,
           "gridcolor": "white",
           "linecolor": "white",
           "ticks": "",
           "title": {
            "standoff": 15
           },
           "zerolinecolor": "white",
           "zerolinewidth": 2
          },
          "yaxis": {
           "automargin": true,
           "gridcolor": "white",
           "linecolor": "white",
           "ticks": "",
           "title": {
            "standoff": 15
           },
           "zerolinecolor": "white",
           "zerolinewidth": 2
          }
         }
        },
        "title": {
         "text": "Co-occurence sankey map (only pairs that co-occured in at least 20% of the target corpus)"
        }
       }
      }
     },
     "metadata": {}
    }
   ],
   "source": [
    "import plotly.graph_objects as go\n",
    "\n",
    "# uncomment to open fig in the browser instead of embedding into the notebook\n",
    "# import plotly.io as pio; pio.renderers.default = 'browser'\n",
    "\n",
    "MIN_COOCCURENCE_PCT = 20\n",
    "\n",
    "# prep data for sankey\n",
    "cooc_df = pd.DataFrame(cooccurences_normalized_pct).unstack().reset_index().rename(\n",
    "  columns={'level_0': 'target', 'level_1': 'source', 0: 'cooccurence_pct'}\n",
    ")\n",
    "\n",
    "index_to_test_mapping = {i:c for i,c in enumerate(cognitive_tests)}\n",
    "# df.replace({'task_i': index_to_test_mapping, 'task_j': index_to_test_mapping}, inplace=True)\n",
    "\n",
    "# only pairs that co-occured at least 50 times\n",
    "cooc_df = cooc_df.query('cooccurence_pct > @MIN_COOCCURENCE_PCT')\n",
    "\n",
    "\n",
    "fig = go.Figure(data=[go.Sankey(\n",
    "    node = dict(\n",
    "      pad = 10,\n",
    "      thickness = 10,\n",
    "      line = dict(color = 'black', width = 0.5),\n",
    "      label = cognitive_tests,\n",
    "      color = 'lightblue'\n",
    "    ),\n",
    "    link = dict(\n",
    "      source = cooc_df['source'],\n",
    "      target = cooc_df['target'],\n",
    "      value = cooc_df['cooccurence_pct']\n",
    "  ))])\n",
    "\n",
    "fig.update_layout(title_text=f'Co-occurence sankey map (only pairs that co-occured in at least {MIN_COOCCURENCE_PCT}% of the target corpus)', font_size=10)\n",
    "\n",
    "fig.write_html('../outputs/cooccurences/sankey_map_normalized_plotly.html')\n",
    "\n",
    "fig.show()\n"
   ]
  }
 ]
}