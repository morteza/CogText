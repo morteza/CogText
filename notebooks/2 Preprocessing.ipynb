{
 "cells": [
  {
   "cell_type": "markdown",
   "metadata": {},
   "source": [
    "# Preprocessing\n",
    "\n",
    "Preprocess PubMed abstract texts by applying the following steps:\n",
    "\n",
    "- tokenize,\n",
    "- remove punctuation marks, numbers, and symbols,\n",
    "- develop dictionary,\n",
    "- remove stop words,\n",
    "- stemming,\n",
    "- lemmatize,\n",
    "- n-gram phrase detection to identify common phrases,\n",
    "- concat tokens back to a single string.\n",
    "\n",
    "All the above operations are performed separately for each cognitive task/construct corpus. However the output will be an aggregated CSV file with the same columns as the previous one; only the abstract column is now cleaned up. The CSV will be stored in the `data/pubmed/abstracts_preprocessed.csv.gz` path.\n",
    "\n",
    "**Note:** Preprocessing a huge corpus of many articles is a time-consuming task. It takes about 12 hours. Be mindful when running, and have fun!"
   ]
  },
  {
   "cell_type": "code",
   "execution_count": 1,
   "metadata": {},
   "outputs": [],
   "source": [
    "%reload_ext autoreload\n",
    "%autoreload 2\n",
    "\n",
    "from pathlib import Path\n",
    "import pandas as pd\n",
    "from tqdm import tqdm\n",
    "import spacy  # or en_core_web_trf, en_core_web_sm\n",
    "\n",
    "from python.cogtext.abstract_utils import preprocess_abstracts\n",
    "from python.cogtext.utils import select_relevant_journals\n",
    "\n",
    "tqdm.pandas()"
   ]
  },
  {
   "cell_type": "code",
   "execution_count": 16,
   "metadata": {},
   "outputs": [],
   "source": [
    "# parameters\n",
    "DEV_MODE = False\n",
    "\"\"\"Enabling development mode reducing dataset size and increases speed.\"\"\"\n",
    "\n",
    "INPUT_FILE = Path('data/pubmed/abstracts.csv.gz')\n",
    "\"\"\"Input csv file.\"\"\"\n",
    "\n",
    "OUTPUT_FILE = Path('data/pubmed/abstracts_preprocessed.csv.gz')\n",
    "\"\"\"Path to store the preprocessed abstracts (compressed CSV).\"\"\"\n",
    "\n",
    "CUSTOM_STOP_WORDS = ['study']  #, 'task', 'test']\n",
    "\"\"\"List of custom domain-specific stop words, e.g., study, performance.\"\"\"\n",
    "\n",
    "nlp = spacy.load('en_core_web_sm')\n",
    "\"\"\"Language model.\"\"\"\n",
    "\n",
    "PUBMED = pd.read_csv(INPUT_FILE, compression='gzip').pipe(select_relevant_journals).dropna(subset=['abstract'])\n",
    "\"\"\"The raw PubMed abstracts dataset.\"\"\"\n",
    "\n",
    "# additional stop words\n",
    "for stop_word in CUSTOM_STOP_WORDS:\n",
    "  lexeme = nlp.vocab[stop_word]\n",
    "  lexeme.is_stop = True\n"
   ]
  },
  {
   "cell_type": "markdown",
   "metadata": {},
   "source": [
    "## Fix \"Cognitive Flexibility\" Corpus\n",
    "\n",
    "Analysis of PubMed corpora for \"Cognitive Flexibility\" and \"Cognitive Flexibility Test\" produces highly correlated task-construct co-occurrences. Here, we are investigating whether it's artificial and due to PubMed querying issues.\n",
    "\n",
    "\n",
    "The following code removes those papers that seem irrelevant to the task/construct. "
   ]
  },
  {
   "cell_type": "code",
   "execution_count": 17,
   "metadata": {},
   "outputs": [
    {
     "name": "stdout",
     "output_type": "stream",
     "text": [
      "Found 2622 construct articles and 100 task articles in the \"Cognitive Flexibility\" corpus.\n",
      "Removed 0 construct articles and 0 task articles from the \"Cognitive Flexibility\" corpus.\n"
     ]
    },
    {
     "name": "stderr",
     "output_type": "stream",
     "text": [
      "/Users/morteza/miniconda3/envs/py3/lib/python3.9/site-packages/pandas/core/computation/expr.py:705: UserWarning: This pattern has match groups. To actually get the groups, use str.extract.\n",
      "  return self.const_type(res(*new_args, **kwargs), self.env)\n"
     ]
    }
   ],
   "source": [
    "#FIXME this should happen after tokenizing and preprocessing abstracts to cover move generic cases.\n",
    "\n",
    "C = PUBMED.query('category.str.contains(\"Construct\") and subcategory.str.contains(\"Flexibility\", case=False)')\n",
    "M = PUBMED.query('category.str.contains(\"Task\") and subcategory.str.contains(\"Flexibility\", case=False)')\n",
    "\n",
    "invalid_C = C.query('abstract.str.contains(\"flexibility (task|test)\", case=False, na=False)')\n",
    "invalid_M = M.query('not abstract.str.contains(\"flexibility (task|test)\", case=False, na=False)')\n",
    "\n",
    "PUBMED.drop(invalid_C.index, inplace=True)\n",
    "PUBMED.drop(invalid_M.index, inplace=True)\n",
    "\n",
    "# DEBUG\n",
    "print(f'Found {len(C)} construct articles and {len(M)} task articles in the \"Cognitive Flexibility\" corpus.')\n",
    "print(f'Removed {len(invalid_C)} construct articles and {len(invalid_M)} task articles from the \"Cognitive Flexibility\" corpus.')"
   ]
  },
  {
   "cell_type": "markdown",
   "metadata": {},
   "source": [
    "## Preprocessing the abstracts"
   ]
  },
  {
   "cell_type": "code",
   "execution_count": 19,
   "metadata": {},
   "outputs": [
    {
     "name": "stderr",
     "output_type": "stream",
     "text": [
      "100%|██████████| 323150/323150 [2:29:51<00:00, 35.94it/s]\n"
     ]
    }
   ],
   "source": [
    "if DEV_MODE:\n",
    "  subcats_cnt = PUBMED['subcategory'].value_counts()\n",
    "  small_subcats = subcats_cnt[subcats_cnt < 20].index.to_list()\n",
    "  PUBMED = PUBMED.query('subcategory in @small_subcats',).copy()\n",
    "\n",
    "# lower case all abstracts (to avoid inconsistent lemmas by SpaCy)\n",
    "PUBMED['abstract'] = PUBMED['abstract'].str.lower()\n",
    "\n",
    "# preprocess (~2:30h)\n",
    "PUBMED['abstract'] = PUBMED['abstract'].pipe(preprocess_abstracts, nlp_model=nlp)\n",
    "\n",
    "# OPTIONAL\n",
    "# PUBMED['abstract'] = PUBMED.groupby(['category','subcategory'])['abstract'].progress_transform(\n",
    "#   lambda abstracts: concat_common_phrases(abstracts)\n",
    "# )\n",
    "\n",
    "# store output\n",
    "PUBMED.to_csv(OUTPUT_FILE, index=False, compression='gzip')"
   ]
  }
 ],
 "metadata": {
  "interpreter": {
   "hash": "5ddcf14c786c671500c086f61f0b66d0417d6c58ff12753e346e191a84f72b84"
  },
  "kernelspec": {
   "display_name": "Python 3.9.4 64-bit ('py3': conda)",
   "name": "python3"
  },
  "language_info": {
   "codemirror_mode": {
    "name": "ipython",
    "version": 3
   },
   "file_extension": ".py",
   "mimetype": "text/x-python",
   "name": "python",
   "nbconvert_exporter": "python",
   "pygments_lexer": "ipython3",
   "version": "3.9.4"
  },
  "orig_nbformat": 4
 },
 "nbformat": 4,
 "nbformat_minor": 2
}
