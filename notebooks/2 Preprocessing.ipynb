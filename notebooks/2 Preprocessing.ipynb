{
 "cells": [
  {
   "cell_type": "markdown",
   "source": [
    "# Preprocessing\n",
    "\n",
    "Preprocess PubMed abstract texts by applying the following steps:\n",
    "\n",
    "- tokenize,\n",
    "- remove punctuation marks, numbers, and symbols,\n",
    "- develop dictionary,\n",
    "- remove stop words,\n",
    "- stemming,\n",
    "- lemmatize,\n",
    "- n-gram phrase detection to identify common phrases,\n",
    "- concat tokens back to a single string.\n",
    "\n",
    "All the above operations are performed separately for each cognitive task/construct corpus. However the output will be an aggregated CSV file with the same columns as the previous one; only the abstract column is now cleaned up. The CSV will be stored in the `data/pubmed_abstracts_preprocessed.csv.gz` path.\n",
    "\n",
    "**Note:** Preprocessing a huge corpus of many articles is a time-consuming task. It takes about 12 hours. Be mindful when running, and have fun!"
   ],
   "metadata": {}
  },
  {
   "cell_type": "code",
   "execution_count": 1,
   "source": [
    "%reload_ext autoreload\n",
    "%autoreload 2\n",
    "\n",
    "from pathlib import Path\n",
    "import pandas as pd\n",
    "from tqdm import tqdm\n",
    "import spacy\n",
    "from python.cogtext.preprocess_abstracts import preprocess_abstracts\n",
    "\n",
    "tqdm.pandas()"
   ],
   "outputs": [],
   "metadata": {}
  },
  {
   "cell_type": "code",
   "execution_count": 2,
   "source": [
    "# parameters\n",
    "DEBUG = True\n",
    "\n",
    "INPUT_FILE = Path('data/pubmed_abstracts.csv.gz')\n",
    "OUTPUT_FILE = Path('data/pubmed_abstracts_preprocessed.csv.gz')\n",
    "\n",
    "CUSTOM_STOP_WORDS = ['study', 'task', 'test']\n",
    "\n",
    "# nlp = spacy.load('en_core_web_sm')  # efficient\n",
    "nlp = spacy.load('en_core_web_trf')  # accurate\n",
    "\n",
    "# additional stop words\n",
    "for stop_word in CUSTOM_STOP_WORDS:\n",
    "  lexeme = nlp.vocab[stop_word]\n",
    "  lexeme.is_stop = True\n",
    "\n",
    "df = pd.read_csv(INPUT_FILE, compression='gzip')"
   ],
   "outputs": [],
   "metadata": {}
  },
  {
   "cell_type": "markdown",
   "source": [
    "## Fix \"Cognitive Flexibility\" Corpus\n",
    "\n",
    "Analysis of PubMed corpora for \"Cognitive Flexibility\" and \"Cognitive Flexibility Test\" produces highly correlated task-construct co-occurrences. Here, we are investigating whether it's artificial and due to PubMed querying issues.\n",
    "\n",
    "\n",
    "The following code removes those papers that seem irrelevant to the task/construct. "
   ],
   "metadata": {}
  },
  {
   "cell_type": "code",
   "execution_count": 3,
   "source": [
    "#FIXME this should happen after tokenizing and preprocessing abstracts to cover move generic cases.\n",
    "\n",
    "\n",
    "C = df.query('category.str.contains(\"Construct\") and subcategory.str.contains(\"Flexibility\", case=False)')\n",
    "M = df.query('category.str.contains(\"Task\") and subcategory.str.contains(\"Flexibility\", case=False)')\n",
    "\n",
    "invalid_C = C.query('abstract.str.contains(\"flexibility (task|test)\", case=False, na=False)')\n",
    "invalid_M = M.query('not abstract.str.contains(\"flexibility (task|test)\", case=False, na=False)')\n",
    "\n",
    "df.drop(invalid_C.index, inplace=True)\n",
    "df.drop(invalid_M.index, inplace=True)\n",
    "\n",
    "# DEBUG\n",
    "print(f'Found {len(C)} construct articles and {len(M)} task articles in the \"Cognitive Flexibility\" corpus.')\n",
    "print(f'Removed {len(invalid_C)} construct articles and {len(invalid_M)} task articles from the \"Cognitive Flexibility\" corpus.')"
   ],
   "outputs": [
    {
     "output_type": "stream",
     "name": "stderr",
     "text": [
      "/Users/morteza/miniconda3/envs/py3/lib/python3.9/site-packages/pandas/core/strings/accessor.py:101: UserWarning: This pattern has match groups. To actually get the groups, use str.extract.\n",
      "  return func(self, *args, **kwargs)\n"
     ]
    },
    {
     "output_type": "stream",
     "name": "stdout",
     "text": [
      "Found 3566 construct articles and 240 task articles in the \"Cognitive Flexibility\" corpus.\n",
      "Removed 0 construct articles and 0 task articles from the \"Cognitive Flexibility\" corpus.\n"
     ]
    }
   ],
   "metadata": {}
  },
  {
   "cell_type": "markdown",
   "source": [
    "## Preprocessing the abstracts"
   ],
   "metadata": {}
  },
  {
   "cell_type": "code",
   "execution_count": 23,
   "source": [
    "df['abstract'].fillna('', inplace=True)\n",
    "\n",
    "# DEBUG: uncomment reduce dataset size and speed up development\n",
    "# if DEBUG:\n",
    "#   subcats_cnt = df['subcategory'].value_counts()\n",
    "#   small_subcats = subcats_cnt[subcats_cnt < 20].index.to_list()\n",
    "#   df = df.query('subcategory in @small_subcats',).copy()\n",
    "\n",
    "# preprocess (~12h)\n",
    "df['abstract'] = df.groupby(['category','subcategory'])['abstract'].progress_transform(\n",
    "  lambda abstracts: preprocess_abstracts(abstracts.str.lower().to_list(), nlp_model=nlp, extract_phrases=True)\n",
    ")\n",
    "\n",
    "# store output\n",
    "df.to_csv(OUTPUT_FILE, index=False, compression='gzip')"
   ],
   "outputs": [
    {
     "output_type": "stream",
     "name": "stderr",
     "text": [
      "100%|██████████| 32/32 [00:55<00:00,  1.74s/it]\n"
     ]
    }
   ],
   "metadata": {}
  },
  {
   "cell_type": "markdown",
   "source": [
    " # Task-Construct co-appearance matrix\n",
    "\n",
    " This notebook generates a matrix that contains task/construct co-appearance frequencies. Values indicate number of articles that both the task and the cognitive construct were mentioned in.\n",
    "\n",
    "\n",
    "## Output\n",
    "\n",
    "Co-appearance matrix is stored in sparse format in the `data/pubmed/pubmed_coappearances.csv.gz` path with the following columns in it:\n",
    "\n",
    " - `task`: Name of the cognitive task (a.k.a. subcategory in the pubmed_abstracts dataset).\n",
    " - `construct`: Name of the cognitive construct.\n",
    " - `task_corpus_size`: Number of articles in the cognitive task corpus.\n",
    " - `construct_corpus_size`: Number of articles in the cognitive construct corpus.\n",
    " - `union_corpus_size`: Total number of unique articles in either of the two corpora.\n",
    " - `intersection_corpus_size`: Number of articles that are shared in the two corpora.\n",
    "\n",
    "**Note**: Values in the matrix are neither normalized nor scaled."
   ],
   "metadata": {}
  },
  {
   "cell_type": "code",
   "execution_count": 4,
   "source": [
    "import pandas as pd\n",
    "from python.cogtext.coappearance_matrix import generate_coappearance_matrix\n",
    "from pathlib import Path\n",
    "\n",
    "# parameters\n",
    "COAPPEARANCE_OUTPUT_FILE = Path('data/pubmed_coappearances.csv.gz')\n",
    "\n",
    "# DEBUG: reload the raw data (which would be an additional 15 sec)\n",
    "# INPUT_FILE = Path('data/pubmed_abstracts.csv.gz')\n",
    "# df = pd.read_csv(INPUT_FILE)\n",
    "\n",
    "coappearances = generate_coappearance_matrix(df)\n",
    "coappearances.to_csv(COAPPEARANCE_OUTPUT_FILE, index=False, compression='gzip')"
   ],
   "outputs": [
    {
     "output_type": "stream",
     "name": "stderr",
     "text": [
      "100%|██████████| 100/100 [18:53<00:00, 11.33s/it]\n"
     ]
    }
   ],
   "metadata": {}
  }
 ],
 "metadata": {
  "orig_nbformat": 4,
  "language_info": {
   "name": "python",
   "version": "3.9.4",
   "mimetype": "text/x-python",
   "codemirror_mode": {
    "name": "ipython",
    "version": 3
   },
   "pygments_lexer": "ipython3",
   "nbconvert_exporter": "python",
   "file_extension": ".py"
  },
  "kernelspec": {
   "name": "python3",
   "display_name": "Python 3.9.4 64-bit ('py3': conda)"
  },
  "interpreter": {
   "hash": "5ddcf14c786c671500c086f61f0b66d0417d6c58ff12753e346e191a84f72b84"
  }
 },
 "nbformat": 4,
 "nbformat_minor": 2
}