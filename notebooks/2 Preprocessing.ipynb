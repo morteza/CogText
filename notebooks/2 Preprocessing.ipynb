{
 "cells": [
  {
   "cell_type": "markdown",
   "source": [
    "# Preprocessing\n",
    "\n",
    "Preprocess PubMed abstract texts by applying the following steps:\n",
    "\n",
    "- tokenize,\n",
    "- remove punctuation marks, numbers, and symbols,\n",
    "- develop dictionary,\n",
    "- remove stop words,\n",
    "- stemming,\n",
    "- lemmatize,\n",
    "- n-gram phrase detection to identify common phrases,\n",
    "- concat tokens back to a single string.\n",
    "\n",
    "All the above operations are performed separately for each cognitive task/construct corpus. However the output will be an aggregated CSV file with the same columns as the previous one; only the abstract column is now cleaned up. The CSV will be stored in the `data/pubmed_abstracts_preprocessed.csv.gz` path.\n",
    "\n",
    "**Note:** Preprocessing a huge corpus of many articles is a time-consuming task. It takes about 12 hours. Be mindful when running, and have fun!"
   ],
   "metadata": {}
  },
  {
   "cell_type": "code",
   "execution_count": null,
   "source": [
    "%reload_ext autoreload\n",
    "%autoreload 2\n",
    "\n",
    "from pathlib import Path\n",
    "import pandas as pd\n",
    "from tqdm import tqdm\n",
    "import spacy\n",
    "from python.cogtext.preprocess_abstracts import preprocess_abstracts\n",
    "\n",
    "tqdm.pandas()"
   ],
   "outputs": [],
   "metadata": {}
  },
  {
   "cell_type": "code",
   "execution_count": null,
   "source": [
    "# parameters\n",
    "DEBUG = True\n",
    "\n",
    "INPUT_FILE = Path('data/pubmed_abstracts.csv.gz')\n",
    "OUTPUT_FILE = Path('data/pubmed_abstracts_preprocessed.csv.gz')\n",
    "\n",
    "CUSTOM_STOP_WORDS = ['study', 'task', 'test']\n",
    "\n",
    "nlp = spacy.load('en_core_web_sm')\n",
    "\n",
    "# additional stop words\n",
    "for stop_word in CUSTOM_STOP_WORDS:\n",
    "  lexeme = nlp.vocab[stop_word]\n",
    "  lexeme.is_stop = True\n"
   ],
   "outputs": [],
   "metadata": {}
  },
  {
   "cell_type": "code",
   "execution_count": null,
   "source": [
    "# load raw dataset (~30s)\n",
    "df = pd.read_csv(INPUT_FILE, compression='gzip')\n",
    "df['abstract'].fillna('', inplace=True)\n",
    "\n",
    "# DEBUG: uncomment reduce dataset size and speed up development\n",
    "# if DEBUG:\n",
    "#   subcats_cnt = df['subcategory'].value_counts()\n",
    "#   small_subcats = subcats_cnt[subcats_cnt < 20].index.to_list()\n",
    "#   df = df.query('subcategory in @small_subcats',)\n",
    "\n",
    "# preprocess (~12h)\n",
    "df['abstract'] = df.groupby(['category','subcategory'])['abstract'].progress_transform(\n",
    "  lambda abstracts: preprocess_abstracts(abstracts.to_list(), nlp_model=nlp, extract_phrases=True)\n",
    ")\n",
    "\n",
    "# store output\n",
    "df.to_csv(OUTPUT_FILE, index=False, compression='gzip')"
   ],
   "outputs": [],
   "metadata": {}
  }
 ],
 "metadata": {
  "orig_nbformat": 4,
  "language_info": {
   "name": "python"
  }
 },
 "nbformat": 4,
 "nbformat_minor": 2
}