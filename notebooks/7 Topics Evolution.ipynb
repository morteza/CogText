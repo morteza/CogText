{
 "metadata": {
  "language_info": {
   "codemirror_mode": {
    "name": "ipython",
    "version": 3
   },
   "file_extension": ".py",
   "mimetype": "text/x-python",
   "name": "python",
   "nbconvert_exporter": "python",
   "pygments_lexer": "ipython3",
   "version": "3.9.4"
  },
  "orig_nbformat": 2,
  "kernelspec": {
   "name": "python3",
   "display_name": "Python 3.9.4 64-bit ('py3': conda)"
  },
  "interpreter": {
   "hash": "5ddcf14c786c671500c086f61f0b66d0417d6c58ff12753e346e191a84f72b84"
  }
 },
 "nbformat": 4,
 "nbformat_minor": 2,
 "cells": [
  {
   "cell_type": "markdown",
   "source": [
    "# Topics model evolution over time\n",
    "\n",
    "This notebook demonstrate evolution of topic models over time. The following steps are performed on the publication abstracts:\n",
    "\n",
    "- Preprocessing the text, such as removing stop words, word stemming, lemmatize, and n-gram phrase detection.\n",
    "- Use BERT to encode documents into embeddings.\n",
    "- dimentionality reduction of embeddings using UMAP.\n",
    "- Hierarchical DBSCAN to form clusters of embeddings.\n",
    "- Assign scores to words with regard to the clusters.\n",
    "- Extract most coheret topics (c-TD-IDF algorithm).\n",
    "- Fine-tune clusters and topics at different publicationn dates to model topic evolution.\n",
    "\n",
    "**c-TD-IDF**: $c\\_td\\_idf = {t_i \\over w_i} \\times log{m \\over {\\Sigma_j^n t_j}}$\n",
    "\n",
    "\n",
    "## Setup"
   ],
   "metadata": {}
  },
  {
   "cell_type": "code",
   "execution_count": 1,
   "source": [
    "# REMOVE: MOVED TO \"2 Preprocessing.iypnb\"\n",
    "\n",
    "%reload_ext autoreload\n",
    "%autoreload 2\n",
    "\n",
    "from pathlib import Path\n",
    "import matplotlib.pyplot as plt\n",
    "\n",
    "import pandas as pd\n",
    "\n",
    "from bertopic import BERTopic"
   ],
   "outputs": [],
   "metadata": {}
  },
  {
   "cell_type": "code",
   "execution_count": null,
   "source": [
    "# parameters\n",
    "INPUT_FILE = Path('data/pubmed_abstracts_preprocessed.csv.gz')\n",
    "\n",
    "# load the dataset\n",
    "df = pd.read_csv(INPUT_FILE, compression='gzip')"
   ],
   "outputs": [],
   "metadata": {}
  },
  {
   "cell_type": "markdown",
   "source": [
    "Now load PubMed abstracts ad preprocess them. This takes a few minutes to run and preprocessed abstracts will be stored in `data/pubmed/tests_preprocessed.csv`."
   ],
   "metadata": {}
  },
  {
   "cell_type": "markdown",
   "source": [
    "As a visual check, a word cloud can quickly visualize the whole preprocessed corpus."
   ],
   "metadata": {}
  },
  {
   "cell_type": "code",
   "execution_count": null,
   "source": [
    "from wordcloud import WordCloud\n",
    "combined_text = df['abstract'].str.cat(sep=' ')\n",
    "\n",
    "combined_text = combined_text.replace('result','').replace('find', '').replace('suggest','')\n",
    "\n",
    "cloud = WordCloud(width=500,height=500,background_color ='white').generate(combined_text)\n",
    "\n",
    "plt.figure(figsize=(10,10))\n",
    "plt.imshow(cloud)\n",
    "plt.axis('off')\n",
    "plt.show()"
   ],
   "outputs": [],
   "metadata": {}
  },
  {
   "cell_type": "markdown",
   "source": [
    "## Overall topics (time-independent model)\n",
    "\n",
    "In this section, we fit a topic model on all the PubMed cognitive task abstracts given which task the text belongs to."
   ],
   "metadata": {}
  },
  {
   "cell_type": "code",
   "execution_count": 10,
   "source": [
    "def fit_topic_model(docs, corpus_name):\n",
    "    \"\"\"Fit a topic model to the docs and return the fitted model, and the topics.\n",
    "    \"\"\"\n",
    "\n",
    "    print(f'fitting topics for {corpus_name}...', file=sys.stderr)\n",
    "\n",
    "    try:\n",
    "        topic_model = BERTopic(verbose=True)\n",
    "        topics, _ = topic_model.fit_transform(docs)\n",
    "        return topic_model, topics\n",
    "    except:\n",
    "        return None, None\n",
    "\n",
    "stroop_topic_model = fit_topic_model(df.query('corpus_name == \"Stroop Task\"')['preprocessed_abstract'].to_list(), \"Stroop Task\")\n",
    "\n",
    "# Fit all corpora\n",
    "# models = df.groupby('corpus_name').apply(\n",
    "#     lambda grp: fit_topic_model(grp['preprocessed_abstract'].to_list(), grp.name)\n",
    "# )\n",
    "\n",
    "# topic_model.get_topic_info()\n",
    "\n",
    "# DEBUG\n",
    "# topic_model.get_topics()\n",
    "# topic_model.get_topic(0)"
   ],
   "outputs": [
    {
     "output_type": "stream",
     "name": "stderr",
     "text": [
      "fitting topics for Stroop Task...\n",
      "Batches: 100%|██████████| 248/248 [02:32<00:00,  1.62it/s]\n",
      "2021-07-14 09:50:14,907 - BERTopic - Transformed documents to Embeddings\n",
      "2021-07-14 09:50:39,723 - BERTopic - Reduced dimensionality with UMAP\n",
      "2021-07-14 09:50:39,990 - BERTopic - Clustered UMAP embeddings with HDBSCAN\n"
     ]
    }
   ],
   "metadata": {}
  },
  {
   "cell_type": "code",
   "execution_count": 15,
   "source": [
    "stroop_topic_model[0].get_topic_info()\n",
    "stroop_topic_model[0].visualize_barchart()"
   ],
   "outputs": [
    {
     "output_type": "display_data",
     "data": {
      "application/vnd.plotly.v1+json": {
       "config": {
        "plotlyServerURL": "https://plot.ly"
       },
       "data": [
        {
         "orientation": "h",
         "type": "bar",
         "x": [
          0.010205923613505955,
          0.011456635145653881,
          0.014477913501783976,
          0.015151063469806046,
          0.0172767359588411
         ],
         "xaxis": "x",
         "y": [
          "attentionalbias  ",
          "anxiety  ",
          "emotional  ",
          "emotion  ",
          "emotionalstroop  "
         ],
         "yaxis": "y"
        },
        {
         "orientation": "h",
         "type": "bar",
         "x": [
          0.012720971860089034,
          0.02008181195428075,
          0.02060783111522678,
          0.02720577903007771,
          0.0340546273566034
         ],
         "xaxis": "x2",
         "y": [
          "stressor  ",
          "heartrate  ",
          "bloodpressure  ",
          "mentalstress  ",
          "stress  "
         ],
         "yaxis": "y2"
        },
        {
         "orientation": "h",
         "type": "bar",
         "x": [
          0.010098068171487475,
          0.014038204771441213,
          0.015118727291264978,
          0.023889275802996265,
          0.026337006504946185
         ],
         "xaxis": "x3",
         "y": [
          "colorname  ",
          "colorword  ",
          "semantic  ",
          "experiment  ",
          "color  "
         ],
         "yaxis": "y3"
        },
        {
         "orientation": "h",
         "type": "bar",
         "x": [
          0.00902090986992212,
          0.013769133388259684,
          0.01679687350758349,
          0.01702210097761636,
          0.044686338258698236
         ],
         "xaxis": "x4",
         "y": [
          "adhdchild  ",
          "childadhd  ",
          "hyperactivitydisorder  ",
          "attentiondeficit  ",
          "adhd  "
         ],
         "yaxis": "y4"
        },
        {
         "orientation": "h",
         "type": "bar",
         "x": [
          0.00939684936491898,
          0.010892223066812385,
          0.011726656820525462,
          0.013478884326483174,
          0.04157256234495567
         ],
         "xaxis": "x5",
         "y": [
          "cognitivefunction  ",
          "athlete  ",
          "aerobicexercise  ",
          "acuteexercise  ",
          "exercise  "
         ],
         "yaxis": "y5"
        },
        {
         "orientation": "h",
         "type": "bar",
         "x": [
          0.014740946426939128,
          0.014994829942185737,
          0.017111022816890187,
          0.026176280094961885,
          0.044495840786186396
         ],
         "xaxis": "x6",
         "y": [
          "schizophrenicpatient  ",
          "schizophrenic  ",
          "schizophreniapatient  ",
          "patientschizophrenia  ",
          "schizophrenia  "
         ],
         "yaxis": "y6"
        }
       ],
       "layout": {
        "annotations": [
         {
          "font": {
           "size": 16
          },
          "showarrow": false,
          "text": "Topic 0",
          "x": 0.11666666666666665,
          "xanchor": "center",
          "xref": "paper",
          "y": 1,
          "yanchor": "bottom",
          "yref": "paper"
         },
         {
          "font": {
           "size": 16
          },
          "showarrow": false,
          "text": "Topic 1",
          "x": 0.49999999999999994,
          "xanchor": "center",
          "xref": "paper",
          "y": 1,
          "yanchor": "bottom",
          "yref": "paper"
         },
         {
          "font": {
           "size": 16
          },
          "showarrow": false,
          "text": "Topic 2",
          "x": 0.8833333333333333,
          "xanchor": "center",
          "xref": "paper",
          "y": 1,
          "yanchor": "bottom",
          "yref": "paper"
         },
         {
          "font": {
           "size": 16
          },
          "showarrow": false,
          "text": "Topic 3",
          "x": 0.11666666666666665,
          "xanchor": "center",
          "xref": "paper",
          "y": 0.425,
          "yanchor": "bottom",
          "yref": "paper"
         },
         {
          "font": {
           "size": 16
          },
          "showarrow": false,
          "text": "Topic 4",
          "x": 0.49999999999999994,
          "xanchor": "center",
          "xref": "paper",
          "y": 0.425,
          "yanchor": "bottom",
          "yref": "paper"
         },
         {
          "font": {
           "size": 16
          },
          "showarrow": false,
          "text": "Topic 5",
          "x": 0.8833333333333333,
          "xanchor": "center",
          "xref": "paper",
          "y": 0.425,
          "yanchor": "bottom",
          "yref": "paper"
         }
        ],
        "height": 600,
        "hoverlabel": {
         "bgcolor": "white",
         "font": {
          "family": "Rockwell",
          "size": 16
         }
        },
        "showlegend": false,
        "template": {
         "data": {
          "bar": [
           {
            "error_x": {
             "color": "#2a3f5f"
            },
            "error_y": {
             "color": "#2a3f5f"
            },
            "marker": {
             "line": {
              "color": "white",
              "width": 0.5
             },
             "pattern": {
              "fillmode": "overlay",
              "size": 10,
              "solidity": 0.2
             }
            },
            "type": "bar"
           }
          ],
          "barpolar": [
           {
            "marker": {
             "line": {
              "color": "white",
              "width": 0.5
             },
             "pattern": {
              "fillmode": "overlay",
              "size": 10,
              "solidity": 0.2
             }
            },
            "type": "barpolar"
           }
          ],
          "carpet": [
           {
            "aaxis": {
             "endlinecolor": "#2a3f5f",
             "gridcolor": "#C8D4E3",
             "linecolor": "#C8D4E3",
             "minorgridcolor": "#C8D4E3",
             "startlinecolor": "#2a3f5f"
            },
            "baxis": {
             "endlinecolor": "#2a3f5f",
             "gridcolor": "#C8D4E3",
             "linecolor": "#C8D4E3",
             "minorgridcolor": "#C8D4E3",
             "startlinecolor": "#2a3f5f"
            },
            "type": "carpet"
           }
          ],
          "choropleth": [
           {
            "colorbar": {
             "outlinewidth": 0,
             "ticks": ""
            },
            "type": "choropleth"
           }
          ],
          "contour": [
           {
            "colorbar": {
             "outlinewidth": 0,
             "ticks": ""
            },
            "colorscale": [
             [
              0,
              "#0d0887"
             ],
             [
              0.1111111111111111,
              "#46039f"
             ],
             [
              0.2222222222222222,
              "#7201a8"
             ],
             [
              0.3333333333333333,
              "#9c179e"
             ],
             [
              0.4444444444444444,
              "#bd3786"
             ],
             [
              0.5555555555555556,
              "#d8576b"
             ],
             [
              0.6666666666666666,
              "#ed7953"
             ],
             [
              0.7777777777777778,
              "#fb9f3a"
             ],
             [
              0.8888888888888888,
              "#fdca26"
             ],
             [
              1,
              "#f0f921"
             ]
            ],
            "type": "contour"
           }
          ],
          "contourcarpet": [
           {
            "colorbar": {
             "outlinewidth": 0,
             "ticks": ""
            },
            "type": "contourcarpet"
           }
          ],
          "heatmap": [
           {
            "colorbar": {
             "outlinewidth": 0,
             "ticks": ""
            },
            "colorscale": [
             [
              0,
              "#0d0887"
             ],
             [
              0.1111111111111111,
              "#46039f"
             ],
             [
              0.2222222222222222,
              "#7201a8"
             ],
             [
              0.3333333333333333,
              "#9c179e"
             ],
             [
              0.4444444444444444,
              "#bd3786"
             ],
             [
              0.5555555555555556,
              "#d8576b"
             ],
             [
              0.6666666666666666,
              "#ed7953"
             ],
             [
              0.7777777777777778,
              "#fb9f3a"
             ],
             [
              0.8888888888888888,
              "#fdca26"
             ],
             [
              1,
              "#f0f921"
             ]
            ],
            "type": "heatmap"
           }
          ],
          "heatmapgl": [
           {
            "colorbar": {
             "outlinewidth": 0,
             "ticks": ""
            },
            "colorscale": [
             [
              0,
              "#0d0887"
             ],
             [
              0.1111111111111111,
              "#46039f"
             ],
             [
              0.2222222222222222,
              "#7201a8"
             ],
             [
              0.3333333333333333,
              "#9c179e"
             ],
             [
              0.4444444444444444,
              "#bd3786"
             ],
             [
              0.5555555555555556,
              "#d8576b"
             ],
             [
              0.6666666666666666,
              "#ed7953"
             ],
             [
              0.7777777777777778,
              "#fb9f3a"
             ],
             [
              0.8888888888888888,
              "#fdca26"
             ],
             [
              1,
              "#f0f921"
             ]
            ],
            "type": "heatmapgl"
           }
          ],
          "histogram": [
           {
            "marker": {
             "pattern": {
              "fillmode": "overlay",
              "size": 10,
              "solidity": 0.2
             }
            },
            "type": "histogram"
           }
          ],
          "histogram2d": [
           {
            "colorbar": {
             "outlinewidth": 0,
             "ticks": ""
            },
            "colorscale": [
             [
              0,
              "#0d0887"
             ],
             [
              0.1111111111111111,
              "#46039f"
             ],
             [
              0.2222222222222222,
              "#7201a8"
             ],
             [
              0.3333333333333333,
              "#9c179e"
             ],
             [
              0.4444444444444444,
              "#bd3786"
             ],
             [
              0.5555555555555556,
              "#d8576b"
             ],
             [
              0.6666666666666666,
              "#ed7953"
             ],
             [
              0.7777777777777778,
              "#fb9f3a"
             ],
             [
              0.8888888888888888,
              "#fdca26"
             ],
             [
              1,
              "#f0f921"
             ]
            ],
            "type": "histogram2d"
           }
          ],
          "histogram2dcontour": [
           {
            "colorbar": {
             "outlinewidth": 0,
             "ticks": ""
            },
            "colorscale": [
             [
              0,
              "#0d0887"
             ],
             [
              0.1111111111111111,
              "#46039f"
             ],
             [
              0.2222222222222222,
              "#7201a8"
             ],
             [
              0.3333333333333333,
              "#9c179e"
             ],
             [
              0.4444444444444444,
              "#bd3786"
             ],
             [
              0.5555555555555556,
              "#d8576b"
             ],
             [
              0.6666666666666666,
              "#ed7953"
             ],
             [
              0.7777777777777778,
              "#fb9f3a"
             ],
             [
              0.8888888888888888,
              "#fdca26"
             ],
             [
              1,
              "#f0f921"
             ]
            ],
            "type": "histogram2dcontour"
           }
          ],
          "mesh3d": [
           {
            "colorbar": {
             "outlinewidth": 0,
             "ticks": ""
            },
            "type": "mesh3d"
           }
          ],
          "parcoords": [
           {
            "line": {
             "colorbar": {
              "outlinewidth": 0,
              "ticks": ""
             }
            },
            "type": "parcoords"
           }
          ],
          "pie": [
           {
            "automargin": true,
            "type": "pie"
           }
          ],
          "scatter": [
           {
            "marker": {
             "colorbar": {
              "outlinewidth": 0,
              "ticks": ""
             }
            },
            "type": "scatter"
           }
          ],
          "scatter3d": [
           {
            "line": {
             "colorbar": {
              "outlinewidth": 0,
              "ticks": ""
             }
            },
            "marker": {
             "colorbar": {
              "outlinewidth": 0,
              "ticks": ""
             }
            },
            "type": "scatter3d"
           }
          ],
          "scattercarpet": [
           {
            "marker": {
             "colorbar": {
              "outlinewidth": 0,
              "ticks": ""
             }
            },
            "type": "scattercarpet"
           }
          ],
          "scattergeo": [
           {
            "marker": {
             "colorbar": {
              "outlinewidth": 0,
              "ticks": ""
             }
            },
            "type": "scattergeo"
           }
          ],
          "scattergl": [
           {
            "marker": {
             "colorbar": {
              "outlinewidth": 0,
              "ticks": ""
             }
            },
            "type": "scattergl"
           }
          ],
          "scattermapbox": [
           {
            "marker": {
             "colorbar": {
              "outlinewidth": 0,
              "ticks": ""
             }
            },
            "type": "scattermapbox"
           }
          ],
          "scatterpolar": [
           {
            "marker": {
             "colorbar": {
              "outlinewidth": 0,
              "ticks": ""
             }
            },
            "type": "scatterpolar"
           }
          ],
          "scatterpolargl": [
           {
            "marker": {
             "colorbar": {
              "outlinewidth": 0,
              "ticks": ""
             }
            },
            "type": "scatterpolargl"
           }
          ],
          "scatterternary": [
           {
            "marker": {
             "colorbar": {
              "outlinewidth": 0,
              "ticks": ""
             }
            },
            "type": "scatterternary"
           }
          ],
          "surface": [
           {
            "colorbar": {
             "outlinewidth": 0,
             "ticks": ""
            },
            "colorscale": [
             [
              0,
              "#0d0887"
             ],
             [
              0.1111111111111111,
              "#46039f"
             ],
             [
              0.2222222222222222,
              "#7201a8"
             ],
             [
              0.3333333333333333,
              "#9c179e"
             ],
             [
              0.4444444444444444,
              "#bd3786"
             ],
             [
              0.5555555555555556,
              "#d8576b"
             ],
             [
              0.6666666666666666,
              "#ed7953"
             ],
             [
              0.7777777777777778,
              "#fb9f3a"
             ],
             [
              0.8888888888888888,
              "#fdca26"
             ],
             [
              1,
              "#f0f921"
             ]
            ],
            "type": "surface"
           }
          ],
          "table": [
           {
            "cells": {
             "fill": {
              "color": "#EBF0F8"
             },
             "line": {
              "color": "white"
             }
            },
            "header": {
             "fill": {
              "color": "#C8D4E3"
             },
             "line": {
              "color": "white"
             }
            },
            "type": "table"
           }
          ]
         },
         "layout": {
          "annotationdefaults": {
           "arrowcolor": "#2a3f5f",
           "arrowhead": 0,
           "arrowwidth": 1
          },
          "autotypenumbers": "strict",
          "coloraxis": {
           "colorbar": {
            "outlinewidth": 0,
            "ticks": ""
           }
          },
          "colorscale": {
           "diverging": [
            [
             0,
             "#8e0152"
            ],
            [
             0.1,
             "#c51b7d"
            ],
            [
             0.2,
             "#de77ae"
            ],
            [
             0.3,
             "#f1b6da"
            ],
            [
             0.4,
             "#fde0ef"
            ],
            [
             0.5,
             "#f7f7f7"
            ],
            [
             0.6,
             "#e6f5d0"
            ],
            [
             0.7,
             "#b8e186"
            ],
            [
             0.8,
             "#7fbc41"
            ],
            [
             0.9,
             "#4d9221"
            ],
            [
             1,
             "#276419"
            ]
           ],
           "sequential": [
            [
             0,
             "#0d0887"
            ],
            [
             0.1111111111111111,
             "#46039f"
            ],
            [
             0.2222222222222222,
             "#7201a8"
            ],
            [
             0.3333333333333333,
             "#9c179e"
            ],
            [
             0.4444444444444444,
             "#bd3786"
            ],
            [
             0.5555555555555556,
             "#d8576b"
            ],
            [
             0.6666666666666666,
             "#ed7953"
            ],
            [
             0.7777777777777778,
             "#fb9f3a"
            ],
            [
             0.8888888888888888,
             "#fdca26"
            ],
            [
             1,
             "#f0f921"
            ]
           ],
           "sequentialminus": [
            [
             0,
             "#0d0887"
            ],
            [
             0.1111111111111111,
             "#46039f"
            ],
            [
             0.2222222222222222,
             "#7201a8"
            ],
            [
             0.3333333333333333,
             "#9c179e"
            ],
            [
             0.4444444444444444,
             "#bd3786"
            ],
            [
             0.5555555555555556,
             "#d8576b"
            ],
            [
             0.6666666666666666,
             "#ed7953"
            ],
            [
             0.7777777777777778,
             "#fb9f3a"
            ],
            [
             0.8888888888888888,
             "#fdca26"
            ],
            [
             1,
             "#f0f921"
            ]
           ]
          },
          "colorway": [
           "#636efa",
           "#EF553B",
           "#00cc96",
           "#ab63fa",
           "#FFA15A",
           "#19d3f3",
           "#FF6692",
           "#B6E880",
           "#FF97FF",
           "#FECB52"
          ],
          "font": {
           "color": "#2a3f5f"
          },
          "geo": {
           "bgcolor": "white",
           "lakecolor": "white",
           "landcolor": "white",
           "showlakes": true,
           "showland": true,
           "subunitcolor": "#C8D4E3"
          },
          "hoverlabel": {
           "align": "left"
          },
          "hovermode": "closest",
          "mapbox": {
           "style": "light"
          },
          "paper_bgcolor": "white",
          "plot_bgcolor": "white",
          "polar": {
           "angularaxis": {
            "gridcolor": "#EBF0F8",
            "linecolor": "#EBF0F8",
            "ticks": ""
           },
           "bgcolor": "white",
           "radialaxis": {
            "gridcolor": "#EBF0F8",
            "linecolor": "#EBF0F8",
            "ticks": ""
           }
          },
          "scene": {
           "xaxis": {
            "backgroundcolor": "white",
            "gridcolor": "#DFE8F3",
            "gridwidth": 2,
            "linecolor": "#EBF0F8",
            "showbackground": true,
            "ticks": "",
            "zerolinecolor": "#EBF0F8"
           },
           "yaxis": {
            "backgroundcolor": "white",
            "gridcolor": "#DFE8F3",
            "gridwidth": 2,
            "linecolor": "#EBF0F8",
            "showbackground": true,
            "ticks": "",
            "zerolinecolor": "#EBF0F8"
           },
           "zaxis": {
            "backgroundcolor": "white",
            "gridcolor": "#DFE8F3",
            "gridwidth": 2,
            "linecolor": "#EBF0F8",
            "showbackground": true,
            "ticks": "",
            "zerolinecolor": "#EBF0F8"
           }
          },
          "shapedefaults": {
           "line": {
            "color": "#2a3f5f"
           }
          },
          "ternary": {
           "aaxis": {
            "gridcolor": "#DFE8F3",
            "linecolor": "#A2B1C6",
            "ticks": ""
           },
           "baxis": {
            "gridcolor": "#DFE8F3",
            "linecolor": "#A2B1C6",
            "ticks": ""
           },
           "bgcolor": "white",
           "caxis": {
            "gridcolor": "#DFE8F3",
            "linecolor": "#A2B1C6",
            "ticks": ""
           }
          },
          "title": {
           "x": 0.05
          },
          "xaxis": {
           "automargin": true,
           "gridcolor": "#EBF0F8",
           "linecolor": "#EBF0F8",
           "ticks": "",
           "title": {
            "standoff": 15
           },
           "zerolinecolor": "#EBF0F8",
           "zerolinewidth": 2
          },
          "yaxis": {
           "automargin": true,
           "gridcolor": "#EBF0F8",
           "linecolor": "#EBF0F8",
           "ticks": "",
           "title": {
            "standoff": 15
           },
           "zerolinecolor": "#EBF0F8",
           "zerolinewidth": 2
          }
         }
        },
        "title": {
         "font": {
          "color": "Black",
          "size": 22
         },
         "text": "<b>Topic Word Scores",
         "x": 0.15,
         "xanchor": "center",
         "y": 0.95,
         "yanchor": "top"
        },
        "width": 800,
        "xaxis": {
         "anchor": "y",
         "domain": [
          0,
          0.2333333333333333
         ],
         "matches": "x4",
         "showgrid": true,
         "showticklabels": false
        },
        "xaxis2": {
         "anchor": "y2",
         "domain": [
          0.3833333333333333,
          0.6166666666666666
         ],
         "matches": "x5",
         "showgrid": true,
         "showticklabels": false
        },
        "xaxis3": {
         "anchor": "y3",
         "domain": [
          0.7666666666666666,
          0.9999999999999999
         ],
         "matches": "x6",
         "showgrid": true,
         "showticklabels": false
        },
        "xaxis4": {
         "anchor": "y4",
         "domain": [
          0,
          0.2333333333333333
         ],
         "showgrid": true
        },
        "xaxis5": {
         "anchor": "y5",
         "domain": [
          0.3833333333333333,
          0.6166666666666666
         ],
         "showgrid": true
        },
        "xaxis6": {
         "anchor": "y6",
         "domain": [
          0.7666666666666666,
          0.9999999999999999
         ],
         "showgrid": true
        },
        "yaxis": {
         "anchor": "x",
         "domain": [
          0.575,
          1
         ],
         "showgrid": true
        },
        "yaxis2": {
         "anchor": "x2",
         "domain": [
          0.575,
          1
         ],
         "showgrid": true
        },
        "yaxis3": {
         "anchor": "x3",
         "domain": [
          0.575,
          1
         ],
         "showgrid": true
        },
        "yaxis4": {
         "anchor": "x4",
         "domain": [
          0,
          0.425
         ],
         "showgrid": true
        },
        "yaxis5": {
         "anchor": "x5",
         "domain": [
          0,
          0.425
         ],
         "showgrid": true
        },
        "yaxis6": {
         "anchor": "x6",
         "domain": [
          0,
          0.425
         ],
         "showgrid": true
        }
       }
      }
     },
     "metadata": {}
    }
   ],
   "metadata": {}
  },
  {
   "cell_type": "markdown",
   "source": [
    "## Topics evolution over the span of the years (time-dependent model)"
   ],
   "metadata": {}
  },
  {
   "cell_type": "code",
   "execution_count": 17,
   "source": [
    "docs = df.query('corpus_name == \"Stroop Task\"')['preprocessed_abstract'].to_list()\n",
    "years = df.query('corpus_name == \"Stroop Task\"')['year'].to_list()\n",
    "topics = stroop_topic_model[1]\n",
    "topics_over_time = stroop_topic_model[0].topics_over_time(docs, topics, years)#, datetime_format='%b')\n",
    "stroop_topic_model[0].visualize_topics_over_time(topics_over_time, top_n_topics=20)"
   ],
   "outputs": [
    {
     "output_type": "stream",
     "name": "stderr",
     "text": [
      "60it [02:18,  2.31s/it]\n"
     ]
    },
    {
     "output_type": "display_data",
     "data": {
      "application/vnd.plotly.v1+json": {
       "config": {
        "plotlyServerURL": "https://plot.ly"
       },
       "data": [
        {
         "hoverinfo": "text",
         "hovertext": [
          "<b>Topic 2</b><br>Words: color, association, interference, semantic, colorword",
          "<b>Topic 2</b><br>Words: stud, incompleteness, treisman, mappropnateness, lyperimental",
          "<b>Topic 2</b><br>Words: xs, false, clark, disagreement, paperdiscuss",
          "<b>Topic 2</b><br>Words: retarded, retard, colorword, colorink, responseinitiation",
          "<b>Topic 2</b><br>Words: nameink, finger, ask, randomsequence, colorink",
          "<b>Topic 2</b><br>Words: card, inconsistent, consistent, colorname, rating",
          "<b>Topic 2</b><br>Words: noncongruent, colorword, preresponse, stimulus, theme",
          "<b>Topic 2</b><br>Words: pictureword, vocal, categorization, articulatory, color",
          "<b>Topic 2</b><br>Words: color, confound, colorname, itemitem, appear",
          "<b>Topic 2</b><br>Words: judgment, pictureword, processing, dog, semantic",
          "<b>Topic 2</b><br>Words: color, sexdifference, sex, setsize, wordcolor",
          "<b>Topic 2</b><br>Words: articulation, phonology, categorize, lexical, cuedrecall",
          "<b>Topic 2</b><br>Words: output, neutralword, colorname, responsetime, colorpatch",
          "<b>Topic 2</b><br>Words: scripttype, distractorword, color, namecolor, colornaming",
          "<b>Topic 2</b><br>Words: lexicon, articulatory, seriesexperiment, observer, color",
          "<b>Topic 2</b><br>Words: semantic, distractor, wordness, incongruentcolor, semanticrelatedness",
          "<b>Topic 2</b><br>Words: colour, responsekey, interference, color, nameink",
          "<b>Topic 2</b><br>Words: hh, lh, picturename, logogen, isis",
          "<b>Topic 2</b><br>Words: distractor, semanticcategory, mismatch, color, discriminable",
          "<b>Topic 2</b><br>Words: glaser, color, colorword, pictureword, relevantstimulus",
          "<b>Topic 2</b><br>Words: color, recall, colorname, learning, printincongruent",
          "<b>Topic 2</b><br>Words: proofreader, delusion, colourword, delusional, proofreading",
          "<b>Topic 2</b><br>Words: inkcolor, incongruous, color, colornaming, wordread",
          "<b>Topic 2</b><br>Words: direction, arrowword, responsecompatibility, responseset, vocally",
          "<b>Topic 2</b><br>Words: caffeine, contextually, lexicalsemantic, colorword, wordrecognition",
          "<b>Topic 2</b><br>Words: homophone, colorcharacter, tone, color, colornaming",
          "<b>Topic 2</b><br>Words: arabicdigit, vocalization, perceptualpriming, semantic, naming",
          "<b>Topic 2</b><br>Words: word, semantic, mouth, syllable, semanticpriming",
          "<b>Topic 2</b><br>Words: color, reversestroop, banana, printcolor, colorshape",
          "<b>Topic 2</b><br>Words: alphabetic, color, characters, print, semanticprocessing",
          "<b>Topic 2</b><br>Words: color, blue, semantically, colour, cvc",
          "<b>Topic 2</b><br>Words: color, responseset, judgment, colorword, neutralword",
          "<b>Topic 2</b><br>Words: pictureword, partialawareness, orientation, distractorword, pwieffect",
          "<b>Topic 2</b><br>Words: rime, gpcunit, color, gpc, stroopinterference",
          "<b>Topic 2</b><br>Words: incongruentitem, colorword, colorbar, color, linguisticcue",
          "<b>Topic 2</b><br>Words: word, color, homophone, colorword, lexical",
          "<b>Topic 2</b><br>Words: itemspecific, color, namecolor, colorword, wordreading",
          "<b>Topic 2</b><br>Words: word, color, bwls, purple, responseexclusion",
          "<b>Topic 2</b><br>Words: affiliation, color, proportioncongruency, stroopinterference, sns",
          "<b>Topic 2</b><br>Words: symboltext, word, color, format, lexicalsemantic",
          "<b>Topic 2</b><br>Words: selectiveinhibition, semanticblocking, color, speechstream, spatialattention",
          "<b>Topic 2</b><br>Words: printcolor, color, pseudohomophone, orthographic, lexical",
          "<b>Topic 2</b><br>Words: phoneticradical, color, ambiguousword, semantic, colorcharacter",
          "<b>Topic 2</b><br>Words: semantic, semanticactivation, color, word, language",
          "<b>Topic 2</b><br>Words: semanticinterference, phonological, orthographicinformation, responseset, vocalresponse",
          "<b>Topic 2</b><br>Words: conflictfrequency, color, contingencylearn, contingency, feature",
          "<b>Topic 2</b><br>Words: inkcolour, readability, music, color, responseexclusion"
         ],
         "marker": {
          "color": "#E69F00"
         },
         "mode": "lines",
         "name": "2_color_experiment_semantic_colorword",
         "type": "scatter",
         "x": [
          "1967-01-01T00:00:00",
          "1973-01-01T00:00:00",
          "1974-01-01T00:00:00",
          "1976-01-01T00:00:00",
          "1977-01-01T00:00:00",
          "1978-01-01T00:00:00",
          "1979-01-01T00:00:00",
          "1980-01-01T00:00:00",
          "1981-01-01T00:00:00",
          "1982-01-01T00:00:00",
          "1983-01-01T00:00:00",
          "1984-01-01T00:00:00",
          "1985-01-01T00:00:00",
          "1988-01-01T00:00:00",
          "1989-01-01T00:00:00",
          "1990-01-01T00:00:00",
          "1991-01-01T00:00:00",
          "1992-01-01T00:00:00",
          "1993-01-01T00:00:00",
          "1994-01-01T00:00:00",
          "1995-01-01T00:00:00",
          "1996-01-01T00:00:00",
          "1997-01-01T00:00:00",
          "1998-01-01T00:00:00",
          "1999-01-01T00:00:00",
          "2000-01-01T00:00:00",
          "2001-01-01T00:00:00",
          "2002-01-01T00:00:00",
          "2003-01-01T00:00:00",
          "2004-01-01T00:00:00",
          "2005-01-01T00:00:00",
          "2006-01-01T00:00:00",
          "2007-01-01T00:00:00",
          "2008-01-01T00:00:00",
          "2009-01-01T00:00:00",
          "2010-01-01T00:00:00",
          "2011-01-01T00:00:00",
          "2012-01-01T00:00:00",
          "2013-01-01T00:00:00",
          "2014-01-01T00:00:00",
          "2015-01-01T00:00:00",
          "2016-01-01T00:00:00",
          "2017-01-01T00:00:00",
          "2018-01-01T00:00:00",
          "2019-01-01T00:00:00",
          "2020-01-01T00:00:00",
          "2021-01-01T00:00:00"
         ],
         "y": [
          1,
          1,
          2,
          1,
          1,
          1,
          2,
          5,
          1,
          1,
          4,
          3,
          2,
          3,
          3,
          4,
          4,
          2,
          4,
          4,
          2,
          3,
          3,
          5,
          4,
          3,
          8,
          9,
          5,
          5,
          7,
          11,
          9,
          9,
          8,
          14,
          6,
          10,
          10,
          13,
          10,
          9,
          11,
          7,
          12,
          11,
          7
         ]
        },
        {
         "hoverinfo": "text",
         "hovertext": [
          "<b>Topic 11</b><br>Words: age, agerelate, oldadult, aging, adult",
          "<b>Topic 11</b><br>Words: cautiousness, cautious, oldadult, performancedecrement, age",
          "<b>Topic 11</b><br>Words: automaticprocess, oldadult, arithmetical, meanage, youngsubject",
          "<b>Topic 11</b><br>Words: color, speculation, advanceage, wordprint, colorword",
          "<b>Topic 11</b><br>Words: automaticprocess, stroopinterference, extensivepractice, youngadult, developnew",
          "<b>Topic 11</b><br>Words: agerelate, age, inhibitoryefficiency, workmemory, inhibition",
          "<b>Topic 11</b><br>Words: cardversion, computerisedversion, oldadult, practiceeffect, inhibitory",
          "<b>Topic 11</b><br>Words: suppression, episodicretrieval, oldadult, occipitalregion, frontalparietal",
          "<b>Topic 11</b><br>Words: rsop, oldadult, circadian, synchrony, agerelate",
          "<b>Topic 11</b><br>Words: ageyr, youngadult, oldadult, language, grownumber",
          "<b>Topic 11</b><br>Words: age, youngelderly, elderly, agerelate, elderlysubject",
          "<b>Topic 11</b><br>Words: contrastsensitivity, acuity, card, oldindividual, agerelate",
          "<b>Topic 11</b><br>Words: intrude, age, agerelate, oldparticipant, attentionalcontrol",
          "<b>Topic 11</b><br>Words: subitize, subitizing, focusattention, age, remainconstant",
          "<b>Topic 11</b><br>Words: agerelate, aging, decline, geneticvariation, conflictprocessing",
          "<b>Topic 11</b><br>Words: gaboxadol, oldadult, age, sleep, agerelate",
          "<b>Topic 11</b><br>Words: age, cognitiveaging, context, normativedatum, agerelate",
          "<b>Topic 11</b><br>Words: inconsistency, agerelate, teller, oldadult, cardsort",
          "<b>Topic 11</b><br>Words: frontalcortex, inhibitory, frontal, negativepriming, inhibition",
          "<b>Topic 11</b><br>Words: agerelate, age, attentionalfocus, oldage, elderly",
          "<b>Topic 11</b><br>Words: colorperception, agerelate, colorvision, clinicalapplication, age",
          "<b>Topic 11</b><br>Words: agerelate, oldnew, youngadult, age, shift",
          "<b>Topic 11</b><br>Words: agerelate, oldadult, proprioceptive, aging, age",
          "<b>Topic 11</b><br>Words: rsi, oldadult, youngadult, agerelate, practice",
          "<b>Topic 11</b><br>Words: agerelate, age, elderly, distractinformation, oldadult",
          "<b>Topic 11</b><br>Words: active, age, senior, agerelate, oldadult",
          "<b>Topic 11</b><br>Words: cognitivestatus, age, adult, neuralresource, aging",
          "<b>Topic 11</b><br>Words: agerelate, thetaeeg, age, cognitiveload, eeg",
          "<b>Topic 11</b><br>Words: age, oldadult, youngadult, agerelate, stroopinterference",
          "<b>Topic 11</b><br>Words: agerelate, age, training, oldadult, oldyoung",
          "<b>Topic 11</b><br>Words: autocorrect, age, oldadult, agerelate, distractor",
          "<b>Topic 11</b><br>Words: oldadult, nonmusician, age, musician, agerelate"
         ],
         "marker": {
          "color": "#56B4E9"
         },
         "mode": "lines",
         "name": "11_agerelate_age_oldadult_aging",
         "type": "scatter",
         "x": [
          "1970-01-01T00:00:00",
          "1987-01-01T00:00:00",
          "1991-01-01T00:00:00",
          "1993-01-01T00:00:00",
          "1994-01-01T00:00:00",
          "1995-01-01T00:00:00",
          "1996-01-01T00:00:00",
          "1997-01-01T00:00:00",
          "1998-01-01T00:00:00",
          "1999-01-01T00:00:00",
          "2000-01-01T00:00:00",
          "2001-01-01T00:00:00",
          "2002-01-01T00:00:00",
          "2003-01-01T00:00:00",
          "2004-01-01T00:00:00",
          "2005-01-01T00:00:00",
          "2006-01-01T00:00:00",
          "2007-01-01T00:00:00",
          "2008-01-01T00:00:00",
          "2009-01-01T00:00:00",
          "2010-01-01T00:00:00",
          "2011-01-01T00:00:00",
          "2012-01-01T00:00:00",
          "2013-01-01T00:00:00",
          "2014-01-01T00:00:00",
          "2015-01-01T00:00:00",
          "2016-01-01T00:00:00",
          "2017-01-01T00:00:00",
          "2018-01-01T00:00:00",
          "2019-01-01T00:00:00",
          "2020-01-01T00:00:00",
          "2021-01-01T00:00:00"
         ],
         "y": [
          1,
          1,
          1,
          1,
          1,
          3,
          2,
          3,
          2,
          2,
          3,
          2,
          4,
          2,
          3,
          6,
          2,
          3,
          1,
          4,
          1,
          4,
          7,
          3,
          4,
          3,
          3,
          6,
          7,
          3,
          6,
          5
         ]
        },
        {
         "hoverinfo": "text",
         "hovertext": [
          "<b>Topic 0</b><br>Words: menstruate, shock, arousal, menstruction, upset",
          "<b>Topic 0</b><br>Words: db, arousallevel, althouth, noise, pathway",
          "<b>Topic 0</b><br>Words: thoughtdisorder, visualfield, bias, distractibility, responsecompetition",
          "<b>Topic 0</b><br>Words: overdose, spider, desensitization, spiderword, attemptsuicide",
          "<b>Topic 0</b><br>Words: anxious, biasthreat, paranoid, threatword, threat",
          "<b>Topic 0</b><br>Words: panicdisorder, threat, euphoria, heartbeat, threatinformation",
          "<b>Topic 0</b><br>Words: threatword, anxious, emotionality, threatrelate, anxiety",
          "<b>Topic 0</b><br>Words: traitanxiety, emotional, socialphobic, panicdisorder, mood",
          "<b>Topic 0</b><br>Words: hostility, mood, socialphobic, traitanxious, neurotic",
          "<b>Topic 0</b><br>Words: threatword, panic, traitanxiety, anxiety, anxious",
          "<b>Topic 0</b><br>Words: bias, depression, anxious, emotionalstate, emotional",
          "<b>Topic 0</b><br>Words: hypomanic, anxiety, hypomania, emotionalstroop, personality",
          "<b>Topic 0</b><br>Words: spiderphobic, spiderword, phobic, spider, anxious",
          "<b>Topic 0</b><br>Words: acad, anxioussubject, anxiety, affectivelyneutral, angryneutral",
          "<b>Topic 0</b><br>Words: phobia, disgust, panicrelate, amygdala, socialphobia",
          "<b>Topic 0</b><br>Words: anxietysensitivity, anxiety, face, emotionalstroop, hivrelate",
          "<b>Topic 0</b><br>Words: emotionalstroop, timepressure, panicpatient, experimentalmanipulation, behavioraltherapy",
          "<b>Topic 0</b><br>Words: disgust, emotionalstroop, anxiety, emotion, anxious",
          "<b>Topic 0</b><br>Words: socialphobia, attentionalbias, attachment, emotionalstroop, anxietysymptom",
          "<b>Topic 0</b><br>Words: emotional, emotionalstroop, emotion, anxiety, phobic",
          "<b>Topic 0</b><br>Words: emotional, emotionalstroop, anxiety, fear, ocd",
          "<b>Topic 0</b><br>Words: emotionalstroop, emotion, emotional, socialanxiety, anxiety",
          "<b>Topic 0</b><br>Words: emotion, emotionalstroop, emotional, angerface, anxiety",
          "<b>Topic 0</b><br>Words: emotionalstroop, emotion, emotional, attentionalbias, spiderphobic",
          "<b>Topic 0</b><br>Words: emotionalstroop, emotion, emotional, anxiety, attentionalbias",
          "<b>Topic 0</b><br>Words: emotion, emotionalstroop, emotional, emotionregulation, anxiety",
          "<b>Topic 0</b><br>Words: emotionalstroop, emotional, attentionalbias, emotion, affective",
          "<b>Topic 0</b><br>Words: emotionalstroop, emotion, emotional, bias, anxiety",
          "<b>Topic 0</b><br>Words: emotionalstroop, emotion, attentionalbias, emotional, anxiety",
          "<b>Topic 0</b><br>Words: emotion, emotionalstroop, emotional, attentionalbias, anxiety",
          "<b>Topic 0</b><br>Words: emotionalstroop, emotion, emotional, socialanxiety, attentionalbias",
          "<b>Topic 0</b><br>Words: emotional, emotionalstroop, emotion, affective, emotionalword",
          "<b>Topic 0</b><br>Words: emotion, emotionalstroop, emotional, attentionalbias, anxiety",
          "<b>Topic 0</b><br>Words: emotionalstroop, emotional, emotion, emotionalword, intoleranceuncertainty",
          "<b>Topic 0</b><br>Words: emotion, anxiety, emotionalstroop, emotional, emotionaldistractor",
          "<b>Topic 0</b><br>Words: face, emotional, emotionalstroop, emotion, anxiety",
          "<b>Topic 0</b><br>Words: powerindividual, emotion, emotionalstroop, emotional, emotionalstimulus"
         ],
         "marker": {
          "color": "#009E73"
         },
         "mode": "lines",
         "name": "0_emotionalstroop_emotion_emotional_anxi...",
         "type": "scatter",
         "x": [
          "1976-01-01T00:00:00",
          "1977-01-01T00:00:00",
          "1985-01-01T00:00:00",
          "1986-01-01T00:00:00",
          "1989-01-01T00:00:00",
          "1990-01-01T00:00:00",
          "1991-01-01T00:00:00",
          "1992-01-01T00:00:00",
          "1993-01-01T00:00:00",
          "1994-01-01T00:00:00",
          "1995-01-01T00:00:00",
          "1996-01-01T00:00:00",
          "1997-01-01T00:00:00",
          "1998-01-01T00:00:00",
          "1999-01-01T00:00:00",
          "2000-01-01T00:00:00",
          "2001-01-01T00:00:00",
          "2002-01-01T00:00:00",
          "2003-01-01T00:00:00",
          "2004-01-01T00:00:00",
          "2005-01-01T00:00:00",
          "2006-01-01T00:00:00",
          "2007-01-01T00:00:00",
          "2008-01-01T00:00:00",
          "2009-01-01T00:00:00",
          "2010-01-01T00:00:00",
          "2011-01-01T00:00:00",
          "2012-01-01T00:00:00",
          "2013-01-01T00:00:00",
          "2014-01-01T00:00:00",
          "2015-01-01T00:00:00",
          "2016-01-01T00:00:00",
          "2017-01-01T00:00:00",
          "2018-01-01T00:00:00",
          "2019-01-01T00:00:00",
          "2020-01-01T00:00:00",
          "2021-01-01T00:00:00"
         ],
         "y": [
          1,
          1,
          2,
          2,
          3,
          3,
          1,
          4,
          6,
          6,
          7,
          4,
          9,
          4,
          7,
          9,
          6,
          11,
          18,
          17,
          14,
          21,
          22,
          15,
          32,
          39,
          29,
          33,
          37,
          37,
          23,
          27,
          36,
          32,
          25,
          31,
          13
         ]
        },
        {
         "hoverinfo": "text",
         "hovertext": [
          "<b>Topic 8</b><br>Words: alcohol, drug, nitrazepam, psychotrope, methaqualone",
          "<b>Topic 8</b><br>Words: alcoholrelate, alcoholabuser, alcohol, mediofrontal, hypometabolism",
          "<b>Topic 8</b><br>Words: socialdrinker, heavydrinker, alcoholrelate, alcohol, dependentdrinker",
          "<b>Topic 8</b><br>Words: alcohol, alcoholrelate, audit, controlgroup, drinking",
          "<b>Topic 8</b><br>Words: alcohol, alcoholrelate, alcoholabuser, previousdetoxification, alcoholic",
          "<b>Topic 8</b><br>Words: alcohol, beverage, alcoholic, alcoholrelate, drinking",
          "<b>Topic 8</b><br>Words: alcohol, alcoholic, alcoholrelate, alcoholdependence, drinking",
          "<b>Topic 8</b><br>Words: cognitivedeficit, alcoholdependent, alcoholrelate, cerebellar, alcoholdependence",
          "<b>Topic 8</b><br>Words: alcohol, alcoholrelate, alcoholconsumption, alcoholism, alcoholintake",
          "<b>Topic 8</b><br>Words: alcohol, drinking, alcoholcue, alcoholrelate, alcoholic",
          "<b>Topic 8</b><br>Words: alcohol, drinker, alcoholrelate, alcoholconsumption, alcoholic",
          "<b>Topic 8</b><br>Words: alcohol, harmfuldrinker, alcoholrelate, alcoholdependent, alcoholconsumption",
          "<b>Topic 8</b><br>Words: withdrawal, alcoholic, alcoholdependent, alcohol, alcoholism",
          "<b>Topic 8</b><br>Words: alcohol, impulsivedecision, drinker, alcoholrelate, alcoholuse",
          "<b>Topic 8</b><br>Words: alcohol, alcoholconsumption, alcoholrelate, drinking, alcoholic",
          "<b>Topic 8</b><br>Words: alcohol, alcoholrelate, alcoholdependent, drinker, alcoholic",
          "<b>Topic 8</b><br>Words: alcohol, alcoholrelate, alcoholdependent, drinking, alcoholconsumption",
          "<b>Topic 8</b><br>Words: alcoholrelate, alcohol, alcoholconsumption, drinking, alcoholuse",
          "<b>Topic 8</b><br>Words: alcohol, alcoholrelate, alcoholconsumption, beer, drinking",
          "<b>Topic 8</b><br>Words: drinking, alcohol, selfregulation, alcoholconsumption, alcoholrelate",
          "<b>Topic 8</b><br>Words: alcohol, drinking, alcoholrelate, alcoholhangover, drink",
          "<b>Topic 8</b><br>Words: alcohol, alcoholic, alcoholicliver, appetitive, alcoholconsumption",
          "<b>Topic 8</b><br>Words: bingedrinking, alcohol, alcoholic, alcoholuse, alcoholconsumption",
          "<b>Topic 8</b><br>Words: alcohol, liquid, responseinitiation, diet, inhibition"
         ],
         "marker": {
          "color": "#F0E442"
         },
         "mode": "lines",
         "name": "8_alcohol_alcoholrelate_drinking_alcohol...",
         "type": "scatter",
         "x": [
          "1977-01-01T00:00:00",
          "1998-01-01T00:00:00",
          "1999-01-01T00:00:00",
          "2001-01-01T00:00:00",
          "2002-01-01T00:00:00",
          "2003-01-01T00:00:00",
          "2004-01-01T00:00:00",
          "2005-01-01T00:00:00",
          "2006-01-01T00:00:00",
          "2007-01-01T00:00:00",
          "2008-01-01T00:00:00",
          "2009-01-01T00:00:00",
          "2010-01-01T00:00:00",
          "2011-01-01T00:00:00",
          "2012-01-01T00:00:00",
          "2013-01-01T00:00:00",
          "2014-01-01T00:00:00",
          "2015-01-01T00:00:00",
          "2016-01-01T00:00:00",
          "2017-01-01T00:00:00",
          "2018-01-01T00:00:00",
          "2019-01-01T00:00:00",
          "2020-01-01T00:00:00",
          "2021-01-01T00:00:00"
         ],
         "y": [
          1,
          2,
          1,
          3,
          5,
          3,
          7,
          1,
          8,
          7,
          6,
          6,
          2,
          3,
          10,
          13,
          8,
          7,
          7,
          3,
          5,
          7,
          3,
          3
         ]
        },
        {
         "hoverinfo": "text",
         "hovertext": [
          "<b>Topic 14</b><br>Words: ignore, distract, distractor, distractstimulus, habituation",
          "<b>Topic 14</b><br>Words: parafoveal, distractor, eye, peripheral, periphery",
          "<b>Topic 14</b><br>Words: specificity, vep, attentionalset, mechanism, selective",
          "<b>Topic 14</b><br>Words: precedence, localglobal, discriminabilitie, perception, selectiveattention",
          "<b>Topic 14</b><br>Words: distraction, morning, manipulatory, introversion, introvert",
          "<b>Topic 14</b><br>Words: sonar, attentionalskill, experienced, inexperienced, attentionalallocation",
          "<b>Topic 14</b><br>Words: ior, slower, elderlyadult, inhibitionreturn, attentionalsystem",
          "<b>Topic 14</b><br>Words: interval, retrospective, attentiondemand, timing, temporal",
          "<b>Topic 14</b><br>Words: gaze, cue, direction, distractor, orientation",
          "<b>Topic 14</b><br>Words: context, inhibitory, exposureduration, psychophysical, stimulusonset",
          "<b>Topic 14</b><br>Words: contour, attentionalfocus, perceptualload, distractor, face",
          "<b>Topic 14</b><br>Words: distractor, blindness, cue, selectiveattention, stopsignal",
          "<b>Topic 14</b><br>Words: search, orienting, distractor, eeg, focus",
          "<b>Topic 14</b><br>Words: poststimulus, preparatory, prestimulus, position, inferiortemporal",
          "<b>Topic 14</b><br>Words: attentionalcontrol, rp, experiment, semanticpriming, stimulusonset",
          "<b>Topic 14</b><br>Words: gaze, bias, psychophysics, opportunistic, target",
          "<b>Topic 14</b><br>Words: face, compatibilityeffect, orientation, selection, stimulusdimension",
          "<b>Topic 14</b><br>Words: eyecontact, distractor, selectivity, gaze, refrain",
          "<b>Topic 14</b><br>Words: distractor, distraction, gaze, reflex, selectiveattention",
          "<b>Topic 14</b><br>Words: proportionrepeat, gaze, contextspecific, gazedirection, eye",
          "<b>Topic 14</b><br>Words: fixation, stimulusarray, gaze, eyemovement, distractor",
          "<b>Topic 14</b><br>Words: attentionalstate, distractor, distraction, involuntary, experiment",
          "<b>Topic 14</b><br>Words: pwa, reactiveinhibition, expectation, wordproduction, inattentionalblindness",
          "<b>Topic 14</b><br>Words: stimulusonset, advance, cue, biasingattention, selectiveattention",
          "<b>Topic 14</b><br>Words: distraction, perceptualconflict, distracter, attentionalcapture, distract",
          "<b>Topic 14</b><br>Words: attentioncapture, eyegaze, distractor, contextdependent, proportioncongruent",
          "<b>Topic 14</b><br>Words: reorientation, alertness, contrast, distractor, inhibition",
          "<b>Topic 14</b><br>Words: eye, gaze, distractor, peripheral, stimulus"
         ],
         "marker": {
          "color": "#D55E00"
         },
         "mode": "lines",
         "name": "14_distractor_gaze_selectiveattention_st...",
         "type": "scatter",
         "x": [
          "1980-01-01T00:00:00",
          "1981-01-01T00:00:00",
          "1982-01-01T00:00:00",
          "1983-01-01T00:00:00",
          "1992-01-01T00:00:00",
          "1994-01-01T00:00:00",
          "1995-01-01T00:00:00",
          "1999-01-01T00:00:00",
          "2000-01-01T00:00:00",
          "2001-01-01T00:00:00",
          "2003-01-01T00:00:00",
          "2004-01-01T00:00:00",
          "2005-01-01T00:00:00",
          "2006-01-01T00:00:00",
          "2007-01-01T00:00:00",
          "2008-01-01T00:00:00",
          "2009-01-01T00:00:00",
          "2010-01-01T00:00:00",
          "2011-01-01T00:00:00",
          "2012-01-01T00:00:00",
          "2013-01-01T00:00:00",
          "2014-01-01T00:00:00",
          "2015-01-01T00:00:00",
          "2016-01-01T00:00:00",
          "2017-01-01T00:00:00",
          "2018-01-01T00:00:00",
          "2019-01-01T00:00:00",
          "2020-01-01T00:00:00"
         ],
         "y": [
          2,
          1,
          1,
          1,
          2,
          1,
          1,
          1,
          4,
          3,
          5,
          4,
          2,
          1,
          1,
          1,
          3,
          4,
          4,
          6,
          3,
          5,
          3,
          4,
          2,
          3,
          3,
          6
         ]
        },
        {
         "hoverinfo": "text",
         "hovertext": [
          "<b>Topic 1</b><br>Words: shock, familyhistory, essentialhypertension, mentalarithmetic, sympatheticnervous",
          "<b>Topic 1</b><br>Words: fingerpulse, physicalstressor, psychosocialstressor, vascularresponse, coronaryheart",
          "<b>Topic 1</b><br>Words: adrenaline, urinary, plasma, plasmanoradrenaline, urine",
          "<b>Topic 1</b><br>Words: mentalstress, bloodpressure, steadystate, heartrate, sympatheticactivity",
          "<b>Topic 1</b><br>Words: colonicmotility, stressor, stress, irritable, chlordiazepoxide",
          "<b>Topic 1</b><br>Words: pregnancy, physiological, cardiovascular, hypertension, heartrate",
          "<b>Topic 1</b><br>Words: normotensive, hypertensive, bloodpressure, essentialhypertension, hypertension",
          "<b>Topic 1</b><br>Words: myocardialischemia, ischemia, mentalstress, wallmotion, coronaryartery",
          "<b>Topic 1</b><br>Words: adiposetissue, propranolol, stress, bloodpressure, prazosin",
          "<b>Topic 1</b><br>Words: hvpt, hyperventilation, bloodpressure, diastolicpressure, borderlinehypertensive",
          "<b>Topic 1</b><br>Words: stress, heartrate, reabsorption, bloodpressure, resorption",
          "<b>Topic 1</b><br>Words: cholesterol, heartrate, bloodglucose, serum, bloodpressure",
          "<b>Topic 1</b><br>Words: heartrate, bloodpressure, cardiovascularresponse, psychologicalstressor, mentalstress",
          "<b>Topic 1</b><br>Words: stress, musculartension, mentalstress, arterialpressure, stressor",
          "<b>Topic 1</b><br>Words: heartrate, stress, mentalstress, psychologicalstress, bloodpressure",
          "<b>Topic 1</b><br>Words: mentalstress, heartrate, bloodpressure, coldpressor, cardiacoutput",
          "<b>Topic 1</b><br>Words: mentalstress, stress, heartrate, heartfailure, bloodpressure",
          "<b>Topic 1</b><br>Words: ischemia, stress, mentalstress, bloodpressure, stressor",
          "<b>Topic 1</b><br>Words: mentalstress, noradrenaline, noradrenalineoverflow, stressor, psychological",
          "<b>Topic 1</b><br>Words: stress, psychologicalstress, heartrate, anxioussubject, bloodpressure",
          "<b>Topic 1</b><br>Words: stress, heartrate, bloodpressure, bp, mentalstress",
          "<b>Topic 1</b><br>Words: hemodynamic, ecg, betap, insulinresistance, systolicbp",
          "<b>Topic 1</b><br>Words: pyridostigmine, mentalstress, fetal, maternal, stress",
          "<b>Topic 1</b><br>Words: stress, bloodpressure, mentalstress, heartrate, saliva",
          "<b>Topic 1</b><br>Words: mentalstress, bloodpressure, stressor, stress, estrogen",
          "<b>Topic 1</b><br>Words: stress, mentalstress, bloodpressure, heartrate, menopausal",
          "<b>Topic 1</b><br>Words: stress, heartrate, stressor, bloodpressure, mentalstress",
          "<b>Topic 1</b><br>Words: stress, mentalstress, bloodpressure, cortisol, stressorevoke",
          "<b>Topic 1</b><br>Words: stress, mentalstress, sertraline, thermoregulatory, psychologicalstress",
          "<b>Topic 1</b><br>Words: stress, mentalstress, bloodpressure, cardiovascularreactivity, heartrate",
          "<b>Topic 1</b><br>Words: propofol, bloodpressure, mentalstress, stress, heartrate",
          "<b>Topic 1</b><br>Words: stress, mentalstress, bloodpressure, acutestress, hypertension",
          "<b>Topic 1</b><br>Words: stress, mentalstress, heartrate, bloodpressure, stressor",
          "<b>Topic 1</b><br>Words: stress, mentalstress, earlyepc, bp, bloodpressure",
          "<b>Topic 1</b><br>Words: stress, mentalstress, heartrate, bloodpressure, stressor",
          "<b>Topic 1</b><br>Words: mentalstress, stress, msna, heartrate, bloodpressure",
          "<b>Topic 1</b><br>Words: stress, mentalstress, postpartumdepression, coronary, cortisol",
          "<b>Topic 1</b><br>Words: msna, mentalstress, sarcoidosis, stress, bloodpressure",
          "<b>Topic 1</b><br>Words: stress, acutestress, mentalstress, heartrate, copeptin",
          "<b>Topic 1</b><br>Words: stress, mentalstress, heartrate, emg, vasoconstriction",
          "<b>Topic 1</b><br>Words: stress, hn, heartrate, resilience, hns"
         ],
         "marker": {
          "color": "#0072B2"
         },
         "mode": "lines",
         "name": "1_stress_mentalstress_bloodpressure_hear...",
         "type": "scatter",
         "x": [
          "1981-01-01T00:00:00",
          "1982-01-01T00:00:00",
          "1983-01-01T00:00:00",
          "1984-01-01T00:00:00",
          "1985-01-01T00:00:00",
          "1986-01-01T00:00:00",
          "1987-01-01T00:00:00",
          "1988-01-01T00:00:00",
          "1989-01-01T00:00:00",
          "1990-01-01T00:00:00",
          "1991-01-01T00:00:00",
          "1992-01-01T00:00:00",
          "1993-01-01T00:00:00",
          "1994-01-01T00:00:00",
          "1995-01-01T00:00:00",
          "1996-01-01T00:00:00",
          "1997-01-01T00:00:00",
          "1998-01-01T00:00:00",
          "1999-01-01T00:00:00",
          "2000-01-01T00:00:00",
          "2001-01-01T00:00:00",
          "2002-01-01T00:00:00",
          "2003-01-01T00:00:00",
          "2004-01-01T00:00:00",
          "2005-01-01T00:00:00",
          "2006-01-01T00:00:00",
          "2007-01-01T00:00:00",
          "2008-01-01T00:00:00",
          "2009-01-01T00:00:00",
          "2010-01-01T00:00:00",
          "2011-01-01T00:00:00",
          "2012-01-01T00:00:00",
          "2013-01-01T00:00:00",
          "2014-01-01T00:00:00",
          "2015-01-01T00:00:00",
          "2016-01-01T00:00:00",
          "2017-01-01T00:00:00",
          "2018-01-01T00:00:00",
          "2019-01-01T00:00:00",
          "2020-01-01T00:00:00",
          "2021-01-01T00:00:00"
         ],
         "y": [
          1,
          1,
          1,
          3,
          3,
          2,
          2,
          1,
          6,
          4,
          6,
          8,
          7,
          6,
          9,
          10,
          14,
          11,
          4,
          8,
          11,
          2,
          8,
          10,
          9,
          9,
          7,
          6,
          5,
          14,
          11,
          21,
          20,
          10,
          13,
          18,
          15,
          12,
          15,
          12,
          8
         ]
        },
        {
         "hoverinfo": "text",
         "hovertext": [
          "<b>Topic 6</b><br>Words: vegetative, smoker, smoking, cigarettesmoking, smoke",
          "<b>Topic 6</b><br>Words: smoke, smoking, cigarette, nicotine, vasoconstrictive",
          "<b>Topic 6</b><br>Words: scopolamine, antagonistic, nicotine, dose, mgnicotine",
          "<b>Topic 6</b><br>Words: nicotine, nicorette, nicotineadministration, colourword, selectiveattentional",
          "<b>Topic 6</b><br>Words: nicotine, smoking, smoker, smokeless, cigarette",
          "<b>Topic 6</b><br>Words: nicotine, lighter, smoker, cigarettesmoking, smokingrelate",
          "<b>Topic 6</b><br>Words: nicotine, smoker, smoking, motorcoordination, menstruate",
          "<b>Topic 6</b><br>Words: nicotine, smoker, smoking, relief, recall",
          "<b>Topic 6</b><br>Words: smoker, smoking, abstinentsmoker, smokingabstinence, smokingrelate",
          "<b>Topic 6</b><br>Words: nicotine, schizotypal, schizotypy, smoker, smoke",
          "<b>Topic 6</b><br>Words: smoker, cigarette, smoking, smokingrelate, abstain",
          "<b>Topic 6</b><br>Words: smoking, smoker, smokingrelate, cigarette, nicotinedeprive",
          "<b>Topic 6</b><br>Words: smoker, abstinence, smoking, smoke, withdrawalsymptom",
          "<b>Topic 6</b><br>Words: smoker, smokingrelate, smoke, smoking, smokecessation",
          "<b>Topic 6</b><br>Words: nicotine, behavioralinhibition, adolescentadhd, smoker, smokingcessation",
          "<b>Topic 6</b><br>Words: smokingrelate, tobacco, smoker, smokecessation, smokingstatus",
          "<b>Topic 6</b><br>Words: nicotine, smoker, smoking, smokingrelate, smoke",
          "<b>Topic 6</b><br>Words: smoker, smokingrelate, smoking, smoke, cigarette",
          "<b>Topic 6</b><br>Words: nicotine, smoker, smoking, smokingrelate, smoke",
          "<b>Topic 6</b><br>Words: smoker, smoking, nicotine, smokingrelate, marijuanasmoker",
          "<b>Topic 6</b><br>Words: smoker, smoking, smoke, smokingrelate, nicotine",
          "<b>Topic 6</b><br>Words: smoker, smoking, nicotine, smoke, smokingrelate",
          "<b>Topic 6</b><br>Words: smoking, smoker, smokingrelate, nicotine, smoke",
          "<b>Topic 6</b><br>Words: smoker, smoking, cigarette, nicotine, smokingrelate",
          "<b>Topic 6</b><br>Words: smoker, smoking, smoke, smokingrelate, nicotinedependence",
          "<b>Topic 6</b><br>Words: smoking, smoker, nicotine, smokingdrinking, abstinence",
          "<b>Topic 6</b><br>Words: smoker, smoking, tobacco, nicotine, smokingrelate",
          "<b>Topic 6</b><br>Words: smoker, nicotine, smoking, smokecue, nicotinedependence",
          "<b>Topic 6</b><br>Words: smoker, smoking, smoke, smokecessation, attentionalbias",
          "<b>Topic 6</b><br>Words: smoker, smoking, smoke, smokingrelate, nicotinedependence",
          "<b>Topic 6</b><br>Words: hypnoticsuggestion, smoking, smoker, hypnoticsusceptibility, cigarette",
          "<b>Topic 6</b><br>Words: smoker, smoking, quitter, smoke, decline"
         ],
         "marker": {
          "color": "#CC79A7"
         },
         "mode": "lines",
         "name": "6_smoker_smoking_nicotine_smokingrelate",
         "type": "scatter",
         "x": [
          "1982-01-01T00:00:00",
          "1983-01-01T00:00:00",
          "1984-01-01T00:00:00",
          "1991-01-01T00:00:00",
          "1992-01-01T00:00:00",
          "1993-01-01T00:00:00",
          "1994-01-01T00:00:00",
          "1996-01-01T00:00:00",
          "1997-01-01T00:00:00",
          "1999-01-01T00:00:00",
          "2000-01-01T00:00:00",
          "2001-01-01T00:00:00",
          "2002-01-01T00:00:00",
          "2003-01-01T00:00:00",
          "2004-01-01T00:00:00",
          "2005-01-01T00:00:00",
          "2006-01-01T00:00:00",
          "2007-01-01T00:00:00",
          "2008-01-01T00:00:00",
          "2009-01-01T00:00:00",
          "2010-01-01T00:00:00",
          "2011-01-01T00:00:00",
          "2012-01-01T00:00:00",
          "2013-01-01T00:00:00",
          "2014-01-01T00:00:00",
          "2015-01-01T00:00:00",
          "2016-01-01T00:00:00",
          "2017-01-01T00:00:00",
          "2018-01-01T00:00:00",
          "2019-01-01T00:00:00",
          "2020-01-01T00:00:00",
          "2021-01-01T00:00:00"
         ],
         "y": [
          1,
          1,
          1,
          1,
          3,
          1,
          1,
          2,
          2,
          2,
          3,
          4,
          3,
          3,
          2,
          2,
          8,
          7,
          9,
          8,
          6,
          7,
          4,
          5,
          9,
          7,
          10,
          6,
          4,
          1,
          3,
          1
         ]
        },
        {
         "hoverinfo": "text",
         "hovertext": [
          "<b>Topic 5</b><br>Words: schizophrenic, interference, psychodiagnostic, schizophrenicpatient, statisticallysignificant",
          "<b>Topic 5</b><br>Words: schizotypy, schizotypal, schizophrenic, inpatient, negativepriming",
          "<b>Topic 5</b><br>Words: schizophrenic, mesocortical, schizophrenia, dopamine, cognitiveinhibition",
          "<b>Topic 5</b><br>Words: schizophrenic, schizophrenia, cerebralhemisphere, illness, abnormal",
          "<b>Topic 5</b><br>Words: nonlinearchange, dissociative, gradual, readingtime, schizophrenicpatient",
          "<b>Topic 5</b><br>Words: schizophrenic, biologicalmarker, attentionconcentration, schizophrenia, wechslerintelligence",
          "<b>Topic 5</b><br>Words: realitymonitoring, schizophrenicpatient, schizophrenia, alogia, normalcontrol",
          "<b>Topic 5</b><br>Words: schizophrenia, schizotype, patientschizophrenia, neuroleptic, dyslexia",
          "<b>Topic 5</b><br>Words: schizophrenia, patientschizophrenia, dysfunction, retardation, disorganization",
          "<b>Topic 5</b><br>Words: toluene, molecule, schizophrenia, patientschizophrenia, schizophreniapatient",
          "<b>Topic 5</b><br>Words: persistentillness, schizophrenia, disorganization, schizophrenic, schizophrenicpatient",
          "<b>Topic 5</b><br>Words: schizophrenic, schizophrenicpatient, schizophrenia, disorganized, neuroleptic",
          "<b>Topic 5</b><br>Words: schizophrenia, schizophreniapatient, patientschizophrenia, schizophrenic, schizophrenicpatient",
          "<b>Topic 5</b><br>Words: patientschizophrenia, schizophreniapatient, frontalcortex, antipsychotictreatment, prefrontalcortex",
          "<b>Topic 5</b><br>Words: schizophrenia, schizophreniapatient, patientschizophrenia, schizotypal, individualschizophrenia",
          "<b>Topic 5</b><br>Words: schizophrenia, nmdar, patientschizophrenia, schizotypy, psychosis",
          "<b>Topic 5</b><br>Words: schizophrenia, patientschizophrenia, crn, nachr, mec",
          "<b>Topic 5</b><br>Words: schizophrenia, monoamine, patientschizophrenia, psychoticdisorder, attentionalcontrol",
          "<b>Topic 5</b><br>Words: schizophrenia, schizotypy, attentionaldisturbance, patientschizophrenia, negativesymptom",
          "<b>Topic 5</b><br>Words: schizophrenia, cb, patientschizophrenia, rivastigmine, perfusion",
          "<b>Topic 5</b><br>Words: glycine, schizophrenia, scopolamine, glutamatergic, patientschizophrenia",
          "<b>Topic 5</b><br>Words: schizophrenia, coherence, patientschizophrenia, background, schizophreniapatient",
          "<b>Topic 5</b><br>Words: psilocybin, schizophrenia, ketanserin, schizophreniapatient, glutamatergic",
          "<b>Topic 5</b><br>Words: schizophrenia, neuropsychologicalrehabilitation, mep, thalamic, patientschizophrenia",
          "<b>Topic 5</b><br>Words: phenotype, schizophrenia, recessive, genotype, suicidality",
          "<b>Topic 5</b><br>Words: schizophrenia, patientschizophrenia, schizophreniapatient, fmrs, endorphin",
          "<b>Topic 5</b><br>Words: patientschizophrenia, schizophrenia, sz, colornaming, nance",
          "<b>Topic 5</b><br>Words: transcranialdirect, currentstimulation, remit, schizophrenia, patientschizophrenia",
          "<b>Topic 5</b><br>Words: schizophrenia, schizotypal, cognitiveinhibition, patientschizophrenia, schizotypy",
          "<b>Topic 5</b><br>Words: schizophrenia, negftd, mk, patientschizophrenia, md",
          "<b>Topic 5</b><br>Words: schizophrenia, cb, patientschizophrenia, cerebellar, schizophreniapatient",
          "<b>Topic 5</b><br>Words: schizotypy, mfn, cognitivecontrol, schizophrenia, incongruentmi"
         ],
         "marker": {
          "color": "#E69F00"
         },
         "mode": "lines",
         "name": "5_schizophrenia_patientschizophrenia_sch...",
         "type": "scatter",
         "x": [
          "1983-01-01T00:00:00",
          "1989-01-01T00:00:00",
          "1992-01-01T00:00:00",
          "1993-01-01T00:00:00",
          "1994-01-01T00:00:00",
          "1995-01-01T00:00:00",
          "1996-01-01T00:00:00",
          "1997-01-01T00:00:00",
          "1998-01-01T00:00:00",
          "1999-01-01T00:00:00",
          "2000-01-01T00:00:00",
          "2001-01-01T00:00:00",
          "2002-01-01T00:00:00",
          "2003-01-01T00:00:00",
          "2004-01-01T00:00:00",
          "2005-01-01T00:00:00",
          "2006-01-01T00:00:00",
          "2007-01-01T00:00:00",
          "2008-01-01T00:00:00",
          "2009-01-01T00:00:00",
          "2010-01-01T00:00:00",
          "2011-01-01T00:00:00",
          "2012-01-01T00:00:00",
          "2013-01-01T00:00:00",
          "2014-01-01T00:00:00",
          "2015-01-01T00:00:00",
          "2016-01-01T00:00:00",
          "2017-01-01T00:00:00",
          "2018-01-01T00:00:00",
          "2019-01-01T00:00:00",
          "2020-01-01T00:00:00",
          "2021-01-01T00:00:00"
         ],
         "y": [
          1,
          2,
          3,
          4,
          1,
          1,
          4,
          6,
          4,
          5,
          4,
          4,
          12,
          1,
          6,
          5,
          3,
          5,
          7,
          8,
          4,
          4,
          6,
          6,
          1,
          7,
          3,
          2,
          3,
          7,
          5,
          1
         ]
        },
        {
         "hoverinfo": "text",
         "hovertext": [
          "<b>Topic 3</b><br>Words: highincidence, hyperactivity, dysfunction, psychopathology, psycho",
          "<b>Topic 3</b><br>Words: overactive, inattentionoveractivity, inattentive, prefrontal, necker",
          "<b>Topic 3</b><br>Words: hyperactive, psychostimulant, normalchild, neurocognitive, wisconsin",
          "<b>Topic 3</b><br>Words: conductproblem, frontallobe, normalchild, stronglyrelate, perceptualmotor",
          "<b>Topic 3</b><br>Words: hyperactive, cd, distractibility, child, distractible",
          "<b>Topic 3</b><br>Words: adhd, preadolescentchild, neuropsychologicaldysfunction, adulthood, childadhd",
          "<b>Topic 3</b><br>Words: adhd, depressed, comorbiddepression, attentionspan, pacedauditory",
          "<b>Topic 3</b><br>Words: adhd, hookworm, child, attentiondeficit, infant",
          "<b>Topic 3</b><br>Words: sibling, adhd, epilepsy, dyslexia, child",
          "<b>Topic 3</b><br>Words: adhd, dorsolateral, prefrontalcortex, structuralabnormality, visuomotor",
          "<b>Topic 3</b><br>Words: adhd, adhdc, hyperactivitydisorder, adhdsubtype, autism",
          "<b>Topic 3</b><br>Words: httlpr, homozygous, hrreactivity, genetically, twin",
          "<b>Topic 3</b><br>Words: adhd, adultadhd, child, neuropsychologicaltesting, hyperactivitydisorder",
          "<b>Topic 3</b><br>Words: adhd, adhdchild, visuomotor, hyperactivitydisorder, child",
          "<b>Topic 3</b><br>Words: adhd, child, hyperactivitydisorder, attentiondeficit, childadhd",
          "<b>Topic 3</b><br>Words: adhd, pureadhd, child, hyperactivitydisorder, attentiondeficit",
          "<b>Topic 3</b><br>Words: adhd, adhdc, child, hyperactivitydisorder, adhdctd",
          "<b>Topic 3</b><br>Words: adhd, attentiondeficit, iq, hyperactivitydisorder, child",
          "<b>Topic 3</b><br>Words: adhd, child, adhdchild, attentiondeficit, hyperactivitydisorder",
          "<b>Topic 3</b><br>Words: adhd, child, maoa, hyperactivitydisorder, dbdadhd",
          "<b>Topic 3</b><br>Words: adhd, hfaadhd, hyperactiveimpulsive, hyperactivitydisorder, attentiondeficit",
          "<b>Topic 3</b><br>Words: adhd, child, attentiondeficit, childadhd, iq",
          "<b>Topic 3</b><br>Words: adhd, child, attentiondeficit, hyperactivitydisorder, childld",
          "<b>Topic 3</b><br>Words: adhd, child, adhdc, attentiondeficit, childadhd",
          "<b>Topic 3</b><br>Words: adhd, child, peerproblem, hyperactivitydisorder, attentiondeficit",
          "<b>Topic 3</b><br>Words: adhd, child, childadhd, hyperactivitydisorder, attentiondeficit",
          "<b>Topic 3</b><br>Words: adhd, child, adhdproband, autistictrait, neurotypicalyouth",
          "<b>Topic 3</b><br>Words: adhd, child, childadhd, attentiondeficit, hyperactivitydisorder",
          "<b>Topic 3</b><br>Words: adhd, child, childadhd, hyperactivitydisorder, attentiondeficit",
          "<b>Topic 3</b><br>Words: adhd, child, socialcognition, childhoodmaltreatment, sleepdisturbance"
         ],
         "marker": {
          "color": "#56B4E9"
         },
         "mode": "lines",
         "name": "3_adhd_attentiondeficit_hyperactivitydis...",
         "type": "scatter",
         "x": [
          "1985-01-01T00:00:00",
          "1989-01-01T00:00:00",
          "1991-01-01T00:00:00",
          "1992-01-01T00:00:00",
          "1996-01-01T00:00:00",
          "1997-01-01T00:00:00",
          "1998-01-01T00:00:00",
          "1999-01-01T00:00:00",
          "2000-01-01T00:00:00",
          "2001-01-01T00:00:00",
          "2002-01-01T00:00:00",
          "2003-01-01T00:00:00",
          "2004-01-01T00:00:00",
          "2005-01-01T00:00:00",
          "2006-01-01T00:00:00",
          "2007-01-01T00:00:00",
          "2008-01-01T00:00:00",
          "2009-01-01T00:00:00",
          "2010-01-01T00:00:00",
          "2011-01-01T00:00:00",
          "2012-01-01T00:00:00",
          "2013-01-01T00:00:00",
          "2014-01-01T00:00:00",
          "2015-01-01T00:00:00",
          "2016-01-01T00:00:00",
          "2017-01-01T00:00:00",
          "2018-01-01T00:00:00",
          "2019-01-01T00:00:00",
          "2020-01-01T00:00:00",
          "2021-01-01T00:00:00"
         ],
         "y": [
          1,
          1,
          1,
          1,
          1,
          1,
          1,
          6,
          4,
          4,
          7,
          1,
          4,
          4,
          11,
          11,
          11,
          15,
          13,
          14,
          10,
          18,
          13,
          19,
          13,
          14,
          11,
          18,
          19,
          9
         ]
        },
        {
         "hoverinfo": "text",
         "hovertext": [
          "<b>Topic 19</b><br>Words: hungarian, slovak, automatism, bilinguist, language",
          "<b>Topic 19</b><br>Words: semanticprocessing, englishjapanese, semanticrepresentation, bilingual, language",
          "<b>Topic 19</b><br>Words: bilingual, spanishenglish, englishspanish, language, languageproficiency",
          "<b>Topic 19</b><br>Words: bilingual, language, intralingual, interlingual, oldbilingual",
          "<b>Topic 19</b><br>Words: language, bilingual, spanishenglish, spanish, hispanic",
          "<b>Topic 19</b><br>Words: language, bilingual, aphasia, englishlanguage, lexicaldecision",
          "<b>Topic 19</b><br>Words: bilingual, language, monolingualbilingual, monolingual, bilingualadvantage",
          "<b>Topic 19</b><br>Words: bilingualism, marathi, language, bilingual, bilingualadvantage",
          "<b>Topic 19</b><br>Words: bilingual, languageproficiency, lexicalaccess, monolingual, bilingualadvantage",
          "<b>Topic 19</b><br>Words: bilingual, language, bilingualadvantage, monolingual, monolingualbilingual",
          "<b>Topic 19</b><br>Words: bilingual, bilingualism, language, monolingual, bilingualadvantage",
          "<b>Topic 19</b><br>Words: bilingual, language, proficientbilingual, bilingualism, monolingual",
          "<b>Topic 19</b><br>Words: bilingual, language, phonotactic, bilinguallanguage, bilingualism",
          "<b>Topic 19</b><br>Words: bilingualism, language, bilingual, efl, anteriorthalamic",
          "<b>Topic 19</b><br>Words: bilingual, language, bilingualadvantage, bilingualism, monolingual",
          "<b>Topic 19</b><br>Words: bilingual, language, bilingualadvantage, bilingualism, monolingual",
          "<b>Topic 19</b><br>Words: bilingual, language, bilingualism, bilingualmonolingual, bilingualadvantage"
         ],
         "marker": {
          "color": "#009E73"
         },
         "mode": "lines",
         "name": "19_bilingual_bilingualism_bilingualadvan...",
         "type": "scatter",
         "x": [
          "1985-01-01T00:00:00",
          "1998-01-01T00:00:00",
          "2002-01-01T00:00:00",
          "2004-01-01T00:00:00",
          "2007-01-01T00:00:00",
          "2010-01-01T00:00:00",
          "2011-01-01T00:00:00",
          "2012-01-01T00:00:00",
          "2013-01-01T00:00:00",
          "2014-01-01T00:00:00",
          "2015-01-01T00:00:00",
          "2016-01-01T00:00:00",
          "2017-01-01T00:00:00",
          "2018-01-01T00:00:00",
          "2019-01-01T00:00:00",
          "2020-01-01T00:00:00",
          "2021-01-01T00:00:00"
         ],
         "y": [
          1,
          1,
          1,
          1,
          2,
          1,
          4,
          3,
          5,
          9,
          7,
          5,
          4,
          4,
          8,
          4,
          3
         ]
        },
        {
         "hoverinfo": "text",
         "hovertext": [
          "<b>Topic 9</b><br>Words: anorexic, foodrelate, reflection, selectiveprocessing, eating",
          "<b>Topic 9</b><br>Words: bulimianervosa, dieter, eat, dieting, anorexianervosa",
          "<b>Topic 9</b><br>Words: bodyshape, restrainedeater, restraint, overeating, foodshape",
          "<b>Topic 9</b><br>Words: anorexic, obese, weight, restraineater, retardation",
          "<b>Topic 9</b><br>Words: appetizer, eat, foodintake, foodbody, attentionalbias",
          "<b>Topic 9</b><br>Words: restrainer, taste, food, hunger, nonrestrainer",
          "<b>Topic 9</b><br>Words: food, bulimianervosa, anorexianervosa, eating, eat",
          "<b>Topic 9</b><br>Words: bodyshape, restrainedeater, weight, foodword, eatdisorder",
          "<b>Topic 9</b><br>Words: bulimic, binge, desire, psychophysiological, hunger",
          "<b>Topic 9</b><br>Words: abandonment, foodrelate, foodbody, eat, eating",
          "<b>Topic 9</b><br>Words: binge, eater, ego, anorexic, consume",
          "<b>Topic 9</b><br>Words: bodyimage, bulimianervosa, weightshape, food, anorexianervosa",
          "<b>Topic 9</b><br>Words: foodword, obesity, weight, hypersensitivity, treatmentprogram",
          "<b>Topic 9</b><br>Words: eatdisorder, egothreat, foodrelate, foodword, foodstimulus",
          "<b>Topic 9</b><br>Words: eatdisorder, character, color, foodrelate, bulimianervosa",
          "<b>Topic 9</b><br>Words: bulimianervosa, emotionalstroop, bulimic, eating, female",
          "<b>Topic 9</b><br>Words: taste, strawberry, tastant, smell, odor",
          "<b>Topic 9</b><br>Words: snack, anorexic, foodrelate, foodstimulus, eat",
          "<b>Topic 9</b><br>Words: intake, snack, egothreat, eat, restrainedeater",
          "<b>Topic 9</b><br>Words: foodrelate, bmi, obese, foodpicture, caloric",
          "<b>Topic 9</b><br>Words: food, foodchoice, obesity, foodstimulus, eatdisorder",
          "<b>Topic 9</b><br>Words: fatty, obesity, eat, adolescentexcess, attentionalbias",
          "<b>Topic 9</b><br>Words: weightloss, foodrelate, weight, foodword, foodshape",
          "<b>Topic 9</b><br>Words: dieter, taste, food, eat, snackfood",
          "<b>Topic 9</b><br>Words: weight, weightloss, food, overweightobese, attentionalcontrol",
          "<b>Topic 9</b><br>Words: food, snackfood, foodrelate, eat, obese",
          "<b>Topic 9</b><br>Words: food, obesity, overweightobese, obese, foodimage",
          "<b>Topic 9</b><br>Words: food, foodstimulus, weightloss, eating, foodrelate",
          "<b>Topic 9</b><br>Words: food, probiotic, foodrelate, weightloss, microbiota",
          "<b>Topic 9</b><br>Words: overweightobesity, unhealthyfood, attentionalbias, foodrelate, obesewoman",
          "<b>Topic 9</b><br>Words: food, eating, foodcue, foodintake, foodrelate"
         ],
         "marker": {
          "color": "#F0E442"
         },
         "mode": "lines",
         "name": "9_foodrelate_eat_weightloss_eating",
         "type": "scatter",
         "x": [
          "1988-01-01T00:00:00",
          "1992-01-01T00:00:00",
          "1993-01-01T00:00:00",
          "1994-01-01T00:00:00",
          "1995-01-01T00:00:00",
          "1996-01-01T00:00:00",
          "1997-01-01T00:00:00",
          "1998-01-01T00:00:00",
          "1999-01-01T00:00:00",
          "2000-01-01T00:00:00",
          "2001-01-01T00:00:00",
          "2002-01-01T00:00:00",
          "2003-01-01T00:00:00",
          "2004-01-01T00:00:00",
          "2005-01-01T00:00:00",
          "2006-01-01T00:00:00",
          "2007-01-01T00:00:00",
          "2008-01-01T00:00:00",
          "2009-01-01T00:00:00",
          "2010-01-01T00:00:00",
          "2011-01-01T00:00:00",
          "2012-01-01T00:00:00",
          "2013-01-01T00:00:00",
          "2014-01-01T00:00:00",
          "2015-01-01T00:00:00",
          "2016-01-01T00:00:00",
          "2017-01-01T00:00:00",
          "2018-01-01T00:00:00",
          "2019-01-01T00:00:00",
          "2020-01-01T00:00:00",
          "2021-01-01T00:00:00"
         ],
         "y": [
          1,
          2,
          6,
          2,
          1,
          3,
          4,
          3,
          1,
          3,
          2,
          2,
          1,
          6,
          2,
          1,
          1,
          3,
          1,
          4,
          5,
          10,
          6,
          6,
          6,
          8,
          6,
          5,
          6,
          6,
          7
         ]
        },
        {
         "hoverinfo": "text",
         "hovertext": [
          "<b>Topic 10</b><br>Words: amantadine, fatigue, daily, multiplesclerosis, effectivetreatment",
          "<b>Topic 10</b><br>Words: color, reteste, highincidence, alzheimerdisease, normal",
          "<b>Topic 10</b><br>Words: halstead, halsteadreitan, braininjure, neuropsychologicalscreening, neurologicallynormal",
          "<b>Topic 10</b><br>Words: prefrontallobe, factor, auditoryconsonant, analytic, memoryattention",
          "<b>Topic 10</b><br>Words: multiplesclerosis, diseasecourse, premorbidiq, dysfunction, prefrontalcortex",
          "<b>Topic 10</b><br>Words: methamphetamineuse, recallrecognition, methamphetamineuser, methamphetamine, normalrange",
          "<b>Topic 10</b><br>Words: tip, typediabetic, ct, nondiabeticsubject, treat",
          "<b>Topic 10</b><br>Words: subcortical, visualmemory, ischaemic, cardsort, cardsorting",
          "<b>Topic 10</b><br>Words: confabulation, ms, confabulate, adpatient, batteryinclude",
          "<b>Topic 10</b><br>Words: primaryprogressive, secondaryprogressive, pronounce, slowing, disabilitystatus",
          "<b>Topic 10</b><br>Words: ms, cognitivecomplaint, multiplesclerosis, sdmt, cognitiveimpairment",
          "<b>Topic 10</b><br>Words: dsp, dsy, dti, limb, multiplesclerosis",
          "<b>Topic 10</b><br>Words: ms, naturopathic, medicine, multiplesclerosis, usualcare",
          "<b>Topic 10</b><br>Words: multiplesclerosis, ms, sensitivityspecificity, clinicallyisolate, cognitiveimpairment",
          "<b>Topic 10</b><br>Words: rsp, multiplesclerosis, rt, sway, sdmt",
          "<b>Topic 10</b><br>Words: ms, multiplesclerosis, lnb, sdmean, bnb",
          "<b>Topic 10</b><br>Words: multiplesclerosis, ccsvi, rrms, ifn, syndrome",
          "<b>Topic 10</b><br>Words: multiplesclerosis, lch, fm, nd, spms",
          "<b>Topic 10</b><br>Words: ms, multiplesclerosis, pca, fasciculus, edss",
          "<b>Topic 10</b><br>Words: cognitivefatigue, electrode, multiplesclerosis, spms, edssscore",
          "<b>Topic 10</b><br>Words: multiplesclerosis, ppms, patientppms, subcortical, bvmt",
          "<b>Topic 10</b><br>Words: ms, bmspatient, multiplesclerosis, aoms, hmla",
          "<b>Topic 10</b><br>Words: ms, multiplesclerosis, mmhg, fatigue, dd",
          "<b>Topic 10</b><br>Words: ms, aoms, cognitiveworkload, pm, iwms",
          "<b>Topic 10</b><br>Words: ms, phenotype, multiplesclerosis, diseaseduration, mlvs"
         ],
         "marker": {
          "color": "#D55E00"
         },
         "mode": "lines",
         "name": "10_ms_multiplesclerosis_rrms_fatigue",
         "type": "scatter",
         "x": [
          "1989-01-01T00:00:00",
          "1990-01-01T00:00:00",
          "1995-01-01T00:00:00",
          "1998-01-01T00:00:00",
          "1999-01-01T00:00:00",
          "2000-01-01T00:00:00",
          "2001-01-01T00:00:00",
          "2002-01-01T00:00:00",
          "2004-01-01T00:00:00",
          "2005-01-01T00:00:00",
          "2006-01-01T00:00:00",
          "2007-01-01T00:00:00",
          "2008-01-01T00:00:00",
          "2010-01-01T00:00:00",
          "2011-01-01T00:00:00",
          "2012-01-01T00:00:00",
          "2013-01-01T00:00:00",
          "2014-01-01T00:00:00",
          "2015-01-01T00:00:00",
          "2016-01-01T00:00:00",
          "2017-01-01T00:00:00",
          "2018-01-01T00:00:00",
          "2019-01-01T00:00:00",
          "2020-01-01T00:00:00",
          "2021-01-01T00:00:00"
         ],
         "y": [
          1,
          1,
          1,
          1,
          1,
          1,
          1,
          1,
          3,
          1,
          4,
          2,
          3,
          6,
          3,
          12,
          12,
          5,
          5,
          8,
          5,
          6,
          9,
          10,
          4
         ]
        },
        {
         "hoverinfo": "text",
         "hovertext": [
          "<b>Topic 16</b><br>Words: ireland, irish, violence, habituate, violent",
          "<b>Topic 16</b><br>Words: brodman, responseselection, sulcus, responsecompatibility, tomography",
          "<b>Topic 16</b><br>Words: motorcortex, responsecompetition, brainarea, nonconflict, correctincorrect",
          "<b>Topic 16</b><br>Words: prefrontalarea, resolveconflict, stimulusdimension, dorsalanterior, activation",
          "<b>Topic 16</b><br>Words: conflict, neuralbehavioral, conflictmonitoring, cortexacc, behavioral",
          "<b>Topic 16</b><br>Words: conflictadaptation, cognitivecontrol, conflict, responseconflict, psychophysiologicalinteraction",
          "<b>Topic 16</b><br>Words: irritability, lyapunov, psychophysiological, chaotic, antidepressantmedication",
          "<b>Topic 16</b><br>Words: lyapunov, cognitivecontrol, resolveconflict, nonlinear, humanbrain",
          "<b>Topic 16</b><br>Words: conflict, conflictadaptation, anticipatory, syntactic, responseconflict",
          "<b>Topic 16</b><br>Words: conflict, conflictadaptation, responseconflict, conflictsp, syntactic",
          "<b>Topic 16</b><br>Words: perceptualconflict, conflict, responseconflict, conflictadaptation, rdacc",
          "<b>Topic 16</b><br>Words: conflict, conflictadaptation, rdacc, cdacc, responseconflict",
          "<b>Topic 16</b><br>Words: responseconflict, perceptualconflict, conflictadaptation, dmfc, motorcortex",
          "<b>Topic 16</b><br>Words: conflict, conflictadaptation, semanticconflict, conflictdetection, cognitivecontrol",
          "<b>Topic 16</b><br>Words: conflict, conflictadaptation, dlpfc, conflictprocessing, conflicttrigger",
          "<b>Topic 16</b><br>Words: conflictadaptation, conflict, responseconflict, hippocampus, autismspectrum",
          "<b>Topic 16</b><br>Words: conflictadaptation, neuron, conflict, monkey, selfregulation",
          "<b>Topic 16</b><br>Words: conflict, conflictadaptation, responseconflict, incongruency, cognitivecontrol",
          "<b>Topic 16</b><br>Words: conflict, sz, conflictadaptation, neuron, emotional",
          "<b>Topic 16</b><br>Words: conflict, conflictadaptation, semanticconflict, responsemodality, responseconflict",
          "<b>Topic 16</b><br>Words: conflict, responseconflict, hippocampal, conflictadaptation, conflictmonitoring",
          "<b>Topic 16</b><br>Words: conflictadaptation, hippocampal, neurofeedbacktraining, neurofeedback, hippocampus"
         ],
         "marker": {
          "color": "#0072B2"
         },
         "mode": "lines",
         "name": "16_conflict_conflictadaptation_responsec...",
         "type": "scatter",
         "x": [
          "1989-01-01T00:00:00",
          "1994-01-01T00:00:00",
          "2001-01-01T00:00:00",
          "2003-01-01T00:00:00",
          "2004-01-01T00:00:00",
          "2005-01-01T00:00:00",
          "2006-01-01T00:00:00",
          "2007-01-01T00:00:00",
          "2008-01-01T00:00:00",
          "2009-01-01T00:00:00",
          "2010-01-01T00:00:00",
          "2011-01-01T00:00:00",
          "2012-01-01T00:00:00",
          "2013-01-01T00:00:00",
          "2014-01-01T00:00:00",
          "2015-01-01T00:00:00",
          "2016-01-01T00:00:00",
          "2017-01-01T00:00:00",
          "2018-01-01T00:00:00",
          "2019-01-01T00:00:00",
          "2020-01-01T00:00:00",
          "2021-01-01T00:00:00"
         ],
         "y": [
          1,
          1,
          1,
          1,
          2,
          1,
          1,
          3,
          5,
          8,
          4,
          4,
          4,
          6,
          6,
          7,
          2,
          4,
          2,
          5,
          5,
          2
         ]
        },
        {
         "hoverinfo": "text",
         "hovertext": [
          "<b>Topic 12</b><br>Words: ptsd, positiveword, disorderptsd, hallmark, involuntary",
          "<b>Topic 12</b><br>Words: ptsd, disaster, ptsdsymptomatology, survivor, trauma",
          "<b>Topic 12</b><br>Words: phobia, ptsd, threatword, threateninformation, anxiety",
          "<b>Topic 12</b><br>Words: ptsd, vietnam, disorderptsd, posttraumaticstress, withdrawalsymptom",
          "<b>Topic 12</b><br>Words: ptsd, traumatic, warrelate, veteran, disorderptsd",
          "<b>Topic 12</b><br>Words: trauma, ptsd, psychopathologist, directforgetting, disorderptsd",
          "<b>Topic 12</b><br>Words: ptsd, emotional, disorderptsd, childadult, emotionalinformation",
          "<b>Topic 12</b><br>Words: ptsd, trauma, traumarelate, disorderptsd, traumatized",
          "<b>Topic 12</b><br>Words: ptsd, trauma, sexualvictimization, disorderptsd, combatveteran",
          "<b>Topic 12</b><br>Words: ptsd, traumarelate, trauma, disorderptsd, posttraumaticstress",
          "<b>Topic 12</b><br>Words: ptsd, responselatency, nonanxiety, trauma, elicit",
          "<b>Topic 12</b><br>Words: ptsd, abuse, trauma, posttraumaticstress, disorderptsd",
          "<b>Topic 12</b><br>Words: ptsd, intimatepartner, violence, acetylaspartate, neuronal",
          "<b>Topic 12</b><br>Words: prazosin, traumarelate, ptsd, ptsdsymptom, nightmare",
          "<b>Topic 12</b><br>Words: ptsd, trauma, domesticviolence, victim, hyperresponsiveness",
          "<b>Topic 12</b><br>Words: ptsd, trauma, dissociative, betrayal, disorderptsd",
          "<b>Topic 12</b><br>Words: ptsd, traumaexpose, trauma, traumarelate, anxietydisorder",
          "<b>Topic 12</b><br>Words: ptsd, shame, trauma, disorderptsd, emotionalstroop",
          "<b>Topic 12</b><br>Words: ptsd, disorderptsd, posttraumatic, traumaexpose, emotionalarousal",
          "<b>Topic 12</b><br>Words: ptsd, trauma, posttraumaticintrusion, traumarelate, posttraumaticstress",
          "<b>Topic 12</b><br>Words: ptsd, trauma, traumarelate, posttraumaticstress, mst",
          "<b>Topic 12</b><br>Words: ptsd, ptsdsymptom, sexualvictimization, trauma, emotional",
          "<b>Topic 12</b><br>Words: ptsd, ptss, disorderptsd, trauma, veteranptsd",
          "<b>Topic 12</b><br>Words: ptsd, childhoodtrauma, trauma, traumacue, disorderptsd",
          "<b>Topic 12</b><br>Words: ptsd, trauma, ptsdsymptom, disorderptsd, posttraumaticstress",
          "<b>Topic 12</b><br>Words: ptsd, trauma, cyprus, traumatized, traumarelate",
          "<b>Topic 12</b><br>Words: ptsd, militarypersonnel, threat, personnel, cognitivebias",
          "<b>Topic 12</b><br>Words: violent, ptsd, violence, war, victimization"
         ],
         "marker": {
          "color": "#CC79A7"
         },
         "mode": "lines",
         "name": "12_ptsd_trauma_posttraumaticstress_ptsds...",
         "type": "scatter",
         "x": [
          "1990-01-01T00:00:00",
          "1994-01-01T00:00:00",
          "1995-01-01T00:00:00",
          "1996-01-01T00:00:00",
          "1997-01-01T00:00:00",
          "1998-01-01T00:00:00",
          "1999-01-01T00:00:00",
          "2000-01-01T00:00:00",
          "2001-01-01T00:00:00",
          "2002-01-01T00:00:00",
          "2003-01-01T00:00:00",
          "2004-01-01T00:00:00",
          "2005-01-01T00:00:00",
          "2006-01-01T00:00:00",
          "2007-01-01T00:00:00",
          "2009-01-01T00:00:00",
          "2010-01-01T00:00:00",
          "2011-01-01T00:00:00",
          "2012-01-01T00:00:00",
          "2013-01-01T00:00:00",
          "2014-01-01T00:00:00",
          "2015-01-01T00:00:00",
          "2016-01-01T00:00:00",
          "2017-01-01T00:00:00",
          "2018-01-01T00:00:00",
          "2019-01-01T00:00:00",
          "2020-01-01T00:00:00",
          "2021-01-01T00:00:00"
         ],
         "y": [
          1,
          3,
          1,
          2,
          2,
          1,
          2,
          2,
          2,
          3,
          2,
          4,
          1,
          1,
          3,
          3,
          4,
          6,
          3,
          7,
          6,
          5,
          5,
          6,
          6,
          6,
          1,
          2
         ]
        },
        {
         "hoverinfo": "text",
         "hovertext": [
          "<b>Topic 4</b><br>Words: marathon, race, runner, exercise, plasmaconcentration",
          "<b>Topic 4</b><br>Words: endurance, exercise, psychomotor, wmax, bicycleergometer",
          "<b>Topic 4</b><br>Words: aerobicfitness, aerobiccapacity, cognitiveaging, age, bicycleergometer",
          "<b>Topic 4</b><br>Words: shuttlerun, bimanual, cycling, exercise, cyclical",
          "<b>Topic 4</b><br>Words: aerobicendurance, energylevel, gonogo, exercise, executivecontrol",
          "<b>Topic 4</b><br>Words: shoulder, choke, shoulderexertion, shouldermoment, judoka",
          "<b>Topic 4</b><br>Words: yoga, alertness, exercise, fatigue, active",
          "<b>Topic 4</b><br>Words: grip, exercise, posture, shoulderexertion, shouldermoment",
          "<b>Topic 4</b><br>Words: exercise, aerobicfitness, caf, aerobicexercise, ride",
          "<b>Topic 4</b><br>Words: muscleactivity, resistanceexercise, exerciseintensity, exercise, electromyographic",
          "<b>Topic 4</b><br>Words: exercise, aerobicexercise, moderateexercise, acuteexercise, diet",
          "<b>Topic 4</b><br>Words: cardiorespiratoryfitness, exercise, physicalexercise, fitness, skating",
          "<b>Topic 4</b><br>Words: exercise, military, training, mcav, cognitivefunction",
          "<b>Topic 4</b><br>Words: exercise, soup, aerobictraining, caffeine, rugby",
          "<b>Topic 4</b><br>Words: exercise, fatigue, rest, training, resistanceexercise",
          "<b>Topic 4</b><br>Words: exercise, acuteexercise, athlete, agility, fitness",
          "<b>Topic 4</b><br>Words: exercise, postexercise, aerobicexercise, cyclist, cycling",
          "<b>Topic 4</b><br>Words: exercise, acuteexercise, aerobicexercise, resistanceexercise, athlete",
          "<b>Topic 4</b><br>Words: exercise, hiie, athlete, acuteexercise, aerobicexercise",
          "<b>Topic 4</b><br>Words: exercise, acuteexercise, cycling, aerobicexercise, athlete",
          "<b>Topic 4</b><br>Words: exercise, athlete, postexercise, acuteexercise, aerobicexercise",
          "<b>Topic 4</b><br>Words: exercise, resistanceexercise, postexercise, sport, fatigue"
         ],
         "marker": {
          "color": "#E69F00"
         },
         "mode": "lines",
         "name": "4_exercise_acuteexercise_aerobicexercise...",
         "type": "scatter",
         "x": [
          "1991-01-01T00:00:00",
          "1996-01-01T00:00:00",
          "1997-01-01T00:00:00",
          "2002-01-01T00:00:00",
          "2003-01-01T00:00:00",
          "2005-01-01T00:00:00",
          "2006-01-01T00:00:00",
          "2007-01-01T00:00:00",
          "2008-01-01T00:00:00",
          "2009-01-01T00:00:00",
          "2010-01-01T00:00:00",
          "2011-01-01T00:00:00",
          "2012-01-01T00:00:00",
          "2013-01-01T00:00:00",
          "2014-01-01T00:00:00",
          "2015-01-01T00:00:00",
          "2016-01-01T00:00:00",
          "2017-01-01T00:00:00",
          "2018-01-01T00:00:00",
          "2019-01-01T00:00:00",
          "2020-01-01T00:00:00",
          "2021-01-01T00:00:00"
         ],
         "y": [
          1,
          1,
          1,
          2,
          1,
          2,
          1,
          2,
          4,
          2,
          8,
          4,
          7,
          9,
          9,
          12,
          25,
          35,
          27,
          37,
          35,
          16
         ]
        },
        {
         "hoverinfo": "text",
         "hovertext": [
          "<b>Topic 15</b><br>Words: texture, globallocal, detection, visualfield, hemispheric",
          "<b>Topic 15</b><br>Words: rightprefrontal, lobectomy, conception, frontallesion, sexage",
          "<b>Topic 15</b><br>Words: ica, fmridatum, spatial, map, activation",
          "<b>Topic 15</b><br>Words: brodmannarea, doubledissociation, active, sourcelocalization, consensus",
          "<b>Topic 15</b><br>Words: imitativeresponse, prefrontal, lobe, cortex, dorsolateralprefrontal",
          "<b>Topic 15</b><br>Words: cortex, supplementarymotor, cerebellum, prefrontal, verbalfluency",
          "<b>Topic 15</b><br>Words: irrelevantinformation, imitativeresponse, frontallesion, pfc, posterior",
          "<b>Topic 15</b><br>Words: middorsolateral, frontolateral, inferiorfrontal, dacc, cognitivecontrol",
          "<b>Topic 15</b><br>Words: pfc, agonist, frontolateral, dopamineagonist, inhibition",
          "<b>Topic 15</b><br>Words: accinvolve, accactivity, bayesian, brainregion, network",
          "<b>Topic 15</b><br>Words: pfc, cortex, focallesion, frontallesion, medialorbitofrontal",
          "<b>Topic 15</b><br>Words: latency, pfc, structuralnetwork, circuit, fmri",
          "<b>Topic 15</b><br>Words: attentionalset, involvement, cognitivecontrol, attentional, neuroscience",
          "<b>Topic 15</b><br>Words: sensory, sensoryinformation, mechanism, dlpfc, attentionalsystem",
          "<b>Topic 15</b><br>Words: brainactivity, inferiorfrontal, lesion, hemisphere, ehlis",
          "<b>Topic 15</b><br>Words: medialprefrontal, neuroimagingstudy, cortexmpfc, caution, mpfc",
          "<b>Topic 15</b><br>Words: pfc, ventrolateralpfc, damage, suppression, emotion",
          "<b>Topic 15</b><br>Words: fissurization, mofc, corticostriatal, anteriormidcingulate, cortex",
          "<b>Topic 15</b><br>Words: cortex, anteriorcingulate, goalorient, dorsalattention, cognitivecontrol",
          "<b>Topic 15</b><br>Words: pfc, lesion, suppression, frontalgyri, inhibition",
          "<b>Topic 15</b><br>Words: loc, cortex, cognitivecontrol, rightamygdala, learning",
          "<b>Topic 15</b><br>Words: cognitivecontrol, frontalmidline, lpfc, executivecontrol, cortex",
          "<b>Topic 15</b><br>Words: consciousperception, executivecontrol, neurosurgical, cognitivecontrol, glioma",
          "<b>Topic 15</b><br>Words: localizer, brain, cognitivecontrol, ldlpfc, incongruentcondition",
          "<b>Topic 15</b><br>Words: rsa, slf, consciousperception, executivecontrol, fef"
         ],
         "marker": {
          "color": "#56B4E9"
         },
         "mode": "lines",
         "name": "15_pfc_cortex_cognitivecontrol_lesion",
         "type": "scatter",
         "x": [
          "1991-01-01T00:00:00",
          "1995-01-01T00:00:00",
          "1998-01-01T00:00:00",
          "2000-01-01T00:00:00",
          "2001-01-01T00:00:00",
          "2002-01-01T00:00:00",
          "2003-01-01T00:00:00",
          "2004-01-01T00:00:00",
          "2005-01-01T00:00:00",
          "2006-01-01T00:00:00",
          "2007-01-01T00:00:00",
          "2008-01-01T00:00:00",
          "2009-01-01T00:00:00",
          "2010-01-01T00:00:00",
          "2011-01-01T00:00:00",
          "2012-01-01T00:00:00",
          "2013-01-01T00:00:00",
          "2014-01-01T00:00:00",
          "2015-01-01T00:00:00",
          "2016-01-01T00:00:00",
          "2017-01-01T00:00:00",
          "2018-01-01T00:00:00",
          "2019-01-01T00:00:00",
          "2020-01-01T00:00:00",
          "2021-01-01T00:00:00"
         ],
         "y": [
          2,
          1,
          2,
          2,
          3,
          2,
          4,
          2,
          5,
          2,
          4,
          3,
          1,
          2,
          2,
          1,
          2,
          3,
          3,
          2,
          9,
          7,
          4,
          5,
          3
         ]
        },
        {
         "hoverinfo": "text",
         "hovertext": [
          "<b>Topic 17</b><br>Words: supervisoryattentional, traumatically, neuropsychologicalmeasure, focusedattention, injure",
          "<b>Topic 17</b><br>Words: difficulty, myalgic, encephalomyelitis, syndrome, fatigue",
          "<b>Topic 17</b><br>Words: rat, hse, encephalitis, tbi, inflammatory",
          "<b>Topic 17</b><br>Words: gosscore, tbi, outcome, rehabilitation, vocational",
          "<b>Topic 17</b><br>Words: encoding, serotonin, memory, selectiveattention, cognitiveprocess",
          "<b>Topic 17</b><br>Words: tbi, traumatic, postinjury, ct, injury",
          "<b>Topic 17</b><br>Words: postconcussive, tbi, complaint, sensitiveindicator, mildtraumatic",
          "<b>Topic 17</b><br>Words: attentionaldeficit, bds, injury, tbi, classification",
          "<b>Topic 17</b><br>Words: injury, speedprocessing, severetraumatic, traumaticbrain, braininjury",
          "<b>Topic 17</b><br>Words: tbi, injury, gt, traumaticbrain, ct",
          "<b>Topic 17</b><br>Words: tbi, motivation, hmb, severetraumatic, status",
          "<b>Topic 17</b><br>Words: tbi, injury, traumaticbrain, noninjured, braininjury",
          "<b>Topic 17</b><br>Words: tbi, braininjury, severetraumatic, survivor, injury",
          "<b>Topic 17</b><br>Words: traumaticbrain, injury, tbi, testparts, rivermead",
          "<b>Topic 17</b><br>Words: tbi, cognitivesequelae, injury, injuryseverity, conflictadaptation",
          "<b>Topic 17</b><br>Words: tbi, painintensity, disability, recovery, braininjury",
          "<b>Topic 17</b><br>Words: tbi, timeinterval, electrophysiologicalevidence, wmc, traumaticbrain",
          "<b>Topic 17</b><br>Words: tbi, tga, amnesia, braininjury, memory",
          "<b>Topic 17</b><br>Words: errorawareness, traumaticbrain, oldadult, injury, injurytbi",
          "<b>Topic 17</b><br>Words: tbi, hbct, cooking, fnirs, neural",
          "<b>Topic 17</b><br>Words: tbi, cdt, cognitivescreening, pvrt, injury",
          "<b>Topic 17</b><br>Words: retrievalorientation, amnesticmci, retrieval, erp, memory",
          "<b>Topic 17</b><br>Words: retrieval, executiveattention, training, retrievalorientation, recollection",
          "<b>Topic 17</b><br>Words: tbi, traumaticbrain, injury, forget, injurytbi",
          "<b>Topic 17</b><br>Words: injury, dysfunctional, tbi, cerebellum, traumaticbrain"
         ],
         "marker": {
          "color": "#009E73"
         },
         "mode": "lines",
         "name": "17_tbi_injury_traumaticbrain_braininjury",
         "type": "scatter",
         "x": [
          "1992-01-01T00:00:00",
          "1993-01-01T00:00:00",
          "1995-01-01T00:00:00",
          "1999-01-01T00:00:00",
          "2000-01-01T00:00:00",
          "2001-01-01T00:00:00",
          "2002-01-01T00:00:00",
          "2003-01-01T00:00:00",
          "2004-01-01T00:00:00",
          "2005-01-01T00:00:00",
          "2006-01-01T00:00:00",
          "2007-01-01T00:00:00",
          "2009-01-01T00:00:00",
          "2010-01-01T00:00:00",
          "2011-01-01T00:00:00",
          "2012-01-01T00:00:00",
          "2013-01-01T00:00:00",
          "2014-01-01T00:00:00",
          "2015-01-01T00:00:00",
          "2016-01-01T00:00:00",
          "2017-01-01T00:00:00",
          "2018-01-01T00:00:00",
          "2019-01-01T00:00:00",
          "2020-01-01T00:00:00",
          "2021-01-01T00:00:00"
         ],
         "y": [
          1,
          1,
          1,
          1,
          2,
          2,
          3,
          2,
          2,
          5,
          4,
          3,
          5,
          3,
          7,
          4,
          5,
          3,
          2,
          2,
          2,
          2,
          2,
          5,
          1
         ]
        },
        {
         "hoverinfo": "text",
         "hovertext": [
          "<b>Topic 18</b><br>Words: sle, lupus, cognitivedysfunction, symptoms, rheumatoidarthritis",
          "<b>Topic 18</b><br>Words: impaired, thinkdisorder, thoughtdisorder, perseveration, neurocognitive",
          "<b>Topic 18</b><br>Words: amnestic, dermatological, disturbance, mnestic, heaton",
          "<b>Topic 18</b><br>Words: bipolar, symptom, postconcussion, symptoms, headinjury",
          "<b>Topic 18</b><br>Words: oculomotor, parent, eyemovement, neuropsychologicaltest, schizophrenicpatient",
          "<b>Topic 18</b><br>Words: wcst, secondary, verbalmemory, cognitiveremediation, verbaliq",
          "<b>Topic 18</b><br>Words: cbf, bd, syndrome, frontosubcortical, frontaltemporal",
          "<b>Topic 18</b><br>Words: bipolarpatient, ymrs, bipolar, symptomatology, diagnose",
          "<b>Topic 18</b><br>Words: memorycomplaint, subjective, geriatricdepression, neurologicalpsychiatric, freecued",
          "<b>Topic 18</b><br>Words: msa, bpd, motordisability, pdpatient, motorsymptom",
          "<b>Topic 18</b><br>Words: hydrocephalic, hydrocephalus, migraine, shunt, cognitiverehabilitation",
          "<b>Topic 18</b><br>Words: englishspanish, bvat, visualhallucination, bilingual, cognitivecomplaint",
          "<b>Topic 18</b><br>Words: bd, anemia, tetrabenazine, bipolardisorder, prodromalhd",
          "<b>Topic 18</b><br>Words: bd, methionine, delusionaldisorder, patientwd, folate",
          "<b>Topic 18</b><br>Words: vitamind, liverdisease, bipolardisorder, patientcirrhosis, nmoll",
          "<b>Topic 18</b><br>Words: bipolardisorder, ttt, bd, verbalfluency, dfwt",
          "<b>Topic 18</b><br>Words: bd, kls, anticonvulsant, lithium, bdi",
          "<b>Topic 18</b><br>Words: fmt, depressivesymptom, diagnose, pdpatient, neurologist",
          "<b>Topic 18</b><br>Words: rls, chinese, syndrome, restless, cardc",
          "<b>Topic 18</b><br>Words: training, cognitivetraining, elderly, mci, mentalise",
          "<b>Topic 18</b><br>Words: bd, multimorbidity, polypharmacy, verballearning, cocaineuse"
         ],
         "marker": {
          "color": "#F0E442"
         },
         "mode": "lines",
         "name": "18_bd_bipolardisorder_verbalfluency_wisc...",
         "type": "scatter",
         "x": [
          "1992-01-01T00:00:00",
          "1997-01-01T00:00:00",
          "1998-01-01T00:00:00",
          "2001-01-01T00:00:00",
          "2002-01-01T00:00:00",
          "2004-01-01T00:00:00",
          "2005-01-01T00:00:00",
          "2007-01-01T00:00:00",
          "2008-01-01T00:00:00",
          "2009-01-01T00:00:00",
          "2010-01-01T00:00:00",
          "2011-01-01T00:00:00",
          "2012-01-01T00:00:00",
          "2013-01-01T00:00:00",
          "2014-01-01T00:00:00",
          "2015-01-01T00:00:00",
          "2016-01-01T00:00:00",
          "2017-01-01T00:00:00",
          "2018-01-01T00:00:00",
          "2019-01-01T00:00:00",
          "2020-01-01T00:00:00"
         ],
         "y": [
          1,
          1,
          1,
          2,
          1,
          1,
          3,
          1,
          1,
          2,
          4,
          3,
          9,
          8,
          3,
          8,
          8,
          1,
          2,
          3,
          2
         ]
        },
        {
         "hoverinfo": "text",
         "hovertext": [
          "<b>Topic 7</b><br>Words: acp, balanceboard, limb, centerpressure, upright",
          "<b>Topic 7</b><br>Words: stepinitiation, elderlysubject, elderly, step, postural",
          "<b>Topic 7</b><br>Words: stepwidth, stridetime, walk, gait, walking",
          "<b>Topic 7</b><br>Words: obstacle, locomotor, obstruction, limb, moderatesevere",
          "<b>Topic 7</b><br>Words: tbi, locomotor, moderatesevere, significantrelationship, swaine",
          "<b>Topic 7</b><br>Words: gait, walk, stridelength, walking, gaitbalance",
          "<b>Topic 7</b><br>Words: walk, limb, gait, walking, cost",
          "<b>Topic 7</b><br>Words: healthcare, prognosis, patientsuffer, walk, alzheimerdisease",
          "<b>Topic 7</b><br>Words: walk, gait, dftt, gaitspeed, spontaneousspeech",
          "<b>Topic 7</b><br>Words: gait, walk, stridetime, gaitspeed, walking",
          "<b>Topic 7</b><br>Words: gait, walk, concussion, dualtraining, gaitparameter",
          "<b>Topic 7</b><br>Words: walk, gait, walking, gaitspeed, incline",
          "<b>Topic 7</b><br>Words: gait, walk, concussion, stepadjustment, youngadult",
          "<b>Topic 7</b><br>Words: walk, gait, tug, obstacle, walking",
          "<b>Topic 7</b><br>Words: walk, gait, strokesurvivor, training, walking",
          "<b>Topic 7</b><br>Words: gait, walk, gaitstability, stepping, walking",
          "<b>Topic 7</b><br>Words: walk, gait, dualtraining, walking, gaitspeed",
          "<b>Topic 7</b><br>Words: gait, walk, step, aerobicfitness, concussion",
          "<b>Topic 7</b><br>Words: gait, walk, walking, gaitspeed, auditorystroop"
         ],
         "marker": {
          "color": "#D55E00"
         },
         "mode": "lines",
         "name": "7_gait_walk_walking_gaitspeed",
         "type": "scatter",
         "x": [
          "2001-01-01T00:00:00",
          "2004-01-01T00:00:00",
          "2005-01-01T00:00:00",
          "2006-01-01T00:00:00",
          "2007-01-01T00:00:00",
          "2008-01-01T00:00:00",
          "2009-01-01T00:00:00",
          "2010-01-01T00:00:00",
          "2011-01-01T00:00:00",
          "2012-01-01T00:00:00",
          "2013-01-01T00:00:00",
          "2014-01-01T00:00:00",
          "2015-01-01T00:00:00",
          "2016-01-01T00:00:00",
          "2017-01-01T00:00:00",
          "2018-01-01T00:00:00",
          "2019-01-01T00:00:00",
          "2020-01-01T00:00:00",
          "2021-01-01T00:00:00"
         ],
         "y": [
          1,
          1,
          2,
          1,
          1,
          4,
          2,
          1,
          6,
          5,
          10,
          11,
          8,
          10,
          15,
          13,
          11,
          8,
          13
         ]
        },
        {
         "hoverinfo": "text",
         "hovertext": [
          "<b>Topic 13</b><br>Words: pre, emotionalstate, outcome, cognitiveimpairment, cardiacsurgery",
          "<b>Topic 13</b><br>Words: cholesterol, serumconcentration, cardiovasculardisease, proinflammatory, cognitiveperformance",
          "<b>Topic 13</b><br>Words: thcylevel, thcy, methylcitric, cobalamin, learningtest",
          "<b>Topic 13</b><br>Words: homocysteine, serumconcentration, cognitivedecline, homocysteinelevel, vitamin",
          "<b>Topic 13</b><br>Words: diabetes, hypertension, cognitivedecline, dementia, systolicdiastolic",
          "<b>Topic 13</b><br>Words: metabolicsyndrome, arterialstiffness, riskdementia, cognitivedecline, cognitivefunction",
          "<b>Topic 13</b><br>Words: diabetes, dsst, hyperglycemia, diabeticpatient, cognitivestatus",
          "<b>Topic 13</b><br>Words: srbd, bp, immune, chronically, cytokine",
          "<b>Topic 13</b><br>Words: crp, cognitivedecline, serumcortisol, dementia, cortisol",
          "<b>Topic 13</b><br>Words: diabete, methylation, diabetesmellitus, diabetes, cognitivedecline",
          "<b>Topic 13</b><br>Words: aac, cognitivedecline, cardiovasculardisease, cognitiveperformance, diabetes",
          "<b>Topic 13</b><br>Words: anticholinergic, cvrf, cumulativeexposure, coronaryartery, vascularrisk",
          "<b>Topic 13</b><br>Words: hsp, cognitivedecline, coronaryheart, sbp, stroke",
          "<b>Topic 13</b><br>Words: cvd, bplm, cognitivedecline, cognitivefunction, bfv",
          "<b>Topic 13</b><br>Words: pdcm, echocardiographic, cardiac, cardia, ventricle",
          "<b>Topic 13</b><br>Words: carotid, nlr, pwv, lymphocyte, neutrophil",
          "<b>Topic 13</b><br>Words: spatialqrs, cardiac, hippocampal, cognitivedecline, cardiovascularevent",
          "<b>Topic 13</b><br>Words: frailty, neutrophil, metscomponent, cognitivedecline, typediabete",
          "<b>Topic 13</b><br>Words: ldl, hypertension, leptin, cognitivefunction, bmi"
         ],
         "marker": {
          "color": "#0072B2"
         },
         "mode": "lines",
         "name": "13_cognitivedecline_cognitivefunction_de...",
         "type": "scatter",
         "x": [
          "2001-01-01T00:00:00",
          "2003-01-01T00:00:00",
          "2004-01-01T00:00:00",
          "2005-01-01T00:00:00",
          "2006-01-01T00:00:00",
          "2007-01-01T00:00:00",
          "2009-01-01T00:00:00",
          "2010-01-01T00:00:00",
          "2011-01-01T00:00:00",
          "2012-01-01T00:00:00",
          "2013-01-01T00:00:00",
          "2014-01-01T00:00:00",
          "2015-01-01T00:00:00",
          "2016-01-01T00:00:00",
          "2017-01-01T00:00:00",
          "2018-01-01T00:00:00",
          "2019-01-01T00:00:00",
          "2020-01-01T00:00:00",
          "2021-01-01T00:00:00"
         ],
         "y": [
          1,
          5,
          2,
          5,
          2,
          2,
          2,
          3,
          2,
          2,
          8,
          6,
          5,
          8,
          8,
          6,
          2,
          10,
          4
         ]
        }
       ],
       "layout": {
        "height": 450,
        "hoverlabel": {
         "bgcolor": "white",
         "font": {
          "family": "Rockwell",
          "size": 16
         }
        },
        "legend": {
         "title": {
          "text": "<b>Global Topic Representation"
         }
        },
        "template": {
         "data": {
          "bar": [
           {
            "error_x": {
             "color": "rgb(36,36,36)"
            },
            "error_y": {
             "color": "rgb(36,36,36)"
            },
            "marker": {
             "line": {
              "color": "white",
              "width": 0.5
             },
             "pattern": {
              "fillmode": "overlay",
              "size": 10,
              "solidity": 0.2
             }
            },
            "type": "bar"
           }
          ],
          "barpolar": [
           {
            "marker": {
             "line": {
              "color": "white",
              "width": 0.5
             },
             "pattern": {
              "fillmode": "overlay",
              "size": 10,
              "solidity": 0.2
             }
            },
            "type": "barpolar"
           }
          ],
          "carpet": [
           {
            "aaxis": {
             "endlinecolor": "rgb(36,36,36)",
             "gridcolor": "white",
             "linecolor": "white",
             "minorgridcolor": "white",
             "startlinecolor": "rgb(36,36,36)"
            },
            "baxis": {
             "endlinecolor": "rgb(36,36,36)",
             "gridcolor": "white",
             "linecolor": "white",
             "minorgridcolor": "white",
             "startlinecolor": "rgb(36,36,36)"
            },
            "type": "carpet"
           }
          ],
          "choropleth": [
           {
            "colorbar": {
             "outlinewidth": 1,
             "tickcolor": "rgb(36,36,36)",
             "ticks": "outside"
            },
            "type": "choropleth"
           }
          ],
          "contour": [
           {
            "colorbar": {
             "outlinewidth": 1,
             "tickcolor": "rgb(36,36,36)",
             "ticks": "outside"
            },
            "colorscale": [
             [
              0,
              "#440154"
             ],
             [
              0.1111111111111111,
              "#482878"
             ],
             [
              0.2222222222222222,
              "#3e4989"
             ],
             [
              0.3333333333333333,
              "#31688e"
             ],
             [
              0.4444444444444444,
              "#26828e"
             ],
             [
              0.5555555555555556,
              "#1f9e89"
             ],
             [
              0.6666666666666666,
              "#35b779"
             ],
             [
              0.7777777777777778,
              "#6ece58"
             ],
             [
              0.8888888888888888,
              "#b5de2b"
             ],
             [
              1,
              "#fde725"
             ]
            ],
            "type": "contour"
           }
          ],
          "contourcarpet": [
           {
            "colorbar": {
             "outlinewidth": 1,
             "tickcolor": "rgb(36,36,36)",
             "ticks": "outside"
            },
            "type": "contourcarpet"
           }
          ],
          "heatmap": [
           {
            "colorbar": {
             "outlinewidth": 1,
             "tickcolor": "rgb(36,36,36)",
             "ticks": "outside"
            },
            "colorscale": [
             [
              0,
              "#440154"
             ],
             [
              0.1111111111111111,
              "#482878"
             ],
             [
              0.2222222222222222,
              "#3e4989"
             ],
             [
              0.3333333333333333,
              "#31688e"
             ],
             [
              0.4444444444444444,
              "#26828e"
             ],
             [
              0.5555555555555556,
              "#1f9e89"
             ],
             [
              0.6666666666666666,
              "#35b779"
             ],
             [
              0.7777777777777778,
              "#6ece58"
             ],
             [
              0.8888888888888888,
              "#b5de2b"
             ],
             [
              1,
              "#fde725"
             ]
            ],
            "type": "heatmap"
           }
          ],
          "heatmapgl": [
           {
            "colorbar": {
             "outlinewidth": 1,
             "tickcolor": "rgb(36,36,36)",
             "ticks": "outside"
            },
            "colorscale": [
             [
              0,
              "#440154"
             ],
             [
              0.1111111111111111,
              "#482878"
             ],
             [
              0.2222222222222222,
              "#3e4989"
             ],
             [
              0.3333333333333333,
              "#31688e"
             ],
             [
              0.4444444444444444,
              "#26828e"
             ],
             [
              0.5555555555555556,
              "#1f9e89"
             ],
             [
              0.6666666666666666,
              "#35b779"
             ],
             [
              0.7777777777777778,
              "#6ece58"
             ],
             [
              0.8888888888888888,
              "#b5de2b"
             ],
             [
              1,
              "#fde725"
             ]
            ],
            "type": "heatmapgl"
           }
          ],
          "histogram": [
           {
            "marker": {
             "line": {
              "color": "white",
              "width": 0.6
             }
            },
            "type": "histogram"
           }
          ],
          "histogram2d": [
           {
            "colorbar": {
             "outlinewidth": 1,
             "tickcolor": "rgb(36,36,36)",
             "ticks": "outside"
            },
            "colorscale": [
             [
              0,
              "#440154"
             ],
             [
              0.1111111111111111,
              "#482878"
             ],
             [
              0.2222222222222222,
              "#3e4989"
             ],
             [
              0.3333333333333333,
              "#31688e"
             ],
             [
              0.4444444444444444,
              "#26828e"
             ],
             [
              0.5555555555555556,
              "#1f9e89"
             ],
             [
              0.6666666666666666,
              "#35b779"
             ],
             [
              0.7777777777777778,
              "#6ece58"
             ],
             [
              0.8888888888888888,
              "#b5de2b"
             ],
             [
              1,
              "#fde725"
             ]
            ],
            "type": "histogram2d"
           }
          ],
          "histogram2dcontour": [
           {
            "colorbar": {
             "outlinewidth": 1,
             "tickcolor": "rgb(36,36,36)",
             "ticks": "outside"
            },
            "colorscale": [
             [
              0,
              "#440154"
             ],
             [
              0.1111111111111111,
              "#482878"
             ],
             [
              0.2222222222222222,
              "#3e4989"
             ],
             [
              0.3333333333333333,
              "#31688e"
             ],
             [
              0.4444444444444444,
              "#26828e"
             ],
             [
              0.5555555555555556,
              "#1f9e89"
             ],
             [
              0.6666666666666666,
              "#35b779"
             ],
             [
              0.7777777777777778,
              "#6ece58"
             ],
             [
              0.8888888888888888,
              "#b5de2b"
             ],
             [
              1,
              "#fde725"
             ]
            ],
            "type": "histogram2dcontour"
           }
          ],
          "mesh3d": [
           {
            "colorbar": {
             "outlinewidth": 1,
             "tickcolor": "rgb(36,36,36)",
             "ticks": "outside"
            },
            "type": "mesh3d"
           }
          ],
          "parcoords": [
           {
            "line": {
             "colorbar": {
              "outlinewidth": 1,
              "tickcolor": "rgb(36,36,36)",
              "ticks": "outside"
             }
            },
            "type": "parcoords"
           }
          ],
          "pie": [
           {
            "automargin": true,
            "type": "pie"
           }
          ],
          "scatter": [
           {
            "marker": {
             "colorbar": {
              "outlinewidth": 1,
              "tickcolor": "rgb(36,36,36)",
              "ticks": "outside"
             }
            },
            "type": "scatter"
           }
          ],
          "scatter3d": [
           {
            "line": {
             "colorbar": {
              "outlinewidth": 1,
              "tickcolor": "rgb(36,36,36)",
              "ticks": "outside"
             }
            },
            "marker": {
             "colorbar": {
              "outlinewidth": 1,
              "tickcolor": "rgb(36,36,36)",
              "ticks": "outside"
             }
            },
            "type": "scatter3d"
           }
          ],
          "scattercarpet": [
           {
            "marker": {
             "colorbar": {
              "outlinewidth": 1,
              "tickcolor": "rgb(36,36,36)",
              "ticks": "outside"
             }
            },
            "type": "scattercarpet"
           }
          ],
          "scattergeo": [
           {
            "marker": {
             "colorbar": {
              "outlinewidth": 1,
              "tickcolor": "rgb(36,36,36)",
              "ticks": "outside"
             }
            },
            "type": "scattergeo"
           }
          ],
          "scattergl": [
           {
            "marker": {
             "colorbar": {
              "outlinewidth": 1,
              "tickcolor": "rgb(36,36,36)",
              "ticks": "outside"
             }
            },
            "type": "scattergl"
           }
          ],
          "scattermapbox": [
           {
            "marker": {
             "colorbar": {
              "outlinewidth": 1,
              "tickcolor": "rgb(36,36,36)",
              "ticks": "outside"
             }
            },
            "type": "scattermapbox"
           }
          ],
          "scatterpolar": [
           {
            "marker": {
             "colorbar": {
              "outlinewidth": 1,
              "tickcolor": "rgb(36,36,36)",
              "ticks": "outside"
             }
            },
            "type": "scatterpolar"
           }
          ],
          "scatterpolargl": [
           {
            "marker": {
             "colorbar": {
              "outlinewidth": 1,
              "tickcolor": "rgb(36,36,36)",
              "ticks": "outside"
             }
            },
            "type": "scatterpolargl"
           }
          ],
          "scatterternary": [
           {
            "marker": {
             "colorbar": {
              "outlinewidth": 1,
              "tickcolor": "rgb(36,36,36)",
              "ticks": "outside"
             }
            },
            "type": "scatterternary"
           }
          ],
          "surface": [
           {
            "colorbar": {
             "outlinewidth": 1,
             "tickcolor": "rgb(36,36,36)",
             "ticks": "outside"
            },
            "colorscale": [
             [
              0,
              "#440154"
             ],
             [
              0.1111111111111111,
              "#482878"
             ],
             [
              0.2222222222222222,
              "#3e4989"
             ],
             [
              0.3333333333333333,
              "#31688e"
             ],
             [
              0.4444444444444444,
              "#26828e"
             ],
             [
              0.5555555555555556,
              "#1f9e89"
             ],
             [
              0.6666666666666666,
              "#35b779"
             ],
             [
              0.7777777777777778,
              "#6ece58"
             ],
             [
              0.8888888888888888,
              "#b5de2b"
             ],
             [
              1,
              "#fde725"
             ]
            ],
            "type": "surface"
           }
          ],
          "table": [
           {
            "cells": {
             "fill": {
              "color": "rgb(237,237,237)"
             },
             "line": {
              "color": "white"
             }
            },
            "header": {
             "fill": {
              "color": "rgb(217,217,217)"
             },
             "line": {
              "color": "white"
             }
            },
            "type": "table"
           }
          ]
         },
         "layout": {
          "annotationdefaults": {
           "arrowhead": 0,
           "arrowwidth": 1
          },
          "autotypenumbers": "strict",
          "coloraxis": {
           "colorbar": {
            "outlinewidth": 1,
            "tickcolor": "rgb(36,36,36)",
            "ticks": "outside"
           }
          },
          "colorscale": {
           "diverging": [
            [
             0,
             "rgb(103,0,31)"
            ],
            [
             0.1,
             "rgb(178,24,43)"
            ],
            [
             0.2,
             "rgb(214,96,77)"
            ],
            [
             0.3,
             "rgb(244,165,130)"
            ],
            [
             0.4,
             "rgb(253,219,199)"
            ],
            [
             0.5,
             "rgb(247,247,247)"
            ],
            [
             0.6,
             "rgb(209,229,240)"
            ],
            [
             0.7,
             "rgb(146,197,222)"
            ],
            [
             0.8,
             "rgb(67,147,195)"
            ],
            [
             0.9,
             "rgb(33,102,172)"
            ],
            [
             1,
             "rgb(5,48,97)"
            ]
           ],
           "sequential": [
            [
             0,
             "#440154"
            ],
            [
             0.1111111111111111,
             "#482878"
            ],
            [
             0.2222222222222222,
             "#3e4989"
            ],
            [
             0.3333333333333333,
             "#31688e"
            ],
            [
             0.4444444444444444,
             "#26828e"
            ],
            [
             0.5555555555555556,
             "#1f9e89"
            ],
            [
             0.6666666666666666,
             "#35b779"
            ],
            [
             0.7777777777777778,
             "#6ece58"
            ],
            [
             0.8888888888888888,
             "#b5de2b"
            ],
            [
             1,
             "#fde725"
            ]
           ],
           "sequentialminus": [
            [
             0,
             "#440154"
            ],
            [
             0.1111111111111111,
             "#482878"
            ],
            [
             0.2222222222222222,
             "#3e4989"
            ],
            [
             0.3333333333333333,
             "#31688e"
            ],
            [
             0.4444444444444444,
             "#26828e"
            ],
            [
             0.5555555555555556,
             "#1f9e89"
            ],
            [
             0.6666666666666666,
             "#35b779"
            ],
            [
             0.7777777777777778,
             "#6ece58"
            ],
            [
             0.8888888888888888,
             "#b5de2b"
            ],
            [
             1,
             "#fde725"
            ]
           ]
          },
          "colorway": [
           "#1F77B4",
           "#FF7F0E",
           "#2CA02C",
           "#D62728",
           "#9467BD",
           "#8C564B",
           "#E377C2",
           "#7F7F7F",
           "#BCBD22",
           "#17BECF"
          ],
          "font": {
           "color": "rgb(36,36,36)"
          },
          "geo": {
           "bgcolor": "white",
           "lakecolor": "white",
           "landcolor": "white",
           "showlakes": true,
           "showland": true,
           "subunitcolor": "white"
          },
          "hoverlabel": {
           "align": "left"
          },
          "hovermode": "closest",
          "mapbox": {
           "style": "light"
          },
          "paper_bgcolor": "white",
          "plot_bgcolor": "white",
          "polar": {
           "angularaxis": {
            "gridcolor": "rgb(232,232,232)",
            "linecolor": "rgb(36,36,36)",
            "showgrid": false,
            "showline": true,
            "ticks": "outside"
           },
           "bgcolor": "white",
           "radialaxis": {
            "gridcolor": "rgb(232,232,232)",
            "linecolor": "rgb(36,36,36)",
            "showgrid": false,
            "showline": true,
            "ticks": "outside"
           }
          },
          "scene": {
           "xaxis": {
            "backgroundcolor": "white",
            "gridcolor": "rgb(232,232,232)",
            "gridwidth": 2,
            "linecolor": "rgb(36,36,36)",
            "showbackground": true,
            "showgrid": false,
            "showline": true,
            "ticks": "outside",
            "zeroline": false,
            "zerolinecolor": "rgb(36,36,36)"
           },
           "yaxis": {
            "backgroundcolor": "white",
            "gridcolor": "rgb(232,232,232)",
            "gridwidth": 2,
            "linecolor": "rgb(36,36,36)",
            "showbackground": true,
            "showgrid": false,
            "showline": true,
            "ticks": "outside",
            "zeroline": false,
            "zerolinecolor": "rgb(36,36,36)"
           },
           "zaxis": {
            "backgroundcolor": "white",
            "gridcolor": "rgb(232,232,232)",
            "gridwidth": 2,
            "linecolor": "rgb(36,36,36)",
            "showbackground": true,
            "showgrid": false,
            "showline": true,
            "ticks": "outside",
            "zeroline": false,
            "zerolinecolor": "rgb(36,36,36)"
           }
          },
          "shapedefaults": {
           "fillcolor": "black",
           "line": {
            "width": 0
           },
           "opacity": 0.3
          },
          "ternary": {
           "aaxis": {
            "gridcolor": "rgb(232,232,232)",
            "linecolor": "rgb(36,36,36)",
            "showgrid": false,
            "showline": true,
            "ticks": "outside"
           },
           "baxis": {
            "gridcolor": "rgb(232,232,232)",
            "linecolor": "rgb(36,36,36)",
            "showgrid": false,
            "showline": true,
            "ticks": "outside"
           },
           "bgcolor": "white",
           "caxis": {
            "gridcolor": "rgb(232,232,232)",
            "linecolor": "rgb(36,36,36)",
            "showgrid": false,
            "showline": true,
            "ticks": "outside"
           }
          },
          "title": {
           "x": 0.05
          },
          "xaxis": {
           "automargin": true,
           "gridcolor": "rgb(232,232,232)",
           "linecolor": "rgb(36,36,36)",
           "showgrid": false,
           "showline": true,
           "ticks": "outside",
           "title": {
            "standoff": 15
           },
           "zeroline": false,
           "zerolinecolor": "rgb(36,36,36)"
          },
          "yaxis": {
           "automargin": true,
           "gridcolor": "rgb(232,232,232)",
           "linecolor": "rgb(36,36,36)",
           "showgrid": false,
           "showline": true,
           "ticks": "outside",
           "title": {
            "standoff": 15
           },
           "zeroline": false,
           "zerolinecolor": "rgb(36,36,36)"
          }
         }
        },
        "title": {
         "font": {
          "color": "Black",
          "size": 22
         },
         "text": "<b>Topics over Time",
         "x": 0.4,
         "xanchor": "center",
         "y": 0.95,
         "yanchor": "top"
        },
        "width": 1250,
        "xaxis": {
         "showgrid": true
        },
        "yaxis": {
         "showgrid": true,
         "title": {
          "text": "Frequency"
         }
        }
       }
      }
     },
     "metadata": {}
    }
   ],
   "metadata": {}
  },
  {
   "cell_type": "code",
   "execution_count": null,
   "source": [
    "#TODO store models and plot stroop topics\n",
    "\n",
    "# # topic_model.get_topic_info()\n",
    "\n",
    "# DEBUG\n",
    "# topic_model.get_topics()\n",
    "# topic_model.get_topic(0)"
   ],
   "outputs": [],
   "metadata": {}
  }
 ]
}