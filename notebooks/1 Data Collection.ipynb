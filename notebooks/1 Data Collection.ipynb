{
 "metadata": {
  "language_info": {
   "codemirror_mode": {
    "name": "ipython",
    "version": 3
   },
   "file_extension": ".py",
   "mimetype": "text/x-python",
   "name": "python",
   "nbconvert_exporter": "python",
   "pygments_lexer": "ipython3",
   "version": "3.8.6-final"
  },
  "orig_nbformat": 2,
  "kernelspec": {
   "name": "python3",
   "display_name": "Python 3.8.6 64-bit ('base': conda)",
   "metadata": {
    "interpreter": {
     "hash": "ea20dcc4936bc3e336221d5e5ae7bcd09719da9b70640ea666426cf2d919dc3d"
    }
   }
  }
 },
 "nbformat": 4,
 "nbformat_minor": 2,
 "cells": [
  {
   "cell_type": "code",
   "execution_count": 3,
   "metadata": {},
   "outputs": [],
   "source": [
    "from rdflib import OWL, Graph\n",
    "from rdflib.namespace import RDFS\n",
    "\n",
    "from owlready2 import get_ontology, default_world\n",
    "\n",
    "import time\n",
    "\n",
    "from rdflib import URIRef\n",
    "\n",
    "import random\n",
    "\n",
    "import pandas as pd\n",
    "\n",
    "import os"
   ]
  },
  {
   "cell_type": "code",
   "execution_count": 6,
   "metadata": {},
   "outputs": [],
   "source": [
    "owl_file = \"../data/ontologies/efo.owl\"\n",
    "owl_prefix = \"http://www.semanticweb.org/morteza/ontologies/2019/11/executive-functions-ontology#\"\n",
    "\n",
    "ONTOLOGY = get_ontology(owl_file).load()\n",
    "GRAPH = default_world.as_rdflib_graph()\n"
   ]
  },
  {
   "cell_type": "code",
   "execution_count": 13,
   "metadata": {},
   "outputs": [],
   "source": [
    "\n",
    "def query(graph, parent_cls='Task'):\n",
    "    \"\"\"Function to query tasks, constructs, regions, etc.\n",
    "\n",
    "    ## Returns\n",
    "    A list of labels\n",
    "    \"\"\"\n",
    "\n",
    "    cls_name = parent_cls[1:] if parent_cls.startswith(\":\") else parent_cls\n",
    "\n",
    "    query = f\"\"\"\n",
    "    prefix : <{owl_prefix}>\n",
    "\n",
    "    SELECT ?label\n",
    "    WHERE {{\n",
    "    ?task rdfs:subClassOf* :{cls_name};\n",
    "            rdfs:label ?label\n",
    "    }}\n",
    "    \"\"\"\n",
    "\n",
    "    # select the all rdfs:labels, flatten the list of labels, and convert them to python string\n",
    "    labels = [labels for labels in graph.query(query)]\n",
    "    flatten_labels = [l.toPython() for ll in labels for l in ll]\n",
    "    return flatten_labels\n"
   ]
  },
  {
   "cell_type": "code",
   "execution_count": 32,
   "metadata": {},
   "outputs": [
    {
     "output_type": "stream",
     "name": "stdout",
     "text": [
      "Tasks used in the self-regulation ontology (enkavi2019):\n\n Analogy Making\n Animal Shifting\n Anti Saccade\n Attentional Blink\n ANT\n Attention Network Test\n Attentional Network Test\n ANT-R\n Revised Attention Network Test\n Auditory Attention\n Backward Color Recall\n Balance Beam\n BART\n Balloon Analouge Risk Taking\n Bear Alligator\n Block Design Subtest\n Box Crossing Dual\n Category Fluency\n Category Switch\n Cognitive Flexibility\n Color Shape\n Contingency Naming\n CPT\n Continious Performance Task\n AX-CPT\n Controlled Attention\n Counting Recall\n Cued Unpredictable Switch\n D2 Target Detection\n Degraded Vigilance\n Delay Choice\n Delay Discounting Task\n Delayed Alternation\n Digit Shifting\n Dimension Switching\n DCCS\n Dimensional Change Card Sort\n Dragon\n Expressive Attention\n Flanker\n Flexibility\n Flexible Item Selection\n Gift Delay\n Gift Wrap\n Go/NoGo\n TMT\n Trail Making Task\n Grass Snow\n Hayling Test\n Head-Toes-Knees-Shoulders\n Incompatibility Test\n IGT\n Iowa Gambling Task\n Keep Track\n Knock and Tap\n Letter Fluency\n Letter Memory\n Letter Monitoring\n LNS\n Letter Number Sequencing\n Lexical Fluency\n Listening Recall\n Local Global\n Luria Hand Game\n MONITOR\n MFT\n Majority Function\n Matrix Monitoring\n Mental Counters\n Mister X\n MCST\n Modified Card Sorting Test\n More Less Odd Even\n MOT\n Multiple Object Tracking\n N-back\n Adaptive N-back\n Nebraska Barnyard\n Nine Boxes\n Number Letter\n Object Substitution\n OOO\n Odd One Out\n Oddity Switching\n Pencil Tapping\n Pick the Picture\n Pictorial Updating\n Picture Symbol\n Plus Minus Task\n Pychomotor Vigilance\n Random Letter Generation\n Random Number Generation\n Reversal Learning\n Reverse Categorization\n SR Compatibility\n STOP\n Self Control Schedule\n Semantic Fluency\n Sentence Completion\n Sentence Repetition\n Serial Substraction of Sevens\n Shape School\n Simon Says\n Simon\n Simple Reaction Time\n Snack Delay\n Somethings the Same Game\n Sorting\n Arithmatic Span\n Automated Operation Span\n Backward Span\n Block Span\n Complex Span\n Corsi Block Span\n Counting Span\n Digit Span\n OSpan\n Running Span\n Spatial Span\n Verbal Span\n Visual Matrix Span\n Visuospatial Span\n Spatial Conflict Arrows\n Spin the Pots\n Stop Signal\n Stroop\n Tower of Hanoi\n Tower of London\n Toy Sort\n Verbal Fluency\n WCST\n Wisconsin Card Sort\n BCS\n Belval Card Sorting\n"
     ]
    }
   ],
   "source": [
    "tasks = query(GRAPH, 'CognitiveTask')\n",
    "\n",
    "print('Tasks used in the self-regulation ontology (enkavi2019):\\n\\n','\\n '.join(tasks))"
   ]
  }
 ]
}